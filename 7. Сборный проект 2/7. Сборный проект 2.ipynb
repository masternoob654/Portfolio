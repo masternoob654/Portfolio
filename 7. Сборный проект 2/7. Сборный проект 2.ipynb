{
 "cells": [
  {
   "cell_type": "markdown",
   "metadata": {
    "toc": true
   },
   "source": [
    "<h1>Содержание<span class=\"tocSkip\"></span></h1>\n",
    "<div class=\"toc\"><ul class=\"toc-item\"><li><span><a href=\"#Подготовка-данных\" data-toc-modified-id=\"Подготовка-данных-1\"><span class=\"toc-item-num\">1&nbsp;&nbsp;</span>Подготовка данных</a></span><ul class=\"toc-item\"><li><span><a href=\"#Загрузка-библиотек-и-изучение-данных\" data-toc-modified-id=\"Загрузка-библиотек-и-изучение-данных-1.1\"><span class=\"toc-item-num\">1.1&nbsp;&nbsp;</span>Загрузка библиотек и изучение данных</a></span></li><li><span><a href=\"#Расчёт-эффективности-обогащения\" data-toc-modified-id=\"Расчёт-эффективности-обогащения-1.2\"><span class=\"toc-item-num\">1.2&nbsp;&nbsp;</span>Расчёт эффективности обогащения</a></span></li><li><span><a href=\"#Исследование-признаков,-недоступных-в-тестовой-выборке\" data-toc-modified-id=\"Исследование-признаков,-недоступных-в-тестовой-выборке-1.3\"><span class=\"toc-item-num\">1.3&nbsp;&nbsp;</span>Исследование признаков, недоступных в тестовой выборке</a></span></li></ul></li><li><span><a href=\"#Анализ-данных\" data-toc-modified-id=\"Анализ-данных-2\"><span class=\"toc-item-num\">2&nbsp;&nbsp;</span>Анализ данных</a></span><ul class=\"toc-item\"><li><span><a href=\"#Изменение-концентраций-металлов-(Au,-Ag,-Pb)\" data-toc-modified-id=\"Изменение-концентраций-металлов-(Au,-Ag,-Pb)-2.1\"><span class=\"toc-item-num\">2.1&nbsp;&nbsp;</span>Изменение концентраций металлов (Au, Ag, Pb)</a></span></li><li><span><a href=\"#Сравнение-гранул\" data-toc-modified-id=\"Сравнение-гранул-2.2\"><span class=\"toc-item-num\">2.2&nbsp;&nbsp;</span>Сравнение гранул</a></span></li><li><span><a href=\"#Сравнение-суммарных-концентраций\" data-toc-modified-id=\"Сравнение-суммарных-концентраций-2.3\"><span class=\"toc-item-num\">2.3&nbsp;&nbsp;</span>Сравнение суммарных концентраций</a></span></li></ul></li><li><span><a href=\"#Модель\" data-toc-modified-id=\"Модель-3\"><span class=\"toc-item-num\">3&nbsp;&nbsp;</span>Модель</a></span><ul class=\"toc-item\"><li><span><a href=\"#Инициализация-функции-для-вычисления-sMAPE\" data-toc-modified-id=\"Инициализация-функции-для-вычисления-sMAPE-3.1\"><span class=\"toc-item-num\">3.1&nbsp;&nbsp;</span>Инициализация функции для вычисления sMAPE</a></span></li><li><span><a href=\"#Обучение-моделей\" data-toc-modified-id=\"Обучение-моделей-3.2\"><span class=\"toc-item-num\">3.2&nbsp;&nbsp;</span>Обучение моделей</a></span></li><li><span><a href=\"#Проверка-модели-на-адекватность\" data-toc-modified-id=\"Проверка-модели-на-адекватность-3.3\"><span class=\"toc-item-num\">3.3&nbsp;&nbsp;</span>Проверка модели на адекватность</a></span></li></ul></li><li><span><a href=\"#Вывод\" data-toc-modified-id=\"Вывод-4\"><span class=\"toc-item-num\">4&nbsp;&nbsp;</span>Вывод</a></span></li></ul></div>"
   ]
  },
  {
   "cell_type": "markdown",
   "metadata": {},
   "source": [
    "# Восстановление золота из руды"
   ]
  },
  {
   "cell_type": "markdown",
   "metadata": {},
   "source": [
    "Подготовьте прототип модели машинного обучения для «Цифры». Компания разрабатывает решения для эффективной работы промышленных предприятий.\n",
    "\n",
    "Модель должна предсказать коэффициент восстановления золота из золотосодержащей руды. Используйте данные с параметрами добычи и очистки. \n",
    "\n",
    "Модель поможет оптимизировать производство, чтобы не запускать предприятие с убыточными характеристиками.\n",
    "\n",
    "Вам нужно:\n",
    "\n",
    "1. Подготовить данные;\n",
    "2. Провести исследовательский анализ данных;\n",
    "3. Построить и обучить модель.\n",
    "\n",
    "Чтобы выполнить проект, обращайтесь к библиотекам *pandas*, *matplotlib* и *sklearn.* Вам поможет их документация."
   ]
  },
  {
   "cell_type": "markdown",
   "metadata": {},
   "source": [
    "## Подготовка данных"
   ]
  },
  {
   "cell_type": "markdown",
   "metadata": {},
   "source": [
    "### Загрузка библиотек и изучение данных"
   ]
  },
  {
   "cell_type": "code",
   "execution_count": 1,
   "metadata": {},
   "outputs": [],
   "source": [
    "# Загружаем необходимые библиотеки\n",
    "import pandas as pd\n",
    "import matplotlib.pyplot as plt\n",
    "import numpy as np\n",
    "import seaborn as sns\n",
    "\n",
    "from sklearn.ensemble import RandomForestRegressor\n",
    "from sklearn.linear_model import LinearRegression\n",
    "from sklearn.tree import DecisionTreeRegressor\n",
    "from sklearn.model_selection import train_test_split\n",
    "\n",
    "from sklearn.metrics import mean_absolute_error\n",
    "from sklearn.model_selection import cross_val_score\n",
    "from sklearn.metrics import make_scorer\n",
    "\n",
    "from sklearn.dummy import DummyRegressor\n",
    "\n",
    "import os\n",
    "import warnings\n",
    "warnings.filterwarnings('ignore')"
   ]
  },
  {
   "cell_type": "markdown",
   "metadata": {},
   "source": [
    "Подгрузим и посмотрим по ним информацию"
   ]
  },
  {
   "cell_type": "code",
   "execution_count": 2,
   "metadata": {},
   "outputs": [],
   "source": [
    "path_train = '/datasets/gold_recovery_train_new.csv'\n",
    "path_test = '/datasets/gold_recovery_test_new.csv'\n",
    "path_full = '/datasets/gold_recovery_full_new.csv'\n",
    "\n",
    "if os.path.exists(path_train):\n",
    "    data_train = pd.read_csv(path_train)\n",
    "else:\n",
    "    print('Что-то не так!')\n",
    "    \n",
    "if os.path.exists(path_test):\n",
    "    data_test = pd.read_csv(path_test)\n",
    "else:\n",
    "    print('Что-то не так!')\n",
    "    \n",
    "if os.path.exists(path_full):\n",
    "    data_full = pd.read_csv(path_full)\n",
    "else:\n",
    "    print('Что-то не так!')"
   ]
  },
  {
   "cell_type": "code",
   "execution_count": 3,
   "metadata": {
    "scrolled": true
   },
   "outputs": [
    {
     "name": "stdout",
     "output_type": "stream",
     "text": [
      "<class 'pandas.core.frame.DataFrame'>\n",
      "RangeIndex: 14149 entries, 0 to 14148\n",
      "Data columns (total 87 columns):\n",
      " #   Column                                              Non-Null Count  Dtype  \n",
      "---  ------                                              --------------  -----  \n",
      " 0   date                                                14149 non-null  object \n",
      " 1   final.output.concentrate_ag                         14148 non-null  float64\n",
      " 2   final.output.concentrate_pb                         14148 non-null  float64\n",
      " 3   final.output.concentrate_sol                        13938 non-null  float64\n",
      " 4   final.output.concentrate_au                         14149 non-null  float64\n",
      " 5   final.output.recovery                               14149 non-null  float64\n",
      " 6   final.output.tail_ag                                14149 non-null  float64\n",
      " 7   final.output.tail_pb                                14049 non-null  float64\n",
      " 8   final.output.tail_sol                               14144 non-null  float64\n",
      " 9   final.output.tail_au                                14149 non-null  float64\n",
      " 10  primary_cleaner.input.sulfate                       14129 non-null  float64\n",
      " 11  primary_cleaner.input.depressant                    14117 non-null  float64\n",
      " 12  primary_cleaner.input.feed_size                     14149 non-null  float64\n",
      " 13  primary_cleaner.input.xanthate                      14049 non-null  float64\n",
      " 14  primary_cleaner.output.concentrate_ag               14149 non-null  float64\n",
      " 15  primary_cleaner.output.concentrate_pb               14063 non-null  float64\n",
      " 16  primary_cleaner.output.concentrate_sol              13863 non-null  float64\n",
      " 17  primary_cleaner.output.concentrate_au               14149 non-null  float64\n",
      " 18  primary_cleaner.output.tail_ag                      14148 non-null  float64\n",
      " 19  primary_cleaner.output.tail_pb                      14134 non-null  float64\n",
      " 20  primary_cleaner.output.tail_sol                     14103 non-null  float64\n",
      " 21  primary_cleaner.output.tail_au                      14149 non-null  float64\n",
      " 22  primary_cleaner.state.floatbank8_a_air              14145 non-null  float64\n",
      " 23  primary_cleaner.state.floatbank8_a_level            14148 non-null  float64\n",
      " 24  primary_cleaner.state.floatbank8_b_air              14145 non-null  float64\n",
      " 25  primary_cleaner.state.floatbank8_b_level            14148 non-null  float64\n",
      " 26  primary_cleaner.state.floatbank8_c_air              14147 non-null  float64\n",
      " 27  primary_cleaner.state.floatbank8_c_level            14148 non-null  float64\n",
      " 28  primary_cleaner.state.floatbank8_d_air              14146 non-null  float64\n",
      " 29  primary_cleaner.state.floatbank8_d_level            14148 non-null  float64\n",
      " 30  rougher.calculation.sulfate_to_au_concentrate       14148 non-null  float64\n",
      " 31  rougher.calculation.floatbank10_sulfate_to_au_feed  14148 non-null  float64\n",
      " 32  rougher.calculation.floatbank11_sulfate_to_au_feed  14148 non-null  float64\n",
      " 33  rougher.calculation.au_pb_ratio                     14149 non-null  float64\n",
      " 34  rougher.input.feed_ag                               14149 non-null  float64\n",
      " 35  rougher.input.feed_pb                               14049 non-null  float64\n",
      " 36  rougher.input.feed_rate                             14141 non-null  float64\n",
      " 37  rougher.input.feed_size                             14005 non-null  float64\n",
      " 38  rougher.input.feed_sol                              14071 non-null  float64\n",
      " 39  rougher.input.feed_au                               14149 non-null  float64\n",
      " 40  rougher.input.floatbank10_sulfate                   14120 non-null  float64\n",
      " 41  rougher.input.floatbank10_xanthate                  14141 non-null  float64\n",
      " 42  rougher.input.floatbank11_sulfate                   14113 non-null  float64\n",
      " 43  rougher.input.floatbank11_xanthate                  13721 non-null  float64\n",
      " 44  rougher.output.concentrate_ag                       14149 non-null  float64\n",
      " 45  rougher.output.concentrate_pb                       14149 non-null  float64\n",
      " 46  rougher.output.concentrate_sol                      14127 non-null  float64\n",
      " 47  rougher.output.concentrate_au                       14149 non-null  float64\n",
      " 48  rougher.output.recovery                             14149 non-null  float64\n",
      " 49  rougher.output.tail_ag                              14148 non-null  float64\n",
      " 50  rougher.output.tail_pb                              14149 non-null  float64\n",
      " 51  rougher.output.tail_sol                             14149 non-null  float64\n",
      " 52  rougher.output.tail_au                              14149 non-null  float64\n",
      " 53  rougher.state.floatbank10_a_air                     14148 non-null  float64\n",
      " 54  rougher.state.floatbank10_a_level                   14148 non-null  float64\n",
      " 55  rougher.state.floatbank10_b_air                     14148 non-null  float64\n",
      " 56  rougher.state.floatbank10_b_level                   14148 non-null  float64\n",
      " 57  rougher.state.floatbank10_c_air                     14148 non-null  float64\n",
      " 58  rougher.state.floatbank10_c_level                   14148 non-null  float64\n",
      " 59  rougher.state.floatbank10_d_air                     14149 non-null  float64\n",
      " 60  rougher.state.floatbank10_d_level                   14149 non-null  float64\n",
      " 61  rougher.state.floatbank10_e_air                     13713 non-null  float64\n",
      " 62  rougher.state.floatbank10_e_level                   14149 non-null  float64\n",
      " 63  rougher.state.floatbank10_f_air                     14149 non-null  float64\n",
      " 64  rougher.state.floatbank10_f_level                   14149 non-null  float64\n",
      " 65  secondary_cleaner.output.tail_ag                    14147 non-null  float64\n",
      " 66  secondary_cleaner.output.tail_pb                    14139 non-null  float64\n",
      " 67  secondary_cleaner.output.tail_sol                   12544 non-null  float64\n",
      " 68  secondary_cleaner.output.tail_au                    14149 non-null  float64\n",
      " 69  secondary_cleaner.state.floatbank2_a_air            13932 non-null  float64\n",
      " 70  secondary_cleaner.state.floatbank2_a_level          14148 non-null  float64\n",
      " 71  secondary_cleaner.state.floatbank2_b_air            14128 non-null  float64\n",
      " 72  secondary_cleaner.state.floatbank2_b_level          14148 non-null  float64\n",
      " 73  secondary_cleaner.state.floatbank3_a_air            14145 non-null  float64\n",
      " 74  secondary_cleaner.state.floatbank3_a_level          14148 non-null  float64\n",
      " 75  secondary_cleaner.state.floatbank3_b_air            14148 non-null  float64\n",
      " 76  secondary_cleaner.state.floatbank3_b_level          14148 non-null  float64\n",
      " 77  secondary_cleaner.state.floatbank4_a_air            14143 non-null  float64\n",
      " 78  secondary_cleaner.state.floatbank4_a_level          14148 non-null  float64\n",
      " 79  secondary_cleaner.state.floatbank4_b_air            14148 non-null  float64\n",
      " 80  secondary_cleaner.state.floatbank4_b_level          14148 non-null  float64\n",
      " 81  secondary_cleaner.state.floatbank5_a_air            14148 non-null  float64\n",
      " 82  secondary_cleaner.state.floatbank5_a_level          14148 non-null  float64\n",
      " 83  secondary_cleaner.state.floatbank5_b_air            14148 non-null  float64\n",
      " 84  secondary_cleaner.state.floatbank5_b_level          14148 non-null  float64\n",
      " 85  secondary_cleaner.state.floatbank6_a_air            14147 non-null  float64\n",
      " 86  secondary_cleaner.state.floatbank6_a_level          14148 non-null  float64\n",
      "dtypes: float64(86), object(1)\n",
      "memory usage: 9.4+ MB\n"
     ]
    }
   ],
   "source": [
    "data_train.info()"
   ]
  },
  {
   "cell_type": "code",
   "execution_count": 4,
   "metadata": {
    "scrolled": true
   },
   "outputs": [
    {
     "name": "stdout",
     "output_type": "stream",
     "text": [
      "<class 'pandas.core.frame.DataFrame'>\n",
      "RangeIndex: 5290 entries, 0 to 5289\n",
      "Data columns (total 53 columns):\n",
      " #   Column                                      Non-Null Count  Dtype  \n",
      "---  ------                                      --------------  -----  \n",
      " 0   date                                        5290 non-null   object \n",
      " 1   primary_cleaner.input.sulfate               5286 non-null   float64\n",
      " 2   primary_cleaner.input.depressant            5285 non-null   float64\n",
      " 3   primary_cleaner.input.feed_size             5290 non-null   float64\n",
      " 4   primary_cleaner.input.xanthate              5286 non-null   float64\n",
      " 5   primary_cleaner.state.floatbank8_a_air      5290 non-null   float64\n",
      " 6   primary_cleaner.state.floatbank8_a_level    5290 non-null   float64\n",
      " 7   primary_cleaner.state.floatbank8_b_air      5290 non-null   float64\n",
      " 8   primary_cleaner.state.floatbank8_b_level    5290 non-null   float64\n",
      " 9   primary_cleaner.state.floatbank8_c_air      5290 non-null   float64\n",
      " 10  primary_cleaner.state.floatbank8_c_level    5290 non-null   float64\n",
      " 11  primary_cleaner.state.floatbank8_d_air      5290 non-null   float64\n",
      " 12  primary_cleaner.state.floatbank8_d_level    5290 non-null   float64\n",
      " 13  rougher.input.feed_ag                       5290 non-null   float64\n",
      " 14  rougher.input.feed_pb                       5290 non-null   float64\n",
      " 15  rougher.input.feed_rate                     5287 non-null   float64\n",
      " 16  rougher.input.feed_size                     5289 non-null   float64\n",
      " 17  rougher.input.feed_sol                      5269 non-null   float64\n",
      " 18  rougher.input.feed_au                       5290 non-null   float64\n",
      " 19  rougher.input.floatbank10_sulfate           5285 non-null   float64\n",
      " 20  rougher.input.floatbank10_xanthate          5290 non-null   float64\n",
      " 21  rougher.input.floatbank11_sulfate           5282 non-null   float64\n",
      " 22  rougher.input.floatbank11_xanthate          5265 non-null   float64\n",
      " 23  rougher.state.floatbank10_a_air             5290 non-null   float64\n",
      " 24  rougher.state.floatbank10_a_level           5290 non-null   float64\n",
      " 25  rougher.state.floatbank10_b_air             5290 non-null   float64\n",
      " 26  rougher.state.floatbank10_b_level           5290 non-null   float64\n",
      " 27  rougher.state.floatbank10_c_air             5290 non-null   float64\n",
      " 28  rougher.state.floatbank10_c_level           5290 non-null   float64\n",
      " 29  rougher.state.floatbank10_d_air             5290 non-null   float64\n",
      " 30  rougher.state.floatbank10_d_level           5290 non-null   float64\n",
      " 31  rougher.state.floatbank10_e_air             5290 non-null   float64\n",
      " 32  rougher.state.floatbank10_e_level           5290 non-null   float64\n",
      " 33  rougher.state.floatbank10_f_air             5290 non-null   float64\n",
      " 34  rougher.state.floatbank10_f_level           5290 non-null   float64\n",
      " 35  secondary_cleaner.state.floatbank2_a_air    5287 non-null   float64\n",
      " 36  secondary_cleaner.state.floatbank2_a_level  5290 non-null   float64\n",
      " 37  secondary_cleaner.state.floatbank2_b_air    5288 non-null   float64\n",
      " 38  secondary_cleaner.state.floatbank2_b_level  5290 non-null   float64\n",
      " 39  secondary_cleaner.state.floatbank3_a_air    5281 non-null   float64\n",
      " 40  secondary_cleaner.state.floatbank3_a_level  5290 non-null   float64\n",
      " 41  secondary_cleaner.state.floatbank3_b_air    5290 non-null   float64\n",
      " 42  secondary_cleaner.state.floatbank3_b_level  5290 non-null   float64\n",
      " 43  secondary_cleaner.state.floatbank4_a_air    5290 non-null   float64\n",
      " 44  secondary_cleaner.state.floatbank4_a_level  5290 non-null   float64\n",
      " 45  secondary_cleaner.state.floatbank4_b_air    5290 non-null   float64\n",
      " 46  secondary_cleaner.state.floatbank4_b_level  5290 non-null   float64\n",
      " 47  secondary_cleaner.state.floatbank5_a_air    5290 non-null   float64\n",
      " 48  secondary_cleaner.state.floatbank5_a_level  5290 non-null   float64\n",
      " 49  secondary_cleaner.state.floatbank5_b_air    5290 non-null   float64\n",
      " 50  secondary_cleaner.state.floatbank5_b_level  5290 non-null   float64\n",
      " 51  secondary_cleaner.state.floatbank6_a_air    5290 non-null   float64\n",
      " 52  secondary_cleaner.state.floatbank6_a_level  5290 non-null   float64\n",
      "dtypes: float64(52), object(1)\n",
      "memory usage: 2.1+ MB\n"
     ]
    }
   ],
   "source": [
    "data_test.info()"
   ]
  },
  {
   "cell_type": "code",
   "execution_count": 5,
   "metadata": {
    "scrolled": true
   },
   "outputs": [
    {
     "name": "stdout",
     "output_type": "stream",
     "text": [
      "<class 'pandas.core.frame.DataFrame'>\n",
      "RangeIndex: 19439 entries, 0 to 19438\n",
      "Data columns (total 87 columns):\n",
      " #   Column                                              Non-Null Count  Dtype  \n",
      "---  ------                                              --------------  -----  \n",
      " 0   date                                                19439 non-null  object \n",
      " 1   final.output.concentrate_ag                         19438 non-null  float64\n",
      " 2   final.output.concentrate_pb                         19438 non-null  float64\n",
      " 3   final.output.concentrate_sol                        19228 non-null  float64\n",
      " 4   final.output.concentrate_au                         19439 non-null  float64\n",
      " 5   final.output.recovery                               19439 non-null  float64\n",
      " 6   final.output.tail_ag                                19438 non-null  float64\n",
      " 7   final.output.tail_pb                                19338 non-null  float64\n",
      " 8   final.output.tail_sol                               19433 non-null  float64\n",
      " 9   final.output.tail_au                                19439 non-null  float64\n",
      " 10  primary_cleaner.input.sulfate                       19415 non-null  float64\n",
      " 11  primary_cleaner.input.depressant                    19402 non-null  float64\n",
      " 12  primary_cleaner.input.feed_size                     19439 non-null  float64\n",
      " 13  primary_cleaner.input.xanthate                      19335 non-null  float64\n",
      " 14  primary_cleaner.output.concentrate_ag               19439 non-null  float64\n",
      " 15  primary_cleaner.output.concentrate_pb               19323 non-null  float64\n",
      " 16  primary_cleaner.output.concentrate_sol              19069 non-null  float64\n",
      " 17  primary_cleaner.output.concentrate_au               19439 non-null  float64\n",
      " 18  primary_cleaner.output.tail_ag                      19435 non-null  float64\n",
      " 19  primary_cleaner.output.tail_pb                      19418 non-null  float64\n",
      " 20  primary_cleaner.output.tail_sol                     19377 non-null  float64\n",
      " 21  primary_cleaner.output.tail_au                      19439 non-null  float64\n",
      " 22  primary_cleaner.state.floatbank8_a_air              19435 non-null  float64\n",
      " 23  primary_cleaner.state.floatbank8_a_level            19438 non-null  float64\n",
      " 24  primary_cleaner.state.floatbank8_b_air              19435 non-null  float64\n",
      " 25  primary_cleaner.state.floatbank8_b_level            19438 non-null  float64\n",
      " 26  primary_cleaner.state.floatbank8_c_air              19437 non-null  float64\n",
      " 27  primary_cleaner.state.floatbank8_c_level            19438 non-null  float64\n",
      " 28  primary_cleaner.state.floatbank8_d_air              19436 non-null  float64\n",
      " 29  primary_cleaner.state.floatbank8_d_level            19438 non-null  float64\n",
      " 30  rougher.calculation.sulfate_to_au_concentrate       19437 non-null  float64\n",
      " 31  rougher.calculation.floatbank10_sulfate_to_au_feed  19437 non-null  float64\n",
      " 32  rougher.calculation.floatbank11_sulfate_to_au_feed  19437 non-null  float64\n",
      " 33  rougher.calculation.au_pb_ratio                     19439 non-null  float64\n",
      " 34  rougher.input.feed_ag                               19439 non-null  float64\n",
      " 35  rougher.input.feed_pb                               19339 non-null  float64\n",
      " 36  rougher.input.feed_rate                             19428 non-null  float64\n",
      " 37  rougher.input.feed_size                             19294 non-null  float64\n",
      " 38  rougher.input.feed_sol                              19340 non-null  float64\n",
      " 39  rougher.input.feed_au                               19439 non-null  float64\n",
      " 40  rougher.input.floatbank10_sulfate                   19405 non-null  float64\n",
      " 41  rougher.input.floatbank10_xanthate                  19431 non-null  float64\n",
      " 42  rougher.input.floatbank11_sulfate                   19395 non-null  float64\n",
      " 43  rougher.input.floatbank11_xanthate                  18986 non-null  float64\n",
      " 44  rougher.output.concentrate_ag                       19439 non-null  float64\n",
      " 45  rougher.output.concentrate_pb                       19439 non-null  float64\n",
      " 46  rougher.output.concentrate_sol                      19416 non-null  float64\n",
      " 47  rougher.output.concentrate_au                       19439 non-null  float64\n",
      " 48  rougher.output.recovery                             19439 non-null  float64\n",
      " 49  rougher.output.tail_ag                              19438 non-null  float64\n",
      " 50  rougher.output.tail_pb                              19439 non-null  float64\n",
      " 51  rougher.output.tail_sol                             19439 non-null  float64\n",
      " 52  rougher.output.tail_au                              19439 non-null  float64\n",
      " 53  rougher.state.floatbank10_a_air                     19438 non-null  float64\n",
      " 54  rougher.state.floatbank10_a_level                   19438 non-null  float64\n",
      " 55  rougher.state.floatbank10_b_air                     19438 non-null  float64\n",
      " 56  rougher.state.floatbank10_b_level                   19438 non-null  float64\n",
      " 57  rougher.state.floatbank10_c_air                     19438 non-null  float64\n",
      " 58  rougher.state.floatbank10_c_level                   19438 non-null  float64\n",
      " 59  rougher.state.floatbank10_d_air                     19439 non-null  float64\n",
      " 60  rougher.state.floatbank10_d_level                   19439 non-null  float64\n",
      " 61  rougher.state.floatbank10_e_air                     19003 non-null  float64\n",
      " 62  rougher.state.floatbank10_e_level                   19439 non-null  float64\n",
      " 63  rougher.state.floatbank10_f_air                     19439 non-null  float64\n",
      " 64  rougher.state.floatbank10_f_level                   19439 non-null  float64\n",
      " 65  secondary_cleaner.output.tail_ag                    19437 non-null  float64\n",
      " 66  secondary_cleaner.output.tail_pb                    19427 non-null  float64\n",
      " 67  secondary_cleaner.output.tail_sol                   17691 non-null  float64\n",
      " 68  secondary_cleaner.output.tail_au                    19439 non-null  float64\n",
      " 69  secondary_cleaner.state.floatbank2_a_air            19219 non-null  float64\n",
      " 70  secondary_cleaner.state.floatbank2_a_level          19438 non-null  float64\n",
      " 71  secondary_cleaner.state.floatbank2_b_air            19416 non-null  float64\n",
      " 72  secondary_cleaner.state.floatbank2_b_level          19438 non-null  float64\n",
      " 73  secondary_cleaner.state.floatbank3_a_air            19426 non-null  float64\n",
      " 74  secondary_cleaner.state.floatbank3_a_level          19438 non-null  float64\n",
      " 75  secondary_cleaner.state.floatbank3_b_air            19438 non-null  float64\n",
      " 76  secondary_cleaner.state.floatbank3_b_level          19438 non-null  float64\n",
      " 77  secondary_cleaner.state.floatbank4_a_air            19433 non-null  float64\n",
      " 78  secondary_cleaner.state.floatbank4_a_level          19438 non-null  float64\n",
      " 79  secondary_cleaner.state.floatbank4_b_air            19438 non-null  float64\n",
      " 80  secondary_cleaner.state.floatbank4_b_level          19438 non-null  float64\n",
      " 81  secondary_cleaner.state.floatbank5_a_air            19438 non-null  float64\n",
      " 82  secondary_cleaner.state.floatbank5_a_level          19438 non-null  float64\n",
      " 83  secondary_cleaner.state.floatbank5_b_air            19438 non-null  float64\n",
      " 84  secondary_cleaner.state.floatbank5_b_level          19438 non-null  float64\n",
      " 85  secondary_cleaner.state.floatbank6_a_air            19437 non-null  float64\n",
      " 86  secondary_cleaner.state.floatbank6_a_level          19438 non-null  float64\n",
      "dtypes: float64(86), object(1)\n",
      "memory usage: 12.9+ MB\n"
     ]
    }
   ],
   "source": [
    "data_full.info()"
   ]
  },
  {
   "cell_type": "markdown",
   "metadata": {},
   "source": [
    "Видно, что в каждом из трёх датасетов есть столбец с датой, тип которого нужно перевести в тип даты. Все остальные столбцы являются числами с плавающей точкой."
   ]
  },
  {
   "cell_type": "code",
   "execution_count": 6,
   "metadata": {},
   "outputs": [],
   "source": [
    "# меняем тип стоблбца\n",
    "data_train['date'] = pd.to_datetime(data_train['date'], format='%Y-%m-%d %H:%M')\n",
    "data_test['date'] = pd.to_datetime(data_test['date'], format='%Y-%m-%d %H:%M')\n",
    "data_full['date'] = pd.to_datetime(data_full['date'], format='%Y-%m-%d %H:%M')"
   ]
  },
  {
   "cell_type": "markdown",
   "metadata": {},
   "source": [
    "Проверим наличие явных дубликатов."
   ]
  },
  {
   "cell_type": "code",
   "execution_count": 7,
   "metadata": {},
   "outputs": [
    {
     "data": {
      "text/plain": [
       "0"
      ]
     },
     "execution_count": 7,
     "metadata": {},
     "output_type": "execute_result"
    }
   ],
   "source": [
    "data_train.duplicated().sum()"
   ]
  },
  {
   "cell_type": "code",
   "execution_count": 8,
   "metadata": {},
   "outputs": [
    {
     "data": {
      "text/plain": [
       "0"
      ]
     },
     "execution_count": 8,
     "metadata": {},
     "output_type": "execute_result"
    }
   ],
   "source": [
    "data_test.duplicated().sum()"
   ]
  },
  {
   "cell_type": "code",
   "execution_count": 9,
   "metadata": {
    "scrolled": true
   },
   "outputs": [
    {
     "data": {
      "text/plain": [
       "0"
      ]
     },
     "execution_count": 9,
     "metadata": {},
     "output_type": "execute_result"
    }
   ],
   "source": [
    "data_full.duplicated().sum()"
   ]
  },
  {
   "cell_type": "markdown",
   "metadata": {},
   "source": [
    "Пропуски в данных во всех трёх датасетах можем заполнить медианным значением."
   ]
  },
  {
   "cell_type": "code",
   "execution_count": 10,
   "metadata": {},
   "outputs": [],
   "source": [
    "data_train = data_train.fillna(data_train.median())\n",
    "data_test = data_test.fillna(data_test.median())\n",
    "data_full = data_full.fillna(data_full.median())"
   ]
  },
  {
   "cell_type": "code",
   "execution_count": 11,
   "metadata": {},
   "outputs": [
    {
     "data": {
      "text/plain": [
       "date                                          0\n",
       "final.output.concentrate_ag                   0\n",
       "final.output.concentrate_pb                   0\n",
       "final.output.concentrate_sol                  0\n",
       "final.output.concentrate_au                   0\n",
       "                                             ..\n",
       "secondary_cleaner.state.floatbank5_a_level    0\n",
       "secondary_cleaner.state.floatbank5_b_air      0\n",
       "secondary_cleaner.state.floatbank5_b_level    0\n",
       "secondary_cleaner.state.floatbank6_a_air      0\n",
       "secondary_cleaner.state.floatbank6_a_level    0\n",
       "Length: 87, dtype: int64"
      ]
     },
     "execution_count": 11,
     "metadata": {},
     "output_type": "execute_result"
    }
   ],
   "source": [
    "data_train.isna().sum()"
   ]
  },
  {
   "cell_type": "code",
   "execution_count": 12,
   "metadata": {
    "scrolled": true
   },
   "outputs": [
    {
     "data": {
      "text/plain": [
       "date                                          0\n",
       "primary_cleaner.input.sulfate                 0\n",
       "primary_cleaner.input.depressant              0\n",
       "primary_cleaner.input.feed_size               0\n",
       "primary_cleaner.input.xanthate                0\n",
       "primary_cleaner.state.floatbank8_a_air        0\n",
       "primary_cleaner.state.floatbank8_a_level      0\n",
       "primary_cleaner.state.floatbank8_b_air        0\n",
       "primary_cleaner.state.floatbank8_b_level      0\n",
       "primary_cleaner.state.floatbank8_c_air        0\n",
       "primary_cleaner.state.floatbank8_c_level      0\n",
       "primary_cleaner.state.floatbank8_d_air        0\n",
       "primary_cleaner.state.floatbank8_d_level      0\n",
       "rougher.input.feed_ag                         0\n",
       "rougher.input.feed_pb                         0\n",
       "rougher.input.feed_rate                       0\n",
       "rougher.input.feed_size                       0\n",
       "rougher.input.feed_sol                        0\n",
       "rougher.input.feed_au                         0\n",
       "rougher.input.floatbank10_sulfate             0\n",
       "rougher.input.floatbank10_xanthate            0\n",
       "rougher.input.floatbank11_sulfate             0\n",
       "rougher.input.floatbank11_xanthate            0\n",
       "rougher.state.floatbank10_a_air               0\n",
       "rougher.state.floatbank10_a_level             0\n",
       "rougher.state.floatbank10_b_air               0\n",
       "rougher.state.floatbank10_b_level             0\n",
       "rougher.state.floatbank10_c_air               0\n",
       "rougher.state.floatbank10_c_level             0\n",
       "rougher.state.floatbank10_d_air               0\n",
       "rougher.state.floatbank10_d_level             0\n",
       "rougher.state.floatbank10_e_air               0\n",
       "rougher.state.floatbank10_e_level             0\n",
       "rougher.state.floatbank10_f_air               0\n",
       "rougher.state.floatbank10_f_level             0\n",
       "secondary_cleaner.state.floatbank2_a_air      0\n",
       "secondary_cleaner.state.floatbank2_a_level    0\n",
       "secondary_cleaner.state.floatbank2_b_air      0\n",
       "secondary_cleaner.state.floatbank2_b_level    0\n",
       "secondary_cleaner.state.floatbank3_a_air      0\n",
       "secondary_cleaner.state.floatbank3_a_level    0\n",
       "secondary_cleaner.state.floatbank3_b_air      0\n",
       "secondary_cleaner.state.floatbank3_b_level    0\n",
       "secondary_cleaner.state.floatbank4_a_air      0\n",
       "secondary_cleaner.state.floatbank4_a_level    0\n",
       "secondary_cleaner.state.floatbank4_b_air      0\n",
       "secondary_cleaner.state.floatbank4_b_level    0\n",
       "secondary_cleaner.state.floatbank5_a_air      0\n",
       "secondary_cleaner.state.floatbank5_a_level    0\n",
       "secondary_cleaner.state.floatbank5_b_air      0\n",
       "secondary_cleaner.state.floatbank5_b_level    0\n",
       "secondary_cleaner.state.floatbank6_a_air      0\n",
       "secondary_cleaner.state.floatbank6_a_level    0\n",
       "dtype: int64"
      ]
     },
     "execution_count": 12,
     "metadata": {},
     "output_type": "execute_result"
    }
   ],
   "source": [
    "data_test.isna().sum()"
   ]
  },
  {
   "cell_type": "code",
   "execution_count": 13,
   "metadata": {},
   "outputs": [
    {
     "data": {
      "text/plain": [
       "date                                          0\n",
       "final.output.concentrate_ag                   0\n",
       "final.output.concentrate_pb                   0\n",
       "final.output.concentrate_sol                  0\n",
       "final.output.concentrate_au                   0\n",
       "                                             ..\n",
       "secondary_cleaner.state.floatbank5_a_level    0\n",
       "secondary_cleaner.state.floatbank5_b_air      0\n",
       "secondary_cleaner.state.floatbank5_b_level    0\n",
       "secondary_cleaner.state.floatbank6_a_air      0\n",
       "secondary_cleaner.state.floatbank6_a_level    0\n",
       "Length: 87, dtype: int64"
      ]
     },
     "execution_count": 13,
     "metadata": {},
     "output_type": "execute_result"
    }
   ],
   "source": [
    "data_full.isna().sum()"
   ]
  },
  {
   "cell_type": "markdown",
   "metadata": {},
   "source": [
    "### Расчёт эффективности обогащения"
   ]
  },
  {
   "cell_type": "markdown",
   "metadata": {},
   "source": [
    "Эффективность обогащения рассчитывается по формуле\n",
    "`Recovery = C * (F - T) / (F * (C - T)) * 100%`, где:\n",
    "* C — доля золота в концентрате после флотации/очистки;\n",
    "* F — доля золота в сырье/концентрате до флотации/очистки;\n",
    "* T — доля золота в отвальных хвостах после флотации/очистки.\n",
    "\n",
    "Для наших датасетов:\n",
    "* C - `rougher.output.concentrate_au`\n",
    "* F - `rougher.input.feed_au`\n",
    "* T - `rougher.output.tail_au`\n",
    "* Recovery (целевой признак) - `rougher.output.recovery`"
   ]
  },
  {
   "cell_type": "code",
   "execution_count": 14,
   "metadata": {},
   "outputs": [
    {
     "name": "stdout",
     "output_type": "stream",
     "text": [
      "MAE равно 9.73512347450521e-15\n"
     ]
    }
   ],
   "source": [
    "c = data_train['rougher.output.concentrate_au']\n",
    "f = data_train['rougher.input.feed_au']\n",
    "t = data_train['rougher.output.tail_au']\n",
    "recovery = ((c * (f - t)) / (f * (c - t))) * 100\n",
    "print('MAE равно', mean_absolute_error(data_train['rougher.output.recovery'], recovery))"
   ]
  },
  {
   "cell_type": "markdown",
   "metadata": {},
   "source": [
    "Видим, что показатель средней ошибки очень маленький, значит, наши расчёты верны. "
   ]
  },
  {
   "cell_type": "markdown",
   "metadata": {},
   "source": [
    "### Исследование признаков, недоступных в тестовой выборке"
   ]
  },
  {
   "cell_type": "markdown",
   "metadata": {},
   "source": [
    "Проверим недоступные в тестовой выборке признаки путём нахождения разницы между списками с названиями признаков тестовой и тренировочной выборок."
   ]
  },
  {
   "cell_type": "code",
   "execution_count": 15,
   "metadata": {},
   "outputs": [],
   "source": [
    "missing_features = set(data_train.columns) - set(data_test.columns)\n"
   ]
  },
  {
   "cell_type": "code",
   "execution_count": 16,
   "metadata": {},
   "outputs": [
    {
     "name": "stdout",
     "output_type": "stream",
     "text": [
      "34\n"
     ]
    }
   ],
   "source": [
    "print(len(missing_features))"
   ]
  },
  {
   "cell_type": "code",
   "execution_count": 17,
   "metadata": {
    "scrolled": true
   },
   "outputs": [
    {
     "data": {
      "text/plain": [
       "{'final.output.concentrate_ag',\n",
       " 'final.output.concentrate_au',\n",
       " 'final.output.concentrate_pb',\n",
       " 'final.output.concentrate_sol',\n",
       " 'final.output.recovery',\n",
       " 'final.output.tail_ag',\n",
       " 'final.output.tail_au',\n",
       " 'final.output.tail_pb',\n",
       " 'final.output.tail_sol',\n",
       " 'primary_cleaner.output.concentrate_ag',\n",
       " 'primary_cleaner.output.concentrate_au',\n",
       " 'primary_cleaner.output.concentrate_pb',\n",
       " 'primary_cleaner.output.concentrate_sol',\n",
       " 'primary_cleaner.output.tail_ag',\n",
       " 'primary_cleaner.output.tail_au',\n",
       " 'primary_cleaner.output.tail_pb',\n",
       " 'primary_cleaner.output.tail_sol',\n",
       " 'rougher.calculation.au_pb_ratio',\n",
       " 'rougher.calculation.floatbank10_sulfate_to_au_feed',\n",
       " 'rougher.calculation.floatbank11_sulfate_to_au_feed',\n",
       " 'rougher.calculation.sulfate_to_au_concentrate',\n",
       " 'rougher.output.concentrate_ag',\n",
       " 'rougher.output.concentrate_au',\n",
       " 'rougher.output.concentrate_pb',\n",
       " 'rougher.output.concentrate_sol',\n",
       " 'rougher.output.recovery',\n",
       " 'rougher.output.tail_ag',\n",
       " 'rougher.output.tail_au',\n",
       " 'rougher.output.tail_pb',\n",
       " 'rougher.output.tail_sol',\n",
       " 'secondary_cleaner.output.tail_ag',\n",
       " 'secondary_cleaner.output.tail_au',\n",
       " 'secondary_cleaner.output.tail_pb',\n",
       " 'secondary_cleaner.output.tail_sol'}"
      ]
     },
     "execution_count": 17,
     "metadata": {},
     "output_type": "execute_result"
    }
   ],
   "source": [
    "missing_features"
   ]
  },
  {
   "cell_type": "markdown",
   "metadata": {},
   "source": [
    "Видно, что в тестовой выборке отсутствуют следующие признаки:\n",
    "\n",
    "**Флотация, параметры продукта**\n",
    "* `concentrate_ag`\n",
    "* `concentrate_au`\n",
    "* `concentrate_pb`\n",
    "* `concentrate_sol`\n",
    "* `recovery`\n",
    "* `tail_ag`\n",
    "* `tail_au`\n",
    "* `tail_pb`\n",
    "* `tail_sol`\n",
    "\n",
    "**Флотация, расчётные характеристики**\n",
    "* `au_pb_ratio`\n",
    "* `floatbank10_sulfate_to_au_feed`\n",
    "* `floatbank11_sulfate_to_au_feed`\n",
    "* `sulfate_to_au_concentrate`\n",
    "\n",
    "**Первичная очистка, параметры продукта:**\n",
    "* `concentrate_ag`\n",
    "* `concentrate_au`\n",
    "* `concentrate_pb`\n",
    "* `concentrate_sol`\n",
    "* `tail_ag`\n",
    "* `tail_au`\n",
    "* `tail_pb`\n",
    "* `tail_sol`\n",
    "\n",
    "**Вторичная очистка, параметры продукта:**\n",
    "* `concentrate_ag`\n",
    "* `concentrate_au`\n",
    "* `concentrate_pb`\n",
    "* `concentrate_sol`\n",
    "* `tail_ag`\n",
    "* `tail_au`\n",
    "* `tail_pb`\n",
    "* `tail_sol`\n",
    "\n",
    "**Финальный этап, параметры продукта:**\n",
    "* `concentrate_ag`\n",
    "* `concentrate_au`\n",
    "* `concentrate_pb`\n",
    "* `concentrate_sol`\n",
    "* `recovery`\n",
    "* `tail_ag`\n",
    "* `tail_au`\n",
    "* `tail_pb`\n",
    "* `tail_sol`"
   ]
  },
  {
   "cell_type": "markdown",
   "metadata": {},
   "source": [
    "В основном отсутствуют параметры продукта на всех четырёх этапах. Скорее всего, эти признаки просто ещё не были посчитаны. Для подсчёта эффективности обогащения нам понадобятся признаки `rougher.output.recovery` и `final.output.recovery`, которые отсутствуют в тестовой выборке. Можно взять эти признаки из датасета с исходными данными путём слияния датасетов по единственному категориальному признаку - столбцу `date`."
   ]
  },
  {
   "cell_type": "code",
   "execution_count": 18,
   "metadata": {},
   "outputs": [],
   "source": [
    "data_test = data_test.merge(data_full.loc[:, ['date','rougher.output.recovery', 'final.output.recovery']], on='date')"
   ]
  },
  {
   "cell_type": "markdown",
   "metadata": {},
   "source": [
    "После слияния столбцов можно удалить столбец `date`, так он никак не повлияет на обучение модели."
   ]
  },
  {
   "cell_type": "code",
   "execution_count": 19,
   "metadata": {},
   "outputs": [],
   "source": [
    "data_train = data_train.drop('date', axis = 1)\n",
    "data_test = data_test.drop('date', axis = 1)"
   ]
  },
  {
   "cell_type": "markdown",
   "metadata": {},
   "source": [
    "**Вывод:**\n",
    "\n",
    "Были изучены датасеты, проверена эффективность обогащения, проанализированы признаки, которые недоступны в тестовой выборке, и произведена предобработка данных."
   ]
  },
  {
   "cell_type": "markdown",
   "metadata": {},
   "source": [
    "## Анализ данных"
   ]
  },
  {
   "cell_type": "markdown",
   "metadata": {},
   "source": [
    "### Изменение концентраций металлов (Au, Ag, Pb)"
   ]
  },
  {
   "cell_type": "markdown",
   "metadata": {},
   "source": [
    "Для нагядности построим гистограммы со значениями концентраций для металлов на различных этапах очистки."
   ]
  },
  {
   "cell_type": "code",
   "execution_count": 20,
   "metadata": {},
   "outputs": [
    {
     "data": {
      "image/png": "[encoded data removed]",
      "text/plain": [
       "<Figure size 1080x720 with 1 Axes>"
      ]
     },
     "metadata": {
      "needs_background": "light"
     },
     "output_type": "display_data"
    }
   ],
   "source": [
    "# гистограмма для золота\n",
    "plt.figure(figsize = [15, 10])\n",
    "\n",
    "plt.hist(data_train['rougher.input.feed_au'], alpha = 0.4, bins = 200, label = 'Сырьё')\n",
    "plt.hist(data_train['rougher.output.concentrate_au'], alpha = 0.6, bins = 200, label = 'Флотация')\n",
    "plt.hist(data_train['primary_cleaner.output.concentrate_au'], alpha = 0.6, bins = 200, label = 'Первичная очистка')\n",
    "plt.hist(data_train['final.output.concentrate_au'], alpha = 0.6, bins = 200, label = 'Финальный этап')\n",
    "\n",
    "plt.xlabel(\"Концентрация золота на разных этапах очистки\")\n",
    "plt.ylabel(\"Количество результатов\")\n",
    "\n",
    "plt.title('Изменение концентраций золота')\n",
    "plt.legend()\n",
    "plt.show()"
   ]
  },
  {
   "cell_type": "markdown",
   "metadata": {},
   "source": [
    "У золота концентрация растёт последовательно на каждом этапе очистки."
   ]
  },
  {
   "cell_type": "code",
   "execution_count": 21,
   "metadata": {},
   "outputs": [
    {
     "data": {
      "image/png": "[encoded data removed]",
      "text/plain": [
       "<Figure size 1080x720 with 1 Axes>"
      ]
     },
     "metadata": {
      "needs_background": "light"
     },
     "output_type": "display_data"
    }
   ],
   "source": [
    "# гистограмма для серебра\n",
    "plt.figure(figsize = [15, 10])\n",
    "\n",
    "plt.hist(data_train['rougher.input.feed_ag'], alpha = 0.4, bins = 200, label = 'Сырьё')\n",
    "plt.hist(data_train['rougher.output.concentrate_ag'], alpha = 0.6, bins = 200, label = 'Флотация')\n",
    "plt.hist(data_train['primary_cleaner.output.concentrate_ag'], alpha = 0.6, bins = 200, label = 'Первичная очистка')\n",
    "plt.hist(data_train['final.output.concentrate_ag'], alpha = 0.6, bins = 200, label = 'Финальный этап')\n",
    "\n",
    "\n",
    "plt.xlabel(\"Концентрация серебра на разных этапах очистки\")\n",
    "plt.ylabel(\"Количество результатов\")\n",
    "\n",
    "plt.title('Изменение концентраций серебра')\n",
    "plt.legend()\n",
    "plt.show()\n"
   ]
  },
  {
   "cell_type": "markdown",
   "metadata": {},
   "source": [
    "У серебра концентрация растёт на этапе флотации, а потом последовательно падает на следующих этапах."
   ]
  },
  {
   "cell_type": "code",
   "execution_count": 22,
   "metadata": {
    "scrolled": false
   },
   "outputs": [
    {
     "data": {
      "image/png": "[encoded data removed]",
      "text/plain": [
       "<Figure size 1080x720 with 1 Axes>"
      ]
     },
     "metadata": {
      "needs_background": "light"
     },
     "output_type": "display_data"
    }
   ],
   "source": [
    "# гистограмма для свинца\n",
    "plt.figure(figsize = [15, 10])\n",
    "\n",
    "plt.hist(data_train['rougher.input.feed_pb'], alpha = 0.4, bins = 200, label = 'Сырьё')\n",
    "plt.hist(data_train['rougher.output.concentrate_pb'], alpha = 0.6, bins = 200, label = 'Флотация')\n",
    "plt.hist(data_train['primary_cleaner.output.concentrate_pb'], alpha = 0.6, bins = 200, label = 'Первичная очистка')\n",
    "plt.hist(data_train['final.output.concentrate_pb'], alpha = 0.6, bins = 200, label = 'Финальный этап')\n",
    "\n",
    "\n",
    "plt.xlabel(\"Концентрация свинца на разных этапах очистки\")\n",
    "plt.ylabel(\"Количество результатов\")\n",
    "\n",
    "plt.title('Изменение концентраций свинца')\n",
    "plt.legend()\n",
    "plt.show()"
   ]
  },
  {
   "cell_type": "markdown",
   "metadata": {},
   "source": [
    "У свинца концентрация значительно растёт на каждом этапе флотации, затем слегка растёт на этапе первичной очистки и на финальном этапе."
   ]
  },
  {
   "cell_type": "markdown",
   "metadata": {},
   "source": [
    "### Сравнение гранул"
   ]
  },
  {
   "cell_type": "markdown",
   "metadata": {},
   "source": [
    "Размел гранул сырья хранится в параметре этапа `feed_size`. Этот параметр присутствует в двух этапах - `rougher.input.feed_size` и `primary_cleaner.input.feed_size`. Сравним два этих параметра в тестовой и обучающей выборках. "
   ]
  },
  {
   "cell_type": "code",
   "execution_count": 23,
   "metadata": {
    "scrolled": true
   },
   "outputs": [
    {
     "data": {
      "image/png": "[encoded data removed]",
      "text/plain": [
       "<Figure size 576x432 with 1 Axes>"
      ]
     },
     "metadata": {
      "needs_background": "light"
     },
     "output_type": "display_data"
    }
   ],
   "source": [
    "plt.figure(figsize = [8, 6])\n",
    "\n",
    "x = data_train['rougher.input.feed_size']\n",
    "y = data_test['rougher.input.feed_size']\n",
    "\n",
    "sns.kdeplot(x, label = 'Обучающая выборка');\n",
    "sns.kdeplot(y, label = 'Тестовая выборка');\n",
    "\n",
    "plt.xlabel('Размер гранул сырья')\n",
    "plt.ylabel('Количество наблюдений')\n",
    "plt.title('Размер гранул сырья на этапе флотации');\n",
    "\n",
    "plt.legend();\n",
    "plt.show();"
   ]
  },
  {
   "cell_type": "markdown",
   "metadata": {},
   "source": [
    "Для этапа флотации размер гранул на обучающей выборке находится в районе 50, для тестовой - в районе 40."
   ]
  },
  {
   "cell_type": "code",
   "execution_count": 24,
   "metadata": {
    "scrolled": false
   },
   "outputs": [
    {
     "data": {
      "image/png": "[encoded data removed]",
      "text/plain": [
       "<Figure size 576x432 with 1 Axes>"
      ]
     },
     "metadata": {
      "needs_background": "light"
     },
     "output_type": "display_data"
    }
   ],
   "source": [
    "plt.figure(figsize = [8, 6])\n",
    "\n",
    "x = data_train['primary_cleaner.input.feed_size']\n",
    "y = data_test['primary_cleaner.input.feed_size']\n",
    "\n",
    "sns.kdeplot(x, label = 'Обучающая выборка');\n",
    "sns.kdeplot(y, label = 'Тестовая выборка');\n",
    "\n",
    "plt.xlabel('Размер гранул сырья')\n",
    "plt.ylabel('Количество наблюдений')\n",
    "plt.title('Размер гранул сырья на этапе первичной обработки');\n",
    "\n",
    "plt.legend();\n",
    "plt.show();"
   ]
  },
  {
   "cell_type": "markdown",
   "metadata": {},
   "source": [
    "Для этапа флотации размер гранул находится в районе 7-8 как на обучающей выборке, так и на тестовой."
   ]
  },
  {
   "cell_type": "markdown",
   "metadata": {},
   "source": [
    "Размеры гранул на обеих рассматриваемых стадиях почти не различаются в рамках сравнения между тестовой и обучающей выборками. На этапе первичной обработки значения распределены нормально в обеих выборках. \n",
    "\n",
    "\n",
    "На этапе флотации для обучающей выборки значения данных с размером гранул также распределены нормально. А вот для тестовой выборки данные распределены со смещением вправо."
   ]
  },
  {
   "cell_type": "markdown",
   "metadata": {},
   "source": [
    "### Сравнение суммарных концентраций"
   ]
  },
  {
   "cell_type": "markdown",
   "metadata": {},
   "source": [
    "Для удобства сделаем функцию, которая считает концентрацию в трёх состояниях - сырьё, черновой и финальный концентраты, для каждого вещества."
   ]
  },
  {
   "cell_type": "code",
   "execution_count": 25,
   "metadata": {},
   "outputs": [
    {
     "data": {
      "image/png": "[encoded data removed]",
      "text/plain": [
       "<Figure size 432x288 with 1 Axes>"
      ]
     },
     "metadata": {
      "needs_background": "light"
     },
     "output_type": "display_data"
    },
    {
     "data": {
      "image/png": "[encoded data removed]",
      "text/plain": [
       "<Figure size 432x288 with 1 Axes>"
      ]
     },
     "metadata": {
      "needs_background": "light"
     },
     "output_type": "display_data"
    },
    {
     "data": {
      "image/png": "[encoded data removed]",
      "text/plain": [
       "<Figure size 432x288 with 1 Axes>"
      ]
     },
     "metadata": {
      "needs_background": "light"
     },
     "output_type": "display_data"
    }
   ],
   "source": [
    "for metal_name in ['au', 'ag', 'pb']:\n",
    "    name = ''\n",
    "    if metal_name == 'au':\n",
    "        name = 'золота'\n",
    "        \n",
    "    if metal_name == 'ag':\n",
    "        name = 'серебра'\n",
    "        \n",
    "    if metal_name == 'pb':\n",
    "        name = 'свинца'\n",
    "        \n",
    "        \n",
    "    concentration_rougher_input = data_train[f'rougher.input.feed_{metal_name}']\n",
    "    concentration_rougher_output = data_train[f'rougher.output.concentrate_{metal_name}']\n",
    "    concentration_final_output = data_train[f'final.output.concentrate_{metal_name}']\n",
    "    \n",
    "    plt.hist(concentration_rougher_input, label = 'Концентрация до флотации', bins = 50, alpha = 0.5)\n",
    "    plt.hist(concentration_rougher_output, label = 'Концентрация после флотации', bins = 50, alpha = 0.5)\n",
    "    plt.hist(concentration_final_output, label = 'Финальная концентрация', bins = 50, alpha = 0.5)\n",
    "    \n",
    "    \n",
    "    plt.xlabel(f'Концентрация для {name}')\n",
    "    plt.ylabel('Количество наблюдений')\n",
    "    \n",
    "    \n",
    "    plt.title(f'Сравнение концентраций на разных этапах для {name}');\n",
    "    plt.legend()\n",
    "    plt.show();"
   ]
  },
  {
   "cell_type": "markdown",
   "metadata": {},
   "source": [
    "У золота и свинца концентрация последовательно увеличивается. У серебра концентрация увеличилась, а потом сильно упала. Из гистограмм видно очень много нулевых значений, которые для параметра концентрации являются аномальными значениями. Их нужно удалить, чтобы они не влияли негативно на обучение модели."
   ]
  },
  {
   "cell_type": "code",
   "execution_count": 26,
   "metadata": {},
   "outputs": [],
   "source": [
    "data_train = data_train.drop(data_train[data_train['final.output.concentrate_au'] == 0].index)\n",
    "data_train = data_train.drop(data_train[data_train['final.output.concentrate_ag'] == 0].index)\n",
    "data_train = data_train.drop(data_train[data_train['final.output.concentrate_pb'] == 0].index)\n",
    "\n",
    "data_train = data_train.drop(data_train[data_train['rougher.output.concentrate_au'] == 0].index)\n",
    "data_train = data_train.drop(data_train[data_train['rougher.output.concentrate_ag'] == 0].index)\n",
    "data_train = data_train.drop(data_train[data_train['rougher.output.concentrate_pb'] == 0].index)"
   ]
  },
  {
   "cell_type": "code",
   "execution_count": 27,
   "metadata": {},
   "outputs": [],
   "source": [
    "data_full = data_full.drop(data_full[data_full['final.output.concentrate_au'] == 0].index)\n",
    "data_full = data_full.drop(data_full[data_full['final.output.concentrate_ag'] == 0].index)\n",
    "data_full = data_full.drop(data_full[data_full['final.output.concentrate_pb'] == 0].index)\n",
    "\n",
    "data_full = data_full.drop(data_full[data_full['rougher.output.concentrate_au'] == 0].index)\n",
    "data_full = data_full.drop(data_full[data_full['rougher.output.concentrate_ag'] == 0].index)\n",
    "data_full = data_full.drop(data_full[data_full['rougher.output.concentrate_pb'] == 0].index)"
   ]
  },
  {
   "cell_type": "markdown",
   "metadata": {},
   "source": [
    "**Вывод:**\n",
    "\n",
    "* Были исследованы изменения концентраций трёх металлов (Au, Ag, Pb) на различных этапах очистки.\n",
    "* Было проведено сравнение размеров гранул. Между обучающей и тестовой выборками не было выявлено разницы в результатах.\n",
    "* Была исследована концентрация трёх металлов (Au, Ag, Pb) на разных стадиях.\n",
    "* Были найдены и обработаны аномалии. Данные готовы к обучению."
   ]
  },
  {
   "cell_type": "markdown",
   "metadata": {},
   "source": [
    "## Модель"
   ]
  },
  {
   "cell_type": "markdown",
   "metadata": {},
   "source": [
    "### Инициализация функции для вычисления sMAPE"
   ]
  },
  {
   "cell_type": "code",
   "execution_count": 28,
   "metadata": {},
   "outputs": [],
   "source": [
    "def calculate_smape(target, predict):\n",
    "    smape = (1 / len(target)) * np.sum((np.abs(target - predict)) / ((np.abs(target) + np.abs(predict)) / 2)) * 100\n",
    "    return smape"
   ]
  },
  {
   "cell_type": "code",
   "execution_count": 29,
   "metadata": {},
   "outputs": [],
   "source": [
    "def calculate_result_smape(rougher, final):\n",
    "    result_smape = 0.25 * rougher + 0.75 * final\n",
    "    return result_smape"
   ]
  },
  {
   "cell_type": "markdown",
   "metadata": {},
   "source": [
    "Так как мы использовали слияние данных из двух таблиц, чтобы добавить в тестовую выборку недостающие признаки для проведения необходимых исследований и вычисления эффективности обогащения, то перед обучением будет лучше убрать из датасета все эти признаки, которые отсутствовали в тестовой выборке, оставив лишь два целевых признака - `rougher.output.recovery` и `final.output.recovery`. В противном случае может произойти утечка признаков при обучении моделей."
   ]
  },
  {
   "cell_type": "code",
   "execution_count": 30,
   "metadata": {},
   "outputs": [],
   "source": [
    "missing_features.discard('rougher.output.recovery')\n",
    "missing_features.discard('final.output.recovery')"
   ]
  },
  {
   "cell_type": "code",
   "execution_count": 31,
   "metadata": {},
   "outputs": [
    {
     "name": "stdout",
     "output_type": "stream",
     "text": [
      "32\n"
     ]
    }
   ],
   "source": [
    "print(len(missing_features))"
   ]
  },
  {
   "cell_type": "code",
   "execution_count": 32,
   "metadata": {},
   "outputs": [],
   "source": [
    "data_train = data_train.drop(columns = missing_features, axis = 1)"
   ]
  },
  {
   "cell_type": "code",
   "execution_count": 33,
   "metadata": {
    "scrolled": true
   },
   "outputs": [
    {
     "name": "stdout",
     "output_type": "stream",
     "text": [
      "<class 'pandas.core.frame.DataFrame'>\n",
      "Int64Index: 13795 entries, 0 to 14148\n",
      "Data columns (total 54 columns):\n",
      " #   Column                                      Non-Null Count  Dtype  \n",
      "---  ------                                      --------------  -----  \n",
      " 0   final.output.recovery                       13795 non-null  float64\n",
      " 1   primary_cleaner.input.sulfate               13795 non-null  float64\n",
      " 2   primary_cleaner.input.depressant            13795 non-null  float64\n",
      " 3   primary_cleaner.input.feed_size             13795 non-null  float64\n",
      " 4   primary_cleaner.input.xanthate              13795 non-null  float64\n",
      " 5   primary_cleaner.state.floatbank8_a_air      13795 non-null  float64\n",
      " 6   primary_cleaner.state.floatbank8_a_level    13795 non-null  float64\n",
      " 7   primary_cleaner.state.floatbank8_b_air      13795 non-null  float64\n",
      " 8   primary_cleaner.state.floatbank8_b_level    13795 non-null  float64\n",
      " 9   primary_cleaner.state.floatbank8_c_air      13795 non-null  float64\n",
      " 10  primary_cleaner.state.floatbank8_c_level    13795 non-null  float64\n",
      " 11  primary_cleaner.state.floatbank8_d_air      13795 non-null  float64\n",
      " 12  primary_cleaner.state.floatbank8_d_level    13795 non-null  float64\n",
      " 13  rougher.input.feed_ag                       13795 non-null  float64\n",
      " 14  rougher.input.feed_pb                       13795 non-null  float64\n",
      " 15  rougher.input.feed_rate                     13795 non-null  float64\n",
      " 16  rougher.input.feed_size                     13795 non-null  float64\n",
      " 17  rougher.input.feed_sol                      13795 non-null  float64\n",
      " 18  rougher.input.feed_au                       13795 non-null  float64\n",
      " 19  rougher.input.floatbank10_sulfate           13795 non-null  float64\n",
      " 20  rougher.input.floatbank10_xanthate          13795 non-null  float64\n",
      " 21  rougher.input.floatbank11_sulfate           13795 non-null  float64\n",
      " 22  rougher.input.floatbank11_xanthate          13795 non-null  float64\n",
      " 23  rougher.output.recovery                     13795 non-null  float64\n",
      " 24  rougher.state.floatbank10_a_air             13795 non-null  float64\n",
      " 25  rougher.state.floatbank10_a_level           13795 non-null  float64\n",
      " 26  rougher.state.floatbank10_b_air             13795 non-null  float64\n",
      " 27  rougher.state.floatbank10_b_level           13795 non-null  float64\n",
      " 28  rougher.state.floatbank10_c_air             13795 non-null  float64\n",
      " 29  rougher.state.floatbank10_c_level           13795 non-null  float64\n",
      " 30  rougher.state.floatbank10_d_air             13795 non-null  float64\n",
      " 31  rougher.state.floatbank10_d_level           13795 non-null  float64\n",
      " 32  rougher.state.floatbank10_e_air             13795 non-null  float64\n",
      " 33  rougher.state.floatbank10_e_level           13795 non-null  float64\n",
      " 34  rougher.state.floatbank10_f_air             13795 non-null  float64\n",
      " 35  rougher.state.floatbank10_f_level           13795 non-null  float64\n",
      " 36  secondary_cleaner.state.floatbank2_a_air    13795 non-null  float64\n",
      " 37  secondary_cleaner.state.floatbank2_a_level  13795 non-null  float64\n",
      " 38  secondary_cleaner.state.floatbank2_b_air    13795 non-null  float64\n",
      " 39  secondary_cleaner.state.floatbank2_b_level  13795 non-null  float64\n",
      " 40  secondary_cleaner.state.floatbank3_a_air    13795 non-null  float64\n",
      " 41  secondary_cleaner.state.floatbank3_a_level  13795 non-null  float64\n",
      " 42  secondary_cleaner.state.floatbank3_b_air    13795 non-null  float64\n",
      " 43  secondary_cleaner.state.floatbank3_b_level  13795 non-null  float64\n",
      " 44  secondary_cleaner.state.floatbank4_a_air    13795 non-null  float64\n",
      " 45  secondary_cleaner.state.floatbank4_a_level  13795 non-null  float64\n",
      " 46  secondary_cleaner.state.floatbank4_b_air    13795 non-null  float64\n",
      " 47  secondary_cleaner.state.floatbank4_b_level  13795 non-null  float64\n",
      " 48  secondary_cleaner.state.floatbank5_a_air    13795 non-null  float64\n",
      " 49  secondary_cleaner.state.floatbank5_a_level  13795 non-null  float64\n",
      " 50  secondary_cleaner.state.floatbank5_b_air    13795 non-null  float64\n",
      " 51  secondary_cleaner.state.floatbank5_b_level  13795 non-null  float64\n",
      " 52  secondary_cleaner.state.floatbank6_a_air    13795 non-null  float64\n",
      " 53  secondary_cleaner.state.floatbank6_a_level  13795 non-null  float64\n",
      "dtypes: float64(54)\n",
      "memory usage: 6.3 MB\n"
     ]
    }
   ],
   "source": [
    "data_train.info()"
   ]
  },
  {
   "cell_type": "markdown",
   "metadata": {},
   "source": [
    "### Обучение моделей"
   ]
  },
  {
   "cell_type": "markdown",
   "metadata": {},
   "source": [
    "Подготовим выборки, причём для каждого из двух целевых признаков будут отдельные выборки."
   ]
  },
  {
   "cell_type": "code",
   "execution_count": 34,
   "metadata": {},
   "outputs": [],
   "source": [
    "features_train = data_train.drop(['rougher.output.recovery', 'final.output.recovery'], axis=1)\n",
    "rougher_target_train = data_train['rougher.output.recovery']\n",
    "final_target_train = data_train['final.output.recovery']"
   ]
  },
  {
   "cell_type": "markdown",
   "metadata": {},
   "source": [
    "Будем сравнивать три модели - дерево решений, случайный лес и линейную регрессию. Чем меньше показатель sMAPE - тем лучше."
   ]
  },
  {
   "cell_type": "code",
   "execution_count": 35,
   "metadata": {},
   "outputs": [
    {
     "name": "stdout",
     "output_type": "stream",
     "text": [
      "[CV] START .....................................................................\n",
      "[CV] END .............................. score: (test=-11.695) total time=   0.1s\n",
      "[CV] START .....................................................................\n",
      "[CV] END ............................... score: (test=-7.700) total time=   0.1s\n",
      "[CV] START .....................................................................\n"
     ]
    },
    {
     "name": "stderr",
     "output_type": "stream",
     "text": [
      "[Parallel(n_jobs=-1)]: Using backend SequentialBackend with 1 concurrent workers.\n",
      "[Parallel(n_jobs=-1)]: Done   1 out of   1 | elapsed:    0.1s remaining:    0.0s\n",
      "[Parallel(n_jobs=-1)]: Done   2 out of   2 | elapsed:    0.1s remaining:    0.0s\n",
      "[Parallel(n_jobs=-1)]: Done   3 out of   3 | elapsed:    0.2s remaining:    0.0s\n"
     ]
    },
    {
     "name": "stdout",
     "output_type": "stream",
     "text": [
      "[CV] END ............................... score: (test=-5.309) total time=   0.1s\n",
      "[CV] START .....................................................................\n",
      "[CV] END ............................... score: (test=-6.718) total time=   0.1s\n",
      "[CV] START .....................................................................\n",
      "[CV] END ............................... score: (test=-9.052) total time=   0.1s\n",
      "[CV] START .....................................................................\n",
      "[CV] END ............................... score: (test=-9.691) total time=   0.1s\n",
      "[CV] START .....................................................................\n",
      "[CV] END ............................... score: (test=-8.062) total time=   0.1s\n",
      "[CV] START .....................................................................\n"
     ]
    },
    {
     "name": "stderr",
     "output_type": "stream",
     "text": [
      "[Parallel(n_jobs=-1)]: Done   4 out of   4 | elapsed:    0.3s remaining:    0.0s\n",
      "[Parallel(n_jobs=-1)]: Done   5 out of   5 | elapsed:    0.3s remaining:    0.0s\n",
      "[Parallel(n_jobs=-1)]: Done   5 out of   5 | elapsed:    0.3s finished\n",
      "[Parallel(n_jobs=-1)]: Using backend SequentialBackend with 1 concurrent workers.\n",
      "[Parallel(n_jobs=-1)]: Done   1 out of   1 | elapsed:    0.1s remaining:    0.0s\n",
      "[Parallel(n_jobs=-1)]: Done   2 out of   2 | elapsed:    0.1s remaining:    0.0s\n"
     ]
    },
    {
     "name": "stdout",
     "output_type": "stream",
     "text": [
      "[CV] END .............................. score: (test=-10.200) total time=   0.1s\n",
      "[CV] START .....................................................................\n",
      "[CV] END .............................. score: (test=-10.759) total time=   0.1s\n",
      "[CV] START .....................................................................\n",
      "[CV] END .............................. score: (test=-11.351) total time=   0.1s\n",
      "[CV] START .....................................................................\n"
     ]
    },
    {
     "name": "stderr",
     "output_type": "stream",
     "text": [
      "[Parallel(n_jobs=-1)]: Done   3 out of   3 | elapsed:    0.2s remaining:    0.0s\n",
      "[Parallel(n_jobs=-1)]: Done   4 out of   4 | elapsed:    0.2s remaining:    0.0s\n",
      "[Parallel(n_jobs=-1)]: Done   5 out of   5 | elapsed:    0.3s remaining:    0.0s\n",
      "[Parallel(n_jobs=-1)]: Done   5 out of   5 | elapsed:    0.3s finished\n",
      "[Parallel(n_jobs=-1)]: Using backend SequentialBackend with 1 concurrent workers.\n"
     ]
    },
    {
     "name": "stdout",
     "output_type": "stream",
     "text": [
      "[CV] END .............................. score: (test=-10.580) total time=   0.2s\n",
      "[CV] START .....................................................................\n",
      "[CV] END ............................... score: (test=-6.049) total time=   0.2s\n",
      "[CV] START .....................................................................\n"
     ]
    },
    {
     "name": "stderr",
     "output_type": "stream",
     "text": [
      "[Parallel(n_jobs=-1)]: Done   1 out of   1 | elapsed:    0.2s remaining:    0.0s\n",
      "[Parallel(n_jobs=-1)]: Done   2 out of   2 | elapsed:    0.3s remaining:    0.0s\n"
     ]
    },
    {
     "name": "stdout",
     "output_type": "stream",
     "text": [
      "[CV] END ............................... score: (test=-5.568) total time=   0.1s\n",
      "[CV] START .....................................................................\n",
      "[CV] END ............................... score: (test=-5.417) total time=   0.1s\n",
      "[CV] START .....................................................................\n"
     ]
    },
    {
     "name": "stderr",
     "output_type": "stream",
     "text": [
      "[Parallel(n_jobs=-1)]: Done   3 out of   3 | elapsed:    0.5s remaining:    0.0s\n",
      "[Parallel(n_jobs=-1)]: Done   4 out of   4 | elapsed:    0.6s remaining:    0.0s\n"
     ]
    },
    {
     "name": "stdout",
     "output_type": "stream",
     "text": [
      "[CV] END ............................... score: (test=-7.706) total time=   0.2s\n",
      "[CV] START .....................................................................\n",
      "[CV] END ............................... score: (test=-9.708) total time=   0.2s\n",
      "[CV] START .....................................................................\n"
     ]
    },
    {
     "name": "stderr",
     "output_type": "stream",
     "text": [
      "[Parallel(n_jobs=-1)]: Done   5 out of   5 | elapsed:    0.8s remaining:    0.0s\n",
      "[Parallel(n_jobs=-1)]: Done   5 out of   5 | elapsed:    0.8s finished\n",
      "[Parallel(n_jobs=-1)]: Using backend SequentialBackend with 1 concurrent workers.\n",
      "[Parallel(n_jobs=-1)]: Done   1 out of   1 | elapsed:    0.2s remaining:    0.0s\n"
     ]
    },
    {
     "name": "stdout",
     "output_type": "stream",
     "text": [
      "[CV] END ............................... score: (test=-8.388) total time=   0.2s\n",
      "[CV] START .....................................................................\n",
      "[CV] END .............................. score: (test=-11.457) total time=   0.2s\n",
      "[CV] START .....................................................................\n"
     ]
    },
    {
     "name": "stderr",
     "output_type": "stream",
     "text": [
      "[Parallel(n_jobs=-1)]: Done   2 out of   2 | elapsed:    0.3s remaining:    0.0s\n",
      "[Parallel(n_jobs=-1)]: Done   3 out of   3 | elapsed:    0.5s remaining:    0.0s\n"
     ]
    },
    {
     "name": "stdout",
     "output_type": "stream",
     "text": [
      "[CV] END ............................... score: (test=-9.186) total time=   0.2s\n",
      "[CV] START .....................................................................\n",
      "[CV] END ............................... score: (test=-9.938) total time=   0.1s\n",
      "[CV] START .....................................................................\n"
     ]
    },
    {
     "name": "stderr",
     "output_type": "stream",
     "text": [
      "[Parallel(n_jobs=-1)]: Done   4 out of   4 | elapsed:    0.6s remaining:    0.0s\n",
      "[Parallel(n_jobs=-1)]: Done   5 out of   5 | elapsed:    0.8s remaining:    0.0s\n",
      "[Parallel(n_jobs=-1)]: Done   5 out of   5 | elapsed:    0.8s finished\n",
      "[Parallel(n_jobs=-1)]: Using backend SequentialBackend with 1 concurrent workers.\n"
     ]
    },
    {
     "name": "stdout",
     "output_type": "stream",
     "text": [
      "[CV] END .............................. score: (test=-10.881) total time=   0.2s\n",
      "[CV] START .....................................................................\n"
     ]
    },
    {
     "name": "stderr",
     "output_type": "stream",
     "text": [
      "[Parallel(n_jobs=-1)]: Done   1 out of   1 | elapsed:    0.2s remaining:    0.0s\n"
     ]
    },
    {
     "name": "stdout",
     "output_type": "stream",
     "text": [
      "[CV] END ............................... score: (test=-9.616) total time=   0.2s\n",
      "[CV] START .....................................................................\n"
     ]
    },
    {
     "name": "stderr",
     "output_type": "stream",
     "text": [
      "[Parallel(n_jobs=-1)]: Done   2 out of   2 | elapsed:    0.5s remaining:    0.0s\n"
     ]
    },
    {
     "name": "stdout",
     "output_type": "stream",
     "text": [
      "[CV] END ............................... score: (test=-5.545) total time=   0.2s\n",
      "[CV] START .....................................................................\n"
     ]
    },
    {
     "name": "stderr",
     "output_type": "stream",
     "text": [
      "[Parallel(n_jobs=-1)]: Done   3 out of   3 | elapsed:    0.7s remaining:    0.0s\n"
     ]
    },
    {
     "name": "stdout",
     "output_type": "stream",
     "text": [
      "[CV] END ............................... score: (test=-4.932) total time=   0.2s\n",
      "[CV] START .....................................................................\n"
     ]
    },
    {
     "name": "stderr",
     "output_type": "stream",
     "text": [
      "[Parallel(n_jobs=-1)]: Done   4 out of   4 | elapsed:    0.9s remaining:    0.0s\n"
     ]
    },
    {
     "name": "stdout",
     "output_type": "stream",
     "text": [
      "[CV] END ............................... score: (test=-6.840) total time=   0.2s\n",
      "[CV] START .....................................................................\n"
     ]
    },
    {
     "name": "stderr",
     "output_type": "stream",
     "text": [
      "[Parallel(n_jobs=-1)]: Done   5 out of   5 | elapsed:    1.2s remaining:    0.0s\n",
      "[Parallel(n_jobs=-1)]: Done   5 out of   5 | elapsed:    1.2s finished\n",
      "[Parallel(n_jobs=-1)]: Using backend SequentialBackend with 1 concurrent workers.\n"
     ]
    },
    {
     "name": "stdout",
     "output_type": "stream",
     "text": [
      "[CV] END ............................... score: (test=-9.718) total time=   0.2s\n",
      "[CV] START .....................................................................\n"
     ]
    },
    {
     "name": "stderr",
     "output_type": "stream",
     "text": [
      "[Parallel(n_jobs=-1)]: Done   1 out of   1 | elapsed:    0.2s remaining:    0.0s\n"
     ]
    },
    {
     "name": "stdout",
     "output_type": "stream",
     "text": [
      "[CV] END ............................... score: (test=-9.756) total time=   0.2s\n",
      "[CV] START .....................................................................\n"
     ]
    },
    {
     "name": "stderr",
     "output_type": "stream",
     "text": [
      "[Parallel(n_jobs=-1)]: Done   2 out of   2 | elapsed:    0.5s remaining:    0.0s\n"
     ]
    },
    {
     "name": "stdout",
     "output_type": "stream",
     "text": [
      "[CV] END .............................. score: (test=-10.282) total time=   0.2s\n",
      "[CV] START .....................................................................\n"
     ]
    },
    {
     "name": "stderr",
     "output_type": "stream",
     "text": [
      "[Parallel(n_jobs=-1)]: Done   3 out of   3 | elapsed:    0.7s remaining:    0.0s\n"
     ]
    },
    {
     "name": "stdout",
     "output_type": "stream",
     "text": [
      "[CV] END ............................... score: (test=-9.161) total time=   0.2s\n",
      "[CV] START .....................................................................\n"
     ]
    },
    {
     "name": "stderr",
     "output_type": "stream",
     "text": [
      "[Parallel(n_jobs=-1)]: Done   4 out of   4 | elapsed:    1.0s remaining:    0.0s\n"
     ]
    },
    {
     "name": "stdout",
     "output_type": "stream",
     "text": [
      "[CV] END .............................. score: (test=-12.014) total time=   0.2s\n",
      "[CV] START .....................................................................\n"
     ]
    },
    {
     "name": "stderr",
     "output_type": "stream",
     "text": [
      "[Parallel(n_jobs=-1)]: Done   5 out of   5 | elapsed:    1.2s remaining:    0.0s\n",
      "[Parallel(n_jobs=-1)]: Done   5 out of   5 | elapsed:    1.2s finished\n",
      "[Parallel(n_jobs=-1)]: Using backend SequentialBackend with 1 concurrent workers.\n"
     ]
    },
    {
     "name": "stdout",
     "output_type": "stream",
     "text": [
      "[CV] END .............................. score: (test=-11.388) total time=   0.3s\n",
      "[CV] START .....................................................................\n"
     ]
    },
    {
     "name": "stderr",
     "output_type": "stream",
     "text": [
      "[Parallel(n_jobs=-1)]: Done   1 out of   1 | elapsed:    0.3s remaining:    0.0s\n"
     ]
    },
    {
     "name": "stdout",
     "output_type": "stream",
     "text": [
      "[CV] END .............................. score: (test=-12.383) total time=   0.3s\n",
      "[CV] START .....................................................................\n"
     ]
    },
    {
     "name": "stderr",
     "output_type": "stream",
     "text": [
      "[Parallel(n_jobs=-1)]: Done   2 out of   2 | elapsed:    0.6s remaining:    0.0s\n"
     ]
    },
    {
     "name": "stdout",
     "output_type": "stream",
     "text": [
      "[CV] END ............................... score: (test=-5.661) total time=   0.3s\n",
      "[CV] START .....................................................................\n"
     ]
    },
    {
     "name": "stderr",
     "output_type": "stream",
     "text": [
      "[Parallel(n_jobs=-1)]: Done   3 out of   3 | elapsed:    0.9s remaining:    0.0s\n"
     ]
    },
    {
     "name": "stdout",
     "output_type": "stream",
     "text": [
      "[CV] END ............................... score: (test=-6.324) total time=   0.3s\n",
      "[CV] START .....................................................................\n"
     ]
    },
    {
     "name": "stderr",
     "output_type": "stream",
     "text": [
      "[Parallel(n_jobs=-1)]: Done   4 out of   4 | elapsed:    1.2s remaining:    0.0s\n"
     ]
    },
    {
     "name": "stdout",
     "output_type": "stream",
     "text": [
      "[CV] END ............................... score: (test=-7.019) total time=   0.3s\n",
      "[CV] START .....................................................................\n"
     ]
    },
    {
     "name": "stderr",
     "output_type": "stream",
     "text": [
      "[Parallel(n_jobs=-1)]: Done   5 out of   5 | elapsed:    1.6s remaining:    0.0s\n",
      "[Parallel(n_jobs=-1)]: Done   5 out of   5 | elapsed:    1.6s finished\n",
      "[Parallel(n_jobs=-1)]: Using backend SequentialBackend with 1 concurrent workers.\n"
     ]
    },
    {
     "name": "stdout",
     "output_type": "stream",
     "text": [
      "[CV] END .............................. score: (test=-11.917) total time=   0.3s\n",
      "[CV] START .....................................................................\n"
     ]
    },
    {
     "name": "stderr",
     "output_type": "stream",
     "text": [
      "[Parallel(n_jobs=-1)]: Done   1 out of   1 | elapsed:    0.3s remaining:    0.0s\n"
     ]
    },
    {
     "name": "stdout",
     "output_type": "stream",
     "text": [
      "[CV] END .............................. score: (test=-11.541) total time=   0.3s\n",
      "[CV] START .....................................................................\n"
     ]
    },
    {
     "name": "stderr",
     "output_type": "stream",
     "text": [
      "[Parallel(n_jobs=-1)]: Done   2 out of   2 | elapsed:    0.6s remaining:    0.0s\n"
     ]
    },
    {
     "name": "stdout",
     "output_type": "stream",
     "text": [
      "[CV] END .............................. score: (test=-13.751) total time=   0.3s\n",
      "[CV] START .....................................................................\n"
     ]
    },
    {
     "name": "stderr",
     "output_type": "stream",
     "text": [
      "[Parallel(n_jobs=-1)]: Done   3 out of   3 | elapsed:    1.0s remaining:    0.0s\n"
     ]
    },
    {
     "name": "stdout",
     "output_type": "stream",
     "text": [
      "[CV] END ............................... score: (test=-9.658) total time=   0.3s\n",
      "[CV] START .....................................................................\n"
     ]
    },
    {
     "name": "stderr",
     "output_type": "stream",
     "text": [
      "[Parallel(n_jobs=-1)]: Done   4 out of   4 | elapsed:    1.3s remaining:    0.0s\n"
     ]
    },
    {
     "name": "stdout",
     "output_type": "stream",
     "text": [
      "[CV] END .............................. score: (test=-15.058) total time=   0.3s\n",
      "[CV] START .....................................................................\n"
     ]
    },
    {
     "name": "stderr",
     "output_type": "stream",
     "text": [
      "[Parallel(n_jobs=-1)]: Done   5 out of   5 | elapsed:    1.6s remaining:    0.0s\n",
      "[Parallel(n_jobs=-1)]: Done   5 out of   5 | elapsed:    1.6s finished\n",
      "[Parallel(n_jobs=-1)]: Using backend SequentialBackend with 1 concurrent workers.\n"
     ]
    },
    {
     "name": "stdout",
     "output_type": "stream",
     "text": [
      "[CV] END .............................. score: (test=-11.087) total time=   0.4s\n",
      "[CV] START .....................................................................\n"
     ]
    },
    {
     "name": "stderr",
     "output_type": "stream",
     "text": [
      "[Parallel(n_jobs=-1)]: Done   1 out of   1 | elapsed:    0.4s remaining:    0.0s\n"
     ]
    },
    {
     "name": "stdout",
     "output_type": "stream",
     "text": [
      "[CV] END .............................. score: (test=-10.234) total time=   0.4s\n",
      "[CV] START .....................................................................\n"
     ]
    },
    {
     "name": "stderr",
     "output_type": "stream",
     "text": [
      "[Parallel(n_jobs=-1)]: Done   2 out of   2 | elapsed:    0.8s remaining:    0.0s\n"
     ]
    },
    {
     "name": "stdout",
     "output_type": "stream",
     "text": [
      "[CV] END ............................... score: (test=-6.456) total time=   0.4s\n",
      "[CV] START .....................................................................\n"
     ]
    },
    {
     "name": "stderr",
     "output_type": "stream",
     "text": [
      "[Parallel(n_jobs=-1)]: Done   3 out of   3 | elapsed:    1.2s remaining:    0.0s\n"
     ]
    },
    {
     "name": "stdout",
     "output_type": "stream",
     "text": [
      "[CV] END ............................... score: (test=-6.572) total time=   0.4s\n",
      "[CV] START .....................................................................\n"
     ]
    },
    {
     "name": "stderr",
     "output_type": "stream",
     "text": [
      "[Parallel(n_jobs=-1)]: Done   4 out of   4 | elapsed:    1.5s remaining:    0.0s\n"
     ]
    },
    {
     "name": "stdout",
     "output_type": "stream",
     "text": [
      "[CV] END ............................... score: (test=-6.656) total time=   0.4s\n",
      "[CV] START .....................................................................\n"
     ]
    },
    {
     "name": "stderr",
     "output_type": "stream",
     "text": [
      "[Parallel(n_jobs=-1)]: Done   5 out of   5 | elapsed:    1.9s remaining:    0.0s\n",
      "[Parallel(n_jobs=-1)]: Done   5 out of   5 | elapsed:    1.9s finished\n",
      "[Parallel(n_jobs=-1)]: Using backend SequentialBackend with 1 concurrent workers.\n"
     ]
    },
    {
     "name": "stdout",
     "output_type": "stream",
     "text": [
      "[CV] END .............................. score: (test=-12.444) total time=   0.4s\n",
      "[CV] START .....................................................................\n"
     ]
    },
    {
     "name": "stderr",
     "output_type": "stream",
     "text": [
      "[Parallel(n_jobs=-1)]: Done   1 out of   1 | elapsed:    0.4s remaining:    0.0s\n"
     ]
    },
    {
     "name": "stdout",
     "output_type": "stream",
     "text": [
      "[CV] END .............................. score: (test=-13.128) total time=   0.4s\n",
      "[CV] START .....................................................................\n"
     ]
    },
    {
     "name": "stderr",
     "output_type": "stream",
     "text": [
      "[Parallel(n_jobs=-1)]: Done   2 out of   2 | elapsed:    0.8s remaining:    0.0s\n"
     ]
    },
    {
     "name": "stdout",
     "output_type": "stream",
     "text": [
      "[CV] END .............................. score: (test=-13.714) total time=   0.4s\n",
      "[CV] START .....................................................................\n"
     ]
    },
    {
     "name": "stderr",
     "output_type": "stream",
     "text": [
      "[Parallel(n_jobs=-1)]: Done   3 out of   3 | elapsed:    1.2s remaining:    0.0s\n"
     ]
    },
    {
     "name": "stdout",
     "output_type": "stream",
     "text": [
      "[CV] END .............................. score: (test=-10.413) total time=   0.4s\n",
      "[CV] START .....................................................................\n"
     ]
    },
    {
     "name": "stderr",
     "output_type": "stream",
     "text": [
      "[Parallel(n_jobs=-1)]: Done   4 out of   4 | elapsed:    1.6s remaining:    0.0s\n"
     ]
    },
    {
     "name": "stdout",
     "output_type": "stream",
     "text": [
      "[CV] END .............................. score: (test=-16.609) total time=   0.4s\n",
      "[CV] START .....................................................................\n"
     ]
    },
    {
     "name": "stderr",
     "output_type": "stream",
     "text": [
      "[Parallel(n_jobs=-1)]: Done   5 out of   5 | elapsed:    2.0s remaining:    0.0s\n",
      "[Parallel(n_jobs=-1)]: Done   5 out of   5 | elapsed:    2.0s finished\n",
      "[Parallel(n_jobs=-1)]: Using backend SequentialBackend with 1 concurrent workers.\n"
     ]
    },
    {
     "name": "stdout",
     "output_type": "stream",
     "text": [
      "[CV] END .............................. score: (test=-11.492) total time=   0.4s\n",
      "[CV] START .....................................................................\n"
     ]
    },
    {
     "name": "stderr",
     "output_type": "stream",
     "text": [
      "[Parallel(n_jobs=-1)]: Done   1 out of   1 | elapsed:    0.4s remaining:    0.0s\n"
     ]
    },
    {
     "name": "stdout",
     "output_type": "stream",
     "text": [
      "[CV] END .............................. score: (test=-13.805) total time=   0.4s\n",
      "[CV] START .....................................................................\n"
     ]
    },
    {
     "name": "stderr",
     "output_type": "stream",
     "text": [
      "[Parallel(n_jobs=-1)]: Done   2 out of   2 | elapsed:    0.9s remaining:    0.0s\n"
     ]
    },
    {
     "name": "stdout",
     "output_type": "stream",
     "text": [
      "[CV] END ............................... score: (test=-7.568) total time=   0.4s\n",
      "[CV] START .....................................................................\n"
     ]
    },
    {
     "name": "stderr",
     "output_type": "stream",
     "text": [
      "[Parallel(n_jobs=-1)]: Done   3 out of   3 | elapsed:    1.3s remaining:    0.0s\n"
     ]
    },
    {
     "name": "stdout",
     "output_type": "stream",
     "text": [
      "[CV] END ............................... score: (test=-7.037) total time=   0.5s\n",
      "[CV] START .....................................................................\n"
     ]
    },
    {
     "name": "stderr",
     "output_type": "stream",
     "text": [
      "[Parallel(n_jobs=-1)]: Done   4 out of   4 | elapsed:    1.8s remaining:    0.0s\n"
     ]
    },
    {
     "name": "stdout",
     "output_type": "stream",
     "text": [
      "[CV] END ............................... score: (test=-6.871) total time=   0.5s\n",
      "[CV] START .....................................................................\n"
     ]
    },
    {
     "name": "stderr",
     "output_type": "stream",
     "text": [
      "[Parallel(n_jobs=-1)]: Done   5 out of   5 | elapsed:    2.3s remaining:    0.0s\n",
      "[Parallel(n_jobs=-1)]: Done   5 out of   5 | elapsed:    2.3s finished\n",
      "[Parallel(n_jobs=-1)]: Using backend SequentialBackend with 1 concurrent workers.\n"
     ]
    },
    {
     "name": "stdout",
     "output_type": "stream",
     "text": [
      "[CV] END .............................. score: (test=-13.004) total time=   0.5s\n",
      "[CV] START .....................................................................\n"
     ]
    },
    {
     "name": "stderr",
     "output_type": "stream",
     "text": [
      "[Parallel(n_jobs=-1)]: Done   1 out of   1 | elapsed:    0.5s remaining:    0.0s\n"
     ]
    },
    {
     "name": "stdout",
     "output_type": "stream",
     "text": [
      "[CV] END .............................. score: (test=-14.682) total time=   0.5s\n",
      "[CV] START .....................................................................\n"
     ]
    },
    {
     "name": "stderr",
     "output_type": "stream",
     "text": [
      "[Parallel(n_jobs=-1)]: Done   2 out of   2 | elapsed:    0.9s remaining:    0.0s\n"
     ]
    },
    {
     "name": "stdout",
     "output_type": "stream",
     "text": [
      "[CV] END .............................. score: (test=-18.746) total time=   0.4s\n",
      "[CV] START .....................................................................\n"
     ]
    },
    {
     "name": "stderr",
     "output_type": "stream",
     "text": [
      "[Parallel(n_jobs=-1)]: Done   3 out of   3 | elapsed:    1.4s remaining:    0.0s\n"
     ]
    },
    {
     "name": "stdout",
     "output_type": "stream",
     "text": [
      "[CV] END .............................. score: (test=-11.314) total time=   0.5s\n",
      "[CV] START .....................................................................\n"
     ]
    },
    {
     "name": "stderr",
     "output_type": "stream",
     "text": [
      "[Parallel(n_jobs=-1)]: Done   4 out of   4 | elapsed:    1.8s remaining:    0.0s\n"
     ]
    },
    {
     "name": "stdout",
     "output_type": "stream",
     "text": [
      "[CV] END .............................. score: (test=-18.645) total time=   0.5s\n",
      "[CV] START .....................................................................\n"
     ]
    },
    {
     "name": "stderr",
     "output_type": "stream",
     "text": [
      "[Parallel(n_jobs=-1)]: Done   5 out of   5 | elapsed:    2.3s remaining:    0.0s\n",
      "[Parallel(n_jobs=-1)]: Done   5 out of   5 | elapsed:    2.3s finished\n",
      "[Parallel(n_jobs=-1)]: Using backend SequentialBackend with 1 concurrent workers.\n"
     ]
    },
    {
     "name": "stdout",
     "output_type": "stream",
     "text": [
      "[CV] END .............................. score: (test=-11.154) total time=   0.5s\n",
      "[CV] START .....................................................................\n"
     ]
    },
    {
     "name": "stderr",
     "output_type": "stream",
     "text": [
      "[Parallel(n_jobs=-1)]: Done   1 out of   1 | elapsed:    0.5s remaining:    0.0s\n"
     ]
    },
    {
     "name": "stdout",
     "output_type": "stream",
     "text": [
      "[CV] END .............................. score: (test=-12.255) total time=   0.5s\n",
      "[CV] START .....................................................................\n"
     ]
    },
    {
     "name": "stderr",
     "output_type": "stream",
     "text": [
      "[Parallel(n_jobs=-1)]: Done   2 out of   2 | elapsed:    1.0s remaining:    0.0s\n"
     ]
    },
    {
     "name": "stdout",
     "output_type": "stream",
     "text": [
      "[CV] END ............................... score: (test=-6.632) total time=   0.5s\n",
      "[CV] START .....................................................................\n"
     ]
    },
    {
     "name": "stderr",
     "output_type": "stream",
     "text": [
      "[Parallel(n_jobs=-1)]: Done   3 out of   3 | elapsed:    1.5s remaining:    0.0s\n"
     ]
    },
    {
     "name": "stdout",
     "output_type": "stream",
     "text": [
      "[CV] END ............................... score: (test=-7.863) total time=   0.5s\n",
      "[CV] START .....................................................................\n"
     ]
    },
    {
     "name": "stderr",
     "output_type": "stream",
     "text": [
      "[Parallel(n_jobs=-1)]: Done   4 out of   4 | elapsed:    2.0s remaining:    0.0s\n"
     ]
    },
    {
     "name": "stdout",
     "output_type": "stream",
     "text": [
      "[CV] END ............................... score: (test=-7.055) total time=   0.5s\n",
      "[CV] START .....................................................................\n"
     ]
    },
    {
     "name": "stderr",
     "output_type": "stream",
     "text": [
      "[Parallel(n_jobs=-1)]: Done   5 out of   5 | elapsed:    2.5s remaining:    0.0s\n",
      "[Parallel(n_jobs=-1)]: Done   5 out of   5 | elapsed:    2.5s finished\n",
      "[Parallel(n_jobs=-1)]: Using backend SequentialBackend with 1 concurrent workers.\n"
     ]
    },
    {
     "name": "stdout",
     "output_type": "stream",
     "text": [
      "[CV] END .............................. score: (test=-14.582) total time=   0.5s\n",
      "[CV] START .....................................................................\n"
     ]
    },
    {
     "name": "stderr",
     "output_type": "stream",
     "text": [
      "[Parallel(n_jobs=-1)]: Done   1 out of   1 | elapsed:    0.5s remaining:    0.0s\n"
     ]
    },
    {
     "name": "stdout",
     "output_type": "stream",
     "text": [
      "[CV] END .............................. score: (test=-12.873) total time=   0.5s\n",
      "[CV] START .....................................................................\n"
     ]
    },
    {
     "name": "stderr",
     "output_type": "stream",
     "text": [
      "[Parallel(n_jobs=-1)]: Done   2 out of   2 | elapsed:    1.1s remaining:    0.0s\n"
     ]
    },
    {
     "name": "stdout",
     "output_type": "stream",
     "text": [
      "[CV] END .............................. score: (test=-21.154) total time=   0.6s\n",
      "[CV] START .....................................................................\n"
     ]
    },
    {
     "name": "stderr",
     "output_type": "stream",
     "text": [
      "[Parallel(n_jobs=-1)]: Done   3 out of   3 | elapsed:    1.7s remaining:    0.0s\n"
     ]
    },
    {
     "name": "stdout",
     "output_type": "stream",
     "text": [
      "[CV] END .............................. score: (test=-11.045) total time=   0.6s\n",
      "[CV] START .....................................................................\n"
     ]
    },
    {
     "name": "stderr",
     "output_type": "stream",
     "text": [
      "[Parallel(n_jobs=-1)]: Done   4 out of   4 | elapsed:    2.2s remaining:    0.0s\n"
     ]
    },
    {
     "name": "stdout",
     "output_type": "stream",
     "text": [
      "[CV] END .............................. score: (test=-18.321) total time=   0.5s\n",
      "[CV] START .....................................................................\n"
     ]
    },
    {
     "name": "stderr",
     "output_type": "stream",
     "text": [
      "[Parallel(n_jobs=-1)]: Done   5 out of   5 | elapsed:    2.8s remaining:    0.0s\n",
      "[Parallel(n_jobs=-1)]: Done   5 out of   5 | elapsed:    2.8s finished\n",
      "[Parallel(n_jobs=-1)]: Using backend SequentialBackend with 1 concurrent workers.\n"
     ]
    },
    {
     "name": "stdout",
     "output_type": "stream",
     "text": [
      "[CV] END .............................. score: (test=-13.069) total time=   0.6s\n",
      "[CV] START .....................................................................\n"
     ]
    },
    {
     "name": "stderr",
     "output_type": "stream",
     "text": [
      "[Parallel(n_jobs=-1)]: Done   1 out of   1 | elapsed:    0.6s remaining:    0.0s\n"
     ]
    },
    {
     "name": "stdout",
     "output_type": "stream",
     "text": [
      "[CV] END .............................. score: (test=-12.551) total time=   0.7s\n",
      "[CV] START .....................................................................\n"
     ]
    },
    {
     "name": "stderr",
     "output_type": "stream",
     "text": [
      "[Parallel(n_jobs=-1)]: Done   2 out of   2 | elapsed:    1.3s remaining:    0.0s\n"
     ]
    },
    {
     "name": "stdout",
     "output_type": "stream",
     "text": [
      "[CV] END ............................... score: (test=-6.671) total time=   0.6s\n",
      "[CV] START .....................................................................\n"
     ]
    },
    {
     "name": "stderr",
     "output_type": "stream",
     "text": [
      "[Parallel(n_jobs=-1)]: Done   3 out of   3 | elapsed:    1.9s remaining:    0.0s\n"
     ]
    },
    {
     "name": "stdout",
     "output_type": "stream",
     "text": [
      "[CV] END ............................... score: (test=-6.967) total time=   0.6s\n",
      "[CV] START .....................................................................\n"
     ]
    },
    {
     "name": "stderr",
     "output_type": "stream",
     "text": [
      "[Parallel(n_jobs=-1)]: Done   4 out of   4 | elapsed:    2.6s remaining:    0.0s\n"
     ]
    },
    {
     "name": "stdout",
     "output_type": "stream",
     "text": [
      "[CV] END ............................... score: (test=-7.406) total time=   0.6s\n",
      "[CV] START .....................................................................\n"
     ]
    },
    {
     "name": "stderr",
     "output_type": "stream",
     "text": [
      "[Parallel(n_jobs=-1)]: Done   5 out of   5 | elapsed:    3.2s remaining:    0.0s\n",
      "[Parallel(n_jobs=-1)]: Done   5 out of   5 | elapsed:    3.2s finished\n",
      "[Parallel(n_jobs=-1)]: Using backend SequentialBackend with 1 concurrent workers.\n"
     ]
    },
    {
     "name": "stdout",
     "output_type": "stream",
     "text": [
      "[CV] END .............................. score: (test=-16.002) total time=   0.7s\n",
      "[CV] START .....................................................................\n"
     ]
    },
    {
     "name": "stderr",
     "output_type": "stream",
     "text": [
      "[Parallel(n_jobs=-1)]: Done   1 out of   1 | elapsed:    0.7s remaining:    0.0s\n"
     ]
    },
    {
     "name": "stdout",
     "output_type": "stream",
     "text": [
      "[CV] END .............................. score: (test=-13.159) total time=   0.6s\n",
      "[CV] START .....................................................................\n"
     ]
    },
    {
     "name": "stderr",
     "output_type": "stream",
     "text": [
      "[Parallel(n_jobs=-1)]: Done   2 out of   2 | elapsed:    1.3s remaining:    0.0s\n"
     ]
    },
    {
     "name": "stdout",
     "output_type": "stream",
     "text": [
      "[CV] END .............................. score: (test=-20.408) total time=   0.6s\n",
      "[CV] START .....................................................................\n"
     ]
    },
    {
     "name": "stderr",
     "output_type": "stream",
     "text": [
      "[Parallel(n_jobs=-1)]: Done   3 out of   3 | elapsed:    1.8s remaining:    0.0s\n"
     ]
    },
    {
     "name": "stdout",
     "output_type": "stream",
     "text": [
      "[CV] END .............................. score: (test=-12.789) total time=   0.6s\n",
      "[CV] START .....................................................................\n"
     ]
    },
    {
     "name": "stderr",
     "output_type": "stream",
     "text": [
      "[Parallel(n_jobs=-1)]: Done   4 out of   4 | elapsed:    2.4s remaining:    0.0s\n"
     ]
    },
    {
     "name": "stdout",
     "output_type": "stream",
     "text": [
      "[CV] END .............................. score: (test=-19.938) total time=   0.6s\n",
      "[CV] START .....................................................................\n"
     ]
    },
    {
     "name": "stderr",
     "output_type": "stream",
     "text": [
      "[Parallel(n_jobs=-1)]: Done   5 out of   5 | elapsed:    3.0s remaining:    0.0s\n",
      "[Parallel(n_jobs=-1)]: Done   5 out of   5 | elapsed:    3.0s finished\n",
      "[Parallel(n_jobs=-1)]: Using backend SequentialBackend with 1 concurrent workers.\n"
     ]
    },
    {
     "name": "stdout",
     "output_type": "stream",
     "text": [
      "[CV] END .............................. score: (test=-11.595) total time=   0.6s\n",
      "[CV] START .....................................................................\n"
     ]
    },
    {
     "name": "stderr",
     "output_type": "stream",
     "text": [
      "[Parallel(n_jobs=-1)]: Done   1 out of   1 | elapsed:    0.6s remaining:    0.0s\n"
     ]
    },
    {
     "name": "stdout",
     "output_type": "stream",
     "text": [
      "[CV] END .............................. score: (test=-12.083) total time=   0.6s\n",
      "[CV] START .....................................................................\n"
     ]
    },
    {
     "name": "stderr",
     "output_type": "stream",
     "text": [
      "[Parallel(n_jobs=-1)]: Done   2 out of   2 | elapsed:    1.2s remaining:    0.0s\n"
     ]
    },
    {
     "name": "stdout",
     "output_type": "stream",
     "text": [
      "[CV] END ............................... score: (test=-6.702) total time=   0.6s\n",
      "[CV] START .....................................................................\n"
     ]
    },
    {
     "name": "stderr",
     "output_type": "stream",
     "text": [
      "[Parallel(n_jobs=-1)]: Done   3 out of   3 | elapsed:    1.8s remaining:    0.0s\n"
     ]
    },
    {
     "name": "stdout",
     "output_type": "stream",
     "text": [
      "[CV] END ............................... score: (test=-8.480) total time=   0.6s\n",
      "[CV] START .....................................................................\n"
     ]
    },
    {
     "name": "stderr",
     "output_type": "stream",
     "text": [
      "[Parallel(n_jobs=-1)]: Done   4 out of   4 | elapsed:    2.4s remaining:    0.0s\n"
     ]
    },
    {
     "name": "stdout",
     "output_type": "stream",
     "text": [
      "[CV] END ............................... score: (test=-7.629) total time=   0.6s\n",
      "[CV] START .....................................................................\n"
     ]
    },
    {
     "name": "stderr",
     "output_type": "stream",
     "text": [
      "[Parallel(n_jobs=-1)]: Done   5 out of   5 | elapsed:    3.0s remaining:    0.0s\n",
      "[Parallel(n_jobs=-1)]: Done   5 out of   5 | elapsed:    3.0s finished\n",
      "[Parallel(n_jobs=-1)]: Using backend SequentialBackend with 1 concurrent workers.\n"
     ]
    },
    {
     "name": "stdout",
     "output_type": "stream",
     "text": [
      "[CV] END .............................. score: (test=-17.663) total time=   0.6s\n",
      "[CV] START .....................................................................\n"
     ]
    },
    {
     "name": "stderr",
     "output_type": "stream",
     "text": [
      "[Parallel(n_jobs=-1)]: Done   1 out of   1 | elapsed:    0.6s remaining:    0.0s\n"
     ]
    },
    {
     "name": "stdout",
     "output_type": "stream",
     "text": [
      "[CV] END .............................. score: (test=-15.335) total time=   0.6s\n",
      "[CV] START .....................................................................\n"
     ]
    },
    {
     "name": "stderr",
     "output_type": "stream",
     "text": [
      "[Parallel(n_jobs=-1)]: Done   2 out of   2 | elapsed:    1.2s remaining:    0.0s\n"
     ]
    },
    {
     "name": "stdout",
     "output_type": "stream",
     "text": [
      "[CV] END .............................. score: (test=-23.279) total time=   0.6s\n",
      "[CV] START .....................................................................\n"
     ]
    },
    {
     "name": "stderr",
     "output_type": "stream",
     "text": [
      "[Parallel(n_jobs=-1)]: Done   3 out of   3 | elapsed:    1.8s remaining:    0.0s\n"
     ]
    },
    {
     "name": "stdout",
     "output_type": "stream",
     "text": [
      "[CV] END .............................. score: (test=-12.498) total time=   0.6s\n",
      "[CV] START .....................................................................\n"
     ]
    },
    {
     "name": "stderr",
     "output_type": "stream",
     "text": [
      "[Parallel(n_jobs=-1)]: Done   4 out of   4 | elapsed:    2.4s remaining:    0.0s\n"
     ]
    },
    {
     "name": "stdout",
     "output_type": "stream",
     "text": [
      "[CV] END .............................. score: (test=-19.405) total time=   0.6s\n",
      "[CV] START .....................................................................\n"
     ]
    },
    {
     "name": "stderr",
     "output_type": "stream",
     "text": [
      "[Parallel(n_jobs=-1)]: Done   5 out of   5 | elapsed:    3.1s remaining:    0.0s\n",
      "[Parallel(n_jobs=-1)]: Done   5 out of   5 | elapsed:    3.1s finished\n",
      "[Parallel(n_jobs=-1)]: Using backend SequentialBackend with 1 concurrent workers.\n"
     ]
    },
    {
     "name": "stdout",
     "output_type": "stream",
     "text": [
      "[CV] END .............................. score: (test=-12.036) total time=   0.6s\n",
      "[CV] START .....................................................................\n"
     ]
    },
    {
     "name": "stderr",
     "output_type": "stream",
     "text": [
      "[Parallel(n_jobs=-1)]: Done   1 out of   1 | elapsed:    0.6s remaining:    0.0s\n"
     ]
    },
    {
     "name": "stdout",
     "output_type": "stream",
     "text": [
      "[CV] END .............................. score: (test=-12.133) total time=   0.6s\n",
      "[CV] START .....................................................................\n"
     ]
    },
    {
     "name": "stderr",
     "output_type": "stream",
     "text": [
      "[Parallel(n_jobs=-1)]: Done   2 out of   2 | elapsed:    1.2s remaining:    0.0s\n"
     ]
    },
    {
     "name": "stdout",
     "output_type": "stream",
     "text": [
      "[CV] END ............................... score: (test=-6.906) total time=   0.6s\n",
      "[CV] START .....................................................................\n"
     ]
    },
    {
     "name": "stderr",
     "output_type": "stream",
     "text": [
      "[Parallel(n_jobs=-1)]: Done   3 out of   3 | elapsed:    1.8s remaining:    0.0s\n"
     ]
    },
    {
     "name": "stdout",
     "output_type": "stream",
     "text": [
      "[CV] END ............................... score: (test=-8.348) total time=   0.6s\n",
      "[CV] START .....................................................................\n"
     ]
    },
    {
     "name": "stderr",
     "output_type": "stream",
     "text": [
      "[Parallel(n_jobs=-1)]: Done   4 out of   4 | elapsed:    2.4s remaining:    0.0s\n"
     ]
    },
    {
     "name": "stdout",
     "output_type": "stream",
     "text": [
      "[CV] END ............................... score: (test=-8.153) total time=   0.7s\n",
      "[CV] START .....................................................................\n"
     ]
    },
    {
     "name": "stderr",
     "output_type": "stream",
     "text": [
      "[Parallel(n_jobs=-1)]: Done   5 out of   5 | elapsed:    3.1s remaining:    0.0s\n",
      "[Parallel(n_jobs=-1)]: Done   5 out of   5 | elapsed:    3.1s finished\n",
      "[Parallel(n_jobs=-1)]: Using backend SequentialBackend with 1 concurrent workers.\n"
     ]
    },
    {
     "name": "stdout",
     "output_type": "stream",
     "text": [
      "[CV] END .............................. score: (test=-16.864) total time=   0.7s\n",
      "[CV] START .....................................................................\n"
     ]
    },
    {
     "name": "stderr",
     "output_type": "stream",
     "text": [
      "[Parallel(n_jobs=-1)]: Done   1 out of   1 | elapsed:    0.7s remaining:    0.0s\n"
     ]
    },
    {
     "name": "stdout",
     "output_type": "stream",
     "text": [
      "[CV] END .............................. score: (test=-16.302) total time=   0.7s\n",
      "[CV] START .....................................................................\n"
     ]
    },
    {
     "name": "stderr",
     "output_type": "stream",
     "text": [
      "[Parallel(n_jobs=-1)]: Done   2 out of   2 | elapsed:    1.4s remaining:    0.0s\n"
     ]
    },
    {
     "name": "stdout",
     "output_type": "stream",
     "text": [
      "[CV] END .............................. score: (test=-21.013) total time=   0.7s\n",
      "[CV] START .....................................................................\n"
     ]
    },
    {
     "name": "stderr",
     "output_type": "stream",
     "text": [
      "[Parallel(n_jobs=-1)]: Done   3 out of   3 | elapsed:    2.1s remaining:    0.0s\n"
     ]
    },
    {
     "name": "stdout",
     "output_type": "stream",
     "text": [
      "[CV] END .............................. score: (test=-12.354) total time=   0.7s\n",
      "[CV] START .....................................................................\n"
     ]
    },
    {
     "name": "stderr",
     "output_type": "stream",
     "text": [
      "[Parallel(n_jobs=-1)]: Done   4 out of   4 | elapsed:    2.8s remaining:    0.0s\n"
     ]
    },
    {
     "name": "stdout",
     "output_type": "stream",
     "text": [
      "[CV] END .............................. score: (test=-19.280) total time=   0.7s\n",
      "Лучшее значение sMAPE дерева решений равно 9.07 при максимальной глубине равной 3\n"
     ]
    },
    {
     "name": "stderr",
     "output_type": "stream",
     "text": [
      "[Parallel(n_jobs=-1)]: Done   5 out of   5 | elapsed:    3.5s remaining:    0.0s\n",
      "[Parallel(n_jobs=-1)]: Done   5 out of   5 | elapsed:    3.5s finished\n"
     ]
    }
   ],
   "source": [
    "best_smape_dt = 100 # ставим максимально возможное значение\n",
    "best_depth_dt = 0\n",
    "\n",
    "for depth in range(1, 20, 2):\n",
    "    model_dt_rougher = DecisionTreeRegressor(max_depth = depth, random_state = 12345)\n",
    "    smape_rougher = cross_val_score(model_dt_rougher, features_train, rougher_target_train, n_jobs=-1, verbose=10,\n",
    "                                    scoring = make_scorer(calculate_smape, greater_is_better = False), cv = 5)\n",
    "    total_smape_rougher = smape_rougher.mean()\n",
    "\n",
    "    model_dt_final = DecisionTreeRegressor(max_depth = depth, random_state = 12345)\n",
    "    smape_final = cross_val_score(model_dt_final, features_train, final_target_train, n_jobs=-1, verbose=10,\n",
    "                                  scoring = make_scorer(calculate_smape, greater_is_better = False), cv = 5)\n",
    "    final_smape_final = smape_final.mean()\n",
    "    \n",
    "    \n",
    "    result_smape = calculate_result_smape(total_smape_rougher, final_smape_final)*(-1)\n",
    "    \n",
    "    if result_smape < best_smape_dt:\n",
    "        best_smape_dt = result_smape\n",
    "        best_depth_dt = depth\n",
    "        \n",
    "print('Лучшее значение sMAPE дерева решений равно', round(best_smape_dt, 2), 'при максимальной глубине равной', best_depth_dt)"
   ]
  },
  {
   "cell_type": "code",
   "execution_count": 36,
   "metadata": {},
   "outputs": [
    {
     "name": "stdout",
     "output_type": "stream",
     "text": [
      "[CV] START .....................................................................\n"
     ]
    },
    {
     "name": "stderr",
     "output_type": "stream",
     "text": [
      "[Parallel(n_jobs=-1)]: Using backend SequentialBackend with 1 concurrent workers.\n"
     ]
    },
    {
     "name": "stdout",
     "output_type": "stream",
     "text": [
      "[CV] END .............................. score: (test=-10.322) total time=   0.3s\n",
      "[CV] START .....................................................................\n"
     ]
    },
    {
     "name": "stderr",
     "output_type": "stream",
     "text": [
      "[Parallel(n_jobs=-1)]: Done   1 out of   1 | elapsed:    0.3s remaining:    0.0s\n"
     ]
    },
    {
     "name": "stdout",
     "output_type": "stream",
     "text": [
      "[CV] END ............................... score: (test=-7.163) total time=   0.3s\n",
      "[CV] START .....................................................................\n"
     ]
    },
    {
     "name": "stderr",
     "output_type": "stream",
     "text": [
      "[Parallel(n_jobs=-1)]: Done   2 out of   2 | elapsed:    0.7s remaining:    0.0s\n"
     ]
    },
    {
     "name": "stdout",
     "output_type": "stream",
     "text": [
      "[CV] END ............................... score: (test=-5.076) total time=   0.3s\n",
      "[CV] START .....................................................................\n"
     ]
    },
    {
     "name": "stderr",
     "output_type": "stream",
     "text": [
      "[Parallel(n_jobs=-1)]: Done   3 out of   3 | elapsed:    1.0s remaining:    0.0s\n"
     ]
    },
    {
     "name": "stdout",
     "output_type": "stream",
     "text": [
      "[CV] END ............................... score: (test=-7.043) total time=   0.3s\n",
      "[CV] START .....................................................................\n"
     ]
    },
    {
     "name": "stderr",
     "output_type": "stream",
     "text": [
      "[Parallel(n_jobs=-1)]: Done   4 out of   4 | elapsed:    1.4s remaining:    0.0s\n"
     ]
    },
    {
     "name": "stdout",
     "output_type": "stream",
     "text": [
      "[CV] END ............................... score: (test=-8.742) total time=   0.3s\n",
      "[CV] START .....................................................................\n"
     ]
    },
    {
     "name": "stderr",
     "output_type": "stream",
     "text": [
      "[Parallel(n_jobs=-1)]: Done   5 out of   5 | elapsed:    1.7s remaining:    0.0s\n",
      "[Parallel(n_jobs=-1)]: Done   5 out of   5 | elapsed:    1.7s finished\n",
      "[Parallel(n_jobs=-1)]: Using backend SequentialBackend with 1 concurrent workers.\n"
     ]
    },
    {
     "name": "stdout",
     "output_type": "stream",
     "text": [
      "[CV] END ............................... score: (test=-9.619) total time=   0.3s\n",
      "[CV] START .....................................................................\n"
     ]
    },
    {
     "name": "stderr",
     "output_type": "stream",
     "text": [
      "[Parallel(n_jobs=-1)]: Done   1 out of   1 | elapsed:    0.3s remaining:    0.0s\n"
     ]
    },
    {
     "name": "stdout",
     "output_type": "stream",
     "text": [
      "[CV] END ............................... score: (test=-8.052) total time=   0.3s\n",
      "[CV] START .....................................................................\n"
     ]
    },
    {
     "name": "stderr",
     "output_type": "stream",
     "text": [
      "[Parallel(n_jobs=-1)]: Done   2 out of   2 | elapsed:    0.7s remaining:    0.0s\n"
     ]
    },
    {
     "name": "stdout",
     "output_type": "stream",
     "text": [
      "[CV] END ............................... score: (test=-9.667) total time=   0.3s\n",
      "[CV] START .....................................................................\n"
     ]
    },
    {
     "name": "stderr",
     "output_type": "stream",
     "text": [
      "[Parallel(n_jobs=-1)]: Done   3 out of   3 | elapsed:    1.0s remaining:    0.0s\n"
     ]
    },
    {
     "name": "stdout",
     "output_type": "stream",
     "text": [
      "[CV] END .............................. score: (test=-10.424) total time=   0.3s\n",
      "[CV] START .....................................................................\n"
     ]
    },
    {
     "name": "stderr",
     "output_type": "stream",
     "text": [
      "[Parallel(n_jobs=-1)]: Done   4 out of   4 | elapsed:    1.4s remaining:    0.0s\n"
     ]
    },
    {
     "name": "stdout",
     "output_type": "stream",
     "text": [
      "[CV] END .............................. score: (test=-11.403) total time=   0.3s\n",
      "[CV] START .....................................................................\n"
     ]
    },
    {
     "name": "stderr",
     "output_type": "stream",
     "text": [
      "[Parallel(n_jobs=-1)]: Done   5 out of   5 | elapsed:    1.7s remaining:    0.0s\n",
      "[Parallel(n_jobs=-1)]: Done   5 out of   5 | elapsed:    1.7s finished\n",
      "[Parallel(n_jobs=-1)]: Using backend SequentialBackend with 1 concurrent workers.\n"
     ]
    },
    {
     "name": "stdout",
     "output_type": "stream",
     "text": [
      "[CV] END ............................... score: (test=-9.169) total time=   0.9s\n",
      "[CV] START .....................................................................\n"
     ]
    },
    {
     "name": "stderr",
     "output_type": "stream",
     "text": [
      "[Parallel(n_jobs=-1)]: Done   1 out of   1 | elapsed:    0.9s remaining:    0.0s\n"
     ]
    },
    {
     "name": "stdout",
     "output_type": "stream",
     "text": [
      "[CV] END ............................... score: (test=-6.419) total time=   0.9s\n",
      "[CV] START .....................................................................\n"
     ]
    },
    {
     "name": "stderr",
     "output_type": "stream",
     "text": [
      "[Parallel(n_jobs=-1)]: Done   2 out of   2 | elapsed:    1.8s remaining:    0.0s\n"
     ]
    },
    {
     "name": "stdout",
     "output_type": "stream",
     "text": [
      "[CV] END ............................... score: (test=-5.105) total time=   0.9s\n",
      "[CV] START .....................................................................\n"
     ]
    },
    {
     "name": "stderr",
     "output_type": "stream",
     "text": [
      "[Parallel(n_jobs=-1)]: Done   3 out of   3 | elapsed:    2.7s remaining:    0.0s\n"
     ]
    },
    {
     "name": "stdout",
     "output_type": "stream",
     "text": [
      "[CV] END ............................... score: (test=-5.543) total time=   0.9s\n",
      "[CV] START .....................................................................\n"
     ]
    },
    {
     "name": "stderr",
     "output_type": "stream",
     "text": [
      "[Parallel(n_jobs=-1)]: Done   4 out of   4 | elapsed:    3.6s remaining:    0.0s\n"
     ]
    },
    {
     "name": "stdout",
     "output_type": "stream",
     "text": [
      "[CV] END ............................... score: (test=-7.811) total time=   0.9s\n",
      "[CV] START .....................................................................\n"
     ]
    },
    {
     "name": "stderr",
     "output_type": "stream",
     "text": [
      "[Parallel(n_jobs=-1)]: Done   5 out of   5 | elapsed:    4.5s remaining:    0.0s\n",
      "[Parallel(n_jobs=-1)]: Done   5 out of   5 | elapsed:    4.5s finished\n",
      "[Parallel(n_jobs=-1)]: Using backend SequentialBackend with 1 concurrent workers.\n"
     ]
    },
    {
     "name": "stdout",
     "output_type": "stream",
     "text": [
      "[CV] END ............................... score: (test=-9.629) total time=   0.9s\n",
      "[CV] START .....................................................................\n"
     ]
    },
    {
     "name": "stderr",
     "output_type": "stream",
     "text": [
      "[Parallel(n_jobs=-1)]: Done   1 out of   1 | elapsed:    0.9s remaining:    0.0s\n"
     ]
    },
    {
     "name": "stdout",
     "output_type": "stream",
     "text": [
      "[CV] END ............................... score: (test=-8.027) total time=   0.9s\n",
      "[CV] START .....................................................................\n"
     ]
    },
    {
     "name": "stderr",
     "output_type": "stream",
     "text": [
      "[Parallel(n_jobs=-1)]: Done   2 out of   2 | elapsed:    1.8s remaining:    0.0s\n"
     ]
    },
    {
     "name": "stdout",
     "output_type": "stream",
     "text": [
      "[CV] END .............................. score: (test=-10.276) total time=   0.9s\n",
      "[CV] START .....................................................................\n"
     ]
    },
    {
     "name": "stderr",
     "output_type": "stream",
     "text": [
      "[Parallel(n_jobs=-1)]: Done   3 out of   3 | elapsed:    2.8s remaining:    0.0s\n"
     ]
    },
    {
     "name": "stdout",
     "output_type": "stream",
     "text": [
      "[CV] END ............................... score: (test=-9.091) total time=   1.0s\n",
      "[CV] START .....................................................................\n"
     ]
    },
    {
     "name": "stderr",
     "output_type": "stream",
     "text": [
      "[Parallel(n_jobs=-1)]: Done   4 out of   4 | elapsed:    3.7s remaining:    0.0s\n"
     ]
    },
    {
     "name": "stdout",
     "output_type": "stream",
     "text": [
      "[CV] END .............................. score: (test=-10.312) total time=   0.9s\n",
      "[CV] START .....................................................................\n"
     ]
    },
    {
     "name": "stderr",
     "output_type": "stream",
     "text": [
      "[Parallel(n_jobs=-1)]: Done   5 out of   5 | elapsed:    4.6s remaining:    0.0s\n",
      "[Parallel(n_jobs=-1)]: Done   5 out of   5 | elapsed:    4.6s finished\n",
      "[Parallel(n_jobs=-1)]: Using backend SequentialBackend with 1 concurrent workers.\n"
     ]
    },
    {
     "name": "stdout",
     "output_type": "stream",
     "text": [
      "[CV] END ............................... score: (test=-9.066) total time=   1.4s\n",
      "[CV] START .....................................................................\n"
     ]
    },
    {
     "name": "stderr",
     "output_type": "stream",
     "text": [
      "[Parallel(n_jobs=-1)]: Done   1 out of   1 | elapsed:    1.4s remaining:    0.0s\n"
     ]
    },
    {
     "name": "stdout",
     "output_type": "stream",
     "text": [
      "[CV] END ............................... score: (test=-6.443) total time=   1.4s\n",
      "[CV] START .....................................................................\n"
     ]
    },
    {
     "name": "stderr",
     "output_type": "stream",
     "text": [
      "[Parallel(n_jobs=-1)]: Done   2 out of   2 | elapsed:    2.8s remaining:    0.0s\n"
     ]
    },
    {
     "name": "stdout",
     "output_type": "stream",
     "text": [
      "[CV] END ............................... score: (test=-5.114) total time=   1.4s\n",
      "[CV] START .....................................................................\n"
     ]
    },
    {
     "name": "stderr",
     "output_type": "stream",
     "text": [
      "[Parallel(n_jobs=-1)]: Done   3 out of   3 | elapsed:    4.2s remaining:    0.0s\n"
     ]
    },
    {
     "name": "stdout",
     "output_type": "stream",
     "text": [
      "[CV] END ............................... score: (test=-4.835) total time=   1.4s\n",
      "[CV] START .....................................................................\n"
     ]
    },
    {
     "name": "stderr",
     "output_type": "stream",
     "text": [
      "[Parallel(n_jobs=-1)]: Done   4 out of   4 | elapsed:    5.6s remaining:    0.0s\n"
     ]
    },
    {
     "name": "stdout",
     "output_type": "stream",
     "text": [
      "[CV] END ............................... score: (test=-8.545) total time=   1.5s\n",
      "[CV] START .....................................................................\n"
     ]
    },
    {
     "name": "stderr",
     "output_type": "stream",
     "text": [
      "[Parallel(n_jobs=-1)]: Done   5 out of   5 | elapsed:    7.0s remaining:    0.0s\n",
      "[Parallel(n_jobs=-1)]: Done   5 out of   5 | elapsed:    7.0s finished\n",
      "[Parallel(n_jobs=-1)]: Using backend SequentialBackend with 1 concurrent workers.\n"
     ]
    },
    {
     "name": "stdout",
     "output_type": "stream",
     "text": [
      "[CV] END ............................... score: (test=-9.236) total time=   1.4s\n",
      "[CV] START .....................................................................\n"
     ]
    },
    {
     "name": "stderr",
     "output_type": "stream",
     "text": [
      "[Parallel(n_jobs=-1)]: Done   1 out of   1 | elapsed:    1.4s remaining:    0.0s\n"
     ]
    },
    {
     "name": "stdout",
     "output_type": "stream",
     "text": [
      "[CV] END ............................... score: (test=-8.334) total time=   1.5s\n",
      "[CV] START .....................................................................\n"
     ]
    },
    {
     "name": "stderr",
     "output_type": "stream",
     "text": [
      "[Parallel(n_jobs=-1)]: Done   2 out of   2 | elapsed:    2.9s remaining:    0.0s\n"
     ]
    },
    {
     "name": "stdout",
     "output_type": "stream",
     "text": [
      "[CV] END ............................... score: (test=-9.954) total time=   1.4s\n",
      "[CV] START .....................................................................\n"
     ]
    },
    {
     "name": "stderr",
     "output_type": "stream",
     "text": [
      "[Parallel(n_jobs=-1)]: Done   3 out of   3 | elapsed:    4.4s remaining:    0.0s\n"
     ]
    },
    {
     "name": "stdout",
     "output_type": "stream",
     "text": [
      "[CV] END ............................... score: (test=-8.552) total time=   1.4s\n",
      "[CV] START .....................................................................\n"
     ]
    },
    {
     "name": "stderr",
     "output_type": "stream",
     "text": [
      "[Parallel(n_jobs=-1)]: Done   4 out of   4 | elapsed:    5.8s remaining:    0.0s\n"
     ]
    },
    {
     "name": "stdout",
     "output_type": "stream",
     "text": [
      "[CV] END .............................. score: (test=-10.318) total time=   1.7s\n",
      "[CV] START .....................................................................\n"
     ]
    },
    {
     "name": "stderr",
     "output_type": "stream",
     "text": [
      "[Parallel(n_jobs=-1)]: Done   5 out of   5 | elapsed:    7.6s remaining:    0.0s\n",
      "[Parallel(n_jobs=-1)]: Done   5 out of   5 | elapsed:    7.6s finished\n",
      "[Parallel(n_jobs=-1)]: Using backend SequentialBackend with 1 concurrent workers.\n"
     ]
    },
    {
     "name": "stdout",
     "output_type": "stream",
     "text": [
      "[CV] END ............................... score: (test=-9.103) total time=   1.9s\n",
      "[CV] START .....................................................................\n"
     ]
    },
    {
     "name": "stderr",
     "output_type": "stream",
     "text": [
      "[Parallel(n_jobs=-1)]: Done   1 out of   1 | elapsed:    1.9s remaining:    0.0s\n"
     ]
    },
    {
     "name": "stdout",
     "output_type": "stream",
     "text": [
      "[CV] END ............................... score: (test=-6.419) total time=   1.9s\n",
      "[CV] START .....................................................................\n"
     ]
    },
    {
     "name": "stderr",
     "output_type": "stream",
     "text": [
      "[Parallel(n_jobs=-1)]: Done   2 out of   2 | elapsed:    3.9s remaining:    0.0s\n"
     ]
    },
    {
     "name": "stdout",
     "output_type": "stream",
     "text": [
      "[CV] END ............................... score: (test=-5.248) total time=   1.9s\n",
      "[CV] START .....................................................................\n"
     ]
    },
    {
     "name": "stderr",
     "output_type": "stream",
     "text": [
      "[Parallel(n_jobs=-1)]: Done   3 out of   3 | elapsed:    5.8s remaining:    0.0s\n"
     ]
    },
    {
     "name": "stdout",
     "output_type": "stream",
     "text": [
      "[CV] END ............................... score: (test=-5.202) total time=   2.1s\n",
      "[CV] START .....................................................................\n"
     ]
    },
    {
     "name": "stderr",
     "output_type": "stream",
     "text": [
      "[Parallel(n_jobs=-1)]: Done   4 out of   4 | elapsed:    7.9s remaining:    0.0s\n"
     ]
    },
    {
     "name": "stdout",
     "output_type": "stream",
     "text": [
      "[CV] END ............................... score: (test=-8.801) total time=   2.0s\n",
      "[CV] START .....................................................................\n"
     ]
    },
    {
     "name": "stderr",
     "output_type": "stream",
     "text": [
      "[Parallel(n_jobs=-1)]: Done   5 out of   5 | elapsed:    9.9s remaining:    0.0s\n",
      "[Parallel(n_jobs=-1)]: Done   5 out of   5 | elapsed:    9.9s finished\n",
      "[Parallel(n_jobs=-1)]: Using backend SequentialBackend with 1 concurrent workers.\n"
     ]
    },
    {
     "name": "stdout",
     "output_type": "stream",
     "text": [
      "[CV] END ............................... score: (test=-9.067) total time=   2.0s\n",
      "[CV] START .....................................................................\n"
     ]
    },
    {
     "name": "stderr",
     "output_type": "stream",
     "text": [
      "[Parallel(n_jobs=-1)]: Done   1 out of   1 | elapsed:    2.0s remaining:    0.0s\n"
     ]
    },
    {
     "name": "stdout",
     "output_type": "stream",
     "text": [
      "[CV] END ............................... score: (test=-8.379) total time=   2.0s\n",
      "[CV] START .....................................................................\n"
     ]
    },
    {
     "name": "stderr",
     "output_type": "stream",
     "text": [
      "[Parallel(n_jobs=-1)]: Done   2 out of   2 | elapsed:    3.9s remaining:    0.0s\n"
     ]
    },
    {
     "name": "stdout",
     "output_type": "stream",
     "text": [
      "[CV] END .............................. score: (test=-10.422) total time=   1.9s\n",
      "[CV] START .....................................................................\n"
     ]
    },
    {
     "name": "stderr",
     "output_type": "stream",
     "text": [
      "[Parallel(n_jobs=-1)]: Done   3 out of   3 | elapsed:    5.8s remaining:    0.0s\n"
     ]
    },
    {
     "name": "stdout",
     "output_type": "stream",
     "text": [
      "[CV] END ............................... score: (test=-8.993) total time=   1.9s\n",
      "[CV] START .....................................................................\n"
     ]
    },
    {
     "name": "stderr",
     "output_type": "stream",
     "text": [
      "[Parallel(n_jobs=-1)]: Done   4 out of   4 | elapsed:    7.7s remaining:    0.0s\n"
     ]
    },
    {
     "name": "stdout",
     "output_type": "stream",
     "text": [
      "[CV] END .............................. score: (test=-10.260) total time=   2.0s\n",
      "[CV] START .....................................................................\n"
     ]
    },
    {
     "name": "stderr",
     "output_type": "stream",
     "text": [
      "[Parallel(n_jobs=-1)]: Done   5 out of   5 | elapsed:    9.7s remaining:    0.0s\n",
      "[Parallel(n_jobs=-1)]: Done   5 out of   5 | elapsed:    9.7s finished\n",
      "[Parallel(n_jobs=-1)]: Using backend SequentialBackend with 1 concurrent workers.\n"
     ]
    },
    {
     "name": "stdout",
     "output_type": "stream",
     "text": [
      "[CV] END ............................... score: (test=-8.760) total time=   2.3s\n",
      "[CV] START .....................................................................\n"
     ]
    },
    {
     "name": "stderr",
     "output_type": "stream",
     "text": [
      "[Parallel(n_jobs=-1)]: Done   1 out of   1 | elapsed:    2.3s remaining:    0.0s\n"
     ]
    },
    {
     "name": "stdout",
     "output_type": "stream",
     "text": [
      "[CV] END ............................... score: (test=-7.013) total time=   2.4s\n",
      "[CV] START .....................................................................\n"
     ]
    },
    {
     "name": "stderr",
     "output_type": "stream",
     "text": [
      "[Parallel(n_jobs=-1)]: Done   2 out of   2 | elapsed:    4.7s remaining:    0.0s\n"
     ]
    },
    {
     "name": "stdout",
     "output_type": "stream",
     "text": [
      "[CV] END ............................... score: (test=-5.428) total time=   2.3s\n",
      "[CV] START .....................................................................\n"
     ]
    },
    {
     "name": "stderr",
     "output_type": "stream",
     "text": [
      "[Parallel(n_jobs=-1)]: Done   3 out of   3 | elapsed:    7.0s remaining:    0.0s\n"
     ]
    },
    {
     "name": "stdout",
     "output_type": "stream",
     "text": [
      "[CV] END ............................... score: (test=-5.514) total time=   2.3s\n",
      "[CV] START .....................................................................\n"
     ]
    },
    {
     "name": "stderr",
     "output_type": "stream",
     "text": [
      "[Parallel(n_jobs=-1)]: Done   4 out of   4 | elapsed:    9.3s remaining:    0.0s\n"
     ]
    },
    {
     "name": "stdout",
     "output_type": "stream",
     "text": [
      "[CV] END ............................... score: (test=-8.590) total time=   2.4s\n",
      "[CV] START .....................................................................\n"
     ]
    },
    {
     "name": "stderr",
     "output_type": "stream",
     "text": [
      "[Parallel(n_jobs=-1)]: Done   5 out of   5 | elapsed:   11.7s remaining:    0.0s\n",
      "[Parallel(n_jobs=-1)]: Done   5 out of   5 | elapsed:   11.7s finished\n",
      "[Parallel(n_jobs=-1)]: Using backend SequentialBackend with 1 concurrent workers.\n"
     ]
    },
    {
     "name": "stdout",
     "output_type": "stream",
     "text": [
      "[CV] END ............................... score: (test=-9.261) total time=   2.4s\n",
      "[CV] START .....................................................................\n"
     ]
    },
    {
     "name": "stderr",
     "output_type": "stream",
     "text": [
      "[Parallel(n_jobs=-1)]: Done   1 out of   1 | elapsed:    2.4s remaining:    0.0s\n"
     ]
    },
    {
     "name": "stdout",
     "output_type": "stream",
     "text": [
      "[CV] END ............................... score: (test=-8.957) total time=   2.4s\n",
      "[CV] START .....................................................................\n"
     ]
    },
    {
     "name": "stderr",
     "output_type": "stream",
     "text": [
      "[Parallel(n_jobs=-1)]: Done   2 out of   2 | elapsed:    4.7s remaining:    0.0s\n"
     ]
    },
    {
     "name": "stdout",
     "output_type": "stream",
     "text": [
      "[CV] END ............................... score: (test=-9.875) total time=   2.3s\n",
      "[CV] START .....................................................................\n"
     ]
    },
    {
     "name": "stderr",
     "output_type": "stream",
     "text": [
      "[Parallel(n_jobs=-1)]: Done   3 out of   3 | elapsed:    7.0s remaining:    0.0s\n"
     ]
    },
    {
     "name": "stdout",
     "output_type": "stream",
     "text": [
      "[CV] END ............................... score: (test=-9.182) total time=   2.3s\n",
      "[CV] START .....................................................................\n"
     ]
    },
    {
     "name": "stderr",
     "output_type": "stream",
     "text": [
      "[Parallel(n_jobs=-1)]: Done   4 out of   4 | elapsed:    9.3s remaining:    0.0s\n"
     ]
    },
    {
     "name": "stdout",
     "output_type": "stream",
     "text": [
      "[CV] END .............................. score: (test=-10.853) total time=   2.3s\n",
      "[CV] START .....................................................................\n"
     ]
    },
    {
     "name": "stderr",
     "output_type": "stream",
     "text": [
      "[Parallel(n_jobs=-1)]: Done   5 out of   5 | elapsed:   11.7s remaining:    0.0s\n",
      "[Parallel(n_jobs=-1)]: Done   5 out of   5 | elapsed:   11.7s finished\n",
      "[Parallel(n_jobs=-1)]: Using backend SequentialBackend with 1 concurrent workers.\n"
     ]
    },
    {
     "name": "stdout",
     "output_type": "stream",
     "text": [
      "[CV] END ............................... score: (test=-8.988) total time=   2.6s\n",
      "[CV] START .....................................................................\n"
     ]
    },
    {
     "name": "stderr",
     "output_type": "stream",
     "text": [
      "[Parallel(n_jobs=-1)]: Done   1 out of   1 | elapsed:    2.7s remaining:    0.0s\n"
     ]
    },
    {
     "name": "stdout",
     "output_type": "stream",
     "text": [
      "[CV] END ............................... score: (test=-7.356) total time=   2.9s\n",
      "[CV] START .....................................................................\n"
     ]
    },
    {
     "name": "stderr",
     "output_type": "stream",
     "text": [
      "[Parallel(n_jobs=-1)]: Done   2 out of   2 | elapsed:    5.6s remaining:    0.0s\n"
     ]
    },
    {
     "name": "stdout",
     "output_type": "stream",
     "text": [
      "[CV] END ............................... score: (test=-5.227) total time=   2.8s\n",
      "[CV] START .....................................................................\n"
     ]
    },
    {
     "name": "stderr",
     "output_type": "stream",
     "text": [
      "[Parallel(n_jobs=-1)]: Done   3 out of   3 | elapsed:    8.4s remaining:    0.0s\n"
     ]
    },
    {
     "name": "stdout",
     "output_type": "stream",
     "text": [
      "[CV] END ............................... score: (test=-5.576) total time=   2.7s\n",
      "[CV] START .....................................................................\n"
     ]
    },
    {
     "name": "stderr",
     "output_type": "stream",
     "text": [
      "[Parallel(n_jobs=-1)]: Done   4 out of   4 | elapsed:   11.1s remaining:    0.0s\n"
     ]
    },
    {
     "name": "stdout",
     "output_type": "stream",
     "text": [
      "[CV] END ............................... score: (test=-9.404) total time=   2.7s\n",
      "[CV] START .....................................................................\n"
     ]
    },
    {
     "name": "stderr",
     "output_type": "stream",
     "text": [
      "[Parallel(n_jobs=-1)]: Done   5 out of   5 | elapsed:   13.7s remaining:    0.0s\n",
      "[Parallel(n_jobs=-1)]: Done   5 out of   5 | elapsed:   13.7s finished\n",
      "[Parallel(n_jobs=-1)]: Using backend SequentialBackend with 1 concurrent workers.\n"
     ]
    },
    {
     "name": "stdout",
     "output_type": "stream",
     "text": [
      "[CV] END ............................... score: (test=-9.348) total time=   2.7s\n",
      "[CV] START .....................................................................\n"
     ]
    },
    {
     "name": "stderr",
     "output_type": "stream",
     "text": [
      "[Parallel(n_jobs=-1)]: Done   1 out of   1 | elapsed:    2.7s remaining:    0.0s\n"
     ]
    },
    {
     "name": "stdout",
     "output_type": "stream",
     "text": [
      "[CV] END ............................... score: (test=-9.597) total time=   2.8s\n",
      "[CV] START .....................................................................\n"
     ]
    },
    {
     "name": "stderr",
     "output_type": "stream",
     "text": [
      "[Parallel(n_jobs=-1)]: Done   2 out of   2 | elapsed:    5.5s remaining:    0.0s\n"
     ]
    },
    {
     "name": "stdout",
     "output_type": "stream",
     "text": [
      "[CV] END .............................. score: (test=-10.283) total time=   2.7s\n",
      "[CV] START .....................................................................\n"
     ]
    },
    {
     "name": "stderr",
     "output_type": "stream",
     "text": [
      "[Parallel(n_jobs=-1)]: Done   3 out of   3 | elapsed:    8.2s remaining:    0.0s\n"
     ]
    },
    {
     "name": "stdout",
     "output_type": "stream",
     "text": [
      "[CV] END .............................. score: (test=-10.313) total time=   2.9s\n",
      "[CV] START .....................................................................\n"
     ]
    },
    {
     "name": "stderr",
     "output_type": "stream",
     "text": [
      "[Parallel(n_jobs=-1)]: Done   4 out of   4 | elapsed:   11.1s remaining:    0.0s\n"
     ]
    },
    {
     "name": "stdout",
     "output_type": "stream",
     "text": [
      "[CV] END .............................. score: (test=-11.150) total time=   2.7s\n",
      "[CV] START .....................................................................\n"
     ]
    },
    {
     "name": "stderr",
     "output_type": "stream",
     "text": [
      "[Parallel(n_jobs=-1)]: Done   5 out of   5 | elapsed:   13.8s remaining:    0.0s\n",
      "[Parallel(n_jobs=-1)]: Done   5 out of   5 | elapsed:   13.8s finished\n",
      "[Parallel(n_jobs=-1)]: Using backend SequentialBackend with 1 concurrent workers.\n"
     ]
    },
    {
     "name": "stdout",
     "output_type": "stream",
     "text": [
      "[CV] END ............................... score: (test=-9.023) total time=   3.0s\n",
      "[CV] START .....................................................................\n"
     ]
    },
    {
     "name": "stderr",
     "output_type": "stream",
     "text": [
      "[Parallel(n_jobs=-1)]: Done   1 out of   1 | elapsed:    3.0s remaining:    0.0s\n"
     ]
    },
    {
     "name": "stdout",
     "output_type": "stream",
     "text": [
      "[CV] END ............................... score: (test=-6.979) total time=   3.0s\n",
      "[CV] START .....................................................................\n"
     ]
    },
    {
     "name": "stderr",
     "output_type": "stream",
     "text": [
      "[Parallel(n_jobs=-1)]: Done   2 out of   2 | elapsed:    6.1s remaining:    0.0s\n"
     ]
    },
    {
     "name": "stdout",
     "output_type": "stream",
     "text": [
      "[CV] END ............................... score: (test=-5.266) total time=   3.0s\n",
      "[CV] START .....................................................................\n"
     ]
    },
    {
     "name": "stderr",
     "output_type": "stream",
     "text": [
      "[Parallel(n_jobs=-1)]: Done   3 out of   3 | elapsed:    9.0s remaining:    0.0s\n"
     ]
    },
    {
     "name": "stdout",
     "output_type": "stream",
     "text": [
      "[CV] END ............................... score: (test=-5.546) total time=   3.1s\n",
      "[CV] START .....................................................................\n"
     ]
    },
    {
     "name": "stderr",
     "output_type": "stream",
     "text": [
      "[Parallel(n_jobs=-1)]: Done   4 out of   4 | elapsed:   12.1s remaining:    0.0s\n"
     ]
    },
    {
     "name": "stdout",
     "output_type": "stream",
     "text": [
      "[CV] END ............................... score: (test=-9.382) total time=   3.1s\n",
      "[CV] START .....................................................................\n"
     ]
    },
    {
     "name": "stderr",
     "output_type": "stream",
     "text": [
      "[Parallel(n_jobs=-1)]: Done   5 out of   5 | elapsed:   15.2s remaining:    0.0s\n",
      "[Parallel(n_jobs=-1)]: Done   5 out of   5 | elapsed:   15.2s finished\n",
      "[Parallel(n_jobs=-1)]: Using backend SequentialBackend with 1 concurrent workers.\n"
     ]
    },
    {
     "name": "stdout",
     "output_type": "stream",
     "text": [
      "[CV] END ............................... score: (test=-9.471) total time=   3.2s\n",
      "[CV] START .....................................................................\n"
     ]
    },
    {
     "name": "stderr",
     "output_type": "stream",
     "text": [
      "[Parallel(n_jobs=-1)]: Done   1 out of   1 | elapsed:    3.2s remaining:    0.0s\n"
     ]
    },
    {
     "name": "stdout",
     "output_type": "stream",
     "text": [
      "[CV] END ............................... score: (test=-9.487) total time=   3.2s\n",
      "[CV] START .....................................................................\n"
     ]
    },
    {
     "name": "stderr",
     "output_type": "stream",
     "text": [
      "[Parallel(n_jobs=-1)]: Done   2 out of   2 | elapsed:    6.4s remaining:    0.0s\n"
     ]
    },
    {
     "name": "stdout",
     "output_type": "stream",
     "text": [
      "[CV] END .............................. score: (test=-10.351) total time=   3.1s\n",
      "[CV] START .....................................................................\n"
     ]
    },
    {
     "name": "stderr",
     "output_type": "stream",
     "text": [
      "[Parallel(n_jobs=-1)]: Done   3 out of   3 | elapsed:    9.5s remaining:    0.0s\n"
     ]
    },
    {
     "name": "stdout",
     "output_type": "stream",
     "text": [
      "[CV] END .............................. score: (test=-10.821) total time=   3.1s\n",
      "[CV] START .....................................................................\n"
     ]
    },
    {
     "name": "stderr",
     "output_type": "stream",
     "text": [
      "[Parallel(n_jobs=-1)]: Done   4 out of   4 | elapsed:   12.5s remaining:    0.0s\n"
     ]
    },
    {
     "name": "stdout",
     "output_type": "stream",
     "text": [
      "[CV] END .............................. score: (test=-11.224) total time=   3.1s\n",
      "[CV] START .....................................................................\n"
     ]
    },
    {
     "name": "stderr",
     "output_type": "stream",
     "text": [
      "[Parallel(n_jobs=-1)]: Done   5 out of   5 | elapsed:   15.7s remaining:    0.0s\n",
      "[Parallel(n_jobs=-1)]: Done   5 out of   5 | elapsed:   15.7s finished\n",
      "[Parallel(n_jobs=-1)]: Using backend SequentialBackend with 1 concurrent workers.\n"
     ]
    },
    {
     "name": "stdout",
     "output_type": "stream",
     "text": [
      "[CV] END ............................... score: (test=-8.665) total time=   3.3s\n",
      "[CV] START .....................................................................\n"
     ]
    },
    {
     "name": "stderr",
     "output_type": "stream",
     "text": [
      "[Parallel(n_jobs=-1)]: Done   1 out of   1 | elapsed:    3.3s remaining:    0.0s\n"
     ]
    },
    {
     "name": "stdout",
     "output_type": "stream",
     "text": [
      "[CV] END ............................... score: (test=-6.904) total time=   3.4s\n",
      "[CV] START .....................................................................\n"
     ]
    },
    {
     "name": "stderr",
     "output_type": "stream",
     "text": [
      "[Parallel(n_jobs=-1)]: Done   2 out of   2 | elapsed:    6.7s remaining:    0.0s\n"
     ]
    },
    {
     "name": "stdout",
     "output_type": "stream",
     "text": [
      "[CV] END ............................... score: (test=-5.497) total time=   3.4s\n",
      "[CV] START .....................................................................\n"
     ]
    },
    {
     "name": "stderr",
     "output_type": "stream",
     "text": [
      "[Parallel(n_jobs=-1)]: Done   3 out of   3 | elapsed:   10.0s remaining:    0.0s\n"
     ]
    },
    {
     "name": "stdout",
     "output_type": "stream",
     "text": [
      "[CV] END ............................... score: (test=-5.654) total time=   3.3s\n",
      "[CV] START .....................................................................\n"
     ]
    },
    {
     "name": "stderr",
     "output_type": "stream",
     "text": [
      "[Parallel(n_jobs=-1)]: Done   4 out of   4 | elapsed:   13.3s remaining:    0.0s\n"
     ]
    },
    {
     "name": "stdout",
     "output_type": "stream",
     "text": [
      "[CV] END ............................... score: (test=-9.099) total time=   3.4s\n",
      "[CV] START .....................................................................\n"
     ]
    },
    {
     "name": "stderr",
     "output_type": "stream",
     "text": [
      "[Parallel(n_jobs=-1)]: Done   5 out of   5 | elapsed:   16.7s remaining:    0.0s\n",
      "[Parallel(n_jobs=-1)]: Done   5 out of   5 | elapsed:   16.7s finished\n",
      "[Parallel(n_jobs=-1)]: Using backend SequentialBackend with 1 concurrent workers.\n"
     ]
    },
    {
     "name": "stdout",
     "output_type": "stream",
     "text": [
      "[CV] END ............................... score: (test=-9.443) total time=   3.5s\n",
      "[CV] START .....................................................................\n"
     ]
    },
    {
     "name": "stderr",
     "output_type": "stream",
     "text": [
      "[Parallel(n_jobs=-1)]: Done   1 out of   1 | elapsed:    3.5s remaining:    0.0s\n"
     ]
    },
    {
     "name": "stdout",
     "output_type": "stream",
     "text": [
      "[CV] END ............................... score: (test=-9.827) total time=   3.5s\n",
      "[CV] START .....................................................................\n"
     ]
    },
    {
     "name": "stderr",
     "output_type": "stream",
     "text": [
      "[Parallel(n_jobs=-1)]: Done   2 out of   2 | elapsed:    7.1s remaining:    0.0s\n"
     ]
    },
    {
     "name": "stdout",
     "output_type": "stream",
     "text": [
      "[CV] END .............................. score: (test=-10.465) total time=   3.5s\n",
      "[CV] START .....................................................................\n"
     ]
    },
    {
     "name": "stderr",
     "output_type": "stream",
     "text": [
      "[Parallel(n_jobs=-1)]: Done   3 out of   3 | elapsed:   10.6s remaining:    0.0s\n"
     ]
    },
    {
     "name": "stdout",
     "output_type": "stream",
     "text": [
      "[CV] END .............................. score: (test=-10.636) total time=   3.4s\n",
      "[CV] START .....................................................................\n"
     ]
    },
    {
     "name": "stderr",
     "output_type": "stream",
     "text": [
      "[Parallel(n_jobs=-1)]: Done   4 out of   4 | elapsed:   14.0s remaining:    0.0s\n"
     ]
    },
    {
     "name": "stdout",
     "output_type": "stream",
     "text": [
      "[CV] END .............................. score: (test=-11.144) total time=   3.8s\n",
      "[CV] START .....................................................................\n"
     ]
    },
    {
     "name": "stderr",
     "output_type": "stream",
     "text": [
      "[Parallel(n_jobs=-1)]: Done   5 out of   5 | elapsed:   17.8s remaining:    0.0s\n",
      "[Parallel(n_jobs=-1)]: Done   5 out of   5 | elapsed:   17.8s finished\n",
      "[Parallel(n_jobs=-1)]: Using backend SequentialBackend with 1 concurrent workers.\n"
     ]
    },
    {
     "name": "stdout",
     "output_type": "stream",
     "text": [
      "[CV] END ............................... score: (test=-8.529) total time=   3.5s\n",
      "[CV] START .....................................................................\n"
     ]
    },
    {
     "name": "stderr",
     "output_type": "stream",
     "text": [
      "[Parallel(n_jobs=-1)]: Done   1 out of   1 | elapsed:    3.5s remaining:    0.0s\n"
     ]
    },
    {
     "name": "stdout",
     "output_type": "stream",
     "text": [
      "[CV] END ............................... score: (test=-6.732) total time=   3.5s\n",
      "[CV] START .....................................................................\n"
     ]
    },
    {
     "name": "stderr",
     "output_type": "stream",
     "text": [
      "[Parallel(n_jobs=-1)]: Done   2 out of   2 | elapsed:    7.0s remaining:    0.0s\n"
     ]
    },
    {
     "name": "stdout",
     "output_type": "stream",
     "text": [
      "[CV] END ............................... score: (test=-5.472) total time=   3.4s\n",
      "[CV] START .....................................................................\n"
     ]
    },
    {
     "name": "stderr",
     "output_type": "stream",
     "text": [
      "[Parallel(n_jobs=-1)]: Done   3 out of   3 | elapsed:   10.5s remaining:    0.0s\n"
     ]
    },
    {
     "name": "stdout",
     "output_type": "stream",
     "text": [
      "[CV] END ............................... score: (test=-5.665) total time=   3.5s\n",
      "[CV] START .....................................................................\n"
     ]
    },
    {
     "name": "stderr",
     "output_type": "stream",
     "text": [
      "[Parallel(n_jobs=-1)]: Done   4 out of   4 | elapsed:   13.9s remaining:    0.0s\n"
     ]
    },
    {
     "name": "stdout",
     "output_type": "stream",
     "text": [
      "[CV] END ............................... score: (test=-8.956) total time=   3.5s\n",
      "[CV] START .....................................................................\n"
     ]
    },
    {
     "name": "stderr",
     "output_type": "stream",
     "text": [
      "[Parallel(n_jobs=-1)]: Done   5 out of   5 | elapsed:   17.5s remaining:    0.0s\n",
      "[Parallel(n_jobs=-1)]: Done   5 out of   5 | elapsed:   17.5s finished\n",
      "[Parallel(n_jobs=-1)]: Using backend SequentialBackend with 1 concurrent workers.\n"
     ]
    },
    {
     "name": "stdout",
     "output_type": "stream",
     "text": [
      "[CV] END ............................... score: (test=-9.596) total time=   3.7s\n",
      "[CV] START .....................................................................\n"
     ]
    },
    {
     "name": "stderr",
     "output_type": "stream",
     "text": [
      "[Parallel(n_jobs=-1)]: Done   1 out of   1 | elapsed:    3.7s remaining:    0.0s\n"
     ]
    },
    {
     "name": "stdout",
     "output_type": "stream",
     "text": [
      "[CV] END ............................... score: (test=-9.357) total time=   3.8s\n",
      "[CV] START .....................................................................\n"
     ]
    },
    {
     "name": "stderr",
     "output_type": "stream",
     "text": [
      "[Parallel(n_jobs=-1)]: Done   2 out of   2 | elapsed:    7.6s remaining:    0.0s\n"
     ]
    },
    {
     "name": "stdout",
     "output_type": "stream",
     "text": [
      "[CV] END .............................. score: (test=-10.646) total time=   3.6s\n",
      "[CV] START .....................................................................\n"
     ]
    },
    {
     "name": "stderr",
     "output_type": "stream",
     "text": [
      "[Parallel(n_jobs=-1)]: Done   3 out of   3 | elapsed:   11.2s remaining:    0.0s\n"
     ]
    },
    {
     "name": "stdout",
     "output_type": "stream",
     "text": [
      "[CV] END .............................. score: (test=-10.607) total time=   4.2s\n",
      "[CV] START .....................................................................\n"
     ]
    },
    {
     "name": "stderr",
     "output_type": "stream",
     "text": [
      "[Parallel(n_jobs=-1)]: Done   4 out of   4 | elapsed:   15.3s remaining:    0.0s\n"
     ]
    },
    {
     "name": "stdout",
     "output_type": "stream",
     "text": [
      "[CV] END .............................. score: (test=-11.569) total time=   4.1s\n",
      "[CV] START .....................................................................\n"
     ]
    },
    {
     "name": "stderr",
     "output_type": "stream",
     "text": [
      "[Parallel(n_jobs=-1)]: Done   5 out of   5 | elapsed:   19.4s remaining:    0.0s\n",
      "[Parallel(n_jobs=-1)]: Done   5 out of   5 | elapsed:   19.4s finished\n",
      "[Parallel(n_jobs=-1)]: Using backend SequentialBackend with 1 concurrent workers.\n"
     ]
    },
    {
     "name": "stdout",
     "output_type": "stream",
     "text": [
      "[CV] END ............................... score: (test=-8.569) total time=   3.6s\n",
      "[CV] START .....................................................................\n"
     ]
    },
    {
     "name": "stderr",
     "output_type": "stream",
     "text": [
      "[Parallel(n_jobs=-1)]: Done   1 out of   1 | elapsed:    3.6s remaining:    0.0s\n"
     ]
    },
    {
     "name": "stdout",
     "output_type": "stream",
     "text": [
      "[CV] END ............................... score: (test=-6.605) total time=   3.7s\n",
      "[CV] START .....................................................................\n"
     ]
    },
    {
     "name": "stderr",
     "output_type": "stream",
     "text": [
      "[Parallel(n_jobs=-1)]: Done   2 out of   2 | elapsed:    7.3s remaining:    0.0s\n"
     ]
    },
    {
     "name": "stdout",
     "output_type": "stream",
     "text": [
      "[CV] END ............................... score: (test=-5.591) total time=   3.7s\n",
      "[CV] START .....................................................................\n"
     ]
    },
    {
     "name": "stderr",
     "output_type": "stream",
     "text": [
      "[Parallel(n_jobs=-1)]: Done   3 out of   3 | elapsed:   11.1s remaining:    0.0s\n"
     ]
    },
    {
     "name": "stdout",
     "output_type": "stream",
     "text": [
      "[CV] END ............................... score: (test=-5.478) total time=   3.8s\n",
      "[CV] START .....................................................................\n"
     ]
    },
    {
     "name": "stderr",
     "output_type": "stream",
     "text": [
      "[Parallel(n_jobs=-1)]: Done   4 out of   4 | elapsed:   14.9s remaining:    0.0s\n"
     ]
    },
    {
     "name": "stdout",
     "output_type": "stream",
     "text": [
      "[CV] END ............................... score: (test=-9.536) total time=   3.7s\n",
      "[CV] START .....................................................................\n"
     ]
    },
    {
     "name": "stderr",
     "output_type": "stream",
     "text": [
      "[Parallel(n_jobs=-1)]: Done   5 out of   5 | elapsed:   18.6s remaining:    0.0s\n",
      "[Parallel(n_jobs=-1)]: Done   5 out of   5 | elapsed:   18.6s finished\n",
      "[Parallel(n_jobs=-1)]: Using backend SequentialBackend with 1 concurrent workers.\n"
     ]
    },
    {
     "name": "stdout",
     "output_type": "stream",
     "text": [
      "[CV] END ............................... score: (test=-9.580) total time=   4.0s\n",
      "[CV] START .....................................................................\n"
     ]
    },
    {
     "name": "stderr",
     "output_type": "stream",
     "text": [
      "[Parallel(n_jobs=-1)]: Done   1 out of   1 | elapsed:    4.0s remaining:    0.0s\n"
     ]
    },
    {
     "name": "stdout",
     "output_type": "stream",
     "text": [
      "[CV] END ............................... score: (test=-9.645) total time=   4.1s\n",
      "[CV] START .....................................................................\n"
     ]
    },
    {
     "name": "stderr",
     "output_type": "stream",
     "text": [
      "[Parallel(n_jobs=-1)]: Done   2 out of   2 | elapsed:    8.1s remaining:    0.0s\n"
     ]
    },
    {
     "name": "stdout",
     "output_type": "stream",
     "text": [
      "[CV] END .............................. score: (test=-10.601) total time=   3.8s\n",
      "[CV] START .....................................................................\n"
     ]
    },
    {
     "name": "stderr",
     "output_type": "stream",
     "text": [
      "[Parallel(n_jobs=-1)]: Done   3 out of   3 | elapsed:   11.9s remaining:    0.0s\n"
     ]
    },
    {
     "name": "stdout",
     "output_type": "stream",
     "text": [
      "[CV] END .............................. score: (test=-10.742) total time=   3.8s\n",
      "[CV] START .....................................................................\n"
     ]
    },
    {
     "name": "stderr",
     "output_type": "stream",
     "text": [
      "[Parallel(n_jobs=-1)]: Done   4 out of   4 | elapsed:   15.8s remaining:    0.0s\n"
     ]
    },
    {
     "name": "stdout",
     "output_type": "stream",
     "text": [
      "[CV] END .............................. score: (test=-11.599) total time=   4.0s\n",
      "[CV] START .....................................................................\n"
     ]
    },
    {
     "name": "stderr",
     "output_type": "stream",
     "text": [
      "[Parallel(n_jobs=-1)]: Done   5 out of   5 | elapsed:   19.8s remaining:    0.0s\n",
      "[Parallel(n_jobs=-1)]: Done   5 out of   5 | elapsed:   19.8s finished\n",
      "[Parallel(n_jobs=-1)]: Using backend SequentialBackend with 1 concurrent workers.\n"
     ]
    },
    {
     "name": "stdout",
     "output_type": "stream",
     "text": [
      "[CV] END .............................. score: (test=-10.633) total time=   1.3s\n",
      "[CV] START .....................................................................\n"
     ]
    },
    {
     "name": "stderr",
     "output_type": "stream",
     "text": [
      "[Parallel(n_jobs=-1)]: Done   1 out of   1 | elapsed:    1.3s remaining:    0.0s\n"
     ]
    },
    {
     "name": "stdout",
     "output_type": "stream",
     "text": [
      "[CV] END ............................... score: (test=-7.273) total time=   1.3s\n",
      "[CV] START .....................................................................\n"
     ]
    },
    {
     "name": "stderr",
     "output_type": "stream",
     "text": [
      "[Parallel(n_jobs=-1)]: Done   2 out of   2 | elapsed:    2.6s remaining:    0.0s\n"
     ]
    },
    {
     "name": "stdout",
     "output_type": "stream",
     "text": [
      "[CV] END ............................... score: (test=-5.014) total time=   1.3s\n",
      "[CV] START .....................................................................\n"
     ]
    },
    {
     "name": "stderr",
     "output_type": "stream",
     "text": [
      "[Parallel(n_jobs=-1)]: Done   3 out of   3 | elapsed:    3.9s remaining:    0.0s\n"
     ]
    },
    {
     "name": "stdout",
     "output_type": "stream",
     "text": [
      "[CV] END ............................... score: (test=-6.796) total time=   1.3s\n",
      "[CV] START .....................................................................\n"
     ]
    },
    {
     "name": "stderr",
     "output_type": "stream",
     "text": [
      "[Parallel(n_jobs=-1)]: Done   4 out of   4 | elapsed:    5.2s remaining:    0.0s\n"
     ]
    },
    {
     "name": "stdout",
     "output_type": "stream",
     "text": [
      "[CV] END ............................... score: (test=-8.750) total time=   1.3s\n",
      "[CV] START .....................................................................\n"
     ]
    },
    {
     "name": "stderr",
     "output_type": "stream",
     "text": [
      "[Parallel(n_jobs=-1)]: Done   5 out of   5 | elapsed:    6.5s remaining:    0.0s\n",
      "[Parallel(n_jobs=-1)]: Done   5 out of   5 | elapsed:    6.5s finished\n",
      "[Parallel(n_jobs=-1)]: Using backend SequentialBackend with 1 concurrent workers.\n"
     ]
    },
    {
     "name": "stdout",
     "output_type": "stream",
     "text": [
      "[CV] END ............................... score: (test=-9.635) total time=   1.3s\n",
      "[CV] START .....................................................................\n"
     ]
    },
    {
     "name": "stderr",
     "output_type": "stream",
     "text": [
      "[Parallel(n_jobs=-1)]: Done   1 out of   1 | elapsed:    1.3s remaining:    0.0s\n"
     ]
    },
    {
     "name": "stdout",
     "output_type": "stream",
     "text": [
      "[CV] END ............................... score: (test=-8.052) total time=   1.3s\n",
      "[CV] START .....................................................................\n"
     ]
    },
    {
     "name": "stderr",
     "output_type": "stream",
     "text": [
      "[Parallel(n_jobs=-1)]: Done   2 out of   2 | elapsed:    2.6s remaining:    0.0s\n"
     ]
    },
    {
     "name": "stdout",
     "output_type": "stream",
     "text": [
      "[CV] END ............................... score: (test=-9.657) total time=   1.3s\n",
      "[CV] START .....................................................................\n"
     ]
    },
    {
     "name": "stderr",
     "output_type": "stream",
     "text": [
      "[Parallel(n_jobs=-1)]: Done   3 out of   3 | elapsed:    3.9s remaining:    0.0s\n"
     ]
    },
    {
     "name": "stdout",
     "output_type": "stream",
     "text": [
      "[CV] END .............................. score: (test=-10.621) total time=   1.3s\n",
      "[CV] START .....................................................................\n"
     ]
    },
    {
     "name": "stderr",
     "output_type": "stream",
     "text": [
      "[Parallel(n_jobs=-1)]: Done   4 out of   4 | elapsed:    5.2s remaining:    0.0s\n"
     ]
    },
    {
     "name": "stdout",
     "output_type": "stream",
     "text": [
      "[CV] END .............................. score: (test=-11.372) total time=   1.3s\n",
      "[CV] START .....................................................................\n"
     ]
    },
    {
     "name": "stderr",
     "output_type": "stream",
     "text": [
      "[Parallel(n_jobs=-1)]: Done   5 out of   5 | elapsed:    6.5s remaining:    0.0s\n",
      "[Parallel(n_jobs=-1)]: Done   5 out of   5 | elapsed:    6.5s finished\n",
      "[Parallel(n_jobs=-1)]: Using backend SequentialBackend with 1 concurrent workers.\n"
     ]
    },
    {
     "name": "stdout",
     "output_type": "stream",
     "text": [
      "[CV] END ............................... score: (test=-9.435) total time=   3.6s\n",
      "[CV] START .....................................................................\n"
     ]
    },
    {
     "name": "stderr",
     "output_type": "stream",
     "text": [
      "[Parallel(n_jobs=-1)]: Done   1 out of   1 | elapsed:    3.6s remaining:    0.0s\n"
     ]
    },
    {
     "name": "stdout",
     "output_type": "stream",
     "text": [
      "[CV] END ............................... score: (test=-6.130) total time=   3.6s\n",
      "[CV] START .....................................................................\n"
     ]
    },
    {
     "name": "stderr",
     "output_type": "stream",
     "text": [
      "[Parallel(n_jobs=-1)]: Done   2 out of   2 | elapsed:    7.2s remaining:    0.0s\n"
     ]
    },
    {
     "name": "stdout",
     "output_type": "stream",
     "text": [
      "[CV] END ............................... score: (test=-5.181) total time=   3.5s\n",
      "[CV] START .....................................................................\n"
     ]
    },
    {
     "name": "stderr",
     "output_type": "stream",
     "text": [
      "[Parallel(n_jobs=-1)]: Done   3 out of   3 | elapsed:   10.7s remaining:    0.0s\n"
     ]
    },
    {
     "name": "stdout",
     "output_type": "stream",
     "text": [
      "[CV] END ............................... score: (test=-5.604) total time=   3.7s\n",
      "[CV] START .....................................................................\n"
     ]
    },
    {
     "name": "stderr",
     "output_type": "stream",
     "text": [
      "[Parallel(n_jobs=-1)]: Done   4 out of   4 | elapsed:   14.4s remaining:    0.0s\n"
     ]
    },
    {
     "name": "stdout",
     "output_type": "stream",
     "text": [
      "[CV] END ............................... score: (test=-7.741) total time=   3.6s\n",
      "[CV] START .....................................................................\n"
     ]
    },
    {
     "name": "stderr",
     "output_type": "stream",
     "text": [
      "[Parallel(n_jobs=-1)]: Done   5 out of   5 | elapsed:   18.0s remaining:    0.0s\n",
      "[Parallel(n_jobs=-1)]: Done   5 out of   5 | elapsed:   18.0s finished\n",
      "[Parallel(n_jobs=-1)]: Using backend SequentialBackend with 1 concurrent workers.\n"
     ]
    },
    {
     "name": "stdout",
     "output_type": "stream",
     "text": [
      "[CV] END ............................... score: (test=-9.669) total time=   3.6s\n",
      "[CV] START .....................................................................\n"
     ]
    },
    {
     "name": "stderr",
     "output_type": "stream",
     "text": [
      "[Parallel(n_jobs=-1)]: Done   1 out of   1 | elapsed:    3.6s remaining:    0.0s\n"
     ]
    },
    {
     "name": "stdout",
     "output_type": "stream",
     "text": [
      "[CV] END ............................... score: (test=-7.928) total time=   3.7s\n",
      "[CV] START .....................................................................\n"
     ]
    },
    {
     "name": "stderr",
     "output_type": "stream",
     "text": [
      "[Parallel(n_jobs=-1)]: Done   2 out of   2 | elapsed:    7.3s remaining:    0.0s\n"
     ]
    },
    {
     "name": "stdout",
     "output_type": "stream",
     "text": [
      "[CV] END .............................. score: (test=-10.228) total time=   3.7s\n",
      "[CV] START .....................................................................\n"
     ]
    },
    {
     "name": "stderr",
     "output_type": "stream",
     "text": [
      "[Parallel(n_jobs=-1)]: Done   3 out of   3 | elapsed:   11.0s remaining:    0.0s\n"
     ]
    },
    {
     "name": "stdout",
     "output_type": "stream",
     "text": [
      "[CV] END ............................... score: (test=-9.062) total time=   3.6s\n",
      "[CV] START .....................................................................\n"
     ]
    },
    {
     "name": "stderr",
     "output_type": "stream",
     "text": [
      "[Parallel(n_jobs=-1)]: Done   4 out of   4 | elapsed:   14.6s remaining:    0.0s\n"
     ]
    },
    {
     "name": "stdout",
     "output_type": "stream",
     "text": [
      "[CV] END .............................. score: (test=-10.562) total time=   3.5s\n",
      "[CV] START .....................................................................\n"
     ]
    },
    {
     "name": "stderr",
     "output_type": "stream",
     "text": [
      "[Parallel(n_jobs=-1)]: Done   5 out of   5 | elapsed:   18.2s remaining:    0.0s\n",
      "[Parallel(n_jobs=-1)]: Done   5 out of   5 | elapsed:   18.2s finished\n",
      "[Parallel(n_jobs=-1)]: Using backend SequentialBackend with 1 concurrent workers.\n"
     ]
    },
    {
     "name": "stdout",
     "output_type": "stream",
     "text": [
      "[CV] END ............................... score: (test=-9.146) total time=   5.6s\n",
      "[CV] START .....................................................................\n"
     ]
    },
    {
     "name": "stderr",
     "output_type": "stream",
     "text": [
      "[Parallel(n_jobs=-1)]: Done   1 out of   1 | elapsed:    5.6s remaining:    0.0s\n"
     ]
    },
    {
     "name": "stdout",
     "output_type": "stream",
     "text": [
      "[CV] END ............................... score: (test=-6.930) total time=   5.6s\n",
      "[CV] START .....................................................................\n"
     ]
    },
    {
     "name": "stderr",
     "output_type": "stream",
     "text": [
      "[Parallel(n_jobs=-1)]: Done   2 out of   2 | elapsed:   11.2s remaining:    0.0s\n"
     ]
    },
    {
     "name": "stdout",
     "output_type": "stream",
     "text": [
      "[CV] END ............................... score: (test=-4.955) total time=   5.6s\n",
      "[CV] START .....................................................................\n"
     ]
    },
    {
     "name": "stderr",
     "output_type": "stream",
     "text": [
      "[Parallel(n_jobs=-1)]: Done   3 out of   3 | elapsed:   16.8s remaining:    0.0s\n"
     ]
    },
    {
     "name": "stdout",
     "output_type": "stream",
     "text": [
      "[CV] END ............................... score: (test=-4.998) total time=   5.5s\n",
      "[CV] START .....................................................................\n"
     ]
    },
    {
     "name": "stderr",
     "output_type": "stream",
     "text": [
      "[Parallel(n_jobs=-1)]: Done   4 out of   4 | elapsed:   22.3s remaining:    0.0s\n"
     ]
    },
    {
     "name": "stdout",
     "output_type": "stream",
     "text": [
      "[CV] END ............................... score: (test=-7.786) total time=   5.6s\n",
      "[CV] START .....................................................................\n"
     ]
    },
    {
     "name": "stderr",
     "output_type": "stream",
     "text": [
      "[Parallel(n_jobs=-1)]: Done   5 out of   5 | elapsed:   27.9s remaining:    0.0s\n",
      "[Parallel(n_jobs=-1)]: Done   5 out of   5 | elapsed:   27.9s finished\n",
      "[Parallel(n_jobs=-1)]: Using backend SequentialBackend with 1 concurrent workers.\n"
     ]
    },
    {
     "name": "stdout",
     "output_type": "stream",
     "text": [
      "[CV] END ............................... score: (test=-9.249) total time=   5.6s\n",
      "[CV] START .....................................................................\n"
     ]
    },
    {
     "name": "stderr",
     "output_type": "stream",
     "text": [
      "[Parallel(n_jobs=-1)]: Done   1 out of   1 | elapsed:    5.6s remaining:    0.0s\n"
     ]
    },
    {
     "name": "stdout",
     "output_type": "stream",
     "text": [
      "[CV] END ............................... score: (test=-8.654) total time=   5.6s\n",
      "[CV] START .....................................................................\n"
     ]
    },
    {
     "name": "stderr",
     "output_type": "stream",
     "text": [
      "[Parallel(n_jobs=-1)]: Done   2 out of   2 | elapsed:   11.3s remaining:    0.0s\n"
     ]
    },
    {
     "name": "stdout",
     "output_type": "stream",
     "text": [
      "[CV] END ............................... score: (test=-9.526) total time=   5.6s\n",
      "[CV] START .....................................................................\n"
     ]
    },
    {
     "name": "stderr",
     "output_type": "stream",
     "text": [
      "[Parallel(n_jobs=-1)]: Done   3 out of   3 | elapsed:   16.9s remaining:    0.0s\n"
     ]
    },
    {
     "name": "stdout",
     "output_type": "stream",
     "text": [
      "[CV] END ............................... score: (test=-8.515) total time=   5.8s\n",
      "[CV] START .....................................................................\n"
     ]
    },
    {
     "name": "stderr",
     "output_type": "stream",
     "text": [
      "[Parallel(n_jobs=-1)]: Done   4 out of   4 | elapsed:   22.6s remaining:    0.0s\n"
     ]
    },
    {
     "name": "stdout",
     "output_type": "stream",
     "text": [
      "[CV] END .............................. score: (test=-10.284) total time=   5.7s\n",
      "[CV] START .....................................................................\n"
     ]
    },
    {
     "name": "stderr",
     "output_type": "stream",
     "text": [
      "[Parallel(n_jobs=-1)]: Done   5 out of   5 | elapsed:   28.3s remaining:    0.0s\n",
      "[Parallel(n_jobs=-1)]: Done   5 out of   5 | elapsed:   28.3s finished\n",
      "[Parallel(n_jobs=-1)]: Using backend SequentialBackend with 1 concurrent workers.\n"
     ]
    },
    {
     "name": "stdout",
     "output_type": "stream",
     "text": [
      "[CV] END ............................... score: (test=-8.939) total time=   7.5s\n",
      "[CV] START .....................................................................\n"
     ]
    },
    {
     "name": "stderr",
     "output_type": "stream",
     "text": [
      "[Parallel(n_jobs=-1)]: Done   1 out of   1 | elapsed:    7.5s remaining:    0.0s\n"
     ]
    },
    {
     "name": "stdout",
     "output_type": "stream",
     "text": [
      "[CV] END ............................... score: (test=-6.924) total time=   7.5s\n",
      "[CV] START .....................................................................\n"
     ]
    },
    {
     "name": "stderr",
     "output_type": "stream",
     "text": [
      "[Parallel(n_jobs=-1)]: Done   2 out of   2 | elapsed:   15.0s remaining:    0.0s\n"
     ]
    },
    {
     "name": "stdout",
     "output_type": "stream",
     "text": [
      "[CV] END ............................... score: (test=-4.940) total time=   7.4s\n",
      "[CV] START .....................................................................\n"
     ]
    },
    {
     "name": "stderr",
     "output_type": "stream",
     "text": [
      "[Parallel(n_jobs=-1)]: Done   3 out of   3 | elapsed:   22.4s remaining:    0.0s\n"
     ]
    },
    {
     "name": "stdout",
     "output_type": "stream",
     "text": [
      "[CV] END ............................... score: (test=-5.362) total time=   7.3s\n",
      "[CV] START .....................................................................\n"
     ]
    },
    {
     "name": "stderr",
     "output_type": "stream",
     "text": [
      "[Parallel(n_jobs=-1)]: Done   4 out of   4 | elapsed:   29.7s remaining:    0.0s\n"
     ]
    },
    {
     "name": "stdout",
     "output_type": "stream",
     "text": [
      "[CV] END ............................... score: (test=-7.894) total time=   7.4s\n",
      "[CV] START .....................................................................\n"
     ]
    },
    {
     "name": "stderr",
     "output_type": "stream",
     "text": [
      "[Parallel(n_jobs=-1)]: Done   5 out of   5 | elapsed:   37.1s remaining:    0.0s\n",
      "[Parallel(n_jobs=-1)]: Done   5 out of   5 | elapsed:   37.1s finished\n",
      "[Parallel(n_jobs=-1)]: Using backend SequentialBackend with 1 concurrent workers.\n"
     ]
    },
    {
     "name": "stdout",
     "output_type": "stream",
     "text": [
      "[CV] END ............................... score: (test=-9.048) total time=   7.8s\n",
      "[CV] START .....................................................................\n"
     ]
    },
    {
     "name": "stderr",
     "output_type": "stream",
     "text": [
      "[Parallel(n_jobs=-1)]: Done   1 out of   1 | elapsed:    7.8s remaining:    0.0s\n"
     ]
    },
    {
     "name": "stdout",
     "output_type": "stream",
     "text": [
      "[CV] END ............................... score: (test=-8.560) total time=   8.2s\n",
      "[CV] START .....................................................................\n"
     ]
    },
    {
     "name": "stderr",
     "output_type": "stream",
     "text": [
      "[Parallel(n_jobs=-1)]: Done   2 out of   2 | elapsed:   16.0s remaining:    0.0s\n"
     ]
    },
    {
     "name": "stdout",
     "output_type": "stream",
     "text": [
      "[CV] END ............................... score: (test=-9.500) total time=   7.5s\n",
      "[CV] START .....................................................................\n"
     ]
    },
    {
     "name": "stderr",
     "output_type": "stream",
     "text": [
      "[Parallel(n_jobs=-1)]: Done   3 out of   3 | elapsed:   23.5s remaining:    0.0s\n"
     ]
    },
    {
     "name": "stdout",
     "output_type": "stream",
     "text": [
      "[CV] END ............................... score: (test=-8.728) total time=   7.5s\n",
      "[CV] START .....................................................................\n"
     ]
    },
    {
     "name": "stderr",
     "output_type": "stream",
     "text": [
      "[Parallel(n_jobs=-1)]: Done   4 out of   4 | elapsed:   31.1s remaining:    0.0s\n"
     ]
    },
    {
     "name": "stdout",
     "output_type": "stream",
     "text": [
      "[CV] END .............................. score: (test=-10.365) total time=   7.6s\n",
      "[CV] START .....................................................................\n"
     ]
    },
    {
     "name": "stderr",
     "output_type": "stream",
     "text": [
      "[Parallel(n_jobs=-1)]: Done   5 out of   5 | elapsed:   38.6s remaining:    0.0s\n",
      "[Parallel(n_jobs=-1)]: Done   5 out of   5 | elapsed:   38.6s finished\n",
      "[Parallel(n_jobs=-1)]: Using backend SequentialBackend with 1 concurrent workers.\n"
     ]
    },
    {
     "name": "stdout",
     "output_type": "stream",
     "text": [
      "[CV] END ............................... score: (test=-8.868) total time=   9.1s\n",
      "[CV] START .....................................................................\n"
     ]
    },
    {
     "name": "stderr",
     "output_type": "stream",
     "text": [
      "[Parallel(n_jobs=-1)]: Done   1 out of   1 | elapsed:    9.1s remaining:    0.0s\n"
     ]
    },
    {
     "name": "stdout",
     "output_type": "stream",
     "text": [
      "[CV] END ............................... score: (test=-7.116) total time=   9.1s\n",
      "[CV] START .....................................................................\n"
     ]
    },
    {
     "name": "stderr",
     "output_type": "stream",
     "text": [
      "[Parallel(n_jobs=-1)]: Done   2 out of   2 | elapsed:   18.1s remaining:    0.0s\n"
     ]
    },
    {
     "name": "stdout",
     "output_type": "stream",
     "text": [
      "[CV] END ............................... score: (test=-5.057) total time=   9.0s\n",
      "[CV] START .....................................................................\n"
     ]
    },
    {
     "name": "stderr",
     "output_type": "stream",
     "text": [
      "[Parallel(n_jobs=-1)]: Done   3 out of   3 | elapsed:   27.2s remaining:    0.0s\n"
     ]
    },
    {
     "name": "stdout",
     "output_type": "stream",
     "text": [
      "[CV] END ............................... score: (test=-5.779) total time=   9.3s\n",
      "[CV] START .....................................................................\n"
     ]
    },
    {
     "name": "stderr",
     "output_type": "stream",
     "text": [
      "[Parallel(n_jobs=-1)]: Done   4 out of   4 | elapsed:   36.4s remaining:    0.0s\n"
     ]
    },
    {
     "name": "stdout",
     "output_type": "stream",
     "text": [
      "[CV] END ............................... score: (test=-8.181) total time=   9.2s\n",
      "[CV] START .....................................................................\n"
     ]
    },
    {
     "name": "stderr",
     "output_type": "stream",
     "text": [
      "[Parallel(n_jobs=-1)]: Done   5 out of   5 | elapsed:   45.6s remaining:    0.0s\n",
      "[Parallel(n_jobs=-1)]: Done   5 out of   5 | elapsed:   45.6s finished\n",
      "[Parallel(n_jobs=-1)]: Using backend SequentialBackend with 1 concurrent workers.\n"
     ]
    },
    {
     "name": "stdout",
     "output_type": "stream",
     "text": [
      "[CV] END ............................... score: (test=-9.306) total time=   9.4s\n",
      "[CV] START .....................................................................\n"
     ]
    },
    {
     "name": "stderr",
     "output_type": "stream",
     "text": [
      "[Parallel(n_jobs=-1)]: Done   1 out of   1 | elapsed:    9.4s remaining:    0.0s\n"
     ]
    },
    {
     "name": "stdout",
     "output_type": "stream",
     "text": [
      "[CV] END ............................... score: (test=-9.330) total time=   9.4s\n",
      "[CV] START .....................................................................\n"
     ]
    },
    {
     "name": "stderr",
     "output_type": "stream",
     "text": [
      "[Parallel(n_jobs=-1)]: Done   2 out of   2 | elapsed:   18.8s remaining:    0.0s\n"
     ]
    },
    {
     "name": "stdout",
     "output_type": "stream",
     "text": [
      "[CV] END ............................... score: (test=-9.231) total time=   9.2s\n",
      "[CV] START .....................................................................\n"
     ]
    },
    {
     "name": "stderr",
     "output_type": "stream",
     "text": [
      "[Parallel(n_jobs=-1)]: Done   3 out of   3 | elapsed:   28.0s remaining:    0.0s\n"
     ]
    },
    {
     "name": "stdout",
     "output_type": "stream",
     "text": [
      "[CV] END ............................... score: (test=-8.873) total time=   9.3s\n",
      "[CV] START .....................................................................\n"
     ]
    },
    {
     "name": "stderr",
     "output_type": "stream",
     "text": [
      "[Parallel(n_jobs=-1)]: Done   4 out of   4 | elapsed:   37.3s remaining:    0.0s\n"
     ]
    },
    {
     "name": "stdout",
     "output_type": "stream",
     "text": [
      "[CV] END .............................. score: (test=-10.666) total time=   9.6s\n",
      "[CV] START .....................................................................\n"
     ]
    },
    {
     "name": "stderr",
     "output_type": "stream",
     "text": [
      "[Parallel(n_jobs=-1)]: Done   5 out of   5 | elapsed:   46.9s remaining:    0.0s\n",
      "[Parallel(n_jobs=-1)]: Done   5 out of   5 | elapsed:   46.9s finished\n",
      "[Parallel(n_jobs=-1)]: Using backend SequentialBackend with 1 concurrent workers.\n"
     ]
    },
    {
     "name": "stdout",
     "output_type": "stream",
     "text": [
      "[CV] END ............................... score: (test=-8.848) total time=  10.8s\n",
      "[CV] START .....................................................................\n"
     ]
    },
    {
     "name": "stderr",
     "output_type": "stream",
     "text": [
      "[Parallel(n_jobs=-1)]: Done   1 out of   1 | elapsed:   10.8s remaining:    0.0s\n"
     ]
    },
    {
     "name": "stdout",
     "output_type": "stream",
     "text": [
      "[CV] END ............................... score: (test=-7.947) total time=  10.8s\n",
      "[CV] START .....................................................................\n"
     ]
    },
    {
     "name": "stderr",
     "output_type": "stream",
     "text": [
      "[Parallel(n_jobs=-1)]: Done   2 out of   2 | elapsed:   21.6s remaining:    0.0s\n"
     ]
    },
    {
     "name": "stdout",
     "output_type": "stream",
     "text": [
      "[CV] END ............................... score: (test=-5.018) total time=  10.6s\n",
      "[CV] START .....................................................................\n"
     ]
    },
    {
     "name": "stderr",
     "output_type": "stream",
     "text": [
      "[Parallel(n_jobs=-1)]: Done   3 out of   3 | elapsed:   32.2s remaining:    0.0s\n"
     ]
    },
    {
     "name": "stdout",
     "output_type": "stream",
     "text": [
      "[CV] END ............................... score: (test=-6.061) total time=  10.7s\n",
      "[CV] START .....................................................................\n"
     ]
    },
    {
     "name": "stderr",
     "output_type": "stream",
     "text": [
      "[Parallel(n_jobs=-1)]: Done   4 out of   4 | elapsed:   42.9s remaining:    0.0s\n"
     ]
    },
    {
     "name": "stdout",
     "output_type": "stream",
     "text": [
      "[CV] END ............................... score: (test=-8.692) total time=  10.6s\n",
      "[CV] START .....................................................................\n"
     ]
    },
    {
     "name": "stderr",
     "output_type": "stream",
     "text": [
      "[Parallel(n_jobs=-1)]: Done   5 out of   5 | elapsed:   53.5s remaining:    0.0s\n",
      "[Parallel(n_jobs=-1)]: Done   5 out of   5 | elapsed:   53.5s finished\n",
      "[Parallel(n_jobs=-1)]: Using backend SequentialBackend with 1 concurrent workers.\n"
     ]
    },
    {
     "name": "stdout",
     "output_type": "stream",
     "text": [
      "[CV] END ............................... score: (test=-9.167) total time=  11.5s\n",
      "[CV] START .....................................................................\n"
     ]
    },
    {
     "name": "stderr",
     "output_type": "stream",
     "text": [
      "[Parallel(n_jobs=-1)]: Done   1 out of   1 | elapsed:   11.5s remaining:    0.0s\n"
     ]
    },
    {
     "name": "stdout",
     "output_type": "stream",
     "text": [
      "[CV] END ............................... score: (test=-9.377) total time=  11.2s\n",
      "[CV] START .....................................................................\n"
     ]
    },
    {
     "name": "stderr",
     "output_type": "stream",
     "text": [
      "[Parallel(n_jobs=-1)]: Done   2 out of   2 | elapsed:   22.7s remaining:    0.0s\n"
     ]
    },
    {
     "name": "stdout",
     "output_type": "stream",
     "text": [
      "[CV] END ............................... score: (test=-9.462) total time=  10.9s\n",
      "[CV] START .....................................................................\n"
     ]
    },
    {
     "name": "stderr",
     "output_type": "stream",
     "text": [
      "[Parallel(n_jobs=-1)]: Done   3 out of   3 | elapsed:   33.5s remaining:    0.0s\n"
     ]
    },
    {
     "name": "stdout",
     "output_type": "stream",
     "text": [
      "[CV] END ............................... score: (test=-9.582) total time=  10.9s\n",
      "[CV] START .....................................................................\n"
     ]
    },
    {
     "name": "stderr",
     "output_type": "stream",
     "text": [
      "[Parallel(n_jobs=-1)]: Done   4 out of   4 | elapsed:   44.4s remaining:    0.0s\n"
     ]
    },
    {
     "name": "stdout",
     "output_type": "stream",
     "text": [
      "[CV] END .............................. score: (test=-10.904) total time=  10.9s\n",
      "[CV] START .....................................................................\n"
     ]
    },
    {
     "name": "stderr",
     "output_type": "stream",
     "text": [
      "[Parallel(n_jobs=-1)]: Done   5 out of   5 | elapsed:   55.3s remaining:    0.0s\n",
      "[Parallel(n_jobs=-1)]: Done   5 out of   5 | elapsed:   55.3s finished\n",
      "[Parallel(n_jobs=-1)]: Using backend SequentialBackend with 1 concurrent workers.\n"
     ]
    },
    {
     "name": "stdout",
     "output_type": "stream",
     "text": [
      "[CV] END ............................... score: (test=-8.821) total time=  12.0s\n",
      "[CV] START .....................................................................\n"
     ]
    },
    {
     "name": "stderr",
     "output_type": "stream",
     "text": [
      "[Parallel(n_jobs=-1)]: Done   1 out of   1 | elapsed:   12.0s remaining:    0.0s\n"
     ]
    },
    {
     "name": "stdout",
     "output_type": "stream",
     "text": [
      "[CV] END ............................... score: (test=-7.514) total time=  12.7s\n",
      "[CV] START .....................................................................\n"
     ]
    },
    {
     "name": "stderr",
     "output_type": "stream",
     "text": [
      "[Parallel(n_jobs=-1)]: Done   2 out of   2 | elapsed:   24.7s remaining:    0.0s\n"
     ]
    },
    {
     "name": "stdout",
     "output_type": "stream",
     "text": [
      "[CV] END ............................... score: (test=-5.057) total time=  11.8s\n",
      "[CV] START .....................................................................\n"
     ]
    },
    {
     "name": "stderr",
     "output_type": "stream",
     "text": [
      "[Parallel(n_jobs=-1)]: Done   3 out of   3 | elapsed:   36.5s remaining:    0.0s\n"
     ]
    },
    {
     "name": "stdout",
     "output_type": "stream",
     "text": [
      "[CV] END ............................... score: (test=-6.208) total time=  11.9s\n",
      "[CV] START .....................................................................\n"
     ]
    },
    {
     "name": "stderr",
     "output_type": "stream",
     "text": [
      "[Parallel(n_jobs=-1)]: Done   4 out of   4 | elapsed:   48.4s remaining:    0.0s\n"
     ]
    },
    {
     "name": "stdout",
     "output_type": "stream",
     "text": [
      "[CV] END ............................... score: (test=-8.740) total time=  12.0s\n",
      "[CV] START .....................................................................\n"
     ]
    },
    {
     "name": "stderr",
     "output_type": "stream",
     "text": [
      "[Parallel(n_jobs=-1)]: Done   5 out of   5 | elapsed:  1.0min remaining:    0.0s\n",
      "[Parallel(n_jobs=-1)]: Done   5 out of   5 | elapsed:  1.0min finished\n",
      "[Parallel(n_jobs=-1)]: Using backend SequentialBackend with 1 concurrent workers.\n"
     ]
    },
    {
     "name": "stdout",
     "output_type": "stream",
     "text": [
      "[CV] END ............................... score: (test=-9.188) total time=  12.7s\n",
      "[CV] START .....................................................................\n"
     ]
    },
    {
     "name": "stderr",
     "output_type": "stream",
     "text": [
      "[Parallel(n_jobs=-1)]: Done   1 out of   1 | elapsed:   12.7s remaining:    0.0s\n"
     ]
    },
    {
     "name": "stdout",
     "output_type": "stream",
     "text": [
      "[CV] END ............................... score: (test=-9.380) total time=  12.6s\n",
      "[CV] START .....................................................................\n"
     ]
    },
    {
     "name": "stderr",
     "output_type": "stream",
     "text": [
      "[Parallel(n_jobs=-1)]: Done   2 out of   2 | elapsed:   25.4s remaining:    0.0s\n"
     ]
    },
    {
     "name": "stdout",
     "output_type": "stream",
     "text": [
      "[CV] END ............................... score: (test=-9.412) total time=  12.3s\n",
      "[CV] START .....................................................................\n"
     ]
    },
    {
     "name": "stderr",
     "output_type": "stream",
     "text": [
      "[Parallel(n_jobs=-1)]: Done   3 out of   3 | elapsed:   37.6s remaining:    0.0s\n"
     ]
    },
    {
     "name": "stdout",
     "output_type": "stream",
     "text": [
      "[CV] END ............................... score: (test=-9.988) total time=  12.3s\n",
      "[CV] START .....................................................................\n"
     ]
    },
    {
     "name": "stderr",
     "output_type": "stream",
     "text": [
      "[Parallel(n_jobs=-1)]: Done   4 out of   4 | elapsed:   49.9s remaining:    0.0s\n"
     ]
    },
    {
     "name": "stdout",
     "output_type": "stream",
     "text": [
      "[CV] END .............................. score: (test=-10.893) total time=  12.4s\n",
      "[CV] START .....................................................................\n"
     ]
    },
    {
     "name": "stderr",
     "output_type": "stream",
     "text": [
      "[Parallel(n_jobs=-1)]: Done   5 out of   5 | elapsed:  1.0min remaining:    0.0s\n",
      "[Parallel(n_jobs=-1)]: Done   5 out of   5 | elapsed:  1.0min finished\n",
      "[Parallel(n_jobs=-1)]: Using backend SequentialBackend with 1 concurrent workers.\n"
     ]
    },
    {
     "name": "stdout",
     "output_type": "stream",
     "text": [
      "[CV] END ............................... score: (test=-8.473) total time=  13.5s\n",
      "[CV] START .....................................................................\n"
     ]
    },
    {
     "name": "stderr",
     "output_type": "stream",
     "text": [
      "[Parallel(n_jobs=-1)]: Done   1 out of   1 | elapsed:   13.5s remaining:    0.0s\n"
     ]
    },
    {
     "name": "stdout",
     "output_type": "stream",
     "text": [
      "[CV] END ............................... score: (test=-7.765) total time=  13.4s\n",
      "[CV] START .....................................................................\n"
     ]
    },
    {
     "name": "stderr",
     "output_type": "stream",
     "text": [
      "[Parallel(n_jobs=-1)]: Done   2 out of   2 | elapsed:   26.9s remaining:    0.0s\n"
     ]
    },
    {
     "name": "stdout",
     "output_type": "stream",
     "text": [
      "[CV] END ............................... score: (test=-5.017) total time=  12.9s\n",
      "[CV] START .....................................................................\n"
     ]
    },
    {
     "name": "stderr",
     "output_type": "stream",
     "text": [
      "[Parallel(n_jobs=-1)]: Done   3 out of   3 | elapsed:   39.8s remaining:    0.0s\n"
     ]
    },
    {
     "name": "stdout",
     "output_type": "stream",
     "text": [
      "[CV] END ............................... score: (test=-6.241) total time=  12.9s\n",
      "[CV] START .....................................................................\n"
     ]
    },
    {
     "name": "stderr",
     "output_type": "stream",
     "text": [
      "[Parallel(n_jobs=-1)]: Done   4 out of   4 | elapsed:   52.8s remaining:    0.0s\n"
     ]
    },
    {
     "name": "stdout",
     "output_type": "stream",
     "text": [
      "[CV] END ............................... score: (test=-8.828) total time=  13.6s\n",
      "[CV] START .....................................................................\n"
     ]
    },
    {
     "name": "stderr",
     "output_type": "stream",
     "text": [
      "[Parallel(n_jobs=-1)]: Done   5 out of   5 | elapsed:  1.1min remaining:    0.0s\n",
      "[Parallel(n_jobs=-1)]: Done   5 out of   5 | elapsed:  1.1min finished\n",
      "[Parallel(n_jobs=-1)]: Using backend SequentialBackend with 1 concurrent workers.\n"
     ]
    },
    {
     "name": "stdout",
     "output_type": "stream",
     "text": [
      "[CV] END ............................... score: (test=-9.405) total time=  13.9s\n",
      "[CV] START .....................................................................\n"
     ]
    },
    {
     "name": "stderr",
     "output_type": "stream",
     "text": [
      "[Parallel(n_jobs=-1)]: Done   1 out of   1 | elapsed:   13.9s remaining:    0.0s\n"
     ]
    },
    {
     "name": "stdout",
     "output_type": "stream",
     "text": [
      "[CV] END ............................... score: (test=-9.563) total time=  14.0s\n",
      "[CV] START .....................................................................\n"
     ]
    },
    {
     "name": "stderr",
     "output_type": "stream",
     "text": [
      "[Parallel(n_jobs=-1)]: Done   2 out of   2 | elapsed:   27.9s remaining:    0.0s\n"
     ]
    },
    {
     "name": "stdout",
     "output_type": "stream",
     "text": [
      "[CV] END ............................... score: (test=-9.290) total time=  13.4s\n",
      "[CV] START .....................................................................\n"
     ]
    },
    {
     "name": "stderr",
     "output_type": "stream",
     "text": [
      "[Parallel(n_jobs=-1)]: Done   3 out of   3 | elapsed:   41.3s remaining:    0.0s\n"
     ]
    },
    {
     "name": "stdout",
     "output_type": "stream",
     "text": [
      "[CV] END .............................. score: (test=-10.137) total time=  13.5s\n",
      "[CV] START .....................................................................\n"
     ]
    },
    {
     "name": "stderr",
     "output_type": "stream",
     "text": [
      "[Parallel(n_jobs=-1)]: Done   4 out of   4 | elapsed:   54.8s remaining:    0.0s\n"
     ]
    },
    {
     "name": "stdout",
     "output_type": "stream",
     "text": [
      "[CV] END .............................. score: (test=-11.029) total time=  14.4s\n",
      "[CV] START .....................................................................\n"
     ]
    },
    {
     "name": "stderr",
     "output_type": "stream",
     "text": [
      "[Parallel(n_jobs=-1)]: Done   5 out of   5 | elapsed:  1.2min remaining:    0.0s\n",
      "[Parallel(n_jobs=-1)]: Done   5 out of   5 | elapsed:  1.2min finished\n",
      "[Parallel(n_jobs=-1)]: Using backend SequentialBackend with 1 concurrent workers.\n"
     ]
    },
    {
     "name": "stdout",
     "output_type": "stream",
     "text": [
      "[CV] END ............................... score: (test=-8.564) total time=  14.1s\n",
      "[CV] START .....................................................................\n"
     ]
    },
    {
     "name": "stderr",
     "output_type": "stream",
     "text": [
      "[Parallel(n_jobs=-1)]: Done   1 out of   1 | elapsed:   14.1s remaining:    0.0s\n"
     ]
    },
    {
     "name": "stdout",
     "output_type": "stream",
     "text": [
      "[CV] END ............................... score: (test=-7.873) total time=  14.0s\n",
      "[CV] START .....................................................................\n"
     ]
    },
    {
     "name": "stderr",
     "output_type": "stream",
     "text": [
      "[Parallel(n_jobs=-1)]: Done   2 out of   2 | elapsed:   28.1s remaining:    0.0s\n"
     ]
    },
    {
     "name": "stdout",
     "output_type": "stream",
     "text": [
      "[CV] END ............................... score: (test=-5.052) total time=  13.6s\n",
      "[CV] START .....................................................................\n"
     ]
    },
    {
     "name": "stderr",
     "output_type": "stream",
     "text": [
      "[Parallel(n_jobs=-1)]: Done   3 out of   3 | elapsed:   41.7s remaining:    0.0s\n"
     ]
    },
    {
     "name": "stdout",
     "output_type": "stream",
     "text": [
      "[CV] END ............................... score: (test=-6.231) total time=  13.9s\n",
      "[CV] START .....................................................................\n"
     ]
    },
    {
     "name": "stderr",
     "output_type": "stream",
     "text": [
      "[Parallel(n_jobs=-1)]: Done   4 out of   4 | elapsed:   55.5s remaining:    0.0s\n"
     ]
    },
    {
     "name": "stdout",
     "output_type": "stream",
     "text": [
      "[CV] END ............................... score: (test=-8.586) total time=  13.9s\n",
      "[CV] START .....................................................................\n"
     ]
    },
    {
     "name": "stderr",
     "output_type": "stream",
     "text": [
      "[Parallel(n_jobs=-1)]: Done   5 out of   5 | elapsed:  1.2min remaining:    0.0s\n",
      "[Parallel(n_jobs=-1)]: Done   5 out of   5 | elapsed:  1.2min finished\n",
      "[Parallel(n_jobs=-1)]: Using backend SequentialBackend with 1 concurrent workers.\n"
     ]
    },
    {
     "name": "stdout",
     "output_type": "stream",
     "text": [
      "[CV] END ............................... score: (test=-9.184) total time=  15.0s\n",
      "[CV] START .....................................................................\n"
     ]
    },
    {
     "name": "stderr",
     "output_type": "stream",
     "text": [
      "[Parallel(n_jobs=-1)]: Done   1 out of   1 | elapsed:   15.0s remaining:    0.0s\n"
     ]
    },
    {
     "name": "stdout",
     "output_type": "stream",
     "text": [
      "[CV] END ............................... score: (test=-9.379) total time=  15.3s\n",
      "[CV] START .....................................................................\n"
     ]
    },
    {
     "name": "stderr",
     "output_type": "stream",
     "text": [
      "[Parallel(n_jobs=-1)]: Done   2 out of   2 | elapsed:   30.3s remaining:    0.0s\n"
     ]
    },
    {
     "name": "stdout",
     "output_type": "stream",
     "text": [
      "[CV] END ............................... score: (test=-9.417) total time=  14.7s\n",
      "[CV] START .....................................................................\n"
     ]
    },
    {
     "name": "stderr",
     "output_type": "stream",
     "text": [
      "[Parallel(n_jobs=-1)]: Done   3 out of   3 | elapsed:   45.0s remaining:    0.0s\n"
     ]
    },
    {
     "name": "stdout",
     "output_type": "stream",
     "text": [
      "[CV] END .............................. score: (test=-10.311) total time=  15.1s\n",
      "[CV] START .....................................................................\n"
     ]
    },
    {
     "name": "stderr",
     "output_type": "stream",
     "text": [
      "[Parallel(n_jobs=-1)]: Done   4 out of   4 | elapsed:  1.0min remaining:    0.0s\n"
     ]
    },
    {
     "name": "stdout",
     "output_type": "stream",
     "text": [
      "[CV] END .............................. score: (test=-11.092) total time=  14.9s\n",
      "[CV] START .....................................................................\n"
     ]
    },
    {
     "name": "stderr",
     "output_type": "stream",
     "text": [
      "[Parallel(n_jobs=-1)]: Done   5 out of   5 | elapsed:  1.2min remaining:    0.0s\n",
      "[Parallel(n_jobs=-1)]: Done   5 out of   5 | elapsed:  1.2min finished\n",
      "[Parallel(n_jobs=-1)]: Using backend SequentialBackend with 1 concurrent workers.\n"
     ]
    },
    {
     "name": "stdout",
     "output_type": "stream",
     "text": [
      "[CV] END ............................... score: (test=-8.536) total time=  14.5s\n",
      "[CV] START .....................................................................\n"
     ]
    },
    {
     "name": "stderr",
     "output_type": "stream",
     "text": [
      "[Parallel(n_jobs=-1)]: Done   1 out of   1 | elapsed:   14.5s remaining:    0.0s\n"
     ]
    },
    {
     "name": "stdout",
     "output_type": "stream",
     "text": [
      "[CV] END ............................... score: (test=-7.318) total time=  14.7s\n",
      "[CV] START .....................................................................\n"
     ]
    },
    {
     "name": "stderr",
     "output_type": "stream",
     "text": [
      "[Parallel(n_jobs=-1)]: Done   2 out of   2 | elapsed:   29.3s remaining:    0.0s\n"
     ]
    },
    {
     "name": "stdout",
     "output_type": "stream",
     "text": [
      "[CV] END ............................... score: (test=-5.145) total time=  14.9s\n",
      "[CV] START .....................................................................\n"
     ]
    },
    {
     "name": "stderr",
     "output_type": "stream",
     "text": [
      "[Parallel(n_jobs=-1)]: Done   3 out of   3 | elapsed:   44.1s remaining:    0.0s\n"
     ]
    },
    {
     "name": "stdout",
     "output_type": "stream",
     "text": [
      "[CV] END ............................... score: (test=-6.190) total time=  14.4s\n",
      "[CV] START .....................................................................\n"
     ]
    },
    {
     "name": "stderr",
     "output_type": "stream",
     "text": [
      "[Parallel(n_jobs=-1)]: Done   4 out of   4 | elapsed:   58.6s remaining:    0.0s\n"
     ]
    },
    {
     "name": "stdout",
     "output_type": "stream",
     "text": [
      "[CV] END ............................... score: (test=-8.873) total time=  14.9s\n",
      "[CV] START .....................................................................\n"
     ]
    },
    {
     "name": "stderr",
     "output_type": "stream",
     "text": [
      "[Parallel(n_jobs=-1)]: Done   5 out of   5 | elapsed:  1.2min remaining:    0.0s\n",
      "[Parallel(n_jobs=-1)]: Done   5 out of   5 | elapsed:  1.2min finished\n",
      "[Parallel(n_jobs=-1)]: Using backend SequentialBackend with 1 concurrent workers.\n"
     ]
    },
    {
     "name": "stdout",
     "output_type": "stream",
     "text": [
      "[CV] END ............................... score: (test=-9.407) total time=  16.4s\n",
      "[CV] START .....................................................................\n"
     ]
    },
    {
     "name": "stderr",
     "output_type": "stream",
     "text": [
      "[Parallel(n_jobs=-1)]: Done   1 out of   1 | elapsed:   16.4s remaining:    0.0s\n"
     ]
    },
    {
     "name": "stdout",
     "output_type": "stream",
     "text": [
      "[CV] END ............................... score: (test=-9.610) total time=  16.4s\n",
      "[CV] START .....................................................................\n"
     ]
    },
    {
     "name": "stderr",
     "output_type": "stream",
     "text": [
      "[Parallel(n_jobs=-1)]: Done   2 out of   2 | elapsed:   32.8s remaining:    0.0s\n"
     ]
    },
    {
     "name": "stdout",
     "output_type": "stream",
     "text": [
      "[CV] END ............................... score: (test=-9.480) total time=  15.3s\n",
      "[CV] START .....................................................................\n"
     ]
    },
    {
     "name": "stderr",
     "output_type": "stream",
     "text": [
      "[Parallel(n_jobs=-1)]: Done   3 out of   3 | elapsed:   48.1s remaining:    0.0s\n"
     ]
    },
    {
     "name": "stdout",
     "output_type": "stream",
     "text": [
      "[CV] END .............................. score: (test=-10.278) total time=  16.3s\n",
      "[CV] START .....................................................................\n"
     ]
    },
    {
     "name": "stderr",
     "output_type": "stream",
     "text": [
      "[Parallel(n_jobs=-1)]: Done   4 out of   4 | elapsed:  1.1min remaining:    0.0s\n"
     ]
    },
    {
     "name": "stdout",
     "output_type": "stream",
     "text": [
      "[CV] END .............................. score: (test=-11.198) total time=  16.9s\n",
      "[CV] START .....................................................................\n"
     ]
    },
    {
     "name": "stderr",
     "output_type": "stream",
     "text": [
      "[Parallel(n_jobs=-1)]: Done   5 out of   5 | elapsed:  1.4min remaining:    0.0s\n",
      "[Parallel(n_jobs=-1)]: Done   5 out of   5 | elapsed:  1.4min finished\n",
      "[Parallel(n_jobs=-1)]: Using backend SequentialBackend with 1 concurrent workers.\n"
     ]
    },
    {
     "name": "stdout",
     "output_type": "stream",
     "text": [
      "[CV] END .............................. score: (test=-10.806) total time=   2.4s\n",
      "[CV] START .....................................................................\n"
     ]
    },
    {
     "name": "stderr",
     "output_type": "stream",
     "text": [
      "[Parallel(n_jobs=-1)]: Done   1 out of   1 | elapsed:    2.4s remaining:    0.0s\n"
     ]
    },
    {
     "name": "stdout",
     "output_type": "stream",
     "text": [
      "[CV] END ............................... score: (test=-7.292) total time=   2.3s\n",
      "[CV] START .....................................................................\n"
     ]
    },
    {
     "name": "stderr",
     "output_type": "stream",
     "text": [
      "[Parallel(n_jobs=-1)]: Done   2 out of   2 | elapsed:    4.7s remaining:    0.0s\n"
     ]
    },
    {
     "name": "stdout",
     "output_type": "stream",
     "text": [
      "[CV] END ............................... score: (test=-5.021) total time=   2.4s\n",
      "[CV] START .....................................................................\n"
     ]
    },
    {
     "name": "stderr",
     "output_type": "stream",
     "text": [
      "[Parallel(n_jobs=-1)]: Done   3 out of   3 | elapsed:    7.0s remaining:    0.0s\n"
     ]
    },
    {
     "name": "stdout",
     "output_type": "stream",
     "text": [
      "[CV] END ............................... score: (test=-6.856) total time=   2.3s\n",
      "[CV] START .....................................................................\n"
     ]
    },
    {
     "name": "stderr",
     "output_type": "stream",
     "text": [
      "[Parallel(n_jobs=-1)]: Done   4 out of   4 | elapsed:    9.3s remaining:    0.0s\n"
     ]
    },
    {
     "name": "stdout",
     "output_type": "stream",
     "text": [
      "[CV] END ............................... score: (test=-8.713) total time=   2.3s\n",
      "[CV] START .....................................................................\n"
     ]
    },
    {
     "name": "stderr",
     "output_type": "stream",
     "text": [
      "[Parallel(n_jobs=-1)]: Done   5 out of   5 | elapsed:   11.6s remaining:    0.0s\n",
      "[Parallel(n_jobs=-1)]: Done   5 out of   5 | elapsed:   11.6s finished\n",
      "[Parallel(n_jobs=-1)]: Using backend SequentialBackend with 1 concurrent workers.\n"
     ]
    },
    {
     "name": "stdout",
     "output_type": "stream",
     "text": [
      "[CV] END ............................... score: (test=-9.637) total time=   2.3s\n",
      "[CV] START .....................................................................\n"
     ]
    },
    {
     "name": "stderr",
     "output_type": "stream",
     "text": [
      "[Parallel(n_jobs=-1)]: Done   1 out of   1 | elapsed:    2.3s remaining:    0.0s\n"
     ]
    },
    {
     "name": "stdout",
     "output_type": "stream",
     "text": [
      "[CV] END ............................... score: (test=-8.047) total time=   2.2s\n",
      "[CV] START .....................................................................\n"
     ]
    },
    {
     "name": "stderr",
     "output_type": "stream",
     "text": [
      "[Parallel(n_jobs=-1)]: Done   2 out of   2 | elapsed:    4.5s remaining:    0.0s\n"
     ]
    },
    {
     "name": "stdout",
     "output_type": "stream",
     "text": [
      "[CV] END ............................... score: (test=-9.348) total time=   2.3s\n",
      "[CV] START .....................................................................\n"
     ]
    },
    {
     "name": "stderr",
     "output_type": "stream",
     "text": [
      "[Parallel(n_jobs=-1)]: Done   3 out of   3 | elapsed:    6.8s remaining:    0.0s\n"
     ]
    },
    {
     "name": "stdout",
     "output_type": "stream",
     "text": [
      "[CV] END .............................. score: (test=-10.606) total time=   2.3s\n",
      "[CV] START .....................................................................\n"
     ]
    },
    {
     "name": "stderr",
     "output_type": "stream",
     "text": [
      "[Parallel(n_jobs=-1)]: Done   4 out of   4 | elapsed:    9.0s remaining:    0.0s\n"
     ]
    },
    {
     "name": "stdout",
     "output_type": "stream",
     "text": [
      "[CV] END .............................. score: (test=-11.369) total time=   2.4s\n",
      "[CV] START .....................................................................\n"
     ]
    },
    {
     "name": "stderr",
     "output_type": "stream",
     "text": [
      "[Parallel(n_jobs=-1)]: Done   5 out of   5 | elapsed:   11.4s remaining:    0.0s\n",
      "[Parallel(n_jobs=-1)]: Done   5 out of   5 | elapsed:   11.4s finished\n",
      "[Parallel(n_jobs=-1)]: Using backend SequentialBackend with 1 concurrent workers.\n"
     ]
    },
    {
     "name": "stdout",
     "output_type": "stream",
     "text": [
      "[CV] END ............................... score: (test=-9.564) total time=   6.6s\n",
      "[CV] START .....................................................................\n"
     ]
    },
    {
     "name": "stderr",
     "output_type": "stream",
     "text": [
      "[Parallel(n_jobs=-1)]: Done   1 out of   1 | elapsed:    6.6s remaining:    0.0s\n"
     ]
    },
    {
     "name": "stdout",
     "output_type": "stream",
     "text": [
      "[CV] END ............................... score: (test=-6.086) total time=   6.2s\n",
      "[CV] START .....................................................................\n"
     ]
    },
    {
     "name": "stderr",
     "output_type": "stream",
     "text": [
      "[Parallel(n_jobs=-1)]: Done   2 out of   2 | elapsed:   12.8s remaining:    0.0s\n"
     ]
    },
    {
     "name": "stdout",
     "output_type": "stream",
     "text": [
      "[CV] END ............................... score: (test=-5.098) total time=   6.4s\n",
      "[CV] START .....................................................................\n"
     ]
    },
    {
     "name": "stderr",
     "output_type": "stream",
     "text": [
      "[Parallel(n_jobs=-1)]: Done   3 out of   3 | elapsed:   19.2s remaining:    0.0s\n"
     ]
    },
    {
     "name": "stdout",
     "output_type": "stream",
     "text": [
      "[CV] END ............................... score: (test=-5.566) total time=   6.5s\n",
      "[CV] START .....................................................................\n"
     ]
    },
    {
     "name": "stderr",
     "output_type": "stream",
     "text": [
      "[Parallel(n_jobs=-1)]: Done   4 out of   4 | elapsed:   25.7s remaining:    0.0s\n"
     ]
    },
    {
     "name": "stdout",
     "output_type": "stream",
     "text": [
      "[CV] END ............................... score: (test=-7.752) total time=   6.3s\n",
      "[CV] START .....................................................................\n"
     ]
    },
    {
     "name": "stderr",
     "output_type": "stream",
     "text": [
      "[Parallel(n_jobs=-1)]: Done   5 out of   5 | elapsed:   32.0s remaining:    0.0s\n",
      "[Parallel(n_jobs=-1)]: Done   5 out of   5 | elapsed:   32.0s finished\n",
      "[Parallel(n_jobs=-1)]: Using backend SequentialBackend with 1 concurrent workers.\n"
     ]
    },
    {
     "name": "stdout",
     "output_type": "stream",
     "text": [
      "[CV] END ............................... score: (test=-9.638) total time=   7.0s\n",
      "[CV] START .....................................................................\n"
     ]
    },
    {
     "name": "stderr",
     "output_type": "stream",
     "text": [
      "[Parallel(n_jobs=-1)]: Done   1 out of   1 | elapsed:    7.0s remaining:    0.0s\n"
     ]
    },
    {
     "name": "stdout",
     "output_type": "stream",
     "text": [
      "[CV] END ............................... score: (test=-7.934) total time=   6.5s\n",
      "[CV] START .....................................................................\n"
     ]
    },
    {
     "name": "stderr",
     "output_type": "stream",
     "text": [
      "[Parallel(n_jobs=-1)]: Done   2 out of   2 | elapsed:   13.5s remaining:    0.0s\n"
     ]
    },
    {
     "name": "stdout",
     "output_type": "stream",
     "text": [
      "[CV] END ............................... score: (test=-9.851) total time=   6.4s\n",
      "[CV] START .....................................................................\n"
     ]
    },
    {
     "name": "stderr",
     "output_type": "stream",
     "text": [
      "[Parallel(n_jobs=-1)]: Done   3 out of   3 | elapsed:   20.0s remaining:    0.0s\n"
     ]
    },
    {
     "name": "stdout",
     "output_type": "stream",
     "text": [
      "[CV] END ............................... score: (test=-9.067) total time=   6.4s\n",
      "[CV] START .....................................................................\n"
     ]
    },
    {
     "name": "stderr",
     "output_type": "stream",
     "text": [
      "[Parallel(n_jobs=-1)]: Done   4 out of   4 | elapsed:   26.4s remaining:    0.0s\n"
     ]
    },
    {
     "name": "stdout",
     "output_type": "stream",
     "text": [
      "[CV] END .............................. score: (test=-10.470) total time=   6.3s\n",
      "[CV] START .....................................................................\n"
     ]
    },
    {
     "name": "stderr",
     "output_type": "stream",
     "text": [
      "[Parallel(n_jobs=-1)]: Done   5 out of   5 | elapsed:   32.6s remaining:    0.0s\n",
      "[Parallel(n_jobs=-1)]: Done   5 out of   5 | elapsed:   32.6s finished\n",
      "[Parallel(n_jobs=-1)]: Using backend SequentialBackend with 1 concurrent workers.\n"
     ]
    },
    {
     "name": "stdout",
     "output_type": "stream",
     "text": [
      "[CV] END ............................... score: (test=-9.197) total time=   9.9s\n",
      "[CV] START .....................................................................\n"
     ]
    },
    {
     "name": "stderr",
     "output_type": "stream",
     "text": [
      "[Parallel(n_jobs=-1)]: Done   1 out of   1 | elapsed:    9.9s remaining:    0.0s\n"
     ]
    },
    {
     "name": "stdout",
     "output_type": "stream",
     "text": [
      "[CV] END ............................... score: (test=-6.967) total time=   9.9s\n",
      "[CV] START .....................................................................\n"
     ]
    },
    {
     "name": "stderr",
     "output_type": "stream",
     "text": [
      "[Parallel(n_jobs=-1)]: Done   2 out of   2 | elapsed:   19.8s remaining:    0.0s\n"
     ]
    },
    {
     "name": "stdout",
     "output_type": "stream",
     "text": [
      "[CV] END ............................... score: (test=-4.874) total time=  10.2s\n",
      "[CV] START .....................................................................\n"
     ]
    },
    {
     "name": "stderr",
     "output_type": "stream",
     "text": [
      "[Parallel(n_jobs=-1)]: Done   3 out of   3 | elapsed:   30.0s remaining:    0.0s\n"
     ]
    },
    {
     "name": "stdout",
     "output_type": "stream",
     "text": [
      "[CV] END ............................... score: (test=-4.970) total time=   9.8s\n",
      "[CV] START .....................................................................\n"
     ]
    },
    {
     "name": "stderr",
     "output_type": "stream",
     "text": [
      "[Parallel(n_jobs=-1)]: Done   4 out of   4 | elapsed:   39.8s remaining:    0.0s\n"
     ]
    },
    {
     "name": "stdout",
     "output_type": "stream",
     "text": [
      "[CV] END ............................... score: (test=-7.912) total time=   9.8s\n",
      "[CV] START .....................................................................\n"
     ]
    },
    {
     "name": "stderr",
     "output_type": "stream",
     "text": [
      "[Parallel(n_jobs=-1)]: Done   5 out of   5 | elapsed:   49.6s remaining:    0.0s\n",
      "[Parallel(n_jobs=-1)]: Done   5 out of   5 | elapsed:   49.6s finished\n",
      "[Parallel(n_jobs=-1)]: Using backend SequentialBackend with 1 concurrent workers.\n"
     ]
    },
    {
     "name": "stdout",
     "output_type": "stream",
     "text": [
      "[CV] END ............................... score: (test=-9.182) total time=   9.9s\n",
      "[CV] START .....................................................................\n"
     ]
    },
    {
     "name": "stderr",
     "output_type": "stream",
     "text": [
      "[Parallel(n_jobs=-1)]: Done   1 out of   1 | elapsed:    9.9s remaining:    0.0s\n"
     ]
    },
    {
     "name": "stdout",
     "output_type": "stream",
     "text": [
      "[CV] END ............................... score: (test=-8.708) total time=  10.2s\n",
      "[CV] START .....................................................................\n"
     ]
    },
    {
     "name": "stderr",
     "output_type": "stream",
     "text": [
      "[Parallel(n_jobs=-1)]: Done   2 out of   2 | elapsed:   20.2s remaining:    0.0s\n"
     ]
    },
    {
     "name": "stdout",
     "output_type": "stream",
     "text": [
      "[CV] END ............................... score: (test=-9.322) total time=  10.0s\n",
      "[CV] START .....................................................................\n"
     ]
    },
    {
     "name": "stderr",
     "output_type": "stream",
     "text": [
      "[Parallel(n_jobs=-1)]: Done   3 out of   3 | elapsed:   30.2s remaining:    0.0s\n"
     ]
    },
    {
     "name": "stdout",
     "output_type": "stream",
     "text": [
      "[CV] END ............................... score: (test=-8.509) total time=  10.3s\n",
      "[CV] START .....................................................................\n"
     ]
    },
    {
     "name": "stderr",
     "output_type": "stream",
     "text": [
      "[Parallel(n_jobs=-1)]: Done   4 out of   4 | elapsed:   40.4s remaining:    0.0s\n"
     ]
    },
    {
     "name": "stdout",
     "output_type": "stream",
     "text": [
      "[CV] END .............................. score: (test=-10.085) total time=  10.0s\n",
      "[CV] START .....................................................................\n"
     ]
    },
    {
     "name": "stderr",
     "output_type": "stream",
     "text": [
      "[Parallel(n_jobs=-1)]: Done   5 out of   5 | elapsed:   50.5s remaining:    0.0s\n",
      "[Parallel(n_jobs=-1)]: Done   5 out of   5 | elapsed:   50.5s finished\n",
      "[Parallel(n_jobs=-1)]: Using backend SequentialBackend with 1 concurrent workers.\n"
     ]
    },
    {
     "name": "stdout",
     "output_type": "stream",
     "text": [
      "[CV] END ............................... score: (test=-9.049) total time=  13.1s\n",
      "[CV] START .....................................................................\n"
     ]
    },
    {
     "name": "stderr",
     "output_type": "stream",
     "text": [
      "[Parallel(n_jobs=-1)]: Done   1 out of   1 | elapsed:   13.1s remaining:    0.0s\n"
     ]
    },
    {
     "name": "stdout",
     "output_type": "stream",
     "text": [
      "[CV] END ............................... score: (test=-6.985) total time=  13.1s\n",
      "[CV] START .....................................................................\n"
     ]
    },
    {
     "name": "stderr",
     "output_type": "stream",
     "text": [
      "[Parallel(n_jobs=-1)]: Done   2 out of   2 | elapsed:   26.1s remaining:    0.0s\n"
     ]
    },
    {
     "name": "stdout",
     "output_type": "stream",
     "text": [
      "[CV] END ............................... score: (test=-4.884) total time=  13.0s\n",
      "[CV] START .....................................................................\n"
     ]
    },
    {
     "name": "stderr",
     "output_type": "stream",
     "text": [
      "[Parallel(n_jobs=-1)]: Done   3 out of   3 | elapsed:   39.1s remaining:    0.0s\n"
     ]
    },
    {
     "name": "stdout",
     "output_type": "stream",
     "text": [
      "[CV] END ............................... score: (test=-5.295) total time=  13.4s\n",
      "[CV] START .....................................................................\n"
     ]
    },
    {
     "name": "stderr",
     "output_type": "stream",
     "text": [
      "[Parallel(n_jobs=-1)]: Done   4 out of   4 | elapsed:   52.4s remaining:    0.0s\n"
     ]
    },
    {
     "name": "stdout",
     "output_type": "stream",
     "text": [
      "[CV] END ............................... score: (test=-8.235) total time=  13.2s\n",
      "[CV] START .....................................................................\n"
     ]
    },
    {
     "name": "stderr",
     "output_type": "stream",
     "text": [
      "[Parallel(n_jobs=-1)]: Done   5 out of   5 | elapsed:  1.1min remaining:    0.0s\n",
      "[Parallel(n_jobs=-1)]: Done   5 out of   5 | elapsed:  1.1min finished\n",
      "[Parallel(n_jobs=-1)]: Using backend SequentialBackend with 1 concurrent workers.\n"
     ]
    },
    {
     "name": "stdout",
     "output_type": "stream",
     "text": [
      "[CV] END ............................... score: (test=-9.058) total time=  13.3s\n",
      "[CV] START .....................................................................\n"
     ]
    },
    {
     "name": "stderr",
     "output_type": "stream",
     "text": [
      "[Parallel(n_jobs=-1)]: Done   1 out of   1 | elapsed:   13.3s remaining:    0.0s\n"
     ]
    },
    {
     "name": "stdout",
     "output_type": "stream",
     "text": [
      "[CV] END ............................... score: (test=-9.005) total time=  13.5s\n",
      "[CV] START .....................................................................\n"
     ]
    },
    {
     "name": "stderr",
     "output_type": "stream",
     "text": [
      "[Parallel(n_jobs=-1)]: Done   2 out of   2 | elapsed:   26.8s remaining:    0.0s\n"
     ]
    },
    {
     "name": "stdout",
     "output_type": "stream",
     "text": [
      "[CV] END ............................... score: (test=-9.263) total time=  13.5s\n",
      "[CV] START .....................................................................\n"
     ]
    },
    {
     "name": "stderr",
     "output_type": "stream",
     "text": [
      "[Parallel(n_jobs=-1)]: Done   3 out of   3 | elapsed:   40.2s remaining:    0.0s\n"
     ]
    },
    {
     "name": "stdout",
     "output_type": "stream",
     "text": [
      "[CV] END ............................... score: (test=-8.789) total time=  14.0s\n",
      "[CV] START .....................................................................\n"
     ]
    },
    {
     "name": "stderr",
     "output_type": "stream",
     "text": [
      "[Parallel(n_jobs=-1)]: Done   4 out of   4 | elapsed:   54.2s remaining:    0.0s\n"
     ]
    },
    {
     "name": "stdout",
     "output_type": "stream",
     "text": [
      "[CV] END .............................. score: (test=-10.330) total time=  13.3s\n",
      "[CV] START .....................................................................\n"
     ]
    },
    {
     "name": "stderr",
     "output_type": "stream",
     "text": [
      "[Parallel(n_jobs=-1)]: Done   5 out of   5 | elapsed:  1.1min remaining:    0.0s\n",
      "[Parallel(n_jobs=-1)]: Done   5 out of   5 | elapsed:  1.1min finished\n",
      "[Parallel(n_jobs=-1)]: Using backend SequentialBackend with 1 concurrent workers.\n"
     ]
    },
    {
     "name": "stdout",
     "output_type": "stream",
     "text": [
      "[CV] END ............................... score: (test=-8.997) total time=  16.2s\n",
      "[CV] START .....................................................................\n"
     ]
    },
    {
     "name": "stderr",
     "output_type": "stream",
     "text": [
      "[Parallel(n_jobs=-1)]: Done   1 out of   1 | elapsed:   16.2s remaining:    0.0s\n"
     ]
    },
    {
     "name": "stdout",
     "output_type": "stream",
     "text": [
      "[CV] END ............................... score: (test=-7.209) total time=  16.3s\n",
      "[CV] START .....................................................................\n"
     ]
    },
    {
     "name": "stderr",
     "output_type": "stream",
     "text": [
      "[Parallel(n_jobs=-1)]: Done   2 out of   2 | elapsed:   32.6s remaining:    0.0s\n"
     ]
    },
    {
     "name": "stdout",
     "output_type": "stream",
     "text": [
      "[CV] END ............................... score: (test=-4.981) total time=  16.1s\n",
      "[CV] START .....................................................................\n"
     ]
    },
    {
     "name": "stderr",
     "output_type": "stream",
     "text": [
      "[Parallel(n_jobs=-1)]: Done   3 out of   3 | elapsed:   48.7s remaining:    0.0s\n"
     ]
    },
    {
     "name": "stdout",
     "output_type": "stream",
     "text": [
      "[CV] END ............................... score: (test=-5.635) total time=  15.9s\n",
      "[CV] START .....................................................................\n"
     ]
    },
    {
     "name": "stderr",
     "output_type": "stream",
     "text": [
      "[Parallel(n_jobs=-1)]: Done   4 out of   4 | elapsed:  1.1min remaining:    0.0s\n"
     ]
    },
    {
     "name": "stdout",
     "output_type": "stream",
     "text": [
      "[CV] END ............................... score: (test=-8.572) total time=  16.0s\n",
      "[CV] START .....................................................................\n"
     ]
    },
    {
     "name": "stderr",
     "output_type": "stream",
     "text": [
      "[Parallel(n_jobs=-1)]: Done   5 out of   5 | elapsed:  1.3min remaining:    0.0s\n",
      "[Parallel(n_jobs=-1)]: Done   5 out of   5 | elapsed:  1.3min finished\n",
      "[Parallel(n_jobs=-1)]: Using backend SequentialBackend with 1 concurrent workers.\n"
     ]
    },
    {
     "name": "stdout",
     "output_type": "stream",
     "text": [
      "[CV] END ............................... score: (test=-9.154) total time=  17.3s\n",
      "[CV] START .....................................................................\n"
     ]
    },
    {
     "name": "stderr",
     "output_type": "stream",
     "text": [
      "[Parallel(n_jobs=-1)]: Done   1 out of   1 | elapsed:   17.3s remaining:    0.0s\n"
     ]
    },
    {
     "name": "stdout",
     "output_type": "stream",
     "text": [
      "[CV] END ............................... score: (test=-9.588) total time=  16.6s\n",
      "[CV] START .....................................................................\n"
     ]
    },
    {
     "name": "stderr",
     "output_type": "stream",
     "text": [
      "[Parallel(n_jobs=-1)]: Done   2 out of   2 | elapsed:   34.0s remaining:    0.0s\n"
     ]
    },
    {
     "name": "stdout",
     "output_type": "stream",
     "text": [
      "[CV] END ............................... score: (test=-9.162) total time=  16.3s\n",
      "[CV] START .....................................................................\n"
     ]
    },
    {
     "name": "stderr",
     "output_type": "stream",
     "text": [
      "[Parallel(n_jobs=-1)]: Done   3 out of   3 | elapsed:   50.3s remaining:    0.0s\n"
     ]
    },
    {
     "name": "stdout",
     "output_type": "stream",
     "text": [
      "[CV] END ............................... score: (test=-8.973) total time=  16.2s\n",
      "[CV] START .....................................................................\n"
     ]
    },
    {
     "name": "stderr",
     "output_type": "stream",
     "text": [
      "[Parallel(n_jobs=-1)]: Done   4 out of   4 | elapsed:  1.1min remaining:    0.0s\n"
     ]
    },
    {
     "name": "stdout",
     "output_type": "stream",
     "text": [
      "[CV] END .............................. score: (test=-10.589) total time=  16.8s\n",
      "[CV] START .....................................................................\n"
     ]
    },
    {
     "name": "stderr",
     "output_type": "stream",
     "text": [
      "[Parallel(n_jobs=-1)]: Done   5 out of   5 | elapsed:  1.4min remaining:    0.0s\n",
      "[Parallel(n_jobs=-1)]: Done   5 out of   5 | elapsed:  1.4min finished\n",
      "[Parallel(n_jobs=-1)]: Using backend SequentialBackend with 1 concurrent workers.\n"
     ]
    },
    {
     "name": "stdout",
     "output_type": "stream",
     "text": [
      "[CV] END ............................... score: (test=-8.977) total time=  18.8s\n",
      "[CV] START .....................................................................\n"
     ]
    },
    {
     "name": "stderr",
     "output_type": "stream",
     "text": [
      "[Parallel(n_jobs=-1)]: Done   1 out of   1 | elapsed:   18.8s remaining:    0.0s\n"
     ]
    },
    {
     "name": "stdout",
     "output_type": "stream",
     "text": [
      "[CV] END ............................... score: (test=-7.716) total time=  18.6s\n",
      "[CV] START .....................................................................\n"
     ]
    },
    {
     "name": "stderr",
     "output_type": "stream",
     "text": [
      "[Parallel(n_jobs=-1)]: Done   2 out of   2 | elapsed:   37.5s remaining:    0.0s\n"
     ]
    },
    {
     "name": "stdout",
     "output_type": "stream",
     "text": [
      "[CV] END ............................... score: (test=-4.867) total time=  19.2s\n",
      "[CV] START .....................................................................\n"
     ]
    },
    {
     "name": "stderr",
     "output_type": "stream",
     "text": [
      "[Parallel(n_jobs=-1)]: Done   3 out of   3 | elapsed:   56.7s remaining:    0.0s\n"
     ]
    },
    {
     "name": "stdout",
     "output_type": "stream",
     "text": [
      "[CV] END ............................... score: (test=-5.911) total time=  18.5s\n",
      "[CV] START .....................................................................\n"
     ]
    },
    {
     "name": "stderr",
     "output_type": "stream",
     "text": [
      "[Parallel(n_jobs=-1)]: Done   4 out of   4 | elapsed:  1.3min remaining:    0.0s\n"
     ]
    },
    {
     "name": "stdout",
     "output_type": "stream",
     "text": [
      "[CV] END ............................... score: (test=-8.966) total time=  18.9s\n",
      "[CV] START .....................................................................\n"
     ]
    },
    {
     "name": "stderr",
     "output_type": "stream",
     "text": [
      "[Parallel(n_jobs=-1)]: Done   5 out of   5 | elapsed:  1.6min remaining:    0.0s\n",
      "[Parallel(n_jobs=-1)]: Done   5 out of   5 | elapsed:  1.6min finished\n",
      "[Parallel(n_jobs=-1)]: Using backend SequentialBackend with 1 concurrent workers.\n"
     ]
    },
    {
     "name": "stdout",
     "output_type": "stream",
     "text": [
      "[CV] END ............................... score: (test=-9.063) total time=  19.8s\n",
      "[CV] START .....................................................................\n"
     ]
    },
    {
     "name": "stderr",
     "output_type": "stream",
     "text": [
      "[Parallel(n_jobs=-1)]: Done   1 out of   1 | elapsed:   19.8s remaining:    0.0s\n"
     ]
    },
    {
     "name": "stdout",
     "output_type": "stream",
     "text": [
      "[CV] END ............................... score: (test=-9.679) total time=  19.9s\n",
      "[CV] START .....................................................................\n"
     ]
    },
    {
     "name": "stderr",
     "output_type": "stream",
     "text": [
      "[Parallel(n_jobs=-1)]: Done   2 out of   2 | elapsed:   39.7s remaining:    0.0s\n"
     ]
    },
    {
     "name": "stdout",
     "output_type": "stream",
     "text": [
      "[CV] END ............................... score: (test=-9.250) total time=  19.3s\n",
      "[CV] START .....................................................................\n"
     ]
    },
    {
     "name": "stderr",
     "output_type": "stream",
     "text": [
      "[Parallel(n_jobs=-1)]: Done   3 out of   3 | elapsed:   59.0s remaining:    0.0s\n"
     ]
    },
    {
     "name": "stdout",
     "output_type": "stream",
     "text": [
      "[CV] END ............................... score: (test=-9.506) total time=  19.5s\n",
      "[CV] START .....................................................................\n"
     ]
    },
    {
     "name": "stderr",
     "output_type": "stream",
     "text": [
      "[Parallel(n_jobs=-1)]: Done   4 out of   4 | elapsed:  1.3min remaining:    0.0s\n"
     ]
    },
    {
     "name": "stdout",
     "output_type": "stream",
     "text": [
      "[CV] END .............................. score: (test=-10.801) total time=  19.4s\n",
      "[CV] START .....................................................................\n"
     ]
    },
    {
     "name": "stderr",
     "output_type": "stream",
     "text": [
      "[Parallel(n_jobs=-1)]: Done   5 out of   5 | elapsed:  1.6min remaining:    0.0s\n",
      "[Parallel(n_jobs=-1)]: Done   5 out of   5 | elapsed:  1.6min finished\n",
      "[Parallel(n_jobs=-1)]: Using backend SequentialBackend with 1 concurrent workers.\n"
     ]
    },
    {
     "name": "stdout",
     "output_type": "stream",
     "text": [
      "[CV] END ............................... score: (test=-8.938) total time=  21.5s\n",
      "[CV] START .....................................................................\n"
     ]
    },
    {
     "name": "stderr",
     "output_type": "stream",
     "text": [
      "[Parallel(n_jobs=-1)]: Done   1 out of   1 | elapsed:   21.5s remaining:    0.0s\n"
     ]
    },
    {
     "name": "stdout",
     "output_type": "stream",
     "text": [
      "[CV] END ............................... score: (test=-7.504) total time=  21.5s\n",
      "[CV] START .....................................................................\n"
     ]
    },
    {
     "name": "stderr",
     "output_type": "stream",
     "text": [
      "[Parallel(n_jobs=-1)]: Done   2 out of   2 | elapsed:   43.1s remaining:    0.0s\n"
     ]
    },
    {
     "name": "stdout",
     "output_type": "stream",
     "text": [
      "[CV] END ............................... score: (test=-4.908) total time=  21.0s\n",
      "[CV] START .....................................................................\n"
     ]
    },
    {
     "name": "stderr",
     "output_type": "stream",
     "text": [
      "[Parallel(n_jobs=-1)]: Done   3 out of   3 | elapsed:  1.1min remaining:    0.0s\n"
     ]
    },
    {
     "name": "stdout",
     "output_type": "stream",
     "text": [
      "[CV] END ............................... score: (test=-6.059) total time=  21.2s\n",
      "[CV] START .....................................................................\n"
     ]
    },
    {
     "name": "stderr",
     "output_type": "stream",
     "text": [
      "[Parallel(n_jobs=-1)]: Done   4 out of   4 | elapsed:  1.4min remaining:    0.0s\n"
     ]
    },
    {
     "name": "stdout",
     "output_type": "stream",
     "text": [
      "[CV] END ............................... score: (test=-9.194) total time=  21.4s\n",
      "[CV] START .....................................................................\n"
     ]
    },
    {
     "name": "stderr",
     "output_type": "stream",
     "text": [
      "[Parallel(n_jobs=-1)]: Done   5 out of   5 | elapsed:  1.8min remaining:    0.0s\n",
      "[Parallel(n_jobs=-1)]: Done   5 out of   5 | elapsed:  1.8min finished\n",
      "[Parallel(n_jobs=-1)]: Using backend SequentialBackend with 1 concurrent workers.\n"
     ]
    },
    {
     "name": "stdout",
     "output_type": "stream",
     "text": [
      "[CV] END ............................... score: (test=-9.125) total time=  22.4s\n",
      "[CV] START .....................................................................\n"
     ]
    },
    {
     "name": "stderr",
     "output_type": "stream",
     "text": [
      "[Parallel(n_jobs=-1)]: Done   1 out of   1 | elapsed:   22.4s remaining:    0.0s\n"
     ]
    },
    {
     "name": "stdout",
     "output_type": "stream",
     "text": [
      "[CV] END ............................... score: (test=-9.654) total time=  22.3s\n",
      "[CV] START .....................................................................\n"
     ]
    },
    {
     "name": "stderr",
     "output_type": "stream",
     "text": [
      "[Parallel(n_jobs=-1)]: Done   2 out of   2 | elapsed:   44.8s remaining:    0.0s\n"
     ]
    },
    {
     "name": "stdout",
     "output_type": "stream",
     "text": [
      "[CV] END ............................... score: (test=-9.275) total time=  21.8s\n",
      "[CV] START .....................................................................\n"
     ]
    },
    {
     "name": "stderr",
     "output_type": "stream",
     "text": [
      "[Parallel(n_jobs=-1)]: Done   3 out of   3 | elapsed:  1.1min remaining:    0.0s\n"
     ]
    },
    {
     "name": "stdout",
     "output_type": "stream",
     "text": [
      "[CV] END ............................... score: (test=-9.861) total time=  21.6s\n",
      "[CV] START .....................................................................\n"
     ]
    },
    {
     "name": "stderr",
     "output_type": "stream",
     "text": [
      "[Parallel(n_jobs=-1)]: Done   4 out of   4 | elapsed:  1.5min remaining:    0.0s\n"
     ]
    },
    {
     "name": "stdout",
     "output_type": "stream",
     "text": [
      "[CV] END .............................. score: (test=-10.818) total time=  22.0s\n",
      "[CV] START .....................................................................\n"
     ]
    },
    {
     "name": "stderr",
     "output_type": "stream",
     "text": [
      "[Parallel(n_jobs=-1)]: Done   5 out of   5 | elapsed:  1.8min remaining:    0.0s\n",
      "[Parallel(n_jobs=-1)]: Done   5 out of   5 | elapsed:  1.8min finished\n",
      "[Parallel(n_jobs=-1)]: Using backend SequentialBackend with 1 concurrent workers.\n"
     ]
    },
    {
     "name": "stdout",
     "output_type": "stream",
     "text": [
      "[CV] END ............................... score: (test=-8.683) total time=  23.4s\n",
      "[CV] START .....................................................................\n"
     ]
    },
    {
     "name": "stderr",
     "output_type": "stream",
     "text": [
      "[Parallel(n_jobs=-1)]: Done   1 out of   1 | elapsed:   23.4s remaining:    0.0s\n"
     ]
    },
    {
     "name": "stdout",
     "output_type": "stream",
     "text": [
      "[CV] END ............................... score: (test=-7.588) total time=  23.4s\n",
      "[CV] START .....................................................................\n"
     ]
    },
    {
     "name": "stderr",
     "output_type": "stream",
     "text": [
      "[Parallel(n_jobs=-1)]: Done   2 out of   2 | elapsed:   46.7s remaining:    0.0s\n"
     ]
    },
    {
     "name": "stdout",
     "output_type": "stream",
     "text": [
      "[CV] END ............................... score: (test=-4.928) total time=  22.7s\n",
      "[CV] START .....................................................................\n"
     ]
    },
    {
     "name": "stderr",
     "output_type": "stream",
     "text": [
      "[Parallel(n_jobs=-1)]: Done   3 out of   3 | elapsed:  1.2min remaining:    0.0s\n"
     ]
    },
    {
     "name": "stdout",
     "output_type": "stream",
     "text": [
      "[CV] END ............................... score: (test=-5.982) total time=  22.7s\n",
      "[CV] START .....................................................................\n"
     ]
    },
    {
     "name": "stderr",
     "output_type": "stream",
     "text": [
      "[Parallel(n_jobs=-1)]: Done   4 out of   4 | elapsed:  1.5min remaining:    0.0s\n"
     ]
    },
    {
     "name": "stdout",
     "output_type": "stream",
     "text": [
      "[CV] END ............................... score: (test=-9.184) total time=  22.9s\n",
      "[CV] START .....................................................................\n"
     ]
    },
    {
     "name": "stderr",
     "output_type": "stream",
     "text": [
      "[Parallel(n_jobs=-1)]: Done   5 out of   5 | elapsed:  1.9min remaining:    0.0s\n",
      "[Parallel(n_jobs=-1)]: Done   5 out of   5 | elapsed:  1.9min finished\n",
      "[Parallel(n_jobs=-1)]: Using backend SequentialBackend with 1 concurrent workers.\n"
     ]
    },
    {
     "name": "stdout",
     "output_type": "stream",
     "text": [
      "[CV] END ............................... score: (test=-9.290) total time=  24.8s\n",
      "[CV] START .....................................................................\n"
     ]
    },
    {
     "name": "stderr",
     "output_type": "stream",
     "text": [
      "[Parallel(n_jobs=-1)]: Done   1 out of   1 | elapsed:   24.8s remaining:    0.0s\n"
     ]
    },
    {
     "name": "stdout",
     "output_type": "stream",
     "text": [
      "[CV] END ............................... score: (test=-9.613) total time=  24.7s\n",
      "[CV] START .....................................................................\n"
     ]
    },
    {
     "name": "stderr",
     "output_type": "stream",
     "text": [
      "[Parallel(n_jobs=-1)]: Done   2 out of   2 | elapsed:   49.5s remaining:    0.0s\n"
     ]
    },
    {
     "name": "stdout",
     "output_type": "stream",
     "text": [
      "[CV] END ............................... score: (test=-9.208) total time=  24.1s\n",
      "[CV] START .....................................................................\n"
     ]
    },
    {
     "name": "stderr",
     "output_type": "stream",
     "text": [
      "[Parallel(n_jobs=-1)]: Done   3 out of   3 | elapsed:  1.2min remaining:    0.0s\n"
     ]
    },
    {
     "name": "stdout",
     "output_type": "stream",
     "text": [
      "[CV] END ............................... score: (test=-9.990) total time=  24.5s\n",
      "[CV] START .....................................................................\n"
     ]
    },
    {
     "name": "stderr",
     "output_type": "stream",
     "text": [
      "[Parallel(n_jobs=-1)]: Done   4 out of   4 | elapsed:  1.6min remaining:    0.0s\n"
     ]
    },
    {
     "name": "stdout",
     "output_type": "stream",
     "text": [
      "[CV] END .............................. score: (test=-10.968) total time=  25.2s\n",
      "[CV] START .....................................................................\n"
     ]
    },
    {
     "name": "stderr",
     "output_type": "stream",
     "text": [
      "[Parallel(n_jobs=-1)]: Done   5 out of   5 | elapsed:  2.1min remaining:    0.0s\n",
      "[Parallel(n_jobs=-1)]: Done   5 out of   5 | elapsed:  2.1min finished\n",
      "[Parallel(n_jobs=-1)]: Using backend SequentialBackend with 1 concurrent workers.\n"
     ]
    },
    {
     "name": "stdout",
     "output_type": "stream",
     "text": [
      "[CV] END ............................... score: (test=-8.717) total time=  25.2s\n",
      "[CV] START .....................................................................\n"
     ]
    },
    {
     "name": "stderr",
     "output_type": "stream",
     "text": [
      "[Parallel(n_jobs=-1)]: Done   1 out of   1 | elapsed:   25.2s remaining:    0.0s\n"
     ]
    },
    {
     "name": "stdout",
     "output_type": "stream",
     "text": [
      "[CV] END ............................... score: (test=-7.791) total time=  25.3s\n",
      "[CV] START .....................................................................\n"
     ]
    },
    {
     "name": "stderr",
     "output_type": "stream",
     "text": [
      "[Parallel(n_jobs=-1)]: Done   2 out of   2 | elapsed:   50.5s remaining:    0.0s\n"
     ]
    },
    {
     "name": "stdout",
     "output_type": "stream",
     "text": [
      "[CV] END ............................... score: (test=-4.942) total time=  24.1s\n",
      "[CV] START .....................................................................\n"
     ]
    },
    {
     "name": "stderr",
     "output_type": "stream",
     "text": [
      "[Parallel(n_jobs=-1)]: Done   3 out of   3 | elapsed:  1.2min remaining:    0.0s\n"
     ]
    },
    {
     "name": "stdout",
     "output_type": "stream",
     "text": [
      "[CV] END ............................... score: (test=-6.082) total time=  24.1s\n",
      "[CV] START .....................................................................\n"
     ]
    },
    {
     "name": "stderr",
     "output_type": "stream",
     "text": [
      "[Parallel(n_jobs=-1)]: Done   4 out of   4 | elapsed:  1.6min remaining:    0.0s\n"
     ]
    },
    {
     "name": "stdout",
     "output_type": "stream",
     "text": [
      "[CV] END ............................... score: (test=-9.012) total time=  24.7s\n",
      "[CV] START .....................................................................\n"
     ]
    },
    {
     "name": "stderr",
     "output_type": "stream",
     "text": [
      "[Parallel(n_jobs=-1)]: Done   5 out of   5 | elapsed:  2.1min remaining:    0.0s\n",
      "[Parallel(n_jobs=-1)]: Done   5 out of   5 | elapsed:  2.1min finished\n",
      "[Parallel(n_jobs=-1)]: Using backend SequentialBackend with 1 concurrent workers.\n"
     ]
    },
    {
     "name": "stdout",
     "output_type": "stream",
     "text": [
      "[CV] END ............................... score: (test=-9.207) total time=  26.6s\n",
      "[CV] START .....................................................................\n"
     ]
    },
    {
     "name": "stderr",
     "output_type": "stream",
     "text": [
      "[Parallel(n_jobs=-1)]: Done   1 out of   1 | elapsed:   26.6s remaining:    0.0s\n"
     ]
    },
    {
     "name": "stdout",
     "output_type": "stream",
     "text": [
      "[CV] END ............................... score: (test=-9.518) total time=  26.7s\n",
      "[CV] START .....................................................................\n"
     ]
    },
    {
     "name": "stderr",
     "output_type": "stream",
     "text": [
      "[Parallel(n_jobs=-1)]: Done   2 out of   2 | elapsed:   53.3s remaining:    0.0s\n"
     ]
    },
    {
     "name": "stdout",
     "output_type": "stream",
     "text": [
      "[CV] END ............................... score: (test=-9.376) total time=  25.6s\n",
      "[CV] START .....................................................................\n"
     ]
    },
    {
     "name": "stderr",
     "output_type": "stream",
     "text": [
      "[Parallel(n_jobs=-1)]: Done   3 out of   3 | elapsed:  1.3min remaining:    0.0s\n"
     ]
    },
    {
     "name": "stdout",
     "output_type": "stream",
     "text": [
      "[CV] END .............................. score: (test=-10.043) total time=  25.6s\n",
      "[CV] START .....................................................................\n"
     ]
    },
    {
     "name": "stderr",
     "output_type": "stream",
     "text": [
      "[Parallel(n_jobs=-1)]: Done   4 out of   4 | elapsed:  1.7min remaining:    0.0s\n"
     ]
    },
    {
     "name": "stdout",
     "output_type": "stream",
     "text": [
      "[CV] END .............................. score: (test=-11.034) total time=  26.2s\n",
      "[CV] START .....................................................................\n"
     ]
    },
    {
     "name": "stderr",
     "output_type": "stream",
     "text": [
      "[Parallel(n_jobs=-1)]: Done   5 out of   5 | elapsed:  2.2min remaining:    0.0s\n",
      "[Parallel(n_jobs=-1)]: Done   5 out of   5 | elapsed:  2.2min finished\n",
      "[Parallel(n_jobs=-1)]: Using backend SequentialBackend with 1 concurrent workers.\n"
     ]
    },
    {
     "name": "stdout",
     "output_type": "stream",
     "text": [
      "[CV] END ............................... score: (test=-8.679) total time=  26.0s\n",
      "[CV] START .....................................................................\n"
     ]
    },
    {
     "name": "stderr",
     "output_type": "stream",
     "text": [
      "[Parallel(n_jobs=-1)]: Done   1 out of   1 | elapsed:   26.0s remaining:    0.0s\n"
     ]
    },
    {
     "name": "stdout",
     "output_type": "stream",
     "text": [
      "[CV] END ............................... score: (test=-7.357) total time=  26.0s\n",
      "[CV] START .....................................................................\n"
     ]
    },
    {
     "name": "stderr",
     "output_type": "stream",
     "text": [
      "[Parallel(n_jobs=-1)]: Done   2 out of   2 | elapsed:   52.0s remaining:    0.0s\n"
     ]
    },
    {
     "name": "stdout",
     "output_type": "stream",
     "text": [
      "[CV] END ............................... score: (test=-4.931) total time=  25.1s\n",
      "[CV] START .....................................................................\n"
     ]
    },
    {
     "name": "stderr",
     "output_type": "stream",
     "text": [
      "[Parallel(n_jobs=-1)]: Done   3 out of   3 | elapsed:  1.3min remaining:    0.0s\n"
     ]
    },
    {
     "name": "stdout",
     "output_type": "stream",
     "text": [
      "[CV] END ............................... score: (test=-6.021) total time=  25.3s\n",
      "[CV] START .....................................................................\n"
     ]
    },
    {
     "name": "stderr",
     "output_type": "stream",
     "text": [
      "[Parallel(n_jobs=-1)]: Done   4 out of   4 | elapsed:  1.7min remaining:    0.0s\n"
     ]
    },
    {
     "name": "stdout",
     "output_type": "stream",
     "text": [
      "[CV] END ............................... score: (test=-9.287) total time=  26.1s\n",
      "[CV] START .....................................................................\n"
     ]
    },
    {
     "name": "stderr",
     "output_type": "stream",
     "text": [
      "[Parallel(n_jobs=-1)]: Done   5 out of   5 | elapsed:  2.1min remaining:    0.0s\n",
      "[Parallel(n_jobs=-1)]: Done   5 out of   5 | elapsed:  2.1min finished\n",
      "[Parallel(n_jobs=-1)]: Using backend SequentialBackend with 1 concurrent workers.\n"
     ]
    },
    {
     "name": "stdout",
     "output_type": "stream",
     "text": [
      "[CV] END ............................... score: (test=-9.340) total time=  28.2s\n",
      "[CV] START .....................................................................\n"
     ]
    },
    {
     "name": "stderr",
     "output_type": "stream",
     "text": [
      "[Parallel(n_jobs=-1)]: Done   1 out of   1 | elapsed:   28.2s remaining:    0.0s\n"
     ]
    },
    {
     "name": "stdout",
     "output_type": "stream",
     "text": [
      "[CV] END ............................... score: (test=-9.687) total time=  28.3s\n",
      "[CV] START .....................................................................\n"
     ]
    },
    {
     "name": "stderr",
     "output_type": "stream",
     "text": [
      "[Parallel(n_jobs=-1)]: Done   2 out of   2 | elapsed:   56.5s remaining:    0.0s\n"
     ]
    },
    {
     "name": "stdout",
     "output_type": "stream",
     "text": [
      "[CV] END ............................... score: (test=-9.368) total time=  26.8s\n",
      "[CV] START .....................................................................\n"
     ]
    },
    {
     "name": "stderr",
     "output_type": "stream",
     "text": [
      "[Parallel(n_jobs=-1)]: Done   3 out of   3 | elapsed:  1.4min remaining:    0.0s\n"
     ]
    },
    {
     "name": "stdout",
     "output_type": "stream",
     "text": [
      "[CV] END .............................. score: (test=-10.253) total time=  27.3s\n",
      "[CV] START .....................................................................\n"
     ]
    },
    {
     "name": "stderr",
     "output_type": "stream",
     "text": [
      "[Parallel(n_jobs=-1)]: Done   4 out of   4 | elapsed:  1.8min remaining:    0.0s\n"
     ]
    },
    {
     "name": "stdout",
     "output_type": "stream",
     "text": [
      "[CV] END .............................. score: (test=-11.034) total time=  28.2s\n",
      "Лучшее значение sMAPE случайного леса равно 8.57 при максимальной глубине равной 5 и количестве деревьев 70\n",
      "CPU times: user 47min, sys: 2.37 s, total: 47min 2s\n",
      "Wall time: 47min 11s\n"
     ]
    },
    {
     "name": "stderr",
     "output_type": "stream",
     "text": [
      "[Parallel(n_jobs=-1)]: Done   5 out of   5 | elapsed:  2.3min remaining:    0.0s\n",
      "[Parallel(n_jobs=-1)]: Done   5 out of   5 | elapsed:  2.3min finished\n"
     ]
    }
   ],
   "source": [
    "%%time\n",
    "\n",
    "best_smape_rf = 100\n",
    "best_estimators = 0\n",
    "best_depth_rf = 0\n",
    "\n",
    "for estimators in range(10, 100, 30):\n",
    "    for depth in range(1, 20, 2):\n",
    "        model_rf_rougher = RandomForestRegressor(n_estimators = estimators, max_depth = depth, random_state = 12345)\n",
    "        smape_rougher = cross_val_score(model_rf_rougher, features_train, rougher_target_train, n_jobs=-1, verbose=10,\n",
    "                                        scoring = make_scorer(calculate_smape, greater_is_better = False), cv = 5)\n",
    "        final_smape_rougher = smape_rougher.mean()\n",
    "\n",
    "        model_rf_final = RandomForestRegressor(n_estimators = estimators, max_depth = depth, random_state = 12345)\n",
    "        smape_final = cross_val_score(model_rf_final, features_train, final_target_train, n_jobs=-1, verbose=10,\n",
    "                                      scoring = make_scorer(calculate_smape, greater_is_better = False), cv = 5)\n",
    "        final_smape_final = smape_final.mean()\n",
    "        \n",
    "        \n",
    "        result_smape = calculate_result_smape(final_smape_rougher, final_smape_final) * (-1)\n",
    "\n",
    "        if result_smape < best_smape_rf:\n",
    "            best_smape_rf = result_smape\n",
    "            best_estimators = estimators\n",
    "            best_depth_rf = depth\n",
    "            \n",
    "print('Лучшее значение sMAPE случайного леса равно', round(best_smape_rf, 2), 'при максимальной глубине равной', best_depth_rf, 'и количестве деревьев', best_estimators)"
   ]
  },
  {
   "cell_type": "code",
   "execution_count": 37,
   "metadata": {},
   "outputs": [],
   "source": [
    "model_lr_rougher = LinearRegression()\n",
    "smape_rougher = cross_val_score(model_lr_rougher, features_train, rougher_target_train, \n",
    "                                scoring = make_scorer(calculate_smape, greater_is_better = False), cv = 5)\n",
    "final_smape_rougher = smape_rougher.mean()\n",
    "\n",
    "model_lr_final = LinearRegression()\n",
    "smape_final = cross_val_score(model_lr_final, features_train, final_target_train, \n",
    "                              scoring = make_scorer(calculate_smape, greater_is_better = False), cv = 5)\n",
    "final_smape_final = smape_final.mean()\n",
    "\n",
    "best_smape_lr = calculate_result_smape(final_smape_rougher, final_smape_final)*(-1)"
   ]
  },
  {
   "cell_type": "code",
   "execution_count": 38,
   "metadata": {},
   "outputs": [
    {
     "name": "stdout",
     "output_type": "stream",
     "text": [
      "Лучшее значение sMAPE дерева решений равно 9.07 при максимальной глубине равной 3\n",
      "Лучшее значение sMAPE случайного леса равно 8.57 при максимальной глубине равной 5 и количеству деревьев равному 70\n",
      "Лучшее значение sMAPE линейной регрессии равно 10\n"
     ]
    }
   ],
   "source": [
    "print('Лучшее значение sMAPE дерева решений равно', round(best_smape_dt, 2), 'при максимальной глубине равной', best_depth_dt)\n",
    "print('Лучшее значение sMAPE случайного леса равно', round(best_smape_rf, 2), 'при максимальной глубине равной', best_depth_rf, 'и количеству деревьев равному', best_estimators)\n",
    "print('Лучшее значение sMAPE линейной регрессии равно', round(best_smape_lr))"
   ]
  },
  {
   "cell_type": "markdown",
   "metadata": {},
   "source": [
    "Лучше всего себя показала модель дерева решений. Приступим к применению этой модели на тестовой выборке. Для этого разобьём тестовый датасет на выборки."
   ]
  },
  {
   "cell_type": "code",
   "execution_count": 45,
   "metadata": {},
   "outputs": [],
   "source": [
    "features_test = data_test.drop(['rougher.output.recovery', 'final.output.recovery'], axis=1)\n",
    "rougher_target_test = data_test['rougher.output.recovery']\n",
    "final_target_test = data_test['final.output.recovery']"
   ]
  },
  {
   "cell_type": "code",
   "execution_count": 46,
   "metadata": {},
   "outputs": [],
   "source": [
    "# обучаем модель на первом целевом признаке\n",
    "rougher_model = RandomForestRegressor(n_estimators = 70, max_depth = 5, random_state = 12345)\n",
    "rougher_model.fit(features_train, rougher_target_train)\n",
    "rougher_predicted = rougher_model.predict(features_test)\n",
    "# обучаем модель на втором целевом признаке\n",
    "final_model = RandomForestRegressor(n_estimators = 70, max_depth = 5, random_state = 12345)\n",
    "final_model.fit(features_train, final_target_train)\n",
    "final_predicted = final_model.predict(features_test)"
   ]
  },
  {
   "cell_type": "code",
   "execution_count": 47,
   "metadata": {},
   "outputs": [
    {
     "name": "stdout",
     "output_type": "stream",
     "text": [
      "Значение sMAPE для тестовой выборки дерева решений составляет 9.324505642274517\n"
     ]
    }
   ],
   "source": [
    "rougher_smape_test = calculate_smape(rougher_target_test, rougher_predicted)\n",
    "final_smape_test = calculate_smape(final_target_test, final_predicted)\n",
    "result_smape = calculate_result_smape(rougher_smape_test, final_smape_test)\n",
    "\n",
    "print('Значение sMAPE для тестовой выборки дерева решений составляет', result_smape)"
   ]
  },
  {
   "cell_type": "markdown",
   "metadata": {},
   "source": [
    "### Проверка модели на адекватность"
   ]
  },
  {
   "cell_type": "code",
   "execution_count": 42,
   "metadata": {},
   "outputs": [],
   "source": [
    "rougher_dummy = DummyRegressor(strategy = \"median\")\n",
    "rougher_dummy.fit(features_train, rougher_target_train)\n",
    "rougher_dummy_predicted = rougher_dummy.predict(features_test)\n",
    "smape_rougher_dummy = calculate_smape(rougher_target_test, rougher_dummy_predicted)"
   ]
  },
  {
   "cell_type": "code",
   "execution_count": 43,
   "metadata": {},
   "outputs": [],
   "source": [
    "final_dummy = DummyRegressor(strategy = \"median\")\n",
    "final_dummy.fit(features_train, final_target_train)\n",
    "final_dummy_predicted = final_dummy.predict(features_test)\n",
    "smape_final_dummy = calculate_smape(final_target_test, final_dummy_predicted)"
   ]
  },
  {
   "cell_type": "code",
   "execution_count": 44,
   "metadata": {},
   "outputs": [
    {
     "name": "stdout",
     "output_type": "stream",
     "text": [
      "Значение sMAPE для тестовой выборки составляет 9.43899456364264\n"
     ]
    }
   ],
   "source": [
    "result_smape = calculate_result_smape(smape_rougher_dummy, smape_final_dummy)\n",
    "\n",
    "print('Значение sMAPE для тестовой выборки составляет', result_smape)"
   ]
  },
  {
   "cell_type": "markdown",
   "metadata": {},
   "source": [
    "Значение sMAPE для обученной модели случайного леса ниже, чем значение sMAPE для константной модели, это говорит об адекватности модели."
   ]
  },
  {
   "cell_type": "markdown",
   "metadata": {},
   "source": [
    "**Вывод:**\n",
    "\n",
    "* Была написана функция для вычисления итоговой sMAPE. \n",
    "* Были обучены разные модели - дерево решений, случайный лес и линейная регрессия\n",
    "* Была выбрана лучшая модель, проверена на тестовой выборке, а также проверена на адекватность"
   ]
  },
  {
   "cell_type": "markdown",
   "metadata": {},
   "source": [
    "## Вывод"
   ]
  },
  {
   "cell_type": "markdown",
   "metadata": {},
   "source": [
    "* В качестве лучшей модели была выбрана модель случайного леса, затем проверена на адекватность.\n",
    "* В ходе работы было замечено изменение концентрации и размера гранул сырья на разных этапах обогащения."
   ]
  }
 ],
 "metadata": {
  "ExecuteTimeLog": [
   {
    "duration": 1565,
    "start_time": "2022-12-24T18:16:57.488Z"
   },
   {
    "duration": 1081,
    "start_time": "2022-12-24T18:17:21.827Z"
   },
   {
    "duration": 2078,
    "start_time": "2022-12-24T18:17:54.205Z"
   },
   {
    "duration": 17,
    "start_time": "2022-12-24T18:24:02.840Z"
   },
   {
    "duration": 13,
    "start_time": "2022-12-24T18:29:53.760Z"
   },
   {
    "duration": 19,
    "start_time": "2022-12-24T18:30:00.869Z"
   },
   {
    "duration": 14,
    "start_time": "2022-12-24T18:34:07.226Z"
   },
   {
    "duration": 6,
    "start_time": "2022-12-24T18:34:46.765Z"
   },
   {
    "duration": 3,
    "start_time": "2022-12-24T18:34:53.858Z"
   },
   {
    "duration": 16,
    "start_time": "2022-12-24T18:35:21.110Z"
   },
   {
    "duration": 9,
    "start_time": "2022-12-24T18:46:37.422Z"
   },
   {
    "duration": 117,
    "start_time": "2022-12-24T18:46:47.651Z"
   },
   {
    "duration": 34,
    "start_time": "2022-12-24T18:46:56.956Z"
   },
   {
    "duration": 81,
    "start_time": "2022-12-24T18:47:02.367Z"
   },
   {
    "duration": 43,
    "start_time": "2022-12-24T19:01:53.544Z"
   },
   {
    "duration": 101,
    "start_time": "2022-12-24T19:02:22.681Z"
   },
   {
    "duration": 22,
    "start_time": "2022-12-24T19:02:34.877Z"
   },
   {
    "duration": 8,
    "start_time": "2022-12-24T19:02:41.169Z"
   },
   {
    "duration": 8,
    "start_time": "2022-12-24T19:03:40.210Z"
   },
   {
    "duration": 9,
    "start_time": "2022-12-24T19:03:50.118Z"
   },
   {
    "duration": 8,
    "start_time": "2022-12-24T19:21:35.604Z"
   },
   {
    "duration": 10,
    "start_time": "2022-12-24T19:32:49.500Z"
   },
   {
    "duration": 3,
    "start_time": "2022-12-24T19:33:02.391Z"
   },
   {
    "duration": 4,
    "start_time": "2022-12-24T19:42:34.149Z"
   },
   {
    "duration": 13,
    "start_time": "2022-12-24T20:20:01.874Z"
   },
   {
    "duration": 16,
    "start_time": "2022-12-24T20:21:34.511Z"
   },
   {
    "duration": 13,
    "start_time": "2022-12-24T20:21:49.033Z"
   },
   {
    "duration": 1331,
    "start_time": "2022-12-24T20:31:06.486Z"
   },
   {
    "duration": 337,
    "start_time": "2022-12-24T20:31:59.920Z"
   },
   {
    "duration": 388,
    "start_time": "2022-12-24T20:32:08.498Z"
   },
   {
    "duration": 316,
    "start_time": "2022-12-24T20:32:18.438Z"
   },
   {
    "duration": 888,
    "start_time": "2022-12-24T20:32:32.438Z"
   },
   {
    "duration": 975,
    "start_time": "2022-12-24T20:54:28.874Z"
   },
   {
    "duration": 1130,
    "start_time": "2022-12-24T20:59:16.095Z"
   },
   {
    "duration": 1088,
    "start_time": "2022-12-24T21:06:57.052Z"
   },
   {
    "duration": 1189,
    "start_time": "2022-12-24T21:07:54.295Z"
   },
   {
    "duration": 1122,
    "start_time": "2022-12-24T21:07:55.485Z"
   },
   {
    "duration": 1130,
    "start_time": "2022-12-24T21:07:56.608Z"
   },
   {
    "duration": 1001,
    "start_time": "2022-12-24T21:08:37.538Z"
   },
   {
    "duration": 1146,
    "start_time": "2022-12-24T21:08:38.541Z"
   },
   {
    "duration": 1156,
    "start_time": "2022-12-24T21:08:39.689Z"
   },
   {
    "duration": 1429,
    "start_time": "2022-12-24T21:24:12.697Z"
   },
   {
    "duration": 1484,
    "start_time": "2022-12-24T21:24:16.109Z"
   },
   {
    "duration": 1419,
    "start_time": "2022-12-24T21:24:20.946Z"
   },
   {
    "duration": 137,
    "start_time": "2022-12-24T22:43:58.184Z"
   },
   {
    "duration": 204,
    "start_time": "2022-12-24T22:44:12.468Z"
   },
   {
    "duration": 202,
    "start_time": "2022-12-24T22:46:12.492Z"
   },
   {
    "duration": 11,
    "start_time": "2022-12-24T22:46:32.837Z"
   },
   {
    "duration": 366,
    "start_time": "2022-12-24T22:46:36.804Z"
   },
   {
    "duration": 308,
    "start_time": "2022-12-24T22:47:34.542Z"
   },
   {
    "duration": 280,
    "start_time": "2022-12-24T22:49:04.865Z"
   },
   {
    "duration": 291,
    "start_time": "2022-12-24T22:49:05.147Z"
   },
   {
    "duration": 271,
    "start_time": "2022-12-24T22:52:46.430Z"
   },
   {
    "duration": 357,
    "start_time": "2022-12-24T22:52:52.724Z"
   },
   {
    "duration": 265,
    "start_time": "2022-12-24T22:53:05.945Z"
   },
   {
    "duration": 257,
    "start_time": "2022-12-24T22:53:13.761Z"
   },
   {
    "duration": 257,
    "start_time": "2022-12-24T22:53:18.630Z"
   },
   {
    "duration": 353,
    "start_time": "2022-12-24T22:54:04.394Z"
   },
   {
    "duration": 4,
    "start_time": "2022-12-24T23:07:58.031Z"
   },
   {
    "duration": 4,
    "start_time": "2022-12-24T23:16:04.604Z"
   },
   {
    "duration": 9,
    "start_time": "2022-12-24T23:16:17.378Z"
   },
   {
    "duration": 10,
    "start_time": "2022-12-24T23:16:22.741Z"
   },
   {
    "duration": 13,
    "start_time": "2022-12-24T23:16:46.951Z"
   },
   {
    "duration": 9,
    "start_time": "2022-12-24T23:18:23.795Z"
   },
   {
    "duration": 10,
    "start_time": "2022-12-24T23:18:51.046Z"
   },
   {
    "duration": 10,
    "start_time": "2022-12-24T23:19:02.350Z"
   },
   {
    "duration": 11,
    "start_time": "2022-12-24T23:19:28.080Z"
   },
   {
    "duration": 732,
    "start_time": "2022-12-24T23:23:44.361Z"
   },
   {
    "duration": 732,
    "start_time": "2022-12-24T23:24:04.500Z"
   },
   {
    "duration": 854,
    "start_time": "2022-12-24T23:24:56.525Z"
   },
   {
    "duration": 702,
    "start_time": "2022-12-24T23:25:04.769Z"
   },
   {
    "duration": 1568,
    "start_time": "2022-12-24T23:28:29.096Z"
   },
   {
    "duration": 1147,
    "start_time": "2022-12-24T23:30:13.504Z"
   },
   {
    "duration": 7,
    "start_time": "2022-12-25T00:10:22.599Z"
   },
   {
    "duration": 13,
    "start_time": "2022-12-25T00:10:55.003Z"
   },
   {
    "duration": 12,
    "start_time": "2022-12-25T00:11:24.155Z"
   },
   {
    "duration": 74,
    "start_time": "2022-12-25T00:11:43.319Z"
   },
   {
    "duration": 10,
    "start_time": "2022-12-25T00:11:49.761Z"
   },
   {
    "duration": 7,
    "start_time": "2022-12-25T00:12:06.291Z"
   },
   {
    "duration": 1213,
    "start_time": "2022-12-25T00:12:18.440Z"
   },
   {
    "duration": 29,
    "start_time": "2022-12-25T00:13:20.297Z"
   },
   {
    "duration": 1161,
    "start_time": "2022-12-25T00:13:21.588Z"
   },
   {
    "duration": 33,
    "start_time": "2022-12-25T00:14:08.881Z"
   },
   {
    "duration": 23,
    "start_time": "2022-12-25T00:14:58.371Z"
   },
   {
    "duration": 36,
    "start_time": "2022-12-25T00:14:59.215Z"
   },
   {
    "duration": 3,
    "start_time": "2022-12-25T00:27:19.002Z"
   },
   {
    "duration": 2,
    "start_time": "2022-12-25T00:28:20.029Z"
   },
   {
    "duration": 16,
    "start_time": "2022-12-25T00:44:26.884Z"
   },
   {
    "duration": 77,
    "start_time": "2022-12-25T00:46:00.521Z"
   },
   {
    "duration": 3,
    "start_time": "2022-12-25T00:46:25.847Z"
   },
   {
    "duration": 12,
    "start_time": "2022-12-25T00:47:08.080Z"
   },
   {
    "duration": 16,
    "start_time": "2022-12-25T00:47:27.127Z"
   },
   {
    "duration": 2,
    "start_time": "2022-12-25T00:48:00.224Z"
   },
   {
    "duration": 2,
    "start_time": "2022-12-25T00:48:20.752Z"
   },
   {
    "duration": 1279,
    "start_time": "2022-12-25T00:48:27.413Z"
   },
   {
    "duration": 630,
    "start_time": "2022-12-25T00:48:28.694Z"
   },
   {
    "duration": 17,
    "start_time": "2022-12-25T00:48:29.325Z"
   },
   {
    "duration": 13,
    "start_time": "2022-12-25T00:48:29.343Z"
   },
   {
    "duration": 15,
    "start_time": "2022-12-25T00:48:29.358Z"
   },
   {
    "duration": 13,
    "start_time": "2022-12-25T00:48:29.374Z"
   },
   {
    "duration": 147,
    "start_time": "2022-12-25T00:48:29.389Z"
   },
   {
    "duration": 21,
    "start_time": "2022-12-25T00:48:29.538Z"
   },
   {
    "duration": 114,
    "start_time": "2022-12-25T00:48:29.561Z"
   },
   {
    "duration": 126,
    "start_time": "2022-12-25T00:48:29.677Z"
   },
   {
    "duration": 13,
    "start_time": "2022-12-25T00:48:29.804Z"
   },
   {
    "duration": 22,
    "start_time": "2022-12-25T00:48:29.818Z"
   },
   {
    "duration": 22,
    "start_time": "2022-12-25T00:48:29.841Z"
   },
   {
    "duration": 7,
    "start_time": "2022-12-25T00:48:29.866Z"
   },
   {
    "duration": 17,
    "start_time": "2022-12-25T00:48:29.874Z"
   },
   {
    "duration": 23,
    "start_time": "2022-12-25T00:48:29.892Z"
   },
   {
    "duration": 29,
    "start_time": "2022-12-25T00:48:29.916Z"
   },
   {
    "duration": 40,
    "start_time": "2022-12-25T00:48:29.947Z"
   },
   {
    "duration": 1368,
    "start_time": "2022-12-25T00:48:29.989Z"
   },
   {
    "duration": 1379,
    "start_time": "2022-12-25T00:48:31.359Z"
   },
   {
    "duration": 1439,
    "start_time": "2022-12-25T00:48:32.740Z"
   },
   {
    "duration": 278,
    "start_time": "2022-12-25T00:48:34.181Z"
   },
   {
    "duration": 323,
    "start_time": "2022-12-25T00:48:34.461Z"
   },
   {
    "duration": 1228,
    "start_time": "2022-12-25T00:48:34.785Z"
   },
   {
    "duration": 28,
    "start_time": "2022-12-25T00:48:36.014Z"
   },
   {
    "duration": 44,
    "start_time": "2022-12-25T00:48:36.043Z"
   },
   {
    "duration": 3,
    "start_time": "2022-12-25T00:48:36.089Z"
   },
   {
    "duration": 31,
    "start_time": "2022-12-25T00:48:36.093Z"
   },
   {
    "duration": 42,
    "start_time": "2022-12-25T00:48:36.126Z"
   },
   {
    "duration": 41,
    "start_time": "2022-12-25T00:48:36.170Z"
   },
   {
    "duration": 148,
    "start_time": "2022-12-25T00:48:36.213Z"
   },
   {
    "duration": 1248,
    "start_time": "2022-12-25T00:49:12.648Z"
   },
   {
    "duration": 631,
    "start_time": "2022-12-25T00:49:13.898Z"
   },
   {
    "duration": 18,
    "start_time": "2022-12-25T00:49:14.530Z"
   },
   {
    "duration": 13,
    "start_time": "2022-12-25T00:49:14.550Z"
   },
   {
    "duration": 16,
    "start_time": "2022-12-25T00:49:14.565Z"
   },
   {
    "duration": 39,
    "start_time": "2022-12-25T00:49:14.583Z"
   },
   {
    "duration": 141,
    "start_time": "2022-12-25T00:49:14.624Z"
   },
   {
    "duration": 22,
    "start_time": "2022-12-25T00:49:14.767Z"
   },
   {
    "duration": 108,
    "start_time": "2022-12-25T00:49:14.791Z"
   },
   {
    "duration": 128,
    "start_time": "2022-12-25T00:49:14.900Z"
   },
   {
    "duration": 7,
    "start_time": "2022-12-25T00:49:15.030Z"
   },
   {
    "duration": 21,
    "start_time": "2022-12-25T00:49:15.039Z"
   },
   {
    "duration": 33,
    "start_time": "2022-12-25T00:49:15.061Z"
   },
   {
    "duration": 24,
    "start_time": "2022-12-25T00:49:15.096Z"
   },
   {
    "duration": 34,
    "start_time": "2022-12-25T00:49:15.121Z"
   },
   {
    "duration": 31,
    "start_time": "2022-12-25T00:49:15.156Z"
   },
   {
    "duration": 48,
    "start_time": "2022-12-25T00:49:15.189Z"
   },
   {
    "duration": 34,
    "start_time": "2022-12-25T00:49:15.239Z"
   },
   {
    "duration": 1337,
    "start_time": "2022-12-25T00:49:15.275Z"
   },
   {
    "duration": 1425,
    "start_time": "2022-12-25T00:49:16.614Z"
   },
   {
    "duration": 1428,
    "start_time": "2022-12-25T00:49:18.041Z"
   },
   {
    "duration": 270,
    "start_time": "2022-12-25T00:49:19.471Z"
   },
   {
    "duration": 402,
    "start_time": "2022-12-25T00:49:19.742Z"
   },
   {
    "duration": 1098,
    "start_time": "2022-12-25T00:49:20.145Z"
   },
   {
    "duration": 31,
    "start_time": "2022-12-25T00:49:21.245Z"
   },
   {
    "duration": 51,
    "start_time": "2022-12-25T00:49:21.278Z"
   },
   {
    "duration": 3,
    "start_time": "2022-12-25T00:49:21.331Z"
   },
   {
    "duration": 6,
    "start_time": "2022-12-25T00:49:21.335Z"
   },
   {
    "duration": 6,
    "start_time": "2022-12-25T00:49:21.343Z"
   },
   {
    "duration": 19,
    "start_time": "2022-12-25T00:49:21.350Z"
   },
   {
    "duration": 116,
    "start_time": "2022-12-25T00:49:21.371Z"
   },
   {
    "duration": 1294,
    "start_time": "2022-12-25T00:50:31.096Z"
   },
   {
    "duration": 636,
    "start_time": "2022-12-25T00:50:32.393Z"
   },
   {
    "duration": 16,
    "start_time": "2022-12-25T00:50:33.030Z"
   },
   {
    "duration": 12,
    "start_time": "2022-12-25T00:50:33.048Z"
   },
   {
    "duration": 36,
    "start_time": "2022-12-25T00:50:33.061Z"
   },
   {
    "duration": 13,
    "start_time": "2022-12-25T00:50:33.099Z"
   },
   {
    "duration": 132,
    "start_time": "2022-12-25T00:50:33.114Z"
   },
   {
    "duration": 22,
    "start_time": "2022-12-25T00:50:33.247Z"
   },
   {
    "duration": 104,
    "start_time": "2022-12-25T00:50:33.270Z"
   },
   {
    "duration": 128,
    "start_time": "2022-12-25T00:50:33.377Z"
   },
   {
    "duration": 9,
    "start_time": "2022-12-25T00:50:33.507Z"
   },
   {
    "duration": 7,
    "start_time": "2022-12-25T00:50:33.517Z"
   },
   {
    "duration": 13,
    "start_time": "2022-12-25T00:50:33.525Z"
   },
   {
    "duration": 9,
    "start_time": "2022-12-25T00:50:33.539Z"
   },
   {
    "duration": 5,
    "start_time": "2022-12-25T00:50:33.550Z"
   },
   {
    "duration": 5,
    "start_time": "2022-12-25T00:50:33.557Z"
   },
   {
    "duration": 23,
    "start_time": "2022-12-25T00:50:33.565Z"
   },
   {
    "duration": 32,
    "start_time": "2022-12-25T00:50:33.590Z"
   },
   {
    "duration": 1421,
    "start_time": "2022-12-25T00:50:33.624Z"
   },
   {
    "duration": 1405,
    "start_time": "2022-12-25T00:50:35.046Z"
   },
   {
    "duration": 1414,
    "start_time": "2022-12-25T00:50:36.453Z"
   },
   {
    "duration": 265,
    "start_time": "2022-12-25T00:50:37.869Z"
   },
   {
    "duration": 384,
    "start_time": "2022-12-25T00:50:38.136Z"
   },
   {
    "duration": 14,
    "start_time": "2022-12-25T00:50:38.522Z"
   },
   {
    "duration": 1092,
    "start_time": "2022-12-25T00:50:38.538Z"
   },
   {
    "duration": 27,
    "start_time": "2022-12-25T00:50:39.632Z"
   },
   {
    "duration": 34,
    "start_time": "2022-12-25T00:50:39.661Z"
   },
   {
    "duration": 16,
    "start_time": "2022-12-25T00:50:39.697Z"
   },
   {
    "duration": 14,
    "start_time": "2022-12-25T00:50:39.715Z"
   },
   {
    "duration": 5,
    "start_time": "2022-12-25T00:50:39.731Z"
   },
   {
    "duration": 20,
    "start_time": "2022-12-25T00:50:39.738Z"
   },
   {
    "duration": 99,
    "start_time": "2022-12-25T00:50:39.759Z"
   },
   {
    "duration": 1395,
    "start_time": "2022-12-25T00:51:26.418Z"
   },
   {
    "duration": 639,
    "start_time": "2022-12-25T00:51:27.815Z"
   },
   {
    "duration": 17,
    "start_time": "2022-12-25T00:51:28.455Z"
   },
   {
    "duration": 12,
    "start_time": "2022-12-25T00:51:28.474Z"
   },
   {
    "duration": 32,
    "start_time": "2022-12-25T00:51:28.488Z"
   },
   {
    "duration": 14,
    "start_time": "2022-12-25T00:51:28.522Z"
   },
   {
    "duration": 132,
    "start_time": "2022-12-25T00:51:28.538Z"
   },
   {
    "duration": 22,
    "start_time": "2022-12-25T00:51:28.672Z"
   },
   {
    "duration": 109,
    "start_time": "2022-12-25T00:51:28.695Z"
   },
   {
    "duration": 124,
    "start_time": "2022-12-25T00:51:28.813Z"
   },
   {
    "duration": 9,
    "start_time": "2022-12-25T00:51:28.939Z"
   },
   {
    "duration": 7,
    "start_time": "2022-12-25T00:51:28.950Z"
   },
   {
    "duration": 11,
    "start_time": "2022-12-25T00:51:28.959Z"
   },
   {
    "duration": 7,
    "start_time": "2022-12-25T00:51:28.972Z"
   },
   {
    "duration": 32,
    "start_time": "2022-12-25T00:51:28.981Z"
   },
   {
    "duration": 8,
    "start_time": "2022-12-25T00:51:29.015Z"
   },
   {
    "duration": 19,
    "start_time": "2022-12-25T00:51:29.025Z"
   },
   {
    "duration": 14,
    "start_time": "2022-12-25T00:51:29.046Z"
   },
   {
    "duration": 15,
    "start_time": "2022-12-25T00:51:29.061Z"
   },
   {
    "duration": 1432,
    "start_time": "2022-12-25T00:51:29.077Z"
   },
   {
    "duration": 1409,
    "start_time": "2022-12-25T00:51:30.511Z"
   },
   {
    "duration": 1397,
    "start_time": "2022-12-25T00:51:31.922Z"
   },
   {
    "duration": 286,
    "start_time": "2022-12-25T00:51:33.321Z"
   },
   {
    "duration": 392,
    "start_time": "2022-12-25T00:51:33.609Z"
   },
   {
    "duration": 18,
    "start_time": "2022-12-25T00:51:34.003Z"
   },
   {
    "duration": 1099,
    "start_time": "2022-12-25T00:51:34.023Z"
   },
   {
    "duration": 26,
    "start_time": "2022-12-25T00:51:35.124Z"
   },
   {
    "duration": 34,
    "start_time": "2022-12-25T00:51:35.153Z"
   },
   {
    "duration": 3,
    "start_time": "2022-12-25T00:51:35.189Z"
   },
   {
    "duration": 3,
    "start_time": "2022-12-25T00:51:35.212Z"
   },
   {
    "duration": 7,
    "start_time": "2022-12-25T00:51:35.217Z"
   },
   {
    "duration": 23,
    "start_time": "2022-12-25T00:51:35.225Z"
   },
   {
    "duration": 109,
    "start_time": "2022-12-25T00:51:35.249Z"
   },
   {
    "duration": 1264,
    "start_time": "2022-12-25T00:51:55.376Z"
   },
   {
    "duration": 639,
    "start_time": "2022-12-25T00:51:56.642Z"
   },
   {
    "duration": 16,
    "start_time": "2022-12-25T00:51:57.283Z"
   },
   {
    "duration": 17,
    "start_time": "2022-12-25T00:51:57.300Z"
   },
   {
    "duration": 17,
    "start_time": "2022-12-25T00:51:57.318Z"
   },
   {
    "duration": 12,
    "start_time": "2022-12-25T00:51:57.337Z"
   },
   {
    "duration": 136,
    "start_time": "2022-12-25T00:51:57.351Z"
   },
   {
    "duration": 30,
    "start_time": "2022-12-25T00:51:57.488Z"
   },
   {
    "duration": 99,
    "start_time": "2022-12-25T00:51:57.519Z"
   },
   {
    "duration": 124,
    "start_time": "2022-12-25T00:51:57.621Z"
   },
   {
    "duration": 7,
    "start_time": "2022-12-25T00:51:57.747Z"
   },
   {
    "duration": 6,
    "start_time": "2022-12-25T00:51:57.756Z"
   },
   {
    "duration": 11,
    "start_time": "2022-12-25T00:51:57.763Z"
   },
   {
    "duration": 13,
    "start_time": "2022-12-25T00:51:57.776Z"
   },
   {
    "duration": 4,
    "start_time": "2022-12-25T00:51:57.791Z"
   },
   {
    "duration": 4,
    "start_time": "2022-12-25T00:51:57.813Z"
   },
   {
    "duration": 19,
    "start_time": "2022-12-25T00:51:57.819Z"
   },
   {
    "duration": 14,
    "start_time": "2022-12-25T00:51:57.840Z"
   },
   {
    "duration": 16,
    "start_time": "2022-12-25T00:51:57.856Z"
   },
   {
    "duration": 40,
    "start_time": "2022-12-25T00:51:57.873Z"
   },
   {
    "duration": 1383,
    "start_time": "2022-12-25T00:51:57.915Z"
   },
   {
    "duration": 1370,
    "start_time": "2022-12-25T00:51:59.300Z"
   },
   {
    "duration": 1382,
    "start_time": "2022-12-25T00:52:00.672Z"
   },
   {
    "duration": 267,
    "start_time": "2022-12-25T00:52:02.055Z"
   },
   {
    "duration": 395,
    "start_time": "2022-12-25T00:52:02.323Z"
   },
   {
    "duration": 14,
    "start_time": "2022-12-25T00:52:02.719Z"
   },
   {
    "duration": 1073,
    "start_time": "2022-12-25T00:52:02.734Z"
   },
   {
    "duration": 28,
    "start_time": "2022-12-25T00:52:03.812Z"
   },
   {
    "duration": 38,
    "start_time": "2022-12-25T00:52:03.842Z"
   },
   {
    "duration": 6,
    "start_time": "2022-12-25T00:52:03.881Z"
   },
   {
    "duration": 27,
    "start_time": "2022-12-25T00:52:03.889Z"
   },
   {
    "duration": 26,
    "start_time": "2022-12-25T00:52:03.918Z"
   },
   {
    "duration": 40,
    "start_time": "2022-12-25T00:52:03.946Z"
   },
   {
    "duration": 108,
    "start_time": "2022-12-25T00:52:03.987Z"
   },
   {
    "duration": 1338,
    "start_time": "2022-12-25T00:53:27.298Z"
   },
   {
    "duration": 631,
    "start_time": "2022-12-25T00:53:28.638Z"
   },
   {
    "duration": 16,
    "start_time": "2022-12-25T00:53:29.271Z"
   },
   {
    "duration": 11,
    "start_time": "2022-12-25T00:53:29.289Z"
   },
   {
    "duration": 16,
    "start_time": "2022-12-25T00:53:29.312Z"
   },
   {
    "duration": 12,
    "start_time": "2022-12-25T00:53:29.329Z"
   },
   {
    "duration": 129,
    "start_time": "2022-12-25T00:53:29.343Z"
   },
   {
    "duration": 21,
    "start_time": "2022-12-25T00:53:29.474Z"
   },
   {
    "duration": 108,
    "start_time": "2022-12-25T00:53:29.496Z"
   },
   {
    "duration": 116,
    "start_time": "2022-12-25T00:53:29.612Z"
   },
   {
    "duration": 9,
    "start_time": "2022-12-25T00:53:29.730Z"
   },
   {
    "duration": 6,
    "start_time": "2022-12-25T00:53:29.740Z"
   },
   {
    "duration": 10,
    "start_time": "2022-12-25T00:53:29.747Z"
   },
   {
    "duration": 7,
    "start_time": "2022-12-25T00:53:29.758Z"
   },
   {
    "duration": 3,
    "start_time": "2022-12-25T00:53:29.767Z"
   },
   {
    "duration": 13,
    "start_time": "2022-12-25T00:53:29.772Z"
   },
   {
    "duration": 35,
    "start_time": "2022-12-25T00:53:29.786Z"
   },
   {
    "duration": 14,
    "start_time": "2022-12-25T00:53:29.822Z"
   },
   {
    "duration": 12,
    "start_time": "2022-12-25T00:53:29.837Z"
   },
   {
    "duration": 1371,
    "start_time": "2022-12-25T00:53:29.850Z"
   },
   {
    "duration": 1372,
    "start_time": "2022-12-25T00:53:31.223Z"
   },
   {
    "duration": 1370,
    "start_time": "2022-12-25T00:53:32.596Z"
   },
   {
    "duration": 264,
    "start_time": "2022-12-25T00:53:33.967Z"
   },
   {
    "duration": 385,
    "start_time": "2022-12-25T00:53:34.233Z"
   },
   {
    "duration": 14,
    "start_time": "2022-12-25T00:53:34.619Z"
   },
   {
    "duration": 1053,
    "start_time": "2022-12-25T00:53:34.634Z"
   },
   {
    "duration": 32,
    "start_time": "2022-12-25T00:53:35.689Z"
   },
   {
    "duration": 34,
    "start_time": "2022-12-25T00:53:35.724Z"
   },
   {
    "duration": 2,
    "start_time": "2022-12-25T00:53:35.760Z"
   },
   {
    "duration": 12,
    "start_time": "2022-12-25T00:53:35.764Z"
   },
   {
    "duration": 6,
    "start_time": "2022-12-25T00:53:35.777Z"
   },
   {
    "duration": 28,
    "start_time": "2022-12-25T00:53:35.784Z"
   },
   {
    "duration": 4,
    "start_time": "2022-12-25T00:53:35.813Z"
   },
   {
    "duration": 1345,
    "start_time": "2022-12-25T00:54:46.433Z"
   },
   {
    "duration": 652,
    "start_time": "2022-12-25T00:54:47.779Z"
   },
   {
    "duration": 17,
    "start_time": "2022-12-25T00:54:48.433Z"
   },
   {
    "duration": 13,
    "start_time": "2022-12-25T00:54:48.452Z"
   },
   {
    "duration": 15,
    "start_time": "2022-12-25T00:54:48.466Z"
   },
   {
    "duration": 35,
    "start_time": "2022-12-25T00:54:48.483Z"
   },
   {
    "duration": 132,
    "start_time": "2022-12-25T00:54:48.519Z"
   },
   {
    "duration": 23,
    "start_time": "2022-12-25T00:54:48.652Z"
   },
   {
    "duration": 109,
    "start_time": "2022-12-25T00:54:48.676Z"
   },
   {
    "duration": 122,
    "start_time": "2022-12-25T00:54:48.787Z"
   },
   {
    "duration": 9,
    "start_time": "2022-12-25T00:54:48.913Z"
   },
   {
    "duration": 6,
    "start_time": "2022-12-25T00:54:48.924Z"
   },
   {
    "duration": 8,
    "start_time": "2022-12-25T00:54:48.932Z"
   },
   {
    "duration": 7,
    "start_time": "2022-12-25T00:54:48.941Z"
   },
   {
    "duration": 6,
    "start_time": "2022-12-25T00:54:48.949Z"
   },
   {
    "duration": 8,
    "start_time": "2022-12-25T00:54:48.957Z"
   },
   {
    "duration": 14,
    "start_time": "2022-12-25T00:54:48.966Z"
   },
   {
    "duration": 36,
    "start_time": "2022-12-25T00:54:48.982Z"
   },
   {
    "duration": 1387,
    "start_time": "2022-12-25T00:54:49.019Z"
   },
   {
    "duration": 1385,
    "start_time": "2022-12-25T00:54:50.407Z"
   },
   {
    "duration": 1400,
    "start_time": "2022-12-25T00:54:51.794Z"
   },
   {
    "duration": 263,
    "start_time": "2022-12-25T00:54:53.196Z"
   },
   {
    "duration": 391,
    "start_time": "2022-12-25T00:54:53.460Z"
   },
   {
    "duration": 13,
    "start_time": "2022-12-25T00:54:53.853Z"
   },
   {
    "duration": 1125,
    "start_time": "2022-12-25T00:54:53.867Z"
   },
   {
    "duration": 44,
    "start_time": "2022-12-25T00:54:54.994Z"
   },
   {
    "duration": 34,
    "start_time": "2022-12-25T00:54:55.039Z"
   },
   {
    "duration": 3,
    "start_time": "2022-12-25T00:54:55.076Z"
   },
   {
    "duration": 15,
    "start_time": "2022-12-25T00:54:55.080Z"
   },
   {
    "duration": 12,
    "start_time": "2022-12-25T00:54:55.096Z"
   },
   {
    "duration": 39,
    "start_time": "2022-12-25T00:54:55.109Z"
   },
   {
    "duration": 4,
    "start_time": "2022-12-25T00:54:55.149Z"
   },
   {
    "duration": 12,
    "start_time": "2022-12-25T00:56:20.297Z"
   },
   {
    "duration": 98,
    "start_time": "2022-12-25T00:57:27.328Z"
   },
   {
    "duration": 3,
    "start_time": "2022-12-25T00:57:30.337Z"
   },
   {
    "duration": 3,
    "start_time": "2022-12-25T00:57:30.780Z"
   },
   {
    "duration": 9,
    "start_time": "2022-12-25T00:58:17.110Z"
   },
   {
    "duration": 2,
    "start_time": "2022-12-25T00:58:55.720Z"
   },
   {
    "duration": 3,
    "start_time": "2022-12-25T00:58:56.782Z"
   },
   {
    "duration": 4,
    "start_time": "2022-12-25T00:59:16.889Z"
   },
   {
    "duration": 3,
    "start_time": "2022-12-25T00:59:37.129Z"
   },
   {
    "duration": 3,
    "start_time": "2022-12-25T00:59:37.557Z"
   },
   {
    "duration": 3,
    "start_time": "2022-12-25T00:59:41.198Z"
   },
   {
    "duration": 8,
    "start_time": "2022-12-25T00:59:47.810Z"
   },
   {
    "duration": 3,
    "start_time": "2022-12-25T01:01:06.121Z"
   },
   {
    "duration": 3,
    "start_time": "2022-12-25T01:01:15.023Z"
   },
   {
    "duration": 3,
    "start_time": "2022-12-25T01:01:25.277Z"
   },
   {
    "duration": 15,
    "start_time": "2022-12-25T01:01:33.246Z"
   },
   {
    "duration": 11,
    "start_time": "2022-12-25T01:01:34.093Z"
   },
   {
    "duration": 1321,
    "start_time": "2022-12-25T01:01:42.190Z"
   },
   {
    "duration": 651,
    "start_time": "2022-12-25T01:01:43.513Z"
   },
   {
    "duration": 17,
    "start_time": "2022-12-25T01:01:44.165Z"
   },
   {
    "duration": 13,
    "start_time": "2022-12-25T01:01:44.184Z"
   },
   {
    "duration": 30,
    "start_time": "2022-12-25T01:01:44.199Z"
   },
   {
    "duration": 14,
    "start_time": "2022-12-25T01:01:44.230Z"
   },
   {
    "duration": 139,
    "start_time": "2022-12-25T01:01:44.246Z"
   },
   {
    "duration": 26,
    "start_time": "2022-12-25T01:01:44.387Z"
   },
   {
    "duration": 109,
    "start_time": "2022-12-25T01:01:44.415Z"
   },
   {
    "duration": 135,
    "start_time": "2022-12-25T01:01:44.527Z"
   },
   {
    "duration": 10,
    "start_time": "2022-12-25T01:01:44.664Z"
   },
   {
    "duration": 8,
    "start_time": "2022-12-25T01:01:44.675Z"
   },
   {
    "duration": 28,
    "start_time": "2022-12-25T01:01:44.686Z"
   },
   {
    "duration": 7,
    "start_time": "2022-12-25T01:01:44.716Z"
   },
   {
    "duration": 5,
    "start_time": "2022-12-25T01:01:44.725Z"
   },
   {
    "duration": 14,
    "start_time": "2022-12-25T01:01:44.731Z"
   },
   {
    "duration": 19,
    "start_time": "2022-12-25T01:01:44.746Z"
   },
   {
    "duration": 13,
    "start_time": "2022-12-25T01:01:44.767Z"
   },
   {
    "duration": 1413,
    "start_time": "2022-12-25T01:01:44.782Z"
   },
   {
    "duration": 1461,
    "start_time": "2022-12-25T01:01:46.197Z"
   },
   {
    "duration": 1427,
    "start_time": "2022-12-25T01:01:47.659Z"
   },
   {
    "duration": 261,
    "start_time": "2022-12-25T01:01:49.087Z"
   },
   {
    "duration": 394,
    "start_time": "2022-12-25T01:01:49.350Z"
   },
   {
    "duration": 14,
    "start_time": "2022-12-25T01:01:49.745Z"
   },
   {
    "duration": 1085,
    "start_time": "2022-12-25T01:01:49.760Z"
   },
   {
    "duration": 31,
    "start_time": "2022-12-25T01:01:50.846Z"
   },
   {
    "duration": 48,
    "start_time": "2022-12-25T01:01:50.879Z"
   },
   {
    "duration": 6,
    "start_time": "2022-12-25T01:01:50.930Z"
   },
   {
    "duration": 12,
    "start_time": "2022-12-25T01:01:50.937Z"
   },
   {
    "duration": 12,
    "start_time": "2022-12-25T01:01:50.950Z"
   },
   {
    "duration": 11,
    "start_time": "2022-12-25T01:01:50.963Z"
   },
   {
    "duration": 7,
    "start_time": "2022-12-25T01:01:50.975Z"
   },
   {
    "duration": 15,
    "start_time": "2022-12-25T01:01:50.984Z"
   },
   {
    "duration": 3,
    "start_time": "2022-12-25T01:03:35.878Z"
   },
   {
    "duration": 3,
    "start_time": "2022-12-25T01:03:47.829Z"
   },
   {
    "duration": 1328,
    "start_time": "2022-12-25T01:03:52.296Z"
   },
   {
    "duration": 651,
    "start_time": "2022-12-25T01:03:53.626Z"
   },
   {
    "duration": 18,
    "start_time": "2022-12-25T01:03:54.278Z"
   },
   {
    "duration": 26,
    "start_time": "2022-12-25T01:03:54.298Z"
   },
   {
    "duration": 17,
    "start_time": "2022-12-25T01:03:54.326Z"
   },
   {
    "duration": 14,
    "start_time": "2022-12-25T01:03:54.345Z"
   },
   {
    "duration": 147,
    "start_time": "2022-12-25T01:03:54.361Z"
   },
   {
    "duration": 24,
    "start_time": "2022-12-25T01:03:54.513Z"
   },
   {
    "duration": 120,
    "start_time": "2022-12-25T01:03:54.538Z"
   },
   {
    "duration": 135,
    "start_time": "2022-12-25T01:03:54.660Z"
   },
   {
    "duration": 8,
    "start_time": "2022-12-25T01:03:54.796Z"
   },
   {
    "duration": 6,
    "start_time": "2022-12-25T01:03:54.813Z"
   },
   {
    "duration": 11,
    "start_time": "2022-12-25T01:03:54.820Z"
   },
   {
    "duration": 7,
    "start_time": "2022-12-25T01:03:54.833Z"
   },
   {
    "duration": 2,
    "start_time": "2022-12-25T01:03:54.842Z"
   },
   {
    "duration": 7,
    "start_time": "2022-12-25T01:03:54.846Z"
   },
   {
    "duration": 8,
    "start_time": "2022-12-25T01:03:54.854Z"
   },
   {
    "duration": 13,
    "start_time": "2022-12-25T01:03:54.864Z"
   },
   {
    "duration": 39,
    "start_time": "2022-12-25T01:03:54.878Z"
   },
   {
    "duration": 1438,
    "start_time": "2022-12-25T01:03:54.919Z"
   },
   {
    "duration": 1481,
    "start_time": "2022-12-25T01:03:56.359Z"
   },
   {
    "duration": 1519,
    "start_time": "2022-12-25T01:03:57.842Z"
   },
   {
    "duration": 287,
    "start_time": "2022-12-25T01:03:59.363Z"
   },
   {
    "duration": 416,
    "start_time": "2022-12-25T01:03:59.652Z"
   },
   {
    "duration": 13,
    "start_time": "2022-12-25T01:04:00.070Z"
   },
   {
    "duration": 1137,
    "start_time": "2022-12-25T01:04:00.085Z"
   },
   {
    "duration": 34,
    "start_time": "2022-12-25T01:04:01.224Z"
   },
   {
    "duration": 53,
    "start_time": "2022-12-25T01:04:01.260Z"
   },
   {
    "duration": 3,
    "start_time": "2022-12-25T01:04:01.315Z"
   },
   {
    "duration": 20,
    "start_time": "2022-12-25T01:04:01.319Z"
   },
   {
    "duration": 48,
    "start_time": "2022-12-25T01:04:01.341Z"
   },
   {
    "duration": 39,
    "start_time": "2022-12-25T01:04:01.390Z"
   },
   {
    "duration": 72,
    "start_time": "2022-12-25T01:04:01.430Z"
   },
   {
    "duration": 34,
    "start_time": "2022-12-25T01:04:01.504Z"
   },
   {
    "duration": 5,
    "start_time": "2022-12-25T01:05:59.469Z"
   },
   {
    "duration": 6,
    "start_time": "2022-12-25T01:06:48.513Z"
   },
   {
    "duration": 101,
    "start_time": "2022-12-25T01:16:34.062Z"
   },
   {
    "duration": 10,
    "start_time": "2022-12-25T01:16:56.111Z"
   },
   {
    "duration": 606,
    "start_time": "2022-12-25T01:19:44.588Z"
   },
   {
    "duration": 1237,
    "start_time": "2022-12-25T01:19:55.261Z"
   },
   {
    "duration": 647,
    "start_time": "2022-12-25T01:19:56.500Z"
   },
   {
    "duration": 15,
    "start_time": "2022-12-25T01:19:57.149Z"
   },
   {
    "duration": 12,
    "start_time": "2022-12-25T01:19:57.166Z"
   },
   {
    "duration": 15,
    "start_time": "2022-12-25T01:19:57.180Z"
   },
   {
    "duration": 13,
    "start_time": "2022-12-25T01:19:57.212Z"
   },
   {
    "duration": 162,
    "start_time": "2022-12-25T01:19:57.226Z"
   },
   {
    "duration": 26,
    "start_time": "2022-12-25T01:19:57.389Z"
   },
   {
    "duration": 98,
    "start_time": "2022-12-25T01:19:57.417Z"
   },
   {
    "duration": 122,
    "start_time": "2022-12-25T01:19:57.517Z"
   },
   {
    "duration": 7,
    "start_time": "2022-12-25T01:19:57.641Z"
   },
   {
    "duration": 27,
    "start_time": "2022-12-25T01:19:57.650Z"
   },
   {
    "duration": 25,
    "start_time": "2022-12-25T01:19:57.678Z"
   },
   {
    "duration": 27,
    "start_time": "2022-12-25T01:19:57.705Z"
   },
   {
    "duration": 13,
    "start_time": "2022-12-25T01:19:57.733Z"
   },
   {
    "duration": 18,
    "start_time": "2022-12-25T01:19:57.747Z"
   },
   {
    "duration": 24,
    "start_time": "2022-12-25T01:19:57.767Z"
   },
   {
    "duration": 27,
    "start_time": "2022-12-25T01:19:57.793Z"
   },
   {
    "duration": 33,
    "start_time": "2022-12-25T01:19:57.822Z"
   },
   {
    "duration": 1358,
    "start_time": "2022-12-25T01:19:57.857Z"
   },
   {
    "duration": 1408,
    "start_time": "2022-12-25T01:19:59.217Z"
   },
   {
    "duration": 1428,
    "start_time": "2022-12-25T01:20:00.627Z"
   },
   {
    "duration": 258,
    "start_time": "2022-12-25T01:20:02.056Z"
   },
   {
    "duration": 271,
    "start_time": "2022-12-25T01:20:02.316Z"
   },
   {
    "duration": 133,
    "start_time": "2022-12-25T01:20:02.589Z"
   },
   {
    "duration": 1057,
    "start_time": "2022-12-25T01:20:02.723Z"
   },
   {
    "duration": 34,
    "start_time": "2022-12-25T01:20:03.781Z"
   },
   {
    "duration": 33,
    "start_time": "2022-12-25T01:20:03.816Z"
   },
   {
    "duration": 3,
    "start_time": "2022-12-25T01:20:03.850Z"
   },
   {
    "duration": 8,
    "start_time": "2022-12-25T01:20:03.854Z"
   },
   {
    "duration": 5,
    "start_time": "2022-12-25T01:20:03.864Z"
   },
   {
    "duration": 6,
    "start_time": "2022-12-25T01:20:03.870Z"
   },
   {
    "duration": 7,
    "start_time": "2022-12-25T01:20:03.877Z"
   },
   {
    "duration": 33,
    "start_time": "2022-12-25T01:20:03.886Z"
   },
   {
    "duration": 4,
    "start_time": "2022-12-25T01:20:03.921Z"
   },
   {
    "duration": 708,
    "start_time": "2022-12-25T01:20:03.927Z"
   },
   {
    "duration": 0,
    "start_time": "2022-12-25T01:20:04.638Z"
   },
   {
    "duration": 608,
    "start_time": "2022-12-25T01:20:17.339Z"
   },
   {
    "duration": 39481,
    "start_time": "2022-12-25T01:20:21.943Z"
   },
   {
    "duration": 1712,
    "start_time": "2022-12-25T01:28:14.264Z"
   },
   {
    "duration": 5081,
    "start_time": "2022-12-25T01:28:27.700Z"
   },
   {
    "duration": 1233,
    "start_time": "2022-12-25T02:01:11.466Z"
   },
   {
    "duration": 659,
    "start_time": "2022-12-25T02:01:12.701Z"
   },
   {
    "duration": 15,
    "start_time": "2022-12-25T02:01:13.362Z"
   },
   {
    "duration": 12,
    "start_time": "2022-12-25T02:01:13.379Z"
   },
   {
    "duration": 28,
    "start_time": "2022-12-25T02:01:13.393Z"
   },
   {
    "duration": 13,
    "start_time": "2022-12-25T02:01:13.423Z"
   },
   {
    "duration": 134,
    "start_time": "2022-12-25T02:01:13.438Z"
   },
   {
    "duration": 23,
    "start_time": "2022-12-25T02:01:13.573Z"
   },
   {
    "duration": 108,
    "start_time": "2022-12-25T02:01:13.597Z"
   },
   {
    "duration": 129,
    "start_time": "2022-12-25T02:01:13.713Z"
   },
   {
    "duration": 8,
    "start_time": "2022-12-25T02:01:13.844Z"
   },
   {
    "duration": 6,
    "start_time": "2022-12-25T02:01:13.853Z"
   },
   {
    "duration": 11,
    "start_time": "2022-12-25T02:01:13.860Z"
   },
   {
    "duration": 8,
    "start_time": "2022-12-25T02:01:13.873Z"
   },
   {
    "duration": 7,
    "start_time": "2022-12-25T02:01:13.882Z"
   },
   {
    "duration": 25,
    "start_time": "2022-12-25T02:01:13.891Z"
   },
   {
    "duration": 7,
    "start_time": "2022-12-25T02:01:13.918Z"
   },
   {
    "duration": 11,
    "start_time": "2022-12-25T02:01:13.927Z"
   },
   {
    "duration": 11,
    "start_time": "2022-12-25T02:01:13.940Z"
   },
   {
    "duration": 1425,
    "start_time": "2022-12-25T02:01:13.953Z"
   },
   {
    "duration": 1374,
    "start_time": "2022-12-25T02:01:15.379Z"
   },
   {
    "duration": 1440,
    "start_time": "2022-12-25T02:01:16.755Z"
   },
   {
    "duration": 254,
    "start_time": "2022-12-25T02:01:18.196Z"
   },
   {
    "duration": 414,
    "start_time": "2022-12-25T02:01:18.452Z"
   },
   {
    "duration": 13,
    "start_time": "2022-12-25T02:01:18.868Z"
   },
   {
    "duration": 1091,
    "start_time": "2022-12-25T02:01:18.883Z"
   },
   {
    "duration": 29,
    "start_time": "2022-12-25T02:01:19.975Z"
   },
   {
    "duration": 40,
    "start_time": "2022-12-25T02:01:20.007Z"
   },
   {
    "duration": 2,
    "start_time": "2022-12-25T02:01:20.049Z"
   },
   {
    "duration": 6,
    "start_time": "2022-12-25T02:01:20.053Z"
   },
   {
    "duration": 12,
    "start_time": "2022-12-25T02:01:20.060Z"
   },
   {
    "duration": 7,
    "start_time": "2022-12-25T02:01:20.074Z"
   },
   {
    "duration": 7,
    "start_time": "2022-12-25T02:01:20.082Z"
   },
   {
    "duration": 24,
    "start_time": "2022-12-25T02:01:20.091Z"
   },
   {
    "duration": 4,
    "start_time": "2022-12-25T02:01:20.117Z"
   },
   {
    "duration": 39577,
    "start_time": "2022-12-25T02:01:20.123Z"
   },
   {
    "duration": 111,
    "start_time": "2022-12-25T02:01:59.702Z"
   },
   {
    "duration": 1309,
    "start_time": "2022-12-25T02:08:10.996Z"
   },
   {
    "duration": 646,
    "start_time": "2022-12-25T02:08:12.307Z"
   },
   {
    "duration": 19,
    "start_time": "2022-12-25T02:08:12.954Z"
   },
   {
    "duration": 15,
    "start_time": "2022-12-25T02:08:12.975Z"
   },
   {
    "duration": 32,
    "start_time": "2022-12-25T02:08:12.992Z"
   },
   {
    "duration": 13,
    "start_time": "2022-12-25T02:08:13.025Z"
   },
   {
    "duration": 134,
    "start_time": "2022-12-25T02:08:13.040Z"
   },
   {
    "duration": 22,
    "start_time": "2022-12-25T02:08:13.176Z"
   },
   {
    "duration": 114,
    "start_time": "2022-12-25T02:08:13.200Z"
   },
   {
    "duration": 127,
    "start_time": "2022-12-25T02:08:13.316Z"
   },
   {
    "duration": 9,
    "start_time": "2022-12-25T02:08:13.445Z"
   },
   {
    "duration": 6,
    "start_time": "2022-12-25T02:08:13.455Z"
   },
   {
    "duration": 14,
    "start_time": "2022-12-25T02:08:13.463Z"
   },
   {
    "duration": 6,
    "start_time": "2022-12-25T02:08:13.480Z"
   },
   {
    "duration": 26,
    "start_time": "2022-12-25T02:08:13.487Z"
   },
   {
    "duration": 3,
    "start_time": "2022-12-25T02:08:13.515Z"
   },
   {
    "duration": 14,
    "start_time": "2022-12-25T02:08:13.519Z"
   },
   {
    "duration": 19,
    "start_time": "2022-12-25T02:08:13.534Z"
   },
   {
    "duration": 14,
    "start_time": "2022-12-25T02:08:13.555Z"
   },
   {
    "duration": 1426,
    "start_time": "2022-12-25T02:08:13.571Z"
   },
   {
    "duration": 1412,
    "start_time": "2022-12-25T02:08:14.999Z"
   },
   {
    "duration": 1487,
    "start_time": "2022-12-25T02:08:16.413Z"
   },
   {
    "duration": 280,
    "start_time": "2022-12-25T02:08:17.902Z"
   },
   {
    "duration": 406,
    "start_time": "2022-12-25T02:08:18.183Z"
   },
   {
    "duration": 23,
    "start_time": "2022-12-25T02:08:18.591Z"
   },
   {
    "duration": 1102,
    "start_time": "2022-12-25T02:08:18.616Z"
   },
   {
    "duration": 30,
    "start_time": "2022-12-25T02:08:19.719Z"
   },
   {
    "duration": 36,
    "start_time": "2022-12-25T02:08:19.751Z"
   },
   {
    "duration": 3,
    "start_time": "2022-12-25T02:08:19.788Z"
   },
   {
    "duration": 21,
    "start_time": "2022-12-25T02:08:19.792Z"
   },
   {
    "duration": 13,
    "start_time": "2022-12-25T02:08:19.814Z"
   },
   {
    "duration": 8,
    "start_time": "2022-12-25T02:08:19.828Z"
   },
   {
    "duration": 8,
    "start_time": "2022-12-25T02:08:19.837Z"
   },
   {
    "duration": 17,
    "start_time": "2022-12-25T02:08:19.846Z"
   },
   {
    "duration": 4,
    "start_time": "2022-12-25T02:08:19.865Z"
   },
   {
    "duration": 39626,
    "start_time": "2022-12-25T02:08:19.871Z"
   },
   {
    "duration": 0,
    "start_time": "2022-12-25T02:12:05.065Z"
   },
   {
    "duration": 805822,
    "start_time": "2022-12-25T02:30:17.825Z"
   },
   {
    "duration": 0,
    "start_time": "2022-12-25T03:15:05.529Z"
   },
   {
    "duration": 2350,
    "start_time": "2022-12-25T03:15:45.073Z"
   },
   {
    "duration": 2304,
    "start_time": "2022-12-25T03:16:07.318Z"
   },
   {
    "duration": 2450,
    "start_time": "2022-12-25T03:16:41.970Z"
   },
   {
    "duration": 5,
    "start_time": "2022-12-25T03:17:59.042Z"
   },
   {
    "duration": 5,
    "start_time": "2022-12-25T03:19:04.618Z"
   },
   {
    "duration": 96,
    "start_time": "2022-12-25T03:19:36.058Z"
   },
   {
    "duration": 84,
    "start_time": "2022-12-25T03:19:56.336Z"
   },
   {
    "duration": 72,
    "start_time": "2022-12-25T03:20:13.275Z"
   },
   {
    "duration": 5,
    "start_time": "2022-12-25T03:20:32.839Z"
   },
   {
    "duration": 39499,
    "start_time": "2022-12-25T03:21:17.145Z"
   },
   {
    "duration": 612,
    "start_time": "2022-12-25T03:22:58.335Z"
   },
   {
    "duration": 39305,
    "start_time": "2022-12-25T03:24:23.698Z"
   },
   {
    "duration": 5,
    "start_time": "2022-12-25T03:25:44.396Z"
   },
   {
    "duration": 327,
    "start_time": "2022-12-25T03:40:10.702Z"
   },
   {
    "duration": 5,
    "start_time": "2022-12-25T03:40:16.406Z"
   },
   {
    "duration": 9,
    "start_time": "2022-12-25T03:48:18.454Z"
   },
   {
    "duration": 5,
    "start_time": "2022-12-25T03:48:24.194Z"
   },
   {
    "duration": 77,
    "start_time": "2022-12-25T03:48:24.806Z"
   },
   {
    "duration": 150,
    "start_time": "2022-12-25T03:48:40.806Z"
   },
   {
    "duration": 147,
    "start_time": "2022-12-25T03:51:39.918Z"
   },
   {
    "duration": 8,
    "start_time": "2022-12-25T03:51:40.686Z"
   },
   {
    "duration": 13,
    "start_time": "2022-12-25T03:51:50.526Z"
   },
   {
    "duration": 6,
    "start_time": "2022-12-25T03:52:06.066Z"
   },
   {
    "duration": 7,
    "start_time": "2022-12-25T03:52:56.890Z"
   },
   {
    "duration": 400,
    "start_time": "2022-12-25T03:59:28.871Z"
   },
   {
    "duration": 5,
    "start_time": "2022-12-25T03:59:29.411Z"
   },
   {
    "duration": 376,
    "start_time": "2022-12-25T04:00:36.471Z"
   },
   {
    "duration": 7,
    "start_time": "2022-12-25T04:00:36.955Z"
   },
   {
    "duration": 7,
    "start_time": "2022-12-25T04:03:21.657Z"
   },
   {
    "duration": 5,
    "start_time": "2022-12-25T04:04:04.790Z"
   },
   {
    "duration": 8,
    "start_time": "2022-12-25T04:05:00.711Z"
   },
   {
    "duration": 8,
    "start_time": "2022-12-25T04:05:13.908Z"
   },
   {
    "duration": 2,
    "start_time": "2022-12-25T04:05:42.236Z"
   },
   {
    "duration": 3,
    "start_time": "2022-12-25T04:06:13.736Z"
   },
   {
    "duration": 6,
    "start_time": "2022-12-25T04:18:04.765Z"
   },
   {
    "duration": 6,
    "start_time": "2022-12-25T04:18:06.213Z"
   },
   {
    "duration": 2,
    "start_time": "2022-12-25T04:18:06.778Z"
   },
   {
    "duration": 6,
    "start_time": "2022-12-25T04:25:19.345Z"
   },
   {
    "duration": 5,
    "start_time": "2022-12-25T04:25:19.845Z"
   },
   {
    "duration": 3,
    "start_time": "2022-12-25T04:25:20.345Z"
   },
   {
    "duration": 35652,
    "start_time": "2022-12-25T04:28:00.685Z"
   },
   {
    "duration": 6,
    "start_time": "2022-12-25T04:28:53.393Z"
   },
   {
    "duration": 5,
    "start_time": "2022-12-25T04:29:30.738Z"
   },
   {
    "duration": 6,
    "start_time": "2022-12-25T04:29:31.037Z"
   },
   {
    "duration": 2,
    "start_time": "2022-12-25T04:29:31.501Z"
   },
   {
    "duration": 1303,
    "start_time": "2022-12-25T06:52:00.204Z"
   },
   {
    "duration": 644,
    "start_time": "2022-12-25T06:52:01.508Z"
   },
   {
    "duration": 16,
    "start_time": "2022-12-25T06:52:02.153Z"
   },
   {
    "duration": 12,
    "start_time": "2022-12-25T06:52:02.170Z"
   },
   {
    "duration": 30,
    "start_time": "2022-12-25T06:52:02.183Z"
   },
   {
    "duration": 13,
    "start_time": "2022-12-25T06:52:02.214Z"
   },
   {
    "duration": 128,
    "start_time": "2022-12-25T06:52:02.228Z"
   },
   {
    "duration": 22,
    "start_time": "2022-12-25T06:52:02.358Z"
   },
   {
    "duration": 109,
    "start_time": "2022-12-25T06:52:02.381Z"
   },
   {
    "duration": 123,
    "start_time": "2022-12-25T06:52:02.493Z"
   },
   {
    "duration": 8,
    "start_time": "2022-12-25T06:52:02.618Z"
   },
   {
    "duration": 12,
    "start_time": "2022-12-25T06:52:02.627Z"
   },
   {
    "duration": 9,
    "start_time": "2022-12-25T06:52:02.641Z"
   },
   {
    "duration": 6,
    "start_time": "2022-12-25T06:52:02.651Z"
   },
   {
    "duration": 3,
    "start_time": "2022-12-25T06:52:02.659Z"
   },
   {
    "duration": 5,
    "start_time": "2022-12-25T06:52:02.664Z"
   },
   {
    "duration": 13,
    "start_time": "2022-12-25T06:52:02.670Z"
   },
   {
    "duration": 29,
    "start_time": "2022-12-25T06:52:02.684Z"
   },
   {
    "duration": 13,
    "start_time": "2022-12-25T06:52:02.714Z"
   },
   {
    "duration": 1379,
    "start_time": "2022-12-25T06:52:02.729Z"
   },
   {
    "duration": 1437,
    "start_time": "2022-12-25T06:52:04.110Z"
   },
   {
    "duration": 1385,
    "start_time": "2022-12-25T06:52:05.548Z"
   },
   {
    "duration": 268,
    "start_time": "2022-12-25T06:52:06.935Z"
   },
   {
    "duration": 401,
    "start_time": "2022-12-25T06:52:07.205Z"
   },
   {
    "duration": 16,
    "start_time": "2022-12-25T06:52:07.607Z"
   },
   {
    "duration": 1131,
    "start_time": "2022-12-25T06:52:07.624Z"
   },
   {
    "duration": 31,
    "start_time": "2022-12-25T06:52:08.757Z"
   },
   {
    "duration": 49,
    "start_time": "2022-12-25T06:52:08.791Z"
   },
   {
    "duration": 3,
    "start_time": "2022-12-25T06:52:08.842Z"
   },
   {
    "duration": 12,
    "start_time": "2022-12-25T06:52:08.846Z"
   },
   {
    "duration": 7,
    "start_time": "2022-12-25T06:52:08.860Z"
   },
   {
    "duration": 4,
    "start_time": "2022-12-25T06:52:08.869Z"
   },
   {
    "duration": 12,
    "start_time": "2022-12-25T06:52:08.875Z"
   },
   {
    "duration": 17,
    "start_time": "2022-12-25T06:52:08.889Z"
   },
   {
    "duration": 5,
    "start_time": "2022-12-25T06:52:08.912Z"
   },
   {
    "duration": 39654,
    "start_time": "2022-12-25T06:52:08.919Z"
   },
   {
    "duration": 2900,
    "start_time": "2022-12-25T06:58:14.115Z"
   },
   {
    "duration": 6,
    "start_time": "2022-12-25T06:58:17.017Z"
   },
   {
    "duration": 88,
    "start_time": "2022-12-25T06:58:17.025Z"
   },
   {
    "duration": 10,
    "start_time": "2022-12-25T06:58:17.115Z"
   },
   {
    "duration": 35675,
    "start_time": "2022-12-25T06:58:17.127Z"
   },
   {
    "duration": 9,
    "start_time": "2022-12-25T06:58:52.804Z"
   },
   {
    "duration": 24,
    "start_time": "2022-12-25T06:58:52.814Z"
   },
   {
    "duration": 15,
    "start_time": "2022-12-25T06:58:52.839Z"
   },
   {
    "duration": 18,
    "start_time": "2022-12-25T06:58:52.856Z"
   },
   {
    "duration": 0,
    "start_time": "2022-12-25T06:58:52.879Z"
   },
   {
    "duration": 19188,
    "start_time": "2022-12-25T06:58:55.823Z"
   },
   {
    "duration": 1321,
    "start_time": "2022-12-25T12:23:43.239Z"
   },
   {
    "duration": 734,
    "start_time": "2022-12-25T12:23:44.562Z"
   },
   {
    "duration": 26,
    "start_time": "2022-12-25T12:23:45.297Z"
   },
   {
    "duration": 21,
    "start_time": "2022-12-25T12:23:45.327Z"
   },
   {
    "duration": 26,
    "start_time": "2022-12-25T12:23:45.350Z"
   },
   {
    "duration": 25,
    "start_time": "2022-12-25T12:23:45.378Z"
   },
   {
    "duration": 180,
    "start_time": "2022-12-25T12:23:45.405Z"
   },
   {
    "duration": 33,
    "start_time": "2022-12-25T12:23:45.587Z"
   },
   {
    "duration": 111,
    "start_time": "2022-12-25T12:23:45.626Z"
   },
   {
    "duration": 132,
    "start_time": "2022-12-25T12:23:45.739Z"
   },
   {
    "duration": 8,
    "start_time": "2022-12-25T12:23:45.873Z"
   },
   {
    "duration": 24,
    "start_time": "2022-12-25T12:23:45.882Z"
   },
   {
    "duration": 39,
    "start_time": "2022-12-25T12:23:45.908Z"
   },
   {
    "duration": 15,
    "start_time": "2022-12-25T12:23:45.949Z"
   },
   {
    "duration": 31,
    "start_time": "2022-12-25T12:23:45.966Z"
   },
   {
    "duration": 30,
    "start_time": "2022-12-25T12:23:45.999Z"
   },
   {
    "duration": 34,
    "start_time": "2022-12-25T12:23:46.031Z"
   },
   {
    "duration": 31,
    "start_time": "2022-12-25T12:23:46.066Z"
   },
   {
    "duration": 46,
    "start_time": "2022-12-25T12:23:46.098Z"
   },
   {
    "duration": 1531,
    "start_time": "2022-12-25T12:23:46.146Z"
   },
   {
    "duration": 1608,
    "start_time": "2022-12-25T12:23:47.679Z"
   },
   {
    "duration": 1604,
    "start_time": "2022-12-25T12:23:49.289Z"
   },
   {
    "duration": 281,
    "start_time": "2022-12-25T12:23:50.895Z"
   },
   {
    "duration": 294,
    "start_time": "2022-12-25T12:23:51.178Z"
   },
   {
    "duration": 154,
    "start_time": "2022-12-25T12:23:51.473Z"
   },
   {
    "duration": 1198,
    "start_time": "2022-12-25T12:23:51.629Z"
   },
   {
    "duration": 32,
    "start_time": "2022-12-25T12:23:52.829Z"
   },
   {
    "duration": 37,
    "start_time": "2022-12-25T12:23:52.865Z"
   },
   {
    "duration": 11,
    "start_time": "2022-12-25T12:23:52.904Z"
   },
   {
    "duration": 18,
    "start_time": "2022-12-25T12:23:52.917Z"
   },
   {
    "duration": 14,
    "start_time": "2022-12-25T12:23:52.937Z"
   },
   {
    "duration": 11,
    "start_time": "2022-12-25T12:23:52.953Z"
   },
   {
    "duration": 18,
    "start_time": "2022-12-25T12:23:52.966Z"
   },
   {
    "duration": 17,
    "start_time": "2022-12-25T12:23:52.985Z"
   },
   {
    "duration": 5,
    "start_time": "2022-12-25T12:23:53.004Z"
   },
   {
    "duration": 43289,
    "start_time": "2022-12-25T12:23:53.010Z"
   },
   {
    "duration": 1492369,
    "start_time": "2022-12-25T12:24:36.300Z"
   },
   {
    "duration": 2952,
    "start_time": "2022-12-25T12:49:28.671Z"
   },
   {
    "duration": 90,
    "start_time": "2022-12-25T12:49:31.625Z"
   },
   {
    "duration": 98,
    "start_time": "2022-12-25T12:49:31.717Z"
   },
   {
    "duration": 172,
    "start_time": "2022-12-25T12:49:31.817Z"
   },
   {
    "duration": 0,
    "start_time": "2022-12-25T12:49:31.992Z"
   },
   {
    "duration": 0,
    "start_time": "2022-12-25T12:49:31.993Z"
   },
   {
    "duration": 0,
    "start_time": "2022-12-25T12:49:31.995Z"
   },
   {
    "duration": 0,
    "start_time": "2022-12-25T12:49:32.001Z"
   },
   {
    "duration": 0,
    "start_time": "2022-12-25T12:49:32.002Z"
   },
   {
    "duration": 403,
    "start_time": "2022-12-25T13:27:21.498Z"
   },
   {
    "duration": 38273,
    "start_time": "2022-12-25T13:27:50.755Z"
   },
   {
    "duration": 5,
    "start_time": "2022-12-25T13:28:53.126Z"
   },
   {
    "duration": 8,
    "start_time": "2022-12-25T13:29:14.026Z"
   },
   {
    "duration": 6,
    "start_time": "2022-12-25T13:29:19.333Z"
   },
   {
    "duration": 6,
    "start_time": "2022-12-25T13:29:20.298Z"
   },
   {
    "duration": 5,
    "start_time": "2022-12-25T13:29:20.661Z"
   },
   {
    "duration": 9,
    "start_time": "2022-12-25T13:29:21.194Z"
   },
   {
    "duration": 5,
    "start_time": "2022-12-25T13:29:33.126Z"
   },
   {
    "duration": 6,
    "start_time": "2022-12-25T13:29:33.431Z"
   },
   {
    "duration": 4,
    "start_time": "2022-12-25T13:29:33.945Z"
   },
   {
    "duration": 414,
    "start_time": "2022-12-25T13:39:45.812Z"
   },
   {
    "duration": 3,
    "start_time": "2022-12-25T13:39:47.235Z"
   },
   {
    "duration": 7,
    "start_time": "2022-12-25T13:39:47.585Z"
   },
   {
    "duration": 10,
    "start_time": "2022-12-25T13:44:58.126Z"
   },
   {
    "duration": 12,
    "start_time": "2022-12-25T13:45:33.584Z"
   },
   {
    "duration": 1000,
    "start_time": "2022-12-25T13:45:44.542Z"
   },
   {
    "duration": 8,
    "start_time": "2022-12-25T13:45:47.893Z"
   },
   {
    "duration": 38977,
    "start_time": "2022-12-25T13:46:54.763Z"
   },
   {
    "duration": 38961,
    "start_time": "2022-12-25T13:48:32.398Z"
   },
   {
    "duration": 3,
    "start_time": "2022-12-25T13:49:11.361Z"
   },
   {
    "duration": 30,
    "start_time": "2022-12-25T13:49:11.365Z"
   },
   {
    "duration": 414,
    "start_time": "2022-12-25T13:57:47.337Z"
   },
   {
    "duration": 650,
    "start_time": "2022-12-25T13:59:29.679Z"
   },
   {
    "duration": 397,
    "start_time": "2022-12-25T13:59:33.743Z"
   },
   {
    "duration": 6,
    "start_time": "2022-12-25T13:59:34.142Z"
   },
   {
    "duration": 38376,
    "start_time": "2022-12-25T13:59:35.420Z"
   },
   {
    "duration": 6,
    "start_time": "2022-12-25T14:00:13.798Z"
   },
   {
    "duration": 914,
    "start_time": "2022-12-25T14:00:13.806Z"
   },
   {
    "duration": 12,
    "start_time": "2022-12-25T14:00:14.725Z"
   },
   {
    "duration": 9,
    "start_time": "2022-12-26T13:37:44.574Z"
   },
   {
    "duration": 253,
    "start_time": "2022-12-26T13:37:49.854Z"
   },
   {
    "duration": 8,
    "start_time": "2022-12-26T13:37:54.289Z"
   },
   {
    "duration": 9,
    "start_time": "2022-12-26T13:37:55.327Z"
   },
   {
    "duration": 47,
    "start_time": "2022-12-27T00:27:21.905Z"
   },
   {
    "duration": 37,
    "start_time": "2022-12-27T00:27:42.064Z"
   },
   {
    "duration": 1477,
    "start_time": "2022-12-27T00:27:58.007Z"
   },
   {
    "duration": 4,
    "start_time": "2022-12-27T00:28:04.958Z"
   },
   {
    "duration": 2923,
    "start_time": "2022-12-27T00:28:07.752Z"
   },
   {
    "duration": 1367,
    "start_time": "2022-12-27T00:29:21.781Z"
   },
   {
    "duration": 682,
    "start_time": "2022-12-27T00:29:23.149Z"
   },
   {
    "duration": 18,
    "start_time": "2022-12-27T00:29:23.832Z"
   },
   {
    "duration": 11,
    "start_time": "2022-12-27T00:29:23.851Z"
   },
   {
    "duration": 16,
    "start_time": "2022-12-27T00:29:23.864Z"
   },
   {
    "duration": 35,
    "start_time": "2022-12-27T00:29:23.881Z"
   },
   {
    "duration": 135,
    "start_time": "2022-12-27T00:29:23.918Z"
   },
   {
    "duration": 27,
    "start_time": "2022-12-27T00:29:24.055Z"
   },
   {
    "duration": 111,
    "start_time": "2022-12-27T00:29:24.084Z"
   },
   {
    "duration": 125,
    "start_time": "2022-12-27T00:29:24.196Z"
   },
   {
    "duration": 8,
    "start_time": "2022-12-27T00:29:24.322Z"
   },
   {
    "duration": 13,
    "start_time": "2022-12-27T00:29:24.331Z"
   },
   {
    "duration": 12,
    "start_time": "2022-12-27T00:29:24.346Z"
   },
   {
    "duration": 20,
    "start_time": "2022-12-27T00:29:24.361Z"
   },
   {
    "duration": 8,
    "start_time": "2022-12-27T00:29:24.382Z"
   },
   {
    "duration": 16,
    "start_time": "2022-12-27T00:29:24.392Z"
   },
   {
    "duration": 7,
    "start_time": "2022-12-27T00:29:24.410Z"
   },
   {
    "duration": 11,
    "start_time": "2022-12-27T00:29:24.418Z"
   },
   {
    "duration": 11,
    "start_time": "2022-12-27T00:29:24.430Z"
   },
   {
    "duration": 1456,
    "start_time": "2022-12-27T00:29:24.442Z"
   },
   {
    "duration": 1467,
    "start_time": "2022-12-27T00:29:25.899Z"
   },
   {
    "duration": 1443,
    "start_time": "2022-12-27T00:29:27.367Z"
   },
   {
    "duration": 381,
    "start_time": "2022-12-27T00:29:28.815Z"
   },
   {
    "duration": 281,
    "start_time": "2022-12-27T00:29:29.197Z"
   },
   {
    "duration": 1198,
    "start_time": "2022-12-27T00:29:29.479Z"
   },
   {
    "duration": 30,
    "start_time": "2022-12-27T00:29:30.678Z"
   },
   {
    "duration": 38,
    "start_time": "2022-12-27T00:29:30.716Z"
   },
   {
    "duration": 3,
    "start_time": "2022-12-27T00:29:30.756Z"
   },
   {
    "duration": 33,
    "start_time": "2022-12-27T00:29:30.761Z"
   },
   {
    "duration": 29,
    "start_time": "2022-12-27T00:29:30.796Z"
   },
   {
    "duration": 26,
    "start_time": "2022-12-27T00:29:30.826Z"
   },
   {
    "duration": 26,
    "start_time": "2022-12-27T00:29:30.853Z"
   },
   {
    "duration": 56,
    "start_time": "2022-12-27T00:29:30.881Z"
   },
   {
    "duration": 15,
    "start_time": "2022-12-27T00:29:30.938Z"
   },
   {
    "duration": 43748,
    "start_time": "2022-12-27T00:29:30.955Z"
   },
   {
    "duration": 1377,
    "start_time": "2022-12-27T00:34:29.386Z"
   },
   {
    "duration": 702,
    "start_time": "2022-12-27T00:34:30.765Z"
   },
   {
    "duration": 18,
    "start_time": "2022-12-27T00:34:31.468Z"
   },
   {
    "duration": 12,
    "start_time": "2022-12-27T00:34:31.488Z"
   },
   {
    "duration": 17,
    "start_time": "2022-12-27T00:34:31.515Z"
   },
   {
    "duration": 12,
    "start_time": "2022-12-27T00:34:31.534Z"
   },
   {
    "duration": 134,
    "start_time": "2022-12-27T00:34:31.548Z"
   },
   {
    "duration": 22,
    "start_time": "2022-12-27T00:34:31.683Z"
   },
   {
    "duration": 101,
    "start_time": "2022-12-27T00:34:31.715Z"
   },
   {
    "duration": 120,
    "start_time": "2022-12-27T00:34:31.819Z"
   },
   {
    "duration": 8,
    "start_time": "2022-12-27T00:34:31.941Z"
   },
   {
    "duration": 6,
    "start_time": "2022-12-27T00:34:31.950Z"
   },
   {
    "duration": 7,
    "start_time": "2022-12-27T00:34:31.958Z"
   },
   {
    "duration": 6,
    "start_time": "2022-12-27T00:34:31.967Z"
   },
   {
    "duration": 4,
    "start_time": "2022-12-27T00:34:31.975Z"
   },
   {
    "duration": 9,
    "start_time": "2022-12-27T00:34:31.980Z"
   },
   {
    "duration": 4,
    "start_time": "2022-12-27T00:34:32.015Z"
   },
   {
    "duration": 10,
    "start_time": "2022-12-27T00:34:32.021Z"
   },
   {
    "duration": 12,
    "start_time": "2022-12-27T00:34:32.032Z"
   },
   {
    "duration": 1525,
    "start_time": "2022-12-27T00:34:32.045Z"
   },
   {
    "duration": 1412,
    "start_time": "2022-12-27T00:34:33.572Z"
   },
   {
    "duration": 1504,
    "start_time": "2022-12-27T00:34:34.985Z"
   },
   {
    "duration": 269,
    "start_time": "2022-12-27T00:34:36.491Z"
   },
   {
    "duration": 409,
    "start_time": "2022-12-27T00:34:36.763Z"
   },
   {
    "duration": 1206,
    "start_time": "2022-12-27T00:34:37.174Z"
   },
   {
    "duration": 50,
    "start_time": "2022-12-27T00:34:38.383Z"
   },
   {
    "duration": 45,
    "start_time": "2022-12-27T00:34:38.437Z"
   },
   {
    "duration": 3,
    "start_time": "2022-12-27T00:34:38.487Z"
   },
   {
    "duration": 8,
    "start_time": "2022-12-27T00:34:38.492Z"
   },
   {
    "duration": 4,
    "start_time": "2022-12-27T00:34:38.502Z"
   },
   {
    "duration": 5,
    "start_time": "2022-12-27T00:34:38.516Z"
   },
   {
    "duration": 8,
    "start_time": "2022-12-27T00:34:38.523Z"
   },
   {
    "duration": 115,
    "start_time": "2022-12-27T00:34:38.532Z"
   },
   {
    "duration": 5,
    "start_time": "2022-12-27T00:34:38.649Z"
   },
   {
    "duration": 43926,
    "start_time": "2022-12-27T00:34:38.655Z"
   },
   {
    "duration": 1372,
    "start_time": "2022-12-27T00:41:53.292Z"
   },
   {
    "duration": 747,
    "start_time": "2022-12-27T00:41:54.665Z"
   },
   {
    "duration": 19,
    "start_time": "2022-12-27T00:41:55.414Z"
   },
   {
    "duration": 12,
    "start_time": "2022-12-27T00:41:55.434Z"
   },
   {
    "duration": 17,
    "start_time": "2022-12-27T00:41:55.448Z"
   },
   {
    "duration": 13,
    "start_time": "2022-12-27T00:41:55.467Z"
   },
   {
    "duration": 157,
    "start_time": "2022-12-27T00:41:55.481Z"
   },
   {
    "duration": 25,
    "start_time": "2022-12-27T00:41:55.639Z"
   },
   {
    "duration": 109,
    "start_time": "2022-12-27T00:41:55.666Z"
   },
   {
    "duration": 127,
    "start_time": "2022-12-27T00:41:55.776Z"
   },
   {
    "duration": 11,
    "start_time": "2022-12-27T00:41:55.905Z"
   },
   {
    "duration": 7,
    "start_time": "2022-12-27T00:41:55.917Z"
   },
   {
    "duration": 8,
    "start_time": "2022-12-27T00:41:55.926Z"
   },
   {
    "duration": 7,
    "start_time": "2022-12-27T00:41:55.937Z"
   },
   {
    "duration": 14,
    "start_time": "2022-12-27T00:41:55.945Z"
   },
   {
    "duration": 7,
    "start_time": "2022-12-27T00:41:55.961Z"
   },
   {
    "duration": 12,
    "start_time": "2022-12-27T00:41:55.969Z"
   },
   {
    "duration": 14,
    "start_time": "2022-12-27T00:41:55.982Z"
   },
   {
    "duration": 22,
    "start_time": "2022-12-27T00:41:55.998Z"
   },
   {
    "duration": 1479,
    "start_time": "2022-12-27T00:41:56.022Z"
   },
   {
    "duration": 1462,
    "start_time": "2022-12-27T00:41:57.503Z"
   },
   {
    "duration": 1495,
    "start_time": "2022-12-27T00:41:58.967Z"
   },
   {
    "duration": 271,
    "start_time": "2022-12-27T00:42:00.464Z"
   },
   {
    "duration": 520,
    "start_time": "2022-12-27T00:42:00.737Z"
   },
   {
    "duration": 1098,
    "start_time": "2022-12-27T00:42:01.259Z"
   },
   {
    "duration": 29,
    "start_time": "2022-12-27T00:42:02.358Z"
   },
   {
    "duration": 52,
    "start_time": "2022-12-27T00:42:02.389Z"
   },
   {
    "duration": 3,
    "start_time": "2022-12-27T00:42:02.442Z"
   },
   {
    "duration": 6,
    "start_time": "2022-12-27T00:42:02.447Z"
   },
   {
    "duration": 5,
    "start_time": "2022-12-27T00:42:02.455Z"
   },
   {
    "duration": 6,
    "start_time": "2022-12-27T00:42:02.461Z"
   },
   {
    "duration": 9,
    "start_time": "2022-12-27T00:42:02.468Z"
   },
   {
    "duration": 21,
    "start_time": "2022-12-27T00:42:02.479Z"
   },
   {
    "duration": 5,
    "start_time": "2022-12-27T00:42:02.515Z"
   },
   {
    "duration": 43929,
    "start_time": "2022-12-27T00:42:02.521Z"
   },
   {
    "duration": 17806,
    "start_time": "2022-12-27T00:42:46.452Z"
   },
   {
    "duration": 3261,
    "start_time": "2022-12-27T00:43:04.259Z"
   },
   {
    "duration": 95,
    "start_time": "2022-12-27T00:43:07.522Z"
   },
   {
    "duration": 7,
    "start_time": "2022-12-27T00:43:07.620Z"
   },
   {
    "duration": 507,
    "start_time": "2022-12-27T00:43:07.629Z"
   },
   {
    "duration": 6,
    "start_time": "2022-12-27T00:43:08.140Z"
   },
   {
    "duration": 40092,
    "start_time": "2022-12-27T00:43:08.148Z"
   },
   {
    "duration": 6,
    "start_time": "2022-12-27T00:43:48.242Z"
   },
   {
    "duration": 472,
    "start_time": "2022-12-27T00:43:48.249Z"
   },
   {
    "duration": 99,
    "start_time": "2022-12-27T00:43:48.723Z"
   },
   {
    "duration": 95,
    "start_time": "2022-12-27T00:43:48.824Z"
   },
   {
    "duration": 7,
    "start_time": "2022-12-27T00:43:48.920Z"
   },
   {
    "duration": 10,
    "start_time": "2022-12-27T00:43:48.928Z"
   },
   {
    "duration": 2322,
    "start_time": "2022-12-27T00:43:48.940Z"
   },
   {
    "duration": 50,
    "start_time": "2022-12-27T09:24:15.596Z"
   },
   {
    "duration": 1730,
    "start_time": "2022-12-27T09:24:34.076Z"
   },
   {
    "duration": 1954,
    "start_time": "2022-12-27T09:24:35.809Z"
   },
   {
    "duration": 21,
    "start_time": "2022-12-27T09:24:37.765Z"
   },
   {
    "duration": 31,
    "start_time": "2022-12-27T09:24:37.788Z"
   },
   {
    "duration": 35,
    "start_time": "2022-12-27T09:24:37.820Z"
   },
   {
    "duration": 12,
    "start_time": "2022-12-27T09:24:37.857Z"
   },
   {
    "duration": 154,
    "start_time": "2022-12-27T09:24:37.870Z"
   },
   {
    "duration": 21,
    "start_time": "2022-12-27T09:24:38.026Z"
   },
   {
    "duration": 110,
    "start_time": "2022-12-27T09:24:38.048Z"
   },
   {
    "duration": 136,
    "start_time": "2022-12-27T09:24:38.160Z"
   },
   {
    "duration": 9,
    "start_time": "2022-12-27T09:24:38.297Z"
   },
   {
    "duration": 39,
    "start_time": "2022-12-27T09:24:38.308Z"
   },
   {
    "duration": 32,
    "start_time": "2022-12-27T09:24:38.348Z"
   },
   {
    "duration": 37,
    "start_time": "2022-12-27T09:24:38.383Z"
   },
   {
    "duration": 28,
    "start_time": "2022-12-27T09:24:38.422Z"
   },
   {
    "duration": 22,
    "start_time": "2022-12-27T09:24:38.452Z"
   },
   {
    "duration": 43,
    "start_time": "2022-12-27T09:24:38.475Z"
   },
   {
    "duration": 58,
    "start_time": "2022-12-27T09:24:38.520Z"
   },
   {
    "duration": 41,
    "start_time": "2022-12-27T09:24:38.581Z"
   },
   {
    "duration": 1691,
    "start_time": "2022-12-27T09:24:38.623Z"
   },
   {
    "duration": 1601,
    "start_time": "2022-12-27T09:24:40.316Z"
   },
   {
    "duration": 1576,
    "start_time": "2022-12-27T09:24:41.919Z"
   },
   {
    "duration": 310,
    "start_time": "2022-12-27T09:24:43.498Z"
   },
   {
    "duration": 551,
    "start_time": "2022-12-27T09:24:43.810Z"
   },
   {
    "duration": 1192,
    "start_time": "2022-12-27T09:24:44.363Z"
   },
   {
    "duration": 42,
    "start_time": "2022-12-27T09:24:45.557Z"
   },
   {
    "duration": 37,
    "start_time": "2022-12-27T09:24:45.601Z"
   },
   {
    "duration": 3,
    "start_time": "2022-12-27T09:24:45.641Z"
   },
   {
    "duration": 15,
    "start_time": "2022-12-27T09:24:45.646Z"
   },
   {
    "duration": 27,
    "start_time": "2022-12-27T09:24:45.663Z"
   },
   {
    "duration": 11,
    "start_time": "2022-12-27T09:24:45.692Z"
   },
   {
    "duration": 25,
    "start_time": "2022-12-27T09:24:45.705Z"
   },
   {
    "duration": 26,
    "start_time": "2022-12-27T09:24:45.732Z"
   },
   {
    "duration": 9,
    "start_time": "2022-12-27T09:24:45.760Z"
   },
   {
    "duration": 42747,
    "start_time": "2022-12-27T09:24:45.771Z"
   },
   {
    "duration": 138037,
    "start_time": "2022-12-27T09:25:28.520Z"
   },
   {
    "duration": 2728,
    "start_time": "2022-12-27T09:27:46.559Z"
   },
   {
    "duration": 90,
    "start_time": "2022-12-27T09:27:49.292Z"
   },
   {
    "duration": 138,
    "start_time": "2022-12-27T09:27:49.384Z"
   },
   {
    "duration": 476,
    "start_time": "2022-12-27T09:27:49.525Z"
   },
   {
    "duration": 8,
    "start_time": "2022-12-27T09:27:50.003Z"
   },
   {
    "duration": 37585,
    "start_time": "2022-12-27T09:27:50.014Z"
   },
   {
    "duration": 7,
    "start_time": "2022-12-27T09:28:27.600Z"
   },
   {
    "duration": 472,
    "start_time": "2022-12-27T09:28:27.608Z"
   },
   {
    "duration": 96,
    "start_time": "2022-12-27T09:28:28.082Z"
   },
   {
    "duration": 11,
    "start_time": "2022-12-27T09:28:28.180Z"
   },
   {
    "duration": 88,
    "start_time": "2022-12-27T09:28:28.192Z"
   },
   {
    "duration": 10,
    "start_time": "2022-12-27T09:28:28.282Z"
   },
   {
    "duration": 0,
    "start_time": "2022-12-27T09:28:28.756Z"
   },
   {
    "duration": 347,
    "start_time": "2022-12-27T09:28:31.495Z"
   },
   {
    "duration": 393,
    "start_time": "2022-12-27T09:30:46.240Z"
   },
   {
    "duration": 364,
    "start_time": "2022-12-27T09:34:37.277Z"
   },
   {
    "duration": 359,
    "start_time": "2022-12-27T09:47:38.389Z"
   },
   {
    "duration": 391,
    "start_time": "2022-12-27T09:47:51.641Z"
   },
   {
    "duration": 429,
    "start_time": "2022-12-27T09:52:01.146Z"
   },
   {
    "duration": 398,
    "start_time": "2022-12-27T09:52:14.495Z"
   },
   {
    "duration": 349,
    "start_time": "2022-12-27T09:52:29.202Z"
   },
   {
    "duration": 391,
    "start_time": "2022-12-27T10:01:45.987Z"
   },
   {
    "duration": 385,
    "start_time": "2022-12-27T10:02:16.575Z"
   },
   {
    "duration": 363,
    "start_time": "2022-12-27T10:03:07.299Z"
   },
   {
    "duration": 532,
    "start_time": "2022-12-27T10:03:09.251Z"
   },
   {
    "duration": 1414,
    "start_time": "2022-12-27T11:37:04.017Z"
   },
   {
    "duration": 696,
    "start_time": "2022-12-27T11:37:05.433Z"
   },
   {
    "duration": 18,
    "start_time": "2022-12-27T11:37:06.131Z"
   },
   {
    "duration": 21,
    "start_time": "2022-12-27T11:37:06.151Z"
   },
   {
    "duration": 22,
    "start_time": "2022-12-27T11:37:06.173Z"
   },
   {
    "duration": 23,
    "start_time": "2022-12-27T11:37:06.197Z"
   },
   {
    "duration": 139,
    "start_time": "2022-12-27T11:37:06.222Z"
   },
   {
    "duration": 35,
    "start_time": "2022-12-27T11:37:06.363Z"
   },
   {
    "duration": 101,
    "start_time": "2022-12-27T11:37:06.400Z"
   },
   {
    "duration": 139,
    "start_time": "2022-12-27T11:37:06.504Z"
   },
   {
    "duration": 8,
    "start_time": "2022-12-27T11:37:06.645Z"
   },
   {
    "duration": 7,
    "start_time": "2022-12-27T11:37:06.655Z"
   },
   {
    "duration": 9,
    "start_time": "2022-12-27T11:37:06.678Z"
   },
   {
    "duration": 8,
    "start_time": "2022-12-27T11:37:06.689Z"
   },
   {
    "duration": 7,
    "start_time": "2022-12-27T11:37:06.699Z"
   },
   {
    "duration": 8,
    "start_time": "2022-12-27T11:37:06.708Z"
   },
   {
    "duration": 8,
    "start_time": "2022-12-27T11:37:06.717Z"
   },
   {
    "duration": 12,
    "start_time": "2022-12-27T11:37:06.726Z"
   },
   {
    "duration": 26,
    "start_time": "2022-12-27T11:37:06.740Z"
   },
   {
    "duration": 1522,
    "start_time": "2022-12-27T11:37:06.768Z"
   },
   {
    "duration": 1528,
    "start_time": "2022-12-27T11:37:08.291Z"
   },
   {
    "duration": 1522,
    "start_time": "2022-12-27T11:37:09.820Z"
   },
   {
    "duration": 419,
    "start_time": "2022-12-27T11:37:11.344Z"
   },
   {
    "duration": 444,
    "start_time": "2022-12-27T11:37:11.764Z"
   },
   {
    "duration": 1324,
    "start_time": "2022-12-27T11:37:12.210Z"
   },
   {
    "duration": 45,
    "start_time": "2022-12-27T11:37:13.535Z"
   },
   {
    "duration": 38,
    "start_time": "2022-12-27T11:37:13.582Z"
   },
   {
    "duration": 3,
    "start_time": "2022-12-27T11:37:13.623Z"
   },
   {
    "duration": 20,
    "start_time": "2022-12-27T11:37:13.628Z"
   },
   {
    "duration": 7,
    "start_time": "2022-12-27T11:37:13.650Z"
   },
   {
    "duration": 8,
    "start_time": "2022-12-27T11:37:13.658Z"
   },
   {
    "duration": 15,
    "start_time": "2022-12-27T11:37:13.667Z"
   },
   {
    "duration": 18,
    "start_time": "2022-12-27T11:37:13.684Z"
   },
   {
    "duration": 5,
    "start_time": "2022-12-27T11:37:13.703Z"
   },
   {
    "duration": 42055,
    "start_time": "2022-12-27T11:37:13.710Z"
   },
   {
    "duration": 1514,
    "start_time": "2022-12-27T11:39:55.527Z"
   },
   {
    "duration": 744,
    "start_time": "2022-12-27T11:39:57.043Z"
   },
   {
    "duration": 18,
    "start_time": "2022-12-27T11:39:57.789Z"
   },
   {
    "duration": 13,
    "start_time": "2022-12-27T11:39:57.809Z"
   },
   {
    "duration": 18,
    "start_time": "2022-12-27T11:39:57.824Z"
   },
   {
    "duration": 37,
    "start_time": "2022-12-27T11:39:57.844Z"
   },
   {
    "duration": 149,
    "start_time": "2022-12-27T11:39:57.883Z"
   },
   {
    "duration": 25,
    "start_time": "2022-12-27T11:39:58.034Z"
   },
   {
    "duration": 108,
    "start_time": "2022-12-27T11:39:58.060Z"
   },
   {
    "duration": 130,
    "start_time": "2022-12-27T11:39:58.170Z"
   },
   {
    "duration": 8,
    "start_time": "2022-12-27T11:39:58.301Z"
   },
   {
    "duration": 5,
    "start_time": "2022-12-27T11:39:58.311Z"
   },
   {
    "duration": 9,
    "start_time": "2022-12-27T11:39:58.318Z"
   },
   {
    "duration": 7,
    "start_time": "2022-12-27T11:39:58.330Z"
   },
   {
    "duration": 10,
    "start_time": "2022-12-27T11:39:58.338Z"
   },
   {
    "duration": 30,
    "start_time": "2022-12-27T11:39:58.349Z"
   },
   {
    "duration": 9,
    "start_time": "2022-12-27T11:39:58.381Z"
   },
   {
    "duration": 13,
    "start_time": "2022-12-27T11:39:58.392Z"
   },
   {
    "duration": 15,
    "start_time": "2022-12-27T11:39:58.407Z"
   },
   {
    "duration": 1504,
    "start_time": "2022-12-27T11:39:58.424Z"
   },
   {
    "duration": 1529,
    "start_time": "2022-12-27T11:39:59.930Z"
   },
   {
    "duration": 1521,
    "start_time": "2022-12-27T11:40:01.461Z"
   },
   {
    "duration": 394,
    "start_time": "2022-12-27T11:40:02.984Z"
   },
   {
    "duration": 405,
    "start_time": "2022-12-27T11:40:03.379Z"
   },
   {
    "duration": 1362,
    "start_time": "2022-12-27T11:40:03.786Z"
   },
   {
    "duration": 39,
    "start_time": "2022-12-27T11:40:05.150Z"
   },
   {
    "duration": 37,
    "start_time": "2022-12-27T11:40:05.191Z"
   },
   {
    "duration": 3,
    "start_time": "2022-12-27T11:40:05.230Z"
   },
   {
    "duration": 12,
    "start_time": "2022-12-27T11:40:05.234Z"
   },
   {
    "duration": 7,
    "start_time": "2022-12-27T11:40:05.247Z"
   },
   {
    "duration": 8,
    "start_time": "2022-12-27T11:40:05.256Z"
   },
   {
    "duration": 18,
    "start_time": "2022-12-27T11:40:05.266Z"
   },
   {
    "duration": 17,
    "start_time": "2022-12-27T11:40:05.286Z"
   },
   {
    "duration": 5,
    "start_time": "2022-12-27T11:40:05.304Z"
   },
   {
    "duration": 1589,
    "start_time": "2022-12-27T11:40:16.397Z"
   },
   {
    "duration": 666,
    "start_time": "2022-12-27T11:40:17.988Z"
   },
   {
    "duration": 23,
    "start_time": "2022-12-27T11:40:18.655Z"
   },
   {
    "duration": 12,
    "start_time": "2022-12-27T11:40:18.679Z"
   },
   {
    "duration": 17,
    "start_time": "2022-12-27T11:40:18.693Z"
   },
   {
    "duration": 13,
    "start_time": "2022-12-27T11:40:18.712Z"
   },
   {
    "duration": 146,
    "start_time": "2022-12-27T11:40:18.726Z"
   },
   {
    "duration": 25,
    "start_time": "2022-12-27T11:40:18.874Z"
   },
   {
    "duration": 128,
    "start_time": "2022-12-27T11:40:18.901Z"
   },
   {
    "duration": 140,
    "start_time": "2022-12-27T11:40:19.031Z"
   },
   {
    "duration": 12,
    "start_time": "2022-12-27T11:40:19.173Z"
   },
   {
    "duration": 9,
    "start_time": "2022-12-27T11:40:19.186Z"
   },
   {
    "duration": 13,
    "start_time": "2022-12-27T11:40:19.196Z"
   },
   {
    "duration": 7,
    "start_time": "2022-12-27T11:40:19.212Z"
   },
   {
    "duration": 3,
    "start_time": "2022-12-27T11:40:19.221Z"
   },
   {
    "duration": 7,
    "start_time": "2022-12-27T11:40:19.226Z"
   },
   {
    "duration": 6,
    "start_time": "2022-12-27T11:40:19.235Z"
   },
   {
    "duration": 10,
    "start_time": "2022-12-27T11:40:19.278Z"
   },
   {
    "duration": 10,
    "start_time": "2022-12-27T11:40:19.290Z"
   },
   {
    "duration": 1457,
    "start_time": "2022-12-27T11:40:19.302Z"
   },
   {
    "duration": 1634,
    "start_time": "2022-12-27T11:40:20.761Z"
   },
   {
    "duration": 1787,
    "start_time": "2022-12-27T11:40:22.396Z"
   },
   {
    "duration": 382,
    "start_time": "2022-12-27T11:40:24.186Z"
   },
   {
    "duration": 421,
    "start_time": "2022-12-27T11:40:24.569Z"
   },
   {
    "duration": 1295,
    "start_time": "2022-12-27T11:40:24.992Z"
   },
   {
    "duration": 32,
    "start_time": "2022-12-27T11:40:26.289Z"
   },
   {
    "duration": 38,
    "start_time": "2022-12-27T11:40:26.322Z"
   },
   {
    "duration": 17,
    "start_time": "2022-12-27T11:40:26.361Z"
   },
   {
    "duration": 8,
    "start_time": "2022-12-27T11:40:26.380Z"
   },
   {
    "duration": 7,
    "start_time": "2022-12-27T11:40:26.390Z"
   },
   {
    "duration": 5,
    "start_time": "2022-12-27T11:40:26.399Z"
   },
   {
    "duration": 6,
    "start_time": "2022-12-27T11:40:26.406Z"
   },
   {
    "duration": 19,
    "start_time": "2022-12-27T11:40:26.414Z"
   },
   {
    "duration": 10,
    "start_time": "2022-12-27T11:40:26.436Z"
   },
   {
    "duration": 42545,
    "start_time": "2022-12-27T11:40:26.448Z"
   },
   {
    "duration": 1636,
    "start_time": "2022-12-27T15:56:34.266Z"
   },
   {
    "duration": 628,
    "start_time": "2022-12-27T15:56:35.904Z"
   },
   {
    "duration": 19,
    "start_time": "2022-12-27T15:56:36.534Z"
   },
   {
    "duration": 13,
    "start_time": "2022-12-27T15:56:36.556Z"
   },
   {
    "duration": 35,
    "start_time": "2022-12-27T15:56:36.571Z"
   },
   {
    "duration": 26,
    "start_time": "2022-12-27T15:56:36.608Z"
   },
   {
    "duration": 133,
    "start_time": "2022-12-27T15:56:36.636Z"
   },
   {
    "duration": 25,
    "start_time": "2022-12-27T15:56:36.770Z"
   },
   {
    "duration": 116,
    "start_time": "2022-12-27T15:56:36.797Z"
   },
   {
    "duration": 137,
    "start_time": "2022-12-27T15:56:36.916Z"
   },
   {
    "duration": 10,
    "start_time": "2022-12-27T15:56:37.055Z"
   },
   {
    "duration": 34,
    "start_time": "2022-12-27T15:56:37.066Z"
   },
   {
    "duration": 24,
    "start_time": "2022-12-27T15:56:37.102Z"
   },
   {
    "duration": 21,
    "start_time": "2022-12-27T15:56:37.128Z"
   },
   {
    "duration": 11,
    "start_time": "2022-12-27T15:56:37.151Z"
   },
   {
    "duration": 8,
    "start_time": "2022-12-27T15:56:37.164Z"
   },
   {
    "duration": 11,
    "start_time": "2022-12-27T15:56:37.174Z"
   },
   {
    "duration": 14,
    "start_time": "2022-12-27T15:56:37.187Z"
   },
   {
    "duration": 13,
    "start_time": "2022-12-27T15:56:37.203Z"
   },
   {
    "duration": 1487,
    "start_time": "2022-12-27T15:56:37.218Z"
   },
   {
    "duration": 1577,
    "start_time": "2022-12-27T15:56:38.706Z"
   },
   {
    "duration": 1573,
    "start_time": "2022-12-27T15:56:40.285Z"
   },
   {
    "duration": 494,
    "start_time": "2022-12-27T15:56:41.861Z"
   },
   {
    "duration": 490,
    "start_time": "2022-12-27T15:56:42.357Z"
   },
   {
    "duration": 1300,
    "start_time": "2022-12-27T15:56:42.849Z"
   },
   {
    "duration": 33,
    "start_time": "2022-12-27T15:56:44.152Z"
   },
   {
    "duration": 57,
    "start_time": "2022-12-27T15:56:44.187Z"
   },
   {
    "duration": 3,
    "start_time": "2022-12-27T15:56:44.249Z"
   },
   {
    "duration": 12,
    "start_time": "2022-12-27T15:56:44.254Z"
   },
   {
    "duration": 7,
    "start_time": "2022-12-27T15:56:44.267Z"
   },
   {
    "duration": 5,
    "start_time": "2022-12-27T15:56:44.276Z"
   },
   {
    "duration": 8,
    "start_time": "2022-12-27T15:56:44.283Z"
   },
   {
    "duration": 33,
    "start_time": "2022-12-27T15:56:44.293Z"
   },
   {
    "duration": 6,
    "start_time": "2022-12-27T15:56:44.328Z"
   },
   {
    "duration": 9140,
    "start_time": "2022-12-27T15:56:44.336Z"
   },
   {
    "duration": 0,
    "start_time": "2022-12-27T15:56:53.478Z"
   },
   {
    "duration": 0,
    "start_time": "2022-12-27T15:56:53.479Z"
   },
   {
    "duration": 0,
    "start_time": "2022-12-27T15:56:53.480Z"
   },
   {
    "duration": 0,
    "start_time": "2022-12-27T15:56:53.481Z"
   },
   {
    "duration": 0,
    "start_time": "2022-12-27T15:56:53.482Z"
   },
   {
    "duration": 0,
    "start_time": "2022-12-27T15:56:53.483Z"
   },
   {
    "duration": 0,
    "start_time": "2022-12-27T15:56:53.484Z"
   },
   {
    "duration": 0,
    "start_time": "2022-12-27T15:56:53.485Z"
   },
   {
    "duration": 0,
    "start_time": "2022-12-27T15:56:53.486Z"
   },
   {
    "duration": 1593,
    "start_time": "2022-12-27T15:57:52.988Z"
   },
   {
    "duration": 620,
    "start_time": "2022-12-27T15:57:54.583Z"
   },
   {
    "duration": 23,
    "start_time": "2022-12-27T15:57:55.204Z"
   },
   {
    "duration": 12,
    "start_time": "2022-12-27T15:57:55.229Z"
   },
   {
    "duration": 17,
    "start_time": "2022-12-27T15:57:55.244Z"
   },
   {
    "duration": 12,
    "start_time": "2022-12-27T15:57:55.262Z"
   },
   {
    "duration": 144,
    "start_time": "2022-12-27T15:57:55.276Z"
   },
   {
    "duration": 23,
    "start_time": "2022-12-27T15:57:55.427Z"
   },
   {
    "duration": 119,
    "start_time": "2022-12-27T15:57:55.451Z"
   },
   {
    "duration": 163,
    "start_time": "2022-12-27T15:57:55.572Z"
   },
   {
    "duration": 11,
    "start_time": "2022-12-27T15:57:55.737Z"
   },
   {
    "duration": 8,
    "start_time": "2022-12-27T15:57:55.750Z"
   },
   {
    "duration": 15,
    "start_time": "2022-12-27T15:57:55.760Z"
   },
   {
    "duration": 11,
    "start_time": "2022-12-27T15:57:55.779Z"
   },
   {
    "duration": 10,
    "start_time": "2022-12-27T15:57:55.792Z"
   },
   {
    "duration": 24,
    "start_time": "2022-12-27T15:57:55.803Z"
   },
   {
    "duration": 7,
    "start_time": "2022-12-27T15:57:55.829Z"
   },
   {
    "duration": 13,
    "start_time": "2022-12-27T15:57:55.837Z"
   },
   {
    "duration": 12,
    "start_time": "2022-12-27T15:57:55.851Z"
   },
   {
    "duration": 1455,
    "start_time": "2022-12-27T15:57:55.865Z"
   },
   {
    "duration": 1470,
    "start_time": "2022-12-27T15:57:57.322Z"
   },
   {
    "duration": 1496,
    "start_time": "2022-12-27T15:57:58.794Z"
   },
   {
    "duration": 416,
    "start_time": "2022-12-27T15:58:00.292Z"
   },
   {
    "duration": 439,
    "start_time": "2022-12-27T15:58:00.710Z"
   },
   {
    "duration": 1278,
    "start_time": "2022-12-27T15:58:01.151Z"
   },
   {
    "duration": 32,
    "start_time": "2022-12-27T15:58:02.430Z"
   },
   {
    "duration": 35,
    "start_time": "2022-12-27T15:58:02.463Z"
   },
   {
    "duration": 3,
    "start_time": "2022-12-27T15:58:02.500Z"
   },
   {
    "duration": 23,
    "start_time": "2022-12-27T15:58:02.504Z"
   },
   {
    "duration": 29,
    "start_time": "2022-12-27T15:58:02.529Z"
   },
   {
    "duration": 37,
    "start_time": "2022-12-27T15:58:02.560Z"
   },
   {
    "duration": 53,
    "start_time": "2022-12-27T15:58:02.599Z"
   },
   {
    "duration": 25,
    "start_time": "2022-12-27T15:58:02.654Z"
   },
   {
    "duration": 10,
    "start_time": "2022-12-27T15:58:02.681Z"
   },
   {
    "duration": 42678,
    "start_time": "2022-12-27T15:58:02.693Z"
   },
   {
    "duration": 44,
    "start_time": "2022-12-28T11:42:25.969Z"
   },
   {
    "duration": 1452,
    "start_time": "2022-12-28T11:42:29.645Z"
   },
   {
    "duration": 2934,
    "start_time": "2022-12-28T11:42:31.098Z"
   },
   {
    "duration": 18,
    "start_time": "2022-12-28T11:42:34.033Z"
   },
   {
    "duration": 11,
    "start_time": "2022-12-28T11:42:34.054Z"
   },
   {
    "duration": 15,
    "start_time": "2022-12-28T11:42:34.067Z"
   },
   {
    "duration": 21,
    "start_time": "2022-12-28T11:42:34.084Z"
   },
   {
    "duration": 126,
    "start_time": "2022-12-28T11:42:34.106Z"
   },
   {
    "duration": 34,
    "start_time": "2022-12-28T11:42:34.234Z"
   },
   {
    "duration": 109,
    "start_time": "2022-12-28T11:42:34.270Z"
   },
   {
    "duration": 112,
    "start_time": "2022-12-28T11:42:34.382Z"
   },
   {
    "duration": 7,
    "start_time": "2022-12-28T11:42:34.497Z"
   },
   {
    "duration": 11,
    "start_time": "2022-12-28T11:42:34.505Z"
   },
   {
    "duration": 13,
    "start_time": "2022-12-28T11:42:34.517Z"
   },
   {
    "duration": 8,
    "start_time": "2022-12-28T11:42:34.531Z"
   },
   {
    "duration": 33,
    "start_time": "2022-12-28T11:42:34.541Z"
   },
   {
    "duration": 13,
    "start_time": "2022-12-28T11:42:34.578Z"
   },
   {
    "duration": 25,
    "start_time": "2022-12-28T11:42:34.593Z"
   },
   {
    "duration": 17,
    "start_time": "2022-12-28T11:42:34.620Z"
   },
   {
    "duration": 24,
    "start_time": "2022-12-28T11:42:34.640Z"
   },
   {
    "duration": 1391,
    "start_time": "2022-12-28T11:42:34.666Z"
   },
   {
    "duration": 1373,
    "start_time": "2022-12-28T11:42:36.059Z"
   },
   {
    "duration": 1367,
    "start_time": "2022-12-28T11:42:37.433Z"
   },
   {
    "duration": 373,
    "start_time": "2022-12-28T11:42:38.802Z"
   },
   {
    "duration": 422,
    "start_time": "2022-12-28T11:42:39.177Z"
   },
   {
    "duration": 1200,
    "start_time": "2022-12-28T11:42:39.601Z"
   },
   {
    "duration": 30,
    "start_time": "2022-12-28T11:42:40.802Z"
   },
   {
    "duration": 33,
    "start_time": "2022-12-28T11:42:40.833Z"
   },
   {
    "duration": 3,
    "start_time": "2022-12-28T11:42:40.869Z"
   },
   {
    "duration": 24,
    "start_time": "2022-12-28T11:42:40.874Z"
   },
   {
    "duration": 12,
    "start_time": "2022-12-28T11:42:40.900Z"
   },
   {
    "duration": 14,
    "start_time": "2022-12-28T11:42:40.914Z"
   },
   {
    "duration": 10,
    "start_time": "2022-12-28T11:42:40.930Z"
   },
   {
    "duration": 15,
    "start_time": "2022-12-28T11:42:40.942Z"
   },
   {
    "duration": 4,
    "start_time": "2022-12-28T11:42:40.959Z"
   },
   {
    "duration": 42387,
    "start_time": "2022-12-28T11:42:40.964Z"
   },
   {
    "duration": 29911907,
    "start_time": "2022-12-28T11:43:23.353Z"
   },
   {
    "duration": 2942,
    "start_time": "2022-12-28T20:01:55.262Z"
   },
   {
    "duration": 92,
    "start_time": "2022-12-28T20:01:58.208Z"
   },
   {
    "duration": 95,
    "start_time": "2022-12-28T20:01:58.302Z"
   },
   {
    "duration": 410,
    "start_time": "2022-12-28T20:01:58.399Z"
   },
   {
    "duration": 6,
    "start_time": "2022-12-28T20:01:58.810Z"
   },
   {
    "duration": 6,
    "start_time": "2022-12-28T20:01:58.818Z"
   },
   {
    "duration": 8,
    "start_time": "2022-12-28T20:01:58.826Z"
   },
   {
    "duration": 4,
    "start_time": "2022-12-28T20:01:58.835Z"
   },
   {
    "duration": 117,
    "start_time": "2022-12-29T11:00:39.353Z"
   },
   {
    "duration": 1481,
    "start_time": "2022-12-29T11:00:44.114Z"
   },
   {
    "duration": 1812,
    "start_time": "2022-12-29T11:00:45.597Z"
   },
   {
    "duration": 18,
    "start_time": "2022-12-29T11:00:47.410Z"
   },
   {
    "duration": 11,
    "start_time": "2022-12-29T11:00:47.430Z"
   },
   {
    "duration": 20,
    "start_time": "2022-12-29T11:00:47.442Z"
   },
   {
    "duration": 14,
    "start_time": "2022-12-29T11:00:47.463Z"
   },
   {
    "duration": 125,
    "start_time": "2022-12-29T11:00:47.478Z"
   },
   {
    "duration": 22,
    "start_time": "2022-12-29T11:00:47.604Z"
   },
   {
    "duration": 108,
    "start_time": "2022-12-29T11:00:47.627Z"
   },
   {
    "duration": 124,
    "start_time": "2022-12-29T11:00:47.737Z"
   },
   {
    "duration": 8,
    "start_time": "2022-12-29T11:00:47.862Z"
   },
   {
    "duration": 5,
    "start_time": "2022-12-29T11:00:47.871Z"
   },
   {
    "duration": 8,
    "start_time": "2022-12-29T11:00:47.878Z"
   },
   {
    "duration": 7,
    "start_time": "2022-12-29T11:00:47.888Z"
   },
   {
    "duration": 4,
    "start_time": "2022-12-29T11:00:47.896Z"
   },
   {
    "duration": 6,
    "start_time": "2022-12-29T11:00:47.902Z"
   },
   {
    "duration": 6,
    "start_time": "2022-12-29T11:00:47.910Z"
   },
   {
    "duration": 40,
    "start_time": "2022-12-29T11:00:47.918Z"
   },
   {
    "duration": 10,
    "start_time": "2022-12-29T11:00:47.959Z"
   },
   {
    "duration": 1376,
    "start_time": "2022-12-29T11:00:47.970Z"
   },
   {
    "duration": 1399,
    "start_time": "2022-12-29T11:00:49.348Z"
   },
   {
    "duration": 1408,
    "start_time": "2022-12-29T11:00:50.748Z"
   },
   {
    "duration": 386,
    "start_time": "2022-12-29T11:00:52.157Z"
   },
   {
    "duration": 409,
    "start_time": "2022-12-29T11:00:52.545Z"
   },
   {
    "duration": 1233,
    "start_time": "2022-12-29T11:00:52.956Z"
   },
   {
    "duration": 30,
    "start_time": "2022-12-29T11:00:54.190Z"
   },
   {
    "duration": 49,
    "start_time": "2022-12-29T11:00:54.222Z"
   },
   {
    "duration": 4,
    "start_time": "2022-12-29T11:00:54.274Z"
   },
   {
    "duration": 9,
    "start_time": "2022-12-29T11:00:54.279Z"
   },
   {
    "duration": 6,
    "start_time": "2022-12-29T11:00:54.290Z"
   },
   {
    "duration": 9,
    "start_time": "2022-12-29T11:00:54.298Z"
   },
   {
    "duration": 7,
    "start_time": "2022-12-29T11:00:54.309Z"
   },
   {
    "duration": 18,
    "start_time": "2022-12-29T11:00:54.318Z"
   },
   {
    "duration": 15,
    "start_time": "2022-12-29T11:00:54.338Z"
   },
   {
    "duration": 40392,
    "start_time": "2022-12-29T11:00:54.355Z"
   },
   {
    "duration": 2831459,
    "start_time": "2022-12-29T11:01:34.749Z"
   },
   {
    "duration": 2345,
    "start_time": "2022-12-29T11:48:46.210Z"
   },
   {
    "duration": 97,
    "start_time": "2022-12-29T11:48:48.557Z"
   },
   {
    "duration": 8,
    "start_time": "2022-12-29T11:48:48.656Z"
   },
   {
    "duration": 390,
    "start_time": "2022-12-29T11:48:48.666Z"
   },
   {
    "duration": 7,
    "start_time": "2022-12-29T11:48:49.057Z"
   },
   {
    "duration": 11,
    "start_time": "2022-12-29T11:48:49.066Z"
   },
   {
    "duration": 10,
    "start_time": "2022-12-29T11:48:49.078Z"
   },
   {
    "duration": 4,
    "start_time": "2022-12-29T11:48:49.090Z"
   },
   {
    "duration": 4,
    "start_time": "2022-12-29T11:52:32.295Z"
   },
   {
    "duration": 25197,
    "start_time": "2022-12-29T11:52:32.571Z"
   },
   {
    "duration": 7,
    "start_time": "2022-12-29T11:52:57.770Z"
   }
  ],
  "kernelspec": {
   "display_name": "Python 3",
   "language": "python",
   "name": "python3"
  },
  "language_info": {
   "codemirror_mode": {
    "name": "ipython",
    "version": 3
   },
   "file_extension": ".py",
   "mimetype": "text/x-python",
   "name": "python",
   "nbconvert_exporter": "python",
   "pygments_lexer": "ipython3",
   "version": "3.7.4"
  },
  "toc": {
   "base_numbering": 1,
   "nav_menu": {},
   "number_sections": true,
   "sideBar": true,
   "skip_h1_title": true,
   "title_cell": "Содержание",
   "title_sidebar": "Contents",
   "toc_cell": true,
   "toc_position": {
    "height": "calc(100% - 180px)",
    "left": "10px",
    "top": "150px",
    "width": "326.398px"
   },
   "toc_section_display": true,
   "toc_window_display": true
  }
 },
 "nbformat": 4,
 "nbformat_minor": 2
}
