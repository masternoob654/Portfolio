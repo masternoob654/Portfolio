{
 "cells": [
  {
   "cell_type": "markdown",
   "metadata": {
    "toc": true
   },
   "source": [
    "<h1>Содержание<span class=\"tocSkip\"></span></h1>\n",
    "<div class=\"toc\"><ul class=\"toc-item\"><li><span><a href=\"#Подготовка-данных\" data-toc-modified-id=\"Подготовка-данных-1\"><span class=\"toc-item-num\">1&nbsp;&nbsp;</span>Подготовка данных</a></span></li><li><span><a href=\"#Исследование-задачи\" data-toc-modified-id=\"Исследование-задачи-2\"><span class=\"toc-item-num\">2&nbsp;&nbsp;</span>Исследование задачи</a></span><ul class=\"toc-item\"><li><span><a href=\"#Используем-OHE-обработку\" data-toc-modified-id=\"Используем-OHE-обработку-2.1\"><span class=\"toc-item-num\">2.1&nbsp;&nbsp;</span>Используем OHE-обработку</a></span></li><li><span><a href=\"#Формируем-выборки\" data-toc-modified-id=\"Формируем-выборки-2.2\"><span class=\"toc-item-num\">2.2&nbsp;&nbsp;</span>Формируем выборки</a></span></li><li><span><a href=\"#Подбор-гиперпараметров\" data-toc-modified-id=\"Подбор-гиперпараметров-2.3\"><span class=\"toc-item-num\">2.3&nbsp;&nbsp;</span>Подбор гиперпараметров</a></span></li><li><span><a href=\"#Исследование-баланса-классов\" data-toc-modified-id=\"Исследование-баланса-классов-2.4\"><span class=\"toc-item-num\">2.4&nbsp;&nbsp;</span>Исследование баланса классов</a></span></li></ul></li><li><span><a href=\"#Борьба-с-дисбалансом\" data-toc-modified-id=\"Борьба-с-дисбалансом-3\"><span class=\"toc-item-num\">3&nbsp;&nbsp;</span>Борьба с дисбалансом</a></span><ul class=\"toc-item\"><li><span><a href=\"#Использование-взвешенных-классов\" data-toc-modified-id=\"Использование-взвешенных-классов-3.1\"><span class=\"toc-item-num\">3.1&nbsp;&nbsp;</span>Использование взвешенных классов</a></span></li><li><span><a href=\"#Использование-уменьшенной-выборки\" data-toc-modified-id=\"Использование-уменьшенной-выборки-3.2\"><span class=\"toc-item-num\">3.2&nbsp;&nbsp;</span>Использование уменьшенной выборки</a></span></li><li><span><a href=\"#Использование-увеличенной-выборки\" data-toc-modified-id=\"Использование-увеличенной-выборки-3.3\"><span class=\"toc-item-num\">3.3&nbsp;&nbsp;</span>Использование увеличенной выборки</a></span></li></ul></li><li><span><a href=\"#Тестирование-модели\" data-toc-modified-id=\"Тестирование-модели-4\"><span class=\"toc-item-num\">4&nbsp;&nbsp;</span>Тестирование модели</a></span><ul class=\"toc-item\"><li><span><a href=\"#Подготовка-к-тестированию\" data-toc-modified-id=\"Подготовка-к-тестированию-4.1\"><span class=\"toc-item-num\">4.1&nbsp;&nbsp;</span>Подготовка к тестированию</a></span></li><li><span><a href=\"#Финальное-тестирование\" data-toc-modified-id=\"Финальное-тестирование-4.2\"><span class=\"toc-item-num\">4.2&nbsp;&nbsp;</span>Финальное тестирование</a></span></li></ul></li><li><span><a href=\"#Вывод\" data-toc-modified-id=\"Вывод-5\"><span class=\"toc-item-num\">5&nbsp;&nbsp;</span>Вывод</a></span></li><li><span><a href=\"#Чек-лист-готовности-проекта\" data-toc-modified-id=\"Чек-лист-готовности-проекта-6\"><span class=\"toc-item-num\">6&nbsp;&nbsp;</span>Чек-лист готовности проекта</a></span></li><li><span><a href=\"#Финальные-комментарии-ревьюера\" data-toc-modified-id=\"Финальные-комментарии-ревьюера-7\"><span class=\"toc-item-num\">7&nbsp;&nbsp;</span>Финальные комментарии ревьюера</a></span></li></ul></div>"
   ]
  },
  {
   "cell_type": "markdown",
   "metadata": {},
   "source": [
    "# Отток клиентов"
   ]
  },
  {
   "cell_type": "markdown",
   "metadata": {},
   "source": [
    "Из «Бета-Банка» стали уходить клиенты. Каждый месяц. Немного, но заметно. Банковские маркетологи посчитали: сохранять текущих клиентов дешевле, чем привлекать новых.\n",
    "\n",
    "Нужно спрогнозировать, уйдёт клиент из банка в ближайшее время или нет. Вам предоставлены исторические данные о поведении клиентов и расторжении договоров с банком. \n",
    "\n",
    "Постройте модель с предельно большим значением *F1*-меры. Чтобы сдать проект успешно, нужно довести метрику до 0.59. Проверьте *F1*-меру на тестовой выборке самостоятельно.\n",
    "\n",
    "Дополнительно измеряйте *AUC-ROC*, сравнивайте её значение с *F1*-мерой.\n",
    "\n",
    "Источник данных: [https://www.kaggle.com/barelydedicated/bank-customer-churn-modeling](https://www.kaggle.com/barelydedicated/bank-customer-churn-modeling)"
   ]
  },
  {
   "cell_type": "markdown",
   "metadata": {},
   "source": [
    "## Подготовка данных"
   ]
  },
  {
   "cell_type": "markdown",
   "metadata": {},
   "source": [
    "Начнём наш проект с чтения файла и загрузки необходимых библиотек."
   ]
  },
  {
   "cell_type": "code",
   "execution_count": 1,
   "metadata": {},
   "outputs": [],
   "source": [
    "import pandas as pd\n",
    "import matplotlib.pyplot as plt\n",
    "\n",
    "from sklearn.linear_model import LogisticRegression\n",
    "from sklearn.ensemble import RandomForestClassifier\n",
    "from sklearn.preprocessing import StandardScaler\n",
    "from sklearn.tree import DecisionTreeClassifier\n",
    "from sklearn.dummy import DummyClassifier"
   ]
  },
  {
   "cell_type": "code",
   "execution_count": 2,
   "metadata": {},
   "outputs": [],
   "source": [
    "from sklearn.preprocessing import MinMaxScaler\n",
    "from sklearn.utils import shuffle\n",
    "from sklearn.model_selection import train_test_split, GridSearchCV\n",
    "from sklearn.metrics import accuracy_score, f1_score, recall_score, precision_score, roc_auc_score, roc_curve, confusion_matrix"
   ]
  },
  {
   "cell_type": "code",
   "execution_count": 3,
   "metadata": {},
   "outputs": [],
   "source": [
    "import warnings\n",
    "warnings.filterwarnings(\"ignore\") # необходимо для скрытия предупреждений, которые появятся по ходу выполнения программы"
   ]
  },
  {
   "cell_type": "code",
   "execution_count": 4,
   "metadata": {},
   "outputs": [],
   "source": [
    "data = pd.read_csv('/datasets/Churn.csv')"
   ]
  },
  {
   "cell_type": "markdown",
   "metadata": {},
   "source": [
    "Посмотрим на наши данные"
   ]
  },
  {
   "cell_type": "code",
   "execution_count": 5,
   "metadata": {},
   "outputs": [
    {
     "name": "stdout",
     "output_type": "stream",
     "text": [
      "<class 'pandas.core.frame.DataFrame'>\n",
      "RangeIndex: 10000 entries, 0 to 9999\n",
      "Data columns (total 14 columns):\n",
      " #   Column           Non-Null Count  Dtype  \n",
      "---  ------           --------------  -----  \n",
      " 0   RowNumber        10000 non-null  int64  \n",
      " 1   CustomerId       10000 non-null  int64  \n",
      " 2   Surname          10000 non-null  object \n",
      " 3   CreditScore      10000 non-null  int64  \n",
      " 4   Geography        10000 non-null  object \n",
      " 5   Gender           10000 non-null  object \n",
      " 6   Age              10000 non-null  int64  \n",
      " 7   Tenure           9091 non-null   float64\n",
      " 8   Balance          10000 non-null  float64\n",
      " 9   NumOfProducts    10000 non-null  int64  \n",
      " 10  HasCrCard        10000 non-null  int64  \n",
      " 11  IsActiveMember   10000 non-null  int64  \n",
      " 12  EstimatedSalary  10000 non-null  float64\n",
      " 13  Exited           10000 non-null  int64  \n",
      "dtypes: float64(3), int64(8), object(3)\n",
      "memory usage: 1.1+ MB\n"
     ]
    }
   ],
   "source": [
    "data.info()"
   ]
  },
  {
   "cell_type": "code",
   "execution_count": 6,
   "metadata": {},
   "outputs": [
    {
     "data": {
      "text/html": [
       "<div>\n",
       "<style scoped>\n",
       "    .dataframe tbody tr th:only-of-type {\n",
       "        vertical-align: middle;\n",
       "    }\n",
       "\n",
       "    .dataframe tbody tr th {\n",
       "        vertical-align: top;\n",
       "    }\n",
       "\n",
       "    .dataframe thead th {\n",
       "        text-align: right;\n",
       "    }\n",
       "</style>\n",
       "<table border=\"1\" class=\"dataframe\">\n",
       "  <thead>\n",
       "    <tr style=\"text-align: right;\">\n",
       "      <th></th>\n",
       "      <th>RowNumber</th>\n",
       "      <th>CustomerId</th>\n",
       "      <th>Surname</th>\n",
       "      <th>CreditScore</th>\n",
       "      <th>Geography</th>\n",
       "      <th>Gender</th>\n",
       "      <th>Age</th>\n",
       "      <th>Tenure</th>\n",
       "      <th>Balance</th>\n",
       "      <th>NumOfProducts</th>\n",
       "      <th>HasCrCard</th>\n",
       "      <th>IsActiveMember</th>\n",
       "      <th>EstimatedSalary</th>\n",
       "      <th>Exited</th>\n",
       "    </tr>\n",
       "  </thead>\n",
       "  <tbody>\n",
       "    <tr>\n",
       "      <th>0</th>\n",
       "      <td>1</td>\n",
       "      <td>15634602</td>\n",
       "      <td>Hargrave</td>\n",
       "      <td>619</td>\n",
       "      <td>France</td>\n",
       "      <td>Female</td>\n",
       "      <td>42</td>\n",
       "      <td>2.0</td>\n",
       "      <td>0.00</td>\n",
       "      <td>1</td>\n",
       "      <td>1</td>\n",
       "      <td>1</td>\n",
       "      <td>101348.88</td>\n",
       "      <td>1</td>\n",
       "    </tr>\n",
       "    <tr>\n",
       "      <th>1</th>\n",
       "      <td>2</td>\n",
       "      <td>15647311</td>\n",
       "      <td>Hill</td>\n",
       "      <td>608</td>\n",
       "      <td>Spain</td>\n",
       "      <td>Female</td>\n",
       "      <td>41</td>\n",
       "      <td>1.0</td>\n",
       "      <td>83807.86</td>\n",
       "      <td>1</td>\n",
       "      <td>0</td>\n",
       "      <td>1</td>\n",
       "      <td>112542.58</td>\n",
       "      <td>0</td>\n",
       "    </tr>\n",
       "    <tr>\n",
       "      <th>2</th>\n",
       "      <td>3</td>\n",
       "      <td>15619304</td>\n",
       "      <td>Onio</td>\n",
       "      <td>502</td>\n",
       "      <td>France</td>\n",
       "      <td>Female</td>\n",
       "      <td>42</td>\n",
       "      <td>8.0</td>\n",
       "      <td>159660.80</td>\n",
       "      <td>3</td>\n",
       "      <td>1</td>\n",
       "      <td>0</td>\n",
       "      <td>113931.57</td>\n",
       "      <td>1</td>\n",
       "    </tr>\n",
       "    <tr>\n",
       "      <th>3</th>\n",
       "      <td>4</td>\n",
       "      <td>15701354</td>\n",
       "      <td>Boni</td>\n",
       "      <td>699</td>\n",
       "      <td>France</td>\n",
       "      <td>Female</td>\n",
       "      <td>39</td>\n",
       "      <td>1.0</td>\n",
       "      <td>0.00</td>\n",
       "      <td>2</td>\n",
       "      <td>0</td>\n",
       "      <td>0</td>\n",
       "      <td>93826.63</td>\n",
       "      <td>0</td>\n",
       "    </tr>\n",
       "    <tr>\n",
       "      <th>4</th>\n",
       "      <td>5</td>\n",
       "      <td>15737888</td>\n",
       "      <td>Mitchell</td>\n",
       "      <td>850</td>\n",
       "      <td>Spain</td>\n",
       "      <td>Female</td>\n",
       "      <td>43</td>\n",
       "      <td>2.0</td>\n",
       "      <td>125510.82</td>\n",
       "      <td>1</td>\n",
       "      <td>1</td>\n",
       "      <td>1</td>\n",
       "      <td>79084.10</td>\n",
       "      <td>0</td>\n",
       "    </tr>\n",
       "  </tbody>\n",
       "</table>\n",
       "</div>"
      ],
      "text/plain": [
       "   RowNumber  CustomerId   Surname  CreditScore Geography  Gender  Age  \\\n",
       "0          1    15634602  Hargrave          619    France  Female   42   \n",
       "1          2    15647311      Hill          608     Spain  Female   41   \n",
       "2          3    15619304      Onio          502    France  Female   42   \n",
       "3          4    15701354      Boni          699    France  Female   39   \n",
       "4          5    15737888  Mitchell          850     Spain  Female   43   \n",
       "\n",
       "   Tenure    Balance  NumOfProducts  HasCrCard  IsActiveMember  \\\n",
       "0     2.0       0.00              1          1               1   \n",
       "1     1.0   83807.86              1          0               1   \n",
       "2     8.0  159660.80              3          1               0   \n",
       "3     1.0       0.00              2          0               0   \n",
       "4     2.0  125510.82              1          1               1   \n",
       "\n",
       "   EstimatedSalary  Exited  \n",
       "0        101348.88       1  \n",
       "1        112542.58       0  \n",
       "2        113931.57       1  \n",
       "3         93826.63       0  \n",
       "4         79084.10       0  "
      ]
     },
     "execution_count": 6,
     "metadata": {},
     "output_type": "execute_result"
    }
   ],
   "source": [
    "data.head()"
   ]
  },
  {
   "cell_type": "code",
   "execution_count": 7,
   "metadata": {
    "scrolled": true
   },
   "outputs": [
    {
     "data": {
      "text/html": [
       "<div>\n",
       "<style scoped>\n",
       "    .dataframe tbody tr th:only-of-type {\n",
       "        vertical-align: middle;\n",
       "    }\n",
       "\n",
       "    .dataframe tbody tr th {\n",
       "        vertical-align: top;\n",
       "    }\n",
       "\n",
       "    .dataframe thead th {\n",
       "        text-align: right;\n",
       "    }\n",
       "</style>\n",
       "<table border=\"1\" class=\"dataframe\">\n",
       "  <thead>\n",
       "    <tr style=\"text-align: right;\">\n",
       "      <th></th>\n",
       "      <th>RowNumber</th>\n",
       "      <th>CustomerId</th>\n",
       "      <th>CreditScore</th>\n",
       "      <th>Age</th>\n",
       "      <th>Tenure</th>\n",
       "      <th>Balance</th>\n",
       "      <th>NumOfProducts</th>\n",
       "      <th>HasCrCard</th>\n",
       "      <th>IsActiveMember</th>\n",
       "      <th>EstimatedSalary</th>\n",
       "      <th>Exited</th>\n",
       "    </tr>\n",
       "  </thead>\n",
       "  <tbody>\n",
       "    <tr>\n",
       "      <th>count</th>\n",
       "      <td>10000.00000</td>\n",
       "      <td>1.000000e+04</td>\n",
       "      <td>10000.000000</td>\n",
       "      <td>10000.000000</td>\n",
       "      <td>9091.000000</td>\n",
       "      <td>10000.000000</td>\n",
       "      <td>10000.000000</td>\n",
       "      <td>10000.00000</td>\n",
       "      <td>10000.000000</td>\n",
       "      <td>10000.000000</td>\n",
       "      <td>10000.000000</td>\n",
       "    </tr>\n",
       "    <tr>\n",
       "      <th>mean</th>\n",
       "      <td>5000.50000</td>\n",
       "      <td>1.569094e+07</td>\n",
       "      <td>650.528800</td>\n",
       "      <td>38.921800</td>\n",
       "      <td>4.997690</td>\n",
       "      <td>76485.889288</td>\n",
       "      <td>1.530200</td>\n",
       "      <td>0.70550</td>\n",
       "      <td>0.515100</td>\n",
       "      <td>100090.239881</td>\n",
       "      <td>0.203700</td>\n",
       "    </tr>\n",
       "    <tr>\n",
       "      <th>std</th>\n",
       "      <td>2886.89568</td>\n",
       "      <td>7.193619e+04</td>\n",
       "      <td>96.653299</td>\n",
       "      <td>10.487806</td>\n",
       "      <td>2.894723</td>\n",
       "      <td>62397.405202</td>\n",
       "      <td>0.581654</td>\n",
       "      <td>0.45584</td>\n",
       "      <td>0.499797</td>\n",
       "      <td>57510.492818</td>\n",
       "      <td>0.402769</td>\n",
       "    </tr>\n",
       "    <tr>\n",
       "      <th>min</th>\n",
       "      <td>1.00000</td>\n",
       "      <td>1.556570e+07</td>\n",
       "      <td>350.000000</td>\n",
       "      <td>18.000000</td>\n",
       "      <td>0.000000</td>\n",
       "      <td>0.000000</td>\n",
       "      <td>1.000000</td>\n",
       "      <td>0.00000</td>\n",
       "      <td>0.000000</td>\n",
       "      <td>11.580000</td>\n",
       "      <td>0.000000</td>\n",
       "    </tr>\n",
       "    <tr>\n",
       "      <th>25%</th>\n",
       "      <td>2500.75000</td>\n",
       "      <td>1.562853e+07</td>\n",
       "      <td>584.000000</td>\n",
       "      <td>32.000000</td>\n",
       "      <td>2.000000</td>\n",
       "      <td>0.000000</td>\n",
       "      <td>1.000000</td>\n",
       "      <td>0.00000</td>\n",
       "      <td>0.000000</td>\n",
       "      <td>51002.110000</td>\n",
       "      <td>0.000000</td>\n",
       "    </tr>\n",
       "    <tr>\n",
       "      <th>50%</th>\n",
       "      <td>5000.50000</td>\n",
       "      <td>1.569074e+07</td>\n",
       "      <td>652.000000</td>\n",
       "      <td>37.000000</td>\n",
       "      <td>5.000000</td>\n",
       "      <td>97198.540000</td>\n",
       "      <td>1.000000</td>\n",
       "      <td>1.00000</td>\n",
       "      <td>1.000000</td>\n",
       "      <td>100193.915000</td>\n",
       "      <td>0.000000</td>\n",
       "    </tr>\n",
       "    <tr>\n",
       "      <th>75%</th>\n",
       "      <td>7500.25000</td>\n",
       "      <td>1.575323e+07</td>\n",
       "      <td>718.000000</td>\n",
       "      <td>44.000000</td>\n",
       "      <td>7.000000</td>\n",
       "      <td>127644.240000</td>\n",
       "      <td>2.000000</td>\n",
       "      <td>1.00000</td>\n",
       "      <td>1.000000</td>\n",
       "      <td>149388.247500</td>\n",
       "      <td>0.000000</td>\n",
       "    </tr>\n",
       "    <tr>\n",
       "      <th>max</th>\n",
       "      <td>10000.00000</td>\n",
       "      <td>1.581569e+07</td>\n",
       "      <td>850.000000</td>\n",
       "      <td>92.000000</td>\n",
       "      <td>10.000000</td>\n",
       "      <td>250898.090000</td>\n",
       "      <td>4.000000</td>\n",
       "      <td>1.00000</td>\n",
       "      <td>1.000000</td>\n",
       "      <td>199992.480000</td>\n",
       "      <td>1.000000</td>\n",
       "    </tr>\n",
       "  </tbody>\n",
       "</table>\n",
       "</div>"
      ],
      "text/plain": [
       "         RowNumber    CustomerId   CreditScore           Age       Tenure  \\\n",
       "count  10000.00000  1.000000e+04  10000.000000  10000.000000  9091.000000   \n",
       "mean    5000.50000  1.569094e+07    650.528800     38.921800     4.997690   \n",
       "std     2886.89568  7.193619e+04     96.653299     10.487806     2.894723   \n",
       "min        1.00000  1.556570e+07    350.000000     18.000000     0.000000   \n",
       "25%     2500.75000  1.562853e+07    584.000000     32.000000     2.000000   \n",
       "50%     5000.50000  1.569074e+07    652.000000     37.000000     5.000000   \n",
       "75%     7500.25000  1.575323e+07    718.000000     44.000000     7.000000   \n",
       "max    10000.00000  1.581569e+07    850.000000     92.000000    10.000000   \n",
       "\n",
       "             Balance  NumOfProducts    HasCrCard  IsActiveMember  \\\n",
       "count   10000.000000   10000.000000  10000.00000    10000.000000   \n",
       "mean    76485.889288       1.530200      0.70550        0.515100   \n",
       "std     62397.405202       0.581654      0.45584        0.499797   \n",
       "min         0.000000       1.000000      0.00000        0.000000   \n",
       "25%         0.000000       1.000000      0.00000        0.000000   \n",
       "50%     97198.540000       1.000000      1.00000        1.000000   \n",
       "75%    127644.240000       2.000000      1.00000        1.000000   \n",
       "max    250898.090000       4.000000      1.00000        1.000000   \n",
       "\n",
       "       EstimatedSalary        Exited  \n",
       "count     10000.000000  10000.000000  \n",
       "mean     100090.239881      0.203700  \n",
       "std       57510.492818      0.402769  \n",
       "min          11.580000      0.000000  \n",
       "25%       51002.110000      0.000000  \n",
       "50%      100193.915000      0.000000  \n",
       "75%      149388.247500      0.000000  \n",
       "max      199992.480000      1.000000  "
      ]
     },
     "execution_count": 7,
     "metadata": {},
     "output_type": "execute_result"
    }
   ],
   "source": [
    "data.describe()"
   ]
  },
  {
   "cell_type": "markdown",
   "metadata": {},
   "source": [
    "Видно, что данные не до конца подготовлены. Так, в столбце `Tenure` есть пропущенные значения. Считаю, что нужно заменить нулевыми значениями."
   ]
  },
  {
   "cell_type": "code",
   "execution_count": 8,
   "metadata": {},
   "outputs": [],
   "source": [
    "data['Tenure'] = data['Tenure'].fillna(0)"
   ]
  },
  {
   "cell_type": "markdown",
   "metadata": {},
   "source": [
    "Проверим, есть ли явные дубликаты."
   ]
  },
  {
   "cell_type": "code",
   "execution_count": 10,
   "metadata": {},
   "outputs": [
    {
     "data": {
      "text/plain": [
       "0"
      ]
     },
     "execution_count": 10,
     "metadata": {},
     "output_type": "execute_result"
    }
   ],
   "source": [
    "data.duplicated().sum()"
   ]
  },
  {
   "cell_type": "markdown",
   "metadata": {},
   "source": [
    "Также рассмотрим категориальные стоблцы на предмет неявных дубликатов."
   ]
  },
  {
   "cell_type": "code",
   "execution_count": 11,
   "metadata": {},
   "outputs": [
    {
     "data": {
      "text/plain": [
       "array(['France', 'Spain', 'Germany'], dtype=object)"
      ]
     },
     "execution_count": 11,
     "metadata": {},
     "output_type": "execute_result"
    }
   ],
   "source": [
    "data['Geography'].unique()"
   ]
  },
  {
   "cell_type": "code",
   "execution_count": 12,
   "metadata": {},
   "outputs": [
    {
     "data": {
      "text/plain": [
       "array(['Female', 'Male'], dtype=object)"
      ]
     },
     "execution_count": 12,
     "metadata": {},
     "output_type": "execute_result"
    }
   ],
   "source": [
    "data['Gender'].unique()"
   ]
  },
  {
   "cell_type": "code",
   "execution_count": 13,
   "metadata": {},
   "outputs": [
    {
     "data": {
      "text/plain": [
       "array(['Hargrave', 'Hill', 'Onio', ..., 'Kashiwagi', 'Aldridge',\n",
       "       'Burbidge'], dtype=object)"
      ]
     },
     "execution_count": 13,
     "metadata": {},
     "output_type": "execute_result"
    }
   ],
   "source": [
    "data['Surname'].unique()"
   ]
  },
  {
   "cell_type": "code",
   "execution_count": 14,
   "metadata": {},
   "outputs": [
    {
     "data": {
      "text/plain": [
       "Smith       32\n",
       "Martin      29\n",
       "Scott       29\n",
       "Walker      28\n",
       "Brown       26\n",
       "            ..\n",
       "Mundy        1\n",
       "Retana       1\n",
       "St Clair     1\n",
       "Kingsley     1\n",
       "Lynton       1\n",
       "Name: Surname, Length: 2932, dtype: int64"
      ]
     },
     "execution_count": 14,
     "metadata": {},
     "output_type": "execute_result"
    }
   ],
   "source": [
    "data['Surname'].value_counts()"
   ]
  },
  {
   "cell_type": "code",
   "execution_count": 15,
   "metadata": {},
   "outputs": [
    {
     "data": {
      "text/plain": [
       "15695872    1\n",
       "15801062    1\n",
       "15682268    1\n",
       "15647453    1\n",
       "15684319    1\n",
       "           ..\n",
       "15629677    1\n",
       "15773039    1\n",
       "15766896    1\n",
       "15719793    1\n",
       "15812607    1\n",
       "Name: CustomerId, Length: 10000, dtype: int64"
      ]
     },
     "execution_count": 15,
     "metadata": {},
     "output_type": "execute_result"
    }
   ],
   "source": [
    "data['CustomerId'].value_counts()"
   ]
  },
  {
   "cell_type": "markdown",
   "metadata": {},
   "source": [
    "Неявные дубликаты в столбцах `Geography` и `Gender` не найдены, столбцы можно будет преобразовать в количественные при помощи OHE. А вот в столбце `Surname` находится 2932 уникальных значения. Этот столбец не несёт ценности в качестве признака для модели, которую мы будем обучать, его можно будет удалить позже."
   ]
  },
  {
   "cell_type": "markdown",
   "metadata": {},
   "source": [
    "Столбец `RowNumber` тоже можно удалить, так как он повторяет информацию самого датасета и также не несёт ценности в качестве признака для модели. К удалению подлежит ещё и столбец `CustomerId`, так как в нём находится 10000 уникальных значений, которые являются уникальными индентификаторами пользователей."
   ]
  },
  {
   "cell_type": "code",
   "execution_count": 16,
   "metadata": {},
   "outputs": [],
   "source": [
    "data = data.drop(columns = ['Surname', 'RowNumber', 'CustomerId'])"
   ]
  },
  {
   "cell_type": "code",
   "execution_count": 17,
   "metadata": {},
   "outputs": [
    {
     "name": "stdout",
     "output_type": "stream",
     "text": [
      "<class 'pandas.core.frame.DataFrame'>\n",
      "RangeIndex: 10000 entries, 0 to 9999\n",
      "Data columns (total 11 columns):\n",
      " #   Column           Non-Null Count  Dtype  \n",
      "---  ------           --------------  -----  \n",
      " 0   CreditScore      10000 non-null  int64  \n",
      " 1   Geography        10000 non-null  object \n",
      " 2   Gender           10000 non-null  object \n",
      " 3   Age              10000 non-null  int64  \n",
      " 4   Tenure           10000 non-null  float64\n",
      " 5   Balance          10000 non-null  float64\n",
      " 6   NumOfProducts    10000 non-null  int64  \n",
      " 7   HasCrCard        10000 non-null  int64  \n",
      " 8   IsActiveMember   10000 non-null  int64  \n",
      " 9   EstimatedSalary  10000 non-null  float64\n",
      " 10  Exited           10000 non-null  int64  \n",
      "dtypes: float64(3), int64(6), object(2)\n",
      "memory usage: 859.5+ KB\n"
     ]
    }
   ],
   "source": [
    "data.info()"
   ]
  },
  {
   "cell_type": "code",
   "execution_count": 18,
   "metadata": {},
   "outputs": [
    {
     "data": {
      "text/html": [
       "<div>\n",
       "<style scoped>\n",
       "    .dataframe tbody tr th:only-of-type {\n",
       "        vertical-align: middle;\n",
       "    }\n",
       "\n",
       "    .dataframe tbody tr th {\n",
       "        vertical-align: top;\n",
       "    }\n",
       "\n",
       "    .dataframe thead th {\n",
       "        text-align: right;\n",
       "    }\n",
       "</style>\n",
       "<table border=\"1\" class=\"dataframe\">\n",
       "  <thead>\n",
       "    <tr style=\"text-align: right;\">\n",
       "      <th></th>\n",
       "      <th>CreditScore</th>\n",
       "      <th>Geography</th>\n",
       "      <th>Gender</th>\n",
       "      <th>Age</th>\n",
       "      <th>Tenure</th>\n",
       "      <th>Balance</th>\n",
       "      <th>NumOfProducts</th>\n",
       "      <th>HasCrCard</th>\n",
       "      <th>IsActiveMember</th>\n",
       "      <th>EstimatedSalary</th>\n",
       "      <th>Exited</th>\n",
       "    </tr>\n",
       "  </thead>\n",
       "  <tbody>\n",
       "    <tr>\n",
       "      <th>0</th>\n",
       "      <td>619</td>\n",
       "      <td>France</td>\n",
       "      <td>Female</td>\n",
       "      <td>42</td>\n",
       "      <td>2.0</td>\n",
       "      <td>0.00</td>\n",
       "      <td>1</td>\n",
       "      <td>1</td>\n",
       "      <td>1</td>\n",
       "      <td>101348.88</td>\n",
       "      <td>1</td>\n",
       "    </tr>\n",
       "    <tr>\n",
       "      <th>1</th>\n",
       "      <td>608</td>\n",
       "      <td>Spain</td>\n",
       "      <td>Female</td>\n",
       "      <td>41</td>\n",
       "      <td>1.0</td>\n",
       "      <td>83807.86</td>\n",
       "      <td>1</td>\n",
       "      <td>0</td>\n",
       "      <td>1</td>\n",
       "      <td>112542.58</td>\n",
       "      <td>0</td>\n",
       "    </tr>\n",
       "    <tr>\n",
       "      <th>2</th>\n",
       "      <td>502</td>\n",
       "      <td>France</td>\n",
       "      <td>Female</td>\n",
       "      <td>42</td>\n",
       "      <td>8.0</td>\n",
       "      <td>159660.80</td>\n",
       "      <td>3</td>\n",
       "      <td>1</td>\n",
       "      <td>0</td>\n",
       "      <td>113931.57</td>\n",
       "      <td>1</td>\n",
       "    </tr>\n",
       "    <tr>\n",
       "      <th>3</th>\n",
       "      <td>699</td>\n",
       "      <td>France</td>\n",
       "      <td>Female</td>\n",
       "      <td>39</td>\n",
       "      <td>1.0</td>\n",
       "      <td>0.00</td>\n",
       "      <td>2</td>\n",
       "      <td>0</td>\n",
       "      <td>0</td>\n",
       "      <td>93826.63</td>\n",
       "      <td>0</td>\n",
       "    </tr>\n",
       "    <tr>\n",
       "      <th>4</th>\n",
       "      <td>850</td>\n",
       "      <td>Spain</td>\n",
       "      <td>Female</td>\n",
       "      <td>43</td>\n",
       "      <td>2.0</td>\n",
       "      <td>125510.82</td>\n",
       "      <td>1</td>\n",
       "      <td>1</td>\n",
       "      <td>1</td>\n",
       "      <td>79084.10</td>\n",
       "      <td>0</td>\n",
       "    </tr>\n",
       "  </tbody>\n",
       "</table>\n",
       "</div>"
      ],
      "text/plain": [
       "   CreditScore Geography  Gender  Age  Tenure    Balance  NumOfProducts  \\\n",
       "0          619    France  Female   42     2.0       0.00              1   \n",
       "1          608     Spain  Female   41     1.0   83807.86              1   \n",
       "2          502    France  Female   42     8.0  159660.80              3   \n",
       "3          699    France  Female   39     1.0       0.00              2   \n",
       "4          850     Spain  Female   43     2.0  125510.82              1   \n",
       "\n",
       "   HasCrCard  IsActiveMember  EstimatedSalary  Exited  \n",
       "0          1               1        101348.88       1  \n",
       "1          0               1        112542.58       0  \n",
       "2          1               0        113931.57       1  \n",
       "3          0               0         93826.63       0  \n",
       "4          1               1         79084.10       0  "
      ]
     },
     "execution_count": 18,
     "metadata": {},
     "output_type": "execute_result"
    }
   ],
   "source": [
    "data.head()"
   ]
  },
  {
   "cell_type": "markdown",
   "metadata": {},
   "source": [
    "Целью проекта является выявление прогноза, уйдёт ли клиент в ближайшее время или нет. Следовательно, целевым признаком в нашей модели будет столбец `Exited`."
   ]
  },
  {
   "cell_type": "markdown",
   "metadata": {},
   "source": [
    "**Вывод**"
   ]
  },
  {
   "cell_type": "markdown",
   "metadata": {},
   "source": [
    "Был открыт датасет, проверен на предмет дубликатов, как явных, так и неявных. Были заполнены пропущенные значения, и обозначен целевой признак."
   ]
  },
  {
   "cell_type": "markdown",
   "metadata": {},
   "source": [
    "## Исследование задачи"
   ]
  },
  {
   "cell_type": "markdown",
   "metadata": {},
   "source": [
    "### Используем OHE-обработку"
   ]
  },
  {
   "cell_type": "code",
   "execution_count": 19,
   "metadata": {},
   "outputs": [],
   "source": [
    "data = pd.get_dummies(data, drop_first=True)"
   ]
  },
  {
   "cell_type": "code",
   "execution_count": 20,
   "metadata": {
    "scrolled": true
   },
   "outputs": [
    {
     "name": "stdout",
     "output_type": "stream",
     "text": [
      "<class 'pandas.core.frame.DataFrame'>\n",
      "RangeIndex: 10000 entries, 0 to 9999\n",
      "Data columns (total 12 columns):\n",
      " #   Column             Non-Null Count  Dtype  \n",
      "---  ------             --------------  -----  \n",
      " 0   CreditScore        10000 non-null  int64  \n",
      " 1   Age                10000 non-null  int64  \n",
      " 2   Tenure             10000 non-null  float64\n",
      " 3   Balance            10000 non-null  float64\n",
      " 4   NumOfProducts      10000 non-null  int64  \n",
      " 5   HasCrCard          10000 non-null  int64  \n",
      " 6   IsActiveMember     10000 non-null  int64  \n",
      " 7   EstimatedSalary    10000 non-null  float64\n",
      " 8   Exited             10000 non-null  int64  \n",
      " 9   Geography_Germany  10000 non-null  uint8  \n",
      " 10  Geography_Spain    10000 non-null  uint8  \n",
      " 11  Gender_Male        10000 non-null  uint8  \n",
      "dtypes: float64(3), int64(6), uint8(3)\n",
      "memory usage: 732.5 KB\n"
     ]
    }
   ],
   "source": [
    "data.info();"
   ]
  },
  {
   "cell_type": "markdown",
   "metadata": {},
   "source": [
    "### Формируем выборки"
   ]
  },
  {
   "cell_type": "markdown",
   "metadata": {},
   "source": [
    "Формируем признаки и целевой признак."
   ]
  },
  {
   "cell_type": "code",
   "execution_count": 21,
   "metadata": {},
   "outputs": [],
   "source": [
    "features = data.drop('Exited', axis = 1)\n",
    "target = data['Exited']"
   ]
  },
  {
   "cell_type": "markdown",
   "metadata": {},
   "source": [
    "Разделим датасет на обучающую, валидационную и тестирующую выборки в соотношении 60:20:20."
   ]
  },
  {
   "cell_type": "code",
   "execution_count": 22,
   "metadata": {},
   "outputs": [],
   "source": [
    "features_train, features_test, target_train, target_test = train_test_split(\n",
    "    features, target, test_size = 0.40, random_state = 12345)"
   ]
  },
  {
   "cell_type": "code",
   "execution_count": 23,
   "metadata": {},
   "outputs": [],
   "source": [
    "features_valid, features_test, target_valid, target_test = train_test_split(\n",
    "    features_test, target_test, test_size = 0.50, random_state = 12345)"
   ]
  },
  {
   "cell_type": "markdown",
   "metadata": {},
   "source": [
    "Проверяем, правильно ли разделились выборки."
   ]
  },
  {
   "cell_type": "code",
   "execution_count": 24,
   "metadata": {
    "scrolled": true
   },
   "outputs": [
    {
     "name": "stdout",
     "output_type": "stream",
     "text": [
      "(6000, 11)\n",
      "(2000, 11)\n",
      "(2000, 11)\n"
     ]
    }
   ],
   "source": [
    "print(features_train.shape)\n",
    "print(features_valid.shape)\n",
    "print(features_test.shape)"
   ]
  },
  {
   "cell_type": "code",
   "execution_count": 25,
   "metadata": {
    "scrolled": false
   },
   "outputs": [
    {
     "name": "stdout",
     "output_type": "stream",
     "text": [
      "(6000,)\n",
      "(2000,)\n",
      "(2000,)\n"
     ]
    }
   ],
   "source": [
    "print(target_train.shape)\n",
    "print(target_valid.shape)\n",
    "print(target_test.shape)"
   ]
  },
  {
   "cell_type": "markdown",
   "metadata": {},
   "source": [
    "Займёмся масштабированием количественных данных, а именно стандартизацией, поместив соответствующие столбцы в список."
   ]
  },
  {
   "cell_type": "code",
   "execution_count": 26,
   "metadata": {},
   "outputs": [],
   "source": [
    "numeric = ['CreditScore', 'Age', 'Tenure', 'Balance', 'NumOfProducts', 'EstimatedSalary']"
   ]
  },
  {
   "cell_type": "code",
   "execution_count": 27,
   "metadata": {},
   "outputs": [
    {
     "data": {
      "text/plain": [
       "StandardScaler()"
      ]
     },
     "execution_count": 27,
     "metadata": {},
     "output_type": "execute_result"
    }
   ],
   "source": [
    "scaler = StandardScaler()\n",
    "scaler.fit(features_train[numeric])"
   ]
  },
  {
   "cell_type": "code",
   "execution_count": 28,
   "metadata": {},
   "outputs": [
    {
     "data": {
      "text/html": [
       "<div>\n",
       "<style scoped>\n",
       "    .dataframe tbody tr th:only-of-type {\n",
       "        vertical-align: middle;\n",
       "    }\n",
       "\n",
       "    .dataframe tbody tr th {\n",
       "        vertical-align: top;\n",
       "    }\n",
       "\n",
       "    .dataframe thead th {\n",
       "        text-align: right;\n",
       "    }\n",
       "</style>\n",
       "<table border=\"1\" class=\"dataframe\">\n",
       "  <thead>\n",
       "    <tr style=\"text-align: right;\">\n",
       "      <th></th>\n",
       "      <th>CreditScore</th>\n",
       "      <th>Age</th>\n",
       "      <th>Tenure</th>\n",
       "      <th>Balance</th>\n",
       "      <th>NumOfProducts</th>\n",
       "      <th>HasCrCard</th>\n",
       "      <th>IsActiveMember</th>\n",
       "      <th>EstimatedSalary</th>\n",
       "      <th>Geography_Germany</th>\n",
       "      <th>Geography_Spain</th>\n",
       "      <th>Gender_Male</th>\n",
       "    </tr>\n",
       "  </thead>\n",
       "  <tbody>\n",
       "    <tr>\n",
       "      <th>7479</th>\n",
       "      <td>567</td>\n",
       "      <td>35</td>\n",
       "      <td>8.0</td>\n",
       "      <td>153137.74</td>\n",
       "      <td>1</td>\n",
       "      <td>1</td>\n",
       "      <td>0</td>\n",
       "      <td>88659.07</td>\n",
       "      <td>0</td>\n",
       "      <td>1</td>\n",
       "      <td>1</td>\n",
       "    </tr>\n",
       "    <tr>\n",
       "      <th>3411</th>\n",
       "      <td>711</td>\n",
       "      <td>37</td>\n",
       "      <td>8.0</td>\n",
       "      <td>113899.92</td>\n",
       "      <td>1</td>\n",
       "      <td>0</td>\n",
       "      <td>0</td>\n",
       "      <td>80215.20</td>\n",
       "      <td>0</td>\n",
       "      <td>0</td>\n",
       "      <td>0</td>\n",
       "    </tr>\n",
       "    <tr>\n",
       "      <th>6027</th>\n",
       "      <td>850</td>\n",
       "      <td>44</td>\n",
       "      <td>3.0</td>\n",
       "      <td>140393.65</td>\n",
       "      <td>2</td>\n",
       "      <td>0</td>\n",
       "      <td>1</td>\n",
       "      <td>186285.52</td>\n",
       "      <td>1</td>\n",
       "      <td>0</td>\n",
       "      <td>1</td>\n",
       "    </tr>\n",
       "    <tr>\n",
       "      <th>1247</th>\n",
       "      <td>512</td>\n",
       "      <td>24</td>\n",
       "      <td>6.0</td>\n",
       "      <td>0.00</td>\n",
       "      <td>2</td>\n",
       "      <td>1</td>\n",
       "      <td>0</td>\n",
       "      <td>37654.31</td>\n",
       "      <td>0</td>\n",
       "      <td>0</td>\n",
       "      <td>1</td>\n",
       "    </tr>\n",
       "    <tr>\n",
       "      <th>3716</th>\n",
       "      <td>665</td>\n",
       "      <td>27</td>\n",
       "      <td>2.0</td>\n",
       "      <td>147435.96</td>\n",
       "      <td>1</td>\n",
       "      <td>0</td>\n",
       "      <td>0</td>\n",
       "      <td>187508.06</td>\n",
       "      <td>1</td>\n",
       "      <td>0</td>\n",
       "      <td>0</td>\n",
       "    </tr>\n",
       "  </tbody>\n",
       "</table>\n",
       "</div>"
      ],
      "text/plain": [
       "      CreditScore  Age  Tenure    Balance  NumOfProducts  HasCrCard  \\\n",
       "7479          567   35     8.0  153137.74              1          1   \n",
       "3411          711   37     8.0  113899.92              1          0   \n",
       "6027          850   44     3.0  140393.65              2          0   \n",
       "1247          512   24     6.0       0.00              2          1   \n",
       "3716          665   27     2.0  147435.96              1          0   \n",
       "\n",
       "      IsActiveMember  EstimatedSalary  Geography_Germany  Geography_Spain  \\\n",
       "7479               0         88659.07                  0                1   \n",
       "3411               0         80215.20                  0                0   \n",
       "6027               1        186285.52                  1                0   \n",
       "1247               0         37654.31                  0                0   \n",
       "3716               0        187508.06                  1                0   \n",
       "\n",
       "      Gender_Male  \n",
       "7479            1  \n",
       "3411            0  \n",
       "6027            1  \n",
       "1247            1  \n",
       "3716            0  "
      ]
     },
     "execution_count": 28,
     "metadata": {},
     "output_type": "execute_result"
    }
   ],
   "source": [
    "features_train.head()"
   ]
  },
  {
   "cell_type": "code",
   "execution_count": 29,
   "metadata": {},
   "outputs": [
    {
     "data": {
      "text/html": [
       "<div>\n",
       "<style scoped>\n",
       "    .dataframe tbody tr th:only-of-type {\n",
       "        vertical-align: middle;\n",
       "    }\n",
       "\n",
       "    .dataframe tbody tr th {\n",
       "        vertical-align: top;\n",
       "    }\n",
       "\n",
       "    .dataframe thead th {\n",
       "        text-align: right;\n",
       "    }\n",
       "</style>\n",
       "<table border=\"1\" class=\"dataframe\">\n",
       "  <thead>\n",
       "    <tr style=\"text-align: right;\">\n",
       "      <th></th>\n",
       "      <th>CreditScore</th>\n",
       "      <th>Age</th>\n",
       "      <th>Tenure</th>\n",
       "      <th>Balance</th>\n",
       "      <th>NumOfProducts</th>\n",
       "      <th>HasCrCard</th>\n",
       "      <th>IsActiveMember</th>\n",
       "      <th>EstimatedSalary</th>\n",
       "      <th>Geography_Germany</th>\n",
       "      <th>Geography_Spain</th>\n",
       "      <th>Gender_Male</th>\n",
       "    </tr>\n",
       "  </thead>\n",
       "  <tbody>\n",
       "    <tr>\n",
       "      <th>8532</th>\n",
       "      <td>585</td>\n",
       "      <td>35</td>\n",
       "      <td>2.0</td>\n",
       "      <td>0.00</td>\n",
       "      <td>2</td>\n",
       "      <td>1</td>\n",
       "      <td>0</td>\n",
       "      <td>98621.04</td>\n",
       "      <td>0</td>\n",
       "      <td>0</td>\n",
       "      <td>0</td>\n",
       "    </tr>\n",
       "    <tr>\n",
       "      <th>5799</th>\n",
       "      <td>625</td>\n",
       "      <td>45</td>\n",
       "      <td>3.0</td>\n",
       "      <td>0.00</td>\n",
       "      <td>1</td>\n",
       "      <td>1</td>\n",
       "      <td>1</td>\n",
       "      <td>184474.15</td>\n",
       "      <td>0</td>\n",
       "      <td>0</td>\n",
       "      <td>0</td>\n",
       "    </tr>\n",
       "    <tr>\n",
       "      <th>5511</th>\n",
       "      <td>667</td>\n",
       "      <td>32</td>\n",
       "      <td>0.0</td>\n",
       "      <td>103846.65</td>\n",
       "      <td>1</td>\n",
       "      <td>1</td>\n",
       "      <td>0</td>\n",
       "      <td>20560.69</td>\n",
       "      <td>1</td>\n",
       "      <td>0</td>\n",
       "      <td>1</td>\n",
       "    </tr>\n",
       "    <tr>\n",
       "      <th>7365</th>\n",
       "      <td>568</td>\n",
       "      <td>36</td>\n",
       "      <td>10.0</td>\n",
       "      <td>153610.61</td>\n",
       "      <td>1</td>\n",
       "      <td>1</td>\n",
       "      <td>1</td>\n",
       "      <td>54083.80</td>\n",
       "      <td>0</td>\n",
       "      <td>1</td>\n",
       "      <td>0</td>\n",
       "    </tr>\n",
       "    <tr>\n",
       "      <th>7367</th>\n",
       "      <td>606</td>\n",
       "      <td>42</td>\n",
       "      <td>10.0</td>\n",
       "      <td>0.00</td>\n",
       "      <td>2</td>\n",
       "      <td>1</td>\n",
       "      <td>0</td>\n",
       "      <td>177938.52</td>\n",
       "      <td>0</td>\n",
       "      <td>1</td>\n",
       "      <td>1</td>\n",
       "    </tr>\n",
       "  </tbody>\n",
       "</table>\n",
       "</div>"
      ],
      "text/plain": [
       "      CreditScore  Age  Tenure    Balance  NumOfProducts  HasCrCard  \\\n",
       "8532          585   35     2.0       0.00              2          1   \n",
       "5799          625   45     3.0       0.00              1          1   \n",
       "5511          667   32     0.0  103846.65              1          1   \n",
       "7365          568   36    10.0  153610.61              1          1   \n",
       "7367          606   42    10.0       0.00              2          1   \n",
       "\n",
       "      IsActiveMember  EstimatedSalary  Geography_Germany  Geography_Spain  \\\n",
       "8532               0         98621.04                  0                0   \n",
       "5799               1        184474.15                  0                0   \n",
       "5511               0         20560.69                  1                0   \n",
       "7365               1         54083.80                  0                1   \n",
       "7367               0        177938.52                  0                1   \n",
       "\n",
       "      Gender_Male  \n",
       "8532            0  \n",
       "5799            0  \n",
       "5511            1  \n",
       "7365            0  \n",
       "7367            1  "
      ]
     },
     "execution_count": 29,
     "metadata": {},
     "output_type": "execute_result"
    }
   ],
   "source": [
    "features_valid.head()"
   ]
  },
  {
   "cell_type": "code",
   "execution_count": 30,
   "metadata": {},
   "outputs": [
    {
     "data": {
      "text/html": [
       "<div>\n",
       "<style scoped>\n",
       "    .dataframe tbody tr th:only-of-type {\n",
       "        vertical-align: middle;\n",
       "    }\n",
       "\n",
       "    .dataframe tbody tr th {\n",
       "        vertical-align: top;\n",
       "    }\n",
       "\n",
       "    .dataframe thead th {\n",
       "        text-align: right;\n",
       "    }\n",
       "</style>\n",
       "<table border=\"1\" class=\"dataframe\">\n",
       "  <thead>\n",
       "    <tr style=\"text-align: right;\">\n",
       "      <th></th>\n",
       "      <th>CreditScore</th>\n",
       "      <th>Age</th>\n",
       "      <th>Tenure</th>\n",
       "      <th>Balance</th>\n",
       "      <th>NumOfProducts</th>\n",
       "      <th>HasCrCard</th>\n",
       "      <th>IsActiveMember</th>\n",
       "      <th>EstimatedSalary</th>\n",
       "      <th>Geography_Germany</th>\n",
       "      <th>Geography_Spain</th>\n",
       "      <th>Gender_Male</th>\n",
       "    </tr>\n",
       "  </thead>\n",
       "  <tbody>\n",
       "    <tr>\n",
       "      <th>7041</th>\n",
       "      <td>438</td>\n",
       "      <td>38</td>\n",
       "      <td>2.0</td>\n",
       "      <td>0.00</td>\n",
       "      <td>2</td>\n",
       "      <td>1</td>\n",
       "      <td>0</td>\n",
       "      <td>136859.55</td>\n",
       "      <td>0</td>\n",
       "      <td>0</td>\n",
       "      <td>1</td>\n",
       "    </tr>\n",
       "    <tr>\n",
       "      <th>5709</th>\n",
       "      <td>644</td>\n",
       "      <td>39</td>\n",
       "      <td>9.0</td>\n",
       "      <td>0.00</td>\n",
       "      <td>1</td>\n",
       "      <td>1</td>\n",
       "      <td>0</td>\n",
       "      <td>3740.93</td>\n",
       "      <td>0</td>\n",
       "      <td>0</td>\n",
       "      <td>0</td>\n",
       "    </tr>\n",
       "    <tr>\n",
       "      <th>7117</th>\n",
       "      <td>564</td>\n",
       "      <td>31</td>\n",
       "      <td>5.0</td>\n",
       "      <td>121461.87</td>\n",
       "      <td>1</td>\n",
       "      <td>1</td>\n",
       "      <td>1</td>\n",
       "      <td>20432.09</td>\n",
       "      <td>0</td>\n",
       "      <td>1</td>\n",
       "      <td>1</td>\n",
       "    </tr>\n",
       "    <tr>\n",
       "      <th>7775</th>\n",
       "      <td>628</td>\n",
       "      <td>40</td>\n",
       "      <td>10.0</td>\n",
       "      <td>0.00</td>\n",
       "      <td>2</td>\n",
       "      <td>1</td>\n",
       "      <td>0</td>\n",
       "      <td>103832.58</td>\n",
       "      <td>0</td>\n",
       "      <td>1</td>\n",
       "      <td>1</td>\n",
       "    </tr>\n",
       "    <tr>\n",
       "      <th>8735</th>\n",
       "      <td>728</td>\n",
       "      <td>30</td>\n",
       "      <td>10.0</td>\n",
       "      <td>114835.43</td>\n",
       "      <td>1</td>\n",
       "      <td>0</td>\n",
       "      <td>1</td>\n",
       "      <td>37662.49</td>\n",
       "      <td>0</td>\n",
       "      <td>0</td>\n",
       "      <td>1</td>\n",
       "    </tr>\n",
       "  </tbody>\n",
       "</table>\n",
       "</div>"
      ],
      "text/plain": [
       "      CreditScore  Age  Tenure    Balance  NumOfProducts  HasCrCard  \\\n",
       "7041          438   38     2.0       0.00              2          1   \n",
       "5709          644   39     9.0       0.00              1          1   \n",
       "7117          564   31     5.0  121461.87              1          1   \n",
       "7775          628   40    10.0       0.00              2          1   \n",
       "8735          728   30    10.0  114835.43              1          0   \n",
       "\n",
       "      IsActiveMember  EstimatedSalary  Geography_Germany  Geography_Spain  \\\n",
       "7041               0        136859.55                  0                0   \n",
       "5709               0          3740.93                  0                0   \n",
       "7117               1         20432.09                  0                1   \n",
       "7775               0        103832.58                  0                1   \n",
       "8735               1         37662.49                  0                0   \n",
       "\n",
       "      Gender_Male  \n",
       "7041            1  \n",
       "5709            0  \n",
       "7117            1  \n",
       "7775            1  \n",
       "8735            1  "
      ]
     },
     "execution_count": 30,
     "metadata": {},
     "output_type": "execute_result"
    }
   ],
   "source": [
    "features_test.head()"
   ]
  },
  {
   "cell_type": "code",
   "execution_count": 31,
   "metadata": {},
   "outputs": [],
   "source": [
    "features_train[numeric] = scaler.transform(features_train[numeric])\n",
    "features_valid[numeric] = scaler.transform(features_valid[numeric])\n",
    "features_test[numeric] = scaler.transform(features_test[numeric])"
   ]
  },
  {
   "cell_type": "code",
   "execution_count": 32,
   "metadata": {},
   "outputs": [
    {
     "data": {
      "text/html": [
       "<div>\n",
       "<style scoped>\n",
       "    .dataframe tbody tr th:only-of-type {\n",
       "        vertical-align: middle;\n",
       "    }\n",
       "\n",
       "    .dataframe tbody tr th {\n",
       "        vertical-align: top;\n",
       "    }\n",
       "\n",
       "    .dataframe thead th {\n",
       "        text-align: right;\n",
       "    }\n",
       "</style>\n",
       "<table border=\"1\" class=\"dataframe\">\n",
       "  <thead>\n",
       "    <tr style=\"text-align: right;\">\n",
       "      <th></th>\n",
       "      <th>CreditScore</th>\n",
       "      <th>Age</th>\n",
       "      <th>Tenure</th>\n",
       "      <th>Balance</th>\n",
       "      <th>NumOfProducts</th>\n",
       "      <th>HasCrCard</th>\n",
       "      <th>IsActiveMember</th>\n",
       "      <th>EstimatedSalary</th>\n",
       "      <th>Geography_Germany</th>\n",
       "      <th>Geography_Spain</th>\n",
       "      <th>Gender_Male</th>\n",
       "    </tr>\n",
       "  </thead>\n",
       "  <tbody>\n",
       "    <tr>\n",
       "      <th>7479</th>\n",
       "      <td>-0.886751</td>\n",
       "      <td>-0.373192</td>\n",
       "      <td>1.104696</td>\n",
       "      <td>1.232271</td>\n",
       "      <td>-0.891560</td>\n",
       "      <td>1</td>\n",
       "      <td>0</td>\n",
       "      <td>-0.187705</td>\n",
       "      <td>0</td>\n",
       "      <td>1</td>\n",
       "      <td>1</td>\n",
       "    </tr>\n",
       "    <tr>\n",
       "      <th>3411</th>\n",
       "      <td>0.608663</td>\n",
       "      <td>-0.183385</td>\n",
       "      <td>1.104696</td>\n",
       "      <td>0.600563</td>\n",
       "      <td>-0.891560</td>\n",
       "      <td>0</td>\n",
       "      <td>0</td>\n",
       "      <td>-0.333945</td>\n",
       "      <td>0</td>\n",
       "      <td>0</td>\n",
       "      <td>0</td>\n",
       "    </tr>\n",
       "    <tr>\n",
       "      <th>6027</th>\n",
       "      <td>2.052152</td>\n",
       "      <td>0.480939</td>\n",
       "      <td>-0.503694</td>\n",
       "      <td>1.027098</td>\n",
       "      <td>0.830152</td>\n",
       "      <td>0</td>\n",
       "      <td>1</td>\n",
       "      <td>1.503095</td>\n",
       "      <td>1</td>\n",
       "      <td>0</td>\n",
       "      <td>1</td>\n",
       "    </tr>\n",
       "    <tr>\n",
       "      <th>1247</th>\n",
       "      <td>-1.457915</td>\n",
       "      <td>-1.417129</td>\n",
       "      <td>0.461340</td>\n",
       "      <td>-1.233163</td>\n",
       "      <td>0.830152</td>\n",
       "      <td>1</td>\n",
       "      <td>0</td>\n",
       "      <td>-1.071061</td>\n",
       "      <td>0</td>\n",
       "      <td>0</td>\n",
       "      <td>1</td>\n",
       "    </tr>\n",
       "    <tr>\n",
       "      <th>3716</th>\n",
       "      <td>0.130961</td>\n",
       "      <td>-1.132419</td>\n",
       "      <td>-0.825373</td>\n",
       "      <td>1.140475</td>\n",
       "      <td>-0.891560</td>\n",
       "      <td>0</td>\n",
       "      <td>0</td>\n",
       "      <td>1.524268</td>\n",
       "      <td>1</td>\n",
       "      <td>0</td>\n",
       "      <td>0</td>\n",
       "    </tr>\n",
       "  </tbody>\n",
       "</table>\n",
       "</div>"
      ],
      "text/plain": [
       "      CreditScore       Age    Tenure   Balance  NumOfProducts  HasCrCard  \\\n",
       "7479    -0.886751 -0.373192  1.104696  1.232271      -0.891560          1   \n",
       "3411     0.608663 -0.183385  1.104696  0.600563      -0.891560          0   \n",
       "6027     2.052152  0.480939 -0.503694  1.027098       0.830152          0   \n",
       "1247    -1.457915 -1.417129  0.461340 -1.233163       0.830152          1   \n",
       "3716     0.130961 -1.132419 -0.825373  1.140475      -0.891560          0   \n",
       "\n",
       "      IsActiveMember  EstimatedSalary  Geography_Germany  Geography_Spain  \\\n",
       "7479               0        -0.187705                  0                1   \n",
       "3411               0        -0.333945                  0                0   \n",
       "6027               1         1.503095                  1                0   \n",
       "1247               0        -1.071061                  0                0   \n",
       "3716               0         1.524268                  1                0   \n",
       "\n",
       "      Gender_Male  \n",
       "7479            1  \n",
       "3411            0  \n",
       "6027            1  \n",
       "1247            1  \n",
       "3716            0  "
      ]
     },
     "execution_count": 32,
     "metadata": {},
     "output_type": "execute_result"
    }
   ],
   "source": [
    "features_train.head()"
   ]
  },
  {
   "cell_type": "code",
   "execution_count": 33,
   "metadata": {},
   "outputs": [
    {
     "data": {
      "text/html": [
       "<div>\n",
       "<style scoped>\n",
       "    .dataframe tbody tr th:only-of-type {\n",
       "        vertical-align: middle;\n",
       "    }\n",
       "\n",
       "    .dataframe tbody tr th {\n",
       "        vertical-align: top;\n",
       "    }\n",
       "\n",
       "    .dataframe thead th {\n",
       "        text-align: right;\n",
       "    }\n",
       "</style>\n",
       "<table border=\"1\" class=\"dataframe\">\n",
       "  <thead>\n",
       "    <tr style=\"text-align: right;\">\n",
       "      <th></th>\n",
       "      <th>CreditScore</th>\n",
       "      <th>Age</th>\n",
       "      <th>Tenure</th>\n",
       "      <th>Balance</th>\n",
       "      <th>NumOfProducts</th>\n",
       "      <th>HasCrCard</th>\n",
       "      <th>IsActiveMember</th>\n",
       "      <th>EstimatedSalary</th>\n",
       "      <th>Geography_Germany</th>\n",
       "      <th>Geography_Spain</th>\n",
       "      <th>Gender_Male</th>\n",
       "    </tr>\n",
       "  </thead>\n",
       "  <tbody>\n",
       "    <tr>\n",
       "      <th>8532</th>\n",
       "      <td>-0.699824</td>\n",
       "      <td>-0.373192</td>\n",
       "      <td>-0.825373</td>\n",
       "      <td>-1.233163</td>\n",
       "      <td>0.830152</td>\n",
       "      <td>1</td>\n",
       "      <td>0</td>\n",
       "      <td>-0.015173</td>\n",
       "      <td>0</td>\n",
       "      <td>0</td>\n",
       "      <td>0</td>\n",
       "    </tr>\n",
       "    <tr>\n",
       "      <th>5799</th>\n",
       "      <td>-0.284431</td>\n",
       "      <td>0.575842</td>\n",
       "      <td>-0.503694</td>\n",
       "      <td>-1.233163</td>\n",
       "      <td>-0.891560</td>\n",
       "      <td>1</td>\n",
       "      <td>1</td>\n",
       "      <td>1.471724</td>\n",
       "      <td>0</td>\n",
       "      <td>0</td>\n",
       "      <td>0</td>\n",
       "    </tr>\n",
       "    <tr>\n",
       "      <th>5511</th>\n",
       "      <td>0.151731</td>\n",
       "      <td>-0.657902</td>\n",
       "      <td>-1.468729</td>\n",
       "      <td>0.438711</td>\n",
       "      <td>-0.891560</td>\n",
       "      <td>1</td>\n",
       "      <td>0</td>\n",
       "      <td>-1.367107</td>\n",
       "      <td>1</td>\n",
       "      <td>0</td>\n",
       "      <td>1</td>\n",
       "    </tr>\n",
       "    <tr>\n",
       "      <th>7365</th>\n",
       "      <td>-0.876366</td>\n",
       "      <td>-0.278288</td>\n",
       "      <td>1.748053</td>\n",
       "      <td>1.239884</td>\n",
       "      <td>-0.891560</td>\n",
       "      <td>1</td>\n",
       "      <td>1</td>\n",
       "      <td>-0.786517</td>\n",
       "      <td>0</td>\n",
       "      <td>1</td>\n",
       "      <td>0</td>\n",
       "    </tr>\n",
       "    <tr>\n",
       "      <th>7367</th>\n",
       "      <td>-0.481743</td>\n",
       "      <td>0.291132</td>\n",
       "      <td>1.748053</td>\n",
       "      <td>-1.233163</td>\n",
       "      <td>0.830152</td>\n",
       "      <td>1</td>\n",
       "      <td>0</td>\n",
       "      <td>1.358533</td>\n",
       "      <td>0</td>\n",
       "      <td>1</td>\n",
       "      <td>1</td>\n",
       "    </tr>\n",
       "  </tbody>\n",
       "</table>\n",
       "</div>"
      ],
      "text/plain": [
       "      CreditScore       Age    Tenure   Balance  NumOfProducts  HasCrCard  \\\n",
       "8532    -0.699824 -0.373192 -0.825373 -1.233163       0.830152          1   \n",
       "5799    -0.284431  0.575842 -0.503694 -1.233163      -0.891560          1   \n",
       "5511     0.151731 -0.657902 -1.468729  0.438711      -0.891560          1   \n",
       "7365    -0.876366 -0.278288  1.748053  1.239884      -0.891560          1   \n",
       "7367    -0.481743  0.291132  1.748053 -1.233163       0.830152          1   \n",
       "\n",
       "      IsActiveMember  EstimatedSalary  Geography_Germany  Geography_Spain  \\\n",
       "8532               0        -0.015173                  0                0   \n",
       "5799               1         1.471724                  0                0   \n",
       "5511               0        -1.367107                  1                0   \n",
       "7365               1        -0.786517                  0                1   \n",
       "7367               0         1.358533                  0                1   \n",
       "\n",
       "      Gender_Male  \n",
       "8532            0  \n",
       "5799            0  \n",
       "5511            1  \n",
       "7365            0  \n",
       "7367            1  "
      ]
     },
     "execution_count": 33,
     "metadata": {},
     "output_type": "execute_result"
    }
   ],
   "source": [
    "features_valid.head()"
   ]
  },
  {
   "cell_type": "code",
   "execution_count": 34,
   "metadata": {},
   "outputs": [
    {
     "data": {
      "text/html": [
       "<div>\n",
       "<style scoped>\n",
       "    .dataframe tbody tr th:only-of-type {\n",
       "        vertical-align: middle;\n",
       "    }\n",
       "\n",
       "    .dataframe tbody tr th {\n",
       "        vertical-align: top;\n",
       "    }\n",
       "\n",
       "    .dataframe thead th {\n",
       "        text-align: right;\n",
       "    }\n",
       "</style>\n",
       "<table border=\"1\" class=\"dataframe\">\n",
       "  <thead>\n",
       "    <tr style=\"text-align: right;\">\n",
       "      <th></th>\n",
       "      <th>CreditScore</th>\n",
       "      <th>Age</th>\n",
       "      <th>Tenure</th>\n",
       "      <th>Balance</th>\n",
       "      <th>NumOfProducts</th>\n",
       "      <th>HasCrCard</th>\n",
       "      <th>IsActiveMember</th>\n",
       "      <th>EstimatedSalary</th>\n",
       "      <th>Geography_Germany</th>\n",
       "      <th>Geography_Spain</th>\n",
       "      <th>Gender_Male</th>\n",
       "    </tr>\n",
       "  </thead>\n",
       "  <tbody>\n",
       "    <tr>\n",
       "      <th>7041</th>\n",
       "      <td>-2.226392</td>\n",
       "      <td>-0.088482</td>\n",
       "      <td>-0.825373</td>\n",
       "      <td>-1.233163</td>\n",
       "      <td>0.830152</td>\n",
       "      <td>1</td>\n",
       "      <td>0</td>\n",
       "      <td>0.647083</td>\n",
       "      <td>0</td>\n",
       "      <td>0</td>\n",
       "      <td>1</td>\n",
       "    </tr>\n",
       "    <tr>\n",
       "      <th>5709</th>\n",
       "      <td>-0.087120</td>\n",
       "      <td>0.006422</td>\n",
       "      <td>1.426375</td>\n",
       "      <td>-1.233163</td>\n",
       "      <td>-0.891560</td>\n",
       "      <td>1</td>\n",
       "      <td>0</td>\n",
       "      <td>-1.658410</td>\n",
       "      <td>0</td>\n",
       "      <td>0</td>\n",
       "      <td>0</td>\n",
       "    </tr>\n",
       "    <tr>\n",
       "      <th>7117</th>\n",
       "      <td>-0.917905</td>\n",
       "      <td>-0.752805</td>\n",
       "      <td>0.139662</td>\n",
       "      <td>0.722307</td>\n",
       "      <td>-0.891560</td>\n",
       "      <td>1</td>\n",
       "      <td>1</td>\n",
       "      <td>-1.369334</td>\n",
       "      <td>0</td>\n",
       "      <td>1</td>\n",
       "      <td>1</td>\n",
       "    </tr>\n",
       "    <tr>\n",
       "      <th>7775</th>\n",
       "      <td>-0.253277</td>\n",
       "      <td>0.101325</td>\n",
       "      <td>1.748053</td>\n",
       "      <td>-1.233163</td>\n",
       "      <td>0.830152</td>\n",
       "      <td>1</td>\n",
       "      <td>0</td>\n",
       "      <td>0.075086</td>\n",
       "      <td>0</td>\n",
       "      <td>1</td>\n",
       "      <td>1</td>\n",
       "    </tr>\n",
       "    <tr>\n",
       "      <th>8735</th>\n",
       "      <td>0.785204</td>\n",
       "      <td>-0.847708</td>\n",
       "      <td>1.748053</td>\n",
       "      <td>0.615625</td>\n",
       "      <td>-0.891560</td>\n",
       "      <td>0</td>\n",
       "      <td>1</td>\n",
       "      <td>-1.070919</td>\n",
       "      <td>0</td>\n",
       "      <td>0</td>\n",
       "      <td>1</td>\n",
       "    </tr>\n",
       "  </tbody>\n",
       "</table>\n",
       "</div>"
      ],
      "text/plain": [
       "      CreditScore       Age    Tenure   Balance  NumOfProducts  HasCrCard  \\\n",
       "7041    -2.226392 -0.088482 -0.825373 -1.233163       0.830152          1   \n",
       "5709    -0.087120  0.006422  1.426375 -1.233163      -0.891560          1   \n",
       "7117    -0.917905 -0.752805  0.139662  0.722307      -0.891560          1   \n",
       "7775    -0.253277  0.101325  1.748053 -1.233163       0.830152          1   \n",
       "8735     0.785204 -0.847708  1.748053  0.615625      -0.891560          0   \n",
       "\n",
       "      IsActiveMember  EstimatedSalary  Geography_Germany  Geography_Spain  \\\n",
       "7041               0         0.647083                  0                0   \n",
       "5709               0        -1.658410                  0                0   \n",
       "7117               1        -1.369334                  0                1   \n",
       "7775               0         0.075086                  0                1   \n",
       "8735               1        -1.070919                  0                0   \n",
       "\n",
       "      Gender_Male  \n",
       "7041            1  \n",
       "5709            0  \n",
       "7117            1  \n",
       "7775            1  \n",
       "8735            1  "
      ]
     },
     "execution_count": 34,
     "metadata": {},
     "output_type": "execute_result"
    }
   ],
   "source": [
    "features_test.head()"
   ]
  },
  {
   "cell_type": "markdown",
   "metadata": {},
   "source": [
    "### Подбор гиперпараметров"
   ]
  },
  {
   "cell_type": "markdown",
   "metadata": {},
   "source": [
    "Сначала подберём самое лучшее количество деревьев в случайном лесу - гиперпараметр `n_estimator`."
   ]
  },
  {
   "cell_type": "markdown",
   "metadata": {},
   "source": [
    "Теперь ищем лучшую максимальную глубину деревьев - гиперпараметр `max_depth`."
   ]
  },
  {
   "cell_type": "code",
   "execution_count": 35,
   "metadata": {},
   "outputs": [
    {
     "name": "stdout",
     "output_type": "stream",
     "text": [
      "Лучшая F1-мера равна 0.6 при максимальной глубине равной 17 и количеству деревьев равному 25\n"
     ]
    }
   ],
   "source": [
    "best_f1_score = 0\n",
    "best_depth = 0\n",
    "best_estimator = 0\n",
    "\n",
    "for estimator in range(20, 151, 5):\n",
    "    for depth in range(1, 20):\n",
    "        model =  RandomForestClassifier(random_state = 12345, n_estimators = estimator, max_depth = depth)\n",
    "        model.fit(features_train, target_train)\n",
    "        predicted_valid = model.predict(features_valid)\n",
    "        if f1_score(target_valid, predicted_valid) > best_f1_score:\n",
    "            best_f1_score = f1_score(target_valid, predicted_valid)\n",
    "            best_depth = depth\n",
    "            best_estimator = estimator\n",
    "print('Лучшая F1-мера равна', best_f1_score, 'при максимальной глубине равной', best_depth, 'и количеству деревьев равному', best_estimator)"
   ]
  },
  {
   "cell_type": "markdown",
   "metadata": {},
   "source": [
    "Теперь подберём гиперпараметр `max_depth` для дерева решений."
   ]
  },
  {
   "cell_type": "code",
   "execution_count": 36,
   "metadata": {},
   "outputs": [
    {
     "name": "stdout",
     "output_type": "stream",
     "text": [
      "Лучшая F1-мера равна 0.5786516853932585 при максимальной глубине равной 9\n"
     ]
    }
   ],
   "source": [
    "best_f1_score = 0\n",
    "best_depth = 0\n",
    "\n",
    "for depth in range(1, 20):\n",
    "    model = DecisionTreeClassifier(random_state = 12345, max_depth = depth)\n",
    "    model.fit(features_train, target_train)\n",
    "    predicted_valid = model.predict(features_valid)\n",
    "    if f1_score(target_valid, predicted_valid) > best_f1_score:\n",
    "        best_f1_score = f1_score(target_valid, predicted_valid)\n",
    "        best_depth = depth\n",
    "print('Лучшая F1-мера равна', best_f1_score, 'при максимальной глубине равной', best_depth)"
   ]
  },
  {
   "cell_type": "code",
   "execution_count": 37,
   "metadata": {},
   "outputs": [
    {
     "name": "stdout",
     "output_type": "stream",
     "text": [
      "Точность: \n",
      "Дерево решений - 0.85\n",
      "Случайный лес - 0.8585\n",
      "Логистическая регрессия - 0.8025\n"
     ]
    }
   ],
   "source": [
    "model_dt = DecisionTreeClassifier(random_state = 12345, max_depth = 9)\n",
    "model_dt.fit(features_train, target_train)\n",
    "dt_accuracy = model_dt.score(features_valid, target_valid)\n",
    "\n",
    "model_rf = RandomForestClassifier(random_state = 12345, n_estimators = 70, max_depth = 19)\n",
    "model_rf.fit(features_train, target_train)\n",
    "rf_accuracy = model_rf.score(features_valid, target_valid)\n",
    "\n",
    "model_lr = LogisticRegression(random_state = 12345, solver = 'liblinear')\n",
    "model_lr.fit(features_train, target_train)\n",
    "lr_accuracy = model_lr.score(features_valid, target_valid)\n",
    "\n",
    "print(\"Точность: \")\n",
    "print(\"Дерево решений -\" , dt_accuracy) \n",
    "print(\"Случайный лес -\", rf_accuracy)\n",
    "print(\"Логистическая регрессия -\", lr_accuracy)"
   ]
  },
  {
   "cell_type": "markdown",
   "metadata": {},
   "source": [
    "### Исследование баланса классов"
   ]
  },
  {
   "cell_type": "code",
   "execution_count": 38,
   "metadata": {
    "scrolled": true
   },
   "outputs": [
    {
     "data": {
      "image/png": "[encoded data removed]",
      "text/plain": [
       "<Figure size 360x360 with 1 Axes>"
      ]
     },
     "metadata": {
      "needs_background": "light"
     },
     "output_type": "display_data"
    }
   ],
   "source": [
    "target_train.value_counts(normalize = 1)\n",
    "target_train.plot(kind ='hist', bins=2, figsize=(5, 5)); # Строим диаграмму баланса классов"
   ]
  },
  {
   "cell_type": "code",
   "execution_count": 39,
   "metadata": {},
   "outputs": [
    {
     "data": {
      "text/plain": [
       "0    0.7963\n",
       "1    0.2037\n",
       "Name: Exited, dtype: float64"
      ]
     },
     "execution_count": 39,
     "metadata": {},
     "output_type": "execute_result"
    }
   ],
   "source": [
    "data['Exited'].value_counts(normalize=True)"
   ]
  },
  {
   "cell_type": "markdown",
   "metadata": {},
   "source": [
    "Имеем разделение классов ~79% к 21%, можно сделать вывод об их дисбалансе."
   ]
  },
  {
   "cell_type": "markdown",
   "metadata": {},
   "source": [
    "Проверим баланс классов отдельно для разных моделей при помощи предсказаний."
   ]
  },
  {
   "cell_type": "code",
   "execution_count": 40,
   "metadata": {},
   "outputs": [],
   "source": [
    "dt_predicted = pd.Series(model_dt.predict(features_valid))\n",
    "dt_balance = dt_predicted.value_counts(normalize = 1)\n",
    "rf_predicted = pd.Series(model_rf.predict(features_valid))\n",
    "rf_balance = rf_predicted.value_counts(normalize = 1)\n",
    "lr_predicted = pd.Series(model_lr.predict(features_valid))\n",
    "lr_balance = lr_predicted.value_counts(normalize = 1)"
   ]
  },
  {
   "cell_type": "code",
   "execution_count": 41,
   "metadata": {},
   "outputs": [
    {
     "name": "stdout",
     "output_type": "stream",
     "text": [
      "Баланс классов\n",
      "Дерево решений: \n",
      "0    0.853\n",
      "1    0.147\n",
      "dtype: float64\n",
      "Случайный лес: \n",
      "0    0.8715\n",
      "1    0.1285\n",
      "dtype: float64\n",
      "Логистическая регрессия: \n",
      "0    0.9125\n",
      "1    0.0875\n",
      "dtype: float64\n"
     ]
    }
   ],
   "source": [
    "print('Баланс классов')\n",
    "print(\"Дерево решений: \") \n",
    "print(dt_balance) \n",
    "print(\"Случайный лес: \")\n",
    "print(rf_balance) \n",
    "print(\"Логистическая регрессия: \")\n",
    "print(lr_balance) "
   ]
  },
  {
   "cell_type": "markdown",
   "metadata": {},
   "source": [
    "Для каждой из трёх моделей построим матрицу ошибок, вычислим полноту, точность, F1-меру"
   ]
  },
  {
   "cell_type": "markdown",
   "metadata": {},
   "source": [
    "**Дерево решений**"
   ]
  },
  {
   "cell_type": "code",
   "execution_count": 42,
   "metadata": {},
   "outputs": [
    {
     "name": "stdout",
     "output_type": "stream",
     "text": [
      "[[1494   88]\n",
      " [ 212  206]]\n",
      "Полнота - 0.49282296650717705\n",
      "Точность - 0.7006802721088435\n",
      "F1-мера - 0.5786516853932585\n"
     ]
    }
   ],
   "source": [
    "print(confusion_matrix(target_valid, dt_predicted))\n",
    "print(\"Полнота -\" , recall_score(target_valid, dt_predicted))\n",
    "print(\"Точность -\", precision_score(target_valid, dt_predicted))\n",
    "print(\"F1-мера -\", f1_score(target_valid, dt_predicted))"
   ]
  },
  {
   "cell_type": "markdown",
   "metadata": {},
   "source": [
    "**Случайный лес**"
   ]
  },
  {
   "cell_type": "code",
   "execution_count": 43,
   "metadata": {},
   "outputs": [
    {
     "name": "stdout",
     "output_type": "stream",
     "text": [
      "[[1521   61]\n",
      " [ 222  196]]\n",
      "Полнота - 0.4688995215311005\n",
      "Точность - 0.7626459143968871\n",
      "F1-мера - 0.5807407407407408\n"
     ]
    }
   ],
   "source": [
    "print(confusion_matrix(target_valid, rf_predicted))\n",
    "print(\"Полнота -\" , recall_score(target_valid, rf_predicted))\n",
    "print(\"Точность -\", precision_score(target_valid, rf_predicted))\n",
    "print(\"F1-мера -\", f1_score(target_valid, rf_predicted))"
   ]
  },
  {
   "cell_type": "markdown",
   "metadata": {},
   "source": [
    "**Логистическая регрессия**"
   ]
  },
  {
   "cell_type": "code",
   "execution_count": 44,
   "metadata": {},
   "outputs": [
    {
     "name": "stdout",
     "output_type": "stream",
     "text": [
      "[[1506   76]\n",
      " [ 319   99]]\n",
      "Полнота - 0.23684210526315788\n",
      "Точность - 0.5657142857142857\n",
      "F1-мера - 0.33389544688026984\n"
     ]
    }
   ],
   "source": [
    "print(confusion_matrix(target_valid, lr_predicted))\n",
    "print(\"Полнота -\" , recall_score(target_valid, lr_predicted))\n",
    "print(\"Точность -\", precision_score(target_valid, lr_predicted))\n",
    "print(\"F1-мера -\", f1_score(target_valid, lr_predicted))"
   ]
  },
  {
   "cell_type": "markdown",
   "metadata": {},
   "source": [
    "Если сравнивать F1-меры, то лучший результат показывает модель случайного леса. Сравним AUC-ROC у этих трёх моделей. "
   ]
  },
  {
   "cell_type": "code",
   "execution_count": 45,
   "metadata": {
    "scrolled": true
   },
   "outputs": [
    {
     "name": "stdout",
     "output_type": "stream",
     "text": [
      "AUC-ROC для дерева решений равен 0.7899719632952051\n",
      "AUC-ROC для случайного леса равен 0.8410119224045632\n",
      "AUC-ROC для дерева решений равен 0.7586317967081824\n"
     ]
    },
    {
     "data": {
      "image/png": "[encoded data removed]",
      "text/plain": [
       "<Figure size 432x288 with 1 Axes>"
      ]
     },
     "metadata": {
      "needs_background": "light"
     },
     "output_type": "display_data"
    }
   ],
   "source": [
    "dt_probabilities_one_valid = model_dt.predict_proba(features_valid)[:, 1]\n",
    "\n",
    "fpr, tpr, thresholds = roc_curve(target_valid, dt_probabilities_one_valid)\n",
    "auc_roc_dt = roc_auc_score(target_valid, dt_probabilities_one_valid)\n",
    "\n",
    "print('AUC-ROC для дерева решений равен', auc_roc_dt)\n",
    "plt.plot(fpr, tpr, label = 'Дерево решений');\n",
    "\n",
    "rf_probabilities_one_valid = model_rf.predict_proba(features_valid)[:, 1]\n",
    "\n",
    "fpr, tpr, thresholds = roc_curve(target_valid, rf_probabilities_one_valid)\n",
    "auc_roc_rf = roc_auc_score(target_valid, rf_probabilities_one_valid)\n",
    "\n",
    "print('AUC-ROC для случайного леса равен', auc_roc_rf)\n",
    "plt.plot(fpr, tpr, label = 'Случайный лес');\n",
    "\n",
    "lr_probabilities_one_valid = model_lr.predict_proba(features_valid)[:, 1]\n",
    "\n",
    "fpr, tpr, thresholds = roc_curve(target_valid, lr_probabilities_one_valid)\n",
    "auc_roc_lr = roc_auc_score(target_valid, lr_probabilities_one_valid)\n",
    "\n",
    "print('AUC-ROC для линейной регрессии равен', auc_roc_lr)\n",
    "plt.plot(fpr, tpr, label = 'Линейная регрессия');\n",
    "\n",
    "plt.plot([0, 1], [0, 1], linestyle = '--', label = 'Случайная модель')\n",
    "\n",
    "plt.legend();"
   ]
  },
  {
   "cell_type": "markdown",
   "metadata": {},
   "source": [
    "Показатель AUC-ROC, как и F1-мера, самый большой для модели случайного леса. "
   ]
  },
  {
   "cell_type": "markdown",
   "metadata": {},
   "source": [
    "**Вывод**\n",
    "\n",
    "Был выявлен дисбаланс классов в соотношении 4:1 (неправильные ответы:правильные ответы).\n",
    " Были выявлены показатели AUC-ROC и F1-меры."
   ]
  },
  {
   "cell_type": "markdown",
   "metadata": {},
   "source": [
    "## Борьба с дисбалансом"
   ]
  },
  {
   "cell_type": "markdown",
   "metadata": {},
   "source": [
    "Существует три способа борьбы с дисбалансом: \n",
    "* использовать взвешенные классы\n",
    "* использовать уменьшенную выборку\n",
    "* использовать увеличенную выборку"
   ]
  },
  {
   "cell_type": "markdown",
   "metadata": {},
   "source": [
    "### Использование взвешенных классов"
   ]
  },
  {
   "cell_type": "markdown",
   "metadata": {},
   "source": [
    "Чтобы использовать взвешенные классы, достаточно просто добавить параметр `class_weight` при инициализации модели."
   ]
  },
  {
   "cell_type": "markdown",
   "metadata": {},
   "source": [
    "Для начала подберём гиперпараметры подобно прошлому разу."
   ]
  },
  {
   "cell_type": "code",
   "execution_count": 46,
   "metadata": {},
   "outputs": [
    {
     "name": "stdout",
     "output_type": "stream",
     "text": [
      "Лучшая F1-мера равна 0.6336633663366337 при максимальной глубине равной 8 и количеству деревьев равному 150\n"
     ]
    }
   ],
   "source": [
    "best_f1_score = 0\n",
    "best_depth = 0\n",
    "best_estimator = 0\n",
    "\n",
    "for estimator in range(20, 151, 5):\n",
    "    for depth in range(1, 20):\n",
    "        model =  RandomForestClassifier(random_state = 12345, n_estimators = estimator, max_depth = depth, class_weight = 'balanced')\n",
    "        model.fit(features_train, target_train)\n",
    "        predicted_valid = model.predict(features_valid)\n",
    "        if f1_score(target_valid, predicted_valid) > best_f1_score:\n",
    "            best_f1_score = f1_score(target_valid, predicted_valid)\n",
    "            best_depth = depth\n",
    "            best_estimator = estimator\n",
    "print('Лучшая F1-мера равна', best_f1_score, 'при максимальной глубине равной', best_depth, 'и количеству деревьев равному', best_estimator)"
   ]
  },
  {
   "cell_type": "code",
   "execution_count": 47,
   "metadata": {},
   "outputs": [
    {
     "name": "stdout",
     "output_type": "stream",
     "text": [
      "Лучшая F1-мера для дерева решений равна 0.5963791267305644 при максимальной глубине равной 5\n"
     ]
    }
   ],
   "source": [
    "best_f1_score = 0\n",
    "best_depth = 0\n",
    "\n",
    "for depth in range(1, 20):\n",
    "    model = DecisionTreeClassifier(random_state = 12345, max_depth = depth, class_weight = 'balanced')\n",
    "    model.fit(features_train, target_train)\n",
    "    predicted_valid = model.predict(features_valid)\n",
    "    if f1_score(target_valid, predicted_valid) > best_f1_score:\n",
    "        best_f1_score = f1_score(target_valid, predicted_valid)\n",
    "        best_depth = depth\n",
    "print('Лучшая F1-мера для дерева решений равна', best_f1_score, 'при максимальной глубине равной', best_depth)"
   ]
  },
  {
   "cell_type": "code",
   "execution_count": 48,
   "metadata": {},
   "outputs": [
    {
     "name": "stdout",
     "output_type": "stream",
     "text": [
      "Дерево решений\n",
      "F1-мера - 0.5963791267305644\n",
      "AUC-ROC для дерева решений равен 0.8310244134068074\n",
      "Случайный лес\n",
      "F1-мера - 0.6336633663366337\n",
      "AUC-ROC для случайного леса равен 0.857832433053672\n",
      "Логистическая регрессия\n",
      "F1-мера - 0.4888888888888888\n",
      "AUC-ROC для логистической регрессии равен 0.7635798063138539\n"
     ]
    }
   ],
   "source": [
    "model_dt = DecisionTreeClassifier(random_state = 12345, max_depth = 5, class_weight='balanced')\n",
    "model_dt.fit(features_train, target_train)\n",
    "dt_predicted = pd.Series(model_dt.predict(features_valid))\n",
    "print('Дерево решений')\n",
    "print('F1-мера -', f1_score(target_valid, dt_predicted))\n",
    "\n",
    "dt_probabilities_one_valid = model_dt.predict_proba(features_valid)[:, 1]\n",
    "auc_roc_dt = roc_auc_score(target_valid, dt_probabilities_one_valid)\n",
    "print('AUC-ROC для дерева решений равен', auc_roc_dt)\n",
    "\n",
    "\n",
    "model_rf = RandomForestClassifier(random_state = 12345, n_estimators = 150, max_depth = 8, class_weight='balanced')\n",
    "model_rf.fit(features_train, target_train)\n",
    "rf_predicted = pd.Series(model_rf.predict(features_valid))\n",
    "print('Случайный лес')\n",
    "print('F1-мера -', f1_score(target_valid, rf_predicted))\n",
    "\n",
    "rf_probabilities_one_valid = model_rf.predict_proba(features_valid)[:, 1]\n",
    "auc_roc_rf = roc_auc_score(target_valid, rf_probabilities_one_valid)\n",
    "print('AUC-ROC для случайного леса равен', auc_roc_rf)\n",
    "\n",
    "\n",
    "model_lr = LogisticRegression(random_state = 12345, solver = 'liblinear', class_weight='balanced')\n",
    "model_lr.fit(features_train, target_train)\n",
    "lr_predicted = pd.Series(model_lr.predict(features_valid))\n",
    "print('Логистическая регрессия')\n",
    "print('F1-мера -', f1_score(target_valid, lr_predicted))\n",
    "\n",
    "lr_probabilities_one_valid = model_lr.predict_proba(features_valid)[:, 1]\n",
    "auc_roc_lr = roc_auc_score(target_valid, lr_probabilities_one_valid)\n",
    "print('AUC-ROC для логистической регрессии равен', auc_roc_lr)"
   ]
  },
  {
   "cell_type": "markdown",
   "metadata": {},
   "source": [
    "Со взмешенными классами F1-мера и AUC-ROC слегка уменьшились у случайного леса и сильно увеличились у дерева решений и логистической регрессии."
   ]
  },
  {
   "cell_type": "markdown",
   "metadata": {},
   "source": [
    "### Использование уменьшенной выборки"
   ]
  },
  {
   "cell_type": "markdown",
   "metadata": {},
   "source": [
    "Вспомним, что отношение неправильных ответов к правильным равно 4 к 1. \n",
    "Уменьшим выборку данных с неправильными ответами примерно в 4 раза, используя функцию downsample."
   ]
  },
  {
   "cell_type": "code",
   "execution_count": 49,
   "metadata": {
    "scrolled": true
   },
   "outputs": [
    {
     "name": "stdout",
     "output_type": "stream",
     "text": [
      "0    1201\n",
      "1    1196\n",
      "Name: Exited, dtype: int64\n"
     ]
    }
   ],
   "source": [
    "def downsample(features, target, fraction):\n",
    "    features_zeros = features[target == 0]\n",
    "    features_ones = features[target == 1]\n",
    "    target_zeros = target[target == 0]\n",
    "    target_ones = target[target == 1]\n",
    "\n",
    "    features_downsampled = pd.concat(\n",
    "        [features_zeros.sample(frac = fraction, random_state = 12345)] + [features_ones])\n",
    "    target_downsampled = pd.concat(\n",
    "        [target_zeros.sample(frac = fraction, random_state = 12345)] + [target_ones])\n",
    "    \n",
    "    features_downsampled, target_downsampled = shuffle(\n",
    "        features_downsampled, target_downsampled, random_state = 12345)\n",
    "    \n",
    "    return features_downsampled, target_downsampled\n",
    "\n",
    "features_downsampled, target_downsampled = downsample(features_train, target_train, 0.25)\n",
    "\n",
    "print(target_downsampled.value_counts())"
   ]
  },
  {
   "cell_type": "markdown",
   "metadata": {},
   "source": [
    "Неправильные и правильные ответы по результатам функции примерно равны. Теперь применим его к нашим моделям."
   ]
  },
  {
   "cell_type": "markdown",
   "metadata": {},
   "source": [
    "Подберём гиперпараметры "
   ]
  },
  {
   "cell_type": "code",
   "execution_count": 50,
   "metadata": {},
   "outputs": [
    {
     "name": "stdout",
     "output_type": "stream",
     "text": [
      "Лучшая F1-мера равна 0.6049618320610687 при максимальной глубине равной 11 и количеству деревьев равному 115\n"
     ]
    }
   ],
   "source": [
    "best_f1_score = 0\n",
    "best_depth = 0\n",
    "best_estimator = 0\n",
    "\n",
    "for estimator in range(20, 151, 5):\n",
    "    for depth in range(1, 20):\n",
    "        model =  RandomForestClassifier(random_state = 12345, n_estimators = estimator, max_depth = depth)\n",
    "        model.fit(features_downsampled, target_downsampled)\n",
    "        predicted_valid = model.predict(features_valid)\n",
    "        if f1_score(target_valid, predicted_valid) > best_f1_score:\n",
    "            best_f1_score = f1_score(target_valid, predicted_valid)\n",
    "            best_depth = depth\n",
    "            best_estimator = estimator\n",
    "print('Лучшая F1-мера равна', best_f1_score, 'при максимальной глубине равной', best_depth, 'и количеству деревьев равному', best_estimator)"
   ]
  },
  {
   "cell_type": "code",
   "execution_count": 51,
   "metadata": {},
   "outputs": [
    {
     "name": "stdout",
     "output_type": "stream",
     "text": [
      "Лучшая F1-мера для дерева решений равна 0.5931174089068827 при максимальной глубине равной 5\n"
     ]
    }
   ],
   "source": [
    "best_f1_score = 0\n",
    "best_depth = 0\n",
    "\n",
    "for depth in range(1, 20):\n",
    "    model = DecisionTreeClassifier(random_state = 12345, max_depth = depth)\n",
    "    model.fit(features_downsampled, target_downsampled)\n",
    "    predicted_valid = model.predict(features_valid)\n",
    "    if f1_score(target_valid, predicted_valid) > best_f1_score:\n",
    "        best_f1_score = f1_score(target_valid, predicted_valid)\n",
    "        best_depth = depth\n",
    "print('Лучшая F1-мера для дерева решений равна', best_f1_score, 'при максимальной глубине равной', best_depth)"
   ]
  },
  {
   "cell_type": "code",
   "execution_count": 52,
   "metadata": {},
   "outputs": [
    {
     "name": "stdout",
     "output_type": "stream",
     "text": [
      "Дерево решений\n",
      "F1-мера - 0.5931174089068827\n",
      "AUC-ROC для дерева решений равен 0.82291433531536\n",
      "Случайный лес\n",
      "F1-мера - 0.6049618320610687\n",
      "AUC-ROC для случайного леса равен 0.8489057519099438\n",
      "Логистическая регрессия\n",
      "F1-мера - 0.4892703862660944\n",
      "AUC-ROC для логистической регрессии равен 0.762673981816972\n"
     ]
    }
   ],
   "source": [
    "model_dt = DecisionTreeClassifier(random_state = 12345, max_depth = 5)\n",
    "model_dt.fit(features_downsampled, target_downsampled)\n",
    "dt_predicted = pd.Series(model_dt.predict(features_valid))\n",
    "print('Дерево решений')\n",
    "print('F1-мера -', f1_score(target_valid, dt_predicted))\n",
    "\n",
    "dt_probabilities_one_valid = model_dt.predict_proba(features_valid)[:, 1]\n",
    "auc_roc_dt = roc_auc_score(target_valid, dt_probabilities_one_valid)\n",
    "print('AUC-ROC для дерева решений равен', auc_roc_dt)\n",
    "\n",
    "\n",
    "model_rf = RandomForestClassifier(random_state = 12345, n_estimators = 115, max_depth = 11)\n",
    "model_rf.fit(features_downsampled, target_downsampled)\n",
    "rf_predicted = pd.Series(model_rf.predict(features_valid))\n",
    "print('Случайный лес')\n",
    "print('F1-мера -', f1_score(target_valid, rf_predicted))\n",
    "\n",
    "rf_probabilities_one_valid = model_rf.predict_proba(features_valid)[:, 1]\n",
    "auc_roc_rf = roc_auc_score(target_valid, rf_probabilities_one_valid)\n",
    "print('AUC-ROC для случайного леса равен', auc_roc_rf)\n",
    "\n",
    "\n",
    "model_lr = LogisticRegression(random_state = 12345, solver = 'liblinear')\n",
    "model_lr.fit(features_downsampled, target_downsampled)\n",
    "lr_predicted = pd.Series(model_lr.predict(features_valid))\n",
    "print('Логистическая регрессия')\n",
    "print('F1-мера -', f1_score(target_valid, lr_predicted))\n",
    "\n",
    "lr_probabilities_one_valid = model_lr.predict_proba(features_valid)[:, 1]\n",
    "auc_roc_lr = roc_auc_score(target_valid, lr_probabilities_one_valid)\n",
    "print('AUC-ROC для логистической регрессии равен', auc_roc_lr)"
   ]
  },
  {
   "cell_type": "markdown",
   "metadata": {},
   "source": [
    "Используя уменьшенную выборку, F1-мера значительно увеличилась у всех трёх моделей."
   ]
  },
  {
   "cell_type": "markdown",
   "metadata": {},
   "source": [
    "### Использование увеличенной выборки"
   ]
  },
  {
   "cell_type": "code",
   "execution_count": 53,
   "metadata": {},
   "outputs": [
    {
     "name": "stdout",
     "output_type": "stream",
     "text": [
      "0    4804\n",
      "1    4784\n",
      "Name: Exited, dtype: int64\n"
     ]
    }
   ],
   "source": [
    "def upsample(features, target, repeat):\n",
    "    features_zeros = features[target == 0]\n",
    "    features_ones = features[target == 1]\n",
    "    target_zeros = target[target == 0]\n",
    "    target_ones = target[target == 1]\n",
    "\n",
    "    features_upsampled = pd.concat([features_zeros] + [features_ones] * repeat)\n",
    "    target_upsampled = pd.concat([target_zeros] + [target_ones] * repeat)\n",
    "    \n",
    "    features_upsampled, target_upsampled = shuffle(\n",
    "        features_upsampled, target_upsampled, random_state=12345)\n",
    "    \n",
    "    return features_upsampled, target_upsampled\n",
    "\n",
    "features_upsampled, target_upsampled = upsample(features_train, target_train, 4)\n",
    "\n",
    "print(target_upsampled.value_counts())"
   ]
  },
  {
   "cell_type": "markdown",
   "metadata": {},
   "source": [
    "Подберём гиперпараметры"
   ]
  },
  {
   "cell_type": "code",
   "execution_count": 54,
   "metadata": {},
   "outputs": [
    {
     "name": "stdout",
     "output_type": "stream",
     "text": [
      "Лучшая F1-мера равна 0.6334951456310681 при максимальной глубине равной 13 и количеству деревьев равному 150\n"
     ]
    }
   ],
   "source": [
    "for estimator in range(20, 151, 5):\n",
    "    for depth in range(1, 20):\n",
    "        model =  RandomForestClassifier(random_state = 12345, n_estimators = estimator, max_depth = depth)\n",
    "        model.fit(features_upsampled, target_upsampled)\n",
    "        predicted_valid = model.predict(features_valid)\n",
    "        if f1_score(target_valid, predicted_valid) > best_f1_score:\n",
    "            best_f1_score = f1_score(target_valid, predicted_valid)\n",
    "            best_depth = depth\n",
    "            best_estimator = estimator\n",
    "print('Лучшая F1-мера равна', best_f1_score, 'при максимальной глубине равной', best_depth, 'и количеству деревьев равному', best_estimator)"
   ]
  },
  {
   "cell_type": "code",
   "execution_count": 55,
   "metadata": {},
   "outputs": [
    {
     "name": "stdout",
     "output_type": "stream",
     "text": [
      "Лучшая F1-мера для дерева решений равна 0.5963791267305644 при максимальной глубине равной 5\n"
     ]
    }
   ],
   "source": [
    "best_f1_score = 0\n",
    "best_depth = 0\n",
    "\n",
    "for depth in range(1, 20):\n",
    "    model = DecisionTreeClassifier(random_state = 12345, max_depth = depth)\n",
    "    model.fit(features_upsampled, target_upsampled)\n",
    "    predicted_valid = model.predict(features_valid)\n",
    "    if f1_score(target_valid, predicted_valid) > best_f1_score:\n",
    "        best_f1_score = f1_score(target_valid, predicted_valid)\n",
    "        best_depth = depth\n",
    "print('Лучшая F1-мера для дерева решений равна', best_f1_score, 'при максимальной глубине равной', best_depth)"
   ]
  },
  {
   "cell_type": "code",
   "execution_count": 56,
   "metadata": {},
   "outputs": [
    {
     "name": "stdout",
     "output_type": "stream",
     "text": [
      "Дерево решений\n",
      "F1-мера - 0.5963791267305644\n",
      "AUC-ROC для дерева решений равен 0.8310244134068074\n",
      "Случайный лес\n",
      "F1-мера - 0.6334951456310681\n",
      "AUC-ROC для случайного леса равен 0.84782148452386\n",
      "Логистическая регрессия\n",
      "F1-мера - 0.4888888888888888\n",
      "AUC-ROC для логистической регрессии равен 0.7634769748183815\n"
     ]
    }
   ],
   "source": [
    "model_dt = DecisionTreeClassifier(random_state = 12345, max_depth = 5)\n",
    "model_dt.fit(features_upsampled, target_upsampled)\n",
    "dt_predicted = pd.Series(model_dt.predict(features_valid))\n",
    "print('Дерево решений')\n",
    "print('F1-мера -', f1_score(target_valid, dt_predicted))\n",
    "\n",
    "dt_probabilities_one_valid = model_dt.predict_proba(features_valid)[:, 1]\n",
    "auc_roc_dt = roc_auc_score(target_valid, dt_probabilities_one_valid)\n",
    "print('AUC-ROC для дерева решений равен', auc_roc_dt)\n",
    "\n",
    "\n",
    "model_rf = RandomForestClassifier(random_state = 12345, n_estimators = 150, max_depth = 13)\n",
    "model_rf.fit(features_upsampled, target_upsampled)\n",
    "rf_predicted = pd.Series(model_rf.predict(features_valid))\n",
    "print('Случайный лес')\n",
    "print('F1-мера -', f1_score(target_valid, rf_predicted))\n",
    "\n",
    "rf_probabilities_one_valid = model_rf.predict_proba(features_valid)[:, 1]\n",
    "auc_roc_rf = roc_auc_score(target_valid, rf_probabilities_one_valid)\n",
    "print('AUC-ROC для случайного леса равен', auc_roc_rf)\n",
    "\n",
    "\n",
    "model_lr = LogisticRegression(random_state = 12345, solver = 'liblinear')\n",
    "model_lr.fit(features_upsampled, target_upsampled)\n",
    "lr_predicted = pd.Series(model_lr.predict(features_valid))\n",
    "print('Логистическая регрессия')\n",
    "print('F1-мера -', f1_score(target_valid, lr_predicted))\n",
    "\n",
    "lr_probabilities_one_valid = model_lr.predict_proba(features_valid)[:, 1]\n",
    "auc_roc_lr = roc_auc_score(target_valid, lr_probabilities_one_valid)\n",
    "print('AUC-ROC для логистической регрессии равен', auc_roc_lr)"
   ]
  },
  {
   "cell_type": "markdown",
   "metadata": {},
   "source": [
    "Используя уменьшенную выборку, F1-мера слегка увеличилась у случайного леса, и значительно - у дерева решений и логистической регрессии."
   ]
  },
  {
   "cell_type": "markdown",
   "metadata": {},
   "source": [
    "**Вывод**\n",
    "\n",
    "Было произведено сравнение трёх видов борьбы с дисбалансом классов: с взвешенными классами, при помощи downsample и upsample."
   ]
  },
  {
   "cell_type": "markdown",
   "metadata": {},
   "source": [
    "## Тестирование модели"
   ]
  },
  {
   "cell_type": "markdown",
   "metadata": {},
   "source": [
    "### Подготовка к тестированию"
   ]
  },
  {
   "cell_type": "markdown",
   "metadata": {},
   "source": [
    "В качестве лучшей модели возьмём случайный лес . Объединим тренировочную выборку с валидационной, чтобы было больше данных. Также обновим размеры увеличенной и уменьшенной выборок соответствующим образом."
   ]
  },
  {
   "cell_type": "code",
   "execution_count": 57,
   "metadata": {},
   "outputs": [],
   "source": [
    "features_full_train = pd.concat([features_train, features_valid])\n",
    "target_full_train = pd.concat([target_train, target_valid])\n",
    "\n",
    "features_upsampled, target_upsampled = upsample(features_full_train, target_full_train, 4)\n",
    "features_downsampled, target_downsampled = downsample(features_full_train, target_full_train, 0.25)"
   ]
  },
  {
   "cell_type": "raw",
   "metadata": {},
   "source": [
    "features_full_train = pd.concat([features_train, features_valid])\n",
    "target_full_train = pd.concat([target_train, target_valid])\n",
    "\n",
    "features_upsampled, target_upsampled = upsample(features_full_train, target_full_train, 4)"
   ]
  },
  {
   "cell_type": "markdown",
   "metadata": {},
   "source": [
    "### Финальное тестирование"
   ]
  },
  {
   "cell_type": "code",
   "execution_count": 58,
   "metadata": {},
   "outputs": [
    {
     "name": "stdout",
     "output_type": "stream",
     "text": [
      "Случайный лес с дисбалансом классов\n",
      "Точность попадания по классам 0.8445\n",
      "Точность 0.7204724409448819\n",
      "Полнота 0.4326241134751773\n",
      "F1-мера 0.5406203840472673\n",
      "\n"
     ]
    }
   ],
   "source": [
    "model = RandomForestClassifier(random_state = 12345, n_estimators = 25, max_depth = 17)\n",
    "model.fit(features_train, target_train)\n",
    "predicted_test = model.predict(features_test)\n",
    "print('Случайный лес с дисбалансом классов')\n",
    "print('Точность попадания по классам', accuracy_score(target_test, predicted_test))\n",
    "print('Точность', precision_score(target_test, predicted_test))\n",
    "print('Полнота', recall_score(target_test, predicted_test))\n",
    "print('F1-мера', f1_score(target_test, predicted_test))\n",
    "print()"
   ]
  },
  {
   "cell_type": "code",
   "execution_count": 59,
   "metadata": {},
   "outputs": [
    {
     "name": "stdout",
     "output_type": "stream",
     "text": [
      "Случайный лес со взвешенными классами\n",
      "Точность попадания по классам - 0.822\n",
      "Точность - 0.5668662674650699\n",
      "Полнота - 0.6713947990543735\n",
      "F1-мера - 0.6147186147186147\n",
      "\n"
     ]
    }
   ],
   "source": [
    "model_balanced = RandomForestClassifier(random_state = 12345, n_estimators = 150, max_depth = 8, class_weight = 'balanced')\n",
    "model_balanced.fit(features_train, target_train)\n",
    "predicted_test_balanced = model_balanced.predict(features_test)\n",
    "print('Случайный лес со взвешенными классами')\n",
    "print('Точность попадания по классам -', accuracy_score(target_test, predicted_test_balanced))\n",
    "print('Точность -', precision_score(target_test, predicted_test_balanced))\n",
    "print('Полнота -', recall_score(target_test, predicted_test_balanced))\n",
    "print('F1-мера -', f1_score(target_test, predicted_test_balanced))\n",
    "print()"
   ]
  },
  {
   "cell_type": "code",
   "execution_count": 60,
   "metadata": {},
   "outputs": [
    {
     "name": "stdout",
     "output_type": "stream",
     "text": [
      "Случайный лес с увеличенной выборкой значений \"1\"\n",
      "Точность попадания по классам - 0.8365\n",
      "Точность - 0.6121495327102804\n",
      "Полнота - 0.6193853427895981\n",
      "F1-мера - 0.6157461809635723\n",
      "\n"
     ]
    }
   ],
   "source": [
    "model_upsampled = RandomForestClassifier(random_state = 12345, n_estimators = 150, max_depth = 13)\n",
    "model_upsampled.fit(features_upsampled, target_upsampled)\n",
    "predicted_test_upsampled = model_upsampled.predict(features_test)\n",
    "print('Случайный лес с увеличенной выборкой значений \"1\"')\n",
    "print('Точность попадания по классам -', accuracy_score(target_test, predicted_test_upsampled))\n",
    "print('Точность -', precision_score(target_test, predicted_test_upsampled))\n",
    "print('Полнота -', recall_score(target_test, predicted_test_upsampled))\n",
    "print('F1-мера -', f1_score(target_test, predicted_test_upsampled))\n",
    "print()"
   ]
  },
  {
   "cell_type": "code",
   "execution_count": 61,
   "metadata": {
    "scrolled": true
   },
   "outputs": [
    {
     "name": "stdout",
     "output_type": "stream",
     "text": [
      "Случайный лес с уменьшенной выборкой значений \"0\"\n",
      "Точность попадания по классам - 0.777\n",
      "Точность - 0.48244274809160304\n",
      "Полнота - 0.7470449172576832\n",
      "F1-мера - 0.5862708719851577\n",
      "\n"
     ]
    }
   ],
   "source": [
    "model_downsampled = RandomForestClassifier(random_state = 12345, n_estimators = 115, max_depth = 11)\n",
    "model_downsampled.fit(features_downsampled, target_downsampled)\n",
    "predicted_test_downsampled = model_downsampled.predict(features_test)\n",
    "print('Случайный лес с уменьшенной выборкой значений \"0\"')\n",
    "print('Точность попадания по классам -', accuracy_score(target_test, predicted_test_downsampled))\n",
    "print('Точность -', precision_score(target_test, predicted_test_downsampled))\n",
    "print('Полнота -', recall_score(target_test, predicted_test_downsampled))\n",
    "print('F1-мера -', f1_score(target_test, predicted_test_downsampled))\n",
    "print()"
   ]
  },
  {
   "cell_type": "markdown",
   "metadata": {},
   "source": [
    "Видно, что случайный лес со взвешенными классами, случайный лес с увеличенной выборкой значений \"1\" и случайный лес с уменьшенной выборкой значений \"0\" получили значение F1-меры, которое больше 0.59. Теперь посчитаем AUC-ROC и поместим эту кривую для каждой из моделей на график."
   ]
  },
  {
   "cell_type": "code",
   "execution_count": 62,
   "metadata": {
    "scrolled": false
   },
   "outputs": [
    {
     "name": "stdout",
     "output_type": "stream",
     "text": [
      "AUC-ROC случайного леса с дисбалансом: 0.8398431351385385\n",
      "AUC-ROC случайного леса со взвешенными классами: 0.856788857557891\n",
      "AUC-ROC случайного леса с увеличенной выборкой класса \"1\": 0.8569102839128069\n",
      "AUC-ROC случайного леса с уменьшенной выборкой класса \"0\": 0.8564635548539811\n"
     ]
    },
    {
     "data": {
      "image/png": "[encoded data removed]",
      "text/plain": [
       "<Figure size 720x720 with 1 Axes>"
      ]
     },
     "metadata": {
      "needs_background": "light"
     },
     "output_type": "display_data"
    }
   ],
   "source": [
    "plt.figure(figsize = [10, 10])\n",
    "plt.plot([0, 1], [0, 1], linestyle = '--', label = 'Случайная модель')\n",
    "\n",
    "\n",
    "probabilities_test = model.predict_proba(features_test)\n",
    "probabilities_one_test = probabilities_test[:, 1]\n",
    "fpr, tpr, thresholds = roc_curve(target_test, probabilities_one_test)\n",
    "auc_roc = roc_auc_score(target_test, probabilities_one_test)\n",
    "print('AUC-ROC случайного леса с дисбалансом:', auc_roc)\n",
    "plt.plot(fpr, tpr, label = 'Случайный лес с дисбалансом')\n",
    "\n",
    "\n",
    "probabilities_balanced_test = model_balanced.predict_proba(features_test)\n",
    "probabilities_balanced_one_test = probabilities_balanced_test[:, 1]\n",
    "fpr, tpr, thresholds = roc_curve(target_test, probabilities_balanced_one_test)\n",
    "auc_roc_balanced = roc_auc_score(target_test, probabilities_balanced_one_test)\n",
    "print('AUC-ROC случайного леса со взвешенными классами:', auc_roc_balanced)\n",
    "plt.plot(fpr, tpr, label = 'Случайный лес со взвешенными классами')\n",
    "\n",
    "\n",
    "probabilities_upsampled_test = model_upsampled.predict_proba(features_test)\n",
    "probabilities_upsampled_one_test = probabilities_upsampled_test[:, 1]\n",
    "fpr, tpr, thresholds = roc_curve(target_test, probabilities_upsampled_one_test)\n",
    "auc_roc_upsampled = roc_auc_score(target_test, probabilities_upsampled_one_test)\n",
    "print('AUC-ROC случайного леса с увеличенной выборкой класса \"1\":', auc_roc_upsampled)\n",
    "plt.plot(fpr, tpr, label = 'Случайный лес с увеличенной выборкой класса \"1\"')\n",
    "\n",
    "\n",
    "probabilities_downsampled_test = model_downsampled.predict_proba(features_test)\n",
    "probabilities_downsampled_one_test = probabilities_downsampled_test[:, 1]\n",
    "fpr, tpr, thresholds = roc_curve(target_test, probabilities_downsampled_one_test)\n",
    "auc_roc_downsampled = roc_auc_score(target_test, probabilities_downsampled_one_test)\n",
    "print('AUC-ROC случайного леса с уменьшенной выборкой класса \"0\":', auc_roc_downsampled)\n",
    "plt.plot(fpr, tpr, label = 'Случайный лес с уменьшенной выборкой класса \"0\"')\n",
    "\n",
    "plt.xlim([0, 1])\n",
    "plt.ylim([0, 1])\n",
    "\n",
    "plt.xlabel(\"Ложноположительные ответы\")\n",
    "plt.ylabel(\"Истинно положительные ответы\")\n",
    "\n",
    "plt.legend()\n",
    "\n",
    "plt.title(\"AUC-ROC\")\n",
    "plt.show()"
   ]
  },
  {
   "cell_type": "markdown",
   "metadata": {},
   "source": [
    "Видно, что AUC-ROC в среднем равен 0.85 для всех четырёх моделей, которые были рассмотрены."
   ]
  },
  {
   "cell_type": "markdown",
   "metadata": {},
   "source": [
    "## Вывод\n",
    "\n",
    "В финальном тестировании 3 из 4 моделей прошли порог F1-меры в 0.59 - случайный лес со взвешенными классами, случайный лес с увеличенной выборкой значений \"1\" и случайный лес с уменьшенной выборкой значений \"0\".\n",
    "\n",
    "\n",
    "В итоге исследования была получена лучшая модель - случайный лес, которая показала лучшие показатели по AUC-ROC и F1-мере. Эта модель была проверена с учётом дисбаланса, взвешенными классами, а также уменьшенной и увеличенной выборками. Лучше всего себя показал метод с увеличенной выборкой значений \"1\"."
   ]
  }
 ],
 "metadata": {
  "ExecuteTimeLog": [
   {
    "duration": 1500,
    "start_time": "2022-12-20T07:59:48.588Z"
   },
   {
    "duration": 3,
    "start_time": "2022-12-20T07:59:56.272Z"
   },
   {
    "duration": 151,
    "start_time": "2022-12-20T08:01:19.611Z"
   },
   {
    "duration": 12,
    "start_time": "2022-12-20T08:22:19.747Z"
   },
   {
    "duration": 15,
    "start_time": "2022-12-20T08:22:26.111Z"
   },
   {
    "duration": 50,
    "start_time": "2022-12-20T08:23:33.907Z"
   },
   {
    "duration": 99,
    "start_time": "2022-12-20T08:31:35.884Z"
   },
   {
    "duration": 12,
    "start_time": "2022-12-20T08:31:42.648Z"
   },
   {
    "duration": 5,
    "start_time": "2022-12-20T10:57:19.412Z"
   },
   {
    "duration": 11,
    "start_time": "2022-12-20T10:57:36.552Z"
   },
   {
    "duration": 5,
    "start_time": "2022-12-20T11:03:18.709Z"
   },
   {
    "duration": 4,
    "start_time": "2022-12-20T11:03:54.703Z"
   },
   {
    "duration": 6,
    "start_time": "2022-12-20T11:06:55.739Z"
   },
   {
    "duration": 6,
    "start_time": "2022-12-20T11:07:01.304Z"
   },
   {
    "duration": 5,
    "start_time": "2022-12-20T11:07:30.839Z"
   },
   {
    "duration": 9,
    "start_time": "2022-12-20T11:07:38.244Z"
   },
   {
    "duration": 1530,
    "start_time": "2022-12-20T11:25:00.713Z"
   },
   {
    "duration": 7,
    "start_time": "2022-12-20T11:25:09.269Z"
   },
   {
    "duration": 9,
    "start_time": "2022-12-20T11:29:07.933Z"
   },
   {
    "duration": 9,
    "start_time": "2022-12-20T11:29:41.345Z"
   },
   {
    "duration": 12,
    "start_time": "2022-12-20T11:30:33.698Z"
   },
   {
    "duration": 9,
    "start_time": "2022-12-20T11:30:34.708Z"
   },
   {
    "duration": 1472,
    "start_time": "2022-12-20T11:30:39.173Z"
   },
   {
    "duration": 4,
    "start_time": "2022-12-20T11:30:40.647Z"
   },
   {
    "duration": 153,
    "start_time": "2022-12-20T11:30:40.653Z"
   },
   {
    "duration": 17,
    "start_time": "2022-12-20T11:30:40.809Z"
   },
   {
    "duration": 21,
    "start_time": "2022-12-20T11:30:40.828Z"
   },
   {
    "duration": 70,
    "start_time": "2022-12-20T11:30:40.851Z"
   },
   {
    "duration": 7,
    "start_time": "2022-12-20T11:30:40.923Z"
   },
   {
    "duration": 67,
    "start_time": "2022-12-20T11:30:40.932Z"
   },
   {
    "duration": 25,
    "start_time": "2022-12-20T11:30:41.001Z"
   },
   {
    "duration": 26,
    "start_time": "2022-12-20T11:30:41.029Z"
   },
   {
    "duration": 25,
    "start_time": "2022-12-20T11:30:41.057Z"
   },
   {
    "duration": 47,
    "start_time": "2022-12-20T11:30:41.090Z"
   },
   {
    "duration": 17,
    "start_time": "2022-12-20T11:30:41.139Z"
   },
   {
    "duration": 71,
    "start_time": "2022-12-20T11:30:41.158Z"
   },
   {
    "duration": 12,
    "start_time": "2022-12-20T11:31:15.837Z"
   },
   {
    "duration": 13,
    "start_time": "2022-12-20T11:31:26.296Z"
   },
   {
    "duration": 16,
    "start_time": "2022-12-20T11:44:56.323Z"
   },
   {
    "duration": 15,
    "start_time": "2022-12-20T11:45:01.932Z"
   },
   {
    "duration": 13,
    "start_time": "2022-12-20T11:45:08.415Z"
   },
   {
    "duration": 11,
    "start_time": "2022-12-20T11:45:12.087Z"
   },
   {
    "duration": 2966,
    "start_time": "2022-12-20T11:45:41.003Z"
   },
   {
    "duration": 8,
    "start_time": "2022-12-20T11:45:43.971Z"
   },
   {
    "duration": 57,
    "start_time": "2022-12-20T11:45:43.981Z"
   },
   {
    "duration": 19,
    "start_time": "2022-12-20T11:45:44.041Z"
   },
   {
    "duration": 28,
    "start_time": "2022-12-20T11:45:44.062Z"
   },
   {
    "duration": 58,
    "start_time": "2022-12-20T11:45:44.092Z"
   },
   {
    "duration": 6,
    "start_time": "2022-12-20T11:45:44.152Z"
   },
   {
    "duration": 35,
    "start_time": "2022-12-20T11:45:44.160Z"
   },
   {
    "duration": 5,
    "start_time": "2022-12-20T11:45:44.197Z"
   },
   {
    "duration": 10,
    "start_time": "2022-12-20T11:45:44.206Z"
   },
   {
    "duration": 11,
    "start_time": "2022-12-20T11:45:44.218Z"
   },
   {
    "duration": 18,
    "start_time": "2022-12-20T11:45:44.231Z"
   },
   {
    "duration": 13,
    "start_time": "2022-12-20T11:45:44.251Z"
   },
   {
    "duration": 16,
    "start_time": "2022-12-20T11:45:44.265Z"
   },
   {
    "duration": 25,
    "start_time": "2022-12-20T11:45:44.283Z"
   },
   {
    "duration": 13,
    "start_time": "2022-12-20T11:45:44.310Z"
   },
   {
    "duration": 22,
    "start_time": "2022-12-20T11:45:44.325Z"
   },
   {
    "duration": 31,
    "start_time": "2022-12-20T11:45:44.349Z"
   },
   {
    "duration": 1243,
    "start_time": "2022-12-20T11:48:35.575Z"
   },
   {
    "duration": 1373,
    "start_time": "2022-12-20T11:48:55.691Z"
   },
   {
    "duration": 4,
    "start_time": "2022-12-20T11:48:57.065Z"
   },
   {
    "duration": 58,
    "start_time": "2022-12-20T11:48:57.070Z"
   },
   {
    "duration": 13,
    "start_time": "2022-12-20T11:48:57.130Z"
   },
   {
    "duration": 22,
    "start_time": "2022-12-20T11:48:57.144Z"
   },
   {
    "duration": 44,
    "start_time": "2022-12-20T11:48:57.168Z"
   },
   {
    "duration": 6,
    "start_time": "2022-12-20T11:48:57.213Z"
   },
   {
    "duration": 126,
    "start_time": "2022-12-20T11:48:57.221Z"
   },
   {
    "duration": 0,
    "start_time": "2022-12-20T11:48:57.349Z"
   },
   {
    "duration": 0,
    "start_time": "2022-12-20T11:48:57.350Z"
   },
   {
    "duration": 0,
    "start_time": "2022-12-20T11:48:57.352Z"
   },
   {
    "duration": 0,
    "start_time": "2022-12-20T11:48:57.353Z"
   },
   {
    "duration": 0,
    "start_time": "2022-12-20T11:48:57.354Z"
   },
   {
    "duration": 0,
    "start_time": "2022-12-20T11:48:57.355Z"
   },
   {
    "duration": 0,
    "start_time": "2022-12-20T11:48:57.356Z"
   },
   {
    "duration": 0,
    "start_time": "2022-12-20T11:48:57.357Z"
   },
   {
    "duration": 0,
    "start_time": "2022-12-20T11:48:57.358Z"
   },
   {
    "duration": 0,
    "start_time": "2022-12-20T11:48:57.359Z"
   },
   {
    "duration": 0,
    "start_time": "2022-12-20T11:48:57.360Z"
   },
   {
    "duration": 5,
    "start_time": "2022-12-20T11:49:36.816Z"
   },
   {
    "duration": 6,
    "start_time": "2022-12-20T11:50:36.392Z"
   },
   {
    "duration": 1383,
    "start_time": "2022-12-20T11:51:05.444Z"
   },
   {
    "duration": 3,
    "start_time": "2022-12-20T11:51:06.829Z"
   },
   {
    "duration": 71,
    "start_time": "2022-12-20T11:51:06.833Z"
   },
   {
    "duration": 25,
    "start_time": "2022-12-20T11:51:06.906Z"
   },
   {
    "duration": 78,
    "start_time": "2022-12-20T11:51:06.933Z"
   },
   {
    "duration": 102,
    "start_time": "2022-12-20T11:51:07.013Z"
   },
   {
    "duration": 13,
    "start_time": "2022-12-20T11:51:07.117Z"
   },
   {
    "duration": 59,
    "start_time": "2022-12-20T11:51:07.131Z"
   },
   {
    "duration": 44,
    "start_time": "2022-12-20T11:51:07.192Z"
   },
   {
    "duration": 53,
    "start_time": "2022-12-20T11:51:07.239Z"
   },
   {
    "duration": 6,
    "start_time": "2022-12-20T11:51:07.294Z"
   },
   {
    "duration": 38,
    "start_time": "2022-12-20T11:51:07.302Z"
   },
   {
    "duration": 31,
    "start_time": "2022-12-20T11:51:07.342Z"
   },
   {
    "duration": 42,
    "start_time": "2022-12-20T11:51:07.374Z"
   },
   {
    "duration": 37,
    "start_time": "2022-12-20T11:51:07.418Z"
   },
   {
    "duration": 43,
    "start_time": "2022-12-20T11:51:07.456Z"
   },
   {
    "duration": 31,
    "start_time": "2022-12-20T11:51:07.501Z"
   },
   {
    "duration": 42,
    "start_time": "2022-12-20T11:51:07.534Z"
   },
   {
    "duration": 55,
    "start_time": "2022-12-20T11:51:07.578Z"
   },
   {
    "duration": 52,
    "start_time": "2022-12-20T11:51:07.635Z"
   },
   {
    "duration": 4,
    "start_time": "2022-12-20T11:51:36.888Z"
   },
   {
    "duration": 1406,
    "start_time": "2022-12-20T11:51:52.348Z"
   },
   {
    "duration": 3,
    "start_time": "2022-12-20T11:51:53.756Z"
   },
   {
    "duration": 99,
    "start_time": "2022-12-20T11:51:53.761Z"
   },
   {
    "duration": 14,
    "start_time": "2022-12-20T11:51:53.862Z"
   },
   {
    "duration": 54,
    "start_time": "2022-12-20T11:51:53.877Z"
   },
   {
    "duration": 61,
    "start_time": "2022-12-20T11:51:53.933Z"
   },
   {
    "duration": 6,
    "start_time": "2022-12-20T11:51:53.997Z"
   },
   {
    "duration": 33,
    "start_time": "2022-12-20T11:51:54.006Z"
   },
   {
    "duration": 47,
    "start_time": "2022-12-20T11:51:54.041Z"
   },
   {
    "duration": 20,
    "start_time": "2022-12-20T11:51:54.090Z"
   },
   {
    "duration": 38,
    "start_time": "2022-12-20T11:51:54.113Z"
   },
   {
    "duration": 39,
    "start_time": "2022-12-20T11:51:54.153Z"
   },
   {
    "duration": 24,
    "start_time": "2022-12-20T11:51:54.194Z"
   },
   {
    "duration": 25,
    "start_time": "2022-12-20T11:51:54.220Z"
   },
   {
    "duration": 30,
    "start_time": "2022-12-20T11:51:54.247Z"
   },
   {
    "duration": 40,
    "start_time": "2022-12-20T11:51:54.279Z"
   },
   {
    "duration": 36,
    "start_time": "2022-12-20T11:51:54.321Z"
   },
   {
    "duration": 19,
    "start_time": "2022-12-20T11:51:54.359Z"
   },
   {
    "duration": 41,
    "start_time": "2022-12-20T11:51:54.380Z"
   },
   {
    "duration": 10,
    "start_time": "2022-12-20T11:52:15.675Z"
   },
   {
    "duration": 11,
    "start_time": "2022-12-20T11:52:16.152Z"
   },
   {
    "duration": 1364,
    "start_time": "2022-12-20T11:52:27.900Z"
   },
   {
    "duration": 4,
    "start_time": "2022-12-20T11:52:29.266Z"
   },
   {
    "duration": 42,
    "start_time": "2022-12-20T11:52:29.277Z"
   },
   {
    "duration": 14,
    "start_time": "2022-12-20T11:52:29.321Z"
   },
   {
    "duration": 16,
    "start_time": "2022-12-20T11:52:29.337Z"
   },
   {
    "duration": 41,
    "start_time": "2022-12-20T11:52:29.355Z"
   },
   {
    "duration": 3,
    "start_time": "2022-12-20T11:52:29.398Z"
   },
   {
    "duration": 19,
    "start_time": "2022-12-20T11:52:29.403Z"
   },
   {
    "duration": 4,
    "start_time": "2022-12-20T11:52:29.424Z"
   },
   {
    "duration": 9,
    "start_time": "2022-12-20T11:52:29.431Z"
   },
   {
    "duration": 6,
    "start_time": "2022-12-20T11:52:29.441Z"
   },
   {
    "duration": 34,
    "start_time": "2022-12-20T11:52:29.449Z"
   },
   {
    "duration": 7,
    "start_time": "2022-12-20T11:52:29.484Z"
   },
   {
    "duration": 6,
    "start_time": "2022-12-20T11:52:29.493Z"
   },
   {
    "duration": 18,
    "start_time": "2022-12-20T11:52:29.500Z"
   },
   {
    "duration": 12,
    "start_time": "2022-12-20T11:52:29.519Z"
   },
   {
    "duration": 17,
    "start_time": "2022-12-20T11:52:29.532Z"
   },
   {
    "duration": 31,
    "start_time": "2022-12-20T11:52:29.551Z"
   },
   {
    "duration": 96,
    "start_time": "2022-12-20T11:57:50.933Z"
   },
   {
    "duration": 6,
    "start_time": "2022-12-20T11:58:01.059Z"
   },
   {
    "duration": 6,
    "start_time": "2022-12-20T11:58:07.886Z"
   },
   {
    "duration": 6,
    "start_time": "2022-12-20T11:58:08.577Z"
   },
   {
    "duration": 3,
    "start_time": "2022-12-20T11:58:28.622Z"
   },
   {
    "duration": 3,
    "start_time": "2022-12-20T11:59:38.902Z"
   },
   {
    "duration": 4,
    "start_time": "2022-12-20T11:59:39.449Z"
   },
   {
    "duration": 11,
    "start_time": "2022-12-20T11:59:49.978Z"
   },
   {
    "duration": 16,
    "start_time": "2022-12-20T11:59:50.451Z"
   },
   {
    "duration": 1335,
    "start_time": "2022-12-20T11:59:58.951Z"
   },
   {
    "duration": 3,
    "start_time": "2022-12-20T12:00:00.288Z"
   },
   {
    "duration": 67,
    "start_time": "2022-12-20T12:00:00.292Z"
   },
   {
    "duration": 14,
    "start_time": "2022-12-20T12:00:00.362Z"
   },
   {
    "duration": 54,
    "start_time": "2022-12-20T12:00:00.377Z"
   },
   {
    "duration": 79,
    "start_time": "2022-12-20T12:00:00.433Z"
   },
   {
    "duration": 3,
    "start_time": "2022-12-20T12:00:00.514Z"
   },
   {
    "duration": 22,
    "start_time": "2022-12-20T12:00:00.519Z"
   },
   {
    "duration": 31,
    "start_time": "2022-12-20T12:00:00.542Z"
   },
   {
    "duration": 17,
    "start_time": "2022-12-20T12:00:00.576Z"
   },
   {
    "duration": 42,
    "start_time": "2022-12-20T12:00:00.594Z"
   },
   {
    "duration": 17,
    "start_time": "2022-12-20T12:00:00.639Z"
   },
   {
    "duration": 20,
    "start_time": "2022-12-20T12:00:00.658Z"
   },
   {
    "duration": 27,
    "start_time": "2022-12-20T12:00:00.679Z"
   },
   {
    "duration": 27,
    "start_time": "2022-12-20T12:00:00.708Z"
   },
   {
    "duration": 44,
    "start_time": "2022-12-20T12:00:00.736Z"
   },
   {
    "duration": 46,
    "start_time": "2022-12-20T12:00:00.782Z"
   },
   {
    "duration": 29,
    "start_time": "2022-12-20T12:00:00.830Z"
   },
   {
    "duration": 29,
    "start_time": "2022-12-20T12:00:00.861Z"
   },
   {
    "duration": 15,
    "start_time": "2022-12-20T12:00:00.892Z"
   },
   {
    "duration": 27,
    "start_time": "2022-12-20T12:00:00.908Z"
   },
   {
    "duration": 28,
    "start_time": "2022-12-20T12:00:00.937Z"
   },
   {
    "duration": 21,
    "start_time": "2022-12-20T12:00:00.967Z"
   },
   {
    "duration": 30,
    "start_time": "2022-12-20T12:00:00.990Z"
   },
   {
    "duration": 3,
    "start_time": "2022-12-20T12:32:40.718Z"
   },
   {
    "duration": 17,
    "start_time": "2022-12-20T12:34:15.575Z"
   },
   {
    "duration": 30,
    "start_time": "2022-12-20T12:35:04.022Z"
   },
   {
    "duration": 3,
    "start_time": "2022-12-20T12:35:34.425Z"
   },
   {
    "duration": 23,
    "start_time": "2022-12-20T12:35:38.121Z"
   },
   {
    "duration": 13,
    "start_time": "2022-12-20T12:37:11.137Z"
   },
   {
    "duration": 107,
    "start_time": "2022-12-20T12:37:19.891Z"
   },
   {
    "duration": 12,
    "start_time": "2022-12-20T12:37:25.697Z"
   },
   {
    "duration": 16,
    "start_time": "2022-12-20T12:37:34.957Z"
   },
   {
    "duration": 1486,
    "start_time": "2022-12-20T12:38:59.844Z"
   },
   {
    "duration": 3,
    "start_time": "2022-12-20T12:39:01.332Z"
   },
   {
    "duration": 107,
    "start_time": "2022-12-20T12:39:01.337Z"
   },
   {
    "duration": 97,
    "start_time": "2022-12-20T12:39:01.447Z"
   },
   {
    "duration": 19,
    "start_time": "2022-12-20T12:39:01.546Z"
   },
   {
    "duration": 51,
    "start_time": "2022-12-20T12:39:01.567Z"
   },
   {
    "duration": 74,
    "start_time": "2022-12-20T12:39:01.619Z"
   },
   {
    "duration": 15,
    "start_time": "2022-12-20T12:39:01.695Z"
   },
   {
    "duration": 33,
    "start_time": "2022-12-20T12:39:01.712Z"
   },
   {
    "duration": 27,
    "start_time": "2022-12-20T12:39:01.749Z"
   },
   {
    "duration": 53,
    "start_time": "2022-12-20T12:39:01.777Z"
   },
   {
    "duration": 25,
    "start_time": "2022-12-20T12:39:01.832Z"
   },
   {
    "duration": 44,
    "start_time": "2022-12-20T12:39:01.858Z"
   },
   {
    "duration": 24,
    "start_time": "2022-12-20T12:39:01.904Z"
   },
   {
    "duration": 44,
    "start_time": "2022-12-20T12:39:01.929Z"
   },
   {
    "duration": 21,
    "start_time": "2022-12-20T12:39:01.975Z"
   },
   {
    "duration": 29,
    "start_time": "2022-12-20T12:39:01.998Z"
   },
   {
    "duration": 15,
    "start_time": "2022-12-20T12:39:02.029Z"
   },
   {
    "duration": 18,
    "start_time": "2022-12-20T12:39:02.046Z"
   },
   {
    "duration": 37,
    "start_time": "2022-12-20T12:39:02.066Z"
   },
   {
    "duration": 20,
    "start_time": "2022-12-20T12:39:02.105Z"
   },
   {
    "duration": 21,
    "start_time": "2022-12-20T12:39:02.127Z"
   },
   {
    "duration": 20,
    "start_time": "2022-12-20T12:39:02.149Z"
   },
   {
    "duration": 37,
    "start_time": "2022-12-20T12:39:02.171Z"
   },
   {
    "duration": 30,
    "start_time": "2022-12-20T12:39:02.210Z"
   },
   {
    "duration": 35,
    "start_time": "2022-12-20T12:39:02.242Z"
   },
   {
    "duration": 72,
    "start_time": "2022-12-20T12:39:02.280Z"
   },
   {
    "duration": 16,
    "start_time": "2022-12-20T12:39:02.355Z"
   },
   {
    "duration": 34,
    "start_time": "2022-12-20T12:39:02.373Z"
   },
   {
    "duration": 15,
    "start_time": "2022-12-20T12:39:02.409Z"
   },
   {
    "duration": 31,
    "start_time": "2022-12-20T12:39:02.425Z"
   },
   {
    "duration": 13,
    "start_time": "2022-12-20T12:39:02.457Z"
   },
   {
    "duration": 38,
    "start_time": "2022-12-20T12:39:02.472Z"
   },
   {
    "duration": 18,
    "start_time": "2022-12-20T12:39:02.511Z"
   },
   {
    "duration": 146,
    "start_time": "2022-12-20T12:42:20.944Z"
   },
   {
    "duration": 360,
    "start_time": "2022-12-20T12:42:34.932Z"
   },
   {
    "duration": 392,
    "start_time": "2022-12-20T12:42:40.797Z"
   },
   {
    "duration": 366,
    "start_time": "2022-12-20T12:42:49.824Z"
   },
   {
    "duration": 381,
    "start_time": "2022-12-20T12:43:13.852Z"
   },
   {
    "duration": 320,
    "start_time": "2022-12-20T12:43:29.289Z"
   },
   {
    "duration": 116,
    "start_time": "2022-12-20T12:48:11.222Z"
   },
   {
    "duration": 373,
    "start_time": "2022-12-20T12:48:23.417Z"
   },
   {
    "duration": 98,
    "start_time": "2022-12-20T12:50:34.230Z"
   },
   {
    "duration": 126,
    "start_time": "2022-12-20T12:50:50.966Z"
   },
   {
    "duration": 120,
    "start_time": "2022-12-20T12:51:49.947Z"
   },
   {
    "duration": 345,
    "start_time": "2022-12-20T13:03:06.747Z"
   },
   {
    "duration": 40,
    "start_time": "2022-12-20T13:05:23.651Z"
   },
   {
    "duration": 5,
    "start_time": "2022-12-20T13:07:05.440Z"
   },
   {
    "duration": 1484,
    "start_time": "2022-12-20T13:18:29.376Z"
   },
   {
    "duration": 3,
    "start_time": "2022-12-20T13:18:30.862Z"
   },
   {
    "duration": 68,
    "start_time": "2022-12-20T13:18:30.867Z"
   },
   {
    "duration": 87,
    "start_time": "2022-12-20T13:18:30.938Z"
   },
   {
    "duration": 36,
    "start_time": "2022-12-20T13:18:31.027Z"
   },
   {
    "duration": 30,
    "start_time": "2022-12-20T13:18:31.065Z"
   },
   {
    "duration": 68,
    "start_time": "2022-12-20T13:18:31.097Z"
   },
   {
    "duration": 5,
    "start_time": "2022-12-20T13:18:31.167Z"
   },
   {
    "duration": 20,
    "start_time": "2022-12-20T13:18:31.174Z"
   },
   {
    "duration": 42,
    "start_time": "2022-12-20T13:18:31.198Z"
   },
   {
    "duration": 12,
    "start_time": "2022-12-20T13:18:31.243Z"
   },
   {
    "duration": 16,
    "start_time": "2022-12-20T13:18:31.257Z"
   },
   {
    "duration": 20,
    "start_time": "2022-12-20T13:18:31.274Z"
   },
   {
    "duration": 22,
    "start_time": "2022-12-20T13:18:31.296Z"
   },
   {
    "duration": 26,
    "start_time": "2022-12-20T13:18:31.320Z"
   },
   {
    "duration": 29,
    "start_time": "2022-12-20T13:18:31.349Z"
   },
   {
    "duration": 28,
    "start_time": "2022-12-20T13:18:31.380Z"
   },
   {
    "duration": 21,
    "start_time": "2022-12-20T13:18:31.410Z"
   },
   {
    "duration": 30,
    "start_time": "2022-12-20T13:18:31.433Z"
   },
   {
    "duration": 30,
    "start_time": "2022-12-20T13:18:31.465Z"
   },
   {
    "duration": 6,
    "start_time": "2022-12-20T13:18:31.497Z"
   },
   {
    "duration": 21,
    "start_time": "2022-12-20T13:18:31.505Z"
   },
   {
    "duration": 25,
    "start_time": "2022-12-20T13:18:31.529Z"
   },
   {
    "duration": 37,
    "start_time": "2022-12-20T13:18:31.556Z"
   },
   {
    "duration": 20,
    "start_time": "2022-12-20T13:18:31.595Z"
   },
   {
    "duration": 16,
    "start_time": "2022-12-20T13:18:31.618Z"
   },
   {
    "duration": 38,
    "start_time": "2022-12-20T13:18:31.636Z"
   },
   {
    "duration": 36,
    "start_time": "2022-12-20T13:18:31.678Z"
   },
   {
    "duration": 76,
    "start_time": "2022-12-20T13:18:31.716Z"
   },
   {
    "duration": 68,
    "start_time": "2022-12-20T13:18:31.793Z"
   },
   {
    "duration": 85,
    "start_time": "2022-12-20T13:18:31.863Z"
   },
   {
    "duration": 24,
    "start_time": "2022-12-20T13:18:31.950Z"
   },
   {
    "duration": 72,
    "start_time": "2022-12-20T13:18:31.976Z"
   },
   {
    "duration": 105,
    "start_time": "2022-12-20T13:18:32.050Z"
   },
   {
    "duration": 433,
    "start_time": "2022-12-20T13:18:32.156Z"
   },
   {
    "duration": 295,
    "start_time": "2022-12-20T13:18:32.591Z"
   },
   {
    "duration": 91,
    "start_time": "2022-12-20T13:18:32.888Z"
   },
   {
    "duration": 102,
    "start_time": "2022-12-20T13:18:32.981Z"
   },
   {
    "duration": 60,
    "start_time": "2022-12-20T13:25:49.418Z"
   },
   {
    "duration": 7,
    "start_time": "2022-12-20T13:25:51.598Z"
   },
   {
    "duration": 165,
    "start_time": "2022-12-20T13:25:59.210Z"
   },
   {
    "duration": 7,
    "start_time": "2022-12-20T13:26:05.078Z"
   },
   {
    "duration": 7,
    "start_time": "2022-12-20T13:26:15.627Z"
   },
   {
    "duration": 7,
    "start_time": "2022-12-20T13:26:18.395Z"
   },
   {
    "duration": 16,
    "start_time": "2022-12-20T13:28:53.519Z"
   },
   {
    "duration": 16,
    "start_time": "2022-12-20T13:29:03.417Z"
   },
   {
    "duration": 16,
    "start_time": "2022-12-20T13:29:15.279Z"
   },
   {
    "duration": 14,
    "start_time": "2022-12-20T13:29:20.047Z"
   },
   {
    "duration": 16,
    "start_time": "2022-12-20T13:29:46.739Z"
   },
   {
    "duration": 15,
    "start_time": "2022-12-20T13:29:50.906Z"
   },
   {
    "duration": 16,
    "start_time": "2022-12-20T13:29:52.458Z"
   },
   {
    "duration": 1561,
    "start_time": "2022-12-20T13:30:10.488Z"
   },
   {
    "duration": 3,
    "start_time": "2022-12-20T13:30:12.051Z"
   },
   {
    "duration": 37,
    "start_time": "2022-12-20T13:30:12.056Z"
   },
   {
    "duration": 78,
    "start_time": "2022-12-20T13:30:12.095Z"
   },
   {
    "duration": 15,
    "start_time": "2022-12-20T13:30:12.174Z"
   },
   {
    "duration": 59,
    "start_time": "2022-12-20T13:30:12.191Z"
   },
   {
    "duration": 52,
    "start_time": "2022-12-20T13:30:12.252Z"
   },
   {
    "duration": 4,
    "start_time": "2022-12-20T13:30:12.306Z"
   },
   {
    "duration": 7,
    "start_time": "2022-12-20T13:30:12.312Z"
   },
   {
    "duration": 16,
    "start_time": "2022-12-20T13:30:12.322Z"
   },
   {
    "duration": 5,
    "start_time": "2022-12-20T13:30:12.339Z"
   },
   {
    "duration": 36,
    "start_time": "2022-12-20T13:30:12.346Z"
   },
   {
    "duration": 12,
    "start_time": "2022-12-20T13:30:12.384Z"
   },
   {
    "duration": 11,
    "start_time": "2022-12-20T13:30:12.398Z"
   },
   {
    "duration": 13,
    "start_time": "2022-12-20T13:30:12.411Z"
   },
   {
    "duration": 9,
    "start_time": "2022-12-20T13:30:12.426Z"
   },
   {
    "duration": 25,
    "start_time": "2022-12-20T13:30:12.437Z"
   },
   {
    "duration": 17,
    "start_time": "2022-12-20T13:30:12.479Z"
   },
   {
    "duration": 35,
    "start_time": "2022-12-20T13:30:12.499Z"
   },
   {
    "duration": 34,
    "start_time": "2022-12-20T13:30:12.536Z"
   },
   {
    "duration": 7,
    "start_time": "2022-12-20T13:30:12.573Z"
   },
   {
    "duration": 12,
    "start_time": "2022-12-20T13:30:12.582Z"
   },
   {
    "duration": 13,
    "start_time": "2022-12-20T13:30:12.596Z"
   },
   {
    "duration": 8,
    "start_time": "2022-12-20T13:30:12.611Z"
   },
   {
    "duration": 11,
    "start_time": "2022-12-20T13:30:12.621Z"
   },
   {
    "duration": 12,
    "start_time": "2022-12-20T13:30:12.634Z"
   },
   {
    "duration": 24,
    "start_time": "2022-12-20T13:30:12.648Z"
   },
   {
    "duration": 15,
    "start_time": "2022-12-20T13:30:12.676Z"
   },
   {
    "duration": 19,
    "start_time": "2022-12-20T13:30:12.693Z"
   },
   {
    "duration": 18,
    "start_time": "2022-12-20T13:30:12.714Z"
   },
   {
    "duration": 37,
    "start_time": "2022-12-20T13:30:12.734Z"
   },
   {
    "duration": 13,
    "start_time": "2022-12-20T13:30:12.773Z"
   },
   {
    "duration": 34,
    "start_time": "2022-12-20T13:30:12.787Z"
   },
   {
    "duration": 23,
    "start_time": "2022-12-20T13:30:12.823Z"
   },
   {
    "duration": 371,
    "start_time": "2022-12-20T13:30:12.848Z"
   },
   {
    "duration": 227,
    "start_time": "2022-12-20T13:30:13.279Z"
   },
   {
    "duration": 119,
    "start_time": "2022-12-20T13:30:13.508Z"
   },
   {
    "duration": 0,
    "start_time": "2022-12-20T13:30:13.629Z"
   },
   {
    "duration": 0,
    "start_time": "2022-12-20T13:30:13.631Z"
   },
   {
    "duration": 0,
    "start_time": "2022-12-20T13:30:13.633Z"
   },
   {
    "duration": 0,
    "start_time": "2022-12-20T13:30:13.634Z"
   },
   {
    "duration": 1502,
    "start_time": "2022-12-20T13:30:40.368Z"
   },
   {
    "duration": 4,
    "start_time": "2022-12-20T13:30:41.873Z"
   },
   {
    "duration": 13,
    "start_time": "2022-12-20T13:30:41.879Z"
   },
   {
    "duration": 52,
    "start_time": "2022-12-20T13:30:41.896Z"
   },
   {
    "duration": 18,
    "start_time": "2022-12-20T13:30:41.950Z"
   },
   {
    "duration": 27,
    "start_time": "2022-12-20T13:30:41.970Z"
   },
   {
    "duration": 44,
    "start_time": "2022-12-20T13:30:42.000Z"
   },
   {
    "duration": 4,
    "start_time": "2022-12-20T13:30:42.046Z"
   },
   {
    "duration": 12,
    "start_time": "2022-12-20T13:30:42.078Z"
   },
   {
    "duration": 16,
    "start_time": "2022-12-20T13:30:42.093Z"
   },
   {
    "duration": 16,
    "start_time": "2022-12-20T13:30:42.111Z"
   },
   {
    "duration": 16,
    "start_time": "2022-12-20T13:30:42.130Z"
   },
   {
    "duration": 12,
    "start_time": "2022-12-20T13:30:42.149Z"
   },
   {
    "duration": 25,
    "start_time": "2022-12-20T13:30:42.164Z"
   },
   {
    "duration": 7,
    "start_time": "2022-12-20T13:30:42.191Z"
   },
   {
    "duration": 8,
    "start_time": "2022-12-20T13:30:42.200Z"
   },
   {
    "duration": 19,
    "start_time": "2022-12-20T13:30:42.210Z"
   },
   {
    "duration": 20,
    "start_time": "2022-12-20T13:30:42.232Z"
   },
   {
    "duration": 15,
    "start_time": "2022-12-20T13:30:42.279Z"
   },
   {
    "duration": 17,
    "start_time": "2022-12-20T13:30:42.297Z"
   },
   {
    "duration": 7,
    "start_time": "2022-12-20T13:30:42.320Z"
   },
   {
    "duration": 12,
    "start_time": "2022-12-20T13:30:42.329Z"
   },
   {
    "duration": 36,
    "start_time": "2022-12-20T13:30:42.344Z"
   },
   {
    "duration": 8,
    "start_time": "2022-12-20T13:30:42.383Z"
   },
   {
    "duration": 16,
    "start_time": "2022-12-20T13:30:42.393Z"
   },
   {
    "duration": 35,
    "start_time": "2022-12-20T13:30:42.411Z"
   },
   {
    "duration": 23,
    "start_time": "2022-12-20T13:30:42.449Z"
   },
   {
    "duration": 49,
    "start_time": "2022-12-20T13:30:42.476Z"
   },
   {
    "duration": 33,
    "start_time": "2022-12-20T13:30:42.527Z"
   },
   {
    "duration": 40,
    "start_time": "2022-12-20T13:30:42.562Z"
   },
   {
    "duration": 59,
    "start_time": "2022-12-20T13:30:42.604Z"
   },
   {
    "duration": 17,
    "start_time": "2022-12-20T13:30:42.665Z"
   },
   {
    "duration": 35,
    "start_time": "2022-12-20T13:30:42.684Z"
   },
   {
    "duration": 48,
    "start_time": "2022-12-20T13:30:42.722Z"
   },
   {
    "duration": 444,
    "start_time": "2022-12-20T13:30:42.772Z"
   },
   {
    "duration": 311,
    "start_time": "2022-12-20T13:30:43.218Z"
   },
   {
    "duration": 48,
    "start_time": "2022-12-20T13:30:43.532Z"
   },
   {
    "duration": 93,
    "start_time": "2022-12-20T13:30:43.592Z"
   },
   {
    "duration": 98,
    "start_time": "2022-12-20T13:30:43.687Z"
   },
   {
    "duration": 15,
    "start_time": "2022-12-20T13:30:43.787Z"
   },
   {
    "duration": 18,
    "start_time": "2022-12-20T13:30:43.804Z"
   },
   {
    "duration": 8,
    "start_time": "2022-12-20T14:04:22.871Z"
   },
   {
    "duration": 29,
    "start_time": "2022-12-20T14:04:47.375Z"
   },
   {
    "duration": 23,
    "start_time": "2022-12-20T14:05:05.419Z"
   },
   {
    "duration": 105,
    "start_time": "2022-12-20T14:42:20.506Z"
   },
   {
    "duration": 115,
    "start_time": "2022-12-20T14:42:27.719Z"
   },
   {
    "duration": 122,
    "start_time": "2022-12-20T14:42:32.226Z"
   },
   {
    "duration": 106,
    "start_time": "2022-12-20T14:42:38.987Z"
   },
   {
    "duration": 1435,
    "start_time": "2022-12-20T14:43:43.526Z"
   },
   {
    "duration": 3,
    "start_time": "2022-12-20T14:43:44.964Z"
   },
   {
    "duration": 16,
    "start_time": "2022-12-20T14:43:44.969Z"
   },
   {
    "duration": 50,
    "start_time": "2022-12-20T14:43:44.987Z"
   },
   {
    "duration": 15,
    "start_time": "2022-12-20T14:43:45.038Z"
   },
   {
    "duration": 18,
    "start_time": "2022-12-20T14:43:45.056Z"
   },
   {
    "duration": 43,
    "start_time": "2022-12-20T14:43:45.076Z"
   },
   {
    "duration": 4,
    "start_time": "2022-12-20T14:43:45.121Z"
   },
   {
    "duration": 5,
    "start_time": "2022-12-20T14:43:45.127Z"
   },
   {
    "duration": 13,
    "start_time": "2022-12-20T14:43:45.135Z"
   },
   {
    "duration": 30,
    "start_time": "2022-12-20T14:43:45.150Z"
   },
   {
    "duration": 11,
    "start_time": "2022-12-20T14:43:45.182Z"
   },
   {
    "duration": 8,
    "start_time": "2022-12-20T14:43:45.195Z"
   },
   {
    "duration": 9,
    "start_time": "2022-12-20T14:43:45.205Z"
   },
   {
    "duration": 7,
    "start_time": "2022-12-20T14:43:45.215Z"
   },
   {
    "duration": 3,
    "start_time": "2022-12-20T14:43:45.224Z"
   },
   {
    "duration": 14,
    "start_time": "2022-12-20T14:43:45.229Z"
   },
   {
    "duration": 39,
    "start_time": "2022-12-20T14:43:45.244Z"
   },
   {
    "duration": 12,
    "start_time": "2022-12-20T14:43:45.285Z"
   },
   {
    "duration": 11,
    "start_time": "2022-12-20T14:43:45.299Z"
   },
   {
    "duration": 5,
    "start_time": "2022-12-20T14:43:45.311Z"
   },
   {
    "duration": 8,
    "start_time": "2022-12-20T14:43:45.318Z"
   },
   {
    "duration": 5,
    "start_time": "2022-12-20T14:43:45.328Z"
   },
   {
    "duration": 5,
    "start_time": "2022-12-20T14:43:45.335Z"
   },
   {
    "duration": 38,
    "start_time": "2022-12-20T14:43:45.341Z"
   },
   {
    "duration": 2,
    "start_time": "2022-12-20T14:43:45.381Z"
   },
   {
    "duration": 13,
    "start_time": "2022-12-20T14:43:45.385Z"
   },
   {
    "duration": 10,
    "start_time": "2022-12-20T14:43:45.402Z"
   },
   {
    "duration": 14,
    "start_time": "2022-12-20T14:43:45.413Z"
   },
   {
    "duration": 13,
    "start_time": "2022-12-20T14:43:45.429Z"
   },
   {
    "duration": 45,
    "start_time": "2022-12-20T14:43:45.444Z"
   },
   {
    "duration": 11,
    "start_time": "2022-12-20T14:43:45.491Z"
   },
   {
    "duration": 16,
    "start_time": "2022-12-20T14:43:45.503Z"
   },
   {
    "duration": 12,
    "start_time": "2022-12-20T14:43:45.521Z"
   },
   {
    "duration": 346,
    "start_time": "2022-12-20T14:43:45.535Z"
   },
   {
    "duration": 322,
    "start_time": "2022-12-20T14:43:45.883Z"
   },
   {
    "duration": 71,
    "start_time": "2022-12-20T14:43:46.207Z"
   },
   {
    "duration": 7,
    "start_time": "2022-12-20T14:43:46.280Z"
   },
   {
    "duration": 103,
    "start_time": "2022-12-20T14:43:46.289Z"
   },
   {
    "duration": 10,
    "start_time": "2022-12-20T14:43:46.394Z"
   },
   {
    "duration": 10,
    "start_time": "2022-12-20T14:43:46.406Z"
   },
   {
    "duration": 133,
    "start_time": "2022-12-20T14:43:46.418Z"
   },
   {
    "duration": 665,
    "start_time": "2022-12-20T14:45:26.194Z"
   },
   {
    "duration": 519,
    "start_time": "2022-12-20T14:46:41.359Z"
   },
   {
    "duration": 497,
    "start_time": "2022-12-20T14:46:53.750Z"
   },
   {
    "duration": 1409,
    "start_time": "2022-12-20T14:47:10.623Z"
   },
   {
    "duration": 4,
    "start_time": "2022-12-20T14:47:12.035Z"
   },
   {
    "duration": 41,
    "start_time": "2022-12-20T14:47:12.041Z"
   },
   {
    "duration": 80,
    "start_time": "2022-12-20T14:47:12.085Z"
   },
   {
    "duration": 18,
    "start_time": "2022-12-20T14:47:12.167Z"
   },
   {
    "duration": 73,
    "start_time": "2022-12-20T14:47:12.187Z"
   },
   {
    "duration": 78,
    "start_time": "2022-12-20T14:47:12.261Z"
   },
   {
    "duration": 4,
    "start_time": "2022-12-20T14:47:12.340Z"
   },
   {
    "duration": 50,
    "start_time": "2022-12-20T14:47:12.346Z"
   },
   {
    "duration": 45,
    "start_time": "2022-12-20T14:47:12.399Z"
   },
   {
    "duration": 34,
    "start_time": "2022-12-20T14:47:12.446Z"
   },
   {
    "duration": 30,
    "start_time": "2022-12-20T14:47:12.482Z"
   },
   {
    "duration": 176,
    "start_time": "2022-12-20T14:47:12.513Z"
   },
   {
    "duration": 84,
    "start_time": "2022-12-20T14:47:12.691Z"
   },
   {
    "duration": 48,
    "start_time": "2022-12-20T14:47:12.776Z"
   },
   {
    "duration": 27,
    "start_time": "2022-12-20T14:47:12.826Z"
   },
   {
    "duration": 47,
    "start_time": "2022-12-20T14:47:12.855Z"
   },
   {
    "duration": 35,
    "start_time": "2022-12-20T14:47:12.904Z"
   },
   {
    "duration": 50,
    "start_time": "2022-12-20T14:47:12.941Z"
   },
   {
    "duration": 49,
    "start_time": "2022-12-20T14:47:12.993Z"
   },
   {
    "duration": 42,
    "start_time": "2022-12-20T14:47:13.044Z"
   },
   {
    "duration": 30,
    "start_time": "2022-12-20T14:47:13.088Z"
   },
   {
    "duration": 49,
    "start_time": "2022-12-20T14:47:13.120Z"
   },
   {
    "duration": 31,
    "start_time": "2022-12-20T14:47:13.172Z"
   },
   {
    "duration": 55,
    "start_time": "2022-12-20T14:47:13.205Z"
   },
   {
    "duration": 55,
    "start_time": "2022-12-20T14:47:13.261Z"
   },
   {
    "duration": 55,
    "start_time": "2022-12-20T14:47:13.318Z"
   },
   {
    "duration": 42,
    "start_time": "2022-12-20T14:47:13.376Z"
   },
   {
    "duration": 47,
    "start_time": "2022-12-20T14:47:13.420Z"
   },
   {
    "duration": 56,
    "start_time": "2022-12-20T14:47:13.468Z"
   },
   {
    "duration": 64,
    "start_time": "2022-12-20T14:47:13.526Z"
   },
   {
    "duration": 33,
    "start_time": "2022-12-20T14:47:13.593Z"
   },
   {
    "duration": 40,
    "start_time": "2022-12-20T14:47:13.628Z"
   },
   {
    "duration": 29,
    "start_time": "2022-12-20T14:47:13.670Z"
   },
   {
    "duration": 579,
    "start_time": "2022-12-20T14:47:13.701Z"
   },
   {
    "duration": 220,
    "start_time": "2022-12-20T14:47:14.282Z"
   },
   {
    "duration": 80,
    "start_time": "2022-12-20T14:47:14.504Z"
   },
   {
    "duration": 106,
    "start_time": "2022-12-20T14:47:14.587Z"
   },
   {
    "duration": 24,
    "start_time": "2022-12-20T14:47:14.695Z"
   },
   {
    "duration": 32,
    "start_time": "2022-12-20T14:47:14.721Z"
   },
   {
    "duration": 48,
    "start_time": "2022-12-20T14:47:14.756Z"
   },
   {
    "duration": 726,
    "start_time": "2022-12-20T14:47:14.806Z"
   },
   {
    "duration": 724,
    "start_time": "2022-12-20T14:47:54.483Z"
   },
   {
    "duration": 728,
    "start_time": "2022-12-20T14:48:07.027Z"
   },
   {
    "duration": 488,
    "start_time": "2022-12-20T14:48:28.651Z"
   },
   {
    "duration": 233,
    "start_time": "2022-12-20T14:48:43.740Z"
   },
   {
    "duration": 718,
    "start_time": "2022-12-20T14:49:03.044Z"
   },
   {
    "duration": 114,
    "start_time": "2022-12-20T14:49:52.148Z"
   },
   {
    "duration": 285,
    "start_time": "2022-12-20T14:51:35.476Z"
   },
   {
    "duration": 322,
    "start_time": "2022-12-20T14:51:47.884Z"
   },
   {
    "duration": 334,
    "start_time": "2022-12-20T14:52:04.472Z"
   },
   {
    "duration": 354,
    "start_time": "2022-12-20T14:52:11.264Z"
   },
   {
    "duration": 518,
    "start_time": "2022-12-20T15:52:31.061Z"
   },
   {
    "duration": 126,
    "start_time": "2022-12-20T15:56:24.735Z"
   },
   {
    "duration": 635,
    "start_time": "2022-12-20T15:57:00.443Z"
   },
   {
    "duration": 17,
    "start_time": "2022-12-20T16:03:18.928Z"
   },
   {
    "duration": 16,
    "start_time": "2022-12-20T16:03:28.644Z"
   },
   {
    "duration": 377,
    "start_time": "2022-12-20T16:06:28.121Z"
   },
   {
    "duration": 1400,
    "start_time": "2022-12-20T16:06:50.628Z"
   },
   {
    "duration": 3,
    "start_time": "2022-12-20T16:06:52.030Z"
   },
   {
    "duration": 10,
    "start_time": "2022-12-20T16:06:52.034Z"
   },
   {
    "duration": 55,
    "start_time": "2022-12-20T16:06:52.047Z"
   },
   {
    "duration": 16,
    "start_time": "2022-12-20T16:06:52.104Z"
   },
   {
    "duration": 20,
    "start_time": "2022-12-20T16:06:52.122Z"
   },
   {
    "duration": 68,
    "start_time": "2022-12-20T16:06:52.144Z"
   },
   {
    "duration": 4,
    "start_time": "2022-12-20T16:06:52.213Z"
   },
   {
    "duration": 7,
    "start_time": "2022-12-20T16:06:52.219Z"
   },
   {
    "duration": 16,
    "start_time": "2022-12-20T16:06:52.229Z"
   },
   {
    "duration": 5,
    "start_time": "2022-12-20T16:06:52.247Z"
   },
   {
    "duration": 29,
    "start_time": "2022-12-20T16:06:52.253Z"
   },
   {
    "duration": 6,
    "start_time": "2022-12-20T16:06:52.283Z"
   },
   {
    "duration": 29,
    "start_time": "2022-12-20T16:06:52.291Z"
   },
   {
    "duration": 21,
    "start_time": "2022-12-20T16:06:52.322Z"
   },
   {
    "duration": 6,
    "start_time": "2022-12-20T16:06:52.345Z"
   },
   {
    "duration": 39,
    "start_time": "2022-12-20T16:06:52.354Z"
   },
   {
    "duration": 29,
    "start_time": "2022-12-20T16:06:52.395Z"
   },
   {
    "duration": 17,
    "start_time": "2022-12-20T16:06:52.427Z"
   },
   {
    "duration": 16,
    "start_time": "2022-12-20T16:06:52.446Z"
   },
   {
    "duration": 19,
    "start_time": "2022-12-20T16:06:52.465Z"
   },
   {
    "duration": 27,
    "start_time": "2022-12-20T16:06:52.487Z"
   },
   {
    "duration": 35,
    "start_time": "2022-12-20T16:06:52.516Z"
   },
   {
    "duration": 29,
    "start_time": "2022-12-20T16:06:52.553Z"
   },
   {
    "duration": 47,
    "start_time": "2022-12-20T16:06:52.586Z"
   },
   {
    "duration": 17,
    "start_time": "2022-12-20T16:06:52.634Z"
   },
   {
    "duration": 44,
    "start_time": "2022-12-20T16:06:52.653Z"
   },
   {
    "duration": 36,
    "start_time": "2022-12-20T16:06:52.701Z"
   },
   {
    "duration": 34,
    "start_time": "2022-12-20T16:06:52.739Z"
   },
   {
    "duration": 37,
    "start_time": "2022-12-20T16:06:52.776Z"
   },
   {
    "duration": 48,
    "start_time": "2022-12-20T16:06:52.815Z"
   },
   {
    "duration": 20,
    "start_time": "2022-12-20T16:06:52.865Z"
   },
   {
    "duration": 18,
    "start_time": "2022-12-20T16:06:52.890Z"
   },
   {
    "duration": 12,
    "start_time": "2022-12-20T16:06:52.910Z"
   },
   {
    "duration": 578,
    "start_time": "2022-12-20T16:06:52.925Z"
   },
   {
    "duration": 217,
    "start_time": "2022-12-20T16:06:53.585Z"
   },
   {
    "duration": 81,
    "start_time": "2022-12-20T16:06:53.804Z"
   },
   {
    "duration": 10,
    "start_time": "2022-12-20T16:06:53.886Z"
   },
   {
    "duration": 111,
    "start_time": "2022-12-20T16:06:53.898Z"
   },
   {
    "duration": 21,
    "start_time": "2022-12-20T16:06:54.011Z"
   },
   {
    "duration": 25,
    "start_time": "2022-12-20T16:06:54.034Z"
   },
   {
    "duration": 374,
    "start_time": "2022-12-20T16:06:54.061Z"
   },
   {
    "duration": 546,
    "start_time": "2022-12-20T16:06:54.438Z"
   },
   {
    "duration": 97,
    "start_time": "2022-12-20T16:06:54.986Z"
   },
   {
    "duration": 316,
    "start_time": "2022-12-20T16:06:55.087Z"
   },
   {
    "duration": 13,
    "start_time": "2022-12-20T16:09:11.775Z"
   },
   {
    "duration": 670,
    "start_time": "2022-12-20T16:10:35.809Z"
   },
   {
    "duration": 82,
    "start_time": "2022-12-20T16:12:05.701Z"
   },
   {
    "duration": 1397,
    "start_time": "2022-12-20T16:12:14.411Z"
   },
   {
    "duration": 3,
    "start_time": "2022-12-20T16:12:15.810Z"
   },
   {
    "duration": 8,
    "start_time": "2022-12-20T16:12:15.815Z"
   },
   {
    "duration": 42,
    "start_time": "2022-12-20T16:12:15.825Z"
   },
   {
    "duration": 13,
    "start_time": "2022-12-20T16:12:15.869Z"
   },
   {
    "duration": 16,
    "start_time": "2022-12-20T16:12:15.884Z"
   },
   {
    "duration": 41,
    "start_time": "2022-12-20T16:12:15.903Z"
   },
   {
    "duration": 4,
    "start_time": "2022-12-20T16:12:15.945Z"
   },
   {
    "duration": 9,
    "start_time": "2022-12-20T16:12:15.951Z"
   },
   {
    "duration": 13,
    "start_time": "2022-12-20T16:12:15.978Z"
   },
   {
    "duration": 5,
    "start_time": "2022-12-20T16:12:15.992Z"
   },
   {
    "duration": 10,
    "start_time": "2022-12-20T16:12:15.998Z"
   },
   {
    "duration": 6,
    "start_time": "2022-12-20T16:12:16.009Z"
   },
   {
    "duration": 12,
    "start_time": "2022-12-20T16:12:16.017Z"
   },
   {
    "duration": 7,
    "start_time": "2022-12-20T16:12:16.030Z"
   },
   {
    "duration": 7,
    "start_time": "2022-12-20T16:12:16.039Z"
   },
   {
    "duration": 15,
    "start_time": "2022-12-20T16:12:16.048Z"
   },
   {
    "duration": 11,
    "start_time": "2022-12-20T16:12:16.065Z"
   },
   {
    "duration": 11,
    "start_time": "2022-12-20T16:12:16.078Z"
   },
   {
    "duration": 11,
    "start_time": "2022-12-20T16:12:16.091Z"
   },
   {
    "duration": 4,
    "start_time": "2022-12-20T16:12:16.104Z"
   },
   {
    "duration": 7,
    "start_time": "2022-12-20T16:12:16.110Z"
   },
   {
    "duration": 13,
    "start_time": "2022-12-20T16:12:16.118Z"
   },
   {
    "duration": 14,
    "start_time": "2022-12-20T16:12:16.133Z"
   },
   {
    "duration": 6,
    "start_time": "2022-12-20T16:12:16.149Z"
   },
   {
    "duration": 5,
    "start_time": "2022-12-20T16:12:16.156Z"
   },
   {
    "duration": 14,
    "start_time": "2022-12-20T16:12:16.162Z"
   },
   {
    "duration": 11,
    "start_time": "2022-12-20T16:12:16.180Z"
   },
   {
    "duration": 17,
    "start_time": "2022-12-20T16:12:16.192Z"
   },
   {
    "duration": 17,
    "start_time": "2022-12-20T16:12:16.210Z"
   },
   {
    "duration": 31,
    "start_time": "2022-12-20T16:12:16.229Z"
   },
   {
    "duration": 11,
    "start_time": "2022-12-20T16:12:16.262Z"
   },
   {
    "duration": 17,
    "start_time": "2022-12-20T16:12:16.275Z"
   },
   {
    "duration": 26,
    "start_time": "2022-12-20T16:12:16.294Z"
   },
   {
    "duration": 757,
    "start_time": "2022-12-20T16:12:16.322Z"
   },
   {
    "duration": 164,
    "start_time": "2022-12-20T16:12:17.080Z"
   },
   {
    "duration": 49,
    "start_time": "2022-12-20T16:12:17.246Z"
   },
   {
    "duration": 83,
    "start_time": "2022-12-20T16:12:17.297Z"
   },
   {
    "duration": 120,
    "start_time": "2022-12-20T16:12:17.382Z"
   },
   {
    "duration": 39,
    "start_time": "2022-12-20T16:12:17.504Z"
   },
   {
    "duration": 29,
    "start_time": "2022-12-20T16:12:17.545Z"
   },
   {
    "duration": 408,
    "start_time": "2022-12-20T16:12:17.576Z"
   },
   {
    "duration": 499,
    "start_time": "2022-12-20T16:12:17.985Z"
   },
   {
    "duration": 99,
    "start_time": "2022-12-20T16:12:18.486Z"
   },
   {
    "duration": 302,
    "start_time": "2022-12-20T16:12:18.587Z"
   },
   {
    "duration": 99,
    "start_time": "2022-12-20T16:12:18.979Z"
   },
   {
    "duration": 635,
    "start_time": "2022-12-20T16:12:19.080Z"
   },
   {
    "duration": 1364,
    "start_time": "2022-12-20T16:12:46.845Z"
   },
   {
    "duration": 3,
    "start_time": "2022-12-20T16:12:48.211Z"
   },
   {
    "duration": 9,
    "start_time": "2022-12-20T16:12:48.216Z"
   },
   {
    "duration": 45,
    "start_time": "2022-12-20T16:12:48.227Z"
   },
   {
    "duration": 12,
    "start_time": "2022-12-20T16:12:48.274Z"
   },
   {
    "duration": 19,
    "start_time": "2022-12-20T16:12:48.288Z"
   },
   {
    "duration": 46,
    "start_time": "2022-12-20T16:12:48.309Z"
   },
   {
    "duration": 21,
    "start_time": "2022-12-20T16:12:48.357Z"
   },
   {
    "duration": 2,
    "start_time": "2022-12-20T16:12:48.380Z"
   },
   {
    "duration": 23,
    "start_time": "2022-12-20T16:12:48.387Z"
   },
   {
    "duration": 5,
    "start_time": "2022-12-20T16:12:48.412Z"
   },
   {
    "duration": 9,
    "start_time": "2022-12-20T16:12:48.418Z"
   },
   {
    "duration": 9,
    "start_time": "2022-12-20T16:12:48.429Z"
   },
   {
    "duration": 11,
    "start_time": "2022-12-20T16:12:48.439Z"
   },
   {
    "duration": 27,
    "start_time": "2022-12-20T16:12:48.452Z"
   },
   {
    "duration": 5,
    "start_time": "2022-12-20T16:12:48.481Z"
   },
   {
    "duration": 19,
    "start_time": "2022-12-20T16:12:48.488Z"
   },
   {
    "duration": 14,
    "start_time": "2022-12-20T16:12:48.509Z"
   },
   {
    "duration": 13,
    "start_time": "2022-12-20T16:12:48.525Z"
   },
   {
    "duration": 41,
    "start_time": "2022-12-20T16:12:48.540Z"
   },
   {
    "duration": 6,
    "start_time": "2022-12-20T16:12:48.583Z"
   },
   {
    "duration": 10,
    "start_time": "2022-12-20T16:12:48.590Z"
   },
   {
    "duration": 10,
    "start_time": "2022-12-20T16:12:48.602Z"
   },
   {
    "duration": 6,
    "start_time": "2022-12-20T16:12:48.614Z"
   },
   {
    "duration": 9,
    "start_time": "2022-12-20T16:12:48.622Z"
   },
   {
    "duration": 6,
    "start_time": "2022-12-20T16:12:48.632Z"
   },
   {
    "duration": 18,
    "start_time": "2022-12-20T16:12:48.639Z"
   },
   {
    "duration": 13,
    "start_time": "2022-12-20T16:12:48.679Z"
   },
   {
    "duration": 22,
    "start_time": "2022-12-20T16:12:48.694Z"
   },
   {
    "duration": 16,
    "start_time": "2022-12-20T16:12:48.718Z"
   },
   {
    "duration": 26,
    "start_time": "2022-12-20T16:12:48.736Z"
   },
   {
    "duration": 23,
    "start_time": "2022-12-20T16:12:48.764Z"
   },
   {
    "duration": 25,
    "start_time": "2022-12-20T16:12:48.789Z"
   },
   {
    "duration": 17,
    "start_time": "2022-12-20T16:12:48.815Z"
   },
   {
    "duration": 548,
    "start_time": "2022-12-20T16:12:48.834Z"
   },
   {
    "duration": 216,
    "start_time": "2022-12-20T16:12:49.384Z"
   },
   {
    "duration": 82,
    "start_time": "2022-12-20T16:12:49.601Z"
   },
   {
    "duration": 92,
    "start_time": "2022-12-20T16:12:49.686Z"
   },
   {
    "duration": 14,
    "start_time": "2022-12-20T16:12:49.780Z"
   },
   {
    "duration": 13,
    "start_time": "2022-12-20T16:12:49.797Z"
   },
   {
    "duration": 66,
    "start_time": "2022-12-20T16:12:49.812Z"
   },
   {
    "duration": 335,
    "start_time": "2022-12-20T16:12:49.880Z"
   },
   {
    "duration": 462,
    "start_time": "2022-12-20T16:12:50.216Z"
   },
   {
    "duration": 100,
    "start_time": "2022-12-20T16:12:50.679Z"
   },
   {
    "duration": 349,
    "start_time": "2022-12-20T16:12:50.780Z"
   },
   {
    "duration": 99,
    "start_time": "2022-12-20T16:12:51.179Z"
   },
   {
    "duration": 599,
    "start_time": "2022-12-20T16:12:51.280Z"
   },
   {
    "duration": 0,
    "start_time": "2022-12-20T18:27:38.100Z"
   },
   {
    "duration": 15127,
    "start_time": "2022-12-20T18:27:42.838Z"
   },
   {
    "duration": 14748,
    "start_time": "2022-12-20T18:28:29.025Z"
   },
   {
    "duration": 14428,
    "start_time": "2022-12-20T18:28:46.697Z"
   },
   {
    "duration": 14557,
    "start_time": "2022-12-20T18:29:19.493Z"
   },
   {
    "duration": 14607,
    "start_time": "2022-12-20T18:29:53.627Z"
   },
   {
    "duration": 15077,
    "start_time": "2022-12-20T18:30:12.457Z"
   },
   {
    "duration": 4127,
    "start_time": "2022-12-20T18:40:18.116Z"
   },
   {
    "duration": 4404,
    "start_time": "2022-12-20T18:40:30.940Z"
   },
   {
    "duration": 298,
    "start_time": "2022-12-20T18:45:14.800Z"
   },
   {
    "duration": 307,
    "start_time": "2022-12-20T18:46:19.321Z"
   },
   {
    "duration": 10,
    "start_time": "2022-12-20T18:47:23.349Z"
   },
   {
    "duration": 412,
    "start_time": "2022-12-20T18:47:40.504Z"
   },
   {
    "duration": 157,
    "start_time": "2022-12-20T18:48:25.161Z"
   },
   {
    "duration": 201,
    "start_time": "2022-12-20T20:40:16.721Z"
   },
   {
    "duration": 307,
    "start_time": "2022-12-20T20:40:36.026Z"
   },
   {
    "duration": 290,
    "start_time": "2022-12-20T20:40:36.495Z"
   },
   {
    "duration": 422,
    "start_time": "2022-12-20T20:40:37.378Z"
   },
   {
    "duration": 156,
    "start_time": "2022-12-20T20:40:38.398Z"
   },
   {
    "duration": 340,
    "start_time": "2022-12-20T20:40:40.254Z"
   },
   {
    "duration": 362,
    "start_time": "2022-12-20T20:41:03.975Z"
   },
   {
    "duration": 333,
    "start_time": "2022-12-20T20:41:37.547Z"
   },
   {
    "duration": 1349,
    "start_time": "2022-12-20T20:58:54.490Z"
   },
   {
    "duration": 4,
    "start_time": "2022-12-20T20:58:55.841Z"
   },
   {
    "duration": 21,
    "start_time": "2022-12-20T20:58:55.846Z"
   },
   {
    "duration": 52,
    "start_time": "2022-12-20T20:58:55.869Z"
   },
   {
    "duration": 13,
    "start_time": "2022-12-20T20:58:55.924Z"
   },
   {
    "duration": 21,
    "start_time": "2022-12-20T20:58:55.939Z"
   },
   {
    "duration": 51,
    "start_time": "2022-12-20T20:58:55.962Z"
   },
   {
    "duration": 4,
    "start_time": "2022-12-20T20:58:56.014Z"
   },
   {
    "duration": 20,
    "start_time": "2022-12-20T20:58:56.019Z"
   },
   {
    "duration": 23,
    "start_time": "2022-12-20T20:58:56.042Z"
   },
   {
    "duration": 21,
    "start_time": "2022-12-20T20:58:56.068Z"
   },
   {
    "duration": 29,
    "start_time": "2022-12-20T20:58:56.091Z"
   },
   {
    "duration": 37,
    "start_time": "2022-12-20T20:58:56.122Z"
   },
   {
    "duration": 32,
    "start_time": "2022-12-20T20:58:56.161Z"
   },
   {
    "duration": 38,
    "start_time": "2022-12-20T20:58:56.195Z"
   },
   {
    "duration": 14,
    "start_time": "2022-12-20T20:58:56.235Z"
   },
   {
    "duration": 52,
    "start_time": "2022-12-20T20:58:56.251Z"
   },
   {
    "duration": 41,
    "start_time": "2022-12-20T20:58:56.305Z"
   },
   {
    "duration": 50,
    "start_time": "2022-12-20T20:58:56.347Z"
   },
   {
    "duration": 18,
    "start_time": "2022-12-20T20:58:56.398Z"
   },
   {
    "duration": 21,
    "start_time": "2022-12-20T20:58:56.418Z"
   },
   {
    "duration": 18,
    "start_time": "2022-12-20T20:58:56.441Z"
   },
   {
    "duration": 13,
    "start_time": "2022-12-20T20:58:56.461Z"
   },
   {
    "duration": 19,
    "start_time": "2022-12-20T20:58:56.476Z"
   },
   {
    "duration": 33,
    "start_time": "2022-12-20T20:58:56.496Z"
   },
   {
    "duration": 9,
    "start_time": "2022-12-20T20:58:56.531Z"
   },
   {
    "duration": 39,
    "start_time": "2022-12-20T20:58:56.542Z"
   },
   {
    "duration": 16,
    "start_time": "2022-12-20T20:58:56.584Z"
   },
   {
    "duration": 29,
    "start_time": "2022-12-20T20:58:56.602Z"
   },
   {
    "duration": 28,
    "start_time": "2022-12-20T20:58:56.632Z"
   },
   {
    "duration": 40,
    "start_time": "2022-12-20T20:58:56.662Z"
   },
   {
    "duration": 14,
    "start_time": "2022-12-20T20:58:56.705Z"
   },
   {
    "duration": 33,
    "start_time": "2022-12-20T20:58:56.721Z"
   },
   {
    "duration": 39,
    "start_time": "2022-12-20T20:58:56.756Z"
   },
   {
    "duration": 485,
    "start_time": "2022-12-20T20:58:56.797Z"
   },
   {
    "duration": 308,
    "start_time": "2022-12-20T20:58:57.283Z"
   },
   {
    "duration": 86,
    "start_time": "2022-12-20T20:58:57.593Z"
   },
   {
    "duration": 98,
    "start_time": "2022-12-20T20:58:57.681Z"
   },
   {
    "duration": 29,
    "start_time": "2022-12-20T20:58:57.781Z"
   },
   {
    "duration": 30,
    "start_time": "2022-12-20T20:58:57.812Z"
   },
   {
    "duration": 27,
    "start_time": "2022-12-20T20:58:57.844Z"
   },
   {
    "duration": 342,
    "start_time": "2022-12-20T20:58:57.873Z"
   },
   {
    "duration": 464,
    "start_time": "2022-12-20T20:58:58.216Z"
   },
   {
    "duration": 103,
    "start_time": "2022-12-20T20:58:58.683Z"
   },
   {
    "duration": 318,
    "start_time": "2022-12-20T20:58:58.788Z"
   },
   {
    "duration": 101,
    "start_time": "2022-12-20T20:58:59.178Z"
   },
   {
    "duration": 618,
    "start_time": "2022-12-20T20:58:59.280Z"
   },
   {
    "duration": 15236,
    "start_time": "2022-12-20T20:58:59.901Z"
   },
   {
    "duration": 4233,
    "start_time": "2022-12-20T20:59:15.138Z"
   },
   {
    "duration": 324,
    "start_time": "2022-12-20T20:59:19.373Z"
   },
   {
    "duration": 305,
    "start_time": "2022-12-20T20:59:19.698Z"
   },
   {
    "duration": 444,
    "start_time": "2022-12-20T20:59:20.004Z"
   },
   {
    "duration": 165,
    "start_time": "2022-12-20T20:59:20.450Z"
   },
   {
    "duration": 343,
    "start_time": "2022-12-20T20:59:20.616Z"
   },
   {
    "duration": 2010,
    "start_time": "2022-12-21T15:40:17.987Z"
   },
   {
    "duration": 9,
    "start_time": "2022-12-21T15:40:20.000Z"
   },
   {
    "duration": 57,
    "start_time": "2022-12-21T15:40:20.011Z"
   },
   {
    "duration": 141,
    "start_time": "2022-12-21T15:40:20.070Z"
   },
   {
    "duration": 19,
    "start_time": "2022-12-21T15:40:20.214Z"
   },
   {
    "duration": 54,
    "start_time": "2022-12-21T15:40:20.236Z"
   },
   {
    "duration": 64,
    "start_time": "2022-12-21T15:40:20.291Z"
   },
   {
    "duration": 3,
    "start_time": "2022-12-21T15:40:20.356Z"
   },
   {
    "duration": 9,
    "start_time": "2022-12-21T15:40:20.361Z"
   },
   {
    "duration": 33,
    "start_time": "2022-12-21T15:40:20.373Z"
   },
   {
    "duration": 19,
    "start_time": "2022-12-21T15:40:20.408Z"
   },
   {
    "duration": 38,
    "start_time": "2022-12-21T15:40:20.429Z"
   },
   {
    "duration": 18,
    "start_time": "2022-12-21T15:40:20.469Z"
   },
   {
    "duration": 74,
    "start_time": "2022-12-21T15:40:20.489Z"
   },
   {
    "duration": 25,
    "start_time": "2022-12-21T15:40:20.566Z"
   },
   {
    "duration": 43,
    "start_time": "2022-12-21T15:40:20.593Z"
   },
   {
    "duration": 32,
    "start_time": "2022-12-21T15:40:20.638Z"
   },
   {
    "duration": 17,
    "start_time": "2022-12-21T15:40:20.672Z"
   },
   {
    "duration": 52,
    "start_time": "2022-12-21T15:40:20.690Z"
   },
   {
    "duration": 25,
    "start_time": "2022-12-21T15:40:20.744Z"
   },
   {
    "duration": 10,
    "start_time": "2022-12-21T15:40:20.771Z"
   },
   {
    "duration": 51,
    "start_time": "2022-12-21T15:40:20.783Z"
   },
   {
    "duration": 22,
    "start_time": "2022-12-21T15:40:20.835Z"
   },
   {
    "duration": 31,
    "start_time": "2022-12-21T15:40:20.858Z"
   },
   {
    "duration": 44,
    "start_time": "2022-12-21T15:40:20.891Z"
   },
   {
    "duration": 87,
    "start_time": "2022-12-21T15:40:20.937Z"
   },
   {
    "duration": 33,
    "start_time": "2022-12-21T15:40:21.027Z"
   },
   {
    "duration": 82,
    "start_time": "2022-12-21T15:40:21.063Z"
   },
   {
    "duration": 45,
    "start_time": "2022-12-21T15:40:21.147Z"
   },
   {
    "duration": 73,
    "start_time": "2022-12-21T15:40:21.193Z"
   },
   {
    "duration": 80,
    "start_time": "2022-12-21T15:40:21.268Z"
   },
   {
    "duration": 21,
    "start_time": "2022-12-21T15:40:21.350Z"
   },
   {
    "duration": 34,
    "start_time": "2022-12-21T15:40:21.373Z"
   },
   {
    "duration": 70,
    "start_time": "2022-12-21T15:40:21.409Z"
   },
   {
    "duration": 648,
    "start_time": "2022-12-21T15:40:21.481Z"
   },
   {
    "duration": 284,
    "start_time": "2022-12-21T15:40:22.141Z"
   },
   {
    "duration": 72,
    "start_time": "2022-12-21T15:40:22.430Z"
   },
   {
    "duration": 19,
    "start_time": "2022-12-21T15:40:22.505Z"
   },
   {
    "duration": 119,
    "start_time": "2022-12-21T15:40:22.526Z"
   },
   {
    "duration": 14,
    "start_time": "2022-12-21T15:40:22.647Z"
   },
   {
    "duration": 13,
    "start_time": "2022-12-21T15:40:22.663Z"
   },
   {
    "duration": 388,
    "start_time": "2022-12-21T15:40:22.678Z"
   },
   {
    "duration": 567,
    "start_time": "2022-12-21T15:40:23.068Z"
   },
   {
    "duration": 72,
    "start_time": "2022-12-21T15:40:23.638Z"
   },
   {
    "duration": 390,
    "start_time": "2022-12-21T15:40:23.713Z"
   },
   {
    "duration": 94,
    "start_time": "2022-12-21T15:40:24.105Z"
   },
   {
    "duration": 907,
    "start_time": "2022-12-21T15:40:24.206Z"
   },
   {
    "duration": 19789,
    "start_time": "2022-12-21T15:40:25.117Z"
   },
   {
    "duration": 5213,
    "start_time": "2022-12-21T15:40:44.913Z"
   },
   {
    "duration": 392,
    "start_time": "2022-12-21T15:40:50.129Z"
   },
   {
    "duration": 370,
    "start_time": "2022-12-21T15:40:50.524Z"
   },
   {
    "duration": 542,
    "start_time": "2022-12-21T15:40:50.896Z"
   },
   {
    "duration": 223,
    "start_time": "2022-12-21T15:40:51.440Z"
   },
   {
    "duration": 424,
    "start_time": "2022-12-21T15:40:51.666Z"
   },
   {
    "duration": 16,
    "start_time": "2022-12-21T16:02:05.540Z"
   },
   {
    "duration": 55,
    "start_time": "2022-12-21T19:09:20.888Z"
   },
   {
    "duration": 1614,
    "start_time": "2022-12-21T19:09:25.905Z"
   },
   {
    "duration": 5,
    "start_time": "2022-12-21T19:09:27.521Z"
   },
   {
    "duration": 32,
    "start_time": "2022-12-21T19:09:27.528Z"
   },
   {
    "duration": 194,
    "start_time": "2022-12-21T19:09:27.562Z"
   },
   {
    "duration": 13,
    "start_time": "2022-12-21T19:09:27.758Z"
   },
   {
    "duration": 53,
    "start_time": "2022-12-21T19:09:27.772Z"
   },
   {
    "duration": 73,
    "start_time": "2022-12-21T19:09:27.826Z"
   },
   {
    "duration": 4,
    "start_time": "2022-12-21T19:09:27.901Z"
   },
   {
    "duration": 30,
    "start_time": "2022-12-21T19:09:27.907Z"
   },
   {
    "duration": 36,
    "start_time": "2022-12-21T19:09:27.941Z"
   },
   {
    "duration": 78,
    "start_time": "2022-12-21T19:09:27.979Z"
   },
   {
    "duration": 55,
    "start_time": "2022-12-21T19:09:28.058Z"
   },
   {
    "duration": 37,
    "start_time": "2022-12-21T19:09:28.115Z"
   },
   {
    "duration": 45,
    "start_time": "2022-12-21T19:09:28.154Z"
   },
   {
    "duration": 32,
    "start_time": "2022-12-21T19:09:28.201Z"
   },
   {
    "duration": 65,
    "start_time": "2022-12-21T19:09:28.235Z"
   },
   {
    "duration": 69,
    "start_time": "2022-12-21T19:09:28.302Z"
   },
   {
    "duration": 45,
    "start_time": "2022-12-21T19:09:28.373Z"
   },
   {
    "duration": 43,
    "start_time": "2022-12-21T19:09:28.420Z"
   },
   {
    "duration": 59,
    "start_time": "2022-12-21T19:09:28.465Z"
   },
   {
    "duration": 49,
    "start_time": "2022-12-21T19:09:28.525Z"
   },
   {
    "duration": 31,
    "start_time": "2022-12-21T19:09:28.576Z"
   },
   {
    "duration": 45,
    "start_time": "2022-12-21T19:09:28.609Z"
   },
   {
    "duration": 35,
    "start_time": "2022-12-21T19:09:28.655Z"
   },
   {
    "duration": 40,
    "start_time": "2022-12-21T19:09:28.692Z"
   },
   {
    "duration": 53,
    "start_time": "2022-12-21T19:09:28.745Z"
   },
   {
    "duration": 14,
    "start_time": "2022-12-21T19:09:28.800Z"
   },
   {
    "duration": 45,
    "start_time": "2022-12-21T19:09:28.818Z"
   },
   {
    "duration": 44,
    "start_time": "2022-12-21T19:09:28.866Z"
   },
   {
    "duration": 40,
    "start_time": "2022-12-21T19:09:28.912Z"
   },
   {
    "duration": 31,
    "start_time": "2022-12-21T19:09:28.954Z"
   },
   {
    "duration": 25,
    "start_time": "2022-12-21T19:09:28.987Z"
   },
   {
    "duration": 48,
    "start_time": "2022-12-21T19:09:29.014Z"
   },
   {
    "duration": 65,
    "start_time": "2022-12-21T19:09:29.064Z"
   },
   {
    "duration": 151,
    "start_time": "2022-12-21T19:09:29.131Z"
   },
   {
    "duration": 0,
    "start_time": "2022-12-21T19:09:29.284Z"
   },
   {
    "duration": 0,
    "start_time": "2022-12-21T19:09:29.286Z"
   },
   {
    "duration": 0,
    "start_time": "2022-12-21T19:09:29.287Z"
   },
   {
    "duration": 0,
    "start_time": "2022-12-21T19:09:29.289Z"
   },
   {
    "duration": 0,
    "start_time": "2022-12-21T19:09:29.291Z"
   },
   {
    "duration": 0,
    "start_time": "2022-12-21T19:09:29.292Z"
   },
   {
    "duration": 0,
    "start_time": "2022-12-21T19:09:29.294Z"
   },
   {
    "duration": 0,
    "start_time": "2022-12-21T19:09:29.295Z"
   },
   {
    "duration": 0,
    "start_time": "2022-12-21T19:09:29.296Z"
   },
   {
    "duration": 0,
    "start_time": "2022-12-21T19:09:29.298Z"
   },
   {
    "duration": 0,
    "start_time": "2022-12-21T19:09:29.327Z"
   },
   {
    "duration": 0,
    "start_time": "2022-12-21T19:09:29.329Z"
   },
   {
    "duration": 0,
    "start_time": "2022-12-21T19:09:29.330Z"
   },
   {
    "duration": 0,
    "start_time": "2022-12-21T19:09:29.331Z"
   },
   {
    "duration": 0,
    "start_time": "2022-12-21T19:09:29.332Z"
   },
   {
    "duration": 0,
    "start_time": "2022-12-21T19:09:29.334Z"
   },
   {
    "duration": 0,
    "start_time": "2022-12-21T19:09:29.335Z"
   },
   {
    "duration": 0,
    "start_time": "2022-12-21T19:09:29.336Z"
   },
   {
    "duration": 0,
    "start_time": "2022-12-21T19:09:29.337Z"
   },
   {
    "duration": 0,
    "start_time": "2022-12-21T19:09:29.338Z"
   },
   {
    "duration": 29273,
    "start_time": "2022-12-21T19:13:02.113Z"
   },
   {
    "duration": 16,
    "start_time": "2022-12-21T19:20:29.522Z"
   },
   {
    "duration": 6575,
    "start_time": "2022-12-21T19:21:12.877Z"
   },
   {
    "duration": 6487,
    "start_time": "2022-12-21T19:23:30.886Z"
   },
   {
    "duration": 404,
    "start_time": "2022-12-21T19:26:10.840Z"
   },
   {
    "duration": 522,
    "start_time": "2022-12-21T19:26:31.442Z"
   },
   {
    "duration": 28858,
    "start_time": "2022-12-21T19:39:48.140Z"
   },
   {
    "duration": 28162,
    "start_time": "2022-12-21T19:46:37.355Z"
   },
   {
    "duration": 27094,
    "start_time": "2022-12-21T19:51:17.325Z"
   },
   {
    "duration": 458,
    "start_time": "2022-12-21T19:51:44.422Z"
   },
   {
    "duration": 1517,
    "start_time": "2022-12-21T19:56:19.811Z"
   },
   {
    "duration": 11,
    "start_time": "2022-12-21T20:07:13.239Z"
   },
   {
    "duration": 16,
    "start_time": "2022-12-21T20:10:02.057Z"
   },
   {
    "duration": 14548,
    "start_time": "2022-12-21T20:10:04.998Z"
   },
   {
    "duration": 6970,
    "start_time": "2022-12-21T20:11:02.570Z"
   },
   {
    "duration": 14215,
    "start_time": "2022-12-21T20:12:10.825Z"
   },
   {
    "duration": 6612,
    "start_time": "2022-12-21T20:12:25.042Z"
   },
   {
    "duration": 211,
    "start_time": "2022-12-21T20:12:31.657Z"
   },
   {
    "duration": 2590,
    "start_time": "2022-12-21T20:12:39.833Z"
   },
   {
    "duration": 189,
    "start_time": "2022-12-21T20:13:43.845Z"
   },
   {
    "duration": 229,
    "start_time": "2022-12-21T20:13:56.799Z"
   },
   {
    "duration": 12,
    "start_time": "2022-12-21T20:18:56.170Z"
   },
   {
    "duration": 36965,
    "start_time": "2022-12-21T20:19:57.332Z"
   },
   {
    "duration": 19665,
    "start_time": "2022-12-21T20:27:44.494Z"
   },
   {
    "duration": 479,
    "start_time": "2022-12-21T20:28:42.123Z"
   },
   {
    "duration": 1470,
    "start_time": "2022-12-21T20:32:22.058Z"
   },
   {
    "duration": 292,
    "start_time": "2022-12-21T20:36:52.731Z"
   },
   {
    "duration": 276,
    "start_time": "2022-12-21T20:36:53.038Z"
   },
   {
    "duration": 406,
    "start_time": "2022-12-21T20:36:53.578Z"
   },
   {
    "duration": 157,
    "start_time": "2022-12-21T20:36:54.426Z"
   },
   {
    "duration": 380,
    "start_time": "2022-12-21T20:36:55.726Z"
   },
   {
    "duration": 27,
    "start_time": "2022-12-21T20:42:11.033Z"
   },
   {
    "duration": 17,
    "start_time": "2022-12-21T20:48:47.204Z"
   },
   {
    "duration": 7,
    "start_time": "2022-12-21T20:52:13.854Z"
   },
   {
    "duration": 1298,
    "start_time": "2022-12-21T20:59:23.061Z"
   },
   {
    "duration": 3,
    "start_time": "2022-12-21T20:59:24.361Z"
   },
   {
    "duration": 5,
    "start_time": "2022-12-21T20:59:24.366Z"
   },
   {
    "duration": 45,
    "start_time": "2022-12-21T20:59:24.373Z"
   },
   {
    "duration": 20,
    "start_time": "2022-12-21T20:59:24.419Z"
   },
   {
    "duration": 17,
    "start_time": "2022-12-21T20:59:24.445Z"
   },
   {
    "duration": 40,
    "start_time": "2022-12-21T20:59:24.463Z"
   },
   {
    "duration": 4,
    "start_time": "2022-12-21T20:59:24.505Z"
   },
   {
    "duration": 19,
    "start_time": "2022-12-21T20:59:24.511Z"
   },
   {
    "duration": 27,
    "start_time": "2022-12-21T20:59:24.535Z"
   },
   {
    "duration": 5,
    "start_time": "2022-12-21T20:59:24.565Z"
   },
   {
    "duration": 6,
    "start_time": "2022-12-21T20:59:24.572Z"
   },
   {
    "duration": 7,
    "start_time": "2022-12-21T20:59:24.580Z"
   },
   {
    "duration": 13,
    "start_time": "2022-12-21T20:59:24.589Z"
   },
   {
    "duration": 5,
    "start_time": "2022-12-21T20:59:24.603Z"
   },
   {
    "duration": 3,
    "start_time": "2022-12-21T20:59:24.610Z"
   },
   {
    "duration": 20,
    "start_time": "2022-12-21T20:59:24.626Z"
   },
   {
    "duration": 12,
    "start_time": "2022-12-21T20:59:24.648Z"
   },
   {
    "duration": 14,
    "start_time": "2022-12-21T20:59:24.662Z"
   },
   {
    "duration": 13,
    "start_time": "2022-12-21T20:59:24.678Z"
   },
   {
    "duration": 6,
    "start_time": "2022-12-21T20:59:24.692Z"
   },
   {
    "duration": 53,
    "start_time": "2022-12-21T20:59:24.700Z"
   },
   {
    "duration": 6,
    "start_time": "2022-12-21T20:59:24.754Z"
   },
   {
    "duration": 6,
    "start_time": "2022-12-21T20:59:24.762Z"
   },
   {
    "duration": 5,
    "start_time": "2022-12-21T20:59:24.770Z"
   },
   {
    "duration": 6,
    "start_time": "2022-12-21T20:59:24.777Z"
   },
   {
    "duration": 10,
    "start_time": "2022-12-21T20:59:24.784Z"
   },
   {
    "duration": 11,
    "start_time": "2022-12-21T20:59:24.797Z"
   },
   {
    "duration": 25,
    "start_time": "2022-12-21T20:59:24.809Z"
   },
   {
    "duration": 18,
    "start_time": "2022-12-21T20:59:24.839Z"
   },
   {
    "duration": 41,
    "start_time": "2022-12-21T20:59:24.858Z"
   },
   {
    "duration": 30,
    "start_time": "2022-12-21T20:59:24.900Z"
   },
   {
    "duration": 39,
    "start_time": "2022-12-21T20:59:24.932Z"
   },
   {
    "duration": 20,
    "start_time": "2022-12-21T20:59:24.973Z"
   },
   {
    "duration": 28282,
    "start_time": "2022-12-21T20:59:24.995Z"
   },
   {
    "duration": 6603,
    "start_time": "2022-12-21T20:59:53.279Z"
   },
   {
    "duration": 430,
    "start_time": "2022-12-21T20:59:59.884Z"
   },
   {
    "duration": 531,
    "start_time": "2022-12-21T21:00:00.316Z"
   },
   {
    "duration": 249,
    "start_time": "2022-12-21T21:00:00.849Z"
   },
   {
    "duration": 7,
    "start_time": "2022-12-21T21:00:01.100Z"
   },
   {
    "duration": 88,
    "start_time": "2022-12-21T21:00:01.108Z"
   },
   {
    "duration": 41,
    "start_time": "2022-12-21T21:00:01.198Z"
   },
   {
    "duration": 123,
    "start_time": "2022-12-21T21:00:01.241Z"
   },
   {
    "duration": 35,
    "start_time": "2022-12-21T21:00:01.366Z"
   },
   {
    "duration": 60,
    "start_time": "2022-12-21T21:00:01.403Z"
   },
   {
    "duration": 407,
    "start_time": "2022-12-21T21:00:01.465Z"
   },
   {
    "duration": 29725,
    "start_time": "2022-12-21T21:00:01.873Z"
   },
   {
    "duration": 28094,
    "start_time": "2022-12-21T21:00:31.600Z"
   },
   {
    "duration": 448,
    "start_time": "2022-12-21T21:00:59.695Z"
   },
   {
    "duration": 1597,
    "start_time": "2022-12-21T21:01:00.145Z"
   },
   {
    "duration": 100,
    "start_time": "2022-12-21T21:01:01.744Z"
   },
   {
    "duration": 15379,
    "start_time": "2022-12-21T21:01:01.846Z"
   },
   {
    "duration": 3088,
    "start_time": "2022-12-21T21:01:17.227Z"
   },
   {
    "duration": 253,
    "start_time": "2022-12-21T21:01:20.317Z"
   },
   {
    "duration": 303,
    "start_time": "2022-12-21T21:01:20.571Z"
   },
   {
    "duration": 77,
    "start_time": "2022-12-21T21:01:20.877Z"
   },
   {
    "duration": 39186,
    "start_time": "2022-12-21T21:01:20.956Z"
   },
   {
    "duration": 20395,
    "start_time": "2022-12-21T21:02:00.144Z"
   },
   {
    "duration": 507,
    "start_time": "2022-12-21T21:02:20.541Z"
   },
   {
    "duration": 1476,
    "start_time": "2022-12-21T21:02:21.050Z"
   },
   {
    "duration": 102,
    "start_time": "2022-12-21T21:02:22.534Z"
   },
   {
    "duration": 471,
    "start_time": "2022-12-21T21:02:22.643Z"
   },
   {
    "duration": 1405,
    "start_time": "2022-12-21T21:02:23.115Z"
   },
   {
    "duration": 489,
    "start_time": "2022-12-21T21:02:24.529Z"
   },
   {
    "duration": 512,
    "start_time": "2022-12-21T21:02:25.020Z"
   },
   {
    "duration": 522,
    "start_time": "2022-12-21T21:02:25.533Z"
   },
   {
    "duration": 1387,
    "start_time": "2022-12-21T21:08:15.148Z"
   },
   {
    "duration": 3,
    "start_time": "2022-12-21T21:08:16.540Z"
   },
   {
    "duration": 20,
    "start_time": "2022-12-21T21:08:16.544Z"
   },
   {
    "duration": 51,
    "start_time": "2022-12-21T21:08:16.565Z"
   },
   {
    "duration": 18,
    "start_time": "2022-12-21T21:08:16.618Z"
   },
   {
    "duration": 26,
    "start_time": "2022-12-21T21:08:16.638Z"
   },
   {
    "duration": 50,
    "start_time": "2022-12-21T21:08:16.665Z"
   },
   {
    "duration": 4,
    "start_time": "2022-12-21T21:08:16.717Z"
   },
   {
    "duration": 32,
    "start_time": "2022-12-21T21:08:16.722Z"
   },
   {
    "duration": 23,
    "start_time": "2022-12-21T21:08:16.756Z"
   },
   {
    "duration": 10,
    "start_time": "2022-12-21T21:08:16.781Z"
   },
   {
    "duration": 34,
    "start_time": "2022-12-21T21:08:16.792Z"
   },
   {
    "duration": 26,
    "start_time": "2022-12-21T21:08:16.829Z"
   },
   {
    "duration": 16,
    "start_time": "2022-12-21T21:08:16.858Z"
   },
   {
    "duration": 16,
    "start_time": "2022-12-21T21:08:16.875Z"
   },
   {
    "duration": 19,
    "start_time": "2022-12-21T21:08:16.893Z"
   },
   {
    "duration": 51,
    "start_time": "2022-12-21T21:08:16.914Z"
   },
   {
    "duration": 26,
    "start_time": "2022-12-21T21:08:16.966Z"
   },
   {
    "duration": 34,
    "start_time": "2022-12-21T21:08:16.994Z"
   },
   {
    "duration": 26,
    "start_time": "2022-12-21T21:08:17.031Z"
   },
   {
    "duration": 17,
    "start_time": "2022-12-21T21:08:17.059Z"
   },
   {
    "duration": 19,
    "start_time": "2022-12-21T21:08:17.078Z"
   },
   {
    "duration": 24,
    "start_time": "2022-12-21T21:08:17.099Z"
   },
   {
    "duration": 34,
    "start_time": "2022-12-21T21:08:17.125Z"
   },
   {
    "duration": 25,
    "start_time": "2022-12-21T21:08:17.161Z"
   },
   {
    "duration": 25,
    "start_time": "2022-12-21T21:08:17.188Z"
   },
   {
    "duration": 10,
    "start_time": "2022-12-21T21:08:17.215Z"
   },
   {
    "duration": 21,
    "start_time": "2022-12-21T21:08:17.231Z"
   },
   {
    "duration": 26,
    "start_time": "2022-12-21T21:08:17.254Z"
   },
   {
    "duration": 21,
    "start_time": "2022-12-21T21:08:17.281Z"
   },
   {
    "duration": 37,
    "start_time": "2022-12-21T21:08:17.303Z"
   },
   {
    "duration": 11,
    "start_time": "2022-12-21T21:08:17.341Z"
   },
   {
    "duration": 16,
    "start_time": "2022-12-21T21:08:17.354Z"
   },
   {
    "duration": 18,
    "start_time": "2022-12-21T21:08:17.372Z"
   },
   {
    "duration": 27840,
    "start_time": "2022-12-21T21:08:17.391Z"
   },
   {
    "duration": 6521,
    "start_time": "2022-12-21T21:08:45.236Z"
   },
   {
    "duration": 410,
    "start_time": "2022-12-21T21:08:51.759Z"
   },
   {
    "duration": 482,
    "start_time": "2022-12-21T21:08:52.170Z"
   },
   {
    "duration": 286,
    "start_time": "2022-12-21T21:08:52.654Z"
   },
   {
    "duration": 6,
    "start_time": "2022-12-21T21:08:52.941Z"
   },
   {
    "duration": 75,
    "start_time": "2022-12-21T21:08:52.951Z"
   },
   {
    "duration": 9,
    "start_time": "2022-12-21T21:08:53.028Z"
   },
   {
    "duration": 114,
    "start_time": "2022-12-21T21:08:53.039Z"
   },
   {
    "duration": 14,
    "start_time": "2022-12-21T21:08:53.155Z"
   },
   {
    "duration": 10,
    "start_time": "2022-12-21T21:08:53.171Z"
   },
   {
    "duration": 354,
    "start_time": "2022-12-21T21:08:53.182Z"
   },
   {
    "duration": 28093,
    "start_time": "2022-12-21T21:08:53.538Z"
   },
   {
    "duration": 25773,
    "start_time": "2022-12-21T21:09:21.638Z"
   },
   {
    "duration": 424,
    "start_time": "2022-12-21T21:09:47.412Z"
   },
   {
    "duration": 1434,
    "start_time": "2022-12-21T21:09:47.840Z"
   },
   {
    "duration": 65,
    "start_time": "2022-12-21T21:09:49.276Z"
   },
   {
    "duration": 14738,
    "start_time": "2022-12-21T21:09:49.343Z"
   },
   {
    "duration": 2784,
    "start_time": "2022-12-21T21:10:04.083Z"
   },
   {
    "duration": 214,
    "start_time": "2022-12-21T21:10:06.868Z"
   },
   {
    "duration": 246,
    "start_time": "2022-12-21T21:10:07.084Z"
   },
   {
    "duration": 103,
    "start_time": "2022-12-21T21:10:07.334Z"
   },
   {
    "duration": 38250,
    "start_time": "2022-12-21T21:10:07.440Z"
   },
   {
    "duration": 19987,
    "start_time": "2022-12-21T21:10:45.692Z"
   },
   {
    "duration": 552,
    "start_time": "2022-12-21T21:11:05.681Z"
   },
   {
    "duration": 1402,
    "start_time": "2022-12-21T21:11:06.234Z"
   },
   {
    "duration": 106,
    "start_time": "2022-12-21T21:11:07.640Z"
   },
   {
    "duration": 489,
    "start_time": "2022-12-21T21:11:07.748Z"
   },
   {
    "duration": 1394,
    "start_time": "2022-12-21T21:11:08.241Z"
   },
   {
    "duration": 578,
    "start_time": "2022-12-21T21:11:09.637Z"
   },
   {
    "duration": 654,
    "start_time": "2022-12-21T21:11:10.216Z"
   },
   {
    "duration": 525,
    "start_time": "2022-12-21T21:11:10.872Z"
   },
   {
    "duration": 1701,
    "start_time": "2022-12-22T17:49:41.269Z"
   },
   {
    "duration": 2,
    "start_time": "2022-12-22T17:49:42.973Z"
   },
   {
    "duration": 35,
    "start_time": "2022-12-22T17:49:42.981Z"
   },
   {
    "duration": 430,
    "start_time": "2022-12-22T17:49:43.019Z"
   },
   {
    "duration": 14,
    "start_time": "2022-12-22T17:49:43.450Z"
   },
   {
    "duration": 55,
    "start_time": "2022-12-22T17:49:43.465Z"
   },
   {
    "duration": 69,
    "start_time": "2022-12-22T17:49:43.523Z"
   },
   {
    "duration": 9,
    "start_time": "2022-12-22T17:49:43.594Z"
   },
   {
    "duration": 26,
    "start_time": "2022-12-22T17:49:43.605Z"
   },
   {
    "duration": 40,
    "start_time": "2022-12-22T17:49:43.634Z"
   },
   {
    "duration": 53,
    "start_time": "2022-12-22T17:49:43.676Z"
   },
   {
    "duration": 24,
    "start_time": "2022-12-22T17:49:43.731Z"
   },
   {
    "duration": 15,
    "start_time": "2022-12-22T17:49:43.757Z"
   },
   {
    "duration": 61,
    "start_time": "2022-12-22T17:49:43.774Z"
   },
   {
    "duration": 17,
    "start_time": "2022-12-22T17:49:43.836Z"
   },
   {
    "duration": 63,
    "start_time": "2022-12-22T17:49:43.855Z"
   },
   {
    "duration": 31,
    "start_time": "2022-12-22T17:49:43.926Z"
   },
   {
    "duration": 34,
    "start_time": "2022-12-22T17:49:43.959Z"
   },
   {
    "duration": 53,
    "start_time": "2022-12-22T17:49:43.994Z"
   },
   {
    "duration": 67,
    "start_time": "2022-12-22T17:49:44.049Z"
   },
   {
    "duration": 9,
    "start_time": "2022-12-22T17:49:44.118Z"
   },
   {
    "duration": 10,
    "start_time": "2022-12-22T17:49:44.129Z"
   },
   {
    "duration": 9,
    "start_time": "2022-12-22T17:49:44.141Z"
   },
   {
    "duration": 7,
    "start_time": "2022-12-22T17:49:44.152Z"
   },
   {
    "duration": 12,
    "start_time": "2022-12-22T17:49:44.161Z"
   },
   {
    "duration": 41,
    "start_time": "2022-12-22T17:49:44.175Z"
   },
   {
    "duration": 31,
    "start_time": "2022-12-22T17:49:44.218Z"
   },
   {
    "duration": 15,
    "start_time": "2022-12-22T17:49:44.254Z"
   },
   {
    "duration": 18,
    "start_time": "2022-12-22T17:49:44.271Z"
   },
   {
    "duration": 27,
    "start_time": "2022-12-22T17:49:44.301Z"
   },
   {
    "duration": 30,
    "start_time": "2022-12-22T17:49:44.331Z"
   },
   {
    "duration": 11,
    "start_time": "2022-12-22T17:49:44.363Z"
   },
   {
    "duration": 53,
    "start_time": "2022-12-22T17:49:44.376Z"
   },
   {
    "duration": 35,
    "start_time": "2022-12-22T17:49:44.435Z"
   },
   {
    "duration": 29941,
    "start_time": "2022-12-22T17:49:44.472Z"
   },
   {
    "duration": 7014,
    "start_time": "2022-12-22T17:50:14.415Z"
   },
   {
    "duration": 433,
    "start_time": "2022-12-22T17:50:21.431Z"
   },
   {
    "duration": 531,
    "start_time": "2022-12-22T17:50:21.866Z"
   },
   {
    "duration": 210,
    "start_time": "2022-12-22T17:50:22.487Z"
   },
   {
    "duration": 6,
    "start_time": "2022-12-22T17:50:22.698Z"
   },
   {
    "duration": 84,
    "start_time": "2022-12-22T17:50:22.706Z"
   },
   {
    "duration": 85,
    "start_time": "2022-12-22T17:50:22.792Z"
   },
   {
    "duration": 34,
    "start_time": "2022-12-22T17:50:22.879Z"
   },
   {
    "duration": 11,
    "start_time": "2022-12-22T17:50:22.914Z"
   },
   {
    "duration": 13,
    "start_time": "2022-12-22T17:50:22.927Z"
   },
   {
    "duration": 370,
    "start_time": "2022-12-22T17:50:22.942Z"
   },
   {
    "duration": 29400,
    "start_time": "2022-12-22T17:50:23.314Z"
   },
   {
    "duration": 27391,
    "start_time": "2022-12-22T17:50:52.715Z"
   },
   {
    "duration": 441,
    "start_time": "2022-12-22T17:51:20.107Z"
   },
   {
    "duration": 1532,
    "start_time": "2022-12-22T17:51:20.550Z"
   },
   {
    "duration": 88,
    "start_time": "2022-12-22T17:51:22.091Z"
   },
   {
    "duration": 15427,
    "start_time": "2022-12-22T17:51:22.182Z"
   },
   {
    "duration": 2797,
    "start_time": "2022-12-22T17:51:37.611Z"
   },
   {
    "duration": 242,
    "start_time": "2022-12-22T17:51:40.410Z"
   },
   {
    "duration": 233,
    "start_time": "2022-12-22T17:51:40.654Z"
   },
   {
    "duration": 98,
    "start_time": "2022-12-22T17:51:40.888Z"
   },
   {
    "duration": 41119,
    "start_time": "2022-12-22T17:51:40.988Z"
   },
   {
    "duration": 21248,
    "start_time": "2022-12-22T17:52:22.110Z"
   },
   {
    "duration": 509,
    "start_time": "2022-12-22T17:52:43.360Z"
   },
   {
    "duration": 1619,
    "start_time": "2022-12-22T17:52:43.871Z"
   },
   {
    "duration": 23,
    "start_time": "2022-12-22T17:52:45.578Z"
   },
   {
    "duration": 559,
    "start_time": "2022-12-22T17:52:45.603Z"
   },
   {
    "duration": 1670,
    "start_time": "2022-12-22T17:52:46.164Z"
   },
   {
    "duration": 671,
    "start_time": "2022-12-22T17:52:47.836Z"
   },
   {
    "duration": 739,
    "start_time": "2022-12-22T17:52:48.509Z"
   },
   {
    "duration": 502,
    "start_time": "2022-12-22T17:52:49.250Z"
   },
   {
    "duration": 1578,
    "start_time": "2022-12-22T18:39:29.339Z"
   },
   {
    "duration": 4,
    "start_time": "2022-12-22T18:39:30.920Z"
   },
   {
    "duration": 21,
    "start_time": "2022-12-22T18:39:30.926Z"
   },
   {
    "duration": 93,
    "start_time": "2022-12-22T18:39:30.949Z"
   },
   {
    "duration": 19,
    "start_time": "2022-12-22T18:39:31.045Z"
   },
   {
    "duration": 22,
    "start_time": "2022-12-22T18:39:31.066Z"
   },
   {
    "duration": 69,
    "start_time": "2022-12-22T18:39:31.090Z"
   },
   {
    "duration": 3,
    "start_time": "2022-12-22T18:39:31.162Z"
   },
   {
    "duration": 25,
    "start_time": "2022-12-22T18:39:31.167Z"
   },
   {
    "duration": 28,
    "start_time": "2022-12-22T18:39:31.194Z"
   },
   {
    "duration": 5,
    "start_time": "2022-12-22T18:39:31.224Z"
   },
   {
    "duration": 28,
    "start_time": "2022-12-22T18:39:31.232Z"
   },
   {
    "duration": 18,
    "start_time": "2022-12-22T18:39:31.262Z"
   },
   {
    "duration": 14,
    "start_time": "2022-12-22T18:39:31.285Z"
   },
   {
    "duration": 15,
    "start_time": "2022-12-22T18:39:31.301Z"
   },
   {
    "duration": 5,
    "start_time": "2022-12-22T18:39:31.318Z"
   },
   {
    "duration": 19,
    "start_time": "2022-12-22T18:39:31.325Z"
   },
   {
    "duration": 24,
    "start_time": "2022-12-22T18:39:31.346Z"
   },
   {
    "duration": 28,
    "start_time": "2022-12-22T18:39:31.373Z"
   },
   {
    "duration": 19,
    "start_time": "2022-12-22T18:39:31.404Z"
   },
   {
    "duration": 6,
    "start_time": "2022-12-22T18:39:31.426Z"
   },
   {
    "duration": 22,
    "start_time": "2022-12-22T18:39:31.434Z"
   },
   {
    "duration": 13,
    "start_time": "2022-12-22T18:39:31.458Z"
   },
   {
    "duration": 11,
    "start_time": "2022-12-22T18:39:31.472Z"
   },
   {
    "duration": 12,
    "start_time": "2022-12-22T18:39:31.485Z"
   },
   {
    "duration": 8,
    "start_time": "2022-12-22T18:39:31.499Z"
   },
   {
    "duration": 10,
    "start_time": "2022-12-22T18:39:31.512Z"
   },
   {
    "duration": 24,
    "start_time": "2022-12-22T18:39:31.524Z"
   },
   {
    "duration": 16,
    "start_time": "2022-12-22T18:39:31.550Z"
   },
   {
    "duration": 22,
    "start_time": "2022-12-22T18:39:31.569Z"
   },
   {
    "duration": 33,
    "start_time": "2022-12-22T18:39:31.613Z"
   },
   {
    "duration": 16,
    "start_time": "2022-12-22T18:39:31.648Z"
   },
   {
    "duration": 20,
    "start_time": "2022-12-22T18:39:31.666Z"
   },
   {
    "duration": 38,
    "start_time": "2022-12-22T18:39:31.688Z"
   },
   {
    "duration": 280,
    "start_time": "2022-12-22T18:39:31.728Z"
   },
   {
    "duration": 0,
    "start_time": "2022-12-22T18:39:32.012Z"
   },
   {
    "duration": 0,
    "start_time": "2022-12-22T18:39:32.014Z"
   },
   {
    "duration": 0,
    "start_time": "2022-12-22T18:39:32.015Z"
   },
   {
    "duration": 0,
    "start_time": "2022-12-22T18:39:32.016Z"
   },
   {
    "duration": 0,
    "start_time": "2022-12-22T18:39:32.017Z"
   },
   {
    "duration": 0,
    "start_time": "2022-12-22T18:39:32.018Z"
   },
   {
    "duration": 0,
    "start_time": "2022-12-22T18:39:32.020Z"
   },
   {
    "duration": 0,
    "start_time": "2022-12-22T18:39:32.021Z"
   },
   {
    "duration": 0,
    "start_time": "2022-12-22T18:39:32.023Z"
   },
   {
    "duration": 0,
    "start_time": "2022-12-22T18:39:32.024Z"
   },
   {
    "duration": 0,
    "start_time": "2022-12-22T18:39:32.025Z"
   },
   {
    "duration": 0,
    "start_time": "2022-12-22T18:39:32.027Z"
   },
   {
    "duration": 0,
    "start_time": "2022-12-22T18:39:32.028Z"
   },
   {
    "duration": 0,
    "start_time": "2022-12-22T18:39:32.029Z"
   },
   {
    "duration": 0,
    "start_time": "2022-12-22T18:39:32.031Z"
   },
   {
    "duration": 0,
    "start_time": "2022-12-22T18:39:32.032Z"
   },
   {
    "duration": 0,
    "start_time": "2022-12-22T18:39:32.033Z"
   },
   {
    "duration": 0,
    "start_time": "2022-12-22T18:39:32.034Z"
   },
   {
    "duration": 0,
    "start_time": "2022-12-22T18:39:32.035Z"
   },
   {
    "duration": 0,
    "start_time": "2022-12-22T18:39:32.036Z"
   },
   {
    "duration": 0,
    "start_time": "2022-12-22T18:39:32.038Z"
   },
   {
    "duration": 0,
    "start_time": "2022-12-22T18:39:32.039Z"
   },
   {
    "duration": 0,
    "start_time": "2022-12-22T18:39:32.040Z"
   },
   {
    "duration": 0,
    "start_time": "2022-12-22T18:39:32.040Z"
   },
   {
    "duration": 0,
    "start_time": "2022-12-22T18:39:32.042Z"
   },
   {
    "duration": 0,
    "start_time": "2022-12-22T18:39:32.043Z"
   },
   {
    "duration": 0,
    "start_time": "2022-12-22T18:39:32.044Z"
   },
   {
    "duration": 0,
    "start_time": "2022-12-22T18:39:32.045Z"
   },
   {
    "duration": 0,
    "start_time": "2022-12-22T18:39:32.046Z"
   },
   {
    "duration": 0,
    "start_time": "2022-12-22T18:39:32.048Z"
   },
   {
    "duration": 241562,
    "start_time": "2022-12-22T18:48:43.736Z"
   },
   {
    "duration": 232783,
    "start_time": "2022-12-22T19:00:24.717Z"
   },
   {
    "duration": 1604,
    "start_time": "2022-12-22T19:06:42.411Z"
   },
   {
    "duration": 12,
    "start_time": "2022-12-22T19:08:22.694Z"
   },
   {
    "duration": 22,
    "start_time": "2022-12-22T19:08:25.131Z"
   },
   {
    "duration": 2607,
    "start_time": "2022-12-22T19:10:56.216Z"
   },
   {
    "duration": 4,
    "start_time": "2022-12-22T19:10:58.826Z"
   },
   {
    "duration": 81,
    "start_time": "2022-12-22T19:10:58.832Z"
   },
   {
    "duration": 97,
    "start_time": "2022-12-22T19:10:58.916Z"
   },
   {
    "duration": 21,
    "start_time": "2022-12-22T19:10:59.016Z"
   },
   {
    "duration": 80,
    "start_time": "2022-12-22T19:10:59.039Z"
   },
   {
    "duration": 119,
    "start_time": "2022-12-22T19:10:59.121Z"
   },
   {
    "duration": 5,
    "start_time": "2022-12-22T19:10:59.242Z"
   },
   {
    "duration": 83,
    "start_time": "2022-12-22T19:10:59.249Z"
   },
   {
    "duration": 31,
    "start_time": "2022-12-22T19:10:59.336Z"
   },
   {
    "duration": 49,
    "start_time": "2022-12-22T19:10:59.369Z"
   },
   {
    "duration": 29,
    "start_time": "2022-12-22T19:10:59.420Z"
   },
   {
    "duration": 64,
    "start_time": "2022-12-22T19:10:59.451Z"
   },
   {
    "duration": 21,
    "start_time": "2022-12-22T19:10:59.518Z"
   },
   {
    "duration": 75,
    "start_time": "2022-12-22T19:10:59.541Z"
   },
   {
    "duration": 13,
    "start_time": "2022-12-22T19:10:59.619Z"
   },
   {
    "duration": 78,
    "start_time": "2022-12-22T19:10:59.634Z"
   },
   {
    "duration": 13,
    "start_time": "2022-12-22T19:10:59.714Z"
   },
   {
    "duration": 26,
    "start_time": "2022-12-22T19:10:59.729Z"
   },
   {
    "duration": 62,
    "start_time": "2022-12-22T19:10:59.757Z"
   },
   {
    "duration": 36,
    "start_time": "2022-12-22T19:10:59.821Z"
   },
   {
    "duration": 56,
    "start_time": "2022-12-22T19:10:59.859Z"
   },
   {
    "duration": 41,
    "start_time": "2022-12-22T19:10:59.917Z"
   },
   {
    "duration": 53,
    "start_time": "2022-12-22T19:10:59.960Z"
   },
   {
    "duration": 42,
    "start_time": "2022-12-22T19:11:00.015Z"
   },
   {
    "duration": 54,
    "start_time": "2022-12-22T19:11:00.059Z"
   },
   {
    "duration": 44,
    "start_time": "2022-12-22T19:11:00.115Z"
   },
   {
    "duration": 61,
    "start_time": "2022-12-22T19:11:00.164Z"
   },
   {
    "duration": 84,
    "start_time": "2022-12-22T19:11:00.228Z"
   },
   {
    "duration": 17,
    "start_time": "2022-12-22T19:11:00.314Z"
   },
   {
    "duration": 101,
    "start_time": "2022-12-22T19:11:00.333Z"
   },
   {
    "duration": 18,
    "start_time": "2022-12-22T19:11:00.436Z"
   },
   {
    "duration": 13,
    "start_time": "2022-12-22T19:11:00.512Z"
   },
   {
    "duration": 86,
    "start_time": "2022-12-22T19:11:00.527Z"
   },
   {
    "duration": 2892,
    "start_time": "2022-12-22T19:16:39.750Z"
   },
   {
    "duration": 5,
    "start_time": "2022-12-22T19:16:42.645Z"
   },
   {
    "duration": 69,
    "start_time": "2022-12-22T19:16:42.653Z"
   },
   {
    "duration": 96,
    "start_time": "2022-12-22T19:16:42.734Z"
   },
   {
    "duration": 20,
    "start_time": "2022-12-22T19:16:42.833Z"
   },
   {
    "duration": 79,
    "start_time": "2022-12-22T19:16:42.855Z"
   },
   {
    "duration": 200,
    "start_time": "2022-12-22T19:16:42.941Z"
   },
   {
    "duration": 4,
    "start_time": "2022-12-22T19:16:43.144Z"
   },
   {
    "duration": 89,
    "start_time": "2022-12-22T19:16:43.150Z"
   },
   {
    "duration": 87,
    "start_time": "2022-12-22T19:16:43.243Z"
   },
   {
    "duration": 20,
    "start_time": "2022-12-22T19:16:43.333Z"
   },
   {
    "duration": 10,
    "start_time": "2022-12-22T19:16:43.356Z"
   },
   {
    "duration": 18,
    "start_time": "2022-12-22T19:16:43.419Z"
   },
   {
    "duration": 20,
    "start_time": "2022-12-22T19:16:43.440Z"
   },
   {
    "duration": 62,
    "start_time": "2022-12-22T19:16:43.463Z"
   },
   {
    "duration": 22,
    "start_time": "2022-12-22T19:16:43.527Z"
   },
   {
    "duration": 83,
    "start_time": "2022-12-22T19:16:43.551Z"
   },
   {
    "duration": 19,
    "start_time": "2022-12-22T19:16:43.637Z"
   },
   {
    "duration": 70,
    "start_time": "2022-12-22T19:16:43.658Z"
   },
   {
    "duration": 15,
    "start_time": "2022-12-22T19:16:43.730Z"
   },
   {
    "duration": 65,
    "start_time": "2022-12-22T19:16:43.747Z"
   },
   {
    "duration": 7,
    "start_time": "2022-12-22T19:16:43.814Z"
   },
   {
    "duration": 31,
    "start_time": "2022-12-22T19:16:43.822Z"
   },
   {
    "duration": 67,
    "start_time": "2022-12-22T19:16:43.855Z"
   },
   {
    "duration": 5,
    "start_time": "2022-12-22T19:16:43.932Z"
   },
   {
    "duration": 12,
    "start_time": "2022-12-22T19:16:43.938Z"
   },
   {
    "duration": 77,
    "start_time": "2022-12-22T19:16:43.952Z"
   },
   {
    "duration": 21,
    "start_time": "2022-12-22T19:16:44.034Z"
   },
   {
    "duration": 158,
    "start_time": "2022-12-22T19:16:44.060Z"
   },
   {
    "duration": 39,
    "start_time": "2022-12-22T19:16:44.220Z"
   },
   {
    "duration": 100,
    "start_time": "2022-12-22T19:16:44.261Z"
   },
   {
    "duration": 51,
    "start_time": "2022-12-22T19:16:44.363Z"
   },
   {
    "duration": 47,
    "start_time": "2022-12-22T19:16:44.416Z"
   },
   {
    "duration": 69,
    "start_time": "2022-12-22T19:16:44.465Z"
   },
   {
    "duration": 101678,
    "start_time": "2022-12-22T19:16:44.536Z"
   },
   {
    "duration": 920,
    "start_time": "2022-12-22T19:18:26.224Z"
   },
   {
    "duration": 1070,
    "start_time": "2022-12-22T19:18:27.146Z"
   },
   {
    "duration": 395,
    "start_time": "2022-12-22T19:18:28.218Z"
   },
   {
    "duration": 7,
    "start_time": "2022-12-22T19:18:28.616Z"
   },
   {
    "duration": 119,
    "start_time": "2022-12-22T19:18:28.624Z"
   },
   {
    "duration": 73,
    "start_time": "2022-12-22T19:18:28.745Z"
   },
   {
    "duration": 107,
    "start_time": "2022-12-22T19:18:28.821Z"
   },
   {
    "duration": 11,
    "start_time": "2022-12-22T19:18:28.930Z"
   },
   {
    "duration": 77,
    "start_time": "2022-12-22T19:18:28.943Z"
   },
   {
    "duration": 714,
    "start_time": "2022-12-22T19:18:29.022Z"
   },
   {
    "duration": 2400,
    "start_time": "2022-12-22T19:20:37.030Z"
   },
   {
    "duration": 3,
    "start_time": "2022-12-22T19:20:39.433Z"
   },
   {
    "duration": 79,
    "start_time": "2022-12-22T19:20:39.437Z"
   },
   {
    "duration": 95,
    "start_time": "2022-12-22T19:20:39.518Z"
   },
   {
    "duration": 15,
    "start_time": "2022-12-22T19:20:39.614Z"
   },
   {
    "duration": 85,
    "start_time": "2022-12-22T19:20:39.631Z"
   },
   {
    "duration": 99,
    "start_time": "2022-12-22T19:20:39.718Z"
   },
   {
    "duration": 4,
    "start_time": "2022-12-22T19:20:39.818Z"
   },
   {
    "duration": 7,
    "start_time": "2022-12-22T19:20:39.824Z"
   },
   {
    "duration": 18,
    "start_time": "2022-12-22T19:20:39.833Z"
   },
   {
    "duration": 5,
    "start_time": "2022-12-22T19:20:39.913Z"
   },
   {
    "duration": 8,
    "start_time": "2022-12-22T19:20:39.920Z"
   },
   {
    "duration": 11,
    "start_time": "2022-12-22T19:20:39.930Z"
   },
   {
    "duration": 74,
    "start_time": "2022-12-22T19:20:39.943Z"
   },
   {
    "duration": 8,
    "start_time": "2022-12-22T19:20:40.020Z"
   },
   {
    "duration": 7,
    "start_time": "2022-12-22T19:20:40.029Z"
   },
   {
    "duration": 82,
    "start_time": "2022-12-22T19:20:40.038Z"
   },
   {
    "duration": 16,
    "start_time": "2022-12-22T19:20:40.121Z"
   },
   {
    "duration": 76,
    "start_time": "2022-12-22T19:20:40.138Z"
   },
   {
    "duration": 21,
    "start_time": "2022-12-22T19:20:40.216Z"
   },
   {
    "duration": 5,
    "start_time": "2022-12-22T19:20:40.239Z"
   },
   {
    "duration": 69,
    "start_time": "2022-12-22T19:20:40.246Z"
   },
   {
    "duration": 6,
    "start_time": "2022-12-22T19:20:40.317Z"
   },
   {
    "duration": 10,
    "start_time": "2022-12-22T19:20:40.324Z"
   },
   {
    "duration": 77,
    "start_time": "2022-12-22T19:20:40.335Z"
   },
   {
    "duration": 3,
    "start_time": "2022-12-22T19:20:40.415Z"
   },
   {
    "duration": 21,
    "start_time": "2022-12-22T19:20:40.420Z"
   },
   {
    "duration": 72,
    "start_time": "2022-12-22T19:20:40.448Z"
   },
   {
    "duration": 16,
    "start_time": "2022-12-22T19:20:40.522Z"
   },
   {
    "duration": 73,
    "start_time": "2022-12-22T19:20:40.540Z"
   },
   {
    "duration": 32,
    "start_time": "2022-12-22T19:20:40.615Z"
   },
   {
    "duration": 65,
    "start_time": "2022-12-22T19:20:40.649Z"
   },
   {
    "duration": 13,
    "start_time": "2022-12-22T19:20:40.715Z"
   },
   {
    "duration": 19,
    "start_time": "2022-12-22T19:20:40.730Z"
   },
   {
    "duration": 318406,
    "start_time": "2022-12-22T19:20:40.812Z"
   },
   {
    "duration": 0,
    "start_time": "2022-12-22T19:25:59.220Z"
   },
   {
    "duration": 0,
    "start_time": "2022-12-22T19:25:59.222Z"
   },
   {
    "duration": 0,
    "start_time": "2022-12-22T19:25:59.223Z"
   },
   {
    "duration": 0,
    "start_time": "2022-12-22T19:25:59.224Z"
   },
   {
    "duration": 0,
    "start_time": "2022-12-22T19:25:59.225Z"
   },
   {
    "duration": 0,
    "start_time": "2022-12-22T19:25:59.226Z"
   },
   {
    "duration": 0,
    "start_time": "2022-12-22T19:25:59.227Z"
   },
   {
    "duration": 0,
    "start_time": "2022-12-22T19:25:59.229Z"
   },
   {
    "duration": 0,
    "start_time": "2022-12-22T19:25:59.230Z"
   },
   {
    "duration": 0,
    "start_time": "2022-12-22T19:25:59.232Z"
   },
   {
    "duration": 0,
    "start_time": "2022-12-22T19:25:59.233Z"
   },
   {
    "duration": 0,
    "start_time": "2022-12-22T19:25:59.234Z"
   },
   {
    "duration": 0,
    "start_time": "2022-12-22T19:25:59.236Z"
   },
   {
    "duration": 0,
    "start_time": "2022-12-22T19:25:59.238Z"
   },
   {
    "duration": 0,
    "start_time": "2022-12-22T19:25:59.240Z"
   },
   {
    "duration": 0,
    "start_time": "2022-12-22T19:25:59.241Z"
   },
   {
    "duration": 0,
    "start_time": "2022-12-22T19:25:59.313Z"
   },
   {
    "duration": 0,
    "start_time": "2022-12-22T19:25:59.314Z"
   },
   {
    "duration": 0,
    "start_time": "2022-12-22T19:25:59.316Z"
   },
   {
    "duration": 0,
    "start_time": "2022-12-22T19:25:59.317Z"
   },
   {
    "duration": 0,
    "start_time": "2022-12-22T19:25:59.319Z"
   },
   {
    "duration": 0,
    "start_time": "2022-12-22T19:25:59.321Z"
   },
   {
    "duration": 0,
    "start_time": "2022-12-22T19:25:59.322Z"
   },
   {
    "duration": 0,
    "start_time": "2022-12-22T19:25:59.324Z"
   },
   {
    "duration": 0,
    "start_time": "2022-12-22T19:25:59.325Z"
   },
   {
    "duration": 0,
    "start_time": "2022-12-22T19:25:59.327Z"
   },
   {
    "duration": 0,
    "start_time": "2022-12-22T19:25:59.328Z"
   },
   {
    "duration": 77005,
    "start_time": "2022-12-22T19:26:23.725Z"
   },
   {
    "duration": 85615,
    "start_time": "2022-12-22T19:27:55.609Z"
   },
   {
    "duration": 20,
    "start_time": "2022-12-22T19:29:44.997Z"
   },
   {
    "duration": 13,
    "start_time": "2022-12-22T19:29:48.829Z"
   },
   {
    "duration": 189546,
    "start_time": "2022-12-22T19:29:50.831Z"
   },
   {
    "duration": 417,
    "start_time": "2022-12-22T19:33:00.379Z"
   },
   {
    "duration": 836,
    "start_time": "2022-12-22T19:33:00.797Z"
   },
   {
    "duration": 309,
    "start_time": "2022-12-22T19:33:01.720Z"
   },
   {
    "duration": 285,
    "start_time": "2022-12-22T19:33:02.031Z"
   },
   {
    "duration": 196,
    "start_time": "2022-12-22T19:33:02.317Z"
   },
   {
    "duration": 1334,
    "start_time": "2022-12-22T19:35:06.385Z"
   },
   {
    "duration": 4,
    "start_time": "2022-12-22T19:35:07.721Z"
   },
   {
    "duration": 30,
    "start_time": "2022-12-22T19:35:07.726Z"
   },
   {
    "duration": 48,
    "start_time": "2022-12-22T19:35:07.759Z"
   },
   {
    "duration": 13,
    "start_time": "2022-12-22T19:35:07.809Z"
   },
   {
    "duration": 16,
    "start_time": "2022-12-22T19:35:07.824Z"
   },
   {
    "duration": 39,
    "start_time": "2022-12-22T19:35:07.841Z"
   },
   {
    "duration": 3,
    "start_time": "2022-12-22T19:35:07.882Z"
   },
   {
    "duration": 2,
    "start_time": "2022-12-22T19:35:07.913Z"
   },
   {
    "duration": 16,
    "start_time": "2022-12-22T19:35:07.918Z"
   },
   {
    "duration": 5,
    "start_time": "2022-12-22T19:35:07.935Z"
   },
   {
    "duration": 8,
    "start_time": "2022-12-22T19:35:07.942Z"
   },
   {
    "duration": 12,
    "start_time": "2022-12-22T19:35:07.952Z"
   },
   {
    "duration": 13,
    "start_time": "2022-12-22T19:35:07.965Z"
   },
   {
    "duration": 39,
    "start_time": "2022-12-22T19:35:07.979Z"
   },
   {
    "duration": 20,
    "start_time": "2022-12-22T19:35:08.020Z"
   },
   {
    "duration": 24,
    "start_time": "2022-12-22T19:35:08.042Z"
   },
   {
    "duration": 11,
    "start_time": "2022-12-22T19:35:08.068Z"
   },
   {
    "duration": 15,
    "start_time": "2022-12-22T19:35:08.080Z"
   },
   {
    "duration": 10,
    "start_time": "2022-12-22T19:35:08.096Z"
   },
   {
    "duration": 11,
    "start_time": "2022-12-22T19:35:08.108Z"
   },
   {
    "duration": 7,
    "start_time": "2022-12-22T19:35:08.121Z"
   },
   {
    "duration": 23,
    "start_time": "2022-12-22T19:35:08.130Z"
   },
   {
    "duration": 26,
    "start_time": "2022-12-22T19:35:08.154Z"
   },
   {
    "duration": 10,
    "start_time": "2022-12-22T19:35:08.182Z"
   },
   {
    "duration": 7,
    "start_time": "2022-12-22T19:35:08.194Z"
   },
   {
    "duration": 20,
    "start_time": "2022-12-22T19:35:08.202Z"
   },
   {
    "duration": 21,
    "start_time": "2022-12-22T19:35:08.226Z"
   },
   {
    "duration": 15,
    "start_time": "2022-12-22T19:35:08.248Z"
   },
   {
    "duration": 14,
    "start_time": "2022-12-22T19:35:08.265Z"
   },
   {
    "duration": 33,
    "start_time": "2022-12-22T19:35:08.281Z"
   },
   {
    "duration": 11,
    "start_time": "2022-12-22T19:35:08.316Z"
   },
   {
    "duration": 41,
    "start_time": "2022-12-22T19:35:08.329Z"
   },
   {
    "duration": 16,
    "start_time": "2022-12-22T19:35:08.372Z"
   },
   {
    "duration": 224859,
    "start_time": "2022-12-22T19:35:08.390Z"
   },
   {
    "duration": 423,
    "start_time": "2022-12-22T19:38:53.251Z"
   },
   {
    "duration": 547,
    "start_time": "2022-12-22T19:38:53.676Z"
   },
   {
    "duration": 311,
    "start_time": "2022-12-22T19:38:54.224Z"
   },
   {
    "duration": 8,
    "start_time": "2022-12-22T19:38:54.537Z"
   },
   {
    "duration": 70,
    "start_time": "2022-12-22T19:38:54.547Z"
   },
   {
    "duration": 7,
    "start_time": "2022-12-22T19:38:54.619Z"
   },
   {
    "duration": 119,
    "start_time": "2022-12-22T19:38:54.716Z"
   },
   {
    "duration": 51,
    "start_time": "2022-12-22T19:38:54.837Z"
   },
   {
    "duration": 42,
    "start_time": "2022-12-22T19:38:54.890Z"
   },
   {
    "duration": 408,
    "start_time": "2022-12-22T19:38:54.937Z"
   },
   {
    "duration": 222361,
    "start_time": "2022-12-22T19:38:55.347Z"
   },
   {
    "duration": 481,
    "start_time": "2022-12-22T19:42:37.711Z"
   },
   {
    "duration": 1024,
    "start_time": "2022-12-22T19:42:38.194Z"
   },
   {
    "duration": 196,
    "start_time": "2022-12-22T19:42:39.220Z"
   },
   {
    "duration": 128746,
    "start_time": "2022-12-22T19:42:39.418Z"
   },
   {
    "duration": 240,
    "start_time": "2022-12-22T19:44:48.166Z"
   },
   {
    "duration": 308,
    "start_time": "2022-12-22T19:44:48.408Z"
   },
   {
    "duration": 101,
    "start_time": "2022-12-22T19:44:48.717Z"
   },
   {
    "duration": 302328,
    "start_time": "2022-12-22T19:44:48.820Z"
   },
   {
    "duration": 539,
    "start_time": "2022-12-22T19:49:51.150Z"
   },
   {
    "duration": 1625,
    "start_time": "2022-12-22T19:49:51.691Z"
   },
   {
    "duration": 109,
    "start_time": "2022-12-22T19:49:53.317Z"
   },
   {
    "duration": 191,
    "start_time": "2022-12-22T19:49:53.428Z"
   },
   {
    "duration": 779,
    "start_time": "2022-12-22T19:49:53.621Z"
   },
   {
    "duration": 638,
    "start_time": "2022-12-22T19:49:54.402Z"
   },
   {
    "duration": 676,
    "start_time": "2022-12-22T19:49:55.041Z"
   },
   {
    "duration": 523,
    "start_time": "2022-12-22T19:49:55.719Z"
   },
   {
    "duration": 1711,
    "start_time": "2022-12-22T19:50:16.607Z"
   },
   {
    "duration": 1615,
    "start_time": "2022-12-23T03:24:22.427Z"
   },
   {
    "duration": 4,
    "start_time": "2022-12-23T03:24:24.044Z"
   },
   {
    "duration": 6,
    "start_time": "2022-12-23T03:24:24.050Z"
   },
   {
    "duration": 82,
    "start_time": "2022-12-23T03:24:24.058Z"
   },
   {
    "duration": 12,
    "start_time": "2022-12-23T03:24:24.142Z"
   },
   {
    "duration": 15,
    "start_time": "2022-12-23T03:24:24.156Z"
   },
   {
    "duration": 46,
    "start_time": "2022-12-23T03:24:24.173Z"
   },
   {
    "duration": 3,
    "start_time": "2022-12-23T03:24:24.221Z"
   },
   {
    "duration": 5,
    "start_time": "2022-12-23T03:24:24.225Z"
   },
   {
    "duration": 21,
    "start_time": "2022-12-23T03:24:24.233Z"
   },
   {
    "duration": 4,
    "start_time": "2022-12-23T03:24:24.256Z"
   },
   {
    "duration": 10,
    "start_time": "2022-12-23T03:24:24.261Z"
   },
   {
    "duration": 6,
    "start_time": "2022-12-23T03:24:24.273Z"
   },
   {
    "duration": 10,
    "start_time": "2022-12-23T03:24:24.280Z"
   },
   {
    "duration": 23,
    "start_time": "2022-12-23T03:24:24.292Z"
   },
   {
    "duration": 3,
    "start_time": "2022-12-23T03:24:24.317Z"
   },
   {
    "duration": 15,
    "start_time": "2022-12-23T03:24:24.322Z"
   },
   {
    "duration": 11,
    "start_time": "2022-12-23T03:24:24.339Z"
   },
   {
    "duration": 13,
    "start_time": "2022-12-23T03:24:24.352Z"
   },
   {
    "duration": 11,
    "start_time": "2022-12-23T03:24:24.366Z"
   },
   {
    "duration": 36,
    "start_time": "2022-12-23T03:24:24.379Z"
   },
   {
    "duration": 11,
    "start_time": "2022-12-23T03:24:24.417Z"
   },
   {
    "duration": 6,
    "start_time": "2022-12-23T03:24:24.429Z"
   },
   {
    "duration": 9,
    "start_time": "2022-12-23T03:24:24.436Z"
   },
   {
    "duration": 11,
    "start_time": "2022-12-23T03:24:24.447Z"
   },
   {
    "duration": 9,
    "start_time": "2022-12-23T03:24:24.460Z"
   },
   {
    "duration": 13,
    "start_time": "2022-12-23T03:24:24.471Z"
   },
   {
    "duration": 26,
    "start_time": "2022-12-23T03:24:24.488Z"
   },
   {
    "duration": 13,
    "start_time": "2022-12-23T03:24:24.515Z"
   },
   {
    "duration": 13,
    "start_time": "2022-12-23T03:24:24.529Z"
   },
   {
    "duration": 23,
    "start_time": "2022-12-23T03:24:24.543Z"
   },
   {
    "duration": 11,
    "start_time": "2022-12-23T03:24:24.567Z"
   },
   {
    "duration": 35,
    "start_time": "2022-12-23T03:24:24.579Z"
   },
   {
    "duration": 15,
    "start_time": "2022-12-23T03:24:24.615Z"
   },
   {
    "duration": 237016,
    "start_time": "2022-12-23T03:24:24.632Z"
   },
   {
    "duration": 889,
    "start_time": "2022-12-23T03:28:21.650Z"
   },
   {
    "duration": 1077,
    "start_time": "2022-12-23T03:28:22.541Z"
   },
   {
    "duration": 394,
    "start_time": "2022-12-23T03:28:23.620Z"
   },
   {
    "duration": 6,
    "start_time": "2022-12-23T03:28:24.015Z"
   },
   {
    "duration": 101,
    "start_time": "2022-12-23T03:28:24.023Z"
   },
   {
    "duration": 87,
    "start_time": "2022-12-23T03:28:24.126Z"
   },
   {
    "duration": 113,
    "start_time": "2022-12-23T03:28:24.216Z"
   },
   {
    "duration": 11,
    "start_time": "2022-12-23T03:28:24.331Z"
   },
   {
    "duration": 70,
    "start_time": "2022-12-23T03:28:24.344Z"
   },
   {
    "duration": 532,
    "start_time": "2022-12-23T03:28:24.416Z"
   },
   {
    "duration": 278381,
    "start_time": "2022-12-23T03:28:24.950Z"
   },
   {
    "duration": 451,
    "start_time": "2022-12-23T03:33:03.332Z"
   },
   {
    "duration": 931,
    "start_time": "2022-12-23T03:33:03.785Z"
   },
   {
    "duration": 101,
    "start_time": "2022-12-23T03:33:04.719Z"
   },
   {
    "duration": 129989,
    "start_time": "2022-12-23T03:33:04.822Z"
   },
   {
    "duration": 228,
    "start_time": "2022-12-23T03:35:14.813Z"
   },
   {
    "duration": 274,
    "start_time": "2022-12-23T03:35:15.043Z"
   },
   {
    "duration": 106,
    "start_time": "2022-12-23T03:35:15.318Z"
   },
   {
    "duration": 295123,
    "start_time": "2022-12-23T03:35:15.426Z"
   },
   {
    "duration": 516,
    "start_time": "2022-12-23T03:40:10.550Z"
   },
   {
    "duration": 1477,
    "start_time": "2022-12-23T03:40:11.068Z"
   },
   {
    "duration": 102,
    "start_time": "2022-12-23T03:40:12.613Z"
   },
   {
    "duration": 194,
    "start_time": "2022-12-23T03:40:12.716Z"
   },
   {
    "duration": 747,
    "start_time": "2022-12-23T03:40:12.912Z"
   },
   {
    "duration": 1669,
    "start_time": "2022-12-23T03:40:13.661Z"
   },
   {
    "duration": 455,
    "start_time": "2022-12-23T03:40:15.331Z"
   },
   {
    "duration": 527,
    "start_time": "2022-12-23T03:40:15.788Z"
   },
   {
    "duration": 551,
    "start_time": "2022-12-23T03:55:39.366Z"
   },
   {
    "duration": 1506,
    "start_time": "2022-12-23T03:57:28.869Z"
   },
   {
    "duration": 3,
    "start_time": "2022-12-23T03:57:30.377Z"
   },
   {
    "duration": 12,
    "start_time": "2022-12-23T03:57:30.381Z"
   },
   {
    "duration": 59,
    "start_time": "2022-12-23T03:57:30.395Z"
   },
   {
    "duration": 16,
    "start_time": "2022-12-23T03:57:30.457Z"
   },
   {
    "duration": 21,
    "start_time": "2022-12-23T03:57:30.475Z"
   },
   {
    "duration": 41,
    "start_time": "2022-12-23T03:57:30.498Z"
   },
   {
    "duration": 4,
    "start_time": "2022-12-23T03:57:30.540Z"
   },
   {
    "duration": 10,
    "start_time": "2022-12-23T03:57:30.545Z"
   },
   {
    "duration": 20,
    "start_time": "2022-12-23T03:57:30.557Z"
   },
   {
    "duration": 4,
    "start_time": "2022-12-23T03:57:30.579Z"
   },
   {
    "duration": 15,
    "start_time": "2022-12-23T03:57:30.585Z"
   },
   {
    "duration": 15,
    "start_time": "2022-12-23T03:57:30.602Z"
   },
   {
    "duration": 23,
    "start_time": "2022-12-23T03:57:30.620Z"
   },
   {
    "duration": 16,
    "start_time": "2022-12-23T03:57:30.645Z"
   },
   {
    "duration": 28,
    "start_time": "2022-12-23T03:57:30.662Z"
   },
   {
    "duration": 25,
    "start_time": "2022-12-23T03:57:30.692Z"
   },
   {
    "duration": 18,
    "start_time": "2022-12-23T03:57:30.719Z"
   },
   {
    "duration": 17,
    "start_time": "2022-12-23T03:57:30.739Z"
   },
   {
    "duration": 20,
    "start_time": "2022-12-23T03:57:30.758Z"
   },
   {
    "duration": 11,
    "start_time": "2022-12-23T03:57:30.780Z"
   },
   {
    "duration": 18,
    "start_time": "2022-12-23T03:57:30.793Z"
   },
   {
    "duration": 30,
    "start_time": "2022-12-23T03:57:30.813Z"
   },
   {
    "duration": 24,
    "start_time": "2022-12-23T03:57:30.845Z"
   },
   {
    "duration": 30,
    "start_time": "2022-12-23T03:57:30.871Z"
   },
   {
    "duration": 36,
    "start_time": "2022-12-23T03:57:30.903Z"
   },
   {
    "duration": 22,
    "start_time": "2022-12-23T03:57:30.941Z"
   },
   {
    "duration": 30,
    "start_time": "2022-12-23T03:57:30.964Z"
   },
   {
    "duration": 16,
    "start_time": "2022-12-23T03:57:30.996Z"
   },
   {
    "duration": 22,
    "start_time": "2022-12-23T03:57:31.014Z"
   },
   {
    "duration": 43,
    "start_time": "2022-12-23T03:57:31.037Z"
   },
   {
    "duration": 20,
    "start_time": "2022-12-23T03:57:31.082Z"
   },
   {
    "duration": 28,
    "start_time": "2022-12-23T03:57:31.103Z"
   },
   {
    "duration": 17,
    "start_time": "2022-12-23T03:57:31.132Z"
   },
   {
    "duration": 234305,
    "start_time": "2022-12-23T03:57:31.151Z"
   },
   {
    "duration": 450,
    "start_time": "2022-12-23T04:01:25.458Z"
   },
   {
    "duration": 604,
    "start_time": "2022-12-23T04:01:25.912Z"
   },
   {
    "duration": 267,
    "start_time": "2022-12-23T04:01:26.520Z"
   },
   {
    "duration": 6,
    "start_time": "2022-12-23T04:01:26.789Z"
   },
   {
    "duration": 54,
    "start_time": "2022-12-23T04:01:26.797Z"
   },
   {
    "duration": 62,
    "start_time": "2022-12-23T04:01:26.855Z"
   },
   {
    "duration": 112,
    "start_time": "2022-12-23T04:01:26.925Z"
   },
   {
    "duration": 10,
    "start_time": "2022-12-23T04:01:27.039Z"
   },
   {
    "duration": 16,
    "start_time": "2022-12-23T04:01:27.051Z"
   },
   {
    "duration": 380,
    "start_time": "2022-12-23T04:01:27.069Z"
   },
   {
    "duration": 222402,
    "start_time": "2022-12-23T04:01:27.451Z"
   },
   {
    "duration": 451,
    "start_time": "2022-12-23T04:05:09.855Z"
   },
   {
    "duration": 1014,
    "start_time": "2022-12-23T04:05:10.307Z"
   },
   {
    "duration": 195,
    "start_time": "2022-12-23T04:05:11.323Z"
   },
   {
    "duration": 127606,
    "start_time": "2022-12-23T04:05:11.519Z"
   },
   {
    "duration": 224,
    "start_time": "2022-12-23T04:07:19.126Z"
   },
   {
    "duration": 465,
    "start_time": "2022-12-23T04:07:19.352Z"
   },
   {
    "duration": 192,
    "start_time": "2022-12-23T04:07:19.820Z"
   },
   {
    "duration": 299949,
    "start_time": "2022-12-23T04:07:20.014Z"
   },
   {
    "duration": 522,
    "start_time": "2022-12-23T04:12:19.964Z"
   },
   {
    "duration": 1427,
    "start_time": "2022-12-23T04:12:20.487Z"
   },
   {
    "duration": 109,
    "start_time": "2022-12-23T04:12:21.916Z"
   },
   {
    "duration": 199,
    "start_time": "2022-12-23T04:12:22.027Z"
   },
   {
    "duration": 717,
    "start_time": "2022-12-23T04:12:22.228Z"
   },
   {
    "duration": 1678,
    "start_time": "2022-12-23T04:12:22.946Z"
   },
   {
    "duration": 498,
    "start_time": "2022-12-23T04:12:24.626Z"
   },
   {
    "duration": 471,
    "start_time": "2022-12-23T04:12:25.126Z"
   }
  ],
  "kernelspec": {
   "display_name": "Python 3",
   "language": "python",
   "name": "python3"
  },
  "language_info": {
   "codemirror_mode": {
    "name": "ipython",
    "version": 3
   },
   "file_extension": ".py",
   "mimetype": "text/x-python",
   "name": "python",
   "nbconvert_exporter": "python",
   "pygments_lexer": "ipython3",
   "version": "3.7.4"
  },
  "toc": {
   "base_numbering": 1,
   "nav_menu": {},
   "number_sections": true,
   "sideBar": true,
   "skip_h1_title": true,
   "title_cell": "Содержание",
   "title_sidebar": "Contents",
   "toc_cell": true,
   "toc_position": {
    "height": "calc(100% - 180px)",
    "left": "10px",
    "top": "150px",
    "width": "268px"
   },
   "toc_section_display": true,
   "toc_window_display": true
  }
 },
 "nbformat": 4,
 "nbformat_minor": 2
}
