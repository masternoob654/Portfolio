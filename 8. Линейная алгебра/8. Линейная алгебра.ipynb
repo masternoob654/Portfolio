{
 "cells": [
  {
   "cell_type": "markdown",
   "metadata": {
    "toc": true
   },
   "source": [
    "<h1>Содержание<span class=\"tocSkip\"></span></h1>\n",
    "<div class=\"toc\"><ul class=\"toc-item\"><li><span><a href=\"#Загрузка-данных\" data-toc-modified-id=\"Загрузка-данных-1\"><span class=\"toc-item-num\">1&nbsp;&nbsp;</span>Загрузка данных</a></span><ul class=\"toc-item\"><li><span><a href=\"#Предобработка-данных\" data-toc-modified-id=\"Предобработка-данных-1.1\"><span class=\"toc-item-num\">1.1&nbsp;&nbsp;</span>Предобработка данных</a></span></li><li><span><a href=\"#Разделение-данных\" data-toc-modified-id=\"Разделение-данных-1.2\"><span class=\"toc-item-num\">1.2&nbsp;&nbsp;</span>Разделение данных</a></span></li></ul></li><li><span><a href=\"#Умножение-матриц\" data-toc-modified-id=\"Умножение-матриц-2\"><span class=\"toc-item-num\">2&nbsp;&nbsp;</span>Умножение матриц</a></span></li><li><span><a href=\"#Алгоритм-преобразования\" data-toc-modified-id=\"Алгоритм-преобразования-3\"><span class=\"toc-item-num\">3&nbsp;&nbsp;</span>Алгоритм преобразования</a></span></li><li><span><a href=\"#Проверка-алгоритма\" data-toc-modified-id=\"Проверка-алгоритма-4\"><span class=\"toc-item-num\">4&nbsp;&nbsp;</span>Проверка алгоритма</a></span></li><li><span><a href=\"#Вывод\" data-toc-modified-id=\"Вывод-5\"><span class=\"toc-item-num\">5&nbsp;&nbsp;</span>Вывод</a></span></li><li><span><a href=\"#Чек-лист-проверки\" data-toc-modified-id=\"Чек-лист-проверки-6\"><span class=\"toc-item-num\">6&nbsp;&nbsp;</span>Чек-лист проверки</a></span></li></ul></div>"
   ]
  },
  {
   "cell_type": "markdown",
   "metadata": {},
   "source": [
    "# Защита персональных данных клиентов"
   ]
  },
  {
   "cell_type": "markdown",
   "metadata": {},
   "source": [
    "Вам нужно защитить данные клиентов страховой компании «Хоть потоп». Разработайте такой метод преобразования данных, чтобы по ним было сложно восстановить персональную информацию. Обоснуйте корректность его работы.\n",
    "\n",
    "Нужно защитить данные, чтобы при преобразовании качество моделей машинного обучения не ухудшилось. Подбирать наилучшую модель не требуется."
   ]
  },
  {
   "cell_type": "markdown",
   "metadata": {},
   "source": [
    "## Загрузка данных"
   ]
  },
  {
   "cell_type": "markdown",
   "metadata": {},
   "source": [
    "### Предобработка данных"
   ]
  },
  {
   "cell_type": "markdown",
   "metadata": {},
   "source": [
    "Начнём работу с данными с импорта библиотек."
   ]
  },
  {
   "cell_type": "code",
   "execution_count": 1,
   "metadata": {},
   "outputs": [],
   "source": [
    "import pandas as pd\n",
    "import numpy as np\n",
    "\n",
    "\n",
    "from sklearn.model_selection import train_test_split\n",
    "from sklearn.linear_model import LinearRegression\n",
    "from sklearn.metrics import r2_score\n",
    "\n",
    "\n",
    "import os\n",
    "import warnings\n",
    "warnings.filterwarnings('ignore')"
   ]
  },
  {
   "cell_type": "code",
   "execution_count": 2,
   "metadata": {},
   "outputs": [],
   "source": [
    "path_data = \"/datasets/insurance.csv\"\n",
    "\n",
    "if os.path.exists(path_data):\n",
    "    data = pd.read_csv(path_data)\n",
    "else:\n",
    "    print('Что-то не так!')"
   ]
  },
  {
   "cell_type": "markdown",
   "metadata": {},
   "source": [
    "Рассмотрим эти данные и проведём предобработку, если таковая потребуется."
   ]
  },
  {
   "cell_type": "code",
   "execution_count": 3,
   "metadata": {},
   "outputs": [
    {
     "name": "stdout",
     "output_type": "stream",
     "text": [
      "<class 'pandas.core.frame.DataFrame'>\n",
      "RangeIndex: 5000 entries, 0 to 4999\n",
      "Data columns (total 5 columns):\n",
      " #   Column             Non-Null Count  Dtype  \n",
      "---  ------             --------------  -----  \n",
      " 0   Пол                5000 non-null   int64  \n",
      " 1   Возраст            5000 non-null   float64\n",
      " 2   Зарплата           5000 non-null   float64\n",
      " 3   Члены семьи        5000 non-null   int64  \n",
      " 4   Страховые выплаты  5000 non-null   int64  \n",
      "dtypes: float64(2), int64(3)\n",
      "memory usage: 195.4 KB\n"
     ]
    }
   ],
   "source": [
    "data.info()"
   ]
  },
  {
   "cell_type": "code",
   "execution_count": 4,
   "metadata": {},
   "outputs": [
    {
     "data": {
      "text/plain": [
       "array([1, 0])"
      ]
     },
     "execution_count": 4,
     "metadata": {},
     "output_type": "execute_result"
    }
   ],
   "source": [
    "data['Пол'].unique()"
   ]
  },
  {
   "cell_type": "code",
   "execution_count": 5,
   "metadata": {},
   "outputs": [
    {
     "data": {
      "text/plain": [
       "array([41., 46., 29., 21., 28., 43., 39., 25., 36., 32., 38., 23., 40.,\n",
       "       34., 26., 42., 27., 33., 47., 30., 19., 31., 22., 20., 24., 18.,\n",
       "       37., 48., 45., 44., 52., 49., 35., 56., 65., 55., 57., 54., 50.,\n",
       "       53., 51., 58., 59., 60., 61., 62.])"
      ]
     },
     "execution_count": 5,
     "metadata": {},
     "output_type": "execute_result"
    }
   ],
   "source": [
    "data['Возраст'].unique()"
   ]
  },
  {
   "cell_type": "code",
   "execution_count": 6,
   "metadata": {},
   "outputs": [
    {
     "data": {
      "text/plain": [
       "array([49600., 38000., 21000., 41700., 26100., 41000., 39700., 38600.,\n",
       "       49700., 51700., 36600., 29300., 39500., 55000., 43700., 23300.,\n",
       "       48900., 33200., 36900., 43500., 36100., 26600., 48700., 40400.,\n",
       "       38400., 34600., 34800., 36800., 42200., 46300., 30300., 51000.,\n",
       "       28100., 64800., 30400., 45300., 38300., 49500., 19400., 40200.,\n",
       "       31700., 69200., 33100., 31600., 34500., 38700., 39600., 42400.,\n",
       "       34900., 30500., 24200., 49900., 14300., 47000., 44800., 43800.,\n",
       "       42700., 35400., 57200., 29600., 37400., 48100., 33700., 61800.,\n",
       "       39400., 15600., 52600., 37600., 52500., 32700., 51600., 60900.,\n",
       "       41800., 47400., 26500., 45900., 35700., 34300., 26700., 25700.,\n",
       "       33300., 31100., 31500., 42100., 37300., 42500., 27300., 46800.,\n",
       "       33500., 44300., 41600., 53900., 40100., 44600., 45000., 32000.,\n",
       "       38200., 33000., 38500., 51800., 33800., 46400., 43200., 31800.,\n",
       "       50200., 35100., 30700., 45800., 49300., 42800., 33600., 50300.,\n",
       "       34000., 36400., 44900., 43600., 54600., 52800., 29700., 39000.,\n",
       "       44100., 31900., 37700., 35200., 43100., 51300., 47500., 40800.,\n",
       "       26800., 64900., 35900., 31200., 39900., 43300., 33900., 40700.,\n",
       "       44700., 53400., 30600., 56000., 35600., 55200., 40600., 48300.,\n",
       "       50800., 41200., 44200., 44400., 40500., 39800., 16600., 48400.,\n",
       "       25100., 23100., 32100., 31000., 42900., 46700., 26000., 55900.,\n",
       "       52000., 41500., 49400., 60300., 45600., 49000., 37500., 21900.,\n",
       "       45100., 47900., 54300., 32400., 41300., 44500., 23200., 37900.,\n",
       "       48000., 52100., 45700., 29900., 42600., 45200., 36000., 46500.,\n",
       "       23800., 30200., 24400., 32800., 29000., 43400., 51500., 61700.,\n",
       "       45400., 50700., 36200., 41900., 27900., 47200., 48800., 55100.,\n",
       "       48200., 35500., 35000., 43900., 40000., 22000., 40300., 36300.,\n",
       "       49800., 25600., 42300., 54900., 25500., 32900., 36700., 38900.,\n",
       "       24700., 28800., 22900., 47300., 14500., 28700., 44000., 34100.,\n",
       "       53000., 59300., 28500., 47100., 41400., 58900., 17500., 54200.,\n",
       "       43000., 29800., 20000., 13800., 27500., 67700., 28000., 37100.,\n",
       "        8900., 14600., 56200., 38800., 27700., 50500., 58400., 34700.,\n",
       "       34400., 49100., 50900., 28200., 61500., 32500., 25900.,  9800.,\n",
       "       28300., 41100., 62000., 32600., 37200., 53800., 24000., 53600.,\n",
       "       54800., 59600., 20200., 21700., 29200., 38100., 20700., 32300.,\n",
       "       21200., 62100., 54000., 24500., 51900., 47800., 56100., 55300.,\n",
       "       58100., 28900., 39100., 58000., 27200., 24600., 30100., 57100.,\n",
       "       60100., 22200., 47700., 24900., 37800., 52700., 34200., 18700.,\n",
       "       42000., 26300., 22600., 30900., 35800., 30800., 51100., 53300.,\n",
       "       46200., 24100., 54700., 51200., 62300., 51400., 40900., 23400.,\n",
       "       35300., 55800., 33400., 21300., 30000., 56700., 46900.,  5300.,\n",
       "       39200., 57500., 31300., 53700., 21600., 50000., 36500., 16400.,\n",
       "       15900., 65100., 59900., 63200., 26200., 61200., 48500., 32200.,\n",
       "       29100., 50100., 22700., 28600., 23500., 23700., 19600., 17800.,\n",
       "       50600., 57900., 22500., 22100., 58300., 64100., 25000., 60400.,\n",
       "       59100., 37000., 62400., 29500., 25800., 25400., 26900., 21500.,\n",
       "       52200., 46600., 57300., 46100., 19300., 18900., 31400., 28400.,\n",
       "       29400., 17600., 13900., 52400., 11300., 46000., 60500., 58700.,\n",
       "       58200., 24800., 63700., 60600., 20400., 26400., 55600., 57000.,\n",
       "       45500., 48600., 57600., 52900., 62800., 17000., 56500., 52300.,\n",
       "       18400., 63300., 12900., 27000., 55700., 39300., 27800., 18300.,\n",
       "       56300., 59800., 24300., 14400., 13400., 17900., 47600., 54500.,\n",
       "       54400., 23900., 13000., 19900., 55400., 22800., 61000., 57400.,\n",
       "       23000., 20500., 53200., 18100., 25300., 59500., 18200., 50400.,\n",
       "       21100., 20900., 27400., 17300., 60700., 70600., 17700., 19700.,\n",
       "       49200., 63100., 59200., 14700., 53100., 21800., 68000., 16500.,\n",
       "       71400., 10000., 55500., 54100., 56400., 20600., 66300., 18800.,\n",
       "       11000., 66100., 27100., 57800., 53500., 19200., 58500., 64000.,\n",
       "       63600., 23600., 25200., 19100., 18600., 57700., 62700., 56600.,\n",
       "       21400., 58800., 68400., 17100., 13300., 68500., 56900., 64400.,\n",
       "       27600., 67200., 16200., 58600., 62200., 16000., 79000., 22300.,\n",
       "       11200., 71600., 61300., 70500., 67100., 59000., 13500., 16700.,\n",
       "       15700., 60000., 17400., 63400., 61900., 65200., 62600., 14100.,\n",
       "       20100., 63800., 15100., 70000., 60200., 20300., 65900., 15200.,\n",
       "       63500., 13200., 68900., 12200.,  6000., 74800., 59700., 10800.,\n",
       "       19000., 10600., 69400., 15000., 75200., 62500., 16300., 20800.,\n",
       "        7400., 65300., 61400., 56800.])"
      ]
     },
     "execution_count": 6,
     "metadata": {},
     "output_type": "execute_result"
    }
   ],
   "source": [
    "data['Зарплата'].unique()"
   ]
  },
  {
   "cell_type": "code",
   "execution_count": 7,
   "metadata": {},
   "outputs": [
    {
     "data": {
      "text/plain": [
       "array([1, 0, 2, 4, 3, 5, 6])"
      ]
     },
     "execution_count": 7,
     "metadata": {},
     "output_type": "execute_result"
    }
   ],
   "source": [
    "data['Члены семьи'].unique()"
   ]
  },
  {
   "cell_type": "code",
   "execution_count": 8,
   "metadata": {},
   "outputs": [
    {
     "data": {
      "text/plain": [
       "array([0, 1, 2, 3, 5, 4])"
      ]
     },
     "execution_count": 8,
     "metadata": {},
     "output_type": "execute_result"
    }
   ],
   "source": [
    "data['Страховые выплаты'].unique()"
   ]
  },
  {
   "cell_type": "code",
   "execution_count": 9,
   "metadata": {},
   "outputs": [
    {
     "data": {
      "text/plain": [
       "Пол                  0\n",
       "Возраст              0\n",
       "Зарплата             0\n",
       "Члены семьи          0\n",
       "Страховые выплаты    0\n",
       "dtype: int64"
      ]
     },
     "execution_count": 9,
     "metadata": {},
     "output_type": "execute_result"
    }
   ],
   "source": [
    "data.isna().sum()"
   ]
  },
  {
   "cell_type": "markdown",
   "metadata": {},
   "source": [
    "С данными всё в порядке - нет неявных дубликатов и пропусков. Единственное, что следует изменить - тип данных в колонках `Возраст` и `Зарплата` с `float`на `integer`."
   ]
  },
  {
   "cell_type": "code",
   "execution_count": 10,
   "metadata": {},
   "outputs": [],
   "source": [
    "data[['Зарплата', 'Возраст']] = data[['Зарплата', 'Возраст']].astype('int')"
   ]
  },
  {
   "cell_type": "code",
   "execution_count": 11,
   "metadata": {
    "scrolled": true
   },
   "outputs": [
    {
     "name": "stdout",
     "output_type": "stream",
     "text": [
      "<class 'pandas.core.frame.DataFrame'>\n",
      "RangeIndex: 5000 entries, 0 to 4999\n",
      "Data columns (total 5 columns):\n",
      " #   Column             Non-Null Count  Dtype\n",
      "---  ------             --------------  -----\n",
      " 0   Пол                5000 non-null   int64\n",
      " 1   Возраст            5000 non-null   int64\n",
      " 2   Зарплата           5000 non-null   int64\n",
      " 3   Члены семьи        5000 non-null   int64\n",
      " 4   Страховые выплаты  5000 non-null   int64\n",
      "dtypes: int64(5)\n",
      "memory usage: 195.4 KB\n"
     ]
    }
   ],
   "source": [
    "data.info()"
   ]
  },
  {
   "cell_type": "markdown",
   "metadata": {},
   "source": [
    "Предобработка данных завершена, теперь нужно разделить данные"
   ]
  },
  {
   "cell_type": "markdown",
   "metadata": {},
   "source": [
    "### Разделение данных"
   ]
  },
  {
   "cell_type": "code",
   "execution_count": 12,
   "metadata": {},
   "outputs": [],
   "source": [
    "features = data.drop(['Страховые выплаты'], axis = 1)\n",
    "target = data['Страховые выплаты']"
   ]
  },
  {
   "cell_type": "code",
   "execution_count": 13,
   "metadata": {},
   "outputs": [],
   "source": [
    "train_features, test_features, train_target, test_target = train_test_split(features, target, test_size = 0.25, random_state = 12345)"
   ]
  },
  {
   "cell_type": "code",
   "execution_count": 14,
   "metadata": {},
   "outputs": [
    {
     "name": "stdout",
     "output_type": "stream",
     "text": [
      "(3750, 4) (1250, 4) (3750,) (1250,)\n"
     ]
    }
   ],
   "source": [
    "print(train_features.shape, test_features.shape, train_target.shape, test_target.shape)"
   ]
  },
  {
   "cell_type": "markdown",
   "metadata": {},
   "source": [
    "**Вывод**\n",
    "\n",
    "Была произведена предобработка данных и были успешно разделены данные."
   ]
  },
  {
   "cell_type": "markdown",
   "metadata": {},
   "source": [
    "## Умножение матриц"
   ]
  },
  {
   "cell_type": "markdown",
   "metadata": {},
   "source": [
    "В этом задании вы можете записывать формулы в *Jupyter Notebook.*\n",
    "\n",
    "Чтобы записать формулу внутри текста, окружите её символами доллара \\\\$; если снаружи —  двойными символами \\\\$\\\\$. Эти формулы записываются на языке вёрстки *LaTeX.* \n",
    "\n",
    "Для примера мы записали формулы линейной регрессии. Можете их скопировать и отредактировать, чтобы решить задачу.\n",
    "\n",
    "Работать в *LaTeX* необязательно."
   ]
  },
  {
   "cell_type": "markdown",
   "metadata": {},
   "source": [
    "Обозначения:\n",
    "\n",
    "- $X$ — матрица признаков (нулевой столбец состоит из единиц)\n",
    "\n",
    "- $y$ — вектор целевого признака\n",
    "\n",
    "- $P$ — матрица, на которую умножаются признаки\n",
    "\n",
    "- $w$ — вектор весов линейной регрессии (нулевой элемент равен сдвигу)"
   ]
  },
  {
   "cell_type": "markdown",
   "metadata": {},
   "source": [
    "Предсказания:\n",
    "\n",
    "$$\n",
    "a = Xw\n",
    "$$\n",
    "\n",
    "Задача обучения:\n",
    "\n",
    "$$\n",
    "w = \\arg\\min_w MSE(Xw, y)\n",
    "$$\n",
    "\n",
    "Формула обучения:\n",
    "\n",
    "$$\n",
    "w = (X^T X)^{-1} X^T y\n",
    "$$"
   ]
  },
  {
   "cell_type": "markdown",
   "metadata": {},
   "source": [
    "**Ответ:** Если умножить признаки на обратную матрицу \n",
    "\n",
    "**Обоснование:** \n",
    "\n",
    "Подставим в формулу вектора предсказаний формулу обучений:\n",
    "\n",
    "$$\n",
    "a = X(X^T X)^{-1} X^T y\n",
    "$$\n",
    "\n",
    "Умножаем матрицу признаков X на матрицу P:\n",
    "\n",
    "$$\n",
    "XP((XP)^T XP)^{-1} (XP)^T y =\n",
    "$$\n",
    "\n",
    "Используем свойство произведения транспонированных матриц: `(AB)^T = B^T A^T`\n",
    "\n",
    "$$\n",
    "= XP((P^T X^T XP)^{-1} P^T X^T y = \n",
    "$$\n",
    "\n",
    "Раскрываем скобки.\n",
    "\n",
    "$$\n",
    "= XP(P^T)^{-1} (X^T X)^{-1} P^{-1} P^T X^T y =\n",
    "$$\n",
    "\n",
    "Группируем матрицы с обратными им.\n",
    "\n",
    "$$\n",
    "= XP P^{-1} (X^T X)^{-1} (P^T)^{-1} P^T X^T y =\n",
    "$$\n",
    "\n",
    "Получаем конечный результат.\n",
    "\n",
    "$$\n",
    "= X (X^T X)^{-1} X^T y\n",
    "$$"
   ]
  },
  {
   "cell_type": "markdown",
   "metadata": {},
   "source": [
    "Видим, что матрица $P$ в результате преобразований исчезла из уравнения, а вектор целевого признака $y$ зависит от наших результатов регрессии."
   ]
  },
  {
   "cell_type": "markdown",
   "metadata": {},
   "source": [
    "## Алгоритм преобразования"
   ]
  },
  {
   "cell_type": "markdown",
   "metadata": {},
   "source": [
    "**Алгоритм**\n",
    "\n",
    "Умножить матрицу, содержащую признаки, на любую обратимую матрицу."
   ]
  },
  {
   "cell_type": "markdown",
   "metadata": {},
   "source": [
    "**Обоснование**\n",
    "\n",
    "Учитывая суть задания - преобразовать данные клиента без потери качества модели машинного обучения, можно применить данный алгоритм, так как мы доказали, что умножение этих признаков на случайную обратимую матрицу не ухудшает качество линейной регрессии."
   ]
  },
  {
   "cell_type": "markdown",
   "metadata": {},
   "source": [
    "## Проверка алгоритма"
   ]
  },
  {
   "cell_type": "markdown",
   "metadata": {},
   "source": [
    "Обучим модель на наших данных."
   ]
  },
  {
   "cell_type": "code",
   "execution_count": 15,
   "metadata": {},
   "outputs": [
    {
     "name": "stdout",
     "output_type": "stream",
     "text": [
      "R2-score модели равен 0.4352275684083322\n"
     ]
    }
   ],
   "source": [
    "model = LinearRegression().fit(train_features, train_target)\n",
    "predictions = model.predict(test_features)\n",
    "print(\"R2-score модели равен\", r2_score(test_target, predictions))"
   ]
  },
  {
   "cell_type": "code",
   "execution_count": 16,
   "metadata": {},
   "outputs": [
    {
     "name": "stdout",
     "output_type": "stream",
     "text": [
      "2.2981741019490403\n"
     ]
    }
   ],
   "source": [
    "random_matrix = np.random.normal(size = [4, 4])\n",
    "\n",
    "det = np.linalg.det(random_matrix)\n",
    "print(det)"
   ]
  },
  {
   "cell_type": "markdown",
   "metadata": {},
   "source": [
    "Теперь умножим матрицу признаков на случайную матрицу."
   ]
  },
  {
   "cell_type": "code",
   "execution_count": 17,
   "metadata": {
    "scrolled": true
   },
   "outputs": [
    {
     "data": {
      "text/html": [
       "<div>\n",
       "<style scoped>\n",
       "    .dataframe tbody tr th:only-of-type {\n",
       "        vertical-align: middle;\n",
       "    }\n",
       "\n",
       "    .dataframe tbody tr th {\n",
       "        vertical-align: top;\n",
       "    }\n",
       "\n",
       "    .dataframe thead th {\n",
       "        text-align: right;\n",
       "    }\n",
       "</style>\n",
       "<table border=\"1\" class=\"dataframe\">\n",
       "  <thead>\n",
       "    <tr style=\"text-align: right;\">\n",
       "      <th></th>\n",
       "      <th>0</th>\n",
       "      <th>1</th>\n",
       "      <th>2</th>\n",
       "      <th>3</th>\n",
       "    </tr>\n",
       "  </thead>\n",
       "  <tbody>\n",
       "    <tr>\n",
       "      <th>0</th>\n",
       "      <td>9943.917436</td>\n",
       "      <td>-45977.923433</td>\n",
       "      <td>-35675.769221</td>\n",
       "      <td>12684.053690</td>\n",
       "    </tr>\n",
       "    <tr>\n",
       "      <th>1</th>\n",
       "      <td>7605.727518</td>\n",
       "      <td>-35210.018887</td>\n",
       "      <td>-27342.692869</td>\n",
       "      <td>9728.190090</td>\n",
       "    </tr>\n",
       "    <tr>\n",
       "      <th>2</th>\n",
       "      <td>4200.091036</td>\n",
       "      <td>-19453.798500</td>\n",
       "      <td>-15112.410283</td>\n",
       "      <td>5377.678062</td>\n",
       "    </tr>\n",
       "    <tr>\n",
       "      <th>3</th>\n",
       "      <td>8371.865695</td>\n",
       "      <td>-38668.931890</td>\n",
       "      <td>-29985.809534</td>\n",
       "      <td>10658.693806</td>\n",
       "    </tr>\n",
       "    <tr>\n",
       "      <th>4</th>\n",
       "      <td>5226.964396</td>\n",
       "      <td>-24187.423763</td>\n",
       "      <td>-18776.605876</td>\n",
       "      <td>6676.789055</td>\n",
       "    </tr>\n",
       "    <tr>\n",
       "      <th>...</th>\n",
       "      <td>...</td>\n",
       "      <td>...</td>\n",
       "      <td>...</td>\n",
       "      <td>...</td>\n",
       "    </tr>\n",
       "    <tr>\n",
       "      <th>4995</th>\n",
       "      <td>7158.542180</td>\n",
       "      <td>-33095.548470</td>\n",
       "      <td>-25678.308973</td>\n",
       "      <td>9131.363500</td>\n",
       "    </tr>\n",
       "    <tr>\n",
       "      <th>4996</th>\n",
       "      <td>10513.528288</td>\n",
       "      <td>-48581.380056</td>\n",
       "      <td>-37683.938325</td>\n",
       "      <td>13396.655826</td>\n",
       "    </tr>\n",
       "    <tr>\n",
       "      <th>4997</th>\n",
       "      <td>6803.331421</td>\n",
       "      <td>-31433.547258</td>\n",
       "      <td>-24379.232655</td>\n",
       "      <td>8667.119135</td>\n",
       "    </tr>\n",
       "    <tr>\n",
       "      <th>4998</th>\n",
       "      <td>6559.928240</td>\n",
       "      <td>-30320.919199</td>\n",
       "      <td>-23518.416300</td>\n",
       "      <td>8360.959518</td>\n",
       "    </tr>\n",
       "    <tr>\n",
       "      <th>4999</th>\n",
       "      <td>8144.375523</td>\n",
       "      <td>-37641.147772</td>\n",
       "      <td>-29198.635753</td>\n",
       "      <td>10378.992496</td>\n",
       "    </tr>\n",
       "  </tbody>\n",
       "</table>\n",
       "<p>5000 rows × 4 columns</p>\n",
       "</div>"
      ],
      "text/plain": [
       "                 0             1             2             3\n",
       "0      9943.917436 -45977.923433 -35675.769221  12684.053690\n",
       "1      7605.727518 -35210.018887 -27342.692869   9728.190090\n",
       "2      4200.091036 -19453.798500 -15112.410283   5377.678062\n",
       "3      8371.865695 -38668.931890 -29985.809534  10658.693806\n",
       "4      5226.964396 -24187.423763 -18776.605876   6676.789055\n",
       "...            ...           ...           ...           ...\n",
       "4995   7158.542180 -33095.548470 -25678.308973   9131.363500\n",
       "4996  10513.528288 -48581.380056 -37683.938325  13396.655826\n",
       "4997   6803.331421 -31433.547258 -24379.232655   8667.119135\n",
       "4998   6559.928240 -30320.919199 -23518.416300   8360.959518\n",
       "4999   8144.375523 -37641.147772 -29198.635753  10378.992496\n",
       "\n",
       "[5000 rows x 4 columns]"
      ]
     },
     "execution_count": 17,
     "metadata": {},
     "output_type": "execute_result"
    }
   ],
   "source": [
    "features_new = [[]]\n",
    "\n",
    "while det == 0:\n",
    "    print('Определитель матрицы равен 0, матрица является необратимой!')\n",
    "    random_matrix = np.random.normal(size = [4, 4])\n",
    "    det = np.linalg.det(random_matrix)\n",
    "    \n",
    "\n",
    "features_new = features @ random_matrix\n",
    "\n",
    "features_new"
   ]
  },
  {
   "cell_type": "markdown",
   "metadata": {},
   "source": [
    "Признаки отличаются от тех, что находятся в исходных данных. Теперь обучим модель на новых данных и сравним R2-score старой и новой моделей."
   ]
  },
  {
   "cell_type": "code",
   "execution_count": 18,
   "metadata": {},
   "outputs": [],
   "source": [
    "train_features, test_features, train_target, test_target = train_test_split(features_new, target, test_size = 0.25, random_state = 12345)"
   ]
  },
  {
   "cell_type": "code",
   "execution_count": 19,
   "metadata": {},
   "outputs": [
    {
     "name": "stdout",
     "output_type": "stream",
     "text": [
      "(3750, 4) (1250, 4) (3750,) (1250,)\n"
     ]
    }
   ],
   "source": [
    "print(train_features.shape, test_features.shape, train_target.shape, test_target.shape)"
   ]
  },
  {
   "cell_type": "code",
   "execution_count": 20,
   "metadata": {},
   "outputs": [
    {
     "name": "stdout",
     "output_type": "stream",
     "text": [
      "R2-score модели равен 0.43522756840831356\n"
     ]
    }
   ],
   "source": [
    "model = LinearRegression().fit(train_features, train_target)\n",
    "predictions = model.predict(test_features)\n",
    "print(\"R2-score модели равен\", r2_score(test_target, predictions))"
   ]
  },
  {
   "cell_type": "markdown",
   "metadata": {},
   "source": [
    "Видно, что показатель R2 для старой и новой моделей одинаков. Умножение на случайную матрицу никак не повлияло на точность модели."
   ]
  },
  {
   "cell_type": "markdown",
   "metadata": {},
   "source": [
    "## Вывод"
   ]
  },
  {
   "cell_type": "markdown",
   "metadata": {},
   "source": [
    "В результате выполнения данного проекта был проведён ряд действий.\n",
    "\n",
    "* Загружены и подготовлены данные. \n",
    "* Был получен ответ на вопрос об умножении признаков на обратимую матрицу.\n",
    "* Был предложен алгоритм преобразования.\n",
    "* Был проверен предложенный алгоритм."
   ]
  }
 ],
 "metadata": {
  "ExecuteTimeLog": [
   {
    "duration": 1531,
    "start_time": "2023-02-14T19:37:25.789Z"
   },
   {
    "duration": 129,
    "start_time": "2023-02-14T19:37:55.868Z"
   },
   {
    "duration": 86,
    "start_time": "2023-02-14T19:38:17.715Z"
   },
   {
    "duration": 12,
    "start_time": "2023-02-14T19:38:37.961Z"
   },
   {
    "duration": 11,
    "start_time": "2023-02-14T19:39:04.419Z"
   },
   {
    "duration": 9,
    "start_time": "2023-02-14T19:46:02.438Z"
   },
   {
    "duration": 4,
    "start_time": "2023-02-14T19:46:16.452Z"
   },
   {
    "duration": 3,
    "start_time": "2023-02-14T19:46:17.005Z"
   },
   {
    "duration": 3,
    "start_time": "2023-02-14T19:46:17.786Z"
   },
   {
    "duration": 32,
    "start_time": "2023-02-14T19:46:18.173Z"
   },
   {
    "duration": 29,
    "start_time": "2023-02-14T19:46:35.463Z"
   },
   {
    "duration": 11,
    "start_time": "2023-02-14T19:46:36.664Z"
   },
   {
    "duration": 10,
    "start_time": "2023-02-14T19:46:37.986Z"
   },
   {
    "duration": 28,
    "start_time": "2023-02-14T19:46:47.826Z"
   },
   {
    "duration": 10,
    "start_time": "2023-02-14T19:46:48.634Z"
   },
   {
    "duration": 785,
    "start_time": "2023-02-14T20:36:21.983Z"
   },
   {
    "duration": 8,
    "start_time": "2023-02-14T20:36:32.752Z"
   },
   {
    "duration": 5,
    "start_time": "2023-02-14T20:40:56.561Z"
   },
   {
    "duration": 12,
    "start_time": "2023-02-14T20:41:07.483Z"
   },
   {
    "duration": 5,
    "start_time": "2023-02-14T20:41:36.613Z"
   },
   {
    "duration": 9,
    "start_time": "2023-02-14T20:43:52.134Z"
   },
   {
    "duration": 9,
    "start_time": "2023-02-14T20:43:57.502Z"
   },
   {
    "duration": 8,
    "start_time": "2023-02-14T20:44:09.536Z"
   },
   {
    "duration": 19,
    "start_time": "2023-02-14T20:44:32.217Z"
   },
   {
    "duration": 43,
    "start_time": "2023-02-15T15:48:55.223Z"
   },
   {
    "duration": 1504,
    "start_time": "2023-02-15T15:49:00.040Z"
   },
   {
    "duration": 96,
    "start_time": "2023-02-15T15:49:01.546Z"
   },
   {
    "duration": 12,
    "start_time": "2023-02-15T15:49:01.644Z"
   },
   {
    "duration": 50,
    "start_time": "2023-02-15T15:49:01.658Z"
   },
   {
    "duration": 36,
    "start_time": "2023-02-15T15:49:01.710Z"
   },
   {
    "duration": 33,
    "start_time": "2023-02-15T15:49:01.748Z"
   },
   {
    "duration": 29,
    "start_time": "2023-02-15T15:49:01.783Z"
   },
   {
    "duration": 20,
    "start_time": "2023-02-15T15:49:01.813Z"
   },
   {
    "duration": 29,
    "start_time": "2023-02-15T15:49:01.834Z"
   },
   {
    "duration": 6,
    "start_time": "2023-02-15T16:00:48.363Z"
   },
   {
    "duration": 5,
    "start_time": "2023-02-15T16:04:38.289Z"
   },
   {
    "duration": 8,
    "start_time": "2023-02-15T16:04:44.737Z"
   },
   {
    "duration": 11,
    "start_time": "2023-02-15T16:04:50.909Z"
   },
   {
    "duration": 4,
    "start_time": "2023-02-15T16:16:57.594Z"
   },
   {
    "duration": 5,
    "start_time": "2023-02-15T16:17:12.519Z"
   },
   {
    "duration": 5,
    "start_time": "2023-02-15T16:17:33.719Z"
   },
   {
    "duration": 4,
    "start_time": "2023-02-15T16:35:19.188Z"
   },
   {
    "duration": 127,
    "start_time": "2023-02-15T19:43:00.058Z"
   },
   {
    "duration": 21,
    "start_time": "2023-02-15T19:43:58.162Z"
   },
   {
    "duration": 10,
    "start_time": "2023-02-15T19:44:06.234Z"
   },
   {
    "duration": 9,
    "start_time": "2023-02-15T19:44:41.558Z"
   },
   {
    "duration": 12,
    "start_time": "2023-02-15T20:28:34.962Z"
   },
   {
    "duration": 11,
    "start_time": "2023-02-15T20:28:51.106Z"
   },
   {
    "duration": 5,
    "start_time": "2023-02-15T20:31:22.694Z"
   },
   {
    "duration": 3,
    "start_time": "2023-02-15T20:31:38.194Z"
   },
   {
    "duration": 8,
    "start_time": "2023-02-15T20:32:03.870Z"
   },
   {
    "duration": 1293,
    "start_time": "2023-02-15T20:32:24.486Z"
   },
   {
    "duration": 25,
    "start_time": "2023-02-15T20:32:25.781Z"
   },
   {
    "duration": 11,
    "start_time": "2023-02-15T20:32:25.807Z"
   },
   {
    "duration": 13,
    "start_time": "2023-02-15T20:32:25.820Z"
   },
   {
    "duration": 20,
    "start_time": "2023-02-15T20:32:25.835Z"
   },
   {
    "duration": 20,
    "start_time": "2023-02-15T20:32:25.857Z"
   },
   {
    "duration": 5,
    "start_time": "2023-02-15T20:32:25.879Z"
   },
   {
    "duration": 6,
    "start_time": "2023-02-15T20:32:25.886Z"
   },
   {
    "duration": 7,
    "start_time": "2023-02-15T20:32:25.894Z"
   },
   {
    "duration": 4,
    "start_time": "2023-02-15T20:32:25.904Z"
   },
   {
    "duration": 10,
    "start_time": "2023-02-15T20:32:25.910Z"
   },
   {
    "duration": 5,
    "start_time": "2023-02-15T20:32:25.921Z"
   },
   {
    "duration": 10,
    "start_time": "2023-02-15T20:32:25.927Z"
   },
   {
    "duration": 12,
    "start_time": "2023-02-15T20:32:25.938Z"
   },
   {
    "duration": 10,
    "start_time": "2023-02-15T20:32:25.952Z"
   },
   {
    "duration": 17,
    "start_time": "2023-02-15T20:32:25.963Z"
   },
   {
    "duration": 5,
    "start_time": "2023-02-15T20:32:25.982Z"
   },
   {
    "duration": 17,
    "start_time": "2023-02-15T20:32:25.988Z"
   },
   {
    "duration": 14,
    "start_time": "2023-02-15T20:32:26.007Z"
   },
   {
    "duration": 1316,
    "start_time": "2023-02-15T20:33:16.553Z"
   },
   {
    "duration": 26,
    "start_time": "2023-02-15T20:33:17.870Z"
   },
   {
    "duration": 11,
    "start_time": "2023-02-15T20:33:17.897Z"
   },
   {
    "duration": 7,
    "start_time": "2023-02-15T20:33:17.909Z"
   },
   {
    "duration": 6,
    "start_time": "2023-02-15T20:33:17.918Z"
   },
   {
    "duration": 11,
    "start_time": "2023-02-15T20:33:17.925Z"
   },
   {
    "duration": 5,
    "start_time": "2023-02-15T20:33:17.938Z"
   },
   {
    "duration": 6,
    "start_time": "2023-02-15T20:33:17.944Z"
   },
   {
    "duration": 8,
    "start_time": "2023-02-15T20:33:17.951Z"
   },
   {
    "duration": 6,
    "start_time": "2023-02-15T20:33:17.961Z"
   },
   {
    "duration": 11,
    "start_time": "2023-02-15T20:33:17.969Z"
   },
   {
    "duration": 3,
    "start_time": "2023-02-15T20:33:17.981Z"
   },
   {
    "duration": 9,
    "start_time": "2023-02-15T20:33:17.986Z"
   },
   {
    "duration": 8,
    "start_time": "2023-02-15T20:33:17.997Z"
   },
   {
    "duration": 12,
    "start_time": "2023-02-15T20:33:18.007Z"
   },
   {
    "duration": 28,
    "start_time": "2023-02-15T20:33:18.021Z"
   },
   {
    "duration": 4,
    "start_time": "2023-02-15T20:33:18.051Z"
   },
   {
    "duration": 5,
    "start_time": "2023-02-15T20:33:18.057Z"
   },
   {
    "duration": 9,
    "start_time": "2023-02-15T20:33:18.063Z"
   },
   {
    "duration": 1068,
    "start_time": "2023-02-15T20:43:30.716Z"
   },
   {
    "duration": 26,
    "start_time": "2023-02-15T20:43:31.786Z"
   },
   {
    "duration": 11,
    "start_time": "2023-02-15T20:43:31.814Z"
   },
   {
    "duration": 30,
    "start_time": "2023-02-15T20:43:31.827Z"
   },
   {
    "duration": 20,
    "start_time": "2023-02-15T20:43:31.859Z"
   },
   {
    "duration": 20,
    "start_time": "2023-02-15T20:43:31.881Z"
   },
   {
    "duration": 18,
    "start_time": "2023-02-15T20:43:31.903Z"
   },
   {
    "duration": 15,
    "start_time": "2023-02-15T20:43:31.922Z"
   },
   {
    "duration": 9,
    "start_time": "2023-02-15T20:43:31.939Z"
   },
   {
    "duration": 5,
    "start_time": "2023-02-15T20:43:31.949Z"
   },
   {
    "duration": 18,
    "start_time": "2023-02-15T20:43:31.955Z"
   },
   {
    "duration": 12,
    "start_time": "2023-02-15T20:43:31.974Z"
   },
   {
    "duration": 10,
    "start_time": "2023-02-15T20:43:31.987Z"
   },
   {
    "duration": 4,
    "start_time": "2023-02-15T20:43:31.999Z"
   },
   {
    "duration": 26,
    "start_time": "2023-02-15T20:43:32.004Z"
   },
   {
    "duration": 15,
    "start_time": "2023-02-15T20:43:32.031Z"
   },
   {
    "duration": 5,
    "start_time": "2023-02-15T20:43:32.047Z"
   },
   {
    "duration": 3,
    "start_time": "2023-02-15T20:43:32.054Z"
   },
   {
    "duration": 9,
    "start_time": "2023-02-15T20:43:32.059Z"
   },
   {
    "duration": 1603,
    "start_time": "2023-02-16T10:38:29.432Z"
   },
   {
    "duration": 87,
    "start_time": "2023-02-16T10:38:31.037Z"
   },
   {
    "duration": 12,
    "start_time": "2023-02-16T10:38:31.126Z"
   },
   {
    "duration": 45,
    "start_time": "2023-02-16T10:38:31.140Z"
   },
   {
    "duration": 12,
    "start_time": "2023-02-16T10:38:31.188Z"
   },
   {
    "duration": 17,
    "start_time": "2023-02-16T10:38:31.201Z"
   },
   {
    "duration": 27,
    "start_time": "2023-02-16T10:38:31.220Z"
   },
   {
    "duration": 24,
    "start_time": "2023-02-16T10:38:31.249Z"
   },
   {
    "duration": 15,
    "start_time": "2023-02-16T10:38:31.274Z"
   },
   {
    "duration": 21,
    "start_time": "2023-02-16T10:38:31.291Z"
   },
   {
    "duration": 14,
    "start_time": "2023-02-16T10:38:31.313Z"
   },
   {
    "duration": 15,
    "start_time": "2023-02-16T10:38:31.329Z"
   },
   {
    "duration": 13,
    "start_time": "2023-02-16T10:38:31.346Z"
   },
   {
    "duration": 7,
    "start_time": "2023-02-16T10:38:31.363Z"
   },
   {
    "duration": 20,
    "start_time": "2023-02-16T10:38:31.371Z"
   },
   {
    "duration": 17,
    "start_time": "2023-02-16T10:38:31.393Z"
   },
   {
    "duration": 8,
    "start_time": "2023-02-16T10:38:31.411Z"
   },
   {
    "duration": 22,
    "start_time": "2023-02-16T10:38:31.421Z"
   },
   {
    "duration": 15,
    "start_time": "2023-02-16T10:38:31.445Z"
   },
   {
    "duration": 1106,
    "start_time": "2023-02-16T12:21:33.172Z"
   },
   {
    "duration": 88,
    "start_time": "2023-02-16T12:21:34.280Z"
   },
   {
    "duration": 12,
    "start_time": "2023-02-16T12:21:34.369Z"
   },
   {
    "duration": 9,
    "start_time": "2023-02-16T12:21:34.383Z"
   },
   {
    "duration": 6,
    "start_time": "2023-02-16T12:21:34.394Z"
   },
   {
    "duration": 10,
    "start_time": "2023-02-16T12:21:34.401Z"
   },
   {
    "duration": 9,
    "start_time": "2023-02-16T12:21:34.412Z"
   },
   {
    "duration": 7,
    "start_time": "2023-02-16T12:21:34.423Z"
   },
   {
    "duration": 36,
    "start_time": "2023-02-16T12:21:34.431Z"
   },
   {
    "duration": 5,
    "start_time": "2023-02-16T12:21:34.469Z"
   },
   {
    "duration": 18,
    "start_time": "2023-02-16T12:21:34.476Z"
   },
   {
    "duration": 7,
    "start_time": "2023-02-16T12:21:34.496Z"
   },
   {
    "duration": 8,
    "start_time": "2023-02-16T12:21:34.504Z"
   },
   {
    "duration": 9,
    "start_time": "2023-02-16T12:21:34.513Z"
   },
   {
    "duration": 12,
    "start_time": "2023-02-16T12:21:34.524Z"
   },
   {
    "duration": 5,
    "start_time": "2023-02-16T12:21:34.538Z"
   },
   {
    "duration": 31,
    "start_time": "2023-02-16T12:21:34.544Z"
   },
   {
    "duration": 5,
    "start_time": "2023-02-16T12:21:34.576Z"
   },
   {
    "duration": 7,
    "start_time": "2023-02-16T12:21:34.583Z"
   },
   {
    "duration": 10,
    "start_time": "2023-02-16T12:21:34.592Z"
   },
   {
    "duration": 3,
    "start_time": "2023-02-16T12:52:22.858Z"
   },
   {
    "duration": 95,
    "start_time": "2023-02-16T12:52:24.149Z"
   },
   {
    "duration": 4,
    "start_time": "2023-02-16T12:52:44.924Z"
   },
   {
    "duration": 11,
    "start_time": "2023-02-16T12:52:45.545Z"
   },
   {
    "duration": 3,
    "start_time": "2023-02-16T12:52:58.053Z"
   },
   {
    "duration": 12,
    "start_time": "2023-02-16T12:52:58.517Z"
   },
   {
    "duration": 4,
    "start_time": "2023-02-16T12:53:13.865Z"
   },
   {
    "duration": 4,
    "start_time": "2023-02-16T12:53:34.393Z"
   },
   {
    "duration": 14,
    "start_time": "2023-02-16T12:53:35.810Z"
   },
   {
    "duration": 988,
    "start_time": "2023-02-16T12:53:49.230Z"
   },
   {
    "duration": 29,
    "start_time": "2023-02-16T12:53:50.219Z"
   },
   {
    "duration": 11,
    "start_time": "2023-02-16T12:53:50.249Z"
   },
   {
    "duration": 10,
    "start_time": "2023-02-16T12:53:50.262Z"
   },
   {
    "duration": 5,
    "start_time": "2023-02-16T12:53:50.273Z"
   },
   {
    "duration": 8,
    "start_time": "2023-02-16T12:53:50.279Z"
   },
   {
    "duration": 5,
    "start_time": "2023-02-16T12:53:50.288Z"
   },
   {
    "duration": 6,
    "start_time": "2023-02-16T12:53:50.294Z"
   },
   {
    "duration": 9,
    "start_time": "2023-02-16T12:53:50.301Z"
   },
   {
    "duration": 7,
    "start_time": "2023-02-16T12:53:50.312Z"
   },
   {
    "duration": 12,
    "start_time": "2023-02-16T12:53:50.320Z"
   },
   {
    "duration": 3,
    "start_time": "2023-02-16T12:53:50.333Z"
   },
   {
    "duration": 30,
    "start_time": "2023-02-16T12:53:50.338Z"
   },
   {
    "duration": 3,
    "start_time": "2023-02-16T12:53:50.370Z"
   },
   {
    "duration": 19,
    "start_time": "2023-02-16T12:53:50.374Z"
   },
   {
    "duration": 3,
    "start_time": "2023-02-16T12:53:50.395Z"
   },
   {
    "duration": 17,
    "start_time": "2023-02-16T12:53:50.399Z"
   },
   {
    "duration": 4,
    "start_time": "2023-02-16T12:53:50.418Z"
   },
   {
    "duration": 6,
    "start_time": "2023-02-16T12:53:50.424Z"
   },
   {
    "duration": 34,
    "start_time": "2023-02-16T12:53:50.433Z"
   }
  ],
  "kernelspec": {
   "display_name": "Python 3",
   "language": "python",
   "name": "python3"
  },
  "language_info": {
   "codemirror_mode": {
    "name": "ipython",
    "version": 3
   },
   "file_extension": ".py",
   "mimetype": "text/x-python",
   "name": "python",
   "nbconvert_exporter": "python",
   "pygments_lexer": "ipython3",
   "version": "3.7.4"
  },
  "toc": {
   "base_numbering": 1,
   "nav_menu": {},
   "number_sections": true,
   "sideBar": true,
   "skip_h1_title": true,
   "title_cell": "Содержание",
   "title_sidebar": "Contents",
   "toc_cell": true,
   "toc_position": {},
   "toc_section_display": true,
   "toc_window_display": false
  }
 },
 "nbformat": 4,
 "nbformat_minor": 2
}
