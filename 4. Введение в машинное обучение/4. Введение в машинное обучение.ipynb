{
 "cells": [
  {
   "cell_type": "markdown",
   "metadata": {},
   "source": [
    "# Рекомендация тарифов"
   ]
  },
  {
   "cell_type": "markdown",
   "metadata": {},
   "source": [
    "В вашем распоряжении данные о поведении клиентов, которые уже перешли на эти тарифы (из проекта курса «Статистический анализ данных»). Нужно построить модель для задачи классификации, которая выберет подходящий тариф. Предобработка данных не понадобится — вы её уже сделали."
   ]
  },
  {
   "cell_type": "markdown",
   "metadata": {},
   "source": [
    "## 1 Обзор данных "
   ]
  },
  {
   "cell_type": "code",
   "execution_count": 1,
   "metadata": {},
   "outputs": [
    {
     "name": "stdout",
     "output_type": "stream",
     "text": [
      "Requirement already satisfied: tabulate in /opt/conda/lib/python3.9/site-packages (0.9.0)\n",
      "Note: you may need to restart the kernel to use updated packages.\n"
     ]
    }
   ],
   "source": [
    "pip install tabulate"
   ]
  },
  {
   "cell_type": "code",
   "execution_count": 2,
   "metadata": {},
   "outputs": [],
   "source": [
    "import pandas as pd\n",
    "from tabulate import tabulate\n",
    "from sklearn.model_selection import train_test_split\n",
    "from sklearn.linear_model import LogisticRegression\n",
    "from sklearn.ensemble import RandomForestClassifier\n",
    "from sklearn.tree import DecisionTreeClassifier\n",
    "from sklearn.metrics import accuracy_score"
   ]
  },
  {
   "cell_type": "code",
   "execution_count": 3,
   "metadata": {},
   "outputs": [],
   "source": [
    "data = pd.read_csv('/datasets/users_behavior.csv') # открываем файл"
   ]
  },
  {
   "cell_type": "code",
   "execution_count": 4,
   "metadata": {},
   "outputs": [
    {
     "data": {
      "text/html": [
       "<div>\n",
       "<style scoped>\n",
       "    .dataframe tbody tr th:only-of-type {\n",
       "        vertical-align: middle;\n",
       "    }\n",
       "\n",
       "    .dataframe tbody tr th {\n",
       "        vertical-align: top;\n",
       "    }\n",
       "\n",
       "    .dataframe thead th {\n",
       "        text-align: right;\n",
       "    }\n",
       "</style>\n",
       "<table border=\"1\" class=\"dataframe\">\n",
       "  <thead>\n",
       "    <tr style=\"text-align: right;\">\n",
       "      <th></th>\n",
       "      <th>calls</th>\n",
       "      <th>minutes</th>\n",
       "      <th>messages</th>\n",
       "      <th>mb_used</th>\n",
       "      <th>is_ultra</th>\n",
       "    </tr>\n",
       "  </thead>\n",
       "  <tbody>\n",
       "    <tr>\n",
       "      <th>0</th>\n",
       "      <td>40.0</td>\n",
       "      <td>311.90</td>\n",
       "      <td>83.0</td>\n",
       "      <td>19915.42</td>\n",
       "      <td>0</td>\n",
       "    </tr>\n",
       "    <tr>\n",
       "      <th>1</th>\n",
       "      <td>85.0</td>\n",
       "      <td>516.75</td>\n",
       "      <td>56.0</td>\n",
       "      <td>22696.96</td>\n",
       "      <td>0</td>\n",
       "    </tr>\n",
       "    <tr>\n",
       "      <th>2</th>\n",
       "      <td>77.0</td>\n",
       "      <td>467.66</td>\n",
       "      <td>86.0</td>\n",
       "      <td>21060.45</td>\n",
       "      <td>0</td>\n",
       "    </tr>\n",
       "    <tr>\n",
       "      <th>3</th>\n",
       "      <td>106.0</td>\n",
       "      <td>745.53</td>\n",
       "      <td>81.0</td>\n",
       "      <td>8437.39</td>\n",
       "      <td>1</td>\n",
       "    </tr>\n",
       "    <tr>\n",
       "      <th>4</th>\n",
       "      <td>66.0</td>\n",
       "      <td>418.74</td>\n",
       "      <td>1.0</td>\n",
       "      <td>14502.75</td>\n",
       "      <td>0</td>\n",
       "    </tr>\n",
       "  </tbody>\n",
       "</table>\n",
       "</div>"
      ],
      "text/plain": [
       "   calls  minutes  messages   mb_used  is_ultra\n",
       "0   40.0   311.90      83.0  19915.42         0\n",
       "1   85.0   516.75      56.0  22696.96         0\n",
       "2   77.0   467.66      86.0  21060.45         0\n",
       "3  106.0   745.53      81.0   8437.39         1\n",
       "4   66.0   418.74       1.0  14502.75         0"
      ]
     },
     "execution_count": 4,
     "metadata": {},
     "output_type": "execute_result"
    }
   ],
   "source": [
    "data.head() # изучим датасет"
   ]
  },
  {
   "cell_type": "code",
   "execution_count": 5,
   "metadata": {
    "scrolled": true
   },
   "outputs": [
    {
     "name": "stdout",
     "output_type": "stream",
     "text": [
      "<class 'pandas.core.frame.DataFrame'>\n",
      "RangeIndex: 3214 entries, 0 to 3213\n",
      "Data columns (total 5 columns):\n",
      " #   Column    Non-Null Count  Dtype  \n",
      "---  ------    --------------  -----  \n",
      " 0   calls     3214 non-null   float64\n",
      " 1   minutes   3214 non-null   float64\n",
      " 2   messages  3214 non-null   float64\n",
      " 3   mb_used   3214 non-null   float64\n",
      " 4   is_ultra  3214 non-null   int64  \n",
      "dtypes: float64(4), int64(1)\n",
      "memory usage: 125.7 KB\n"
     ]
    }
   ],
   "source": [
    "data.info()"
   ]
  },
  {
   "cell_type": "markdown",
   "metadata": {},
   "source": [
    "### 1.1 Описательный анализ"
   ]
  },
  {
   "cell_type": "code",
   "execution_count": 6,
   "metadata": {},
   "outputs": [
    {
     "data": {
      "text/html": [
       "<div>\n",
       "<style scoped>\n",
       "    .dataframe tbody tr th:only-of-type {\n",
       "        vertical-align: middle;\n",
       "    }\n",
       "\n",
       "    .dataframe tbody tr th {\n",
       "        vertical-align: top;\n",
       "    }\n",
       "\n",
       "    .dataframe thead th {\n",
       "        text-align: right;\n",
       "    }\n",
       "</style>\n",
       "<table border=\"1\" class=\"dataframe\">\n",
       "  <thead>\n",
       "    <tr style=\"text-align: right;\">\n",
       "      <th></th>\n",
       "      <th>calls</th>\n",
       "      <th>minutes</th>\n",
       "      <th>messages</th>\n",
       "      <th>mb_used</th>\n",
       "      <th>is_ultra</th>\n",
       "    </tr>\n",
       "  </thead>\n",
       "  <tbody>\n",
       "    <tr>\n",
       "      <th>count</th>\n",
       "      <td>3214.000000</td>\n",
       "      <td>3214.000000</td>\n",
       "      <td>3214.000000</td>\n",
       "      <td>3214.000000</td>\n",
       "      <td>3214.000000</td>\n",
       "    </tr>\n",
       "    <tr>\n",
       "      <th>mean</th>\n",
       "      <td>63.038892</td>\n",
       "      <td>438.208787</td>\n",
       "      <td>38.281269</td>\n",
       "      <td>17207.673836</td>\n",
       "      <td>0.306472</td>\n",
       "    </tr>\n",
       "    <tr>\n",
       "      <th>std</th>\n",
       "      <td>33.236368</td>\n",
       "      <td>234.569872</td>\n",
       "      <td>36.148326</td>\n",
       "      <td>7570.968246</td>\n",
       "      <td>0.461100</td>\n",
       "    </tr>\n",
       "    <tr>\n",
       "      <th>min</th>\n",
       "      <td>0.000000</td>\n",
       "      <td>0.000000</td>\n",
       "      <td>0.000000</td>\n",
       "      <td>0.000000</td>\n",
       "      <td>0.000000</td>\n",
       "    </tr>\n",
       "    <tr>\n",
       "      <th>25%</th>\n",
       "      <td>40.000000</td>\n",
       "      <td>274.575000</td>\n",
       "      <td>9.000000</td>\n",
       "      <td>12491.902500</td>\n",
       "      <td>0.000000</td>\n",
       "    </tr>\n",
       "    <tr>\n",
       "      <th>50%</th>\n",
       "      <td>62.000000</td>\n",
       "      <td>430.600000</td>\n",
       "      <td>30.000000</td>\n",
       "      <td>16943.235000</td>\n",
       "      <td>0.000000</td>\n",
       "    </tr>\n",
       "    <tr>\n",
       "      <th>75%</th>\n",
       "      <td>82.000000</td>\n",
       "      <td>571.927500</td>\n",
       "      <td>57.000000</td>\n",
       "      <td>21424.700000</td>\n",
       "      <td>1.000000</td>\n",
       "    </tr>\n",
       "    <tr>\n",
       "      <th>max</th>\n",
       "      <td>244.000000</td>\n",
       "      <td>1632.060000</td>\n",
       "      <td>224.000000</td>\n",
       "      <td>49745.730000</td>\n",
       "      <td>1.000000</td>\n",
       "    </tr>\n",
       "  </tbody>\n",
       "</table>\n",
       "</div>"
      ],
      "text/plain": [
       "             calls      minutes     messages       mb_used     is_ultra\n",
       "count  3214.000000  3214.000000  3214.000000   3214.000000  3214.000000\n",
       "mean     63.038892   438.208787    38.281269  17207.673836     0.306472\n",
       "std      33.236368   234.569872    36.148326   7570.968246     0.461100\n",
       "min       0.000000     0.000000     0.000000      0.000000     0.000000\n",
       "25%      40.000000   274.575000     9.000000  12491.902500     0.000000\n",
       "50%      62.000000   430.600000    30.000000  16943.235000     0.000000\n",
       "75%      82.000000   571.927500    57.000000  21424.700000     1.000000\n",
       "max     244.000000  1632.060000   224.000000  49745.730000     1.000000"
      ]
     },
     "execution_count": 6,
     "metadata": {},
     "output_type": "execute_result"
    }
   ],
   "source": [
    "data.describe()"
   ]
  },
  {
   "cell_type": "markdown",
   "metadata": {},
   "source": [
    "### 1.2 Графический анализ"
   ]
  },
  {
   "cell_type": "markdown",
   "metadata": {},
   "source": [
    "Проанализируем наш датасет, используя графики"
   ]
  },
  {
   "cell_type": "code",
   "execution_count": 7,
   "metadata": {
    "scrolled": false
   },
   "outputs": [
    {
     "data": {
      "image/png": "[encoded data removed]",
      "text/plain": [
       "<Figure size 432x288 with 1 Axes>"
      ]
     },
     "metadata": {
      "needs_background": "light"
     },
     "output_type": "display_data"
    },
    {
     "data": {
      "image/png": "[encoded data removed]",
      "text/plain": [
       "<Figure size 432x288 with 1 Axes>"
      ]
     },
     "metadata": {
      "needs_background": "light"
     },
     "output_type": "display_data"
    },
    {
     "data": {
      "image/png": "[encoded data removed]",
      "text/plain": [
       "<Figure size 432x288 with 1 Axes>"
      ]
     },
     "metadata": {
      "needs_background": "light"
     },
     "output_type": "display_data"
    },
    {
     "data": {
      "image/png": "[encoded data removed]",
      "text/plain": [
       "<Figure size 432x288 with 1 Axes>"
      ]
     },
     "metadata": {
      "needs_background": "light"
     },
     "output_type": "display_data"
    },
    {
     "data": {
      "image/png": "[encoded data removed]",
      "text/plain": [
       "<Figure size 432x288 with 1 Axes>"
      ]
     },
     "metadata": {
      "needs_background": "light"
     },
     "output_type": "display_data"
    }
   ],
   "source": [
    "for i in range(len(data.columns)):\n",
    "    data.hist(data.columns[i], bins = 20)"
   ]
  },
  {
   "cell_type": "code",
   "execution_count": 8,
   "metadata": {
    "scrolled": true
   },
   "outputs": [
    {
     "data": {
      "text/html": [
       "<div>\n",
       "<style scoped>\n",
       "    .dataframe tbody tr th:only-of-type {\n",
       "        vertical-align: middle;\n",
       "    }\n",
       "\n",
       "    .dataframe tbody tr th {\n",
       "        vertical-align: top;\n",
       "    }\n",
       "\n",
       "    .dataframe thead th {\n",
       "        text-align: right;\n",
       "    }\n",
       "</style>\n",
       "<table border=\"1\" class=\"dataframe\">\n",
       "  <thead>\n",
       "    <tr style=\"text-align: right;\">\n",
       "      <th></th>\n",
       "      <th>calls</th>\n",
       "      <th>minutes</th>\n",
       "      <th>messages</th>\n",
       "      <th>mb_used</th>\n",
       "      <th>is_ultra</th>\n",
       "    </tr>\n",
       "  </thead>\n",
       "  <tbody>\n",
       "    <tr>\n",
       "      <th>54</th>\n",
       "      <td>0.0</td>\n",
       "      <td>0.0</td>\n",
       "      <td>33.0</td>\n",
       "      <td>14010.33</td>\n",
       "      <td>1</td>\n",
       "    </tr>\n",
       "    <tr>\n",
       "      <th>247</th>\n",
       "      <td>0.0</td>\n",
       "      <td>0.0</td>\n",
       "      <td>35.0</td>\n",
       "      <td>16444.99</td>\n",
       "      <td>1</td>\n",
       "    </tr>\n",
       "    <tr>\n",
       "      <th>264</th>\n",
       "      <td>0.0</td>\n",
       "      <td>0.0</td>\n",
       "      <td>21.0</td>\n",
       "      <td>19559.55</td>\n",
       "      <td>0</td>\n",
       "    </tr>\n",
       "    <tr>\n",
       "      <th>351</th>\n",
       "      <td>0.0</td>\n",
       "      <td>0.0</td>\n",
       "      <td>8.0</td>\n",
       "      <td>35525.61</td>\n",
       "      <td>1</td>\n",
       "    </tr>\n",
       "    <tr>\n",
       "      <th>390</th>\n",
       "      <td>0.0</td>\n",
       "      <td>0.0</td>\n",
       "      <td>25.0</td>\n",
       "      <td>19088.67</td>\n",
       "      <td>1</td>\n",
       "    </tr>\n",
       "    <tr>\n",
       "      <th>484</th>\n",
       "      <td>0.0</td>\n",
       "      <td>0.0</td>\n",
       "      <td>191.0</td>\n",
       "      <td>32448.02</td>\n",
       "      <td>1</td>\n",
       "    </tr>\n",
       "    <tr>\n",
       "      <th>551</th>\n",
       "      <td>0.0</td>\n",
       "      <td>0.0</td>\n",
       "      <td>24.0</td>\n",
       "      <td>18701.54</td>\n",
       "      <td>1</td>\n",
       "    </tr>\n",
       "    <tr>\n",
       "      <th>647</th>\n",
       "      <td>0.0</td>\n",
       "      <td>0.0</td>\n",
       "      <td>30.0</td>\n",
       "      <td>10236.20</td>\n",
       "      <td>1</td>\n",
       "    </tr>\n",
       "    <tr>\n",
       "      <th>769</th>\n",
       "      <td>0.0</td>\n",
       "      <td>0.0</td>\n",
       "      <td>32.0</td>\n",
       "      <td>17206.44</td>\n",
       "      <td>0</td>\n",
       "    </tr>\n",
       "    <tr>\n",
       "      <th>884</th>\n",
       "      <td>0.0</td>\n",
       "      <td>0.0</td>\n",
       "      <td>180.0</td>\n",
       "      <td>32045.73</td>\n",
       "      <td>1</td>\n",
       "    </tr>\n",
       "    <tr>\n",
       "      <th>951</th>\n",
       "      <td>0.0</td>\n",
       "      <td>0.0</td>\n",
       "      <td>185.0</td>\n",
       "      <td>31032.94</td>\n",
       "      <td>1</td>\n",
       "    </tr>\n",
       "    <tr>\n",
       "      <th>1040</th>\n",
       "      <td>0.0</td>\n",
       "      <td>0.0</td>\n",
       "      <td>29.0</td>\n",
       "      <td>21289.28</td>\n",
       "      <td>1</td>\n",
       "    </tr>\n",
       "    <tr>\n",
       "      <th>1094</th>\n",
       "      <td>0.0</td>\n",
       "      <td>0.0</td>\n",
       "      <td>35.0</td>\n",
       "      <td>17322.59</td>\n",
       "      <td>0</td>\n",
       "    </tr>\n",
       "    <tr>\n",
       "      <th>1103</th>\n",
       "      <td>0.0</td>\n",
       "      <td>0.0</td>\n",
       "      <td>201.0</td>\n",
       "      <td>27825.95</td>\n",
       "      <td>1</td>\n",
       "    </tr>\n",
       "    <tr>\n",
       "      <th>1238</th>\n",
       "      <td>0.0</td>\n",
       "      <td>0.0</td>\n",
       "      <td>30.0</td>\n",
       "      <td>20016.75</td>\n",
       "      <td>1</td>\n",
       "    </tr>\n",
       "    <tr>\n",
       "      <th>1248</th>\n",
       "      <td>0.0</td>\n",
       "      <td>0.0</td>\n",
       "      <td>20.0</td>\n",
       "      <td>18418.27</td>\n",
       "      <td>1</td>\n",
       "    </tr>\n",
       "    <tr>\n",
       "      <th>1351</th>\n",
       "      <td>0.0</td>\n",
       "      <td>0.0</td>\n",
       "      <td>9.0</td>\n",
       "      <td>2923.50</td>\n",
       "      <td>1</td>\n",
       "    </tr>\n",
       "    <tr>\n",
       "      <th>1448</th>\n",
       "      <td>0.0</td>\n",
       "      <td>0.0</td>\n",
       "      <td>7.0</td>\n",
       "      <td>39419.77</td>\n",
       "      <td>1</td>\n",
       "    </tr>\n",
       "    <tr>\n",
       "      <th>1533</th>\n",
       "      <td>0.0</td>\n",
       "      <td>0.0</td>\n",
       "      <td>188.0</td>\n",
       "      <td>33189.50</td>\n",
       "      <td>1</td>\n",
       "    </tr>\n",
       "    <tr>\n",
       "      <th>1598</th>\n",
       "      <td>0.0</td>\n",
       "      <td>0.0</td>\n",
       "      <td>28.0</td>\n",
       "      <td>16573.03</td>\n",
       "      <td>1</td>\n",
       "    </tr>\n",
       "    <tr>\n",
       "      <th>1649</th>\n",
       "      <td>0.0</td>\n",
       "      <td>0.0</td>\n",
       "      <td>211.0</td>\n",
       "      <td>27695.86</td>\n",
       "      <td>1</td>\n",
       "    </tr>\n",
       "    <tr>\n",
       "      <th>1669</th>\n",
       "      <td>0.0</td>\n",
       "      <td>0.0</td>\n",
       "      <td>19.0</td>\n",
       "      <td>17289.88</td>\n",
       "      <td>1</td>\n",
       "    </tr>\n",
       "    <tr>\n",
       "      <th>1743</th>\n",
       "      <td>0.0</td>\n",
       "      <td>0.0</td>\n",
       "      <td>20.0</td>\n",
       "      <td>13688.68</td>\n",
       "      <td>1</td>\n",
       "    </tr>\n",
       "    <tr>\n",
       "      <th>1755</th>\n",
       "      <td>0.0</td>\n",
       "      <td>0.0</td>\n",
       "      <td>48.0</td>\n",
       "      <td>12442.93</td>\n",
       "      <td>0</td>\n",
       "    </tr>\n",
       "    <tr>\n",
       "      <th>1841</th>\n",
       "      <td>0.0</td>\n",
       "      <td>0.0</td>\n",
       "      <td>30.0</td>\n",
       "      <td>10703.39</td>\n",
       "      <td>1</td>\n",
       "    </tr>\n",
       "    <tr>\n",
       "      <th>1876</th>\n",
       "      <td>0.0</td>\n",
       "      <td>0.0</td>\n",
       "      <td>173.0</td>\n",
       "      <td>27431.66</td>\n",
       "      <td>1</td>\n",
       "    </tr>\n",
       "    <tr>\n",
       "      <th>1880</th>\n",
       "      <td>0.0</td>\n",
       "      <td>0.0</td>\n",
       "      <td>44.0</td>\n",
       "      <td>15644.73</td>\n",
       "      <td>1</td>\n",
       "    </tr>\n",
       "    <tr>\n",
       "      <th>1921</th>\n",
       "      <td>0.0</td>\n",
       "      <td>0.0</td>\n",
       "      <td>14.0</td>\n",
       "      <td>21673.83</td>\n",
       "      <td>1</td>\n",
       "    </tr>\n",
       "    <tr>\n",
       "      <th>2155</th>\n",
       "      <td>0.0</td>\n",
       "      <td>0.0</td>\n",
       "      <td>24.0</td>\n",
       "      <td>21626.90</td>\n",
       "      <td>1</td>\n",
       "    </tr>\n",
       "    <tr>\n",
       "      <th>2207</th>\n",
       "      <td>0.0</td>\n",
       "      <td>0.0</td>\n",
       "      <td>32.0</td>\n",
       "      <td>16597.13</td>\n",
       "      <td>1</td>\n",
       "    </tr>\n",
       "    <tr>\n",
       "      <th>2256</th>\n",
       "      <td>0.0</td>\n",
       "      <td>0.0</td>\n",
       "      <td>42.0</td>\n",
       "      <td>13280.45</td>\n",
       "      <td>1</td>\n",
       "    </tr>\n",
       "    <tr>\n",
       "      <th>2291</th>\n",
       "      <td>0.0</td>\n",
       "      <td>0.0</td>\n",
       "      <td>28.0</td>\n",
       "      <td>11864.26</td>\n",
       "      <td>1</td>\n",
       "    </tr>\n",
       "    <tr>\n",
       "      <th>2682</th>\n",
       "      <td>0.0</td>\n",
       "      <td>0.0</td>\n",
       "      <td>23.0</td>\n",
       "      <td>21934.04</td>\n",
       "      <td>1</td>\n",
       "    </tr>\n",
       "    <tr>\n",
       "      <th>2879</th>\n",
       "      <td>0.0</td>\n",
       "      <td>0.0</td>\n",
       "      <td>6.0</td>\n",
       "      <td>22428.00</td>\n",
       "      <td>1</td>\n",
       "    </tr>\n",
       "    <tr>\n",
       "      <th>2943</th>\n",
       "      <td>0.0</td>\n",
       "      <td>0.0</td>\n",
       "      <td>17.0</td>\n",
       "      <td>12905.41</td>\n",
       "      <td>1</td>\n",
       "    </tr>\n",
       "    <tr>\n",
       "      <th>2958</th>\n",
       "      <td>0.0</td>\n",
       "      <td>0.0</td>\n",
       "      <td>20.0</td>\n",
       "      <td>17491.66</td>\n",
       "      <td>0</td>\n",
       "    </tr>\n",
       "    <tr>\n",
       "      <th>2962</th>\n",
       "      <td>0.0</td>\n",
       "      <td>0.0</td>\n",
       "      <td>17.0</td>\n",
       "      <td>11050.62</td>\n",
       "      <td>0</td>\n",
       "    </tr>\n",
       "    <tr>\n",
       "      <th>2973</th>\n",
       "      <td>0.0</td>\n",
       "      <td>0.0</td>\n",
       "      <td>31.0</td>\n",
       "      <td>12633.89</td>\n",
       "      <td>1</td>\n",
       "    </tr>\n",
       "    <tr>\n",
       "      <th>3107</th>\n",
       "      <td>0.0</td>\n",
       "      <td>0.0</td>\n",
       "      <td>0.0</td>\n",
       "      <td>530.78</td>\n",
       "      <td>1</td>\n",
       "    </tr>\n",
       "    <tr>\n",
       "      <th>3200</th>\n",
       "      <td>0.0</td>\n",
       "      <td>0.0</td>\n",
       "      <td>55.0</td>\n",
       "      <td>10858.90</td>\n",
       "      <td>1</td>\n",
       "    </tr>\n",
       "  </tbody>\n",
       "</table>\n",
       "</div>"
      ],
      "text/plain": [
       "      calls  minutes  messages   mb_used  is_ultra\n",
       "54      0.0      0.0      33.0  14010.33         1\n",
       "247     0.0      0.0      35.0  16444.99         1\n",
       "264     0.0      0.0      21.0  19559.55         0\n",
       "351     0.0      0.0       8.0  35525.61         1\n",
       "390     0.0      0.0      25.0  19088.67         1\n",
       "484     0.0      0.0     191.0  32448.02         1\n",
       "551     0.0      0.0      24.0  18701.54         1\n",
       "647     0.0      0.0      30.0  10236.20         1\n",
       "769     0.0      0.0      32.0  17206.44         0\n",
       "884     0.0      0.0     180.0  32045.73         1\n",
       "951     0.0      0.0     185.0  31032.94         1\n",
       "1040    0.0      0.0      29.0  21289.28         1\n",
       "1094    0.0      0.0      35.0  17322.59         0\n",
       "1103    0.0      0.0     201.0  27825.95         1\n",
       "1238    0.0      0.0      30.0  20016.75         1\n",
       "1248    0.0      0.0      20.0  18418.27         1\n",
       "1351    0.0      0.0       9.0   2923.50         1\n",
       "1448    0.0      0.0       7.0  39419.77         1\n",
       "1533    0.0      0.0     188.0  33189.50         1\n",
       "1598    0.0      0.0      28.0  16573.03         1\n",
       "1649    0.0      0.0     211.0  27695.86         1\n",
       "1669    0.0      0.0      19.0  17289.88         1\n",
       "1743    0.0      0.0      20.0  13688.68         1\n",
       "1755    0.0      0.0      48.0  12442.93         0\n",
       "1841    0.0      0.0      30.0  10703.39         1\n",
       "1876    0.0      0.0     173.0  27431.66         1\n",
       "1880    0.0      0.0      44.0  15644.73         1\n",
       "1921    0.0      0.0      14.0  21673.83         1\n",
       "2155    0.0      0.0      24.0  21626.90         1\n",
       "2207    0.0      0.0      32.0  16597.13         1\n",
       "2256    0.0      0.0      42.0  13280.45         1\n",
       "2291    0.0      0.0      28.0  11864.26         1\n",
       "2682    0.0      0.0      23.0  21934.04         1\n",
       "2879    0.0      0.0       6.0  22428.00         1\n",
       "2943    0.0      0.0      17.0  12905.41         1\n",
       "2958    0.0      0.0      20.0  17491.66         0\n",
       "2962    0.0      0.0      17.0  11050.62         0\n",
       "2973    0.0      0.0      31.0  12633.89         1\n",
       "3107    0.0      0.0       0.0    530.78         1\n",
       "3200    0.0      0.0      55.0  10858.90         1"
      ]
     },
     "execution_count": 8,
     "metadata": {},
     "output_type": "execute_result"
    }
   ],
   "source": [
    "data.query('calls == 0')"
   ]
  },
  {
   "cell_type": "markdown",
   "metadata": {},
   "source": [
    "Из гистограмм видно, что есть много нулевых значений в столбцах `messages`, `calls` и `minutes`. В теории, нужно удалить нулевые значения по ряду причин. Если эти значения неправильно заполнены, то из-за них программа может некорректно обучиться. Как видно из таблицы сверху, в строчках с нулевым значением `calls` значение `minutes` также равно 0. Вероятнее всего, эти столбцы как-то взаимосвязаны. Разобраться в этом нам поможет корреляционный анализ."
   ]
  },
  {
   "cell_type": "markdown",
   "metadata": {},
   "source": [
    "### 1.3 Корреляционный анализ"
   ]
  },
  {
   "cell_type": "markdown",
   "metadata": {},
   "source": [
    "Проведём анализ признаков - всех столбцов кроме `is_ultra`, в котором указана принадлежность клиента к одному из двух тарифов, при помощи матрицы рассеяния."
   ]
  },
  {
   "cell_type": "code",
   "execution_count": 9,
   "metadata": {},
   "outputs": [],
   "source": [
    "df_corr_analysis = data.copy()\n",
    "\n",
    "del df_corr_analysis['is_ultra']"
   ]
  },
  {
   "cell_type": "code",
   "execution_count": 10,
   "metadata": {
    "scrolled": false
   },
   "outputs": [
    {
     "data": {
      "text/html": [
       "<div>\n",
       "<style scoped>\n",
       "    .dataframe tbody tr th:only-of-type {\n",
       "        vertical-align: middle;\n",
       "    }\n",
       "\n",
       "    .dataframe tbody tr th {\n",
       "        vertical-align: top;\n",
       "    }\n",
       "\n",
       "    .dataframe thead th {\n",
       "        text-align: right;\n",
       "    }\n",
       "</style>\n",
       "<table border=\"1\" class=\"dataframe\">\n",
       "  <thead>\n",
       "    <tr style=\"text-align: right;\">\n",
       "      <th></th>\n",
       "      <th>calls</th>\n",
       "      <th>minutes</th>\n",
       "      <th>messages</th>\n",
       "      <th>mb_used</th>\n",
       "    </tr>\n",
       "  </thead>\n",
       "  <tbody>\n",
       "    <tr>\n",
       "      <th>calls</th>\n",
       "      <td>1.000</td>\n",
       "      <td>0.982</td>\n",
       "      <td>0.177</td>\n",
       "      <td>0.286</td>\n",
       "    </tr>\n",
       "    <tr>\n",
       "      <th>minutes</th>\n",
       "      <td>0.982</td>\n",
       "      <td>1.000</td>\n",
       "      <td>0.173</td>\n",
       "      <td>0.281</td>\n",
       "    </tr>\n",
       "    <tr>\n",
       "      <th>messages</th>\n",
       "      <td>0.177</td>\n",
       "      <td>0.173</td>\n",
       "      <td>1.000</td>\n",
       "      <td>0.196</td>\n",
       "    </tr>\n",
       "    <tr>\n",
       "      <th>mb_used</th>\n",
       "      <td>0.286</td>\n",
       "      <td>0.281</td>\n",
       "      <td>0.196</td>\n",
       "      <td>1.000</td>\n",
       "    </tr>\n",
       "  </tbody>\n",
       "</table>\n",
       "</div>"
      ],
      "text/plain": [
       "          calls  minutes  messages  mb_used\n",
       "calls     1.000    0.982     0.177    0.286\n",
       "minutes   0.982    1.000     0.173    0.281\n",
       "messages  0.177    0.173     1.000    0.196\n",
       "mb_used   0.286    0.281     0.196    1.000"
      ]
     },
     "execution_count": 10,
     "metadata": {},
     "output_type": "execute_result"
    },
    {
     "data": {
      "image/png": "[encoded data removed]",
      "text/plain": [
       "<Figure size 864x864 with 16 Axes>"
      ]
     },
     "metadata": {
      "needs_background": "light"
     },
     "output_type": "display_data"
    }
   ],
   "source": [
    "pd.plotting.scatter_matrix(df_corr_analysis, figsize = (12, 12));\n",
    "\n",
    "round(df_corr_analysis.corr(), 3)"
   ]
  },
  {
   "cell_type": "markdown",
   "metadata": {},
   "source": [
    "Из графиков и таблицы рассеивания видно, что данные по звонкам и минутам сильно коррелируют друг с другом. Наличие двух признаков, значения которых сильно зависят друг от друга, ведут к мультиколлинеарности. Считаю, что  один из этих двух столбцов, например, `minutes`, не стоит включать в модель, для обучения данных будет достаточно одного из них."
   ]
  },
  {
   "attachments": {
    "image.png": {
     "image/png": "[encoded data removed]"
    }
   },
   "cell_type": "markdown",
   "metadata": {},
   "source": [
    "![image.png](attachment:image.png)"
   ]
  },
  {
   "cell_type": "markdown",
   "metadata": {},
   "source": [
    "## 2 Разбивка данных на выборки"
   ]
  },
  {
   "cell_type": "markdown",
   "metadata": {},
   "source": [
    "Оставляем в качестве признаков оставляем все столбцы кроме `is_ultra`. В качестве целевого признака оставляем столбец `is_ultra`."
   ]
  },
  {
   "cell_type": "code",
   "execution_count": 11,
   "metadata": {},
   "outputs": [
    {
     "data": {
      "text/html": [
       "<div>\n",
       "<style scoped>\n",
       "    .dataframe tbody tr th:only-of-type {\n",
       "        vertical-align: middle;\n",
       "    }\n",
       "\n",
       "    .dataframe tbody tr th {\n",
       "        vertical-align: top;\n",
       "    }\n",
       "\n",
       "    .dataframe thead th {\n",
       "        text-align: right;\n",
       "    }\n",
       "</style>\n",
       "<table border=\"1\" class=\"dataframe\">\n",
       "  <thead>\n",
       "    <tr style=\"text-align: right;\">\n",
       "      <th></th>\n",
       "      <th>calls</th>\n",
       "      <th>minutes</th>\n",
       "      <th>messages</th>\n",
       "      <th>mb_used</th>\n",
       "      <th>is_ultra</th>\n",
       "    </tr>\n",
       "  </thead>\n",
       "  <tbody>\n",
       "    <tr>\n",
       "      <th>0</th>\n",
       "      <td>40.0</td>\n",
       "      <td>311.90</td>\n",
       "      <td>83.0</td>\n",
       "      <td>19915.42</td>\n",
       "      <td>0</td>\n",
       "    </tr>\n",
       "    <tr>\n",
       "      <th>1</th>\n",
       "      <td>85.0</td>\n",
       "      <td>516.75</td>\n",
       "      <td>56.0</td>\n",
       "      <td>22696.96</td>\n",
       "      <td>0</td>\n",
       "    </tr>\n",
       "    <tr>\n",
       "      <th>2</th>\n",
       "      <td>77.0</td>\n",
       "      <td>467.66</td>\n",
       "      <td>86.0</td>\n",
       "      <td>21060.45</td>\n",
       "      <td>0</td>\n",
       "    </tr>\n",
       "    <tr>\n",
       "      <th>3</th>\n",
       "      <td>106.0</td>\n",
       "      <td>745.53</td>\n",
       "      <td>81.0</td>\n",
       "      <td>8437.39</td>\n",
       "      <td>1</td>\n",
       "    </tr>\n",
       "    <tr>\n",
       "      <th>4</th>\n",
       "      <td>66.0</td>\n",
       "      <td>418.74</td>\n",
       "      <td>1.0</td>\n",
       "      <td>14502.75</td>\n",
       "      <td>0</td>\n",
       "    </tr>\n",
       "  </tbody>\n",
       "</table>\n",
       "</div>"
      ],
      "text/plain": [
       "   calls  minutes  messages   mb_used  is_ultra\n",
       "0   40.0   311.90      83.0  19915.42         0\n",
       "1   85.0   516.75      56.0  22696.96         0\n",
       "2   77.0   467.66      86.0  21060.45         0\n",
       "3  106.0   745.53      81.0   8437.39         1\n",
       "4   66.0   418.74       1.0  14502.75         0"
      ]
     },
     "execution_count": 11,
     "metadata": {},
     "output_type": "execute_result"
    }
   ],
   "source": [
    "data.head(5)"
   ]
  },
  {
   "cell_type": "code",
   "execution_count": 12,
   "metadata": {},
   "outputs": [],
   "source": [
    "target = data['is_ultra']\n",
    "\n",
    "features = data.drop(['is_ultra', 'minutes'], axis = 1)\n",
    "\n"
   ]
  },
  {
   "cell_type": "code",
   "execution_count": 13,
   "metadata": {},
   "outputs": [
    {
     "name": "stdout",
     "output_type": "stream",
     "text": [
      "      calls  messages   mb_used\n",
      "0      40.0      83.0  19915.42\n",
      "1      85.0      56.0  22696.96\n",
      "2      77.0      86.0  21060.45\n",
      "3     106.0      81.0   8437.39\n",
      "4      66.0       1.0  14502.75\n",
      "...     ...       ...       ...\n",
      "3209  122.0      20.0  35124.90\n",
      "3210   25.0       0.0   3275.61\n",
      "3211   97.0      70.0  13974.06\n",
      "3212   64.0      90.0  31239.78\n",
      "3213   80.0       6.0  29480.52\n",
      "\n",
      "[3214 rows x 3 columns]\n"
     ]
    }
   ],
   "source": [
    "print(features)"
   ]
  },
  {
   "cell_type": "markdown",
   "metadata": {},
   "source": [
    "Разделим наш датасет на сначала на две выборки - обучающую и тестовую, в соотношении 60 к 40. Тестовую, в свою очередь, разделим на две равные части. Одна половина будет валидационной выборкой, другая - тестовой."
   ]
  },
  {
   "cell_type": "code",
   "execution_count": 14,
   "metadata": {},
   "outputs": [],
   "source": [
    "features_train, features_test, target_train, target_test = train_test_split(\n",
    "    features, target, test_size = 0.40, random_state = 12345)"
   ]
  },
  {
   "cell_type": "code",
   "execution_count": 15,
   "metadata": {},
   "outputs": [],
   "source": [
    "features_valid, features_test, target_valid, target_test = train_test_split(\n",
    "    features_test, target_test, test_size = 0.50, random_state = 12345)"
   ]
  },
  {
   "cell_type": "markdown",
   "metadata": {},
   "source": [
    "Теперь у нас готовы три выборки - обучающая, валидационная и тестовая, разделённые в отношении 60:20:20. Проверим размерность этих выборок."
   ]
  },
  {
   "cell_type": "code",
   "execution_count": 16,
   "metadata": {},
   "outputs": [
    {
     "name": "stdout",
     "output_type": "stream",
     "text": [
      "(1928, 3)\n",
      "(643, 3)\n",
      "(643, 3)\n"
     ]
    }
   ],
   "source": [
    "print(features_train.shape)\n",
    "print(features_valid.shape)\n",
    "print(features_test.shape)"
   ]
  },
  {
   "cell_type": "code",
   "execution_count": 17,
   "metadata": {},
   "outputs": [
    {
     "name": "stdout",
     "output_type": "stream",
     "text": [
      "(1928,)\n",
      "(643,)\n",
      "(643,)\n"
     ]
    }
   ],
   "source": [
    "print(target_train.shape)\n",
    "print(target_valid.shape)\n",
    "print(target_test.shape)"
   ]
  },
  {
   "cell_type": "markdown",
   "metadata": {},
   "source": [
    "Данные как для признаков, так и для целевого правильно разделены правильно - в соотношении 60:20:20."
   ]
  },
  {
   "cell_type": "markdown",
   "metadata": {},
   "source": [
    "## 3 Исследование моделей"
   ]
  },
  {
   "cell_type": "markdown",
   "metadata": {},
   "source": [
    "На наших выборках будем исследовать три модели: дерево решений, случайный лес и логистическая регрессия. Так как у нас задача классификации, то будем использовать соответствующие модули моделей."
   ]
  },
  {
   "cell_type": "markdown",
   "metadata": {},
   "source": [
    "### 3.1 Дерево решений"
   ]
  },
  {
   "cell_type": "code",
   "execution_count": 18,
   "metadata": {
    "scrolled": true
   },
   "outputs": [
    {
     "name": "stdout",
     "output_type": "stream",
     "text": [
      "Точности данной модели при разных гиперпараметрах - [0.754, 0.784, 0.787, 0.785, 0.79, 0.778, 0.776, 0.773, 0.782, 0.773, 0.767, 0.757, 0.753, 0.751, 0.745, 0.742, 0.745, 0.748, 0.745] \n",
      "\n",
      "Лучшая точность данной модели равна 0.79 при глубине, равной 5\n"
     ]
    }
   ],
   "source": [
    "best_accuracy = 0\n",
    "best_depth = 0\n",
    "\n",
    "accuracy_list = []\n",
    "\n",
    "# изучаем модель при разных гиперпараметрах\n",
    "for depth in range(1, 20):\n",
    "    model_dt = DecisionTreeClassifier(random_state = 12345, max_depth = depth) \n",
    "    # инициализируем модель DecisionTreeClassifier с параметром random_state=123 и соответствующей максимальной глубиной\n",
    "    model_dt.fit(features_train, target_train) # обучаем модель на тренировочной выборке\n",
    "    predictions_valid_dt = model_dt.predict(features_valid) # получите предсказания модели на валидационной выборке\n",
    "    \n",
    "    accuracy = round(accuracy_score(target_valid, predictions_valid_dt), 3)\n",
    "    accuracy_list.append(accuracy)\n",
    "    \n",
    "    if accuracy > best_accuracy:\n",
    "        best_accuracy = accuracy\n",
    "        best_depth = depth\n",
    "        \n",
    "best_accuracy_dt = best_accuracy\n",
    "\n",
    "print(\"Точности данной модели при разных гиперпараметрах -\", accuracy_list, \"\\n\")\n",
    "print(\"Лучшая точность данной модели равна\", best_accuracy, \"при глубине, равной\", best_depth)"
   ]
  },
  {
   "cell_type": "markdown",
   "metadata": {},
   "source": [
    "### 3.2 Случайный лес"
   ]
  },
  {
   "cell_type": "code",
   "execution_count": 19,
   "metadata": {},
   "outputs": [
    {
     "name": "stdout",
     "output_type": "stream",
     "text": [
      "Точности данной модели при разных гиперпараметрах - [0.717, 0.768, 0.747, 0.764, 0.76, 0.765, 0.768, 0.757, 0.762, 0.77] \n",
      "\n",
      "Лучшая точность данной модели равна 0.77 при количестве деревьев, равному 10\n"
     ]
    }
   ],
   "source": [
    "best_accuracy = 0\n",
    "best_est = 0\n",
    "\n",
    "accuracy_list = []\n",
    "\n",
    "# изучаем модель при разных гиперпараметрах\n",
    "for est in range(1, 11):\n",
    "    model_rf = RandomForestClassifier(random_state = 12345, n_estimators = est) \n",
    "    # инициализируем модель RandomForestClassifier с параметром random_state=123 и соответствующей максимальной глубиной\n",
    "    model_rf.fit(features_train, target_train) # обучаем модель на тренировочной выборке\n",
    "    predictions_valid_rf = model_rf.predict(features_valid)\n",
    "    accuracy = round(accuracy_score(target_valid, predictions_valid_rf), 3) # считаем качество модели на валидационной выборке\n",
    "    accuracy_list.append(accuracy)\n",
    "    \n",
    "    if accuracy > best_accuracy:\n",
    "        best_accuracy = accuracy\n",
    "        best_est = est\n",
    "        \n",
    "best_accuracy_rf = best_accuracy\n",
    "\n",
    "print(\"Точности данной модели при разных гиперпараметрах -\", accuracy_list, \"\\n\")\n",
    "print(\"Лучшая точность данной модели равна\", best_accuracy, \"при количестве деревьев, равному\", best_est)"
   ]
  },
  {
   "cell_type": "markdown",
   "metadata": {},
   "source": [
    "### 3.3 Логистическая регрессия"
   ]
  },
  {
   "cell_type": "code",
   "execution_count": 20,
   "metadata": {},
   "outputs": [
    {
     "name": "stdout",
     "output_type": "stream",
     "text": [
      "Точность данной модели равна 0.708\n"
     ]
    }
   ],
   "source": [
    "model_lr = LogisticRegression(random_state = 12345, solver = 'lbfgs', max_iter = 1000)\n",
    "# инициализируем модель LogisticRegression с параметром random_state=123\n",
    "\n",
    "\n",
    "model_lr.fit(features_train, target_train) # обучаем модель на тренировочной выборке\n",
    "predictions_valid_lr = model_lr.predict(features_valid)\n",
    "accuracy = round(accuracy_score(target_valid, predictions_valid_lr), 3)\n",
    "\n",
    "best_accuracy_lr = accuracy\n",
    "\n",
    "print(\"Точность данной модели равна\", accuracy)"
   ]
  },
  {
   "cell_type": "markdown",
   "metadata": {},
   "source": [
    "Теперь сравним точности всех трёх моделей"
   ]
  },
  {
   "cell_type": "code",
   "execution_count": 21,
   "metadata": {},
   "outputs": [],
   "source": [
    "accuracy_table = [['Дерево решений', best_accuracy_dt],\n",
    "                  ['Случайный лес', best_accuracy_rf],\n",
    "                  ['Логистическая регрессия', best_accuracy_lr]]"
   ]
  },
  {
   "cell_type": "code",
   "execution_count": 22,
   "metadata": {},
   "outputs": [],
   "source": [
    "accuracy_table_headers = ['Название модели', 'Наилучшая точность']"
   ]
  },
  {
   "cell_type": "code",
   "execution_count": 23,
   "metadata": {},
   "outputs": [
    {
     "name": "stdout",
     "output_type": "stream",
     "text": [
      "Название модели            Наилучшая точность\n",
      "-----------------------  --------------------\n",
      "Дерево решений                          0.79\n",
      "Случайный лес                           0.77\n",
      "Логистическая регрессия                 0.708\n"
     ]
    }
   ],
   "source": [
    "print(tabulate(accuracy_table, headers = accuracy_table_headers))"
   ]
  },
  {
   "cell_type": "markdown",
   "metadata": {},
   "source": [
    "Из наших исследований можно сделать вывод, что на нашем датасете лучше всего себя показала модель случайного леса."
   ]
  },
  {
   "cell_type": "markdown",
   "metadata": {},
   "source": [
    "## 4 Проверка модели на тестовой выборке"
   ]
  },
  {
   "cell_type": "markdown",
   "metadata": {},
   "source": [
    "Проверим лучшую модель на тестовой выборке. Её точность должны быть больше 0.75."
   ]
  },
  {
   "cell_type": "code",
   "execution_count": 25,
   "metadata": {},
   "outputs": [
    {
     "name": "stdout",
     "output_type": "stream",
     "text": [
      "0.787\n"
     ]
    }
   ],
   "source": [
    "predictions_test_rf = model_rf.predict(features_test)\n",
    "\n",
    "accuracy_test_rf = round(accuracy_score(target_test, predictions_test_rf), 3)\n",
    "print(accuracy_test_rf)"
   ]
  },
  {
   "cell_type": "markdown",
   "metadata": {},
   "source": [
    "На тестовой выборке случайный лес показал себя хорошо - точность выше 0.75."
   ]
  },
  {
   "cell_type": "markdown",
   "metadata": {},
   "source": [
    "## Общий вывод"
   ]
  },
  {
   "cell_type": "markdown",
   "metadata": {},
   "source": [
    "Были произведены описательный, графический и корреляционный анализы факторов. Датасет был разделён на три выборки - обучающую, тестовую и валидационную. На обучающей выборке были обучены и исследованы три модели машинного обучения при разных гиперпараметрах - случайный лес, деревой решений и линейная регрессия. \n",
    "Затем была выбрана лучшая модель, которая была проверена на тестовой выборке. Для нашего датасета такой моделью оказался случайный лес - его точность правильной классификации составила 0.787."
   ]
  }
 ],
 "metadata": {
  "ExecuteTimeLog": [
   {
    "duration": 420,
    "start_time": "2022-11-04T10:03:58.595Z"
   },
   {
    "duration": 3,
    "start_time": "2022-11-04T10:04:00.387Z"
   },
   {
    "duration": 62,
    "start_time": "2022-11-04T10:04:00.556Z"
   },
   {
    "duration": 38,
    "start_time": "2022-11-04T10:04:12.503Z"
   },
   {
    "duration": 32,
    "start_time": "2022-11-04T10:04:24.456Z"
   },
   {
    "duration": 175,
    "start_time": "2022-11-04T10:04:38.135Z"
   },
   {
    "duration": 12,
    "start_time": "2022-11-04T10:04:47.475Z"
   },
   {
    "duration": 17,
    "start_time": "2022-11-04T10:04:58.271Z"
   },
   {
    "duration": 11,
    "start_time": "2022-11-04T10:04:59.139Z"
   },
   {
    "duration": 44,
    "start_time": "2022-12-04T17:39:11.505Z"
   },
   {
    "duration": 6,
    "start_time": "2022-12-04T17:39:20.756Z"
   },
   {
    "duration": 451,
    "start_time": "2022-12-04T17:39:23.757Z"
   },
   {
    "duration": 71,
    "start_time": "2022-12-04T17:39:24.210Z"
   },
   {
    "duration": 17,
    "start_time": "2022-12-04T17:39:24.283Z"
   },
   {
    "duration": 16,
    "start_time": "2022-12-04T17:39:24.302Z"
   },
   {
    "duration": 32,
    "start_time": "2022-12-04T17:39:24.320Z"
   },
   {
    "duration": 0,
    "start_time": "2022-12-04T17:39:24.353Z"
   },
   {
    "duration": 441,
    "start_time": "2022-12-04T17:39:42.355Z"
   },
   {
    "duration": 29,
    "start_time": "2022-12-04T17:39:42.798Z"
   },
   {
    "duration": 16,
    "start_time": "2022-12-04T17:39:42.829Z"
   },
   {
    "duration": 11,
    "start_time": "2022-12-04T17:39:42.847Z"
   },
   {
    "duration": 64,
    "start_time": "2022-12-04T17:39:42.860Z"
   },
   {
    "duration": 0,
    "start_time": "2022-12-04T17:39:42.926Z"
   },
   {
    "duration": 442,
    "start_time": "2022-12-04T17:58:12.491Z"
   },
   {
    "duration": 33,
    "start_time": "2022-12-04T17:58:12.936Z"
   },
   {
    "duration": 25,
    "start_time": "2022-12-04T17:58:12.972Z"
   },
   {
    "duration": 11,
    "start_time": "2022-12-04T17:58:13.000Z"
   },
   {
    "duration": 9,
    "start_time": "2022-12-04T17:58:13.013Z"
   },
   {
    "duration": 85,
    "start_time": "2022-12-04T17:58:13.024Z"
   },
   {
    "duration": 1098,
    "start_time": "2022-12-04T18:00:36.091Z"
   },
   {
    "duration": 29,
    "start_time": "2022-12-04T18:00:37.190Z"
   },
   {
    "duration": 19,
    "start_time": "2022-12-04T18:00:37.221Z"
   },
   {
    "duration": 23,
    "start_time": "2022-12-04T18:00:37.241Z"
   },
   {
    "duration": 35,
    "start_time": "2022-12-04T18:00:37.265Z"
   },
   {
    "duration": 41,
    "start_time": "2022-12-04T18:00:37.301Z"
   },
   {
    "duration": 106,
    "start_time": "2022-12-04T18:31:22.182Z"
   },
   {
    "duration": 22,
    "start_time": "2022-12-04T18:31:54.070Z"
   },
   {
    "duration": 7,
    "start_time": "2022-12-04T18:38:20.593Z"
   },
   {
    "duration": 6,
    "start_time": "2022-12-04T18:39:52.112Z"
   },
   {
    "duration": 5,
    "start_time": "2022-12-04T18:40:09.960Z"
   },
   {
    "duration": 17,
    "start_time": "2022-12-04T18:40:26.929Z"
   },
   {
    "duration": 32,
    "start_time": "2022-12-04T18:57:15.820Z"
   },
   {
    "duration": 227,
    "start_time": "2022-12-04T18:57:27.580Z"
   },
   {
    "duration": 177,
    "start_time": "2022-12-04T18:57:33.232Z"
   },
   {
    "duration": 1078,
    "start_time": "2022-12-04T19:11:27.114Z"
   },
   {
    "duration": 29,
    "start_time": "2022-12-04T19:11:28.194Z"
   },
   {
    "duration": 16,
    "start_time": "2022-12-04T19:11:28.224Z"
   },
   {
    "duration": 11,
    "start_time": "2022-12-04T19:11:28.243Z"
   },
   {
    "duration": 11,
    "start_time": "2022-12-04T19:11:28.255Z"
   },
   {
    "duration": 8,
    "start_time": "2022-12-04T19:11:28.267Z"
   },
   {
    "duration": 7,
    "start_time": "2022-12-04T19:11:28.276Z"
   },
   {
    "duration": 156,
    "start_time": "2022-12-04T19:11:28.284Z"
   },
   {
    "duration": 240,
    "start_time": "2022-12-04T19:11:28.441Z"
   },
   {
    "duration": 281,
    "start_time": "2022-12-04T19:21:23.341Z"
   },
   {
    "duration": 173,
    "start_time": "2022-12-04T19:21:30.744Z"
   },
   {
    "duration": 1460,
    "start_time": "2022-12-04T19:21:41.422Z"
   },
   {
    "duration": 34,
    "start_time": "2022-12-04T19:21:42.885Z"
   },
   {
    "duration": 22,
    "start_time": "2022-12-04T19:21:42.921Z"
   },
   {
    "duration": 16,
    "start_time": "2022-12-04T19:21:42.945Z"
   },
   {
    "duration": 58,
    "start_time": "2022-12-04T19:21:42.964Z"
   },
   {
    "duration": 21,
    "start_time": "2022-12-04T19:21:43.024Z"
   },
   {
    "duration": 13,
    "start_time": "2022-12-04T19:21:43.047Z"
   },
   {
    "duration": 199,
    "start_time": "2022-12-04T19:21:43.063Z"
   },
   {
    "duration": 248,
    "start_time": "2022-12-04T19:21:43.264Z"
   },
   {
    "duration": 114,
    "start_time": "2022-12-04T19:30:38.668Z"
   },
   {
    "duration": 38,
    "start_time": "2022-12-04T19:30:50.941Z"
   },
   {
    "duration": 1179,
    "start_time": "2022-12-04T19:32:53.289Z"
   },
   {
    "duration": 61,
    "start_time": "2022-12-04T19:32:54.470Z"
   },
   {
    "duration": 24,
    "start_time": "2022-12-04T19:32:54.534Z"
   },
   {
    "duration": 15,
    "start_time": "2022-12-04T19:32:54.560Z"
   },
   {
    "duration": 5,
    "start_time": "2022-12-04T19:32:54.578Z"
   },
   {
    "duration": 10,
    "start_time": "2022-12-04T19:32:54.585Z"
   },
   {
    "duration": 6,
    "start_time": "2022-12-04T19:32:54.597Z"
   },
   {
    "duration": 186,
    "start_time": "2022-12-04T19:32:54.605Z"
   },
   {
    "duration": 267,
    "start_time": "2022-12-04T19:32:54.793Z"
   },
   {
    "duration": 38,
    "start_time": "2022-12-04T19:32:55.062Z"
   },
   {
    "duration": 1140,
    "start_time": "2022-12-04T20:17:21.869Z"
   },
   {
    "duration": 29,
    "start_time": "2022-12-04T20:17:23.011Z"
   },
   {
    "duration": 20,
    "start_time": "2022-12-04T20:17:23.042Z"
   },
   {
    "duration": 18,
    "start_time": "2022-12-04T20:17:23.065Z"
   },
   {
    "duration": 5,
    "start_time": "2022-12-04T20:17:23.084Z"
   },
   {
    "duration": 9,
    "start_time": "2022-12-04T20:17:23.090Z"
   },
   {
    "duration": 8,
    "start_time": "2022-12-04T20:17:23.100Z"
   },
   {
    "duration": 168,
    "start_time": "2022-12-04T20:17:23.110Z"
   },
   {
    "duration": 256,
    "start_time": "2022-12-04T20:17:23.280Z"
   },
   {
    "duration": 40,
    "start_time": "2022-12-04T20:17:23.539Z"
   },
   {
    "duration": 5,
    "start_time": "2022-12-04T20:17:23.581Z"
   },
   {
    "duration": 5,
    "start_time": "2022-12-04T20:43:02.212Z"
   },
   {
    "duration": 6,
    "start_time": "2022-12-04T20:43:41.595Z"
   },
   {
    "duration": 6,
    "start_time": "2022-12-04T20:43:50.123Z"
   },
   {
    "duration": 9,
    "start_time": "2022-12-04T20:43:53.487Z"
   },
   {
    "duration": 7,
    "start_time": "2022-12-04T20:44:06.643Z"
   },
   {
    "duration": 6,
    "start_time": "2022-12-04T20:45:49.483Z"
   },
   {
    "duration": 9,
    "start_time": "2022-12-04T20:45:53.331Z"
   },
   {
    "duration": 8,
    "start_time": "2022-12-04T20:46:07.299Z"
   },
   {
    "duration": 1908,
    "start_time": "2022-12-06T06:19:58.479Z"
   },
   {
    "duration": 129,
    "start_time": "2022-12-06T06:20:00.388Z"
   },
   {
    "duration": 16,
    "start_time": "2022-12-06T06:20:25.030Z"
   },
   {
    "duration": 11,
    "start_time": "2022-12-06T06:20:25.291Z"
   },
   {
    "duration": 4,
    "start_time": "2022-12-06T06:22:21.196Z"
   },
   {
    "duration": 5,
    "start_time": "2022-12-06T06:22:21.749Z"
   },
   {
    "duration": 4,
    "start_time": "2022-12-06T06:22:21.979Z"
   },
   {
    "duration": 152,
    "start_time": "2022-12-06T06:24:23.914Z"
   },
   {
    "duration": 233,
    "start_time": "2022-12-06T06:24:56.750Z"
   },
   {
    "duration": 31,
    "start_time": "2022-12-06T06:25:09.862Z"
   },
   {
    "duration": 1060,
    "start_time": "2022-12-08T07:28:49.238Z"
   },
   {
    "duration": 120,
    "start_time": "2022-12-08T07:28:50.300Z"
   },
   {
    "duration": 15,
    "start_time": "2022-12-08T07:28:50.422Z"
   },
   {
    "duration": 11,
    "start_time": "2022-12-08T07:28:50.439Z"
   },
   {
    "duration": 8,
    "start_time": "2022-12-08T07:28:50.451Z"
   },
   {
    "duration": 7,
    "start_time": "2022-12-08T07:28:50.460Z"
   },
   {
    "duration": 15,
    "start_time": "2022-12-08T07:28:50.469Z"
   },
   {
    "duration": 121,
    "start_time": "2022-12-08T07:28:50.486Z"
   },
   {
    "duration": 0,
    "start_time": "2022-12-08T07:28:50.609Z"
   },
   {
    "duration": 0,
    "start_time": "2022-12-08T07:28:50.610Z"
   },
   {
    "duration": 0,
    "start_time": "2022-12-08T07:28:50.612Z"
   },
   {
    "duration": 0,
    "start_time": "2022-12-08T07:28:50.613Z"
   },
   {
    "duration": 0,
    "start_time": "2022-12-08T07:28:50.623Z"
   },
   {
    "duration": 0,
    "start_time": "2022-12-08T07:28:50.625Z"
   },
   {
    "duration": 1109,
    "start_time": "2022-12-08T08:05:51.290Z"
   },
   {
    "duration": 28,
    "start_time": "2022-12-08T08:05:52.401Z"
   },
   {
    "duration": 16,
    "start_time": "2022-12-08T08:05:52.431Z"
   },
   {
    "duration": 22,
    "start_time": "2022-12-08T08:05:52.449Z"
   },
   {
    "duration": 24,
    "start_time": "2022-12-08T08:05:52.473Z"
   },
   {
    "duration": 19,
    "start_time": "2022-12-08T08:05:52.499Z"
   },
   {
    "duration": 29,
    "start_time": "2022-12-08T08:05:52.520Z"
   },
   {
    "duration": 26,
    "start_time": "2022-12-08T08:05:52.552Z"
   },
   {
    "duration": 173,
    "start_time": "2022-12-08T08:05:52.579Z"
   },
   {
    "duration": 269,
    "start_time": "2022-12-08T08:05:52.754Z"
   },
   {
    "duration": 38,
    "start_time": "2022-12-08T08:05:53.025Z"
   },
   {
    "duration": 6,
    "start_time": "2022-12-08T08:05:53.064Z"
   },
   {
    "duration": 15,
    "start_time": "2022-12-08T08:05:53.071Z"
   },
   {
    "duration": 20,
    "start_time": "2022-12-08T08:05:53.088Z"
   },
   {
    "duration": 1191,
    "start_time": "2022-12-10T10:52:27.377Z"
   },
   {
    "duration": 105,
    "start_time": "2022-12-10T10:52:28.570Z"
   },
   {
    "duration": 19,
    "start_time": "2022-12-10T10:52:28.676Z"
   },
   {
    "duration": 12,
    "start_time": "2022-12-10T10:52:28.697Z"
   },
   {
    "duration": 13,
    "start_time": "2022-12-10T10:52:28.715Z"
   },
   {
    "duration": 29,
    "start_time": "2022-12-10T10:52:28.731Z"
   },
   {
    "duration": 7,
    "start_time": "2022-12-10T10:52:28.761Z"
   },
   {
    "duration": 6,
    "start_time": "2022-12-10T10:52:28.770Z"
   },
   {
    "duration": 255,
    "start_time": "2022-12-10T10:52:28.778Z"
   },
   {
    "duration": 342,
    "start_time": "2022-12-10T10:52:29.038Z"
   },
   {
    "duration": 72,
    "start_time": "2022-12-10T10:52:29.382Z"
   },
   {
    "duration": 8,
    "start_time": "2022-12-10T10:52:29.456Z"
   },
   {
    "duration": 14,
    "start_time": "2022-12-10T10:52:29.466Z"
   },
   {
    "duration": 3,
    "start_time": "2022-12-10T10:52:29.484Z"
   },
   {
    "duration": 1136,
    "start_time": "2022-12-13T05:13:12.583Z"
   },
   {
    "duration": 85,
    "start_time": "2022-12-13T05:13:13.721Z"
   },
   {
    "duration": 19,
    "start_time": "2022-12-13T05:13:13.808Z"
   },
   {
    "duration": 12,
    "start_time": "2022-12-13T05:13:13.828Z"
   },
   {
    "duration": 6,
    "start_time": "2022-12-13T05:13:13.843Z"
   },
   {
    "duration": 21,
    "start_time": "2022-12-13T05:13:13.850Z"
   },
   {
    "duration": 6,
    "start_time": "2022-12-13T05:13:13.873Z"
   },
   {
    "duration": 4,
    "start_time": "2022-12-13T05:13:13.880Z"
   },
   {
    "duration": 173,
    "start_time": "2022-12-13T05:13:13.886Z"
   },
   {
    "duration": 272,
    "start_time": "2022-12-13T05:13:14.068Z"
   },
   {
    "duration": 40,
    "start_time": "2022-12-13T05:13:14.342Z"
   },
   {
    "duration": 6,
    "start_time": "2022-12-13T05:13:14.383Z"
   },
   {
    "duration": 8,
    "start_time": "2022-12-13T05:13:14.391Z"
   },
   {
    "duration": 8,
    "start_time": "2022-12-13T05:13:14.401Z"
   },
   {
    "duration": 18,
    "start_time": "2022-12-13T05:13:25.841Z"
   },
   {
    "duration": 25,
    "start_time": "2022-12-13T05:13:30.414Z"
   },
   {
    "duration": 1102,
    "start_time": "2022-12-14T05:18:51.295Z"
   },
   {
    "duration": 126,
    "start_time": "2022-12-14T05:18:52.399Z"
   },
   {
    "duration": 20,
    "start_time": "2022-12-14T05:18:52.527Z"
   },
   {
    "duration": 16,
    "start_time": "2022-12-14T05:18:52.550Z"
   },
   {
    "duration": 27,
    "start_time": "2022-12-14T05:18:52.568Z"
   },
   {
    "duration": 7,
    "start_time": "2022-12-14T05:18:52.598Z"
   },
   {
    "duration": 18,
    "start_time": "2022-12-14T05:18:52.606Z"
   },
   {
    "duration": 4,
    "start_time": "2022-12-14T05:18:52.636Z"
   },
   {
    "duration": 7,
    "start_time": "2022-12-14T05:18:52.641Z"
   },
   {
    "duration": 5,
    "start_time": "2022-12-14T05:18:52.650Z"
   },
   {
    "duration": 170,
    "start_time": "2022-12-14T05:18:52.657Z"
   },
   {
    "duration": 249,
    "start_time": "2022-12-14T05:18:52.829Z"
   },
   {
    "duration": 31,
    "start_time": "2022-12-14T05:18:53.080Z"
   },
   {
    "duration": 6,
    "start_time": "2022-12-14T05:18:53.112Z"
   },
   {
    "duration": 8,
    "start_time": "2022-12-14T05:18:53.135Z"
   },
   {
    "duration": 10,
    "start_time": "2022-12-14T05:18:53.145Z"
   },
   {
    "duration": 99,
    "start_time": "2022-12-14T19:29:36.211Z"
   },
   {
    "duration": 2,
    "start_time": "2022-12-14T19:29:43.022Z"
   },
   {
    "duration": 4,
    "start_time": "2022-12-14T19:29:51.131Z"
   },
   {
    "duration": 61,
    "start_time": "2022-12-14T19:42:40.849Z"
   },
   {
    "duration": 10,
    "start_time": "2022-12-14T19:42:49.678Z"
   },
   {
    "duration": 9,
    "start_time": "2022-12-14T19:42:57.129Z"
   },
   {
    "duration": 45,
    "start_time": "2022-12-14T19:43:21.205Z"
   },
   {
    "duration": 8,
    "start_time": "2022-12-14T19:43:30.298Z"
   },
   {
    "duration": 814,
    "start_time": "2022-12-14T19:43:34.924Z"
   },
   {
    "duration": 1129,
    "start_time": "2022-12-14T19:44:36.573Z"
   },
   {
    "duration": 768,
    "start_time": "2022-12-14T19:44:47.842Z"
   },
   {
    "duration": 756,
    "start_time": "2022-12-14T19:55:18.696Z"
   },
   {
    "duration": 45,
    "start_time": "2022-12-16T17:26:44.095Z"
   },
   {
    "duration": 6,
    "start_time": "2022-12-16T17:26:47.759Z"
   },
   {
    "duration": 1114,
    "start_time": "2022-12-16T17:29:48.403Z"
   },
   {
    "duration": 128,
    "start_time": "2022-12-16T17:29:49.518Z"
   },
   {
    "duration": 16,
    "start_time": "2022-12-16T17:29:49.647Z"
   },
   {
    "duration": 14,
    "start_time": "2022-12-16T17:29:49.665Z"
   },
   {
    "duration": 21,
    "start_time": "2022-12-16T17:29:49.680Z"
   },
   {
    "duration": 92,
    "start_time": "2022-12-16T17:29:49.702Z"
   },
   {
    "duration": 0,
    "start_time": "2022-12-16T17:29:49.795Z"
   },
   {
    "duration": 0,
    "start_time": "2022-12-16T17:29:49.797Z"
   },
   {
    "duration": 0,
    "start_time": "2022-12-16T17:29:49.799Z"
   },
   {
    "duration": 0,
    "start_time": "2022-12-16T17:29:49.800Z"
   },
   {
    "duration": 0,
    "start_time": "2022-12-16T17:29:49.802Z"
   },
   {
    "duration": 0,
    "start_time": "2022-12-16T17:29:49.803Z"
   },
   {
    "duration": 0,
    "start_time": "2022-12-16T17:29:49.804Z"
   },
   {
    "duration": 0,
    "start_time": "2022-12-16T17:29:49.815Z"
   },
   {
    "duration": 0,
    "start_time": "2022-12-16T17:29:49.816Z"
   },
   {
    "duration": 0,
    "start_time": "2022-12-16T17:29:49.817Z"
   },
   {
    "duration": 0,
    "start_time": "2022-12-16T17:29:49.817Z"
   },
   {
    "duration": 0,
    "start_time": "2022-12-16T17:29:49.819Z"
   },
   {
    "duration": 0,
    "start_time": "2022-12-16T17:29:49.819Z"
   },
   {
    "duration": 1107,
    "start_time": "2022-12-16T17:32:55.828Z"
   },
   {
    "duration": 1053,
    "start_time": "2022-12-16T17:33:04.118Z"
   },
   {
    "duration": 30,
    "start_time": "2022-12-16T17:33:05.173Z"
   },
   {
    "duration": 16,
    "start_time": "2022-12-16T17:33:05.204Z"
   },
   {
    "duration": 11,
    "start_time": "2022-12-16T17:33:05.221Z"
   },
   {
    "duration": 21,
    "start_time": "2022-12-16T17:33:05.234Z"
   },
   {
    "duration": 881,
    "start_time": "2022-12-16T17:33:05.257Z"
   },
   {
    "duration": 20,
    "start_time": "2022-12-16T17:33:06.140Z"
   },
   {
    "duration": 133,
    "start_time": "2022-12-16T17:33:06.161Z"
   },
   {
    "duration": 0,
    "start_time": "2022-12-16T17:33:06.296Z"
   },
   {
    "duration": 0,
    "start_time": "2022-12-16T17:33:06.297Z"
   },
   {
    "duration": 0,
    "start_time": "2022-12-16T17:33:06.299Z"
   },
   {
    "duration": 0,
    "start_time": "2022-12-16T17:33:06.300Z"
   },
   {
    "duration": 0,
    "start_time": "2022-12-16T17:33:06.301Z"
   },
   {
    "duration": 0,
    "start_time": "2022-12-16T17:33:06.301Z"
   },
   {
    "duration": 0,
    "start_time": "2022-12-16T17:33:06.303Z"
   },
   {
    "duration": 0,
    "start_time": "2022-12-16T17:33:06.303Z"
   },
   {
    "duration": 0,
    "start_time": "2022-12-16T17:33:06.304Z"
   },
   {
    "duration": 0,
    "start_time": "2022-12-16T17:33:06.304Z"
   },
   {
    "duration": 0,
    "start_time": "2022-12-16T17:33:06.305Z"
   },
   {
    "duration": 1071,
    "start_time": "2022-12-16T17:58:14.962Z"
   },
   {
    "duration": 32,
    "start_time": "2022-12-16T17:58:16.035Z"
   },
   {
    "duration": 20,
    "start_time": "2022-12-16T17:58:16.069Z"
   },
   {
    "duration": 20,
    "start_time": "2022-12-16T17:58:16.091Z"
   },
   {
    "duration": 46,
    "start_time": "2022-12-16T17:58:16.113Z"
   },
   {
    "duration": 1032,
    "start_time": "2022-12-16T17:58:16.161Z"
   },
   {
    "duration": 33,
    "start_time": "2022-12-16T17:58:17.195Z"
   },
   {
    "duration": 129,
    "start_time": "2022-12-16T17:58:17.230Z"
   },
   {
    "duration": 0,
    "start_time": "2022-12-16T17:58:17.360Z"
   },
   {
    "duration": 0,
    "start_time": "2022-12-16T17:58:17.361Z"
   },
   {
    "duration": 0,
    "start_time": "2022-12-16T17:58:17.363Z"
   },
   {
    "duration": 0,
    "start_time": "2022-12-16T17:58:17.363Z"
   },
   {
    "duration": 0,
    "start_time": "2022-12-16T17:58:17.364Z"
   },
   {
    "duration": 0,
    "start_time": "2022-12-16T17:58:17.365Z"
   },
   {
    "duration": 0,
    "start_time": "2022-12-16T17:58:17.366Z"
   },
   {
    "duration": 0,
    "start_time": "2022-12-16T17:58:17.368Z"
   },
   {
    "duration": 0,
    "start_time": "2022-12-16T17:58:17.368Z"
   },
   {
    "duration": 0,
    "start_time": "2022-12-16T17:58:17.369Z"
   },
   {
    "duration": 0,
    "start_time": "2022-12-16T17:58:17.370Z"
   },
   {
    "duration": 0,
    "start_time": "2022-12-16T17:58:17.371Z"
   },
   {
    "duration": 1136,
    "start_time": "2022-12-16T18:06:15.710Z"
   },
   {
    "duration": 33,
    "start_time": "2022-12-16T18:06:16.848Z"
   },
   {
    "duration": 21,
    "start_time": "2022-12-16T18:06:16.883Z"
   },
   {
    "duration": 12,
    "start_time": "2022-12-16T18:06:16.907Z"
   },
   {
    "duration": 45,
    "start_time": "2022-12-16T18:06:16.922Z"
   },
   {
    "duration": 960,
    "start_time": "2022-12-16T18:06:16.969Z"
   },
   {
    "duration": 22,
    "start_time": "2022-12-16T18:06:17.931Z"
   },
   {
    "duration": 145,
    "start_time": "2022-12-16T18:06:17.955Z"
   },
   {
    "duration": 0,
    "start_time": "2022-12-16T18:06:18.102Z"
   },
   {
    "duration": 0,
    "start_time": "2022-12-16T18:06:18.103Z"
   },
   {
    "duration": 0,
    "start_time": "2022-12-16T18:06:18.105Z"
   },
   {
    "duration": 0,
    "start_time": "2022-12-16T18:06:18.106Z"
   },
   {
    "duration": 0,
    "start_time": "2022-12-16T18:06:18.107Z"
   },
   {
    "duration": 0,
    "start_time": "2022-12-16T18:06:18.117Z"
   },
   {
    "duration": 0,
    "start_time": "2022-12-16T18:06:18.118Z"
   },
   {
    "duration": 0,
    "start_time": "2022-12-16T18:06:18.119Z"
   },
   {
    "duration": 0,
    "start_time": "2022-12-16T18:06:18.121Z"
   },
   {
    "duration": 0,
    "start_time": "2022-12-16T18:06:18.122Z"
   },
   {
    "duration": 0,
    "start_time": "2022-12-16T18:06:18.124Z"
   },
   {
    "duration": 0,
    "start_time": "2022-12-16T18:06:18.125Z"
   },
   {
    "duration": 5,
    "start_time": "2022-12-16T18:06:30.723Z"
   },
   {
    "duration": 899,
    "start_time": "2022-12-16T18:06:31.393Z"
   },
   {
    "duration": 1064,
    "start_time": "2022-12-16T18:06:42.473Z"
   },
   {
    "duration": 1103,
    "start_time": "2022-12-16T18:06:52.317Z"
   },
   {
    "duration": 1057,
    "start_time": "2022-12-16T18:06:58.624Z"
   },
   {
    "duration": 30,
    "start_time": "2022-12-16T18:06:59.683Z"
   },
   {
    "duration": 15,
    "start_time": "2022-12-16T18:06:59.715Z"
   },
   {
    "duration": 11,
    "start_time": "2022-12-16T18:06:59.732Z"
   },
   {
    "duration": 21,
    "start_time": "2022-12-16T18:06:59.744Z"
   },
   {
    "duration": 914,
    "start_time": "2022-12-16T18:06:59.766Z"
   },
   {
    "duration": 33,
    "start_time": "2022-12-16T18:07:00.682Z"
   },
   {
    "duration": 4,
    "start_time": "2022-12-16T18:07:00.717Z"
   },
   {
    "duration": 1128,
    "start_time": "2022-12-16T18:07:00.723Z"
   },
   {
    "duration": 4,
    "start_time": "2022-12-16T18:07:01.855Z"
   },
   {
    "duration": 43,
    "start_time": "2022-12-16T18:07:01.861Z"
   },
   {
    "duration": 14,
    "start_time": "2022-12-16T18:07:01.906Z"
   },
   {
    "duration": 6,
    "start_time": "2022-12-16T18:07:01.921Z"
   },
   {
    "duration": 46,
    "start_time": "2022-12-16T18:07:01.929Z"
   },
   {
    "duration": 188,
    "start_time": "2022-12-16T18:07:01.976Z"
   },
   {
    "duration": 240,
    "start_time": "2022-12-16T18:07:02.166Z"
   },
   {
    "duration": 37,
    "start_time": "2022-12-16T18:07:02.409Z"
   },
   {
    "duration": 6,
    "start_time": "2022-12-16T18:07:02.447Z"
   },
   {
    "duration": 27,
    "start_time": "2022-12-16T18:07:02.455Z"
   },
   {
    "duration": 23,
    "start_time": "2022-12-16T18:07:02.484Z"
   },
   {
    "duration": 1033,
    "start_time": "2022-12-16T18:07:11.124Z"
   },
   {
    "duration": 1147,
    "start_time": "2022-12-16T18:07:29.801Z"
   },
   {
    "duration": 58,
    "start_time": "2022-12-16T19:29:47.186Z"
   },
   {
    "duration": 124,
    "start_time": "2022-12-16T19:29:52.161Z"
   },
   {
    "duration": 1094,
    "start_time": "2022-12-16T19:29:59.707Z"
   },
   {
    "duration": 32,
    "start_time": "2022-12-16T19:30:00.803Z"
   },
   {
    "duration": 18,
    "start_time": "2022-12-16T19:30:00.836Z"
   },
   {
    "duration": 31,
    "start_time": "2022-12-16T19:30:00.856Z"
   },
   {
    "duration": 41,
    "start_time": "2022-12-16T19:30:00.889Z"
   },
   {
    "duration": 906,
    "start_time": "2022-12-16T19:30:00.931Z"
   },
   {
    "duration": 20,
    "start_time": "2022-12-16T19:30:01.839Z"
   },
   {
    "duration": 4,
    "start_time": "2022-12-16T19:30:01.860Z"
   },
   {
    "duration": 1151,
    "start_time": "2022-12-16T19:30:01.865Z"
   },
   {
    "duration": 5,
    "start_time": "2022-12-16T19:30:03.019Z"
   },
   {
    "duration": 11,
    "start_time": "2022-12-16T19:30:03.026Z"
   },
   {
    "duration": 6,
    "start_time": "2022-12-16T19:30:03.039Z"
   },
   {
    "duration": 10,
    "start_time": "2022-12-16T19:30:03.047Z"
   },
   {
    "duration": 14,
    "start_time": "2022-12-16T19:30:03.059Z"
   },
   {
    "duration": 163,
    "start_time": "2022-12-16T19:30:03.075Z"
   },
   {
    "duration": 246,
    "start_time": "2022-12-16T19:30:03.240Z"
   },
   {
    "duration": 40,
    "start_time": "2022-12-16T19:30:03.488Z"
   },
   {
    "duration": 3,
    "start_time": "2022-12-16T19:30:03.530Z"
   },
   {
    "duration": 17,
    "start_time": "2022-12-16T19:30:03.535Z"
   },
   {
    "duration": 12,
    "start_time": "2022-12-16T19:30:03.554Z"
   },
   {
    "duration": 3,
    "start_time": "2022-12-16T19:30:03.568Z"
   },
   {
    "duration": 4,
    "start_time": "2022-12-16T19:42:45.250Z"
   },
   {
    "duration": 46,
    "start_time": "2022-12-16T19:43:10.954Z"
   },
   {
    "duration": 2,
    "start_time": "2022-12-16T21:09:11.411Z"
   },
   {
    "duration": 101,
    "start_time": "2022-12-16T21:09:13.029Z"
   },
   {
    "duration": 10,
    "start_time": "2022-12-16T21:09:22.110Z"
   },
   {
    "duration": 3,
    "start_time": "2022-12-16T21:12:19.939Z"
   },
   {
    "duration": 3,
    "start_time": "2022-12-16T21:13:10.039Z"
   },
   {
    "duration": 9,
    "start_time": "2022-12-16T21:15:12.695Z"
   },
   {
    "duration": 2863,
    "start_time": "2022-12-16T21:15:29.511Z"
   },
   {
    "duration": 14,
    "start_time": "2022-12-16T21:15:37.124Z"
   },
   {
    "duration": 4,
    "start_time": "2022-12-16T21:18:27.289Z"
   },
   {
    "duration": 6,
    "start_time": "2022-12-16T21:35:22.985Z"
   },
   {
    "duration": 2057,
    "start_time": "2022-12-16T21:36:00.781Z"
   },
   {
    "duration": 1056,
    "start_time": "2022-12-16T21:36:02.841Z"
   },
   {
    "duration": 31,
    "start_time": "2022-12-16T21:36:03.899Z"
   },
   {
    "duration": 18,
    "start_time": "2022-12-16T21:36:03.932Z"
   },
   {
    "duration": 12,
    "start_time": "2022-12-16T21:36:03.951Z"
   },
   {
    "duration": 38,
    "start_time": "2022-12-16T21:36:03.964Z"
   },
   {
    "duration": 880,
    "start_time": "2022-12-16T21:36:04.003Z"
   },
   {
    "duration": 31,
    "start_time": "2022-12-16T21:36:04.885Z"
   },
   {
    "duration": 4,
    "start_time": "2022-12-16T21:36:04.918Z"
   },
   {
    "duration": 1094,
    "start_time": "2022-12-16T21:36:04.925Z"
   },
   {
    "duration": 3,
    "start_time": "2022-12-16T21:36:06.021Z"
   },
   {
    "duration": 10,
    "start_time": "2022-12-16T21:36:06.026Z"
   },
   {
    "duration": 5,
    "start_time": "2022-12-16T21:36:06.038Z"
   },
   {
    "duration": 6,
    "start_time": "2022-12-16T21:36:06.044Z"
   },
   {
    "duration": 7,
    "start_time": "2022-12-16T21:36:06.052Z"
   },
   {
    "duration": 168,
    "start_time": "2022-12-16T21:36:06.060Z"
   },
   {
    "duration": 301,
    "start_time": "2022-12-16T21:36:06.229Z"
   },
   {
    "duration": 24,
    "start_time": "2022-12-16T21:36:06.533Z"
   },
   {
    "duration": 3,
    "start_time": "2022-12-16T21:36:06.558Z"
   },
   {
    "duration": 5,
    "start_time": "2022-12-16T21:36:06.562Z"
   },
   {
    "duration": 9,
    "start_time": "2022-12-16T21:36:06.569Z"
   },
   {
    "duration": 10,
    "start_time": "2022-12-16T21:36:06.580Z"
   },
   {
    "duration": 24,
    "start_time": "2022-12-16T21:36:06.591Z"
   },
   {
    "duration": 2,
    "start_time": "2022-12-16T21:36:06.617Z"
   },
   {
    "duration": 136,
    "start_time": "2022-12-16T21:55:01.603Z"
   },
   {
    "duration": 2502,
    "start_time": "2022-12-16T21:55:11.039Z"
   },
   {
    "duration": 1172,
    "start_time": "2022-12-16T21:55:13.544Z"
   },
   {
    "duration": 45,
    "start_time": "2022-12-16T21:55:14.718Z"
   },
   {
    "duration": 23,
    "start_time": "2022-12-16T21:55:14.765Z"
   },
   {
    "duration": 17,
    "start_time": "2022-12-16T21:55:14.791Z"
   },
   {
    "duration": 42,
    "start_time": "2022-12-16T21:55:14.810Z"
   },
   {
    "duration": 1086,
    "start_time": "2022-12-16T21:55:14.854Z"
   },
   {
    "duration": 26,
    "start_time": "2022-12-16T21:55:15.942Z"
   },
   {
    "duration": 4,
    "start_time": "2022-12-16T21:55:15.970Z"
   },
   {
    "duration": 1410,
    "start_time": "2022-12-16T21:55:15.975Z"
   },
   {
    "duration": 4,
    "start_time": "2022-12-16T21:55:17.387Z"
   },
   {
    "duration": 10,
    "start_time": "2022-12-16T21:55:17.393Z"
   },
   {
    "duration": 10,
    "start_time": "2022-12-16T21:55:17.404Z"
   },
   {
    "duration": 26,
    "start_time": "2022-12-16T21:55:17.418Z"
   },
   {
    "duration": 16,
    "start_time": "2022-12-16T21:55:17.446Z"
   },
   {
    "duration": 4,
    "start_time": "2022-12-16T21:55:17.464Z"
   },
   {
    "duration": 154,
    "start_time": "2022-12-16T21:55:17.470Z"
   },
   {
    "duration": 231,
    "start_time": "2022-12-16T21:55:17.626Z"
   },
   {
    "duration": 20,
    "start_time": "2022-12-16T21:55:17.859Z"
   },
   {
    "duration": 6,
    "start_time": "2022-12-16T21:55:17.880Z"
   },
   {
    "duration": 29,
    "start_time": "2022-12-16T21:55:17.887Z"
   },
   {
    "duration": 9,
    "start_time": "2022-12-16T21:55:17.918Z"
   },
   {
    "duration": 14,
    "start_time": "2022-12-16T21:55:17.929Z"
   },
   {
    "duration": 16,
    "start_time": "2022-12-16T21:55:17.945Z"
   },
   {
    "duration": 5,
    "start_time": "2022-12-16T21:55:17.963Z"
   },
   {
    "duration": 108,
    "start_time": "2022-12-16T22:01:22.585Z"
   },
   {
    "duration": 17,
    "start_time": "2022-12-16T22:02:14.474Z"
   },
   {
    "duration": 13,
    "start_time": "2022-12-16T22:02:58.700Z"
   },
   {
    "duration": 15,
    "start_time": "2022-12-16T22:03:17.092Z"
   },
   {
    "duration": 11,
    "start_time": "2022-12-16T22:04:07.264Z"
   },
   {
    "duration": 10,
    "start_time": "2022-12-16T22:04:27.641Z"
   },
   {
    "duration": 13,
    "start_time": "2022-12-16T22:05:28.903Z"
   },
   {
    "duration": 1970,
    "start_time": "2022-12-16T22:05:50.173Z"
   },
   {
    "duration": 1074,
    "start_time": "2022-12-16T22:05:52.145Z"
   },
   {
    "duration": 34,
    "start_time": "2022-12-16T22:05:53.221Z"
   },
   {
    "duration": 16,
    "start_time": "2022-12-16T22:05:53.258Z"
   },
   {
    "duration": 11,
    "start_time": "2022-12-16T22:05:53.276Z"
   },
   {
    "duration": 42,
    "start_time": "2022-12-16T22:05:53.288Z"
   },
   {
    "duration": 895,
    "start_time": "2022-12-16T22:05:53.332Z"
   },
   {
    "duration": 30,
    "start_time": "2022-12-16T22:05:54.228Z"
   },
   {
    "duration": 4,
    "start_time": "2022-12-16T22:05:54.260Z"
   },
   {
    "duration": 1200,
    "start_time": "2022-12-16T22:05:54.267Z"
   },
   {
    "duration": 784,
    "start_time": "2022-12-16T22:05:55.469Z"
   },
   {
    "duration": 0,
    "start_time": "2022-12-16T22:05:56.255Z"
   },
   {
    "duration": 0,
    "start_time": "2022-12-16T22:05:56.257Z"
   },
   {
    "duration": 0,
    "start_time": "2022-12-16T22:05:56.258Z"
   },
   {
    "duration": 0,
    "start_time": "2022-12-16T22:05:56.259Z"
   },
   {
    "duration": 0,
    "start_time": "2022-12-16T22:05:56.261Z"
   },
   {
    "duration": 0,
    "start_time": "2022-12-16T22:05:56.262Z"
   },
   {
    "duration": 0,
    "start_time": "2022-12-16T22:05:56.263Z"
   },
   {
    "duration": 0,
    "start_time": "2022-12-16T22:05:56.264Z"
   },
   {
    "duration": 0,
    "start_time": "2022-12-16T22:05:56.266Z"
   },
   {
    "duration": 0,
    "start_time": "2022-12-16T22:05:56.267Z"
   },
   {
    "duration": 0,
    "start_time": "2022-12-16T22:05:56.269Z"
   },
   {
    "duration": 0,
    "start_time": "2022-12-16T22:05:56.270Z"
   },
   {
    "duration": 0,
    "start_time": "2022-12-16T22:05:56.272Z"
   },
   {
    "duration": 9,
    "start_time": "2022-12-16T22:06:34.647Z"
   },
   {
    "duration": 2022,
    "start_time": "2022-12-16T22:06:42.755Z"
   },
   {
    "duration": 1043,
    "start_time": "2022-12-16T22:06:44.779Z"
   },
   {
    "duration": 31,
    "start_time": "2022-12-16T22:06:45.824Z"
   },
   {
    "duration": 16,
    "start_time": "2022-12-16T22:06:45.857Z"
   },
   {
    "duration": 13,
    "start_time": "2022-12-16T22:06:45.875Z"
   },
   {
    "duration": 29,
    "start_time": "2022-12-16T22:06:45.892Z"
   },
   {
    "duration": 946,
    "start_time": "2022-12-16T22:06:45.923Z"
   },
   {
    "duration": 20,
    "start_time": "2022-12-16T22:06:46.871Z"
   },
   {
    "duration": 3,
    "start_time": "2022-12-16T22:06:46.892Z"
   },
   {
    "duration": 1170,
    "start_time": "2022-12-16T22:06:46.897Z"
   },
   {
    "duration": 15,
    "start_time": "2022-12-16T22:06:48.069Z"
   },
   {
    "duration": 827,
    "start_time": "2022-12-16T22:06:48.086Z"
   },
   {
    "duration": 0,
    "start_time": "2022-12-16T22:06:48.915Z"
   },
   {
    "duration": 0,
    "start_time": "2022-12-16T22:06:48.916Z"
   },
   {
    "duration": 0,
    "start_time": "2022-12-16T22:06:48.918Z"
   },
   {
    "duration": 0,
    "start_time": "2022-12-16T22:06:48.919Z"
   },
   {
    "duration": 0,
    "start_time": "2022-12-16T22:06:48.920Z"
   },
   {
    "duration": 0,
    "start_time": "2022-12-16T22:06:48.922Z"
   },
   {
    "duration": 0,
    "start_time": "2022-12-16T22:06:48.923Z"
   },
   {
    "duration": 0,
    "start_time": "2022-12-16T22:06:48.924Z"
   },
   {
    "duration": 0,
    "start_time": "2022-12-16T22:06:48.925Z"
   },
   {
    "duration": 0,
    "start_time": "2022-12-16T22:06:48.927Z"
   },
   {
    "duration": 0,
    "start_time": "2022-12-16T22:06:48.928Z"
   },
   {
    "duration": 0,
    "start_time": "2022-12-16T22:06:48.929Z"
   },
   {
    "duration": 0,
    "start_time": "2022-12-16T22:06:48.932Z"
   },
   {
    "duration": 2043,
    "start_time": "2022-12-16T22:07:07.963Z"
   },
   {
    "duration": 1059,
    "start_time": "2022-12-16T22:07:10.008Z"
   },
   {
    "duration": 29,
    "start_time": "2022-12-16T22:07:11.069Z"
   },
   {
    "duration": 13,
    "start_time": "2022-12-16T22:07:11.100Z"
   },
   {
    "duration": 18,
    "start_time": "2022-12-16T22:07:11.116Z"
   },
   {
    "duration": 24,
    "start_time": "2022-12-16T22:07:11.136Z"
   },
   {
    "duration": 909,
    "start_time": "2022-12-16T22:07:11.162Z"
   },
   {
    "duration": 25,
    "start_time": "2022-12-16T22:07:12.077Z"
   },
   {
    "duration": 13,
    "start_time": "2022-12-16T22:07:12.104Z"
   },
   {
    "duration": 1121,
    "start_time": "2022-12-16T22:07:12.119Z"
   },
   {
    "duration": 12,
    "start_time": "2022-12-16T22:07:13.242Z"
   },
   {
    "duration": 10,
    "start_time": "2022-12-16T22:07:13.257Z"
   },
   {
    "duration": 126,
    "start_time": "2022-12-16T22:07:13.268Z"
   },
   {
    "duration": 0,
    "start_time": "2022-12-16T22:07:13.396Z"
   },
   {
    "duration": 0,
    "start_time": "2022-12-16T22:07:13.397Z"
   },
   {
    "duration": 0,
    "start_time": "2022-12-16T22:07:13.398Z"
   },
   {
    "duration": 0,
    "start_time": "2022-12-16T22:07:13.399Z"
   },
   {
    "duration": 0,
    "start_time": "2022-12-16T22:07:13.400Z"
   },
   {
    "duration": 0,
    "start_time": "2022-12-16T22:07:13.401Z"
   },
   {
    "duration": 0,
    "start_time": "2022-12-16T22:07:13.402Z"
   },
   {
    "duration": 0,
    "start_time": "2022-12-16T22:07:13.403Z"
   },
   {
    "duration": 0,
    "start_time": "2022-12-16T22:07:13.404Z"
   },
   {
    "duration": 0,
    "start_time": "2022-12-16T22:07:13.416Z"
   },
   {
    "duration": 0,
    "start_time": "2022-12-16T22:07:13.417Z"
   },
   {
    "duration": 0,
    "start_time": "2022-12-16T22:07:13.418Z"
   },
   {
    "duration": 3,
    "start_time": "2022-12-16T22:07:47.595Z"
   },
   {
    "duration": 1959,
    "start_time": "2022-12-16T22:08:02.553Z"
   },
   {
    "duration": 1068,
    "start_time": "2022-12-16T22:08:04.515Z"
   },
   {
    "duration": 39,
    "start_time": "2022-12-16T22:08:05.584Z"
   },
   {
    "duration": 15,
    "start_time": "2022-12-16T22:08:05.625Z"
   },
   {
    "duration": 24,
    "start_time": "2022-12-16T22:08:05.641Z"
   },
   {
    "duration": 55,
    "start_time": "2022-12-16T22:08:05.667Z"
   },
   {
    "duration": 914,
    "start_time": "2022-12-16T22:08:05.724Z"
   },
   {
    "duration": 19,
    "start_time": "2022-12-16T22:08:06.640Z"
   },
   {
    "duration": 3,
    "start_time": "2022-12-16T22:08:06.661Z"
   },
   {
    "duration": 1093,
    "start_time": "2022-12-16T22:08:06.666Z"
   },
   {
    "duration": 9,
    "start_time": "2022-12-16T22:08:07.761Z"
   },
   {
    "duration": 13,
    "start_time": "2022-12-16T22:08:07.772Z"
   },
   {
    "duration": 9,
    "start_time": "2022-12-16T22:08:07.786Z"
   },
   {
    "duration": 107,
    "start_time": "2022-12-16T22:08:07.797Z"
   },
   {
    "duration": 0,
    "start_time": "2022-12-16T22:08:07.906Z"
   },
   {
    "duration": 0,
    "start_time": "2022-12-16T22:08:07.907Z"
   },
   {
    "duration": 0,
    "start_time": "2022-12-16T22:08:07.908Z"
   },
   {
    "duration": 0,
    "start_time": "2022-12-16T22:08:07.909Z"
   },
   {
    "duration": 0,
    "start_time": "2022-12-16T22:08:07.910Z"
   },
   {
    "duration": 0,
    "start_time": "2022-12-16T22:08:07.911Z"
   },
   {
    "duration": 0,
    "start_time": "2022-12-16T22:08:07.915Z"
   },
   {
    "duration": 0,
    "start_time": "2022-12-16T22:08:07.916Z"
   },
   {
    "duration": 0,
    "start_time": "2022-12-16T22:08:07.918Z"
   },
   {
    "duration": 0,
    "start_time": "2022-12-16T22:08:07.919Z"
   },
   {
    "duration": 0,
    "start_time": "2022-12-16T22:08:07.920Z"
   },
   {
    "duration": 0,
    "start_time": "2022-12-16T22:08:07.921Z"
   },
   {
    "duration": 715,
    "start_time": "2022-12-16T22:08:19.075Z"
   },
   {
    "duration": 2038,
    "start_time": "2022-12-16T22:08:26.863Z"
   },
   {
    "duration": 1080,
    "start_time": "2022-12-16T22:08:28.903Z"
   },
   {
    "duration": 32,
    "start_time": "2022-12-16T22:08:29.984Z"
   },
   {
    "duration": 15,
    "start_time": "2022-12-16T22:08:30.017Z"
   },
   {
    "duration": 45,
    "start_time": "2022-12-16T22:08:30.034Z"
   },
   {
    "duration": 43,
    "start_time": "2022-12-16T22:08:30.081Z"
   },
   {
    "duration": 939,
    "start_time": "2022-12-16T22:08:30.125Z"
   },
   {
    "duration": 25,
    "start_time": "2022-12-16T22:08:31.066Z"
   },
   {
    "duration": 8,
    "start_time": "2022-12-16T22:08:31.093Z"
   },
   {
    "duration": 1113,
    "start_time": "2022-12-16T22:08:31.103Z"
   },
   {
    "duration": 11,
    "start_time": "2022-12-16T22:08:32.217Z"
   },
   {
    "duration": 6,
    "start_time": "2022-12-16T22:08:32.230Z"
   },
   {
    "duration": 9,
    "start_time": "2022-12-16T22:08:32.237Z"
   },
   {
    "duration": 8,
    "start_time": "2022-12-16T22:08:32.249Z"
   },
   {
    "duration": 10,
    "start_time": "2022-12-16T22:08:32.259Z"
   },
   {
    "duration": 8,
    "start_time": "2022-12-16T22:08:32.270Z"
   },
   {
    "duration": 15,
    "start_time": "2022-12-16T22:08:32.279Z"
   },
   {
    "duration": 177,
    "start_time": "2022-12-16T22:08:32.295Z"
   },
   {
    "duration": 264,
    "start_time": "2022-12-16T22:08:32.474Z"
   },
   {
    "duration": 27,
    "start_time": "2022-12-16T22:08:32.740Z"
   },
   {
    "duration": 3,
    "start_time": "2022-12-16T22:08:32.768Z"
   },
   {
    "duration": 9,
    "start_time": "2022-12-16T22:08:32.773Z"
   },
   {
    "duration": 22,
    "start_time": "2022-12-16T22:08:32.783Z"
   },
   {
    "duration": 8,
    "start_time": "2022-12-16T22:08:32.807Z"
   },
   {
    "duration": 22,
    "start_time": "2022-12-16T22:08:32.816Z"
   },
   {
    "duration": 20,
    "start_time": "2022-12-16T22:08:32.839Z"
   },
   {
    "duration": 1989,
    "start_time": "2022-12-16T22:08:49.255Z"
   },
   {
    "duration": 1068,
    "start_time": "2022-12-16T22:08:51.247Z"
   },
   {
    "duration": 30,
    "start_time": "2022-12-16T22:08:52.316Z"
   },
   {
    "duration": 15,
    "start_time": "2022-12-16T22:08:52.348Z"
   },
   {
    "duration": 15,
    "start_time": "2022-12-16T22:08:52.364Z"
   },
   {
    "duration": 23,
    "start_time": "2022-12-16T22:08:52.381Z"
   },
   {
    "duration": 885,
    "start_time": "2022-12-16T22:08:52.407Z"
   },
   {
    "duration": 26,
    "start_time": "2022-12-16T22:08:53.294Z"
   },
   {
    "duration": 3,
    "start_time": "2022-12-16T22:08:53.321Z"
   },
   {
    "duration": 1089,
    "start_time": "2022-12-16T22:08:53.326Z"
   },
   {
    "duration": 10,
    "start_time": "2022-12-16T22:08:54.417Z"
   },
   {
    "duration": 9,
    "start_time": "2022-12-16T22:08:54.428Z"
   },
   {
    "duration": 10,
    "start_time": "2022-12-16T22:08:54.438Z"
   },
   {
    "duration": 7,
    "start_time": "2022-12-16T22:08:54.449Z"
   },
   {
    "duration": 14,
    "start_time": "2022-12-16T22:08:54.457Z"
   },
   {
    "duration": 20,
    "start_time": "2022-12-16T22:08:54.472Z"
   },
   {
    "duration": 15,
    "start_time": "2022-12-16T22:08:54.493Z"
   },
   {
    "duration": 139,
    "start_time": "2022-12-16T22:08:54.510Z"
   },
   {
    "duration": 193,
    "start_time": "2022-12-16T22:08:54.651Z"
   },
   {
    "duration": 17,
    "start_time": "2022-12-16T22:08:54.845Z"
   },
   {
    "duration": 3,
    "start_time": "2022-12-16T22:08:54.863Z"
   },
   {
    "duration": 8,
    "start_time": "2022-12-16T22:08:54.867Z"
   },
   {
    "duration": 10,
    "start_time": "2022-12-16T22:08:54.876Z"
   },
   {
    "duration": 9,
    "start_time": "2022-12-16T22:08:54.887Z"
   },
   {
    "duration": 26,
    "start_time": "2022-12-16T22:08:54.897Z"
   },
   {
    "duration": 2,
    "start_time": "2022-12-16T22:08:54.924Z"
   },
   {
    "duration": 6,
    "start_time": "2022-12-16T22:09:38.901Z"
   },
   {
    "duration": 8,
    "start_time": "2022-12-16T22:09:39.759Z"
   }
  ],
  "kernelspec": {
   "display_name": "Python 3",
   "language": "python",
   "name": "python3"
  },
  "language_info": {
   "codemirror_mode": {
    "name": "ipython",
    "version": 3
   },
   "file_extension": ".py",
   "mimetype": "text/x-python",
   "name": "python",
   "nbconvert_exporter": "python",
   "pygments_lexer": "ipython3",
   "version": "3.7.4"
  },
  "toc": {
   "base_numbering": 1,
   "nav_menu": {},
   "number_sections": true,
   "sideBar": true,
   "skip_h1_title": true,
   "title_cell": "Table of Contents",
   "title_sidebar": "Contents",
   "toc_cell": false,
   "toc_position": {},
   "toc_section_display": true,
   "toc_window_display": false
  }
 },
 "nbformat": 4,
 "nbformat_minor": 2
}
