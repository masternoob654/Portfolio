{
 "cells": [
  {
   "cell_type": "markdown",
   "metadata": {
    "toc": true
   },
   "source": [
    "<h1>Содержание<span class=\"tocSkip\"></span></h1>\n",
    "<div class=\"toc\"><ul class=\"toc-item\"><li><span><a href=\"#Подготовка\" data-toc-modified-id=\"Подготовка-1\"><span class=\"toc-item-num\">1&nbsp;&nbsp;</span>Подготовка</a></span><ul class=\"toc-item\"><li><span><a href=\"#Открытие-данных\" data-toc-modified-id=\"Открытие-данных-1.1\"><span class=\"toc-item-num\">1.1&nbsp;&nbsp;</span>Открытие данных</a></span></li><li><span><a href=\"#Подготовка-данных\" data-toc-modified-id=\"Подготовка-данных-1.2\"><span class=\"toc-item-num\">1.2&nbsp;&nbsp;</span>Подготовка данных</a></span></li></ul></li><li><span><a href=\"#Обучение\" data-toc-modified-id=\"Обучение-2\"><span class=\"toc-item-num\">2&nbsp;&nbsp;</span>Обучение</a></span><ul class=\"toc-item\"><li><span><a href=\"#Логистическая-регрессия\" data-toc-modified-id=\"Логистическая-регрессия-2.1\"><span class=\"toc-item-num\">2.1&nbsp;&nbsp;</span>Логистическая регрессия</a></span></li><li><span><a href=\"#Случайный-лес\" data-toc-modified-id=\"Случайный-лес-2.2\"><span class=\"toc-item-num\">2.2&nbsp;&nbsp;</span>Случайный лес</a></span></li><li><span><a href=\"#Дерево-решений\" data-toc-modified-id=\"Дерево-решений-2.3\"><span class=\"toc-item-num\">2.3&nbsp;&nbsp;</span>Дерево решений</a></span></li><li><span><a href=\"#Проверка-лучшей-модели-на-тестовой-выборке\" data-toc-modified-id=\"Проверка-лучшей-модели-на-тестовой-выборке-2.4\"><span class=\"toc-item-num\">2.4&nbsp;&nbsp;</span>Проверка лучшей модели на тестовой выборке</a></span></li></ul></li><li><span><a href=\"#Выводы\" data-toc-modified-id=\"Выводы-3\"><span class=\"toc-item-num\">3&nbsp;&nbsp;</span>Выводы</a></span></li><li><span><a href=\"#Чек-лист-проверки\" data-toc-modified-id=\"Чек-лист-проверки-4\"><span class=\"toc-item-num\">4&nbsp;&nbsp;</span>Чек-лист проверки</a></span></li></ul></div>"
   ]
  },
  {
   "cell_type": "markdown",
   "metadata": {},
   "source": [
    "# Проект для «Викишоп»"
   ]
  },
  {
   "cell_type": "markdown",
   "metadata": {},
   "source": [
    "Интернет-магазин «Викишоп» запускает новый сервис. Теперь пользователи могут редактировать и дополнять описания товаров, как в вики-сообществах. То есть клиенты предлагают свои правки и комментируют изменения других. Магазину нужен инструмент, который будет искать токсичные комментарии и отправлять их на модерацию. \n",
    "\n",
    "Обучите модель классифицировать комментарии на позитивные и негативные. В вашем распоряжении набор данных с разметкой о токсичности правок.\n",
    "\n",
    "Постройте модель со значением метрики качества *F1* не меньше 0.75. \n",
    "\n",
    "**Инструкция по выполнению проекта**\n",
    "\n",
    "1. Загрузите и подготовьте данные.\n",
    "2. Обучите разные модели. \n",
    "3. Сделайте выводы.\n",
    "\n",
    "Для выполнения проекта применять *BERT* необязательно, но вы можете попробовать.\n",
    "\n",
    "**Описание данных**\n",
    "\n",
    "Данные находятся в файле `toxic_comments.csv`. Столбец *text* в нём содержит текст комментария, а *toxic* — целевой признак."
   ]
  },
  {
   "cell_type": "markdown",
   "metadata": {},
   "source": [
    "## Подготовка"
   ]
  },
  {
   "cell_type": "markdown",
   "metadata": {},
   "source": [
    "### Открытие данных"
   ]
  },
  {
   "cell_type": "markdown",
   "metadata": {},
   "source": [
    "Импортируем библиотеки и открываем данные."
   ]
  },
  {
   "cell_type": "code",
   "execution_count": 1,
   "metadata": {},
   "outputs": [
    {
     "name": "stderr",
     "output_type": "stream",
     "text": [
      "[nltk_data] Downloading package stopwords to /home/jovyan/nltk_data...\n",
      "[nltk_data]   Package stopwords is already up-to-date!\n"
     ]
    }
   ],
   "source": [
    "import pandas as pd \n",
    "import numpy as np \n",
    "\n",
    "from sklearn.pipeline import Pipeline\n",
    "\n",
    "from tqdm.notebook import tqdm\n",
    "\n",
    "import re\n",
    "import nltk\n",
    "from nltk.corpus import stopwords as nltk_stopwords\n",
    "from sklearn.feature_extraction.text import TfidfVectorizer, TfidfTransformer\n",
    "from nltk.corpus import wordnet\n",
    "from nltk.stem import WordNetLemmatizer\n",
    "from sklearn.utils import shuffle\n",
    "\n",
    "from sklearn.model_selection import train_test_split, GridSearchCV\n",
    "\n",
    "from sklearn.linear_model import LogisticRegression\n",
    "from sklearn.ensemble import RandomForestClassifier\n",
    "from sklearn.tree import DecisionTreeClassifier\n",
    "\n",
    "from sklearn.metrics import f1_score\n",
    "\n",
    "import time\n",
    "import warnings\n",
    "warnings.filterwarnings('ignore')\n",
    "\n",
    "nltk.download('stopwords')\n",
    "stopwords = set(nltk_stopwords.words('english'))"
   ]
  },
  {
   "cell_type": "code",
   "execution_count": 2,
   "metadata": {},
   "outputs": [],
   "source": [
    "df = pd.read_csv('/datasets/toxic_comments.csv')"
   ]
  },
  {
   "cell_type": "code",
   "execution_count": 3,
   "metadata": {},
   "outputs": [
    {
     "name": "stdout",
     "output_type": "stream",
     "text": [
      "<class 'pandas.core.frame.DataFrame'>\n",
      "RangeIndex: 159292 entries, 0 to 159291\n",
      "Data columns (total 3 columns):\n",
      " #   Column      Non-Null Count   Dtype \n",
      "---  ------      --------------   ----- \n",
      " 0   Unnamed: 0  159292 non-null  int64 \n",
      " 1   text        159292 non-null  object\n",
      " 2   toxic       159292 non-null  int64 \n",
      "dtypes: int64(2), object(1)\n",
      "memory usage: 3.6+ MB\n"
     ]
    }
   ],
   "source": [
    "df.info()"
   ]
  },
  {
   "cell_type": "code",
   "execution_count": 4,
   "metadata": {},
   "outputs": [
    {
     "data": {
      "text/html": [
       "<div>\n",
       "<style scoped>\n",
       "    .dataframe tbody tr th:only-of-type {\n",
       "        vertical-align: middle;\n",
       "    }\n",
       "\n",
       "    .dataframe tbody tr th {\n",
       "        vertical-align: top;\n",
       "    }\n",
       "\n",
       "    .dataframe thead th {\n",
       "        text-align: right;\n",
       "    }\n",
       "</style>\n",
       "<table border=\"1\" class=\"dataframe\">\n",
       "  <thead>\n",
       "    <tr style=\"text-align: right;\">\n",
       "      <th></th>\n",
       "      <th>Unnamed: 0</th>\n",
       "      <th>text</th>\n",
       "      <th>toxic</th>\n",
       "    </tr>\n",
       "  </thead>\n",
       "  <tbody>\n",
       "    <tr>\n",
       "      <th>0</th>\n",
       "      <td>0</td>\n",
       "      <td>Explanation\\nWhy the edits made under my usern...</td>\n",
       "      <td>0</td>\n",
       "    </tr>\n",
       "    <tr>\n",
       "      <th>1</th>\n",
       "      <td>1</td>\n",
       "      <td>D'aww! He matches this background colour I'm s...</td>\n",
       "      <td>0</td>\n",
       "    </tr>\n",
       "    <tr>\n",
       "      <th>2</th>\n",
       "      <td>2</td>\n",
       "      <td>Hey man, I'm really not trying to edit war. It...</td>\n",
       "      <td>0</td>\n",
       "    </tr>\n",
       "    <tr>\n",
       "      <th>3</th>\n",
       "      <td>3</td>\n",
       "      <td>\"\\nMore\\nI can't make any real suggestions on ...</td>\n",
       "      <td>0</td>\n",
       "    </tr>\n",
       "    <tr>\n",
       "      <th>4</th>\n",
       "      <td>4</td>\n",
       "      <td>You, sir, are my hero. Any chance you remember...</td>\n",
       "      <td>0</td>\n",
       "    </tr>\n",
       "  </tbody>\n",
       "</table>\n",
       "</div>"
      ],
      "text/plain": [
       "   Unnamed: 0                                               text  toxic\n",
       "0           0  Explanation\\nWhy the edits made under my usern...      0\n",
       "1           1  D'aww! He matches this background colour I'm s...      0\n",
       "2           2  Hey man, I'm really not trying to edit war. It...      0\n",
       "3           3  \"\\nMore\\nI can't make any real suggestions on ...      0\n",
       "4           4  You, sir, are my hero. Any chance you remember...      0"
      ]
     },
     "execution_count": 4,
     "metadata": {},
     "output_type": "execute_result"
    }
   ],
   "source": [
    "df.head()"
   ]
  },
  {
   "cell_type": "code",
   "execution_count": 5,
   "metadata": {},
   "outputs": [
    {
     "data": {
      "text/html": [
       "<div>\n",
       "<style scoped>\n",
       "    .dataframe tbody tr th:only-of-type {\n",
       "        vertical-align: middle;\n",
       "    }\n",
       "\n",
       "    .dataframe tbody tr th {\n",
       "        vertical-align: top;\n",
       "    }\n",
       "\n",
       "    .dataframe thead th {\n",
       "        text-align: right;\n",
       "    }\n",
       "</style>\n",
       "<table border=\"1\" class=\"dataframe\">\n",
       "  <thead>\n",
       "    <tr style=\"text-align: right;\">\n",
       "      <th></th>\n",
       "      <th>Unnamed: 0</th>\n",
       "      <th>text</th>\n",
       "      <th>toxic</th>\n",
       "    </tr>\n",
       "  </thead>\n",
       "  <tbody>\n",
       "    <tr>\n",
       "      <th>159287</th>\n",
       "      <td>159446</td>\n",
       "      <td>\":::::And for the second time of asking, when ...</td>\n",
       "      <td>0</td>\n",
       "    </tr>\n",
       "    <tr>\n",
       "      <th>159288</th>\n",
       "      <td>159447</td>\n",
       "      <td>You should be ashamed of yourself \\n\\nThat is ...</td>\n",
       "      <td>0</td>\n",
       "    </tr>\n",
       "    <tr>\n",
       "      <th>159289</th>\n",
       "      <td>159448</td>\n",
       "      <td>Spitzer \\n\\nUmm, theres no actual article for ...</td>\n",
       "      <td>0</td>\n",
       "    </tr>\n",
       "    <tr>\n",
       "      <th>159290</th>\n",
       "      <td>159449</td>\n",
       "      <td>And it looks like it was actually you who put ...</td>\n",
       "      <td>0</td>\n",
       "    </tr>\n",
       "    <tr>\n",
       "      <th>159291</th>\n",
       "      <td>159450</td>\n",
       "      <td>\"\\nAnd ... I really don't think you understand...</td>\n",
       "      <td>0</td>\n",
       "    </tr>\n",
       "  </tbody>\n",
       "</table>\n",
       "</div>"
      ],
      "text/plain": [
       "        Unnamed: 0                                               text  toxic\n",
       "159287      159446  \":::::And for the second time of asking, when ...      0\n",
       "159288      159447  You should be ashamed of yourself \\n\\nThat is ...      0\n",
       "159289      159448  Spitzer \\n\\nUmm, theres no actual article for ...      0\n",
       "159290      159449  And it looks like it was actually you who put ...      0\n",
       "159291      159450  \"\\nAnd ... I really don't think you understand...      0"
      ]
     },
     "execution_count": 5,
     "metadata": {},
     "output_type": "execute_result"
    }
   ],
   "source": [
    "df.tail()"
   ]
  },
  {
   "cell_type": "code",
   "execution_count": 6,
   "metadata": {
    "scrolled": true
   },
   "outputs": [
    {
     "data": {
      "text/plain": [
       "0    143106\n",
       "1     16186\n",
       "Name: toxic, dtype: int64"
      ]
     },
     "execution_count": 6,
     "metadata": {},
     "output_type": "execute_result"
    }
   ],
   "source": [
    "df['toxic'].value_counts()"
   ]
  },
  {
   "cell_type": "markdown",
   "metadata": {},
   "source": [
    "Были импортированы библиотеки и открыты данные. Датасет с данными состоит из трёх столбцов - Unnamed: 0, test и toxic.\n",
    "* `Unnamed: 0` - нужно удалить, так как он дублирует индексы строк.\n",
    "* `test` - включает в себя текст твита.\n",
    "* `toxic` - содержит булевы значения, которые показывают, является ли твит в столбце `test` токсичным или нет."
   ]
  },
  {
   "cell_type": "markdown",
   "metadata": {},
   "source": [
    "### Подготовка данных"
   ]
  },
  {
   "cell_type": "markdown",
   "metadata": {},
   "source": [
    "Сначала удалим столбец `Unnamed: 0`."
   ]
  },
  {
   "cell_type": "code",
   "execution_count": 7,
   "metadata": {},
   "outputs": [],
   "source": [
    "tqdm.pandas()"
   ]
  },
  {
   "cell_type": "code",
   "execution_count": 8,
   "metadata": {},
   "outputs": [],
   "source": [
    "df = df.drop(['Unnamed: 0'], axis=1)"
   ]
  },
  {
   "cell_type": "markdown",
   "metadata": {},
   "source": [
    "Напишем функцию по очистке текста от нелатинских букв и замене этих букв на пробелы. Затем применим эту функцию."
   ]
  },
  {
   "cell_type": "code",
   "execution_count": 9,
   "metadata": {},
   "outputs": [],
   "source": [
    "def clear_text(text):\n",
    "    text = text.lower()\n",
    "    text = re.sub(r'[^a-zA-Z]', ' ', text)   \n",
    "    text = ' '.join(text.split())\n",
    "    return text"
   ]
  },
  {
   "cell_type": "code",
   "execution_count": 10,
   "metadata": {
    "scrolled": true
   },
   "outputs": [
    {
     "name": "stdout",
     "output_type": "stream",
     "text": [
      "CPU times: user 3.82 s, sys: 55 ms, total: 3.87 s\n",
      "Wall time: 3.87 s\n"
     ]
    }
   ],
   "source": [
    "%%time\n",
    "\n",
    "df['text'] = df['text'].apply(clear_text) "
   ]
  },
  {
   "cell_type": "code",
   "execution_count": 11,
   "metadata": {},
   "outputs": [
    {
     "data": {
      "text/html": [
       "<div>\n",
       "<style scoped>\n",
       "    .dataframe tbody tr th:only-of-type {\n",
       "        vertical-align: middle;\n",
       "    }\n",
       "\n",
       "    .dataframe tbody tr th {\n",
       "        vertical-align: top;\n",
       "    }\n",
       "\n",
       "    .dataframe thead th {\n",
       "        text-align: right;\n",
       "    }\n",
       "</style>\n",
       "<table border=\"1\" class=\"dataframe\">\n",
       "  <thead>\n",
       "    <tr style=\"text-align: right;\">\n",
       "      <th></th>\n",
       "      <th>text</th>\n",
       "      <th>toxic</th>\n",
       "    </tr>\n",
       "  </thead>\n",
       "  <tbody>\n",
       "    <tr>\n",
       "      <th>0</th>\n",
       "      <td>explanation why the edits made under my userna...</td>\n",
       "      <td>0</td>\n",
       "    </tr>\n",
       "    <tr>\n",
       "      <th>1</th>\n",
       "      <td>d aww he matches this background colour i m se...</td>\n",
       "      <td>0</td>\n",
       "    </tr>\n",
       "    <tr>\n",
       "      <th>2</th>\n",
       "      <td>hey man i m really not trying to edit war it s...</td>\n",
       "      <td>0</td>\n",
       "    </tr>\n",
       "    <tr>\n",
       "      <th>3</th>\n",
       "      <td>more i can t make any real suggestions on impr...</td>\n",
       "      <td>0</td>\n",
       "    </tr>\n",
       "    <tr>\n",
       "      <th>4</th>\n",
       "      <td>you sir are my hero any chance you remember wh...</td>\n",
       "      <td>0</td>\n",
       "    </tr>\n",
       "  </tbody>\n",
       "</table>\n",
       "</div>"
      ],
      "text/plain": [
       "                                                text  toxic\n",
       "0  explanation why the edits made under my userna...      0\n",
       "1  d aww he matches this background colour i m se...      0\n",
       "2  hey man i m really not trying to edit war it s...      0\n",
       "3  more i can t make any real suggestions on impr...      0\n",
       "4  you sir are my hero any chance you remember wh...      0"
      ]
     },
     "execution_count": 11,
     "metadata": {},
     "output_type": "execute_result"
    }
   ],
   "source": [
    "df.head()"
   ]
  },
  {
   "cell_type": "code",
   "execution_count": 12,
   "metadata": {},
   "outputs": [],
   "source": [
    "def get_wordnet_pos(word):\n",
    "    tag = nltk.pos_tag([word])[0][1][0].upper()\n",
    "    tag_dict = {\"Adj\": wordnet.ADJ,               #прилагательное\n",
    "                \"N\": wordnet.NOUN,                #существительное\n",
    "                \"V\": wordnet.VERB,                #глагол\n",
    "                \"Adv\": wordnet.ADV                #наречие\n",
    "               }  \n",
    "    return tag_dict.get(tag, wordnet.NOUN)\n",
    "\n",
    "lemmatizer = WordNetLemmatizer()\n",
    "\n",
    "def lemm_text(text):\n",
    "    text = [lemmatizer.lemmatize(w, get_wordnet_pos(w)) for w in nltk.word_tokenize(text)]\n",
    "    return ' '.join(text)"
   ]
  },
  {
   "cell_type": "code",
   "execution_count": 13,
   "metadata": {},
   "outputs": [
    {
     "name": "stderr",
     "output_type": "stream",
     "text": [
      "[nltk_data] Downloading package averaged_perceptron_tagger to\n",
      "[nltk_data]     /home/jovyan/nltk_data...\n",
      "[nltk_data]   Package averaged_perceptron_tagger is already up-to-\n",
      "[nltk_data]       date!\n"
     ]
    },
    {
     "data": {
      "text/plain": [
       "True"
      ]
     },
     "execution_count": 13,
     "metadata": {},
     "output_type": "execute_result"
    }
   ],
   "source": [
    "nltk.download('averaged_perceptron_tagger')"
   ]
  },
  {
   "cell_type": "code",
   "execution_count": 14,
   "metadata": {},
   "outputs": [
    {
     "data": {
      "application/vnd.jupyter.widget-view+json": {
       "model_id": "89269f80b06a4e358716f1705b95f2c2",
       "version_major": 2,
       "version_minor": 0
      },
      "text/plain": [
       "  0%|          | 0/159292 [00:00<?, ?it/s]"
      ]
     },
     "metadata": {},
     "output_type": "display_data"
    },
    {
     "name": "stdout",
     "output_type": "stream",
     "text": [
      "CPU times: user 16min 53s, sys: 1min 40s, total: 18min 34s\n",
      "Wall time: 18min 58s\n"
     ]
    }
   ],
   "source": [
    "%%time\n",
    "\n",
    "df['text'] = df['text'].progress_apply(lemm_text) "
   ]
  },
  {
   "cell_type": "code",
   "execution_count": 15,
   "metadata": {
    "scrolled": true
   },
   "outputs": [
    {
     "data": {
      "text/html": [
       "<div>\n",
       "<style scoped>\n",
       "    .dataframe tbody tr th:only-of-type {\n",
       "        vertical-align: middle;\n",
       "    }\n",
       "\n",
       "    .dataframe tbody tr th {\n",
       "        vertical-align: top;\n",
       "    }\n",
       "\n",
       "    .dataframe thead th {\n",
       "        text-align: right;\n",
       "    }\n",
       "</style>\n",
       "<table border=\"1\" class=\"dataframe\">\n",
       "  <thead>\n",
       "    <tr style=\"text-align: right;\">\n",
       "      <th></th>\n",
       "      <th>text</th>\n",
       "      <th>toxic</th>\n",
       "    </tr>\n",
       "  </thead>\n",
       "  <tbody>\n",
       "    <tr>\n",
       "      <th>0</th>\n",
       "      <td>explanation why the edits make under my userna...</td>\n",
       "      <td>0</td>\n",
       "    </tr>\n",
       "    <tr>\n",
       "      <th>1</th>\n",
       "      <td>d aww he match this background colour i m seem...</td>\n",
       "      <td>0</td>\n",
       "    </tr>\n",
       "    <tr>\n",
       "      <th>2</th>\n",
       "      <td>hey man i m really not try to edit war it s ju...</td>\n",
       "      <td>0</td>\n",
       "    </tr>\n",
       "    <tr>\n",
       "      <th>3</th>\n",
       "      <td>more i can t make any real suggestion on impro...</td>\n",
       "      <td>0</td>\n",
       "    </tr>\n",
       "    <tr>\n",
       "      <th>4</th>\n",
       "      <td>you sir be my hero any chance you remember wha...</td>\n",
       "      <td>0</td>\n",
       "    </tr>\n",
       "  </tbody>\n",
       "</table>\n",
       "</div>"
      ],
      "text/plain": [
       "                                                text  toxic\n",
       "0  explanation why the edits make under my userna...      0\n",
       "1  d aww he match this background colour i m seem...      0\n",
       "2  hey man i m really not try to edit war it s ju...      0\n",
       "3  more i can t make any real suggestion on impro...      0\n",
       "4  you sir be my hero any chance you remember wha...      0"
      ]
     },
     "execution_count": 15,
     "metadata": {},
     "output_type": "execute_result"
    }
   ],
   "source": [
    "df.head()"
   ]
  },
  {
   "cell_type": "code",
   "execution_count": 16,
   "metadata": {},
   "outputs": [],
   "source": [
    "#разделяю выборки в соотношении 90/10:\n",
    "features = df.drop(['toxic'], axis = 1) \n",
    "target = df.toxic\n",
    "\n",
    "features_train, features_test, target_train, target_test = train_test_split(features, target,\n",
    "                                                                            test_size = 0.1, random_state = 12345)"
   ]
  },
  {
   "cell_type": "code",
   "execution_count": 18,
   "metadata": {},
   "outputs": [
    {
     "name": "stdout",
     "output_type": "stream",
     "text": [
      "(143362, 1) (15930, 1) (143362,) (15930,)\n"
     ]
    }
   ],
   "source": [
    "print(features_train.shape,\n",
    "      features_test.shape,\n",
    "      target_train.shape,\n",
    "      target_test.shape)"
   ]
  },
  {
   "cell_type": "markdown",
   "metadata": {},
   "source": [
    "Посмотрим на соотношение правильных значений к неправильным"
   ]
  },
  {
   "cell_type": "code",
   "execution_count": 19,
   "metadata": {
    "scrolled": true
   },
   "outputs": [
    {
     "name": "stdout",
     "output_type": "stream",
     "text": [
      "Доля значений 1 в тренировочной выборке: 0.1016587380198379\n"
     ]
    }
   ],
   "source": [
    "indices_1 = [i for i, x in enumerate(target_train) if x == 1]\n",
    "count_1 = len(indices_1)\n",
    "\n",
    "indices_0 = [i for i, x in enumerate(target_train) if x == 0]\n",
    "count_0 = len(indices_0)\n",
    "\n",
    "print('Доля значений 1 в тренировочной выборке:', count_1 / (count_1 + count_0))"
   ]
  },
  {
   "cell_type": "markdown",
   "metadata": {},
   "source": [
    "Видим, что правильных значений в выборке в разы меньше, чем неправильных. Проведём балансировку классов непосредственно в пайплане при обучении."
   ]
  },
  {
   "cell_type": "markdown",
   "metadata": {},
   "source": [
    "**Вывод**\n",
    "\n",
    "Были подготовлены данные:\n",
    "* проведена очистка данных\n",
    "* проведена лемматизация данных\n",
    "* были убраны стоп-слова\n",
    "* произведён ресемплинг"
   ]
  },
  {
   "cell_type": "markdown",
   "metadata": {},
   "source": [
    "## Обучение"
   ]
  },
  {
   "cell_type": "markdown",
   "metadata": {},
   "source": [
    "Будем обучать три модели - логистическую регрессию, случайный лес и дерево решений."
   ]
  },
  {
   "cell_type": "markdown",
   "metadata": {},
   "source": [
    "### Логистическая регрессия"
   ]
  },
  {
   "cell_type": "code",
   "execution_count": 20,
   "metadata": {
    "scrolled": true
   },
   "outputs": [
    {
     "name": "stdout",
     "output_type": "stream",
     "text": [
      "Fitting 3 folds for each of 16 candidates, totalling 48 fits\n",
      "[CV 1/3; 1/16] START lr__C=0.1, lr__class_weight=balanced, lr__max_iter=200, lr__random_state=12345, lr__solver=liblinear\n",
      "[CV 1/3; 1/16] END lr__C=0.1, lr__class_weight=balanced, lr__max_iter=200, lr__random_state=12345, lr__solver=liblinear; total time=  11.0s\n",
      "[CV 2/3; 1/16] START lr__C=0.1, lr__class_weight=balanced, lr__max_iter=200, lr__random_state=12345, lr__solver=liblinear\n",
      "[CV 2/3; 1/16] END lr__C=0.1, lr__class_weight=balanced, lr__max_iter=200, lr__random_state=12345, lr__solver=liblinear; total time=  11.4s\n",
      "[CV 3/3; 1/16] START lr__C=0.1, lr__class_weight=balanced, lr__max_iter=200, lr__random_state=12345, lr__solver=liblinear\n",
      "[CV 3/3; 1/16] END lr__C=0.1, lr__class_weight=balanced, lr__max_iter=200, lr__random_state=12345, lr__solver=liblinear; total time=  11.4s\n",
      "[CV 1/3; 2/16] START lr__C=0.1, lr__class_weight=balanced, lr__max_iter=200, lr__random_state=12345, lr__solver=saga\n",
      "[CV 1/3; 2/16] END lr__C=0.1, lr__class_weight=balanced, lr__max_iter=200, lr__random_state=12345, lr__solver=saga; total time=   7.9s\n",
      "[CV 2/3; 2/16] START lr__C=0.1, lr__class_weight=balanced, lr__max_iter=200, lr__random_state=12345, lr__solver=saga\n",
      "[CV 2/3; 2/16] END lr__C=0.1, lr__class_weight=balanced, lr__max_iter=200, lr__random_state=12345, lr__solver=saga; total time=   7.6s\n",
      "[CV 3/3; 2/16] START lr__C=0.1, lr__class_weight=balanced, lr__max_iter=200, lr__random_state=12345, lr__solver=saga\n",
      "[CV 3/3; 2/16] END lr__C=0.1, lr__class_weight=balanced, lr__max_iter=200, lr__random_state=12345, lr__solver=saga; total time=   8.6s\n",
      "[CV 1/3; 3/16] START lr__C=0.1, lr__class_weight=balanced, lr__max_iter=200, lr__random_state=12345, lr__solver=newton-cg\n",
      "[CV 1/3; 3/16] END lr__C=0.1, lr__class_weight=balanced, lr__max_iter=200, lr__random_state=12345, lr__solver=newton-cg; total time=  16.4s\n",
      "[CV 2/3; 3/16] START lr__C=0.1, lr__class_weight=balanced, lr__max_iter=200, lr__random_state=12345, lr__solver=newton-cg\n",
      "[CV 2/3; 3/16] END lr__C=0.1, lr__class_weight=balanced, lr__max_iter=200, lr__random_state=12345, lr__solver=newton-cg; total time=  17.3s\n",
      "[CV 3/3; 3/16] START lr__C=0.1, lr__class_weight=balanced, lr__max_iter=200, lr__random_state=12345, lr__solver=newton-cg\n",
      "[CV 3/3; 3/16] END lr__C=0.1, lr__class_weight=balanced, lr__max_iter=200, lr__random_state=12345, lr__solver=newton-cg; total time=  16.5s\n",
      "[CV 1/3; 4/16] START lr__C=0.1, lr__class_weight=balanced, lr__max_iter=200, lr__random_state=12345, lr__solver=lbfgs\n",
      "[CV 1/3; 4/16] END lr__C=0.1, lr__class_weight=balanced, lr__max_iter=200, lr__random_state=12345, lr__solver=lbfgs; total time=  15.1s\n",
      "[CV 2/3; 4/16] START lr__C=0.1, lr__class_weight=balanced, lr__max_iter=200, lr__random_state=12345, lr__solver=lbfgs\n",
      "[CV 2/3; 4/16] END lr__C=0.1, lr__class_weight=balanced, lr__max_iter=200, lr__random_state=12345, lr__solver=lbfgs; total time=  15.2s\n",
      "[CV 3/3; 4/16] START lr__C=0.1, lr__class_weight=balanced, lr__max_iter=200, lr__random_state=12345, lr__solver=lbfgs\n",
      "[CV 3/3; 4/16] END lr__C=0.1, lr__class_weight=balanced, lr__max_iter=200, lr__random_state=12345, lr__solver=lbfgs; total time=  15.7s\n",
      "[CV 1/3; 5/16] START lr__C=1, lr__class_weight=balanced, lr__max_iter=200, lr__random_state=12345, lr__solver=liblinear\n",
      "[CV 1/3; 5/16] END lr__C=1, lr__class_weight=balanced, lr__max_iter=200, lr__random_state=12345, lr__solver=liblinear; total time=  16.2s\n",
      "[CV 2/3; 5/16] START lr__C=1, lr__class_weight=balanced, lr__max_iter=200, lr__random_state=12345, lr__solver=liblinear\n",
      "[CV 2/3; 5/16] END lr__C=1, lr__class_weight=balanced, lr__max_iter=200, lr__random_state=12345, lr__solver=liblinear; total time=  18.8s\n",
      "[CV 3/3; 5/16] START lr__C=1, lr__class_weight=balanced, lr__max_iter=200, lr__random_state=12345, lr__solver=liblinear\n",
      "[CV 3/3; 5/16] END lr__C=1, lr__class_weight=balanced, lr__max_iter=200, lr__random_state=12345, lr__solver=liblinear; total time=  17.3s\n",
      "[CV 1/3; 6/16] START lr__C=1, lr__class_weight=balanced, lr__max_iter=200, lr__random_state=12345, lr__solver=saga\n",
      "[CV 1/3; 6/16] END lr__C=1, lr__class_weight=balanced, lr__max_iter=200, lr__random_state=12345, lr__solver=saga; total time=  24.2s\n",
      "[CV 2/3; 6/16] START lr__C=1, lr__class_weight=balanced, lr__max_iter=200, lr__random_state=12345, lr__solver=saga\n",
      "[CV 2/3; 6/16] END lr__C=1, lr__class_weight=balanced, lr__max_iter=200, lr__random_state=12345, lr__solver=saga; total time=  22.9s\n",
      "[CV 3/3; 6/16] START lr__C=1, lr__class_weight=balanced, lr__max_iter=200, lr__random_state=12345, lr__solver=saga\n",
      "[CV 3/3; 6/16] END lr__C=1, lr__class_weight=balanced, lr__max_iter=200, lr__random_state=12345, lr__solver=saga; total time=  21.8s\n",
      "[CV 1/3; 7/16] START lr__C=1, lr__class_weight=balanced, lr__max_iter=200, lr__random_state=12345, lr__solver=newton-cg\n",
      "[CV 1/3; 7/16] END lr__C=1, lr__class_weight=balanced, lr__max_iter=200, lr__random_state=12345, lr__solver=newton-cg; total time=  22.2s\n",
      "[CV 2/3; 7/16] START lr__C=1, lr__class_weight=balanced, lr__max_iter=200, lr__random_state=12345, lr__solver=newton-cg\n",
      "[CV 2/3; 7/16] END lr__C=1, lr__class_weight=balanced, lr__max_iter=200, lr__random_state=12345, lr__solver=newton-cg; total time=  22.3s\n",
      "[CV 3/3; 7/16] START lr__C=1, lr__class_weight=balanced, lr__max_iter=200, lr__random_state=12345, lr__solver=newton-cg\n",
      "[CV 3/3; 7/16] END lr__C=1, lr__class_weight=balanced, lr__max_iter=200, lr__random_state=12345, lr__solver=newton-cg; total time=  24.4s\n",
      "[CV 1/3; 8/16] START lr__C=1, lr__class_weight=balanced, lr__max_iter=200, lr__random_state=12345, lr__solver=lbfgs\n",
      "[CV 1/3; 8/16] END lr__C=1, lr__class_weight=balanced, lr__max_iter=200, lr__random_state=12345, lr__solver=lbfgs; total time=  33.9s\n",
      "[CV 2/3; 8/16] START lr__C=1, lr__class_weight=balanced, lr__max_iter=200, lr__random_state=12345, lr__solver=lbfgs\n",
      "[CV 2/3; 8/16] END lr__C=1, lr__class_weight=balanced, lr__max_iter=200, lr__random_state=12345, lr__solver=lbfgs; total time=  26.5s\n",
      "[CV 3/3; 8/16] START lr__C=1, lr__class_weight=balanced, lr__max_iter=200, lr__random_state=12345, lr__solver=lbfgs\n",
      "[CV 3/3; 8/16] END lr__C=1, lr__class_weight=balanced, lr__max_iter=200, lr__random_state=12345, lr__solver=lbfgs; total time=  30.2s\n",
      "[CV 1/3; 9/16] START lr__C=5, lr__class_weight=balanced, lr__max_iter=200, lr__random_state=12345, lr__solver=liblinear\n",
      "[CV 1/3; 9/16] END lr__C=5, lr__class_weight=balanced, lr__max_iter=200, lr__random_state=12345, lr__solver=liblinear; total time=  22.8s\n",
      "[CV 2/3; 9/16] START lr__C=5, lr__class_weight=balanced, lr__max_iter=200, lr__random_state=12345, lr__solver=liblinear\n",
      "[CV 2/3; 9/16] END lr__C=5, lr__class_weight=balanced, lr__max_iter=200, lr__random_state=12345, lr__solver=liblinear; total time=  24.2s\n",
      "[CV 3/3; 9/16] START lr__C=5, lr__class_weight=balanced, lr__max_iter=200, lr__random_state=12345, lr__solver=liblinear\n",
      "[CV 3/3; 9/16] END lr__C=5, lr__class_weight=balanced, lr__max_iter=200, lr__random_state=12345, lr__solver=liblinear; total time=  22.3s\n",
      "[CV 1/3; 10/16] START lr__C=5, lr__class_weight=balanced, lr__max_iter=200, lr__random_state=12345, lr__solver=saga\n",
      "[CV 1/3; 10/16] END lr__C=5, lr__class_weight=balanced, lr__max_iter=200, lr__random_state=12345, lr__solver=saga; total time=  21.6s\n",
      "[CV 2/3; 10/16] START lr__C=5, lr__class_weight=balanced, lr__max_iter=200, lr__random_state=12345, lr__solver=saga\n",
      "[CV 2/3; 10/16] END lr__C=5, lr__class_weight=balanced, lr__max_iter=200, lr__random_state=12345, lr__solver=saga; total time=  23.3s\n",
      "[CV 3/3; 10/16] START lr__C=5, lr__class_weight=balanced, lr__max_iter=200, lr__random_state=12345, lr__solver=saga\n",
      "[CV 3/3; 10/16] END lr__C=5, lr__class_weight=balanced, lr__max_iter=200, lr__random_state=12345, lr__solver=saga; total time=  22.4s\n",
      "[CV 1/3; 11/16] START lr__C=5, lr__class_weight=balanced, lr__max_iter=200, lr__random_state=12345, lr__solver=newton-cg\n",
      "[CV 1/3; 11/16] END lr__C=5, lr__class_weight=balanced, lr__max_iter=200, lr__random_state=12345, lr__solver=newton-cg; total time=  29.9s\n",
      "[CV 2/3; 11/16] START lr__C=5, lr__class_weight=balanced, lr__max_iter=200, lr__random_state=12345, lr__solver=newton-cg\n",
      "[CV 2/3; 11/16] END lr__C=5, lr__class_weight=balanced, lr__max_iter=200, lr__random_state=12345, lr__solver=newton-cg; total time=  27.4s\n",
      "[CV 3/3; 11/16] START lr__C=5, lr__class_weight=balanced, lr__max_iter=200, lr__random_state=12345, lr__solver=newton-cg\n",
      "[CV 3/3; 11/16] END lr__C=5, lr__class_weight=balanced, lr__max_iter=200, lr__random_state=12345, lr__solver=newton-cg; total time=  26.7s\n",
      "[CV 1/3; 12/16] START lr__C=5, lr__class_weight=balanced, lr__max_iter=200, lr__random_state=12345, lr__solver=lbfgs\n",
      "[CV 1/3; 12/16] END lr__C=5, lr__class_weight=balanced, lr__max_iter=200, lr__random_state=12345, lr__solver=lbfgs; total time=  48.7s\n",
      "[CV 2/3; 12/16] START lr__C=5, lr__class_weight=balanced, lr__max_iter=200, lr__random_state=12345, lr__solver=lbfgs\n",
      "[CV 2/3; 12/16] END lr__C=5, lr__class_weight=balanced, lr__max_iter=200, lr__random_state=12345, lr__solver=lbfgs; total time=  52.7s\n",
      "[CV 3/3; 12/16] START lr__C=5, lr__class_weight=balanced, lr__max_iter=200, lr__random_state=12345, lr__solver=lbfgs\n",
      "[CV 3/3; 12/16] END lr__C=5, lr__class_weight=balanced, lr__max_iter=200, lr__random_state=12345, lr__solver=lbfgs; total time=  50.6s\n",
      "[CV 1/3; 13/16] START lr__C=10, lr__class_weight=balanced, lr__max_iter=200, lr__random_state=12345, lr__solver=liblinear\n",
      "[CV 1/3; 13/16] END lr__C=10, lr__class_weight=balanced, lr__max_iter=200, lr__random_state=12345, lr__solver=liblinear; total time=  27.7s\n",
      "[CV 2/3; 13/16] START lr__C=10, lr__class_weight=balanced, lr__max_iter=200, lr__random_state=12345, lr__solver=liblinear\n",
      "[CV 2/3; 13/16] END lr__C=10, lr__class_weight=balanced, lr__max_iter=200, lr__random_state=12345, lr__solver=liblinear; total time=  25.7s\n",
      "[CV 3/3; 13/16] START lr__C=10, lr__class_weight=balanced, lr__max_iter=200, lr__random_state=12345, lr__solver=liblinear\n",
      "[CV 3/3; 13/16] END lr__C=10, lr__class_weight=balanced, lr__max_iter=200, lr__random_state=12345, lr__solver=liblinear; total time=  25.9s\n",
      "[CV 1/3; 14/16] START lr__C=10, lr__class_weight=balanced, lr__max_iter=200, lr__random_state=12345, lr__solver=saga\n",
      "[CV 1/3; 14/16] END lr__C=10, lr__class_weight=balanced, lr__max_iter=200, lr__random_state=12345, lr__solver=saga; total time=  22.6s\n",
      "[CV 2/3; 14/16] START lr__C=10, lr__class_weight=balanced, lr__max_iter=200, lr__random_state=12345, lr__solver=saga\n",
      "[CV 2/3; 14/16] END lr__C=10, lr__class_weight=balanced, lr__max_iter=200, lr__random_state=12345, lr__solver=saga; total time=  22.3s\n",
      "[CV 3/3; 14/16] START lr__C=10, lr__class_weight=balanced, lr__max_iter=200, lr__random_state=12345, lr__solver=saga\n",
      "[CV 3/3; 14/16] END lr__C=10, lr__class_weight=balanced, lr__max_iter=200, lr__random_state=12345, lr__solver=saga; total time=  21.8s\n",
      "[CV 1/3; 15/16] START lr__C=10, lr__class_weight=balanced, lr__max_iter=200, lr__random_state=12345, lr__solver=newton-cg\n",
      "[CV 1/3; 15/16] END lr__C=10, lr__class_weight=balanced, lr__max_iter=200, lr__random_state=12345, lr__solver=newton-cg; total time=  32.5s\n",
      "[CV 2/3; 15/16] START lr__C=10, lr__class_weight=balanced, lr__max_iter=200, lr__random_state=12345, lr__solver=newton-cg\n",
      "[CV 2/3; 15/16] END lr__C=10, lr__class_weight=balanced, lr__max_iter=200, lr__random_state=12345, lr__solver=newton-cg; total time=  32.6s\n",
      "[CV 3/3; 15/16] START lr__C=10, lr__class_weight=balanced, lr__max_iter=200, lr__random_state=12345, lr__solver=newton-cg\n",
      "[CV 3/3; 15/16] END lr__C=10, lr__class_weight=balanced, lr__max_iter=200, lr__random_state=12345, lr__solver=newton-cg; total time=  30.5s\n",
      "[CV 1/3; 16/16] START lr__C=10, lr__class_weight=balanced, lr__max_iter=200, lr__random_state=12345, lr__solver=lbfgs\n",
      "[CV 1/3; 16/16] END lr__C=10, lr__class_weight=balanced, lr__max_iter=200, lr__random_state=12345, lr__solver=lbfgs; total time= 1.1min\n",
      "[CV 2/3; 16/16] START lr__C=10, lr__class_weight=balanced, lr__max_iter=200, lr__random_state=12345, lr__solver=lbfgs\n",
      "[CV 2/3; 16/16] END lr__C=10, lr__class_weight=balanced, lr__max_iter=200, lr__random_state=12345, lr__solver=lbfgs; total time= 1.4min\n",
      "[CV 3/3; 16/16] START lr__C=10, lr__class_weight=balanced, lr__max_iter=200, lr__random_state=12345, lr__solver=lbfgs\n",
      "[CV 3/3; 16/16] END lr__C=10, lr__class_weight=balanced, lr__max_iter=200, lr__random_state=12345, lr__solver=lbfgs; total time= 1.5min\n",
      "Показатель F1 для логистической регрессии равен 0.76 при параметрах {'lr__C': 10, 'lr__class_weight': 'balanced', 'lr__max_iter': 200, 'lr__random_state': 12345, 'lr__solver': 'newton-cg'}\n",
      "CPU times: user 12min 3s, sys: 10min 11s, total: 22min 15s\n",
      "Wall time: 22min 16s\n"
     ]
    }
   ],
   "source": [
    "%%time\n",
    "\n",
    "pipeline_lr = Pipeline([(\"vect\", TfidfVectorizer(stop_words = 'english', sublinear_tf = True)), \n",
    "                        (\"lr\", LogisticRegression())])\n",
    "    \n",
    "parameters_lr = {'lr__solver': ('liblinear', 'saga', 'newton-cg', 'lbfgs'),\n",
    "                 'lr__C': (.1, 1, 5, 10),\n",
    "                 'lr__random_state': ([12345]),\n",
    "                 'lr__max_iter': ([200]),\n",
    "                 'lr__class_weight': (['balanced'])} \n",
    "                                                  \n",
    "                                                  \n",
    "gscv_lr = GridSearchCV(pipeline_lr, parameters_lr, scoring = 'f1', cv = 3, n_jobs = -1, verbose = 10)\n",
    "\n",
    "gscv_lr.fit(features_train['text'], target_train)\n",
    "\n",
    "mts = gscv_lr.cv_results_['mean_test_score']\n",
    "lr_train_f1 = max(mts)\n",
    "\n",
    "print('Показатель F1 для логистической регрессии равен', round(lr_train_f1, 2), 'при параметрах', gscv_lr.best_params_)"
   ]
  },
  {
   "cell_type": "markdown",
   "metadata": {},
   "source": [
    "### Случайный лес"
   ]
  },
  {
   "cell_type": "code",
   "execution_count": 21,
   "metadata": {
    "scrolled": true
   },
   "outputs": [
    {
     "name": "stdout",
     "output_type": "stream",
     "text": [
      "Fitting 3 folds for each of 90 candidates, totalling 270 fits\n",
      "[CV 1/3; 1/90] START rfc__class_weight=balanced, rfc__criterion=entropy, rfc__max_depth=1, rfc__n_estimators=10, rfc__random_state=12345\n",
      "[CV 1/3; 1/90] END rfc__class_weight=balanced, rfc__criterion=entropy, rfc__max_depth=1, rfc__n_estimators=10, rfc__random_state=12345; total time=   6.0s\n",
      "[CV 2/3; 1/90] START rfc__class_weight=balanced, rfc__criterion=entropy, rfc__max_depth=1, rfc__n_estimators=10, rfc__random_state=12345\n",
      "[CV 2/3; 1/90] END rfc__class_weight=balanced, rfc__criterion=entropy, rfc__max_depth=1, rfc__n_estimators=10, rfc__random_state=12345; total time=   5.8s\n",
      "[CV 3/3; 1/90] START rfc__class_weight=balanced, rfc__criterion=entropy, rfc__max_depth=1, rfc__n_estimators=10, rfc__random_state=12345\n",
      "[CV 3/3; 1/90] END rfc__class_weight=balanced, rfc__criterion=entropy, rfc__max_depth=1, rfc__n_estimators=10, rfc__random_state=12345; total time=   5.5s\n",
      "[CV 1/3; 2/90] START rfc__class_weight=balanced, rfc__criterion=entropy, rfc__max_depth=1, rfc__n_estimators=11, rfc__random_state=12345\n",
      "[CV 1/3; 2/90] END rfc__class_weight=balanced, rfc__criterion=entropy, rfc__max_depth=1, rfc__n_estimators=11, rfc__random_state=12345; total time=   5.8s\n",
      "[CV 2/3; 2/90] START rfc__class_weight=balanced, rfc__criterion=entropy, rfc__max_depth=1, rfc__n_estimators=11, rfc__random_state=12345\n",
      "[CV 2/3; 2/90] END rfc__class_weight=balanced, rfc__criterion=entropy, rfc__max_depth=1, rfc__n_estimators=11, rfc__random_state=12345; total time=   6.2s\n",
      "[CV 3/3; 2/90] START rfc__class_weight=balanced, rfc__criterion=entropy, rfc__max_depth=1, rfc__n_estimators=11, rfc__random_state=12345\n",
      "[CV 3/3; 2/90] END rfc__class_weight=balanced, rfc__criterion=entropy, rfc__max_depth=1, rfc__n_estimators=11, rfc__random_state=12345; total time=   6.3s\n",
      "[CV 1/3; 3/90] START rfc__class_weight=balanced, rfc__criterion=entropy, rfc__max_depth=1, rfc__n_estimators=12, rfc__random_state=12345\n",
      "[CV 1/3; 3/90] END rfc__class_weight=balanced, rfc__criterion=entropy, rfc__max_depth=1, rfc__n_estimators=12, rfc__random_state=12345; total time=   6.0s\n",
      "[CV 2/3; 3/90] START rfc__class_weight=balanced, rfc__criterion=entropy, rfc__max_depth=1, rfc__n_estimators=12, rfc__random_state=12345\n",
      "[CV 2/3; 3/90] END rfc__class_weight=balanced, rfc__criterion=entropy, rfc__max_depth=1, rfc__n_estimators=12, rfc__random_state=12345; total time=   6.3s\n",
      "[CV 3/3; 3/90] START rfc__class_weight=balanced, rfc__criterion=entropy, rfc__max_depth=1, rfc__n_estimators=12, rfc__random_state=12345\n",
      "[CV 3/3; 3/90] END rfc__class_weight=balanced, rfc__criterion=entropy, rfc__max_depth=1, rfc__n_estimators=12, rfc__random_state=12345; total time=   6.5s\n",
      "[CV 1/3; 4/90] START rfc__class_weight=balanced, rfc__criterion=entropy, rfc__max_depth=1, rfc__n_estimators=13, rfc__random_state=12345\n",
      "[CV 1/3; 4/90] END rfc__class_weight=balanced, rfc__criterion=entropy, rfc__max_depth=1, rfc__n_estimators=13, rfc__random_state=12345; total time=   6.1s\n",
      "[CV 2/3; 4/90] START rfc__class_weight=balanced, rfc__criterion=entropy, rfc__max_depth=1, rfc__n_estimators=13, rfc__random_state=12345\n",
      "[CV 2/3; 4/90] END rfc__class_weight=balanced, rfc__criterion=entropy, rfc__max_depth=1, rfc__n_estimators=13, rfc__random_state=12345; total time=   6.6s\n",
      "[CV 3/3; 4/90] START rfc__class_weight=balanced, rfc__criterion=entropy, rfc__max_depth=1, rfc__n_estimators=13, rfc__random_state=12345\n",
      "[CV 3/3; 4/90] END rfc__class_weight=balanced, rfc__criterion=entropy, rfc__max_depth=1, rfc__n_estimators=13, rfc__random_state=12345; total time=   6.1s\n",
      "[CV 1/3; 5/90] START rfc__class_weight=balanced, rfc__criterion=entropy, rfc__max_depth=1, rfc__n_estimators=14, rfc__random_state=12345\n",
      "[CV 1/3; 5/90] END rfc__class_weight=balanced, rfc__criterion=entropy, rfc__max_depth=1, rfc__n_estimators=14, rfc__random_state=12345; total time=   5.9s\n",
      "[CV 2/3; 5/90] START rfc__class_weight=balanced, rfc__criterion=entropy, rfc__max_depth=1, rfc__n_estimators=14, rfc__random_state=12345\n",
      "[CV 2/3; 5/90] END rfc__class_weight=balanced, rfc__criterion=entropy, rfc__max_depth=1, rfc__n_estimators=14, rfc__random_state=12345; total time=   6.4s\n",
      "[CV 3/3; 5/90] START rfc__class_weight=balanced, rfc__criterion=entropy, rfc__max_depth=1, rfc__n_estimators=14, rfc__random_state=12345\n",
      "[CV 3/3; 5/90] END rfc__class_weight=balanced, rfc__criterion=entropy, rfc__max_depth=1, rfc__n_estimators=14, rfc__random_state=12345; total time=   6.1s\n",
      "[CV 1/3; 6/90] START rfc__class_weight=balanced, rfc__criterion=entropy, rfc__max_depth=1, rfc__n_estimators=15, rfc__random_state=12345\n",
      "[CV 1/3; 6/90] END rfc__class_weight=balanced, rfc__criterion=entropy, rfc__max_depth=1, rfc__n_estimators=15, rfc__random_state=12345; total time=   6.3s\n",
      "[CV 2/3; 6/90] START rfc__class_weight=balanced, rfc__criterion=entropy, rfc__max_depth=1, rfc__n_estimators=15, rfc__random_state=12345\n",
      "[CV 2/3; 6/90] END rfc__class_weight=balanced, rfc__criterion=entropy, rfc__max_depth=1, rfc__n_estimators=15, rfc__random_state=12345; total time=   6.2s\n",
      "[CV 3/3; 6/90] START rfc__class_weight=balanced, rfc__criterion=entropy, rfc__max_depth=1, rfc__n_estimators=15, rfc__random_state=12345\n",
      "[CV 3/3; 6/90] END rfc__class_weight=balanced, rfc__criterion=entropy, rfc__max_depth=1, rfc__n_estimators=15, rfc__random_state=12345; total time=   6.1s\n",
      "[CV 1/3; 7/90] START rfc__class_weight=balanced, rfc__criterion=entropy, rfc__max_depth=1, rfc__n_estimators=16, rfc__random_state=12345\n",
      "[CV 1/3; 7/90] END rfc__class_weight=balanced, rfc__criterion=entropy, rfc__max_depth=1, rfc__n_estimators=16, rfc__random_state=12345; total time=   6.1s\n",
      "[CV 2/3; 7/90] START rfc__class_weight=balanced, rfc__criterion=entropy, rfc__max_depth=1, rfc__n_estimators=16, rfc__random_state=12345\n",
      "[CV 2/3; 7/90] END rfc__class_weight=balanced, rfc__criterion=entropy, rfc__max_depth=1, rfc__n_estimators=16, rfc__random_state=12345; total time=   6.0s\n",
      "[CV 3/3; 7/90] START rfc__class_weight=balanced, rfc__criterion=entropy, rfc__max_depth=1, rfc__n_estimators=16, rfc__random_state=12345\n",
      "[CV 3/3; 7/90] END rfc__class_weight=balanced, rfc__criterion=entropy, rfc__max_depth=1, rfc__n_estimators=16, rfc__random_state=12345; total time=   6.1s\n",
      "[CV 1/3; 8/90] START rfc__class_weight=balanced, rfc__criterion=entropy, rfc__max_depth=1, rfc__n_estimators=17, rfc__random_state=12345\n",
      "[CV 1/3; 8/90] END rfc__class_weight=balanced, rfc__criterion=entropy, rfc__max_depth=1, rfc__n_estimators=17, rfc__random_state=12345; total time=   6.1s\n",
      "[CV 2/3; 8/90] START rfc__class_weight=balanced, rfc__criterion=entropy, rfc__max_depth=1, rfc__n_estimators=17, rfc__random_state=12345\n",
      "[CV 2/3; 8/90] END rfc__class_weight=balanced, rfc__criterion=entropy, rfc__max_depth=1, rfc__n_estimators=17, rfc__random_state=12345; total time=   5.9s\n",
      "[CV 3/3; 8/90] START rfc__class_weight=balanced, rfc__criterion=entropy, rfc__max_depth=1, rfc__n_estimators=17, rfc__random_state=12345\n",
      "[CV 3/3; 8/90] END rfc__class_weight=balanced, rfc__criterion=entropy, rfc__max_depth=1, rfc__n_estimators=17, rfc__random_state=12345; total time=   6.1s\n",
      "[CV 1/3; 9/90] START rfc__class_weight=balanced, rfc__criterion=entropy, rfc__max_depth=1, rfc__n_estimators=18, rfc__random_state=12345\n",
      "[CV 1/3; 9/90] END rfc__class_weight=balanced, rfc__criterion=entropy, rfc__max_depth=1, rfc__n_estimators=18, rfc__random_state=12345; total time=   6.0s\n",
      "[CV 2/3; 9/90] START rfc__class_weight=balanced, rfc__criterion=entropy, rfc__max_depth=1, rfc__n_estimators=18, rfc__random_state=12345\n",
      "[CV 2/3; 9/90] END rfc__class_weight=balanced, rfc__criterion=entropy, rfc__max_depth=1, rfc__n_estimators=18, rfc__random_state=12345; total time=   6.1s\n",
      "[CV 3/3; 9/90] START rfc__class_weight=balanced, rfc__criterion=entropy, rfc__max_depth=1, rfc__n_estimators=18, rfc__random_state=12345\n",
      "[CV 3/3; 9/90] END rfc__class_weight=balanced, rfc__criterion=entropy, rfc__max_depth=1, rfc__n_estimators=18, rfc__random_state=12345; total time=   6.2s\n",
      "[CV 1/3; 10/90] START rfc__class_weight=balanced, rfc__criterion=entropy, rfc__max_depth=1, rfc__n_estimators=19, rfc__random_state=12345\n",
      "[CV 1/3; 10/90] END rfc__class_weight=balanced, rfc__criterion=entropy, rfc__max_depth=1, rfc__n_estimators=19, rfc__random_state=12345; total time=   6.0s\n",
      "[CV 2/3; 10/90] START rfc__class_weight=balanced, rfc__criterion=entropy, rfc__max_depth=1, rfc__n_estimators=19, rfc__random_state=12345\n",
      "[CV 2/3; 10/90] END rfc__class_weight=balanced, rfc__criterion=entropy, rfc__max_depth=1, rfc__n_estimators=19, rfc__random_state=12345; total time=   6.1s\n",
      "[CV 3/3; 10/90] START rfc__class_weight=balanced, rfc__criterion=entropy, rfc__max_depth=1, rfc__n_estimators=19, rfc__random_state=12345\n",
      "[CV 3/3; 10/90] END rfc__class_weight=balanced, rfc__criterion=entropy, rfc__max_depth=1, rfc__n_estimators=19, rfc__random_state=12345; total time=   6.0s\n",
      "[CV 1/3; 11/90] START rfc__class_weight=balanced, rfc__criterion=entropy, rfc__max_depth=2, rfc__n_estimators=10, rfc__random_state=12345\n",
      "[CV 1/3; 11/90] END rfc__class_weight=balanced, rfc__criterion=entropy, rfc__max_depth=2, rfc__n_estimators=10, rfc__random_state=12345; total time=   5.7s\n",
      "[CV 2/3; 11/90] START rfc__class_weight=balanced, rfc__criterion=entropy, rfc__max_depth=2, rfc__n_estimators=10, rfc__random_state=12345\n",
      "[CV 2/3; 11/90] END rfc__class_weight=balanced, rfc__criterion=entropy, rfc__max_depth=2, rfc__n_estimators=10, rfc__random_state=12345; total time=   5.8s\n",
      "[CV 3/3; 11/90] START rfc__class_weight=balanced, rfc__criterion=entropy, rfc__max_depth=2, rfc__n_estimators=10, rfc__random_state=12345\n",
      "[CV 3/3; 11/90] END rfc__class_weight=balanced, rfc__criterion=entropy, rfc__max_depth=2, rfc__n_estimators=10, rfc__random_state=12345; total time=   5.8s\n",
      "[CV 1/3; 12/90] START rfc__class_weight=balanced, rfc__criterion=entropy, rfc__max_depth=2, rfc__n_estimators=11, rfc__random_state=12345\n",
      "[CV 1/3; 12/90] END rfc__class_weight=balanced, rfc__criterion=entropy, rfc__max_depth=2, rfc__n_estimators=11, rfc__random_state=12345; total time=   6.3s\n",
      "[CV 2/3; 12/90] START rfc__class_weight=balanced, rfc__criterion=entropy, rfc__max_depth=2, rfc__n_estimators=11, rfc__random_state=12345\n",
      "[CV 2/3; 12/90] END rfc__class_weight=balanced, rfc__criterion=entropy, rfc__max_depth=2, rfc__n_estimators=11, rfc__random_state=12345; total time=   5.9s\n",
      "[CV 3/3; 12/90] START rfc__class_weight=balanced, rfc__criterion=entropy, rfc__max_depth=2, rfc__n_estimators=11, rfc__random_state=12345\n",
      "[CV 3/3; 12/90] END rfc__class_weight=balanced, rfc__criterion=entropy, rfc__max_depth=2, rfc__n_estimators=11, rfc__random_state=12345; total time=   6.1s\n",
      "[CV 1/3; 13/90] START rfc__class_weight=balanced, rfc__criterion=entropy, rfc__max_depth=2, rfc__n_estimators=12, rfc__random_state=12345\n",
      "[CV 1/3; 13/90] END rfc__class_weight=balanced, rfc__criterion=entropy, rfc__max_depth=2, rfc__n_estimators=12, rfc__random_state=12345; total time=   5.8s\n",
      "[CV 2/3; 13/90] START rfc__class_weight=balanced, rfc__criterion=entropy, rfc__max_depth=2, rfc__n_estimators=12, rfc__random_state=12345\n",
      "[CV 2/3; 13/90] END rfc__class_weight=balanced, rfc__criterion=entropy, rfc__max_depth=2, rfc__n_estimators=12, rfc__random_state=12345; total time=   5.8s\n",
      "[CV 3/3; 13/90] START rfc__class_weight=balanced, rfc__criterion=entropy, rfc__max_depth=2, rfc__n_estimators=12, rfc__random_state=12345\n",
      "[CV 3/3; 13/90] END rfc__class_weight=balanced, rfc__criterion=entropy, rfc__max_depth=2, rfc__n_estimators=12, rfc__random_state=12345; total time=   6.0s\n",
      "[CV 1/3; 14/90] START rfc__class_weight=balanced, rfc__criterion=entropy, rfc__max_depth=2, rfc__n_estimators=13, rfc__random_state=12345\n",
      "[CV 1/3; 14/90] END rfc__class_weight=balanced, rfc__criterion=entropy, rfc__max_depth=2, rfc__n_estimators=13, rfc__random_state=12345; total time=   5.8s\n",
      "[CV 2/3; 14/90] START rfc__class_weight=balanced, rfc__criterion=entropy, rfc__max_depth=2, rfc__n_estimators=13, rfc__random_state=12345\n",
      "[CV 2/3; 14/90] END rfc__class_weight=balanced, rfc__criterion=entropy, rfc__max_depth=2, rfc__n_estimators=13, rfc__random_state=12345; total time=   6.3s\n",
      "[CV 3/3; 14/90] START rfc__class_weight=balanced, rfc__criterion=entropy, rfc__max_depth=2, rfc__n_estimators=13, rfc__random_state=12345\n",
      "[CV 3/3; 14/90] END rfc__class_weight=balanced, rfc__criterion=entropy, rfc__max_depth=2, rfc__n_estimators=13, rfc__random_state=12345; total time=   6.0s\n",
      "[CV 1/3; 15/90] START rfc__class_weight=balanced, rfc__criterion=entropy, rfc__max_depth=2, rfc__n_estimators=14, rfc__random_state=12345\n",
      "[CV 1/3; 15/90] END rfc__class_weight=balanced, rfc__criterion=entropy, rfc__max_depth=2, rfc__n_estimators=14, rfc__random_state=12345; total time=   6.1s\n",
      "[CV 2/3; 15/90] START rfc__class_weight=balanced, rfc__criterion=entropy, rfc__max_depth=2, rfc__n_estimators=14, rfc__random_state=12345\n",
      "[CV 2/3; 15/90] END rfc__class_weight=balanced, rfc__criterion=entropy, rfc__max_depth=2, rfc__n_estimators=14, rfc__random_state=12345; total time=   6.4s\n",
      "[CV 3/3; 15/90] START rfc__class_weight=balanced, rfc__criterion=entropy, rfc__max_depth=2, rfc__n_estimators=14, rfc__random_state=12345\n",
      "[CV 3/3; 15/90] END rfc__class_weight=balanced, rfc__criterion=entropy, rfc__max_depth=2, rfc__n_estimators=14, rfc__random_state=12345; total time=   6.1s\n",
      "[CV 1/3; 16/90] START rfc__class_weight=balanced, rfc__criterion=entropy, rfc__max_depth=2, rfc__n_estimators=15, rfc__random_state=12345\n",
      "[CV 1/3; 16/90] END rfc__class_weight=balanced, rfc__criterion=entropy, rfc__max_depth=2, rfc__n_estimators=15, rfc__random_state=12345; total time=   6.2s\n",
      "[CV 2/3; 16/90] START rfc__class_weight=balanced, rfc__criterion=entropy, rfc__max_depth=2, rfc__n_estimators=15, rfc__random_state=12345\n",
      "[CV 2/3; 16/90] END rfc__class_weight=balanced, rfc__criterion=entropy, rfc__max_depth=2, rfc__n_estimators=15, rfc__random_state=12345; total time=   5.9s\n",
      "[CV 3/3; 16/90] START rfc__class_weight=balanced, rfc__criterion=entropy, rfc__max_depth=2, rfc__n_estimators=15, rfc__random_state=12345\n",
      "[CV 3/3; 16/90] END rfc__class_weight=balanced, rfc__criterion=entropy, rfc__max_depth=2, rfc__n_estimators=15, rfc__random_state=12345; total time=   5.9s\n",
      "[CV 1/3; 17/90] START rfc__class_weight=balanced, rfc__criterion=entropy, rfc__max_depth=2, rfc__n_estimators=16, rfc__random_state=12345\n",
      "[CV 1/3; 17/90] END rfc__class_weight=balanced, rfc__criterion=entropy, rfc__max_depth=2, rfc__n_estimators=16, rfc__random_state=12345; total time=   5.8s\n",
      "[CV 2/3; 17/90] START rfc__class_weight=balanced, rfc__criterion=entropy, rfc__max_depth=2, rfc__n_estimators=16, rfc__random_state=12345\n",
      "[CV 2/3; 17/90] END rfc__class_weight=balanced, rfc__criterion=entropy, rfc__max_depth=2, rfc__n_estimators=16, rfc__random_state=12345; total time=   5.9s\n",
      "[CV 3/3; 17/90] START rfc__class_weight=balanced, rfc__criterion=entropy, rfc__max_depth=2, rfc__n_estimators=16, rfc__random_state=12345\n",
      "[CV 3/3; 17/90] END rfc__class_weight=balanced, rfc__criterion=entropy, rfc__max_depth=2, rfc__n_estimators=16, rfc__random_state=12345; total time=   5.8s\n",
      "[CV 1/3; 18/90] START rfc__class_weight=balanced, rfc__criterion=entropy, rfc__max_depth=2, rfc__n_estimators=17, rfc__random_state=12345\n",
      "[CV 1/3; 18/90] END rfc__class_weight=balanced, rfc__criterion=entropy, rfc__max_depth=2, rfc__n_estimators=17, rfc__random_state=12345; total time=   6.0s\n",
      "[CV 2/3; 18/90] START rfc__class_weight=balanced, rfc__criterion=entropy, rfc__max_depth=2, rfc__n_estimators=17, rfc__random_state=12345\n",
      "[CV 2/3; 18/90] END rfc__class_weight=balanced, rfc__criterion=entropy, rfc__max_depth=2, rfc__n_estimators=17, rfc__random_state=12345; total time=   5.8s\n",
      "[CV 3/3; 18/90] START rfc__class_weight=balanced, rfc__criterion=entropy, rfc__max_depth=2, rfc__n_estimators=17, rfc__random_state=12345\n",
      "[CV 3/3; 18/90] END rfc__class_weight=balanced, rfc__criterion=entropy, rfc__max_depth=2, rfc__n_estimators=17, rfc__random_state=12345; total time=   6.5s\n",
      "[CV 1/3; 19/90] START rfc__class_weight=balanced, rfc__criterion=entropy, rfc__max_depth=2, rfc__n_estimators=18, rfc__random_state=12345\n",
      "[CV 1/3; 19/90] END rfc__class_weight=balanced, rfc__criterion=entropy, rfc__max_depth=2, rfc__n_estimators=18, rfc__random_state=12345; total time=   6.1s\n",
      "[CV 2/3; 19/90] START rfc__class_weight=balanced, rfc__criterion=entropy, rfc__max_depth=2, rfc__n_estimators=18, rfc__random_state=12345\n",
      "[CV 2/3; 19/90] END rfc__class_weight=balanced, rfc__criterion=entropy, rfc__max_depth=2, rfc__n_estimators=18, rfc__random_state=12345; total time=   6.2s\n",
      "[CV 3/3; 19/90] START rfc__class_weight=balanced, rfc__criterion=entropy, rfc__max_depth=2, rfc__n_estimators=18, rfc__random_state=12345\n",
      "[CV 3/3; 19/90] END rfc__class_weight=balanced, rfc__criterion=entropy, rfc__max_depth=2, rfc__n_estimators=18, rfc__random_state=12345; total time=   6.0s\n",
      "[CV 1/3; 20/90] START rfc__class_weight=balanced, rfc__criterion=entropy, rfc__max_depth=2, rfc__n_estimators=19, rfc__random_state=12345\n",
      "[CV 1/3; 20/90] END rfc__class_weight=balanced, rfc__criterion=entropy, rfc__max_depth=2, rfc__n_estimators=19, rfc__random_state=12345; total time=   5.9s\n",
      "[CV 2/3; 20/90] START rfc__class_weight=balanced, rfc__criterion=entropy, rfc__max_depth=2, rfc__n_estimators=19, rfc__random_state=12345\n",
      "[CV 2/3; 20/90] END rfc__class_weight=balanced, rfc__criterion=entropy, rfc__max_depth=2, rfc__n_estimators=19, rfc__random_state=12345; total time=   5.8s\n",
      "[CV 3/3; 20/90] START rfc__class_weight=balanced, rfc__criterion=entropy, rfc__max_depth=2, rfc__n_estimators=19, rfc__random_state=12345\n",
      "[CV 3/3; 20/90] END rfc__class_weight=balanced, rfc__criterion=entropy, rfc__max_depth=2, rfc__n_estimators=19, rfc__random_state=12345; total time=   6.0s\n",
      "[CV 1/3; 21/90] START rfc__class_weight=balanced, rfc__criterion=entropy, rfc__max_depth=3, rfc__n_estimators=10, rfc__random_state=12345\n",
      "[CV 1/3; 21/90] END rfc__class_weight=balanced, rfc__criterion=entropy, rfc__max_depth=3, rfc__n_estimators=10, rfc__random_state=12345; total time=   5.7s\n",
      "[CV 2/3; 21/90] START rfc__class_weight=balanced, rfc__criterion=entropy, rfc__max_depth=3, rfc__n_estimators=10, rfc__random_state=12345\n",
      "[CV 2/3; 21/90] END rfc__class_weight=balanced, rfc__criterion=entropy, rfc__max_depth=3, rfc__n_estimators=10, rfc__random_state=12345; total time=   5.8s\n",
      "[CV 3/3; 21/90] START rfc__class_weight=balanced, rfc__criterion=entropy, rfc__max_depth=3, rfc__n_estimators=10, rfc__random_state=12345\n",
      "[CV 3/3; 21/90] END rfc__class_weight=balanced, rfc__criterion=entropy, rfc__max_depth=3, rfc__n_estimators=10, rfc__random_state=12345; total time=   5.7s\n",
      "[CV 1/3; 22/90] START rfc__class_weight=balanced, rfc__criterion=entropy, rfc__max_depth=3, rfc__n_estimators=11, rfc__random_state=12345\n",
      "[CV 1/3; 22/90] END rfc__class_weight=balanced, rfc__criterion=entropy, rfc__max_depth=3, rfc__n_estimators=11, rfc__random_state=12345; total time=   6.1s\n",
      "[CV 2/3; 22/90] START rfc__class_weight=balanced, rfc__criterion=entropy, rfc__max_depth=3, rfc__n_estimators=11, rfc__random_state=12345\n",
      "[CV 2/3; 22/90] END rfc__class_weight=balanced, rfc__criterion=entropy, rfc__max_depth=3, rfc__n_estimators=11, rfc__random_state=12345; total time=   5.9s\n",
      "[CV 3/3; 22/90] START rfc__class_weight=balanced, rfc__criterion=entropy, rfc__max_depth=3, rfc__n_estimators=11, rfc__random_state=12345\n",
      "[CV 3/3; 22/90] END rfc__class_weight=balanced, rfc__criterion=entropy, rfc__max_depth=3, rfc__n_estimators=11, rfc__random_state=12345; total time=   6.1s\n",
      "[CV 1/3; 23/90] START rfc__class_weight=balanced, rfc__criterion=entropy, rfc__max_depth=3, rfc__n_estimators=12, rfc__random_state=12345\n",
      "[CV 1/3; 23/90] END rfc__class_weight=balanced, rfc__criterion=entropy, rfc__max_depth=3, rfc__n_estimators=12, rfc__random_state=12345; total time=   5.9s\n",
      "[CV 2/3; 23/90] START rfc__class_weight=balanced, rfc__criterion=entropy, rfc__max_depth=3, rfc__n_estimators=12, rfc__random_state=12345\n",
      "[CV 2/3; 23/90] END rfc__class_weight=balanced, rfc__criterion=entropy, rfc__max_depth=3, rfc__n_estimators=12, rfc__random_state=12345; total time=   5.9s\n",
      "[CV 3/3; 23/90] START rfc__class_weight=balanced, rfc__criterion=entropy, rfc__max_depth=3, rfc__n_estimators=12, rfc__random_state=12345\n",
      "[CV 3/3; 23/90] END rfc__class_weight=balanced, rfc__criterion=entropy, rfc__max_depth=3, rfc__n_estimators=12, rfc__random_state=12345; total time=   6.0s\n",
      "[CV 1/3; 24/90] START rfc__class_weight=balanced, rfc__criterion=entropy, rfc__max_depth=3, rfc__n_estimators=13, rfc__random_state=12345\n",
      "[CV 1/3; 24/90] END rfc__class_weight=balanced, rfc__criterion=entropy, rfc__max_depth=3, rfc__n_estimators=13, rfc__random_state=12345; total time=   5.8s\n",
      "[CV 2/3; 24/90] START rfc__class_weight=balanced, rfc__criterion=entropy, rfc__max_depth=3, rfc__n_estimators=13, rfc__random_state=12345\n",
      "[CV 2/3; 24/90] END rfc__class_weight=balanced, rfc__criterion=entropy, rfc__max_depth=3, rfc__n_estimators=13, rfc__random_state=12345; total time=   6.0s\n",
      "[CV 3/3; 24/90] START rfc__class_weight=balanced, rfc__criterion=entropy, rfc__max_depth=3, rfc__n_estimators=13, rfc__random_state=12345\n",
      "[CV 3/3; 24/90] END rfc__class_weight=balanced, rfc__criterion=entropy, rfc__max_depth=3, rfc__n_estimators=13, rfc__random_state=12345; total time=   6.0s\n",
      "[CV 1/3; 25/90] START rfc__class_weight=balanced, rfc__criterion=entropy, rfc__max_depth=3, rfc__n_estimators=14, rfc__random_state=12345\n",
      "[CV 1/3; 25/90] END rfc__class_weight=balanced, rfc__criterion=entropy, rfc__max_depth=3, rfc__n_estimators=14, rfc__random_state=12345; total time=   5.8s\n",
      "[CV 2/3; 25/90] START rfc__class_weight=balanced, rfc__criterion=entropy, rfc__max_depth=3, rfc__n_estimators=14, rfc__random_state=12345\n",
      "[CV 2/3; 25/90] END rfc__class_weight=balanced, rfc__criterion=entropy, rfc__max_depth=3, rfc__n_estimators=14, rfc__random_state=12345; total time=   6.2s\n",
      "[CV 3/3; 25/90] START rfc__class_weight=balanced, rfc__criterion=entropy, rfc__max_depth=3, rfc__n_estimators=14, rfc__random_state=12345\n",
      "[CV 3/3; 25/90] END rfc__class_weight=balanced, rfc__criterion=entropy, rfc__max_depth=3, rfc__n_estimators=14, rfc__random_state=12345; total time=   6.1s\n",
      "[CV 1/3; 26/90] START rfc__class_weight=balanced, rfc__criterion=entropy, rfc__max_depth=3, rfc__n_estimators=15, rfc__random_state=12345\n",
      "[CV 1/3; 26/90] END rfc__class_weight=balanced, rfc__criterion=entropy, rfc__max_depth=3, rfc__n_estimators=15, rfc__random_state=12345; total time=   6.0s\n",
      "[CV 2/3; 26/90] START rfc__class_weight=balanced, rfc__criterion=entropy, rfc__max_depth=3, rfc__n_estimators=15, rfc__random_state=12345\n",
      "[CV 2/3; 26/90] END rfc__class_weight=balanced, rfc__criterion=entropy, rfc__max_depth=3, rfc__n_estimators=15, rfc__random_state=12345; total time=   5.9s\n",
      "[CV 3/3; 26/90] START rfc__class_weight=balanced, rfc__criterion=entropy, rfc__max_depth=3, rfc__n_estimators=15, rfc__random_state=12345\n",
      "[CV 3/3; 26/90] END rfc__class_weight=balanced, rfc__criterion=entropy, rfc__max_depth=3, rfc__n_estimators=15, rfc__random_state=12345; total time=   5.9s\n",
      "[CV 1/3; 27/90] START rfc__class_weight=balanced, rfc__criterion=entropy, rfc__max_depth=3, rfc__n_estimators=16, rfc__random_state=12345\n",
      "[CV 1/3; 27/90] END rfc__class_weight=balanced, rfc__criterion=entropy, rfc__max_depth=3, rfc__n_estimators=16, rfc__random_state=12345; total time=   5.9s\n",
      "[CV 2/3; 27/90] START rfc__class_weight=balanced, rfc__criterion=entropy, rfc__max_depth=3, rfc__n_estimators=16, rfc__random_state=12345\n",
      "[CV 2/3; 27/90] END rfc__class_weight=balanced, rfc__criterion=entropy, rfc__max_depth=3, rfc__n_estimators=16, rfc__random_state=12345; total time=   5.9s\n",
      "[CV 3/3; 27/90] START rfc__class_weight=balanced, rfc__criterion=entropy, rfc__max_depth=3, rfc__n_estimators=16, rfc__random_state=12345\n",
      "[CV 3/3; 27/90] END rfc__class_weight=balanced, rfc__criterion=entropy, rfc__max_depth=3, rfc__n_estimators=16, rfc__random_state=12345; total time=   6.1s\n",
      "[CV 1/3; 28/90] START rfc__class_weight=balanced, rfc__criterion=entropy, rfc__max_depth=3, rfc__n_estimators=17, rfc__random_state=12345\n",
      "[CV 1/3; 28/90] END rfc__class_weight=balanced, rfc__criterion=entropy, rfc__max_depth=3, rfc__n_estimators=17, rfc__random_state=12345; total time=   5.9s\n",
      "[CV 2/3; 28/90] START rfc__class_weight=balanced, rfc__criterion=entropy, rfc__max_depth=3, rfc__n_estimators=17, rfc__random_state=12345\n",
      "[CV 2/3; 28/90] END rfc__class_weight=balanced, rfc__criterion=entropy, rfc__max_depth=3, rfc__n_estimators=17, rfc__random_state=12345; total time=   6.0s\n",
      "[CV 3/3; 28/90] START rfc__class_weight=balanced, rfc__criterion=entropy, rfc__max_depth=3, rfc__n_estimators=17, rfc__random_state=12345\n",
      "[CV 3/3; 28/90] END rfc__class_weight=balanced, rfc__criterion=entropy, rfc__max_depth=3, rfc__n_estimators=17, rfc__random_state=12345; total time=   6.3s\n",
      "[CV 1/3; 29/90] START rfc__class_weight=balanced, rfc__criterion=entropy, rfc__max_depth=3, rfc__n_estimators=18, rfc__random_state=12345\n",
      "[CV 1/3; 29/90] END rfc__class_weight=balanced, rfc__criterion=entropy, rfc__max_depth=3, rfc__n_estimators=18, rfc__random_state=12345; total time=   6.1s\n",
      "[CV 2/3; 29/90] START rfc__class_weight=balanced, rfc__criterion=entropy, rfc__max_depth=3, rfc__n_estimators=18, rfc__random_state=12345\n",
      "[CV 2/3; 29/90] END rfc__class_weight=balanced, rfc__criterion=entropy, rfc__max_depth=3, rfc__n_estimators=18, rfc__random_state=12345; total time=   6.5s\n",
      "[CV 3/3; 29/90] START rfc__class_weight=balanced, rfc__criterion=entropy, rfc__max_depth=3, rfc__n_estimators=18, rfc__random_state=12345\n",
      "[CV 3/3; 29/90] END rfc__class_weight=balanced, rfc__criterion=entropy, rfc__max_depth=3, rfc__n_estimators=18, rfc__random_state=12345; total time=   6.0s\n",
      "[CV 1/3; 30/90] START rfc__class_weight=balanced, rfc__criterion=entropy, rfc__max_depth=3, rfc__n_estimators=19, rfc__random_state=12345\n",
      "[CV 1/3; 30/90] END rfc__class_weight=balanced, rfc__criterion=entropy, rfc__max_depth=3, rfc__n_estimators=19, rfc__random_state=12345; total time=   5.9s\n",
      "[CV 2/3; 30/90] START rfc__class_weight=balanced, rfc__criterion=entropy, rfc__max_depth=3, rfc__n_estimators=19, rfc__random_state=12345\n",
      "[CV 2/3; 30/90] END rfc__class_weight=balanced, rfc__criterion=entropy, rfc__max_depth=3, rfc__n_estimators=19, rfc__random_state=12345; total time=   5.8s\n",
      "[CV 3/3; 30/90] START rfc__class_weight=balanced, rfc__criterion=entropy, rfc__max_depth=3, rfc__n_estimators=19, rfc__random_state=12345\n",
      "[CV 3/3; 30/90] END rfc__class_weight=balanced, rfc__criterion=entropy, rfc__max_depth=3, rfc__n_estimators=19, rfc__random_state=12345; total time=   6.0s\n",
      "[CV 1/3; 31/90] START rfc__class_weight=balanced, rfc__criterion=entropy, rfc__max_depth=4, rfc__n_estimators=10, rfc__random_state=12345\n",
      "[CV 1/3; 31/90] END rfc__class_weight=balanced, rfc__criterion=entropy, rfc__max_depth=4, rfc__n_estimators=10, rfc__random_state=12345; total time=   5.8s\n",
      "[CV 2/3; 31/90] START rfc__class_weight=balanced, rfc__criterion=entropy, rfc__max_depth=4, rfc__n_estimators=10, rfc__random_state=12345\n",
      "[CV 2/3; 31/90] END rfc__class_weight=balanced, rfc__criterion=entropy, rfc__max_depth=4, rfc__n_estimators=10, rfc__random_state=12345; total time=   5.8s\n",
      "[CV 3/3; 31/90] START rfc__class_weight=balanced, rfc__criterion=entropy, rfc__max_depth=4, rfc__n_estimators=10, rfc__random_state=12345\n",
      "[CV 3/3; 31/90] END rfc__class_weight=balanced, rfc__criterion=entropy, rfc__max_depth=4, rfc__n_estimators=10, rfc__random_state=12345; total time=   5.7s\n",
      "[CV 1/3; 32/90] START rfc__class_weight=balanced, rfc__criterion=entropy, rfc__max_depth=4, rfc__n_estimators=11, rfc__random_state=12345\n",
      "[CV 1/3; 32/90] END rfc__class_weight=balanced, rfc__criterion=entropy, rfc__max_depth=4, rfc__n_estimators=11, rfc__random_state=12345; total time=   6.1s\n",
      "[CV 2/3; 32/90] START rfc__class_weight=balanced, rfc__criterion=entropy, rfc__max_depth=4, rfc__n_estimators=11, rfc__random_state=12345\n",
      "[CV 2/3; 32/90] END rfc__class_weight=balanced, rfc__criterion=entropy, rfc__max_depth=4, rfc__n_estimators=11, rfc__random_state=12345; total time=   6.0s\n",
      "[CV 3/3; 32/90] START rfc__class_weight=balanced, rfc__criterion=entropy, rfc__max_depth=4, rfc__n_estimators=11, rfc__random_state=12345\n",
      "[CV 3/3; 32/90] END rfc__class_weight=balanced, rfc__criterion=entropy, rfc__max_depth=4, rfc__n_estimators=11, rfc__random_state=12345; total time=   6.1s\n",
      "[CV 1/3; 33/90] START rfc__class_weight=balanced, rfc__criterion=entropy, rfc__max_depth=4, rfc__n_estimators=12, rfc__random_state=12345\n",
      "[CV 1/3; 33/90] END rfc__class_weight=balanced, rfc__criterion=entropy, rfc__max_depth=4, rfc__n_estimators=12, rfc__random_state=12345; total time=   5.8s\n",
      "[CV 2/3; 33/90] START rfc__class_weight=balanced, rfc__criterion=entropy, rfc__max_depth=4, rfc__n_estimators=12, rfc__random_state=12345\n",
      "[CV 2/3; 33/90] END rfc__class_weight=balanced, rfc__criterion=entropy, rfc__max_depth=4, rfc__n_estimators=12, rfc__random_state=12345; total time=   5.8s\n",
      "[CV 3/3; 33/90] START rfc__class_weight=balanced, rfc__criterion=entropy, rfc__max_depth=4, rfc__n_estimators=12, rfc__random_state=12345\n",
      "[CV 3/3; 33/90] END rfc__class_weight=balanced, rfc__criterion=entropy, rfc__max_depth=4, rfc__n_estimators=12, rfc__random_state=12345; total time=   5.8s\n",
      "[CV 1/3; 34/90] START rfc__class_weight=balanced, rfc__criterion=entropy, rfc__max_depth=4, rfc__n_estimators=13, rfc__random_state=12345\n",
      "[CV 1/3; 34/90] END rfc__class_weight=balanced, rfc__criterion=entropy, rfc__max_depth=4, rfc__n_estimators=13, rfc__random_state=12345; total time=   5.9s\n",
      "[CV 2/3; 34/90] START rfc__class_weight=balanced, rfc__criterion=entropy, rfc__max_depth=4, rfc__n_estimators=13, rfc__random_state=12345\n",
      "[CV 2/3; 34/90] END rfc__class_weight=balanced, rfc__criterion=entropy, rfc__max_depth=4, rfc__n_estimators=13, rfc__random_state=12345; total time=   5.8s\n",
      "[CV 3/3; 34/90] START rfc__class_weight=balanced, rfc__criterion=entropy, rfc__max_depth=4, rfc__n_estimators=13, rfc__random_state=12345\n",
      "[CV 3/3; 34/90] END rfc__class_weight=balanced, rfc__criterion=entropy, rfc__max_depth=4, rfc__n_estimators=13, rfc__random_state=12345; total time=   6.0s\n",
      "[CV 1/3; 35/90] START rfc__class_weight=balanced, rfc__criterion=entropy, rfc__max_depth=4, rfc__n_estimators=14, rfc__random_state=12345\n",
      "[CV 1/3; 35/90] END rfc__class_weight=balanced, rfc__criterion=entropy, rfc__max_depth=4, rfc__n_estimators=14, rfc__random_state=12345; total time=   5.9s\n",
      "[CV 2/3; 35/90] START rfc__class_weight=balanced, rfc__criterion=entropy, rfc__max_depth=4, rfc__n_estimators=14, rfc__random_state=12345\n",
      "[CV 2/3; 35/90] END rfc__class_weight=balanced, rfc__criterion=entropy, rfc__max_depth=4, rfc__n_estimators=14, rfc__random_state=12345; total time=   6.1s\n",
      "[CV 3/3; 35/90] START rfc__class_weight=balanced, rfc__criterion=entropy, rfc__max_depth=4, rfc__n_estimators=14, rfc__random_state=12345\n",
      "[CV 3/3; 35/90] END rfc__class_weight=balanced, rfc__criterion=entropy, rfc__max_depth=4, rfc__n_estimators=14, rfc__random_state=12345; total time=   5.9s\n",
      "[CV 1/3; 36/90] START rfc__class_weight=balanced, rfc__criterion=entropy, rfc__max_depth=4, rfc__n_estimators=15, rfc__random_state=12345\n",
      "[CV 1/3; 36/90] END rfc__class_weight=balanced, rfc__criterion=entropy, rfc__max_depth=4, rfc__n_estimators=15, rfc__random_state=12345; total time=   6.2s\n",
      "[CV 2/3; 36/90] START rfc__class_weight=balanced, rfc__criterion=entropy, rfc__max_depth=4, rfc__n_estimators=15, rfc__random_state=12345\n",
      "[CV 2/3; 36/90] END rfc__class_weight=balanced, rfc__criterion=entropy, rfc__max_depth=4, rfc__n_estimators=15, rfc__random_state=12345; total time=   6.0s\n",
      "[CV 3/3; 36/90] START rfc__class_weight=balanced, rfc__criterion=entropy, rfc__max_depth=4, rfc__n_estimators=15, rfc__random_state=12345\n",
      "[CV 3/3; 36/90] END rfc__class_weight=balanced, rfc__criterion=entropy, rfc__max_depth=4, rfc__n_estimators=15, rfc__random_state=12345; total time=   5.9s\n",
      "[CV 1/3; 37/90] START rfc__class_weight=balanced, rfc__criterion=entropy, rfc__max_depth=4, rfc__n_estimators=16, rfc__random_state=12345\n",
      "[CV 1/3; 37/90] END rfc__class_weight=balanced, rfc__criterion=entropy, rfc__max_depth=4, rfc__n_estimators=16, rfc__random_state=12345; total time=   5.9s\n",
      "[CV 2/3; 37/90] START rfc__class_weight=balanced, rfc__criterion=entropy, rfc__max_depth=4, rfc__n_estimators=16, rfc__random_state=12345\n",
      "[CV 2/3; 37/90] END rfc__class_weight=balanced, rfc__criterion=entropy, rfc__max_depth=4, rfc__n_estimators=16, rfc__random_state=12345; total time=   5.9s\n",
      "[CV 3/3; 37/90] START rfc__class_weight=balanced, rfc__criterion=entropy, rfc__max_depth=4, rfc__n_estimators=16, rfc__random_state=12345\n",
      "[CV 3/3; 37/90] END rfc__class_weight=balanced, rfc__criterion=entropy, rfc__max_depth=4, rfc__n_estimators=16, rfc__random_state=12345; total time=   6.2s\n",
      "[CV 1/3; 38/90] START rfc__class_weight=balanced, rfc__criterion=entropy, rfc__max_depth=4, rfc__n_estimators=17, rfc__random_state=12345\n",
      "[CV 1/3; 38/90] END rfc__class_weight=balanced, rfc__criterion=entropy, rfc__max_depth=4, rfc__n_estimators=17, rfc__random_state=12345; total time=   6.0s\n",
      "[CV 2/3; 38/90] START rfc__class_weight=balanced, rfc__criterion=entropy, rfc__max_depth=4, rfc__n_estimators=17, rfc__random_state=12345\n",
      "[CV 2/3; 38/90] END rfc__class_weight=balanced, rfc__criterion=entropy, rfc__max_depth=4, rfc__n_estimators=17, rfc__random_state=12345; total time=   5.9s\n",
      "[CV 3/3; 38/90] START rfc__class_weight=balanced, rfc__criterion=entropy, rfc__max_depth=4, rfc__n_estimators=17, rfc__random_state=12345\n",
      "[CV 3/3; 38/90] END rfc__class_weight=balanced, rfc__criterion=entropy, rfc__max_depth=4, rfc__n_estimators=17, rfc__random_state=12345; total time=   6.2s\n",
      "[CV 1/3; 39/90] START rfc__class_weight=balanced, rfc__criterion=entropy, rfc__max_depth=4, rfc__n_estimators=18, rfc__random_state=12345\n",
      "[CV 1/3; 39/90] END rfc__class_weight=balanced, rfc__criterion=entropy, rfc__max_depth=4, rfc__n_estimators=18, rfc__random_state=12345; total time=   6.0s\n",
      "[CV 2/3; 39/90] START rfc__class_weight=balanced, rfc__criterion=entropy, rfc__max_depth=4, rfc__n_estimators=18, rfc__random_state=12345\n",
      "[CV 2/3; 39/90] END rfc__class_weight=balanced, rfc__criterion=entropy, rfc__max_depth=4, rfc__n_estimators=18, rfc__random_state=12345; total time=   6.2s\n",
      "[CV 3/3; 39/90] START rfc__class_weight=balanced, rfc__criterion=entropy, rfc__max_depth=4, rfc__n_estimators=18, rfc__random_state=12345\n",
      "[CV 3/3; 39/90] END rfc__class_weight=balanced, rfc__criterion=entropy, rfc__max_depth=4, rfc__n_estimators=18, rfc__random_state=12345; total time=   6.0s\n",
      "[CV 1/3; 40/90] START rfc__class_weight=balanced, rfc__criterion=entropy, rfc__max_depth=4, rfc__n_estimators=19, rfc__random_state=12345\n",
      "[CV 1/3; 40/90] END rfc__class_weight=balanced, rfc__criterion=entropy, rfc__max_depth=4, rfc__n_estimators=19, rfc__random_state=12345; total time=   5.9s\n",
      "[CV 2/3; 40/90] START rfc__class_weight=balanced, rfc__criterion=entropy, rfc__max_depth=4, rfc__n_estimators=19, rfc__random_state=12345\n",
      "[CV 2/3; 40/90] END rfc__class_weight=balanced, rfc__criterion=entropy, rfc__max_depth=4, rfc__n_estimators=19, rfc__random_state=12345; total time=   6.1s\n",
      "[CV 3/3; 40/90] START rfc__class_weight=balanced, rfc__criterion=entropy, rfc__max_depth=4, rfc__n_estimators=19, rfc__random_state=12345\n",
      "[CV 3/3; 40/90] END rfc__class_weight=balanced, rfc__criterion=entropy, rfc__max_depth=4, rfc__n_estimators=19, rfc__random_state=12345; total time=   6.0s\n",
      "[CV 1/3; 41/90] START rfc__class_weight=balanced, rfc__criterion=entropy, rfc__max_depth=5, rfc__n_estimators=10, rfc__random_state=12345\n",
      "[CV 1/3; 41/90] END rfc__class_weight=balanced, rfc__criterion=entropy, rfc__max_depth=5, rfc__n_estimators=10, rfc__random_state=12345; total time=   5.9s\n",
      "[CV 2/3; 41/90] START rfc__class_weight=balanced, rfc__criterion=entropy, rfc__max_depth=5, rfc__n_estimators=10, rfc__random_state=12345\n",
      "[CV 2/3; 41/90] END rfc__class_weight=balanced, rfc__criterion=entropy, rfc__max_depth=5, rfc__n_estimators=10, rfc__random_state=12345; total time=   5.9s\n",
      "[CV 3/3; 41/90] START rfc__class_weight=balanced, rfc__criterion=entropy, rfc__max_depth=5, rfc__n_estimators=10, rfc__random_state=12345\n",
      "[CV 3/3; 41/90] END rfc__class_weight=balanced, rfc__criterion=entropy, rfc__max_depth=5, rfc__n_estimators=10, rfc__random_state=12345; total time=   5.9s\n",
      "[CV 1/3; 42/90] START rfc__class_weight=balanced, rfc__criterion=entropy, rfc__max_depth=5, rfc__n_estimators=11, rfc__random_state=12345\n",
      "[CV 1/3; 42/90] END rfc__class_weight=balanced, rfc__criterion=entropy, rfc__max_depth=5, rfc__n_estimators=11, rfc__random_state=12345; total time=   6.1s\n",
      "[CV 2/3; 42/90] START rfc__class_weight=balanced, rfc__criterion=entropy, rfc__max_depth=5, rfc__n_estimators=11, rfc__random_state=12345\n",
      "[CV 2/3; 42/90] END rfc__class_weight=balanced, rfc__criterion=entropy, rfc__max_depth=5, rfc__n_estimators=11, rfc__random_state=12345; total time=   6.1s\n",
      "[CV 3/3; 42/90] START rfc__class_weight=balanced, rfc__criterion=entropy, rfc__max_depth=5, rfc__n_estimators=11, rfc__random_state=12345\n",
      "[CV 3/3; 42/90] END rfc__class_weight=balanced, rfc__criterion=entropy, rfc__max_depth=5, rfc__n_estimators=11, rfc__random_state=12345; total time=   6.3s\n",
      "[CV 1/3; 43/90] START rfc__class_weight=balanced, rfc__criterion=entropy, rfc__max_depth=5, rfc__n_estimators=12, rfc__random_state=12345\n",
      "[CV 1/3; 43/90] END rfc__class_weight=balanced, rfc__criterion=entropy, rfc__max_depth=5, rfc__n_estimators=12, rfc__random_state=12345; total time=   6.2s\n",
      "[CV 2/3; 43/90] START rfc__class_weight=balanced, rfc__criterion=entropy, rfc__max_depth=5, rfc__n_estimators=12, rfc__random_state=12345\n",
      "[CV 2/3; 43/90] END rfc__class_weight=balanced, rfc__criterion=entropy, rfc__max_depth=5, rfc__n_estimators=12, rfc__random_state=12345; total time=   5.8s\n",
      "[CV 3/3; 43/90] START rfc__class_weight=balanced, rfc__criterion=entropy, rfc__max_depth=5, rfc__n_estimators=12, rfc__random_state=12345\n",
      "[CV 3/3; 43/90] END rfc__class_weight=balanced, rfc__criterion=entropy, rfc__max_depth=5, rfc__n_estimators=12, rfc__random_state=12345; total time=   6.2s\n",
      "[CV 1/3; 44/90] START rfc__class_weight=balanced, rfc__criterion=entropy, rfc__max_depth=5, rfc__n_estimators=13, rfc__random_state=12345\n",
      "[CV 1/3; 44/90] END rfc__class_weight=balanced, rfc__criterion=entropy, rfc__max_depth=5, rfc__n_estimators=13, rfc__random_state=12345; total time=   5.9s\n",
      "[CV 2/3; 44/90] START rfc__class_weight=balanced, rfc__criterion=entropy, rfc__max_depth=5, rfc__n_estimators=13, rfc__random_state=12345\n",
      "[CV 2/3; 44/90] END rfc__class_weight=balanced, rfc__criterion=entropy, rfc__max_depth=5, rfc__n_estimators=13, rfc__random_state=12345; total time=   5.9s\n",
      "[CV 3/3; 44/90] START rfc__class_weight=balanced, rfc__criterion=entropy, rfc__max_depth=5, rfc__n_estimators=13, rfc__random_state=12345\n",
      "[CV 3/3; 44/90] END rfc__class_weight=balanced, rfc__criterion=entropy, rfc__max_depth=5, rfc__n_estimators=13, rfc__random_state=12345; total time=   6.2s\n",
      "[CV 1/3; 45/90] START rfc__class_weight=balanced, rfc__criterion=entropy, rfc__max_depth=5, rfc__n_estimators=14, rfc__random_state=12345\n",
      "[CV 1/3; 45/90] END rfc__class_weight=balanced, rfc__criterion=entropy, rfc__max_depth=5, rfc__n_estimators=14, rfc__random_state=12345; total time=   5.9s\n",
      "[CV 2/3; 45/90] START rfc__class_weight=balanced, rfc__criterion=entropy, rfc__max_depth=5, rfc__n_estimators=14, rfc__random_state=12345\n",
      "[CV 2/3; 45/90] END rfc__class_weight=balanced, rfc__criterion=entropy, rfc__max_depth=5, rfc__n_estimators=14, rfc__random_state=12345; total time=   6.5s\n",
      "[CV 3/3; 45/90] START rfc__class_weight=balanced, rfc__criterion=entropy, rfc__max_depth=5, rfc__n_estimators=14, rfc__random_state=12345\n",
      "[CV 3/3; 45/90] END rfc__class_weight=balanced, rfc__criterion=entropy, rfc__max_depth=5, rfc__n_estimators=14, rfc__random_state=12345; total time=   6.2s\n",
      "[CV 1/3; 46/90] START rfc__class_weight=balanced, rfc__criterion=entropy, rfc__max_depth=5, rfc__n_estimators=15, rfc__random_state=12345\n",
      "[CV 1/3; 46/90] END rfc__class_weight=balanced, rfc__criterion=entropy, rfc__max_depth=5, rfc__n_estimators=15, rfc__random_state=12345; total time=   6.7s\n",
      "[CV 2/3; 46/90] START rfc__class_weight=balanced, rfc__criterion=entropy, rfc__max_depth=5, rfc__n_estimators=15, rfc__random_state=12345\n",
      "[CV 2/3; 46/90] END rfc__class_weight=balanced, rfc__criterion=entropy, rfc__max_depth=5, rfc__n_estimators=15, rfc__random_state=12345; total time=   6.0s\n",
      "[CV 3/3; 46/90] START rfc__class_weight=balanced, rfc__criterion=entropy, rfc__max_depth=5, rfc__n_estimators=15, rfc__random_state=12345\n",
      "[CV 3/3; 46/90] END rfc__class_weight=balanced, rfc__criterion=entropy, rfc__max_depth=5, rfc__n_estimators=15, rfc__random_state=12345; total time=   6.0s\n",
      "[CV 1/3; 47/90] START rfc__class_weight=balanced, rfc__criterion=entropy, rfc__max_depth=5, rfc__n_estimators=16, rfc__random_state=12345\n",
      "[CV 1/3; 47/90] END rfc__class_weight=balanced, rfc__criterion=entropy, rfc__max_depth=5, rfc__n_estimators=16, rfc__random_state=12345; total time=   5.9s\n",
      "[CV 2/3; 47/90] START rfc__class_weight=balanced, rfc__criterion=entropy, rfc__max_depth=5, rfc__n_estimators=16, rfc__random_state=12345\n",
      "[CV 2/3; 47/90] END rfc__class_weight=balanced, rfc__criterion=entropy, rfc__max_depth=5, rfc__n_estimators=16, rfc__random_state=12345; total time=   5.9s\n",
      "[CV 3/3; 47/90] START rfc__class_weight=balanced, rfc__criterion=entropy, rfc__max_depth=5, rfc__n_estimators=16, rfc__random_state=12345\n",
      "[CV 3/3; 47/90] END rfc__class_weight=balanced, rfc__criterion=entropy, rfc__max_depth=5, rfc__n_estimators=16, rfc__random_state=12345; total time=   5.9s\n",
      "[CV 1/3; 48/90] START rfc__class_weight=balanced, rfc__criterion=entropy, rfc__max_depth=5, rfc__n_estimators=17, rfc__random_state=12345\n",
      "[CV 1/3; 48/90] END rfc__class_weight=balanced, rfc__criterion=entropy, rfc__max_depth=5, rfc__n_estimators=17, rfc__random_state=12345; total time=   6.0s\n",
      "[CV 2/3; 48/90] START rfc__class_weight=balanced, rfc__criterion=entropy, rfc__max_depth=5, rfc__n_estimators=17, rfc__random_state=12345\n",
      "[CV 2/3; 48/90] END rfc__class_weight=balanced, rfc__criterion=entropy, rfc__max_depth=5, rfc__n_estimators=17, rfc__random_state=12345; total time=   6.1s\n",
      "[CV 3/3; 48/90] START rfc__class_weight=balanced, rfc__criterion=entropy, rfc__max_depth=5, rfc__n_estimators=17, rfc__random_state=12345\n",
      "[CV 3/3; 48/90] END rfc__class_weight=balanced, rfc__criterion=entropy, rfc__max_depth=5, rfc__n_estimators=17, rfc__random_state=12345; total time=   6.3s\n",
      "[CV 1/3; 49/90] START rfc__class_weight=balanced, rfc__criterion=entropy, rfc__max_depth=5, rfc__n_estimators=18, rfc__random_state=12345\n",
      "[CV 1/3; 49/90] END rfc__class_weight=balanced, rfc__criterion=entropy, rfc__max_depth=5, rfc__n_estimators=18, rfc__random_state=12345; total time=   6.6s\n",
      "[CV 2/3; 49/90] START rfc__class_weight=balanced, rfc__criterion=entropy, rfc__max_depth=5, rfc__n_estimators=18, rfc__random_state=12345\n",
      "[CV 2/3; 49/90] END rfc__class_weight=balanced, rfc__criterion=entropy, rfc__max_depth=5, rfc__n_estimators=18, rfc__random_state=12345; total time=   6.3s\n",
      "[CV 3/3; 49/90] START rfc__class_weight=balanced, rfc__criterion=entropy, rfc__max_depth=5, rfc__n_estimators=18, rfc__random_state=12345\n",
      "[CV 3/3; 49/90] END rfc__class_weight=balanced, rfc__criterion=entropy, rfc__max_depth=5, rfc__n_estimators=18, rfc__random_state=12345; total time=   6.0s\n",
      "[CV 1/3; 50/90] START rfc__class_weight=balanced, rfc__criterion=entropy, rfc__max_depth=5, rfc__n_estimators=19, rfc__random_state=12345\n",
      "[CV 1/3; 50/90] END rfc__class_weight=balanced, rfc__criterion=entropy, rfc__max_depth=5, rfc__n_estimators=19, rfc__random_state=12345; total time=   6.3s\n",
      "[CV 2/3; 50/90] START rfc__class_weight=balanced, rfc__criterion=entropy, rfc__max_depth=5, rfc__n_estimators=19, rfc__random_state=12345\n",
      "[CV 2/3; 50/90] END rfc__class_weight=balanced, rfc__criterion=entropy, rfc__max_depth=5, rfc__n_estimators=19, rfc__random_state=12345; total time=   6.0s\n",
      "[CV 3/3; 50/90] START rfc__class_weight=balanced, rfc__criterion=entropy, rfc__max_depth=5, rfc__n_estimators=19, rfc__random_state=12345\n",
      "[CV 3/3; 50/90] END rfc__class_weight=balanced, rfc__criterion=entropy, rfc__max_depth=5, rfc__n_estimators=19, rfc__random_state=12345; total time=   6.1s\n",
      "[CV 1/3; 51/90] START rfc__class_weight=balanced, rfc__criterion=entropy, rfc__max_depth=6, rfc__n_estimators=10, rfc__random_state=12345\n",
      "[CV 1/3; 51/90] END rfc__class_weight=balanced, rfc__criterion=entropy, rfc__max_depth=6, rfc__n_estimators=10, rfc__random_state=12345; total time=   5.9s\n",
      "[CV 2/3; 51/90] START rfc__class_weight=balanced, rfc__criterion=entropy, rfc__max_depth=6, rfc__n_estimators=10, rfc__random_state=12345\n",
      "[CV 2/3; 51/90] END rfc__class_weight=balanced, rfc__criterion=entropy, rfc__max_depth=6, rfc__n_estimators=10, rfc__random_state=12345; total time=   5.6s\n",
      "[CV 3/3; 51/90] START rfc__class_weight=balanced, rfc__criterion=entropy, rfc__max_depth=6, rfc__n_estimators=10, rfc__random_state=12345\n",
      "[CV 3/3; 51/90] END rfc__class_weight=balanced, rfc__criterion=entropy, rfc__max_depth=6, rfc__n_estimators=10, rfc__random_state=12345; total time=   6.3s\n",
      "[CV 1/3; 52/90] START rfc__class_weight=balanced, rfc__criterion=entropy, rfc__max_depth=6, rfc__n_estimators=11, rfc__random_state=12345\n",
      "[CV 1/3; 52/90] END rfc__class_weight=balanced, rfc__criterion=entropy, rfc__max_depth=6, rfc__n_estimators=11, rfc__random_state=12345; total time=   6.5s\n",
      "[CV 2/3; 52/90] START rfc__class_weight=balanced, rfc__criterion=entropy, rfc__max_depth=6, rfc__n_estimators=11, rfc__random_state=12345\n",
      "[CV 2/3; 52/90] END rfc__class_weight=balanced, rfc__criterion=entropy, rfc__max_depth=6, rfc__n_estimators=11, rfc__random_state=12345; total time=   6.4s\n",
      "[CV 3/3; 52/90] START rfc__class_weight=balanced, rfc__criterion=entropy, rfc__max_depth=6, rfc__n_estimators=11, rfc__random_state=12345\n",
      "[CV 3/3; 52/90] END rfc__class_weight=balanced, rfc__criterion=entropy, rfc__max_depth=6, rfc__n_estimators=11, rfc__random_state=12345; total time=   6.5s\n",
      "[CV 1/3; 53/90] START rfc__class_weight=balanced, rfc__criterion=entropy, rfc__max_depth=6, rfc__n_estimators=12, rfc__random_state=12345\n",
      "[CV 1/3; 53/90] END rfc__class_weight=balanced, rfc__criterion=entropy, rfc__max_depth=6, rfc__n_estimators=12, rfc__random_state=12345; total time=   6.3s\n",
      "[CV 2/3; 53/90] START rfc__class_weight=balanced, rfc__criterion=entropy, rfc__max_depth=6, rfc__n_estimators=12, rfc__random_state=12345\n",
      "[CV 2/3; 53/90] END rfc__class_weight=balanced, rfc__criterion=entropy, rfc__max_depth=6, rfc__n_estimators=12, rfc__random_state=12345; total time=   6.2s\n",
      "[CV 3/3; 53/90] START rfc__class_weight=balanced, rfc__criterion=entropy, rfc__max_depth=6, rfc__n_estimators=12, rfc__random_state=12345\n",
      "[CV 3/3; 53/90] END rfc__class_weight=balanced, rfc__criterion=entropy, rfc__max_depth=6, rfc__n_estimators=12, rfc__random_state=12345; total time=   6.2s\n",
      "[CV 1/3; 54/90] START rfc__class_weight=balanced, rfc__criterion=entropy, rfc__max_depth=6, rfc__n_estimators=13, rfc__random_state=12345\n",
      "[CV 1/3; 54/90] END rfc__class_weight=balanced, rfc__criterion=entropy, rfc__max_depth=6, rfc__n_estimators=13, rfc__random_state=12345; total time=   6.4s\n",
      "[CV 2/3; 54/90] START rfc__class_weight=balanced, rfc__criterion=entropy, rfc__max_depth=6, rfc__n_estimators=13, rfc__random_state=12345\n",
      "[CV 2/3; 54/90] END rfc__class_weight=balanced, rfc__criterion=entropy, rfc__max_depth=6, rfc__n_estimators=13, rfc__random_state=12345; total time=   6.4s\n",
      "[CV 3/3; 54/90] START rfc__class_weight=balanced, rfc__criterion=entropy, rfc__max_depth=6, rfc__n_estimators=13, rfc__random_state=12345\n",
      "[CV 3/3; 54/90] END rfc__class_weight=balanced, rfc__criterion=entropy, rfc__max_depth=6, rfc__n_estimators=13, rfc__random_state=12345; total time=   6.1s\n",
      "[CV 1/3; 55/90] START rfc__class_weight=balanced, rfc__criterion=entropy, rfc__max_depth=6, rfc__n_estimators=14, rfc__random_state=12345\n",
      "[CV 1/3; 55/90] END rfc__class_weight=balanced, rfc__criterion=entropy, rfc__max_depth=6, rfc__n_estimators=14, rfc__random_state=12345; total time=   6.4s\n",
      "[CV 2/3; 55/90] START rfc__class_weight=balanced, rfc__criterion=entropy, rfc__max_depth=6, rfc__n_estimators=14, rfc__random_state=12345\n",
      "[CV 2/3; 55/90] END rfc__class_weight=balanced, rfc__criterion=entropy, rfc__max_depth=6, rfc__n_estimators=14, rfc__random_state=12345; total time=   6.2s\n",
      "[CV 3/3; 55/90] START rfc__class_weight=balanced, rfc__criterion=entropy, rfc__max_depth=6, rfc__n_estimators=14, rfc__random_state=12345\n",
      "[CV 3/3; 55/90] END rfc__class_weight=balanced, rfc__criterion=entropy, rfc__max_depth=6, rfc__n_estimators=14, rfc__random_state=12345; total time=   6.6s\n",
      "[CV 1/3; 56/90] START rfc__class_weight=balanced, rfc__criterion=entropy, rfc__max_depth=6, rfc__n_estimators=15, rfc__random_state=12345\n",
      "[CV 1/3; 56/90] END rfc__class_weight=balanced, rfc__criterion=entropy, rfc__max_depth=6, rfc__n_estimators=15, rfc__random_state=12345; total time=   6.1s\n",
      "[CV 2/3; 56/90] START rfc__class_weight=balanced, rfc__criterion=entropy, rfc__max_depth=6, rfc__n_estimators=15, rfc__random_state=12345\n",
      "[CV 2/3; 56/90] END rfc__class_weight=balanced, rfc__criterion=entropy, rfc__max_depth=6, rfc__n_estimators=15, rfc__random_state=12345; total time=   6.2s\n",
      "[CV 3/3; 56/90] START rfc__class_weight=balanced, rfc__criterion=entropy, rfc__max_depth=6, rfc__n_estimators=15, rfc__random_state=12345\n",
      "[CV 3/3; 56/90] END rfc__class_weight=balanced, rfc__criterion=entropy, rfc__max_depth=6, rfc__n_estimators=15, rfc__random_state=12345; total time=   6.3s\n",
      "[CV 1/3; 57/90] START rfc__class_weight=balanced, rfc__criterion=entropy, rfc__max_depth=6, rfc__n_estimators=16, rfc__random_state=12345\n",
      "[CV 1/3; 57/90] END rfc__class_weight=balanced, rfc__criterion=entropy, rfc__max_depth=6, rfc__n_estimators=16, rfc__random_state=12345; total time=   6.3s\n",
      "[CV 2/3; 57/90] START rfc__class_weight=balanced, rfc__criterion=entropy, rfc__max_depth=6, rfc__n_estimators=16, rfc__random_state=12345\n",
      "[CV 2/3; 57/90] END rfc__class_weight=balanced, rfc__criterion=entropy, rfc__max_depth=6, rfc__n_estimators=16, rfc__random_state=12345; total time=   6.3s\n",
      "[CV 3/3; 57/90] START rfc__class_weight=balanced, rfc__criterion=entropy, rfc__max_depth=6, rfc__n_estimators=16, rfc__random_state=12345\n",
      "[CV 3/3; 57/90] END rfc__class_weight=balanced, rfc__criterion=entropy, rfc__max_depth=6, rfc__n_estimators=16, rfc__random_state=12345; total time=   6.3s\n",
      "[CV 1/3; 58/90] START rfc__class_weight=balanced, rfc__criterion=entropy, rfc__max_depth=6, rfc__n_estimators=17, rfc__random_state=12345\n",
      "[CV 1/3; 58/90] END rfc__class_weight=balanced, rfc__criterion=entropy, rfc__max_depth=6, rfc__n_estimators=17, rfc__random_state=12345; total time=   6.5s\n",
      "[CV 2/3; 58/90] START rfc__class_weight=balanced, rfc__criterion=entropy, rfc__max_depth=6, rfc__n_estimators=17, rfc__random_state=12345\n",
      "[CV 2/3; 58/90] END rfc__class_weight=balanced, rfc__criterion=entropy, rfc__max_depth=6, rfc__n_estimators=17, rfc__random_state=12345; total time=   6.7s\n",
      "[CV 3/3; 58/90] START rfc__class_weight=balanced, rfc__criterion=entropy, rfc__max_depth=6, rfc__n_estimators=17, rfc__random_state=12345\n",
      "[CV 3/3; 58/90] END rfc__class_weight=balanced, rfc__criterion=entropy, rfc__max_depth=6, rfc__n_estimators=17, rfc__random_state=12345; total time=   6.4s\n",
      "[CV 1/3; 59/90] START rfc__class_weight=balanced, rfc__criterion=entropy, rfc__max_depth=6, rfc__n_estimators=18, rfc__random_state=12345\n",
      "[CV 1/3; 59/90] END rfc__class_weight=balanced, rfc__criterion=entropy, rfc__max_depth=6, rfc__n_estimators=18, rfc__random_state=12345; total time=   6.3s\n",
      "[CV 2/3; 59/90] START rfc__class_weight=balanced, rfc__criterion=entropy, rfc__max_depth=6, rfc__n_estimators=18, rfc__random_state=12345\n",
      "[CV 2/3; 59/90] END rfc__class_weight=balanced, rfc__criterion=entropy, rfc__max_depth=6, rfc__n_estimators=18, rfc__random_state=12345; total time=   6.1s\n",
      "[CV 3/3; 59/90] START rfc__class_weight=balanced, rfc__criterion=entropy, rfc__max_depth=6, rfc__n_estimators=18, rfc__random_state=12345\n",
      "[CV 3/3; 59/90] END rfc__class_weight=balanced, rfc__criterion=entropy, rfc__max_depth=6, rfc__n_estimators=18, rfc__random_state=12345; total time=   6.0s\n",
      "[CV 1/3; 60/90] START rfc__class_weight=balanced, rfc__criterion=entropy, rfc__max_depth=6, rfc__n_estimators=19, rfc__random_state=12345\n",
      "[CV 1/3; 60/90] END rfc__class_weight=balanced, rfc__criterion=entropy, rfc__max_depth=6, rfc__n_estimators=19, rfc__random_state=12345; total time=   6.1s\n",
      "[CV 2/3; 60/90] START rfc__class_weight=balanced, rfc__criterion=entropy, rfc__max_depth=6, rfc__n_estimators=19, rfc__random_state=12345\n",
      "[CV 2/3; 60/90] END rfc__class_weight=balanced, rfc__criterion=entropy, rfc__max_depth=6, rfc__n_estimators=19, rfc__random_state=12345; total time=   6.6s\n",
      "[CV 3/3; 60/90] START rfc__class_weight=balanced, rfc__criterion=entropy, rfc__max_depth=6, rfc__n_estimators=19, rfc__random_state=12345\n",
      "[CV 3/3; 60/90] END rfc__class_weight=balanced, rfc__criterion=entropy, rfc__max_depth=6, rfc__n_estimators=19, rfc__random_state=12345; total time=   6.3s\n",
      "[CV 1/3; 61/90] START rfc__class_weight=balanced, rfc__criterion=entropy, rfc__max_depth=7, rfc__n_estimators=10, rfc__random_state=12345\n",
      "[CV 1/3; 61/90] END rfc__class_weight=balanced, rfc__criterion=entropy, rfc__max_depth=7, rfc__n_estimators=10, rfc__random_state=12345; total time=   6.0s\n",
      "[CV 2/3; 61/90] START rfc__class_weight=balanced, rfc__criterion=entropy, rfc__max_depth=7, rfc__n_estimators=10, rfc__random_state=12345\n",
      "[CV 2/3; 61/90] END rfc__class_weight=balanced, rfc__criterion=entropy, rfc__max_depth=7, rfc__n_estimators=10, rfc__random_state=12345; total time=   6.6s\n",
      "[CV 3/3; 61/90] START rfc__class_weight=balanced, rfc__criterion=entropy, rfc__max_depth=7, rfc__n_estimators=10, rfc__random_state=12345\n",
      "[CV 3/3; 61/90] END rfc__class_weight=balanced, rfc__criterion=entropy, rfc__max_depth=7, rfc__n_estimators=10, rfc__random_state=12345; total time=   6.0s\n",
      "[CV 1/3; 62/90] START rfc__class_weight=balanced, rfc__criterion=entropy, rfc__max_depth=7, rfc__n_estimators=11, rfc__random_state=12345\n",
      "[CV 1/3; 62/90] END rfc__class_weight=balanced, rfc__criterion=entropy, rfc__max_depth=7, rfc__n_estimators=11, rfc__random_state=12345; total time=   6.1s\n",
      "[CV 2/3; 62/90] START rfc__class_weight=balanced, rfc__criterion=entropy, rfc__max_depth=7, rfc__n_estimators=11, rfc__random_state=12345\n",
      "[CV 2/3; 62/90] END rfc__class_weight=balanced, rfc__criterion=entropy, rfc__max_depth=7, rfc__n_estimators=11, rfc__random_state=12345; total time=   6.0s\n",
      "[CV 3/3; 62/90] START rfc__class_weight=balanced, rfc__criterion=entropy, rfc__max_depth=7, rfc__n_estimators=11, rfc__random_state=12345\n",
      "[CV 3/3; 62/90] END rfc__class_weight=balanced, rfc__criterion=entropy, rfc__max_depth=7, rfc__n_estimators=11, rfc__random_state=12345; total time=   5.8s\n",
      "[CV 1/3; 63/90] START rfc__class_weight=balanced, rfc__criterion=entropy, rfc__max_depth=7, rfc__n_estimators=12, rfc__random_state=12345\n",
      "[CV 1/3; 63/90] END rfc__class_weight=balanced, rfc__criterion=entropy, rfc__max_depth=7, rfc__n_estimators=12, rfc__random_state=12345; total time=   5.8s\n",
      "[CV 2/3; 63/90] START rfc__class_weight=balanced, rfc__criterion=entropy, rfc__max_depth=7, rfc__n_estimators=12, rfc__random_state=12345\n",
      "[CV 2/3; 63/90] END rfc__class_weight=balanced, rfc__criterion=entropy, rfc__max_depth=7, rfc__n_estimators=12, rfc__random_state=12345; total time=   5.8s\n",
      "[CV 3/3; 63/90] START rfc__class_weight=balanced, rfc__criterion=entropy, rfc__max_depth=7, rfc__n_estimators=12, rfc__random_state=12345\n",
      "[CV 3/3; 63/90] END rfc__class_weight=balanced, rfc__criterion=entropy, rfc__max_depth=7, rfc__n_estimators=12, rfc__random_state=12345; total time=   6.4s\n",
      "[CV 1/3; 64/90] START rfc__class_weight=balanced, rfc__criterion=entropy, rfc__max_depth=7, rfc__n_estimators=13, rfc__random_state=12345\n",
      "[CV 1/3; 64/90] END rfc__class_weight=balanced, rfc__criterion=entropy, rfc__max_depth=7, rfc__n_estimators=13, rfc__random_state=12345; total time=   5.9s\n",
      "[CV 2/3; 64/90] START rfc__class_weight=balanced, rfc__criterion=entropy, rfc__max_depth=7, rfc__n_estimators=13, rfc__random_state=12345\n",
      "[CV 2/3; 64/90] END rfc__class_weight=balanced, rfc__criterion=entropy, rfc__max_depth=7, rfc__n_estimators=13, rfc__random_state=12345; total time=   6.0s\n",
      "[CV 3/3; 64/90] START rfc__class_weight=balanced, rfc__criterion=entropy, rfc__max_depth=7, rfc__n_estimators=13, rfc__random_state=12345\n",
      "[CV 3/3; 64/90] END rfc__class_weight=balanced, rfc__criterion=entropy, rfc__max_depth=7, rfc__n_estimators=13, rfc__random_state=12345; total time=   5.9s\n",
      "[CV 1/3; 65/90] START rfc__class_weight=balanced, rfc__criterion=entropy, rfc__max_depth=7, rfc__n_estimators=14, rfc__random_state=12345\n",
      "[CV 1/3; 65/90] END rfc__class_weight=balanced, rfc__criterion=entropy, rfc__max_depth=7, rfc__n_estimators=14, rfc__random_state=12345; total time=   6.0s\n",
      "[CV 2/3; 65/90] START rfc__class_weight=balanced, rfc__criterion=entropy, rfc__max_depth=7, rfc__n_estimators=14, rfc__random_state=12345\n",
      "[CV 2/3; 65/90] END rfc__class_weight=balanced, rfc__criterion=entropy, rfc__max_depth=7, rfc__n_estimators=14, rfc__random_state=12345; total time=   6.2s\n",
      "[CV 3/3; 65/90] START rfc__class_weight=balanced, rfc__criterion=entropy, rfc__max_depth=7, rfc__n_estimators=14, rfc__random_state=12345\n",
      "[CV 3/3; 65/90] END rfc__class_weight=balanced, rfc__criterion=entropy, rfc__max_depth=7, rfc__n_estimators=14, rfc__random_state=12345; total time=   6.0s\n",
      "[CV 1/3; 66/90] START rfc__class_weight=balanced, rfc__criterion=entropy, rfc__max_depth=7, rfc__n_estimators=15, rfc__random_state=12345\n",
      "[CV 1/3; 66/90] END rfc__class_weight=balanced, rfc__criterion=entropy, rfc__max_depth=7, rfc__n_estimators=15, rfc__random_state=12345; total time=   5.8s\n",
      "[CV 2/3; 66/90] START rfc__class_weight=balanced, rfc__criterion=entropy, rfc__max_depth=7, rfc__n_estimators=15, rfc__random_state=12345\n",
      "[CV 2/3; 66/90] END rfc__class_weight=balanced, rfc__criterion=entropy, rfc__max_depth=7, rfc__n_estimators=15, rfc__random_state=12345; total time=   5.9s\n",
      "[CV 3/3; 66/90] START rfc__class_weight=balanced, rfc__criterion=entropy, rfc__max_depth=7, rfc__n_estimators=15, rfc__random_state=12345\n",
      "[CV 3/3; 66/90] END rfc__class_weight=balanced, rfc__criterion=entropy, rfc__max_depth=7, rfc__n_estimators=15, rfc__random_state=12345; total time=   6.1s\n",
      "[CV 1/3; 67/90] START rfc__class_weight=balanced, rfc__criterion=entropy, rfc__max_depth=7, rfc__n_estimators=16, rfc__random_state=12345\n",
      "[CV 1/3; 67/90] END rfc__class_weight=balanced, rfc__criterion=entropy, rfc__max_depth=7, rfc__n_estimators=16, rfc__random_state=12345; total time=   5.9s\n",
      "[CV 2/3; 67/90] START rfc__class_weight=balanced, rfc__criterion=entropy, rfc__max_depth=7, rfc__n_estimators=16, rfc__random_state=12345\n",
      "[CV 2/3; 67/90] END rfc__class_weight=balanced, rfc__criterion=entropy, rfc__max_depth=7, rfc__n_estimators=16, rfc__random_state=12345; total time=   6.0s\n",
      "[CV 3/3; 67/90] START rfc__class_weight=balanced, rfc__criterion=entropy, rfc__max_depth=7, rfc__n_estimators=16, rfc__random_state=12345\n",
      "[CV 3/3; 67/90] END rfc__class_weight=balanced, rfc__criterion=entropy, rfc__max_depth=7, rfc__n_estimators=16, rfc__random_state=12345; total time=   6.1s\n",
      "[CV 1/3; 68/90] START rfc__class_weight=balanced, rfc__criterion=entropy, rfc__max_depth=7, rfc__n_estimators=17, rfc__random_state=12345\n",
      "[CV 1/3; 68/90] END rfc__class_weight=balanced, rfc__criterion=entropy, rfc__max_depth=7, rfc__n_estimators=17, rfc__random_state=12345; total time=   6.2s\n",
      "[CV 2/3; 68/90] START rfc__class_weight=balanced, rfc__criterion=entropy, rfc__max_depth=7, rfc__n_estimators=17, rfc__random_state=12345\n",
      "[CV 2/3; 68/90] END rfc__class_weight=balanced, rfc__criterion=entropy, rfc__max_depth=7, rfc__n_estimators=17, rfc__random_state=12345; total time=   6.1s\n",
      "[CV 3/3; 68/90] START rfc__class_weight=balanced, rfc__criterion=entropy, rfc__max_depth=7, rfc__n_estimators=17, rfc__random_state=12345\n",
      "[CV 3/3; 68/90] END rfc__class_weight=balanced, rfc__criterion=entropy, rfc__max_depth=7, rfc__n_estimators=17, rfc__random_state=12345; total time=   6.1s\n",
      "[CV 1/3; 69/90] START rfc__class_weight=balanced, rfc__criterion=entropy, rfc__max_depth=7, rfc__n_estimators=18, rfc__random_state=12345\n",
      "[CV 1/3; 69/90] END rfc__class_weight=balanced, rfc__criterion=entropy, rfc__max_depth=7, rfc__n_estimators=18, rfc__random_state=12345; total time=   6.0s\n",
      "[CV 2/3; 69/90] START rfc__class_weight=balanced, rfc__criterion=entropy, rfc__max_depth=7, rfc__n_estimators=18, rfc__random_state=12345\n",
      "[CV 2/3; 69/90] END rfc__class_weight=balanced, rfc__criterion=entropy, rfc__max_depth=7, rfc__n_estimators=18, rfc__random_state=12345; total time=   6.0s\n",
      "[CV 3/3; 69/90] START rfc__class_weight=balanced, rfc__criterion=entropy, rfc__max_depth=7, rfc__n_estimators=18, rfc__random_state=12345\n",
      "[CV 3/3; 69/90] END rfc__class_weight=balanced, rfc__criterion=entropy, rfc__max_depth=7, rfc__n_estimators=18, rfc__random_state=12345; total time=   6.3s\n",
      "[CV 1/3; 70/90] START rfc__class_weight=balanced, rfc__criterion=entropy, rfc__max_depth=7, rfc__n_estimators=19, rfc__random_state=12345\n",
      "[CV 1/3; 70/90] END rfc__class_weight=balanced, rfc__criterion=entropy, rfc__max_depth=7, rfc__n_estimators=19, rfc__random_state=12345; total time=   6.0s\n",
      "[CV 2/3; 70/90] START rfc__class_weight=balanced, rfc__criterion=entropy, rfc__max_depth=7, rfc__n_estimators=19, rfc__random_state=12345\n",
      "[CV 2/3; 70/90] END rfc__class_weight=balanced, rfc__criterion=entropy, rfc__max_depth=7, rfc__n_estimators=19, rfc__random_state=12345; total time=   6.0s\n",
      "[CV 3/3; 70/90] START rfc__class_weight=balanced, rfc__criterion=entropy, rfc__max_depth=7, rfc__n_estimators=19, rfc__random_state=12345\n",
      "[CV 3/3; 70/90] END rfc__class_weight=balanced, rfc__criterion=entropy, rfc__max_depth=7, rfc__n_estimators=19, rfc__random_state=12345; total time=   6.1s\n",
      "[CV 1/3; 71/90] START rfc__class_weight=balanced, rfc__criterion=entropy, rfc__max_depth=8, rfc__n_estimators=10, rfc__random_state=12345\n",
      "[CV 1/3; 71/90] END rfc__class_weight=balanced, rfc__criterion=entropy, rfc__max_depth=8, rfc__n_estimators=10, rfc__random_state=12345; total time=   5.9s\n",
      "[CV 2/3; 71/90] START rfc__class_weight=balanced, rfc__criterion=entropy, rfc__max_depth=8, rfc__n_estimators=10, rfc__random_state=12345\n",
      "[CV 2/3; 71/90] END rfc__class_weight=balanced, rfc__criterion=entropy, rfc__max_depth=8, rfc__n_estimators=10, rfc__random_state=12345; total time=   6.1s\n",
      "[CV 3/3; 71/90] START rfc__class_weight=balanced, rfc__criterion=entropy, rfc__max_depth=8, rfc__n_estimators=10, rfc__random_state=12345\n",
      "[CV 3/3; 71/90] END rfc__class_weight=balanced, rfc__criterion=entropy, rfc__max_depth=8, rfc__n_estimators=10, rfc__random_state=12345; total time=   6.1s\n",
      "[CV 1/3; 72/90] START rfc__class_weight=balanced, rfc__criterion=entropy, rfc__max_depth=8, rfc__n_estimators=11, rfc__random_state=12345\n",
      "[CV 1/3; 72/90] END rfc__class_weight=balanced, rfc__criterion=entropy, rfc__max_depth=8, rfc__n_estimators=11, rfc__random_state=12345; total time=   5.9s\n",
      "[CV 2/3; 72/90] START rfc__class_weight=balanced, rfc__criterion=entropy, rfc__max_depth=8, rfc__n_estimators=11, rfc__random_state=12345\n",
      "[CV 2/3; 72/90] END rfc__class_weight=balanced, rfc__criterion=entropy, rfc__max_depth=8, rfc__n_estimators=11, rfc__random_state=12345; total time=   5.9s\n",
      "[CV 3/3; 72/90] START rfc__class_weight=balanced, rfc__criterion=entropy, rfc__max_depth=8, rfc__n_estimators=11, rfc__random_state=12345\n",
      "[CV 3/3; 72/90] END rfc__class_weight=balanced, rfc__criterion=entropy, rfc__max_depth=8, rfc__n_estimators=11, rfc__random_state=12345; total time=   5.9s\n",
      "[CV 1/3; 73/90] START rfc__class_weight=balanced, rfc__criterion=entropy, rfc__max_depth=8, rfc__n_estimators=12, rfc__random_state=12345\n",
      "[CV 1/3; 73/90] END rfc__class_weight=balanced, rfc__criterion=entropy, rfc__max_depth=8, rfc__n_estimators=12, rfc__random_state=12345; total time=   5.8s\n",
      "[CV 2/3; 73/90] START rfc__class_weight=balanced, rfc__criterion=entropy, rfc__max_depth=8, rfc__n_estimators=12, rfc__random_state=12345\n",
      "[CV 2/3; 73/90] END rfc__class_weight=balanced, rfc__criterion=entropy, rfc__max_depth=8, rfc__n_estimators=12, rfc__random_state=12345; total time=   6.0s\n",
      "[CV 3/3; 73/90] START rfc__class_weight=balanced, rfc__criterion=entropy, rfc__max_depth=8, rfc__n_estimators=12, rfc__random_state=12345\n",
      "[CV 3/3; 73/90] END rfc__class_weight=balanced, rfc__criterion=entropy, rfc__max_depth=8, rfc__n_estimators=12, rfc__random_state=12345; total time=   5.9s\n",
      "[CV 1/3; 74/90] START rfc__class_weight=balanced, rfc__criterion=entropy, rfc__max_depth=8, rfc__n_estimators=13, rfc__random_state=12345\n",
      "[CV 1/3; 74/90] END rfc__class_weight=balanced, rfc__criterion=entropy, rfc__max_depth=8, rfc__n_estimators=13, rfc__random_state=12345; total time=   5.9s\n",
      "[CV 2/3; 74/90] START rfc__class_weight=balanced, rfc__criterion=entropy, rfc__max_depth=8, rfc__n_estimators=13, rfc__random_state=12345\n",
      "[CV 2/3; 74/90] END rfc__class_weight=balanced, rfc__criterion=entropy, rfc__max_depth=8, rfc__n_estimators=13, rfc__random_state=12345; total time=   6.1s\n",
      "[CV 3/3; 74/90] START rfc__class_weight=balanced, rfc__criterion=entropy, rfc__max_depth=8, rfc__n_estimators=13, rfc__random_state=12345\n",
      "[CV 3/3; 74/90] END rfc__class_weight=balanced, rfc__criterion=entropy, rfc__max_depth=8, rfc__n_estimators=13, rfc__random_state=12345; total time=   6.2s\n",
      "[CV 1/3; 75/90] START rfc__class_weight=balanced, rfc__criterion=entropy, rfc__max_depth=8, rfc__n_estimators=14, rfc__random_state=12345\n",
      "[CV 1/3; 75/90] END rfc__class_weight=balanced, rfc__criterion=entropy, rfc__max_depth=8, rfc__n_estimators=14, rfc__random_state=12345; total time=   6.1s\n",
      "[CV 2/3; 75/90] START rfc__class_weight=balanced, rfc__criterion=entropy, rfc__max_depth=8, rfc__n_estimators=14, rfc__random_state=12345\n",
      "[CV 2/3; 75/90] END rfc__class_weight=balanced, rfc__criterion=entropy, rfc__max_depth=8, rfc__n_estimators=14, rfc__random_state=12345; total time=   6.1s\n",
      "[CV 3/3; 75/90] START rfc__class_weight=balanced, rfc__criterion=entropy, rfc__max_depth=8, rfc__n_estimators=14, rfc__random_state=12345\n",
      "[CV 3/3; 75/90] END rfc__class_weight=balanced, rfc__criterion=entropy, rfc__max_depth=8, rfc__n_estimators=14, rfc__random_state=12345; total time=   6.0s\n",
      "[CV 1/3; 76/90] START rfc__class_weight=balanced, rfc__criterion=entropy, rfc__max_depth=8, rfc__n_estimators=15, rfc__random_state=12345\n",
      "[CV 1/3; 76/90] END rfc__class_weight=balanced, rfc__criterion=entropy, rfc__max_depth=8, rfc__n_estimators=15, rfc__random_state=12345; total time=   6.0s\n",
      "[CV 2/3; 76/90] START rfc__class_weight=balanced, rfc__criterion=entropy, rfc__max_depth=8, rfc__n_estimators=15, rfc__random_state=12345\n",
      "[CV 2/3; 76/90] END rfc__class_weight=balanced, rfc__criterion=entropy, rfc__max_depth=8, rfc__n_estimators=15, rfc__random_state=12345; total time=   6.1s\n",
      "[CV 3/3; 76/90] START rfc__class_weight=balanced, rfc__criterion=entropy, rfc__max_depth=8, rfc__n_estimators=15, rfc__random_state=12345\n",
      "[CV 3/3; 76/90] END rfc__class_weight=balanced, rfc__criterion=entropy, rfc__max_depth=8, rfc__n_estimators=15, rfc__random_state=12345; total time=   6.1s\n",
      "[CV 1/3; 77/90] START rfc__class_weight=balanced, rfc__criterion=entropy, rfc__max_depth=8, rfc__n_estimators=16, rfc__random_state=12345\n",
      "[CV 1/3; 77/90] END rfc__class_weight=balanced, rfc__criterion=entropy, rfc__max_depth=8, rfc__n_estimators=16, rfc__random_state=12345; total time=   6.1s\n",
      "[CV 2/3; 77/90] START rfc__class_weight=balanced, rfc__criterion=entropy, rfc__max_depth=8, rfc__n_estimators=16, rfc__random_state=12345\n",
      "[CV 2/3; 77/90] END rfc__class_weight=balanced, rfc__criterion=entropy, rfc__max_depth=8, rfc__n_estimators=16, rfc__random_state=12345; total time=   6.1s\n",
      "[CV 3/3; 77/90] START rfc__class_weight=balanced, rfc__criterion=entropy, rfc__max_depth=8, rfc__n_estimators=16, rfc__random_state=12345\n",
      "[CV 3/3; 77/90] END rfc__class_weight=balanced, rfc__criterion=entropy, rfc__max_depth=8, rfc__n_estimators=16, rfc__random_state=12345; total time=   6.1s\n",
      "[CV 1/3; 78/90] START rfc__class_weight=balanced, rfc__criterion=entropy, rfc__max_depth=8, rfc__n_estimators=17, rfc__random_state=12345\n",
      "[CV 1/3; 78/90] END rfc__class_weight=balanced, rfc__criterion=entropy, rfc__max_depth=8, rfc__n_estimators=17, rfc__random_state=12345; total time=   6.4s\n",
      "[CV 2/3; 78/90] START rfc__class_weight=balanced, rfc__criterion=entropy, rfc__max_depth=8, rfc__n_estimators=17, rfc__random_state=12345\n",
      "[CV 2/3; 78/90] END rfc__class_weight=balanced, rfc__criterion=entropy, rfc__max_depth=8, rfc__n_estimators=17, rfc__random_state=12345; total time=   6.6s\n",
      "[CV 3/3; 78/90] START rfc__class_weight=balanced, rfc__criterion=entropy, rfc__max_depth=8, rfc__n_estimators=17, rfc__random_state=12345\n",
      "[CV 3/3; 78/90] END rfc__class_weight=balanced, rfc__criterion=entropy, rfc__max_depth=8, rfc__n_estimators=17, rfc__random_state=12345; total time=   6.3s\n",
      "[CV 1/3; 79/90] START rfc__class_weight=balanced, rfc__criterion=entropy, rfc__max_depth=8, rfc__n_estimators=18, rfc__random_state=12345\n",
      "[CV 1/3; 79/90] END rfc__class_weight=balanced, rfc__criterion=entropy, rfc__max_depth=8, rfc__n_estimators=18, rfc__random_state=12345; total time=   6.8s\n",
      "[CV 2/3; 79/90] START rfc__class_weight=balanced, rfc__criterion=entropy, rfc__max_depth=8, rfc__n_estimators=18, rfc__random_state=12345\n",
      "[CV 2/3; 79/90] END rfc__class_weight=balanced, rfc__criterion=entropy, rfc__max_depth=8, rfc__n_estimators=18, rfc__random_state=12345; total time=   6.5s\n",
      "[CV 3/3; 79/90] START rfc__class_weight=balanced, rfc__criterion=entropy, rfc__max_depth=8, rfc__n_estimators=18, rfc__random_state=12345\n",
      "[CV 3/3; 79/90] END rfc__class_weight=balanced, rfc__criterion=entropy, rfc__max_depth=8, rfc__n_estimators=18, rfc__random_state=12345; total time=   6.2s\n",
      "[CV 1/3; 80/90] START rfc__class_weight=balanced, rfc__criterion=entropy, rfc__max_depth=8, rfc__n_estimators=19, rfc__random_state=12345\n",
      "[CV 1/3; 80/90] END rfc__class_weight=balanced, rfc__criterion=entropy, rfc__max_depth=8, rfc__n_estimators=19, rfc__random_state=12345; total time=   6.0s\n",
      "[CV 2/3; 80/90] START rfc__class_weight=balanced, rfc__criterion=entropy, rfc__max_depth=8, rfc__n_estimators=19, rfc__random_state=12345\n",
      "[CV 2/3; 80/90] END rfc__class_weight=balanced, rfc__criterion=entropy, rfc__max_depth=8, rfc__n_estimators=19, rfc__random_state=12345; total time=   6.3s\n",
      "[CV 3/3; 80/90] START rfc__class_weight=balanced, rfc__criterion=entropy, rfc__max_depth=8, rfc__n_estimators=19, rfc__random_state=12345\n",
      "[CV 3/3; 80/90] END rfc__class_weight=balanced, rfc__criterion=entropy, rfc__max_depth=8, rfc__n_estimators=19, rfc__random_state=12345; total time=   6.1s\n",
      "[CV 1/3; 81/90] START rfc__class_weight=balanced, rfc__criterion=entropy, rfc__max_depth=9, rfc__n_estimators=10, rfc__random_state=12345\n",
      "[CV 1/3; 81/90] END rfc__class_weight=balanced, rfc__criterion=entropy, rfc__max_depth=9, rfc__n_estimators=10, rfc__random_state=12345; total time=   6.2s\n",
      "[CV 2/3; 81/90] START rfc__class_weight=balanced, rfc__criterion=entropy, rfc__max_depth=9, rfc__n_estimators=10, rfc__random_state=12345\n",
      "[CV 2/3; 81/90] END rfc__class_weight=balanced, rfc__criterion=entropy, rfc__max_depth=9, rfc__n_estimators=10, rfc__random_state=12345; total time=   6.0s\n",
      "[CV 3/3; 81/90] START rfc__class_weight=balanced, rfc__criterion=entropy, rfc__max_depth=9, rfc__n_estimators=10, rfc__random_state=12345\n",
      "[CV 3/3; 81/90] END rfc__class_weight=balanced, rfc__criterion=entropy, rfc__max_depth=9, rfc__n_estimators=10, rfc__random_state=12345; total time=   6.1s\n",
      "[CV 1/3; 82/90] START rfc__class_weight=balanced, rfc__criterion=entropy, rfc__max_depth=9, rfc__n_estimators=11, rfc__random_state=12345\n",
      "[CV 1/3; 82/90] END rfc__class_weight=balanced, rfc__criterion=entropy, rfc__max_depth=9, rfc__n_estimators=11, rfc__random_state=12345; total time=   6.0s\n",
      "[CV 2/3; 82/90] START rfc__class_weight=balanced, rfc__criterion=entropy, rfc__max_depth=9, rfc__n_estimators=11, rfc__random_state=12345\n",
      "[CV 2/3; 82/90] END rfc__class_weight=balanced, rfc__criterion=entropy, rfc__max_depth=9, rfc__n_estimators=11, rfc__random_state=12345; total time=   5.8s\n",
      "[CV 3/3; 82/90] START rfc__class_weight=balanced, rfc__criterion=entropy, rfc__max_depth=9, rfc__n_estimators=11, rfc__random_state=12345\n",
      "[CV 3/3; 82/90] END rfc__class_weight=balanced, rfc__criterion=entropy, rfc__max_depth=9, rfc__n_estimators=11, rfc__random_state=12345; total time=   6.0s\n",
      "[CV 1/3; 83/90] START rfc__class_weight=balanced, rfc__criterion=entropy, rfc__max_depth=9, rfc__n_estimators=12, rfc__random_state=12345\n",
      "[CV 1/3; 83/90] END rfc__class_weight=balanced, rfc__criterion=entropy, rfc__max_depth=9, rfc__n_estimators=12, rfc__random_state=12345; total time=   6.0s\n",
      "[CV 2/3; 83/90] START rfc__class_weight=balanced, rfc__criterion=entropy, rfc__max_depth=9, rfc__n_estimators=12, rfc__random_state=12345\n",
      "[CV 2/3; 83/90] END rfc__class_weight=balanced, rfc__criterion=entropy, rfc__max_depth=9, rfc__n_estimators=12, rfc__random_state=12345; total time=   6.0s\n",
      "[CV 3/3; 83/90] START rfc__class_weight=balanced, rfc__criterion=entropy, rfc__max_depth=9, rfc__n_estimators=12, rfc__random_state=12345\n",
      "[CV 3/3; 83/90] END rfc__class_weight=balanced, rfc__criterion=entropy, rfc__max_depth=9, rfc__n_estimators=12, rfc__random_state=12345; total time=   6.4s\n",
      "[CV 1/3; 84/90] START rfc__class_weight=balanced, rfc__criterion=entropy, rfc__max_depth=9, rfc__n_estimators=13, rfc__random_state=12345\n",
      "[CV 1/3; 84/90] END rfc__class_weight=balanced, rfc__criterion=entropy, rfc__max_depth=9, rfc__n_estimators=13, rfc__random_state=12345; total time=   6.2s\n",
      "[CV 2/3; 84/90] START rfc__class_weight=balanced, rfc__criterion=entropy, rfc__max_depth=9, rfc__n_estimators=13, rfc__random_state=12345\n",
      "[CV 2/3; 84/90] END rfc__class_weight=balanced, rfc__criterion=entropy, rfc__max_depth=9, rfc__n_estimators=13, rfc__random_state=12345; total time=   6.5s\n",
      "[CV 3/3; 84/90] START rfc__class_weight=balanced, rfc__criterion=entropy, rfc__max_depth=9, rfc__n_estimators=13, rfc__random_state=12345\n",
      "[CV 3/3; 84/90] END rfc__class_weight=balanced, rfc__criterion=entropy, rfc__max_depth=9, rfc__n_estimators=13, rfc__random_state=12345; total time=   6.3s\n",
      "[CV 1/3; 85/90] START rfc__class_weight=balanced, rfc__criterion=entropy, rfc__max_depth=9, rfc__n_estimators=14, rfc__random_state=12345\n",
      "[CV 1/3; 85/90] END rfc__class_weight=balanced, rfc__criterion=entropy, rfc__max_depth=9, rfc__n_estimators=14, rfc__random_state=12345; total time=   6.3s\n",
      "[CV 2/3; 85/90] START rfc__class_weight=balanced, rfc__criterion=entropy, rfc__max_depth=9, rfc__n_estimators=14, rfc__random_state=12345\n",
      "[CV 2/3; 85/90] END rfc__class_weight=balanced, rfc__criterion=entropy, rfc__max_depth=9, rfc__n_estimators=14, rfc__random_state=12345; total time=   6.1s\n",
      "[CV 3/3; 85/90] START rfc__class_weight=balanced, rfc__criterion=entropy, rfc__max_depth=9, rfc__n_estimators=14, rfc__random_state=12345\n",
      "[CV 3/3; 85/90] END rfc__class_weight=balanced, rfc__criterion=entropy, rfc__max_depth=9, rfc__n_estimators=14, rfc__random_state=12345; total time=   6.2s\n",
      "[CV 1/3; 86/90] START rfc__class_weight=balanced, rfc__criterion=entropy, rfc__max_depth=9, rfc__n_estimators=15, rfc__random_state=12345\n",
      "[CV 1/3; 86/90] END rfc__class_weight=balanced, rfc__criterion=entropy, rfc__max_depth=9, rfc__n_estimators=15, rfc__random_state=12345; total time=   6.0s\n",
      "[CV 2/3; 86/90] START rfc__class_weight=balanced, rfc__criterion=entropy, rfc__max_depth=9, rfc__n_estimators=15, rfc__random_state=12345\n",
      "[CV 2/3; 86/90] END rfc__class_weight=balanced, rfc__criterion=entropy, rfc__max_depth=9, rfc__n_estimators=15, rfc__random_state=12345; total time=   6.4s\n",
      "[CV 3/3; 86/90] START rfc__class_weight=balanced, rfc__criterion=entropy, rfc__max_depth=9, rfc__n_estimators=15, rfc__random_state=12345\n",
      "[CV 3/3; 86/90] END rfc__class_weight=balanced, rfc__criterion=entropy, rfc__max_depth=9, rfc__n_estimators=15, rfc__random_state=12345; total time=   6.3s\n",
      "[CV 1/3; 87/90] START rfc__class_weight=balanced, rfc__criterion=entropy, rfc__max_depth=9, rfc__n_estimators=16, rfc__random_state=12345\n",
      "[CV 1/3; 87/90] END rfc__class_weight=balanced, rfc__criterion=entropy, rfc__max_depth=9, rfc__n_estimators=16, rfc__random_state=12345; total time=   6.0s\n",
      "[CV 2/3; 87/90] START rfc__class_weight=balanced, rfc__criterion=entropy, rfc__max_depth=9, rfc__n_estimators=16, rfc__random_state=12345\n",
      "[CV 2/3; 87/90] END rfc__class_weight=balanced, rfc__criterion=entropy, rfc__max_depth=9, rfc__n_estimators=16, rfc__random_state=12345; total time=   6.7s\n",
      "[CV 3/3; 87/90] START rfc__class_weight=balanced, rfc__criterion=entropy, rfc__max_depth=9, rfc__n_estimators=16, rfc__random_state=12345\n",
      "[CV 3/3; 87/90] END rfc__class_weight=balanced, rfc__criterion=entropy, rfc__max_depth=9, rfc__n_estimators=16, rfc__random_state=12345; total time=   6.9s\n",
      "[CV 1/3; 88/90] START rfc__class_weight=balanced, rfc__criterion=entropy, rfc__max_depth=9, rfc__n_estimators=17, rfc__random_state=12345\n",
      "[CV 1/3; 88/90] END rfc__class_weight=balanced, rfc__criterion=entropy, rfc__max_depth=9, rfc__n_estimators=17, rfc__random_state=12345; total time=   7.0s\n",
      "[CV 2/3; 88/90] START rfc__class_weight=balanced, rfc__criterion=entropy, rfc__max_depth=9, rfc__n_estimators=17, rfc__random_state=12345\n",
      "[CV 2/3; 88/90] END rfc__class_weight=balanced, rfc__criterion=entropy, rfc__max_depth=9, rfc__n_estimators=17, rfc__random_state=12345; total time=   7.1s\n",
      "[CV 3/3; 88/90] START rfc__class_weight=balanced, rfc__criterion=entropy, rfc__max_depth=9, rfc__n_estimators=17, rfc__random_state=12345\n",
      "[CV 3/3; 88/90] END rfc__class_weight=balanced, rfc__criterion=entropy, rfc__max_depth=9, rfc__n_estimators=17, rfc__random_state=12345; total time=   6.6s\n",
      "[CV 1/3; 89/90] START rfc__class_weight=balanced, rfc__criterion=entropy, rfc__max_depth=9, rfc__n_estimators=18, rfc__random_state=12345\n",
      "[CV 1/3; 89/90] END rfc__class_weight=balanced, rfc__criterion=entropy, rfc__max_depth=9, rfc__n_estimators=18, rfc__random_state=12345; total time=   6.0s\n",
      "[CV 2/3; 89/90] START rfc__class_weight=balanced, rfc__criterion=entropy, rfc__max_depth=9, rfc__n_estimators=18, rfc__random_state=12345\n",
      "[CV 2/3; 89/90] END rfc__class_weight=balanced, rfc__criterion=entropy, rfc__max_depth=9, rfc__n_estimators=18, rfc__random_state=12345; total time=   6.3s\n",
      "[CV 3/3; 89/90] START rfc__class_weight=balanced, rfc__criterion=entropy, rfc__max_depth=9, rfc__n_estimators=18, rfc__random_state=12345\n",
      "[CV 3/3; 89/90] END rfc__class_weight=balanced, rfc__criterion=entropy, rfc__max_depth=9, rfc__n_estimators=18, rfc__random_state=12345; total time=   6.3s\n",
      "[CV 1/3; 90/90] START rfc__class_weight=balanced, rfc__criterion=entropy, rfc__max_depth=9, rfc__n_estimators=19, rfc__random_state=12345\n",
      "[CV 1/3; 90/90] END rfc__class_weight=balanced, rfc__criterion=entropy, rfc__max_depth=9, rfc__n_estimators=19, rfc__random_state=12345; total time=   6.5s\n",
      "[CV 2/3; 90/90] START rfc__class_weight=balanced, rfc__criterion=entropy, rfc__max_depth=9, rfc__n_estimators=19, rfc__random_state=12345\n",
      "[CV 2/3; 90/90] END rfc__class_weight=balanced, rfc__criterion=entropy, rfc__max_depth=9, rfc__n_estimators=19, rfc__random_state=12345; total time=   7.4s\n",
      "[CV 3/3; 90/90] START rfc__class_weight=balanced, rfc__criterion=entropy, rfc__max_depth=9, rfc__n_estimators=19, rfc__random_state=12345\n",
      "[CV 3/3; 90/90] END rfc__class_weight=balanced, rfc__criterion=entropy, rfc__max_depth=9, rfc__n_estimators=19, rfc__random_state=12345; total time=   7.8s\n",
      "Показатель F1 для случайного леса равен 0.33 при параметрах {'rfc__class_weight': 'balanced', 'rfc__criterion': 'entropy', 'rfc__max_depth': 9, 'rfc__n_estimators': 19, 'rfc__random_state': 12345}\n",
      "CPU times: user 27min 18s, sys: 20.2 s, total: 27min 38s\n",
      "Wall time: 27min 40s\n"
     ]
    }
   ],
   "source": [
    "%%time\n",
    "\n",
    "pipeline_rfc = Pipeline([(\"vect\", TfidfVectorizer(stop_words = 'english')), \n",
    "                         (\"rfc\", RandomForestClassifier())])\n",
    "    \n",
    "parameters_rfc = {'rfc__n_estimators': ([x for x in range(10, 20)]),\n",
    "                  'rfc__random_state': ([12345]),\n",
    "                  'rfc__max_depth': ([x for x in range(1, 10)]),\n",
    "                  'rfc__criterion': (['entropy']),\n",
    "                  'rfc__class_weight': (['balanced'])}\n",
    "\n",
    "gscv_rfc = GridSearchCV(pipeline_rfc, parameters_rfc, scoring = 'f1', cv = 3, n_jobs = -1, verbose = 10)\n",
    "\n",
    "gscv_rfc.fit(features_train['text'], target_train)\n",
    "\n",
    "mts = gscv_rfc.cv_results_['mean_test_score']\n",
    "rfc_train_f1 = max(mts)\n",
    "\n",
    "print('Показатель F1 для случайного леса равен', round(rfc_train_f1, 2), 'при параметрах', gscv_rfc.best_params_)"
   ]
  },
  {
   "cell_type": "markdown",
   "metadata": {},
   "source": [
    "### Дерево решений"
   ]
  },
  {
   "cell_type": "code",
   "execution_count": 22,
   "metadata": {
    "scrolled": true
   },
   "outputs": [
    {
     "name": "stdout",
     "output_type": "stream",
     "text": [
      "Fitting 3 folds for each of 24 candidates, totalling 72 fits\n",
      "[CV 1/3; 1/24] START dtc__class_weight=balanced, dtc__max_depth=1, dtc__random_state=12345\n",
      "[CV 1/3; 1/24] END dtc__class_weight=balanced, dtc__max_depth=1, dtc__random_state=12345; total time=   7.0s\n",
      "[CV 2/3; 1/24] START dtc__class_weight=balanced, dtc__max_depth=1, dtc__random_state=12345\n",
      "[CV 2/3; 1/24] END dtc__class_weight=balanced, dtc__max_depth=1, dtc__random_state=12345; total time=   7.1s\n",
      "[CV 3/3; 1/24] START dtc__class_weight=balanced, dtc__max_depth=1, dtc__random_state=12345\n",
      "[CV 3/3; 1/24] END dtc__class_weight=balanced, dtc__max_depth=1, dtc__random_state=12345; total time=   7.5s\n",
      "[CV 1/3; 2/24] START dtc__class_weight=balanced, dtc__max_depth=2, dtc__random_state=12345\n",
      "[CV 1/3; 2/24] END dtc__class_weight=balanced, dtc__max_depth=2, dtc__random_state=12345; total time=   6.6s\n",
      "[CV 2/3; 2/24] START dtc__class_weight=balanced, dtc__max_depth=2, dtc__random_state=12345\n",
      "[CV 2/3; 2/24] END dtc__class_weight=balanced, dtc__max_depth=2, dtc__random_state=12345; total time=   6.6s\n",
      "[CV 3/3; 2/24] START dtc__class_weight=balanced, dtc__max_depth=2, dtc__random_state=12345\n",
      "[CV 3/3; 2/24] END dtc__class_weight=balanced, dtc__max_depth=2, dtc__random_state=12345; total time=   6.6s\n",
      "[CV 1/3; 3/24] START dtc__class_weight=balanced, dtc__max_depth=3, dtc__random_state=12345\n",
      "[CV 1/3; 3/24] END dtc__class_weight=balanced, dtc__max_depth=3, dtc__random_state=12345; total time=   6.9s\n",
      "[CV 2/3; 3/24] START dtc__class_weight=balanced, dtc__max_depth=3, dtc__random_state=12345\n",
      "[CV 2/3; 3/24] END dtc__class_weight=balanced, dtc__max_depth=3, dtc__random_state=12345; total time=   7.2s\n",
      "[CV 3/3; 3/24] START dtc__class_weight=balanced, dtc__max_depth=3, dtc__random_state=12345\n",
      "[CV 3/3; 3/24] END dtc__class_weight=balanced, dtc__max_depth=3, dtc__random_state=12345; total time=   7.0s\n",
      "[CV 1/3; 4/24] START dtc__class_weight=balanced, dtc__max_depth=4, dtc__random_state=12345\n",
      "[CV 1/3; 4/24] END dtc__class_weight=balanced, dtc__max_depth=4, dtc__random_state=12345; total time=   7.2s\n",
      "[CV 2/3; 4/24] START dtc__class_weight=balanced, dtc__max_depth=4, dtc__random_state=12345\n",
      "[CV 2/3; 4/24] END dtc__class_weight=balanced, dtc__max_depth=4, dtc__random_state=12345; total time=   6.9s\n",
      "[CV 3/3; 4/24] START dtc__class_weight=balanced, dtc__max_depth=4, dtc__random_state=12345\n",
      "[CV 3/3; 4/24] END dtc__class_weight=balanced, dtc__max_depth=4, dtc__random_state=12345; total time=   6.9s\n",
      "[CV 1/3; 5/24] START dtc__class_weight=balanced, dtc__max_depth=5, dtc__random_state=12345\n",
      "[CV 1/3; 5/24] END dtc__class_weight=balanced, dtc__max_depth=5, dtc__random_state=12345; total time=   7.4s\n",
      "[CV 2/3; 5/24] START dtc__class_weight=balanced, dtc__max_depth=5, dtc__random_state=12345\n",
      "[CV 2/3; 5/24] END dtc__class_weight=balanced, dtc__max_depth=5, dtc__random_state=12345; total time=   7.2s\n",
      "[CV 3/3; 5/24] START dtc__class_weight=balanced, dtc__max_depth=5, dtc__random_state=12345\n",
      "[CV 3/3; 5/24] END dtc__class_weight=balanced, dtc__max_depth=5, dtc__random_state=12345; total time=   7.9s\n",
      "[CV 1/3; 6/24] START dtc__class_weight=balanced, dtc__max_depth=6, dtc__random_state=12345\n",
      "[CV 1/3; 6/24] END dtc__class_weight=balanced, dtc__max_depth=6, dtc__random_state=12345; total time=   8.3s\n",
      "[CV 2/3; 6/24] START dtc__class_weight=balanced, dtc__max_depth=6, dtc__random_state=12345\n",
      "[CV 2/3; 6/24] END dtc__class_weight=balanced, dtc__max_depth=6, dtc__random_state=12345; total time=   7.8s\n",
      "[CV 3/3; 6/24] START dtc__class_weight=balanced, dtc__max_depth=6, dtc__random_state=12345\n",
      "[CV 3/3; 6/24] END dtc__class_weight=balanced, dtc__max_depth=6, dtc__random_state=12345; total time=   7.6s\n",
      "[CV 1/3; 7/24] START dtc__class_weight=balanced, dtc__max_depth=7, dtc__random_state=12345\n",
      "[CV 1/3; 7/24] END dtc__class_weight=balanced, dtc__max_depth=7, dtc__random_state=12345; total time=   7.9s\n",
      "[CV 2/3; 7/24] START dtc__class_weight=balanced, dtc__max_depth=7, dtc__random_state=12345\n",
      "[CV 2/3; 7/24] END dtc__class_weight=balanced, dtc__max_depth=7, dtc__random_state=12345; total time=   8.0s\n",
      "[CV 3/3; 7/24] START dtc__class_weight=balanced, dtc__max_depth=7, dtc__random_state=12345\n",
      "[CV 3/3; 7/24] END dtc__class_weight=balanced, dtc__max_depth=7, dtc__random_state=12345; total time=   8.1s\n",
      "[CV 1/3; 8/24] START dtc__class_weight=balanced, dtc__max_depth=8, dtc__random_state=12345\n",
      "[CV 1/3; 8/24] END dtc__class_weight=balanced, dtc__max_depth=8, dtc__random_state=12345; total time=   8.3s\n",
      "[CV 2/3; 8/24] START dtc__class_weight=balanced, dtc__max_depth=8, dtc__random_state=12345\n",
      "[CV 2/3; 8/24] END dtc__class_weight=balanced, dtc__max_depth=8, dtc__random_state=12345; total time=   8.6s\n",
      "[CV 3/3; 8/24] START dtc__class_weight=balanced, dtc__max_depth=8, dtc__random_state=12345\n",
      "[CV 3/3; 8/24] END dtc__class_weight=balanced, dtc__max_depth=8, dtc__random_state=12345; total time=   9.1s\n",
      "[CV 1/3; 9/24] START dtc__class_weight=balanced, dtc__max_depth=9, dtc__random_state=12345\n",
      "[CV 1/3; 9/24] END dtc__class_weight=balanced, dtc__max_depth=9, dtc__random_state=12345; total time=   9.7s\n",
      "[CV 2/3; 9/24] START dtc__class_weight=balanced, dtc__max_depth=9, dtc__random_state=12345\n",
      "[CV 2/3; 9/24] END dtc__class_weight=balanced, dtc__max_depth=9, dtc__random_state=12345; total time=   8.8s\n",
      "[CV 3/3; 9/24] START dtc__class_weight=balanced, dtc__max_depth=9, dtc__random_state=12345\n",
      "[CV 3/3; 9/24] END dtc__class_weight=balanced, dtc__max_depth=9, dtc__random_state=12345; total time=   9.5s\n",
      "[CV 1/3; 10/24] START dtc__class_weight=balanced, dtc__max_depth=10, dtc__random_state=12345\n",
      "[CV 1/3; 10/24] END dtc__class_weight=balanced, dtc__max_depth=10, dtc__random_state=12345; total time=   9.3s\n",
      "[CV 2/3; 10/24] START dtc__class_weight=balanced, dtc__max_depth=10, dtc__random_state=12345\n",
      "[CV 2/3; 10/24] END dtc__class_weight=balanced, dtc__max_depth=10, dtc__random_state=12345; total time=  10.0s\n",
      "[CV 3/3; 10/24] START dtc__class_weight=balanced, dtc__max_depth=10, dtc__random_state=12345\n",
      "[CV 3/3; 10/24] END dtc__class_weight=balanced, dtc__max_depth=10, dtc__random_state=12345; total time=   9.8s\n",
      "[CV 1/3; 11/24] START dtc__class_weight=balanced, dtc__max_depth=11, dtc__random_state=12345\n",
      "[CV 1/3; 11/24] END dtc__class_weight=balanced, dtc__max_depth=11, dtc__random_state=12345; total time=  10.2s\n",
      "[CV 2/3; 11/24] START dtc__class_weight=balanced, dtc__max_depth=11, dtc__random_state=12345\n",
      "[CV 2/3; 11/24] END dtc__class_weight=balanced, dtc__max_depth=11, dtc__random_state=12345; total time=  10.1s\n",
      "[CV 3/3; 11/24] START dtc__class_weight=balanced, dtc__max_depth=11, dtc__random_state=12345\n",
      "[CV 3/3; 11/24] END dtc__class_weight=balanced, dtc__max_depth=11, dtc__random_state=12345; total time=   9.7s\n",
      "[CV 1/3; 12/24] START dtc__class_weight=balanced, dtc__max_depth=12, dtc__random_state=12345\n",
      "[CV 1/3; 12/24] END dtc__class_weight=balanced, dtc__max_depth=12, dtc__random_state=12345; total time=  10.1s\n",
      "[CV 2/3; 12/24] START dtc__class_weight=balanced, dtc__max_depth=12, dtc__random_state=12345\n",
      "[CV 2/3; 12/24] END dtc__class_weight=balanced, dtc__max_depth=12, dtc__random_state=12345; total time=  10.8s\n",
      "[CV 3/3; 12/24] START dtc__class_weight=balanced, dtc__max_depth=12, dtc__random_state=12345\n",
      "[CV 3/3; 12/24] END dtc__class_weight=balanced, dtc__max_depth=12, dtc__random_state=12345; total time=  10.8s\n",
      "[CV 1/3; 13/24] START dtc__class_weight=balanced, dtc__max_depth=13, dtc__random_state=12345\n",
      "[CV 1/3; 13/24] END dtc__class_weight=balanced, dtc__max_depth=13, dtc__random_state=12345; total time=  10.6s\n",
      "[CV 2/3; 13/24] START dtc__class_weight=balanced, dtc__max_depth=13, dtc__random_state=12345\n",
      "[CV 2/3; 13/24] END dtc__class_weight=balanced, dtc__max_depth=13, dtc__random_state=12345; total time=  11.0s\n",
      "[CV 3/3; 13/24] START dtc__class_weight=balanced, dtc__max_depth=13, dtc__random_state=12345\n",
      "[CV 3/3; 13/24] END dtc__class_weight=balanced, dtc__max_depth=13, dtc__random_state=12345; total time=  11.0s\n",
      "[CV 1/3; 14/24] START dtc__class_weight=balanced, dtc__max_depth=14, dtc__random_state=12345\n",
      "[CV 1/3; 14/24] END dtc__class_weight=balanced, dtc__max_depth=14, dtc__random_state=12345; total time=  11.1s\n",
      "[CV 2/3; 14/24] START dtc__class_weight=balanced, dtc__max_depth=14, dtc__random_state=12345\n",
      "[CV 2/3; 14/24] END dtc__class_weight=balanced, dtc__max_depth=14, dtc__random_state=12345; total time=  12.0s\n",
      "[CV 3/3; 14/24] START dtc__class_weight=balanced, dtc__max_depth=14, dtc__random_state=12345\n",
      "[CV 3/3; 14/24] END dtc__class_weight=balanced, dtc__max_depth=14, dtc__random_state=12345; total time=  11.5s\n",
      "[CV 1/3; 15/24] START dtc__class_weight=balanced, dtc__max_depth=15, dtc__random_state=12345\n",
      "[CV 1/3; 15/24] END dtc__class_weight=balanced, dtc__max_depth=15, dtc__random_state=12345; total time=  11.6s\n",
      "[CV 2/3; 15/24] START dtc__class_weight=balanced, dtc__max_depth=15, dtc__random_state=12345\n",
      "[CV 2/3; 15/24] END dtc__class_weight=balanced, dtc__max_depth=15, dtc__random_state=12345; total time=  11.9s\n",
      "[CV 3/3; 15/24] START dtc__class_weight=balanced, dtc__max_depth=15, dtc__random_state=12345\n",
      "[CV 3/3; 15/24] END dtc__class_weight=balanced, dtc__max_depth=15, dtc__random_state=12345; total time=  12.1s\n",
      "[CV 1/3; 16/24] START dtc__class_weight=balanced, dtc__max_depth=16, dtc__random_state=12345\n",
      "[CV 1/3; 16/24] END dtc__class_weight=balanced, dtc__max_depth=16, dtc__random_state=12345; total time=  12.6s\n",
      "[CV 2/3; 16/24] START dtc__class_weight=balanced, dtc__max_depth=16, dtc__random_state=12345\n",
      "[CV 2/3; 16/24] END dtc__class_weight=balanced, dtc__max_depth=16, dtc__random_state=12345; total time=  12.8s\n",
      "[CV 3/3; 16/24] START dtc__class_weight=balanced, dtc__max_depth=16, dtc__random_state=12345\n",
      "[CV 3/3; 16/24] END dtc__class_weight=balanced, dtc__max_depth=16, dtc__random_state=12345; total time=  12.7s\n",
      "[CV 1/3; 17/24] START dtc__class_weight=balanced, dtc__max_depth=17, dtc__random_state=12345\n",
      "[CV 1/3; 17/24] END dtc__class_weight=balanced, dtc__max_depth=17, dtc__random_state=12345; total time=  13.1s\n",
      "[CV 2/3; 17/24] START dtc__class_weight=balanced, dtc__max_depth=17, dtc__random_state=12345\n",
      "[CV 2/3; 17/24] END dtc__class_weight=balanced, dtc__max_depth=17, dtc__random_state=12345; total time=  13.4s\n",
      "[CV 3/3; 17/24] START dtc__class_weight=balanced, dtc__max_depth=17, dtc__random_state=12345\n",
      "[CV 3/3; 17/24] END dtc__class_weight=balanced, dtc__max_depth=17, dtc__random_state=12345; total time=  13.3s\n",
      "[CV 1/3; 18/24] START dtc__class_weight=balanced, dtc__max_depth=18, dtc__random_state=12345\n",
      "[CV 1/3; 18/24] END dtc__class_weight=balanced, dtc__max_depth=18, dtc__random_state=12345; total time=  13.6s\n",
      "[CV 2/3; 18/24] START dtc__class_weight=balanced, dtc__max_depth=18, dtc__random_state=12345\n",
      "[CV 2/3; 18/24] END dtc__class_weight=balanced, dtc__max_depth=18, dtc__random_state=12345; total time=  13.8s\n",
      "[CV 3/3; 18/24] START dtc__class_weight=balanced, dtc__max_depth=18, dtc__random_state=12345\n",
      "[CV 3/3; 18/24] END dtc__class_weight=balanced, dtc__max_depth=18, dtc__random_state=12345; total time=  14.2s\n",
      "[CV 1/3; 19/24] START dtc__class_weight=balanced, dtc__max_depth=19, dtc__random_state=12345\n",
      "[CV 1/3; 19/24] END dtc__class_weight=balanced, dtc__max_depth=19, dtc__random_state=12345; total time=  14.9s\n",
      "[CV 2/3; 19/24] START dtc__class_weight=balanced, dtc__max_depth=19, dtc__random_state=12345\n",
      "[CV 2/3; 19/24] END dtc__class_weight=balanced, dtc__max_depth=19, dtc__random_state=12345; total time=  14.9s\n",
      "[CV 3/3; 19/24] START dtc__class_weight=balanced, dtc__max_depth=19, dtc__random_state=12345\n",
      "[CV 3/3; 19/24] END dtc__class_weight=balanced, dtc__max_depth=19, dtc__random_state=12345; total time=  14.7s\n",
      "[CV 1/3; 20/24] START dtc__class_weight=balanced, dtc__max_depth=20, dtc__random_state=12345\n",
      "[CV 1/3; 20/24] END dtc__class_weight=balanced, dtc__max_depth=20, dtc__random_state=12345; total time=  15.3s\n",
      "[CV 2/3; 20/24] START dtc__class_weight=balanced, dtc__max_depth=20, dtc__random_state=12345\n",
      "[CV 2/3; 20/24] END dtc__class_weight=balanced, dtc__max_depth=20, dtc__random_state=12345; total time=  16.1s\n",
      "[CV 3/3; 20/24] START dtc__class_weight=balanced, dtc__max_depth=20, dtc__random_state=12345\n",
      "[CV 3/3; 20/24] END dtc__class_weight=balanced, dtc__max_depth=20, dtc__random_state=12345; total time=  15.5s\n",
      "[CV 1/3; 21/24] START dtc__class_weight=balanced, dtc__max_depth=21, dtc__random_state=12345\n",
      "[CV 1/3; 21/24] END dtc__class_weight=balanced, dtc__max_depth=21, dtc__random_state=12345; total time=  15.5s\n",
      "[CV 2/3; 21/24] START dtc__class_weight=balanced, dtc__max_depth=21, dtc__random_state=12345\n",
      "[CV 2/3; 21/24] END dtc__class_weight=balanced, dtc__max_depth=21, dtc__random_state=12345; total time=  16.4s\n",
      "[CV 3/3; 21/24] START dtc__class_weight=balanced, dtc__max_depth=21, dtc__random_state=12345\n",
      "[CV 3/3; 21/24] END dtc__class_weight=balanced, dtc__max_depth=21, dtc__random_state=12345; total time=  15.7s\n",
      "[CV 1/3; 22/24] START dtc__class_weight=balanced, dtc__max_depth=22, dtc__random_state=12345\n",
      "[CV 1/3; 22/24] END dtc__class_weight=balanced, dtc__max_depth=22, dtc__random_state=12345; total time=  15.3s\n",
      "[CV 2/3; 22/24] START dtc__class_weight=balanced, dtc__max_depth=22, dtc__random_state=12345\n",
      "[CV 2/3; 22/24] END dtc__class_weight=balanced, dtc__max_depth=22, dtc__random_state=12345; total time=  16.0s\n",
      "[CV 3/3; 22/24] START dtc__class_weight=balanced, dtc__max_depth=22, dtc__random_state=12345\n",
      "[CV 3/3; 22/24] END dtc__class_weight=balanced, dtc__max_depth=22, dtc__random_state=12345; total time=  15.9s\n",
      "[CV 1/3; 23/24] START dtc__class_weight=balanced, dtc__max_depth=23, dtc__random_state=12345\n",
      "[CV 1/3; 23/24] END dtc__class_weight=balanced, dtc__max_depth=23, dtc__random_state=12345; total time=  15.9s\n",
      "[CV 2/3; 23/24] START dtc__class_weight=balanced, dtc__max_depth=23, dtc__random_state=12345\n",
      "[CV 2/3; 23/24] END dtc__class_weight=balanced, dtc__max_depth=23, dtc__random_state=12345; total time=  15.9s\n",
      "[CV 3/3; 23/24] START dtc__class_weight=balanced, dtc__max_depth=23, dtc__random_state=12345\n",
      "[CV 3/3; 23/24] END dtc__class_weight=balanced, dtc__max_depth=23, dtc__random_state=12345; total time=  16.6s\n",
      "[CV 1/3; 24/24] START dtc__class_weight=balanced, dtc__max_depth=24, dtc__random_state=12345\n",
      "[CV 1/3; 24/24] END dtc__class_weight=balanced, dtc__max_depth=24, dtc__random_state=12345; total time=  16.2s\n",
      "[CV 2/3; 24/24] START dtc__class_weight=balanced, dtc__max_depth=24, dtc__random_state=12345\n",
      "[CV 2/3; 24/24] END dtc__class_weight=balanced, dtc__max_depth=24, dtc__random_state=12345; total time=  17.4s\n",
      "[CV 3/3; 24/24] START dtc__class_weight=balanced, dtc__max_depth=24, dtc__random_state=12345\n",
      "[CV 3/3; 24/24] END dtc__class_weight=balanced, dtc__max_depth=24, dtc__random_state=12345; total time=  16.7s\n",
      "Показатель F1 для дерева решений равен 0.64 при параметрах {'dtc__class_weight': 'balanced', 'dtc__max_depth': 24, 'dtc__random_state': 12345}\n",
      "CPU times: user 13min 43s, sys: 7.09 s, total: 13min 50s\n",
      "Wall time: 13min 51s\n"
     ]
    }
   ],
   "source": [
    "%%time\n",
    "\n",
    "pipeline_dtc = Pipeline([(\"vect\", TfidfVectorizer(stop_words = 'english')), \n",
    "                         (\"dtc\", DecisionTreeClassifier())])\n",
    "    \n",
    "parameters_dtc = {'dtc__max_depth': ([x for x in range(1, 25)]),\n",
    "                  'dtc__random_state': ([12345]), \n",
    "                  'dtc__class_weight': (['balanced'])}\n",
    "\n",
    "gscv_dtc = GridSearchCV(pipeline_dtc, parameters_dtc, scoring = 'f1', cv = 3, n_jobs = -1, verbose = 10)\n",
    "\n",
    "gscv_dtc.fit(features_train['text'], target_train)\n",
    "\n",
    "mts = gscv_dtc.cv_results_['mean_test_score']\n",
    "dtc_train_f1 = max(mts)\n",
    "\n",
    "print('Показатель F1 для дерева решений равен', round(dtc_train_f1, 2), 'при параметрах', gscv_dtc.best_params_)"
   ]
  },
  {
   "cell_type": "markdown",
   "metadata": {},
   "source": [
    "Было обучено три модели - логистическая регрессия, случайный лес и дерево решений. Лучше всего себя показала модель логистической регрессии, показатель F1 для этой модели по результатам кросс-валидации равен 0.76."
   ]
  },
  {
   "cell_type": "markdown",
   "metadata": {},
   "source": [
    "### Проверка лучшей модели на тестовой выборке"
   ]
  },
  {
   "cell_type": "code",
   "execution_count": 23,
   "metadata": {},
   "outputs": [
    {
     "name": "stdout",
     "output_type": "stream",
     "text": [
      "Финальный F1 для логистической регрессии равен 0.76\n"
     ]
    }
   ],
   "source": [
    "predictions_test = gscv_lr.predict(features_test['text'])\n",
    "lr_test_f1 = f1_score(target_test, predictions_test)\n",
    "print('Финальный F1 для логистической регрессии равен', round(lr_test_f1, 2))"
   ]
  },
  {
   "cell_type": "markdown",
   "metadata": {},
   "source": [
    "Данная модель имеет метрику качества F1 не меньше 0.75, всё хорошо."
   ]
  },
  {
   "cell_type": "markdown",
   "metadata": {},
   "source": [
    "## Выводы"
   ]
  },
  {
   "cell_type": "markdown",
   "metadata": {},
   "source": [
    "* были загружены и подготовлены данные\n",
    "* были обучены модели\n",
    "* была выбрана наилучшая модель с метрикой F1 больше 0.75 - логистическая регрессия"
   ]
  },
  {
   "cell_type": "markdown",
   "metadata": {},
   "source": [
    "## Чек-лист проверки"
   ]
  },
  {
   "cell_type": "markdown",
   "metadata": {},
   "source": [
    "- [x]  Jupyter Notebook открыт\n",
    "- [x]  Весь код выполняется без ошибок\n",
    "- [x]  Ячейки с кодом расположены в порядке исполнения\n",
    "- [x]  Данные загружены и подготовлены\n",
    "- [x]  Модели обучены\n",
    "- [x]  Значение метрики *F1* не меньше 0.75\n",
    "- [x]  Выводы написаны"
   ]
  }
 ],
 "metadata": {
  "ExecuteTimeLog": [
   {
    "duration": 398,
    "start_time": "2023-02-25T17:49:36.749Z"
   },
   {
    "duration": 8,
    "start_time": "2023-02-25T17:49:38.552Z"
   },
   {
    "duration": 107,
    "start_time": "2023-02-25T17:49:38.848Z"
   },
   {
    "duration": 6214,
    "start_time": "2023-02-25T17:49:40.749Z"
   },
   {
    "duration": 0,
    "start_time": "2023-02-25T17:49:46.974Z"
   },
   {
    "duration": 0,
    "start_time": "2023-02-25T17:49:47.062Z"
   },
   {
    "duration": 0,
    "start_time": "2023-02-25T17:49:47.068Z"
   },
   {
    "duration": 3604,
    "start_time": "2023-02-25T17:49:52.748Z"
   },
   {
    "duration": 17494,
    "start_time": "2023-02-25T17:49:56.358Z"
   },
   {
    "duration": 209,
    "start_time": "2023-02-25T17:50:13.857Z"
   },
   {
    "duration": 182,
    "start_time": "2023-02-25T17:50:14.071Z"
   },
   {
    "duration": 107,
    "start_time": "2023-02-25T17:51:18.550Z"
   },
   {
    "duration": 299,
    "start_time": "2023-02-25T17:59:20.654Z"
   },
   {
    "duration": 103,
    "start_time": "2023-02-25T17:59:28.054Z"
   },
   {
    "duration": 4,
    "start_time": "2023-02-25T18:01:29.468Z"
   },
   {
    "duration": 30321,
    "start_time": "2023-02-25T18:01:30.148Z"
   },
   {
    "duration": 89,
    "start_time": "2023-02-25T18:02:00.471Z"
   },
   {
    "duration": 15,
    "start_time": "2023-02-25T18:11:21.460Z"
   },
   {
    "duration": 5,
    "start_time": "2023-02-25T18:11:52.684Z"
   },
   {
    "duration": 7,
    "start_time": "2023-02-25T18:12:07.354Z"
   },
   {
    "duration": 308,
    "start_time": "2023-02-25T18:15:19.577Z"
   },
   {
    "duration": 7,
    "start_time": "2023-02-25T18:15:20.180Z"
   },
   {
    "duration": 5,
    "start_time": "2023-02-25T18:16:06.929Z"
   },
   {
    "duration": 339,
    "start_time": "2023-02-25T18:16:12.267Z"
   },
   {
    "duration": 475,
    "start_time": "2023-02-25T18:16:59.898Z"
   },
   {
    "duration": 1183244,
    "start_time": "2023-02-25T18:17:03.077Z"
   },
   {
    "duration": 6,
    "start_time": "2023-02-25T18:36:46.323Z"
   },
   {
    "duration": 40,
    "start_time": "2023-02-25T18:36:46.330Z"
   },
   {
    "duration": 0,
    "start_time": "2023-02-25T18:36:46.372Z"
   },
   {
    "duration": 0,
    "start_time": "2023-02-25T18:36:46.373Z"
   },
   {
    "duration": 0,
    "start_time": "2023-02-25T18:36:46.375Z"
   },
   {
    "duration": 40,
    "start_time": "2023-02-25T18:46:20.878Z"
   },
   {
    "duration": 5,
    "start_time": "2023-02-25T18:46:22.881Z"
   },
   {
    "duration": 40,
    "start_time": "2023-02-25T18:46:26.129Z"
   },
   {
    "duration": 14,
    "start_time": "2023-02-25T18:46:32.902Z"
   },
   {
    "duration": 49,
    "start_time": "2023-02-25T18:46:52.930Z"
   },
   {
    "duration": 20215,
    "start_time": "2023-02-25T18:48:41.990Z"
   },
   {
    "duration": 293431,
    "start_time": "2023-02-25T18:49:05.286Z"
   },
   {
    "duration": 981,
    "start_time": "2023-02-25T19:20:47.603Z"
   },
   {
    "duration": 545615,
    "start_time": "2023-02-25T19:22:03.283Z"
   },
   {
    "duration": 1026,
    "start_time": "2023-02-25T19:32:21.141Z"
   },
   {
    "duration": 1186738,
    "start_time": "2023-02-25T19:33:05.633Z"
   },
   {
    "duration": 1116,
    "start_time": "2023-02-25T19:52:52.377Z"
   },
   {
    "duration": 11145,
    "start_time": "2023-02-25T19:53:12.725Z"
   },
   {
    "duration": 26,
    "start_time": "2023-02-25T19:53:23.872Z"
   },
   {
    "duration": 40513,
    "start_time": "2023-02-25T19:53:31.488Z"
   },
   {
    "duration": 24,
    "start_time": "2023-02-25T19:54:12.004Z"
   },
   {
    "duration": 553418,
    "start_time": "2023-02-25T19:54:17.680Z"
   },
   {
    "duration": 1061,
    "start_time": "2023-02-25T20:03:31.100Z"
   },
   {
    "duration": 1143,
    "start_time": "2023-02-25T20:05:57.869Z"
   },
   {
    "duration": 10,
    "start_time": "2023-02-25T20:15:09.415Z"
   },
   {
    "duration": 2040,
    "start_time": "2023-02-25T20:16:00.832Z"
   },
   {
    "duration": 2812,
    "start_time": "2023-02-25T20:16:02.874Z"
   },
   {
    "duration": 33,
    "start_time": "2023-02-25T20:16:05.688Z"
   },
   {
    "duration": 20,
    "start_time": "2023-02-25T20:16:05.722Z"
   },
   {
    "duration": 23,
    "start_time": "2023-02-25T20:16:05.745Z"
   },
   {
    "duration": 32,
    "start_time": "2023-02-25T20:16:05.771Z"
   },
   {
    "duration": 22,
    "start_time": "2023-02-25T20:16:05.805Z"
   },
   {
    "duration": 4258,
    "start_time": "2023-02-25T20:16:05.829Z"
   },
   {
    "duration": 6,
    "start_time": "2023-02-25T20:16:10.089Z"
   },
   {
    "duration": 5,
    "start_time": "2023-02-25T20:16:10.097Z"
   },
   {
    "duration": 13,
    "start_time": "2023-02-25T20:16:10.104Z"
   },
   {
    "duration": 1598,
    "start_time": "2023-02-25T20:23:03.917Z"
   },
   {
    "duration": 877,
    "start_time": "2023-02-25T20:23:05.517Z"
   },
   {
    "duration": 25,
    "start_time": "2023-02-25T20:23:06.395Z"
   },
   {
    "duration": 44,
    "start_time": "2023-02-25T20:23:06.422Z"
   },
   {
    "duration": 9,
    "start_time": "2023-02-25T20:23:06.468Z"
   },
   {
    "duration": 15,
    "start_time": "2023-02-25T20:23:06.479Z"
   },
   {
    "duration": 5,
    "start_time": "2023-02-25T20:23:06.495Z"
   },
   {
    "duration": 4307,
    "start_time": "2023-02-25T20:23:06.502Z"
   },
   {
    "duration": 6,
    "start_time": "2023-02-25T20:23:10.811Z"
   },
   {
    "duration": 7,
    "start_time": "2023-02-25T20:23:10.819Z"
   },
   {
    "duration": 34,
    "start_time": "2023-02-25T20:23:10.828Z"
   },
   {
    "duration": 1099704,
    "start_time": "2023-02-25T20:23:10.864Z"
   },
   {
    "duration": 7,
    "start_time": "2023-02-25T20:41:30.570Z"
   },
   {
    "duration": 52,
    "start_time": "2023-02-25T20:41:30.579Z"
   },
   {
    "duration": 6,
    "start_time": "2023-02-25T20:41:30.632Z"
   },
   {
    "duration": 62,
    "start_time": "2023-02-25T20:41:30.639Z"
   },
   {
    "duration": 178,
    "start_time": "2023-02-25T20:41:30.702Z"
   },
   {
    "duration": 0,
    "start_time": "2023-02-25T20:41:30.882Z"
   },
   {
    "duration": 0,
    "start_time": "2023-02-25T20:41:30.884Z"
   },
   {
    "duration": 0,
    "start_time": "2023-02-25T20:41:30.885Z"
   },
   {
    "duration": 0,
    "start_time": "2023-02-25T20:41:30.887Z"
   },
   {
    "duration": 0,
    "start_time": "2023-02-25T20:41:30.888Z"
   },
   {
    "duration": 0,
    "start_time": "2023-02-25T20:41:30.890Z"
   },
   {
    "duration": 0,
    "start_time": "2023-02-25T20:41:30.891Z"
   },
   {
    "duration": 6,
    "start_time": "2023-02-25T20:42:15.006Z"
   },
   {
    "duration": 41,
    "start_time": "2023-02-25T20:42:22.187Z"
   },
   {
    "duration": 1125319,
    "start_time": "2023-02-25T20:42:25.249Z"
   },
   {
    "duration": 882,
    "start_time": "2023-02-25T21:01:10.570Z"
   },
   {
    "duration": 872020,
    "start_time": "2023-02-25T21:01:11.456Z"
   },
   {
    "duration": 1024,
    "start_time": "2023-02-25T21:15:43.478Z"
   },
   {
    "duration": 531308,
    "start_time": "2023-02-25T21:15:44.503Z"
   },
   {
    "duration": 1119,
    "start_time": "2023-02-25T21:24:35.813Z"
   },
   {
    "duration": 1006,
    "start_time": "2023-02-25T21:24:36.934Z"
   },
   {
    "duration": 1841,
    "start_time": "2023-02-26T14:57:57.402Z"
   },
   {
    "duration": 3620,
    "start_time": "2023-02-26T14:57:59.244Z"
   },
   {
    "duration": 39,
    "start_time": "2023-02-26T14:58:02.867Z"
   },
   {
    "duration": 29,
    "start_time": "2023-02-26T14:58:02.909Z"
   },
   {
    "duration": 10,
    "start_time": "2023-02-26T14:58:02.941Z"
   },
   {
    "duration": 139,
    "start_time": "2023-02-26T14:59:31.602Z"
   },
   {
    "duration": 21,
    "start_time": "2023-02-26T14:59:35.475Z"
   },
   {
    "duration": 3,
    "start_time": "2023-02-26T14:59:40.215Z"
   },
   {
    "duration": 1760,
    "start_time": "2023-02-26T16:20:31.927Z"
   },
   {
    "duration": 837,
    "start_time": "2023-02-26T16:20:33.688Z"
   },
   {
    "duration": 33,
    "start_time": "2023-02-26T16:20:34.526Z"
   },
   {
    "duration": 14,
    "start_time": "2023-02-26T16:20:34.562Z"
   },
   {
    "duration": 8,
    "start_time": "2023-02-26T16:20:34.577Z"
   },
   {
    "duration": 8,
    "start_time": "2023-02-26T16:20:34.586Z"
   },
   {
    "duration": 3,
    "start_time": "2023-02-26T16:20:34.595Z"
   },
   {
    "duration": 55,
    "start_time": "2023-02-26T16:20:34.599Z"
   },
   {
    "duration": 5,
    "start_time": "2023-02-26T16:20:34.656Z"
   },
   {
    "duration": 3826,
    "start_time": "2023-02-26T16:20:34.663Z"
   },
   {
    "duration": 7,
    "start_time": "2023-02-26T16:20:38.490Z"
   },
   {
    "duration": 8,
    "start_time": "2023-02-26T16:20:38.498Z"
   },
   {
    "duration": 473,
    "start_time": "2023-02-26T16:20:38.507Z"
   },
   {
    "duration": 1185180,
    "start_time": "2023-02-26T16:20:38.982Z"
   },
   {
    "duration": 7,
    "start_time": "2023-02-26T16:40:24.163Z"
   },
   {
    "duration": 33,
    "start_time": "2023-02-26T16:40:24.171Z"
   },
   {
    "duration": 3,
    "start_time": "2023-02-26T16:40:24.206Z"
   },
   {
    "duration": 65,
    "start_time": "2023-02-26T16:40:24.211Z"
   },
   {
    "duration": 76,
    "start_time": "2023-02-26T16:40:24.278Z"
   },
   {
    "duration": 441946,
    "start_time": "2023-02-26T16:40:24.355Z"
   },
   {
    "duration": 33,
    "start_time": "2023-02-26T16:47:46.303Z"
   },
   {
    "duration": 0,
    "start_time": "2023-02-26T16:47:46.338Z"
   },
   {
    "duration": 0,
    "start_time": "2023-02-26T16:47:46.340Z"
   },
   {
    "duration": 0,
    "start_time": "2023-02-26T16:47:46.341Z"
   },
   {
    "duration": 0,
    "start_time": "2023-02-26T16:47:46.342Z"
   },
   {
    "duration": 0,
    "start_time": "2023-02-26T16:47:46.342Z"
   },
   {
    "duration": 558038,
    "start_time": "2023-02-26T16:48:33.030Z"
   },
   {
    "duration": 32,
    "start_time": "2023-02-26T16:59:03.511Z"
   },
   {
    "duration": 3,
    "start_time": "2023-02-26T16:59:05.024Z"
   },
   {
    "duration": 25315,
    "start_time": "2023-02-26T16:59:17.085Z"
   },
   {
    "duration": 36,
    "start_time": "2023-02-26T16:59:46.439Z"
   },
   {
    "duration": 4,
    "start_time": "2023-02-26T16:59:48.815Z"
   },
   {
    "duration": 37,
    "start_time": "2023-02-26T16:59:57.304Z"
   },
   {
    "duration": 4,
    "start_time": "2023-02-26T16:59:58.231Z"
   },
   {
    "duration": 46,
    "start_time": "2023-02-26T17:00:13.916Z"
   },
   {
    "duration": 5,
    "start_time": "2023-02-26T17:00:16.591Z"
   },
   {
    "duration": 16269,
    "start_time": "2023-02-26T17:04:21.455Z"
   },
   {
    "duration": 284,
    "start_time": "2023-02-26T17:04:37.726Z"
   },
   {
    "duration": 44,
    "start_time": "2023-02-26T17:10:39.263Z"
   },
   {
    "duration": 4,
    "start_time": "2023-02-26T17:10:41.455Z"
   },
   {
    "duration": 34,
    "start_time": "2023-02-26T17:10:53.199Z"
   },
   {
    "duration": 3,
    "start_time": "2023-02-26T17:10:55.647Z"
   },
   {
    "duration": 12362,
    "start_time": "2023-02-26T17:11:02.556Z"
   },
   {
    "duration": 12104,
    "start_time": "2023-02-26T17:11:39.755Z"
   },
   {
    "duration": 46,
    "start_time": "2023-02-26T17:13:37.196Z"
   },
   {
    "duration": 6984,
    "start_time": "2023-02-26T17:13:57.368Z"
   },
   {
    "duration": 7205,
    "start_time": "2023-02-26T17:14:15.440Z"
   },
   {
    "duration": 42,
    "start_time": "2023-02-26T17:14:55.740Z"
   },
   {
    "duration": 45,
    "start_time": "2023-02-26T17:15:36.772Z"
   },
   {
    "duration": 5,
    "start_time": "2023-02-26T17:15:50.757Z"
   },
   {
    "duration": 10902,
    "start_time": "2023-02-26T17:15:54.832Z"
   },
   {
    "duration": 4060,
    "start_time": "2023-02-26T17:16:30.056Z"
   },
   {
    "duration": 12073,
    "start_time": "2023-02-26T17:16:42.172Z"
   },
   {
    "duration": 13474,
    "start_time": "2023-02-26T17:20:27.069Z"
   },
   {
    "duration": 38,
    "start_time": "2023-02-26T17:21:39.577Z"
   },
   {
    "duration": 1341865,
    "start_time": "2023-02-26T17:21:51.827Z"
   },
   {
    "duration": 1020,
    "start_time": "2023-02-26T17:47:39.551Z"
   },
   {
    "duration": 26933,
    "start_time": "2023-02-26T17:47:57.056Z"
   },
   {
    "duration": 200,
    "start_time": "2023-02-26T17:49:07.988Z"
   },
   {
    "duration": 231218,
    "start_time": "2023-02-26T17:49:15.816Z"
   },
   {
    "duration": 111,
    "start_time": "2023-02-26T17:56:02.193Z"
   },
   {
    "duration": 171,
    "start_time": "2023-02-26T17:56:32.289Z"
   },
   {
    "duration": 86,
    "start_time": "2023-02-26T17:56:41.729Z"
   },
   {
    "duration": 638214,
    "start_time": "2023-02-26T17:57:51.453Z"
   },
   {
    "duration": 1003,
    "start_time": "2023-02-26T18:08:29.669Z"
   },
   {
    "duration": 1554,
    "start_time": "2023-02-26T18:19:37.603Z"
   },
   {
    "duration": 777,
    "start_time": "2023-02-26T18:19:39.159Z"
   },
   {
    "duration": 30,
    "start_time": "2023-02-26T18:19:39.949Z"
   },
   {
    "duration": 13,
    "start_time": "2023-02-26T18:19:39.981Z"
   },
   {
    "duration": 6,
    "start_time": "2023-02-26T18:19:39.996Z"
   },
   {
    "duration": 8,
    "start_time": "2023-02-26T18:19:40.003Z"
   },
   {
    "duration": 4,
    "start_time": "2023-02-26T18:19:40.012Z"
   },
   {
    "duration": 31,
    "start_time": "2023-02-26T18:19:40.017Z"
   },
   {
    "duration": 3,
    "start_time": "2023-02-26T18:19:40.050Z"
   },
   {
    "duration": 3892,
    "start_time": "2023-02-26T18:19:40.055Z"
   },
   {
    "duration": 7,
    "start_time": "2023-02-26T18:19:43.949Z"
   },
   {
    "duration": 7,
    "start_time": "2023-02-26T18:19:43.957Z"
   },
   {
    "duration": 12,
    "start_time": "2023-02-26T18:19:43.965Z"
   },
   {
    "duration": 1138310,
    "start_time": "2023-02-26T18:19:43.979Z"
   },
   {
    "duration": 7,
    "start_time": "2023-02-26T18:38:42.290Z"
   },
   {
    "duration": 52,
    "start_time": "2023-02-26T18:38:42.299Z"
   },
   {
    "duration": 157,
    "start_time": "2023-02-26T18:38:42.354Z"
   },
   {
    "duration": 0,
    "start_time": "2023-02-26T18:38:42.513Z"
   },
   {
    "duration": 0,
    "start_time": "2023-02-26T18:38:42.514Z"
   },
   {
    "duration": 0,
    "start_time": "2023-02-26T18:38:42.516Z"
   },
   {
    "duration": 0,
    "start_time": "2023-02-26T18:38:42.517Z"
   },
   {
    "duration": 0,
    "start_time": "2023-02-26T18:38:42.519Z"
   },
   {
    "duration": 4,
    "start_time": "2023-02-26T18:42:26.376Z"
   },
   {
    "duration": 38,
    "start_time": "2023-02-26T18:42:30.189Z"
   },
   {
    "duration": 1336542,
    "start_time": "2023-02-26T18:42:35.465Z"
   },
   {
    "duration": 1660081,
    "start_time": "2023-02-26T19:04:52.010Z"
   },
   {
    "duration": 831473,
    "start_time": "2023-02-26T19:32:32.093Z"
   },
   {
    "duration": 603,
    "start_time": "2023-02-26T19:46:23.568Z"
   }
  ],
  "kernelspec": {
   "display_name": "Python 3",
   "language": "python",
   "name": "python3"
  },
  "language_info": {
   "codemirror_mode": {
    "name": "ipython",
    "version": 3
   },
   "file_extension": ".py",
   "mimetype": "text/x-python",
   "name": "python",
   "nbconvert_exporter": "python",
   "pygments_lexer": "ipython3",
   "version": "3.7.4"
  },
  "toc": {
   "base_numbering": 1,
   "nav_menu": {},
   "number_sections": true,
   "sideBar": true,
   "skip_h1_title": true,
   "title_cell": "Содержание",
   "title_sidebar": "Contents",
   "toc_cell": true,
   "toc_position": {
    "height": "calc(100% - 180px)",
    "left": "10px",
    "top": "150px",
    "width": "302.391px"
   },
   "toc_section_display": true,
   "toc_window_display": false
  }
 },
 "nbformat": 4,
 "nbformat_minor": 2
}
