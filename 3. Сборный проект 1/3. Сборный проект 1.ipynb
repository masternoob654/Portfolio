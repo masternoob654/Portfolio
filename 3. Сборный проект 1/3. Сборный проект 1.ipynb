{
 "cells": [
  {
   "cell_type": "markdown",
   "metadata": {},
   "source": [
    "# Описание сборного проекта 1"
   ]
  },
  {
   "cell_type": "markdown",
   "metadata": {},
   "source": [
    "Вы работаете в интернет-магазине «Стримчик», который продаёт по всему миру компьютерные игры. Из открытых источников доступны исторические данные о продажах игр, оценки пользователей и экспертов, жанры и платформы (например, Xbox или PlayStation). Вам нужно выявить определяющие успешность игры закономерности. Это позволит сделать ставку на потенциально популярный продукт и спланировать рекламные кампании.\n",
    "\n",
    "Перед вами данные до 2016 года. Представим, что сейчас декабрь 2016 г., и вы планируете кампанию на 2017-й. Нужно отработать принцип работы с данными. Неважно, прогнозируете ли вы продажи на 2017 год по данным 2016-го или же 2027-й — по данным 2026 года.\n",
    "\n",
    "В наборе данных попадается аббревиатура ESRB (Entertainment Software Rating Board) — это ассоциация, определяющая возрастной рейтинг компьютерных игр. ESRB оценивает игровой контент и присваивает ему подходящую возрастную категорию, например, «Для взрослых», «Для детей младшего возраста» или «Для подростков»."
   ]
  },
  {
   "cell_type": "markdown",
   "metadata": {},
   "source": [
    "**Цель исследования** — нужно выявить определяющие успешность игры закономерности. \n",
    "\n",
    "**Ход исследования**\n",
    "\n",
    "Данные об играх получены из файла `games.csv`. О качестве данных ничего не известно, поэтому перед анализом понадобится обзор данных. \n",
    " \n",
    "Таким образом, исследование пройдёт в пять этапов:\n",
    " 1. Обзор данных.\n",
    " 2. Предобработка данных.\n",
    " 3. Исследовательский анализ.\n",
    " 4. Категоризация пользователей по регионам.\n",
    " 5. Проверка гипотез"
   ]
  },
  {
   "cell_type": "markdown",
   "metadata": {},
   "source": [
    "## 1 Обзор данных"
   ]
  },
  {
   "cell_type": "code",
   "execution_count": 1,
   "metadata": {},
   "outputs": [],
   "source": [
    "import pandas as pd\n",
    "import numpy as np\n",
    "import matplotlib.pyplot as plt\n",
    "import seaborn as sns\n",
    "\n",
    "from datetime import datetime as dt\n",
    "from scipy import stats as st\n",
    "\n",
    "# подгружаем необходимые библиотеки и модули"
   ]
  },
  {
   "cell_type": "code",
   "execution_count": 2,
   "metadata": {},
   "outputs": [],
   "source": [
    "data = pd.read_csv('/datasets/games.csv') # открываем файл"
   ]
  },
  {
   "cell_type": "code",
   "execution_count": 3,
   "metadata": {},
   "outputs": [
    {
     "data": {
      "text/html": [
       "<div>\n",
       "<style scoped>\n",
       "    .dataframe tbody tr th:only-of-type {\n",
       "        vertical-align: middle;\n",
       "    }\n",
       "\n",
       "    .dataframe tbody tr th {\n",
       "        vertical-align: top;\n",
       "    }\n",
       "\n",
       "    .dataframe thead th {\n",
       "        text-align: right;\n",
       "    }\n",
       "</style>\n",
       "<table border=\"1\" class=\"dataframe\">\n",
       "  <thead>\n",
       "    <tr style=\"text-align: right;\">\n",
       "      <th></th>\n",
       "      <th>Name</th>\n",
       "      <th>Platform</th>\n",
       "      <th>Year_of_Release</th>\n",
       "      <th>Genre</th>\n",
       "      <th>NA_sales</th>\n",
       "      <th>EU_sales</th>\n",
       "      <th>JP_sales</th>\n",
       "      <th>Other_sales</th>\n",
       "      <th>Critic_Score</th>\n",
       "      <th>User_Score</th>\n",
       "      <th>Rating</th>\n",
       "    </tr>\n",
       "  </thead>\n",
       "  <tbody>\n",
       "    <tr>\n",
       "      <th>0</th>\n",
       "      <td>Wii Sports</td>\n",
       "      <td>Wii</td>\n",
       "      <td>2006.0</td>\n",
       "      <td>Sports</td>\n",
       "      <td>41.36</td>\n",
       "      <td>28.96</td>\n",
       "      <td>3.77</td>\n",
       "      <td>8.45</td>\n",
       "      <td>76.0</td>\n",
       "      <td>8</td>\n",
       "      <td>E</td>\n",
       "    </tr>\n",
       "    <tr>\n",
       "      <th>1</th>\n",
       "      <td>Super Mario Bros.</td>\n",
       "      <td>NES</td>\n",
       "      <td>1985.0</td>\n",
       "      <td>Platform</td>\n",
       "      <td>29.08</td>\n",
       "      <td>3.58</td>\n",
       "      <td>6.81</td>\n",
       "      <td>0.77</td>\n",
       "      <td>NaN</td>\n",
       "      <td>NaN</td>\n",
       "      <td>NaN</td>\n",
       "    </tr>\n",
       "    <tr>\n",
       "      <th>2</th>\n",
       "      <td>Mario Kart Wii</td>\n",
       "      <td>Wii</td>\n",
       "      <td>2008.0</td>\n",
       "      <td>Racing</td>\n",
       "      <td>15.68</td>\n",
       "      <td>12.76</td>\n",
       "      <td>3.79</td>\n",
       "      <td>3.29</td>\n",
       "      <td>82.0</td>\n",
       "      <td>8.3</td>\n",
       "      <td>E</td>\n",
       "    </tr>\n",
       "    <tr>\n",
       "      <th>3</th>\n",
       "      <td>Wii Sports Resort</td>\n",
       "      <td>Wii</td>\n",
       "      <td>2009.0</td>\n",
       "      <td>Sports</td>\n",
       "      <td>15.61</td>\n",
       "      <td>10.93</td>\n",
       "      <td>3.28</td>\n",
       "      <td>2.95</td>\n",
       "      <td>80.0</td>\n",
       "      <td>8</td>\n",
       "      <td>E</td>\n",
       "    </tr>\n",
       "    <tr>\n",
       "      <th>4</th>\n",
       "      <td>Pokemon Red/Pokemon Blue</td>\n",
       "      <td>GB</td>\n",
       "      <td>1996.0</td>\n",
       "      <td>Role-Playing</td>\n",
       "      <td>11.27</td>\n",
       "      <td>8.89</td>\n",
       "      <td>10.22</td>\n",
       "      <td>1.00</td>\n",
       "      <td>NaN</td>\n",
       "      <td>NaN</td>\n",
       "      <td>NaN</td>\n",
       "    </tr>\n",
       "  </tbody>\n",
       "</table>\n",
       "</div>"
      ],
      "text/plain": [
       "                       Name Platform  Year_of_Release         Genre  NA_sales  \\\n",
       "0                Wii Sports      Wii           2006.0        Sports     41.36   \n",
       "1         Super Mario Bros.      NES           1985.0      Platform     29.08   \n",
       "2            Mario Kart Wii      Wii           2008.0        Racing     15.68   \n",
       "3         Wii Sports Resort      Wii           2009.0        Sports     15.61   \n",
       "4  Pokemon Red/Pokemon Blue       GB           1996.0  Role-Playing     11.27   \n",
       "\n",
       "   EU_sales  JP_sales  Other_sales  Critic_Score User_Score Rating  \n",
       "0     28.96      3.77         8.45          76.0          8      E  \n",
       "1      3.58      6.81         0.77           NaN        NaN    NaN  \n",
       "2     12.76      3.79         3.29          82.0        8.3      E  \n",
       "3     10.93      3.28         2.95          80.0          8      E  \n",
       "4      8.89     10.22         1.00           NaN        NaN    NaN  "
      ]
     },
     "execution_count": 3,
     "metadata": {},
     "output_type": "execute_result"
    }
   ],
   "source": [
    "data.head()"
   ]
  },
  {
   "cell_type": "code",
   "execution_count": 4,
   "metadata": {},
   "outputs": [
    {
     "name": "stdout",
     "output_type": "stream",
     "text": [
      "<class 'pandas.core.frame.DataFrame'>\n",
      "RangeIndex: 16715 entries, 0 to 16714\n",
      "Data columns (total 11 columns):\n",
      " #   Column           Non-Null Count  Dtype  \n",
      "---  ------           --------------  -----  \n",
      " 0   Name             16713 non-null  object \n",
      " 1   Platform         16715 non-null  object \n",
      " 2   Year_of_Release  16446 non-null  float64\n",
      " 3   Genre            16713 non-null  object \n",
      " 4   NA_sales         16715 non-null  float64\n",
      " 5   EU_sales         16715 non-null  float64\n",
      " 6   JP_sales         16715 non-null  float64\n",
      " 7   Other_sales      16715 non-null  float64\n",
      " 8   Critic_Score     8137 non-null   float64\n",
      " 9   User_Score       10014 non-null  object \n",
      " 10  Rating           9949 non-null   object \n",
      "dtypes: float64(6), object(5)\n",
      "memory usage: 1.4+ MB\n"
     ]
    }
   ],
   "source": [
    "data.info()"
   ]
  },
  {
   "cell_type": "markdown",
   "metadata": {},
   "source": [
    "**Вывод:** \n",
    "Данные состоят из 11 столбцов и 16715 строк, но видно что эти данные ещё не обработаны.\n",
    "* нужно переименовать названия столбцов, изменив их на нижний регистр.\n",
    "* обработать пропуски в `name`, `year_of_release`, `genre`, `critic_score`, `user_score`, `rating`.\n",
    "* изменить типы данных в столбцах, если потребуется."
   ]
  },
  {
   "cell_type": "markdown",
   "metadata": {},
   "source": [
    "## 2 Предобработка данных"
   ]
  },
  {
   "cell_type": "markdown",
   "metadata": {},
   "source": [
    "### 2.1 Смена регистра"
   ]
  },
  {
   "cell_type": "markdown",
   "metadata": {},
   "source": [
    "Начнём предобработку со смены регистра в названиях столбцов."
   ]
  },
  {
   "cell_type": "code",
   "execution_count": 5,
   "metadata": {},
   "outputs": [
    {
     "data": {
      "text/plain": [
       "Index(['name', 'platform', 'year_of_release', 'genre', 'na_sales', 'eu_sales',\n",
       "       'jp_sales', 'other_sales', 'critic_score', 'user_score', 'rating'],\n",
       "      dtype='object')"
      ]
     },
     "execution_count": 5,
     "metadata": {},
     "output_type": "execute_result"
    }
   ],
   "source": [
    "data.columns = data.columns.str.lower() # меняем регистр\n",
    "data.columns"
   ]
  },
  {
   "cell_type": "markdown",
   "metadata": {},
   "source": [
    "### 2.2 Обработка пропусков"
   ]
  },
  {
   "cell_type": "markdown",
   "metadata": {},
   "source": [
    "В столбцах успешно сменён регистр. Теперь пора взглянуть на пропуски."
   ]
  },
  {
   "cell_type": "code",
   "execution_count": 6,
   "metadata": {},
   "outputs": [
    {
     "data": {
      "text/plain": [
       "0"
      ]
     },
     "execution_count": 6,
     "metadata": {},
     "output_type": "execute_result"
    }
   ],
   "source": [
    "data.duplicated().sum() # проверяем датасет на предмет явных дубликатов."
   ]
  },
  {
   "cell_type": "code",
   "execution_count": 7,
   "metadata": {
    "scrolled": true
   },
   "outputs": [
    {
     "data": {
      "text/plain": [
       "2"
      ]
     },
     "execution_count": 7,
     "metadata": {},
     "output_type": "execute_result"
    }
   ],
   "source": [
    "data['name'].isna().sum()"
   ]
  },
  {
   "cell_type": "markdown",
   "metadata": {},
   "source": [
    "Данные об этих безымянных играх можно удалить, так как они составляют малую долю от общего количества.b"
   ]
  },
  {
   "cell_type": "code",
   "execution_count": 8,
   "metadata": {},
   "outputs": [
    {
     "name": "stdout",
     "output_type": "stream",
     "text": [
      "<class 'pandas.core.frame.DataFrame'>\n",
      "Int64Index: 16713 entries, 0 to 16714\n",
      "Data columns (total 11 columns):\n",
      " #   Column           Non-Null Count  Dtype  \n",
      "---  ------           --------------  -----  \n",
      " 0   name             16713 non-null  object \n",
      " 1   platform         16713 non-null  object \n",
      " 2   year_of_release  16444 non-null  float64\n",
      " 3   genre            16713 non-null  object \n",
      " 4   na_sales         16713 non-null  float64\n",
      " 5   eu_sales         16713 non-null  float64\n",
      " 6   jp_sales         16713 non-null  float64\n",
      " 7   other_sales      16713 non-null  float64\n",
      " 8   critic_score     8137 non-null   float64\n",
      " 9   user_score       10014 non-null  object \n",
      " 10  rating           9949 non-null   object \n",
      "dtypes: float64(6), object(5)\n",
      "memory usage: 1.5+ MB\n"
     ]
    }
   ],
   "source": [
    "data = data.dropna(subset = ['name'])\n",
    "data.info()"
   ]
  },
  {
   "cell_type": "markdown",
   "metadata": {},
   "source": [
    "Вместе с удалением пропусков в названиях игр исчезло по 2 пропуска из столбцов с годом выхода и жанром игры.\n",
    "Далее рассмотрим остальные столбцы."
   ]
  },
  {
   "cell_type": "code",
   "execution_count": 9,
   "metadata": {},
   "outputs": [
    {
     "data": {
      "text/plain": [
       "array([2006., 1985., 2008., 2009., 1996., 1989., 1984., 2005., 1999.,\n",
       "       2007., 2010., 2013., 2004., 1990., 1988., 2002., 2001., 2011.,\n",
       "       1998., 2015., 2012., 2014., 1992., 1997., 1993., 1994., 1982.,\n",
       "       2016., 2003., 1986., 2000.,   nan, 1995., 1991., 1981., 1987.,\n",
       "       1980., 1983.])"
      ]
     },
     "execution_count": 9,
     "metadata": {},
     "output_type": "execute_result"
    }
   ],
   "source": [
    "data['year_of_release'].unique()"
   ]
  },
  {
   "cell_type": "code",
   "execution_count": 10,
   "metadata": {},
   "outputs": [
    {
     "name": "stdout",
     "output_type": "stream",
     "text": [
      "<class 'pandas.core.frame.DataFrame'>\n",
      "Int64Index: 16444 entries, 0 to 16714\n",
      "Data columns (total 11 columns):\n",
      " #   Column           Non-Null Count  Dtype  \n",
      "---  ------           --------------  -----  \n",
      " 0   name             16444 non-null  object \n",
      " 1   platform         16444 non-null  object \n",
      " 2   year_of_release  16444 non-null  float64\n",
      " 3   genre            16444 non-null  object \n",
      " 4   na_sales         16444 non-null  float64\n",
      " 5   eu_sales         16444 non-null  float64\n",
      " 6   jp_sales         16444 non-null  float64\n",
      " 7   other_sales      16444 non-null  float64\n",
      " 8   critic_score     7983 non-null   float64\n",
      " 9   user_score       9839 non-null   object \n",
      " 10  rating           9768 non-null   object \n",
      "dtypes: float64(6), object(5)\n",
      "memory usage: 1.5+ MB\n"
     ]
    }
   ],
   "source": [
    "data = data.dropna(subset = ['year_of_release'])\n",
    "data.info()"
   ]
  },
  {
   "cell_type": "code",
   "execution_count": 11,
   "metadata": {},
   "outputs": [
    {
     "data": {
      "text/plain": [
       "array([76., nan, 82., 80., 89., 58., 87., 91., 61., 97., 95., 77., 88.,\n",
       "       83., 94., 93., 85., 86., 98., 96., 90., 84., 73., 74., 78., 92.,\n",
       "       71., 72., 68., 62., 49., 67., 81., 66., 56., 79., 70., 59., 64.,\n",
       "       75., 60., 63., 69., 50., 25., 42., 44., 55., 48., 57., 29., 47.,\n",
       "       65., 54., 20., 53., 37., 38., 33., 52., 30., 32., 43., 45., 51.,\n",
       "       40., 46., 39., 34., 41., 36., 31., 27., 35., 26., 19., 28., 23.,\n",
       "       24., 21., 17., 13.])"
      ]
     },
     "execution_count": 11,
     "metadata": {},
     "output_type": "execute_result"
    }
   ],
   "source": [
    "data['critic_score'].unique()"
   ]
  },
  {
   "cell_type": "code",
   "execution_count": 12,
   "metadata": {
    "scrolled": true
   },
   "outputs": [
    {
     "data": {
      "text/plain": [
       "array(['8', nan, '8.3', '8.5', '6.6', '8.4', '8.6', '7.7', '6.3', '7.4',\n",
       "       '8.2', '9', '7.9', '8.1', '8.7', '7.1', '3.4', '5.3', '4.8', '3.2',\n",
       "       '8.9', '6.4', '7.8', '7.5', '2.6', '7.2', '9.2', '7', '7.3', '4.3',\n",
       "       '7.6', '5.7', '5', '9.1', '6.5', 'tbd', '8.8', '6.9', '9.4', '6.8',\n",
       "       '6.1', '6.7', '5.4', '4', '4.9', '4.5', '9.3', '6.2', '4.2', '6',\n",
       "       '3.7', '4.1', '5.8', '5.6', '5.5', '4.4', '4.6', '5.9', '3.9',\n",
       "       '3.1', '2.9', '5.2', '3.3', '4.7', '5.1', '3.5', '2.5', '1.9', '3',\n",
       "       '2.7', '2.2', '2', '9.5', '2.1', '3.6', '2.8', '1.8', '3.8', '0',\n",
       "       '1.6', '9.6', '2.4', '1.7', '1.1', '0.3', '1.5', '0.7', '1.2',\n",
       "       '2.3', '0.5', '1.3', '0.2', '0.6', '1.4', '0.9', '1', '9.7'],\n",
       "      dtype=object)"
      ]
     },
     "execution_count": 12,
     "metadata": {},
     "output_type": "execute_result"
    }
   ],
   "source": [
    "data['user_score'].unique()"
   ]
  },
  {
   "cell_type": "markdown",
   "metadata": {},
   "source": [
    "Видим в столбце значения TBD - to be determined. Заменим эти значения на пропуски."
   ]
  },
  {
   "cell_type": "code",
   "execution_count": 13,
   "metadata": {},
   "outputs": [
    {
     "data": {
      "text/plain": [
       "array(['8', nan, '8.3', '8.5', '6.6', '8.4', '8.6', '7.7', '6.3', '7.4',\n",
       "       '8.2', '9', '7.9', '8.1', '8.7', '7.1', '3.4', '5.3', '4.8', '3.2',\n",
       "       '8.9', '6.4', '7.8', '7.5', '2.6', '7.2', '9.2', '7', '7.3', '4.3',\n",
       "       '7.6', '5.7', '5', '9.1', '6.5', '8.8', '6.9', '9.4', '6.8', '6.1',\n",
       "       '6.7', '5.4', '4', '4.9', '4.5', '9.3', '6.2', '4.2', '6', '3.7',\n",
       "       '4.1', '5.8', '5.6', '5.5', '4.4', '4.6', '5.9', '3.9', '3.1',\n",
       "       '2.9', '5.2', '3.3', '4.7', '5.1', '3.5', '2.5', '1.9', '3', '2.7',\n",
       "       '2.2', '2', '9.5', '2.1', '3.6', '2.8', '1.8', '3.8', '0', '1.6',\n",
       "       '9.6', '2.4', '1.7', '1.1', '0.3', '1.5', '0.7', '1.2', '2.3',\n",
       "       '0.5', '1.3', '0.2', '0.6', '1.4', '0.9', '1', '9.7'], dtype=object)"
      ]
     },
     "execution_count": 13,
     "metadata": {},
     "output_type": "execute_result"
    }
   ],
   "source": [
    "data.loc[data['user_score'] == 'tbd', 'user_score'] = np.nan\n",
    "data['user_score'].unique()"
   ]
  },
  {
   "cell_type": "code",
   "execution_count": 14,
   "metadata": {},
   "outputs": [
    {
     "data": {
      "text/plain": [
       "array(['E', nan, 'M', 'T', 'E10+', 'K-A', 'AO', 'EC', 'RP'], dtype=object)"
      ]
     },
     "execution_count": 14,
     "metadata": {},
     "output_type": "execute_result"
    }
   ],
   "source": [
    "data['rating'].unique()"
   ]
  },
  {
   "cell_type": "code",
   "execution_count": 15,
   "metadata": {},
   "outputs": [],
   "source": [
    "data['rating'] = data['rating'].fillna('Not Rated')"
   ]
  },
  {
   "cell_type": "code",
   "execution_count": 16,
   "metadata": {},
   "outputs": [
    {
     "data": {
      "text/plain": [
       "Not Rated    6676\n",
       "E            3921\n",
       "T            2905\n",
       "M            1536\n",
       "E10+         1393\n",
       "EC              8\n",
       "K-A             3\n",
       "RP              1\n",
       "AO              1\n",
       "Name: rating, dtype: int64"
      ]
     },
     "execution_count": 16,
     "metadata": {},
     "output_type": "execute_result"
    }
   ],
   "source": [
    "data['rating'].value_counts()"
   ]
  },
  {
   "cell_type": "markdown",
   "metadata": {},
   "source": [
    "### 2.3 Заменяем типы данных"
   ]
  },
  {
   "cell_type": "markdown",
   "metadata": {},
   "source": [
    "Необходимо заменить тип столбца `year_of_release` на целочисленный, годы не могут быть дробными.\n",
    "Заменить тип `user_score` на вещественный, так как мы избавились от значений 'tbd'."
   ]
  },
  {
   "cell_type": "code",
   "execution_count": 17,
   "metadata": {},
   "outputs": [],
   "source": [
    "data['year_of_release'] = data['year_of_release'].astype(int)\n",
    "data['user_score'] = data['user_score'].astype(float)"
   ]
  },
  {
   "cell_type": "markdown",
   "metadata": {},
   "source": [
    "### 2.4 Добавляем новый столбец"
   ]
  },
  {
   "cell_type": "code",
   "execution_count": 18,
   "metadata": {},
   "outputs": [
    {
     "data": {
      "text/plain": [
       "0        82.54\n",
       "1        40.24\n",
       "2        35.52\n",
       "3        32.77\n",
       "4        31.38\n",
       "         ...  \n",
       "16710     0.01\n",
       "16711     0.01\n",
       "16712     0.01\n",
       "16713     0.01\n",
       "16714     0.01\n",
       "Name: total_sales, Length: 16444, dtype: float64"
      ]
     },
     "execution_count": 18,
     "metadata": {},
     "output_type": "execute_result"
    }
   ],
   "source": [
    "data['total_sales'] = data['na_sales'] + data['eu_sales'] + data['jp_sales'] + data['other_sales']\n",
    "data['total_sales']"
   ]
  },
  {
   "cell_type": "markdown",
   "metadata": {},
   "source": [
    "**Вывод:** были произведены обработка пропусков, замена типов данных и добавление столбца. В столбцах `rating`, `critic_score`, `user_score` осталось много пропусков (скорее всего, это новые игры, которые ещё не успели оценить), но их нельзя заменить медианой или средним значением. Удалить их также нельзя, так как они составляют немалую часть данных."
   ]
  },
  {
   "cell_type": "markdown",
   "metadata": {},
   "source": [
    "## 3 Проведите исследовательский анализ"
   ]
  },
  {
   "cell_type": "markdown",
   "metadata": {},
   "source": [
    "### 3.1 Исследование популярных платформ и вычисление актуального временного периода"
   ]
  },
  {
   "cell_type": "markdown",
   "metadata": {},
   "source": [
    "**Количество игр по годам**"
   ]
  },
  {
   "cell_type": "markdown",
   "metadata": {},
   "source": [
    "Посмотрим, сколько игр выпускалось в разные годы, построив линейный график."
   ]
  },
  {
   "cell_type": "code",
   "execution_count": 20,
   "metadata": {},
   "outputs": [
    {
     "data": {
      "image/png": "[encoded data removed]",
      "text/plain": [
       "<Figure size 864x432 with 1 Axes>"
      ]
     },
     "metadata": {
      "needs_background": "light"
     },
     "output_type": "display_data"
    }
   ],
   "source": [
    "games_by_each_year = data.pivot_table(index = 'year_of_release', values = 'name', aggfunc = 'count') # строим сводную таблицу\n",
    "\n",
    "plt.figure(figsize = (12, 6))\n",
    "sns.lineplot(data = games_by_each_year)\n",
    "plt.title(\"Количество игр по годам\")\n",
    "plt.xlabel(\"Год выпуска\")\n",
    "plt.ylabel(\"Количество выпущенных игр\")\n",
    "plt.show()"
   ]
  },
  {
   "cell_type": "code",
   "execution_count": 21,
   "metadata": {
    "scrolled": true
   },
   "outputs": [
    {
     "data": {
      "text/plain": [
       "2008    1427\n",
       "2009    1426\n",
       "2010    1255\n",
       "2007    1197\n",
       "2011    1136\n",
       "2006    1006\n",
       "2005     939\n",
       "2002     829\n",
       "2003     775\n",
       "2004     762\n",
       "2012     653\n",
       "2015     606\n",
       "2014     581\n",
       "2013     544\n",
       "2016     502\n",
       "2001     482\n",
       "1998     379\n",
       "2000     350\n",
       "1999     338\n",
       "1997     289\n",
       "1996     263\n",
       "1995     219\n",
       "1994     121\n",
       "1993      60\n",
       "1981      46\n",
       "1992      43\n",
       "1991      41\n",
       "1982      36\n",
       "1986      21\n",
       "1983      17\n",
       "1989      17\n",
       "1990      16\n",
       "1987      16\n",
       "1988      15\n",
       "1985      14\n",
       "1984      14\n",
       "1980       9\n",
       "Name: year_of_release, dtype: int64"
      ]
     },
     "execution_count": 21,
     "metadata": {},
     "output_type": "execute_result"
    }
   ],
   "source": [
    "data.year_of_release.value_counts()"
   ]
  },
  {
   "cell_type": "markdown",
   "metadata": {},
   "source": [
    "Из диграммы видно, что в середине 90-ых начался рост выпуска игр для компьютеров и консолей. Это рост стабильно продолжался до 2008-2009 годов, а затем данный показатель и вовсе пошёл на спад. Возможно, это связано с популярностью игр на мобильные телефоны."
   ]
  },
  {
   "cell_type": "markdown",
   "metadata": {},
   "source": [
    "**Количество продаж игр по платформам**"
   ]
  },
  {
   "cell_type": "code",
   "execution_count": 22,
   "metadata": {},
   "outputs": [
    {
     "data": {
      "image/png": "[encoded data removed]",
      "text/plain": [
       "<Figure size 1080x432 with 1 Axes>"
      ]
     },
     "metadata": {
      "needs_background": "light"
     },
     "output_type": "display_data"
    }
   ],
   "source": [
    "sales_by_platform = data.pivot_table(index = 'platform',\n",
    "                                      values = 'total_sales',\n",
    "                                      aggfunc = 'sum').sort_values('total_sales', ascending = False) \n",
    "# строим сводную таблицу\n",
    "\n",
    "plt.figure(figsize = (15, 6))\n",
    "\n",
    "plt.bar(sales_by_platform.index, sales_by_platform['total_sales'], width = 0.6)\n",
    "\n",
    "plt.title(\"Продажи игр по платформам за весь период\")\n",
    "plt.xlabel(\"Название игровой платформы\")\n",
    "plt.ylabel(\"Количество проданных копий\")\n",
    "plt.show()"
   ]
  },
  {
   "cell_type": "markdown",
   "metadata": {},
   "source": [
    "Видно, что самыми популярными платформами по количеству продаж игр на них являются PlayStation 2, Xbox 360, PlayStation 3, Nintendo Wii и Nintendo DS. Но не следует торопиться с выбором этих платформ как потенциально прибыльных, так как мы ещё не определились с нужными нам показателями, которые определяют потенциальную прибыльность платформы."
   ]
  },
  {
   "cell_type": "code",
   "execution_count": 23,
   "metadata": {},
   "outputs": [
    {
     "data": {
      "text/plain": [
       "<AxesSubplot:xlabel='year_of_release'>"
      ]
     },
     "execution_count": 23,
     "metadata": {},
     "output_type": "execute_result"
    },
    {
     "data": {
      "image/png": "[encoded data removed]",
      "text/plain": [
       "<Figure size 1080x792 with 1 Axes>"
      ]
     },
     "metadata": {
      "needs_background": "light"
     },
     "output_type": "display_data"
    }
   ],
   "source": [
    "data.pivot_table(index = 'year_of_release',\n",
    "                 columns = 'platform',\n",
    "                 values = 'total_sales',\n",
    "                 aggfunc = 'sum').plot(figsize = (15, 11))"
   ]
  },
  {
   "cell_type": "markdown",
   "metadata": {},
   "source": [
    "Далее создадим сводную таблицу для десяти самым популярным платформ по продажам игр."
   ]
  },
  {
   "cell_type": "code",
   "execution_count": 24,
   "metadata": {},
   "outputs": [],
   "source": [
    "platforms_ascending = data.pivot_table(index = 'platform',\n",
    "                                       values = 'total_sales',\n",
    "                                       aggfunc = 'sum').sort_values(by = 'total_sales', ascending = False) \n",
    "# создаём таблицу с популярными платформами в плане продажи игр в порядке убывания\n",
    "\n",
    "platforms = platforms_ascending.reset_index()\n",
    "iloc_top10_platforms = platforms.iloc[0:10] # обрезаем таблицу, оставляя 10 элементов.\n",
    "top10_platforms = iloc_top10_platforms['platform'].unique() # оставляем неповторяю"
   ]
  },
  {
   "cell_type": "code",
   "execution_count": 25,
   "metadata": {
    "scrolled": true
   },
   "outputs": [
    {
     "data": {
      "text/html": [
       "<div>\n",
       "<style scoped>\n",
       "    .dataframe tbody tr th:only-of-type {\n",
       "        vertical-align: middle;\n",
       "    }\n",
       "\n",
       "    .dataframe tbody tr th {\n",
       "        vertical-align: top;\n",
       "    }\n",
       "\n",
       "    .dataframe thead th {\n",
       "        text-align: right;\n",
       "    }\n",
       "</style>\n",
       "<table border=\"1\" class=\"dataframe\">\n",
       "  <thead>\n",
       "    <tr style=\"text-align: right;\">\n",
       "      <th></th>\n",
       "      <th>total_sales</th>\n",
       "    </tr>\n",
       "    <tr>\n",
       "      <th>platform</th>\n",
       "      <th></th>\n",
       "    </tr>\n",
       "  </thead>\n",
       "  <tbody>\n",
       "    <tr>\n",
       "      <th>PS2</th>\n",
       "      <td>1233.56</td>\n",
       "    </tr>\n",
       "    <tr>\n",
       "      <th>X360</th>\n",
       "      <td>961.24</td>\n",
       "    </tr>\n",
       "    <tr>\n",
       "      <th>PS3</th>\n",
       "      <td>931.34</td>\n",
       "    </tr>\n",
       "    <tr>\n",
       "      <th>Wii</th>\n",
       "      <td>891.18</td>\n",
       "    </tr>\n",
       "    <tr>\n",
       "      <th>DS</th>\n",
       "      <td>802.78</td>\n",
       "    </tr>\n",
       "    <tr>\n",
       "      <th>PS</th>\n",
       "      <td>727.58</td>\n",
       "    </tr>\n",
       "    <tr>\n",
       "      <th>PS4</th>\n",
       "      <td>314.14</td>\n",
       "    </tr>\n",
       "    <tr>\n",
       "      <th>GBA</th>\n",
       "      <td>312.88</td>\n",
       "    </tr>\n",
       "    <tr>\n",
       "      <th>PSP</th>\n",
       "      <td>289.53</td>\n",
       "    </tr>\n",
       "    <tr>\n",
       "      <th>3DS</th>\n",
       "      <td>257.81</td>\n",
       "    </tr>\n",
       "    <tr>\n",
       "      <th>PC</th>\n",
       "      <td>255.76</td>\n",
       "    </tr>\n",
       "    <tr>\n",
       "      <th>GB</th>\n",
       "      <td>254.43</td>\n",
       "    </tr>\n",
       "    <tr>\n",
       "      <th>XB</th>\n",
       "      <td>251.57</td>\n",
       "    </tr>\n",
       "    <tr>\n",
       "      <th>NES</th>\n",
       "      <td>251.05</td>\n",
       "    </tr>\n",
       "    <tr>\n",
       "      <th>N64</th>\n",
       "      <td>218.01</td>\n",
       "    </tr>\n",
       "    <tr>\n",
       "      <th>SNES</th>\n",
       "      <td>200.04</td>\n",
       "    </tr>\n",
       "    <tr>\n",
       "      <th>GC</th>\n",
       "      <td>196.73</td>\n",
       "    </tr>\n",
       "    <tr>\n",
       "      <th>XOne</th>\n",
       "      <td>159.32</td>\n",
       "    </tr>\n",
       "    <tr>\n",
       "      <th>2600</th>\n",
       "      <td>86.48</td>\n",
       "    </tr>\n",
       "    <tr>\n",
       "      <th>WiiU</th>\n",
       "      <td>82.19</td>\n",
       "    </tr>\n",
       "    <tr>\n",
       "      <th>PSV</th>\n",
       "      <td>53.81</td>\n",
       "    </tr>\n",
       "    <tr>\n",
       "      <th>SAT</th>\n",
       "      <td>33.59</td>\n",
       "    </tr>\n",
       "    <tr>\n",
       "      <th>GEN</th>\n",
       "      <td>28.35</td>\n",
       "    </tr>\n",
       "    <tr>\n",
       "      <th>DC</th>\n",
       "      <td>15.95</td>\n",
       "    </tr>\n",
       "    <tr>\n",
       "      <th>SCD</th>\n",
       "      <td>1.86</td>\n",
       "    </tr>\n",
       "    <tr>\n",
       "      <th>NG</th>\n",
       "      <td>1.44</td>\n",
       "    </tr>\n",
       "    <tr>\n",
       "      <th>WS</th>\n",
       "      <td>1.42</td>\n",
       "    </tr>\n",
       "    <tr>\n",
       "      <th>TG16</th>\n",
       "      <td>0.16</td>\n",
       "    </tr>\n",
       "    <tr>\n",
       "      <th>3DO</th>\n",
       "      <td>0.10</td>\n",
       "    </tr>\n",
       "    <tr>\n",
       "      <th>GG</th>\n",
       "      <td>0.04</td>\n",
       "    </tr>\n",
       "    <tr>\n",
       "      <th>PCFX</th>\n",
       "      <td>0.03</td>\n",
       "    </tr>\n",
       "  </tbody>\n",
       "</table>\n",
       "</div>"
      ],
      "text/plain": [
       "          total_sales\n",
       "platform             \n",
       "PS2           1233.56\n",
       "X360           961.24\n",
       "PS3            931.34\n",
       "Wii            891.18\n",
       "DS             802.78\n",
       "PS             727.58\n",
       "PS4            314.14\n",
       "GBA            312.88\n",
       "PSP            289.53\n",
       "3DS            257.81\n",
       "PC             255.76\n",
       "GB             254.43\n",
       "XB             251.57\n",
       "NES            251.05\n",
       "N64            218.01\n",
       "SNES           200.04\n",
       "GC             196.73\n",
       "XOne           159.32\n",
       "2600            86.48\n",
       "WiiU            82.19\n",
       "PSV             53.81\n",
       "SAT             33.59\n",
       "GEN             28.35\n",
       "DC              15.95\n",
       "SCD              1.86\n",
       "NG               1.44\n",
       "WS               1.42\n",
       "TG16             0.16\n",
       "3DO              0.10\n",
       "GG               0.04\n",
       "PCFX             0.03"
      ]
     },
     "execution_count": 25,
     "metadata": {},
     "output_type": "execute_result"
    }
   ],
   "source": [
    "platforms_ascending # выведем на экран для проверки"
   ]
  },
  {
   "cell_type": "markdown",
   "metadata": {},
   "source": [
    "Представим данные о продажах по годам на самых популярных платформах-консолях в виде графика"
   ]
  },
  {
   "cell_type": "code",
   "execution_count": 26,
   "metadata": {},
   "outputs": [
    {
     "data": {
      "text/plain": [
       "<AxesSubplot:xlabel='year_of_release'>"
      ]
     },
     "execution_count": 26,
     "metadata": {},
     "output_type": "execute_result"
    },
    {
     "data": {
      "image/png": "[encoded data removed]",
      "text/plain": [
       "<Figure size 1080x432 with 1 Axes>"
      ]
     },
     "metadata": {
      "needs_background": "light"
     },
     "output_type": "display_data"
    }
   ],
   "source": [
    "data.query('platform in @top10_platforms').pivot_table(index = 'year_of_release',\n",
    "                                                       columns = 'platform', \n",
    "                                                       values = 'total_sales',\n",
    "                                                       aggfunc = 'sum').plot(figsize = (15, 6))"
   ]
  },
  {
   "cell_type": "markdown",
   "metadata": {},
   "source": [
    "Из этого графика можно сделать несколько выводов:\n",
    "* средний жизненный цикл консоли, как можно судить по линиям PS3 и Xbox 360 из этого графика, составляет 10 лет.\n",
    "* в среднем, консоль достигает пика жизненного цикла (когда на консоль выходит максимальное количество игр в год) примерно в его середине, а именно - спустя 5 лет после выхода.\n",
    "* в период с 2006 по 2016 две самые популярные консоли в плане продаж игр - PS3 и Xbox 360."
   ]
  },
  {
   "cell_type": "markdown",
   "metadata": {},
   "source": [
    "Так как нам необходимо сделать прогнозы на 2017 год, то нужно выбрать в качестве кандидатов на потенциально прибыльные платформы те консоли, которые вышли относительно недавно (не позже 2013 года), либо всегда демонстрировали небольшие, но стабильные продажи.\n",
    "К таким устройствам можно отнести PS4 и PC."
   ]
  },
  {
   "cell_type": "code",
   "execution_count": 27,
   "metadata": {},
   "outputs": [],
   "source": [
    "actual_data = data.query('year_of_release >= 2013')"
   ]
  },
  {
   "cell_type": "code",
   "execution_count": 28,
   "metadata": {},
   "outputs": [],
   "source": [
    "actual_platforms = ['PS4', 'PC']"
   ]
  },
  {
   "cell_type": "markdown",
   "metadata": {},
   "source": [
    "**Построение \"ящика с усами\"**"
   ]
  },
  {
   "cell_type": "code",
   "execution_count": 29,
   "metadata": {},
   "outputs": [
    {
     "data": {
      "text/plain": [
       "<AxesSubplot:>"
      ]
     },
     "execution_count": 29,
     "metadata": {},
     "output_type": "execute_result"
    },
    {
     "data": {
      "image/png": "[encoded data removed]",
      "text/plain": [
       "<Figure size 432x288 with 1 Axes>"
      ]
     },
     "metadata": {
      "needs_background": "light"
     },
     "output_type": "display_data"
    }
   ],
   "source": [
    "actual_data.pivot_table(index = 'name',\n",
    "                        columns = 'platform',\n",
    "                        values = 'total_sales',\n",
    "                        aggfunc = 'sum').plot(kind = 'box', ylim = (0, 1.9), color = 'blue')"
   ]
  },
  {
   "cell_type": "code",
   "execution_count": 30,
   "metadata": {
    "scrolled": true
   },
   "outputs": [
    {
     "data": {
      "text/plain": [
       "<AxesSubplot:>"
      ]
     },
     "execution_count": 30,
     "metadata": {},
     "output_type": "execute_result"
    },
    {
     "data": {
      "image/png": "[encoded data removed]",
      "text/plain": [
       "<Figure size 432x288 with 1 Axes>"
      ]
     },
     "metadata": {
      "needs_background": "light"
     },
     "output_type": "display_data"
    }
   ],
   "source": [
    "actual_data.pivot_table(index = 'name',\n",
    "                        columns = 'platform',\n",
    "                        values = 'total_sales',\n",
    "                        aggfunc = 'sum').plot(kind = 'box', color = 'blue')"
   ]
  },
  {
   "cell_type": "markdown",
   "metadata": {},
   "source": [
    "Заметим, что у консоли Wii слишком большие выбросы."
   ]
  },
  {
   "cell_type": "markdown",
   "metadata": {},
   "source": [
    "Из этих диаграмм видно, что в нашу выборку актуальных платформ можно добавить Xbox One и Wii U. Их не было в предыдущем графике по той причине, что эти две консоли вышли относительно недавно, поэтому они не входят в топ-10 по продажам игр. Под эти платформы даже не нужно изменять рамки актуального периода, так как Xbox One и Wii вышли позже 2012 года."
   ]
  },
  {
   "cell_type": "code",
   "execution_count": 31,
   "metadata": {},
   "outputs": [],
   "source": [
    "actual_platforms.append('XOne')\n",
    "actual_platforms.append('WiiU')"
   ]
  },
  {
   "cell_type": "code",
   "execution_count": 32,
   "metadata": {},
   "outputs": [
    {
     "name": "stdout",
     "output_type": "stream",
     "text": [
      "['PS4', 'PC', 'XOne', 'WiiU']\n"
     ]
    }
   ],
   "source": [
    "print(actual_platforms)"
   ]
  },
  {
   "cell_type": "markdown",
   "metadata": {},
   "source": [
    "### 3.2 Нахождение зависимости между отзывами и продажами игр"
   ]
  },
  {
   "cell_type": "markdown",
   "metadata": {},
   "source": [
    "**Корреляция между отзывами и продажами игр**"
   ]
  },
  {
   "cell_type": "markdown",
   "metadata": {},
   "source": [
    "Посмотрим, как влияют отзывы пользователей и критиков в рамках одной платформы - например, PlayStation 4. Вычислим корреляцию и построим диаграммы рассеивания для этой платформы."
   ]
  },
  {
   "cell_type": "code",
   "execution_count": 33,
   "metadata": {
    "scrolled": true
   },
   "outputs": [
    {
     "name": "stdout",
     "output_type": "stream",
     "text": [
      "Корреляция между оценками пользователей и продажами: -0.031957110204556376\n",
      "Корреляция между оценками критиков и продажами:  0.40656790206178095\n"
     ]
    }
   ],
   "source": [
    "ps4_data = actual_data[actual_data['platform'] == 'PS4']\n",
    "\n",
    "print('Корреляция между оценками пользователей и продажами:', ps4_data['user_score'].corr(ps4_data['total_sales']))\n",
    "print('Корреляция между оценками критиков и продажами: ', ps4_data['critic_score'].corr(ps4_data['total_sales']))"
   ]
  },
  {
   "cell_type": "code",
   "execution_count": 34,
   "metadata": {
    "scrolled": false
   },
   "outputs": [
    {
     "data": {
      "image/png": "[encoded data removed]",
      "text/plain": [
       "<Figure size 1080x432 with 1 Axes>"
      ]
     },
     "metadata": {
      "needs_background": "light"
     },
     "output_type": "display_data"
    }
   ],
   "source": [
    "plt.figure(figsize = (15, 6))\n",
    "\n",
    "sns.scatterplot(x = 'user_score', y = 'total_sales', data = ps4_data, color = 'Blue')\n",
    "plt.title('Зависимость пользовательских отзывов от продаж на платформе PS4')\n",
    "plt.show()"
   ]
  },
  {
   "cell_type": "code",
   "execution_count": 35,
   "metadata": {},
   "outputs": [
    {
     "data": {
      "image/png": "[encoded data removed]",
      "text/plain": [
       "<Figure size 1080x432 with 1 Axes>"
      ]
     },
     "metadata": {
      "needs_background": "light"
     },
     "output_type": "display_data"
    }
   ],
   "source": [
    "plt.figure(figsize = (15, 6))\n",
    "sns.scatterplot(x = 'critic_score', y = 'total_sales', data = ps4_data, color = 'Blue')\n",
    "plt.title('Зависимость отзывов критиков от продаж на платформе PS4')\n",
    "plt.show()"
   ]
  },
  {
   "cell_type": "markdown",
   "metadata": {},
   "source": [
    "Видно, что связь между оценками пользователей и продажами игр на PS4 отсутствует. При этом наблюдается умеренная связь между оценками критиков и продажами игр на PS4. Это значит, что чем выше игра оценена критиками, тем слегка больше будут продажи игр."
   ]
  },
  {
   "cell_type": "code",
   "execution_count": 36,
   "metadata": {},
   "outputs": [
    {
     "data": {
      "text/plain": [
       "1980"
      ]
     },
     "execution_count": 36,
     "metadata": {},
     "output_type": "execute_result"
    }
   ],
   "source": [
    "data.year_of_release.min()"
   ]
  },
  {
   "cell_type": "markdown",
   "metadata": {},
   "source": [
    "Проведём аналогичное исследование для других актуальных платформ: XOne, Wii U и PC."
   ]
  },
  {
   "cell_type": "code",
   "execution_count": 38,
   "metadata": {},
   "outputs": [],
   "source": [
    "def platform_info(platform_name):\n",
    "    platform = actual_data[actual_data['platform'] == platform_name]\n",
    "    # функция для построения графиков размаха и подсчёта корреляций.\n",
    "\n",
    "    plt.figure(figsize = (15, 6))\n",
    "    \n",
    "    sns.scatterplot(x = 'user_score', y = 'total_sales', data = platform, color = 'Blue')\n",
    "    plt.title('Зависимость пользовательских отзывов от продаж на платформе ' + platform_name)\n",
    "    plt.show()\n",
    "\n",
    "    plt.clf\n",
    "    \n",
    "    plt.figure(figsize = (15, 6))\n",
    "    sns.scatterplot(x = 'critic_score', y = 'total_sales', data = platform, color = 'Blue')\n",
    "    plt.title('Зависимость отзывов критиков от продаж на платформе ' + platform_name)\n",
    "    plt.show()\n",
    "    \n",
    "    print('Корреляция между оценками пользователей и продажами',\n",
    "          platform_name, 'равна:',\n",
    "          platform['user_score'].corr(platform['total_sales']))\n",
    "    print('Корреляция между оценками критиков и продажами',\n",
    "          platform_name, 'равна:',\n",
    "          platform['critic_score'].corr(platform['total_sales']))\n",
    "    "
   ]
  },
  {
   "cell_type": "code",
   "execution_count": 39,
   "metadata": {
    "scrolled": false
   },
   "outputs": [
    {
     "data": {
      "image/png": "[encoded data removed]",
      "text/plain": [
       "<Figure size 1080x432 with 1 Axes>"
      ]
     },
     "metadata": {
      "needs_background": "light"
     },
     "output_type": "display_data"
    },
    {
     "data": {
      "image/png": "[encoded data removed]",
      "text/plain": [
       "<Figure size 1080x432 with 1 Axes>"
      ]
     },
     "metadata": {
      "needs_background": "light"
     },
     "output_type": "display_data"
    },
    {
     "name": "stdout",
     "output_type": "stream",
     "text": [
      "Корреляция между оценками пользователей и продажами PC равна: -0.0938418695247674\n",
      "Корреляция между оценками критиков и продажами PC равна: 0.19603028294369382\n"
     ]
    },
    {
     "data": {
      "image/png": "[encoded data removed]",
      "text/plain": [
       "<Figure size 1080x432 with 1 Axes>"
      ]
     },
     "metadata": {
      "needs_background": "light"
     },
     "output_type": "display_data"
    },
    {
     "data": {
      "image/png": "[encoded data removed]",
      "text/plain": [
       "<Figure size 1080x432 with 1 Axes>"
      ]
     },
     "metadata": {
      "needs_background": "light"
     },
     "output_type": "display_data"
    },
    {
     "name": "stdout",
     "output_type": "stream",
     "text": [
      "Корреляция между оценками пользователей и продажами XOne равна: -0.06892505328279414\n",
      "Корреляция между оценками критиков и продажами XOne равна: 0.4169983280084017\n"
     ]
    },
    {
     "data": {
      "image/png": "[encoded data removed]",
      "text/plain": [
       "<Figure size 1080x432 with 1 Axes>"
      ]
     },
     "metadata": {
      "needs_background": "light"
     },
     "output_type": "display_data"
    },
    {
     "data": {
      "image/png": "[encoded data removed]",
      "text/plain": [
       "<Figure size 1080x432 with 1 Axes>"
      ]
     },
     "metadata": {
      "needs_background": "light"
     },
     "output_type": "display_data"
    },
    {
     "name": "stdout",
     "output_type": "stream",
     "text": [
      "Корреляция между оценками пользователей и продажами WiiU равна: 0.4193304819266187\n",
      "Корреляция между оценками критиков и продажами WiiU равна: 0.3764149065423912\n"
     ]
    }
   ],
   "source": [
    "for platform_name in actual_platforms: # проходимся по каждой платформе кроме PS4\n",
    "    if platform_name != \"PS4\":\n",
    "        platform_info(platform_name)"
   ]
  },
  {
   "cell_type": "markdown",
   "metadata": {},
   "source": [
    "Почти на каждой из актуальных платформ есть умеренная связь между оценкой критиков и продажами игр. Но есть исключение из этого правила - платформа ПК, на которой связь между оценкой критиков и продажами игр - слабая. При этом связь между оценкой пользователей и продажами наблюдается только на WiiU среди тех платформ, которые мы рассматривали."
   ]
  },
  {
   "cell_type": "code",
   "execution_count": 40,
   "metadata": {},
   "outputs": [
    {
     "data": {
      "text/plain": [
       "(['PS4', 'PC', 'XOne', 'WiiU'],\n",
       " array(['PS3', 'X360', 'PS4', '3DS', 'XOne', 'WiiU', 'Wii', 'PC', 'PSV',\n",
       "        'DS', 'PSP'], dtype=object))"
      ]
     },
     "execution_count": 40,
     "metadata": {},
     "output_type": "execute_result"
    }
   ],
   "source": [
    "actual_platforms, actual_data.platform.unique()"
   ]
  },
  {
   "cell_type": "markdown",
   "metadata": {},
   "source": [
    "### 3.3 Выявление самых популярных жанров"
   ]
  },
  {
   "cell_type": "markdown",
   "metadata": {},
   "source": [
    "**Посмотрим на общее распределение игр по жанрам**"
   ]
  },
  {
   "cell_type": "markdown",
   "metadata": {},
   "source": [
    "Рассмотрим общие продажи для данных, сгруппированных по жанрам, и для наглядности построим круговую диаграмму."
   ]
  },
  {
   "cell_type": "markdown",
   "metadata": {},
   "source": [
    "Посмотрим на медианные значения."
   ]
  },
  {
   "cell_type": "code",
   "execution_count": 42,
   "metadata": {},
   "outputs": [
    {
     "data": {
      "text/html": [
       "<div>\n",
       "<style scoped>\n",
       "    .dataframe tbody tr th:only-of-type {\n",
       "        vertical-align: middle;\n",
       "    }\n",
       "\n",
       "    .dataframe tbody tr th {\n",
       "        vertical-align: top;\n",
       "    }\n",
       "\n",
       "    .dataframe thead th {\n",
       "        text-align: right;\n",
       "    }\n",
       "</style>\n",
       "<table border=\"1\" class=\"dataframe\">\n",
       "  <thead>\n",
       "    <tr style=\"text-align: right;\">\n",
       "      <th></th>\n",
       "      <th>total_sales</th>\n",
       "    </tr>\n",
       "    <tr>\n",
       "      <th>genre</th>\n",
       "      <th></th>\n",
       "    </tr>\n",
       "  </thead>\n",
       "  <tbody>\n",
       "    <tr>\n",
       "      <th>Shooter</th>\n",
       "      <td>0.450</td>\n",
       "    </tr>\n",
       "    <tr>\n",
       "      <th>Sports</th>\n",
       "      <td>0.240</td>\n",
       "    </tr>\n",
       "    <tr>\n",
       "      <th>Platform</th>\n",
       "      <td>0.225</td>\n",
       "    </tr>\n",
       "    <tr>\n",
       "      <th>Role-Playing</th>\n",
       "      <td>0.125</td>\n",
       "    </tr>\n",
       "    <tr>\n",
       "      <th>Fighting</th>\n",
       "      <td>0.125</td>\n",
       "    </tr>\n",
       "    <tr>\n",
       "      <th>Racing</th>\n",
       "      <td>0.120</td>\n",
       "    </tr>\n",
       "    <tr>\n",
       "      <th>Action</th>\n",
       "      <td>0.110</td>\n",
       "    </tr>\n",
       "    <tr>\n",
       "      <th>Simulation</th>\n",
       "      <td>0.100</td>\n",
       "    </tr>\n",
       "    <tr>\n",
       "      <th>Misc</th>\n",
       "      <td>0.100</td>\n",
       "    </tr>\n",
       "    <tr>\n",
       "      <th>Strategy</th>\n",
       "      <td>0.080</td>\n",
       "    </tr>\n",
       "    <tr>\n",
       "      <th>Puzzle</th>\n",
       "      <td>0.060</td>\n",
       "    </tr>\n",
       "    <tr>\n",
       "      <th>Adventure</th>\n",
       "      <td>0.030</td>\n",
       "    </tr>\n",
       "  </tbody>\n",
       "</table>\n",
       "</div>"
      ],
      "text/plain": [
       "              total_sales\n",
       "genre                    \n",
       "Shooter             0.450\n",
       "Sports              0.240\n",
       "Platform            0.225\n",
       "Role-Playing        0.125\n",
       "Fighting            0.125\n",
       "Racing              0.120\n",
       "Action              0.110\n",
       "Simulation          0.100\n",
       "Misc                0.100\n",
       "Strategy            0.080\n",
       "Puzzle              0.060\n",
       "Adventure           0.030"
      ]
     },
     "execution_count": 42,
     "metadata": {},
     "output_type": "execute_result"
    }
   ],
   "source": [
    "actual_data.pivot_table(index = 'genre', values = 'total_sales', aggfunc = 'median').sort_values('total_sales', ascending = False)"
   ]
  },
  {
   "cell_type": "code",
   "execution_count": 43,
   "metadata": {
    "scrolled": false
   },
   "outputs": [
    {
     "data": {
      "image/png": "[encoded data removed]",
      "text/plain": [
       "<Figure size 1440x720 with 1 Axes>"
      ]
     },
     "metadata": {
      "needs_background": "light"
     },
     "output_type": "display_data"
    }
   ],
   "source": [
    "plt.figure(figsize = (20, 10))\n",
    "\n",
    "\n",
    "genre_data = actual_data.pivot_table(index = 'name',\n",
    "                                     columns = 'genre',\n",
    "                                     values = 'total_sales',\n",
    "                                     aggfunc = 'median')\n",
    "\n",
    "bp_genre = genre_data.boxplot()"
   ]
  },
  {
   "cell_type": "markdown",
   "metadata": {},
   "source": [
    "Рассмотрим данные на круговой диаграмме для формирования дополнительных выводов."
   ]
  },
  {
   "cell_type": "code",
   "execution_count": 44,
   "metadata": {},
   "outputs": [
    {
     "data": {
      "text/plain": [
       "<AxesSubplot:ylabel='total_sales'>"
      ]
     },
     "execution_count": 44,
     "metadata": {},
     "output_type": "execute_result"
    },
    {
     "data": {
      "image/png": "[encoded data removed]",
      "text/plain": [
       "<Figure size 720x720 with 1 Axes>"
      ]
     },
     "metadata": {},
     "output_type": "display_data"
    }
   ],
   "source": [
    "actual_data.pivot_table(index = 'genre', \n",
    "                        values = 'total_sales',\n",
    "                        aggfunc = 'sum').sort_values(ascending = False,\n",
    "                                                     by = 'total_sales').plot(kind = 'pie',\n",
    "                                                                              figsize = (10, 10),\n",
    "                                                                              y = 'total_sales')"
   ]
  },
  {
   "cell_type": "markdown",
   "metadata": {},
   "source": [
    "По медианным значениям можно сделать вывод, что самыми прибыльными жанрами вне зависимости от платформы являются шутеры, платформеры и спортивные игры. Также стоит отметить, что такие жанры как РПГ и экшен-игры имеют большое количество разбросов при высокой медиане. Скорее всего, это обусловлено тем, что в этих жанрах выходит много как прибыльных игр, так и убыточных. Именно из-за этого общие продажи некоторых жанров - экшен, РПГ такие большие, хотя сами эти жанры сами по себе не являются прибыльными.\n",
    "\n",
    "**Прибыльными жанрами следует считать шутеры, платформеры и спортивные игры.**"
   ]
  },
  {
   "cell_type": "markdown",
   "metadata": {},
   "source": [
    "**Вывод:** в результате исследовательского анализа данных были выявлены следующие закономерности:\n",
    "* число игр на игровые приставки и компьютеры начало стремительно расти с большой скоростью с 90-ых годов до 2009 года. С 2009 года произошел резкий спад выпускаемых на эти игровые платформы игр. Возможно, это связано с выросшей популярностью мобильных платформ и выбором разработчиков в их пользу.\n",
    "* жизненный цикл консолей равен 10 лет, пик приходится на отметку в 5 лет.\n",
    "* самые популярные игровые платформы за весь период: PlayStation 2, Xbox 360, Playstation 3, Nintendo WII, Nintendo DS.\n",
    "* для многих игровых платформ наблюдается взаимосвязь между продажами игр и оценками игр. Больше всего заметна корреляция между оценками критиков и продажами - значит, для игроков мнение критиков важнее мнения других пользователей.\n",
    "* самые популярные жанры - платформеры, спортивные игры и шутеры.\n",
    "\n",
    "В качестве актуальных платформ были выбраны PS4, Xbox One, Wii U и PC."
   ]
  },
  {
   "cell_type": "code",
   "execution_count": 45,
   "metadata": {},
   "outputs": [
    {
     "data": {
      "text/plain": [
       "Not Rated    977\n",
       "M            369\n",
       "T            333\n",
       "E            302\n",
       "E10+         252\n",
       "Name: rating, dtype: int64"
      ]
     },
     "execution_count": 45,
     "metadata": {},
     "output_type": "execute_result"
    }
   ],
   "source": [
    "actual_data['rating'].value_counts()"
   ]
  },
  {
   "cell_type": "markdown",
   "metadata": {},
   "source": [
    "## 4 Составление портрета пользователя каждого региона (NA, EU, JP)"
   ]
  },
  {
   "cell_type": "markdown",
   "metadata": {},
   "source": [
    "### 4.1 Самые популярные платформы"
   ]
  },
  {
   "cell_type": "code",
   "execution_count": 46,
   "metadata": {
    "scrolled": true
   },
   "outputs": [
    {
     "data": {
      "image/png": "[encoded data removed]",
      "text/plain": [
       "<Figure size 360x360 with 1 Axes>"
      ]
     },
     "metadata": {},
     "output_type": "display_data"
    },
    {
     "data": {
      "image/png": "[encoded data removed]",
      "text/plain": [
       "<Figure size 360x360 with 1 Axes>"
      ]
     },
     "metadata": {},
     "output_type": "display_data"
    },
    {
     "data": {
      "image/png": "[encoded data removed]",
      "text/plain": [
       "<Figure size 360x360 with 1 Axes>"
      ]
     },
     "metadata": {},
     "output_type": "display_data"
    }
   ],
   "source": [
    "actual_data.pivot_table(index = 'platform', \n",
    "                        values = 'na_sales',\n",
    "                        aggfunc = 'sum').sort_values(by = 'na_sales',\n",
    "                                                     ascending = False).head().plot(kind = 'pie',\n",
    "                                                                                    figsize = (5, 5),\n",
    "                                                                                    y = 'na_sales',\n",
    "                                                                                    autopct='%.0f%%');\n",
    "\n",
    "actual_data.pivot_table(index = 'platform', \n",
    "                        values = 'eu_sales',\n",
    "                        aggfunc = 'sum').sort_values(by = 'eu_sales',\n",
    "                                                     ascending = False).head().plot(kind = 'pie',\n",
    "                                                                                    figsize = (5, 5),\n",
    "                                                                                    y = 'eu_sales',\n",
    "                                                                                    autopct='%.0f%%');\n",
    "\n",
    "\n",
    "actual_data.pivot_table(index = 'platform', \n",
    "                        values = 'jp_sales',\n",
    "                        aggfunc = 'sum').sort_values(by = 'jp_sales',\n",
    "                                                     ascending = False).head().plot(kind = 'pie', \n",
    "                                                                                    figsize = (5, 5),\n",
    "                                                                                    y = 'jp_sales', \n",
    "                                                                                    autopct='%.0f%%');"
   ]
  },
  {
   "cell_type": "markdown",
   "metadata": {},
   "source": [
    "**Вывод:** \n",
    "* в Северной Америке и Канаде популярными являются игры, проданные на PS4 и Xbox One.\n",
    "* в Европе популярными являются игры, проданные на PS4.\n",
    "* В Японии популярными являются игры, проданные на Nintendo 3DS."
   ]
  },
  {
   "cell_type": "markdown",
   "metadata": {},
   "source": [
    "### 4.2 Самые популярные жанры"
   ]
  },
  {
   "cell_type": "code",
   "execution_count": 47,
   "metadata": {
    "scrolled": true
   },
   "outputs": [
    {
     "data": {
      "image/png": "[encoded data removed]",
      "text/plain": [
       "<Figure size 360x360 with 1 Axes>"
      ]
     },
     "metadata": {},
     "output_type": "display_data"
    },
    {
     "data": {
      "image/png": "[encoded data removed]",
      "text/plain": [
       "<Figure size 360x360 with 1 Axes>"
      ]
     },
     "metadata": {},
     "output_type": "display_data"
    },
    {
     "data": {
      "image/png": "[encoded data removed]",
      "text/plain": [
       "<Figure size 360x360 with 1 Axes>"
      ]
     },
     "metadata": {},
     "output_type": "display_data"
    }
   ],
   "source": [
    "actual_data.pivot_table(index = 'genre', \n",
    "                        values = 'na_sales',\n",
    "                        aggfunc = 'sum').sort_values(by = 'na_sales',\n",
    "                                                     ascending = False).head().plot(kind = 'pie',\n",
    "                                                                                    figsize = (5, 5),\n",
    "                                                                                    y = 'na_sales',\n",
    "                                                                                    autopct='%.0f%%');\n",
    "\n",
    "actual_data.pivot_table(index = 'genre', \n",
    "                        values = 'eu_sales',\n",
    "                        aggfunc = 'sum').sort_values(by = 'eu_sales',\n",
    "                                                     ascending = False).head().plot(kind = 'pie',\n",
    "                                                                                    figsize = (5, 5),\n",
    "                                                                                    y = 'eu_sales',\n",
    "                                                                                    autopct='%.0f%%');\n",
    "\n",
    "\n",
    "actual_data.pivot_table(index = 'genre', \n",
    "                        values = 'jp_sales',\n",
    "                        aggfunc = 'sum').sort_values(by = 'jp_sales',\n",
    "                                                     ascending = False).head().plot(kind = 'pie', \n",
    "                                                                                    figsize = (5, 5),\n",
    "                                                                                    y = 'jp_sales', \n",
    "                                                                                    autopct='%.0f%%');"
   ]
  },
  {
   "cell_type": "markdown",
   "metadata": {},
   "source": [
    "**Вывод:** \n",
    "* в Северной Америке и Канаде популярными являются игры в жанрах экшен и шутер.\n",
    "* в Европе популярными являются игры в жанрах экшен, шутер и спортивные игры.\n",
    "* В Японии популярными являются игры в жанрах экшен и РПГ."
   ]
  },
  {
   "cell_type": "markdown",
   "metadata": {},
   "source": [
    "### 4.3 Рейтинг ESRB"
   ]
  },
  {
   "cell_type": "code",
   "execution_count": 48,
   "metadata": {
    "scrolled": true
   },
   "outputs": [
    {
     "data": {
      "text/plain": [
       "<AxesSubplot:ylabel='jp_sales'>"
      ]
     },
     "execution_count": 48,
     "metadata": {},
     "output_type": "execute_result"
    },
    {
     "data": {
      "image/png": "[encoded data removed]",
      "text/plain": [
       "<Figure size 360x360 with 1 Axes>"
      ]
     },
     "metadata": {},
     "output_type": "display_data"
    },
    {
     "data": {
      "image/png": "[encoded data removed]",
      "text/plain": [
       "<Figure size 360x360 with 1 Axes>"
      ]
     },
     "metadata": {},
     "output_type": "display_data"
    },
    {
     "data": {
      "image/png": "[encoded data removed]",
      "text/plain": [
       "<Figure size 360x360 with 1 Axes>"
      ]
     },
     "metadata": {},
     "output_type": "display_data"
    }
   ],
   "source": [
    "actual_data.pivot_table(index = 'rating', \n",
    "                        values = 'na_sales',\n",
    "                        aggfunc = 'sum').sort_values(by = 'na_sales',\n",
    "                                                     ascending = False).head().plot(kind = 'pie',\n",
    "                                                                                    figsize = (5, 5),\n",
    "                                                                                    y = 'na_sales',\n",
    "                                                                                    autopct='%.0f%%')\n",
    "\n",
    "actual_data.pivot_table(index = 'rating', \n",
    "                        values = 'eu_sales',\n",
    "                        aggfunc = 'sum').sort_values(by = 'eu_sales',\n",
    "                                                     ascending = False).head().plot(kind = 'pie',\n",
    "                                                                                    figsize = (5, 5),\n",
    "                                                                                    y = 'eu_sales',\n",
    "                                                                                    autopct='%.0f%%')\n",
    "\n",
    "\n",
    "actual_data.pivot_table(index = 'rating', \n",
    "                        values = 'jp_sales',\n",
    "                        aggfunc = 'sum').sort_values(by = 'jp_sales',\n",
    "                                                     ascending = False).head().plot(kind = 'pie', \n",
    "                                                                                    figsize = (5, 5),\n",
    "                                                                                    y = 'jp_sales', \n",
    "                                                                                    autopct='%.0f%%')"
   ]
  },
  {
   "cell_type": "code",
   "execution_count": 49,
   "metadata": {},
   "outputs": [
    {
     "name": "stdout",
     "output_type": "stream",
     "text": [
      "0 0.0\n"
     ]
    },
    {
     "data": {
      "text/plain": [
       "Not Rated    977\n",
       "M            369\n",
       "T            333\n",
       "E            302\n",
       "E10+         252\n",
       "Name: rating, dtype: int64"
      ]
     },
     "execution_count": 49,
     "metadata": {},
     "output_type": "execute_result"
    }
   ],
   "source": [
    "temp = actual_data.copy()\n",
    "print(temp.rating.isna().sum(), temp.rating.isna().sum()/len(temp))\n",
    "temp.rating.value_counts()"
   ]
  },
  {
   "cell_type": "markdown",
   "metadata": {},
   "source": [
    "**Вывод:** \n",
    "* в Северной Америке и Канаде популярными являются игры с возрастным ограничением \"От 17 и выше\".\n",
    "* для игр из европейского и японского рейтинга ESRB не так сильно влияет на продажи, так как рейтинг ESRB назначается играм, выпущенным в Северной Америке и Канаде. В вышеупомянутых регионах существует собственное регулирование игр в плане возрастных ограничений."
   ]
  },
  {
   "cell_type": "markdown",
   "metadata": {},
   "source": [
    "## 5 Проверка гипотез"
   ]
  },
  {
   "cell_type": "markdown",
   "metadata": {},
   "source": [
    "Нужно проверить две следующие гипотезы:\n",
    "* Средние пользовательские рейтинги платформ Xbox One и PC одинаковые;\n",
    "* Средние пользовательские рейтинги жанров Action (англ. «действие», экшен-игры) и Sports (англ. «спортивные соревнования») разные."
   ]
  },
  {
   "cell_type": "markdown",
   "metadata": {},
   "source": [
    "### 5.1 Проверка гипотезы \"средние пользовательские рейтинги платформ Xbox One и PC одинаковые\""
   ]
  },
  {
   "cell_type": "code",
   "execution_count": 50,
   "metadata": {},
   "outputs": [
    {
     "name": "stdout",
     "output_type": "stream",
     "text": [
      "Средний пользовательский рейтинг платформы Xbox One: 6.521428571428572\n",
      "Средний пользовательский рейтинг платформы PC 6.2696774193548395\n"
     ]
    }
   ],
   "source": [
    "xone_data = actual_data[actual_data['platform'] == 'XOne']['user_score']\n",
    "xone_data = xone_data.dropna()\n",
    "# создаём выборку для игр на Xbox One\n",
    "\n",
    "pc_data = actual_data[actual_data['platform'] == 'PC']['user_score']\n",
    "pc_data = pc_data.dropna()\n",
    "# создаём аналогичную выборку для игр на ПК\n",
    "\n",
    "print('Средний пользовательский рейтинг платформы Xbox One:', xone_data.mean())\n",
    "print('Средний пользовательский рейтинг платформы PC', pc_data.mean())"
   ]
  },
  {
   "cell_type": "markdown",
   "metadata": {},
   "source": [
    "Сформулируем нулевую и альтернативную гипотезы:\n",
    "* H0: Средние пользовательские рейтинги платформ Xbox One и PC равны.\n",
    "* H1: Средние пользовательские рейтинги платформ Xbox One и PC отличаются.\n",
    "\n",
    "Нам нужно проверить двустороннюю гипотезу о равенстве среднего двух генеральных совокупностей по взятым из них выборкам, значит, воспользуемся методом `ttest_ind` библиотеки `scipy` для определения t-критерия."
   ]
  },
  {
   "cell_type": "code",
   "execution_count": 51,
   "metadata": {
    "scrolled": true
   },
   "outputs": [
    {
     "name": "stdout",
     "output_type": "stream",
     "text": [
      "p-значение: 0.14012658403611647\n",
      "Не получилось отвергнуть нулевую гипотезу\n"
     ]
    }
   ],
   "source": [
    "# проверка первой гипотезы\n",
    "\n",
    "alpha = .01\n",
    "\n",
    "results = st.ttest_ind(xone_data, pc_data)\n",
    "\n",
    "print('p-значение:', results.pvalue)\n",
    "\n",
    "\n",
    "if (results.pvalue < alpha):\n",
    "    print(\"Отвергаем нулевую гипотезу\")\n",
    "else:\n",
    "    print(\"Не получилось отвергнуть нулевую гипотезу\")"
   ]
  },
  {
   "cell_type": "markdown",
   "metadata": {},
   "source": [
    "Принимаем нулевую гипотезу: средние пользовательские рейтинги платформ Xbox One и PC равны."
   ]
  },
  {
   "cell_type": "markdown",
   "metadata": {},
   "source": [
    "### 5.2 Проверка гипотезы \"средние пользовательские рейтинги жанров Action и Sports разные\""
   ]
  },
  {
   "cell_type": "code",
   "execution_count": 52,
   "metadata": {},
   "outputs": [
    {
     "name": "stdout",
     "output_type": "stream",
     "text": [
      "Средний пользовательский рейтинг жанра Action: 6.837532133676092\n",
      "Средний пользовательский рейтинг жанра Sports 5.238124999999999\n"
     ]
    }
   ],
   "source": [
    "action_games = actual_data[actual_data['genre'] == 'Action']['user_score']\n",
    "action_games = action_games.dropna()\n",
    "\n",
    "sports_games = actual_data[actual_data['genre'] == 'Sports']['user_score']\n",
    "sports_games = sports_games.dropna()\n",
    "\n",
    "print('Средний пользовательский рейтинг жанра Action:', action_games.mean())\n",
    "print('Средний пользовательский рейтинг жанра Sports', sports_games.mean())"
   ]
  },
  {
   "cell_type": "markdown",
   "metadata": {},
   "source": [
    "Сформулируем нулевую и альтеративную гипотезы:\n",
    "* H0: Средние пользовательские рейтинги жанров Action и Sports одинаковые.\n",
    "* H1: Средние пользовательские рейтинги жанров Action и Sports разные.\n",
    "\n",
    "Применяем тот же метод, что и для первой двусторонней гипотезы."
   ]
  },
  {
   "cell_type": "code",
   "execution_count": 53,
   "metadata": {
    "scrolled": true
   },
   "outputs": [
    {
     "name": "stdout",
     "output_type": "stream",
     "text": [
      "p-значение: 1.0517832389140023e-27\n",
      "Отвергаем нулевую гипотезу\n"
     ]
    }
   ],
   "source": [
    "# проверка второй гипотезы\n",
    "\n",
    "alpha = .05 \n",
    "\n",
    "results = st.ttest_ind(action_games, sports_games)\n",
    "\n",
    "print('p-значение:', results.pvalue)\n",
    "\n",
    "if (results.pvalue < alpha):\n",
    "    print(\"Отвергаем нулевую гипотезу\")\n",
    "else:\n",
    "    print(\"Не получилось отвергнуть нулевую гипотезу\")"
   ]
  },
  {
   "cell_type": "markdown",
   "metadata": {},
   "source": [
    "Отвергаем нулевую гипотезу и принимаем альтернативную гипотезу: средние пользовательские рейтинги жанров Action и Sports разные."
   ]
  },
  {
   "cell_type": "markdown",
   "metadata": {},
   "source": [
    "### Общий вывод"
   ]
  },
  {
   "cell_type": "markdown",
   "metadata": {},
   "source": [
    "**Предобработка данных**\n",
    "* был изменён регистр названий всех столбцов.\n",
    "* были обработаны пропуски вида 'tbd' в столбце `user_score`.\n",
    "* заменены типы некоторых столбцов на целочисленный.\n",
    "* был добавлен новый столбец с общей суммой продаж по регионам."
   ]
  },
  {
   "cell_type": "markdown",
   "metadata": {},
   "source": [
    "**Исследовательский анализ данных**\n",
    "* был обнаружен список самых популярных платформ за всё время - PS2, Xbox 360, PS3, Nintendo DS и Nintendo Wii.\n",
    "* была обнаружена связь между оценками игр и их продажами. Чем выше оценка игры от критиков, тем слегка больше её продажи.\n",
    "* был выявлен список самых популярных жанров - экшены, шутеры и платформеры."
   ]
  },
  {
   "cell_type": "markdown",
   "metadata": {},
   "source": [
    "**Портреты пользователей каждого региона за 2016-ый год**\n",
    "\n",
    "***Игры, которые будут продаваться в Северной Америке лучше всего:***\n",
    "* ESRB: \"Для всех\" и \"От 17 и выше\"\n",
    "* Жанры: Шутеры и экшены\n",
    "* Платформы: PS4, XOne\n",
    "\n",
    "***Игры, которые будут продаваться в Европе лучше всего:***\n",
    "* Жанры: Шутеры, спортивные игры и экшены\n",
    "* Платформы: PS4, XOne\n",
    "\n",
    "***Игры, которые будут продаваться в Японии лучше всего:***\n",
    "* Жанры: РПГ и экшены\n",
    "* Платформы: Wii U"
   ]
  },
  {
   "cell_type": "markdown",
   "metadata": {},
   "source": [
    "**Проверка гипотез**\n",
    "\n",
    "Результаты гипотез: \n",
    "\n",
    "Средние пользовательские рейтинги платформ Xbox One и PC равны. \n",
    "\n",
    "Средние пользовательские рейтинги жанров Action и Sports отличаются."
   ]
  },
  {
   "cell_type": "markdown",
   "metadata": {},
   "source": [
    "***В результате данного проекта были выявлены параметры игр, которые будут продаваться лучше всего, и на которые следует потратить рекламный бюджет интернет-магазина \"Стримчик\".***\n",
    "\n",
    "***Самыми популярными будут игры в жанре экшен или шутер, выпущенные на платформы PS4 или Xbox One, с возрастным ограничением \"От 17 и выше\" и рекламой в североамериканском регионе. Также стоит обратить внимание на оценки игры, выставленные критиками: чем они выше, тем слегка будут выше продажи!***"
   ]
  }
 ],
 "metadata": {
  "ExecuteTimeLog": [
   {
    "duration": 95,
    "start_time": "2022-10-26T21:38:40.057Z"
   },
   {
    "duration": 1247,
    "start_time": "2022-10-26T21:46:04.133Z"
   },
   {
    "duration": 17,
    "start_time": "2022-10-26T21:46:39.394Z"
   },
   {
    "duration": 13,
    "start_time": "2022-10-26T21:49:12.993Z"
   },
   {
    "duration": 5,
    "start_time": "2022-10-26T21:59:35.730Z"
   },
   {
    "duration": 89,
    "start_time": "2022-10-26T22:03:47.000Z"
   },
   {
    "duration": 7,
    "start_time": "2022-10-26T22:03:51.841Z"
   },
   {
    "duration": 13,
    "start_time": "2022-10-26T22:04:00.402Z"
   },
   {
    "duration": 25,
    "start_time": "2022-10-26T22:05:27.762Z"
   },
   {
    "duration": 17,
    "start_time": "2022-10-26T22:05:41.120Z"
   },
   {
    "duration": 9,
    "start_time": "2022-10-26T22:06:00.159Z"
   },
   {
    "duration": 10,
    "start_time": "2022-10-26T22:06:06.961Z"
   },
   {
    "duration": 7,
    "start_time": "2022-10-26T22:06:12.825Z"
   },
   {
    "duration": 7,
    "start_time": "2022-10-26T22:06:23.356Z"
   },
   {
    "duration": 43,
    "start_time": "2022-10-26T22:07:43.076Z"
   },
   {
    "duration": 7,
    "start_time": "2022-10-26T22:07:50.954Z"
   },
   {
    "duration": 8,
    "start_time": "2022-10-26T22:07:57.593Z"
   },
   {
    "duration": 23,
    "start_time": "2022-10-26T22:09:43.941Z"
   },
   {
    "duration": 12,
    "start_time": "2022-10-26T22:09:50.762Z"
   },
   {
    "duration": 7,
    "start_time": "2022-10-26T22:09:58.640Z"
   },
   {
    "duration": 16,
    "start_time": "2022-10-26T22:09:59.377Z"
   },
   {
    "duration": 43,
    "start_time": "2022-10-27T06:49:58.907Z"
   },
   {
    "duration": 1541,
    "start_time": "2022-10-27T06:50:03.437Z"
   },
   {
    "duration": 18,
    "start_time": "2022-10-27T06:50:04.981Z"
   },
   {
    "duration": 15,
    "start_time": "2022-10-27T06:50:05.000Z"
   },
   {
    "duration": 5,
    "start_time": "2022-10-27T06:50:05.017Z"
   },
   {
    "duration": 15,
    "start_time": "2022-10-27T06:50:05.023Z"
   },
   {
    "duration": 21,
    "start_time": "2022-10-27T06:50:05.039Z"
   },
   {
    "duration": 6,
    "start_time": "2022-10-27T06:50:05.061Z"
   },
   {
    "duration": 3,
    "start_time": "2022-10-27T06:54:16.995Z"
   },
   {
    "duration": 6,
    "start_time": "2022-10-27T06:54:21.473Z"
   },
   {
    "duration": 6,
    "start_time": "2022-10-27T06:54:34.007Z"
   },
   {
    "duration": 95,
    "start_time": "2022-10-27T06:55:12.825Z"
   },
   {
    "duration": 5,
    "start_time": "2022-10-27T06:55:17.610Z"
   },
   {
    "duration": 8,
    "start_time": "2022-10-27T06:56:33.866Z"
   },
   {
    "duration": 5,
    "start_time": "2022-10-27T06:56:37.425Z"
   },
   {
    "duration": 5,
    "start_time": "2022-10-27T06:56:57.774Z"
   },
   {
    "duration": 6,
    "start_time": "2022-10-27T06:57:02.435Z"
   },
   {
    "duration": 5,
    "start_time": "2022-10-27T06:57:22.140Z"
   },
   {
    "duration": 9,
    "start_time": "2022-10-27T06:59:05.552Z"
   },
   {
    "duration": 9,
    "start_time": "2022-10-27T06:59:15.641Z"
   },
   {
    "duration": 17,
    "start_time": "2022-10-27T07:08:24.650Z"
   },
   {
    "duration": 3,
    "start_time": "2022-10-27T07:09:22.722Z"
   },
   {
    "duration": 748,
    "start_time": "2022-10-27T07:10:47.132Z"
   },
   {
    "duration": 15,
    "start_time": "2022-10-27T07:11:17.363Z"
   },
   {
    "duration": 7,
    "start_time": "2022-10-27T07:13:22.743Z"
   },
   {
    "duration": 9,
    "start_time": "2022-10-27T07:15:12.559Z"
   },
   {
    "duration": 685,
    "start_time": "2022-10-27T07:15:34.974Z"
   },
   {
    "duration": 8,
    "start_time": "2022-10-27T07:15:53.300Z"
   },
   {
    "duration": 203,
    "start_time": "2022-10-27T07:31:21.116Z"
   },
   {
    "duration": 1158,
    "start_time": "2022-10-27T07:32:14.148Z"
   },
   {
    "duration": 17,
    "start_time": "2022-10-27T07:32:15.308Z"
   },
   {
    "duration": 18,
    "start_time": "2022-10-27T07:32:15.326Z"
   },
   {
    "duration": 6,
    "start_time": "2022-10-27T07:32:15.346Z"
   },
   {
    "duration": 9,
    "start_time": "2022-10-27T07:32:15.353Z"
   },
   {
    "duration": 20,
    "start_time": "2022-10-27T07:32:15.364Z"
   },
   {
    "duration": 5,
    "start_time": "2022-10-27T07:32:15.386Z"
   },
   {
    "duration": 23,
    "start_time": "2022-10-27T07:32:15.392Z"
   },
   {
    "duration": 6,
    "start_time": "2022-10-27T07:32:15.433Z"
   },
   {
    "duration": 10,
    "start_time": "2022-10-27T07:32:15.441Z"
   },
   {
    "duration": 12,
    "start_time": "2022-10-27T07:32:15.452Z"
   },
   {
    "duration": 13,
    "start_time": "2022-10-27T07:32:15.466Z"
   },
   {
    "duration": 7,
    "start_time": "2022-10-27T07:32:15.481Z"
   },
   {
    "duration": 7,
    "start_time": "2022-10-27T07:32:15.490Z"
   },
   {
    "duration": 242,
    "start_time": "2022-10-27T07:32:15.499Z"
   },
   {
    "duration": 94,
    "start_time": "2022-10-27T07:32:57.540Z"
   },
   {
    "duration": 6,
    "start_time": "2022-10-27T07:33:02.178Z"
   },
   {
    "duration": 6,
    "start_time": "2022-10-27T07:33:08.574Z"
   },
   {
    "duration": 311,
    "start_time": "2022-10-27T07:40:13.423Z"
   },
   {
    "duration": 308,
    "start_time": "2022-10-27T07:40:21.686Z"
   },
   {
    "duration": 12,
    "start_time": "2022-10-27T07:41:54.647Z"
   },
   {
    "duration": 14,
    "start_time": "2022-10-27T07:43:34.175Z"
   },
   {
    "duration": 12,
    "start_time": "2022-10-27T07:43:40.180Z"
   },
   {
    "duration": 6,
    "start_time": "2022-10-27T07:43:47.953Z"
   },
   {
    "duration": 10,
    "start_time": "2022-10-27T07:43:50.154Z"
   },
   {
    "duration": 12,
    "start_time": "2022-10-27T07:44:08.292Z"
   },
   {
    "duration": 6,
    "start_time": "2022-10-27T07:44:15.015Z"
   },
   {
    "duration": 3,
    "start_time": "2022-10-27T07:54:44.675Z"
   },
   {
    "duration": 12,
    "start_time": "2022-10-27T07:58:09.911Z"
   },
   {
    "duration": 8,
    "start_time": "2022-10-27T07:58:43.345Z"
   },
   {
    "duration": 11,
    "start_time": "2022-10-27T07:58:45.522Z"
   },
   {
    "duration": 8,
    "start_time": "2022-10-27T07:58:45.937Z"
   },
   {
    "duration": 26,
    "start_time": "2022-10-27T07:59:40.156Z"
   },
   {
    "duration": 11,
    "start_time": "2022-10-27T08:00:12.609Z"
   },
   {
    "duration": 7,
    "start_time": "2022-10-27T08:00:13.475Z"
   },
   {
    "duration": 44,
    "start_time": "2022-10-27T08:01:27.007Z"
   },
   {
    "duration": 140,
    "start_time": "2022-10-27T08:03:56.971Z"
   },
   {
    "duration": 336,
    "start_time": "2022-10-27T08:04:03.909Z"
   },
   {
    "duration": 12,
    "start_time": "2022-10-27T08:18:12.208Z"
   },
   {
    "duration": 8,
    "start_time": "2022-10-27T08:18:12.949Z"
   },
   {
    "duration": 12,
    "start_time": "2022-10-27T08:18:23.114Z"
   },
   {
    "duration": 7,
    "start_time": "2022-10-27T08:18:23.487Z"
   },
   {
    "duration": 10,
    "start_time": "2022-10-27T08:18:38.840Z"
   },
   {
    "duration": 7,
    "start_time": "2022-10-27T08:18:39.377Z"
   },
   {
    "duration": 12,
    "start_time": "2022-10-27T08:18:52.201Z"
   },
   {
    "duration": 6,
    "start_time": "2022-10-27T08:18:52.560Z"
   },
   {
    "duration": 11,
    "start_time": "2022-10-27T08:18:57.408Z"
   },
   {
    "duration": 7,
    "start_time": "2022-10-27T08:18:57.743Z"
   },
   {
    "duration": 11,
    "start_time": "2022-10-27T08:19:16.794Z"
   },
   {
    "duration": 8,
    "start_time": "2022-10-27T08:19:17.302Z"
   },
   {
    "duration": 10,
    "start_time": "2022-10-27T08:19:29.688Z"
   },
   {
    "duration": 12,
    "start_time": "2022-10-27T08:19:32.093Z"
   },
   {
    "duration": 8,
    "start_time": "2022-10-27T08:19:32.501Z"
   },
   {
    "duration": 1154,
    "start_time": "2022-10-27T08:19:37.686Z"
   },
   {
    "duration": 1096,
    "start_time": "2022-10-27T08:20:14.396Z"
   },
   {
    "duration": 18,
    "start_time": "2022-10-27T08:20:15.493Z"
   },
   {
    "duration": 16,
    "start_time": "2022-10-27T08:20:15.513Z"
   },
   {
    "duration": 4,
    "start_time": "2022-10-27T08:20:15.532Z"
   },
   {
    "duration": 12,
    "start_time": "2022-10-27T08:20:15.537Z"
   },
   {
    "duration": 20,
    "start_time": "2022-10-27T08:20:15.551Z"
   },
   {
    "duration": 5,
    "start_time": "2022-10-27T08:20:15.572Z"
   },
   {
    "duration": 30,
    "start_time": "2022-10-27T08:20:15.578Z"
   },
   {
    "duration": 5,
    "start_time": "2022-10-27T08:20:15.610Z"
   },
   {
    "duration": 17,
    "start_time": "2022-10-27T08:20:15.618Z"
   },
   {
    "duration": 9,
    "start_time": "2022-10-27T08:20:15.637Z"
   },
   {
    "duration": 9,
    "start_time": "2022-10-27T08:20:15.648Z"
   },
   {
    "duration": 10,
    "start_time": "2022-10-27T08:20:15.658Z"
   },
   {
    "duration": 8,
    "start_time": "2022-10-27T08:20:15.669Z"
   },
   {
    "duration": 219,
    "start_time": "2022-10-27T08:20:15.678Z"
   },
   {
    "duration": 5,
    "start_time": "2022-10-27T08:20:15.899Z"
   },
   {
    "duration": 334,
    "start_time": "2022-10-27T08:20:15.905Z"
   },
   {
    "duration": 4,
    "start_time": "2022-10-27T08:20:16.242Z"
   },
   {
    "duration": 140,
    "start_time": "2022-10-27T08:20:16.248Z"
   },
   {
    "duration": 0,
    "start_time": "2022-10-27T08:20:16.390Z"
   },
   {
    "duration": 0,
    "start_time": "2022-10-27T08:20:16.391Z"
   },
   {
    "duration": 11,
    "start_time": "2022-10-27T08:20:24.252Z"
   },
   {
    "duration": 8,
    "start_time": "2022-10-27T08:20:24.919Z"
   },
   {
    "duration": 163,
    "start_time": "2022-10-27T08:20:26.100Z"
   },
   {
    "duration": 1071,
    "start_time": "2022-10-27T08:20:32.790Z"
   },
   {
    "duration": 30,
    "start_time": "2022-10-27T08:23:01.160Z"
   },
   {
    "duration": 8,
    "start_time": "2022-10-27T08:23:14.320Z"
   },
   {
    "duration": 20,
    "start_time": "2022-10-27T08:23:25.552Z"
   },
   {
    "duration": 30,
    "start_time": "2022-10-27T08:23:37.868Z"
   },
   {
    "duration": 27,
    "start_time": "2022-10-27T08:24:21.873Z"
   },
   {
    "duration": 1287,
    "start_time": "2022-10-27T08:26:09.535Z"
   },
   {
    "duration": 17,
    "start_time": "2022-10-27T08:26:10.824Z"
   },
   {
    "duration": 15,
    "start_time": "2022-10-27T08:26:10.843Z"
   },
   {
    "duration": 7,
    "start_time": "2022-10-27T08:26:10.860Z"
   },
   {
    "duration": 9,
    "start_time": "2022-10-27T08:26:10.868Z"
   },
   {
    "duration": 27,
    "start_time": "2022-10-27T08:26:10.879Z"
   },
   {
    "duration": 26,
    "start_time": "2022-10-27T08:26:10.908Z"
   },
   {
    "duration": 17,
    "start_time": "2022-10-27T08:26:10.936Z"
   },
   {
    "duration": 7,
    "start_time": "2022-10-27T08:26:10.956Z"
   },
   {
    "duration": 10,
    "start_time": "2022-10-27T08:26:10.966Z"
   },
   {
    "duration": 20,
    "start_time": "2022-10-27T08:26:10.978Z"
   },
   {
    "duration": 8,
    "start_time": "2022-10-27T08:26:10.999Z"
   },
   {
    "duration": 25,
    "start_time": "2022-10-27T08:26:11.009Z"
   },
   {
    "duration": 11,
    "start_time": "2022-10-27T08:26:11.036Z"
   },
   {
    "duration": 229,
    "start_time": "2022-10-27T08:26:11.048Z"
   },
   {
    "duration": 6,
    "start_time": "2022-10-27T08:26:11.280Z"
   },
   {
    "duration": 391,
    "start_time": "2022-10-27T08:26:11.288Z"
   },
   {
    "duration": 7,
    "start_time": "2022-10-27T08:26:11.681Z"
   },
   {
    "duration": 13,
    "start_time": "2022-10-27T08:26:11.690Z"
   },
   {
    "duration": 149,
    "start_time": "2022-10-27T08:26:11.705Z"
   },
   {
    "duration": 0,
    "start_time": "2022-10-27T08:26:11.856Z"
   },
   {
    "duration": 0,
    "start_time": "2022-10-27T08:26:11.857Z"
   },
   {
    "duration": 11,
    "start_time": "2022-10-27T08:26:29.397Z"
   },
   {
    "duration": 4,
    "start_time": "2022-10-27T08:26:31.406Z"
   },
   {
    "duration": 12,
    "start_time": "2022-10-27T08:27:02.471Z"
   },
   {
    "duration": 302,
    "start_time": "2022-10-27T08:27:06.927Z"
   },
   {
    "duration": 320,
    "start_time": "2022-10-27T08:35:05.629Z"
   },
   {
    "duration": 11,
    "start_time": "2022-10-27T08:45:38.261Z"
   },
   {
    "duration": 10,
    "start_time": "2022-10-27T08:45:45.904Z"
   },
   {
    "duration": 7,
    "start_time": "2022-10-27T08:47:14.506Z"
   },
   {
    "duration": 247,
    "start_time": "2022-10-27T08:52:11.981Z"
   },
   {
    "duration": 214,
    "start_time": "2022-10-27T08:53:01.386Z"
   },
   {
    "duration": 89,
    "start_time": "2022-10-27T09:26:55.221Z"
   },
   {
    "duration": 9,
    "start_time": "2022-10-27T09:28:10.094Z"
   },
   {
    "duration": 3,
    "start_time": "2022-10-27T09:28:51.998Z"
   },
   {
    "duration": 3,
    "start_time": "2022-10-27T09:29:26.802Z"
   },
   {
    "duration": 3,
    "start_time": "2022-10-27T09:29:42.929Z"
   },
   {
    "duration": 19,
    "start_time": "2022-10-27T09:30:10.038Z"
   },
   {
    "duration": 19,
    "start_time": "2022-10-27T09:30:17.678Z"
   },
   {
    "duration": 16,
    "start_time": "2022-10-27T09:30:23.281Z"
   },
   {
    "duration": 16,
    "start_time": "2022-10-27T09:30:39.407Z"
   },
   {
    "duration": 7,
    "start_time": "2022-10-27T09:30:47.835Z"
   },
   {
    "duration": 16,
    "start_time": "2022-10-27T09:30:51.299Z"
   },
   {
    "duration": 2,
    "start_time": "2022-10-27T09:30:54.875Z"
   },
   {
    "duration": 3,
    "start_time": "2022-10-27T09:30:55.421Z"
   },
   {
    "duration": 1263,
    "start_time": "2022-10-27T09:31:01.842Z"
   },
   {
    "duration": 19,
    "start_time": "2022-10-27T09:31:03.107Z"
   },
   {
    "duration": 16,
    "start_time": "2022-10-27T09:31:03.127Z"
   },
   {
    "duration": 8,
    "start_time": "2022-10-27T09:31:03.144Z"
   },
   {
    "duration": 7,
    "start_time": "2022-10-27T09:31:03.154Z"
   },
   {
    "duration": 21,
    "start_time": "2022-10-27T09:31:03.162Z"
   },
   {
    "duration": 5,
    "start_time": "2022-10-27T09:31:03.185Z"
   },
   {
    "duration": 23,
    "start_time": "2022-10-27T09:31:03.191Z"
   },
   {
    "duration": 21,
    "start_time": "2022-10-27T09:31:03.216Z"
   },
   {
    "duration": 14,
    "start_time": "2022-10-27T09:31:03.239Z"
   },
   {
    "duration": 12,
    "start_time": "2022-10-27T09:31:03.255Z"
   },
   {
    "duration": 8,
    "start_time": "2022-10-27T09:31:03.268Z"
   },
   {
    "duration": 7,
    "start_time": "2022-10-27T09:31:03.278Z"
   },
   {
    "duration": 8,
    "start_time": "2022-10-27T09:31:03.288Z"
   },
   {
    "duration": 239,
    "start_time": "2022-10-27T09:31:03.298Z"
   },
   {
    "duration": 6,
    "start_time": "2022-10-27T09:31:03.540Z"
   },
   {
    "duration": 342,
    "start_time": "2022-10-27T09:31:03.548Z"
   },
   {
    "duration": 6,
    "start_time": "2022-10-27T09:31:03.892Z"
   },
   {
    "duration": 8,
    "start_time": "2022-10-27T09:31:03.900Z"
   },
   {
    "duration": 14,
    "start_time": "2022-10-27T09:31:03.910Z"
   },
   {
    "duration": 8,
    "start_time": "2022-10-27T09:31:03.934Z"
   },
   {
    "duration": 285,
    "start_time": "2022-10-27T09:31:03.944Z"
   },
   {
    "duration": 4,
    "start_time": "2022-10-27T09:31:04.231Z"
   },
   {
    "duration": 310,
    "start_time": "2022-10-27T09:31:04.237Z"
   },
   {
    "duration": 3,
    "start_time": "2022-10-27T09:31:04.549Z"
   },
   {
    "duration": 7,
    "start_time": "2022-10-27T09:31:04.553Z"
   },
   {
    "duration": 16,
    "start_time": "2022-10-27T09:31:04.562Z"
   },
   {
    "duration": 7,
    "start_time": "2022-10-27T09:31:04.580Z"
   },
   {
    "duration": 193,
    "start_time": "2022-10-27T09:31:04.589Z"
   },
   {
    "duration": 264,
    "start_time": "2022-10-27T09:31:04.784Z"
   },
   {
    "duration": 9,
    "start_time": "2022-10-27T09:31:05.050Z"
   },
   {
    "duration": 9,
    "start_time": "2022-10-27T09:31:14.892Z"
   },
   {
    "duration": 391,
    "start_time": "2022-10-27T09:31:41.838Z"
   },
   {
    "duration": 8,
    "start_time": "2022-10-27T09:32:36.081Z"
   },
   {
    "duration": 1130,
    "start_time": "2022-10-27T09:32:36.780Z"
   },
   {
    "duration": 8,
    "start_time": "2022-10-27T09:33:29.293Z"
   },
   {
    "duration": 1259,
    "start_time": "2022-10-27T09:33:30.257Z"
   },
   {
    "duration": 9,
    "start_time": "2022-10-27T09:34:09.329Z"
   },
   {
    "duration": 1190,
    "start_time": "2022-10-27T09:34:09.766Z"
   },
   {
    "duration": 8,
    "start_time": "2022-10-27T09:36:52.112Z"
   },
   {
    "duration": 1048,
    "start_time": "2022-10-27T09:36:52.651Z"
   },
   {
    "duration": 102,
    "start_time": "2022-10-27T09:37:20.252Z"
   },
   {
    "duration": 1081,
    "start_time": "2022-10-27T09:37:20.848Z"
   },
   {
    "duration": 9,
    "start_time": "2022-10-27T09:37:31.512Z"
   },
   {
    "duration": 1162,
    "start_time": "2022-10-27T09:37:41.576Z"
   },
   {
    "duration": 9,
    "start_time": "2022-10-27T09:39:51.288Z"
   },
   {
    "duration": 1174,
    "start_time": "2022-10-27T09:39:51.896Z"
   },
   {
    "duration": 9,
    "start_time": "2022-10-27T09:45:31.552Z"
   },
   {
    "duration": 1080,
    "start_time": "2022-10-27T09:45:32.160Z"
   },
   {
    "duration": 348,
    "start_time": "2022-10-27T10:07:34.013Z"
   },
   {
    "duration": 21,
    "start_time": "2022-10-27T10:08:32.381Z"
   },
   {
    "duration": 31,
    "start_time": "2022-10-27T10:39:14.624Z"
   },
   {
    "duration": 6,
    "start_time": "2022-10-27T10:39:19.592Z"
   },
   {
    "duration": 10,
    "start_time": "2022-10-27T10:39:36.571Z"
   },
   {
    "duration": 12,
    "start_time": "2022-10-27T10:39:51.996Z"
   },
   {
    "duration": 9,
    "start_time": "2022-10-27T11:11:59.653Z"
   },
   {
    "duration": 380,
    "start_time": "2022-10-27T11:12:52.030Z"
   },
   {
    "duration": 488,
    "start_time": "2022-10-27T11:13:40.585Z"
   },
   {
    "duration": 377,
    "start_time": "2022-10-27T11:14:44.013Z"
   },
   {
    "duration": 393,
    "start_time": "2022-10-27T11:14:58.410Z"
   },
   {
    "duration": 393,
    "start_time": "2022-10-27T11:17:05.306Z"
   },
   {
    "duration": 7,
    "start_time": "2022-10-27T11:17:17.542Z"
   },
   {
    "duration": 389,
    "start_time": "2022-10-27T11:17:18.586Z"
   },
   {
    "duration": 402,
    "start_time": "2022-10-27T11:18:54.994Z"
   },
   {
    "duration": 107,
    "start_time": "2022-10-27T11:19:32.271Z"
   },
   {
    "duration": 390,
    "start_time": "2022-10-27T11:19:32.823Z"
   },
   {
    "duration": 380,
    "start_time": "2022-10-27T11:19:33.302Z"
   },
   {
    "duration": 8,
    "start_time": "2022-10-27T11:20:29.391Z"
   },
   {
    "duration": 388,
    "start_time": "2022-10-27T11:20:30.255Z"
   },
   {
    "duration": 418,
    "start_time": "2022-10-27T11:20:31.311Z"
   },
   {
    "duration": 514,
    "start_time": "2022-10-27T11:20:56.115Z"
   },
   {
    "duration": 490,
    "start_time": "2022-10-27T11:21:24.055Z"
   },
   {
    "duration": 13,
    "start_time": "2022-10-27T12:43:54.155Z"
   },
   {
    "duration": 18,
    "start_time": "2022-10-27T12:44:06.336Z"
   },
   {
    "duration": 14,
    "start_time": "2022-10-27T12:44:46.952Z"
   },
   {
    "duration": 16,
    "start_time": "2022-10-27T12:45:06.526Z"
   },
   {
    "duration": 20,
    "start_time": "2022-10-27T12:45:46.380Z"
   },
   {
    "duration": 14,
    "start_time": "2022-10-27T12:45:52.307Z"
   },
   {
    "duration": 13,
    "start_time": "2022-10-27T12:46:01.263Z"
   },
   {
    "duration": 20,
    "start_time": "2022-10-27T12:46:27.951Z"
   },
   {
    "duration": 12,
    "start_time": "2022-10-27T12:47:24.043Z"
   },
   {
    "duration": 10,
    "start_time": "2022-10-27T12:48:09.363Z"
   },
   {
    "duration": 8,
    "start_time": "2022-10-27T12:48:26.911Z"
   },
   {
    "duration": 9,
    "start_time": "2022-10-27T12:48:32.387Z"
   },
   {
    "duration": 6,
    "start_time": "2022-10-27T12:55:37.051Z"
   },
   {
    "duration": 10,
    "start_time": "2022-10-27T12:56:23.052Z"
   },
   {
    "duration": 6,
    "start_time": "2022-10-27T12:56:38.196Z"
   },
   {
    "duration": 9,
    "start_time": "2022-10-27T12:57:25.180Z"
   },
   {
    "duration": 6,
    "start_time": "2022-10-27T12:57:28.259Z"
   },
   {
    "duration": 61,
    "start_time": "2022-10-27T12:57:51.447Z"
   },
   {
    "duration": 9,
    "start_time": "2022-10-27T12:58:11.332Z"
   },
   {
    "duration": 6,
    "start_time": "2022-10-27T12:58:12.400Z"
   },
   {
    "duration": 10,
    "start_time": "2022-10-27T12:58:17.028Z"
   },
   {
    "duration": 6,
    "start_time": "2022-10-27T12:58:17.874Z"
   },
   {
    "duration": 12,
    "start_time": "2022-10-27T13:07:53.555Z"
   },
   {
    "duration": 6,
    "start_time": "2022-10-27T13:12:13.265Z"
   },
   {
    "duration": 14,
    "start_time": "2022-10-27T13:13:16.750Z"
   },
   {
    "duration": 13,
    "start_time": "2022-10-27T13:13:28.333Z"
   },
   {
    "duration": 7,
    "start_time": "2022-10-27T13:13:35.113Z"
   },
   {
    "duration": 6,
    "start_time": "2022-10-27T13:13:48.989Z"
   },
   {
    "duration": 6,
    "start_time": "2022-10-27T13:14:00.141Z"
   },
   {
    "duration": 5,
    "start_time": "2022-10-27T13:14:06.526Z"
   },
   {
    "duration": 14,
    "start_time": "2022-10-27T13:14:17.981Z"
   },
   {
    "duration": 6,
    "start_time": "2022-10-27T13:14:34.273Z"
   },
   {
    "duration": 13,
    "start_time": "2022-10-27T13:22:41.325Z"
   },
   {
    "duration": 10,
    "start_time": "2022-10-27T13:22:47.914Z"
   },
   {
    "duration": 5,
    "start_time": "2022-10-27T13:22:48.674Z"
   },
   {
    "duration": 9,
    "start_time": "2022-10-27T13:22:51.134Z"
   },
   {
    "duration": 6,
    "start_time": "2022-10-27T13:22:56.874Z"
   },
   {
    "duration": 5,
    "start_time": "2022-10-27T13:35:06.536Z"
   },
   {
    "duration": 1243,
    "start_time": "2022-10-27T13:35:54.744Z"
   },
   {
    "duration": 17,
    "start_time": "2022-10-27T13:35:55.989Z"
   },
   {
    "duration": 14,
    "start_time": "2022-10-27T13:35:56.007Z"
   },
   {
    "duration": 5,
    "start_time": "2022-10-27T13:35:56.022Z"
   },
   {
    "duration": 9,
    "start_time": "2022-10-27T13:35:56.028Z"
   },
   {
    "duration": 19,
    "start_time": "2022-10-27T13:35:56.038Z"
   },
   {
    "duration": 4,
    "start_time": "2022-10-27T13:35:56.059Z"
   },
   {
    "duration": 21,
    "start_time": "2022-10-27T13:35:56.064Z"
   },
   {
    "duration": 5,
    "start_time": "2022-10-27T13:35:56.086Z"
   },
   {
    "duration": 5,
    "start_time": "2022-10-27T13:35:56.094Z"
   },
   {
    "duration": 33,
    "start_time": "2022-10-27T13:35:56.100Z"
   },
   {
    "duration": 4,
    "start_time": "2022-10-27T13:35:56.135Z"
   },
   {
    "duration": 9,
    "start_time": "2022-10-27T13:35:56.141Z"
   },
   {
    "duration": 8,
    "start_time": "2022-10-27T13:35:56.152Z"
   },
   {
    "duration": 290,
    "start_time": "2022-10-27T13:35:56.161Z"
   },
   {
    "duration": 7,
    "start_time": "2022-10-27T13:35:56.453Z"
   },
   {
    "duration": 369,
    "start_time": "2022-10-27T13:35:56.464Z"
   },
   {
    "duration": 7,
    "start_time": "2022-10-27T13:35:56.835Z"
   },
   {
    "duration": 5,
    "start_time": "2022-10-27T13:35:56.843Z"
   },
   {
    "duration": 14,
    "start_time": "2022-10-27T13:35:56.849Z"
   },
   {
    "duration": 12,
    "start_time": "2022-10-27T13:35:56.865Z"
   },
   {
    "duration": 326,
    "start_time": "2022-10-27T13:35:56.879Z"
   },
   {
    "duration": 2,
    "start_time": "2022-10-27T13:35:57.207Z"
   },
   {
    "duration": 302,
    "start_time": "2022-10-27T13:35:57.211Z"
   },
   {
    "duration": 3,
    "start_time": "2022-10-27T13:35:57.515Z"
   },
   {
    "duration": 14,
    "start_time": "2022-10-27T13:35:57.521Z"
   },
   {
    "duration": 19,
    "start_time": "2022-10-27T13:35:57.537Z"
   },
   {
    "duration": 12,
    "start_time": "2022-10-27T13:35:57.560Z"
   },
   {
    "duration": 188,
    "start_time": "2022-10-27T13:35:57.573Z"
   },
   {
    "duration": 248,
    "start_time": "2022-10-27T13:35:57.762Z"
   },
   {
    "duration": 8,
    "start_time": "2022-10-27T13:35:58.012Z"
   },
   {
    "duration": 1188,
    "start_time": "2022-10-27T13:35:58.021Z"
   },
   {
    "duration": 5,
    "start_time": "2022-10-27T13:35:59.211Z"
   },
   {
    "duration": 23,
    "start_time": "2022-10-27T13:35:59.218Z"
   },
   {
    "duration": 13,
    "start_time": "2022-10-27T13:35:59.243Z"
   },
   {
    "duration": 350,
    "start_time": "2022-10-27T13:35:59.257Z"
   },
   {
    "duration": 8,
    "start_time": "2022-10-27T13:35:59.608Z"
   },
   {
    "duration": 413,
    "start_time": "2022-10-27T13:35:59.617Z"
   },
   {
    "duration": 407,
    "start_time": "2022-10-27T13:36:00.033Z"
   },
   {
    "duration": 515,
    "start_time": "2022-10-27T13:36:00.442Z"
   },
   {
    "duration": 409,
    "start_time": "2022-10-27T13:36:00.959Z"
   },
   {
    "duration": 430,
    "start_time": "2022-10-27T13:36:01.370Z"
   },
   {
    "duration": 435,
    "start_time": "2022-10-27T13:36:01.801Z"
   },
   {
    "duration": 10,
    "start_time": "2022-10-27T13:36:02.237Z"
   },
   {
    "duration": 6,
    "start_time": "2022-10-27T13:36:02.248Z"
   },
   {
    "duration": 13,
    "start_time": "2022-10-27T13:36:02.256Z"
   },
   {
    "duration": 11,
    "start_time": "2022-10-27T13:36:02.271Z"
   },
   {
    "duration": 1223,
    "start_time": "2022-10-27T14:15:11.761Z"
   },
   {
    "duration": 16,
    "start_time": "2022-10-27T14:15:12.986Z"
   },
   {
    "duration": 13,
    "start_time": "2022-10-27T14:15:13.004Z"
   },
   {
    "duration": 4,
    "start_time": "2022-10-27T14:15:13.019Z"
   },
   {
    "duration": 38,
    "start_time": "2022-10-27T14:15:13.025Z"
   },
   {
    "duration": 19,
    "start_time": "2022-10-27T14:15:13.064Z"
   },
   {
    "duration": 4,
    "start_time": "2022-10-27T14:15:13.085Z"
   },
   {
    "duration": 19,
    "start_time": "2022-10-27T14:15:13.091Z"
   },
   {
    "duration": 5,
    "start_time": "2022-10-27T14:15:13.112Z"
   },
   {
    "duration": 6,
    "start_time": "2022-10-27T14:15:13.120Z"
   },
   {
    "duration": 17,
    "start_time": "2022-10-27T14:15:13.128Z"
   },
   {
    "duration": 15,
    "start_time": "2022-10-27T14:15:13.146Z"
   },
   {
    "duration": 8,
    "start_time": "2022-10-27T14:15:13.162Z"
   },
   {
    "duration": 11,
    "start_time": "2022-10-27T14:15:13.172Z"
   },
   {
    "duration": 217,
    "start_time": "2022-10-27T14:15:13.185Z"
   },
   {
    "duration": 6,
    "start_time": "2022-10-27T14:15:13.405Z"
   },
   {
    "duration": 340,
    "start_time": "2022-10-27T14:15:13.413Z"
   },
   {
    "duration": 7,
    "start_time": "2022-10-27T14:15:13.755Z"
   },
   {
    "duration": 7,
    "start_time": "2022-10-27T14:15:13.764Z"
   },
   {
    "duration": 15,
    "start_time": "2022-10-27T14:15:13.772Z"
   },
   {
    "duration": 8,
    "start_time": "2022-10-27T14:15:13.788Z"
   },
   {
    "duration": 303,
    "start_time": "2022-10-27T14:15:13.798Z"
   },
   {
    "duration": 3,
    "start_time": "2022-10-27T14:15:14.103Z"
   },
   {
    "duration": 302,
    "start_time": "2022-10-27T14:15:14.107Z"
   },
   {
    "duration": 3,
    "start_time": "2022-10-27T14:15:14.411Z"
   },
   {
    "duration": 10,
    "start_time": "2022-10-27T14:15:14.416Z"
   },
   {
    "duration": 17,
    "start_time": "2022-10-27T14:15:14.444Z"
   },
   {
    "duration": 7,
    "start_time": "2022-10-27T14:15:14.464Z"
   },
   {
    "duration": 189,
    "start_time": "2022-10-27T14:15:14.473Z"
   },
   {
    "duration": 245,
    "start_time": "2022-10-27T14:15:14.663Z"
   },
   {
    "duration": 9,
    "start_time": "2022-10-27T14:15:14.910Z"
   },
   {
    "duration": 1167,
    "start_time": "2022-10-27T14:15:14.920Z"
   },
   {
    "duration": 6,
    "start_time": "2022-10-27T14:15:16.088Z"
   },
   {
    "duration": 14,
    "start_time": "2022-10-27T14:15:16.095Z"
   },
   {
    "duration": 35,
    "start_time": "2022-10-27T14:15:16.111Z"
   },
   {
    "duration": 440,
    "start_time": "2022-10-27T14:15:16.147Z"
   },
   {
    "duration": 8,
    "start_time": "2022-10-27T14:15:16.589Z"
   },
   {
    "duration": 415,
    "start_time": "2022-10-27T14:15:16.599Z"
   },
   {
    "duration": 399,
    "start_time": "2022-10-27T14:15:17.016Z"
   },
   {
    "duration": 499,
    "start_time": "2022-10-27T14:15:17.417Z"
   },
   {
    "duration": 407,
    "start_time": "2022-10-27T14:15:17.918Z"
   },
   {
    "duration": 426,
    "start_time": "2022-10-27T14:15:18.327Z"
   },
   {
    "duration": 438,
    "start_time": "2022-10-27T14:15:18.755Z"
   },
   {
    "duration": 10,
    "start_time": "2022-10-27T14:15:19.195Z"
   },
   {
    "duration": 6,
    "start_time": "2022-10-27T14:15:19.207Z"
   },
   {
    "duration": 34,
    "start_time": "2022-10-27T14:15:19.214Z"
   },
   {
    "duration": 9,
    "start_time": "2022-10-27T14:15:19.250Z"
   },
   {
    "duration": 1135,
    "start_time": "2022-10-27T14:36:43.763Z"
   },
   {
    "duration": 17,
    "start_time": "2022-10-27T14:36:44.900Z"
   },
   {
    "duration": 13,
    "start_time": "2022-10-27T14:36:44.918Z"
   },
   {
    "duration": 4,
    "start_time": "2022-10-27T14:36:44.933Z"
   },
   {
    "duration": 7,
    "start_time": "2022-10-27T14:36:44.939Z"
   },
   {
    "duration": 35,
    "start_time": "2022-10-27T14:36:44.948Z"
   },
   {
    "duration": 4,
    "start_time": "2022-10-27T14:36:44.985Z"
   },
   {
    "duration": 17,
    "start_time": "2022-10-27T14:36:44.991Z"
   },
   {
    "duration": 18,
    "start_time": "2022-10-27T14:36:45.010Z"
   },
   {
    "duration": 8,
    "start_time": "2022-10-27T14:36:45.030Z"
   },
   {
    "duration": 13,
    "start_time": "2022-10-27T14:36:45.039Z"
   },
   {
    "duration": 11,
    "start_time": "2022-10-27T14:36:45.054Z"
   },
   {
    "duration": 11,
    "start_time": "2022-10-27T14:36:45.066Z"
   },
   {
    "duration": 18,
    "start_time": "2022-10-27T14:36:45.079Z"
   },
   {
    "duration": 224,
    "start_time": "2022-10-27T14:36:45.100Z"
   },
   {
    "duration": 5,
    "start_time": "2022-10-27T14:36:45.326Z"
   },
   {
    "duration": 302,
    "start_time": "2022-10-27T14:36:45.332Z"
   },
   {
    "duration": 6,
    "start_time": "2022-10-27T14:36:45.636Z"
   },
   {
    "duration": 6,
    "start_time": "2022-10-27T14:36:45.644Z"
   },
   {
    "duration": 13,
    "start_time": "2022-10-27T14:36:45.651Z"
   },
   {
    "duration": 19,
    "start_time": "2022-10-27T14:36:45.665Z"
   },
   {
    "duration": 248,
    "start_time": "2022-10-27T14:36:45.686Z"
   },
   {
    "duration": 2,
    "start_time": "2022-10-27T14:36:45.936Z"
   },
   {
    "duration": 298,
    "start_time": "2022-10-27T14:36:45.939Z"
   },
   {
    "duration": 3,
    "start_time": "2022-10-27T14:36:46.239Z"
   },
   {
    "duration": 9,
    "start_time": "2022-10-27T14:36:46.243Z"
   },
   {
    "duration": 30,
    "start_time": "2022-10-27T14:36:46.253Z"
   },
   {
    "duration": 8,
    "start_time": "2022-10-27T14:36:46.286Z"
   },
   {
    "duration": 177,
    "start_time": "2022-10-27T14:36:46.295Z"
   },
   {
    "duration": 241,
    "start_time": "2022-10-27T14:36:46.474Z"
   },
   {
    "duration": 8,
    "start_time": "2022-10-27T14:36:46.716Z"
   },
   {
    "duration": 1105,
    "start_time": "2022-10-27T14:36:46.726Z"
   },
   {
    "duration": 7,
    "start_time": "2022-10-27T14:36:47.833Z"
   },
   {
    "duration": 25,
    "start_time": "2022-10-27T14:36:47.842Z"
   },
   {
    "duration": 35,
    "start_time": "2022-10-27T14:36:47.869Z"
   },
   {
    "duration": 336,
    "start_time": "2022-10-27T14:36:47.906Z"
   },
   {
    "duration": 8,
    "start_time": "2022-10-27T14:36:48.243Z"
   },
   {
    "duration": 372,
    "start_time": "2022-10-27T14:36:48.252Z"
   },
   {
    "duration": 368,
    "start_time": "2022-10-27T14:36:48.626Z"
   },
   {
    "duration": 481,
    "start_time": "2022-10-27T14:36:48.996Z"
   },
   {
    "duration": 375,
    "start_time": "2022-10-27T14:36:49.478Z"
   },
   {
    "duration": 423,
    "start_time": "2022-10-27T14:36:49.854Z"
   },
   {
    "duration": 384,
    "start_time": "2022-10-27T14:36:50.279Z"
   },
   {
    "duration": 15,
    "start_time": "2022-10-27T14:36:50.665Z"
   },
   {
    "duration": 6,
    "start_time": "2022-10-27T14:36:50.681Z"
   },
   {
    "duration": 12,
    "start_time": "2022-10-27T14:36:50.688Z"
   },
   {
    "duration": 6,
    "start_time": "2022-10-27T14:36:50.702Z"
   },
   {
    "duration": 1125,
    "start_time": "2022-10-27T20:47:20.378Z"
   },
   {
    "duration": 27,
    "start_time": "2022-10-27T20:47:21.505Z"
   },
   {
    "duration": 14,
    "start_time": "2022-10-27T20:47:21.534Z"
   },
   {
    "duration": 5,
    "start_time": "2022-10-27T20:47:21.549Z"
   },
   {
    "duration": 8,
    "start_time": "2022-10-27T20:47:21.556Z"
   },
   {
    "duration": 21,
    "start_time": "2022-10-27T20:47:21.578Z"
   },
   {
    "duration": 5,
    "start_time": "2022-10-27T20:47:21.600Z"
   },
   {
    "duration": 20,
    "start_time": "2022-10-27T20:47:21.606Z"
   },
   {
    "duration": 4,
    "start_time": "2022-10-27T20:47:21.628Z"
   },
   {
    "duration": 7,
    "start_time": "2022-10-27T20:47:21.633Z"
   },
   {
    "duration": 43,
    "start_time": "2022-10-27T20:47:21.642Z"
   },
   {
    "duration": 9,
    "start_time": "2022-10-27T20:47:21.687Z"
   },
   {
    "duration": 12,
    "start_time": "2022-10-27T20:47:21.697Z"
   },
   {
    "duration": 8,
    "start_time": "2022-10-27T20:47:21.712Z"
   },
   {
    "duration": 222,
    "start_time": "2022-10-27T20:47:21.721Z"
   },
   {
    "duration": 6,
    "start_time": "2022-10-27T20:47:21.944Z"
   },
   {
    "duration": 314,
    "start_time": "2022-10-27T20:47:21.951Z"
   },
   {
    "duration": 11,
    "start_time": "2022-10-27T20:47:22.266Z"
   },
   {
    "duration": 13,
    "start_time": "2022-10-27T20:47:22.278Z"
   },
   {
    "duration": 13,
    "start_time": "2022-10-27T20:47:22.292Z"
   },
   {
    "duration": 7,
    "start_time": "2022-10-27T20:47:22.307Z"
   },
   {
    "duration": 227,
    "start_time": "2022-10-27T20:47:22.315Z"
   },
   {
    "duration": 3,
    "start_time": "2022-10-27T20:47:22.544Z"
   },
   {
    "duration": 310,
    "start_time": "2022-10-27T20:47:22.548Z"
   },
   {
    "duration": 2,
    "start_time": "2022-10-27T20:47:22.860Z"
   },
   {
    "duration": 15,
    "start_time": "2022-10-27T20:47:22.863Z"
   },
   {
    "duration": 16,
    "start_time": "2022-10-27T20:47:22.880Z"
   },
   {
    "duration": 6,
    "start_time": "2022-10-27T20:47:22.898Z"
   },
   {
    "duration": 160,
    "start_time": "2022-10-27T20:47:22.905Z"
   },
   {
    "duration": 246,
    "start_time": "2022-10-27T20:47:23.067Z"
   },
   {
    "duration": 8,
    "start_time": "2022-10-27T20:47:23.315Z"
   },
   {
    "duration": 1030,
    "start_time": "2022-10-27T20:47:23.325Z"
   },
   {
    "duration": 6,
    "start_time": "2022-10-27T20:47:24.357Z"
   },
   {
    "duration": 11,
    "start_time": "2022-10-27T20:47:24.378Z"
   },
   {
    "duration": 15,
    "start_time": "2022-10-27T20:47:24.391Z"
   },
   {
    "duration": 320,
    "start_time": "2022-10-27T20:47:24.408Z"
   },
   {
    "duration": 8,
    "start_time": "2022-10-27T20:47:24.729Z"
   },
   {
    "duration": 372,
    "start_time": "2022-10-27T20:47:24.738Z"
   },
   {
    "duration": 362,
    "start_time": "2022-10-27T20:47:25.111Z"
   },
   {
    "duration": 450,
    "start_time": "2022-10-27T20:47:25.478Z"
   },
   {
    "duration": 371,
    "start_time": "2022-10-27T20:47:25.933Z"
   },
   {
    "duration": 372,
    "start_time": "2022-10-27T20:47:26.306Z"
   },
   {
    "duration": 382,
    "start_time": "2022-10-27T20:47:26.680Z"
   },
   {
    "duration": 17,
    "start_time": "2022-10-27T20:47:27.064Z"
   },
   {
    "duration": 5,
    "start_time": "2022-10-27T20:47:27.082Z"
   },
   {
    "duration": 10,
    "start_time": "2022-10-27T20:47:27.089Z"
   },
   {
    "duration": 5,
    "start_time": "2022-10-27T20:47:27.100Z"
   },
   {
    "duration": 60,
    "start_time": "2022-10-27T20:51:50.586Z"
   },
   {
    "duration": 20,
    "start_time": "2022-10-27T21:01:46.663Z"
   },
   {
    "duration": 5,
    "start_time": "2022-10-27T21:02:06.649Z"
   },
   {
    "duration": 1498,
    "start_time": "2022-10-27T22:01:14.551Z"
   },
   {
    "duration": 197,
    "start_time": "2022-10-27T22:01:16.051Z"
   },
   {
    "duration": 21,
    "start_time": "2022-10-27T22:01:16.249Z"
   },
   {
    "duration": 16,
    "start_time": "2022-10-27T22:01:16.272Z"
   },
   {
    "duration": 6,
    "start_time": "2022-10-27T22:01:16.290Z"
   },
   {
    "duration": 8,
    "start_time": "2022-10-27T22:01:16.297Z"
   },
   {
    "duration": 34,
    "start_time": "2022-10-27T22:01:16.307Z"
   },
   {
    "duration": 5,
    "start_time": "2022-10-27T22:01:16.343Z"
   },
   {
    "duration": 19,
    "start_time": "2022-10-27T22:01:16.350Z"
   },
   {
    "duration": 5,
    "start_time": "2022-10-27T22:01:16.372Z"
   },
   {
    "duration": 6,
    "start_time": "2022-10-27T22:01:16.379Z"
   },
   {
    "duration": 44,
    "start_time": "2022-10-27T22:01:16.387Z"
   },
   {
    "duration": 6,
    "start_time": "2022-10-27T22:01:16.432Z"
   },
   {
    "duration": 11,
    "start_time": "2022-10-27T22:01:16.440Z"
   },
   {
    "duration": 10,
    "start_time": "2022-10-27T22:01:16.453Z"
   },
   {
    "duration": 112,
    "start_time": "2022-10-27T22:01:16.465Z"
   },
   {
    "duration": 246,
    "start_time": "2022-10-27T22:01:16.578Z"
   },
   {
    "duration": 7,
    "start_time": "2022-10-27T22:01:16.825Z"
   },
   {
    "duration": 358,
    "start_time": "2022-10-27T22:01:16.833Z"
   },
   {
    "duration": 8,
    "start_time": "2022-10-27T22:01:17.193Z"
   },
   {
    "duration": 4,
    "start_time": "2022-10-27T22:01:17.203Z"
   },
   {
    "duration": 29,
    "start_time": "2022-10-27T22:01:17.209Z"
   },
   {
    "duration": 12,
    "start_time": "2022-10-27T22:01:17.240Z"
   },
   {
    "duration": 362,
    "start_time": "2022-10-27T22:01:17.254Z"
   },
   {
    "duration": 3,
    "start_time": "2022-10-27T22:01:17.618Z"
   },
   {
    "duration": 340,
    "start_time": "2022-10-27T22:01:17.624Z"
   },
   {
    "duration": 3,
    "start_time": "2022-10-27T22:01:17.966Z"
   },
   {
    "duration": 5,
    "start_time": "2022-10-27T22:01:17.972Z"
   },
   {
    "duration": 16,
    "start_time": "2022-10-27T22:01:17.979Z"
   },
   {
    "duration": 29,
    "start_time": "2022-10-27T22:01:17.998Z"
   },
   {
    "duration": 10,
    "start_time": "2022-10-27T22:01:18.028Z"
   },
   {
    "duration": 214,
    "start_time": "2022-10-27T22:01:18.040Z"
   },
   {
    "duration": 277,
    "start_time": "2022-10-27T22:01:18.256Z"
   },
   {
    "duration": 9,
    "start_time": "2022-10-27T22:01:18.535Z"
   },
   {
    "duration": 1268,
    "start_time": "2022-10-27T22:01:18.546Z"
   },
   {
    "duration": 7,
    "start_time": "2022-10-27T22:01:19.825Z"
   },
   {
    "duration": 15,
    "start_time": "2022-10-27T22:01:19.834Z"
   },
   {
    "duration": 17,
    "start_time": "2022-10-27T22:01:19.851Z"
   },
   {
    "duration": 374,
    "start_time": "2022-10-27T22:01:19.869Z"
   },
   {
    "duration": 10,
    "start_time": "2022-10-27T22:01:20.245Z"
   },
   {
    "duration": 612,
    "start_time": "2022-10-27T22:01:20.257Z"
   },
   {
    "duration": 455,
    "start_time": "2022-10-27T22:01:20.871Z"
   },
   {
    "duration": 597,
    "start_time": "2022-10-27T22:01:21.327Z"
   },
   {
    "duration": 476,
    "start_time": "2022-10-27T22:01:21.927Z"
   },
   {
    "duration": 493,
    "start_time": "2022-10-27T22:01:22.404Z"
   },
   {
    "duration": 461,
    "start_time": "2022-10-27T22:01:22.899Z"
   },
   {
    "duration": 14,
    "start_time": "2022-10-27T22:01:23.362Z"
   },
   {
    "duration": 19,
    "start_time": "2022-10-27T22:01:23.378Z"
   },
   {
    "duration": 31,
    "start_time": "2022-10-27T22:01:23.399Z"
   },
   {
    "duration": 25,
    "start_time": "2022-10-27T22:01:23.433Z"
   },
   {
    "duration": 14,
    "start_time": "2022-10-27T22:18:38.401Z"
   },
   {
    "duration": 337,
    "start_time": "2022-10-27T22:46:03.181Z"
   },
   {
    "duration": 173,
    "start_time": "2022-10-27T22:51:50.152Z"
   },
   {
    "duration": 11,
    "start_time": "2022-10-27T22:52:01.780Z"
   },
   {
    "duration": 1149,
    "start_time": "2022-10-27T22:53:07.390Z"
   },
   {
    "duration": 8,
    "start_time": "2022-10-27T22:53:31.096Z"
   },
   {
    "duration": 51,
    "start_time": "2022-10-28T13:25:28.779Z"
   },
   {
    "duration": 1329,
    "start_time": "2022-10-28T13:25:35.070Z"
   },
   {
    "duration": 491,
    "start_time": "2022-10-28T13:25:36.401Z"
   },
   {
    "duration": 21,
    "start_time": "2022-10-28T13:25:36.894Z"
   },
   {
    "duration": 20,
    "start_time": "2022-10-28T13:25:36.918Z"
   },
   {
    "duration": 4,
    "start_time": "2022-10-28T13:25:36.940Z"
   },
   {
    "duration": 22,
    "start_time": "2022-10-28T13:25:36.945Z"
   },
   {
    "duration": 4,
    "start_time": "2022-10-28T13:25:36.969Z"
   },
   {
    "duration": 46,
    "start_time": "2022-10-28T13:25:36.975Z"
   },
   {
    "duration": 4,
    "start_time": "2022-10-28T13:25:37.023Z"
   },
   {
    "duration": 18,
    "start_time": "2022-10-28T13:25:37.029Z"
   },
   {
    "duration": 5,
    "start_time": "2022-10-28T13:25:37.048Z"
   },
   {
    "duration": 7,
    "start_time": "2022-10-28T13:25:37.054Z"
   },
   {
    "duration": 9,
    "start_time": "2022-10-28T13:25:37.062Z"
   },
   {
    "duration": 6,
    "start_time": "2022-10-28T13:25:37.072Z"
   },
   {
    "duration": 31,
    "start_time": "2022-10-28T13:25:37.079Z"
   },
   {
    "duration": 22,
    "start_time": "2022-10-28T13:25:37.112Z"
   },
   {
    "duration": 83,
    "start_time": "2022-10-28T13:25:37.135Z"
   },
   {
    "duration": 253,
    "start_time": "2022-10-28T13:25:37.220Z"
   },
   {
    "duration": 6,
    "start_time": "2022-10-28T13:25:37.475Z"
   },
   {
    "duration": 143,
    "start_time": "2022-10-28T13:25:37.483Z"
   },
   {
    "duration": 0,
    "start_time": "2022-10-28T13:25:37.628Z"
   },
   {
    "duration": 0,
    "start_time": "2022-10-28T13:25:37.629Z"
   },
   {
    "duration": 0,
    "start_time": "2022-10-28T13:25:37.630Z"
   },
   {
    "duration": 1,
    "start_time": "2022-10-28T13:25:37.631Z"
   },
   {
    "duration": 0,
    "start_time": "2022-10-28T13:25:37.633Z"
   },
   {
    "duration": 0,
    "start_time": "2022-10-28T13:25:37.634Z"
   },
   {
    "duration": 0,
    "start_time": "2022-10-28T13:25:37.635Z"
   },
   {
    "duration": 0,
    "start_time": "2022-10-28T13:25:37.636Z"
   },
   {
    "duration": 0,
    "start_time": "2022-10-28T13:25:37.638Z"
   },
   {
    "duration": 0,
    "start_time": "2022-10-28T13:25:37.639Z"
   },
   {
    "duration": 0,
    "start_time": "2022-10-28T13:25:37.641Z"
   },
   {
    "duration": 0,
    "start_time": "2022-10-28T13:25:37.642Z"
   },
   {
    "duration": 0,
    "start_time": "2022-10-28T13:25:37.643Z"
   },
   {
    "duration": 0,
    "start_time": "2022-10-28T13:25:37.644Z"
   },
   {
    "duration": 0,
    "start_time": "2022-10-28T13:25:37.645Z"
   },
   {
    "duration": 0,
    "start_time": "2022-10-28T13:25:37.646Z"
   },
   {
    "duration": 0,
    "start_time": "2022-10-28T13:25:37.647Z"
   },
   {
    "duration": 0,
    "start_time": "2022-10-28T13:25:37.648Z"
   },
   {
    "duration": 0,
    "start_time": "2022-10-28T13:25:37.649Z"
   },
   {
    "duration": 0,
    "start_time": "2022-10-28T13:25:37.650Z"
   },
   {
    "duration": 0,
    "start_time": "2022-10-28T13:25:37.651Z"
   },
   {
    "duration": 0,
    "start_time": "2022-10-28T13:25:37.652Z"
   },
   {
    "duration": 0,
    "start_time": "2022-10-28T13:25:37.653Z"
   },
   {
    "duration": 0,
    "start_time": "2022-10-28T13:25:37.654Z"
   },
   {
    "duration": 0,
    "start_time": "2022-10-28T13:25:37.655Z"
   },
   {
    "duration": 0,
    "start_time": "2022-10-28T13:25:37.656Z"
   },
   {
    "duration": 0,
    "start_time": "2022-10-28T13:25:37.657Z"
   },
   {
    "duration": 0,
    "start_time": "2022-10-28T13:25:37.710Z"
   },
   {
    "duration": 0,
    "start_time": "2022-10-28T13:25:37.711Z"
   },
   {
    "duration": 0,
    "start_time": "2022-10-28T13:25:37.714Z"
   },
   {
    "duration": 0,
    "start_time": "2022-10-28T13:25:37.715Z"
   },
   {
    "duration": 0,
    "start_time": "2022-10-28T13:25:37.715Z"
   },
   {
    "duration": 0,
    "start_time": "2022-10-28T13:25:37.716Z"
   },
   {
    "duration": 27,
    "start_time": "2022-10-28T13:26:21.998Z"
   },
   {
    "duration": 21,
    "start_time": "2022-10-28T13:26:27.570Z"
   },
   {
    "duration": 21,
    "start_time": "2022-10-28T13:26:37.771Z"
   },
   {
    "duration": 17,
    "start_time": "2022-10-28T13:33:10.646Z"
   },
   {
    "duration": 1234,
    "start_time": "2022-10-28T13:34:14.314Z"
   },
   {
    "duration": 253,
    "start_time": "2022-10-28T13:34:25.718Z"
   },
   {
    "duration": 18,
    "start_time": "2022-10-28T13:37:02.756Z"
   },
   {
    "duration": 149,
    "start_time": "2022-10-28T13:37:09.856Z"
   },
   {
    "duration": 309,
    "start_time": "2022-10-28T13:37:30.548Z"
   },
   {
    "duration": 254,
    "start_time": "2022-10-28T13:37:43.260Z"
   },
   {
    "duration": 261,
    "start_time": "2022-10-28T13:38:03.036Z"
   },
   {
    "duration": 303,
    "start_time": "2022-10-28T13:38:47.465Z"
   },
   {
    "duration": 3,
    "start_time": "2022-10-28T14:38:20.814Z"
   },
   {
    "duration": 1051,
    "start_time": "2022-10-28T14:38:52.831Z"
   },
   {
    "duration": 51,
    "start_time": "2022-10-28T14:38:53.884Z"
   },
   {
    "duration": 16,
    "start_time": "2022-10-28T14:38:53.936Z"
   },
   {
    "duration": 12,
    "start_time": "2022-10-28T14:38:53.954Z"
   },
   {
    "duration": 4,
    "start_time": "2022-10-28T14:38:53.967Z"
   },
   {
    "duration": 21,
    "start_time": "2022-10-28T14:38:53.973Z"
   },
   {
    "duration": 12,
    "start_time": "2022-10-28T14:38:53.995Z"
   },
   {
    "duration": 16,
    "start_time": "2022-10-28T14:38:54.009Z"
   },
   {
    "duration": 4,
    "start_time": "2022-10-28T14:38:54.027Z"
   },
   {
    "duration": 18,
    "start_time": "2022-10-28T14:38:54.032Z"
   },
   {
    "duration": 4,
    "start_time": "2022-10-28T14:38:54.051Z"
   },
   {
    "duration": 8,
    "start_time": "2022-10-28T14:38:54.057Z"
   },
   {
    "duration": 9,
    "start_time": "2022-10-28T14:38:54.066Z"
   },
   {
    "duration": 5,
    "start_time": "2022-10-28T14:38:54.104Z"
   },
   {
    "duration": 7,
    "start_time": "2022-10-28T14:38:54.110Z"
   },
   {
    "duration": 8,
    "start_time": "2022-10-28T14:38:54.118Z"
   },
   {
    "duration": 86,
    "start_time": "2022-10-28T14:38:54.127Z"
   },
   {
    "duration": 201,
    "start_time": "2022-10-28T14:38:54.215Z"
   },
   {
    "duration": 5,
    "start_time": "2022-10-28T14:38:54.417Z"
   },
   {
    "duration": 258,
    "start_time": "2022-10-28T14:38:54.423Z"
   },
   {
    "duration": 2,
    "start_time": "2022-10-28T14:38:54.683Z"
   },
   {
    "duration": 7,
    "start_time": "2022-10-28T14:38:54.686Z"
   },
   {
    "duration": 14,
    "start_time": "2022-10-28T14:38:54.695Z"
   },
   {
    "duration": 8,
    "start_time": "2022-10-28T14:38:54.711Z"
   },
   {
    "duration": 101,
    "start_time": "2022-10-28T14:38:54.720Z"
   },
   {
    "duration": 0,
    "start_time": "2022-10-28T14:38:54.823Z"
   },
   {
    "duration": 0,
    "start_time": "2022-10-28T14:38:54.825Z"
   },
   {
    "duration": 0,
    "start_time": "2022-10-28T14:38:54.825Z"
   },
   {
    "duration": 0,
    "start_time": "2022-10-28T14:38:54.826Z"
   },
   {
    "duration": 0,
    "start_time": "2022-10-28T14:38:54.827Z"
   },
   {
    "duration": 0,
    "start_time": "2022-10-28T14:38:54.828Z"
   },
   {
    "duration": 0,
    "start_time": "2022-10-28T14:38:54.829Z"
   },
   {
    "duration": 0,
    "start_time": "2022-10-28T14:38:54.830Z"
   },
   {
    "duration": 0,
    "start_time": "2022-10-28T14:38:54.831Z"
   },
   {
    "duration": 0,
    "start_time": "2022-10-28T14:38:54.832Z"
   },
   {
    "duration": 0,
    "start_time": "2022-10-28T14:38:54.832Z"
   },
   {
    "duration": 0,
    "start_time": "2022-10-28T14:38:54.833Z"
   },
   {
    "duration": 0,
    "start_time": "2022-10-28T14:38:54.834Z"
   },
   {
    "duration": 0,
    "start_time": "2022-10-28T14:38:54.835Z"
   },
   {
    "duration": 0,
    "start_time": "2022-10-28T14:38:54.836Z"
   },
   {
    "duration": 0,
    "start_time": "2022-10-28T14:38:54.837Z"
   },
   {
    "duration": 0,
    "start_time": "2022-10-28T14:38:54.838Z"
   },
   {
    "duration": 0,
    "start_time": "2022-10-28T14:38:54.839Z"
   },
   {
    "duration": 0,
    "start_time": "2022-10-28T14:38:54.840Z"
   },
   {
    "duration": 0,
    "start_time": "2022-10-28T14:38:54.841Z"
   },
   {
    "duration": 0,
    "start_time": "2022-10-28T14:38:54.842Z"
   },
   {
    "duration": 0,
    "start_time": "2022-10-28T14:38:54.843Z"
   },
   {
    "duration": 0,
    "start_time": "2022-10-28T14:38:54.844Z"
   },
   {
    "duration": 0,
    "start_time": "2022-10-28T14:38:54.845Z"
   },
   {
    "duration": 0,
    "start_time": "2022-10-28T14:38:54.846Z"
   },
   {
    "duration": 0,
    "start_time": "2022-10-28T14:38:54.847Z"
   },
   {
    "duration": 0,
    "start_time": "2022-10-28T14:38:54.848Z"
   },
   {
    "duration": 0,
    "start_time": "2022-10-28T14:38:54.849Z"
   },
   {
    "duration": 252,
    "start_time": "2022-10-28T14:39:55.063Z"
   },
   {
    "duration": 26,
    "start_time": "2022-10-28T14:51:42.516Z"
   },
   {
    "duration": 452,
    "start_time": "2022-10-28T14:52:14.510Z"
   },
   {
    "duration": 582,
    "start_time": "2022-10-28T14:52:28.053Z"
   },
   {
    "duration": 500,
    "start_time": "2022-10-28T14:53:20.339Z"
   },
   {
    "duration": 1066,
    "start_time": "2022-10-28T17:57:05.960Z"
   },
   {
    "duration": 51,
    "start_time": "2022-10-28T17:57:07.028Z"
   },
   {
    "duration": 16,
    "start_time": "2022-10-28T17:57:07.081Z"
   },
   {
    "duration": 13,
    "start_time": "2022-10-28T17:57:07.099Z"
   },
   {
    "duration": 4,
    "start_time": "2022-10-28T17:57:07.113Z"
   },
   {
    "duration": 25,
    "start_time": "2022-10-28T17:57:07.118Z"
   },
   {
    "duration": 4,
    "start_time": "2022-10-28T17:57:07.145Z"
   },
   {
    "duration": 18,
    "start_time": "2022-10-28T17:57:07.150Z"
   },
   {
    "duration": 4,
    "start_time": "2022-10-28T17:57:07.169Z"
   },
   {
    "duration": 42,
    "start_time": "2022-10-28T17:57:07.175Z"
   },
   {
    "duration": 4,
    "start_time": "2022-10-28T17:57:07.219Z"
   },
   {
    "duration": 16,
    "start_time": "2022-10-28T17:57:07.225Z"
   },
   {
    "duration": 16,
    "start_time": "2022-10-28T17:57:07.244Z"
   },
   {
    "duration": 21,
    "start_time": "2022-10-28T17:57:07.262Z"
   },
   {
    "duration": 26,
    "start_time": "2022-10-28T17:57:07.286Z"
   },
   {
    "duration": 12,
    "start_time": "2022-10-28T17:57:07.314Z"
   },
   {
    "duration": 107,
    "start_time": "2022-10-28T17:57:07.328Z"
   },
   {
    "duration": 228,
    "start_time": "2022-10-28T17:57:07.437Z"
   },
   {
    "duration": 6,
    "start_time": "2022-10-28T17:57:07.667Z"
   },
   {
    "duration": 280,
    "start_time": "2022-10-28T17:57:07.674Z"
   },
   {
    "duration": 518,
    "start_time": "2022-10-28T17:57:10.022Z"
   },
   {
    "duration": 11,
    "start_time": "2022-10-28T17:57:10.541Z"
   },
   {
    "duration": 8,
    "start_time": "2022-10-28T17:57:10.554Z"
   },
   {
    "duration": 266,
    "start_time": "2022-10-28T17:57:11.518Z"
   },
   {
    "duration": 5,
    "start_time": "2022-10-28T17:57:14.270Z"
   },
   {
    "duration": 3,
    "start_time": "2022-10-28T17:57:14.398Z"
   },
   {
    "duration": 209,
    "start_time": "2022-10-28T17:57:14.440Z"
   },
   {
    "duration": 279,
    "start_time": "2022-10-28T17:57:14.651Z"
   },
   {
    "duration": 8,
    "start_time": "2022-10-28T17:57:14.932Z"
   },
   {
    "duration": 3,
    "start_time": "2022-10-28T17:57:15.501Z"
   },
   {
    "duration": 2,
    "start_time": "2022-10-28T17:57:15.513Z"
   },
   {
    "duration": 13,
    "start_time": "2022-10-28T17:57:16.046Z"
   },
   {
    "duration": 4,
    "start_time": "2022-10-28T17:57:16.152Z"
   },
   {
    "duration": 11,
    "start_time": "2022-10-28T17:57:16.158Z"
   },
   {
    "duration": 175,
    "start_time": "2022-10-28T17:57:16.170Z"
   },
   {
    "duration": 176,
    "start_time": "2022-10-28T17:57:16.347Z"
   },
   {
    "duration": 8,
    "start_time": "2022-10-28T17:57:16.525Z"
   },
   {
    "duration": 1162,
    "start_time": "2022-10-28T17:57:16.535Z"
   },
   {
    "duration": 8,
    "start_time": "2022-10-28T17:57:17.699Z"
   },
   {
    "duration": 17,
    "start_time": "2022-10-28T17:57:17.709Z"
   },
   {
    "duration": 15,
    "start_time": "2022-10-28T17:57:17.727Z"
   },
   {
    "duration": 377,
    "start_time": "2022-10-28T17:57:17.744Z"
   },
   {
    "duration": 8,
    "start_time": "2022-10-28T17:57:18.123Z"
   },
   {
    "duration": 474,
    "start_time": "2022-10-28T17:57:18.132Z"
   },
   {
    "duration": 371,
    "start_time": "2022-10-28T17:57:18.608Z"
   },
   {
    "duration": 381,
    "start_time": "2022-10-28T17:57:18.982Z"
   },
   {
    "duration": 380,
    "start_time": "2022-10-28T17:57:19.365Z"
   },
   {
    "duration": 385,
    "start_time": "2022-10-28T17:57:19.747Z"
   },
   {
    "duration": 410,
    "start_time": "2022-10-28T17:57:20.134Z"
   },
   {
    "duration": 9,
    "start_time": "2022-10-28T17:57:20.545Z"
   },
   {
    "duration": 8,
    "start_time": "2022-10-28T17:57:20.555Z"
   },
   {
    "duration": 14,
    "start_time": "2022-10-28T17:57:20.565Z"
   },
   {
    "duration": 8,
    "start_time": "2022-10-28T17:57:20.580Z"
   },
   {
    "duration": 643,
    "start_time": "2022-10-28T19:48:25.462Z"
   },
   {
    "duration": 506,
    "start_time": "2022-10-28T19:48:33.165Z"
   },
   {
    "duration": 245,
    "start_time": "2022-10-28T19:48:39.997Z"
   },
   {
    "duration": 376,
    "start_time": "2022-10-28T19:48:42.178Z"
   },
   {
    "duration": 251,
    "start_time": "2022-10-28T19:49:18.470Z"
   },
   {
    "duration": 159,
    "start_time": "2022-10-28T19:49:29.166Z"
   },
   {
    "duration": 272,
    "start_time": "2022-10-28T19:49:34.258Z"
   },
   {
    "duration": 272,
    "start_time": "2022-10-28T19:49:42.702Z"
   },
   {
    "duration": 4,
    "start_time": "2022-10-28T20:15:18.377Z"
   },
   {
    "duration": 4,
    "start_time": "2022-10-28T20:15:34.897Z"
   },
   {
    "duration": 4,
    "start_time": "2022-10-28T20:15:52.061Z"
   },
   {
    "duration": 4,
    "start_time": "2022-10-28T20:15:55.302Z"
   },
   {
    "duration": 10,
    "start_time": "2022-10-28T20:15:57.374Z"
   },
   {
    "duration": 4,
    "start_time": "2022-10-28T20:16:22.821Z"
   },
   {
    "duration": 106,
    "start_time": "2022-10-28T20:17:04.922Z"
   },
   {
    "duration": 13,
    "start_time": "2022-10-28T20:17:12.478Z"
   },
   {
    "duration": 4,
    "start_time": "2022-10-28T20:17:22.591Z"
   },
   {
    "duration": 1628,
    "start_time": "2022-10-28T20:17:23.716Z"
   },
   {
    "duration": 4,
    "start_time": "2022-10-28T20:18:04.759Z"
   },
   {
    "duration": 1520,
    "start_time": "2022-10-28T20:18:08.650Z"
   },
   {
    "duration": 4,
    "start_time": "2022-10-28T20:18:39.322Z"
   },
   {
    "duration": 89,
    "start_time": "2022-10-28T20:18:39.882Z"
   },
   {
    "duration": 5,
    "start_time": "2022-10-28T20:19:04.847Z"
   },
   {
    "duration": 226,
    "start_time": "2022-10-28T20:19:06.095Z"
   },
   {
    "duration": 4,
    "start_time": "2022-10-28T20:21:06.127Z"
   },
   {
    "duration": 1654,
    "start_time": "2022-10-28T20:21:06.675Z"
   },
   {
    "duration": 4,
    "start_time": "2022-10-28T20:22:24.121Z"
   },
   {
    "duration": 1643,
    "start_time": "2022-10-28T20:22:24.582Z"
   },
   {
    "duration": 4,
    "start_time": "2022-10-28T20:23:04.083Z"
   },
   {
    "duration": 1573,
    "start_time": "2022-10-28T20:23:05.651Z"
   },
   {
    "duration": 4,
    "start_time": "2022-10-28T20:23:58.949Z"
   },
   {
    "duration": 1507,
    "start_time": "2022-10-28T20:23:59.703Z"
   },
   {
    "duration": 10,
    "start_time": "2022-10-28T20:28:11.427Z"
   },
   {
    "duration": 13,
    "start_time": "2022-10-28T20:28:29.882Z"
   },
   {
    "duration": 7,
    "start_time": "2022-10-28T20:29:02.055Z"
   },
   {
    "duration": 6,
    "start_time": "2022-10-28T20:29:30.147Z"
   },
   {
    "duration": 178,
    "start_time": "2022-10-28T20:30:15.975Z"
   },
   {
    "duration": 186,
    "start_time": "2022-10-28T20:30:31.215Z"
   },
   {
    "duration": 220,
    "start_time": "2022-10-28T20:30:58.242Z"
   },
   {
    "duration": 1074,
    "start_time": "2022-10-28T20:31:03.251Z"
   },
   {
    "duration": 53,
    "start_time": "2022-10-28T20:31:04.327Z"
   },
   {
    "duration": 17,
    "start_time": "2022-10-28T20:31:04.382Z"
   },
   {
    "duration": 16,
    "start_time": "2022-10-28T20:31:04.401Z"
   },
   {
    "duration": 6,
    "start_time": "2022-10-28T20:31:04.419Z"
   },
   {
    "duration": 22,
    "start_time": "2022-10-28T20:31:04.427Z"
   },
   {
    "duration": 5,
    "start_time": "2022-10-28T20:31:04.451Z"
   },
   {
    "duration": 24,
    "start_time": "2022-10-28T20:31:04.458Z"
   },
   {
    "duration": 25,
    "start_time": "2022-10-28T20:31:04.483Z"
   },
   {
    "duration": 20,
    "start_time": "2022-10-28T20:31:04.511Z"
   },
   {
    "duration": 4,
    "start_time": "2022-10-28T20:31:04.533Z"
   },
   {
    "duration": 12,
    "start_time": "2022-10-28T20:31:04.539Z"
   },
   {
    "duration": 10,
    "start_time": "2022-10-28T20:31:04.552Z"
   },
   {
    "duration": 6,
    "start_time": "2022-10-28T20:31:04.563Z"
   },
   {
    "duration": 34,
    "start_time": "2022-10-28T20:31:04.571Z"
   },
   {
    "duration": 7,
    "start_time": "2022-10-28T20:31:04.607Z"
   },
   {
    "duration": 67,
    "start_time": "2022-10-28T20:31:04.616Z"
   },
   {
    "duration": 248,
    "start_time": "2022-10-28T20:31:04.685Z"
   },
   {
    "duration": 8,
    "start_time": "2022-10-28T20:31:04.935Z"
   },
   {
    "duration": 347,
    "start_time": "2022-10-28T20:31:04.944Z"
   },
   {
    "duration": 536,
    "start_time": "2022-10-28T20:31:05.292Z"
   },
   {
    "duration": 12,
    "start_time": "2022-10-28T20:31:05.830Z"
   },
   {
    "duration": 12,
    "start_time": "2022-10-28T20:31:05.843Z"
   },
   {
    "duration": 255,
    "start_time": "2022-10-28T20:31:05.856Z"
   },
   {
    "duration": 6,
    "start_time": "2022-10-28T20:31:06.112Z"
   },
   {
    "duration": 7,
    "start_time": "2022-10-28T20:31:06.119Z"
   },
   {
    "duration": 242,
    "start_time": "2022-10-28T20:31:06.128Z"
   },
   {
    "duration": 263,
    "start_time": "2022-10-28T20:31:06.373Z"
   },
   {
    "duration": 7,
    "start_time": "2022-10-28T20:31:06.638Z"
   },
   {
    "duration": 7,
    "start_time": "2022-10-28T20:31:06.647Z"
   },
   {
    "duration": 7,
    "start_time": "2022-10-28T20:31:06.656Z"
   },
   {
    "duration": 100,
    "start_time": "2022-10-28T20:31:06.664Z"
   },
   {
    "duration": 0,
    "start_time": "2022-10-28T20:31:06.765Z"
   },
   {
    "duration": 0,
    "start_time": "2022-10-28T20:31:06.767Z"
   },
   {
    "duration": 0,
    "start_time": "2022-10-28T20:31:06.768Z"
   },
   {
    "duration": 0,
    "start_time": "2022-10-28T20:31:06.769Z"
   },
   {
    "duration": 0,
    "start_time": "2022-10-28T20:31:06.770Z"
   },
   {
    "duration": 0,
    "start_time": "2022-10-28T20:31:06.770Z"
   },
   {
    "duration": 0,
    "start_time": "2022-10-28T20:31:06.771Z"
   },
   {
    "duration": 0,
    "start_time": "2022-10-28T20:31:06.772Z"
   },
   {
    "duration": 0,
    "start_time": "2022-10-28T20:31:06.773Z"
   },
   {
    "duration": 0,
    "start_time": "2022-10-28T20:31:06.774Z"
   },
   {
    "duration": 0,
    "start_time": "2022-10-28T20:31:06.775Z"
   },
   {
    "duration": 0,
    "start_time": "2022-10-28T20:31:06.776Z"
   },
   {
    "duration": 0,
    "start_time": "2022-10-28T20:31:06.777Z"
   },
   {
    "duration": 0,
    "start_time": "2022-10-28T20:31:06.778Z"
   },
   {
    "duration": 0,
    "start_time": "2022-10-28T20:31:06.779Z"
   },
   {
    "duration": 0,
    "start_time": "2022-10-28T20:31:06.780Z"
   },
   {
    "duration": 0,
    "start_time": "2022-10-28T20:31:06.780Z"
   },
   {
    "duration": 0,
    "start_time": "2022-10-28T20:31:06.781Z"
   },
   {
    "duration": 0,
    "start_time": "2022-10-28T20:31:06.782Z"
   },
   {
    "duration": 0,
    "start_time": "2022-10-28T20:31:06.805Z"
   },
   {
    "duration": 0,
    "start_time": "2022-10-28T20:31:06.806Z"
   },
   {
    "duration": 1082,
    "start_time": "2022-10-28T20:32:53.604Z"
   },
   {
    "duration": 50,
    "start_time": "2022-10-28T20:32:54.688Z"
   },
   {
    "duration": 17,
    "start_time": "2022-10-28T20:32:54.739Z"
   },
   {
    "duration": 12,
    "start_time": "2022-10-28T20:32:54.758Z"
   },
   {
    "duration": 4,
    "start_time": "2022-10-28T20:32:54.772Z"
   },
   {
    "duration": 16,
    "start_time": "2022-10-28T20:32:54.777Z"
   },
   {
    "duration": 4,
    "start_time": "2022-10-28T20:32:54.805Z"
   },
   {
    "duration": 17,
    "start_time": "2022-10-28T20:32:54.810Z"
   },
   {
    "duration": 5,
    "start_time": "2022-10-28T20:32:54.828Z"
   },
   {
    "duration": 14,
    "start_time": "2022-10-28T20:32:54.835Z"
   },
   {
    "duration": 5,
    "start_time": "2022-10-28T20:32:54.850Z"
   },
   {
    "duration": 6,
    "start_time": "2022-10-28T20:32:54.856Z"
   },
   {
    "duration": 8,
    "start_time": "2022-10-28T20:32:54.863Z"
   },
   {
    "duration": 35,
    "start_time": "2022-10-28T20:32:54.872Z"
   },
   {
    "duration": 7,
    "start_time": "2022-10-28T20:32:54.908Z"
   },
   {
    "duration": 7,
    "start_time": "2022-10-28T20:32:54.916Z"
   },
   {
    "duration": 82,
    "start_time": "2022-10-28T20:32:54.924Z"
   },
   {
    "duration": 190,
    "start_time": "2022-10-28T20:32:55.007Z"
   },
   {
    "duration": 9,
    "start_time": "2022-10-28T20:32:55.199Z"
   },
   {
    "duration": 258,
    "start_time": "2022-10-28T20:32:55.209Z"
   },
   {
    "duration": 474,
    "start_time": "2022-10-28T20:32:55.469Z"
   },
   {
    "duration": 11,
    "start_time": "2022-10-28T20:32:55.945Z"
   },
   {
    "duration": 9,
    "start_time": "2022-10-28T20:32:55.957Z"
   },
   {
    "duration": 226,
    "start_time": "2022-10-28T20:32:55.967Z"
   },
   {
    "duration": 11,
    "start_time": "2022-10-28T20:32:56.195Z"
   },
   {
    "duration": 4,
    "start_time": "2022-10-28T20:32:56.208Z"
   },
   {
    "duration": 206,
    "start_time": "2022-10-28T20:32:56.213Z"
   },
   {
    "duration": 270,
    "start_time": "2022-10-28T20:32:56.422Z"
   },
   {
    "duration": 14,
    "start_time": "2022-10-28T20:32:56.693Z"
   },
   {
    "duration": 2,
    "start_time": "2022-10-28T20:32:56.708Z"
   },
   {
    "duration": 7,
    "start_time": "2022-10-28T20:32:56.711Z"
   },
   {
    "duration": 9,
    "start_time": "2022-10-28T20:32:56.720Z"
   },
   {
    "duration": 157,
    "start_time": "2022-10-28T20:32:56.730Z"
   },
   {
    "duration": 160,
    "start_time": "2022-10-28T20:32:56.889Z"
   },
   {
    "duration": 4,
    "start_time": "2022-10-28T20:32:57.051Z"
   },
   {
    "duration": 67,
    "start_time": "2022-10-28T20:32:57.057Z"
   },
   {
    "duration": 0,
    "start_time": "2022-10-28T20:32:57.126Z"
   },
   {
    "duration": 0,
    "start_time": "2022-10-28T20:32:57.127Z"
   },
   {
    "duration": 0,
    "start_time": "2022-10-28T20:32:57.128Z"
   },
   {
    "duration": 0,
    "start_time": "2022-10-28T20:32:57.129Z"
   },
   {
    "duration": 0,
    "start_time": "2022-10-28T20:32:57.130Z"
   },
   {
    "duration": 0,
    "start_time": "2022-10-28T20:32:57.131Z"
   },
   {
    "duration": 0,
    "start_time": "2022-10-28T20:32:57.132Z"
   },
   {
    "duration": 0,
    "start_time": "2022-10-28T20:32:57.132Z"
   },
   {
    "duration": 0,
    "start_time": "2022-10-28T20:32:57.133Z"
   },
   {
    "duration": 0,
    "start_time": "2022-10-28T20:32:57.134Z"
   },
   {
    "duration": 0,
    "start_time": "2022-10-28T20:32:57.135Z"
   },
   {
    "duration": 0,
    "start_time": "2022-10-28T20:32:57.135Z"
   },
   {
    "duration": 0,
    "start_time": "2022-10-28T20:32:57.136Z"
   },
   {
    "duration": 0,
    "start_time": "2022-10-28T20:32:57.137Z"
   },
   {
    "duration": 0,
    "start_time": "2022-10-28T20:32:57.138Z"
   },
   {
    "duration": 0,
    "start_time": "2022-10-28T20:32:57.139Z"
   },
   {
    "duration": 0,
    "start_time": "2022-10-28T20:32:57.140Z"
   },
   {
    "duration": 1099,
    "start_time": "2022-10-28T20:33:13.215Z"
   },
   {
    "duration": 51,
    "start_time": "2022-10-28T20:33:14.315Z"
   },
   {
    "duration": 18,
    "start_time": "2022-10-28T20:33:14.367Z"
   },
   {
    "duration": 13,
    "start_time": "2022-10-28T20:33:14.386Z"
   },
   {
    "duration": 5,
    "start_time": "2022-10-28T20:33:14.400Z"
   },
   {
    "duration": 19,
    "start_time": "2022-10-28T20:33:14.406Z"
   },
   {
    "duration": 5,
    "start_time": "2022-10-28T20:33:14.426Z"
   },
   {
    "duration": 18,
    "start_time": "2022-10-28T20:33:14.432Z"
   },
   {
    "duration": 4,
    "start_time": "2022-10-28T20:33:14.451Z"
   },
   {
    "duration": 14,
    "start_time": "2022-10-28T20:33:14.458Z"
   },
   {
    "duration": 5,
    "start_time": "2022-10-28T20:33:14.474Z"
   },
   {
    "duration": 5,
    "start_time": "2022-10-28T20:33:14.506Z"
   },
   {
    "duration": 8,
    "start_time": "2022-10-28T20:33:14.512Z"
   },
   {
    "duration": 4,
    "start_time": "2022-10-28T20:33:14.522Z"
   },
   {
    "duration": 7,
    "start_time": "2022-10-28T20:33:14.527Z"
   },
   {
    "duration": 7,
    "start_time": "2022-10-28T20:33:14.536Z"
   },
   {
    "duration": 88,
    "start_time": "2022-10-28T20:33:14.545Z"
   },
   {
    "duration": 196,
    "start_time": "2022-10-28T20:33:14.635Z"
   },
   {
    "duration": 5,
    "start_time": "2022-10-28T20:33:14.833Z"
   },
   {
    "duration": 270,
    "start_time": "2022-10-28T20:33:14.839Z"
   },
   {
    "duration": 481,
    "start_time": "2022-10-28T20:33:15.110Z"
   },
   {
    "duration": 11,
    "start_time": "2022-10-28T20:33:15.593Z"
   },
   {
    "duration": 7,
    "start_time": "2022-10-28T20:33:15.606Z"
   },
   {
    "duration": 234,
    "start_time": "2022-10-28T20:33:15.614Z"
   },
   {
    "duration": 6,
    "start_time": "2022-10-28T20:33:15.849Z"
   },
   {
    "duration": 6,
    "start_time": "2022-10-28T20:33:15.856Z"
   },
   {
    "duration": 213,
    "start_time": "2022-10-28T20:33:15.863Z"
   },
   {
    "duration": 262,
    "start_time": "2022-10-28T20:33:16.079Z"
   },
   {
    "duration": 7,
    "start_time": "2022-10-28T20:33:16.342Z"
   },
   {
    "duration": 3,
    "start_time": "2022-10-28T20:33:16.350Z"
   },
   {
    "duration": 11,
    "start_time": "2022-10-28T20:33:16.354Z"
   },
   {
    "duration": 10,
    "start_time": "2022-10-28T20:33:16.367Z"
   },
   {
    "duration": 155,
    "start_time": "2022-10-28T20:33:16.379Z"
   },
   {
    "duration": 158,
    "start_time": "2022-10-28T20:33:16.536Z"
   },
   {
    "duration": 3,
    "start_time": "2022-10-28T20:33:16.696Z"
   },
   {
    "duration": 7,
    "start_time": "2022-10-28T20:33:16.705Z"
   },
   {
    "duration": 1315,
    "start_time": "2022-10-28T20:33:16.713Z"
   },
   {
    "duration": 6,
    "start_time": "2022-10-28T20:33:18.029Z"
   },
   {
    "duration": 22,
    "start_time": "2022-10-28T20:33:18.037Z"
   },
   {
    "duration": 23,
    "start_time": "2022-10-28T20:33:18.060Z"
   },
   {
    "duration": 315,
    "start_time": "2022-10-28T20:33:18.084Z"
   },
   {
    "duration": 89,
    "start_time": "2022-10-28T20:33:18.400Z"
   },
   {
    "duration": 347,
    "start_time": "2022-10-28T20:33:18.490Z"
   },
   {
    "duration": 350,
    "start_time": "2022-10-28T20:33:18.838Z"
   },
   {
    "duration": 347,
    "start_time": "2022-10-28T20:33:19.190Z"
   },
   {
    "duration": 359,
    "start_time": "2022-10-28T20:33:19.539Z"
   },
   {
    "duration": 357,
    "start_time": "2022-10-28T20:33:19.899Z"
   },
   {
    "duration": 447,
    "start_time": "2022-10-28T20:33:20.258Z"
   },
   {
    "duration": 7,
    "start_time": "2022-10-28T20:33:20.706Z"
   },
   {
    "duration": 6,
    "start_time": "2022-10-28T20:33:20.715Z"
   },
   {
    "duration": 10,
    "start_time": "2022-10-28T20:33:20.722Z"
   },
   {
    "duration": 4,
    "start_time": "2022-10-28T20:33:20.734Z"
   },
   {
    "duration": 1220,
    "start_time": "2022-10-28T20:33:45.485Z"
   },
   {
    "duration": 5,
    "start_time": "2022-10-28T20:34:04.963Z"
   },
   {
    "duration": 1138,
    "start_time": "2022-10-28T20:34:06.408Z"
   },
   {
    "duration": 7,
    "start_time": "2022-10-28T20:46:07.602Z"
   },
   {
    "duration": 13,
    "start_time": "2022-10-28T20:46:08.241Z"
   },
   {
    "duration": 16,
    "start_time": "2022-10-28T20:46:12.164Z"
   },
   {
    "duration": 371,
    "start_time": "2022-10-28T20:46:17.368Z"
   },
   {
    "duration": 298,
    "start_time": "2022-10-28T20:47:10.297Z"
   },
   {
    "duration": 467,
    "start_time": "2022-10-28T20:48:04.944Z"
   },
   {
    "duration": 244,
    "start_time": "2022-10-28T20:51:34.125Z"
   },
   {
    "duration": 1051,
    "start_time": "2022-10-28T20:52:23.351Z"
   },
   {
    "duration": 50,
    "start_time": "2022-10-28T20:52:24.403Z"
   },
   {
    "duration": 16,
    "start_time": "2022-10-28T20:52:24.455Z"
   },
   {
    "duration": 13,
    "start_time": "2022-10-28T20:52:24.473Z"
   },
   {
    "duration": 4,
    "start_time": "2022-10-28T20:52:24.487Z"
   },
   {
    "duration": 18,
    "start_time": "2022-10-28T20:52:24.493Z"
   },
   {
    "duration": 4,
    "start_time": "2022-10-28T20:52:24.513Z"
   },
   {
    "duration": 18,
    "start_time": "2022-10-28T20:52:24.519Z"
   },
   {
    "duration": 4,
    "start_time": "2022-10-28T20:52:24.539Z"
   },
   {
    "duration": 16,
    "start_time": "2022-10-28T20:52:24.546Z"
   },
   {
    "duration": 4,
    "start_time": "2022-10-28T20:52:24.564Z"
   },
   {
    "duration": 35,
    "start_time": "2022-10-28T20:52:24.570Z"
   },
   {
    "duration": 8,
    "start_time": "2022-10-28T20:52:24.607Z"
   },
   {
    "duration": 9,
    "start_time": "2022-10-28T20:52:24.617Z"
   },
   {
    "duration": 10,
    "start_time": "2022-10-28T20:52:24.627Z"
   },
   {
    "duration": 7,
    "start_time": "2022-10-28T20:52:24.639Z"
   },
   {
    "duration": 87,
    "start_time": "2022-10-28T20:52:24.648Z"
   },
   {
    "duration": 201,
    "start_time": "2022-10-28T20:52:24.736Z"
   },
   {
    "duration": 6,
    "start_time": "2022-10-28T20:52:24.939Z"
   },
   {
    "duration": 259,
    "start_time": "2022-10-28T20:52:24.946Z"
   },
   {
    "duration": 496,
    "start_time": "2022-10-28T20:52:25.207Z"
   },
   {
    "duration": 11,
    "start_time": "2022-10-28T20:52:25.705Z"
   },
   {
    "duration": 8,
    "start_time": "2022-10-28T20:52:25.717Z"
   },
   {
    "duration": 250,
    "start_time": "2022-10-28T20:52:25.726Z"
   },
   {
    "duration": 5,
    "start_time": "2022-10-28T20:52:25.978Z"
   },
   {
    "duration": 4,
    "start_time": "2022-10-28T20:52:25.985Z"
   },
   {
    "duration": 208,
    "start_time": "2022-10-28T20:52:25.991Z"
   },
   {
    "duration": 268,
    "start_time": "2022-10-28T20:52:26.204Z"
   },
   {
    "duration": 7,
    "start_time": "2022-10-28T20:52:26.473Z"
   },
   {
    "duration": 4,
    "start_time": "2022-10-28T20:52:26.482Z"
   },
   {
    "duration": 18,
    "start_time": "2022-10-28T20:52:26.487Z"
   },
   {
    "duration": 7,
    "start_time": "2022-10-28T20:52:26.506Z"
   },
   {
    "duration": 169,
    "start_time": "2022-10-28T20:52:26.514Z"
   },
   {
    "duration": 161,
    "start_time": "2022-10-28T20:52:26.685Z"
   },
   {
    "duration": 3,
    "start_time": "2022-10-28T20:52:26.848Z"
   },
   {
    "duration": 6,
    "start_time": "2022-10-28T20:52:26.853Z"
   },
   {
    "duration": 1047,
    "start_time": "2022-10-28T20:52:26.861Z"
   },
   {
    "duration": 7,
    "start_time": "2022-10-28T20:52:27.910Z"
   },
   {
    "duration": 18,
    "start_time": "2022-10-28T20:52:27.919Z"
   },
   {
    "duration": 20,
    "start_time": "2022-10-28T20:52:27.939Z"
   },
   {
    "duration": 357,
    "start_time": "2022-10-28T20:52:27.961Z"
   },
   {
    "duration": 8,
    "start_time": "2022-10-28T20:52:28.319Z"
   },
   {
    "duration": 438,
    "start_time": "2022-10-28T20:52:28.329Z"
   },
   {
    "duration": 354,
    "start_time": "2022-10-28T20:52:28.769Z"
   },
   {
    "duration": 341,
    "start_time": "2022-10-28T20:52:29.125Z"
   },
   {
    "duration": 352,
    "start_time": "2022-10-28T20:52:29.468Z"
   },
   {
    "duration": 360,
    "start_time": "2022-10-28T20:52:29.821Z"
   },
   {
    "duration": 543,
    "start_time": "2022-10-28T20:52:30.182Z"
   },
   {
    "duration": 8,
    "start_time": "2022-10-28T20:52:30.727Z"
   },
   {
    "duration": 15,
    "start_time": "2022-10-28T20:52:30.737Z"
   },
   {
    "duration": 59,
    "start_time": "2022-10-28T20:52:30.754Z"
   },
   {
    "duration": 11,
    "start_time": "2022-10-28T20:52:30.815Z"
   },
   {
    "duration": 6,
    "start_time": "2022-10-28T20:57:58.649Z"
   },
   {
    "duration": 4,
    "start_time": "2022-10-28T20:58:14.255Z"
   },
   {
    "duration": 428,
    "start_time": "2022-10-28T20:58:15.977Z"
   },
   {
    "duration": 355,
    "start_time": "2022-10-28T20:58:30.265Z"
   },
   {
    "duration": 334,
    "start_time": "2022-10-28T20:58:39.401Z"
   },
   {
    "duration": 389,
    "start_time": "2022-10-28T20:58:47.334Z"
   },
   {
    "duration": 4,
    "start_time": "2022-10-28T21:02:29.395Z"
   },
   {
    "duration": 334,
    "start_time": "2022-10-28T21:02:30.852Z"
   },
   {
    "duration": 4,
    "start_time": "2022-10-28T21:02:49.539Z"
   },
   {
    "duration": 405,
    "start_time": "2022-10-28T21:02:50.506Z"
   },
   {
    "duration": 6,
    "start_time": "2022-10-28T21:02:58.536Z"
   },
   {
    "duration": 432,
    "start_time": "2022-10-28T21:02:59.736Z"
   },
   {
    "duration": 4,
    "start_time": "2022-10-28T21:07:13.434Z"
   },
   {
    "duration": 300,
    "start_time": "2022-10-28T21:07:14.514Z"
   },
   {
    "duration": 5,
    "start_time": "2022-10-28T21:07:25.515Z"
   },
   {
    "duration": 307,
    "start_time": "2022-10-28T21:07:26.367Z"
   },
   {
    "duration": 4,
    "start_time": "2022-10-28T21:07:40.573Z"
   },
   {
    "duration": 377,
    "start_time": "2022-10-28T21:07:41.468Z"
   },
   {
    "duration": 4,
    "start_time": "2022-10-28T21:07:46.490Z"
   },
   {
    "duration": 774,
    "start_time": "2022-10-28T21:07:47.252Z"
   },
   {
    "duration": 4,
    "start_time": "2022-10-28T21:09:02.340Z"
   },
   {
    "duration": 847,
    "start_time": "2022-10-28T21:09:03.345Z"
   },
   {
    "duration": 4,
    "start_time": "2022-10-28T21:09:28.403Z"
   },
   {
    "duration": 769,
    "start_time": "2022-10-28T21:09:29.422Z"
   },
   {
    "duration": 6,
    "start_time": "2022-10-28T21:10:06.196Z"
   },
   {
    "duration": 10,
    "start_time": "2022-10-28T21:10:21.174Z"
   },
   {
    "duration": 10,
    "start_time": "2022-10-28T21:10:27.100Z"
   },
   {
    "duration": 5,
    "start_time": "2022-10-28T21:10:39.070Z"
   },
   {
    "duration": 8,
    "start_time": "2022-10-28T21:10:44.203Z"
   },
   {
    "duration": 839,
    "start_time": "2022-10-28T21:11:46.645Z"
   },
   {
    "duration": 779,
    "start_time": "2022-10-28T21:12:05.474Z"
   },
   {
    "duration": 13,
    "start_time": "2022-10-28T21:15:24.366Z"
   },
   {
    "duration": 3,
    "start_time": "2022-10-28T21:17:11.220Z"
   },
   {
    "duration": 763,
    "start_time": "2022-10-28T21:17:12.459Z"
   },
   {
    "duration": 1020,
    "start_time": "2022-10-28T21:17:44.855Z"
   },
   {
    "duration": 53,
    "start_time": "2022-10-28T21:17:45.877Z"
   },
   {
    "duration": 17,
    "start_time": "2022-10-28T21:17:45.931Z"
   },
   {
    "duration": 14,
    "start_time": "2022-10-28T21:17:45.950Z"
   },
   {
    "duration": 5,
    "start_time": "2022-10-28T21:17:45.966Z"
   },
   {
    "duration": 39,
    "start_time": "2022-10-28T21:17:45.973Z"
   },
   {
    "duration": 6,
    "start_time": "2022-10-28T21:17:46.013Z"
   },
   {
    "duration": 17,
    "start_time": "2022-10-28T21:17:46.020Z"
   },
   {
    "duration": 4,
    "start_time": "2022-10-28T21:17:46.039Z"
   },
   {
    "duration": 16,
    "start_time": "2022-10-28T21:17:46.045Z"
   },
   {
    "duration": 4,
    "start_time": "2022-10-28T21:17:46.062Z"
   },
   {
    "duration": 8,
    "start_time": "2022-10-28T21:17:46.067Z"
   },
   {
    "duration": 33,
    "start_time": "2022-10-28T21:17:46.076Z"
   },
   {
    "duration": 5,
    "start_time": "2022-10-28T21:17:46.111Z"
   },
   {
    "duration": 6,
    "start_time": "2022-10-28T21:17:46.118Z"
   },
   {
    "duration": 10,
    "start_time": "2022-10-28T21:17:46.125Z"
   },
   {
    "duration": 110,
    "start_time": "2022-10-28T21:17:46.136Z"
   },
   {
    "duration": 217,
    "start_time": "2022-10-28T21:17:46.248Z"
   },
   {
    "duration": 6,
    "start_time": "2022-10-28T21:17:46.466Z"
   },
   {
    "duration": 250,
    "start_time": "2022-10-28T21:17:46.473Z"
   },
   {
    "duration": 482,
    "start_time": "2022-10-28T21:17:46.725Z"
   },
   {
    "duration": 13,
    "start_time": "2022-10-28T21:17:47.209Z"
   },
   {
    "duration": 7,
    "start_time": "2022-10-28T21:17:47.224Z"
   },
   {
    "duration": 320,
    "start_time": "2022-10-28T21:17:47.233Z"
   },
   {
    "duration": 6,
    "start_time": "2022-10-28T21:17:47.554Z"
   },
   {
    "duration": 5,
    "start_time": "2022-10-28T21:17:47.561Z"
   },
   {
    "duration": 211,
    "start_time": "2022-10-28T21:17:47.568Z"
   },
   {
    "duration": 429,
    "start_time": "2022-10-28T21:17:47.780Z"
   },
   {
    "duration": 6,
    "start_time": "2022-10-28T21:17:48.211Z"
   },
   {
    "duration": 8,
    "start_time": "2022-10-28T21:17:48.219Z"
   },
   {
    "duration": 6,
    "start_time": "2022-10-28T21:17:48.228Z"
   },
   {
    "duration": 9,
    "start_time": "2022-10-28T21:17:48.236Z"
   },
   {
    "duration": 192,
    "start_time": "2022-10-28T21:17:48.247Z"
   },
   {
    "duration": 168,
    "start_time": "2022-10-28T21:17:48.441Z"
   },
   {
    "duration": 4,
    "start_time": "2022-10-28T21:17:48.611Z"
   },
   {
    "duration": 7,
    "start_time": "2022-10-28T21:17:48.616Z"
   },
   {
    "duration": 952,
    "start_time": "2022-10-28T21:17:48.625Z"
   },
   {
    "duration": 5,
    "start_time": "2022-10-28T21:17:49.579Z"
   },
   {
    "duration": 21,
    "start_time": "2022-10-28T21:17:49.585Z"
   },
   {
    "duration": 15,
    "start_time": "2022-10-28T21:17:49.607Z"
   },
   {
    "duration": 330,
    "start_time": "2022-10-28T21:17:49.625Z"
   },
   {
    "duration": 11,
    "start_time": "2022-10-28T21:17:49.957Z"
   },
   {
    "duration": 18,
    "start_time": "2022-10-28T21:17:49.969Z"
   },
   {
    "duration": 15,
    "start_time": "2022-10-28T21:17:49.989Z"
   },
   {
    "duration": 781,
    "start_time": "2022-10-28T21:17:50.005Z"
   },
   {
    "duration": 695,
    "start_time": "2022-10-28T21:17:50.787Z"
   },
   {
    "duration": 743,
    "start_time": "2022-10-28T21:17:51.484Z"
   },
   {
    "duration": 8,
    "start_time": "2022-10-28T21:17:52.228Z"
   },
   {
    "duration": 11,
    "start_time": "2022-10-28T21:17:52.237Z"
   },
   {
    "duration": 11,
    "start_time": "2022-10-28T21:17:52.250Z"
   },
   {
    "duration": 6,
    "start_time": "2022-10-28T21:17:52.262Z"
   },
   {
    "duration": 103,
    "start_time": "2022-10-28T21:19:50.941Z"
   },
   {
    "duration": 14,
    "start_time": "2022-10-28T21:19:54.487Z"
   },
   {
    "duration": 22,
    "start_time": "2022-10-28T21:20:23.815Z"
   },
   {
    "duration": 21,
    "start_time": "2022-10-28T21:20:28.113Z"
   },
   {
    "duration": 138,
    "start_time": "2022-10-28T21:20:36.320Z"
   },
   {
    "duration": 5,
    "start_time": "2022-10-28T21:24:21.292Z"
   },
   {
    "duration": 6,
    "start_time": "2022-10-28T21:24:26.274Z"
   },
   {
    "duration": 1191,
    "start_time": "2022-10-28T21:29:00.706Z"
   },
   {
    "duration": 1350,
    "start_time": "2022-10-28T21:29:21.369Z"
   },
   {
    "duration": 101,
    "start_time": "2022-10-28T21:29:45.588Z"
   },
   {
    "duration": 892,
    "start_time": "2022-10-28T21:32:37.315Z"
   },
   {
    "duration": 5,
    "start_time": "2022-10-28T21:32:54.498Z"
   },
   {
    "duration": 16,
    "start_time": "2022-10-28T21:36:22.338Z"
   },
   {
    "duration": 92,
    "start_time": "2022-10-28T21:36:28.859Z"
   },
   {
    "duration": 88,
    "start_time": "2022-10-28T21:36:39.227Z"
   },
   {
    "duration": 107,
    "start_time": "2022-10-28T21:47:36.813Z"
   },
   {
    "duration": 233,
    "start_time": "2022-10-28T21:47:59.389Z"
   },
   {
    "duration": 200,
    "start_time": "2022-10-28T21:49:10.347Z"
   },
   {
    "duration": 187,
    "start_time": "2022-10-28T21:49:29.045Z"
   },
   {
    "duration": 205,
    "start_time": "2022-10-28T21:49:36.493Z"
   },
   {
    "duration": 134,
    "start_time": "2022-10-28T21:50:13.243Z"
   },
   {
    "duration": 93,
    "start_time": "2022-10-28T21:50:27.880Z"
   },
   {
    "duration": 135,
    "start_time": "2022-10-28T21:50:28.932Z"
   },
   {
    "duration": 13,
    "start_time": "2022-10-28T21:50:54.421Z"
   },
   {
    "duration": 150,
    "start_time": "2022-10-28T21:52:19.038Z"
   },
   {
    "duration": 82,
    "start_time": "2022-10-28T21:52:24.154Z"
   },
   {
    "duration": 107,
    "start_time": "2022-10-28T21:53:14.318Z"
   },
   {
    "duration": 155,
    "start_time": "2022-10-28T21:53:46.025Z"
   },
   {
    "duration": 149,
    "start_time": "2022-10-28T21:58:54.439Z"
   },
   {
    "duration": 81,
    "start_time": "2022-10-28T22:00:06.435Z"
   },
   {
    "duration": 116,
    "start_time": "2022-10-28T22:01:40.358Z"
   },
   {
    "duration": 172,
    "start_time": "2022-10-28T22:01:41.437Z"
   },
   {
    "duration": 93,
    "start_time": "2022-10-28T22:01:42.231Z"
   },
   {
    "duration": 116,
    "start_time": "2022-10-28T22:02:19.919Z"
   },
   {
    "duration": 103,
    "start_time": "2022-10-28T22:02:25.639Z"
   },
   {
    "duration": 126,
    "start_time": "2022-10-28T22:02:34.463Z"
   },
   {
    "duration": 98,
    "start_time": "2022-10-28T22:02:40.010Z"
   },
   {
    "duration": 257,
    "start_time": "2022-10-28T22:02:49.259Z"
   },
   {
    "duration": 102,
    "start_time": "2022-10-28T22:02:57.867Z"
   },
   {
    "duration": 86,
    "start_time": "2022-10-28T22:03:14.851Z"
   },
   {
    "duration": 109,
    "start_time": "2022-10-28T22:03:15.623Z"
   },
   {
    "duration": 94,
    "start_time": "2022-10-28T22:03:16.298Z"
   },
   {
    "duration": 106,
    "start_time": "2022-10-28T22:03:18.047Z"
   },
   {
    "duration": 98,
    "start_time": "2022-10-28T22:03:19.028Z"
   },
   {
    "duration": 81,
    "start_time": "2022-10-28T22:03:19.692Z"
   },
   {
    "duration": 102,
    "start_time": "2022-10-28T22:03:22.688Z"
   },
   {
    "duration": 94,
    "start_time": "2022-10-28T22:03:23.415Z"
   },
   {
    "duration": 91,
    "start_time": "2022-10-28T22:03:24.526Z"
   },
   {
    "duration": 7,
    "start_time": "2022-10-28T22:12:01.144Z"
   },
   {
    "duration": 5,
    "start_time": "2022-10-28T22:12:10.227Z"
   },
   {
    "duration": 8,
    "start_time": "2022-10-28T22:12:43.665Z"
   },
   {
    "duration": 5,
    "start_time": "2022-10-28T22:12:45.497Z"
   },
   {
    "duration": 7,
    "start_time": "2022-10-28T22:12:54.851Z"
   },
   {
    "duration": 4,
    "start_time": "2022-10-28T22:12:55.571Z"
   },
   {
    "duration": 10,
    "start_time": "2022-10-28T22:16:27.296Z"
   },
   {
    "duration": 10,
    "start_time": "2022-10-28T22:16:52.654Z"
   },
   {
    "duration": 9,
    "start_time": "2022-10-28T22:17:09.165Z"
   },
   {
    "duration": 6,
    "start_time": "2022-10-28T22:17:35.954Z"
   },
   {
    "duration": 6,
    "start_time": "2022-10-28T22:17:41.069Z"
   },
   {
    "duration": 4,
    "start_time": "2022-10-28T22:17:44.816Z"
   },
   {
    "duration": 6,
    "start_time": "2022-10-28T22:17:54.171Z"
   },
   {
    "duration": 4,
    "start_time": "2022-10-28T22:17:56.543Z"
   },
   {
    "duration": 7,
    "start_time": "2022-10-28T22:18:30.221Z"
   },
   {
    "duration": 5,
    "start_time": "2022-10-28T22:18:42.106Z"
   },
   {
    "duration": 8,
    "start_time": "2022-10-28T22:19:37.173Z"
   },
   {
    "duration": 6,
    "start_time": "2022-10-28T22:19:41.625Z"
   },
   {
    "duration": 12,
    "start_time": "2022-10-28T22:20:13.511Z"
   },
   {
    "duration": 13,
    "start_time": "2022-10-28T22:21:16.223Z"
   },
   {
    "duration": 12,
    "start_time": "2022-10-28T22:21:30.175Z"
   },
   {
    "duration": 11,
    "start_time": "2022-10-28T22:21:38.395Z"
   },
   {
    "duration": 10,
    "start_time": "2022-10-28T22:22:06.701Z"
   },
   {
    "duration": 878,
    "start_time": "2022-10-28T22:22:47.920Z"
   },
   {
    "duration": 854,
    "start_time": "2022-10-28T22:23:06.841Z"
   },
   {
    "duration": 6,
    "start_time": "2022-10-28T22:23:14.379Z"
   },
   {
    "duration": 6,
    "start_time": "2022-10-28T22:23:18.575Z"
   },
   {
    "duration": 7,
    "start_time": "2022-10-28T22:23:48.867Z"
   },
   {
    "duration": 5,
    "start_time": "2022-10-28T22:24:00.011Z"
   },
   {
    "duration": 9,
    "start_time": "2022-10-28T22:24:40.977Z"
   },
   {
    "duration": 4,
    "start_time": "2022-10-28T22:24:55.212Z"
   },
   {
    "duration": 1319,
    "start_time": "2022-10-29T16:36:54.298Z"
   },
   {
    "duration": 103,
    "start_time": "2022-10-29T16:36:55.619Z"
   },
   {
    "duration": 18,
    "start_time": "2022-10-29T16:36:55.724Z"
   },
   {
    "duration": 15,
    "start_time": "2022-10-29T16:36:55.743Z"
   },
   {
    "duration": 11,
    "start_time": "2022-10-29T16:36:55.760Z"
   },
   {
    "duration": 22,
    "start_time": "2022-10-29T16:36:55.772Z"
   },
   {
    "duration": 7,
    "start_time": "2022-10-29T16:36:55.796Z"
   },
   {
    "duration": 24,
    "start_time": "2022-10-29T16:36:55.805Z"
   },
   {
    "duration": 4,
    "start_time": "2022-10-29T16:36:55.831Z"
   },
   {
    "duration": 29,
    "start_time": "2022-10-29T16:36:55.837Z"
   },
   {
    "duration": 4,
    "start_time": "2022-10-29T16:36:55.867Z"
   },
   {
    "duration": 29,
    "start_time": "2022-10-29T16:36:55.873Z"
   },
   {
    "duration": 16,
    "start_time": "2022-10-29T16:36:55.904Z"
   },
   {
    "duration": 15,
    "start_time": "2022-10-29T16:36:55.922Z"
   },
   {
    "duration": 11,
    "start_time": "2022-10-29T16:36:55.939Z"
   },
   {
    "duration": 7,
    "start_time": "2022-10-29T16:36:55.952Z"
   },
   {
    "duration": 67,
    "start_time": "2022-10-29T16:36:55.960Z"
   },
   {
    "duration": 212,
    "start_time": "2022-10-29T16:36:56.029Z"
   },
   {
    "duration": 5,
    "start_time": "2022-10-29T16:36:56.243Z"
   },
   {
    "duration": 286,
    "start_time": "2022-10-29T16:36:56.250Z"
   },
   {
    "duration": 539,
    "start_time": "2022-10-29T16:36:56.538Z"
   },
   {
    "duration": 14,
    "start_time": "2022-10-29T16:36:57.079Z"
   },
   {
    "duration": 13,
    "start_time": "2022-10-29T16:36:57.095Z"
   },
   {
    "duration": 248,
    "start_time": "2022-10-29T16:36:57.109Z"
   },
   {
    "duration": 5,
    "start_time": "2022-10-29T16:36:57.358Z"
   },
   {
    "duration": 16,
    "start_time": "2022-10-29T16:36:57.365Z"
   },
   {
    "duration": 209,
    "start_time": "2022-10-29T16:36:57.382Z"
   },
   {
    "duration": 262,
    "start_time": "2022-10-29T16:36:57.593Z"
   },
   {
    "duration": 6,
    "start_time": "2022-10-29T16:36:57.856Z"
   },
   {
    "duration": 17,
    "start_time": "2022-10-29T16:36:57.864Z"
   },
   {
    "duration": 8,
    "start_time": "2022-10-29T16:36:57.882Z"
   },
   {
    "duration": 14,
    "start_time": "2022-10-29T16:36:57.892Z"
   },
   {
    "duration": 171,
    "start_time": "2022-10-29T16:36:57.908Z"
   },
   {
    "duration": 185,
    "start_time": "2022-10-29T16:36:58.080Z"
   },
   {
    "duration": 5,
    "start_time": "2022-10-29T16:36:58.266Z"
   },
   {
    "duration": 6,
    "start_time": "2022-10-29T16:36:58.272Z"
   },
   {
    "duration": 994,
    "start_time": "2022-10-29T16:36:58.279Z"
   },
   {
    "duration": 5,
    "start_time": "2022-10-29T16:36:59.274Z"
   },
   {
    "duration": 28,
    "start_time": "2022-10-29T16:36:59.281Z"
   },
   {
    "duration": 21,
    "start_time": "2022-10-29T16:36:59.311Z"
   },
   {
    "duration": 321,
    "start_time": "2022-10-29T16:36:59.336Z"
   },
   {
    "duration": 99,
    "start_time": "2022-10-29T16:36:59.658Z"
   },
   {
    "duration": 184,
    "start_time": "2022-10-29T16:36:59.759Z"
   },
   {
    "duration": 96,
    "start_time": "2022-10-29T16:36:59.945Z"
   },
   {
    "duration": 108,
    "start_time": "2022-10-29T16:37:00.043Z"
   },
   {
    "duration": 110,
    "start_time": "2022-10-29T16:37:00.153Z"
   },
   {
    "duration": 95,
    "start_time": "2022-10-29T16:37:00.265Z"
   },
   {
    "duration": 111,
    "start_time": "2022-10-29T16:37:00.361Z"
   },
   {
    "duration": 110,
    "start_time": "2022-10-29T16:37:00.473Z"
   },
   {
    "duration": 95,
    "start_time": "2022-10-29T16:37:00.585Z"
   },
   {
    "duration": 6,
    "start_time": "2022-10-29T16:37:00.682Z"
   },
   {
    "duration": 48,
    "start_time": "2022-10-29T16:37:00.689Z"
   },
   {
    "duration": 41,
    "start_time": "2022-10-29T16:37:00.739Z"
   },
   {
    "duration": 52,
    "start_time": "2022-10-29T16:37:00.782Z"
   },
   {
    "duration": 20,
    "start_time": "2022-10-29T16:44:09.076Z"
   },
   {
    "duration": 3,
    "start_time": "2022-10-29T16:44:25.929Z"
   },
   {
    "duration": 4,
    "start_time": "2022-10-29T16:46:12.870Z"
   },
   {
    "duration": 4,
    "start_time": "2022-10-29T16:47:07.172Z"
   },
   {
    "duration": 5,
    "start_time": "2022-10-29T16:58:10.156Z"
   },
   {
    "duration": 1114,
    "start_time": "2022-10-29T16:58:20.388Z"
   },
   {
    "duration": 53,
    "start_time": "2022-10-29T16:58:21.504Z"
   },
   {
    "duration": 16,
    "start_time": "2022-10-29T16:58:21.559Z"
   },
   {
    "duration": 17,
    "start_time": "2022-10-29T16:58:21.577Z"
   },
   {
    "duration": 4,
    "start_time": "2022-10-29T16:58:21.596Z"
   },
   {
    "duration": 21,
    "start_time": "2022-10-29T16:58:21.601Z"
   },
   {
    "duration": 5,
    "start_time": "2022-10-29T16:58:21.623Z"
   },
   {
    "duration": 20,
    "start_time": "2022-10-29T16:58:21.629Z"
   },
   {
    "duration": 5,
    "start_time": "2022-10-29T16:58:21.650Z"
   },
   {
    "duration": 18,
    "start_time": "2022-10-29T16:58:21.656Z"
   },
   {
    "duration": 23,
    "start_time": "2022-10-29T16:58:21.676Z"
   },
   {
    "duration": 25,
    "start_time": "2022-10-29T16:58:21.700Z"
   },
   {
    "duration": 18,
    "start_time": "2022-10-29T16:58:21.727Z"
   },
   {
    "duration": 26,
    "start_time": "2022-10-29T16:58:21.748Z"
   },
   {
    "duration": 57,
    "start_time": "2022-10-29T16:58:21.775Z"
   },
   {
    "duration": 26,
    "start_time": "2022-10-29T16:58:21.833Z"
   },
   {
    "duration": 73,
    "start_time": "2022-10-29T16:58:21.861Z"
   },
   {
    "duration": 211,
    "start_time": "2022-10-29T16:58:21.935Z"
   },
   {
    "duration": 5,
    "start_time": "2022-10-29T16:58:22.147Z"
   },
   {
    "duration": 281,
    "start_time": "2022-10-29T16:58:22.154Z"
   },
   {
    "duration": 604,
    "start_time": "2022-10-29T16:58:22.437Z"
   },
   {
    "duration": 12,
    "start_time": "2022-10-29T16:58:23.042Z"
   },
   {
    "duration": 42,
    "start_time": "2022-10-29T16:58:23.055Z"
   },
   {
    "duration": 279,
    "start_time": "2022-10-29T16:58:23.098Z"
   },
   {
    "duration": 5,
    "start_time": "2022-10-29T16:58:23.378Z"
   },
   {
    "duration": 44,
    "start_time": "2022-10-29T16:58:23.385Z"
   },
   {
    "duration": 227,
    "start_time": "2022-10-29T16:58:23.431Z"
   },
   {
    "duration": 265,
    "start_time": "2022-10-29T16:58:23.660Z"
   },
   {
    "duration": 8,
    "start_time": "2022-10-29T16:58:23.926Z"
   },
   {
    "duration": 19,
    "start_time": "2022-10-29T16:58:23.935Z"
   },
   {
    "duration": 35,
    "start_time": "2022-10-29T16:58:23.955Z"
   },
   {
    "duration": 21,
    "start_time": "2022-10-29T16:58:23.992Z"
   },
   {
    "duration": 210,
    "start_time": "2022-10-29T16:58:24.015Z"
   },
   {
    "duration": 175,
    "start_time": "2022-10-29T16:58:24.226Z"
   },
   {
    "duration": 6,
    "start_time": "2022-10-29T16:58:24.403Z"
   },
   {
    "duration": 21,
    "start_time": "2022-10-29T16:58:24.410Z"
   },
   {
    "duration": 36,
    "start_time": "2022-10-29T16:58:24.432Z"
   },
   {
    "duration": 1016,
    "start_time": "2022-10-29T16:58:24.469Z"
   },
   {
    "duration": 5,
    "start_time": "2022-10-29T16:58:25.487Z"
   },
   {
    "duration": 32,
    "start_time": "2022-10-29T16:58:25.493Z"
   },
   {
    "duration": 12,
    "start_time": "2022-10-29T16:58:25.529Z"
   },
   {
    "duration": 9,
    "start_time": "2022-10-29T16:58:25.542Z"
   },
   {
    "duration": 16,
    "start_time": "2022-10-29T16:58:25.552Z"
   },
   {
    "duration": 318,
    "start_time": "2022-10-29T16:58:25.569Z"
   },
   {
    "duration": 121,
    "start_time": "2022-10-29T16:58:25.888Z"
   },
   {
    "duration": 179,
    "start_time": "2022-10-29T16:58:26.010Z"
   },
   {
    "duration": 92,
    "start_time": "2022-10-29T16:58:26.191Z"
   },
   {
    "duration": 106,
    "start_time": "2022-10-29T16:58:26.284Z"
   },
   {
    "duration": 107,
    "start_time": "2022-10-29T16:58:26.391Z"
   },
   {
    "duration": 89,
    "start_time": "2022-10-29T16:58:26.500Z"
   },
   {
    "duration": 118,
    "start_time": "2022-10-29T16:58:26.591Z"
   },
   {
    "duration": 111,
    "start_time": "2022-10-29T16:58:26.710Z"
   },
   {
    "duration": 105,
    "start_time": "2022-10-29T16:58:26.823Z"
   },
   {
    "duration": 7,
    "start_time": "2022-10-29T16:58:26.930Z"
   },
   {
    "duration": 15,
    "start_time": "2022-10-29T16:58:26.939Z"
   },
   {
    "duration": 18,
    "start_time": "2022-10-29T16:58:26.956Z"
   },
   {
    "duration": 13,
    "start_time": "2022-10-29T16:58:26.975Z"
   },
   {
    "duration": 5,
    "start_time": "2022-10-29T16:58:49.786Z"
   },
   {
    "duration": 9,
    "start_time": "2022-10-29T17:08:04.315Z"
   },
   {
    "duration": 44,
    "start_time": "2022-10-29T17:41:34.817Z"
   },
   {
    "duration": 1239,
    "start_time": "2022-10-29T17:41:41.254Z"
   },
   {
    "duration": 204,
    "start_time": "2022-10-29T17:41:42.495Z"
   },
   {
    "duration": 18,
    "start_time": "2022-10-29T17:41:42.701Z"
   },
   {
    "duration": 14,
    "start_time": "2022-10-29T17:41:42.720Z"
   },
   {
    "duration": 5,
    "start_time": "2022-10-29T17:41:42.736Z"
   },
   {
    "duration": 19,
    "start_time": "2022-10-29T17:41:42.743Z"
   },
   {
    "duration": 6,
    "start_time": "2022-10-29T17:41:42.764Z"
   },
   {
    "duration": 49,
    "start_time": "2022-10-29T17:41:42.772Z"
   },
   {
    "duration": 5,
    "start_time": "2022-10-29T17:41:42.823Z"
   },
   {
    "duration": 15,
    "start_time": "2022-10-29T17:41:42.832Z"
   },
   {
    "duration": 4,
    "start_time": "2022-10-29T17:41:42.849Z"
   },
   {
    "duration": 6,
    "start_time": "2022-10-29T17:41:42.855Z"
   },
   {
    "duration": 12,
    "start_time": "2022-10-29T17:41:42.863Z"
   },
   {
    "duration": 29,
    "start_time": "2022-10-29T17:41:42.877Z"
   },
   {
    "duration": 5,
    "start_time": "2022-10-29T17:41:42.908Z"
   },
   {
    "duration": 7,
    "start_time": "2022-10-29T17:41:42.915Z"
   },
   {
    "duration": 93,
    "start_time": "2022-10-29T17:41:42.924Z"
   },
   {
    "duration": 199,
    "start_time": "2022-10-29T17:41:43.019Z"
   },
   {
    "duration": 6,
    "start_time": "2022-10-29T17:41:43.220Z"
   },
   {
    "duration": 257,
    "start_time": "2022-10-29T17:41:43.228Z"
   },
   {
    "duration": 504,
    "start_time": "2022-10-29T17:41:43.487Z"
   },
   {
    "duration": 96,
    "start_time": "2022-10-29T17:41:43.993Z"
   },
   {
    "duration": 0,
    "start_time": "2022-10-29T17:41:44.092Z"
   },
   {
    "duration": 0,
    "start_time": "2022-10-29T17:41:44.094Z"
   },
   {
    "duration": 0,
    "start_time": "2022-10-29T17:41:44.095Z"
   },
   {
    "duration": 0,
    "start_time": "2022-10-29T17:41:44.105Z"
   },
   {
    "duration": 0,
    "start_time": "2022-10-29T17:41:44.107Z"
   },
   {
    "duration": 0,
    "start_time": "2022-10-29T17:41:44.108Z"
   },
   {
    "duration": 0,
    "start_time": "2022-10-29T17:41:44.109Z"
   },
   {
    "duration": 0,
    "start_time": "2022-10-29T17:41:44.111Z"
   },
   {
    "duration": 0,
    "start_time": "2022-10-29T17:41:44.112Z"
   },
   {
    "duration": 0,
    "start_time": "2022-10-29T17:41:44.113Z"
   },
   {
    "duration": 0,
    "start_time": "2022-10-29T17:41:44.114Z"
   },
   {
    "duration": 0,
    "start_time": "2022-10-29T17:41:44.116Z"
   },
   {
    "duration": 0,
    "start_time": "2022-10-29T17:41:44.117Z"
   },
   {
    "duration": 0,
    "start_time": "2022-10-29T17:41:44.119Z"
   },
   {
    "duration": 0,
    "start_time": "2022-10-29T17:41:44.120Z"
   },
   {
    "duration": 0,
    "start_time": "2022-10-29T17:41:44.121Z"
   },
   {
    "duration": 0,
    "start_time": "2022-10-29T17:41:44.123Z"
   },
   {
    "duration": 0,
    "start_time": "2022-10-29T17:41:44.124Z"
   },
   {
    "duration": 0,
    "start_time": "2022-10-29T17:41:44.125Z"
   },
   {
    "duration": 0,
    "start_time": "2022-10-29T17:41:44.126Z"
   },
   {
    "duration": 0,
    "start_time": "2022-10-29T17:41:44.127Z"
   },
   {
    "duration": 0,
    "start_time": "2022-10-29T17:41:44.127Z"
   },
   {
    "duration": 0,
    "start_time": "2022-10-29T17:41:44.128Z"
   },
   {
    "duration": 0,
    "start_time": "2022-10-29T17:41:44.129Z"
   },
   {
    "duration": 0,
    "start_time": "2022-10-29T17:41:44.130Z"
   },
   {
    "duration": 0,
    "start_time": "2022-10-29T17:41:44.131Z"
   },
   {
    "duration": 0,
    "start_time": "2022-10-29T17:41:44.132Z"
   },
   {
    "duration": 0,
    "start_time": "2022-10-29T17:41:44.133Z"
   },
   {
    "duration": 0,
    "start_time": "2022-10-29T17:41:44.134Z"
   },
   {
    "duration": 0,
    "start_time": "2022-10-29T17:41:44.135Z"
   },
   {
    "duration": 0,
    "start_time": "2022-10-29T17:41:44.136Z"
   },
   {
    "duration": 0,
    "start_time": "2022-10-29T17:41:44.137Z"
   },
   {
    "duration": 0,
    "start_time": "2022-10-29T17:41:44.138Z"
   },
   {
    "duration": 0,
    "start_time": "2022-10-29T17:41:44.139Z"
   },
   {
    "duration": 0,
    "start_time": "2022-10-29T17:41:44.140Z"
   },
   {
    "duration": 1109,
    "start_time": "2022-10-29T17:58:18.270Z"
   },
   {
    "duration": 51,
    "start_time": "2022-10-29T17:58:19.381Z"
   },
   {
    "duration": 16,
    "start_time": "2022-10-29T17:58:19.433Z"
   },
   {
    "duration": 64,
    "start_time": "2022-10-29T17:58:19.451Z"
   },
   {
    "duration": 4,
    "start_time": "2022-10-29T17:58:19.517Z"
   },
   {
    "duration": 18,
    "start_time": "2022-10-29T17:58:19.522Z"
   },
   {
    "duration": 10,
    "start_time": "2022-10-29T17:58:19.541Z"
   },
   {
    "duration": 19,
    "start_time": "2022-10-29T17:58:19.552Z"
   },
   {
    "duration": 4,
    "start_time": "2022-10-29T17:58:19.572Z"
   },
   {
    "duration": 25,
    "start_time": "2022-10-29T17:58:19.578Z"
   },
   {
    "duration": 5,
    "start_time": "2022-10-29T17:58:19.605Z"
   },
   {
    "duration": 6,
    "start_time": "2022-10-29T17:58:19.611Z"
   },
   {
    "duration": 9,
    "start_time": "2022-10-29T17:58:19.618Z"
   },
   {
    "duration": 4,
    "start_time": "2022-10-29T17:58:19.630Z"
   },
   {
    "duration": 12,
    "start_time": "2022-10-29T17:58:19.635Z"
   },
   {
    "duration": 15,
    "start_time": "2022-10-29T17:58:19.648Z"
   },
   {
    "duration": 148,
    "start_time": "2022-10-29T17:58:19.665Z"
   },
   {
    "duration": 205,
    "start_time": "2022-10-29T17:58:19.814Z"
   },
   {
    "duration": 6,
    "start_time": "2022-10-29T17:58:20.022Z"
   },
   {
    "duration": 278,
    "start_time": "2022-10-29T17:58:20.030Z"
   },
   {
    "duration": 559,
    "start_time": "2022-10-29T17:58:20.309Z"
   },
   {
    "duration": 96,
    "start_time": "2022-10-29T17:58:20.870Z"
   },
   {
    "duration": 0,
    "start_time": "2022-10-29T17:58:20.967Z"
   },
   {
    "duration": 0,
    "start_time": "2022-10-29T17:58:20.969Z"
   },
   {
    "duration": 0,
    "start_time": "2022-10-29T17:58:20.970Z"
   },
   {
    "duration": 0,
    "start_time": "2022-10-29T17:58:20.971Z"
   },
   {
    "duration": 0,
    "start_time": "2022-10-29T17:58:20.972Z"
   },
   {
    "duration": 0,
    "start_time": "2022-10-29T17:58:20.974Z"
   },
   {
    "duration": 0,
    "start_time": "2022-10-29T17:58:20.975Z"
   },
   {
    "duration": 0,
    "start_time": "2022-10-29T17:58:20.976Z"
   },
   {
    "duration": 0,
    "start_time": "2022-10-29T17:58:20.977Z"
   },
   {
    "duration": 0,
    "start_time": "2022-10-29T17:58:20.978Z"
   },
   {
    "duration": 0,
    "start_time": "2022-10-29T17:58:20.979Z"
   },
   {
    "duration": 0,
    "start_time": "2022-10-29T17:58:20.980Z"
   },
   {
    "duration": 0,
    "start_time": "2022-10-29T17:58:20.980Z"
   },
   {
    "duration": 0,
    "start_time": "2022-10-29T17:58:20.981Z"
   },
   {
    "duration": 0,
    "start_time": "2022-10-29T17:58:20.982Z"
   },
   {
    "duration": 0,
    "start_time": "2022-10-29T17:58:20.983Z"
   },
   {
    "duration": 0,
    "start_time": "2022-10-29T17:58:21.005Z"
   },
   {
    "duration": 0,
    "start_time": "2022-10-29T17:58:21.006Z"
   },
   {
    "duration": 0,
    "start_time": "2022-10-29T17:58:21.007Z"
   },
   {
    "duration": 0,
    "start_time": "2022-10-29T17:58:21.008Z"
   },
   {
    "duration": 0,
    "start_time": "2022-10-29T17:58:21.009Z"
   },
   {
    "duration": 0,
    "start_time": "2022-10-29T17:58:21.011Z"
   },
   {
    "duration": 0,
    "start_time": "2022-10-29T17:58:21.012Z"
   },
   {
    "duration": 0,
    "start_time": "2022-10-29T17:58:21.012Z"
   },
   {
    "duration": 0,
    "start_time": "2022-10-29T17:58:21.013Z"
   },
   {
    "duration": 0,
    "start_time": "2022-10-29T17:58:21.014Z"
   },
   {
    "duration": 0,
    "start_time": "2022-10-29T17:58:21.015Z"
   },
   {
    "duration": 0,
    "start_time": "2022-10-29T17:58:21.016Z"
   },
   {
    "duration": 0,
    "start_time": "2022-10-29T17:58:21.017Z"
   },
   {
    "duration": 0,
    "start_time": "2022-10-29T17:58:21.018Z"
   },
   {
    "duration": 0,
    "start_time": "2022-10-29T17:58:21.019Z"
   },
   {
    "duration": 1,
    "start_time": "2022-10-29T17:58:21.019Z"
   },
   {
    "duration": 0,
    "start_time": "2022-10-29T17:58:21.020Z"
   },
   {
    "duration": 0,
    "start_time": "2022-10-29T17:58:21.021Z"
   },
   {
    "duration": 0,
    "start_time": "2022-10-29T17:58:21.022Z"
   },
   {
    "duration": 12,
    "start_time": "2022-10-29T17:58:38.479Z"
   },
   {
    "duration": 9,
    "start_time": "2022-10-29T17:58:41.420Z"
   },
   {
    "duration": 1087,
    "start_time": "2022-10-29T17:58:56.437Z"
   },
   {
    "duration": 48,
    "start_time": "2022-10-29T17:58:57.526Z"
   },
   {
    "duration": 16,
    "start_time": "2022-10-29T17:58:57.576Z"
   },
   {
    "duration": 15,
    "start_time": "2022-10-29T17:58:57.595Z"
   },
   {
    "duration": 4,
    "start_time": "2022-10-29T17:58:57.612Z"
   },
   {
    "duration": 16,
    "start_time": "2022-10-29T17:58:57.617Z"
   },
   {
    "duration": 4,
    "start_time": "2022-10-29T17:58:57.635Z"
   },
   {
    "duration": 19,
    "start_time": "2022-10-29T17:58:57.641Z"
   },
   {
    "duration": 4,
    "start_time": "2022-10-29T17:58:57.661Z"
   },
   {
    "duration": 38,
    "start_time": "2022-10-29T17:58:57.667Z"
   },
   {
    "duration": 4,
    "start_time": "2022-10-29T17:58:57.707Z"
   },
   {
    "duration": 6,
    "start_time": "2022-10-29T17:58:57.713Z"
   },
   {
    "duration": 8,
    "start_time": "2022-10-29T17:58:57.720Z"
   },
   {
    "duration": 4,
    "start_time": "2022-10-29T17:58:57.729Z"
   },
   {
    "duration": 7,
    "start_time": "2022-10-29T17:58:57.734Z"
   },
   {
    "duration": 7,
    "start_time": "2022-10-29T17:58:57.743Z"
   },
   {
    "duration": 92,
    "start_time": "2022-10-29T17:58:57.752Z"
   },
   {
    "duration": 226,
    "start_time": "2022-10-29T17:58:57.846Z"
   },
   {
    "duration": 5,
    "start_time": "2022-10-29T17:58:58.074Z"
   },
   {
    "duration": 265,
    "start_time": "2022-10-29T17:58:58.080Z"
   },
   {
    "duration": 501,
    "start_time": "2022-10-29T17:58:58.347Z"
   },
   {
    "duration": 10,
    "start_time": "2022-10-29T17:58:58.849Z"
   },
   {
    "duration": 7,
    "start_time": "2022-10-29T17:58:58.861Z"
   },
   {
    "duration": 235,
    "start_time": "2022-10-29T17:58:58.870Z"
   },
   {
    "duration": 6,
    "start_time": "2022-10-29T17:58:59.106Z"
   },
   {
    "duration": 4,
    "start_time": "2022-10-29T17:58:59.113Z"
   },
   {
    "duration": 218,
    "start_time": "2022-10-29T17:58:59.118Z"
   },
   {
    "duration": 261,
    "start_time": "2022-10-29T17:58:59.339Z"
   },
   {
    "duration": 3,
    "start_time": "2022-10-29T17:58:59.604Z"
   },
   {
    "duration": 9,
    "start_time": "2022-10-29T17:58:59.608Z"
   },
   {
    "duration": 10,
    "start_time": "2022-10-29T17:58:59.618Z"
   },
   {
    "duration": 168,
    "start_time": "2022-10-29T17:58:59.630Z"
   },
   {
    "duration": 162,
    "start_time": "2022-10-29T17:58:59.800Z"
   },
   {
    "duration": 4,
    "start_time": "2022-10-29T17:58:59.964Z"
   },
   {
    "duration": 6,
    "start_time": "2022-10-29T17:58:59.969Z"
   },
   {
    "duration": 4,
    "start_time": "2022-10-29T17:58:59.977Z"
   },
   {
    "duration": 989,
    "start_time": "2022-10-29T17:58:59.983Z"
   },
   {
    "duration": 6,
    "start_time": "2022-10-29T17:59:00.973Z"
   },
   {
    "duration": 10,
    "start_time": "2022-10-29T17:59:00.980Z"
   },
   {
    "duration": 21,
    "start_time": "2022-10-29T17:59:00.991Z"
   },
   {
    "duration": 5,
    "start_time": "2022-10-29T17:59:01.013Z"
   },
   {
    "duration": 19,
    "start_time": "2022-10-29T17:59:01.019Z"
   },
   {
    "duration": 346,
    "start_time": "2022-10-29T17:59:01.040Z"
   },
   {
    "duration": 94,
    "start_time": "2022-10-29T17:59:01.388Z"
   },
   {
    "duration": 203,
    "start_time": "2022-10-29T17:59:01.484Z"
   },
   {
    "duration": 100,
    "start_time": "2022-10-29T17:59:01.688Z"
   },
   {
    "duration": 120,
    "start_time": "2022-10-29T17:59:01.790Z"
   },
   {
    "duration": 104,
    "start_time": "2022-10-29T17:59:01.912Z"
   },
   {
    "duration": 90,
    "start_time": "2022-10-29T17:59:02.017Z"
   },
   {
    "duration": 106,
    "start_time": "2022-10-29T17:59:02.108Z"
   },
   {
    "duration": 111,
    "start_time": "2022-10-29T17:59:02.215Z"
   },
   {
    "duration": 97,
    "start_time": "2022-10-29T17:59:02.327Z"
   },
   {
    "duration": 9,
    "start_time": "2022-10-29T17:59:02.426Z"
   },
   {
    "duration": 8,
    "start_time": "2022-10-29T17:59:02.436Z"
   },
   {
    "duration": 9,
    "start_time": "2022-10-29T17:59:02.446Z"
   },
   {
    "duration": 8,
    "start_time": "2022-10-29T17:59:02.456Z"
   },
   {
    "duration": 4,
    "start_time": "2022-10-29T17:59:02.466Z"
   },
   {
    "duration": 14,
    "start_time": "2022-10-29T18:06:11.085Z"
   },
   {
    "duration": 319,
    "start_time": "2022-10-29T18:06:59.043Z"
   },
   {
    "duration": 120,
    "start_time": "2022-10-29T18:08:43.065Z"
   },
   {
    "duration": 108,
    "start_time": "2022-10-29T18:09:56.645Z"
   },
   {
    "duration": 23,
    "start_time": "2022-10-29T18:10:21.018Z"
   },
   {
    "duration": 10,
    "start_time": "2022-10-29T18:10:46.984Z"
   },
   {
    "duration": 7,
    "start_time": "2022-10-29T18:11:07.832Z"
   },
   {
    "duration": 8,
    "start_time": "2022-10-29T18:12:05.453Z"
   },
   {
    "duration": 105,
    "start_time": "2022-10-29T18:12:33.037Z"
   },
   {
    "duration": 141,
    "start_time": "2022-10-29T18:12:40.006Z"
   },
   {
    "duration": 150,
    "start_time": "2022-10-29T18:13:29.971Z"
   },
   {
    "duration": 104,
    "start_time": "2022-10-29T18:13:53.958Z"
   },
   {
    "duration": 255,
    "start_time": "2022-10-29T18:16:31.314Z"
   },
   {
    "duration": 166,
    "start_time": "2022-10-29T18:16:55.398Z"
   },
   {
    "duration": 96,
    "start_time": "2022-10-29T18:17:55.528Z"
   },
   {
    "duration": 135,
    "start_time": "2022-10-29T18:18:15.251Z"
   },
   {
    "duration": 102,
    "start_time": "2022-10-29T18:19:21.119Z"
   },
   {
    "duration": 99,
    "start_time": "2022-10-29T18:19:25.283Z"
   },
   {
    "duration": 97,
    "start_time": "2022-10-29T18:27:13.476Z"
   },
   {
    "duration": 10,
    "start_time": "2022-10-29T18:29:43.883Z"
   },
   {
    "duration": 13,
    "start_time": "2022-10-29T18:30:09.932Z"
   },
   {
    "duration": 10,
    "start_time": "2022-10-29T18:30:33.768Z"
   },
   {
    "duration": 72,
    "start_time": "2022-10-29T18:32:21.844Z"
   },
   {
    "duration": 22,
    "start_time": "2022-10-29T18:32:29.812Z"
   },
   {
    "duration": 3,
    "start_time": "2022-10-29T18:32:42.884Z"
   },
   {
    "duration": 11,
    "start_time": "2022-10-29T18:32:46.744Z"
   },
   {
    "duration": 16,
    "start_time": "2022-10-29T18:37:24.476Z"
   },
   {
    "duration": 10,
    "start_time": "2022-10-29T18:40:44.730Z"
   },
   {
    "duration": 11,
    "start_time": "2022-10-29T18:40:50.014Z"
   },
   {
    "duration": 88,
    "start_time": "2022-10-29T18:41:46.355Z"
   },
   {
    "duration": 4,
    "start_time": "2022-10-29T18:42:43.066Z"
   },
   {
    "duration": 90,
    "start_time": "2022-10-29T18:42:52.662Z"
   },
   {
    "duration": 93,
    "start_time": "2022-10-29T18:44:22.262Z"
   },
   {
    "duration": 20,
    "start_time": "2022-10-29T18:44:26.531Z"
   },
   {
    "duration": 20,
    "start_time": "2022-10-29T18:45:16.611Z"
   },
   {
    "duration": 211,
    "start_time": "2022-10-29T18:45:34.562Z"
   },
   {
    "duration": 349,
    "start_time": "2022-10-29T18:46:17.731Z"
   },
   {
    "duration": 210,
    "start_time": "2022-10-29T18:46:50.276Z"
   },
   {
    "duration": 11,
    "start_time": "2022-10-29T18:49:11.171Z"
   },
   {
    "duration": 16,
    "start_time": "2022-10-29T18:49:17.184Z"
   },
   {
    "duration": 249,
    "start_time": "2022-10-29T18:50:18.812Z"
   },
   {
    "duration": 268,
    "start_time": "2022-10-29T18:50:28.660Z"
   },
   {
    "duration": 282,
    "start_time": "2022-10-29T18:51:29.712Z"
   },
   {
    "duration": 319,
    "start_time": "2022-10-29T18:56:32.573Z"
   },
   {
    "duration": 218,
    "start_time": "2022-10-29T18:56:38.685Z"
   },
   {
    "duration": 205,
    "start_time": "2022-10-29T18:56:45.601Z"
   },
   {
    "duration": 229,
    "start_time": "2022-10-29T18:57:57.038Z"
   },
   {
    "duration": 219,
    "start_time": "2022-10-29T18:58:04.245Z"
   },
   {
    "duration": 225,
    "start_time": "2022-10-29T18:58:15.585Z"
   },
   {
    "duration": 379,
    "start_time": "2022-10-29T18:58:28.797Z"
   },
   {
    "duration": 280,
    "start_time": "2022-10-29T18:58:51.802Z"
   },
   {
    "duration": 1066,
    "start_time": "2022-10-29T18:59:19.705Z"
   },
   {
    "duration": 50,
    "start_time": "2022-10-29T18:59:20.772Z"
   },
   {
    "duration": 15,
    "start_time": "2022-10-29T18:59:20.824Z"
   },
   {
    "duration": 12,
    "start_time": "2022-10-29T18:59:20.841Z"
   },
   {
    "duration": 4,
    "start_time": "2022-10-29T18:59:20.854Z"
   },
   {
    "duration": 16,
    "start_time": "2022-10-29T18:59:20.859Z"
   },
   {
    "duration": 5,
    "start_time": "2022-10-29T18:59:20.877Z"
   },
   {
    "duration": 16,
    "start_time": "2022-10-29T18:59:20.905Z"
   },
   {
    "duration": 4,
    "start_time": "2022-10-29T18:59:20.922Z"
   },
   {
    "duration": 15,
    "start_time": "2022-10-29T18:59:20.928Z"
   },
   {
    "duration": 4,
    "start_time": "2022-10-29T18:59:20.944Z"
   },
   {
    "duration": 5,
    "start_time": "2022-10-29T18:59:20.950Z"
   },
   {
    "duration": 9,
    "start_time": "2022-10-29T18:59:20.956Z"
   },
   {
    "duration": 4,
    "start_time": "2022-10-29T18:59:20.966Z"
   },
   {
    "duration": 6,
    "start_time": "2022-10-29T18:59:21.006Z"
   },
   {
    "duration": 10,
    "start_time": "2022-10-29T18:59:21.013Z"
   },
   {
    "duration": 83,
    "start_time": "2022-10-29T18:59:21.024Z"
   },
   {
    "duration": 191,
    "start_time": "2022-10-29T18:59:21.108Z"
   },
   {
    "duration": 7,
    "start_time": "2022-10-29T18:59:21.301Z"
   },
   {
    "duration": 281,
    "start_time": "2022-10-29T18:59:21.309Z"
   },
   {
    "duration": 507,
    "start_time": "2022-10-29T18:59:21.592Z"
   },
   {
    "duration": 11,
    "start_time": "2022-10-29T18:59:22.101Z"
   },
   {
    "duration": 9,
    "start_time": "2022-10-29T18:59:22.114Z"
   },
   {
    "duration": 247,
    "start_time": "2022-10-29T18:59:22.124Z"
   },
   {
    "duration": 6,
    "start_time": "2022-10-29T18:59:22.372Z"
   },
   {
    "duration": 5,
    "start_time": "2022-10-29T18:59:22.379Z"
   },
   {
    "duration": 221,
    "start_time": "2022-10-29T18:59:22.385Z"
   },
   {
    "duration": 259,
    "start_time": "2022-10-29T18:59:22.610Z"
   },
   {
    "duration": 2,
    "start_time": "2022-10-29T18:59:22.871Z"
   },
   {
    "duration": 16,
    "start_time": "2022-10-29T18:59:22.875Z"
   },
   {
    "duration": 33,
    "start_time": "2022-10-29T18:59:22.892Z"
   },
   {
    "duration": 186,
    "start_time": "2022-10-29T18:59:22.926Z"
   },
   {
    "duration": 165,
    "start_time": "2022-10-29T18:59:23.115Z"
   },
   {
    "duration": 4,
    "start_time": "2022-10-29T18:59:23.281Z"
   },
   {
    "duration": 6,
    "start_time": "2022-10-29T18:59:23.286Z"
   },
   {
    "duration": 16,
    "start_time": "2022-10-29T18:59:23.293Z"
   },
   {
    "duration": 933,
    "start_time": "2022-10-29T18:59:23.311Z"
   },
   {
    "duration": 6,
    "start_time": "2022-10-29T18:59:24.245Z"
   },
   {
    "duration": 10,
    "start_time": "2022-10-29T18:59:24.252Z"
   },
   {
    "duration": 11,
    "start_time": "2022-10-29T18:59:24.264Z"
   },
   {
    "duration": 4,
    "start_time": "2022-10-29T18:59:24.277Z"
   },
   {
    "duration": 407,
    "start_time": "2022-10-29T18:59:24.304Z"
   },
   {
    "duration": 326,
    "start_time": "2022-10-29T18:59:24.712Z"
   },
   {
    "duration": 104,
    "start_time": "2022-10-29T18:59:25.040Z"
   },
   {
    "duration": 162,
    "start_time": "2022-10-29T18:59:25.146Z"
   },
   {
    "duration": 109,
    "start_time": "2022-10-29T18:59:25.309Z"
   },
   {
    "duration": 108,
    "start_time": "2022-10-29T18:59:25.419Z"
   },
   {
    "duration": 120,
    "start_time": "2022-10-29T18:59:25.529Z"
   },
   {
    "duration": 97,
    "start_time": "2022-10-29T18:59:25.650Z"
   },
   {
    "duration": 109,
    "start_time": "2022-10-29T18:59:25.749Z"
   },
   {
    "duration": 100,
    "start_time": "2022-10-29T18:59:25.860Z"
   },
   {
    "duration": 105,
    "start_time": "2022-10-29T18:59:25.962Z"
   },
   {
    "duration": 8,
    "start_time": "2022-10-29T18:59:26.068Z"
   },
   {
    "duration": 8,
    "start_time": "2022-10-29T18:59:26.077Z"
   },
   {
    "duration": 20,
    "start_time": "2022-10-29T18:59:26.086Z"
   },
   {
    "duration": 8,
    "start_time": "2022-10-29T18:59:26.108Z"
   },
   {
    "duration": 5,
    "start_time": "2022-10-29T18:59:26.117Z"
   },
   {
    "duration": 262,
    "start_time": "2022-10-29T19:00:31.229Z"
   },
   {
    "duration": 19,
    "start_time": "2022-10-29T19:09:14.043Z"
   },
   {
    "duration": 1255,
    "start_time": "2022-10-29T19:20:28.151Z"
   },
   {
    "duration": 265,
    "start_time": "2022-10-29T19:20:39.716Z"
   },
   {
    "duration": 208,
    "start_time": "2022-10-29T19:20:57.222Z"
   },
   {
    "duration": 1119,
    "start_time": "2022-10-29T19:21:42.975Z"
   },
   {
    "duration": 181,
    "start_time": "2022-10-29T19:21:52.111Z"
   },
   {
    "duration": 179,
    "start_time": "2022-10-29T19:21:58.010Z"
   },
   {
    "duration": 169,
    "start_time": "2022-10-29T19:22:33.350Z"
   },
   {
    "duration": 174,
    "start_time": "2022-10-29T19:23:02.184Z"
   },
   {
    "duration": 17,
    "start_time": "2022-10-29T19:23:19.351Z"
   },
   {
    "duration": 1183,
    "start_time": "2022-10-29T19:23:46.144Z"
   },
   {
    "duration": 153,
    "start_time": "2022-10-29T19:23:55.215Z"
   },
   {
    "duration": 340,
    "start_time": "2022-10-29T19:24:44.927Z"
   },
   {
    "duration": 4,
    "start_time": "2022-10-29T19:28:15.508Z"
   },
   {
    "duration": 5,
    "start_time": "2022-10-29T19:29:15.452Z"
   },
   {
    "duration": 219,
    "start_time": "2022-10-29T19:30:12.335Z"
   },
   {
    "duration": 5,
    "start_time": "2022-10-29T19:30:41.728Z"
   },
   {
    "duration": 230,
    "start_time": "2022-10-29T19:30:42.898Z"
   },
   {
    "duration": 4,
    "start_time": "2022-10-29T19:30:49.892Z"
   },
   {
    "duration": 225,
    "start_time": "2022-10-29T19:30:50.395Z"
   },
   {
    "duration": 287,
    "start_time": "2022-10-29T19:31:24.523Z"
   },
   {
    "duration": 176,
    "start_time": "2022-10-29T19:32:51.123Z"
   },
   {
    "duration": 188,
    "start_time": "2022-10-29T19:34:00.535Z"
   },
   {
    "duration": 208,
    "start_time": "2022-10-29T19:34:07.999Z"
   },
   {
    "duration": 194,
    "start_time": "2022-10-29T19:35:34.700Z"
   },
   {
    "duration": 159,
    "start_time": "2022-10-29T19:36:38.583Z"
   },
   {
    "duration": 200,
    "start_time": "2022-10-29T19:36:39.987Z"
   },
   {
    "duration": 1247,
    "start_time": "2022-10-29T19:38:28.113Z"
   },
   {
    "duration": 463,
    "start_time": "2022-10-29T19:38:53.015Z"
   },
   {
    "duration": 570,
    "start_time": "2022-10-29T19:39:35.239Z"
   },
   {
    "duration": 517,
    "start_time": "2022-10-29T19:43:05.880Z"
   },
   {
    "duration": 531,
    "start_time": "2022-10-29T19:43:25.765Z"
   },
   {
    "duration": 454,
    "start_time": "2022-10-29T19:44:44.481Z"
   },
   {
    "duration": 470,
    "start_time": "2022-10-29T19:44:45.943Z"
   },
   {
    "duration": 473,
    "start_time": "2022-10-29T19:44:49.167Z"
   },
   {
    "duration": 539,
    "start_time": "2022-10-29T19:46:16.122Z"
   },
   {
    "duration": 5,
    "start_time": "2022-10-29T19:48:16.274Z"
   },
   {
    "duration": 419,
    "start_time": "2022-10-29T19:50:13.805Z"
   },
   {
    "duration": 1088,
    "start_time": "2022-10-29T19:50:27.789Z"
   },
   {
    "duration": 48,
    "start_time": "2022-10-29T19:50:28.879Z"
   },
   {
    "duration": 18,
    "start_time": "2022-10-29T19:50:28.928Z"
   },
   {
    "duration": 14,
    "start_time": "2022-10-29T19:50:28.949Z"
   },
   {
    "duration": 5,
    "start_time": "2022-10-29T19:50:28.964Z"
   },
   {
    "duration": 40,
    "start_time": "2022-10-29T19:50:28.971Z"
   },
   {
    "duration": 5,
    "start_time": "2022-10-29T19:50:29.012Z"
   },
   {
    "duration": 20,
    "start_time": "2022-10-29T19:50:29.018Z"
   },
   {
    "duration": 6,
    "start_time": "2022-10-29T19:50:29.039Z"
   },
   {
    "duration": 20,
    "start_time": "2022-10-29T19:50:29.047Z"
   },
   {
    "duration": 5,
    "start_time": "2022-10-29T19:50:29.068Z"
   },
   {
    "duration": 32,
    "start_time": "2022-10-29T19:50:29.074Z"
   },
   {
    "duration": 7,
    "start_time": "2022-10-29T19:50:29.107Z"
   },
   {
    "duration": 4,
    "start_time": "2022-10-29T19:50:29.116Z"
   },
   {
    "duration": 6,
    "start_time": "2022-10-29T19:50:29.122Z"
   },
   {
    "duration": 10,
    "start_time": "2022-10-29T19:50:29.129Z"
   },
   {
    "duration": 12,
    "start_time": "2022-10-29T19:50:29.140Z"
   },
   {
    "duration": 76,
    "start_time": "2022-10-29T19:50:29.153Z"
   },
   {
    "duration": 207,
    "start_time": "2022-10-29T19:50:29.230Z"
   },
   {
    "duration": 6,
    "start_time": "2022-10-29T19:50:29.439Z"
   },
   {
    "duration": 267,
    "start_time": "2022-10-29T19:50:29.446Z"
   },
   {
    "duration": 509,
    "start_time": "2022-10-29T19:50:29.714Z"
   },
   {
    "duration": 12,
    "start_time": "2022-10-29T19:50:30.225Z"
   },
   {
    "duration": 11,
    "start_time": "2022-10-29T19:50:30.239Z"
   },
   {
    "duration": 252,
    "start_time": "2022-10-29T19:50:30.251Z"
   },
   {
    "duration": 5,
    "start_time": "2022-10-29T19:50:30.504Z"
   },
   {
    "duration": 7,
    "start_time": "2022-10-29T19:50:30.511Z"
   },
   {
    "duration": 215,
    "start_time": "2022-10-29T19:50:30.522Z"
   },
   {
    "duration": 282,
    "start_time": "2022-10-29T19:50:30.739Z"
   },
   {
    "duration": 3,
    "start_time": "2022-10-29T19:50:31.023Z"
   },
   {
    "duration": 21,
    "start_time": "2022-10-29T19:50:31.027Z"
   },
   {
    "duration": 29,
    "start_time": "2022-10-29T19:50:31.050Z"
   },
   {
    "duration": 189,
    "start_time": "2022-10-29T19:50:31.081Z"
   },
   {
    "duration": 157,
    "start_time": "2022-10-29T19:50:31.271Z"
   },
   {
    "duration": 4,
    "start_time": "2022-10-29T19:50:31.429Z"
   },
   {
    "duration": 15,
    "start_time": "2022-10-29T19:50:31.435Z"
   },
   {
    "duration": 20,
    "start_time": "2022-10-29T19:50:31.451Z"
   },
   {
    "duration": 935,
    "start_time": "2022-10-29T19:50:31.473Z"
   },
   {
    "duration": 6,
    "start_time": "2022-10-29T19:50:32.409Z"
   },
   {
    "duration": 27,
    "start_time": "2022-10-29T19:50:32.416Z"
   },
   {
    "duration": 31,
    "start_time": "2022-10-29T19:50:32.444Z"
   },
   {
    "duration": 15,
    "start_time": "2022-10-29T19:50:32.477Z"
   },
   {
    "duration": 35,
    "start_time": "2022-10-29T19:50:32.494Z"
   },
   {
    "duration": 368,
    "start_time": "2022-10-29T19:50:32.530Z"
   },
   {
    "duration": 301,
    "start_time": "2022-10-29T19:50:32.904Z"
   },
   {
    "duration": 470,
    "start_time": "2022-10-29T19:50:33.206Z"
   },
   {
    "duration": 489,
    "start_time": "2022-10-29T19:50:33.677Z"
   },
   {
    "duration": 496,
    "start_time": "2022-10-29T19:50:34.168Z"
   },
   {
    "duration": 7,
    "start_time": "2022-10-29T19:50:34.666Z"
   },
   {
    "duration": 8,
    "start_time": "2022-10-29T19:50:34.675Z"
   },
   {
    "duration": 23,
    "start_time": "2022-10-29T19:50:34.685Z"
   },
   {
    "duration": 9,
    "start_time": "2022-10-29T19:50:34.709Z"
   },
   {
    "duration": 4,
    "start_time": "2022-10-29T19:50:34.719Z"
   },
   {
    "duration": 8,
    "start_time": "2022-10-29T19:51:07.458Z"
   },
   {
    "duration": 5,
    "start_time": "2022-10-29T19:51:25.308Z"
   },
   {
    "duration": 510,
    "start_time": "2022-10-29T19:52:27.398Z"
   },
   {
    "duration": 1020,
    "start_time": "2022-10-29T20:15:29.367Z"
   },
   {
    "duration": 47,
    "start_time": "2022-10-29T20:15:30.389Z"
   },
   {
    "duration": 16,
    "start_time": "2022-10-29T20:15:30.438Z"
   },
   {
    "duration": 19,
    "start_time": "2022-10-29T20:15:30.456Z"
   },
   {
    "duration": 14,
    "start_time": "2022-10-29T20:15:30.476Z"
   },
   {
    "duration": 36,
    "start_time": "2022-10-29T20:15:30.492Z"
   },
   {
    "duration": 9,
    "start_time": "2022-10-29T20:15:30.529Z"
   },
   {
    "duration": 35,
    "start_time": "2022-10-29T20:15:30.539Z"
   },
   {
    "duration": 9,
    "start_time": "2022-10-29T20:15:30.576Z"
   },
   {
    "duration": 30,
    "start_time": "2022-10-29T20:15:30.588Z"
   },
   {
    "duration": 6,
    "start_time": "2022-10-29T20:15:30.620Z"
   },
   {
    "duration": 22,
    "start_time": "2022-10-29T20:15:30.627Z"
   },
   {
    "duration": 30,
    "start_time": "2022-10-29T20:15:30.650Z"
   },
   {
    "duration": 33,
    "start_time": "2022-10-29T20:15:30.682Z"
   },
   {
    "duration": 23,
    "start_time": "2022-10-29T20:15:30.717Z"
   },
   {
    "duration": 27,
    "start_time": "2022-10-29T20:15:30.742Z"
   },
   {
    "duration": 19,
    "start_time": "2022-10-29T20:15:30.771Z"
   },
   {
    "duration": 19,
    "start_time": "2022-10-29T20:15:30.792Z"
   },
   {
    "duration": 78,
    "start_time": "2022-10-29T20:15:30.813Z"
   },
   {
    "duration": 195,
    "start_time": "2022-10-29T20:15:30.893Z"
   },
   {
    "duration": 15,
    "start_time": "2022-10-29T20:15:31.090Z"
   },
   {
    "duration": 243,
    "start_time": "2022-10-29T20:15:31.106Z"
   },
   {
    "duration": 488,
    "start_time": "2022-10-29T20:15:31.351Z"
   },
   {
    "duration": 11,
    "start_time": "2022-10-29T20:15:31.841Z"
   },
   {
    "duration": 33,
    "start_time": "2022-10-29T20:15:31.854Z"
   },
   {
    "duration": 238,
    "start_time": "2022-10-29T20:15:31.888Z"
   },
   {
    "duration": 6,
    "start_time": "2022-10-29T20:15:32.128Z"
   },
   {
    "duration": 8,
    "start_time": "2022-10-29T20:15:32.138Z"
   },
   {
    "duration": 216,
    "start_time": "2022-10-29T20:15:32.147Z"
   },
   {
    "duration": 261,
    "start_time": "2022-10-29T20:15:32.365Z"
   },
   {
    "duration": 3,
    "start_time": "2022-10-29T20:15:32.628Z"
   },
   {
    "duration": 11,
    "start_time": "2022-10-29T20:15:32.632Z"
   },
   {
    "duration": 7,
    "start_time": "2022-10-29T20:15:32.644Z"
   },
   {
    "duration": 203,
    "start_time": "2022-10-29T20:15:32.653Z"
   },
   {
    "duration": 160,
    "start_time": "2022-10-29T20:15:32.858Z"
   },
   {
    "duration": 5,
    "start_time": "2022-10-29T20:15:33.020Z"
   },
   {
    "duration": 14,
    "start_time": "2022-10-29T20:15:33.026Z"
   },
   {
    "duration": 12,
    "start_time": "2022-10-29T20:15:33.041Z"
   },
   {
    "duration": 994,
    "start_time": "2022-10-29T20:15:33.055Z"
   },
   {
    "duration": 5,
    "start_time": "2022-10-29T20:15:34.050Z"
   },
   {
    "duration": 125,
    "start_time": "2022-10-29T20:15:34.056Z"
   },
   {
    "duration": 0,
    "start_time": "2022-10-29T20:15:34.183Z"
   },
   {
    "duration": 0,
    "start_time": "2022-10-29T20:15:34.183Z"
   },
   {
    "duration": 0,
    "start_time": "2022-10-29T20:15:34.184Z"
   },
   {
    "duration": 0,
    "start_time": "2022-10-29T20:15:34.186Z"
   },
   {
    "duration": 0,
    "start_time": "2022-10-29T20:15:34.187Z"
   },
   {
    "duration": 0,
    "start_time": "2022-10-29T20:15:34.188Z"
   },
   {
    "duration": 0,
    "start_time": "2022-10-29T20:15:34.189Z"
   },
   {
    "duration": 0,
    "start_time": "2022-10-29T20:15:34.190Z"
   },
   {
    "duration": 0,
    "start_time": "2022-10-29T20:15:34.205Z"
   },
   {
    "duration": 0,
    "start_time": "2022-10-29T20:15:34.206Z"
   },
   {
    "duration": 0,
    "start_time": "2022-10-29T20:15:34.207Z"
   },
   {
    "duration": 0,
    "start_time": "2022-10-29T20:15:34.208Z"
   },
   {
    "duration": 1104,
    "start_time": "2022-10-29T20:16:52.275Z"
   },
   {
    "duration": 50,
    "start_time": "2022-10-29T20:16:53.381Z"
   },
   {
    "duration": 16,
    "start_time": "2022-10-29T20:16:53.433Z"
   },
   {
    "duration": 13,
    "start_time": "2022-10-29T20:16:53.451Z"
   },
   {
    "duration": 4,
    "start_time": "2022-10-29T20:16:53.465Z"
   },
   {
    "duration": 35,
    "start_time": "2022-10-29T20:16:53.471Z"
   },
   {
    "duration": 4,
    "start_time": "2022-10-29T20:16:53.508Z"
   },
   {
    "duration": 19,
    "start_time": "2022-10-29T20:16:53.514Z"
   },
   {
    "duration": 4,
    "start_time": "2022-10-29T20:16:53.535Z"
   },
   {
    "duration": 17,
    "start_time": "2022-10-29T20:16:53.543Z"
   },
   {
    "duration": 5,
    "start_time": "2022-10-29T20:16:53.561Z"
   },
   {
    "duration": 6,
    "start_time": "2022-10-29T20:16:53.568Z"
   },
   {
    "duration": 7,
    "start_time": "2022-10-29T20:16:53.606Z"
   },
   {
    "duration": 6,
    "start_time": "2022-10-29T20:16:53.615Z"
   },
   {
    "duration": 7,
    "start_time": "2022-10-29T20:16:53.623Z"
   },
   {
    "duration": 10,
    "start_time": "2022-10-29T20:16:53.632Z"
   },
   {
    "duration": 9,
    "start_time": "2022-10-29T20:16:53.643Z"
   },
   {
    "duration": 7,
    "start_time": "2022-10-29T20:16:53.654Z"
   },
   {
    "duration": 90,
    "start_time": "2022-10-29T20:16:53.663Z"
   },
   {
    "duration": 205,
    "start_time": "2022-10-29T20:16:53.755Z"
   },
   {
    "duration": 6,
    "start_time": "2022-10-29T20:16:53.961Z"
   },
   {
    "duration": 260,
    "start_time": "2022-10-29T20:16:53.968Z"
   },
   {
    "duration": 501,
    "start_time": "2022-10-29T20:16:54.230Z"
   },
   {
    "duration": 13,
    "start_time": "2022-10-29T20:16:54.733Z"
   },
   {
    "duration": 8,
    "start_time": "2022-10-29T20:16:54.747Z"
   },
   {
    "duration": 238,
    "start_time": "2022-10-29T20:16:54.756Z"
   },
   {
    "duration": 10,
    "start_time": "2022-10-29T20:16:54.996Z"
   },
   {
    "duration": 2,
    "start_time": "2022-10-29T20:16:55.009Z"
   },
   {
    "duration": 211,
    "start_time": "2022-10-29T20:16:55.013Z"
   },
   {
    "duration": 264,
    "start_time": "2022-10-29T20:16:55.226Z"
   },
   {
    "duration": 2,
    "start_time": "2022-10-29T20:16:55.492Z"
   },
   {
    "duration": 4,
    "start_time": "2022-10-29T20:16:55.504Z"
   },
   {
    "duration": 25,
    "start_time": "2022-10-29T20:16:55.510Z"
   },
   {
    "duration": 162,
    "start_time": "2022-10-29T20:16:55.537Z"
   },
   {
    "duration": 164,
    "start_time": "2022-10-29T20:16:55.701Z"
   },
   {
    "duration": 5,
    "start_time": "2022-10-29T20:16:55.867Z"
   },
   {
    "duration": 7,
    "start_time": "2022-10-29T20:16:55.873Z"
   },
   {
    "duration": 8,
    "start_time": "2022-10-29T20:16:55.881Z"
   },
   {
    "duration": 977,
    "start_time": "2022-10-29T20:16:55.905Z"
   },
   {
    "duration": 4,
    "start_time": "2022-10-29T20:16:56.884Z"
   },
   {
    "duration": 5,
    "start_time": "2022-10-29T20:16:56.890Z"
   },
   {
    "duration": 13,
    "start_time": "2022-10-29T20:16:56.905Z"
   },
   {
    "duration": 401,
    "start_time": "2022-10-29T20:16:56.920Z"
   },
   {
    "duration": 358,
    "start_time": "2022-10-29T20:16:57.323Z"
   },
   {
    "duration": 5,
    "start_time": "2022-10-29T20:16:57.683Z"
   },
   {
    "duration": 534,
    "start_time": "2022-10-29T20:16:57.690Z"
   },
   {
    "duration": 500,
    "start_time": "2022-10-29T20:16:58.226Z"
   },
   {
    "duration": 482,
    "start_time": "2022-10-29T20:16:58.727Z"
   },
   {
    "duration": 7,
    "start_time": "2022-10-29T20:16:59.210Z"
   },
   {
    "duration": 9,
    "start_time": "2022-10-29T20:16:59.219Z"
   },
   {
    "duration": 9,
    "start_time": "2022-10-29T20:16:59.229Z"
   },
   {
    "duration": 8,
    "start_time": "2022-10-29T20:16:59.239Z"
   },
   {
    "duration": 9,
    "start_time": "2022-10-29T20:16:59.249Z"
   },
   {
    "duration": 1122,
    "start_time": "2022-10-30T18:03:19.456Z"
   },
   {
    "duration": 194,
    "start_time": "2022-10-30T18:03:20.580Z"
   },
   {
    "duration": 16,
    "start_time": "2022-10-30T18:03:20.776Z"
   },
   {
    "duration": 14,
    "start_time": "2022-10-30T18:03:20.793Z"
   },
   {
    "duration": 4,
    "start_time": "2022-10-30T18:03:20.809Z"
   },
   {
    "duration": 19,
    "start_time": "2022-10-30T18:03:20.814Z"
   },
   {
    "duration": 6,
    "start_time": "2022-10-30T18:03:20.834Z"
   },
   {
    "duration": 51,
    "start_time": "2022-10-30T18:03:20.841Z"
   },
   {
    "duration": 5,
    "start_time": "2022-10-30T18:03:20.894Z"
   },
   {
    "duration": 18,
    "start_time": "2022-10-30T18:03:20.901Z"
   },
   {
    "duration": 6,
    "start_time": "2022-10-30T18:03:20.920Z"
   },
   {
    "duration": 5,
    "start_time": "2022-10-30T18:03:20.928Z"
   },
   {
    "duration": 57,
    "start_time": "2022-10-30T18:03:20.935Z"
   },
   {
    "duration": 4,
    "start_time": "2022-10-30T18:03:20.996Z"
   },
   {
    "duration": 8,
    "start_time": "2022-10-30T18:03:21.001Z"
   },
   {
    "duration": 8,
    "start_time": "2022-10-30T18:03:21.010Z"
   },
   {
    "duration": 6,
    "start_time": "2022-10-30T18:03:21.020Z"
   },
   {
    "duration": 7,
    "start_time": "2022-10-30T18:03:21.027Z"
   },
   {
    "duration": 112,
    "start_time": "2022-10-30T18:03:21.036Z"
   },
   {
    "duration": 213,
    "start_time": "2022-10-30T18:03:21.149Z"
   },
   {
    "duration": 7,
    "start_time": "2022-10-30T18:03:21.364Z"
   },
   {
    "duration": 304,
    "start_time": "2022-10-30T18:03:21.373Z"
   },
   {
    "duration": 538,
    "start_time": "2022-10-30T18:03:21.679Z"
   },
   {
    "duration": 11,
    "start_time": "2022-10-30T18:03:22.219Z"
   },
   {
    "duration": 8,
    "start_time": "2022-10-30T18:03:22.232Z"
   },
   {
    "duration": 289,
    "start_time": "2022-10-30T18:03:22.241Z"
   },
   {
    "duration": 6,
    "start_time": "2022-10-30T18:03:22.532Z"
   },
   {
    "duration": 6,
    "start_time": "2022-10-30T18:03:22.539Z"
   },
   {
    "duration": 246,
    "start_time": "2022-10-30T18:03:22.546Z"
   },
   {
    "duration": 287,
    "start_time": "2022-10-30T18:03:22.794Z"
   },
   {
    "duration": 9,
    "start_time": "2022-10-30T18:03:23.082Z"
   },
   {
    "duration": 3,
    "start_time": "2022-10-30T18:03:23.093Z"
   },
   {
    "duration": 9,
    "start_time": "2022-10-30T18:03:23.098Z"
   },
   {
    "duration": 205,
    "start_time": "2022-10-30T18:03:23.109Z"
   },
   {
    "duration": 183,
    "start_time": "2022-10-30T18:03:23.316Z"
   },
   {
    "duration": 5,
    "start_time": "2022-10-30T18:03:23.500Z"
   },
   {
    "duration": 5,
    "start_time": "2022-10-30T18:03:23.506Z"
   },
   {
    "duration": 4,
    "start_time": "2022-10-30T18:03:23.513Z"
   },
   {
    "duration": 1040,
    "start_time": "2022-10-30T18:03:23.519Z"
   },
   {
    "duration": 5,
    "start_time": "2022-10-30T18:03:24.560Z"
   },
   {
    "duration": 23,
    "start_time": "2022-10-30T18:03:24.568Z"
   },
   {
    "duration": 15,
    "start_time": "2022-10-30T18:03:24.592Z"
   },
   {
    "duration": 406,
    "start_time": "2022-10-30T18:03:24.608Z"
   },
   {
    "duration": 364,
    "start_time": "2022-10-30T18:03:25.016Z"
   },
   {
    "duration": 10,
    "start_time": "2022-10-30T18:03:25.382Z"
   },
   {
    "duration": 530,
    "start_time": "2022-10-30T18:03:25.394Z"
   },
   {
    "duration": 537,
    "start_time": "2022-10-30T18:03:25.926Z"
   },
   {
    "duration": 622,
    "start_time": "2022-10-30T18:03:26.466Z"
   },
   {
    "duration": 8,
    "start_time": "2022-10-30T18:03:27.091Z"
   },
   {
    "duration": 16,
    "start_time": "2022-10-30T18:03:27.100Z"
   },
   {
    "duration": 10,
    "start_time": "2022-10-30T18:03:27.118Z"
   },
   {
    "duration": 21,
    "start_time": "2022-10-30T18:03:27.129Z"
   },
   {
    "duration": 15,
    "start_time": "2022-10-30T18:03:27.152Z"
   }
  ],
  "kernelspec": {
   "display_name": "Python 3",
   "language": "python",
   "name": "python3"
  },
  "language_info": {
   "codemirror_mode": {
    "name": "ipython",
    "version": 3
   },
   "file_extension": ".py",
   "mimetype": "text/x-python",
   "name": "python",
   "nbconvert_exporter": "python",
   "pygments_lexer": "ipython3",
   "version": "3.7.4"
  },
  "toc": {
   "base_numbering": 1,
   "nav_menu": {},
   "number_sections": true,
   "sideBar": true,
   "skip_h1_title": true,
   "title_cell": "Table of Contents",
   "title_sidebar": "Contents",
   "toc_cell": false,
   "toc_position": {
    "height": "calc(100% - 180px)",
    "left": "10px",
    "top": "150px",
    "width": "165px"
   },
   "toc_section_display": true,
   "toc_window_display": true
  }
 },
 "nbformat": 4,
 "nbformat_minor": 2
}
