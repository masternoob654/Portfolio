{
 "cells": [
  {
   "cell_type": "markdown",
   "metadata": {},
   "source": [
    "# Выбор локации для скважины"
   ]
  },
  {
   "cell_type": "markdown",
   "metadata": {},
   "source": [
    "Допустим, вы работаете в добывающей компании «ГлавРосГосНефть». Нужно решить, где бурить новую скважину.\n",
    "\n",
    "Вам предоставлены пробы нефти в трёх регионах: в каждом 10 000 месторождений, где измерили качество нефти и объём её запасов. Постройте модель машинного обучения, которая поможет определить регион, где добыча принесёт наибольшую прибыль. Проанализируйте возможную прибыль и риски техникой *Bootstrap.*\n",
    "\n",
    "Шаги для выбора локации:\n",
    "\n",
    "- В избранном регионе ищут месторождения, для каждого определяют значения признаков;\n",
    "- Строят модель и оценивают объём запасов;\n",
    "- Выбирают месторождения с самым высокими оценками значений. Количество месторождений зависит от бюджета компании и стоимости разработки одной скважины;\n",
    "- Прибыль равна суммарной прибыли отобранных месторождений."
   ]
  },
  {
   "cell_type": "markdown",
   "metadata": {},
   "source": [
    "## 1 Загрузка и подготовка данных"
   ]
  },
  {
   "cell_type": "markdown",
   "metadata": {},
   "source": [
    "Начинаем проект с загрузки библиотек и данных."
   ]
  },
  {
   "cell_type": "code",
   "execution_count": 1,
   "metadata": {},
   "outputs": [],
   "source": [
    "import pandas as pd\n",
    "from scipy import stats as st\n",
    "import numpy as np\n",
    "\n",
    "import matplotlib.pyplot as plt\n",
    "import seaborn as sns\n",
    "\n",
    "from sklearn.model_selection import train_test_split\n",
    "from sklearn.preprocessing import OrdinalEncoder \n",
    "\n",
    "from sklearn.linear_model import LinearRegression\n",
    "from sklearn.preprocessing import StandardScaler\n",
    "\n",
    "from sklearn.metrics import accuracy_score\n",
    "from sklearn.metrics import mean_squared_error, r2_score\n",
    "\n",
    "from sklearn.utils import shuffle\n",
    "\n",
    "import warnings\n",
    "warnings.filterwarnings(\"ignore\")"
   ]
  },
  {
   "cell_type": "code",
   "execution_count": 2,
   "metadata": {},
   "outputs": [],
   "source": [
    "data_0 = pd.read_csv('/datasets/geo_data_0.csv')\n",
    "data_1 = pd.read_csv('/datasets/geo_data_1.csv')\n",
    "data_2 = pd.read_csv('/datasets/geo_data_2.csv')"
   ]
  },
  {
   "cell_type": "markdown",
   "metadata": {},
   "source": [
    "После загрузки данных изучим каждый регион по отдельности, а также подготовим данные к обучению."
   ]
  },
  {
   "cell_type": "markdown",
   "metadata": {},
   "source": [
    "### 1.1 Изучение данных первого региона"
   ]
  },
  {
   "cell_type": "code",
   "execution_count": 3,
   "metadata": {},
   "outputs": [
    {
     "name": "stdout",
     "output_type": "stream",
     "text": [
      "<class 'pandas.core.frame.DataFrame'>\n",
      "RangeIndex: 100000 entries, 0 to 99999\n",
      "Data columns (total 5 columns):\n",
      " #   Column   Non-Null Count   Dtype  \n",
      "---  ------   --------------   -----  \n",
      " 0   id       100000 non-null  object \n",
      " 1   f0       100000 non-null  float64\n",
      " 2   f1       100000 non-null  float64\n",
      " 3   f2       100000 non-null  float64\n",
      " 4   product  100000 non-null  float64\n",
      "dtypes: float64(4), object(1)\n",
      "memory usage: 3.8+ MB\n"
     ]
    }
   ],
   "source": [
    "data_0.info()"
   ]
  },
  {
   "cell_type": "code",
   "execution_count": 4,
   "metadata": {},
   "outputs": [
    {
     "data": {
      "text/html": [
       "<div>\n",
       "<style scoped>\n",
       "    .dataframe tbody tr th:only-of-type {\n",
       "        vertical-align: middle;\n",
       "    }\n",
       "\n",
       "    .dataframe tbody tr th {\n",
       "        vertical-align: top;\n",
       "    }\n",
       "\n",
       "    .dataframe thead th {\n",
       "        text-align: right;\n",
       "    }\n",
       "</style>\n",
       "<table border=\"1\" class=\"dataframe\">\n",
       "  <thead>\n",
       "    <tr style=\"text-align: right;\">\n",
       "      <th></th>\n",
       "      <th>id</th>\n",
       "      <th>f0</th>\n",
       "      <th>f1</th>\n",
       "      <th>f2</th>\n",
       "      <th>product</th>\n",
       "    </tr>\n",
       "  </thead>\n",
       "  <tbody>\n",
       "    <tr>\n",
       "      <th>0</th>\n",
       "      <td>txEyH</td>\n",
       "      <td>0.705745</td>\n",
       "      <td>-0.497823</td>\n",
       "      <td>1.221170</td>\n",
       "      <td>105.280062</td>\n",
       "    </tr>\n",
       "    <tr>\n",
       "      <th>1</th>\n",
       "      <td>2acmU</td>\n",
       "      <td>1.334711</td>\n",
       "      <td>-0.340164</td>\n",
       "      <td>4.365080</td>\n",
       "      <td>73.037750</td>\n",
       "    </tr>\n",
       "    <tr>\n",
       "      <th>2</th>\n",
       "      <td>409Wp</td>\n",
       "      <td>1.022732</td>\n",
       "      <td>0.151990</td>\n",
       "      <td>1.419926</td>\n",
       "      <td>85.265647</td>\n",
       "    </tr>\n",
       "    <tr>\n",
       "      <th>3</th>\n",
       "      <td>iJLyR</td>\n",
       "      <td>-0.032172</td>\n",
       "      <td>0.139033</td>\n",
       "      <td>2.978566</td>\n",
       "      <td>168.620776</td>\n",
       "    </tr>\n",
       "    <tr>\n",
       "      <th>4</th>\n",
       "      <td>Xdl7t</td>\n",
       "      <td>1.988431</td>\n",
       "      <td>0.155413</td>\n",
       "      <td>4.751769</td>\n",
       "      <td>154.036647</td>\n",
       "    </tr>\n",
       "  </tbody>\n",
       "</table>\n",
       "</div>"
      ],
      "text/plain": [
       "      id        f0        f1        f2     product\n",
       "0  txEyH  0.705745 -0.497823  1.221170  105.280062\n",
       "1  2acmU  1.334711 -0.340164  4.365080   73.037750\n",
       "2  409Wp  1.022732  0.151990  1.419926   85.265647\n",
       "3  iJLyR -0.032172  0.139033  2.978566  168.620776\n",
       "4  Xdl7t  1.988431  0.155413  4.751769  154.036647"
      ]
     },
     "execution_count": 4,
     "metadata": {},
     "output_type": "execute_result"
    }
   ],
   "source": [
    "data_0.head()"
   ]
  },
  {
   "cell_type": "code",
   "execution_count": 5,
   "metadata": {
    "scrolled": true
   },
   "outputs": [
    {
     "data": {
      "text/html": [
       "<div>\n",
       "<style scoped>\n",
       "    .dataframe tbody tr th:only-of-type {\n",
       "        vertical-align: middle;\n",
       "    }\n",
       "\n",
       "    .dataframe tbody tr th {\n",
       "        vertical-align: top;\n",
       "    }\n",
       "\n",
       "    .dataframe thead th {\n",
       "        text-align: right;\n",
       "    }\n",
       "</style>\n",
       "<table border=\"1\" class=\"dataframe\">\n",
       "  <thead>\n",
       "    <tr style=\"text-align: right;\">\n",
       "      <th></th>\n",
       "      <th>f0</th>\n",
       "      <th>f1</th>\n",
       "      <th>f2</th>\n",
       "      <th>product</th>\n",
       "    </tr>\n",
       "  </thead>\n",
       "  <tbody>\n",
       "    <tr>\n",
       "      <th>count</th>\n",
       "      <td>100000.000000</td>\n",
       "      <td>100000.000000</td>\n",
       "      <td>100000.000000</td>\n",
       "      <td>100000.000000</td>\n",
       "    </tr>\n",
       "    <tr>\n",
       "      <th>mean</th>\n",
       "      <td>0.500419</td>\n",
       "      <td>0.250143</td>\n",
       "      <td>2.502647</td>\n",
       "      <td>92.500000</td>\n",
       "    </tr>\n",
       "    <tr>\n",
       "      <th>std</th>\n",
       "      <td>0.871832</td>\n",
       "      <td>0.504433</td>\n",
       "      <td>3.248248</td>\n",
       "      <td>44.288691</td>\n",
       "    </tr>\n",
       "    <tr>\n",
       "      <th>min</th>\n",
       "      <td>-1.408605</td>\n",
       "      <td>-0.848218</td>\n",
       "      <td>-12.088328</td>\n",
       "      <td>0.000000</td>\n",
       "    </tr>\n",
       "    <tr>\n",
       "      <th>25%</th>\n",
       "      <td>-0.072580</td>\n",
       "      <td>-0.200881</td>\n",
       "      <td>0.287748</td>\n",
       "      <td>56.497507</td>\n",
       "    </tr>\n",
       "    <tr>\n",
       "      <th>50%</th>\n",
       "      <td>0.502360</td>\n",
       "      <td>0.250252</td>\n",
       "      <td>2.515969</td>\n",
       "      <td>91.849972</td>\n",
       "    </tr>\n",
       "    <tr>\n",
       "      <th>75%</th>\n",
       "      <td>1.073581</td>\n",
       "      <td>0.700646</td>\n",
       "      <td>4.715088</td>\n",
       "      <td>128.564089</td>\n",
       "    </tr>\n",
       "    <tr>\n",
       "      <th>max</th>\n",
       "      <td>2.362331</td>\n",
       "      <td>1.343769</td>\n",
       "      <td>16.003790</td>\n",
       "      <td>185.364347</td>\n",
       "    </tr>\n",
       "  </tbody>\n",
       "</table>\n",
       "</div>"
      ],
      "text/plain": [
       "                  f0             f1             f2        product\n",
       "count  100000.000000  100000.000000  100000.000000  100000.000000\n",
       "mean        0.500419       0.250143       2.502647      92.500000\n",
       "std         0.871832       0.504433       3.248248      44.288691\n",
       "min        -1.408605      -0.848218     -12.088328       0.000000\n",
       "25%        -0.072580      -0.200881       0.287748      56.497507\n",
       "50%         0.502360       0.250252       2.515969      91.849972\n",
       "75%         1.073581       0.700646       4.715088     128.564089\n",
       "max         2.362331       1.343769      16.003790     185.364347"
      ]
     },
     "execution_count": 5,
     "metadata": {},
     "output_type": "execute_result"
    }
   ],
   "source": [
    "data_0.describe()"
   ]
  },
  {
   "cell_type": "markdown",
   "metadata": {},
   "source": [
    "С данными первого региона всё в порядке, проверим явные и неявные дубликаты."
   ]
  },
  {
   "cell_type": "code",
   "execution_count": 6,
   "metadata": {
    "scrolled": true
   },
   "outputs": [
    {
     "data": {
      "text/plain": [
       "0"
      ]
     },
     "execution_count": 6,
     "metadata": {},
     "output_type": "execute_result"
    }
   ],
   "source": [
    "data_0.duplicated().sum()"
   ]
  },
  {
   "cell_type": "markdown",
   "metadata": {},
   "source": [
    "### 1.2 Изучение данных второго региона"
   ]
  },
  {
   "cell_type": "code",
   "execution_count": 7,
   "metadata": {},
   "outputs": [
    {
     "name": "stdout",
     "output_type": "stream",
     "text": [
      "<class 'pandas.core.frame.DataFrame'>\n",
      "RangeIndex: 100000 entries, 0 to 99999\n",
      "Data columns (total 5 columns):\n",
      " #   Column   Non-Null Count   Dtype  \n",
      "---  ------   --------------   -----  \n",
      " 0   id       100000 non-null  object \n",
      " 1   f0       100000 non-null  float64\n",
      " 2   f1       100000 non-null  float64\n",
      " 3   f2       100000 non-null  float64\n",
      " 4   product  100000 non-null  float64\n",
      "dtypes: float64(4), object(1)\n",
      "memory usage: 3.8+ MB\n"
     ]
    }
   ],
   "source": [
    "data_1.info()"
   ]
  },
  {
   "cell_type": "code",
   "execution_count": 8,
   "metadata": {},
   "outputs": [
    {
     "data": {
      "text/html": [
       "<div>\n",
       "<style scoped>\n",
       "    .dataframe tbody tr th:only-of-type {\n",
       "        vertical-align: middle;\n",
       "    }\n",
       "\n",
       "    .dataframe tbody tr th {\n",
       "        vertical-align: top;\n",
       "    }\n",
       "\n",
       "    .dataframe thead th {\n",
       "        text-align: right;\n",
       "    }\n",
       "</style>\n",
       "<table border=\"1\" class=\"dataframe\">\n",
       "  <thead>\n",
       "    <tr style=\"text-align: right;\">\n",
       "      <th></th>\n",
       "      <th>id</th>\n",
       "      <th>f0</th>\n",
       "      <th>f1</th>\n",
       "      <th>f2</th>\n",
       "      <th>product</th>\n",
       "    </tr>\n",
       "  </thead>\n",
       "  <tbody>\n",
       "    <tr>\n",
       "      <th>0</th>\n",
       "      <td>kBEdx</td>\n",
       "      <td>-15.001348</td>\n",
       "      <td>-8.276000</td>\n",
       "      <td>-0.005876</td>\n",
       "      <td>3.179103</td>\n",
       "    </tr>\n",
       "    <tr>\n",
       "      <th>1</th>\n",
       "      <td>62mP7</td>\n",
       "      <td>14.272088</td>\n",
       "      <td>-3.475083</td>\n",
       "      <td>0.999183</td>\n",
       "      <td>26.953261</td>\n",
       "    </tr>\n",
       "    <tr>\n",
       "      <th>2</th>\n",
       "      <td>vyE1P</td>\n",
       "      <td>6.263187</td>\n",
       "      <td>-5.948386</td>\n",
       "      <td>5.001160</td>\n",
       "      <td>134.766305</td>\n",
       "    </tr>\n",
       "    <tr>\n",
       "      <th>3</th>\n",
       "      <td>KcrkZ</td>\n",
       "      <td>-13.081196</td>\n",
       "      <td>-11.506057</td>\n",
       "      <td>4.999415</td>\n",
       "      <td>137.945408</td>\n",
       "    </tr>\n",
       "    <tr>\n",
       "      <th>4</th>\n",
       "      <td>AHL4O</td>\n",
       "      <td>12.702195</td>\n",
       "      <td>-8.147433</td>\n",
       "      <td>5.004363</td>\n",
       "      <td>134.766305</td>\n",
       "    </tr>\n",
       "  </tbody>\n",
       "</table>\n",
       "</div>"
      ],
      "text/plain": [
       "      id         f0         f1        f2     product\n",
       "0  kBEdx -15.001348  -8.276000 -0.005876    3.179103\n",
       "1  62mP7  14.272088  -3.475083  0.999183   26.953261\n",
       "2  vyE1P   6.263187  -5.948386  5.001160  134.766305\n",
       "3  KcrkZ -13.081196 -11.506057  4.999415  137.945408\n",
       "4  AHL4O  12.702195  -8.147433  5.004363  134.766305"
      ]
     },
     "execution_count": 8,
     "metadata": {},
     "output_type": "execute_result"
    }
   ],
   "source": [
    "data_1.head()"
   ]
  },
  {
   "cell_type": "code",
   "execution_count": 9,
   "metadata": {
    "scrolled": true
   },
   "outputs": [
    {
     "data": {
      "text/html": [
       "<div>\n",
       "<style scoped>\n",
       "    .dataframe tbody tr th:only-of-type {\n",
       "        vertical-align: middle;\n",
       "    }\n",
       "\n",
       "    .dataframe tbody tr th {\n",
       "        vertical-align: top;\n",
       "    }\n",
       "\n",
       "    .dataframe thead th {\n",
       "        text-align: right;\n",
       "    }\n",
       "</style>\n",
       "<table border=\"1\" class=\"dataframe\">\n",
       "  <thead>\n",
       "    <tr style=\"text-align: right;\">\n",
       "      <th></th>\n",
       "      <th>f0</th>\n",
       "      <th>f1</th>\n",
       "      <th>f2</th>\n",
       "      <th>product</th>\n",
       "    </tr>\n",
       "  </thead>\n",
       "  <tbody>\n",
       "    <tr>\n",
       "      <th>count</th>\n",
       "      <td>100000.000000</td>\n",
       "      <td>100000.000000</td>\n",
       "      <td>100000.000000</td>\n",
       "      <td>100000.000000</td>\n",
       "    </tr>\n",
       "    <tr>\n",
       "      <th>mean</th>\n",
       "      <td>1.141296</td>\n",
       "      <td>-4.796579</td>\n",
       "      <td>2.494541</td>\n",
       "      <td>68.825000</td>\n",
       "    </tr>\n",
       "    <tr>\n",
       "      <th>std</th>\n",
       "      <td>8.965932</td>\n",
       "      <td>5.119872</td>\n",
       "      <td>1.703572</td>\n",
       "      <td>45.944423</td>\n",
       "    </tr>\n",
       "    <tr>\n",
       "      <th>min</th>\n",
       "      <td>-31.609576</td>\n",
       "      <td>-26.358598</td>\n",
       "      <td>-0.018144</td>\n",
       "      <td>0.000000</td>\n",
       "    </tr>\n",
       "    <tr>\n",
       "      <th>25%</th>\n",
       "      <td>-6.298551</td>\n",
       "      <td>-8.267985</td>\n",
       "      <td>1.000021</td>\n",
       "      <td>26.953261</td>\n",
       "    </tr>\n",
       "    <tr>\n",
       "      <th>50%</th>\n",
       "      <td>1.153055</td>\n",
       "      <td>-4.813172</td>\n",
       "      <td>2.011479</td>\n",
       "      <td>57.085625</td>\n",
       "    </tr>\n",
       "    <tr>\n",
       "      <th>75%</th>\n",
       "      <td>8.621015</td>\n",
       "      <td>-1.332816</td>\n",
       "      <td>3.999904</td>\n",
       "      <td>107.813044</td>\n",
       "    </tr>\n",
       "    <tr>\n",
       "      <th>max</th>\n",
       "      <td>29.421755</td>\n",
       "      <td>18.734063</td>\n",
       "      <td>5.019721</td>\n",
       "      <td>137.945408</td>\n",
       "    </tr>\n",
       "  </tbody>\n",
       "</table>\n",
       "</div>"
      ],
      "text/plain": [
       "                  f0             f1             f2        product\n",
       "count  100000.000000  100000.000000  100000.000000  100000.000000\n",
       "mean        1.141296      -4.796579       2.494541      68.825000\n",
       "std         8.965932       5.119872       1.703572      45.944423\n",
       "min       -31.609576     -26.358598      -0.018144       0.000000\n",
       "25%        -6.298551      -8.267985       1.000021      26.953261\n",
       "50%         1.153055      -4.813172       2.011479      57.085625\n",
       "75%         8.621015      -1.332816       3.999904     107.813044\n",
       "max        29.421755      18.734063       5.019721     137.945408"
      ]
     },
     "execution_count": 9,
     "metadata": {},
     "output_type": "execute_result"
    }
   ],
   "source": [
    "data_1.describe()"
   ]
  },
  {
   "cell_type": "markdown",
   "metadata": {},
   "source": [
    "С данными второго региона всё в порядке, проверим явные дубликаты."
   ]
  },
  {
   "cell_type": "code",
   "execution_count": 10,
   "metadata": {},
   "outputs": [
    {
     "data": {
      "text/plain": [
       "0"
      ]
     },
     "execution_count": 10,
     "metadata": {},
     "output_type": "execute_result"
    }
   ],
   "source": [
    "data_1.duplicated().sum()"
   ]
  },
  {
   "cell_type": "markdown",
   "metadata": {},
   "source": [
    "### 1.3 Изучение данных третьего региона"
   ]
  },
  {
   "cell_type": "code",
   "execution_count": 11,
   "metadata": {},
   "outputs": [
    {
     "name": "stdout",
     "output_type": "stream",
     "text": [
      "<class 'pandas.core.frame.DataFrame'>\n",
      "RangeIndex: 100000 entries, 0 to 99999\n",
      "Data columns (total 5 columns):\n",
      " #   Column   Non-Null Count   Dtype  \n",
      "---  ------   --------------   -----  \n",
      " 0   id       100000 non-null  object \n",
      " 1   f0       100000 non-null  float64\n",
      " 2   f1       100000 non-null  float64\n",
      " 3   f2       100000 non-null  float64\n",
      " 4   product  100000 non-null  float64\n",
      "dtypes: float64(4), object(1)\n",
      "memory usage: 3.8+ MB\n"
     ]
    }
   ],
   "source": [
    "data_2.info()"
   ]
  },
  {
   "cell_type": "code",
   "execution_count": 12,
   "metadata": {},
   "outputs": [
    {
     "data": {
      "text/html": [
       "<div>\n",
       "<style scoped>\n",
       "    .dataframe tbody tr th:only-of-type {\n",
       "        vertical-align: middle;\n",
       "    }\n",
       "\n",
       "    .dataframe tbody tr th {\n",
       "        vertical-align: top;\n",
       "    }\n",
       "\n",
       "    .dataframe thead th {\n",
       "        text-align: right;\n",
       "    }\n",
       "</style>\n",
       "<table border=\"1\" class=\"dataframe\">\n",
       "  <thead>\n",
       "    <tr style=\"text-align: right;\">\n",
       "      <th></th>\n",
       "      <th>id</th>\n",
       "      <th>f0</th>\n",
       "      <th>f1</th>\n",
       "      <th>f2</th>\n",
       "      <th>product</th>\n",
       "    </tr>\n",
       "  </thead>\n",
       "  <tbody>\n",
       "    <tr>\n",
       "      <th>0</th>\n",
       "      <td>fwXo0</td>\n",
       "      <td>-1.146987</td>\n",
       "      <td>0.963328</td>\n",
       "      <td>-0.828965</td>\n",
       "      <td>27.758673</td>\n",
       "    </tr>\n",
       "    <tr>\n",
       "      <th>1</th>\n",
       "      <td>WJtFt</td>\n",
       "      <td>0.262778</td>\n",
       "      <td>0.269839</td>\n",
       "      <td>-2.530187</td>\n",
       "      <td>56.069697</td>\n",
       "    </tr>\n",
       "    <tr>\n",
       "      <th>2</th>\n",
       "      <td>ovLUW</td>\n",
       "      <td>0.194587</td>\n",
       "      <td>0.289035</td>\n",
       "      <td>-5.586433</td>\n",
       "      <td>62.871910</td>\n",
       "    </tr>\n",
       "    <tr>\n",
       "      <th>3</th>\n",
       "      <td>q6cA6</td>\n",
       "      <td>2.236060</td>\n",
       "      <td>-0.553760</td>\n",
       "      <td>0.930038</td>\n",
       "      <td>114.572842</td>\n",
       "    </tr>\n",
       "    <tr>\n",
       "      <th>4</th>\n",
       "      <td>WPMUX</td>\n",
       "      <td>-0.515993</td>\n",
       "      <td>1.716266</td>\n",
       "      <td>5.899011</td>\n",
       "      <td>149.600746</td>\n",
       "    </tr>\n",
       "  </tbody>\n",
       "</table>\n",
       "</div>"
      ],
      "text/plain": [
       "      id        f0        f1        f2     product\n",
       "0  fwXo0 -1.146987  0.963328 -0.828965   27.758673\n",
       "1  WJtFt  0.262778  0.269839 -2.530187   56.069697\n",
       "2  ovLUW  0.194587  0.289035 -5.586433   62.871910\n",
       "3  q6cA6  2.236060 -0.553760  0.930038  114.572842\n",
       "4  WPMUX -0.515993  1.716266  5.899011  149.600746"
      ]
     },
     "execution_count": 12,
     "metadata": {},
     "output_type": "execute_result"
    }
   ],
   "source": [
    "data_2.head()"
   ]
  },
  {
   "cell_type": "code",
   "execution_count": 13,
   "metadata": {
    "scrolled": true
   },
   "outputs": [
    {
     "data": {
      "text/html": [
       "<div>\n",
       "<style scoped>\n",
       "    .dataframe tbody tr th:only-of-type {\n",
       "        vertical-align: middle;\n",
       "    }\n",
       "\n",
       "    .dataframe tbody tr th {\n",
       "        vertical-align: top;\n",
       "    }\n",
       "\n",
       "    .dataframe thead th {\n",
       "        text-align: right;\n",
       "    }\n",
       "</style>\n",
       "<table border=\"1\" class=\"dataframe\">\n",
       "  <thead>\n",
       "    <tr style=\"text-align: right;\">\n",
       "      <th></th>\n",
       "      <th>f0</th>\n",
       "      <th>f1</th>\n",
       "      <th>f2</th>\n",
       "      <th>product</th>\n",
       "    </tr>\n",
       "  </thead>\n",
       "  <tbody>\n",
       "    <tr>\n",
       "      <th>count</th>\n",
       "      <td>100000.000000</td>\n",
       "      <td>100000.000000</td>\n",
       "      <td>100000.000000</td>\n",
       "      <td>100000.000000</td>\n",
       "    </tr>\n",
       "    <tr>\n",
       "      <th>mean</th>\n",
       "      <td>0.002023</td>\n",
       "      <td>-0.002081</td>\n",
       "      <td>2.495128</td>\n",
       "      <td>95.000000</td>\n",
       "    </tr>\n",
       "    <tr>\n",
       "      <th>std</th>\n",
       "      <td>1.732045</td>\n",
       "      <td>1.730417</td>\n",
       "      <td>3.473445</td>\n",
       "      <td>44.749921</td>\n",
       "    </tr>\n",
       "    <tr>\n",
       "      <th>min</th>\n",
       "      <td>-8.760004</td>\n",
       "      <td>-7.084020</td>\n",
       "      <td>-11.970335</td>\n",
       "      <td>0.000000</td>\n",
       "    </tr>\n",
       "    <tr>\n",
       "      <th>25%</th>\n",
       "      <td>-1.162288</td>\n",
       "      <td>-1.174820</td>\n",
       "      <td>0.130359</td>\n",
       "      <td>59.450441</td>\n",
       "    </tr>\n",
       "    <tr>\n",
       "      <th>50%</th>\n",
       "      <td>0.009424</td>\n",
       "      <td>-0.009482</td>\n",
       "      <td>2.484236</td>\n",
       "      <td>94.925613</td>\n",
       "    </tr>\n",
       "    <tr>\n",
       "      <th>75%</th>\n",
       "      <td>1.158535</td>\n",
       "      <td>1.163678</td>\n",
       "      <td>4.858794</td>\n",
       "      <td>130.595027</td>\n",
       "    </tr>\n",
       "    <tr>\n",
       "      <th>max</th>\n",
       "      <td>7.238262</td>\n",
       "      <td>7.844801</td>\n",
       "      <td>16.739402</td>\n",
       "      <td>190.029838</td>\n",
       "    </tr>\n",
       "  </tbody>\n",
       "</table>\n",
       "</div>"
      ],
      "text/plain": [
       "                  f0             f1             f2        product\n",
       "count  100000.000000  100000.000000  100000.000000  100000.000000\n",
       "mean        0.002023      -0.002081       2.495128      95.000000\n",
       "std         1.732045       1.730417       3.473445      44.749921\n",
       "min        -8.760004      -7.084020     -11.970335       0.000000\n",
       "25%        -1.162288      -1.174820       0.130359      59.450441\n",
       "50%         0.009424      -0.009482       2.484236      94.925613\n",
       "75%         1.158535       1.163678       4.858794     130.595027\n",
       "max         7.238262       7.844801      16.739402     190.029838"
      ]
     },
     "execution_count": 13,
     "metadata": {},
     "output_type": "execute_result"
    }
   ],
   "source": [
    "data_2.describe()"
   ]
  },
  {
   "cell_type": "markdown",
   "metadata": {},
   "source": [
    "С данными третьего региона всё в порядке, проверим явные дубликаты."
   ]
  },
  {
   "cell_type": "code",
   "execution_count": 14,
   "metadata": {},
   "outputs": [
    {
     "data": {
      "text/plain": [
       "0"
      ]
     },
     "execution_count": 14,
     "metadata": {},
     "output_type": "execute_result"
    }
   ],
   "source": [
    "data_2.duplicated().sum()"
   ]
  },
  {
   "cell_type": "markdown",
   "metadata": {},
   "source": [
    "**Вывод**\n",
    "\n",
    "Были загружены и проверены данные по трём регионам. Предобработка данных не потребовалась, они готовы к обучению."
   ]
  },
  {
   "cell_type": "markdown",
   "metadata": {},
   "source": [
    "## 2 Обучение и проверка модели"
   ]
  },
  {
   "cell_type": "markdown",
   "metadata": {},
   "source": [
    "Разделим данные на признаки в датасетах для всех трёх регионах. В признаках оставим столбцы `f1`, `f2` и `f3`, целевым признаком будет `product`. Столбец `id` не нужен для обучения, так как в нём хранятся идентификаторы, которые никак не повлияют на модель."
   ]
  },
  {
   "cell_type": "code",
   "execution_count": 15,
   "metadata": {},
   "outputs": [],
   "source": [
    "features_0 = data_0.drop([\"product\", \"id\"], axis = 1)\n",
    "target_0 = data_0['product']\n",
    "features_1 = data_1.drop([\"product\", \"id\"], axis = 1)\n",
    "target_1 = data_1['product']\n",
    "features_2 = data_2.drop([\"product\", \"id\"], axis = 1)\n",
    "target_2 = data_2['product']"
   ]
  },
  {
   "cell_type": "code",
   "execution_count": 16,
   "metadata": {},
   "outputs": [],
   "source": [
    "features_0_train, features_0_valid, target_0_train, target_0_valid = train_test_split(features_0, target_0, test_size = 0.25, \n",
    "                                                                                  random_state = 12345)\n",
    "\n",
    "features_1_train, features_1_valid, target_1_train, target_1_valid = train_test_split(features_1, target_1, test_size = 0.25, \n",
    "                                                                                  random_state = 12345)\n",
    "\n",
    "features_2_train, features_2_valid, target_2_train, target_2_valid = train_test_split(features_2, target_2, test_size = 0.25, \n",
    "                                                                                  random_state = 12345)"
   ]
  },
  {
   "cell_type": "code",
   "execution_count": 17,
   "metadata": {},
   "outputs": [
    {
     "name": "stdout",
     "output_type": "stream",
     "text": [
      "(75000, 3) (25000, 3) (75000,) (25000,)\n",
      "(75000, 3) (25000, 3) (75000,) (25000,)\n",
      "(75000, 3) (25000, 3) (75000,) (25000,)\n"
     ]
    }
   ],
   "source": [
    "print(features_0_train.shape, features_0_valid.shape, target_0_train.shape, target_0_valid.shape)\n",
    "\n",
    "\n",
    "print(features_0_train.shape, features_0_valid.shape, target_0_train.shape, target_0_valid.shape)\n",
    "\n",
    "\n",
    "print(features_0_train.shape, features_0_valid.shape, target_0_train.shape, target_0_valid.shape)"
   ]
  },
  {
   "cell_type": "markdown",
   "metadata": {},
   "source": [
    "Обучающая и валидационная выборки разделились правильно для данных во всех трёх регионах, можно приступить к обучению модели."
   ]
  },
  {
   "cell_type": "code",
   "execution_count": 18,
   "metadata": {},
   "outputs": [
    {
     "name": "stdout",
     "output_type": "stream",
     "text": [
      "Средний запас предсказанного сырья для первого региона: 92.59256778438035\n",
      "RMSE модели линейной регрессии на валидационной выборке для первого региона: 37.5794217150813\n"
     ]
    }
   ],
   "source": [
    "model_0 = LinearRegression()\n",
    "model_0.fit(features_0_train, target_0_train)\n",
    "predictions_0_valid = model_0.predict(features_0_valid)\n",
    "predictions_0_valid_mean = predictions_0_valid.mean()\n",
    "rmse_0 = mean_squared_error(target_0_valid, predictions_0_valid) ** 0.5\n",
    "print('Средний запас предсказанного сырья для первого региона:', predictions_0_valid_mean)\n",
    "print('RMSE модели линейной регрессии на валидационной выборке для первого региона:', rmse_0)"
   ]
  },
  {
   "cell_type": "code",
   "execution_count": 19,
   "metadata": {},
   "outputs": [
    {
     "name": "stdout",
     "output_type": "stream",
     "text": [
      "Средний запас предсказанного сырья для второго региона: 68.728546895446\n",
      "RMSE модели линейной регрессии на валидационной выборке для второго региона: 0.893099286775617\n"
     ]
    }
   ],
   "source": [
    "model_1 = LinearRegression()\n",
    "model_1.fit(features_1_train, target_1_train)\n",
    "predictions_1_valid = model_1.predict(features_1_valid)\n",
    "predictions_1_valid_mean = predictions_1_valid.mean()\n",
    "rmse_1 = mean_squared_error(target_1_valid, predictions_1_valid) ** 0.5\n",
    "print('Средний запас предсказанного сырья для второго региона:', predictions_1_valid_mean)\n",
    "print('RMSE модели линейной регрессии на валидационной выборке для второго региона:', rmse_1)"
   ]
  },
  {
   "cell_type": "code",
   "execution_count": 20,
   "metadata": {},
   "outputs": [
    {
     "name": "stdout",
     "output_type": "stream",
     "text": [
      "Средний запас предсказанного сырья для третьего региона: 94.96504596800489\n",
      "RMSE модели линейной регрессии на валидационной выборке для третьего региона: 40.02970873393434\n"
     ]
    }
   ],
   "source": [
    "model_2 = LinearRegression()\n",
    "model_2.fit(features_2_train, target_2_train)\n",
    "predictions_2_valid = model_2.predict(features_2_valid)\n",
    "predictions_2_valid_mean = predictions_2_valid.mean()\n",
    "rmse_2 = mean_squared_error(target_2_valid, predictions_2_valid) ** 0.5\n",
    "print('Средний запас предсказанного сырья для третьего региона:', predictions_2_valid_mean)\n",
    "print('RMSE модели линейной регрессии на валидационной выборке для третьего региона:', rmse_2)"
   ]
  },
  {
   "cell_type": "code",
   "execution_count": 21,
   "metadata": {},
   "outputs": [
    {
     "data": {
      "text/plain": [
       "array([ 95.89495185,  77.57258261,  77.89263965, ...,  61.50983303,\n",
       "       118.18039721, 118.16939229])"
      ]
     },
     "execution_count": 21,
     "metadata": {},
     "output_type": "execute_result"
    }
   ],
   "source": [
    "predictions_0_valid"
   ]
  },
  {
   "cell_type": "code",
   "execution_count": 22,
   "metadata": {},
   "outputs": [
    {
     "data": {
      "text/plain": [
       "71751     10.038645\n",
       "80493    114.551489\n",
       "2655     132.603635\n",
       "53233    169.072125\n",
       "91141    122.325180\n",
       "            ...    \n",
       "12581    170.116726\n",
       "18456     93.632175\n",
       "73035    127.352259\n",
       "63834     99.782700\n",
       "43558    177.821022\n",
       "Name: product, Length: 25000, dtype: float64"
      ]
     },
     "execution_count": 22,
     "metadata": {},
     "output_type": "execute_result"
    }
   ],
   "source": [
    "target_0_valid"
   ]
  },
  {
   "cell_type": "markdown",
   "metadata": {},
   "source": [
    "**Вывод**\n",
    "\n",
    "Были обучены модели логистической регрессии на основе данных для всех трёх регионов.\n",
    "Для регионов 1 и 3 средний запас предсказанного сырья выше, чем для региона 2. Но в то же самое время, у региона 2 очень низкий показатель среднеквадратичной ошибки, что говорит о высоких точности и качестве обученной модели."
   ]
  },
  {
   "cell_type": "markdown",
   "metadata": {},
   "source": [
    "## 3 Подготовка к расчёту прибыли"
   ]
  },
  {
   "cell_type": "markdown",
   "metadata": {},
   "source": [
    "Внесём условия бизнеса для данной задачи в соответствующие константные переменные."
   ]
  },
  {
   "cell_type": "code",
   "execution_count": 23,
   "metadata": {},
   "outputs": [],
   "source": [
    "WELLS = 500 # количество точек со скважинами\n",
    "TOP_WELLS = 200 # количество лучших точек со скважинами\n",
    "\n",
    "BUDGET = 10000000000 # бюджет на разработку скважин в регионе\n",
    "\n",
    "INCOME = 450000 # доход с единицы продукта"
   ]
  },
  {
   "cell_type": "code",
   "execution_count": 24,
   "metadata": {},
   "outputs": [],
   "source": [
    "wells_income = TOP_WELLS * INCOME\n",
    "product_volume = BUDGET / wells_income"
   ]
  },
  {
   "cell_type": "code",
   "execution_count": 25,
   "metadata": {
    "scrolled": true
   },
   "outputs": [
    {
     "name": "stdout",
     "output_type": "stream",
     "text": [
      "Минимальный объём сырья, необходимый для получения прибыли: 111.11111111111111\n"
     ]
    }
   ],
   "source": [
    "print('Минимальный объём сырья, необходимый для получения прибыли:', product_volume)"
   ]
  },
  {
   "cell_type": "markdown",
   "metadata": {},
   "source": [
    "**Вывод**\n",
    "\n",
    "Было высчитано значение минимального объёма сырья, необходимого для получения прибыли. Оно превышает высчитанные в предыдущем разделе значения среднего объёма сырья."
   ]
  },
  {
   "cell_type": "markdown",
   "metadata": {},
   "source": [
    "## 4 Расчёт прибыли и рисков "
   ]
  },
  {
   "cell_type": "markdown",
   "metadata": {},
   "source": [
    "### 4.1 Расчёт прибыли"
   ]
  },
  {
   "cell_type": "markdown",
   "metadata": {},
   "source": [
    "Напишем функцию для расчёта прибыли по выбранным скважинам и предсказаниям модели."
   ]
  },
  {
   "cell_type": "code",
   "execution_count": 26,
   "metadata": {},
   "outputs": [],
   "source": [
    "def profit_evaluation(target, predictions):\n",
    "    top_predictions = pd.Series(predictions, index = target.index).sort_values(ascending = False) # сортируем выборку по убыванию\n",
    "    top_targets = target[top_predictions.index][:TOP_WELLS]\n",
    "    income_sum = top_targets.sum() # берём значения целевого признака из списка с учётом индексов из top_predictions.\n",
    "    return (income_sum * INCOME) - BUDGET"
   ]
  },
  {
   "cell_type": "markdown",
   "metadata": {},
   "source": [
    "Теперь применим эту функцию к данным из всех трёх регионов."
   ]
  },
  {
   "cell_type": "code",
   "execution_count": 27,
   "metadata": {},
   "outputs": [
    {
     "data": {
      "text/plain": [
       "3320826043.14"
      ]
     },
     "execution_count": 27,
     "metadata": {},
     "output_type": "execute_result"
    }
   ],
   "source": [
    "#Проверяем прибыль для первого региона\n",
    "round(profit_evaluation(target_0_valid, predictions_0_valid), 3)"
   ]
  },
  {
   "cell_type": "code",
   "execution_count": 28,
   "metadata": {},
   "outputs": [
    {
     "data": {
      "text/plain": [
       "2415086696.682"
      ]
     },
     "execution_count": 28,
     "metadata": {},
     "output_type": "execute_result"
    }
   ],
   "source": [
    "#Проверяем прибыль для второго региона\n",
    "round(profit_evaluation(target_1_valid, predictions_1_valid), 3)"
   ]
  },
  {
   "cell_type": "code",
   "execution_count": 29,
   "metadata": {},
   "outputs": [
    {
     "data": {
      "text/plain": [
       "2710349963.6"
      ]
     },
     "execution_count": 29,
     "metadata": {},
     "output_type": "execute_result"
    }
   ],
   "source": [
    "#Проверяем прибыль для третьего региона\n",
    "round(profit_evaluation(target_2_valid, predictions_2_valid), 3)"
   ]
  },
  {
   "cell_type": "markdown",
   "metadata": {},
   "source": [
    "### 4.2 Расчёт рисков"
   ]
  },
  {
   "cell_type": "markdown",
   "metadata": {},
   "source": [
    "Напишем функцию для расчёта рисков, применив бутстрап."
   ]
  },
  {
   "cell_type": "code",
   "execution_count": 30,
   "metadata": {},
   "outputs": [],
   "source": [
    "def risk_evaluation(target, predictions):\n",
    "    values = []\n",
    "    risk = 0\n",
    "    state = np.random.RandomState(12345)\n",
    "    predictions_transformed = pd.Series(predictions, index = target.index)\n",
    "    \n",
    "    for i in range(1000):\n",
    "        target_subsample = target.sample(n = 500, replace = True, random_state = state)\n",
    "  \n",
    "        probs_subsample = predictions_transformed[target_subsample.index]\n",
    "        values.append(profit_evaluation(target_subsample, probs_subsample))  \n",
    "    \n",
    "    values = pd.Series(values)\n",
    "    mean = round(values.mean(), 2)\n",
    "\n",
    "    lower = round(values.quantile(0.025))\n",
    "    upper = round(values.quantile(0.975))\n",
    "\n",
    "    \n",
    "    risk = st.percentileofscore(values, 0)\n",
    "    \n",
    "    print(\"Средняя прибыль:\", mean, \"рублей\")\n",
    "    print('95%-ый доверительный интервал прибыли: от', lower, 'рублей до', upper, 'рублей')\n",
    "    print ('Вероятность убытка в данном регионе составит', risk, '%')"
   ]
  },
  {
   "cell_type": "code",
   "execution_count": 31,
   "metadata": {},
   "outputs": [
    {
     "name": "stdout",
     "output_type": "stream",
     "text": [
      "Средняя прибыль: 425938526.91 рублей\n",
      "95%-ый доверительный интервал прибыли: от -102090095 рублей до 947976353 рублей\n",
      "Вероятность убытка в данном регионе составит 6.0 %\n"
     ]
    }
   ],
   "source": [
    "risk_evaluation(target_0_valid, predictions_0_valid)"
   ]
  },
  {
   "cell_type": "code",
   "execution_count": 32,
   "metadata": {
    "scrolled": false
   },
   "outputs": [
    {
     "name": "stdout",
     "output_type": "stream",
     "text": [
      "Средняя прибыль: 515222773.44 рублей\n",
      "95%-ый доверительный интервал прибыли: от 68873225 рублей до 931547591 рублей\n",
      "Вероятность убытка в данном регионе составит 1.0 %\n"
     ]
    }
   ],
   "source": [
    "risk_evaluation(target_1_valid, predictions_1_valid)"
   ]
  },
  {
   "cell_type": "code",
   "execution_count": 33,
   "metadata": {
    "scrolled": true
   },
   "outputs": [
    {
     "name": "stdout",
     "output_type": "stream",
     "text": [
      "Средняя прибыль: 435008362.78 рублей\n",
      "95%-ый доверительный интервал прибыли: от -128880547 рублей до 969706954 рублей\n",
      "Вероятность убытка в данном регионе составит 6.4 %\n"
     ]
    }
   ],
   "source": [
    "risk_evaluation(target_2_valid, predictions_2_valid)"
   ]
  },
  {
   "cell_type": "markdown",
   "metadata": {},
   "source": [
    "**Вывод**\n",
    "\n",
    "Были рассчитаны прибыль, интервал и риски.\n",
    "\n",
    "Только во втором регионе вероятность убытка составляет меньше 2.5%. К тому же, как показал доверительный интервал, даже при самом худшем раскладе разработка месторождений окупит себя. Исходя из этих факторов, второй регион - лучший для разработки месторождений."
   ]
  },
  {
   "cell_type": "markdown",
   "metadata": {},
   "source": [
    "## Вывод"
   ]
  },
  {
   "cell_type": "markdown",
   "metadata": {},
   "source": [
    "В результате выполнения данного проекта был проведён ряд действий.\n",
    "\n",
    "* Изучены и подготовлены данные. \n",
    "* Обучена модель линейной регрессии для датасетов для каждого из регионов. \n",
    "* Высчитаны прибыль и риск для каждого региона.\n",
    "* Выбран и обоснован лучший регион для месторождения."
   ]
  }
 ],
 "metadata": {
  "ExecuteTimeLog": [
   {
    "duration": 1602,
    "start_time": "2022-12-23T06:34:35.166Z"
   },
   {
    "duration": 1657,
    "start_time": "2022-12-23T06:35:38.639Z"
   },
   {
    "duration": 17,
    "start_time": "2022-12-23T06:37:56.324Z"
   },
   {
    "duration": 21,
    "start_time": "2022-12-23T06:37:57.444Z"
   },
   {
    "duration": 42,
    "start_time": "2022-12-23T06:39:31.788Z"
   },
   {
    "duration": 17,
    "start_time": "2022-12-23T06:39:40.856Z"
   },
   {
    "duration": 15,
    "start_time": "2022-12-23T06:41:36.435Z"
   },
   {
    "duration": 16,
    "start_time": "2022-12-23T06:43:48.081Z"
   },
   {
    "duration": 10,
    "start_time": "2022-12-23T06:43:48.244Z"
   },
   {
    "duration": 35,
    "start_time": "2022-12-23T06:43:48.884Z"
   },
   {
    "duration": 15,
    "start_time": "2022-12-23T06:43:50.512Z"
   },
   {
    "duration": 36,
    "start_time": "2022-12-23T06:48:23.108Z"
   },
   {
    "duration": 15,
    "start_time": "2022-12-23T06:48:35.595Z"
   },
   {
    "duration": 10,
    "start_time": "2022-12-23T06:48:35.871Z"
   },
   {
    "duration": 36,
    "start_time": "2022-12-23T06:48:37.935Z"
   },
   {
    "duration": 57,
    "start_time": "2022-12-23T06:59:43.320Z"
   },
   {
    "duration": 43,
    "start_time": "2022-12-23T07:00:24.566Z"
   },
   {
    "duration": 43,
    "start_time": "2022-12-23T07:00:51.367Z"
   },
   {
    "duration": 1293,
    "start_time": "2022-12-23T07:06:31.775Z"
   },
   {
    "duration": 1118,
    "start_time": "2022-12-23T07:06:47.734Z"
   },
   {
    "duration": 1188,
    "start_time": "2022-12-23T07:08:09.588Z"
   },
   {
    "duration": 1193,
    "start_time": "2022-12-23T07:08:18.352Z"
   },
   {
    "duration": 7,
    "start_time": "2022-12-23T07:19:37.192Z"
   },
   {
    "duration": 11,
    "start_time": "2022-12-23T07:20:42.834Z"
   },
   {
    "duration": 44,
    "start_time": "2022-12-23T07:24:59.597Z"
   },
   {
    "duration": 10,
    "start_time": "2022-12-23T07:25:51.276Z"
   },
   {
    "duration": 10,
    "start_time": "2022-12-23T07:26:32.824Z"
   },
   {
    "duration": 27,
    "start_time": "2022-12-23T07:26:33.493Z"
   },
   {
    "duration": 12,
    "start_time": "2022-12-23T07:26:34.404Z"
   },
   {
    "duration": 13,
    "start_time": "2022-12-23T07:26:49.834Z"
   },
   {
    "duration": 5,
    "start_time": "2022-12-23T07:27:26.592Z"
   },
   {
    "duration": 11,
    "start_time": "2022-12-23T07:34:20.677Z"
   },
   {
    "duration": 161,
    "start_time": "2022-12-23T07:34:38.397Z"
   },
   {
    "duration": 16,
    "start_time": "2022-12-23T07:35:02.425Z"
   },
   {
    "duration": 16,
    "start_time": "2022-12-23T07:36:42.833Z"
   },
   {
    "duration": 114,
    "start_time": "2022-12-23T07:36:42.953Z"
   },
   {
    "duration": 15,
    "start_time": "2022-12-23T07:36:53.049Z"
   },
   {
    "duration": 3,
    "start_time": "2022-12-23T07:55:55.561Z"
   },
   {
    "duration": 3,
    "start_time": "2022-12-23T07:57:06.250Z"
   },
   {
    "duration": 3,
    "start_time": "2022-12-23T07:59:33.599Z"
   },
   {
    "duration": 4,
    "start_time": "2022-12-23T08:15:48.687Z"
   },
   {
    "duration": 3,
    "start_time": "2022-12-23T08:23:01.581Z"
   },
   {
    "duration": 12,
    "start_time": "2022-12-23T08:29:30.685Z"
   },
   {
    "duration": 11,
    "start_time": "2022-12-23T08:29:41.420Z"
   },
   {
    "duration": 14,
    "start_time": "2022-12-23T08:30:13.952Z"
   },
   {
    "duration": 4,
    "start_time": "2022-12-23T08:31:39.884Z"
   },
   {
    "duration": 4,
    "start_time": "2022-12-23T08:31:54.204Z"
   },
   {
    "duration": 4,
    "start_time": "2022-12-23T08:35:50.664Z"
   },
   {
    "duration": 16,
    "start_time": "2022-12-23T08:35:59.996Z"
   },
   {
    "duration": 4,
    "start_time": "2022-12-23T08:37:57.572Z"
   },
   {
    "duration": 24,
    "start_time": "2022-12-23T08:37:58.576Z"
   },
   {
    "duration": 4,
    "start_time": "2022-12-23T08:38:41.557Z"
   },
   {
    "duration": 19,
    "start_time": "2022-12-23T08:38:42.694Z"
   },
   {
    "duration": 4,
    "start_time": "2022-12-23T08:38:53.764Z"
   },
   {
    "duration": 21,
    "start_time": "2022-12-23T08:38:55.244Z"
   },
   {
    "duration": 11,
    "start_time": "2022-12-23T08:39:04.671Z"
   },
   {
    "duration": 12,
    "start_time": "2022-12-23T08:39:16.511Z"
   },
   {
    "duration": 10,
    "start_time": "2022-12-23T08:39:22.354Z"
   },
   {
    "duration": 6,
    "start_time": "2022-12-23T08:57:19.850Z"
   },
   {
    "duration": 13,
    "start_time": "2022-12-23T08:58:12.749Z"
   },
   {
    "duration": 5,
    "start_time": "2022-12-23T08:58:31.917Z"
   },
   {
    "duration": 18,
    "start_time": "2022-12-23T08:58:32.342Z"
   },
   {
    "duration": 6,
    "start_time": "2022-12-23T08:59:28.874Z"
   },
   {
    "duration": 20,
    "start_time": "2022-12-23T08:59:31.373Z"
   },
   {
    "duration": 5,
    "start_time": "2022-12-23T09:00:30.823Z"
   },
   {
    "duration": 1578,
    "start_time": "2022-12-23T09:00:31.690Z"
   },
   {
    "duration": 6,
    "start_time": "2022-12-23T09:01:29.678Z"
   },
   {
    "duration": 5,
    "start_time": "2022-12-23T09:01:32.232Z"
   },
   {
    "duration": 1591,
    "start_time": "2022-12-23T09:01:32.540Z"
   },
   {
    "duration": 6,
    "start_time": "2022-12-23T09:01:57.414Z"
   },
   {
    "duration": 21,
    "start_time": "2022-12-23T09:01:58.106Z"
   },
   {
    "duration": 5,
    "start_time": "2022-12-23T09:02:45.958Z"
   },
   {
    "duration": 26,
    "start_time": "2022-12-23T09:02:49.058Z"
   },
   {
    "duration": 4,
    "start_time": "2022-12-23T09:04:50.735Z"
   },
   {
    "duration": 19,
    "start_time": "2022-12-23T09:04:51.247Z"
   },
   {
    "duration": 5,
    "start_time": "2022-12-23T09:05:05.579Z"
   },
   {
    "duration": 1480,
    "start_time": "2022-12-23T09:05:06.185Z"
   },
   {
    "duration": 4,
    "start_time": "2022-12-23T09:07:24.847Z"
   },
   {
    "duration": 3,
    "start_time": "2022-12-23T09:07:44.399Z"
   },
   {
    "duration": 3,
    "start_time": "2022-12-23T09:08:00.348Z"
   },
   {
    "duration": 24,
    "start_time": "2022-12-23T09:08:01.451Z"
   },
   {
    "duration": 4,
    "start_time": "2022-12-23T09:09:39.332Z"
   },
   {
    "duration": 1486,
    "start_time": "2022-12-23T09:09:44.924Z"
   },
   {
    "duration": 402,
    "start_time": "2022-12-23T09:09:46.412Z"
   },
   {
    "duration": 21,
    "start_time": "2022-12-23T09:09:46.816Z"
   },
   {
    "duration": 27,
    "start_time": "2022-12-23T09:09:46.840Z"
   },
   {
    "duration": 49,
    "start_time": "2022-12-23T09:09:46.870Z"
   },
   {
    "duration": 77,
    "start_time": "2022-12-23T09:09:46.921Z"
   },
   {
    "duration": 21,
    "start_time": "2022-12-23T09:09:47.001Z"
   },
   {
    "duration": 29,
    "start_time": "2022-12-23T09:09:47.025Z"
   },
   {
    "duration": 45,
    "start_time": "2022-12-23T09:09:47.056Z"
   },
   {
    "duration": 85,
    "start_time": "2022-12-23T09:09:47.103Z"
   },
   {
    "duration": 22,
    "start_time": "2022-12-23T09:09:47.190Z"
   },
   {
    "duration": 12,
    "start_time": "2022-12-23T09:09:47.214Z"
   },
   {
    "duration": 67,
    "start_time": "2022-12-23T09:09:47.228Z"
   },
   {
    "duration": 71,
    "start_time": "2022-12-23T09:09:47.299Z"
   },
   {
    "duration": 11,
    "start_time": "2022-12-23T09:09:47.371Z"
   },
   {
    "duration": 39,
    "start_time": "2022-12-23T09:09:47.384Z"
   },
   {
    "duration": 6,
    "start_time": "2022-12-23T09:09:47.424Z"
   },
   {
    "duration": 101,
    "start_time": "2022-12-23T09:09:47.452Z"
   },
   {
    "duration": 193,
    "start_time": "2022-12-23T09:09:47.557Z"
   },
   {
    "duration": 102,
    "start_time": "2022-12-23T09:09:47.753Z"
   },
   {
    "duration": 95,
    "start_time": "2022-12-23T09:09:47.857Z"
   },
   {
    "duration": 105,
    "start_time": "2022-12-23T09:09:47.957Z"
   },
   {
    "duration": 7,
    "start_time": "2022-12-23T09:09:48.064Z"
   },
   {
    "duration": 9,
    "start_time": "2022-12-23T09:09:48.072Z"
   },
   {
    "duration": 7,
    "start_time": "2022-12-23T09:09:48.083Z"
   },
   {
    "duration": 6,
    "start_time": "2022-12-23T09:09:48.092Z"
   },
   {
    "duration": 150,
    "start_time": "2022-12-23T09:09:48.100Z"
   },
   {
    "duration": 0,
    "start_time": "2022-12-23T09:09:48.253Z"
   },
   {
    "duration": 0,
    "start_time": "2022-12-23T09:09:48.254Z"
   },
   {
    "duration": 0,
    "start_time": "2022-12-23T09:09:48.256Z"
   },
   {
    "duration": 0,
    "start_time": "2022-12-23T09:09:48.257Z"
   },
   {
    "duration": 3,
    "start_time": "2022-12-23T09:21:42.649Z"
   },
   {
    "duration": 4,
    "start_time": "2022-12-23T09:21:44.227Z"
   },
   {
    "duration": 22,
    "start_time": "2022-12-23T09:21:45.389Z"
   },
   {
    "duration": 3,
    "start_time": "2022-12-23T09:23:14.301Z"
   },
   {
    "duration": 9,
    "start_time": "2022-12-23T09:23:15.225Z"
   },
   {
    "duration": 10,
    "start_time": "2022-12-23T09:23:16.765Z"
   },
   {
    "duration": 10,
    "start_time": "2022-12-23T09:23:17.221Z"
   },
   {
    "duration": 6,
    "start_time": "2022-12-23T09:23:34.341Z"
   },
   {
    "duration": 1516,
    "start_time": "2022-12-23T09:23:35.281Z"
   },
   {
    "duration": 5,
    "start_time": "2022-12-23T09:23:41.957Z"
   },
   {
    "duration": 20,
    "start_time": "2022-12-23T09:23:42.460Z"
   },
   {
    "duration": 5,
    "start_time": "2022-12-23T09:24:05.477Z"
   },
   {
    "duration": 2833,
    "start_time": "2022-12-23T09:24:06.124Z"
   },
   {
    "duration": 1499,
    "start_time": "2022-12-23T09:24:18.857Z"
   },
   {
    "duration": 416,
    "start_time": "2022-12-23T09:24:20.358Z"
   },
   {
    "duration": 19,
    "start_time": "2022-12-23T09:24:20.776Z"
   },
   {
    "duration": 50,
    "start_time": "2022-12-23T09:24:20.797Z"
   },
   {
    "duration": 80,
    "start_time": "2022-12-23T09:24:20.848Z"
   },
   {
    "duration": 47,
    "start_time": "2022-12-23T09:24:20.930Z"
   },
   {
    "duration": 14,
    "start_time": "2022-12-23T09:24:20.979Z"
   },
   {
    "duration": 29,
    "start_time": "2022-12-23T09:24:20.994Z"
   },
   {
    "duration": 64,
    "start_time": "2022-12-23T09:24:21.024Z"
   },
   {
    "duration": 43,
    "start_time": "2022-12-23T09:24:21.091Z"
   },
   {
    "duration": 27,
    "start_time": "2022-12-23T09:24:21.136Z"
   },
   {
    "duration": 60,
    "start_time": "2022-12-23T09:24:21.165Z"
   },
   {
    "duration": 58,
    "start_time": "2022-12-23T09:24:21.227Z"
   },
   {
    "duration": 59,
    "start_time": "2022-12-23T09:24:21.287Z"
   },
   {
    "duration": 8,
    "start_time": "2022-12-23T09:24:21.348Z"
   },
   {
    "duration": 90,
    "start_time": "2022-12-23T09:24:21.357Z"
   },
   {
    "duration": 30,
    "start_time": "2022-12-23T09:24:21.449Z"
   },
   {
    "duration": 49,
    "start_time": "2022-12-23T09:24:21.481Z"
   },
   {
    "duration": 142,
    "start_time": "2022-12-23T09:24:21.532Z"
   },
   {
    "duration": 188,
    "start_time": "2022-12-23T09:24:21.676Z"
   },
   {
    "duration": 198,
    "start_time": "2022-12-23T09:24:21.866Z"
   },
   {
    "duration": 50,
    "start_time": "2022-12-23T09:24:22.067Z"
   },
   {
    "duration": 36,
    "start_time": "2022-12-23T09:24:22.119Z"
   },
   {
    "duration": 58,
    "start_time": "2022-12-23T09:24:22.157Z"
   },
   {
    "duration": 34,
    "start_time": "2022-12-23T09:24:22.218Z"
   },
   {
    "duration": 60,
    "start_time": "2022-12-23T09:24:22.254Z"
   },
   {
    "duration": 64,
    "start_time": "2022-12-23T09:24:22.316Z"
   },
   {
    "duration": 17,
    "start_time": "2022-12-23T09:24:22.384Z"
   },
   {
    "duration": 39,
    "start_time": "2022-12-23T09:24:22.402Z"
   },
   {
    "duration": 12,
    "start_time": "2022-12-23T09:24:22.443Z"
   },
   {
    "duration": 1532,
    "start_time": "2022-12-23T09:24:22.457Z"
   },
   {
    "duration": 6,
    "start_time": "2022-12-23T09:29:08.008Z"
   },
   {
    "duration": 1677,
    "start_time": "2022-12-23T09:29:08.356Z"
   },
   {
    "duration": 5,
    "start_time": "2022-12-23T09:29:45.501Z"
   },
   {
    "duration": 2973,
    "start_time": "2022-12-23T09:29:46.082Z"
   },
   {
    "duration": 6,
    "start_time": "2022-12-23T09:30:28.246Z"
   },
   {
    "duration": 4854,
    "start_time": "2022-12-23T09:30:28.710Z"
   },
   {
    "duration": 1417,
    "start_time": "2022-12-23T09:32:42.249Z"
   },
   {
    "duration": 422,
    "start_time": "2022-12-23T09:32:43.668Z"
   },
   {
    "duration": 17,
    "start_time": "2022-12-23T09:32:44.091Z"
   },
   {
    "duration": 16,
    "start_time": "2022-12-23T09:32:44.110Z"
   },
   {
    "duration": 71,
    "start_time": "2022-12-23T09:32:44.128Z"
   },
   {
    "duration": 82,
    "start_time": "2022-12-23T09:32:44.201Z"
   },
   {
    "duration": 20,
    "start_time": "2022-12-23T09:32:44.285Z"
   },
   {
    "duration": 12,
    "start_time": "2022-12-23T09:32:44.307Z"
   },
   {
    "duration": 69,
    "start_time": "2022-12-23T09:32:44.321Z"
   },
   {
    "duration": 44,
    "start_time": "2022-12-23T09:32:44.394Z"
   },
   {
    "duration": 17,
    "start_time": "2022-12-23T09:32:44.450Z"
   },
   {
    "duration": 22,
    "start_time": "2022-12-23T09:32:44.469Z"
   },
   {
    "duration": 44,
    "start_time": "2022-12-23T09:32:44.493Z"
   },
   {
    "duration": 47,
    "start_time": "2022-12-23T09:32:44.551Z"
   },
   {
    "duration": 9,
    "start_time": "2022-12-23T09:32:44.600Z"
   },
   {
    "duration": 58,
    "start_time": "2022-12-23T09:32:44.611Z"
   },
   {
    "duration": 5,
    "start_time": "2022-12-23T09:32:44.670Z"
   },
   {
    "duration": 19,
    "start_time": "2022-12-23T09:32:44.677Z"
   },
   {
    "duration": 115,
    "start_time": "2022-12-23T09:32:44.752Z"
   },
   {
    "duration": 192,
    "start_time": "2022-12-23T09:32:44.869Z"
   },
   {
    "duration": 99,
    "start_time": "2022-12-23T09:32:45.063Z"
   },
   {
    "duration": 89,
    "start_time": "2022-12-23T09:32:45.165Z"
   },
   {
    "duration": 8,
    "start_time": "2022-12-23T09:32:45.256Z"
   },
   {
    "duration": 7,
    "start_time": "2022-12-23T09:32:45.266Z"
   },
   {
    "duration": 1005,
    "start_time": "2022-12-23T09:32:45.274Z"
   },
   {
    "duration": 0,
    "start_time": "2022-12-23T09:32:46.281Z"
   },
   {
    "duration": 0,
    "start_time": "2022-12-23T09:32:46.282Z"
   },
   {
    "duration": 0,
    "start_time": "2022-12-23T09:32:46.283Z"
   },
   {
    "duration": 0,
    "start_time": "2022-12-23T09:32:46.284Z"
   },
   {
    "duration": 0,
    "start_time": "2022-12-23T09:32:46.286Z"
   },
   {
    "duration": 0,
    "start_time": "2022-12-23T09:32:46.287Z"
   },
   {
    "duration": 0,
    "start_time": "2022-12-23T09:32:46.288Z"
   },
   {
    "duration": 13,
    "start_time": "2022-12-23T09:33:39.337Z"
   },
   {
    "duration": 5,
    "start_time": "2022-12-23T09:33:47.369Z"
   },
   {
    "duration": 4,
    "start_time": "2022-12-23T09:33:48.570Z"
   },
   {
    "duration": 12,
    "start_time": "2022-12-23T09:33:49.582Z"
   },
   {
    "duration": 10,
    "start_time": "2022-12-23T09:33:50.164Z"
   },
   {
    "duration": 10,
    "start_time": "2022-12-23T09:33:50.979Z"
   },
   {
    "duration": 5,
    "start_time": "2022-12-23T09:34:11.567Z"
   },
   {
    "duration": 6164,
    "start_time": "2022-12-23T09:34:12.166Z"
   },
   {
    "duration": 5,
    "start_time": "2022-12-23T09:34:23.033Z"
   },
   {
    "duration": 2908,
    "start_time": "2022-12-23T09:34:23.562Z"
   },
   {
    "duration": 8,
    "start_time": "2022-12-23T09:34:34.434Z"
   },
   {
    "duration": 5959,
    "start_time": "2022-12-23T09:34:35.814Z"
   },
   {
    "duration": 6,
    "start_time": "2022-12-23T09:34:56.054Z"
   },
   {
    "duration": 5,
    "start_time": "2022-12-23T09:35:12.838Z"
   },
   {
    "duration": 22,
    "start_time": "2022-12-23T09:35:13.604Z"
   },
   {
    "duration": 5,
    "start_time": "2022-12-23T09:38:27.867Z"
   },
   {
    "duration": 1633,
    "start_time": "2022-12-23T09:38:28.419Z"
   },
   {
    "duration": 1486,
    "start_time": "2022-12-23T09:38:34.011Z"
   },
   {
    "duration": 401,
    "start_time": "2022-12-23T09:38:35.500Z"
   },
   {
    "duration": 16,
    "start_time": "2022-12-23T09:38:35.903Z"
   },
   {
    "duration": 35,
    "start_time": "2022-12-23T09:38:35.922Z"
   },
   {
    "duration": 53,
    "start_time": "2022-12-23T09:38:35.959Z"
   },
   {
    "duration": 52,
    "start_time": "2022-12-23T09:38:36.014Z"
   },
   {
    "duration": 15,
    "start_time": "2022-12-23T09:38:36.067Z"
   },
   {
    "duration": 46,
    "start_time": "2022-12-23T09:38:36.084Z"
   },
   {
    "duration": 71,
    "start_time": "2022-12-23T09:38:36.131Z"
   },
   {
    "duration": 45,
    "start_time": "2022-12-23T09:38:36.205Z"
   },
   {
    "duration": 14,
    "start_time": "2022-12-23T09:38:36.252Z"
   },
   {
    "duration": 32,
    "start_time": "2022-12-23T09:38:36.268Z"
   },
   {
    "duration": 51,
    "start_time": "2022-12-23T09:38:36.302Z"
   },
   {
    "duration": 57,
    "start_time": "2022-12-23T09:38:36.355Z"
   },
   {
    "duration": 9,
    "start_time": "2022-12-23T09:38:36.414Z"
   },
   {
    "duration": 67,
    "start_time": "2022-12-23T09:38:36.425Z"
   },
   {
    "duration": 6,
    "start_time": "2022-12-23T09:38:36.494Z"
   },
   {
    "duration": 153,
    "start_time": "2022-12-23T09:38:36.501Z"
   },
   {
    "duration": 107,
    "start_time": "2022-12-23T09:38:36.660Z"
   },
   {
    "duration": 203,
    "start_time": "2022-12-23T09:38:36.769Z"
   },
   {
    "duration": 195,
    "start_time": "2022-12-23T09:38:36.974Z"
   },
   {
    "duration": 14,
    "start_time": "2022-12-23T09:38:37.171Z"
   },
   {
    "duration": 31,
    "start_time": "2022-12-23T09:38:37.188Z"
   },
   {
    "duration": 25,
    "start_time": "2022-12-23T09:38:37.221Z"
   },
   {
    "duration": 34,
    "start_time": "2022-12-23T09:38:37.248Z"
   },
   {
    "duration": 29,
    "start_time": "2022-12-23T09:38:37.285Z"
   },
   {
    "duration": 30,
    "start_time": "2022-12-23T09:38:37.316Z"
   },
   {
    "duration": 44,
    "start_time": "2022-12-23T09:38:37.349Z"
   },
   {
    "duration": 15,
    "start_time": "2022-12-23T09:38:37.394Z"
   },
   {
    "duration": 33,
    "start_time": "2022-12-23T09:38:37.411Z"
   },
   {
    "duration": 16,
    "start_time": "2022-12-23T09:38:37.449Z"
   },
   {
    "duration": 1603,
    "start_time": "2022-12-23T09:38:37.468Z"
   },
   {
    "duration": 1765,
    "start_time": "2022-12-23T09:38:53.403Z"
   },
   {
    "duration": 407,
    "start_time": "2022-12-23T09:38:55.170Z"
   },
   {
    "duration": 17,
    "start_time": "2022-12-23T09:38:55.579Z"
   },
   {
    "duration": 17,
    "start_time": "2022-12-23T09:38:55.598Z"
   },
   {
    "duration": 65,
    "start_time": "2022-12-23T09:38:55.618Z"
   },
   {
    "duration": 51,
    "start_time": "2022-12-23T09:38:55.687Z"
   },
   {
    "duration": 19,
    "start_time": "2022-12-23T09:38:55.752Z"
   },
   {
    "duration": 20,
    "start_time": "2022-12-23T09:38:55.773Z"
   },
   {
    "duration": 85,
    "start_time": "2022-12-23T09:38:55.795Z"
   },
   {
    "duration": 75,
    "start_time": "2022-12-23T09:38:55.882Z"
   },
   {
    "duration": 23,
    "start_time": "2022-12-23T09:38:55.960Z"
   },
   {
    "duration": 31,
    "start_time": "2022-12-23T09:38:55.985Z"
   },
   {
    "duration": 72,
    "start_time": "2022-12-23T09:38:56.018Z"
   },
   {
    "duration": 77,
    "start_time": "2022-12-23T09:38:56.094Z"
   },
   {
    "duration": 18,
    "start_time": "2022-12-23T09:38:56.174Z"
   },
   {
    "duration": 73,
    "start_time": "2022-12-23T09:38:56.194Z"
   },
   {
    "duration": 6,
    "start_time": "2022-12-23T09:38:56.269Z"
   },
   {
    "duration": 180,
    "start_time": "2022-12-23T09:38:56.277Z"
   },
   {
    "duration": 102,
    "start_time": "2022-12-23T09:38:56.462Z"
   },
   {
    "duration": 93,
    "start_time": "2022-12-23T09:38:56.581Z"
   },
   {
    "duration": 186,
    "start_time": "2022-12-23T09:38:56.676Z"
   },
   {
    "duration": 27,
    "start_time": "2022-12-23T09:38:56.863Z"
   },
   {
    "duration": 34,
    "start_time": "2022-12-23T09:38:56.893Z"
   },
   {
    "duration": 24,
    "start_time": "2022-12-23T09:38:56.928Z"
   },
   {
    "duration": 35,
    "start_time": "2022-12-23T09:38:56.954Z"
   },
   {
    "duration": 36,
    "start_time": "2022-12-23T09:38:56.991Z"
   },
   {
    "duration": 28,
    "start_time": "2022-12-23T09:38:57.029Z"
   },
   {
    "duration": 30,
    "start_time": "2022-12-23T09:38:57.059Z"
   },
   {
    "duration": 15,
    "start_time": "2022-12-23T09:38:57.092Z"
   },
   {
    "duration": 1709,
    "start_time": "2022-12-23T09:38:57.110Z"
   },
   {
    "duration": 4,
    "start_time": "2022-12-23T09:42:18.829Z"
   },
   {
    "duration": 5,
    "start_time": "2022-12-23T09:42:22.576Z"
   },
   {
    "duration": 7,
    "start_time": "2022-12-23T09:42:44.537Z"
   },
   {
    "duration": 4,
    "start_time": "2022-12-23T09:43:56.132Z"
   },
   {
    "duration": 128,
    "start_time": "2022-12-23T09:43:56.899Z"
   },
   {
    "duration": 4,
    "start_time": "2022-12-23T09:45:56.660Z"
   },
   {
    "duration": 10,
    "start_time": "2022-12-23T09:45:57.582Z"
   },
   {
    "duration": 15,
    "start_time": "2022-12-23T09:45:59.153Z"
   },
   {
    "duration": 11,
    "start_time": "2022-12-23T09:45:59.842Z"
   },
   {
    "duration": 9,
    "start_time": "2022-12-23T09:46:01.257Z"
   },
   {
    "duration": 7,
    "start_time": "2022-12-23T09:51:07.071Z"
   },
   {
    "duration": 1583,
    "start_time": "2022-12-23T09:51:08.046Z"
   },
   {
    "duration": 5,
    "start_time": "2022-12-23T09:51:56.608Z"
   },
   {
    "duration": 1506,
    "start_time": "2022-12-23T09:51:57.512Z"
   },
   {
    "duration": 5,
    "start_time": "2022-12-23T09:52:11.620Z"
   },
   {
    "duration": 4121,
    "start_time": "2022-12-23T09:52:11.774Z"
   },
   {
    "duration": 6,
    "start_time": "2022-12-23T09:52:51.057Z"
   },
   {
    "duration": 4908,
    "start_time": "2022-12-23T09:52:51.370Z"
   },
   {
    "duration": 1464,
    "start_time": "2022-12-23T10:04:52.657Z"
   },
   {
    "duration": 444,
    "start_time": "2022-12-23T10:04:54.123Z"
   },
   {
    "duration": 16,
    "start_time": "2022-12-23T10:04:54.569Z"
   },
   {
    "duration": 43,
    "start_time": "2022-12-23T10:04:54.588Z"
   },
   {
    "duration": 87,
    "start_time": "2022-12-23T10:04:54.633Z"
   },
   {
    "duration": 72,
    "start_time": "2022-12-23T10:04:54.721Z"
   },
   {
    "duration": 16,
    "start_time": "2022-12-23T10:04:54.795Z"
   },
   {
    "duration": 47,
    "start_time": "2022-12-23T10:04:54.813Z"
   },
   {
    "duration": 78,
    "start_time": "2022-12-23T10:04:54.862Z"
   },
   {
    "duration": 55,
    "start_time": "2022-12-23T10:04:54.943Z"
   },
   {
    "duration": 16,
    "start_time": "2022-12-23T10:04:55.000Z"
   },
   {
    "duration": 64,
    "start_time": "2022-12-23T10:04:55.018Z"
   },
   {
    "duration": 72,
    "start_time": "2022-12-23T10:04:55.085Z"
   },
   {
    "duration": 57,
    "start_time": "2022-12-23T10:04:55.159Z"
   },
   {
    "duration": 8,
    "start_time": "2022-12-23T10:04:55.217Z"
   },
   {
    "duration": 128,
    "start_time": "2022-12-23T10:04:55.227Z"
   },
   {
    "duration": 11,
    "start_time": "2022-12-23T10:04:55.358Z"
   },
   {
    "duration": 78,
    "start_time": "2022-12-23T10:04:55.372Z"
   },
   {
    "duration": 150,
    "start_time": "2022-12-23T10:04:55.453Z"
   },
   {
    "duration": 189,
    "start_time": "2022-12-23T10:04:55.606Z"
   },
   {
    "duration": 176,
    "start_time": "2022-12-23T10:04:55.801Z"
   },
   {
    "duration": 83,
    "start_time": "2022-12-23T10:04:55.979Z"
   },
   {
    "duration": 88,
    "start_time": "2022-12-23T10:04:56.064Z"
   },
   {
    "duration": 51,
    "start_time": "2022-12-23T10:04:56.154Z"
   },
   {
    "duration": 69,
    "start_time": "2022-12-23T10:04:56.207Z"
   },
   {
    "duration": 60,
    "start_time": "2022-12-23T10:04:56.278Z"
   },
   {
    "duration": 102,
    "start_time": "2022-12-23T10:04:56.340Z"
   },
   {
    "duration": 75,
    "start_time": "2022-12-23T10:04:56.445Z"
   },
   {
    "duration": 68,
    "start_time": "2022-12-23T10:04:56.523Z"
   },
   {
    "duration": 75,
    "start_time": "2022-12-23T10:04:56.594Z"
   },
   {
    "duration": 5634,
    "start_time": "2022-12-23T10:04:56.672Z"
   },
   {
    "duration": 45,
    "start_time": "2022-12-23T12:32:57.750Z"
   },
   {
    "duration": 1574,
    "start_time": "2022-12-23T12:33:03.681Z"
   },
   {
    "duration": 2204,
    "start_time": "2022-12-23T12:33:05.257Z"
   },
   {
    "duration": 22,
    "start_time": "2022-12-23T12:33:07.466Z"
   },
   {
    "duration": 22,
    "start_time": "2022-12-23T12:33:07.491Z"
   },
   {
    "duration": 49,
    "start_time": "2022-12-23T12:33:07.515Z"
   },
   {
    "duration": 55,
    "start_time": "2022-12-23T12:33:07.566Z"
   },
   {
    "duration": 15,
    "start_time": "2022-12-23T12:33:07.623Z"
   },
   {
    "duration": 10,
    "start_time": "2022-12-23T12:33:07.639Z"
   },
   {
    "duration": 66,
    "start_time": "2022-12-23T12:33:07.651Z"
   },
   {
    "duration": 38,
    "start_time": "2022-12-23T12:33:07.720Z"
   },
   {
    "duration": 13,
    "start_time": "2022-12-23T12:33:07.759Z"
   },
   {
    "duration": 30,
    "start_time": "2022-12-23T12:33:07.774Z"
   },
   {
    "duration": 34,
    "start_time": "2022-12-23T12:33:07.806Z"
   },
   {
    "duration": 41,
    "start_time": "2022-12-23T12:33:07.841Z"
   },
   {
    "duration": 26,
    "start_time": "2022-12-23T12:33:07.883Z"
   },
   {
    "duration": 53,
    "start_time": "2022-12-23T12:33:07.910Z"
   },
   {
    "duration": 5,
    "start_time": "2022-12-23T12:33:07.965Z"
   },
   {
    "duration": 135,
    "start_time": "2022-12-23T12:33:07.971Z"
   },
   {
    "duration": 104,
    "start_time": "2022-12-23T12:33:08.107Z"
   },
   {
    "duration": 193,
    "start_time": "2022-12-23T12:33:08.213Z"
   },
   {
    "duration": 90,
    "start_time": "2022-12-23T12:33:08.413Z"
   },
   {
    "duration": 12,
    "start_time": "2022-12-23T12:33:08.506Z"
   },
   {
    "duration": 9,
    "start_time": "2022-12-23T12:33:08.519Z"
   },
   {
    "duration": 18,
    "start_time": "2022-12-23T12:33:08.529Z"
   },
   {
    "duration": 12,
    "start_time": "2022-12-23T12:33:08.549Z"
   },
   {
    "duration": 26,
    "start_time": "2022-12-23T12:33:08.562Z"
   },
   {
    "duration": 43,
    "start_time": "2022-12-23T12:33:08.589Z"
   },
   {
    "duration": 20,
    "start_time": "2022-12-23T12:33:08.634Z"
   },
   {
    "duration": 14,
    "start_time": "2022-12-23T12:33:08.655Z"
   },
   {
    "duration": 10,
    "start_time": "2022-12-23T12:33:08.671Z"
   },
   {
    "duration": 3884,
    "start_time": "2022-12-23T12:33:08.682Z"
   },
   {
    "duration": 23,
    "start_time": "2022-12-23T12:33:36.713Z"
   },
   {
    "duration": 5,
    "start_time": "2022-12-23T12:33:37.278Z"
   },
   {
    "duration": 26,
    "start_time": "2022-12-23T12:33:38.469Z"
   },
   {
    "duration": 13,
    "start_time": "2022-12-23T12:33:39.113Z"
   },
   {
    "duration": 15,
    "start_time": "2022-12-23T12:33:39.762Z"
   },
   {
    "duration": 4,
    "start_time": "2022-12-23T12:36:31.818Z"
   },
   {
    "duration": 11,
    "start_time": "2022-12-23T12:36:32.918Z"
   },
   {
    "duration": 9,
    "start_time": "2022-12-23T12:36:33.556Z"
   },
   {
    "duration": 10,
    "start_time": "2022-12-23T12:36:34.218Z"
   },
   {
    "duration": 3,
    "start_time": "2022-12-23T12:37:03.718Z"
   },
   {
    "duration": 4,
    "start_time": "2022-12-23T12:37:32.271Z"
   },
   {
    "duration": 6,
    "start_time": "2022-12-23T12:37:37.486Z"
   },
   {
    "duration": 5,
    "start_time": "2022-12-23T12:37:46.061Z"
   },
   {
    "duration": 1376,
    "start_time": "2022-12-23T12:37:47.657Z"
   },
   {
    "duration": 7,
    "start_time": "2022-12-23T12:38:16.094Z"
   },
   {
    "duration": 1414,
    "start_time": "2022-12-23T12:38:16.690Z"
   },
   {
    "duration": 7,
    "start_time": "2022-12-23T12:38:50.074Z"
   },
   {
    "duration": 104,
    "start_time": "2022-12-23T12:38:50.474Z"
   },
   {
    "duration": 6,
    "start_time": "2022-12-23T12:39:14.618Z"
   },
   {
    "duration": 20,
    "start_time": "2022-12-23T12:39:15.102Z"
   },
   {
    "duration": 3,
    "start_time": "2022-12-23T12:39:36.462Z"
   },
   {
    "duration": 6,
    "start_time": "2022-12-23T12:39:37.335Z"
   },
   {
    "duration": 1405,
    "start_time": "2022-12-23T12:39:38.125Z"
   },
   {
    "duration": 4,
    "start_time": "2022-12-23T12:39:50.103Z"
   },
   {
    "duration": 7,
    "start_time": "2022-12-23T12:39:50.806Z"
   },
   {
    "duration": 26,
    "start_time": "2022-12-23T12:39:51.239Z"
   },
   {
    "duration": 4,
    "start_time": "2022-12-23T12:40:04.449Z"
   },
   {
    "duration": 5,
    "start_time": "2022-12-23T12:40:06.043Z"
   },
   {
    "duration": 1501,
    "start_time": "2022-12-23T12:40:06.578Z"
   },
   {
    "duration": 1363,
    "start_time": "2022-12-23T12:40:40.107Z"
   },
   {
    "duration": 1397,
    "start_time": "2022-12-23T12:40:41.472Z"
   },
   {
    "duration": 4,
    "start_time": "2022-12-23T12:41:15.891Z"
   },
   {
    "duration": 11,
    "start_time": "2022-12-23T12:41:16.471Z"
   },
   {
    "duration": 12,
    "start_time": "2022-12-23T12:41:17.075Z"
   },
   {
    "duration": 14,
    "start_time": "2022-12-23T12:41:17.548Z"
   },
   {
    "duration": 4,
    "start_time": "2022-12-23T12:44:19.835Z"
   },
   {
    "duration": 14,
    "start_time": "2022-12-23T12:44:20.859Z"
   },
   {
    "duration": 3,
    "start_time": "2022-12-23T12:44:48.736Z"
   },
   {
    "duration": 7,
    "start_time": "2022-12-23T12:44:49.580Z"
   },
   {
    "duration": 8,
    "start_time": "2022-12-23T12:44:50.205Z"
   },
   {
    "duration": 7,
    "start_time": "2022-12-23T12:44:50.707Z"
   },
   {
    "duration": 3,
    "start_time": "2022-12-23T12:46:50.688Z"
   },
   {
    "duration": 6,
    "start_time": "2022-12-23T12:47:01.180Z"
   },
   {
    "duration": 1405,
    "start_time": "2022-12-23T12:47:01.864Z"
   },
   {
    "duration": 92,
    "start_time": "2022-12-23T12:47:54.136Z"
   },
   {
    "duration": 1551,
    "start_time": "2022-12-23T12:47:55.380Z"
   },
   {
    "duration": 7,
    "start_time": "2022-12-23T12:54:46.525Z"
   },
   {
    "duration": 5,
    "start_time": "2022-12-23T12:55:14.233Z"
   },
   {
    "duration": 1439,
    "start_time": "2022-12-23T12:55:15.181Z"
   },
   {
    "duration": 19,
    "start_time": "2022-12-23T12:55:28.413Z"
   },
   {
    "duration": 3,
    "start_time": "2022-12-23T12:55:45.508Z"
   },
   {
    "duration": 5,
    "start_time": "2022-12-23T12:55:46.609Z"
   },
   {
    "duration": 738,
    "start_time": "2022-12-23T12:55:47.221Z"
   },
   {
    "duration": 9,
    "start_time": "2022-12-23T12:56:08.716Z"
   },
   {
    "duration": 786,
    "start_time": "2022-12-23T12:56:08.955Z"
   },
   {
    "duration": 6,
    "start_time": "2022-12-23T12:57:20.633Z"
   },
   {
    "duration": 859,
    "start_time": "2022-12-23T12:57:21.589Z"
   },
   {
    "duration": 5,
    "start_time": "2022-12-23T12:57:46.478Z"
   },
   {
    "duration": 688,
    "start_time": "2022-12-23T12:57:48.179Z"
   },
   {
    "duration": 6,
    "start_time": "2022-12-23T12:59:23.258Z"
   },
   {
    "duration": 711,
    "start_time": "2022-12-23T12:59:23.614Z"
   },
   {
    "duration": 5,
    "start_time": "2022-12-23T12:59:54.045Z"
   },
   {
    "duration": 695,
    "start_time": "2022-12-23T12:59:54.509Z"
   },
   {
    "duration": 1419,
    "start_time": "2022-12-23T12:59:57.058Z"
   },
   {
    "duration": 1392,
    "start_time": "2022-12-23T13:00:01.401Z"
   },
   {
    "duration": 5,
    "start_time": "2022-12-23T13:00:39.974Z"
   },
   {
    "duration": 630,
    "start_time": "2022-12-23T13:00:40.313Z"
   },
   {
    "duration": 8,
    "start_time": "2022-12-23T13:00:47.500Z"
   },
   {
    "duration": 693,
    "start_time": "2022-12-23T13:00:47.817Z"
   },
   {
    "duration": 1356,
    "start_time": "2022-12-23T13:00:54.978Z"
   },
   {
    "duration": 1561,
    "start_time": "2022-12-23T13:00:57.162Z"
   },
   {
    "duration": 5,
    "start_time": "2022-12-23T13:02:01.054Z"
   },
   {
    "duration": 682,
    "start_time": "2022-12-23T13:02:01.730Z"
   },
   {
    "duration": 5,
    "start_time": "2022-12-23T13:04:04.534Z"
   },
   {
    "duration": 632,
    "start_time": "2022-12-23T13:04:05.470Z"
   },
   {
    "duration": 8,
    "start_time": "2022-12-23T13:05:01.179Z"
   },
   {
    "duration": 640,
    "start_time": "2022-12-23T13:05:01.647Z"
   },
   {
    "duration": 1411,
    "start_time": "2022-12-23T13:05:03.763Z"
   },
   {
    "duration": 1414,
    "start_time": "2022-12-23T13:05:09.742Z"
   },
   {
    "duration": 7,
    "start_time": "2022-12-23T13:08:57.562Z"
   },
   {
    "duration": 7,
    "start_time": "2022-12-23T13:09:01.012Z"
   },
   {
    "duration": 648,
    "start_time": "2022-12-23T13:09:01.358Z"
   },
   {
    "duration": 6,
    "start_time": "2022-12-23T13:09:11.007Z"
   },
   {
    "duration": 5,
    "start_time": "2022-12-23T13:09:18.883Z"
   },
   {
    "duration": 635,
    "start_time": "2022-12-23T13:09:23.647Z"
   },
   {
    "duration": 6,
    "start_time": "2022-12-23T13:09:27.847Z"
   },
   {
    "duration": 676,
    "start_time": "2022-12-23T13:09:28.294Z"
   },
   {
    "duration": 6,
    "start_time": "2022-12-23T13:09:55.671Z"
   },
   {
    "duration": 682,
    "start_time": "2022-12-23T13:09:56.599Z"
   },
   {
    "duration": 5,
    "start_time": "2022-12-23T13:10:10.244Z"
   },
   {
    "duration": 662,
    "start_time": "2022-12-23T13:10:10.705Z"
   },
   {
    "duration": 6,
    "start_time": "2022-12-23T13:10:15.128Z"
   },
   {
    "duration": 610,
    "start_time": "2022-12-23T13:10:15.336Z"
   },
   {
    "duration": 0,
    "start_time": "2022-12-23T13:10:15.947Z"
   },
   {
    "duration": 8,
    "start_time": "2022-12-23T13:10:56.264Z"
   },
   {
    "duration": 669,
    "start_time": "2022-12-23T13:10:57.339Z"
   },
   {
    "duration": 6,
    "start_time": "2022-12-23T13:11:12.635Z"
   },
   {
    "duration": 662,
    "start_time": "2022-12-23T13:11:13.905Z"
   },
   {
    "duration": 6,
    "start_time": "2022-12-23T13:11:37.123Z"
   },
   {
    "duration": 685,
    "start_time": "2022-12-23T13:11:37.516Z"
   },
   {
    "duration": 5,
    "start_time": "2022-12-23T13:11:50.416Z"
   },
   {
    "duration": 615,
    "start_time": "2022-12-23T13:11:50.869Z"
   },
   {
    "duration": 5,
    "start_time": "2022-12-23T13:12:05.492Z"
   },
   {
    "duration": 621,
    "start_time": "2022-12-23T13:12:06.076Z"
   },
   {
    "duration": 1351,
    "start_time": "2022-12-23T13:12:15.536Z"
   },
   {
    "duration": 1449,
    "start_time": "2022-12-23T13:12:16.888Z"
   },
   {
    "duration": 651,
    "start_time": "2022-12-23T13:12:28.396Z"
   },
   {
    "duration": 689,
    "start_time": "2022-12-23T13:12:29.784Z"
   },
   {
    "duration": 5,
    "start_time": "2022-12-23T13:13:35.901Z"
   },
   {
    "duration": 637,
    "start_time": "2022-12-23T13:13:36.809Z"
   },
   {
    "duration": 655,
    "start_time": "2022-12-23T13:13:38.637Z"
   },
   {
    "duration": 624,
    "start_time": "2022-12-23T13:13:39.984Z"
   },
   {
    "duration": 5,
    "start_time": "2022-12-23T13:14:15.613Z"
   },
   {
    "duration": 666,
    "start_time": "2022-12-23T13:14:16.477Z"
   },
   {
    "duration": 641,
    "start_time": "2022-12-23T13:14:19.905Z"
   },
   {
    "duration": 643,
    "start_time": "2022-12-23T13:14:22.188Z"
   },
   {
    "duration": 5,
    "start_time": "2022-12-23T13:14:40.569Z"
   },
   {
    "duration": 635,
    "start_time": "2022-12-23T13:14:42.333Z"
   },
   {
    "duration": 692,
    "start_time": "2022-12-23T13:14:43.945Z"
   },
   {
    "duration": 688,
    "start_time": "2022-12-23T13:14:45.481Z"
   },
   {
    "duration": 6,
    "start_time": "2022-12-23T13:16:22.614Z"
   },
   {
    "duration": 6,
    "start_time": "2022-12-23T13:16:24.094Z"
   },
   {
    "duration": 804,
    "start_time": "2022-12-23T13:16:24.573Z"
   },
   {
    "duration": 1329,
    "start_time": "2022-12-23T13:18:50.795Z"
   },
   {
    "duration": 363,
    "start_time": "2022-12-23T13:18:52.125Z"
   },
   {
    "duration": 18,
    "start_time": "2022-12-23T13:18:52.490Z"
   },
   {
    "duration": 11,
    "start_time": "2022-12-23T13:18:52.509Z"
   },
   {
    "duration": 45,
    "start_time": "2022-12-23T13:18:52.522Z"
   },
   {
    "duration": 52,
    "start_time": "2022-12-23T13:18:52.569Z"
   },
   {
    "duration": 14,
    "start_time": "2022-12-23T13:18:52.622Z"
   },
   {
    "duration": 8,
    "start_time": "2022-12-23T13:18:52.637Z"
   },
   {
    "duration": 35,
    "start_time": "2022-12-23T13:18:52.647Z"
   },
   {
    "duration": 57,
    "start_time": "2022-12-23T13:18:52.683Z"
   },
   {
    "duration": 14,
    "start_time": "2022-12-23T13:18:52.742Z"
   },
   {
    "duration": 9,
    "start_time": "2022-12-23T13:18:52.757Z"
   },
   {
    "duration": 55,
    "start_time": "2022-12-23T13:18:52.767Z"
   },
   {
    "duration": 42,
    "start_time": "2022-12-23T13:18:52.825Z"
   },
   {
    "duration": 8,
    "start_time": "2022-12-23T13:18:52.869Z"
   },
   {
    "duration": 45,
    "start_time": "2022-12-23T13:18:52.879Z"
   },
   {
    "duration": 4,
    "start_time": "2022-12-23T13:18:52.926Z"
   },
   {
    "duration": 75,
    "start_time": "2022-12-23T13:18:52.932Z"
   },
   {
    "duration": 105,
    "start_time": "2022-12-23T13:18:53.010Z"
   },
   {
    "duration": 189,
    "start_time": "2022-12-23T13:18:53.117Z"
   },
   {
    "duration": 6,
    "start_time": "2022-12-23T13:18:53.308Z"
   },
   {
    "duration": 6,
    "start_time": "2022-12-23T13:18:53.405Z"
   },
   {
    "duration": 6,
    "start_time": "2022-12-23T13:18:53.412Z"
   },
   {
    "duration": 7,
    "start_time": "2022-12-23T13:18:53.419Z"
   },
   {
    "duration": 6,
    "start_time": "2022-12-23T13:18:53.428Z"
   },
   {
    "duration": 5,
    "start_time": "2022-12-23T13:18:53.435Z"
   },
   {
    "duration": 16,
    "start_time": "2022-12-23T13:18:53.442Z"
   },
   {
    "duration": 6,
    "start_time": "2022-12-23T13:18:53.459Z"
   },
   {
    "duration": 7,
    "start_time": "2022-12-23T13:18:53.466Z"
   },
   {
    "duration": 14,
    "start_time": "2022-12-23T13:18:53.475Z"
   },
   {
    "duration": 18,
    "start_time": "2022-12-23T13:18:53.490Z"
   },
   {
    "duration": 782,
    "start_time": "2022-12-23T13:18:53.510Z"
   },
   {
    "duration": 805,
    "start_time": "2022-12-23T13:18:54.294Z"
   },
   {
    "duration": 746,
    "start_time": "2022-12-23T13:18:55.105Z"
   },
   {
    "duration": 6,
    "start_time": "2022-12-23T13:35:54.448Z"
   },
   {
    "duration": 635,
    "start_time": "2022-12-23T13:35:55.061Z"
   },
   {
    "duration": 635,
    "start_time": "2022-12-23T13:35:55.704Z"
   },
   {
    "duration": 626,
    "start_time": "2022-12-23T13:35:56.341Z"
   },
   {
    "duration": 1293,
    "start_time": "2022-12-23T19:20:58.953Z"
   },
   {
    "duration": 371,
    "start_time": "2022-12-23T19:21:00.248Z"
   },
   {
    "duration": 16,
    "start_time": "2022-12-23T19:21:00.621Z"
   },
   {
    "duration": 15,
    "start_time": "2022-12-23T19:21:00.638Z"
   },
   {
    "duration": 55,
    "start_time": "2022-12-23T19:21:00.655Z"
   },
   {
    "duration": 44,
    "start_time": "2022-12-23T19:21:00.712Z"
   },
   {
    "duration": 14,
    "start_time": "2022-12-23T19:21:00.757Z"
   },
   {
    "duration": 25,
    "start_time": "2022-12-23T19:21:00.772Z"
   },
   {
    "duration": 59,
    "start_time": "2022-12-23T19:21:00.799Z"
   },
   {
    "duration": 37,
    "start_time": "2022-12-23T19:21:00.860Z"
   },
   {
    "duration": 13,
    "start_time": "2022-12-23T19:21:00.898Z"
   },
   {
    "duration": 24,
    "start_time": "2022-12-23T19:21:00.912Z"
   },
   {
    "duration": 60,
    "start_time": "2022-12-23T19:21:00.937Z"
   },
   {
    "duration": 45,
    "start_time": "2022-12-23T19:21:00.999Z"
   },
   {
    "duration": 9,
    "start_time": "2022-12-23T19:21:01.046Z"
   },
   {
    "duration": 72,
    "start_time": "2022-12-23T19:21:01.057Z"
   },
   {
    "duration": 6,
    "start_time": "2022-12-23T19:21:01.131Z"
   },
   {
    "duration": 69,
    "start_time": "2022-12-23T19:21:01.140Z"
   },
   {
    "duration": 222,
    "start_time": "2022-12-23T19:21:01.212Z"
   },
   {
    "duration": 182,
    "start_time": "2022-12-23T19:21:01.436Z"
   },
   {
    "duration": 190,
    "start_time": "2022-12-23T19:21:01.620Z"
   },
   {
    "duration": 7,
    "start_time": "2022-12-23T19:21:01.812Z"
   },
   {
    "duration": 4,
    "start_time": "2022-12-23T19:21:01.821Z"
   },
   {
    "duration": 7,
    "start_time": "2022-12-23T19:21:01.826Z"
   },
   {
    "duration": 6,
    "start_time": "2022-12-23T19:21:01.834Z"
   },
   {
    "duration": 4,
    "start_time": "2022-12-23T19:21:01.841Z"
   },
   {
    "duration": 9,
    "start_time": "2022-12-23T19:21:01.846Z"
   },
   {
    "duration": 7,
    "start_time": "2022-12-23T19:21:01.856Z"
   },
   {
    "duration": 6,
    "start_time": "2022-12-23T19:21:01.864Z"
   },
   {
    "duration": 4,
    "start_time": "2022-12-23T19:21:01.905Z"
   },
   {
    "duration": 8,
    "start_time": "2022-12-23T19:21:01.911Z"
   },
   {
    "duration": 669,
    "start_time": "2022-12-23T19:21:01.921Z"
   },
   {
    "duration": 629,
    "start_time": "2022-12-23T19:21:02.591Z"
   },
   {
    "duration": 607,
    "start_time": "2022-12-23T19:21:03.221Z"
   },
   {
    "duration": 3,
    "start_time": "2022-12-23T20:21:15.506Z"
   },
   {
    "duration": 8,
    "start_time": "2022-12-23T20:21:16.806Z"
   },
   {
    "duration": 8,
    "start_time": "2022-12-23T20:21:17.752Z"
   },
   {
    "duration": 8,
    "start_time": "2022-12-23T20:21:18.814Z"
   },
   {
    "duration": 3,
    "start_time": "2022-12-23T20:38:48.925Z"
   },
   {
    "duration": 8,
    "start_time": "2022-12-23T20:38:49.751Z"
   },
   {
    "duration": 8,
    "start_time": "2022-12-23T20:38:50.417Z"
   },
   {
    "duration": 8,
    "start_time": "2022-12-23T20:38:51.147Z"
   },
   {
    "duration": 3,
    "start_time": "2022-12-23T20:39:16.055Z"
   },
   {
    "duration": 5,
    "start_time": "2022-12-23T20:39:18.250Z"
   },
   {
    "duration": 4437,
    "start_time": "2022-12-23T20:39:22.110Z"
   },
   {
    "duration": 0,
    "start_time": "2022-12-23T20:39:26.549Z"
   },
   {
    "duration": 0,
    "start_time": "2022-12-23T20:39:26.550Z"
   },
   {
    "duration": 3,
    "start_time": "2022-12-23T20:39:46.251Z"
   },
   {
    "duration": 5,
    "start_time": "2022-12-23T20:39:48.216Z"
   },
   {
    "duration": 4350,
    "start_time": "2022-12-23T20:39:50.542Z"
   },
   {
    "duration": 3,
    "start_time": "2022-12-23T20:41:52.253Z"
   },
   {
    "duration": 5,
    "start_time": "2022-12-23T20:41:53.252Z"
   },
   {
    "duration": 630,
    "start_time": "2022-12-23T20:41:54.398Z"
   },
   {
    "duration": 3,
    "start_time": "2022-12-23T20:44:33.350Z"
   },
   {
    "duration": 4,
    "start_time": "2022-12-23T20:44:34.853Z"
   },
   {
    "duration": 21,
    "start_time": "2022-12-23T20:44:36.080Z"
   },
   {
    "duration": 3,
    "start_time": "2022-12-23T20:46:13.654Z"
   },
   {
    "duration": 4,
    "start_time": "2022-12-23T20:46:14.948Z"
   },
   {
    "duration": 6,
    "start_time": "2022-12-23T20:46:27.339Z"
   },
   {
    "duration": 4179,
    "start_time": "2022-12-23T20:46:28.247Z"
   },
   {
    "duration": 4,
    "start_time": "2022-12-23T20:46:56.546Z"
   },
   {
    "duration": 4279,
    "start_time": "2022-12-23T20:46:57.113Z"
   },
   {
    "duration": 0,
    "start_time": "2022-12-23T20:47:01.394Z"
   },
   {
    "duration": 6,
    "start_time": "2022-12-23T20:47:40.842Z"
   },
   {
    "duration": 1494,
    "start_time": "2022-12-23T20:47:41.447Z"
   },
   {
    "duration": 0,
    "start_time": "2022-12-23T20:47:42.943Z"
   },
   {
    "duration": 5,
    "start_time": "2022-12-23T20:47:57.578Z"
   },
   {
    "duration": 1617,
    "start_time": "2022-12-23T20:47:58.434Z"
   },
   {
    "duration": 5,
    "start_time": "2022-12-23T20:49:08.862Z"
   },
   {
    "duration": 1268,
    "start_time": "2022-12-23T20:49:10.137Z"
   },
   {
    "duration": 5,
    "start_time": "2022-12-23T20:49:18.381Z"
   },
   {
    "duration": 1179,
    "start_time": "2022-12-23T20:49:19.354Z"
   },
   {
    "duration": 1195,
    "start_time": "2022-12-23T20:57:13.971Z"
   },
   {
    "duration": 1237,
    "start_time": "2022-12-23T20:57:15.168Z"
   },
   {
    "duration": 1190,
    "start_time": "2022-12-23T20:57:16.407Z"
   },
   {
    "duration": 6,
    "start_time": "2022-12-23T20:57:32.748Z"
   },
   {
    "duration": 1196,
    "start_time": "2022-12-23T20:57:34.865Z"
   },
   {
    "duration": 1210,
    "start_time": "2022-12-23T20:57:36.063Z"
   },
   {
    "duration": 1274,
    "start_time": "2022-12-23T20:57:37.274Z"
   },
   {
    "duration": 1273,
    "start_time": "2022-12-23T21:01:18.253Z"
   },
   {
    "duration": 349,
    "start_time": "2022-12-23T21:01:19.528Z"
   },
   {
    "duration": 15,
    "start_time": "2022-12-23T21:01:19.878Z"
   },
   {
    "duration": 19,
    "start_time": "2022-12-23T21:01:19.894Z"
   },
   {
    "duration": 33,
    "start_time": "2022-12-23T21:01:19.914Z"
   },
   {
    "duration": 58,
    "start_time": "2022-12-23T21:01:19.948Z"
   },
   {
    "duration": 14,
    "start_time": "2022-12-23T21:01:20.007Z"
   },
   {
    "duration": 7,
    "start_time": "2022-12-23T21:01:20.023Z"
   },
   {
    "duration": 45,
    "start_time": "2022-12-23T21:01:20.032Z"
   },
   {
    "duration": 50,
    "start_time": "2022-12-23T21:01:20.078Z"
   },
   {
    "duration": 13,
    "start_time": "2022-12-23T21:01:20.130Z"
   },
   {
    "duration": 8,
    "start_time": "2022-12-23T21:01:20.145Z"
   },
   {
    "duration": 51,
    "start_time": "2022-12-23T21:01:20.154Z"
   },
   {
    "duration": 40,
    "start_time": "2022-12-23T21:01:20.208Z"
   },
   {
    "duration": 9,
    "start_time": "2022-12-23T21:01:20.249Z"
   },
   {
    "duration": 47,
    "start_time": "2022-12-23T21:01:20.259Z"
   },
   {
    "duration": 5,
    "start_time": "2022-12-23T21:01:20.307Z"
   },
   {
    "duration": 92,
    "start_time": "2022-12-23T21:01:20.313Z"
   },
   {
    "duration": 107,
    "start_time": "2022-12-23T21:01:20.407Z"
   },
   {
    "duration": 194,
    "start_time": "2022-12-23T21:01:20.516Z"
   },
   {
    "duration": 97,
    "start_time": "2022-12-23T21:01:20.712Z"
   },
   {
    "duration": 102,
    "start_time": "2022-12-23T21:01:20.811Z"
   },
   {
    "duration": 13,
    "start_time": "2022-12-23T21:01:20.914Z"
   },
   {
    "duration": 6,
    "start_time": "2022-12-23T21:01:20.929Z"
   },
   {
    "duration": 6,
    "start_time": "2022-12-23T21:01:20.936Z"
   },
   {
    "duration": 4,
    "start_time": "2022-12-23T21:01:20.943Z"
   },
   {
    "duration": 13,
    "start_time": "2022-12-23T21:01:20.948Z"
   },
   {
    "duration": 8,
    "start_time": "2022-12-23T21:01:20.962Z"
   },
   {
    "duration": 8,
    "start_time": "2022-12-23T21:01:20.971Z"
   },
   {
    "duration": 4,
    "start_time": "2022-12-23T21:01:20.980Z"
   },
   {
    "duration": 1206,
    "start_time": "2022-12-23T21:01:20.985Z"
   },
   {
    "duration": 1207,
    "start_time": "2022-12-23T21:01:22.193Z"
   },
   {
    "duration": 1170,
    "start_time": "2022-12-23T21:01:23.405Z"
   }
  ],
  "kernelspec": {
   "display_name": "Python 3",
   "language": "python",
   "name": "python3"
  },
  "language_info": {
   "codemirror_mode": {
    "name": "ipython",
    "version": 3
   },
   "file_extension": ".py",
   "mimetype": "text/x-python",
   "name": "python",
   "nbconvert_exporter": "python",
   "pygments_lexer": "ipython3",
   "version": "3.7.4"
  },
  "toc": {
   "base_numbering": 1,
   "nav_menu": {},
   "number_sections": true,
   "sideBar": true,
   "skip_h1_title": true,
   "title_cell": "Table of Contents",
   "title_sidebar": "Contents",
   "toc_cell": false,
   "toc_position": {},
   "toc_section_display": true,
   "toc_window_display": false
  }
 },
 "nbformat": 4,
 "nbformat_minor": 2
}
