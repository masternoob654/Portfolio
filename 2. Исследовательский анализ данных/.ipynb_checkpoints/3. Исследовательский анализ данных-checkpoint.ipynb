{
 "cells": [
  {
   "cell_type": "markdown",
   "metadata": {},
   "source": [
    "# Исследование объявлений о продаже квартир\n",
    "\n",
    "В вашем распоряжении данные сервиса Яндекс.Недвижимость — архив объявлений о продаже квартир в Санкт-Петербурге и соседних населённых пунктов за несколько лет. Нужно научиться определять рыночную стоимость объектов недвижимости. Ваша задача — установить параметры. Это позволит построить автоматизированную систему: она отследит аномалии и мошенническую деятельность. \n",
    "\n",
    "По каждой квартире на продажу доступны два вида данных. Первые вписаны пользователем, вторые — получены автоматически на основе картографических данных. Например, расстояние до центра, аэропорта, ближайшего парка и водоёма. "
   ]
  },
  {
   "cell_type": "markdown",
   "metadata": {},
   "source": [
    "**Цель исследования** — нахождение особенностей и зависимостей, которые существуют на рынке недвижимости, с использованией исследовательского анализа данных.\n",
    "\n",
    "**Ход исследования**\n",
    "\n",
    "Данные о поведении пользователей получены из файла `real_estate_data.csv`. О качестве данных ничего не известно, поэтому перед анализом понадобится обзор данных. \n",
    " \n",
    "Таким образом, исследование пройдёт в четыре этапа:\n",
    " 1. Обзор данных.\n",
    " 2. Предобработка данных.\n",
    " 3. Добавление новых значений для анализа.\n",
    " 4. Исследовательский анализ."
   ]
  },
  {
   "cell_type": "markdown",
   "metadata": {},
   "source": [
    "## 1 Обзор данных "
   ]
  },
  {
   "cell_type": "markdown",
   "metadata": {},
   "source": [
    "### 1.1 Открытие файла"
   ]
  },
  {
   "cell_type": "code",
   "execution_count": 1,
   "metadata": {},
   "outputs": [],
   "source": [
    "import matplotlib.pyplot as plt # импортируем библиотеку для работы с графикой\n",
    "import pandas as pd # импортируем библиотеку для работы с данными\n",
    "import seaborn\n",
    "\n",
    "data = pd.read_csv('/datasets/real_estate_data.csv', sep = '\\t') # открываем файл"
   ]
  },
  {
   "cell_type": "markdown",
   "metadata": {},
   "source": [
    "### 1.2 Изучение общей информации"
   ]
  },
  {
   "cell_type": "code",
   "execution_count": 2,
   "metadata": {},
   "outputs": [
    {
     "name": "stdout",
     "output_type": "stream",
     "text": [
      "<class 'pandas.core.frame.DataFrame'>\n",
      "RangeIndex: 23699 entries, 0 to 23698\n",
      "Data columns (total 22 columns):\n",
      " #   Column                Non-Null Count  Dtype  \n",
      "---  ------                --------------  -----  \n",
      " 0   total_images          23699 non-null  int64  \n",
      " 1   last_price            23699 non-null  float64\n",
      " 2   total_area            23699 non-null  float64\n",
      " 3   first_day_exposition  23699 non-null  object \n",
      " 4   rooms                 23699 non-null  int64  \n",
      " 5   ceiling_height        14504 non-null  float64\n",
      " 6   floors_total          23613 non-null  float64\n",
      " 7   living_area           21796 non-null  float64\n",
      " 8   floor                 23699 non-null  int64  \n",
      " 9   is_apartment          2775 non-null   object \n",
      " 10  studio                23699 non-null  bool   \n",
      " 11  open_plan             23699 non-null  bool   \n",
      " 12  kitchen_area          21421 non-null  float64\n",
      " 13  balcony               12180 non-null  float64\n",
      " 14  locality_name         23650 non-null  object \n",
      " 15  airports_nearest      18157 non-null  float64\n",
      " 16  cityCenters_nearest   18180 non-null  float64\n",
      " 17  parks_around3000      18181 non-null  float64\n",
      " 18  parks_nearest         8079 non-null   float64\n",
      " 19  ponds_around3000      18181 non-null  float64\n",
      " 20  ponds_nearest         9110 non-null   float64\n",
      " 21  days_exposition       20518 non-null  float64\n",
      "dtypes: bool(2), float64(14), int64(3), object(3)\n",
      "memory usage: 3.7+ MB\n"
     ]
    }
   ],
   "source": [
    "data.info() # выводим информацию о файле"
   ]
  },
  {
   "cell_type": "code",
   "execution_count": 3,
   "metadata": {},
   "outputs": [
    {
     "data": {
      "text/html": [
       "<div>\n",
       "<style scoped>\n",
       "    .dataframe tbody tr th:only-of-type {\n",
       "        vertical-align: middle;\n",
       "    }\n",
       "\n",
       "    .dataframe tbody tr th {\n",
       "        vertical-align: top;\n",
       "    }\n",
       "\n",
       "    .dataframe thead th {\n",
       "        text-align: right;\n",
       "    }\n",
       "</style>\n",
       "<table border=\"1\" class=\"dataframe\">\n",
       "  <thead>\n",
       "    <tr style=\"text-align: right;\">\n",
       "      <th></th>\n",
       "      <th>total_images</th>\n",
       "      <th>last_price</th>\n",
       "      <th>total_area</th>\n",
       "      <th>first_day_exposition</th>\n",
       "      <th>rooms</th>\n",
       "      <th>ceiling_height</th>\n",
       "      <th>floors_total</th>\n",
       "      <th>living_area</th>\n",
       "      <th>floor</th>\n",
       "      <th>is_apartment</th>\n",
       "      <th>...</th>\n",
       "      <th>kitchen_area</th>\n",
       "      <th>balcony</th>\n",
       "      <th>locality_name</th>\n",
       "      <th>airports_nearest</th>\n",
       "      <th>cityCenters_nearest</th>\n",
       "      <th>parks_around3000</th>\n",
       "      <th>parks_nearest</th>\n",
       "      <th>ponds_around3000</th>\n",
       "      <th>ponds_nearest</th>\n",
       "      <th>days_exposition</th>\n",
       "    </tr>\n",
       "  </thead>\n",
       "  <tbody>\n",
       "    <tr>\n",
       "      <th>0</th>\n",
       "      <td>20</td>\n",
       "      <td>13000000.0</td>\n",
       "      <td>108.0</td>\n",
       "      <td>2019-03-07T00:00:00</td>\n",
       "      <td>3</td>\n",
       "      <td>2.70</td>\n",
       "      <td>16.0</td>\n",
       "      <td>51.0</td>\n",
       "      <td>8</td>\n",
       "      <td>NaN</td>\n",
       "      <td>...</td>\n",
       "      <td>25.0</td>\n",
       "      <td>NaN</td>\n",
       "      <td>Санкт-Петербург</td>\n",
       "      <td>18863.0</td>\n",
       "      <td>16028.0</td>\n",
       "      <td>1.0</td>\n",
       "      <td>482.0</td>\n",
       "      <td>2.0</td>\n",
       "      <td>755.0</td>\n",
       "      <td>NaN</td>\n",
       "    </tr>\n",
       "    <tr>\n",
       "      <th>1</th>\n",
       "      <td>7</td>\n",
       "      <td>3350000.0</td>\n",
       "      <td>40.4</td>\n",
       "      <td>2018-12-04T00:00:00</td>\n",
       "      <td>1</td>\n",
       "      <td>NaN</td>\n",
       "      <td>11.0</td>\n",
       "      <td>18.6</td>\n",
       "      <td>1</td>\n",
       "      <td>NaN</td>\n",
       "      <td>...</td>\n",
       "      <td>11.0</td>\n",
       "      <td>2.0</td>\n",
       "      <td>посёлок Шушары</td>\n",
       "      <td>12817.0</td>\n",
       "      <td>18603.0</td>\n",
       "      <td>0.0</td>\n",
       "      <td>NaN</td>\n",
       "      <td>0.0</td>\n",
       "      <td>NaN</td>\n",
       "      <td>81.0</td>\n",
       "    </tr>\n",
       "    <tr>\n",
       "      <th>2</th>\n",
       "      <td>10</td>\n",
       "      <td>5196000.0</td>\n",
       "      <td>56.0</td>\n",
       "      <td>2015-08-20T00:00:00</td>\n",
       "      <td>2</td>\n",
       "      <td>NaN</td>\n",
       "      <td>5.0</td>\n",
       "      <td>34.3</td>\n",
       "      <td>4</td>\n",
       "      <td>NaN</td>\n",
       "      <td>...</td>\n",
       "      <td>8.3</td>\n",
       "      <td>0.0</td>\n",
       "      <td>Санкт-Петербург</td>\n",
       "      <td>21741.0</td>\n",
       "      <td>13933.0</td>\n",
       "      <td>1.0</td>\n",
       "      <td>90.0</td>\n",
       "      <td>2.0</td>\n",
       "      <td>574.0</td>\n",
       "      <td>558.0</td>\n",
       "    </tr>\n",
       "    <tr>\n",
       "      <th>3</th>\n",
       "      <td>0</td>\n",
       "      <td>64900000.0</td>\n",
       "      <td>159.0</td>\n",
       "      <td>2015-07-24T00:00:00</td>\n",
       "      <td>3</td>\n",
       "      <td>NaN</td>\n",
       "      <td>14.0</td>\n",
       "      <td>NaN</td>\n",
       "      <td>9</td>\n",
       "      <td>NaN</td>\n",
       "      <td>...</td>\n",
       "      <td>NaN</td>\n",
       "      <td>0.0</td>\n",
       "      <td>Санкт-Петербург</td>\n",
       "      <td>28098.0</td>\n",
       "      <td>6800.0</td>\n",
       "      <td>2.0</td>\n",
       "      <td>84.0</td>\n",
       "      <td>3.0</td>\n",
       "      <td>234.0</td>\n",
       "      <td>424.0</td>\n",
       "    </tr>\n",
       "    <tr>\n",
       "      <th>4</th>\n",
       "      <td>2</td>\n",
       "      <td>10000000.0</td>\n",
       "      <td>100.0</td>\n",
       "      <td>2018-06-19T00:00:00</td>\n",
       "      <td>2</td>\n",
       "      <td>3.03</td>\n",
       "      <td>14.0</td>\n",
       "      <td>32.0</td>\n",
       "      <td>13</td>\n",
       "      <td>NaN</td>\n",
       "      <td>...</td>\n",
       "      <td>41.0</td>\n",
       "      <td>NaN</td>\n",
       "      <td>Санкт-Петербург</td>\n",
       "      <td>31856.0</td>\n",
       "      <td>8098.0</td>\n",
       "      <td>2.0</td>\n",
       "      <td>112.0</td>\n",
       "      <td>1.0</td>\n",
       "      <td>48.0</td>\n",
       "      <td>121.0</td>\n",
       "    </tr>\n",
       "  </tbody>\n",
       "</table>\n",
       "<p>5 rows × 22 columns</p>\n",
       "</div>"
      ],
      "text/plain": [
       "   total_images  last_price  total_area first_day_exposition  rooms  \\\n",
       "0            20  13000000.0       108.0  2019-03-07T00:00:00      3   \n",
       "1             7   3350000.0        40.4  2018-12-04T00:00:00      1   \n",
       "2            10   5196000.0        56.0  2015-08-20T00:00:00      2   \n",
       "3             0  64900000.0       159.0  2015-07-24T00:00:00      3   \n",
       "4             2  10000000.0       100.0  2018-06-19T00:00:00      2   \n",
       "\n",
       "   ceiling_height  floors_total  living_area  floor is_apartment  ...  \\\n",
       "0            2.70          16.0         51.0      8          NaN  ...   \n",
       "1             NaN          11.0         18.6      1          NaN  ...   \n",
       "2             NaN           5.0         34.3      4          NaN  ...   \n",
       "3             NaN          14.0          NaN      9          NaN  ...   \n",
       "4            3.03          14.0         32.0     13          NaN  ...   \n",
       "\n",
       "   kitchen_area  balcony    locality_name  airports_nearest  \\\n",
       "0          25.0      NaN  Санкт-Петербург           18863.0   \n",
       "1          11.0      2.0   посёлок Шушары           12817.0   \n",
       "2           8.3      0.0  Санкт-Петербург           21741.0   \n",
       "3           NaN      0.0  Санкт-Петербург           28098.0   \n",
       "4          41.0      NaN  Санкт-Петербург           31856.0   \n",
       "\n",
       "  cityCenters_nearest  parks_around3000  parks_nearest  ponds_around3000  \\\n",
       "0             16028.0               1.0          482.0               2.0   \n",
       "1             18603.0               0.0            NaN               0.0   \n",
       "2             13933.0               1.0           90.0               2.0   \n",
       "3              6800.0               2.0           84.0               3.0   \n",
       "4              8098.0               2.0          112.0               1.0   \n",
       "\n",
       "   ponds_nearest  days_exposition  \n",
       "0          755.0              NaN  \n",
       "1            NaN             81.0  \n",
       "2          574.0            558.0  \n",
       "3          234.0            424.0  \n",
       "4           48.0            121.0  \n",
       "\n",
       "[5 rows x 22 columns]"
      ]
     },
     "execution_count": 3,
     "metadata": {},
     "output_type": "execute_result"
    }
   ],
   "source": [
    "data.head() # выводим первые пять строчек таблицы"
   ]
  },
  {
   "cell_type": "code",
   "execution_count": 4,
   "metadata": {
    "scrolled": false
   },
   "outputs": [
    {
     "data": {
      "image/png": "[encoded data removed]",
      "text/plain": [
       "<Figure size 1080x1440 with 20 Axes>"
      ]
     },
     "metadata": {
      "needs_background": "light"
     },
     "output_type": "display_data"
    }
   ],
   "source": [
    "data.hist(figsize=(15, 20)); # строим общую гистограмму для всех столбцов датасета"
   ]
  },
  {
   "cell_type": "markdown",
   "metadata": {},
   "source": [
    "Для гистограмм, построенных для столбцов со значениями в виде целых чисел и чисел с плавающей точкой, соблюдается распределение Пуассона."
   ]
  },
  {
   "cell_type": "markdown",
   "metadata": {},
   "source": [
    "## 2 Предобработка данных"
   ]
  },
  {
   "cell_type": "markdown",
   "metadata": {},
   "source": [
    "### 2.1 Поиск пропущенных значений"
   ]
  },
  {
   "cell_type": "markdown",
   "metadata": {},
   "source": [
    "Для изучения пропущенных значений для всей таблицы пройдёмся по списку названий столбцов комбинацией методов `isna()` и `sum()`"
   ]
  },
  {
   "cell_type": "code",
   "execution_count": 5,
   "metadata": {
    "scrolled": true
   },
   "outputs": [
    {
     "data": {
      "text/plain": [
       "total_images                0\n",
       "last_price                  0\n",
       "total_area                  0\n",
       "first_day_exposition        0\n",
       "rooms                       0\n",
       "ceiling_height           9195\n",
       "floors_total               86\n",
       "living_area              1903\n",
       "floor                       0\n",
       "is_apartment            20924\n",
       "studio                      0\n",
       "open_plan                   0\n",
       "kitchen_area             2278\n",
       "balcony                 11519\n",
       "locality_name              49\n",
       "airports_nearest         5542\n",
       "cityCenters_nearest      5519\n",
       "parks_around3000         5518\n",
       "parks_nearest           15620\n",
       "ponds_around3000         5518\n",
       "ponds_nearest           14589\n",
       "days_exposition          3181\n",
       "dtype: int64"
      ]
     },
     "execution_count": 5,
     "metadata": {},
     "output_type": "execute_result"
    }
   ],
   "source": [
    "data.isna().sum()"
   ]
  },
  {
   "cell_type": "markdown",
   "metadata": {},
   "source": [
    "Видим, что есть столбцы с пропусками. Начнём с тех столбцов, в которых пропуски можно заменить медианными значениями."
   ]
  },
  {
   "cell_type": "code",
   "execution_count": 6,
   "metadata": {},
   "outputs": [],
   "source": [
    "columns_to_fill_with_median = ['ceiling_height', 'total_area', 'floors_total', 'living_area', 'kitchen_area'] \n",
    "# создаём список с нужными столбцами\n",
    "\n",
    "for column in columns_to_fill_with_median:\n",
    "    data[column] = data[column].fillna(data[column].median()) # заполняем медианой"
   ]
  },
  {
   "cell_type": "markdown",
   "metadata": {},
   "source": [
    "Дальше разберёмся со столбцом `balcony`. Если пользователь, разместивший объявление, ничего не указал, значит, будем считать, что у квартиры, указанной в объявлении, нет балкона. Просто пользователь, скорее всего, забыл указать что-то в этом параметре."
   ]
  },
  {
   "cell_type": "code",
   "execution_count": 7,
   "metadata": {},
   "outputs": [],
   "source": [
    "data['balcony'] = data['balcony'].fillna(0)"
   ]
  },
  {
   "cell_type": "code",
   "execution_count": 8,
   "metadata": {},
   "outputs": [
    {
     "data": {
      "text/plain": [
       "total_images                0\n",
       "last_price                  0\n",
       "total_area                  0\n",
       "first_day_exposition        0\n",
       "rooms                       0\n",
       "ceiling_height              0\n",
       "floors_total                0\n",
       "living_area                 0\n",
       "floor                       0\n",
       "is_apartment            20924\n",
       "studio                      0\n",
       "open_plan                   0\n",
       "kitchen_area                0\n",
       "balcony                     0\n",
       "locality_name              49\n",
       "airports_nearest         5542\n",
       "cityCenters_nearest      5519\n",
       "parks_around3000         5518\n",
       "parks_nearest           15620\n",
       "ponds_around3000         5518\n",
       "ponds_nearest           14589\n",
       "days_exposition          3181\n",
       "dtype: int64"
      ]
     },
     "execution_count": 8,
     "metadata": {},
     "output_type": "execute_result"
    }
   ],
   "source": [
    "data.isna().sum()"
   ]
  },
  {
   "cell_type": "markdown",
   "metadata": {},
   "source": [
    "Пропущенные значения устранены, переходим к столбцу `locality_name`. Это название населённого пункта, поэтому если значение в этом столбце пустое, то его никак не получится заполнить, но и оставлять их значения пустыми нежелательно. Следовательно, строки, в которых этот показатель пуст, нужно удалить."
   ]
  },
  {
   "cell_type": "code",
   "execution_count": 9,
   "metadata": {
    "scrolled": true
   },
   "outputs": [
    {
     "name": "stdout",
     "output_type": "stream",
     "text": [
      "<class 'pandas.core.frame.DataFrame'>\n",
      "Int64Index: 23650 entries, 0 to 23698\n",
      "Data columns (total 22 columns):\n",
      " #   Column                Non-Null Count  Dtype  \n",
      "---  ------                --------------  -----  \n",
      " 0   total_images          23650 non-null  int64  \n",
      " 1   last_price            23650 non-null  float64\n",
      " 2   total_area            23650 non-null  float64\n",
      " 3   first_day_exposition  23650 non-null  object \n",
      " 4   rooms                 23650 non-null  int64  \n",
      " 5   ceiling_height        23650 non-null  float64\n",
      " 6   floors_total          23650 non-null  float64\n",
      " 7   living_area           23650 non-null  float64\n",
      " 8   floor                 23650 non-null  int64  \n",
      " 9   is_apartment          2760 non-null   object \n",
      " 10  studio                23650 non-null  bool   \n",
      " 11  open_plan             23650 non-null  bool   \n",
      " 12  kitchen_area          23650 non-null  float64\n",
      " 13  balcony               23650 non-null  float64\n",
      " 14  locality_name         23650 non-null  object \n",
      " 15  airports_nearest      18116 non-null  float64\n",
      " 16  cityCenters_nearest   18139 non-null  float64\n",
      " 17  parks_around3000      18140 non-null  float64\n",
      " 18  parks_nearest         8064 non-null   float64\n",
      " 19  ponds_around3000      18140 non-null  float64\n",
      " 20  ponds_nearest         9085 non-null   float64\n",
      " 21  days_exposition       20470 non-null  float64\n",
      "dtypes: bool(2), float64(14), int64(3), object(3)\n",
      "memory usage: 3.8+ MB\n"
     ]
    }
   ],
   "source": [
    "data = data.dropna(subset = ['locality_name']) # удаляем строки\n",
    "data.info() # проверяем, правильно ли уменьшилось количество строк после удаления"
   ]
  },
  {
   "cell_type": "markdown",
   "metadata": {},
   "source": [
    "Как видно, удалилось ровно 49 строк, в которых не был указан населённый пункт. \n",
    "\n",
    "Теперь у нас остались следующие столбцы с пропусками: `parks_around3000`, `parks_nearest`, `ponds_around3000`, `ponds_nearest`, `cityCenters_nearest`, `airports_nearest` и`is_apartment`.\n",
    "\n",
    "Пропуски в `parks_around3000` и `ponds_around3000` можно заменить на нули. Вероятнее всего, эти параметры были ошибочно не заполнены, так как поблизости нет парков или прудов."
   ]
  },
  {
   "cell_type": "code",
   "execution_count": 10,
   "metadata": {},
   "outputs": [],
   "source": [
    "data['parks_around3000'] = data['parks_around3000'].fillna(0) # заполняем значения в столбце для парков\n",
    "data['ponds_around3000'] = data['ponds_around3000'].fillna(0) # заполняем значения в столбце для прудов"
   ]
  },
  {
   "cell_type": "markdown",
   "metadata": {},
   "source": [
    "Столбцы `parks_nearest` и `ponds_nearest` следует оставить нетронутыми, так как расстояние от недвижимости до этих объектов очень сильно зависит от точного местоположения этой самой недвижимости. \n",
    "\n",
    "Столбцы `days_exposition`, `airports_nearest` и `cityCenters_nearest` также оставляем, неясно, что с ними делать.\n",
    "\n",
    "Столбец `is_apartment` тоже оставим, так как понятие апартаментов очень размытое."
   ]
  },
  {
   "cell_type": "markdown",
   "metadata": {},
   "source": [
    "### 2.2 Изменение типов данных"
   ]
  },
  {
   "cell_type": "markdown",
   "metadata": {},
   "source": [
    "В некоторых столбцах в нашей таблице можно поменять типы с вещественного на целочисленный. \n",
    "\n",
    "Так, например, такая замена логична для столбцов `floors_total`, `balcony`, `parks_around3000` и `ponds_around3000`, потому что эти столбцы просто-напросто не могут быть вещественными. "
   ]
  },
  {
   "cell_type": "code",
   "execution_count": 11,
   "metadata": {},
   "outputs": [],
   "source": [
    "columns_to_change_type_of = ['floors_total', 'balcony', 'parks_around3000', 'ponds_around3000', 'last_price']\n",
    "# создаём список\n",
    "\n",
    "for column in columns_to_change_type_of:\n",
    "    data[column] = data[column].astype(int) # меняем тип"
   ]
  },
  {
   "cell_type": "code",
   "execution_count": 12,
   "metadata": {
    "scrolled": false
   },
   "outputs": [
    {
     "name": "stdout",
     "output_type": "stream",
     "text": [
      "<class 'pandas.core.frame.DataFrame'>\n",
      "Int64Index: 23650 entries, 0 to 23698\n",
      "Data columns (total 22 columns):\n",
      " #   Column                Non-Null Count  Dtype  \n",
      "---  ------                --------------  -----  \n",
      " 0   total_images          23650 non-null  int64  \n",
      " 1   last_price            23650 non-null  int64  \n",
      " 2   total_area            23650 non-null  float64\n",
      " 3   first_day_exposition  23650 non-null  object \n",
      " 4   rooms                 23650 non-null  int64  \n",
      " 5   ceiling_height        23650 non-null  float64\n",
      " 6   floors_total          23650 non-null  int64  \n",
      " 7   living_area           23650 non-null  float64\n",
      " 8   floor                 23650 non-null  int64  \n",
      " 9   is_apartment          2760 non-null   object \n",
      " 10  studio                23650 non-null  bool   \n",
      " 11  open_plan             23650 non-null  bool   \n",
      " 12  kitchen_area          23650 non-null  float64\n",
      " 13  balcony               23650 non-null  int64  \n",
      " 14  locality_name         23650 non-null  object \n",
      " 15  airports_nearest      18116 non-null  float64\n",
      " 16  cityCenters_nearest   18139 non-null  float64\n",
      " 17  parks_around3000      23650 non-null  int64  \n",
      " 18  parks_nearest         8064 non-null   float64\n",
      " 19  ponds_around3000      23650 non-null  int64  \n",
      " 20  ponds_nearest         9085 non-null   float64\n",
      " 21  days_exposition       20470 non-null  float64\n",
      "dtypes: bool(2), float64(9), int64(8), object(3)\n",
      "memory usage: 3.8+ MB\n"
     ]
    }
   ],
   "source": [
    "data.info() # проверяем смену типа"
   ]
  },
  {
   "cell_type": "markdown",
   "metadata": {},
   "source": [
    "Также заменим тип `first_day_exposition` на тип даты."
   ]
  },
  {
   "cell_type": "code",
   "execution_count": 13,
   "metadata": {},
   "outputs": [],
   "source": [
    "data['first_day_exposition'] = pd.to_datetime(data['first_day_exposition'], format='%Y-%m-%dT%H:%M:%S')"
   ]
  },
  {
   "cell_type": "markdown",
   "metadata": {},
   "source": [
    "Типы данных были изменены, можем перейти к следующему шагу предобработки данных."
   ]
  },
  {
   "cell_type": "markdown",
   "metadata": {},
   "source": [
    "### 2.3 Устранение неявных дубликатов"
   ]
  },
  {
   "cell_type": "markdown",
   "metadata": {},
   "source": [
    "Рассмотрим значения в столбце `locality_name`"
   ]
  },
  {
   "cell_type": "code",
   "execution_count": 14,
   "metadata": {},
   "outputs": [
    {
     "data": {
      "text/plain": [
       "Санкт-Петербург                  15721\n",
       "посёлок Мурино                     522\n",
       "посёлок Шушары                     440\n",
       "Всеволожск                         398\n",
       "Пушкин                             369\n",
       "                                 ...  \n",
       "посёлок Сумино                       1\n",
       "деревня Кисельня                     1\n",
       "садовое товарищество Садко           1\n",
       "деревня Пчева                        1\n",
       "поселок Пансионат Зелёный Бор        1\n",
       "Name: locality_name, Length: 364, dtype: int64"
      ]
     },
     "execution_count": 14,
     "metadata": {},
     "output_type": "execute_result"
    }
   ],
   "source": [
    "data['locality_name'].value_counts()"
   ]
  },
  {
   "cell_type": "code",
   "execution_count": 15,
   "metadata": {
    "scrolled": true
   },
   "outputs": [
    {
     "data": {
      "text/plain": [
       "array(['Бокситогорск', 'Волосово', 'Волхов', 'Всеволожск', 'Выборг',\n",
       "       'Высоцк', 'Гатчина', 'Зеленогорск', 'Ивангород', 'Каменногорск',\n",
       "       'Кингисепп', 'Кириши', 'Кировск', 'Колпино', 'Коммунар',\n",
       "       'Красное Село', 'Кронштадт', 'Кудрово', 'Лодейное Поле',\n",
       "       'Ломоносов', 'Луга', 'Любань', 'Мурино', 'Никольское',\n",
       "       'Новая Ладога', 'Отрадное', 'Павловск', 'Петергоф', 'Пикалёво',\n",
       "       'Подпорожье', 'Приморск', 'Приозерск', 'Пушкин', 'Санкт-Петербург',\n",
       "       'Светогорск', 'Сертолово', 'Сестрорецк', 'Сланцы', 'Сосновый Бор',\n",
       "       'Сясьстрой', 'Тихвин', 'Тосно', 'Шлиссельбург',\n",
       "       'городской поселок Большая Ижора', 'городской поселок Янино-1',\n",
       "       'городской посёлок Будогощь', 'городской посёлок Виллози',\n",
       "       'городской посёлок Лесогорский', 'городской посёлок Мга',\n",
       "       'городской посёлок Назия', 'городской посёлок Новоселье',\n",
       "       'городской посёлок Павлово', 'городской посёлок Рощино',\n",
       "       'городской посёлок Свирьстрой', 'городской посёлок Советский',\n",
       "       'городской посёлок Фёдоровское', 'городской посёлок Янино-1',\n",
       "       'деревня Агалатово', 'деревня Аро', 'деревня Батово',\n",
       "       'деревня Бегуницы', 'деревня Белогорка', 'деревня Большая Вруда',\n",
       "       'деревня Большая Пустомержа', 'деревня Большие Колпаны',\n",
       "       'деревня Большое Рейзино', 'деревня Большой Сабск', 'деревня Бор',\n",
       "       'деревня Борисова Грива', 'деревня Ваганово', 'деревня Вартемяги',\n",
       "       'деревня Вахнова Кара', 'деревня Выскатка', 'деревня Гарболово',\n",
       "       'деревня Глинка', 'деревня Горбунки', 'деревня Гостилицы',\n",
       "       'деревня Заклинье', 'деревня Заневка', 'деревня Зимитицы',\n",
       "       'деревня Извара', 'деревня Иссад', 'деревня Калитино',\n",
       "       'деревня Кальтино', 'деревня Камышовка', 'деревня Каськово',\n",
       "       'деревня Келози', 'деревня Кипень', 'деревня Кисельня',\n",
       "       'деревня Колтуши', 'деревня Коркино', 'деревня Котлы',\n",
       "       'деревня Кривко', 'деревня Кудрово', 'деревня Кузьмолово',\n",
       "       'деревня Курковицы', 'деревня Куровицы', 'деревня Куттузи',\n",
       "       'деревня Лаврики', 'деревня Лаголово', 'деревня Лампово',\n",
       "       'деревня Лесколово', 'деревня Лопухинка', 'деревня Лупполово',\n",
       "       'деревня Малая Романовка', 'деревня Малое Верево',\n",
       "       'деревня Малое Карлино', 'деревня Малые Колпаны',\n",
       "       'деревня Мануйлово', 'деревня Меньково', 'деревня Мины',\n",
       "       'деревня Мистолово', 'деревня Ненимяки', 'деревня Нижние Осельки',\n",
       "       'деревня Нижняя', 'деревня Низино', 'деревня Новое Девяткино',\n",
       "       'деревня Новолисино', 'деревня Нурма', 'деревня Оржицы',\n",
       "       'деревня Парицы', 'деревня Пельгора', 'деревня Пеники',\n",
       "       'деревня Пижма', 'деревня Пикколово', 'деревня Пудомяги',\n",
       "       'деревня Пустынка', 'деревня Пчева', 'деревня Рабитицы',\n",
       "       'деревня Разбегаево', 'деревня Раздолье', 'деревня Разметелево',\n",
       "       'деревня Рапполово', 'деревня Реброво', 'деревня Русско',\n",
       "       'деревня Сижно', 'деревня Снегирёвка', 'деревня Старая',\n",
       "       'деревня Старая Пустошь', 'деревня Старое Хинколово',\n",
       "       'деревня Старополье', 'деревня Старосиверская',\n",
       "       'деревня Старые Бегуницы', 'деревня Суоранда',\n",
       "       'деревня Сяськелево', 'деревня Тарасово', 'деревня Терпилицы',\n",
       "       'деревня Тихковицы', 'деревня Тойворово', 'деревня Торосово',\n",
       "       'деревня Торошковичи', 'деревня Трубников Бор',\n",
       "       'деревня Фалилеево', 'деревня Фёдоровское', 'деревня Хапо-Ое',\n",
       "       'деревня Хязельки', 'деревня Чудской Бор', 'деревня Шпаньково',\n",
       "       'деревня Щеглово', 'деревня Юкки', 'деревня Ялгино',\n",
       "       'деревня Яльгелево', 'деревня Ям-Тесово',\n",
       "       'коттеджный поселок Кивеннапа Север', 'коттеджный поселок Счастье',\n",
       "       'коттеджный посёлок Лесное', 'поселок Аннино', 'поселок Барышево',\n",
       "       'поселок Бугры', 'поселок Возрождение', 'поселок Войсковицы',\n",
       "       'поселок Володарское', 'поселок Гаврилово', 'поселок Гарболово',\n",
       "       'поселок Гладкое', 'поселок Глажево', 'поселок Глебычево',\n",
       "       'поселок Гончарово', 'поселок Громово', 'поселок Дружноселье',\n",
       "       'поселок Елизаветино', 'поселок Жилгородок', 'поселок Жилпосёлок',\n",
       "       'поселок Житково', 'поселок Заводской', 'поселок Запорожское',\n",
       "       'поселок Зимитицы', 'поселок Ильичёво', 'поселок Калитино',\n",
       "       'поселок Каложицы', 'поселок Кингисеппский', 'поселок Кирпичное',\n",
       "       'поселок Кобралово', 'поселок Кобринское', 'поселок Коммунары',\n",
       "       'поселок Коробицыно', 'поселок Котельский',\n",
       "       'поселок Красная Долина', 'поселок Красносельское',\n",
       "       'поселок Лесное', 'поселок Лисий Нос', 'поселок Лукаши',\n",
       "       'поселок Любань', 'поселок Мельниково', 'поселок Мичуринское',\n",
       "       'поселок Молодцово', 'поселок Мурино', 'поселок Новый Свет',\n",
       "       'поселок Новый Учхоз', 'поселок Оредеж',\n",
       "       'поселок Пансионат Зелёный Бор', 'поселок Первомайское',\n",
       "       'поселок Перово', 'поселок Петровское', 'поселок Победа',\n",
       "       'поселок Поляны', 'поселок Почап', 'поселок Починок',\n",
       "       'поселок Пушное', 'поселок Пчевжа', 'поселок Рабитицы',\n",
       "       'поселок Романовка', 'поселок Ромашки', 'поселок Рябово',\n",
       "       'поселок Севастьяново', 'поселок Селезнёво', 'поселок Сельцо',\n",
       "       'поселок Семиозерье', 'поселок Семрино', 'поселок Серебрянский',\n",
       "       'поселок Совхозный', 'поселок Старая Малукса',\n",
       "       'поселок Стеклянный', 'поселок Сумино', 'поселок Суходолье',\n",
       "       'поселок Тельмана', 'поселок Терволово', 'поселок Торковичи',\n",
       "       'поселок Тёсово-4', 'поселок Углово', 'поселок Усть-Луга',\n",
       "       'поселок Ушаки', 'поселок Цвелодубово', 'поселок Цвылёво',\n",
       "       'поселок городского типа Большая Ижора',\n",
       "       'поселок городского типа Вырица',\n",
       "       'поселок городского типа Дружная Горка',\n",
       "       'поселок городского типа Дубровка',\n",
       "       'поселок городского типа Ефимовский',\n",
       "       'поселок городского типа Кондратьево',\n",
       "       'поселок городского типа Красный Бор',\n",
       "       'поселок городского типа Кузьмоловский',\n",
       "       'поселок городского типа Лебяжье',\n",
       "       'поселок городского типа Лесогорский',\n",
       "       'поселок городского типа Назия',\n",
       "       'поселок городского типа Никольский',\n",
       "       'поселок городского типа Приладожский',\n",
       "       'поселок городского типа Рахья', 'поселок городского типа Рощино',\n",
       "       'поселок городского типа Рябово',\n",
       "       'поселок городского типа Синявино',\n",
       "       'поселок городского типа Советский',\n",
       "       'поселок городского типа Токсово',\n",
       "       'поселок городского типа Форносово',\n",
       "       'поселок городского типа имени Свердлова',\n",
       "       'поселок станции Вещево', 'поселок станции Корнево',\n",
       "       'поселок станции Лужайка', 'поселок станции Приветнинское',\n",
       "       'посёлок Александровская', 'посёлок Алексеевка', 'посёлок Аннино',\n",
       "       'посёлок Белоостров', 'посёлок Бугры', 'посёлок Возрождение',\n",
       "       'посёлок Войскорово', 'посёлок Высокоключевой',\n",
       "       'посёлок Гаврилово', 'посёлок Дзержинского', 'посёлок Жилгородок',\n",
       "       'посёлок Ильичёво', 'посёлок Кикерино', 'посёлок Кобралово',\n",
       "       'посёлок Коробицыно', 'посёлок Левашово', 'посёлок Ленинское',\n",
       "       'посёлок Лисий Нос', 'посёлок Мельниково', 'посёлок Металлострой',\n",
       "       'посёлок Мичуринское', 'посёлок Молодёжное', 'посёлок Мурино',\n",
       "       'посёлок Мыза-Ивановка', 'посёлок Новогорелово',\n",
       "       'посёлок Новый Свет', 'посёлок Пансионат Зелёный Бор',\n",
       "       'посёлок Парголово', 'посёлок Перово', 'посёлок Песочный',\n",
       "       'посёлок Петро-Славянка', 'посёлок Петровское',\n",
       "       'посёлок Платформа 69-й километр', 'посёлок Плодовое',\n",
       "       'посёлок Плоское', 'посёлок Победа', 'посёлок Поляны',\n",
       "       'посёлок Понтонный', 'посёлок Пригородный', 'посёлок Пудость',\n",
       "       'посёлок Репино', 'посёлок Ропша', 'посёлок Сапёрное',\n",
       "       'посёлок Сапёрный', 'посёлок Сосново', 'посёлок Старая Малукса',\n",
       "       'посёлок Стеклянный', 'посёлок Стрельна', 'посёлок Суйда',\n",
       "       'посёлок Сумино', 'посёлок Тельмана', 'посёлок Терволово',\n",
       "       'посёлок Торфяное', 'посёлок Усть-Ижора', 'посёлок Усть-Луга',\n",
       "       'посёлок Форт Красная Горка', 'посёлок Шугозеро', 'посёлок Шушары',\n",
       "       'посёлок Щеглово', 'посёлок городского типа Важины',\n",
       "       'посёлок городского типа Вознесенье',\n",
       "       'посёлок городского типа Вырица',\n",
       "       'посёлок городского типа Красный Бор',\n",
       "       'посёлок городского типа Кузнечное',\n",
       "       'посёлок городского типа Кузьмоловский',\n",
       "       'посёлок городского типа Лебяжье', 'посёлок городского типа Мга',\n",
       "       'посёлок городского типа Павлово',\n",
       "       'посёлок городского типа Рощино', 'посёлок городского типа Рябово',\n",
       "       'посёлок городского типа Сиверский',\n",
       "       'посёлок городского типа Тайцы', 'посёлок городского типа Токсово',\n",
       "       'посёлок городского типа Ульяновка',\n",
       "       'посёлок городского типа Форносово',\n",
       "       'посёлок городского типа имени Морозова',\n",
       "       'посёлок городского типа имени Свердлова',\n",
       "       'посёлок при железнодорожной станции Вещево',\n",
       "       'посёлок при железнодорожной станции Приветнинское',\n",
       "       'посёлок станции Громово', 'посёлок станции Свирь',\n",
       "       'садоводческое некоммерческое товарищество Лесная Поляна',\n",
       "       'садовое товарищество Новая Ропша',\n",
       "       'садовое товарищество Приладожский', 'садовое товарищество Рахья',\n",
       "       'садовое товарищество Садко', 'село Копорье', 'село Никольское',\n",
       "       'село Павлово', 'село Паша', 'село Путилово', 'село Рождествено',\n",
       "       'село Русско-Высоцкое', 'село Старая Ладога', 'село Шум'],\n",
       "      dtype=object)"
      ]
     },
     "execution_count": 15,
     "metadata": {},
     "output_type": "execute_result"
    }
   ],
   "source": [
    "data['locality_name'].sort_values().unique()"
   ]
  },
  {
   "cell_type": "markdown",
   "metadata": {},
   "source": [
    "Из этого списка видно, что в этом столбце возникли дубликаты вследствии разницы в написании букв 'е' и 'ё' в слове 'посёлок'.\n",
    "Унифицируем написание этого слова, заменив все 'е' на 'ё'"
   ]
  },
  {
   "cell_type": "code",
   "execution_count": 16,
   "metadata": {
    "scrolled": true
   },
   "outputs": [
    {
     "data": {
      "text/plain": [
       "Санкт-Петербург           15721\n",
       "посёлок Мурино              556\n",
       "посёлок Шушары              440\n",
       "Всеволожск                  398\n",
       "Пушкин                      369\n",
       "                          ...  \n",
       "посёлок Плоское               1\n",
       "деревня Зимитицы              1\n",
       "посёлок Петро-Славянка        1\n",
       "деревня Кисельня              1\n",
       "посёлок Кирпичное             1\n",
       "Name: locality_name, Length: 330, dtype: int64"
      ]
     },
     "execution_count": 16,
     "metadata": {},
     "output_type": "execute_result"
    }
   ],
   "source": [
    "data['locality_name'] = data['locality_name'].replace(\"поселок\", \"посёлок\", regex = True)\n",
    "data['locality_name'].value_counts()"
   ]
  },
  {
   "cell_type": "code",
   "execution_count": 17,
   "metadata": {},
   "outputs": [
    {
     "data": {
      "text/plain": [
       "array(['Бокситогорск', 'Волосово', 'Волхов', 'Всеволожск', 'Выборг',\n",
       "       'Высоцк', 'Гатчина', 'Зеленогорск', 'Ивангород', 'Каменногорск',\n",
       "       'Кингисепп', 'Кириши', 'Кировск', 'Колпино', 'Коммунар',\n",
       "       'Красное Село', 'Кронштадт', 'Кудрово', 'Лодейное Поле',\n",
       "       'Ломоносов', 'Луга', 'Любань', 'Мурино', 'Никольское',\n",
       "       'Новая Ладога', 'Отрадное', 'Павловск', 'Петергоф', 'Пикалёво',\n",
       "       'Подпорожье', 'Приморск', 'Приозерск', 'Пушкин', 'Санкт-Петербург',\n",
       "       'Светогорск', 'Сертолово', 'Сестрорецк', 'Сланцы', 'Сосновый Бор',\n",
       "       'Сясьстрой', 'Тихвин', 'Тосно', 'Шлиссельбург',\n",
       "       'городской посёлок Большая Ижора', 'городской посёлок Будогощь',\n",
       "       'городской посёлок Виллози', 'городской посёлок Лесогорский',\n",
       "       'городской посёлок Мга', 'городской посёлок Назия',\n",
       "       'городской посёлок Новоселье', 'городской посёлок Павлово',\n",
       "       'городской посёлок Рощино', 'городской посёлок Свирьстрой',\n",
       "       'городской посёлок Советский', 'городской посёлок Фёдоровское',\n",
       "       'городской посёлок Янино-1', 'деревня Агалатово', 'деревня Аро',\n",
       "       'деревня Батово', 'деревня Бегуницы', 'деревня Белогорка',\n",
       "       'деревня Большая Вруда', 'деревня Большая Пустомержа',\n",
       "       'деревня Большие Колпаны', 'деревня Большое Рейзино',\n",
       "       'деревня Большой Сабск', 'деревня Бор', 'деревня Борисова Грива',\n",
       "       'деревня Ваганово', 'деревня Вартемяги', 'деревня Вахнова Кара',\n",
       "       'деревня Выскатка', 'деревня Гарболово', 'деревня Глинка',\n",
       "       'деревня Горбунки', 'деревня Гостилицы', 'деревня Заклинье',\n",
       "       'деревня Заневка', 'деревня Зимитицы', 'деревня Извара',\n",
       "       'деревня Иссад', 'деревня Калитино', 'деревня Кальтино',\n",
       "       'деревня Камышовка', 'деревня Каськово', 'деревня Келози',\n",
       "       'деревня Кипень', 'деревня Кисельня', 'деревня Колтуши',\n",
       "       'деревня Коркино', 'деревня Котлы', 'деревня Кривко',\n",
       "       'деревня Кудрово', 'деревня Кузьмолово', 'деревня Курковицы',\n",
       "       'деревня Куровицы', 'деревня Куттузи', 'деревня Лаврики',\n",
       "       'деревня Лаголово', 'деревня Лампово', 'деревня Лесколово',\n",
       "       'деревня Лопухинка', 'деревня Лупполово',\n",
       "       'деревня Малая Романовка', 'деревня Малое Верево',\n",
       "       'деревня Малое Карлино', 'деревня Малые Колпаны',\n",
       "       'деревня Мануйлово', 'деревня Меньково', 'деревня Мины',\n",
       "       'деревня Мистолово', 'деревня Ненимяки', 'деревня Нижние Осельки',\n",
       "       'деревня Нижняя', 'деревня Низино', 'деревня Новое Девяткино',\n",
       "       'деревня Новолисино', 'деревня Нурма', 'деревня Оржицы',\n",
       "       'деревня Парицы', 'деревня Пельгора', 'деревня Пеники',\n",
       "       'деревня Пижма', 'деревня Пикколово', 'деревня Пудомяги',\n",
       "       'деревня Пустынка', 'деревня Пчева', 'деревня Рабитицы',\n",
       "       'деревня Разбегаево', 'деревня Раздолье', 'деревня Разметелево',\n",
       "       'деревня Рапполово', 'деревня Реброво', 'деревня Русско',\n",
       "       'деревня Сижно', 'деревня Снегирёвка', 'деревня Старая',\n",
       "       'деревня Старая Пустошь', 'деревня Старое Хинколово',\n",
       "       'деревня Старополье', 'деревня Старосиверская',\n",
       "       'деревня Старые Бегуницы', 'деревня Суоранда',\n",
       "       'деревня Сяськелево', 'деревня Тарасово', 'деревня Терпилицы',\n",
       "       'деревня Тихковицы', 'деревня Тойворово', 'деревня Торосово',\n",
       "       'деревня Торошковичи', 'деревня Трубников Бор',\n",
       "       'деревня Фалилеево', 'деревня Фёдоровское', 'деревня Хапо-Ое',\n",
       "       'деревня Хязельки', 'деревня Чудской Бор', 'деревня Шпаньково',\n",
       "       'деревня Щеглово', 'деревня Юкки', 'деревня Ялгино',\n",
       "       'деревня Яльгелево', 'деревня Ям-Тесово',\n",
       "       'коттеджный посёлок Кивеннапа Север', 'коттеджный посёлок Лесное',\n",
       "       'коттеджный посёлок Счастье', 'посёлок Александровская',\n",
       "       'посёлок Алексеевка', 'посёлок Аннино', 'посёлок Барышево',\n",
       "       'посёлок Белоостров', 'посёлок Бугры', 'посёлок Возрождение',\n",
       "       'посёлок Войсковицы', 'посёлок Войскорово', 'посёлок Володарское',\n",
       "       'посёлок Высокоключевой', 'посёлок Гаврилово', 'посёлок Гарболово',\n",
       "       'посёлок Гладкое', 'посёлок Глажево', 'посёлок Глебычево',\n",
       "       'посёлок Гончарово', 'посёлок Громово', 'посёлок Дзержинского',\n",
       "       'посёлок Дружноселье', 'посёлок Елизаветино', 'посёлок Жилгородок',\n",
       "       'посёлок Жилпосёлок', 'посёлок Житково', 'посёлок Заводской',\n",
       "       'посёлок Запорожское', 'посёлок Зимитицы', 'посёлок Ильичёво',\n",
       "       'посёлок Калитино', 'посёлок Каложицы', 'посёлок Кикерино',\n",
       "       'посёлок Кингисеппский', 'посёлок Кирпичное', 'посёлок Кобралово',\n",
       "       'посёлок Кобринское', 'посёлок Коммунары', 'посёлок Коробицыно',\n",
       "       'посёлок Котельский', 'посёлок Красная Долина',\n",
       "       'посёлок Красносельское', 'посёлок Левашово', 'посёлок Ленинское',\n",
       "       'посёлок Лесное', 'посёлок Лисий Нос', 'посёлок Лукаши',\n",
       "       'посёлок Любань', 'посёлок Мельниково', 'посёлок Металлострой',\n",
       "       'посёлок Мичуринское', 'посёлок Молодцово', 'посёлок Молодёжное',\n",
       "       'посёлок Мурино', 'посёлок Мыза-Ивановка', 'посёлок Новогорелово',\n",
       "       'посёлок Новый Свет', 'посёлок Новый Учхоз', 'посёлок Оредеж',\n",
       "       'посёлок Пансионат Зелёный Бор', 'посёлок Парголово',\n",
       "       'посёлок Первомайское', 'посёлок Перово', 'посёлок Песочный',\n",
       "       'посёлок Петро-Славянка', 'посёлок Петровское',\n",
       "       'посёлок Платформа 69-й километр', 'посёлок Плодовое',\n",
       "       'посёлок Плоское', 'посёлок Победа', 'посёлок Поляны',\n",
       "       'посёлок Понтонный', 'посёлок Почап', 'посёлок Починок',\n",
       "       'посёлок Пригородный', 'посёлок Пудость', 'посёлок Пушное',\n",
       "       'посёлок Пчевжа', 'посёлок Рабитицы', 'посёлок Репино',\n",
       "       'посёлок Романовка', 'посёлок Ромашки', 'посёлок Ропша',\n",
       "       'посёлок Рябово', 'посёлок Сапёрное', 'посёлок Сапёрный',\n",
       "       'посёлок Севастьяново', 'посёлок Селезнёво', 'посёлок Сельцо',\n",
       "       'посёлок Семиозерье', 'посёлок Семрино', 'посёлок Серебрянский',\n",
       "       'посёлок Совхозный', 'посёлок Сосново', 'посёлок Старая Малукса',\n",
       "       'посёлок Стеклянный', 'посёлок Стрельна', 'посёлок Суйда',\n",
       "       'посёлок Сумино', 'посёлок Суходолье', 'посёлок Тельмана',\n",
       "       'посёлок Терволово', 'посёлок Торковичи', 'посёлок Торфяное',\n",
       "       'посёлок Тёсово-4', 'посёлок Углово', 'посёлок Усть-Ижора',\n",
       "       'посёлок Усть-Луга', 'посёлок Ушаки', 'посёлок Форт Красная Горка',\n",
       "       'посёлок Цвелодубово', 'посёлок Цвылёво', 'посёлок Шугозеро',\n",
       "       'посёлок Шушары', 'посёлок Щеглово',\n",
       "       'посёлок городского типа Большая Ижора',\n",
       "       'посёлок городского типа Важины',\n",
       "       'посёлок городского типа Вознесенье',\n",
       "       'посёлок городского типа Вырица',\n",
       "       'посёлок городского типа Дружная Горка',\n",
       "       'посёлок городского типа Дубровка',\n",
       "       'посёлок городского типа Ефимовский',\n",
       "       'посёлок городского типа Кондратьево',\n",
       "       'посёлок городского типа Красный Бор',\n",
       "       'посёлок городского типа Кузнечное',\n",
       "       'посёлок городского типа Кузьмоловский',\n",
       "       'посёлок городского типа Лебяжье',\n",
       "       'посёлок городского типа Лесогорский',\n",
       "       'посёлок городского типа Мга', 'посёлок городского типа Назия',\n",
       "       'посёлок городского типа Никольский',\n",
       "       'посёлок городского типа Павлово',\n",
       "       'посёлок городского типа Приладожский',\n",
       "       'посёлок городского типа Рахья', 'посёлок городского типа Рощино',\n",
       "       'посёлок городского типа Рябово',\n",
       "       'посёлок городского типа Сиверский',\n",
       "       'посёлок городского типа Синявино',\n",
       "       'посёлок городского типа Советский',\n",
       "       'посёлок городского типа Тайцы', 'посёлок городского типа Токсово',\n",
       "       'посёлок городского типа Ульяновка',\n",
       "       'посёлок городского типа Форносово',\n",
       "       'посёлок городского типа имени Морозова',\n",
       "       'посёлок городского типа имени Свердлова',\n",
       "       'посёлок при железнодорожной станции Вещево',\n",
       "       'посёлок при железнодорожной станции Приветнинское',\n",
       "       'посёлок станции Вещево', 'посёлок станции Громово',\n",
       "       'посёлок станции Корнево', 'посёлок станции Лужайка',\n",
       "       'посёлок станции Приветнинское', 'посёлок станции Свирь',\n",
       "       'садоводческое некоммерческое товарищество Лесная Поляна',\n",
       "       'садовое товарищество Новая Ропша',\n",
       "       'садовое товарищество Приладожский', 'садовое товарищество Рахья',\n",
       "       'садовое товарищество Садко', 'село Копорье', 'село Никольское',\n",
       "       'село Павлово', 'село Паша', 'село Путилово', 'село Рождествено',\n",
       "       'село Русско-Высоцкое', 'село Старая Ладога', 'село Шум'],\n",
       "      dtype=object)"
      ]
     },
     "execution_count": 17,
     "metadata": {},
     "output_type": "execute_result"
    }
   ],
   "source": [
    "data['locality_name'].sort_values().unique()"
   ]
  },
  {
   "cell_type": "code",
   "execution_count": 18,
   "metadata": {
    "scrolled": true
   },
   "outputs": [
    {
     "data": {
      "text/plain": [
       "total_images                0\n",
       "last_price                  0\n",
       "total_area                  0\n",
       "first_day_exposition        0\n",
       "rooms                       0\n",
       "ceiling_height              0\n",
       "floors_total                0\n",
       "living_area                 0\n",
       "floor                       0\n",
       "is_apartment            20890\n",
       "studio                      0\n",
       "open_plan                   0\n",
       "kitchen_area                0\n",
       "balcony                     0\n",
       "locality_name               0\n",
       "airports_nearest         5534\n",
       "cityCenters_nearest      5511\n",
       "parks_around3000            0\n",
       "parks_nearest           15586\n",
       "ponds_around3000            0\n",
       "ponds_nearest           14565\n",
       "days_exposition          3180\n",
       "dtype: int64"
      ]
     },
     "execution_count": 18,
     "metadata": {},
     "output_type": "execute_result"
    }
   ],
   "source": [
    "data.isna().sum()"
   ]
  },
  {
   "cell_type": "markdown",
   "metadata": {},
   "source": [
    "### 2.4 Обработка и удаление аномалий"
   ]
  },
  {
   "cell_type": "markdown",
   "metadata": {},
   "source": [
    "Посмотрим на значения в столбце `ceiling_height`."
   ]
  },
  {
   "cell_type": "code",
   "execution_count": 19,
   "metadata": {},
   "outputs": [
    {
     "data": {
      "text/plain": [
       "[1.0,\n",
       " 1.2,\n",
       " 1.75,\n",
       " 2.0,\n",
       " 2.2,\n",
       " 2.25,\n",
       " 2.3,\n",
       " 2.34,\n",
       " 2.4,\n",
       " 2.45,\n",
       " 2.46,\n",
       " 2.47,\n",
       " 2.48,\n",
       " 2.49,\n",
       " 2.5,\n",
       " 2.51,\n",
       " 2.52,\n",
       " 2.53,\n",
       " 2.54,\n",
       " 2.55,\n",
       " 2.56,\n",
       " 2.57,\n",
       " 2.58,\n",
       " 2.59,\n",
       " 2.6,\n",
       " 2.61,\n",
       " 2.62,\n",
       " 2.63,\n",
       " 2.64,\n",
       " 2.65,\n",
       " 2.66,\n",
       " 2.67,\n",
       " 2.68,\n",
       " 2.69,\n",
       " 2.7,\n",
       " 2.71,\n",
       " 2.72,\n",
       " 2.73,\n",
       " 2.74,\n",
       " 2.75,\n",
       " 2.76,\n",
       " 2.77,\n",
       " 2.78,\n",
       " 2.79,\n",
       " 2.8,\n",
       " 2.81,\n",
       " 2.82,\n",
       " 2.83,\n",
       " 2.84,\n",
       " 2.85,\n",
       " 2.86,\n",
       " 2.87,\n",
       " 2.88,\n",
       " 2.89,\n",
       " 2.9,\n",
       " 2.91,\n",
       " 2.92,\n",
       " 2.93,\n",
       " 2.94,\n",
       " 2.95,\n",
       " 2.96,\n",
       " 2.97,\n",
       " 2.98,\n",
       " 2.99,\n",
       " 3.0,\n",
       " 3.01,\n",
       " 3.02,\n",
       " 3.03,\n",
       " 3.04,\n",
       " 3.05,\n",
       " 3.06,\n",
       " 3.07,\n",
       " 3.08,\n",
       " 3.09,\n",
       " 3.1,\n",
       " 3.11,\n",
       " 3.12,\n",
       " 3.13,\n",
       " 3.14,\n",
       " 3.15,\n",
       " 3.16,\n",
       " 3.17,\n",
       " 3.18,\n",
       " 3.2,\n",
       " 3.21,\n",
       " 3.22,\n",
       " 3.23,\n",
       " 3.24,\n",
       " 3.25,\n",
       " 3.26,\n",
       " 3.27,\n",
       " 3.28,\n",
       " 3.29,\n",
       " 3.3,\n",
       " 3.31,\n",
       " 3.32,\n",
       " 3.33,\n",
       " 3.34,\n",
       " 3.35,\n",
       " 3.36,\n",
       " 3.37,\n",
       " 3.38,\n",
       " 3.39,\n",
       " 3.4,\n",
       " 3.42,\n",
       " 3.43,\n",
       " 3.44,\n",
       " 3.45,\n",
       " 3.46,\n",
       " 3.47,\n",
       " 3.48,\n",
       " 3.49,\n",
       " 3.5,\n",
       " 3.51,\n",
       " 3.52,\n",
       " 3.53,\n",
       " 3.54,\n",
       " 3.55,\n",
       " 3.56,\n",
       " 3.57,\n",
       " 3.58,\n",
       " 3.59,\n",
       " 3.6,\n",
       " 3.62,\n",
       " 3.63,\n",
       " 3.65,\n",
       " 3.66,\n",
       " 3.67,\n",
       " 3.68,\n",
       " 3.69,\n",
       " 3.7,\n",
       " 3.75,\n",
       " 3.76,\n",
       " 3.78,\n",
       " 3.8,\n",
       " 3.82,\n",
       " 3.83,\n",
       " 3.84,\n",
       " 3.85,\n",
       " 3.86,\n",
       " 3.87,\n",
       " 3.88,\n",
       " 3.9,\n",
       " 3.93,\n",
       " 3.95,\n",
       " 3.98,\n",
       " 4.0,\n",
       " 4.06,\n",
       " 4.1,\n",
       " 4.14,\n",
       " 4.15,\n",
       " 4.19,\n",
       " 4.2,\n",
       " 4.25,\n",
       " 4.3,\n",
       " 4.37,\n",
       " 4.4,\n",
       " 4.45,\n",
       " 4.5,\n",
       " 4.65,\n",
       " 4.7,\n",
       " 4.8,\n",
       " 4.9,\n",
       " 5.0,\n",
       " 5.2,\n",
       " 5.3,\n",
       " 5.5,\n",
       " 5.6,\n",
       " 5.8,\n",
       " 6.0,\n",
       " 8.0,\n",
       " 8.3,\n",
       " 10.3,\n",
       " 14.0,\n",
       " 20.0,\n",
       " 22.6,\n",
       " 24.0,\n",
       " 25.0,\n",
       " 26.0,\n",
       " 27.0,\n",
       " 27.5,\n",
       " 32.0,\n",
       " 100.0]"
      ]
     },
     "execution_count": 19,
     "metadata": {},
     "output_type": "execute_result"
    }
   ],
   "source": [
    "sorted(data['ceiling_height'].unique())"
   ]
  },
  {
   "cell_type": "markdown",
   "metadata": {},
   "source": [
    "Для начала обработаем явные аномалии - значения больше либо равные 10, поделив эти значения на 10 увидим значения, которые близки к реальным. Оставшиеся значения, которые не лежат в диапазоне от 2.4 до 3.2 метров (стандарт высоты комнат), можно смело удалять."
   ]
  },
  {
   "cell_type": "code",
   "execution_count": 20,
   "metadata": {},
   "outputs": [],
   "source": [
    "reduced_height_data = data.loc[(data['ceiling_height'] >= 10), 'ceiling_height'] / 10 \n",
    "# создаём срез с уменьшенными в 10 раз значениями\n",
    "\n",
    "for ind in reduced_height_data.index:\n",
    "    data.loc[ind, 'ceiling_height'] = reduced_height_data[ind] # в цикле заменяем строки из оригинальной таблицы на новые значения \n",
    "\n",
    "data = data.query('ceiling_height > 2.4 & ceiling_height < 3.2') # отбрасываем лишние значения"
   ]
  },
  {
   "cell_type": "code",
   "execution_count": 21,
   "metadata": {
    "scrolled": true
   },
   "outputs": [
    {
     "data": {
      "text/plain": [
       "[2.45,\n",
       " 2.46,\n",
       " 2.47,\n",
       " 2.48,\n",
       " 2.49,\n",
       " 2.5,\n",
       " 2.51,\n",
       " 2.52,\n",
       " 2.53,\n",
       " 2.54,\n",
       " 2.55,\n",
       " 2.56,\n",
       " 2.57,\n",
       " 2.58,\n",
       " 2.59,\n",
       " 2.6,\n",
       " 2.61,\n",
       " 2.62,\n",
       " 2.63,\n",
       " 2.64,\n",
       " 2.65,\n",
       " 2.66,\n",
       " 2.67,\n",
       " 2.68,\n",
       " 2.69,\n",
       " 2.7,\n",
       " 2.71,\n",
       " 2.72,\n",
       " 2.73,\n",
       " 2.74,\n",
       " 2.75,\n",
       " 2.76,\n",
       " 2.77,\n",
       " 2.78,\n",
       " 2.79,\n",
       " 2.8,\n",
       " 2.81,\n",
       " 2.82,\n",
       " 2.83,\n",
       " 2.84,\n",
       " 2.85,\n",
       " 2.86,\n",
       " 2.87,\n",
       " 2.88,\n",
       " 2.89,\n",
       " 2.9,\n",
       " 2.91,\n",
       " 2.92,\n",
       " 2.93,\n",
       " 2.94,\n",
       " 2.95,\n",
       " 2.96,\n",
       " 2.97,\n",
       " 2.98,\n",
       " 2.99,\n",
       " 3.0,\n",
       " 3.01,\n",
       " 3.02,\n",
       " 3.03,\n",
       " 3.04,\n",
       " 3.05,\n",
       " 3.06,\n",
       " 3.07,\n",
       " 3.08,\n",
       " 3.09,\n",
       " 3.1,\n",
       " 3.11,\n",
       " 3.12,\n",
       " 3.13,\n",
       " 3.14,\n",
       " 3.15,\n",
       " 3.16,\n",
       " 3.17,\n",
       " 3.18]"
      ]
     },
     "execution_count": 21,
     "metadata": {},
     "output_type": "execute_result"
    }
   ],
   "source": [
    "sorted(data['ceiling_height'].unique()) # проверяем диапазон значений высоты потолка"
   ]
  },
  {
   "cell_type": "code",
   "execution_count": 22,
   "metadata": {
    "scrolled": true
   },
   "outputs": [
    {
     "name": "stdout",
     "output_type": "stream",
     "text": [
      "<class 'pandas.core.frame.DataFrame'>\n",
      "Int64Index: 22532 entries, 0 to 23698\n",
      "Data columns (total 22 columns):\n",
      " #   Column                Non-Null Count  Dtype         \n",
      "---  ------                --------------  -----         \n",
      " 0   total_images          22532 non-null  int64         \n",
      " 1   last_price            22532 non-null  int64         \n",
      " 2   total_area            22532 non-null  float64       \n",
      " 3   first_day_exposition  22532 non-null  datetime64[ns]\n",
      " 4   rooms                 22532 non-null  int64         \n",
      " 5   ceiling_height        22532 non-null  float64       \n",
      " 6   floors_total          22532 non-null  int64         \n",
      " 7   living_area           22532 non-null  float64       \n",
      " 8   floor                 22532 non-null  int64         \n",
      " 9   is_apartment          2600 non-null   object        \n",
      " 10  studio                22532 non-null  bool          \n",
      " 11  open_plan             22532 non-null  bool          \n",
      " 12  kitchen_area          22532 non-null  float64       \n",
      " 13  balcony               22532 non-null  int64         \n",
      " 14  locality_name         22532 non-null  object        \n",
      " 15  airports_nearest      17072 non-null  float64       \n",
      " 16  cityCenters_nearest   17091 non-null  float64       \n",
      " 17  parks_around3000      22532 non-null  int64         \n",
      " 18  parks_nearest         7300 non-null   float64       \n",
      " 19  ponds_around3000      22532 non-null  int64         \n",
      " 20  ponds_nearest         8377 non-null   float64       \n",
      " 21  days_exposition       19613 non-null  float64       \n",
      "dtypes: bool(2), datetime64[ns](1), float64(9), int64(8), object(2)\n",
      "memory usage: 3.7+ MB\n"
     ]
    }
   ],
   "source": [
    "data.info()"
   ]
  },
  {
   "cell_type": "markdown",
   "metadata": {},
   "source": [
    "Посмотрим на \"ящик с усами\" для столбца с числом комнат."
   ]
  },
  {
   "cell_type": "code",
   "execution_count": 23,
   "metadata": {},
   "outputs": [
    {
     "data": {
      "text/plain": [
       "<AxesSubplot:>"
      ]
     },
     "execution_count": 23,
     "metadata": {},
     "output_type": "execute_result"
    },
    {
     "data": {
      "image/png": "[encoded data removed]",
      "text/plain": [
       "<Figure size 432x288 with 1 Axes>"
      ]
     },
     "metadata": {
      "needs_background": "light"
     },
     "output_type": "display_data"
    }
   ],
   "source": [
    "data.boxplot('rooms')"
   ]
  },
  {
   "cell_type": "markdown",
   "metadata": {},
   "source": [
    "Видно, что нижний \"ус\" в 0, минимальное значение. Верхний же \"ус\" упирается в 6, все остальные значения можно считать выбросами."
   ]
  },
  {
   "cell_type": "code",
   "execution_count": 24,
   "metadata": {},
   "outputs": [],
   "source": [
    "data = data.query('rooms > 0 & rooms <= 6') # отбрасываем 0, так как такого количества комнат просто не может быть"
   ]
  },
  {
   "cell_type": "code",
   "execution_count": 25,
   "metadata": {
    "scrolled": true
   },
   "outputs": [
    {
     "name": "stdout",
     "output_type": "stream",
     "text": [
      "<class 'pandas.core.frame.DataFrame'>\n",
      "Int64Index: 22297 entries, 0 to 23698\n",
      "Data columns (total 22 columns):\n",
      " #   Column                Non-Null Count  Dtype         \n",
      "---  ------                --------------  -----         \n",
      " 0   total_images          22297 non-null  int64         \n",
      " 1   last_price            22297 non-null  int64         \n",
      " 2   total_area            22297 non-null  float64       \n",
      " 3   first_day_exposition  22297 non-null  datetime64[ns]\n",
      " 4   rooms                 22297 non-null  int64         \n",
      " 5   ceiling_height        22297 non-null  float64       \n",
      " 6   floors_total          22297 non-null  int64         \n",
      " 7   living_area           22297 non-null  float64       \n",
      " 8   floor                 22297 non-null  int64         \n",
      " 9   is_apartment          2592 non-null   object        \n",
      " 10  studio                22297 non-null  bool          \n",
      " 11  open_plan             22297 non-null  bool          \n",
      " 12  kitchen_area          22297 non-null  float64       \n",
      " 13  balcony               22297 non-null  int64         \n",
      " 14  locality_name         22297 non-null  object        \n",
      " 15  airports_nearest      16916 non-null  float64       \n",
      " 16  cityCenters_nearest   16935 non-null  float64       \n",
      " 17  parks_around3000      22297 non-null  int64         \n",
      " 18  parks_nearest         7244 non-null   float64       \n",
      " 19  ponds_around3000      22297 non-null  int64         \n",
      " 20  ponds_nearest         8281 non-null   float64       \n",
      " 21  days_exposition       19404 non-null  float64       \n",
      "dtypes: bool(2), datetime64[ns](1), float64(9), int64(8), object(2)\n",
      "memory usage: 3.6+ MB\n"
     ]
    }
   ],
   "source": [
    "data.info()"
   ]
  },
  {
   "cell_type": "code",
   "execution_count": 26,
   "metadata": {},
   "outputs": [
    {
     "name": "stdout",
     "output_type": "stream",
     "text": [
      "\n",
      "Число дубликатов: 0\n"
     ]
    }
   ],
   "source": [
    "print('\\nЧисло дубликатов:', data.duplicated().sum())"
   ]
  },
  {
   "cell_type": "markdown",
   "metadata": {},
   "source": [
    "**Вывод:** Была проведена предобработка данных, а именно: работа с пропущенными значениями, изменение типов данных, удаление аномалий и устранение неявных."
   ]
  },
  {
   "cell_type": "markdown",
   "metadata": {},
   "source": [
    "## 3 Добавление новых признаков"
   ]
  },
  {
   "cell_type": "code",
   "execution_count": 27,
   "metadata": {},
   "outputs": [],
   "source": [
    "data['price_per_square_meter'] = data['last_price'] / data['total_area'] # цена одного квадратного метра\n",
    "data['price_per_square_meter'] = data['price_per_square_meter'].astype('int')"
   ]
  },
  {
   "cell_type": "code",
   "execution_count": 28,
   "metadata": {
    "scrolled": true
   },
   "outputs": [
    {
     "name": "stdout",
     "output_type": "stream",
     "text": [
      "<class 'pandas.core.frame.DataFrame'>\n",
      "Int64Index: 22297 entries, 0 to 23698\n",
      "Data columns (total 23 columns):\n",
      " #   Column                  Non-Null Count  Dtype         \n",
      "---  ------                  --------------  -----         \n",
      " 0   total_images            22297 non-null  int64         \n",
      " 1   last_price              22297 non-null  int64         \n",
      " 2   total_area              22297 non-null  float64       \n",
      " 3   first_day_exposition    22297 non-null  datetime64[ns]\n",
      " 4   rooms                   22297 non-null  int64         \n",
      " 5   ceiling_height          22297 non-null  float64       \n",
      " 6   floors_total            22297 non-null  int64         \n",
      " 7   living_area             22297 non-null  float64       \n",
      " 8   floor                   22297 non-null  int64         \n",
      " 9   is_apartment            2592 non-null   object        \n",
      " 10  studio                  22297 non-null  bool          \n",
      " 11  open_plan               22297 non-null  bool          \n",
      " 12  kitchen_area            22297 non-null  float64       \n",
      " 13  balcony                 22297 non-null  int64         \n",
      " 14  locality_name           22297 non-null  object        \n",
      " 15  airports_nearest        16916 non-null  float64       \n",
      " 16  cityCenters_nearest     16935 non-null  float64       \n",
      " 17  parks_around3000        22297 non-null  int64         \n",
      " 18  parks_nearest           7244 non-null   float64       \n",
      " 19  ponds_around3000        22297 non-null  int64         \n",
      " 20  ponds_nearest           8281 non-null   float64       \n",
      " 21  days_exposition         19404 non-null  float64       \n",
      " 22  price_per_square_meter  22297 non-null  int64         \n",
      "dtypes: bool(2), datetime64[ns](1), float64(9), int64(9), object(2)\n",
      "memory usage: 3.8+ MB\n"
     ]
    }
   ],
   "source": [
    "data.info()"
   ]
  },
  {
   "cell_type": "code",
   "execution_count": 29,
   "metadata": {},
   "outputs": [],
   "source": [
    "data['weekday_exposition'] = data['first_day_exposition'].dt.weekday # день недели публикации\n",
    "\n",
    "data['month_exposition'] = data['first_day_exposition'].dt.month # месяц публикации\n",
    "\n",
    "data['year_exposition'] = data['first_day_exposition'].dt.year # год публикации"
   ]
  },
  {
   "cell_type": "markdown",
   "metadata": {},
   "source": [
    "Далее необходимо написать функцию категоризации квартир по типу этажа и применить её к значениям столбца."
   ]
  },
  {
   "cell_type": "code",
   "execution_count": 30,
   "metadata": {},
   "outputs": [],
   "source": [
    "# пишем функцию\n",
    "def floor_category(row):\n",
    "    floors_total = row['floors_total']\n",
    "    floor = row['floor']\n",
    "    if floor == 1:\n",
    "        return 'первый'\n",
    "    elif floor == floors_total:\n",
    "        return 'последний'\n",
    "    elif 1 < floor < floors_total:\n",
    "        return 'другой'\n",
    "    \n",
    "data['floor_category'] = data.apply(floor_category, axis = 1) # применяем функцию"
   ]
  },
  {
   "cell_type": "code",
   "execution_count": 31,
   "metadata": {},
   "outputs": [],
   "source": [
    "data['cityCenters_nearest_km'] = data['cityCenters_nearest'] / 1000 # переводим из метров в километры\n",
    "data['cityCenters_nearest_km'] = data['cityCenters_nearest_km'].round() # округляем до целых значений"
   ]
  },
  {
   "cell_type": "code",
   "execution_count": 32,
   "metadata": {
    "scrolled": true
   },
   "outputs": [
    {
     "name": "stdout",
     "output_type": "stream",
     "text": [
      "   total_images  last_price  total_area first_day_exposition  rooms  \\\n",
      "0            20    13000000       108.0           2019-03-07      3   \n",
      "1             7     3350000        40.4           2018-12-04      1   \n",
      "2            10     5196000        56.0           2015-08-20      2   \n",
      "3             0    64900000       159.0           2015-07-24      3   \n",
      "4             2    10000000       100.0           2018-06-19      2   \n",
      "\n",
      "   ceiling_height  floors_total  living_area  floor is_apartment  ...  \\\n",
      "0            2.70            16         51.0      8          NaN  ...   \n",
      "1            2.65            11         18.6      1          NaN  ...   \n",
      "2            2.65             5         34.3      4          NaN  ...   \n",
      "3            2.65            14         30.0      9          NaN  ...   \n",
      "4            3.03            14         32.0     13          NaN  ...   \n",
      "\n",
      "   parks_nearest  ponds_around3000  ponds_nearest  days_exposition  \\\n",
      "0          482.0                 2          755.0              NaN   \n",
      "1            NaN                 0            NaN             81.0   \n",
      "2           90.0                 2          574.0            558.0   \n",
      "3           84.0                 3          234.0            424.0   \n",
      "4          112.0                 1           48.0            121.0   \n",
      "\n",
      "  price_per_square_meter  weekday_exposition  month_exposition  \\\n",
      "0                 120370                   3                 3   \n",
      "1                  82920                   1                12   \n",
      "2                  92785                   3                 8   \n",
      "3                 408176                   4                 7   \n",
      "4                 100000                   1                 6   \n",
      "\n",
      "   year_exposition  floor_category  cityCenters_nearest_km  \n",
      "0             2019          другой                    16.0  \n",
      "1             2018          первый                    19.0  \n",
      "2             2015          другой                    14.0  \n",
      "3             2015          другой                     7.0  \n",
      "4             2018          другой                     8.0  \n",
      "\n",
      "[5 rows x 28 columns]\n"
     ]
    }
   ],
   "source": [
    "print(data.head()) # проверяем, правильно ли были добавлены столбцы"
   ]
  },
  {
   "cell_type": "markdown",
   "metadata": {},
   "source": [
    "**Вывод:** столбцы были добавлены правильно, предобработка данных завершена. Можно переходить к исследовательскому анализу данных"
   ]
  },
  {
   "cell_type": "markdown",
   "metadata": {},
   "source": [
    "## 4 Исследовательский анализ данных"
   ]
  },
  {
   "cell_type": "markdown",
   "metadata": {},
   "source": [
    "### 4.1 Изучение параметров объектов"
   ]
  },
  {
   "cell_type": "markdown",
   "metadata": {},
   "source": [
    "**Общая площадь**"
   ]
  },
  {
   "cell_type": "code",
   "execution_count": 33,
   "metadata": {
    "scrolled": true
   },
   "outputs": [
    {
     "data": {
      "image/png": "[encoded data removed]",
      "text/plain": [
       "<Figure size 432x288 with 1 Axes>"
      ]
     },
     "metadata": {
      "needs_background": "light"
     },
     "output_type": "display_data"
    }
   ],
   "source": [
    "# Работаем с площадью\n",
    "data['total_area'].describe()\n",
    "data['total_area'].hist(bins=30, range=(10, 200))\n",
    "plt.title('Площадь квартир')\n",
    "plt.xlabel('Квадратные метры')\n",
    "plt.ylabel('Количество квартир')\n",
    "plt.show()"
   ]
  },
  {
   "cell_type": "markdown",
   "metadata": {},
   "source": [
    "Большинство значений площади квартир лежит в диапазоне между 25 и 95 квадратными метрами"
   ]
  },
  {
   "cell_type": "markdown",
   "metadata": {},
   "source": [
    "**Жилая площадь**"
   ]
  },
  {
   "cell_type": "code",
   "execution_count": 34,
   "metadata": {},
   "outputs": [
    {
     "data": {
      "image/png": "[encoded data removed]",
      "text/plain": [
       "<Figure size 432x288 with 1 Axes>"
      ]
     },
     "metadata": {
      "needs_background": "light"
     },
     "output_type": "display_data"
    }
   ],
   "source": [
    "# Работаем с жилой площадью\n",
    "data['living_area'].describe()\n",
    "data['living_area'].hist(bins=30, range=(10, 180))\n",
    "plt.title('Площадь жилой площади квартиры')\n",
    "plt.xlabel('Квадратные метры')\n",
    "plt.ylabel('Количество квартир')\n",
    "plt.show()"
   ]
  },
  {
   "cell_type": "markdown",
   "metadata": {},
   "source": [
    "Большинство значений жилой площади квартир лежит в диапазоне между 10 и 55 квадратными метрами."
   ]
  },
  {
   "cell_type": "markdown",
   "metadata": {},
   "source": [
    "**Площадь кухни**"
   ]
  },
  {
   "cell_type": "code",
   "execution_count": 35,
   "metadata": {},
   "outputs": [
    {
     "data": {
      "image/png": "[encoded data removed]",
      "text/plain": [
       "<Figure size 432x288 with 1 Axes>"
      ]
     },
     "metadata": {
      "needs_background": "light"
     },
     "output_type": "display_data"
    }
   ],
   "source": [
    "# Работаем с площадью кухни\n",
    "data['kitchen_area'].describe()\n",
    "data['kitchen_area'].hist(range = (0, 50))\n",
    "plt.title('Площадь кухни')\n",
    "plt.xlabel('Квадратные метры')\n",
    "plt.ylabel('Количество квартир')\n",
    "plt.show()"
   ]
  },
  {
   "cell_type": "markdown",
   "metadata": {},
   "source": [
    "Большинство значений площади кухни лежит в диапазоне между 5 и 15 квадратными метрами."
   ]
  },
  {
   "cell_type": "markdown",
   "metadata": {},
   "source": [
    "**Цена объекта**"
   ]
  },
  {
   "cell_type": "code",
   "execution_count": 36,
   "metadata": {},
   "outputs": [
    {
     "data": {
      "image/png": "[encoded data removed]",
      "text/plain": [
       "<Figure size 432x288 with 1 Axes>"
      ]
     },
     "metadata": {
      "needs_background": "light"
     },
     "output_type": "display_data"
    }
   ],
   "source": [
    "# Работаем с ценой объекта\n",
    "data['last_price'].describe()\n",
    "data['last_price'].hist(range=(1.000000e+04, 5.000000e+07))\n",
    "plt.title('Цена квартиры')\n",
    "plt.xlabel('Рубли')\n",
    "plt.ylabel('Количество квартир')\n",
    "plt.show()"
   ]
  },
  {
   "cell_type": "markdown",
   "metadata": {},
   "source": [
    "Большинство значений стоимости квартиры лежит в пределах 10 миллиона рублей."
   ]
  },
  {
   "cell_type": "markdown",
   "metadata": {},
   "source": [
    "**Количество комнат**"
   ]
  },
  {
   "cell_type": "code",
   "execution_count": 37,
   "metadata": {},
   "outputs": [
    {
     "data": {
      "image/png": "[encoded data removed]",
      "text/plain": [
       "<Figure size 432x288 with 1 Axes>"
      ]
     },
     "metadata": {
      "needs_background": "light"
     },
     "output_type": "display_data"
    }
   ],
   "source": [
    "# Работаем с количеством комнат\n",
    "data['rooms'].describe()\n",
    "data['rooms'].hist(range = (0, 8))\n",
    "plt.title('Количество комнат')\n",
    "plt.xlabel('')\n",
    "plt.ylabel('Количество квартир')\n",
    "plt.show()"
   ]
  },
  {
   "cell_type": "markdown",
   "metadata": {},
   "source": [
    "В среднем, в квартирах преимущественно есть от 1-ой до 3-ёх комнат"
   ]
  },
  {
   "cell_type": "markdown",
   "metadata": {},
   "source": [
    "**Высота потолков**"
   ]
  },
  {
   "cell_type": "code",
   "execution_count": 38,
   "metadata": {},
   "outputs": [
    {
     "data": {
      "image/png": "[encoded data removed]",
      "text/plain": [
       "<Figure size 432x288 with 1 Axes>"
      ]
     },
     "metadata": {
      "needs_background": "light"
     },
     "output_type": "display_data"
    }
   ],
   "source": [
    "# Работаем с высотой потолков\n",
    "data['ceiling_height'].describe()\n",
    "data['ceiling_height'].hist()\n",
    "plt.title('Высота потолка')\n",
    "plt.xlabel('Метры')\n",
    "plt.ylabel('Количество квартир')\n",
    "plt.show()"
   ]
  },
  {
   "cell_type": "markdown",
   "metadata": {},
   "source": [
    "Средняя высота потолка равна 2.64 метрам"
   ]
  },
  {
   "cell_type": "markdown",
   "metadata": {},
   "source": [
    "**Этаж квартиры**"
   ]
  },
  {
   "cell_type": "code",
   "execution_count": 39,
   "metadata": {},
   "outputs": [
    {
     "data": {
      "image/png": "[encoded data removed]",
      "text/plain": [
       "<Figure size 432x288 with 1 Axes>"
      ]
     },
     "metadata": {
      "needs_background": "light"
     },
     "output_type": "display_data"
    }
   ],
   "source": [
    "# Работаем с этажом квартиры\n",
    "data['floor'].describe()\n",
    "data['floor'].hist()\n",
    "plt.title('Этаж квартиры')\n",
    "plt.xlabel('')\n",
    "plt.ylabel('Количество квартир')\n",
    "plt.show()"
   ]
  },
  {
   "cell_type": "markdown",
   "metadata": {},
   "source": [
    "В среднем квартиры распологаются на этажах до 10, что логично, потому что девятиэтажных домов гораздо больше, чем более высоких многоэтажек."
   ]
  },
  {
   "cell_type": "markdown",
   "metadata": {},
   "source": [
    "**Тип этажа квартиры**"
   ]
  },
  {
   "cell_type": "code",
   "execution_count": 40,
   "metadata": {},
   "outputs": [
    {
     "data": {
      "image/png": "[encoded data removed]",
      "text/plain": [
       "<Figure size 432x288 with 1 Axes>"
      ]
     },
     "metadata": {
      "needs_background": "light"
     },
     "output_type": "display_data"
    }
   ],
   "source": [
    "# Работаем с типом этажа квартиры\n",
    "data['floor_category'].describe()\n",
    "data['floor_category'].hist()\n",
    "plt.title('Тип этажа квартиры')\n",
    "plt.xlabel('Категория')\n",
    "plt.ylabel('Количество квартир')\n",
    "plt.show()"
   ]
  },
  {
   "cell_type": "markdown",
   "metadata": {},
   "source": [
    "Около 80% квартир располагается не на первом и не на последнем этажах."
   ]
  },
  {
   "cell_type": "markdown",
   "metadata": {},
   "source": [
    "**Общее количество этажей в доме**"
   ]
  },
  {
   "cell_type": "code",
   "execution_count": 41,
   "metadata": {},
   "outputs": [
    {
     "data": {
      "image/png": "[encoded data removed]",
      "text/plain": [
       "<Figure size 432x288 with 1 Axes>"
      ]
     },
     "metadata": {
      "needs_background": "light"
     },
     "output_type": "display_data"
    }
   ],
   "source": [
    "# Работаем с общим количеством этажей в доме\n",
    "data['floors_total'].describe()\n",
    "data['floors_total'].hist(range = (0, 40))\n",
    "plt.title('Количество этажей в доме')\n",
    "plt.xlabel('')\n",
    "plt.ylabel('Количество квартир')\n",
    "plt.show()"
   ]
  },
  {
   "cell_type": "markdown",
   "metadata": {},
   "source": [
    "Больше всего в выборке объявлений находятся пятиэтажные этажи."
   ]
  },
  {
   "cell_type": "markdown",
   "metadata": {},
   "source": [
    "**Расстояние до центра города**"
   ]
  },
  {
   "cell_type": "code",
   "execution_count": 42,
   "metadata": {},
   "outputs": [
    {
     "data": {
      "image/png": "[encoded data removed]",
      "text/plain": [
       "<Figure size 432x288 with 1 Axes>"
      ]
     },
     "metadata": {
      "needs_background": "light"
     },
     "output_type": "display_data"
    }
   ],
   "source": [
    "# Работаем с расстоянием до центра города\n",
    "data['cityCenters_nearest'].describe()\n",
    "data['cityCenters_nearest'].hist()\n",
    "plt.title('Расстояние до центра города в метрах')\n",
    "plt.xlabel('')\n",
    "plt.ylabel('Количество квартир')\n",
    "plt.show()"
   ]
  },
  {
   "cell_type": "markdown",
   "metadata": {},
   "source": [
    "Большинство квартир расположено в пределах 20 километров от центра своего населённого пункта."
   ]
  },
  {
   "cell_type": "markdown",
   "metadata": {},
   "source": [
    "**Расстояние до ближайшего аэропорта**"
   ]
  },
  {
   "cell_type": "code",
   "execution_count": 43,
   "metadata": {},
   "outputs": [
    {
     "data": {
      "image/png": "[encoded data removed]",
      "text/plain": [
       "<Figure size 432x288 with 1 Axes>"
      ]
     },
     "metadata": {
      "needs_background": "light"
     },
     "output_type": "display_data"
    }
   ],
   "source": [
    "# Работаем с расстоянием до ближайшего аэропорта\n",
    "data['airports_nearest'].describe()\n",
    "data['airports_nearest'].hist()\n",
    "plt.title('Расстояние до ближайшего аэропорта')\n",
    "plt.xlabel('')\n",
    "plt.ylabel('Количество квартир')\n",
    "plt.show()\n"
   ]
  },
  {
   "cell_type": "markdown",
   "metadata": {},
   "source": [
    "Большинство квартир расположено на расстоянии до 50 километров от аэропортов, непосредственно вблизи от них находится около 1% квартир."
   ]
  },
  {
   "cell_type": "markdown",
   "metadata": {},
   "source": [
    "**Расстояние до ближайшего парка**"
   ]
  },
  {
   "cell_type": "code",
   "execution_count": 44,
   "metadata": {},
   "outputs": [
    {
     "data": {
      "image/png": "[encoded data removed]",
      "text/plain": [
       "<Figure size 432x288 with 1 Axes>"
      ]
     },
     "metadata": {
      "needs_background": "light"
     },
     "output_type": "display_data"
    }
   ],
   "source": [
    "# Работаем с расстоянием до ближайшего парка\n",
    "data['parks_nearest'].describe()\n",
    "data['parks_nearest'].hist()\n",
    "plt.title('Расстояние до ближайшего парка')\n",
    "plt.xlabel('')\n",
    "plt.ylabel('Количество квартир')\n",
    "plt.show()"
   ]
  },
  {
   "cell_type": "markdown",
   "metadata": {},
   "source": [
    "В среднем ближайшие парки находятся на расстоянии до 600 метров от недвижимости."
   ]
  },
  {
   "cell_type": "markdown",
   "metadata": {},
   "source": [
    "**День публикации объявления**"
   ]
  },
  {
   "cell_type": "code",
   "execution_count": 45,
   "metadata": {},
   "outputs": [
    {
     "data": {
      "image/png": "[encoded data removed]",
      "text/plain": [
       "<Figure size 432x288 with 1 Axes>"
      ]
     },
     "metadata": {
      "needs_background": "light"
     },
     "output_type": "display_data"
    }
   ],
   "source": [
    "# Работаем с днём публикации объявления\n",
    "data['weekday_exposition'].describe()\n",
    "data['weekday_exposition'].hist()\n",
    "plt.title('День публикации')\n",
    "plt.xlabel('')\n",
    "plt.ylabel('Количество квартир')\n",
    "plt.show()"
   ]
  },
  {
   "cell_type": "markdown",
   "metadata": {},
   "source": [
    "Чаще всего объявления публикуют в будние дни, на выходных - в два раза реже, чем обычно."
   ]
  },
  {
   "cell_type": "markdown",
   "metadata": {},
   "source": [
    "**Месяц публикации объявления**"
   ]
  },
  {
   "cell_type": "code",
   "execution_count": 46,
   "metadata": {},
   "outputs": [
    {
     "data": {
      "image/png": "[encoded data removed]",
      "text/plain": [
       "<Figure size 432x288 with 1 Axes>"
      ]
     },
     "metadata": {
      "needs_background": "light"
     },
     "output_type": "display_data"
    }
   ],
   "source": [
    "# Работаем с месяцем публикации объявления\n",
    "data['month_exposition'].describe()\n",
    "data['month_exposition'].hist()\n",
    "plt.title('Месяц публикации')\n",
    "plt.xlabel('')\n",
    "plt.ylabel('Количество квартир')\n",
    "plt.show()"
   ]
  },
  {
   "cell_type": "markdown",
   "metadata": {},
   "source": [
    "Чаще всего объявления публикуются в январе и декабре. Скорее всего, это связано с новогодними праздниками."
   ]
  },
  {
   "cell_type": "markdown",
   "metadata": {},
   "source": [
    "#### Изучение времени продажи квартиры"
   ]
  },
  {
   "cell_type": "code",
   "execution_count": 47,
   "metadata": {
    "scrolled": false
   },
   "outputs": [
    {
     "data": {
      "image/png": "[encoded data removed]",
      "text/plain": [
       "<Figure size 432x288 with 1 Axes>"
      ]
     },
     "metadata": {
      "needs_background": "light"
     },
     "output_type": "display_data"
    },
    {
     "name": "stdout",
     "output_type": "stream",
     "text": [
      "Время продажи (медиана): 93 \n",
      "\n",
      "Время продажи (среднее): 177 \n",
      "\n"
     ]
    },
    {
     "data": {
      "text/plain": [
       "count    19404.000000\n",
       "mean       177.419501\n",
       "std        216.594070\n",
       "min          1.000000\n",
       "25%         44.000000\n",
       "50%         93.000000\n",
       "75%        225.000000\n",
       "max       1580.000000\n",
       "Name: days_exposition, dtype: float64"
      ]
     },
     "execution_count": 47,
     "metadata": {},
     "output_type": "execute_result"
    }
   ],
   "source": [
    "# Гистограма времени продажи\n",
    "plt.hist(data['days_exposition'], bins=200, range=(0, 200))\n",
    "plt.title('Время продажи')\n",
    "plt.xlabel('Дни')\n",
    "plt.ylabel('Количество квартир')\n",
    "plt.show()\n",
    "# Вычисляем среднее и медиану\n",
    "print('Время продажи (медиана):', round(data['days_exposition'].median()),'\\n')\n",
    "print('Время продажи (среднее):', round(data['days_exposition'].mean()),'\\n')\n",
    "# Изучаем значения срока продажи\n",
    "data['days_exposition'].describe()"
   ]
  },
  {
   "cell_type": "code",
   "execution_count": 48,
   "metadata": {},
   "outputs": [
    {
     "data": {
      "text/plain": [
       "45.0      855\n",
       "60.0      520\n",
       "7.0       223\n",
       "30.0      200\n",
       "90.0      187\n",
       "         ... \n",
       "985.0       1\n",
       "1452.0      1\n",
       "1280.0      1\n",
       "844.0       1\n",
       "1174.0      1\n",
       "Name: days_exposition, Length: 1121, dtype: int64"
      ]
     },
     "execution_count": 48,
     "metadata": {},
     "output_type": "execute_result"
    }
   ],
   "source": [
    "data['days_exposition'].value_counts()"
   ]
  },
  {
   "cell_type": "markdown",
   "metadata": {},
   "source": [
    "Видим, что очень большое количество элементов приходится на значения в 45 и 60 дней. Возможно, это связано с тем, что спустя 1.5-2 месяца продавец сбрасывает цену на недвижимость."
   ]
  },
  {
   "cell_type": "markdown",
   "metadata": {},
   "source": [
    "Раз медианное значение близко к 100, то возьмём его за норму. Тогда время продажи в 50 дней можно считать быстрым, а в 200 дней - необычайно долгим. "
   ]
  },
  {
   "cell_type": "markdown",
   "metadata": {},
   "source": [
    "### 4.2 Выявление факторов, влияющих на полную стоимость объекта"
   ]
  },
  {
   "cell_type": "markdown",
   "metadata": {},
   "source": [
    "**Зависимость цены от общей площади квартиры**"
   ]
  },
  {
   "cell_type": "code",
   "execution_count": 49,
   "metadata": {},
   "outputs": [
    {
     "data": {
      "text/plain": [
       "0.6929026701383136"
      ]
     },
     "execution_count": 49,
     "metadata": {},
     "output_type": "execute_result"
    },
    {
     "data": {
      "image/png": "[encoded data removed]",
      "text/plain": [
       "<Figure size 432x288 with 1 Axes>"
      ]
     },
     "metadata": {
      "needs_background": "light"
     },
     "output_type": "display_data"
    }
   ],
   "source": [
    "pivot_table_total_area = data.pivot_table(index = 'total_area', values = 'last_price',\n",
    "                                          aggfunc = ['mean', 'count', 'median'])\n",
    "pivot_table_total_area.columns = ['mean', 'count', 'median']\n",
    "pivot_table_total_area.plot(y = 'median', style = 'o')\n",
    "\n",
    "pivot_table_total_area.sort_values('median', ascending = False)\n",
    "\n",
    "data['total_area'].corr(data['last_price'])"
   ]
  },
  {
   "cell_type": "markdown",
   "metadata": {},
   "source": [
    "Корреляция положительная и сильная. Чем больше общая площадь квартиры, тем больше цена этой квартиры."
   ]
  },
  {
   "cell_type": "markdown",
   "metadata": {},
   "source": [
    "**Зависимость цены от жилой площади квартиры**"
   ]
  },
  {
   "cell_type": "code",
   "execution_count": 50,
   "metadata": {
    "scrolled": true
   },
   "outputs": [
    {
     "data": {
      "text/plain": [
       "0.5433484668337905"
      ]
     },
     "execution_count": 50,
     "metadata": {},
     "output_type": "execute_result"
    },
    {
     "data": {
      "image/png": "[encoded data removed]",
      "text/plain": [
       "<Figure size 432x288 with 1 Axes>"
      ]
     },
     "metadata": {
      "needs_background": "light"
     },
     "output_type": "display_data"
    }
   ],
   "source": [
    "pivot_table_living_area = data.pivot_table(index = 'living_area', values = 'last_price',\n",
    "                                           aggfunc = ['mean', 'count', 'median'])\n",
    "pivot_table_living_area.columns = ['mean', 'count', 'median']\n",
    "pivot_table_living_area.plot(y = 'median', style = 'o')\n",
    "\n",
    "pivot_table_living_area.sort_values('median', ascending = False)\n",
    "\n",
    "data['living_area'].corr(data['last_price'])"
   ]
  },
  {
   "cell_type": "markdown",
   "metadata": {},
   "source": [
    "Корреляция положительная и умеренная. Чем больше жилая площадь квартиры, тем слегка больше цена этой квартиры."
   ]
  },
  {
   "cell_type": "markdown",
   "metadata": {},
   "source": [
    "**Зависимость цены от площади кухни**"
   ]
  },
  {
   "cell_type": "code",
   "execution_count": 51,
   "metadata": {
    "scrolled": true
   },
   "outputs": [
    {
     "data": {
      "text/plain": [
       "0.4715527389637356"
      ]
     },
     "execution_count": 51,
     "metadata": {},
     "output_type": "execute_result"
    },
    {
     "data": {
      "image/png": "[encoded data removed]",
      "text/plain": [
       "<Figure size 432x288 with 1 Axes>"
      ]
     },
     "metadata": {
      "needs_background": "light"
     },
     "output_type": "display_data"
    }
   ],
   "source": [
    "pivot_table_kitchen_area = data.pivot_table(index = 'kitchen_area', values = 'last_price',\n",
    "                                           aggfunc = ['mean', 'count', 'median'])\n",
    "\n",
    "pivot_table_kitchen_area.columns = ['mean', 'count', 'median']\n",
    "pivot_table_kitchen_area.plot(y = 'median', style = 'o')\n",
    "\n",
    "pivot_table_kitchen_area.sort_values('median', ascending = False)\n",
    "\n",
    "data['kitchen_area'].corr(data['last_price'])"
   ]
  },
  {
   "cell_type": "markdown",
   "metadata": {},
   "source": [
    "Корреляция положительная и умеренная. Чем больше площадь кухни, тем слегка больше цена квартиры."
   ]
  },
  {
   "cell_type": "markdown",
   "metadata": {},
   "source": [
    "**Зависимость цены от количества комнат**"
   ]
  },
  {
   "cell_type": "code",
   "execution_count": 52,
   "metadata": {},
   "outputs": [
    {
     "name": "stdout",
     "output_type": "stream",
     "text": [
      "               mean  count    median\n",
      "rooms                               \n",
      "1      3.806269e+06   7928   3600000\n",
      "2      5.394552e+06   7637   4700000\n",
      "3      7.756762e+06   5451   6000000\n",
      "4      1.227160e+07    999   8490000\n",
      "5      2.206971e+07    216  13000000\n",
      "6      2.701780e+07     66  17879300\n"
     ]
    },
    {
     "data": {
      "text/plain": [
       "0.3770978738424616"
      ]
     },
     "execution_count": 52,
     "metadata": {},
     "output_type": "execute_result"
    },
    {
     "data": {
      "image/png": "[encoded data removed]",
      "text/plain": [
       "<Figure size 432x288 with 1 Axes>"
      ]
     },
     "metadata": {
      "needs_background": "light"
     },
     "output_type": "display_data"
    }
   ],
   "source": [
    "pivot_table_rooms = data.pivot_table(index = 'rooms', values = 'last_price',\n",
    "                                     aggfunc = ['mean', 'count', 'median'])\n",
    "\n",
    "pivot_table_rooms.columns = ['mean', 'count', 'median']\n",
    "\n",
    "print(pivot_table_rooms.head(1000))\n",
    "pivot_table_rooms.plot(y = 'median')\n",
    "\n",
    "pivot_table_rooms.sort_values('median', ascending = False)\n",
    "\n",
    "data['rooms'].corr(data['last_price'])"
   ]
  },
  {
   "cell_type": "markdown",
   "metadata": {},
   "source": [
    "Чем больше комнат в квартире, тем больше стоимость квартиры."
   ]
  },
  {
   "cell_type": "markdown",
   "metadata": {},
   "source": [
    "**Зависимость цены от типа этажа**"
   ]
  },
  {
   "cell_type": "code",
   "execution_count": 53,
   "metadata": {},
   "outputs": [
    {
     "data": {
      "text/html": [
       "<div>\n",
       "<style scoped>\n",
       "    .dataframe tbody tr th:only-of-type {\n",
       "        vertical-align: middle;\n",
       "    }\n",
       "\n",
       "    .dataframe tbody tr th {\n",
       "        vertical-align: top;\n",
       "    }\n",
       "\n",
       "    .dataframe thead th {\n",
       "        text-align: right;\n",
       "    }\n",
       "</style>\n",
       "<table border=\"1\" class=\"dataframe\">\n",
       "  <thead>\n",
       "    <tr style=\"text-align: right;\">\n",
       "      <th></th>\n",
       "      <th>mean</th>\n",
       "      <th>count</th>\n",
       "      <th>median</th>\n",
       "    </tr>\n",
       "    <tr>\n",
       "      <th>floor_category</th>\n",
       "      <th></th>\n",
       "      <th></th>\n",
       "      <th></th>\n",
       "    </tr>\n",
       "  </thead>\n",
       "  <tbody>\n",
       "    <tr>\n",
       "      <th>другой</th>\n",
       "      <td>6.196195e+06</td>\n",
       "      <td>16435</td>\n",
       "      <td>4750000</td>\n",
       "    </tr>\n",
       "    <tr>\n",
       "      <th>первый</th>\n",
       "      <td>4.475285e+06</td>\n",
       "      <td>2758</td>\n",
       "      <td>3850000</td>\n",
       "    </tr>\n",
       "    <tr>\n",
       "      <th>последний</th>\n",
       "      <td>5.885512e+06</td>\n",
       "      <td>3069</td>\n",
       "      <td>4150000</td>\n",
       "    </tr>\n",
       "  </tbody>\n",
       "</table>\n",
       "</div>"
      ],
      "text/plain": [
       "                        mean  count   median\n",
       "floor_category                              \n",
       "другой          6.196195e+06  16435  4750000\n",
       "первый          4.475285e+06   2758  3850000\n",
       "последний       5.885512e+06   3069  4150000"
      ]
     },
     "execution_count": 53,
     "metadata": {},
     "output_type": "execute_result"
    },
    {
     "data": {
      "image/png": "[encoded data removed]",
      "text/plain": [
       "<Figure size 432x288 with 1 Axes>"
      ]
     },
     "metadata": {
      "needs_background": "light"
     },
     "output_type": "display_data"
    }
   ],
   "source": [
    "pivot_table_floor_category = data.pivot_table(index = 'floor_category', values = 'last_price', \n",
    "                                              aggfunc = ['mean', 'count', 'median'])\n",
    "\n",
    "pivot_table_floor_category.columns = ['mean', 'count', 'median']\n",
    "pivot_table_floor_category.plot(y = 'median')\n",
    "\n",
    "pivot_table_floor_category"
   ]
  },
  {
   "cell_type": "markdown",
   "metadata": {},
   "source": [
    "Разница между ценой квадратного метра у первого и последнего этажей - примерно 6%."
   ]
  },
  {
   "cell_type": "markdown",
   "metadata": {},
   "source": [
    "**Зависимость цены от дня недели размещения объявления**"
   ]
  },
  {
   "cell_type": "code",
   "execution_count": 54,
   "metadata": {},
   "outputs": [
    {
     "data": {
      "text/html": [
       "<div>\n",
       "<style scoped>\n",
       "    .dataframe tbody tr th:only-of-type {\n",
       "        vertical-align: middle;\n",
       "    }\n",
       "\n",
       "    .dataframe tbody tr th {\n",
       "        vertical-align: top;\n",
       "    }\n",
       "\n",
       "    .dataframe thead th {\n",
       "        text-align: right;\n",
       "    }\n",
       "</style>\n",
       "<table border=\"1\" class=\"dataframe\">\n",
       "  <thead>\n",
       "    <tr style=\"text-align: right;\">\n",
       "      <th></th>\n",
       "      <th>mean</th>\n",
       "      <th>count</th>\n",
       "      <th>median</th>\n",
       "    </tr>\n",
       "    <tr>\n",
       "      <th>weekday_exposition</th>\n",
       "      <th></th>\n",
       "      <th></th>\n",
       "      <th></th>\n",
       "    </tr>\n",
       "  </thead>\n",
       "  <tbody>\n",
       "    <tr>\n",
       "      <th>1</th>\n",
       "      <td>5.887919e+06</td>\n",
       "      <td>3939</td>\n",
       "      <td>4640000</td>\n",
       "    </tr>\n",
       "    <tr>\n",
       "      <th>2</th>\n",
       "      <td>5.922732e+06</td>\n",
       "      <td>3730</td>\n",
       "      <td>4600000</td>\n",
       "    </tr>\n",
       "    <tr>\n",
       "      <th>0</th>\n",
       "      <td>5.832748e+06</td>\n",
       "      <td>3390</td>\n",
       "      <td>4550000</td>\n",
       "    </tr>\n",
       "    <tr>\n",
       "      <th>3</th>\n",
       "      <td>6.048806e+06</td>\n",
       "      <td>3993</td>\n",
       "      <td>4500000</td>\n",
       "    </tr>\n",
       "    <tr>\n",
       "      <th>4</th>\n",
       "      <td>5.924968e+06</td>\n",
       "      <td>3771</td>\n",
       "      <td>4500000</td>\n",
       "    </tr>\n",
       "    <tr>\n",
       "      <th>5</th>\n",
       "      <td>6.068956e+06</td>\n",
       "      <td>1847</td>\n",
       "      <td>4500000</td>\n",
       "    </tr>\n",
       "    <tr>\n",
       "      <th>6</th>\n",
       "      <td>5.963949e+06</td>\n",
       "      <td>1627</td>\n",
       "      <td>4500000</td>\n",
       "    </tr>\n",
       "  </tbody>\n",
       "</table>\n",
       "</div>"
      ],
      "text/plain": [
       "                            mean  count   median\n",
       "weekday_exposition                              \n",
       "1                   5.887919e+06   3939  4640000\n",
       "2                   5.922732e+06   3730  4600000\n",
       "0                   5.832748e+06   3390  4550000\n",
       "3                   6.048806e+06   3993  4500000\n",
       "4                   5.924968e+06   3771  4500000\n",
       "5                   6.068956e+06   1847  4500000\n",
       "6                   5.963949e+06   1627  4500000"
      ]
     },
     "execution_count": 54,
     "metadata": {},
     "output_type": "execute_result"
    },
    {
     "data": {
      "image/png": "[encoded data removed]",
      "text/plain": [
       "<Figure size 432x288 with 1 Axes>"
      ]
     },
     "metadata": {
      "needs_background": "light"
     },
     "output_type": "display_data"
    }
   ],
   "source": [
    "pivot_table_weekday_exposition = data.pivot_table(index = 'weekday_exposition',\n",
    "                                                  values = 'last_price',\n",
    "                                                  aggfunc = ['mean', 'count', 'median'])\n",
    "\n",
    "pivot_table_weekday_exposition.columns = ['mean', 'count', 'median']\n",
    "pivot_table_weekday_exposition.plot(y = 'median')\n",
    "\n",
    "pivot_table_weekday_exposition.sort_values('median', ascending = False)"
   ]
  },
  {
   "cell_type": "markdown",
   "metadata": {},
   "source": [
    "Видно, что чем ближе ко вторнику выставлены объявления, тем в среднем выше стоимость, но незначительно."
   ]
  },
  {
   "cell_type": "markdown",
   "metadata": {},
   "source": [
    "**Зависимость цены от месяца размещения объявления**"
   ]
  },
  {
   "cell_type": "code",
   "execution_count": 55,
   "metadata": {},
   "outputs": [
    {
     "data": {
      "text/html": [
       "<div>\n",
       "<style scoped>\n",
       "    .dataframe tbody tr th:only-of-type {\n",
       "        vertical-align: middle;\n",
       "    }\n",
       "\n",
       "    .dataframe tbody tr th {\n",
       "        vertical-align: top;\n",
       "    }\n",
       "\n",
       "    .dataframe thead th {\n",
       "        text-align: right;\n",
       "    }\n",
       "</style>\n",
       "<table border=\"1\" class=\"dataframe\">\n",
       "  <thead>\n",
       "    <tr style=\"text-align: right;\">\n",
       "      <th></th>\n",
       "      <th>mean</th>\n",
       "      <th>count</th>\n",
       "      <th>median</th>\n",
       "    </tr>\n",
       "    <tr>\n",
       "      <th>month_exposition</th>\n",
       "      <th></th>\n",
       "      <th></th>\n",
       "      <th></th>\n",
       "    </tr>\n",
       "  </thead>\n",
       "  <tbody>\n",
       "    <tr>\n",
       "      <th>4</th>\n",
       "      <td>5.899783e+06</td>\n",
       "      <td>2251</td>\n",
       "      <td>4700000</td>\n",
       "    </tr>\n",
       "    <tr>\n",
       "      <th>11</th>\n",
       "      <td>6.107081e+06</td>\n",
       "      <td>2231</td>\n",
       "      <td>4650000</td>\n",
       "    </tr>\n",
       "    <tr>\n",
       "      <th>9</th>\n",
       "      <td>5.987166e+06</td>\n",
       "      <td>1854</td>\n",
       "      <td>4600000</td>\n",
       "    </tr>\n",
       "    <tr>\n",
       "      <th>12</th>\n",
       "      <td>6.095949e+06</td>\n",
       "      <td>1533</td>\n",
       "      <td>4600000</td>\n",
       "    </tr>\n",
       "    <tr>\n",
       "      <th>2</th>\n",
       "      <td>6.030978e+06</td>\n",
       "      <td>2496</td>\n",
       "      <td>4550000</td>\n",
       "    </tr>\n",
       "    <tr>\n",
       "      <th>3</th>\n",
       "      <td>5.835755e+06</td>\n",
       "      <td>2430</td>\n",
       "      <td>4550000</td>\n",
       "    </tr>\n",
       "    <tr>\n",
       "      <th>1</th>\n",
       "      <td>6.043374e+06</td>\n",
       "      <td>1409</td>\n",
       "      <td>4500000</td>\n",
       "    </tr>\n",
       "    <tr>\n",
       "      <th>5</th>\n",
       "      <td>6.070796e+06</td>\n",
       "      <td>1196</td>\n",
       "      <td>4500000</td>\n",
       "    </tr>\n",
       "    <tr>\n",
       "      <th>7</th>\n",
       "      <td>5.837820e+06</td>\n",
       "      <td>1572</td>\n",
       "      <td>4500000</td>\n",
       "    </tr>\n",
       "    <tr>\n",
       "      <th>8</th>\n",
       "      <td>5.889252e+06</td>\n",
       "      <td>1639</td>\n",
       "      <td>4500000</td>\n",
       "    </tr>\n",
       "    <tr>\n",
       "      <th>10</th>\n",
       "      <td>5.724047e+06</td>\n",
       "      <td>2016</td>\n",
       "      <td>4500000</td>\n",
       "    </tr>\n",
       "    <tr>\n",
       "      <th>6</th>\n",
       "      <td>5.830033e+06</td>\n",
       "      <td>1670</td>\n",
       "      <td>4300000</td>\n",
       "    </tr>\n",
       "  </tbody>\n",
       "</table>\n",
       "</div>"
      ],
      "text/plain": [
       "                          mean  count   median\n",
       "month_exposition                              \n",
       "4                 5.899783e+06   2251  4700000\n",
       "11                6.107081e+06   2231  4650000\n",
       "9                 5.987166e+06   1854  4600000\n",
       "12                6.095949e+06   1533  4600000\n",
       "2                 6.030978e+06   2496  4550000\n",
       "3                 5.835755e+06   2430  4550000\n",
       "1                 6.043374e+06   1409  4500000\n",
       "5                 6.070796e+06   1196  4500000\n",
       "7                 5.837820e+06   1572  4500000\n",
       "8                 5.889252e+06   1639  4500000\n",
       "10                5.724047e+06   2016  4500000\n",
       "6                 5.830033e+06   1670  4300000"
      ]
     },
     "execution_count": 55,
     "metadata": {},
     "output_type": "execute_result"
    },
    {
     "data": {
      "image/png": "[encoded data removed]",
      "text/plain": [
       "<Figure size 432x288 with 1 Axes>"
      ]
     },
     "metadata": {
      "needs_background": "light"
     },
     "output_type": "display_data"
    }
   ],
   "source": [
    "pivot_table_month_exposition = data.pivot_table(index = 'month_exposition',\n",
    "                                                values = 'last_price',\n",
    "                                                aggfunc = ['mean', 'count', 'median'])\n",
    "\n",
    "pivot_table_month_exposition.columns = ['mean', 'count', 'median']\n",
    "pivot_table_month_exposition.plot(y = 'median')\n",
    "\n",
    "pivot_table_month_exposition.sort_values('median', ascending = False)"
   ]
  },
  {
   "cell_type": "markdown",
   "metadata": {},
   "source": [
    "Cамая высокая стоимость метра в апреле, сентябре и ноябре, в то время как самая низкая стоимость в мае, июне, июле и августе. Скорее всего, связано с дачным периодом и/или рабочими отпусками."
   ]
  },
  {
   "cell_type": "markdown",
   "metadata": {},
   "source": [
    "**Зависимость цены от года размещения объявления**"
   ]
  },
  {
   "cell_type": "code",
   "execution_count": 56,
   "metadata": {},
   "outputs": [
    {
     "data": {
      "text/html": [
       "<div>\n",
       "<style scoped>\n",
       "    .dataframe tbody tr th:only-of-type {\n",
       "        vertical-align: middle;\n",
       "    }\n",
       "\n",
       "    .dataframe tbody tr th {\n",
       "        vertical-align: top;\n",
       "    }\n",
       "\n",
       "    .dataframe thead th {\n",
       "        text-align: right;\n",
       "    }\n",
       "</style>\n",
       "<table border=\"1\" class=\"dataframe\">\n",
       "  <thead>\n",
       "    <tr style=\"text-align: right;\">\n",
       "      <th></th>\n",
       "      <th>mean</th>\n",
       "      <th>count</th>\n",
       "      <th>median</th>\n",
       "    </tr>\n",
       "    <tr>\n",
       "      <th>year_exposition</th>\n",
       "      <th></th>\n",
       "      <th></th>\n",
       "      <th></th>\n",
       "    </tr>\n",
       "  </thead>\n",
       "  <tbody>\n",
       "    <tr>\n",
       "      <th>2014</th>\n",
       "      <td>1.149045e+07</td>\n",
       "      <td>127</td>\n",
       "      <td>7500000</td>\n",
       "    </tr>\n",
       "    <tr>\n",
       "      <th>2015</th>\n",
       "      <td>7.303423e+06</td>\n",
       "      <td>1083</td>\n",
       "      <td>5100000</td>\n",
       "    </tr>\n",
       "    <tr>\n",
       "      <th>2019</th>\n",
       "      <td>6.113388e+06</td>\n",
       "      <td>2707</td>\n",
       "      <td>4950000</td>\n",
       "    </tr>\n",
       "    <tr>\n",
       "      <th>2018</th>\n",
       "      <td>5.576465e+06</td>\n",
       "      <td>8082</td>\n",
       "      <td>4500000</td>\n",
       "    </tr>\n",
       "    <tr>\n",
       "      <th>2017</th>\n",
       "      <td>5.827470e+06</td>\n",
       "      <td>7679</td>\n",
       "      <td>4412094</td>\n",
       "    </tr>\n",
       "    <tr>\n",
       "      <th>2016</th>\n",
       "      <td>6.387933e+06</td>\n",
       "      <td>2619</td>\n",
       "      <td>4400000</td>\n",
       "    </tr>\n",
       "  </tbody>\n",
       "</table>\n",
       "</div>"
      ],
      "text/plain": [
       "                         mean  count   median\n",
       "year_exposition                              \n",
       "2014             1.149045e+07    127  7500000\n",
       "2015             7.303423e+06   1083  5100000\n",
       "2019             6.113388e+06   2707  4950000\n",
       "2018             5.576465e+06   8082  4500000\n",
       "2017             5.827470e+06   7679  4412094\n",
       "2016             6.387933e+06   2619  4400000"
      ]
     },
     "execution_count": 56,
     "metadata": {},
     "output_type": "execute_result"
    },
    {
     "data": {
      "image/png": "[encoded data removed]",
      "text/plain": [
       "<Figure size 432x288 with 1 Axes>"
      ]
     },
     "metadata": {
      "needs_background": "light"
     },
     "output_type": "display_data"
    }
   ],
   "source": [
    "pivot_table_year_exposition = data.pivot_table(index = 'year_exposition',\n",
    "                                               values = 'last_price',\n",
    "                                               aggfunc = ['mean', 'count', 'median'])\n",
    "\n",
    "pivot_table_year_exposition.columns = ['mean', 'count', 'median']\n",
    "pivot_table_year_exposition.plot(y = 'median')\n",
    "\n",
    "pivot_table_year_exposition.sort_values('median', ascending = False)"
   ]
  },
  {
   "cell_type": "markdown",
   "metadata": {},
   "source": [
    "Цена на квартиры сильно упала после 2014 года. Возможно, такая аномалия зависит не от года. Проверим зависимости других значений от года размещения объявления. "
   ]
  },
  {
   "cell_type": "code",
   "execution_count": 57,
   "metadata": {
    "scrolled": false
   },
   "outputs": [
    {
     "data": {
      "text/html": [
       "<div>\n",
       "<style scoped>\n",
       "    .dataframe tbody tr th:only-of-type {\n",
       "        vertical-align: middle;\n",
       "    }\n",
       "\n",
       "    .dataframe tbody tr th {\n",
       "        vertical-align: top;\n",
       "    }\n",
       "\n",
       "    .dataframe thead th {\n",
       "        text-align: right;\n",
       "    }\n",
       "</style>\n",
       "<table border=\"1\" class=\"dataframe\">\n",
       "  <thead>\n",
       "    <tr style=\"text-align: right;\">\n",
       "      <th></th>\n",
       "      <th>mean</th>\n",
       "      <th>count</th>\n",
       "      <th>median</th>\n",
       "    </tr>\n",
       "    <tr>\n",
       "      <th>year_exposition</th>\n",
       "      <th></th>\n",
       "      <th></th>\n",
       "      <th></th>\n",
       "    </tr>\n",
       "  </thead>\n",
       "  <tbody>\n",
       "    <tr>\n",
       "      <th>2014</th>\n",
       "      <td>83.549055</td>\n",
       "      <td>127</td>\n",
       "      <td>75.5</td>\n",
       "    </tr>\n",
       "    <tr>\n",
       "      <th>2015</th>\n",
       "      <td>66.161283</td>\n",
       "      <td>1083</td>\n",
       "      <td>58.0</td>\n",
       "    </tr>\n",
       "    <tr>\n",
       "      <th>2016</th>\n",
       "      <td>59.409156</td>\n",
       "      <td>2619</td>\n",
       "      <td>52.0</td>\n",
       "    </tr>\n",
       "    <tr>\n",
       "      <th>2017</th>\n",
       "      <td>57.925493</td>\n",
       "      <td>7679</td>\n",
       "      <td>51.0</td>\n",
       "    </tr>\n",
       "    <tr>\n",
       "      <th>2019</th>\n",
       "      <td>56.632324</td>\n",
       "      <td>2707</td>\n",
       "      <td>51.0</td>\n",
       "    </tr>\n",
       "    <tr>\n",
       "      <th>2018</th>\n",
       "      <td>56.104337</td>\n",
       "      <td>8082</td>\n",
       "      <td>50.0</td>\n",
       "    </tr>\n",
       "  </tbody>\n",
       "</table>\n",
       "</div>"
      ],
      "text/plain": [
       "                      mean  count  median\n",
       "year_exposition                          \n",
       "2014             83.549055    127    75.5\n",
       "2015             66.161283   1083    58.0\n",
       "2016             59.409156   2619    52.0\n",
       "2017             57.925493   7679    51.0\n",
       "2019             56.632324   2707    51.0\n",
       "2018             56.104337   8082    50.0"
      ]
     },
     "execution_count": 57,
     "metadata": {},
     "output_type": "execute_result"
    },
    {
     "data": {
      "image/png": "[encoded data removed]",
      "text/plain": [
       "<Figure size 432x288 with 1 Axes>"
      ]
     },
     "metadata": {
      "needs_background": "light"
     },
     "output_type": "display_data"
    }
   ],
   "source": [
    "pivot_table_year_exposition_with_total_area = data.pivot_table(index = 'year_exposition', \n",
    "                                                               values = 'total_area', \n",
    "                                                               aggfunc = ['mean', 'count', 'median'])\n",
    "\n",
    "pivot_table_year_exposition_with_total_area.columns = ['mean', 'count', 'median']\n",
    "pivot_table_year_exposition_with_total_area.plot(y = 'median')\n",
    "\n",
    "pivot_table_year_exposition_with_total_area.sort_values('median', ascending = False)"
   ]
  },
  {
   "cell_type": "markdown",
   "metadata": {},
   "source": [
    "Видно, что линия на этом графике похожа на линию из предыдущего графика. Можно сделать вывод, что цена не зависит от года размещения квартиры, но зависит от общей площади квартиры (данную закономерность мы уже выявили ранее)."
   ]
  },
  {
   "cell_type": "markdown",
   "metadata": {},
   "source": [
    "#### Подсчёт средней цены одного квадратного метра в 10 населённых пунктах с наибольшим числом объявлений"
   ]
  },
  {
   "cell_type": "code",
   "execution_count": 58,
   "metadata": {
    "scrolled": true
   },
   "outputs": [
    {
     "name": "stdout",
     "output_type": "stream",
     "text": [
      "                   count           mean    median\n",
      "locality_name                                    \n",
      "Санкт-Петербург    14571  112356.695148  104005.0\n",
      "посёлок Мурино       529   85003.597353   84239.0\n",
      "посёлок Шушары       435   78382.186207   76666.0\n",
      "Всеволожск           388   68570.873711   65737.5\n",
      "Пушкин               349  102387.848138   99987.0\n",
      "Колпино              330   75439.484848   74729.0\n",
      "посёлок Парголово    322   90448.000000   91984.0\n",
      "Гатчина              304   68665.394737   67745.5\n",
      "деревня Кудрово      283   92296.749117   91666.0\n",
      "Выборг               223   57835.852018   57613.0\n",
      "                 count           mean    median\n",
      "locality_name                                  \n",
      "Санкт-Петербург  14571  112356.695148  104005.0\n",
      "               count          mean   median\n",
      "locality_name                              \n",
      "Выборг           223  57835.852018  57613.0\n"
     ]
    }
   ],
   "source": [
    "locality_pivot_table = data.pivot_table(index = 'locality_name',\n",
    "                                        values = 'price_per_square_meter',\n",
    "                                        aggfunc = ['count', 'mean', 'median'])\n",
    "locality_pivot_table.columns = ['count', 'mean', 'median']\n",
    "locality_pivot_table = locality_pivot_table.sort_values('count', ascending = False).head(10)\n",
    "\n",
    "print(locality_pivot_table)\n",
    "\n",
    "print(locality_pivot_table[locality_pivot_table['median'] == locality_pivot_table['median'].max()]) #самая высокая стоимость\n",
    "\n",
    "print(locality_pivot_table[locality_pivot_table['median'] == locality_pivot_table['median'].min()]) #самая низкая стоимость"
   ]
  },
  {
   "cell_type": "markdown",
   "metadata": {},
   "source": [
    "Населённый пункты с самой высокой стоимостью квадратного метра - Санкт-Петербург, а с самой низкой - Выборг."
   ]
  },
  {
   "cell_type": "markdown",
   "metadata": {},
   "source": [
    "#### Средняя цена километра"
   ]
  },
  {
   "cell_type": "code",
   "execution_count": 59,
   "metadata": {
    "scrolled": false
   },
   "outputs": [
    {
     "name": "stdout",
     "output_type": "stream",
     "text": [
      "                        price_per_square_meter\n",
      "cityCenters_nearest_km                        \n",
      "0.0                              316428.916667\n",
      "7.0                              151532.047745\n",
      "2.0                              150898.929348\n",
      "1.0                              149403.297521\n",
      "6.0                              146837.728682\n",
      "5.0                              143586.264957\n",
      "27.0                             132115.000000\n",
      "4.0                              130327.062622\n",
      "8.0                              124441.818182\n",
      "3.0                              121786.138393\n",
      "10.0                             112734.732475\n",
      "9.0                              112474.653097\n",
      "11.0                             108400.973299\n",
      "13.0                             107909.760642\n",
      "12.0                             107360.348896\n",
      "15.0                             104168.004522\n",
      "14.0                             104019.961814\n",
      "20.0                             101390.913043\n",
      "16.0                             100375.506816\n",
      "19.0                              98703.225806\n",
      "18.0                              96323.942085\n",
      "17.0                              96282.048555\n",
      "21.0                              94540.370690\n",
      "23.0                              92093.841463\n",
      "25.0                              91944.880000\n",
      "22.0                              91329.965347\n",
      "26.0                              89969.442308\n",
      "24.0                              84962.000000\n",
      "28.0                              81161.571429\n",
      "29.0                              76811.750000\n"
     ]
    }
   ],
   "source": [
    "SPb = data.query('locality_name == \"Санкт-Петербург\"')\n",
    "\n",
    "km_mean_cost = SPb.pivot_table(index = 'cityCenters_nearest_km',\n",
    "                                values = 'price_per_square_meter',\n",
    "                                aggfunc = 'mean')\n",
    "\n",
    "print(km_mean_cost.sort_values('price_per_square_meter', ascending = False))"
   ]
  },
  {
   "cell_type": "code",
   "execution_count": 62,
   "metadata": {},
   "outputs": [
    {
     "data": {
      "image/png": "[encoded data removed]",
      "text/plain": [
       "<Figure size 432x288 with 1 Axes>"
      ]
     },
     "metadata": {
      "needs_background": "light"
     },
     "output_type": "display_data"
    }
   ],
   "source": [
    "km_mean_cost = km_mean_cost.sort_values(by = 'cityCenters_nearest_km')\n",
    "\n",
    "seaborn.barplot(data = data, x = 'cityCenters_nearest_km', y = 'price_per_square_meter')\n",
    "plt.title('Заголовок')\n",
    "plt.show()"
   ]
  },
  {
   "cell_type": "markdown",
   "metadata": {},
   "source": [
    "Чем ближе квартира к центру, тем дороже она стоит, хотя и встречаются исключения из этого правила."
   ]
  },
  {
   "cell_type": "markdown",
   "metadata": {},
   "source": [
    "**Вывод:** был проведён исследовательский анализ данных, выявлены некоторые закономерности."
   ]
  },
  {
   "cell_type": "markdown",
   "metadata": {},
   "source": [
    "### Общий вывод"
   ]
  },
  {
   "cell_type": "markdown",
   "metadata": {},
   "source": [
    "Был обработан датасет с данными об объявлениях о продаже квартир в Санкт-Петербурге и соседних населённых пунктов за несколько лет. \n",
    "\n",
    "Была произведена предобработка данных - обработаны пропущенные значения там, где это необходимо, заменены типы данных на необходимые для удобной работы. Посчитаны и добавилены в таблицу следующие столбцы: цена квадратного метра жилья; день, месяц и год недели размещения объявлений, выведенные из даты размещения; тип этажа квартиры; расстояние до центра населённого пункта в километрах.\n",
    "\n",
    "Были изучены следующие параметры на наличие выбивающихся значений - площадь, цена, число комнат, высота потолков. Были определены аномалии в данных параметрах. \n",
    "\n",
    "Было выявлено, что нормальные значения продажи квартир варьируются от 1 до 600 дней. \n",
    "\n",
    "Было установлено, что на стоимость квадратного метра квартиры больше всего влияют следующие параметры: жилая, общая площади квартиры вместе с площадью кухни, количество комнат, близость к центру и этаж квартиры. Незначительно на стоимость квадратного метра влияют остальные параметры: день, месяц, год размещения объявления о продаже.\n",
    "\n",
    "Было обнаружено падение цены в 2015 году, но данное наблюдение было связано с уменьшением площадей "
   ]
  }
 ],
 "metadata": {
  "ExecuteTimeLog": [
   {
    "duration": 402,
    "start_time": "2022-10-07T18:32:48.485Z"
   },
   {
    "duration": 617,
    "start_time": "2022-10-07T18:33:16.774Z"
   },
   {
    "duration": 94,
    "start_time": "2022-10-07T18:34:10.913Z"
   },
   {
    "duration": 60,
    "start_time": "2022-10-07T18:34:19.237Z"
   },
   {
    "duration": 15,
    "start_time": "2022-10-07T18:34:25.197Z"
   },
   {
    "duration": 30,
    "start_time": "2022-10-07T18:34:38.482Z"
   },
   {
    "duration": 2469,
    "start_time": "2022-10-07T18:39:04.206Z"
   },
   {
    "duration": 46,
    "start_time": "2022-10-15T05:43:12.293Z"
   },
   {
    "duration": 524,
    "start_time": "2022-10-15T05:43:26.297Z"
   },
   {
    "duration": 16,
    "start_time": "2022-10-15T05:43:26.823Z"
   },
   {
    "duration": 31,
    "start_time": "2022-10-15T05:43:26.840Z"
   },
   {
    "duration": 2208,
    "start_time": "2022-10-15T05:43:26.873Z"
   },
   {
    "duration": 663,
    "start_time": "2022-10-23T06:04:30.934Z"
   },
   {
    "duration": 13,
    "start_time": "2022-10-23T06:04:31.599Z"
   },
   {
    "duration": 34,
    "start_time": "2022-10-23T06:04:31.614Z"
   },
   {
    "duration": 2203,
    "start_time": "2022-10-23T06:04:31.649Z"
   },
   {
    "duration": 73,
    "start_time": "2022-10-23T06:04:33.854Z"
   },
   {
    "duration": 6,
    "start_time": "2022-10-23T06:05:01.513Z"
   },
   {
    "duration": 5,
    "start_time": "2022-10-23T06:05:53.894Z"
   },
   {
    "duration": 27,
    "start_time": "2022-10-23T06:06:08.678Z"
   },
   {
    "duration": 69,
    "start_time": "2022-10-23T06:06:18.590Z"
   },
   {
    "duration": 31,
    "start_time": "2022-10-23T06:06:29.070Z"
   },
   {
    "duration": 32,
    "start_time": "2022-10-23T06:06:41.430Z"
   },
   {
    "duration": 57,
    "start_time": "2022-10-23T06:07:02.830Z"
   },
   {
    "duration": 16,
    "start_time": "2022-10-23T06:12:10.883Z"
   },
   {
    "duration": 77,
    "start_time": "2022-10-23T06:15:31.927Z"
   },
   {
    "duration": 8,
    "start_time": "2022-10-23T06:15:38.963Z"
   },
   {
    "duration": 5,
    "start_time": "2022-10-23T06:42:49.395Z"
   },
   {
    "duration": 5,
    "start_time": "2022-10-23T06:42:53.537Z"
   },
   {
    "duration": 10,
    "start_time": "2022-10-23T06:43:18.357Z"
   },
   {
    "duration": 6,
    "start_time": "2022-10-23T06:54:28.254Z"
   },
   {
    "duration": 7,
    "start_time": "2022-10-23T06:55:05.090Z"
   },
   {
    "duration": 16,
    "start_time": "2022-10-23T06:56:15.407Z"
   },
   {
    "duration": 17,
    "start_time": "2022-10-23T06:56:53.723Z"
   },
   {
    "duration": 10,
    "start_time": "2022-10-23T06:57:56.257Z"
   },
   {
    "duration": 15,
    "start_time": "2022-10-23T06:59:07.979Z"
   },
   {
    "duration": 1665,
    "start_time": "2022-10-23T07:00:04.801Z"
   },
   {
    "duration": 11,
    "start_time": "2022-10-23T07:00:13.733Z"
   },
   {
    "duration": 17,
    "start_time": "2022-10-23T07:01:21.463Z"
   },
   {
    "duration": 10,
    "start_time": "2022-10-23T07:31:11.631Z"
   },
   {
    "duration": 19,
    "start_time": "2022-10-23T07:31:13.535Z"
   },
   {
    "duration": 19,
    "start_time": "2022-10-23T07:31:16.732Z"
   },
   {
    "duration": 7,
    "start_time": "2022-10-23T07:31:40.969Z"
   },
   {
    "duration": 8,
    "start_time": "2022-10-23T09:06:02.921Z"
   },
   {
    "duration": 7,
    "start_time": "2022-10-23T09:07:19.256Z"
   },
   {
    "duration": 4,
    "start_time": "2022-10-23T09:08:14.255Z"
   },
   {
    "duration": 9,
    "start_time": "2022-10-23T09:13:01.562Z"
   },
   {
    "duration": 19,
    "start_time": "2022-10-23T09:13:07.751Z"
   },
   {
    "duration": 437,
    "start_time": "2022-10-23T09:13:13.537Z"
   },
   {
    "duration": 14,
    "start_time": "2022-10-23T09:13:13.976Z"
   },
   {
    "duration": 30,
    "start_time": "2022-10-23T09:13:13.991Z"
   },
   {
    "duration": 1988,
    "start_time": "2022-10-23T09:13:14.023Z"
   },
   {
    "duration": 16,
    "start_time": "2022-10-23T09:13:16.014Z"
   },
   {
    "duration": 14,
    "start_time": "2022-10-23T09:13:16.031Z"
   },
   {
    "duration": 11,
    "start_time": "2022-10-23T09:13:16.047Z"
   },
   {
    "duration": 10,
    "start_time": "2022-10-23T09:13:16.059Z"
   },
   {
    "duration": 1782,
    "start_time": "2022-10-23T09:25:19.174Z"
   },
   {
    "duration": 14,
    "start_time": "2022-10-23T09:25:27.922Z"
   },
   {
    "duration": 8,
    "start_time": "2022-10-23T09:25:41.350Z"
   },
   {
    "duration": 9,
    "start_time": "2022-10-23T09:26:07.908Z"
   },
   {
    "duration": 504,
    "start_time": "2022-10-23T09:26:16.399Z"
   },
   {
    "duration": 14,
    "start_time": "2022-10-23T09:26:16.905Z"
   },
   {
    "duration": 30,
    "start_time": "2022-10-23T09:26:16.920Z"
   },
   {
    "duration": 2189,
    "start_time": "2022-10-23T09:26:16.951Z"
   },
   {
    "duration": 9,
    "start_time": "2022-10-23T09:26:19.141Z"
   },
   {
    "duration": 8,
    "start_time": "2022-10-23T09:26:19.151Z"
   },
   {
    "duration": 12,
    "start_time": "2022-10-23T09:26:19.161Z"
   },
   {
    "duration": 6,
    "start_time": "2022-10-23T09:26:19.174Z"
   },
   {
    "duration": 10,
    "start_time": "2022-10-23T09:26:26.265Z"
   },
   {
    "duration": 9,
    "start_time": "2022-10-23T09:27:05.503Z"
   },
   {
    "duration": 9,
    "start_time": "2022-10-23T09:27:06.353Z"
   },
   {
    "duration": 480,
    "start_time": "2022-10-23T09:27:35.316Z"
   },
   {
    "duration": 15,
    "start_time": "2022-10-23T09:27:35.797Z"
   },
   {
    "duration": 30,
    "start_time": "2022-10-23T09:27:35.813Z"
   },
   {
    "duration": 2259,
    "start_time": "2022-10-23T09:27:35.845Z"
   },
   {
    "duration": 10,
    "start_time": "2022-10-23T09:27:38.107Z"
   },
   {
    "duration": 3,
    "start_time": "2022-10-23T09:27:38.119Z"
   },
   {
    "duration": 11,
    "start_time": "2022-10-23T09:27:38.124Z"
   },
   {
    "duration": 15,
    "start_time": "2022-10-23T09:27:38.136Z"
   },
   {
    "duration": 10,
    "start_time": "2022-10-23T09:27:38.152Z"
   },
   {
    "duration": 3,
    "start_time": "2022-10-23T09:30:16.085Z"
   },
   {
    "duration": 16,
    "start_time": "2022-10-23T09:30:19.516Z"
   },
   {
    "duration": 6,
    "start_time": "2022-10-23T16:39:58.773Z"
   },
   {
    "duration": 9,
    "start_time": "2022-10-23T16:40:16.100Z"
   },
   {
    "duration": 3,
    "start_time": "2022-10-23T16:40:32.339Z"
   },
   {
    "duration": 8,
    "start_time": "2022-10-23T16:40:34.087Z"
   },
   {
    "duration": 62,
    "start_time": "2022-10-23T16:47:09.656Z"
   },
   {
    "duration": 9,
    "start_time": "2022-10-23T16:47:20.454Z"
   },
   {
    "duration": 17,
    "start_time": "2022-10-23T16:47:30.340Z"
   },
   {
    "duration": 14,
    "start_time": "2022-10-23T16:48:02.671Z"
   },
   {
    "duration": 29,
    "start_time": "2022-10-23T16:48:31.435Z"
   },
   {
    "duration": 7,
    "start_time": "2022-10-23T16:48:52.865Z"
   },
   {
    "duration": 26,
    "start_time": "2022-10-23T16:49:09.254Z"
   },
   {
    "duration": 17,
    "start_time": "2022-10-23T16:54:12.975Z"
   },
   {
    "duration": 4,
    "start_time": "2022-10-23T16:54:52.857Z"
   },
   {
    "duration": 4,
    "start_time": "2022-10-23T16:55:03.188Z"
   },
   {
    "duration": 9,
    "start_time": "2022-10-23T16:55:12.717Z"
   },
   {
    "duration": 7,
    "start_time": "2022-10-23T16:55:19.796Z"
   },
   {
    "duration": 484,
    "start_time": "2022-10-23T16:55:47.484Z"
   },
   {
    "duration": 14,
    "start_time": "2022-10-23T16:55:47.970Z"
   },
   {
    "duration": 41,
    "start_time": "2022-10-23T16:55:47.987Z"
   },
   {
    "duration": 1928,
    "start_time": "2022-10-23T16:55:48.031Z"
   },
   {
    "duration": 8,
    "start_time": "2022-10-23T16:55:49.961Z"
   },
   {
    "duration": 1192,
    "start_time": "2022-10-23T16:55:49.970Z"
   },
   {
    "duration": 0,
    "start_time": "2022-10-23T16:55:51.164Z"
   },
   {
    "duration": 0,
    "start_time": "2022-10-23T16:55:51.165Z"
   },
   {
    "duration": 0,
    "start_time": "2022-10-23T16:55:51.166Z"
   },
   {
    "duration": 411,
    "start_time": "2022-10-23T16:56:26.055Z"
   },
   {
    "duration": 13,
    "start_time": "2022-10-23T16:56:26.468Z"
   },
   {
    "duration": 38,
    "start_time": "2022-10-23T16:56:26.482Z"
   },
   {
    "duration": 2074,
    "start_time": "2022-10-23T16:56:26.522Z"
   },
   {
    "duration": 8,
    "start_time": "2022-10-23T16:56:28.597Z"
   },
   {
    "duration": 8,
    "start_time": "2022-10-23T16:56:28.607Z"
   },
   {
    "duration": 3,
    "start_time": "2022-10-23T16:56:28.617Z"
   },
   {
    "duration": 9,
    "start_time": "2022-10-23T16:56:28.621Z"
   },
   {
    "duration": 26,
    "start_time": "2022-10-23T16:56:28.631Z"
   },
   {
    "duration": 67,
    "start_time": "2022-10-23T16:56:59.328Z"
   },
   {
    "duration": 14,
    "start_time": "2022-10-23T16:57:22.268Z"
   },
   {
    "duration": 15,
    "start_time": "2022-10-23T16:57:46.816Z"
   },
   {
    "duration": 11,
    "start_time": "2022-10-23T16:59:23.004Z"
   },
   {
    "duration": 10,
    "start_time": "2022-10-23T17:01:42.464Z"
   },
   {
    "duration": 8,
    "start_time": "2022-10-23T17:01:53.451Z"
   },
   {
    "duration": 20,
    "start_time": "2022-10-23T17:02:16.520Z"
   },
   {
    "duration": 8,
    "start_time": "2022-10-23T17:08:05.287Z"
   },
   {
    "duration": 4,
    "start_time": "2022-10-23T17:48:32.864Z"
   },
   {
    "duration": 13,
    "start_time": "2022-10-23T18:03:44.981Z"
   },
   {
    "duration": 8,
    "start_time": "2022-10-23T18:03:54.296Z"
   },
   {
    "duration": 240,
    "start_time": "2022-10-23T18:39:33.351Z"
   },
   {
    "duration": 6,
    "start_time": "2022-10-23T18:40:00.410Z"
   },
   {
    "duration": 11,
    "start_time": "2022-10-23T18:40:06.639Z"
   },
   {
    "duration": 8,
    "start_time": "2022-10-23T18:40:13.707Z"
   },
   {
    "duration": 5,
    "start_time": "2022-10-23T18:40:54.821Z"
   },
   {
    "duration": 9,
    "start_time": "2022-10-23T18:41:04.092Z"
   },
   {
    "duration": 27,
    "start_time": "2022-10-23T18:42:25.403Z"
   },
   {
    "duration": 30,
    "start_time": "2022-10-23T18:42:54.859Z"
   },
   {
    "duration": 434,
    "start_time": "2022-10-23T18:44:05.455Z"
   },
   {
    "duration": 15,
    "start_time": "2022-10-23T18:44:05.890Z"
   },
   {
    "duration": 28,
    "start_time": "2022-10-23T18:44:05.906Z"
   },
   {
    "duration": 2132,
    "start_time": "2022-10-23T18:44:05.936Z"
   },
   {
    "duration": 13,
    "start_time": "2022-10-23T18:44:08.070Z"
   },
   {
    "duration": 14,
    "start_time": "2022-10-23T18:44:08.085Z"
   },
   {
    "duration": 4,
    "start_time": "2022-10-23T18:44:08.101Z"
   },
   {
    "duration": 16,
    "start_time": "2022-10-23T18:44:08.107Z"
   },
   {
    "duration": 27,
    "start_time": "2022-10-23T18:44:08.125Z"
   },
   {
    "duration": 4,
    "start_time": "2022-10-23T18:44:08.154Z"
   },
   {
    "duration": 23,
    "start_time": "2022-10-23T18:44:08.159Z"
   },
   {
    "duration": 6,
    "start_time": "2022-10-23T19:52:01.925Z"
   },
   {
    "duration": 3,
    "start_time": "2022-10-23T20:24:20.178Z"
   },
   {
    "duration": 451,
    "start_time": "2022-10-23T20:24:25.316Z"
   },
   {
    "duration": 14,
    "start_time": "2022-10-23T20:24:25.769Z"
   },
   {
    "duration": 41,
    "start_time": "2022-10-23T20:24:25.785Z"
   },
   {
    "duration": 2071,
    "start_time": "2022-10-23T20:24:25.828Z"
   },
   {
    "duration": 21,
    "start_time": "2022-10-23T20:24:27.902Z"
   },
   {
    "duration": 14,
    "start_time": "2022-10-23T20:24:27.925Z"
   },
   {
    "duration": 4,
    "start_time": "2022-10-23T20:24:27.940Z"
   },
   {
    "duration": 14,
    "start_time": "2022-10-23T20:24:27.945Z"
   },
   {
    "duration": 22,
    "start_time": "2022-10-23T20:24:27.960Z"
   },
   {
    "duration": 5,
    "start_time": "2022-10-23T20:24:27.985Z"
   },
   {
    "duration": 15,
    "start_time": "2022-10-23T20:24:27.991Z"
   },
   {
    "duration": 9,
    "start_time": "2022-10-23T20:24:28.009Z"
   },
   {
    "duration": 9,
    "start_time": "2022-10-23T20:25:28.150Z"
   },
   {
    "duration": 14,
    "start_time": "2022-10-23T20:26:19.775Z"
   },
   {
    "duration": 7,
    "start_time": "2022-10-23T20:26:45.578Z"
   },
   {
    "duration": 14,
    "start_time": "2022-10-23T20:26:45.863Z"
   },
   {
    "duration": 8,
    "start_time": "2022-10-23T20:30:16.518Z"
   },
   {
    "duration": 74,
    "start_time": "2022-10-23T20:31:05.298Z"
   },
   {
    "duration": 8,
    "start_time": "2022-10-23T20:31:13.342Z"
   },
   {
    "duration": 7,
    "start_time": "2022-10-23T20:31:45.259Z"
   },
   {
    "duration": 12,
    "start_time": "2022-10-23T20:31:54.212Z"
   },
   {
    "duration": 8,
    "start_time": "2022-10-23T20:32:06.265Z"
   },
   {
    "duration": 6,
    "start_time": "2022-10-23T20:33:58.998Z"
   },
   {
    "duration": 28,
    "start_time": "2022-10-23T20:34:09.002Z"
   },
   {
    "duration": 24,
    "start_time": "2022-10-23T21:26:49.766Z"
   },
   {
    "duration": 45,
    "start_time": "2022-10-23T21:27:02.368Z"
   },
   {
    "duration": 55,
    "start_time": "2022-10-23T21:27:23.031Z"
   },
   {
    "duration": 38,
    "start_time": "2022-10-23T21:27:32.351Z"
   },
   {
    "duration": 28,
    "start_time": "2022-10-23T21:27:45.343Z"
   },
   {
    "duration": 7,
    "start_time": "2022-10-23T21:28:09.656Z"
   },
   {
    "duration": 460,
    "start_time": "2022-10-23T21:28:15.568Z"
   },
   {
    "duration": 18,
    "start_time": "2022-10-23T21:28:16.030Z"
   },
   {
    "duration": 37,
    "start_time": "2022-10-23T21:28:16.049Z"
   },
   {
    "duration": 2224,
    "start_time": "2022-10-23T21:28:16.088Z"
   },
   {
    "duration": 14,
    "start_time": "2022-10-23T21:28:18.314Z"
   },
   {
    "duration": 22,
    "start_time": "2022-10-23T21:28:18.330Z"
   },
   {
    "duration": 3,
    "start_time": "2022-10-23T21:28:18.354Z"
   },
   {
    "duration": 10,
    "start_time": "2022-10-23T21:28:18.358Z"
   },
   {
    "duration": 20,
    "start_time": "2022-10-23T21:28:18.369Z"
   },
   {
    "duration": 3,
    "start_time": "2022-10-23T21:28:18.391Z"
   },
   {
    "duration": 13,
    "start_time": "2022-10-23T21:28:18.396Z"
   },
   {
    "duration": 35,
    "start_time": "2022-10-23T21:28:18.410Z"
   },
   {
    "duration": 13,
    "start_time": "2022-10-23T21:28:18.447Z"
   },
   {
    "duration": 7,
    "start_time": "2022-10-23T21:28:18.461Z"
   },
   {
    "duration": 19,
    "start_time": "2022-10-23T21:28:18.469Z"
   },
   {
    "duration": 38,
    "start_time": "2022-10-23T21:28:18.490Z"
   },
   {
    "duration": 15,
    "start_time": "2022-10-23T21:29:27.734Z"
   },
   {
    "duration": 74,
    "start_time": "2022-10-23T21:51:32.301Z"
   },
   {
    "duration": 1118,
    "start_time": "2022-10-23T21:51:47.636Z"
   },
   {
    "duration": 1222,
    "start_time": "2022-10-23T21:52:33.123Z"
   },
   {
    "duration": 9,
    "start_time": "2022-10-23T21:52:53.722Z"
   },
   {
    "duration": 2364,
    "start_time": "2022-10-23T21:53:47.465Z"
   },
   {
    "duration": 9,
    "start_time": "2022-10-23T21:53:50.444Z"
   },
   {
    "duration": 472,
    "start_time": "2022-10-23T21:54:30.066Z"
   },
   {
    "duration": 15,
    "start_time": "2022-10-23T21:54:30.540Z"
   },
   {
    "duration": 43,
    "start_time": "2022-10-23T21:54:30.557Z"
   },
   {
    "duration": 2004,
    "start_time": "2022-10-23T21:54:30.604Z"
   },
   {
    "duration": 12,
    "start_time": "2022-10-23T21:54:32.609Z"
   },
   {
    "duration": 10,
    "start_time": "2022-10-23T21:54:32.622Z"
   },
   {
    "duration": 3,
    "start_time": "2022-10-23T21:54:32.634Z"
   },
   {
    "duration": 9,
    "start_time": "2022-10-23T21:54:32.639Z"
   },
   {
    "duration": 33,
    "start_time": "2022-10-23T21:54:32.650Z"
   },
   {
    "duration": 5,
    "start_time": "2022-10-23T21:54:32.707Z"
   },
   {
    "duration": 21,
    "start_time": "2022-10-23T21:54:32.714Z"
   },
   {
    "duration": 14,
    "start_time": "2022-10-23T21:54:32.737Z"
   },
   {
    "duration": 14,
    "start_time": "2022-10-23T21:54:32.753Z"
   },
   {
    "duration": 9,
    "start_time": "2022-10-23T21:54:32.768Z"
   },
   {
    "duration": 38,
    "start_time": "2022-10-23T21:54:32.778Z"
   },
   {
    "duration": 28,
    "start_time": "2022-10-23T21:54:32.817Z"
   },
   {
    "duration": 20,
    "start_time": "2022-10-23T21:54:32.847Z"
   },
   {
    "duration": 2520,
    "start_time": "2022-10-23T21:54:32.869Z"
   },
   {
    "duration": 18,
    "start_time": "2022-10-23T21:54:35.391Z"
   },
   {
    "duration": 2468,
    "start_time": "2022-10-23T21:55:03.476Z"
   },
   {
    "duration": 559,
    "start_time": "2022-10-23T21:55:17.286Z"
   },
   {
    "duration": 15,
    "start_time": "2022-10-23T21:55:17.847Z"
   },
   {
    "duration": 42,
    "start_time": "2022-10-23T21:55:17.863Z"
   },
   {
    "duration": 2008,
    "start_time": "2022-10-23T21:55:17.907Z"
   },
   {
    "duration": 10,
    "start_time": "2022-10-23T21:55:19.917Z"
   },
   {
    "duration": 11,
    "start_time": "2022-10-23T21:55:19.929Z"
   },
   {
    "duration": 4,
    "start_time": "2022-10-23T21:55:19.941Z"
   },
   {
    "duration": 13,
    "start_time": "2022-10-23T21:55:19.947Z"
   },
   {
    "duration": 20,
    "start_time": "2022-10-23T21:55:19.961Z"
   },
   {
    "duration": 4,
    "start_time": "2022-10-23T21:55:20.005Z"
   },
   {
    "duration": 11,
    "start_time": "2022-10-23T21:55:20.011Z"
   },
   {
    "duration": 12,
    "start_time": "2022-10-23T21:55:20.024Z"
   },
   {
    "duration": 13,
    "start_time": "2022-10-23T21:55:20.038Z"
   },
   {
    "duration": 7,
    "start_time": "2022-10-23T21:55:20.053Z"
   },
   {
    "duration": 16,
    "start_time": "2022-10-23T21:55:20.062Z"
   },
   {
    "duration": 27,
    "start_time": "2022-10-23T21:55:20.106Z"
   },
   {
    "duration": 16,
    "start_time": "2022-10-23T21:55:20.135Z"
   },
   {
    "duration": 2430,
    "start_time": "2022-10-23T21:55:20.153Z"
   },
   {
    "duration": 21,
    "start_time": "2022-10-23T21:55:22.585Z"
   },
   {
    "duration": 2120,
    "start_time": "2022-10-23T21:55:29.699Z"
   },
   {
    "duration": 8,
    "start_time": "2022-10-23T21:55:33.550Z"
   },
   {
    "duration": 5,
    "start_time": "2022-10-23T22:04:18.551Z"
   },
   {
    "duration": 6,
    "start_time": "2022-10-23T22:04:26.578Z"
   },
   {
    "duration": 7,
    "start_time": "2022-10-23T22:17:43.584Z"
   },
   {
    "duration": 7,
    "start_time": "2022-10-23T22:17:53.276Z"
   },
   {
    "duration": 94,
    "start_time": "2022-10-23T22:26:43.993Z"
   },
   {
    "duration": 72,
    "start_time": "2022-10-23T22:29:39.204Z"
   },
   {
    "duration": 7,
    "start_time": "2022-10-23T22:29:45.390Z"
   },
   {
    "duration": 8,
    "start_time": "2022-10-23T22:30:02.525Z"
   },
   {
    "duration": 6,
    "start_time": "2022-10-23T22:30:06.903Z"
   },
   {
    "duration": 8,
    "start_time": "2022-10-23T22:32:09.360Z"
   },
   {
    "duration": 6,
    "start_time": "2022-10-23T22:32:39.128Z"
   },
   {
    "duration": 6,
    "start_time": "2022-10-23T22:32:46.069Z"
   },
   {
    "duration": 191,
    "start_time": "2022-10-23T22:33:21.376Z"
   },
   {
    "duration": 5,
    "start_time": "2022-10-23T22:33:56.324Z"
   },
   {
    "duration": 4,
    "start_time": "2022-10-23T22:33:56.409Z"
   },
   {
    "duration": 4,
    "start_time": "2022-10-23T22:34:16.113Z"
   },
   {
    "duration": 5,
    "start_time": "2022-10-23T22:34:16.352Z"
   },
   {
    "duration": 414,
    "start_time": "2022-10-23T22:34:24.351Z"
   },
   {
    "duration": 15,
    "start_time": "2022-10-23T22:34:24.767Z"
   },
   {
    "duration": 40,
    "start_time": "2022-10-23T22:34:24.784Z"
   },
   {
    "duration": 1964,
    "start_time": "2022-10-23T22:34:24.827Z"
   },
   {
    "duration": 9,
    "start_time": "2022-10-23T22:34:26.793Z"
   },
   {
    "duration": 11,
    "start_time": "2022-10-23T22:34:26.804Z"
   },
   {
    "duration": 4,
    "start_time": "2022-10-23T22:34:26.817Z"
   },
   {
    "duration": 10,
    "start_time": "2022-10-23T22:34:26.822Z"
   },
   {
    "duration": 21,
    "start_time": "2022-10-23T22:34:26.833Z"
   },
   {
    "duration": 5,
    "start_time": "2022-10-23T22:34:26.856Z"
   },
   {
    "duration": 7,
    "start_time": "2022-10-23T22:34:26.862Z"
   },
   {
    "duration": 104,
    "start_time": "2022-10-23T22:34:26.870Z"
   },
   {
    "duration": 0,
    "start_time": "2022-10-23T22:34:26.975Z"
   },
   {
    "duration": 0,
    "start_time": "2022-10-23T22:34:26.976Z"
   },
   {
    "duration": 0,
    "start_time": "2022-10-23T22:34:26.977Z"
   },
   {
    "duration": 0,
    "start_time": "2022-10-23T22:34:26.978Z"
   },
   {
    "duration": 0,
    "start_time": "2022-10-23T22:34:26.979Z"
   },
   {
    "duration": 0,
    "start_time": "2022-10-23T22:34:26.981Z"
   },
   {
    "duration": 0,
    "start_time": "2022-10-23T22:34:26.982Z"
   },
   {
    "duration": 0,
    "start_time": "2022-10-23T22:34:27.006Z"
   },
   {
    "duration": 0,
    "start_time": "2022-10-23T22:34:27.007Z"
   },
   {
    "duration": 0,
    "start_time": "2022-10-23T22:34:27.009Z"
   },
   {
    "duration": 0,
    "start_time": "2022-10-23T22:34:27.011Z"
   },
   {
    "duration": 18,
    "start_time": "2022-10-23T22:34:48.270Z"
   },
   {
    "duration": 501,
    "start_time": "2022-10-23T22:35:15.221Z"
   },
   {
    "duration": 15,
    "start_time": "2022-10-23T22:35:15.723Z"
   },
   {
    "duration": 28,
    "start_time": "2022-10-23T22:35:15.739Z"
   },
   {
    "duration": 2087,
    "start_time": "2022-10-23T22:35:15.769Z"
   },
   {
    "duration": 9,
    "start_time": "2022-10-23T22:35:17.858Z"
   },
   {
    "duration": 24,
    "start_time": "2022-10-23T22:35:17.869Z"
   },
   {
    "duration": 11,
    "start_time": "2022-10-23T22:35:17.895Z"
   },
   {
    "duration": 27,
    "start_time": "2022-10-23T22:35:17.908Z"
   },
   {
    "duration": 39,
    "start_time": "2022-10-23T22:35:17.938Z"
   },
   {
    "duration": 6,
    "start_time": "2022-10-23T22:35:17.982Z"
   },
   {
    "duration": 26,
    "start_time": "2022-10-23T22:35:17.991Z"
   },
   {
    "duration": 26,
    "start_time": "2022-10-23T22:35:18.018Z"
   },
   {
    "duration": 48,
    "start_time": "2022-10-23T22:35:18.046Z"
   },
   {
    "duration": 10,
    "start_time": "2022-10-23T22:35:18.096Z"
   },
   {
    "duration": 20,
    "start_time": "2022-10-23T22:35:18.107Z"
   },
   {
    "duration": 34,
    "start_time": "2022-10-23T22:35:18.128Z"
   },
   {
    "duration": 15,
    "start_time": "2022-10-23T22:35:18.163Z"
   },
   {
    "duration": 2104,
    "start_time": "2022-10-23T22:35:18.179Z"
   },
   {
    "duration": 8,
    "start_time": "2022-10-23T22:35:20.285Z"
   },
   {
    "duration": 15,
    "start_time": "2022-10-23T22:35:20.294Z"
   },
   {
    "duration": 8,
    "start_time": "2022-10-23T22:35:20.311Z"
   },
   {
    "duration": 8,
    "start_time": "2022-10-23T22:35:20.321Z"
   },
   {
    "duration": 211,
    "start_time": "2022-10-23T22:35:20.331Z"
   },
   {
    "duration": 491,
    "start_time": "2022-10-23T22:36:27.424Z"
   },
   {
    "duration": 20,
    "start_time": "2022-10-23T22:36:27.918Z"
   },
   {
    "duration": 60,
    "start_time": "2022-10-23T22:36:27.940Z"
   },
   {
    "duration": 1997,
    "start_time": "2022-10-23T22:36:28.003Z"
   },
   {
    "duration": 10,
    "start_time": "2022-10-23T22:36:30.002Z"
   },
   {
    "duration": 19,
    "start_time": "2022-10-23T22:36:30.013Z"
   },
   {
    "duration": 6,
    "start_time": "2022-10-23T22:36:30.034Z"
   },
   {
    "duration": 15,
    "start_time": "2022-10-23T22:36:30.041Z"
   },
   {
    "duration": 22,
    "start_time": "2022-10-23T22:36:30.058Z"
   },
   {
    "duration": 25,
    "start_time": "2022-10-23T22:36:30.083Z"
   },
   {
    "duration": 15,
    "start_time": "2022-10-23T22:36:30.110Z"
   },
   {
    "duration": 19,
    "start_time": "2022-10-23T22:36:30.127Z"
   },
   {
    "duration": 28,
    "start_time": "2022-10-23T22:36:30.148Z"
   },
   {
    "duration": 8,
    "start_time": "2022-10-23T22:36:30.177Z"
   },
   {
    "duration": 32,
    "start_time": "2022-10-23T22:36:30.187Z"
   },
   {
    "duration": 49,
    "start_time": "2022-10-23T22:36:30.221Z"
   },
   {
    "duration": 42,
    "start_time": "2022-10-23T22:36:30.272Z"
   },
   {
    "duration": 2199,
    "start_time": "2022-10-23T22:36:30.316Z"
   },
   {
    "duration": 9,
    "start_time": "2022-10-23T22:36:32.517Z"
   },
   {
    "duration": 8,
    "start_time": "2022-10-23T22:36:32.528Z"
   },
   {
    "duration": 7,
    "start_time": "2022-10-23T22:36:32.538Z"
   },
   {
    "duration": 9,
    "start_time": "2022-10-23T22:36:32.547Z"
   },
   {
    "duration": 217,
    "start_time": "2022-10-23T22:36:32.558Z"
   },
   {
    "duration": 5,
    "start_time": "2022-10-23T22:39:23.902Z"
   },
   {
    "duration": 4,
    "start_time": "2022-10-23T22:39:25.330Z"
   },
   {
    "duration": 510,
    "start_time": "2022-10-23T22:41:00.010Z"
   },
   {
    "duration": 13,
    "start_time": "2022-10-23T22:41:00.522Z"
   },
   {
    "duration": 33,
    "start_time": "2022-10-23T22:41:00.536Z"
   },
   {
    "duration": 1936,
    "start_time": "2022-10-23T22:41:00.571Z"
   },
   {
    "duration": 9,
    "start_time": "2022-10-23T22:41:02.509Z"
   },
   {
    "duration": 11,
    "start_time": "2022-10-23T22:41:02.519Z"
   },
   {
    "duration": 4,
    "start_time": "2022-10-23T22:41:02.532Z"
   },
   {
    "duration": 10,
    "start_time": "2022-10-23T22:41:02.537Z"
   },
   {
    "duration": 24,
    "start_time": "2022-10-23T22:41:02.548Z"
   },
   {
    "duration": 3,
    "start_time": "2022-10-23T22:41:02.575Z"
   },
   {
    "duration": 27,
    "start_time": "2022-10-23T22:41:02.579Z"
   },
   {
    "duration": 8,
    "start_time": "2022-10-23T22:41:02.607Z"
   },
   {
    "duration": 13,
    "start_time": "2022-10-23T22:41:02.617Z"
   },
   {
    "duration": 6,
    "start_time": "2022-10-23T22:41:02.631Z"
   },
   {
    "duration": 17,
    "start_time": "2022-10-23T22:41:02.639Z"
   },
   {
    "duration": 53,
    "start_time": "2022-10-23T22:41:02.657Z"
   },
   {
    "duration": 20,
    "start_time": "2022-10-23T22:41:02.712Z"
   },
   {
    "duration": 2065,
    "start_time": "2022-10-23T22:41:02.734Z"
   },
   {
    "duration": 10,
    "start_time": "2022-10-23T22:41:04.801Z"
   },
   {
    "duration": 5,
    "start_time": "2022-10-23T22:41:04.813Z"
   },
   {
    "duration": 89,
    "start_time": "2022-10-23T22:41:04.819Z"
   },
   {
    "duration": 0,
    "start_time": "2022-10-23T22:41:04.910Z"
   },
   {
    "duration": 0,
    "start_time": "2022-10-23T22:41:04.911Z"
   },
   {
    "duration": 7,
    "start_time": "2022-10-23T22:41:33.818Z"
   },
   {
    "duration": 76,
    "start_time": "2022-10-23T22:41:48.743Z"
   },
   {
    "duration": 4,
    "start_time": "2022-10-23T22:43:01.001Z"
   },
   {
    "duration": 70,
    "start_time": "2022-10-23T22:43:42.006Z"
   },
   {
    "duration": 4,
    "start_time": "2022-10-23T22:43:45.778Z"
   },
   {
    "duration": 491,
    "start_time": "2022-10-23T22:44:07.090Z"
   },
   {
    "duration": 13,
    "start_time": "2022-10-23T22:44:07.583Z"
   },
   {
    "duration": 38,
    "start_time": "2022-10-23T22:44:07.598Z"
   },
   {
    "duration": 1973,
    "start_time": "2022-10-23T22:44:07.638Z"
   },
   {
    "duration": 8,
    "start_time": "2022-10-23T22:44:09.613Z"
   },
   {
    "duration": 10,
    "start_time": "2022-10-23T22:44:09.622Z"
   },
   {
    "duration": 3,
    "start_time": "2022-10-23T22:44:09.633Z"
   },
   {
    "duration": 24,
    "start_time": "2022-10-23T22:44:09.637Z"
   },
   {
    "duration": 20,
    "start_time": "2022-10-23T22:44:09.662Z"
   },
   {
    "duration": 4,
    "start_time": "2022-10-23T22:44:09.684Z"
   },
   {
    "duration": 17,
    "start_time": "2022-10-23T22:44:09.689Z"
   },
   {
    "duration": 8,
    "start_time": "2022-10-23T22:44:09.708Z"
   },
   {
    "duration": 13,
    "start_time": "2022-10-23T22:44:09.718Z"
   },
   {
    "duration": 7,
    "start_time": "2022-10-23T22:44:09.732Z"
   },
   {
    "duration": 19,
    "start_time": "2022-10-23T22:44:09.740Z"
   },
   {
    "duration": 59,
    "start_time": "2022-10-23T22:44:09.761Z"
   },
   {
    "duration": 18,
    "start_time": "2022-10-23T22:44:09.822Z"
   },
   {
    "duration": 2064,
    "start_time": "2022-10-23T22:44:09.841Z"
   },
   {
    "duration": 7,
    "start_time": "2022-10-23T22:44:11.907Z"
   },
   {
    "duration": 6,
    "start_time": "2022-10-23T22:44:11.916Z"
   },
   {
    "duration": 7,
    "start_time": "2022-10-23T22:44:11.923Z"
   },
   {
    "duration": 192,
    "start_time": "2022-10-23T22:44:11.931Z"
   },
   {
    "duration": 116,
    "start_time": "2022-10-23T22:44:20.730Z"
   },
   {
    "duration": 60,
    "start_time": "2022-10-24T06:13:48.179Z"
   },
   {
    "duration": 505,
    "start_time": "2022-10-24T06:13:57.664Z"
   },
   {
    "duration": 16,
    "start_time": "2022-10-24T06:13:58.171Z"
   },
   {
    "duration": 35,
    "start_time": "2022-10-24T06:13:58.189Z"
   },
   {
    "duration": 2302,
    "start_time": "2022-10-24T06:13:58.226Z"
   },
   {
    "duration": 10,
    "start_time": "2022-10-24T06:14:00.530Z"
   },
   {
    "duration": 35,
    "start_time": "2022-10-24T06:14:00.541Z"
   },
   {
    "duration": 15,
    "start_time": "2022-10-24T06:14:00.578Z"
   },
   {
    "duration": 45,
    "start_time": "2022-10-24T06:14:00.594Z"
   },
   {
    "duration": 41,
    "start_time": "2022-10-24T06:14:00.641Z"
   },
   {
    "duration": 4,
    "start_time": "2022-10-24T06:14:00.686Z"
   },
   {
    "duration": 38,
    "start_time": "2022-10-24T06:14:00.692Z"
   },
   {
    "duration": 39,
    "start_time": "2022-10-24T06:14:00.732Z"
   },
   {
    "duration": 30,
    "start_time": "2022-10-24T06:14:00.772Z"
   },
   {
    "duration": 25,
    "start_time": "2022-10-24T06:14:00.803Z"
   },
   {
    "duration": 43,
    "start_time": "2022-10-24T06:14:00.830Z"
   },
   {
    "duration": 43,
    "start_time": "2022-10-24T06:14:00.875Z"
   },
   {
    "duration": 27,
    "start_time": "2022-10-24T06:14:00.920Z"
   },
   {
    "duration": 2369,
    "start_time": "2022-10-24T06:14:00.948Z"
   },
   {
    "duration": 12,
    "start_time": "2022-10-24T06:14:03.319Z"
   },
   {
    "duration": 6,
    "start_time": "2022-10-24T06:14:03.332Z"
   },
   {
    "duration": 113,
    "start_time": "2022-10-24T06:14:03.340Z"
   },
   {
    "duration": 0,
    "start_time": "2022-10-24T06:14:03.455Z"
   },
   {
    "duration": 0,
    "start_time": "2022-10-24T06:14:03.456Z"
   },
   {
    "duration": 46,
    "start_time": "2022-10-24T06:14:39.916Z"
   },
   {
    "duration": 6,
    "start_time": "2022-10-24T06:15:05.881Z"
   },
   {
    "duration": 5,
    "start_time": "2022-10-24T06:17:16.717Z"
   },
   {
    "duration": 793,
    "start_time": "2022-10-24T06:17:20.472Z"
   },
   {
    "duration": 0,
    "start_time": "2022-10-24T06:17:21.267Z"
   },
   {
    "duration": 12,
    "start_time": "2022-10-24T06:17:47.401Z"
   },
   {
    "duration": 546,
    "start_time": "2022-10-24T06:17:59.921Z"
   },
   {
    "duration": 540,
    "start_time": "2022-10-24T06:18:04.405Z"
   },
   {
    "duration": 15,
    "start_time": "2022-10-24T06:18:04.947Z"
   },
   {
    "duration": 27,
    "start_time": "2022-10-24T06:18:04.964Z"
   },
   {
    "duration": 2267,
    "start_time": "2022-10-24T06:18:04.993Z"
   },
   {
    "duration": 9,
    "start_time": "2022-10-24T06:18:07.262Z"
   },
   {
    "duration": 19,
    "start_time": "2022-10-24T06:18:07.273Z"
   },
   {
    "duration": 7,
    "start_time": "2022-10-24T06:18:07.294Z"
   },
   {
    "duration": 60,
    "start_time": "2022-10-24T06:18:07.302Z"
   },
   {
    "duration": 33,
    "start_time": "2022-10-24T06:18:07.364Z"
   },
   {
    "duration": 33,
    "start_time": "2022-10-24T06:18:07.399Z"
   },
   {
    "duration": 20,
    "start_time": "2022-10-24T06:18:07.434Z"
   },
   {
    "duration": 30,
    "start_time": "2022-10-24T06:18:07.455Z"
   },
   {
    "duration": 32,
    "start_time": "2022-10-24T06:18:07.487Z"
   },
   {
    "duration": 30,
    "start_time": "2022-10-24T06:18:07.520Z"
   },
   {
    "duration": 41,
    "start_time": "2022-10-24T06:18:07.551Z"
   },
   {
    "duration": 45,
    "start_time": "2022-10-24T06:18:07.594Z"
   },
   {
    "duration": 23,
    "start_time": "2022-10-24T06:18:07.641Z"
   },
   {
    "duration": 2500,
    "start_time": "2022-10-24T06:18:07.666Z"
   },
   {
    "duration": 9,
    "start_time": "2022-10-24T06:18:10.168Z"
   },
   {
    "duration": 7,
    "start_time": "2022-10-24T06:18:10.178Z"
   },
   {
    "duration": 5,
    "start_time": "2022-10-24T06:18:10.187Z"
   },
   {
    "duration": 37,
    "start_time": "2022-10-24T06:18:10.193Z"
   },
   {
    "duration": 10,
    "start_time": "2022-10-24T06:18:10.232Z"
   },
   {
    "duration": 191,
    "start_time": "2022-10-24T06:18:10.243Z"
   },
   {
    "duration": 13,
    "start_time": "2022-10-24T06:18:26.857Z"
   },
   {
    "duration": 94,
    "start_time": "2022-10-24T06:20:09.641Z"
   },
   {
    "duration": 24,
    "start_time": "2022-10-24T06:20:28.840Z"
   },
   {
    "duration": 532,
    "start_time": "2022-10-24T06:21:03.936Z"
   },
   {
    "duration": 22,
    "start_time": "2022-10-24T06:21:04.471Z"
   },
   {
    "duration": 57,
    "start_time": "2022-10-24T06:21:04.495Z"
   },
   {
    "duration": 2332,
    "start_time": "2022-10-24T06:21:04.556Z"
   },
   {
    "duration": 10,
    "start_time": "2022-10-24T06:21:06.890Z"
   },
   {
    "duration": 30,
    "start_time": "2022-10-24T06:21:06.901Z"
   },
   {
    "duration": 11,
    "start_time": "2022-10-24T06:21:06.932Z"
   },
   {
    "duration": 13,
    "start_time": "2022-10-24T06:21:06.945Z"
   },
   {
    "duration": 28,
    "start_time": "2022-10-24T06:21:06.960Z"
   },
   {
    "duration": 6,
    "start_time": "2022-10-24T06:21:06.991Z"
   },
   {
    "duration": 10,
    "start_time": "2022-10-24T06:21:06.998Z"
   },
   {
    "duration": 40,
    "start_time": "2022-10-24T06:21:07.009Z"
   },
   {
    "duration": 15,
    "start_time": "2022-10-24T06:21:07.050Z"
   },
   {
    "duration": 7,
    "start_time": "2022-10-24T06:21:07.067Z"
   },
   {
    "duration": 25,
    "start_time": "2022-10-24T06:21:07.076Z"
   },
   {
    "duration": 63,
    "start_time": "2022-10-24T06:21:07.103Z"
   },
   {
    "duration": 18,
    "start_time": "2022-10-24T06:21:07.169Z"
   },
   {
    "duration": 2584,
    "start_time": "2022-10-24T06:21:07.188Z"
   },
   {
    "duration": 10,
    "start_time": "2022-10-24T06:21:09.773Z"
   },
   {
    "duration": 9,
    "start_time": "2022-10-24T06:21:09.785Z"
   },
   {
    "duration": 348,
    "start_time": "2022-10-24T06:21:09.796Z"
   },
   {
    "duration": 14,
    "start_time": "2022-10-24T06:21:10.145Z"
   },
   {
    "duration": 6,
    "start_time": "2022-10-24T06:21:10.161Z"
   },
   {
    "duration": 19,
    "start_time": "2022-10-24T06:21:10.168Z"
   },
   {
    "duration": 167,
    "start_time": "2022-10-24T06:21:10.188Z"
   },
   {
    "duration": 344,
    "start_time": "2022-10-24T06:21:39.133Z"
   },
   {
    "duration": 6,
    "start_time": "2022-10-24T06:23:19.644Z"
   },
   {
    "duration": 4,
    "start_time": "2022-10-24T06:23:31.494Z"
   },
   {
    "duration": 506,
    "start_time": "2022-10-24T06:23:36.425Z"
   },
   {
    "duration": 21,
    "start_time": "2022-10-24T06:23:36.933Z"
   },
   {
    "duration": 30,
    "start_time": "2022-10-24T06:23:36.956Z"
   },
   {
    "duration": 2200,
    "start_time": "2022-10-24T06:23:36.988Z"
   },
   {
    "duration": 9,
    "start_time": "2022-10-24T06:23:39.190Z"
   },
   {
    "duration": 47,
    "start_time": "2022-10-24T06:23:39.200Z"
   },
   {
    "duration": 4,
    "start_time": "2022-10-24T06:23:39.249Z"
   },
   {
    "duration": 15,
    "start_time": "2022-10-24T06:23:39.254Z"
   },
   {
    "duration": 30,
    "start_time": "2022-10-24T06:23:39.270Z"
   },
   {
    "duration": 3,
    "start_time": "2022-10-24T06:23:39.303Z"
   },
   {
    "duration": 45,
    "start_time": "2022-10-24T06:23:39.308Z"
   },
   {
    "duration": 32,
    "start_time": "2022-10-24T06:23:39.355Z"
   },
   {
    "duration": 30,
    "start_time": "2022-10-24T06:23:39.389Z"
   },
   {
    "duration": 29,
    "start_time": "2022-10-24T06:23:39.420Z"
   },
   {
    "duration": 35,
    "start_time": "2022-10-24T06:23:39.450Z"
   },
   {
    "duration": 52,
    "start_time": "2022-10-24T06:23:39.487Z"
   },
   {
    "duration": 19,
    "start_time": "2022-10-24T06:23:39.540Z"
   },
   {
    "duration": 2564,
    "start_time": "2022-10-24T06:23:39.561Z"
   },
   {
    "duration": 17,
    "start_time": "2022-10-24T06:23:42.127Z"
   },
   {
    "duration": 7,
    "start_time": "2022-10-24T06:23:42.146Z"
   },
   {
    "duration": 6,
    "start_time": "2022-10-24T06:23:42.155Z"
   },
   {
    "duration": 15,
    "start_time": "2022-10-24T06:23:42.163Z"
   },
   {
    "duration": 7,
    "start_time": "2022-10-24T06:23:42.180Z"
   },
   {
    "duration": 50,
    "start_time": "2022-10-24T06:23:42.189Z"
   },
   {
    "duration": 146,
    "start_time": "2022-10-24T06:23:42.241Z"
   },
   {
    "duration": 5,
    "start_time": "2022-10-24T06:27:00.436Z"
   },
   {
    "duration": 8,
    "start_time": "2022-10-24T06:27:09.753Z"
   },
   {
    "duration": 5,
    "start_time": "2022-10-24T06:27:25.853Z"
   },
   {
    "duration": 5,
    "start_time": "2022-10-24T06:27:29.137Z"
   },
   {
    "duration": 13,
    "start_time": "2022-10-24T06:27:31.433Z"
   },
   {
    "duration": 7,
    "start_time": "2022-10-24T06:27:31.649Z"
   },
   {
    "duration": 23,
    "start_time": "2022-10-24T06:28:03.829Z"
   },
   {
    "duration": 22,
    "start_time": "2022-10-24T06:28:13.661Z"
   },
   {
    "duration": 31,
    "start_time": "2022-10-24T06:28:35.473Z"
   },
   {
    "duration": 546,
    "start_time": "2022-10-24T06:28:45.628Z"
   },
   {
    "duration": 25,
    "start_time": "2022-10-24T06:28:46.177Z"
   },
   {
    "duration": 60,
    "start_time": "2022-10-24T06:28:46.203Z"
   },
   {
    "duration": 2303,
    "start_time": "2022-10-24T06:28:46.265Z"
   },
   {
    "duration": 9,
    "start_time": "2022-10-24T06:28:48.570Z"
   },
   {
    "duration": 13,
    "start_time": "2022-10-24T06:28:48.581Z"
   },
   {
    "duration": 4,
    "start_time": "2022-10-24T06:28:48.595Z"
   },
   {
    "duration": 18,
    "start_time": "2022-10-24T06:28:48.601Z"
   },
   {
    "duration": 24,
    "start_time": "2022-10-24T06:28:48.620Z"
   },
   {
    "duration": 5,
    "start_time": "2022-10-24T06:28:48.647Z"
   },
   {
    "duration": 11,
    "start_time": "2022-10-24T06:28:48.654Z"
   },
   {
    "duration": 12,
    "start_time": "2022-10-24T06:28:48.666Z"
   },
   {
    "duration": 47,
    "start_time": "2022-10-24T06:28:48.680Z"
   },
   {
    "duration": 8,
    "start_time": "2022-10-24T06:28:48.729Z"
   },
   {
    "duration": 20,
    "start_time": "2022-10-24T06:28:48.739Z"
   },
   {
    "duration": 58,
    "start_time": "2022-10-24T06:28:48.761Z"
   },
   {
    "duration": 31,
    "start_time": "2022-10-24T06:28:48.820Z"
   },
   {
    "duration": 2472,
    "start_time": "2022-10-24T06:28:48.855Z"
   },
   {
    "duration": 12,
    "start_time": "2022-10-24T06:28:51.329Z"
   },
   {
    "duration": 9,
    "start_time": "2022-10-24T06:28:51.343Z"
   },
   {
    "duration": 29,
    "start_time": "2022-10-24T06:28:51.354Z"
   },
   {
    "duration": 31,
    "start_time": "2022-10-24T06:28:51.384Z"
   },
   {
    "duration": 8,
    "start_time": "2022-10-24T06:28:51.427Z"
   },
   {
    "duration": 19,
    "start_time": "2022-10-24T06:28:51.437Z"
   },
   {
    "duration": 195,
    "start_time": "2022-10-24T06:28:51.459Z"
   },
   {
    "duration": 86,
    "start_time": "2022-10-24T06:45:16.698Z"
   },
   {
    "duration": 7,
    "start_time": "2022-10-24T06:45:32.950Z"
   },
   {
    "duration": 9,
    "start_time": "2022-10-24T06:45:50.666Z"
   },
   {
    "duration": 6,
    "start_time": "2022-10-24T06:45:58.138Z"
   },
   {
    "duration": 7,
    "start_time": "2022-10-24T06:46:03.565Z"
   },
   {
    "duration": 5,
    "start_time": "2022-10-24T06:46:18.890Z"
   },
   {
    "duration": 6,
    "start_time": "2022-10-24T06:46:30.206Z"
   },
   {
    "duration": 18,
    "start_time": "2022-10-24T06:47:04.366Z"
   },
   {
    "duration": 12,
    "start_time": "2022-10-24T06:48:54.523Z"
   },
   {
    "duration": 446,
    "start_time": "2022-10-24T06:50:18.651Z"
   },
   {
    "duration": 16,
    "start_time": "2022-10-24T06:50:19.099Z"
   },
   {
    "duration": 30,
    "start_time": "2022-10-24T06:50:19.116Z"
   },
   {
    "duration": 2169,
    "start_time": "2022-10-24T06:50:19.148Z"
   },
   {
    "duration": 12,
    "start_time": "2022-10-24T06:50:21.319Z"
   },
   {
    "duration": 12,
    "start_time": "2022-10-24T06:50:21.333Z"
   },
   {
    "duration": 17,
    "start_time": "2022-10-24T06:50:21.346Z"
   },
   {
    "duration": 11,
    "start_time": "2022-10-24T06:50:21.365Z"
   },
   {
    "duration": 23,
    "start_time": "2022-10-24T06:50:21.377Z"
   },
   {
    "duration": 4,
    "start_time": "2022-10-24T06:50:21.402Z"
   },
   {
    "duration": 8,
    "start_time": "2022-10-24T06:50:21.408Z"
   },
   {
    "duration": 12,
    "start_time": "2022-10-24T06:50:21.417Z"
   },
   {
    "duration": 9,
    "start_time": "2022-10-24T06:50:21.431Z"
   },
   {
    "duration": 20,
    "start_time": "2022-10-24T06:50:21.441Z"
   },
   {
    "duration": 9,
    "start_time": "2022-10-24T06:50:21.463Z"
   },
   {
    "duration": 12,
    "start_time": "2022-10-24T06:50:21.473Z"
   },
   {
    "duration": 42,
    "start_time": "2022-10-24T06:50:21.487Z"
   },
   {
    "duration": 36,
    "start_time": "2022-10-24T06:50:21.531Z"
   },
   {
    "duration": 50,
    "start_time": "2022-10-24T06:50:21.568Z"
   },
   {
    "duration": 12,
    "start_time": "2022-10-24T06:50:21.621Z"
   },
   {
    "duration": 9,
    "start_time": "2022-10-24T06:50:21.635Z"
   },
   {
    "duration": 83,
    "start_time": "2022-10-24T06:50:21.646Z"
   },
   {
    "duration": 18,
    "start_time": "2022-10-24T06:50:21.730Z"
   },
   {
    "duration": 6,
    "start_time": "2022-10-24T06:50:21.750Z"
   },
   {
    "duration": 486,
    "start_time": "2022-10-24T06:51:55.270Z"
   },
   {
    "duration": 15,
    "start_time": "2022-10-24T06:51:55.757Z"
   },
   {
    "duration": 43,
    "start_time": "2022-10-24T06:51:55.774Z"
   },
   {
    "duration": 2101,
    "start_time": "2022-10-24T06:51:55.819Z"
   },
   {
    "duration": 10,
    "start_time": "2022-10-24T06:51:57.922Z"
   },
   {
    "duration": 15,
    "start_time": "2022-10-24T06:51:57.934Z"
   },
   {
    "duration": 4,
    "start_time": "2022-10-24T06:51:57.950Z"
   },
   {
    "duration": 6,
    "start_time": "2022-10-24T06:51:57.955Z"
   },
   {
    "duration": 12,
    "start_time": "2022-10-24T06:51:57.962Z"
   },
   {
    "duration": 37,
    "start_time": "2022-10-24T06:51:57.976Z"
   },
   {
    "duration": 4,
    "start_time": "2022-10-24T06:51:58.015Z"
   },
   {
    "duration": 10,
    "start_time": "2022-10-24T06:51:58.021Z"
   },
   {
    "duration": 9,
    "start_time": "2022-10-24T06:51:58.033Z"
   },
   {
    "duration": 8,
    "start_time": "2022-10-24T06:51:58.043Z"
   },
   {
    "duration": 15,
    "start_time": "2022-10-24T06:51:58.052Z"
   },
   {
    "duration": 43,
    "start_time": "2022-10-24T06:51:58.068Z"
   },
   {
    "duration": 11,
    "start_time": "2022-10-24T06:51:58.112Z"
   },
   {
    "duration": 21,
    "start_time": "2022-10-24T06:51:58.125Z"
   },
   {
    "duration": 37,
    "start_time": "2022-10-24T06:51:58.148Z"
   },
   {
    "duration": 41,
    "start_time": "2022-10-24T06:51:58.187Z"
   },
   {
    "duration": 15,
    "start_time": "2022-10-24T06:51:58.229Z"
   },
   {
    "duration": 10,
    "start_time": "2022-10-24T06:51:58.245Z"
   },
   {
    "duration": 25,
    "start_time": "2022-10-24T06:51:58.257Z"
   },
   {
    "duration": 30,
    "start_time": "2022-10-24T06:51:58.283Z"
   },
   {
    "duration": 7,
    "start_time": "2022-10-24T06:51:58.314Z"
   },
   {
    "duration": 5,
    "start_time": "2022-10-24T06:54:14.443Z"
   },
   {
    "duration": 13,
    "start_time": "2022-10-24T06:54:23.422Z"
   },
   {
    "duration": 5,
    "start_time": "2022-10-24T06:54:50.758Z"
   },
   {
    "duration": 14,
    "start_time": "2022-10-24T06:54:51.370Z"
   },
   {
    "duration": 6,
    "start_time": "2022-10-24T06:55:31.947Z"
   },
   {
    "duration": 7,
    "start_time": "2022-10-24T06:55:47.787Z"
   },
   {
    "duration": 9,
    "start_time": "2022-10-24T06:56:57.535Z"
   },
   {
    "duration": 9,
    "start_time": "2022-10-24T06:57:43.407Z"
   },
   {
    "duration": 6,
    "start_time": "2022-10-24T06:59:07.307Z"
   },
   {
    "duration": 5,
    "start_time": "2022-10-24T06:59:13.639Z"
   },
   {
    "duration": 3,
    "start_time": "2022-10-24T07:00:31.847Z"
   },
   {
    "duration": 333,
    "start_time": "2022-10-24T07:02:35.171Z"
   },
   {
    "duration": 328,
    "start_time": "2022-10-24T07:03:14.955Z"
   },
   {
    "duration": 913,
    "start_time": "2022-10-24T07:03:57.043Z"
   },
   {
    "duration": 6,
    "start_time": "2022-10-24T07:04:57.865Z"
   },
   {
    "duration": 6,
    "start_time": "2022-10-24T07:05:08.291Z"
   },
   {
    "duration": 12,
    "start_time": "2022-10-24T07:11:04.947Z"
   },
   {
    "duration": 13,
    "start_time": "2022-10-24T07:12:29.025Z"
   },
   {
    "duration": 22,
    "start_time": "2022-10-24T11:43:47.350Z"
   },
   {
    "duration": 16,
    "start_time": "2022-10-24T11:44:10.354Z"
   },
   {
    "duration": 52,
    "start_time": "2022-10-24T13:03:33.955Z"
   },
   {
    "duration": 1010,
    "start_time": "2022-10-24T13:03:38.573Z"
   },
   {
    "duration": 14,
    "start_time": "2022-10-24T13:03:39.585Z"
   },
   {
    "duration": 28,
    "start_time": "2022-10-24T13:03:39.600Z"
   },
   {
    "duration": 2258,
    "start_time": "2022-10-24T13:03:39.630Z"
   },
   {
    "duration": 14,
    "start_time": "2022-10-24T13:03:41.890Z"
   },
   {
    "duration": 13,
    "start_time": "2022-10-24T13:03:41.906Z"
   },
   {
    "duration": 2,
    "start_time": "2022-10-24T13:03:41.921Z"
   },
   {
    "duration": 8,
    "start_time": "2022-10-24T13:03:41.925Z"
   },
   {
    "duration": 11,
    "start_time": "2022-10-24T13:03:41.935Z"
   },
   {
    "duration": 26,
    "start_time": "2022-10-24T13:03:41.949Z"
   },
   {
    "duration": 4,
    "start_time": "2022-10-24T13:03:41.977Z"
   },
   {
    "duration": 28,
    "start_time": "2022-10-24T13:03:41.983Z"
   },
   {
    "duration": 9,
    "start_time": "2022-10-24T13:03:42.012Z"
   },
   {
    "duration": 8,
    "start_time": "2022-10-24T13:03:42.023Z"
   },
   {
    "duration": 16,
    "start_time": "2022-10-24T13:03:42.032Z"
   },
   {
    "duration": 7,
    "start_time": "2022-10-24T13:03:42.050Z"
   },
   {
    "duration": 13,
    "start_time": "2022-10-24T13:03:42.059Z"
   },
   {
    "duration": 42,
    "start_time": "2022-10-24T13:03:42.073Z"
   },
   {
    "duration": 31,
    "start_time": "2022-10-24T13:03:42.117Z"
   },
   {
    "duration": 17,
    "start_time": "2022-10-24T13:03:42.151Z"
   },
   {
    "duration": 9,
    "start_time": "2022-10-24T13:03:42.170Z"
   },
   {
    "duration": 34,
    "start_time": "2022-10-24T13:03:42.180Z"
   },
   {
    "duration": 28,
    "start_time": "2022-10-24T13:03:42.216Z"
   },
   {
    "duration": 16,
    "start_time": "2022-10-24T13:03:42.246Z"
   },
   {
    "duration": 8,
    "start_time": "2022-10-24T13:03:42.263Z"
   },
   {
    "duration": 36,
    "start_time": "2022-10-24T13:03:42.273Z"
   },
   {
    "duration": 16,
    "start_time": "2022-10-24T13:03:42.311Z"
   },
   {
    "duration": 9,
    "start_time": "2022-10-24T13:03:42.331Z"
   },
   {
    "duration": 333,
    "start_time": "2022-10-24T13:03:42.342Z"
   },
   {
    "duration": 5,
    "start_time": "2022-10-24T13:03:42.676Z"
   },
   {
    "duration": 18,
    "start_time": "2022-10-24T13:03:42.682Z"
   },
   {
    "duration": 28,
    "start_time": "2022-10-24T13:04:04.656Z"
   },
   {
    "duration": 17,
    "start_time": "2022-10-24T13:04:21.957Z"
   },
   {
    "duration": 7,
    "start_time": "2022-10-24T13:04:29.845Z"
   },
   {
    "duration": 9,
    "start_time": "2022-10-24T13:04:41.652Z"
   },
   {
    "duration": 5,
    "start_time": "2022-10-24T13:05:21.969Z"
   },
   {
    "duration": 6,
    "start_time": "2022-10-24T13:05:34.634Z"
   },
   {
    "duration": 98,
    "start_time": "2022-10-24T13:05:53.389Z"
   },
   {
    "duration": 5,
    "start_time": "2022-10-24T13:05:57.405Z"
   },
   {
    "duration": 516,
    "start_time": "2022-10-24T13:06:08.501Z"
   },
   {
    "duration": 16,
    "start_time": "2022-10-24T13:06:09.019Z"
   },
   {
    "duration": 33,
    "start_time": "2022-10-24T13:06:09.036Z"
   },
   {
    "duration": 2060,
    "start_time": "2022-10-24T13:06:09.072Z"
   },
   {
    "duration": 9,
    "start_time": "2022-10-24T13:06:11.134Z"
   },
   {
    "duration": 14,
    "start_time": "2022-10-24T13:06:11.145Z"
   },
   {
    "duration": 3,
    "start_time": "2022-10-24T13:06:11.161Z"
   },
   {
    "duration": 21,
    "start_time": "2022-10-24T13:06:11.166Z"
   },
   {
    "duration": 18,
    "start_time": "2022-10-24T13:06:11.189Z"
   },
   {
    "duration": 27,
    "start_time": "2022-10-24T13:06:11.211Z"
   },
   {
    "duration": 4,
    "start_time": "2022-10-24T13:06:11.240Z"
   },
   {
    "duration": 23,
    "start_time": "2022-10-24T13:06:11.245Z"
   },
   {
    "duration": 14,
    "start_time": "2022-10-24T13:06:11.270Z"
   },
   {
    "duration": 23,
    "start_time": "2022-10-24T13:06:11.286Z"
   },
   {
    "duration": 18,
    "start_time": "2022-10-24T13:06:11.311Z"
   },
   {
    "duration": 12,
    "start_time": "2022-10-24T13:06:11.331Z"
   },
   {
    "duration": 11,
    "start_time": "2022-10-24T13:06:11.344Z"
   },
   {
    "duration": 19,
    "start_time": "2022-10-24T13:06:11.356Z"
   },
   {
    "duration": 58,
    "start_time": "2022-10-24T13:06:11.376Z"
   },
   {
    "duration": 28,
    "start_time": "2022-10-24T13:06:11.436Z"
   },
   {
    "duration": 9,
    "start_time": "2022-10-24T13:06:11.466Z"
   },
   {
    "duration": 18,
    "start_time": "2022-10-24T13:06:11.477Z"
   },
   {
    "duration": 8,
    "start_time": "2022-10-24T13:06:11.508Z"
   },
   {
    "duration": 5,
    "start_time": "2022-10-24T13:06:11.518Z"
   },
   {
    "duration": 10,
    "start_time": "2022-10-24T13:06:11.524Z"
   },
   {
    "duration": 14,
    "start_time": "2022-10-24T13:06:11.535Z"
   },
   {
    "duration": 11,
    "start_time": "2022-10-24T13:06:11.550Z"
   },
   {
    "duration": 348,
    "start_time": "2022-10-24T13:06:11.565Z"
   },
   {
    "duration": 4,
    "start_time": "2022-10-24T13:06:11.914Z"
   },
   {
    "duration": 15,
    "start_time": "2022-10-24T13:06:11.920Z"
   },
   {
    "duration": 8,
    "start_time": "2022-10-24T13:06:29.969Z"
   },
   {
    "duration": 468,
    "start_time": "2022-10-24T13:06:35.336Z"
   },
   {
    "duration": 15,
    "start_time": "2022-10-24T13:06:35.806Z"
   },
   {
    "duration": 34,
    "start_time": "2022-10-24T13:06:35.822Z"
   },
   {
    "duration": 2098,
    "start_time": "2022-10-24T13:06:35.858Z"
   },
   {
    "duration": 10,
    "start_time": "2022-10-24T13:06:37.958Z"
   },
   {
    "duration": 15,
    "start_time": "2022-10-24T13:06:37.970Z"
   },
   {
    "duration": 4,
    "start_time": "2022-10-24T13:06:37.987Z"
   },
   {
    "duration": 11,
    "start_time": "2022-10-24T13:06:37.992Z"
   },
   {
    "duration": 17,
    "start_time": "2022-10-24T13:06:38.005Z"
   },
   {
    "duration": 23,
    "start_time": "2022-10-24T13:06:38.025Z"
   },
   {
    "duration": 5,
    "start_time": "2022-10-24T13:06:38.050Z"
   },
   {
    "duration": 11,
    "start_time": "2022-10-24T13:06:38.057Z"
   },
   {
    "duration": 14,
    "start_time": "2022-10-24T13:06:38.070Z"
   },
   {
    "duration": 28,
    "start_time": "2022-10-24T13:06:38.086Z"
   },
   {
    "duration": 15,
    "start_time": "2022-10-24T13:06:38.116Z"
   },
   {
    "duration": 8,
    "start_time": "2022-10-24T13:06:38.133Z"
   },
   {
    "duration": 14,
    "start_time": "2022-10-24T13:06:38.143Z"
   },
   {
    "duration": 20,
    "start_time": "2022-10-24T13:06:38.158Z"
   },
   {
    "duration": 61,
    "start_time": "2022-10-24T13:06:38.180Z"
   },
   {
    "duration": 18,
    "start_time": "2022-10-24T13:06:38.247Z"
   },
   {
    "duration": 9,
    "start_time": "2022-10-24T13:06:38.267Z"
   },
   {
    "duration": 34,
    "start_time": "2022-10-24T13:06:38.277Z"
   },
   {
    "duration": 10,
    "start_time": "2022-10-24T13:06:38.313Z"
   },
   {
    "duration": 4,
    "start_time": "2022-10-24T13:06:38.324Z"
   },
   {
    "duration": 8,
    "start_time": "2022-10-24T13:06:38.330Z"
   },
   {
    "duration": 14,
    "start_time": "2022-10-24T13:06:38.340Z"
   },
   {
    "duration": 9,
    "start_time": "2022-10-24T13:06:38.355Z"
   },
   {
    "duration": 326,
    "start_time": "2022-10-24T13:06:38.367Z"
   },
   {
    "duration": 5,
    "start_time": "2022-10-24T13:06:38.695Z"
   },
   {
    "duration": 23,
    "start_time": "2022-10-24T13:06:38.701Z"
   },
   {
    "duration": 5,
    "start_time": "2022-10-24T13:07:53.607Z"
   },
   {
    "duration": 8,
    "start_time": "2022-10-24T13:08:22.187Z"
   },
   {
    "duration": 8,
    "start_time": "2022-10-24T13:08:24.431Z"
   },
   {
    "duration": 479,
    "start_time": "2022-10-24T13:08:28.938Z"
   },
   {
    "duration": 16,
    "start_time": "2022-10-24T13:08:29.419Z"
   },
   {
    "duration": 47,
    "start_time": "2022-10-24T13:08:29.437Z"
   },
   {
    "duration": 2162,
    "start_time": "2022-10-24T13:08:29.486Z"
   },
   {
    "duration": 10,
    "start_time": "2022-10-24T13:08:31.650Z"
   },
   {
    "duration": 22,
    "start_time": "2022-10-24T13:08:31.662Z"
   },
   {
    "duration": 16,
    "start_time": "2022-10-24T13:08:31.686Z"
   },
   {
    "duration": 13,
    "start_time": "2022-10-24T13:08:31.703Z"
   },
   {
    "duration": 17,
    "start_time": "2022-10-24T13:08:31.717Z"
   },
   {
    "duration": 28,
    "start_time": "2022-10-24T13:08:31.736Z"
   },
   {
    "duration": 16,
    "start_time": "2022-10-24T13:08:31.766Z"
   },
   {
    "duration": 7,
    "start_time": "2022-10-24T13:08:31.784Z"
   },
   {
    "duration": 11,
    "start_time": "2022-10-24T13:08:31.792Z"
   },
   {
    "duration": 9,
    "start_time": "2022-10-24T13:08:31.809Z"
   },
   {
    "duration": 30,
    "start_time": "2022-10-24T13:08:31.820Z"
   },
   {
    "duration": 10,
    "start_time": "2022-10-24T13:08:31.852Z"
   },
   {
    "duration": 14,
    "start_time": "2022-10-24T13:08:31.863Z"
   },
   {
    "duration": 41,
    "start_time": "2022-10-24T13:08:31.879Z"
   },
   {
    "duration": 34,
    "start_time": "2022-10-24T13:08:31.923Z"
   },
   {
    "duration": 40,
    "start_time": "2022-10-24T13:08:31.959Z"
   },
   {
    "duration": 9,
    "start_time": "2022-10-24T13:08:32.010Z"
   },
   {
    "duration": 10,
    "start_time": "2022-10-24T13:08:32.021Z"
   },
   {
    "duration": 11,
    "start_time": "2022-10-24T13:08:32.033Z"
   },
   {
    "duration": 15,
    "start_time": "2022-10-24T13:08:32.046Z"
   },
   {
    "duration": 7,
    "start_time": "2022-10-24T13:08:32.063Z"
   },
   {
    "duration": 37,
    "start_time": "2022-10-24T13:08:32.072Z"
   },
   {
    "duration": 20,
    "start_time": "2022-10-24T13:08:32.112Z"
   },
   {
    "duration": 12,
    "start_time": "2022-10-24T13:08:32.135Z"
   },
   {
    "duration": 362,
    "start_time": "2022-10-24T13:08:32.148Z"
   },
   {
    "duration": 4,
    "start_time": "2022-10-24T13:08:32.512Z"
   },
   {
    "duration": 18,
    "start_time": "2022-10-24T13:08:32.518Z"
   },
   {
    "duration": 87,
    "start_time": "2022-10-24T13:11:18.501Z"
   },
   {
    "duration": 21,
    "start_time": "2022-10-24T13:11:51.402Z"
   },
   {
    "duration": 5,
    "start_time": "2022-10-24T13:13:12.729Z"
   },
   {
    "duration": 6,
    "start_time": "2022-10-24T13:13:15.135Z"
   },
   {
    "duration": 16,
    "start_time": "2022-10-24T13:13:39.742Z"
   },
   {
    "duration": 8,
    "start_time": "2022-10-24T13:14:23.629Z"
   },
   {
    "duration": 18,
    "start_time": "2022-10-24T13:14:29.241Z"
   },
   {
    "duration": 14,
    "start_time": "2022-10-24T13:14:50.682Z"
   },
   {
    "duration": 519,
    "start_time": "2022-10-24T13:14:56.152Z"
   },
   {
    "duration": 16,
    "start_time": "2022-10-24T13:14:56.674Z"
   },
   {
    "duration": 40,
    "start_time": "2022-10-24T13:14:56.692Z"
   },
   {
    "duration": 2118,
    "start_time": "2022-10-24T13:14:56.734Z"
   },
   {
    "duration": 13,
    "start_time": "2022-10-24T13:14:58.854Z"
   },
   {
    "duration": 9,
    "start_time": "2022-10-24T13:14:58.869Z"
   },
   {
    "duration": 3,
    "start_time": "2022-10-24T13:14:58.880Z"
   },
   {
    "duration": 5,
    "start_time": "2022-10-24T13:14:58.885Z"
   },
   {
    "duration": 12,
    "start_time": "2022-10-24T13:14:58.891Z"
   },
   {
    "duration": 20,
    "start_time": "2022-10-24T13:14:58.908Z"
   },
   {
    "duration": 4,
    "start_time": "2022-10-24T13:14:58.930Z"
   },
   {
    "duration": 14,
    "start_time": "2022-10-24T13:14:58.935Z"
   },
   {
    "duration": 14,
    "start_time": "2022-10-24T13:14:58.950Z"
   },
   {
    "duration": 11,
    "start_time": "2022-10-24T13:14:58.965Z"
   },
   {
    "duration": 33,
    "start_time": "2022-10-24T13:14:58.977Z"
   },
   {
    "duration": 8,
    "start_time": "2022-10-24T13:14:59.012Z"
   },
   {
    "duration": 14,
    "start_time": "2022-10-24T13:14:59.022Z"
   },
   {
    "duration": 27,
    "start_time": "2022-10-24T13:14:59.037Z"
   },
   {
    "duration": 45,
    "start_time": "2022-10-24T13:14:59.066Z"
   },
   {
    "duration": 23,
    "start_time": "2022-10-24T13:14:59.112Z"
   },
   {
    "duration": 8,
    "start_time": "2022-10-24T13:14:59.137Z"
   },
   {
    "duration": 9,
    "start_time": "2022-10-24T13:14:59.146Z"
   },
   {
    "duration": 123,
    "start_time": "2022-10-24T13:14:59.157Z"
   },
   {
    "duration": 0,
    "start_time": "2022-10-24T13:14:59.282Z"
   },
   {
    "duration": 0,
    "start_time": "2022-10-24T13:14:59.284Z"
   },
   {
    "duration": 0,
    "start_time": "2022-10-24T13:14:59.285Z"
   },
   {
    "duration": 0,
    "start_time": "2022-10-24T13:14:59.287Z"
   },
   {
    "duration": 0,
    "start_time": "2022-10-24T13:14:59.289Z"
   },
   {
    "duration": 0,
    "start_time": "2022-10-24T13:14:59.291Z"
   },
   {
    "duration": 0,
    "start_time": "2022-10-24T13:14:59.309Z"
   },
   {
    "duration": 0,
    "start_time": "2022-10-24T13:14:59.311Z"
   },
   {
    "duration": 9,
    "start_time": "2022-10-24T13:17:11.585Z"
   },
   {
    "duration": 6,
    "start_time": "2022-10-24T13:19:38.773Z"
   },
   {
    "duration": 517,
    "start_time": "2022-10-24T13:19:44.445Z"
   },
   {
    "duration": 16,
    "start_time": "2022-10-24T13:19:44.964Z"
   },
   {
    "duration": 52,
    "start_time": "2022-10-24T13:19:44.982Z"
   },
   {
    "duration": 2156,
    "start_time": "2022-10-24T13:19:45.036Z"
   },
   {
    "duration": 10,
    "start_time": "2022-10-24T13:19:47.194Z"
   },
   {
    "duration": 9,
    "start_time": "2022-10-24T13:19:47.205Z"
   },
   {
    "duration": 3,
    "start_time": "2022-10-24T13:19:47.216Z"
   },
   {
    "duration": 5,
    "start_time": "2022-10-24T13:19:47.220Z"
   },
   {
    "duration": 15,
    "start_time": "2022-10-24T13:19:47.226Z"
   },
   {
    "duration": 21,
    "start_time": "2022-10-24T13:19:47.243Z"
   },
   {
    "duration": 4,
    "start_time": "2022-10-24T13:19:47.266Z"
   },
   {
    "duration": 14,
    "start_time": "2022-10-24T13:19:47.272Z"
   },
   {
    "duration": 29,
    "start_time": "2022-10-24T13:19:47.288Z"
   },
   {
    "duration": 10,
    "start_time": "2022-10-24T13:19:47.319Z"
   },
   {
    "duration": 20,
    "start_time": "2022-10-24T13:19:47.331Z"
   },
   {
    "duration": 13,
    "start_time": "2022-10-24T13:19:47.352Z"
   },
   {
    "duration": 43,
    "start_time": "2022-10-24T13:19:47.366Z"
   },
   {
    "duration": 18,
    "start_time": "2022-10-24T13:19:47.411Z"
   },
   {
    "duration": 40,
    "start_time": "2022-10-24T13:19:47.431Z"
   },
   {
    "duration": 38,
    "start_time": "2022-10-24T13:19:47.472Z"
   },
   {
    "duration": 8,
    "start_time": "2022-10-24T13:19:47.511Z"
   },
   {
    "duration": 8,
    "start_time": "2022-10-24T13:19:47.521Z"
   },
   {
    "duration": 7,
    "start_time": "2022-10-24T13:19:47.531Z"
   },
   {
    "duration": 15,
    "start_time": "2022-10-24T13:19:47.539Z"
   },
   {
    "duration": 15,
    "start_time": "2022-10-24T13:19:47.555Z"
   },
   {
    "duration": 6,
    "start_time": "2022-10-24T13:19:47.571Z"
   },
   {
    "duration": 33,
    "start_time": "2022-10-24T13:19:47.578Z"
   },
   {
    "duration": 9,
    "start_time": "2022-10-24T13:19:47.614Z"
   },
   {
    "duration": 327,
    "start_time": "2022-10-24T13:19:47.624Z"
   },
   {
    "duration": 5,
    "start_time": "2022-10-24T13:19:47.952Z"
   },
   {
    "duration": 16,
    "start_time": "2022-10-24T13:19:47.959Z"
   },
   {
    "duration": 5,
    "start_time": "2022-10-24T13:20:29.673Z"
   },
   {
    "duration": 6,
    "start_time": "2022-10-24T13:20:30.277Z"
   },
   {
    "duration": 518,
    "start_time": "2022-10-24T13:20:42.021Z"
   },
   {
    "duration": 15,
    "start_time": "2022-10-24T13:20:42.540Z"
   },
   {
    "duration": 27,
    "start_time": "2022-10-24T13:20:42.557Z"
   },
   {
    "duration": 2245,
    "start_time": "2022-10-24T13:20:42.587Z"
   },
   {
    "duration": 13,
    "start_time": "2022-10-24T13:20:44.834Z"
   },
   {
    "duration": 10,
    "start_time": "2022-10-24T13:20:44.849Z"
   },
   {
    "duration": 4,
    "start_time": "2022-10-24T13:20:44.861Z"
   },
   {
    "duration": 7,
    "start_time": "2022-10-24T13:20:44.867Z"
   },
   {
    "duration": 18,
    "start_time": "2022-10-24T13:20:44.876Z"
   },
   {
    "duration": 22,
    "start_time": "2022-10-24T13:20:44.897Z"
   },
   {
    "duration": 4,
    "start_time": "2022-10-24T13:20:44.921Z"
   },
   {
    "duration": 20,
    "start_time": "2022-10-24T13:20:44.926Z"
   },
   {
    "duration": 18,
    "start_time": "2022-10-24T13:20:44.948Z"
   },
   {
    "duration": 17,
    "start_time": "2022-10-24T13:20:44.968Z"
   },
   {
    "duration": 20,
    "start_time": "2022-10-24T13:20:44.987Z"
   },
   {
    "duration": 31,
    "start_time": "2022-10-24T13:20:45.008Z"
   },
   {
    "duration": 19,
    "start_time": "2022-10-24T13:20:45.041Z"
   },
   {
    "duration": 29,
    "start_time": "2022-10-24T13:20:45.061Z"
   },
   {
    "duration": 44,
    "start_time": "2022-10-24T13:20:45.091Z"
   },
   {
    "duration": 30,
    "start_time": "2022-10-24T13:20:45.137Z"
   },
   {
    "duration": 14,
    "start_time": "2022-10-24T13:20:45.169Z"
   },
   {
    "duration": 13,
    "start_time": "2022-10-24T13:20:45.185Z"
   },
   {
    "duration": 12,
    "start_time": "2022-10-24T13:20:45.199Z"
   },
   {
    "duration": 15,
    "start_time": "2022-10-24T13:20:45.213Z"
   },
   {
    "duration": 17,
    "start_time": "2022-10-24T13:20:45.230Z"
   },
   {
    "duration": 16,
    "start_time": "2022-10-24T13:20:45.249Z"
   },
   {
    "duration": 24,
    "start_time": "2022-10-24T13:20:45.267Z"
   },
   {
    "duration": 19,
    "start_time": "2022-10-24T13:20:45.295Z"
   },
   {
    "duration": 319,
    "start_time": "2022-10-24T13:20:45.316Z"
   },
   {
    "duration": 5,
    "start_time": "2022-10-24T13:20:45.637Z"
   },
   {
    "duration": 25,
    "start_time": "2022-10-24T13:20:45.644Z"
   },
   {
    "duration": 7,
    "start_time": "2022-10-24T13:20:57.977Z"
   },
   {
    "duration": 9,
    "start_time": "2022-10-24T13:21:25.385Z"
   },
   {
    "duration": 584,
    "start_time": "2022-10-24T13:21:27.265Z"
   },
   {
    "duration": 603,
    "start_time": "2022-10-24T13:26:00.357Z"
   },
   {
    "duration": 464,
    "start_time": "2022-10-24T13:26:10.861Z"
   },
   {
    "duration": 16,
    "start_time": "2022-10-24T13:26:11.327Z"
   },
   {
    "duration": 29,
    "start_time": "2022-10-24T13:26:11.344Z"
   },
   {
    "duration": 2110,
    "start_time": "2022-10-24T13:26:11.374Z"
   },
   {
    "duration": 9,
    "start_time": "2022-10-24T13:26:13.486Z"
   },
   {
    "duration": 10,
    "start_time": "2022-10-24T13:26:13.496Z"
   },
   {
    "duration": 3,
    "start_time": "2022-10-24T13:26:13.508Z"
   },
   {
    "duration": 5,
    "start_time": "2022-10-24T13:26:13.512Z"
   },
   {
    "duration": 10,
    "start_time": "2022-10-24T13:26:13.519Z"
   },
   {
    "duration": 22,
    "start_time": "2022-10-24T13:26:13.531Z"
   },
   {
    "duration": 4,
    "start_time": "2022-10-24T13:26:13.554Z"
   },
   {
    "duration": 11,
    "start_time": "2022-10-24T13:26:13.559Z"
   },
   {
    "duration": 39,
    "start_time": "2022-10-24T13:26:13.571Z"
   },
   {
    "duration": 8,
    "start_time": "2022-10-24T13:26:13.611Z"
   },
   {
    "duration": 15,
    "start_time": "2022-10-24T13:26:13.621Z"
   },
   {
    "duration": 8,
    "start_time": "2022-10-24T13:26:13.637Z"
   },
   {
    "duration": 10,
    "start_time": "2022-10-24T13:26:13.647Z"
   },
   {
    "duration": 20,
    "start_time": "2022-10-24T13:26:13.659Z"
   },
   {
    "duration": 35,
    "start_time": "2022-10-24T13:26:13.709Z"
   },
   {
    "duration": 34,
    "start_time": "2022-10-24T13:26:13.746Z"
   },
   {
    "duration": 7,
    "start_time": "2022-10-24T13:26:13.782Z"
   },
   {
    "duration": 24,
    "start_time": "2022-10-24T13:26:13.790Z"
   },
   {
    "duration": 104,
    "start_time": "2022-10-24T13:26:13.815Z"
   },
   {
    "duration": 0,
    "start_time": "2022-10-24T13:26:13.921Z"
   },
   {
    "duration": 0,
    "start_time": "2022-10-24T13:26:13.922Z"
   },
   {
    "duration": 0,
    "start_time": "2022-10-24T13:26:13.924Z"
   },
   {
    "duration": 0,
    "start_time": "2022-10-24T13:26:13.925Z"
   },
   {
    "duration": 0,
    "start_time": "2022-10-24T13:26:13.926Z"
   },
   {
    "duration": 0,
    "start_time": "2022-10-24T13:26:13.928Z"
   },
   {
    "duration": 0,
    "start_time": "2022-10-24T13:26:13.929Z"
   },
   {
    "duration": 0,
    "start_time": "2022-10-24T13:26:13.931Z"
   },
   {
    "duration": 8,
    "start_time": "2022-10-24T13:29:06.637Z"
   },
   {
    "duration": 23,
    "start_time": "2022-10-24T13:29:15.289Z"
   },
   {
    "duration": 4,
    "start_time": "2022-10-24T13:29:36.097Z"
   },
   {
    "duration": 5,
    "start_time": "2022-10-24T13:29:46.529Z"
   },
   {
    "duration": 4,
    "start_time": "2022-10-24T13:30:21.349Z"
   },
   {
    "duration": 61,
    "start_time": "2022-10-24T13:30:47.649Z"
   },
   {
    "duration": 14,
    "start_time": "2022-10-24T13:31:03.962Z"
   },
   {
    "duration": 12,
    "start_time": "2022-10-24T13:31:08.986Z"
   },
   {
    "duration": 544,
    "start_time": "2022-10-24T13:31:19.890Z"
   },
   {
    "duration": 16,
    "start_time": "2022-10-24T13:31:20.436Z"
   },
   {
    "duration": 30,
    "start_time": "2022-10-24T13:31:20.453Z"
   },
   {
    "duration": 2131,
    "start_time": "2022-10-24T13:31:20.485Z"
   },
   {
    "duration": 9,
    "start_time": "2022-10-24T13:31:22.618Z"
   },
   {
    "duration": 18,
    "start_time": "2022-10-24T13:31:22.629Z"
   },
   {
    "duration": 21,
    "start_time": "2022-10-24T13:31:22.649Z"
   },
   {
    "duration": 14,
    "start_time": "2022-10-24T13:31:22.672Z"
   },
   {
    "duration": 18,
    "start_time": "2022-10-24T13:31:22.688Z"
   },
   {
    "duration": 47,
    "start_time": "2022-10-24T13:31:22.710Z"
   },
   {
    "duration": 5,
    "start_time": "2022-10-24T13:31:22.758Z"
   },
   {
    "duration": 39,
    "start_time": "2022-10-24T13:31:22.765Z"
   },
   {
    "duration": 33,
    "start_time": "2022-10-24T13:31:22.806Z"
   },
   {
    "duration": 25,
    "start_time": "2022-10-24T13:31:22.842Z"
   },
   {
    "duration": 18,
    "start_time": "2022-10-24T13:31:22.869Z"
   },
   {
    "duration": 19,
    "start_time": "2022-10-24T13:31:22.889Z"
   },
   {
    "duration": 34,
    "start_time": "2022-10-24T13:31:22.910Z"
   },
   {
    "duration": 29,
    "start_time": "2022-10-24T13:31:22.946Z"
   },
   {
    "duration": 46,
    "start_time": "2022-10-24T13:31:22.977Z"
   },
   {
    "duration": 25,
    "start_time": "2022-10-24T13:31:23.024Z"
   },
   {
    "duration": 21,
    "start_time": "2022-10-24T13:31:23.050Z"
   },
   {
    "duration": 20,
    "start_time": "2022-10-24T13:31:23.073Z"
   },
   {
    "duration": 88,
    "start_time": "2022-10-24T13:31:23.095Z"
   },
   {
    "duration": 0,
    "start_time": "2022-10-24T13:31:23.185Z"
   },
   {
    "duration": 0,
    "start_time": "2022-10-24T13:31:23.186Z"
   },
   {
    "duration": 0,
    "start_time": "2022-10-24T13:31:23.187Z"
   },
   {
    "duration": 0,
    "start_time": "2022-10-24T13:31:23.189Z"
   },
   {
    "duration": 0,
    "start_time": "2022-10-24T13:31:23.190Z"
   },
   {
    "duration": 0,
    "start_time": "2022-10-24T13:31:23.209Z"
   },
   {
    "duration": 0,
    "start_time": "2022-10-24T13:31:23.210Z"
   },
   {
    "duration": 0,
    "start_time": "2022-10-24T13:31:23.212Z"
   },
   {
    "duration": 0,
    "start_time": "2022-10-24T13:31:23.213Z"
   },
   {
    "duration": 8,
    "start_time": "2022-10-24T13:31:56.124Z"
   },
   {
    "duration": 4,
    "start_time": "2022-10-24T13:32:02.570Z"
   },
   {
    "duration": 5,
    "start_time": "2022-10-24T13:32:05.133Z"
   },
   {
    "duration": 5,
    "start_time": "2022-10-24T13:35:36.162Z"
   },
   {
    "duration": 11,
    "start_time": "2022-10-24T13:37:11.138Z"
   },
   {
    "duration": 11,
    "start_time": "2022-10-24T13:37:14.334Z"
   },
   {
    "duration": 8,
    "start_time": "2022-10-24T13:41:11.842Z"
   },
   {
    "duration": 9,
    "start_time": "2022-10-24T13:41:18.675Z"
   },
   {
    "duration": 5,
    "start_time": "2022-10-24T13:41:30.075Z"
   },
   {
    "duration": 5,
    "start_time": "2022-10-24T13:43:02.375Z"
   },
   {
    "duration": 44,
    "start_time": "2022-10-24T17:20:42.102Z"
   },
   {
    "duration": 1013,
    "start_time": "2022-10-24T17:20:45.751Z"
   },
   {
    "duration": 16,
    "start_time": "2022-10-24T17:20:46.766Z"
   },
   {
    "duration": 30,
    "start_time": "2022-10-24T17:20:46.784Z"
   },
   {
    "duration": 2188,
    "start_time": "2022-10-24T17:20:46.816Z"
   },
   {
    "duration": 11,
    "start_time": "2022-10-24T17:20:49.006Z"
   },
   {
    "duration": 17,
    "start_time": "2022-10-24T17:20:49.019Z"
   },
   {
    "duration": 12,
    "start_time": "2022-10-24T17:20:49.038Z"
   },
   {
    "duration": 20,
    "start_time": "2022-10-24T17:20:49.052Z"
   },
   {
    "duration": 24,
    "start_time": "2022-10-24T17:20:49.074Z"
   },
   {
    "duration": 36,
    "start_time": "2022-10-24T17:20:49.101Z"
   },
   {
    "duration": 4,
    "start_time": "2022-10-24T17:20:49.139Z"
   },
   {
    "duration": 19,
    "start_time": "2022-10-24T17:20:49.145Z"
   },
   {
    "duration": 17,
    "start_time": "2022-10-24T17:20:49.166Z"
   },
   {
    "duration": 12,
    "start_time": "2022-10-24T17:20:49.185Z"
   },
   {
    "duration": 38,
    "start_time": "2022-10-24T17:20:49.199Z"
   },
   {
    "duration": 17,
    "start_time": "2022-10-24T17:20:49.240Z"
   },
   {
    "duration": 19,
    "start_time": "2022-10-24T17:20:49.259Z"
   },
   {
    "duration": 19,
    "start_time": "2022-10-24T17:20:49.279Z"
   },
   {
    "duration": 41,
    "start_time": "2022-10-24T17:20:49.300Z"
   },
   {
    "duration": 17,
    "start_time": "2022-10-24T17:20:49.343Z"
   },
   {
    "duration": 22,
    "start_time": "2022-10-24T17:20:49.361Z"
   },
   {
    "duration": 12,
    "start_time": "2022-10-24T17:20:49.385Z"
   },
   {
    "duration": 48,
    "start_time": "2022-10-24T17:20:49.399Z"
   },
   {
    "duration": 0,
    "start_time": "2022-10-24T17:20:49.449Z"
   },
   {
    "duration": 0,
    "start_time": "2022-10-24T17:20:49.450Z"
   },
   {
    "duration": 0,
    "start_time": "2022-10-24T17:20:49.452Z"
   },
   {
    "duration": 0,
    "start_time": "2022-10-24T17:20:49.453Z"
   },
   {
    "duration": 0,
    "start_time": "2022-10-24T17:20:49.454Z"
   },
   {
    "duration": 0,
    "start_time": "2022-10-24T17:20:49.456Z"
   },
   {
    "duration": 0,
    "start_time": "2022-10-24T17:20:49.457Z"
   },
   {
    "duration": 0,
    "start_time": "2022-10-24T17:20:49.458Z"
   },
   {
    "duration": 0,
    "start_time": "2022-10-24T17:20:49.460Z"
   },
   {
    "duration": 83,
    "start_time": "2022-10-24T17:26:53.659Z"
   },
   {
    "duration": 20,
    "start_time": "2022-10-24T17:27:06.335Z"
   },
   {
    "duration": 6,
    "start_time": "2022-10-24T17:27:14.707Z"
   },
   {
    "duration": 11,
    "start_time": "2022-10-24T17:27:26.916Z"
   },
   {
    "duration": 459,
    "start_time": "2022-10-24T17:30:18.446Z"
   },
   {
    "duration": 19,
    "start_time": "2022-10-24T17:30:18.907Z"
   },
   {
    "duration": 36,
    "start_time": "2022-10-24T17:30:18.928Z"
   },
   {
    "duration": 1978,
    "start_time": "2022-10-24T17:30:18.967Z"
   },
   {
    "duration": 9,
    "start_time": "2022-10-24T17:30:20.946Z"
   },
   {
    "duration": 9,
    "start_time": "2022-10-24T17:30:20.956Z"
   },
   {
    "duration": 5,
    "start_time": "2022-10-24T17:30:20.966Z"
   },
   {
    "duration": 7,
    "start_time": "2022-10-24T17:30:20.972Z"
   },
   {
    "duration": 11,
    "start_time": "2022-10-24T17:30:20.980Z"
   },
   {
    "duration": 20,
    "start_time": "2022-10-24T17:30:20.993Z"
   },
   {
    "duration": 4,
    "start_time": "2022-10-24T17:30:21.021Z"
   },
   {
    "duration": 8,
    "start_time": "2022-10-24T17:30:21.026Z"
   },
   {
    "duration": 8,
    "start_time": "2022-10-24T17:30:21.036Z"
   },
   {
    "duration": 8,
    "start_time": "2022-10-24T17:30:21.046Z"
   },
   {
    "duration": 14,
    "start_time": "2022-10-24T17:30:21.055Z"
   },
   {
    "duration": 7,
    "start_time": "2022-10-24T17:30:21.071Z"
   },
   {
    "duration": 42,
    "start_time": "2022-10-24T17:30:21.080Z"
   },
   {
    "duration": 18,
    "start_time": "2022-10-24T17:30:21.123Z"
   },
   {
    "duration": 26,
    "start_time": "2022-10-24T17:30:21.142Z"
   },
   {
    "duration": 17,
    "start_time": "2022-10-24T17:30:21.170Z"
   },
   {
    "duration": 34,
    "start_time": "2022-10-24T17:30:21.188Z"
   },
   {
    "duration": 6,
    "start_time": "2022-10-24T17:30:21.224Z"
   },
   {
    "duration": 20,
    "start_time": "2022-10-24T17:30:21.231Z"
   },
   {
    "duration": 5,
    "start_time": "2022-10-24T17:30:21.253Z"
   },
   {
    "duration": 13,
    "start_time": "2022-10-24T17:30:21.259Z"
   },
   {
    "duration": 5,
    "start_time": "2022-10-24T17:30:21.273Z"
   },
   {
    "duration": 12,
    "start_time": "2022-10-24T17:30:21.279Z"
   },
   {
    "duration": 36,
    "start_time": "2022-10-24T17:30:21.294Z"
   },
   {
    "duration": 252,
    "start_time": "2022-10-24T17:30:21.332Z"
   },
   {
    "duration": 4,
    "start_time": "2022-10-24T17:30:21.586Z"
   },
   {
    "duration": 28,
    "start_time": "2022-10-24T17:30:21.591Z"
   },
   {
    "duration": 9,
    "start_time": "2022-10-24T17:35:00.378Z"
   },
   {
    "duration": 65,
    "start_time": "2022-10-24T17:35:17.946Z"
   },
   {
    "duration": 2,
    "start_time": "2022-10-24T17:35:42.006Z"
   },
   {
    "duration": 7,
    "start_time": "2022-10-24T17:35:46.786Z"
   },
   {
    "duration": 3,
    "start_time": "2022-10-24T17:36:55.634Z"
   },
   {
    "duration": 103,
    "start_time": "2022-10-24T17:36:57.766Z"
   },
   {
    "duration": 168,
    "start_time": "2022-10-24T17:42:03.508Z"
   },
   {
    "duration": 165,
    "start_time": "2022-10-24T17:52:59.455Z"
   },
   {
    "duration": 226,
    "start_time": "2022-10-24T17:54:34.327Z"
   },
   {
    "duration": 149,
    "start_time": "2022-10-24T17:56:54.818Z"
   },
   {
    "duration": 141,
    "start_time": "2022-10-24T17:58:27.092Z"
   },
   {
    "duration": 158,
    "start_time": "2022-10-24T17:58:35.612Z"
   },
   {
    "duration": 139,
    "start_time": "2022-10-24T17:58:44.140Z"
   },
   {
    "duration": 198,
    "start_time": "2022-10-24T17:58:48.884Z"
   },
   {
    "duration": 170,
    "start_time": "2022-10-24T17:59:03.211Z"
   },
   {
    "duration": 161,
    "start_time": "2022-10-24T17:59:08.773Z"
   },
   {
    "duration": 159,
    "start_time": "2022-10-24T18:00:16.944Z"
   },
   {
    "duration": 148,
    "start_time": "2022-10-24T18:00:22.717Z"
   },
   {
    "duration": 125,
    "start_time": "2022-10-24T18:00:26.348Z"
   },
   {
    "duration": 243,
    "start_time": "2022-10-24T18:00:45.748Z"
   },
   {
    "duration": 129,
    "start_time": "2022-10-24T18:01:02.636Z"
   },
   {
    "duration": 122,
    "start_time": "2022-10-24T18:01:09.137Z"
   },
   {
    "duration": 120,
    "start_time": "2022-10-24T18:01:20.496Z"
   },
   {
    "duration": 119,
    "start_time": "2022-10-24T18:01:30.572Z"
   },
   {
    "duration": 160,
    "start_time": "2022-10-24T18:01:35.204Z"
   },
   {
    "duration": 163,
    "start_time": "2022-10-24T18:01:41.556Z"
   },
   {
    "duration": 132,
    "start_time": "2022-10-24T18:01:52.552Z"
   },
   {
    "duration": 156,
    "start_time": "2022-10-24T18:01:56.601Z"
   },
   {
    "duration": 152,
    "start_time": "2022-10-24T18:02:01.148Z"
   },
   {
    "duration": 135,
    "start_time": "2022-10-24T18:02:13.600Z"
   },
   {
    "duration": 237,
    "start_time": "2022-10-24T18:02:19.820Z"
   },
   {
    "duration": 163,
    "start_time": "2022-10-24T18:02:27.976Z"
   },
   {
    "duration": 140,
    "start_time": "2022-10-24T18:02:36.353Z"
   },
   {
    "duration": 155,
    "start_time": "2022-10-24T18:04:42.089Z"
   },
   {
    "duration": 153,
    "start_time": "2022-10-24T18:04:46.008Z"
   },
   {
    "duration": 1286,
    "start_time": "2022-10-24T18:05:02.397Z"
   },
   {
    "duration": 1297,
    "start_time": "2022-10-24T18:05:09.274Z"
   },
   {
    "duration": 155,
    "start_time": "2022-10-24T18:05:15.167Z"
   },
   {
    "duration": 142,
    "start_time": "2022-10-24T18:05:21.449Z"
   },
   {
    "duration": 9,
    "start_time": "2022-10-24T18:05:42.737Z"
   },
   {
    "duration": 148,
    "start_time": "2022-10-24T18:06:07.837Z"
   },
   {
    "duration": 207,
    "start_time": "2022-10-24T18:06:15.094Z"
   },
   {
    "duration": 304,
    "start_time": "2022-10-24T18:07:16.521Z"
   },
   {
    "duration": 187,
    "start_time": "2022-10-24T18:07:31.761Z"
   },
   {
    "duration": 172,
    "start_time": "2022-10-24T18:07:43.641Z"
   },
   {
    "duration": 184,
    "start_time": "2022-10-24T18:07:55.051Z"
   },
   {
    "duration": 163,
    "start_time": "2022-10-24T18:08:02.681Z"
   },
   {
    "duration": 114,
    "start_time": "2022-10-24T18:08:33.961Z"
   },
   {
    "duration": 145,
    "start_time": "2022-10-24T18:09:10.443Z"
   },
   {
    "duration": 141,
    "start_time": "2022-10-24T18:09:20.281Z"
   },
   {
    "duration": 141,
    "start_time": "2022-10-24T18:10:04.042Z"
   },
   {
    "duration": 230,
    "start_time": "2022-10-24T18:10:27.973Z"
   },
   {
    "duration": 118,
    "start_time": "2022-10-24T18:16:09.306Z"
   },
   {
    "duration": 4,
    "start_time": "2022-10-24T18:17:00.902Z"
   },
   {
    "duration": 5,
    "start_time": "2022-10-24T18:17:11.366Z"
   },
   {
    "duration": 12,
    "start_time": "2022-10-24T18:17:22.110Z"
   },
   {
    "duration": 6,
    "start_time": "2022-10-24T18:17:47.668Z"
   },
   {
    "duration": 118,
    "start_time": "2022-10-24T18:17:47.715Z"
   },
   {
    "duration": 125,
    "start_time": "2022-10-24T18:19:48.150Z"
   },
   {
    "duration": 128,
    "start_time": "2022-10-24T18:20:12.494Z"
   },
   {
    "duration": 123,
    "start_time": "2022-10-24T18:20:18.619Z"
   },
   {
    "duration": 122,
    "start_time": "2022-10-24T18:20:37.711Z"
   },
   {
    "duration": 130,
    "start_time": "2022-10-24T18:20:51.347Z"
   },
   {
    "duration": 145,
    "start_time": "2022-10-24T18:21:02.347Z"
   },
   {
    "duration": 134,
    "start_time": "2022-10-24T18:21:21.555Z"
   },
   {
    "duration": 136,
    "start_time": "2022-10-24T18:21:24.590Z"
   },
   {
    "duration": 134,
    "start_time": "2022-10-24T18:21:35.343Z"
   },
   {
    "duration": 216,
    "start_time": "2022-10-24T18:21:47.471Z"
   },
   {
    "duration": 134,
    "start_time": "2022-10-24T18:22:19.909Z"
   },
   {
    "duration": 142,
    "start_time": "2022-10-24T18:22:29.859Z"
   },
   {
    "duration": 138,
    "start_time": "2022-10-24T18:22:33.819Z"
   },
   {
    "duration": 124,
    "start_time": "2022-10-24T18:23:07.755Z"
   },
   {
    "duration": 690,
    "start_time": "2022-10-24T18:23:10.863Z"
   },
   {
    "duration": 134,
    "start_time": "2022-10-24T18:23:43.865Z"
   },
   {
    "duration": 153,
    "start_time": "2022-10-24T18:23:56.879Z"
   },
   {
    "duration": 127,
    "start_time": "2022-10-24T18:24:30.106Z"
   },
   {
    "duration": 164,
    "start_time": "2022-10-24T18:25:59.007Z"
   },
   {
    "duration": 136,
    "start_time": "2022-10-24T18:27:28.521Z"
   },
   {
    "duration": 154,
    "start_time": "2022-10-24T18:28:21.616Z"
   },
   {
    "duration": 127,
    "start_time": "2022-10-24T18:29:47.176Z"
   },
   {
    "duration": 227,
    "start_time": "2022-10-24T18:34:50.743Z"
   },
   {
    "duration": 20,
    "start_time": "2022-10-24T18:35:49.164Z"
   },
   {
    "duration": 164,
    "start_time": "2022-10-24T18:36:12.384Z"
   },
   {
    "duration": 150,
    "start_time": "2022-10-24T18:36:34.873Z"
   },
   {
    "duration": 168,
    "start_time": "2022-10-24T18:41:03.554Z"
   },
   {
    "duration": 513,
    "start_time": "2022-10-24T18:46:22.598Z"
   },
   {
    "duration": 15,
    "start_time": "2022-10-24T18:46:23.113Z"
   },
   {
    "duration": 31,
    "start_time": "2022-10-24T18:46:23.130Z"
   },
   {
    "duration": 2002,
    "start_time": "2022-10-24T18:46:23.163Z"
   },
   {
    "duration": 13,
    "start_time": "2022-10-24T18:46:25.166Z"
   },
   {
    "duration": 10,
    "start_time": "2022-10-24T18:46:25.180Z"
   },
   {
    "duration": 4,
    "start_time": "2022-10-24T18:46:25.192Z"
   },
   {
    "duration": 4,
    "start_time": "2022-10-24T18:46:25.198Z"
   },
   {
    "duration": 22,
    "start_time": "2022-10-24T18:46:25.204Z"
   },
   {
    "duration": 20,
    "start_time": "2022-10-24T18:46:25.229Z"
   },
   {
    "duration": 3,
    "start_time": "2022-10-24T18:46:25.251Z"
   },
   {
    "duration": 10,
    "start_time": "2022-10-24T18:46:25.255Z"
   },
   {
    "duration": 55,
    "start_time": "2022-10-24T18:46:25.266Z"
   },
   {
    "duration": 7,
    "start_time": "2022-10-24T18:46:25.323Z"
   },
   {
    "duration": 12,
    "start_time": "2022-10-24T18:46:25.332Z"
   },
   {
    "duration": 18,
    "start_time": "2022-10-24T18:46:25.345Z"
   },
   {
    "duration": 26,
    "start_time": "2022-10-24T18:46:25.365Z"
   },
   {
    "duration": 17,
    "start_time": "2022-10-24T18:46:25.422Z"
   },
   {
    "duration": 10,
    "start_time": "2022-10-24T18:46:25.440Z"
   },
   {
    "duration": 6,
    "start_time": "2022-10-24T18:46:25.451Z"
   },
   {
    "duration": 19,
    "start_time": "2022-10-24T18:46:25.458Z"
   },
   {
    "duration": 45,
    "start_time": "2022-10-24T18:46:25.479Z"
   },
   {
    "duration": 16,
    "start_time": "2022-10-24T18:46:25.525Z"
   },
   {
    "duration": 4,
    "start_time": "2022-10-24T18:46:25.542Z"
   },
   {
    "duration": 14,
    "start_time": "2022-10-24T18:46:25.548Z"
   },
   {
    "duration": 10,
    "start_time": "2022-10-24T18:46:25.564Z"
   },
   {
    "duration": 300,
    "start_time": "2022-10-24T18:46:25.575Z"
   },
   {
    "duration": 4,
    "start_time": "2022-10-24T18:46:25.878Z"
   },
   {
    "duration": 13,
    "start_time": "2022-10-24T18:46:25.884Z"
   },
   {
    "duration": 23,
    "start_time": "2022-10-24T18:46:25.899Z"
   },
   {
    "duration": 179,
    "start_time": "2022-10-24T18:46:25.923Z"
   },
   {
    "duration": 174,
    "start_time": "2022-10-24T18:46:26.104Z"
   },
   {
    "duration": 145,
    "start_time": "2022-10-24T18:46:26.280Z"
   },
   {
    "duration": 206,
    "start_time": "2022-10-24T18:46:26.427Z"
   },
   {
    "duration": 68,
    "start_time": "2022-10-24T18:46:26.634Z"
   },
   {
    "duration": 0,
    "start_time": "2022-10-24T18:46:26.704Z"
   },
   {
    "duration": 0,
    "start_time": "2022-10-24T18:46:26.721Z"
   },
   {
    "duration": 0,
    "start_time": "2022-10-24T18:46:26.723Z"
   },
   {
    "duration": 0,
    "start_time": "2022-10-24T18:46:26.724Z"
   },
   {
    "duration": 0,
    "start_time": "2022-10-24T18:46:26.725Z"
   },
   {
    "duration": 0,
    "start_time": "2022-10-24T18:46:26.726Z"
   },
   {
    "duration": 0,
    "start_time": "2022-10-24T18:46:26.726Z"
   },
   {
    "duration": 0,
    "start_time": "2022-10-24T18:46:26.727Z"
   },
   {
    "duration": 0,
    "start_time": "2022-10-24T18:46:26.728Z"
   },
   {
    "duration": 137,
    "start_time": "2022-10-24T18:47:22.818Z"
   },
   {
    "duration": 139,
    "start_time": "2022-10-24T18:47:24.388Z"
   },
   {
    "duration": 147,
    "start_time": "2022-10-24T18:47:24.923Z"
   },
   {
    "duration": 144,
    "start_time": "2022-10-24T18:47:25.599Z"
   },
   {
    "duration": 141,
    "start_time": "2022-10-24T18:47:26.491Z"
   },
   {
    "duration": 132,
    "start_time": "2022-10-24T18:47:27.090Z"
   },
   {
    "duration": 140,
    "start_time": "2022-10-24T18:47:27.758Z"
   },
   {
    "duration": 191,
    "start_time": "2022-10-24T18:47:28.992Z"
   },
   {
    "duration": 131,
    "start_time": "2022-10-24T18:47:31.870Z"
   },
   {
    "duration": 136,
    "start_time": "2022-10-24T18:47:32.491Z"
   },
   {
    "duration": 225,
    "start_time": "2022-10-24T18:47:32.629Z"
   },
   {
    "duration": 225,
    "start_time": "2022-10-24T18:56:33.318Z"
   },
   {
    "duration": 133,
    "start_time": "2022-10-24T19:25:07.647Z"
   },
   {
    "duration": 143,
    "start_time": "2022-10-24T19:35:16.223Z"
   },
   {
    "duration": 142,
    "start_time": "2022-10-24T19:37:49.090Z"
   },
   {
    "duration": 144,
    "start_time": "2022-10-24T19:43:23.390Z"
   },
   {
    "duration": 173,
    "start_time": "2022-10-24T19:43:29.882Z"
   },
   {
    "duration": 151,
    "start_time": "2022-10-24T19:45:42.027Z"
   },
   {
    "duration": 22,
    "start_time": "2022-10-24T19:47:23.756Z"
   },
   {
    "duration": 22,
    "start_time": "2022-10-24T19:47:39.451Z"
   },
   {
    "duration": 17,
    "start_time": "2022-10-24T19:49:10.922Z"
   },
   {
    "duration": 29,
    "start_time": "2022-10-24T19:49:15.171Z"
   },
   {
    "duration": 11,
    "start_time": "2022-10-24T19:49:41.595Z"
   },
   {
    "duration": 144,
    "start_time": "2022-10-24T19:50:20.303Z"
   },
   {
    "duration": 12,
    "start_time": "2022-10-24T19:51:46.648Z"
   },
   {
    "duration": 8,
    "start_time": "2022-10-24T19:51:51.111Z"
   },
   {
    "duration": 15,
    "start_time": "2022-10-24T19:51:56.623Z"
   },
   {
    "duration": 10,
    "start_time": "2022-10-24T19:52:14.835Z"
   },
   {
    "duration": 15,
    "start_time": "2022-10-24T19:52:15.519Z"
   },
   {
    "duration": 21,
    "start_time": "2022-10-24T19:52:32.819Z"
   },
   {
    "duration": 137,
    "start_time": "2022-10-24T19:52:46.540Z"
   },
   {
    "duration": 229,
    "start_time": "2022-10-24T19:52:57.200Z"
   },
   {
    "duration": 43,
    "start_time": "2022-10-24T19:53:57.992Z"
   },
   {
    "duration": 7,
    "start_time": "2022-10-24T19:54:48.064Z"
   },
   {
    "duration": 10,
    "start_time": "2022-10-24T20:02:45.269Z"
   },
   {
    "duration": 138,
    "start_time": "2022-10-24T20:03:19.996Z"
   },
   {
    "duration": 143,
    "start_time": "2022-10-24T20:06:09.145Z"
   },
   {
    "duration": 164,
    "start_time": "2022-10-24T20:08:10.233Z"
   },
   {
    "duration": 149,
    "start_time": "2022-10-24T20:08:43.393Z"
   },
   {
    "duration": 150,
    "start_time": "2022-10-24T20:08:52.907Z"
   },
   {
    "duration": 149,
    "start_time": "2022-10-24T20:11:02.273Z"
   },
   {
    "duration": 24,
    "start_time": "2022-10-24T20:19:19.482Z"
   },
   {
    "duration": 7,
    "start_time": "2022-10-24T20:20:11.474Z"
   },
   {
    "duration": 26,
    "start_time": "2022-10-24T20:21:12.010Z"
   },
   {
    "duration": 6,
    "start_time": "2022-10-24T20:21:13.864Z"
   },
   {
    "duration": 25,
    "start_time": "2022-10-24T20:21:20.546Z"
   },
   {
    "duration": 24,
    "start_time": "2022-10-24T20:21:27.612Z"
   },
   {
    "duration": 24,
    "start_time": "2022-10-24T20:21:33.506Z"
   },
   {
    "duration": 7,
    "start_time": "2022-10-24T20:21:34.566Z"
   },
   {
    "duration": 26,
    "start_time": "2022-10-24T20:22:14.342Z"
   },
   {
    "duration": 24,
    "start_time": "2022-10-24T20:22:23.694Z"
   },
   {
    "duration": 24,
    "start_time": "2022-10-24T20:22:29.508Z"
   },
   {
    "duration": 475,
    "start_time": "2022-10-24T20:35:35.736Z"
   },
   {
    "duration": 16,
    "start_time": "2022-10-24T20:35:36.213Z"
   },
   {
    "duration": 30,
    "start_time": "2022-10-24T20:35:36.231Z"
   },
   {
    "duration": 2017,
    "start_time": "2022-10-24T20:35:36.264Z"
   },
   {
    "duration": 12,
    "start_time": "2022-10-24T20:35:38.283Z"
   },
   {
    "duration": 19,
    "start_time": "2022-10-24T20:35:38.297Z"
   },
   {
    "duration": 27,
    "start_time": "2022-10-24T20:35:38.317Z"
   },
   {
    "duration": 18,
    "start_time": "2022-10-24T20:35:38.345Z"
   },
   {
    "duration": 26,
    "start_time": "2022-10-24T20:35:38.364Z"
   },
   {
    "duration": 37,
    "start_time": "2022-10-24T20:35:38.394Z"
   },
   {
    "duration": 5,
    "start_time": "2022-10-24T20:35:38.433Z"
   },
   {
    "duration": 34,
    "start_time": "2022-10-24T20:35:38.440Z"
   },
   {
    "duration": 25,
    "start_time": "2022-10-24T20:35:38.475Z"
   },
   {
    "duration": 28,
    "start_time": "2022-10-24T20:35:38.502Z"
   },
   {
    "duration": 45,
    "start_time": "2022-10-24T20:35:38.532Z"
   },
   {
    "duration": 46,
    "start_time": "2022-10-24T20:35:38.579Z"
   },
   {
    "duration": 38,
    "start_time": "2022-10-24T20:35:38.627Z"
   },
   {
    "duration": 65,
    "start_time": "2022-10-24T20:35:38.666Z"
   },
   {
    "duration": 16,
    "start_time": "2022-10-24T20:35:38.732Z"
   },
   {
    "duration": 14,
    "start_time": "2022-10-24T20:35:38.750Z"
   },
   {
    "duration": 18,
    "start_time": "2022-10-24T20:35:38.766Z"
   },
   {
    "duration": 5,
    "start_time": "2022-10-24T20:35:38.785Z"
   },
   {
    "duration": 14,
    "start_time": "2022-10-24T20:35:38.791Z"
   },
   {
    "duration": 21,
    "start_time": "2022-10-24T20:35:38.806Z"
   },
   {
    "duration": 19,
    "start_time": "2022-10-24T20:35:38.828Z"
   },
   {
    "duration": 6,
    "start_time": "2022-10-24T20:35:38.850Z"
   },
   {
    "duration": 32,
    "start_time": "2022-10-24T20:35:38.858Z"
   },
   {
    "duration": 12,
    "start_time": "2022-10-24T20:35:38.894Z"
   },
   {
    "duration": 295,
    "start_time": "2022-10-24T20:35:38.907Z"
   },
   {
    "duration": 4,
    "start_time": "2022-10-24T20:35:39.204Z"
   },
   {
    "duration": 20,
    "start_time": "2022-10-24T20:35:39.209Z"
   },
   {
    "duration": 5,
    "start_time": "2022-10-24T20:35:39.230Z"
   },
   {
    "duration": 169,
    "start_time": "2022-10-24T20:35:39.236Z"
   },
   {
    "duration": 164,
    "start_time": "2022-10-24T20:35:39.407Z"
   },
   {
    "duration": 133,
    "start_time": "2022-10-24T20:35:39.573Z"
   },
   {
    "duration": 201,
    "start_time": "2022-10-24T20:35:39.709Z"
   },
   {
    "duration": 145,
    "start_time": "2022-10-24T20:35:39.912Z"
   },
   {
    "duration": 139,
    "start_time": "2022-10-24T20:35:40.059Z"
   },
   {
    "duration": 130,
    "start_time": "2022-10-24T20:35:40.200Z"
   },
   {
    "duration": 130,
    "start_time": "2022-10-24T20:35:40.332Z"
   },
   {
    "duration": 146,
    "start_time": "2022-10-24T20:35:40.464Z"
   },
   {
    "duration": 137,
    "start_time": "2022-10-24T20:35:40.612Z"
   },
   {
    "duration": 135,
    "start_time": "2022-10-24T20:35:40.751Z"
   },
   {
    "duration": 140,
    "start_time": "2022-10-24T20:35:40.888Z"
   },
   {
    "duration": 140,
    "start_time": "2022-10-24T20:35:41.029Z"
   },
   {
    "duration": 133,
    "start_time": "2022-10-24T20:35:41.171Z"
   },
   {
    "duration": 323,
    "start_time": "2022-10-24T20:35:41.306Z"
   },
   {
    "duration": 170,
    "start_time": "2022-10-24T20:35:41.630Z"
   },
   {
    "duration": 153,
    "start_time": "2022-10-24T20:35:41.802Z"
   },
   {
    "duration": 138,
    "start_time": "2022-10-24T20:35:41.956Z"
   },
   {
    "duration": 156,
    "start_time": "2022-10-24T20:35:42.096Z"
   },
   {
    "duration": 147,
    "start_time": "2022-10-24T20:35:42.253Z"
   },
   {
    "duration": 150,
    "start_time": "2022-10-24T20:35:42.401Z"
   },
   {
    "duration": 158,
    "start_time": "2022-10-24T20:35:42.552Z"
   },
   {
    "duration": 157,
    "start_time": "2022-10-24T20:35:42.711Z"
   },
   {
    "duration": 23,
    "start_time": "2022-10-24T20:35:42.870Z"
   },
   {
    "duration": 86,
    "start_time": "2022-10-24T20:35:42.894Z"
   },
   {
    "duration": 9,
    "start_time": "2022-10-24T20:37:58.305Z"
   },
   {
    "duration": 16,
    "start_time": "2022-10-24T20:41:22.293Z"
   },
   {
    "duration": 17,
    "start_time": "2022-10-24T20:44:28.525Z"
   },
   {
    "duration": 29,
    "start_time": "2022-10-24T20:44:42.704Z"
   },
   {
    "duration": 13,
    "start_time": "2022-10-24T20:44:54.846Z"
   },
   {
    "duration": 16,
    "start_time": "2022-10-24T20:45:07.953Z"
   },
   {
    "duration": 38,
    "start_time": "2022-10-24T20:45:18.633Z"
   },
   {
    "duration": 19,
    "start_time": "2022-10-24T20:45:24.073Z"
   },
   {
    "duration": 21,
    "start_time": "2022-10-24T20:46:04.609Z"
   },
   {
    "duration": 18,
    "start_time": "2022-10-24T21:00:30.767Z"
   },
   {
    "duration": 19,
    "start_time": "2022-10-24T21:01:06.760Z"
   },
   {
    "duration": 17,
    "start_time": "2022-10-24T21:01:18.742Z"
   },
   {
    "duration": 679,
    "start_time": "2022-10-24T21:02:58.887Z"
   },
   {
    "duration": 706,
    "start_time": "2022-10-24T21:03:10.383Z"
   },
   {
    "duration": 124,
    "start_time": "2022-10-24T21:20:54.170Z"
   },
   {
    "duration": 272,
    "start_time": "2022-10-24T21:44:32.070Z"
   },
   {
    "duration": 517,
    "start_time": "2022-10-24T21:45:15.000Z"
   },
   {
    "duration": 13,
    "start_time": "2022-10-24T21:45:15.519Z"
   },
   {
    "duration": 28,
    "start_time": "2022-10-24T21:45:15.534Z"
   },
   {
    "duration": 1994,
    "start_time": "2022-10-24T21:45:15.563Z"
   },
   {
    "duration": 12,
    "start_time": "2022-10-24T21:45:17.559Z"
   },
   {
    "duration": 14,
    "start_time": "2022-10-24T21:45:17.573Z"
   },
   {
    "duration": 11,
    "start_time": "2022-10-24T21:45:17.588Z"
   },
   {
    "duration": 18,
    "start_time": "2022-10-24T21:45:17.601Z"
   },
   {
    "duration": 25,
    "start_time": "2022-10-24T21:45:17.621Z"
   },
   {
    "duration": 5,
    "start_time": "2022-10-24T21:45:17.649Z"
   },
   {
    "duration": 91,
    "start_time": "2022-10-24T21:45:17.656Z"
   },
   {
    "duration": 0,
    "start_time": "2022-10-24T21:45:17.751Z"
   },
   {
    "duration": 0,
    "start_time": "2022-10-24T21:45:17.752Z"
   },
   {
    "duration": 0,
    "start_time": "2022-10-24T21:45:17.753Z"
   },
   {
    "duration": 0,
    "start_time": "2022-10-24T21:45:17.754Z"
   },
   {
    "duration": 0,
    "start_time": "2022-10-24T21:45:17.755Z"
   },
   {
    "duration": 0,
    "start_time": "2022-10-24T21:45:17.756Z"
   },
   {
    "duration": 0,
    "start_time": "2022-10-24T21:45:17.758Z"
   },
   {
    "duration": 0,
    "start_time": "2022-10-24T21:45:17.759Z"
   },
   {
    "duration": 0,
    "start_time": "2022-10-24T21:45:17.760Z"
   },
   {
    "duration": 0,
    "start_time": "2022-10-24T21:45:17.761Z"
   },
   {
    "duration": 0,
    "start_time": "2022-10-24T21:45:17.762Z"
   },
   {
    "duration": 0,
    "start_time": "2022-10-24T21:45:17.763Z"
   },
   {
    "duration": 0,
    "start_time": "2022-10-24T21:45:17.764Z"
   },
   {
    "duration": 0,
    "start_time": "2022-10-24T21:45:17.765Z"
   },
   {
    "duration": 0,
    "start_time": "2022-10-24T21:45:17.766Z"
   },
   {
    "duration": 1,
    "start_time": "2022-10-24T21:45:17.766Z"
   },
   {
    "duration": 0,
    "start_time": "2022-10-24T21:45:17.767Z"
   },
   {
    "duration": 0,
    "start_time": "2022-10-24T21:45:17.768Z"
   },
   {
    "duration": 0,
    "start_time": "2022-10-24T21:45:17.769Z"
   },
   {
    "duration": 0,
    "start_time": "2022-10-24T21:45:17.770Z"
   },
   {
    "duration": 0,
    "start_time": "2022-10-24T21:45:17.771Z"
   },
   {
    "duration": 0,
    "start_time": "2022-10-24T21:45:17.772Z"
   },
   {
    "duration": 0,
    "start_time": "2022-10-24T21:45:17.773Z"
   },
   {
    "duration": 0,
    "start_time": "2022-10-24T21:45:17.774Z"
   },
   {
    "duration": 0,
    "start_time": "2022-10-24T21:45:17.775Z"
   },
   {
    "duration": 0,
    "start_time": "2022-10-24T21:45:17.823Z"
   },
   {
    "duration": 0,
    "start_time": "2022-10-24T21:45:17.824Z"
   },
   {
    "duration": 0,
    "start_time": "2022-10-24T21:45:17.825Z"
   },
   {
    "duration": 0,
    "start_time": "2022-10-24T21:45:17.826Z"
   },
   {
    "duration": 0,
    "start_time": "2022-10-24T21:45:17.827Z"
   },
   {
    "duration": 0,
    "start_time": "2022-10-24T21:45:17.829Z"
   },
   {
    "duration": 0,
    "start_time": "2022-10-24T21:45:17.830Z"
   },
   {
    "duration": 0,
    "start_time": "2022-10-24T21:45:17.831Z"
   },
   {
    "duration": 0,
    "start_time": "2022-10-24T21:45:17.832Z"
   },
   {
    "duration": 0,
    "start_time": "2022-10-24T21:45:17.833Z"
   },
   {
    "duration": 0,
    "start_time": "2022-10-24T21:45:17.834Z"
   },
   {
    "duration": 0,
    "start_time": "2022-10-24T21:45:17.835Z"
   },
   {
    "duration": 0,
    "start_time": "2022-10-24T21:45:17.836Z"
   },
   {
    "duration": 0,
    "start_time": "2022-10-24T21:45:17.837Z"
   },
   {
    "duration": 0,
    "start_time": "2022-10-24T21:45:17.838Z"
   },
   {
    "duration": 0,
    "start_time": "2022-10-24T21:45:17.839Z"
   },
   {
    "duration": 0,
    "start_time": "2022-10-24T21:45:17.840Z"
   },
   {
    "duration": 0,
    "start_time": "2022-10-24T21:45:17.841Z"
   },
   {
    "duration": 0,
    "start_time": "2022-10-24T21:45:17.842Z"
   },
   {
    "duration": 0,
    "start_time": "2022-10-24T21:45:17.843Z"
   },
   {
    "duration": 0,
    "start_time": "2022-10-24T21:45:17.844Z"
   },
   {
    "duration": 464,
    "start_time": "2022-10-24T21:45:33.437Z"
   },
   {
    "duration": 14,
    "start_time": "2022-10-24T21:45:33.903Z"
   },
   {
    "duration": 31,
    "start_time": "2022-10-24T21:45:33.918Z"
   },
   {
    "duration": 1941,
    "start_time": "2022-10-24T21:45:33.951Z"
   },
   {
    "duration": 9,
    "start_time": "2022-10-24T21:45:35.894Z"
   },
   {
    "duration": 12,
    "start_time": "2022-10-24T21:45:35.904Z"
   },
   {
    "duration": 5,
    "start_time": "2022-10-24T21:45:35.917Z"
   },
   {
    "duration": 11,
    "start_time": "2022-10-24T21:45:35.923Z"
   },
   {
    "duration": 21,
    "start_time": "2022-10-24T21:45:35.935Z"
   },
   {
    "duration": 4,
    "start_time": "2022-10-24T21:45:35.959Z"
   },
   {
    "duration": 12,
    "start_time": "2022-10-24T21:45:35.965Z"
   },
   {
    "duration": 44,
    "start_time": "2022-10-24T21:45:35.978Z"
   },
   {
    "duration": 8,
    "start_time": "2022-10-24T21:45:36.024Z"
   },
   {
    "duration": 11,
    "start_time": "2022-10-24T21:45:36.034Z"
   },
   {
    "duration": 21,
    "start_time": "2022-10-24T21:45:36.047Z"
   },
   {
    "duration": 26,
    "start_time": "2022-10-24T21:45:36.070Z"
   },
   {
    "duration": 17,
    "start_time": "2022-10-24T21:45:36.121Z"
   },
   {
    "duration": 12,
    "start_time": "2022-10-24T21:45:36.140Z"
   },
   {
    "duration": 21,
    "start_time": "2022-10-24T21:45:36.153Z"
   },
   {
    "duration": 28,
    "start_time": "2022-10-24T21:45:36.176Z"
   },
   {
    "duration": 17,
    "start_time": "2022-10-24T21:45:36.206Z"
   },
   {
    "duration": 30,
    "start_time": "2022-10-24T21:45:36.225Z"
   },
   {
    "duration": 34,
    "start_time": "2022-10-24T21:45:36.257Z"
   },
   {
    "duration": 23,
    "start_time": "2022-10-24T21:45:36.292Z"
   },
   {
    "duration": 17,
    "start_time": "2022-10-24T21:45:36.317Z"
   },
   {
    "duration": 31,
    "start_time": "2022-10-24T21:45:36.335Z"
   },
   {
    "duration": 19,
    "start_time": "2022-10-24T21:45:36.368Z"
   },
   {
    "duration": 244,
    "start_time": "2022-10-24T21:45:36.391Z"
   },
   {
    "duration": 5,
    "start_time": "2022-10-24T21:45:36.637Z"
   },
   {
    "duration": 26,
    "start_time": "2022-10-24T21:45:36.643Z"
   },
   {
    "duration": 9,
    "start_time": "2022-10-24T21:45:36.670Z"
   },
   {
    "duration": 164,
    "start_time": "2022-10-24T21:45:36.680Z"
   },
   {
    "duration": 159,
    "start_time": "2022-10-24T21:45:36.845Z"
   },
   {
    "duration": 142,
    "start_time": "2022-10-24T21:45:37.005Z"
   },
   {
    "duration": 198,
    "start_time": "2022-10-24T21:45:37.148Z"
   },
   {
    "duration": 158,
    "start_time": "2022-10-24T21:45:37.348Z"
   },
   {
    "duration": 145,
    "start_time": "2022-10-24T21:45:37.508Z"
   },
   {
    "duration": 128,
    "start_time": "2022-10-24T21:45:37.655Z"
   },
   {
    "duration": 141,
    "start_time": "2022-10-24T21:45:37.785Z"
   },
   {
    "duration": 140,
    "start_time": "2022-10-24T21:45:37.927Z"
   },
   {
    "duration": 138,
    "start_time": "2022-10-24T21:45:38.069Z"
   },
   {
    "duration": 137,
    "start_time": "2022-10-24T21:45:38.209Z"
   },
   {
    "duration": 144,
    "start_time": "2022-10-24T21:45:38.347Z"
   },
   {
    "duration": 140,
    "start_time": "2022-10-24T21:45:38.492Z"
   },
   {
    "duration": 137,
    "start_time": "2022-10-24T21:45:38.634Z"
   },
   {
    "duration": 368,
    "start_time": "2022-10-24T21:45:38.773Z"
   },
   {
    "duration": 211,
    "start_time": "2022-10-24T21:45:39.142Z"
   },
   {
    "duration": 148,
    "start_time": "2022-10-24T21:45:39.355Z"
   },
   {
    "duration": 149,
    "start_time": "2022-10-24T21:45:39.504Z"
   },
   {
    "duration": 140,
    "start_time": "2022-10-24T21:45:39.655Z"
   },
   {
    "duration": 154,
    "start_time": "2022-10-24T21:45:39.797Z"
   },
   {
    "duration": 148,
    "start_time": "2022-10-24T21:45:39.952Z"
   },
   {
    "duration": 144,
    "start_time": "2022-10-24T21:45:40.102Z"
   },
   {
    "duration": 150,
    "start_time": "2022-10-24T21:45:40.248Z"
   },
   {
    "duration": 231,
    "start_time": "2022-10-24T21:45:40.400Z"
   },
   {
    "duration": 22,
    "start_time": "2022-10-24T21:45:40.632Z"
   },
   {
    "duration": 15,
    "start_time": "2022-10-24T21:45:40.656Z"
   },
   {
    "duration": 462,
    "start_time": "2022-10-24T21:46:28.881Z"
   },
   {
    "duration": 14,
    "start_time": "2022-10-24T21:46:29.345Z"
   },
   {
    "duration": 32,
    "start_time": "2022-10-24T21:46:29.361Z"
   },
   {
    "duration": 1970,
    "start_time": "2022-10-24T21:46:29.395Z"
   },
   {
    "duration": 9,
    "start_time": "2022-10-24T21:46:31.366Z"
   },
   {
    "duration": 16,
    "start_time": "2022-10-24T21:46:31.376Z"
   },
   {
    "duration": 3,
    "start_time": "2022-10-24T21:46:31.393Z"
   },
   {
    "duration": 13,
    "start_time": "2022-10-24T21:46:31.397Z"
   },
   {
    "duration": 21,
    "start_time": "2022-10-24T21:46:31.411Z"
   },
   {
    "duration": 3,
    "start_time": "2022-10-24T21:46:31.434Z"
   },
   {
    "duration": 12,
    "start_time": "2022-10-24T21:46:31.438Z"
   },
   {
    "duration": 18,
    "start_time": "2022-10-24T21:46:31.451Z"
   },
   {
    "duration": 7,
    "start_time": "2022-10-24T21:46:31.471Z"
   },
   {
    "duration": 18,
    "start_time": "2022-10-24T21:46:31.480Z"
   },
   {
    "duration": 28,
    "start_time": "2022-10-24T21:46:31.500Z"
   },
   {
    "duration": 28,
    "start_time": "2022-10-24T21:46:31.529Z"
   },
   {
    "duration": 17,
    "start_time": "2022-10-24T21:46:31.558Z"
   },
   {
    "duration": 13,
    "start_time": "2022-10-24T21:46:31.576Z"
   },
   {
    "duration": 33,
    "start_time": "2022-10-24T21:46:31.591Z"
   },
   {
    "duration": 17,
    "start_time": "2022-10-24T21:46:31.626Z"
   },
   {
    "duration": 5,
    "start_time": "2022-10-24T21:46:31.644Z"
   },
   {
    "duration": 13,
    "start_time": "2022-10-24T21:46:31.651Z"
   },
   {
    "duration": 6,
    "start_time": "2022-10-24T21:46:31.666Z"
   },
   {
    "duration": 13,
    "start_time": "2022-10-24T21:46:31.673Z"
   },
   {
    "duration": 5,
    "start_time": "2022-10-24T21:46:31.721Z"
   },
   {
    "duration": 18,
    "start_time": "2022-10-24T21:46:31.728Z"
   },
   {
    "duration": 10,
    "start_time": "2022-10-24T21:46:31.748Z"
   },
   {
    "duration": 259,
    "start_time": "2022-10-24T21:46:31.761Z"
   },
   {
    "duration": 5,
    "start_time": "2022-10-24T21:46:32.021Z"
   },
   {
    "duration": 15,
    "start_time": "2022-10-24T21:46:32.027Z"
   },
   {
    "duration": 4,
    "start_time": "2022-10-24T21:46:32.044Z"
   },
   {
    "duration": 175,
    "start_time": "2022-10-24T21:46:32.049Z"
   },
   {
    "duration": 160,
    "start_time": "2022-10-24T21:46:32.225Z"
   },
   {
    "duration": 127,
    "start_time": "2022-10-24T21:46:32.387Z"
   },
   {
    "duration": 195,
    "start_time": "2022-10-24T21:46:32.515Z"
   },
   {
    "duration": 140,
    "start_time": "2022-10-24T21:46:32.711Z"
   },
   {
    "duration": 138,
    "start_time": "2022-10-24T21:46:32.853Z"
   },
   {
    "duration": 124,
    "start_time": "2022-10-24T21:46:32.992Z"
   },
   {
    "duration": 132,
    "start_time": "2022-10-24T21:46:33.117Z"
   },
   {
    "duration": 150,
    "start_time": "2022-10-24T21:46:33.251Z"
   },
   {
    "duration": 135,
    "start_time": "2022-10-24T21:46:33.402Z"
   },
   {
    "duration": 135,
    "start_time": "2022-10-24T21:46:33.539Z"
   },
   {
    "duration": 134,
    "start_time": "2022-10-24T21:46:33.676Z"
   },
   {
    "duration": 144,
    "start_time": "2022-10-24T21:46:33.812Z"
   },
   {
    "duration": 140,
    "start_time": "2022-10-24T21:46:33.957Z"
   },
   {
    "duration": 311,
    "start_time": "2022-10-24T21:46:34.098Z"
   },
   {
    "duration": 216,
    "start_time": "2022-10-24T21:46:34.411Z"
   },
   {
    "duration": 158,
    "start_time": "2022-10-24T21:46:34.628Z"
   },
   {
    "duration": 186,
    "start_time": "2022-10-24T21:46:34.788Z"
   },
   {
    "duration": 160,
    "start_time": "2022-10-24T21:46:34.977Z"
   },
   {
    "duration": 151,
    "start_time": "2022-10-24T21:46:35.139Z"
   },
   {
    "duration": 150,
    "start_time": "2022-10-24T21:46:35.291Z"
   },
   {
    "duration": 147,
    "start_time": "2022-10-24T21:46:35.442Z"
   },
   {
    "duration": 164,
    "start_time": "2022-10-24T21:46:35.591Z"
   },
   {
    "duration": 246,
    "start_time": "2022-10-24T21:46:35.756Z"
   },
   {
    "duration": 35,
    "start_time": "2022-10-24T21:46:36.004Z"
   },
   {
    "duration": 18,
    "start_time": "2022-10-24T21:46:36.041Z"
   },
   {
    "duration": 58,
    "start_time": "2022-10-24T21:55:13.541Z"
   },
   {
    "duration": 463,
    "start_time": "2022-10-24T22:15:34.543Z"
   },
   {
    "duration": 15,
    "start_time": "2022-10-24T22:15:35.008Z"
   },
   {
    "duration": 28,
    "start_time": "2022-10-24T22:15:35.025Z"
   },
   {
    "duration": 1945,
    "start_time": "2022-10-24T22:15:35.056Z"
   },
   {
    "duration": 14,
    "start_time": "2022-10-24T22:15:37.003Z"
   },
   {
    "duration": 18,
    "start_time": "2022-10-24T22:15:37.020Z"
   },
   {
    "duration": 3,
    "start_time": "2022-10-24T22:15:37.040Z"
   },
   {
    "duration": 18,
    "start_time": "2022-10-24T22:15:37.045Z"
   },
   {
    "duration": 34,
    "start_time": "2022-10-24T22:15:37.065Z"
   },
   {
    "duration": 4,
    "start_time": "2022-10-24T22:15:37.102Z"
   },
   {
    "duration": 27,
    "start_time": "2022-10-24T22:15:37.107Z"
   },
   {
    "duration": 18,
    "start_time": "2022-10-24T22:15:37.136Z"
   },
   {
    "duration": 9,
    "start_time": "2022-10-24T22:15:37.156Z"
   },
   {
    "duration": 28,
    "start_time": "2022-10-24T22:15:37.167Z"
   },
   {
    "duration": 35,
    "start_time": "2022-10-24T22:15:37.197Z"
   },
   {
    "duration": 29,
    "start_time": "2022-10-24T22:15:37.234Z"
   },
   {
    "duration": 19,
    "start_time": "2022-10-24T22:15:37.265Z"
   },
   {
    "duration": 11,
    "start_time": "2022-10-24T22:15:37.286Z"
   },
   {
    "duration": 9,
    "start_time": "2022-10-24T22:15:37.321Z"
   },
   {
    "duration": 24,
    "start_time": "2022-10-24T22:15:37.332Z"
   },
   {
    "duration": 10,
    "start_time": "2022-10-24T22:15:37.358Z"
   },
   {
    "duration": 38,
    "start_time": "2022-10-24T22:15:37.370Z"
   },
   {
    "duration": 9,
    "start_time": "2022-10-24T22:15:37.410Z"
   },
   {
    "duration": 36,
    "start_time": "2022-10-24T22:15:37.420Z"
   },
   {
    "duration": 7,
    "start_time": "2022-10-24T22:15:37.458Z"
   },
   {
    "duration": 56,
    "start_time": "2022-10-24T22:15:37.466Z"
   },
   {
    "duration": 12,
    "start_time": "2022-10-24T22:15:37.524Z"
   },
   {
    "duration": 259,
    "start_time": "2022-10-24T22:15:37.541Z"
   },
   {
    "duration": 5,
    "start_time": "2022-10-24T22:15:37.802Z"
   },
   {
    "duration": 21,
    "start_time": "2022-10-24T22:15:37.809Z"
   },
   {
    "duration": 2,
    "start_time": "2022-10-24T22:15:37.833Z"
   },
   {
    "duration": 180,
    "start_time": "2022-10-24T22:15:37.837Z"
   },
   {
    "duration": 157,
    "start_time": "2022-10-24T22:15:38.022Z"
   },
   {
    "duration": 156,
    "start_time": "2022-10-24T22:15:38.181Z"
   },
   {
    "duration": 209,
    "start_time": "2022-10-24T22:15:38.339Z"
   },
   {
    "duration": 137,
    "start_time": "2022-10-24T22:15:38.550Z"
   },
   {
    "duration": 137,
    "start_time": "2022-10-24T22:15:38.689Z"
   },
   {
    "duration": 152,
    "start_time": "2022-10-24T22:15:38.828Z"
   },
   {
    "duration": 144,
    "start_time": "2022-10-24T22:15:38.982Z"
   },
   {
    "duration": 151,
    "start_time": "2022-10-24T22:15:39.127Z"
   },
   {
    "duration": 138,
    "start_time": "2022-10-24T22:15:39.280Z"
   },
   {
    "duration": 129,
    "start_time": "2022-10-24T22:15:39.421Z"
   },
   {
    "duration": 135,
    "start_time": "2022-10-24T22:15:39.551Z"
   },
   {
    "duration": 138,
    "start_time": "2022-10-24T22:15:39.687Z"
   },
   {
    "duration": 130,
    "start_time": "2022-10-24T22:15:39.827Z"
   },
   {
    "duration": 311,
    "start_time": "2022-10-24T22:15:39.959Z"
   },
   {
    "duration": 157,
    "start_time": "2022-10-24T22:15:40.271Z"
   },
   {
    "duration": 150,
    "start_time": "2022-10-24T22:15:40.429Z"
   },
   {
    "duration": 135,
    "start_time": "2022-10-24T22:15:40.581Z"
   },
   {
    "duration": 150,
    "start_time": "2022-10-24T22:15:40.717Z"
   },
   {
    "duration": 145,
    "start_time": "2022-10-24T22:15:40.869Z"
   },
   {
    "duration": 152,
    "start_time": "2022-10-24T22:15:41.015Z"
   },
   {
    "duration": 163,
    "start_time": "2022-10-24T22:15:41.168Z"
   },
   {
    "duration": 158,
    "start_time": "2022-10-24T22:15:41.333Z"
   },
   {
    "duration": 34,
    "start_time": "2022-10-24T22:15:41.493Z"
   },
   {
    "duration": 45,
    "start_time": "2022-10-24T22:15:41.529Z"
   },
   {
    "duration": 0,
    "start_time": "2022-10-24T22:15:41.576Z"
   },
   {
    "duration": 20,
    "start_time": "2022-10-24T22:16:04.821Z"
   },
   {
    "duration": 337,
    "start_time": "2022-10-24T22:23:08.888Z"
   },
   {
    "duration": 226,
    "start_time": "2022-10-24T22:23:18.172Z"
   },
   {
    "duration": 216,
    "start_time": "2022-10-24T22:23:27.147Z"
   },
   {
    "duration": 448,
    "start_time": "2022-10-24T22:27:19.959Z"
   },
   {
    "duration": 15,
    "start_time": "2022-10-24T22:27:20.409Z"
   },
   {
    "duration": 28,
    "start_time": "2022-10-24T22:27:20.425Z"
   },
   {
    "duration": 1930,
    "start_time": "2022-10-24T22:27:20.455Z"
   },
   {
    "duration": 9,
    "start_time": "2022-10-24T22:27:22.387Z"
   },
   {
    "duration": 11,
    "start_time": "2022-10-24T22:27:22.398Z"
   },
   {
    "duration": 3,
    "start_time": "2022-10-24T22:27:22.411Z"
   },
   {
    "duration": 14,
    "start_time": "2022-10-24T22:27:22.415Z"
   },
   {
    "duration": 20,
    "start_time": "2022-10-24T22:27:22.430Z"
   },
   {
    "duration": 4,
    "start_time": "2022-10-24T22:27:22.452Z"
   },
   {
    "duration": 12,
    "start_time": "2022-10-24T22:27:22.457Z"
   },
   {
    "duration": 14,
    "start_time": "2022-10-24T22:27:22.470Z"
   },
   {
    "duration": 7,
    "start_time": "2022-10-24T22:27:22.485Z"
   },
   {
    "duration": 32,
    "start_time": "2022-10-24T22:27:22.495Z"
   },
   {
    "duration": 23,
    "start_time": "2022-10-24T22:27:22.528Z"
   },
   {
    "duration": 27,
    "start_time": "2022-10-24T22:27:22.553Z"
   },
   {
    "duration": 42,
    "start_time": "2022-10-24T22:27:22.581Z"
   },
   {
    "duration": 9,
    "start_time": "2022-10-24T22:27:22.625Z"
   },
   {
    "duration": 6,
    "start_time": "2022-10-24T22:27:22.635Z"
   },
   {
    "duration": 24,
    "start_time": "2022-10-24T22:27:22.643Z"
   },
   {
    "duration": 5,
    "start_time": "2022-10-24T22:27:22.668Z"
   },
   {
    "duration": 19,
    "start_time": "2022-10-24T22:27:22.674Z"
   },
   {
    "duration": 7,
    "start_time": "2022-10-24T22:27:22.722Z"
   },
   {
    "duration": 17,
    "start_time": "2022-10-24T22:27:22.731Z"
   },
   {
    "duration": 4,
    "start_time": "2022-10-24T22:27:22.750Z"
   },
   {
    "duration": 18,
    "start_time": "2022-10-24T22:27:22.756Z"
   },
   {
    "duration": 11,
    "start_time": "2022-10-24T22:27:22.776Z"
   },
   {
    "duration": 267,
    "start_time": "2022-10-24T22:27:22.788Z"
   },
   {
    "duration": 6,
    "start_time": "2022-10-24T22:27:23.056Z"
   },
   {
    "duration": 16,
    "start_time": "2022-10-24T22:27:23.064Z"
   },
   {
    "duration": 15,
    "start_time": "2022-10-24T22:27:23.081Z"
   },
   {
    "duration": 170,
    "start_time": "2022-10-24T22:27:23.097Z"
   },
   {
    "duration": 157,
    "start_time": "2022-10-24T22:27:23.269Z"
   },
   {
    "duration": 131,
    "start_time": "2022-10-24T22:27:23.428Z"
   },
   {
    "duration": 201,
    "start_time": "2022-10-24T22:27:23.561Z"
   },
   {
    "duration": 141,
    "start_time": "2022-10-24T22:27:23.764Z"
   },
   {
    "duration": 144,
    "start_time": "2022-10-24T22:27:23.907Z"
   },
   {
    "duration": 125,
    "start_time": "2022-10-24T22:27:24.052Z"
   },
   {
    "duration": 142,
    "start_time": "2022-10-24T22:27:24.179Z"
   },
   {
    "duration": 148,
    "start_time": "2022-10-24T22:27:24.323Z"
   },
   {
    "duration": 131,
    "start_time": "2022-10-24T22:27:24.474Z"
   },
   {
    "duration": 135,
    "start_time": "2022-10-24T22:27:24.606Z"
   },
   {
    "duration": 144,
    "start_time": "2022-10-24T22:27:24.743Z"
   },
   {
    "duration": 135,
    "start_time": "2022-10-24T22:27:24.888Z"
   },
   {
    "duration": 141,
    "start_time": "2022-10-24T22:27:25.025Z"
   },
   {
    "duration": 317,
    "start_time": "2022-10-24T22:27:25.167Z"
   },
   {
    "duration": 159,
    "start_time": "2022-10-24T22:27:25.485Z"
   },
   {
    "duration": 162,
    "start_time": "2022-10-24T22:27:25.646Z"
   },
   {
    "duration": 148,
    "start_time": "2022-10-24T22:27:25.809Z"
   },
   {
    "duration": 156,
    "start_time": "2022-10-24T22:27:25.959Z"
   },
   {
    "duration": 148,
    "start_time": "2022-10-24T22:27:26.121Z"
   },
   {
    "duration": 142,
    "start_time": "2022-10-24T22:27:26.271Z"
   },
   {
    "duration": 158,
    "start_time": "2022-10-24T22:27:26.415Z"
   },
   {
    "duration": 151,
    "start_time": "2022-10-24T22:27:26.575Z"
   },
   {
    "duration": 22,
    "start_time": "2022-10-24T22:27:26.728Z"
   },
   {
    "duration": 15,
    "start_time": "2022-10-24T22:27:26.752Z"
   },
   {
    "duration": 468,
    "start_time": "2022-10-24T22:42:29.110Z"
   },
   {
    "duration": 15,
    "start_time": "2022-10-24T22:42:29.579Z"
   },
   {
    "duration": 28,
    "start_time": "2022-10-24T22:42:29.599Z"
   },
   {
    "duration": 1966,
    "start_time": "2022-10-24T22:42:29.629Z"
   },
   {
    "duration": 11,
    "start_time": "2022-10-24T22:42:31.597Z"
   },
   {
    "duration": 11,
    "start_time": "2022-10-24T22:42:31.609Z"
   },
   {
    "duration": 5,
    "start_time": "2022-10-24T22:42:31.621Z"
   },
   {
    "duration": 12,
    "start_time": "2022-10-24T22:42:31.627Z"
   },
   {
    "duration": 20,
    "start_time": "2022-10-24T22:42:31.642Z"
   },
   {
    "duration": 4,
    "start_time": "2022-10-24T22:42:31.663Z"
   },
   {
    "duration": 36,
    "start_time": "2022-10-24T22:42:31.668Z"
   },
   {
    "duration": 12,
    "start_time": "2022-10-24T22:42:31.706Z"
   },
   {
    "duration": 6,
    "start_time": "2022-10-24T22:42:31.720Z"
   },
   {
    "duration": 12,
    "start_time": "2022-10-24T22:42:31.728Z"
   },
   {
    "duration": 20,
    "start_time": "2022-10-24T22:42:31.741Z"
   },
   {
    "duration": 42,
    "start_time": "2022-10-24T22:42:31.763Z"
   },
   {
    "duration": 14,
    "start_time": "2022-10-24T22:42:31.806Z"
   },
   {
    "duration": 9,
    "start_time": "2022-10-24T22:42:31.822Z"
   },
   {
    "duration": 6,
    "start_time": "2022-10-24T22:42:31.833Z"
   },
   {
    "duration": 17,
    "start_time": "2022-10-24T22:42:31.840Z"
   },
   {
    "duration": 4,
    "start_time": "2022-10-24T22:42:31.858Z"
   },
   {
    "duration": 39,
    "start_time": "2022-10-24T22:42:31.863Z"
   },
   {
    "duration": 7,
    "start_time": "2022-10-24T22:42:31.903Z"
   },
   {
    "duration": 12,
    "start_time": "2022-10-24T22:42:31.911Z"
   },
   {
    "duration": 4,
    "start_time": "2022-10-24T22:42:31.924Z"
   },
   {
    "duration": 13,
    "start_time": "2022-10-24T22:42:31.930Z"
   },
   {
    "duration": 10,
    "start_time": "2022-10-24T22:42:31.946Z"
   },
   {
    "duration": 264,
    "start_time": "2022-10-24T22:42:31.957Z"
   },
   {
    "duration": 5,
    "start_time": "2022-10-24T22:42:32.222Z"
   },
   {
    "duration": 15,
    "start_time": "2022-10-24T22:42:32.228Z"
   },
   {
    "duration": 2,
    "start_time": "2022-10-24T22:42:32.245Z"
   },
   {
    "duration": 180,
    "start_time": "2022-10-24T22:42:32.248Z"
   },
   {
    "duration": 164,
    "start_time": "2022-10-24T22:42:32.429Z"
   },
   {
    "duration": 127,
    "start_time": "2022-10-24T22:42:32.594Z"
   },
   {
    "duration": 198,
    "start_time": "2022-10-24T22:42:32.722Z"
   },
   {
    "duration": 144,
    "start_time": "2022-10-24T22:42:32.921Z"
   },
   {
    "duration": 143,
    "start_time": "2022-10-24T22:42:33.066Z"
   },
   {
    "duration": 119,
    "start_time": "2022-10-24T22:42:33.210Z"
   },
   {
    "duration": 133,
    "start_time": "2022-10-24T22:42:33.330Z"
   },
   {
    "duration": 153,
    "start_time": "2022-10-24T22:42:33.465Z"
   },
   {
    "duration": 138,
    "start_time": "2022-10-24T22:42:33.620Z"
   },
   {
    "duration": 140,
    "start_time": "2022-10-24T22:42:33.760Z"
   },
   {
    "duration": 145,
    "start_time": "2022-10-24T22:42:33.902Z"
   },
   {
    "duration": 165,
    "start_time": "2022-10-24T22:42:34.049Z"
   },
   {
    "duration": 133,
    "start_time": "2022-10-24T22:42:34.215Z"
   },
   {
    "duration": 335,
    "start_time": "2022-10-24T22:42:34.350Z"
   },
   {
    "duration": 161,
    "start_time": "2022-10-24T22:42:34.686Z"
   },
   {
    "duration": 160,
    "start_time": "2022-10-24T22:42:34.849Z"
   },
   {
    "duration": 145,
    "start_time": "2022-10-24T22:42:35.011Z"
   },
   {
    "duration": 153,
    "start_time": "2022-10-24T22:42:35.157Z"
   },
   {
    "duration": 153,
    "start_time": "2022-10-24T22:42:35.311Z"
   },
   {
    "duration": 138,
    "start_time": "2022-10-24T22:42:35.465Z"
   },
   {
    "duration": 143,
    "start_time": "2022-10-24T22:42:35.605Z"
   },
   {
    "duration": 152,
    "start_time": "2022-10-24T22:42:35.749Z"
   },
   {
    "duration": 22,
    "start_time": "2022-10-24T22:42:35.903Z"
   },
   {
    "duration": 16,
    "start_time": "2022-10-24T22:42:35.926Z"
   },
   {
    "duration": 13,
    "start_time": "2022-10-24T22:44:18.946Z"
   },
   {
    "duration": 27,
    "start_time": "2022-10-24T22:48:35.495Z"
   },
   {
    "duration": 51,
    "start_time": "2022-10-25T10:12:30.543Z"
   },
   {
    "duration": 1136,
    "start_time": "2022-10-25T10:12:34.898Z"
   },
   {
    "duration": 17,
    "start_time": "2022-10-25T10:12:36.036Z"
   },
   {
    "duration": 29,
    "start_time": "2022-10-25T10:12:36.054Z"
   },
   {
    "duration": 2212,
    "start_time": "2022-10-25T10:12:36.085Z"
   },
   {
    "duration": 9,
    "start_time": "2022-10-25T10:12:38.299Z"
   },
   {
    "duration": 10,
    "start_time": "2022-10-25T10:12:38.310Z"
   },
   {
    "duration": 3,
    "start_time": "2022-10-25T10:12:38.321Z"
   },
   {
    "duration": 10,
    "start_time": "2022-10-25T10:12:38.326Z"
   },
   {
    "duration": 21,
    "start_time": "2022-10-25T10:12:38.337Z"
   },
   {
    "duration": 4,
    "start_time": "2022-10-25T10:12:38.361Z"
   },
   {
    "duration": 10,
    "start_time": "2022-10-25T10:12:38.366Z"
   },
   {
    "duration": 45,
    "start_time": "2022-10-25T10:12:38.378Z"
   },
   {
    "duration": 12,
    "start_time": "2022-10-25T10:12:38.425Z"
   },
   {
    "duration": 13,
    "start_time": "2022-10-25T10:12:38.439Z"
   },
   {
    "duration": 32,
    "start_time": "2022-10-25T10:12:38.454Z"
   },
   {
    "duration": 64,
    "start_time": "2022-10-25T10:12:38.488Z"
   },
   {
    "duration": 18,
    "start_time": "2022-10-25T10:12:38.553Z"
   },
   {
    "duration": 7,
    "start_time": "2022-10-25T10:12:38.573Z"
   },
   {
    "duration": 33,
    "start_time": "2022-10-25T10:12:38.582Z"
   },
   {
    "duration": 34,
    "start_time": "2022-10-25T10:12:38.616Z"
   },
   {
    "duration": 7,
    "start_time": "2022-10-25T10:12:38.652Z"
   },
   {
    "duration": 21,
    "start_time": "2022-10-25T10:12:38.661Z"
   },
   {
    "duration": 7,
    "start_time": "2022-10-25T10:12:38.684Z"
   },
   {
    "duration": 22,
    "start_time": "2022-10-25T10:12:38.693Z"
   },
   {
    "duration": 9,
    "start_time": "2022-10-25T10:12:38.717Z"
   },
   {
    "duration": 20,
    "start_time": "2022-10-25T10:12:38.728Z"
   },
   {
    "duration": 11,
    "start_time": "2022-10-25T10:12:38.750Z"
   },
   {
    "duration": 313,
    "start_time": "2022-10-25T10:12:38.766Z"
   },
   {
    "duration": 5,
    "start_time": "2022-10-25T10:12:39.081Z"
   },
   {
    "duration": 23,
    "start_time": "2022-10-25T10:12:39.088Z"
   },
   {
    "duration": 3,
    "start_time": "2022-10-25T10:12:39.112Z"
   },
   {
    "duration": 177,
    "start_time": "2022-10-25T10:12:39.116Z"
   },
   {
    "duration": 170,
    "start_time": "2022-10-25T10:12:39.294Z"
   },
   {
    "duration": 207,
    "start_time": "2022-10-25T10:12:39.466Z"
   },
   {
    "duration": 138,
    "start_time": "2022-10-25T10:12:39.675Z"
   },
   {
    "duration": 152,
    "start_time": "2022-10-25T10:12:39.815Z"
   },
   {
    "duration": 151,
    "start_time": "2022-10-25T10:12:39.969Z"
   },
   {
    "duration": 138,
    "start_time": "2022-10-25T10:12:40.122Z"
   },
   {
    "duration": 141,
    "start_time": "2022-10-25T10:12:40.262Z"
   },
   {
    "duration": 152,
    "start_time": "2022-10-25T10:12:40.408Z"
   },
   {
    "duration": 145,
    "start_time": "2022-10-25T10:12:40.561Z"
   },
   {
    "duration": 153,
    "start_time": "2022-10-25T10:12:40.708Z"
   },
   {
    "duration": 173,
    "start_time": "2022-10-25T10:12:40.862Z"
   },
   {
    "duration": 148,
    "start_time": "2022-10-25T10:12:41.037Z"
   },
   {
    "duration": 204,
    "start_time": "2022-10-25T10:12:41.187Z"
   },
   {
    "duration": 247,
    "start_time": "2022-10-25T10:12:41.393Z"
   },
   {
    "duration": 187,
    "start_time": "2022-10-25T10:12:41.641Z"
   },
   {
    "duration": 210,
    "start_time": "2022-10-25T10:12:41.830Z"
   },
   {
    "duration": 147,
    "start_time": "2022-10-25T10:12:42.042Z"
   },
   {
    "duration": 168,
    "start_time": "2022-10-25T10:12:42.191Z"
   },
   {
    "duration": 161,
    "start_time": "2022-10-25T10:12:42.361Z"
   },
   {
    "duration": 207,
    "start_time": "2022-10-25T10:12:42.524Z"
   },
   {
    "duration": 199,
    "start_time": "2022-10-25T10:12:42.733Z"
   },
   {
    "duration": 167,
    "start_time": "2022-10-25T10:12:42.933Z"
   },
   {
    "duration": 28,
    "start_time": "2022-10-25T10:12:43.103Z"
   },
   {
    "duration": 101,
    "start_time": "2022-10-25T10:12:43.133Z"
   },
   {
    "duration": 701,
    "start_time": "2022-10-25T10:24:40.538Z"
   },
   {
    "duration": 14,
    "start_time": "2022-10-25T10:24:41.241Z"
   },
   {
    "duration": 27,
    "start_time": "2022-10-25T10:24:41.257Z"
   },
   {
    "duration": 1935,
    "start_time": "2022-10-25T10:24:41.286Z"
   },
   {
    "duration": 10,
    "start_time": "2022-10-25T10:24:43.223Z"
   },
   {
    "duration": 11,
    "start_time": "2022-10-25T10:24:43.235Z"
   },
   {
    "duration": 4,
    "start_time": "2022-10-25T10:24:43.247Z"
   },
   {
    "duration": 16,
    "start_time": "2022-10-25T10:24:43.252Z"
   },
   {
    "duration": 21,
    "start_time": "2022-10-25T10:24:43.270Z"
   },
   {
    "duration": 18,
    "start_time": "2022-10-25T10:24:43.293Z"
   },
   {
    "duration": 13,
    "start_time": "2022-10-25T10:24:43.313Z"
   },
   {
    "duration": 16,
    "start_time": "2022-10-25T10:24:43.327Z"
   },
   {
    "duration": 8,
    "start_time": "2022-10-25T10:24:43.345Z"
   },
   {
    "duration": 19,
    "start_time": "2022-10-25T10:24:43.355Z"
   },
   {
    "duration": 34,
    "start_time": "2022-10-25T10:24:43.376Z"
   },
   {
    "duration": 33,
    "start_time": "2022-10-25T10:24:43.412Z"
   },
   {
    "duration": 22,
    "start_time": "2022-10-25T10:24:43.447Z"
   },
   {
    "duration": 9,
    "start_time": "2022-10-25T10:24:43.471Z"
   },
   {
    "duration": 28,
    "start_time": "2022-10-25T10:24:43.482Z"
   },
   {
    "duration": 24,
    "start_time": "2022-10-25T10:24:43.512Z"
   },
   {
    "duration": 6,
    "start_time": "2022-10-25T10:24:43.538Z"
   },
   {
    "duration": 18,
    "start_time": "2022-10-25T10:24:43.545Z"
   },
   {
    "duration": 8,
    "start_time": "2022-10-25T10:24:43.565Z"
   },
   {
    "duration": 44,
    "start_time": "2022-10-25T10:24:43.575Z"
   },
   {
    "duration": 5,
    "start_time": "2022-10-25T10:24:43.621Z"
   },
   {
    "duration": 27,
    "start_time": "2022-10-25T10:24:43.627Z"
   },
   {
    "duration": 16,
    "start_time": "2022-10-25T10:24:43.656Z"
   },
   {
    "duration": 301,
    "start_time": "2022-10-25T10:24:43.674Z"
   },
   {
    "duration": 5,
    "start_time": "2022-10-25T10:24:43.977Z"
   },
   {
    "duration": 26,
    "start_time": "2022-10-25T10:24:43.984Z"
   },
   {
    "duration": 185,
    "start_time": "2022-10-25T10:24:44.012Z"
   },
   {
    "duration": 165,
    "start_time": "2022-10-25T10:24:44.199Z"
   },
   {
    "duration": 132,
    "start_time": "2022-10-25T10:24:44.366Z"
   },
   {
    "duration": 202,
    "start_time": "2022-10-25T10:24:44.500Z"
   },
   {
    "duration": 154,
    "start_time": "2022-10-25T10:24:44.708Z"
   },
   {
    "duration": 154,
    "start_time": "2022-10-25T10:24:44.864Z"
   },
   {
    "duration": 142,
    "start_time": "2022-10-25T10:24:45.021Z"
   },
   {
    "duration": 148,
    "start_time": "2022-10-25T10:24:45.165Z"
   },
   {
    "duration": 163,
    "start_time": "2022-10-25T10:24:45.314Z"
   },
   {
    "duration": 146,
    "start_time": "2022-10-25T10:24:45.479Z"
   },
   {
    "duration": 142,
    "start_time": "2022-10-25T10:24:45.629Z"
   },
   {
    "duration": 141,
    "start_time": "2022-10-25T10:24:45.773Z"
   },
   {
    "duration": 147,
    "start_time": "2022-10-25T10:24:45.916Z"
   },
   {
    "duration": 148,
    "start_time": "2022-10-25T10:24:46.064Z"
   },
   {
    "duration": 298,
    "start_time": "2022-10-25T10:24:46.214Z"
   },
   {
    "duration": 165,
    "start_time": "2022-10-25T10:24:46.514Z"
   },
   {
    "duration": 153,
    "start_time": "2022-10-25T10:24:46.681Z"
   },
   {
    "duration": 151,
    "start_time": "2022-10-25T10:24:46.836Z"
   },
   {
    "duration": 166,
    "start_time": "2022-10-25T10:24:46.988Z"
   },
   {
    "duration": 157,
    "start_time": "2022-10-25T10:24:47.156Z"
   },
   {
    "duration": 154,
    "start_time": "2022-10-25T10:24:47.315Z"
   },
   {
    "duration": 164,
    "start_time": "2022-10-25T10:24:47.470Z"
   },
   {
    "duration": 163,
    "start_time": "2022-10-25T10:24:47.636Z"
   },
   {
    "duration": 31,
    "start_time": "2022-10-25T10:24:47.800Z"
   },
   {
    "duration": 26,
    "start_time": "2022-10-25T10:24:47.832Z"
   },
   {
    "duration": 112,
    "start_time": "2022-10-25T10:25:31.998Z"
   },
   {
    "duration": 87,
    "start_time": "2022-10-25T10:27:40.337Z"
   },
   {
    "duration": 112,
    "start_time": "2022-10-25T10:28:45.606Z"
   },
   {
    "duration": 10,
    "start_time": "2022-10-25T10:31:43.738Z"
   },
   {
    "duration": 8,
    "start_time": "2022-10-25T10:31:54.646Z"
   },
   {
    "duration": 15,
    "start_time": "2022-10-25T10:31:58.894Z"
   },
   {
    "duration": 298,
    "start_time": "2022-10-25T10:34:51.697Z"
   },
   {
    "duration": 321,
    "start_time": "2022-10-25T10:35:05.939Z"
   },
   {
    "duration": 6,
    "start_time": "2022-10-25T10:36:50.506Z"
   },
   {
    "duration": 165,
    "start_time": "2022-10-25T10:43:29.719Z"
   },
   {
    "duration": 1007,
    "start_time": "2022-10-25T10:43:35.732Z"
   },
   {
    "duration": 159,
    "start_time": "2022-10-25T10:43:42.366Z"
   },
   {
    "duration": 158,
    "start_time": "2022-10-25T10:43:55.598Z"
   },
   {
    "duration": 146,
    "start_time": "2022-10-25T10:44:08.294Z"
   },
   {
    "duration": 16,
    "start_time": "2022-10-25T10:44:15.643Z"
   },
   {
    "duration": 15,
    "start_time": "2022-10-25T10:44:55.502Z"
   },
   {
    "duration": 13,
    "start_time": "2022-10-25T10:49:42.264Z"
   },
   {
    "duration": 722,
    "start_time": "2022-10-25T10:49:52.934Z"
   },
   {
    "duration": 16,
    "start_time": "2022-10-25T10:49:53.658Z"
   },
   {
    "duration": 36,
    "start_time": "2022-10-25T10:49:53.676Z"
   },
   {
    "duration": 1876,
    "start_time": "2022-10-25T10:49:53.713Z"
   },
   {
    "duration": 9,
    "start_time": "2022-10-25T10:49:55.592Z"
   },
   {
    "duration": 16,
    "start_time": "2022-10-25T10:49:55.602Z"
   },
   {
    "duration": 13,
    "start_time": "2022-10-25T10:49:55.620Z"
   },
   {
    "duration": 19,
    "start_time": "2022-10-25T10:49:55.636Z"
   },
   {
    "duration": 32,
    "start_time": "2022-10-25T10:49:55.657Z"
   },
   {
    "duration": 5,
    "start_time": "2022-10-25T10:49:55.691Z"
   },
   {
    "duration": 16,
    "start_time": "2022-10-25T10:49:55.697Z"
   },
   {
    "duration": 15,
    "start_time": "2022-10-25T10:49:55.714Z"
   },
   {
    "duration": 7,
    "start_time": "2022-10-25T10:49:55.730Z"
   },
   {
    "duration": 9,
    "start_time": "2022-10-25T10:49:55.740Z"
   },
   {
    "duration": 18,
    "start_time": "2022-10-25T10:49:55.750Z"
   },
   {
    "duration": 65,
    "start_time": "2022-10-25T10:49:55.769Z"
   },
   {
    "duration": 18,
    "start_time": "2022-10-25T10:49:55.835Z"
   },
   {
    "duration": 9,
    "start_time": "2022-10-25T10:49:55.854Z"
   },
   {
    "duration": 9,
    "start_time": "2022-10-25T10:49:55.864Z"
   },
   {
    "duration": 47,
    "start_time": "2022-10-25T10:49:55.875Z"
   },
   {
    "duration": 7,
    "start_time": "2022-10-25T10:49:55.924Z"
   },
   {
    "duration": 17,
    "start_time": "2022-10-25T10:49:55.932Z"
   },
   {
    "duration": 132,
    "start_time": "2022-10-25T10:49:55.950Z"
   },
   {
    "duration": 7,
    "start_time": "2022-10-25T10:49:56.084Z"
   },
   {
    "duration": 30,
    "start_time": "2022-10-25T10:49:56.092Z"
   },
   {
    "duration": 5,
    "start_time": "2022-10-25T10:49:56.124Z"
   },
   {
    "duration": 16,
    "start_time": "2022-10-25T10:49:56.131Z"
   },
   {
    "duration": 9,
    "start_time": "2022-10-25T10:49:56.149Z"
   },
   {
    "duration": 298,
    "start_time": "2022-10-25T10:49:56.159Z"
   },
   {
    "duration": 5,
    "start_time": "2022-10-25T10:49:56.458Z"
   },
   {
    "duration": 17,
    "start_time": "2022-10-25T10:49:56.464Z"
   },
   {
    "duration": 177,
    "start_time": "2022-10-25T10:49:56.483Z"
   },
   {
    "duration": 164,
    "start_time": "2022-10-25T10:49:56.662Z"
   },
   {
    "duration": 225,
    "start_time": "2022-10-25T10:49:56.828Z"
   },
   {
    "duration": 144,
    "start_time": "2022-10-25T10:49:57.055Z"
   },
   {
    "duration": 156,
    "start_time": "2022-10-25T10:49:57.201Z"
   },
   {
    "duration": 153,
    "start_time": "2022-10-25T10:49:57.358Z"
   },
   {
    "duration": 136,
    "start_time": "2022-10-25T10:49:57.513Z"
   },
   {
    "duration": 157,
    "start_time": "2022-10-25T10:49:57.651Z"
   },
   {
    "duration": 146,
    "start_time": "2022-10-25T10:49:57.810Z"
   },
   {
    "duration": 143,
    "start_time": "2022-10-25T10:49:57.960Z"
   },
   {
    "duration": 142,
    "start_time": "2022-10-25T10:49:58.109Z"
   },
   {
    "duration": 149,
    "start_time": "2022-10-25T10:49:58.253Z"
   },
   {
    "duration": 145,
    "start_time": "2022-10-25T10:49:58.404Z"
   },
   {
    "duration": 207,
    "start_time": "2022-10-25T10:49:58.551Z"
   },
   {
    "duration": 367,
    "start_time": "2022-10-25T10:49:58.760Z"
   },
   {
    "duration": 6,
    "start_time": "2022-10-25T10:49:59.129Z"
   },
   {
    "duration": 185,
    "start_time": "2022-10-25T10:49:59.136Z"
   },
   {
    "duration": 170,
    "start_time": "2022-10-25T10:49:59.323Z"
   },
   {
    "duration": 164,
    "start_time": "2022-10-25T10:49:59.495Z"
   },
   {
    "duration": 162,
    "start_time": "2022-10-25T10:49:59.661Z"
   },
   {
    "duration": 149,
    "start_time": "2022-10-25T10:49:59.825Z"
   },
   {
    "duration": 170,
    "start_time": "2022-10-25T10:49:59.976Z"
   },
   {
    "duration": 174,
    "start_time": "2022-10-25T10:50:00.148Z"
   },
   {
    "duration": 223,
    "start_time": "2022-10-25T10:50:00.324Z"
   },
   {
    "duration": 35,
    "start_time": "2022-10-25T10:50:00.548Z"
   },
   {
    "duration": 44,
    "start_time": "2022-10-25T10:50:00.584Z"
   },
   {
    "duration": 22,
    "start_time": "2022-10-25T10:53:56.635Z"
   },
   {
    "duration": 185,
    "start_time": "2022-10-25T11:07:56.798Z"
   },
   {
    "duration": 140,
    "start_time": "2022-10-25T11:08:45.634Z"
   },
   {
    "duration": 139,
    "start_time": "2022-10-25T11:09:29.963Z"
   },
   {
    "duration": 15,
    "start_time": "2022-10-25T11:18:42.704Z"
   },
   {
    "duration": 4,
    "start_time": "2022-10-25T11:18:50.550Z"
   },
   {
    "duration": 623,
    "start_time": "2022-10-25T11:20:04.471Z"
   },
   {
    "duration": 113,
    "start_time": "2022-10-25T11:20:14.608Z"
   },
   {
    "duration": 1252,
    "start_time": "2022-10-25T11:20:18.409Z"
   },
   {
    "duration": 23,
    "start_time": "2022-10-25T11:20:19.664Z"
   },
   {
    "duration": 46,
    "start_time": "2022-10-25T11:20:19.689Z"
   },
   {
    "duration": 1860,
    "start_time": "2022-10-25T11:20:19.737Z"
   },
   {
    "duration": 9,
    "start_time": "2022-10-25T11:20:21.598Z"
   },
   {
    "duration": 9,
    "start_time": "2022-10-25T11:20:21.609Z"
   },
   {
    "duration": 7,
    "start_time": "2022-10-25T11:20:21.619Z"
   },
   {
    "duration": 11,
    "start_time": "2022-10-25T11:20:21.627Z"
   },
   {
    "duration": 22,
    "start_time": "2022-10-25T11:20:21.639Z"
   },
   {
    "duration": 5,
    "start_time": "2022-10-25T11:20:21.663Z"
   },
   {
    "duration": 42,
    "start_time": "2022-10-25T11:20:21.670Z"
   },
   {
    "duration": 15,
    "start_time": "2022-10-25T11:20:21.714Z"
   },
   {
    "duration": 9,
    "start_time": "2022-10-25T11:20:21.731Z"
   },
   {
    "duration": 11,
    "start_time": "2022-10-25T11:20:21.742Z"
   },
   {
    "duration": 20,
    "start_time": "2022-10-25T11:20:21.755Z"
   },
   {
    "duration": 52,
    "start_time": "2022-10-25T11:20:21.777Z"
   },
   {
    "duration": 18,
    "start_time": "2022-10-25T11:20:21.831Z"
   },
   {
    "duration": 9,
    "start_time": "2022-10-25T11:20:21.850Z"
   },
   {
    "duration": 6,
    "start_time": "2022-10-25T11:20:21.861Z"
   },
   {
    "duration": 52,
    "start_time": "2022-10-25T11:20:21.869Z"
   },
   {
    "duration": 5,
    "start_time": "2022-10-25T11:20:21.923Z"
   },
   {
    "duration": 18,
    "start_time": "2022-10-25T11:20:21.930Z"
   },
   {
    "duration": 132,
    "start_time": "2022-10-25T11:20:21.949Z"
   },
   {
    "duration": 7,
    "start_time": "2022-10-25T11:20:22.083Z"
   },
   {
    "duration": 28,
    "start_time": "2022-10-25T11:20:22.092Z"
   },
   {
    "duration": 18,
    "start_time": "2022-10-25T11:20:22.122Z"
   },
   {
    "duration": 6,
    "start_time": "2022-10-25T11:20:22.141Z"
   },
   {
    "duration": 13,
    "start_time": "2022-10-25T11:20:22.150Z"
   },
   {
    "duration": 8,
    "start_time": "2022-10-25T11:20:22.165Z"
   },
   {
    "duration": 324,
    "start_time": "2022-10-25T11:20:22.175Z"
   },
   {
    "duration": 10,
    "start_time": "2022-10-25T11:20:22.501Z"
   },
   {
    "duration": 34,
    "start_time": "2022-10-25T11:20:22.513Z"
   },
   {
    "duration": 227,
    "start_time": "2022-10-25T11:20:22.549Z"
   },
   {
    "duration": 189,
    "start_time": "2022-10-25T11:20:22.777Z"
   },
   {
    "duration": 141,
    "start_time": "2022-10-25T11:20:22.968Z"
   },
   {
    "duration": 142,
    "start_time": "2022-10-25T11:20:23.111Z"
   },
   {
    "duration": 167,
    "start_time": "2022-10-25T11:20:23.255Z"
   },
   {
    "duration": 149,
    "start_time": "2022-10-25T11:20:23.424Z"
   },
   {
    "duration": 235,
    "start_time": "2022-10-25T11:20:23.574Z"
   },
   {
    "duration": 154,
    "start_time": "2022-10-25T11:20:23.810Z"
   },
   {
    "duration": 169,
    "start_time": "2022-10-25T11:20:23.966Z"
   },
   {
    "duration": 155,
    "start_time": "2022-10-25T11:20:24.137Z"
   },
   {
    "duration": 149,
    "start_time": "2022-10-25T11:20:24.294Z"
   },
   {
    "duration": 143,
    "start_time": "2022-10-25T11:20:24.444Z"
   },
   {
    "duration": 144,
    "start_time": "2022-10-25T11:20:24.588Z"
   },
   {
    "duration": 147,
    "start_time": "2022-10-25T11:20:24.734Z"
   },
   {
    "duration": 352,
    "start_time": "2022-10-25T11:20:24.883Z"
   },
   {
    "duration": 6,
    "start_time": "2022-10-25T11:20:25.236Z"
   },
   {
    "duration": 266,
    "start_time": "2022-10-25T11:20:25.244Z"
   },
   {
    "duration": 168,
    "start_time": "2022-10-25T11:20:25.512Z"
   },
   {
    "duration": 155,
    "start_time": "2022-10-25T11:20:25.682Z"
   },
   {
    "duration": 160,
    "start_time": "2022-10-25T11:20:25.839Z"
   },
   {
    "duration": 151,
    "start_time": "2022-10-25T11:20:26.000Z"
   },
   {
    "duration": 167,
    "start_time": "2022-10-25T11:20:26.153Z"
   },
   {
    "duration": 159,
    "start_time": "2022-10-25T11:20:26.322Z"
   },
   {
    "duration": 166,
    "start_time": "2022-10-25T11:20:26.483Z"
   },
   {
    "duration": 161,
    "start_time": "2022-10-25T11:20:26.650Z"
   },
   {
    "duration": 45,
    "start_time": "2022-10-25T11:20:26.813Z"
   },
   {
    "duration": 21,
    "start_time": "2022-10-25T11:20:26.860Z"
   },
   {
    "duration": 133,
    "start_time": "2022-10-25T11:20:26.883Z"
   },
   {
    "duration": 14,
    "start_time": "2022-10-25T11:21:46.057Z"
   },
   {
    "duration": 1886,
    "start_time": "2022-10-25T11:21:59.098Z"
   },
   {
    "duration": 1890,
    "start_time": "2022-10-25T11:22:03.806Z"
   },
   {
    "duration": 1222,
    "start_time": "2022-10-25T11:25:17.267Z"
   },
   {
    "duration": 17,
    "start_time": "2022-10-25T11:25:18.491Z"
   },
   {
    "duration": 26,
    "start_time": "2022-10-25T11:25:18.510Z"
   },
   {
    "duration": 1870,
    "start_time": "2022-10-25T11:25:18.539Z"
   },
   {
    "duration": 11,
    "start_time": "2022-10-25T11:25:20.411Z"
   },
   {
    "duration": 15,
    "start_time": "2022-10-25T11:25:20.424Z"
   },
   {
    "duration": 6,
    "start_time": "2022-10-25T11:25:20.441Z"
   },
   {
    "duration": 21,
    "start_time": "2022-10-25T11:25:20.449Z"
   },
   {
    "duration": 24,
    "start_time": "2022-10-25T11:25:20.472Z"
   },
   {
    "duration": 13,
    "start_time": "2022-10-25T11:25:20.498Z"
   },
   {
    "duration": 16,
    "start_time": "2022-10-25T11:25:20.512Z"
   },
   {
    "duration": 19,
    "start_time": "2022-10-25T11:25:20.530Z"
   },
   {
    "duration": 16,
    "start_time": "2022-10-25T11:25:20.550Z"
   },
   {
    "duration": 10,
    "start_time": "2022-10-25T11:25:20.567Z"
   },
   {
    "duration": 20,
    "start_time": "2022-10-25T11:25:20.579Z"
   },
   {
    "duration": 51,
    "start_time": "2022-10-25T11:25:20.601Z"
   },
   {
    "duration": 18,
    "start_time": "2022-10-25T11:25:20.654Z"
   },
   {
    "duration": 9,
    "start_time": "2022-10-25T11:25:20.673Z"
   },
   {
    "duration": 29,
    "start_time": "2022-10-25T11:25:20.683Z"
   },
   {
    "duration": 33,
    "start_time": "2022-10-25T11:25:20.713Z"
   },
   {
    "duration": 5,
    "start_time": "2022-10-25T11:25:20.748Z"
   },
   {
    "duration": 17,
    "start_time": "2022-10-25T11:25:20.754Z"
   },
   {
    "duration": 130,
    "start_time": "2022-10-25T11:25:20.772Z"
   },
   {
    "duration": 11,
    "start_time": "2022-10-25T11:25:20.903Z"
   },
   {
    "duration": 25,
    "start_time": "2022-10-25T11:25:20.916Z"
   },
   {
    "duration": 20,
    "start_time": "2022-10-25T11:25:20.943Z"
   },
   {
    "duration": 4,
    "start_time": "2022-10-25T11:25:20.965Z"
   },
   {
    "duration": 23,
    "start_time": "2022-10-25T11:25:20.973Z"
   },
   {
    "duration": 24,
    "start_time": "2022-10-25T11:25:20.997Z"
   },
   {
    "duration": 283,
    "start_time": "2022-10-25T11:25:21.023Z"
   },
   {
    "duration": 5,
    "start_time": "2022-10-25T11:25:21.308Z"
   },
   {
    "duration": 26,
    "start_time": "2022-10-25T11:25:21.314Z"
   },
   {
    "duration": 161,
    "start_time": "2022-10-25T11:25:21.342Z"
   },
   {
    "duration": 170,
    "start_time": "2022-10-25T11:25:21.504Z"
   },
   {
    "duration": 139,
    "start_time": "2022-10-25T11:25:21.676Z"
   },
   {
    "duration": 139,
    "start_time": "2022-10-25T11:25:21.817Z"
   },
   {
    "duration": 156,
    "start_time": "2022-10-25T11:25:21.957Z"
   },
   {
    "duration": 145,
    "start_time": "2022-10-25T11:25:22.115Z"
   },
   {
    "duration": 236,
    "start_time": "2022-10-25T11:25:22.261Z"
   },
   {
    "duration": 188,
    "start_time": "2022-10-25T11:25:22.499Z"
   },
   {
    "duration": 194,
    "start_time": "2022-10-25T11:25:22.690Z"
   },
   {
    "duration": 143,
    "start_time": "2022-10-25T11:25:22.886Z"
   },
   {
    "duration": 141,
    "start_time": "2022-10-25T11:25:23.031Z"
   },
   {
    "duration": 145,
    "start_time": "2022-10-25T11:25:23.174Z"
   },
   {
    "duration": 145,
    "start_time": "2022-10-25T11:25:23.320Z"
   },
   {
    "duration": 145,
    "start_time": "2022-10-25T11:25:23.467Z"
   },
   {
    "duration": 359,
    "start_time": "2022-10-25T11:25:23.614Z"
   },
   {
    "duration": 6,
    "start_time": "2022-10-25T11:25:23.975Z"
   },
   {
    "duration": 277,
    "start_time": "2022-10-25T11:25:23.983Z"
   },
   {
    "duration": 186,
    "start_time": "2022-10-25T11:25:24.262Z"
   },
   {
    "duration": 162,
    "start_time": "2022-10-25T11:25:24.450Z"
   },
   {
    "duration": 169,
    "start_time": "2022-10-25T11:25:24.614Z"
   },
   {
    "duration": 159,
    "start_time": "2022-10-25T11:25:24.785Z"
   },
   {
    "duration": 168,
    "start_time": "2022-10-25T11:25:24.946Z"
   },
   {
    "duration": 167,
    "start_time": "2022-10-25T11:25:25.116Z"
   },
   {
    "duration": 159,
    "start_time": "2022-10-25T11:25:25.286Z"
   },
   {
    "duration": 154,
    "start_time": "2022-10-25T11:25:25.446Z"
   },
   {
    "duration": 38,
    "start_time": "2022-10-25T11:25:25.601Z"
   },
   {
    "duration": 18,
    "start_time": "2022-10-25T11:25:25.641Z"
   },
   {
    "duration": 1838,
    "start_time": "2022-10-25T11:28:05.064Z"
   },
   {
    "duration": 1175,
    "start_time": "2022-10-25T15:08:52.892Z"
   },
   {
    "duration": 17,
    "start_time": "2022-10-25T15:08:54.069Z"
   },
   {
    "duration": 29,
    "start_time": "2022-10-25T15:08:54.088Z"
   },
   {
    "duration": 2041,
    "start_time": "2022-10-25T15:08:54.120Z"
   },
   {
    "duration": 20,
    "start_time": "2022-10-25T15:08:56.164Z"
   },
   {
    "duration": 37,
    "start_time": "2022-10-25T15:08:56.186Z"
   },
   {
    "duration": 5,
    "start_time": "2022-10-25T15:08:56.224Z"
   },
   {
    "duration": 21,
    "start_time": "2022-10-25T15:08:56.230Z"
   },
   {
    "duration": 25,
    "start_time": "2022-10-25T15:08:56.253Z"
   },
   {
    "duration": 3,
    "start_time": "2022-10-25T15:08:56.281Z"
   },
   {
    "duration": 11,
    "start_time": "2022-10-25T15:08:56.286Z"
   },
   {
    "duration": 14,
    "start_time": "2022-10-25T15:08:56.299Z"
   },
   {
    "duration": 8,
    "start_time": "2022-10-25T15:08:56.314Z"
   },
   {
    "duration": 10,
    "start_time": "2022-10-25T15:08:56.323Z"
   },
   {
    "duration": 42,
    "start_time": "2022-10-25T15:08:56.335Z"
   },
   {
    "duration": 36,
    "start_time": "2022-10-25T15:08:56.379Z"
   },
   {
    "duration": 18,
    "start_time": "2022-10-25T15:08:56.416Z"
   },
   {
    "duration": 11,
    "start_time": "2022-10-25T15:08:56.436Z"
   },
   {
    "duration": 29,
    "start_time": "2022-10-25T15:08:56.449Z"
   },
   {
    "duration": 28,
    "start_time": "2022-10-25T15:08:56.479Z"
   },
   {
    "duration": 6,
    "start_time": "2022-10-25T15:08:56.508Z"
   },
   {
    "duration": 17,
    "start_time": "2022-10-25T15:08:56.516Z"
   },
   {
    "duration": 141,
    "start_time": "2022-10-25T15:08:56.535Z"
   },
   {
    "duration": 8,
    "start_time": "2022-10-25T15:08:56.678Z"
   },
   {
    "duration": 15,
    "start_time": "2022-10-25T15:08:56.687Z"
   },
   {
    "duration": 18,
    "start_time": "2022-10-25T15:08:56.704Z"
   },
   {
    "duration": 5,
    "start_time": "2022-10-25T15:08:56.723Z"
   },
   {
    "duration": 20,
    "start_time": "2022-10-25T15:08:56.731Z"
   },
   {
    "duration": 32,
    "start_time": "2022-10-25T15:08:56.753Z"
   },
   {
    "duration": 299,
    "start_time": "2022-10-25T15:08:56.786Z"
   },
   {
    "duration": 5,
    "start_time": "2022-10-25T15:08:57.087Z"
   },
   {
    "duration": 23,
    "start_time": "2022-10-25T15:08:57.094Z"
   },
   {
    "duration": 223,
    "start_time": "2022-10-25T15:08:57.118Z"
   },
   {
    "duration": 183,
    "start_time": "2022-10-25T15:08:57.342Z"
   },
   {
    "duration": 154,
    "start_time": "2022-10-25T15:08:57.526Z"
   },
   {
    "duration": 146,
    "start_time": "2022-10-25T15:08:57.682Z"
   },
   {
    "duration": 165,
    "start_time": "2022-10-25T15:08:57.830Z"
   },
   {
    "duration": 160,
    "start_time": "2022-10-25T15:08:57.997Z"
   },
   {
    "duration": 243,
    "start_time": "2022-10-25T15:08:58.159Z"
   },
   {
    "duration": 146,
    "start_time": "2022-10-25T15:08:58.403Z"
   },
   {
    "duration": 170,
    "start_time": "2022-10-25T15:08:58.551Z"
   },
   {
    "duration": 154,
    "start_time": "2022-10-25T15:08:58.722Z"
   },
   {
    "duration": 154,
    "start_time": "2022-10-25T15:08:58.878Z"
   },
   {
    "duration": 161,
    "start_time": "2022-10-25T15:08:59.033Z"
   },
   {
    "duration": 162,
    "start_time": "2022-10-25T15:08:59.195Z"
   },
   {
    "duration": 173,
    "start_time": "2022-10-25T15:08:59.358Z"
   },
   {
    "duration": 406,
    "start_time": "2022-10-25T15:08:59.533Z"
   },
   {
    "duration": 6,
    "start_time": "2022-10-25T15:08:59.941Z"
   },
   {
    "duration": 280,
    "start_time": "2022-10-25T15:08:59.949Z"
   },
   {
    "duration": 183,
    "start_time": "2022-10-25T15:09:00.231Z"
   },
   {
    "duration": 171,
    "start_time": "2022-10-25T15:09:00.416Z"
   },
   {
    "duration": 170,
    "start_time": "2022-10-25T15:09:00.589Z"
   },
   {
    "duration": 159,
    "start_time": "2022-10-25T15:09:00.761Z"
   },
   {
    "duration": 175,
    "start_time": "2022-10-25T15:09:00.922Z"
   },
   {
    "duration": 180,
    "start_time": "2022-10-25T15:09:01.098Z"
   },
   {
    "duration": 163,
    "start_time": "2022-10-25T15:09:01.280Z"
   },
   {
    "duration": 170,
    "start_time": "2022-10-25T15:09:01.444Z"
   },
   {
    "duration": 39,
    "start_time": "2022-10-25T15:09:01.616Z"
   },
   {
    "duration": 32,
    "start_time": "2022-10-25T15:09:01.657Z"
   },
   {
    "duration": 2113,
    "start_time": "2022-10-25T15:09:01.691Z"
   },
   {
    "duration": 2069,
    "start_time": "2022-10-25T16:03:09.344Z"
   },
   {
    "duration": 2065,
    "start_time": "2022-10-25T16:03:15.659Z"
   }
  ],
  "kernelspec": {
   "display_name": "Python 3",
   "language": "python",
   "name": "python3"
  },
  "language_info": {
   "codemirror_mode": {
    "name": "ipython",
    "version": 3
   },
   "file_extension": ".py",
   "mimetype": "text/x-python",
   "name": "python",
   "nbconvert_exporter": "python",
   "pygments_lexer": "ipython3",
   "version": "3.7.4"
  },
  "toc": {
   "base_numbering": 1,
   "nav_menu": {},
   "number_sections": true,
   "sideBar": true,
   "skip_h1_title": true,
   "title_cell": "Table of Contents",
   "title_sidebar": "Contents",
   "toc_cell": false,
   "toc_position": {},
   "toc_section_display": true,
   "toc_window_display": true
  }
 },
 "nbformat": 4,
 "nbformat_minor": 2
}
